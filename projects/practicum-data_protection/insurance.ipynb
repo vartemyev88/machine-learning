{
  "cells": [
    {
      "cell_type": "markdown",
      "source": [
        "# Project description\n",
        "\n",
        "**Data protection**\n",
        "\n",
        "It is necessary to protect the data of clients of the insurance company \"Even in Flood\". The task includes developing a method of data anonymization that would make it difficult to restore personal data from it. After development, there will be a need to provide justification for the correctness of its operation.\n",
        "\n",
        "The data needs to be protected in such a way that the quality of machine learning models is not compromised during anonymization. It is not necessary to select the best model."
      ],
      "metadata": {
        "id": "tqNcEwvM7NY3"
      }
    },
    {
      "cell_type": "markdown",
      "source": [
        "# Table of contents\n",
        "\n",
        "---\n",
        "\n",
        "1. [Data](#data)\n",
        "    * [Data preprocessing](#data-preprocessing)\n",
        "    * [Exploratory data analysis](#data-eda)\n",
        "    * [Conclusion](#data-conclusion)\n",
        "2. [Matrix multiplication](#matrix-multiplication)\n",
        "3. [Transformation algorithm](#transformation-algorithm)\n",
        "4. [Algorithm check](#algorithm-check)\n",
        "    * [Linear regression (class)](#linear-regression-class)\n",
        "    * [Linear regression (sklearn)](#linear-regression-sklearn)\n",
        "6. [Conclusion](#conclusion)\n",
        "---"
      ],
      "metadata": {
        "id": "I9xNgRtLQjZH"
      }
    },
    {
      "cell_type": "markdown",
      "metadata": {
        "id": "u4pAHISr7D1U"
      },
      "source": [
        "## Data <a class=\"anchor\" id=\"data\"></a>"
      ]
    },
    {
      "cell_type": "code",
      "execution_count": 1,
      "metadata": {
        "id": "e57dH7km7D1V"
      },
      "outputs": [],
      "source": [
        "import matplotlib.pyplot as plt\n",
        "import numpy as np\n",
        "import os\n",
        "import pandas as pd\n",
        "import seaborn as sns\n",
        "import warnings\n",
        "from sklearn.linear_model import LinearRegression\n",
        "from sklearn.metrics import r2_score"
      ]
    },
    {
      "cell_type": "code",
      "source": [
        "# Searching for file\n",
        "file_names = ['insurance.csv']\n",
        "url = 'https://code.s3.yandex.net/datasets/insurance.csv'\n",
        "\n",
        "file_path = None\n",
        "\n",
        "for root, dirs, files in os.walk('.'):\n",
        "    for file_name in file_names:\n",
        "        if file_name in files:\n",
        "            file_path = os.path.join(root, file_name)\n",
        "            break\n",
        "    else:\n",
        "        continue\n",
        "    break\n",
        "\n",
        "if file_path is not None:\n",
        "    df = pd.read_csv(file_path)\n",
        "else:\n",
        "    df = pd.read_csv(url)\n",
        "\n",
        "# Ignoring all warnings and displaying all columns in the DF\n",
        "warnings.filterwarnings('ignore')\n",
        "pd.set_option('display.max_columns', None)\n",
        "\n",
        "# Basic information\n",
        "print(f\"Shape of dataframe: {df.shape}\")\n",
        "print(f\"-\" * 26)\n",
        "print(f\"Missing values: \\n\")\n",
        "print(df.isnull().sum().sum())\n",
        "print(f\"-\" * 26)\n",
        "print(f\"Duplicates: {df.duplicated().sum() / len(df) * 100}%\")\n",
        "print(f\"-\" * 26)\n",
        "print(f\"Dataframe info: \\n\")\n",
        "print(df.info())\n",
        "print(f\"-\" * 26)\n",
        "display(df.head())\n",
        "print(f\"\\n\")"
      ],
      "metadata": {
        "id": "f62Q9x5LSnLg",
        "colab": {
          "base_uri": "https://localhost:8080/",
          "height": 657
        },
        "outputId": "065a34e7-c58f-4bc0-eb6d-ae14e2f5104f"
      },
      "execution_count": 2,
      "outputs": [
        {
          "output_type": "stream",
          "name": "stdout",
          "text": [
            "Shape of dataframe: (5000, 5)\n",
            "--------------------------\n",
            "Missing values: \n",
            "\n",
            "0\n",
            "--------------------------\n",
            "Duplicates: 3.06%\n",
            "--------------------------\n",
            "Dataframe info: \n",
            "\n",
            "<class 'pandas.core.frame.DataFrame'>\n",
            "RangeIndex: 5000 entries, 0 to 4999\n",
            "Data columns (total 5 columns):\n",
            " #   Column             Non-Null Count  Dtype  \n",
            "---  ------             --------------  -----  \n",
            " 0   Пол                5000 non-null   int64  \n",
            " 1   Возраст            5000 non-null   float64\n",
            " 2   Зарплата           5000 non-null   float64\n",
            " 3   Члены семьи        5000 non-null   int64  \n",
            " 4   Страховые выплаты  5000 non-null   int64  \n",
            "dtypes: float64(2), int64(3)\n",
            "memory usage: 195.4 KB\n",
            "None\n",
            "--------------------------\n"
          ]
        },
        {
          "output_type": "display_data",
          "data": {
            "text/plain": [
              "   Пол  Возраст  Зарплата  Члены семьи  Страховые выплаты\n",
              "0    1     41.0   49600.0            1                  0\n",
              "1    0     46.0   38000.0            1                  1\n",
              "2    0     29.0   21000.0            0                  0\n",
              "3    0     21.0   41700.0            2                  0\n",
              "4    1     28.0   26100.0            0                  0"
            ],
            "text/html": [
              "\n",
              "  <div id=\"df-42158aee-8fd4-4e5f-b94a-f5cfca482974\">\n",
              "    <div class=\"colab-df-container\">\n",
              "      <div>\n",
              "<style scoped>\n",
              "    .dataframe tbody tr th:only-of-type {\n",
              "        vertical-align: middle;\n",
              "    }\n",
              "\n",
              "    .dataframe tbody tr th {\n",
              "        vertical-align: top;\n",
              "    }\n",
              "\n",
              "    .dataframe thead th {\n",
              "        text-align: right;\n",
              "    }\n",
              "</style>\n",
              "<table border=\"1\" class=\"dataframe\">\n",
              "  <thead>\n",
              "    <tr style=\"text-align: right;\">\n",
              "      <th></th>\n",
              "      <th>Пол</th>\n",
              "      <th>Возраст</th>\n",
              "      <th>Зарплата</th>\n",
              "      <th>Члены семьи</th>\n",
              "      <th>Страховые выплаты</th>\n",
              "    </tr>\n",
              "  </thead>\n",
              "  <tbody>\n",
              "    <tr>\n",
              "      <th>0</th>\n",
              "      <td>1</td>\n",
              "      <td>41.0</td>\n",
              "      <td>49600.0</td>\n",
              "      <td>1</td>\n",
              "      <td>0</td>\n",
              "    </tr>\n",
              "    <tr>\n",
              "      <th>1</th>\n",
              "      <td>0</td>\n",
              "      <td>46.0</td>\n",
              "      <td>38000.0</td>\n",
              "      <td>1</td>\n",
              "      <td>1</td>\n",
              "    </tr>\n",
              "    <tr>\n",
              "      <th>2</th>\n",
              "      <td>0</td>\n",
              "      <td>29.0</td>\n",
              "      <td>21000.0</td>\n",
              "      <td>0</td>\n",
              "      <td>0</td>\n",
              "    </tr>\n",
              "    <tr>\n",
              "      <th>3</th>\n",
              "      <td>0</td>\n",
              "      <td>21.0</td>\n",
              "      <td>41700.0</td>\n",
              "      <td>2</td>\n",
              "      <td>0</td>\n",
              "    </tr>\n",
              "    <tr>\n",
              "      <th>4</th>\n",
              "      <td>1</td>\n",
              "      <td>28.0</td>\n",
              "      <td>26100.0</td>\n",
              "      <td>0</td>\n",
              "      <td>0</td>\n",
              "    </tr>\n",
              "  </tbody>\n",
              "</table>\n",
              "</div>\n",
              "      <button class=\"colab-df-convert\" onclick=\"convertToInteractive('df-42158aee-8fd4-4e5f-b94a-f5cfca482974')\"\n",
              "              title=\"Convert this dataframe to an interactive table.\"\n",
              "              style=\"display:none;\">\n",
              "        \n",
              "  <svg xmlns=\"http://www.w3.org/2000/svg\" height=\"24px\"viewBox=\"0 0 24 24\"\n",
              "       width=\"24px\">\n",
              "    <path d=\"M0 0h24v24H0V0z\" fill=\"none\"/>\n",
              "    <path d=\"M18.56 5.44l.94 2.06.94-2.06 2.06-.94-2.06-.94-.94-2.06-.94 2.06-2.06.94zm-11 1L8.5 8.5l.94-2.06 2.06-.94-2.06-.94L8.5 2.5l-.94 2.06-2.06.94zm10 10l.94 2.06.94-2.06 2.06-.94-2.06-.94-.94-2.06-.94 2.06-2.06.94z\"/><path d=\"M17.41 7.96l-1.37-1.37c-.4-.4-.92-.59-1.43-.59-.52 0-1.04.2-1.43.59L10.3 9.45l-7.72 7.72c-.78.78-.78 2.05 0 2.83L4 21.41c.39.39.9.59 1.41.59.51 0 1.02-.2 1.41-.59l7.78-7.78 2.81-2.81c.8-.78.8-2.07 0-2.86zM5.41 20L4 18.59l7.72-7.72 1.47 1.35L5.41 20z\"/>\n",
              "  </svg>\n",
              "      </button>\n",
              "      \n",
              "  <style>\n",
              "    .colab-df-container {\n",
              "      display:flex;\n",
              "      flex-wrap:wrap;\n",
              "      gap: 12px;\n",
              "    }\n",
              "\n",
              "    .colab-df-convert {\n",
              "      background-color: #E8F0FE;\n",
              "      border: none;\n",
              "      border-radius: 50%;\n",
              "      cursor: pointer;\n",
              "      display: none;\n",
              "      fill: #1967D2;\n",
              "      height: 32px;\n",
              "      padding: 0 0 0 0;\n",
              "      width: 32px;\n",
              "    }\n",
              "\n",
              "    .colab-df-convert:hover {\n",
              "      background-color: #E2EBFA;\n",
              "      box-shadow: 0px 1px 2px rgba(60, 64, 67, 0.3), 0px 1px 3px 1px rgba(60, 64, 67, 0.15);\n",
              "      fill: #174EA6;\n",
              "    }\n",
              "\n",
              "    [theme=dark] .colab-df-convert {\n",
              "      background-color: #3B4455;\n",
              "      fill: #D2E3FC;\n",
              "    }\n",
              "\n",
              "    [theme=dark] .colab-df-convert:hover {\n",
              "      background-color: #434B5C;\n",
              "      box-shadow: 0px 1px 3px 1px rgba(0, 0, 0, 0.15);\n",
              "      filter: drop-shadow(0px 1px 2px rgba(0, 0, 0, 0.3));\n",
              "      fill: #FFFFFF;\n",
              "    }\n",
              "  </style>\n",
              "\n",
              "      <script>\n",
              "        const buttonEl =\n",
              "          document.querySelector('#df-42158aee-8fd4-4e5f-b94a-f5cfca482974 button.colab-df-convert');\n",
              "        buttonEl.style.display =\n",
              "          google.colab.kernel.accessAllowed ? 'block' : 'none';\n",
              "\n",
              "        async function convertToInteractive(key) {\n",
              "          const element = document.querySelector('#df-42158aee-8fd4-4e5f-b94a-f5cfca482974');\n",
              "          const dataTable =\n",
              "            await google.colab.kernel.invokeFunction('convertToInteractive',\n",
              "                                                     [key], {});\n",
              "          if (!dataTable) return;\n",
              "\n",
              "          const docLinkHtml = 'Like what you see? Visit the ' +\n",
              "            '<a target=\"_blank\" href=https://colab.research.google.com/notebooks/data_table.ipynb>data table notebook</a>'\n",
              "            + ' to learn more about interactive tables.';\n",
              "          element.innerHTML = '';\n",
              "          dataTable['output_type'] = 'display_data';\n",
              "          await google.colab.output.renderOutput(dataTable, element);\n",
              "          const docLink = document.createElement('div');\n",
              "          docLink.innerHTML = docLinkHtml;\n",
              "          element.appendChild(docLink);\n",
              "        }\n",
              "      </script>\n",
              "    </div>\n",
              "  </div>\n",
              "  "
            ]
          },
          "metadata": {}
        },
        {
          "output_type": "stream",
          "name": "stdout",
          "text": [
            "\n",
            "\n"
          ]
        }
      ]
    },
    {
      "cell_type": "markdown",
      "metadata": {
        "id": "JMVXOiKN7D1Y"
      },
      "source": [
        "<div class=\"alert alert-success\">\n",
        "<b>✔️ Комментарий ревьювера:</b> Данные загружены успешно! Хорошо, что проверил пропуски и дубликаты.\n",
        "    \n",
        "</div>"
      ]
    },
    {
      "cell_type": "markdown",
      "metadata": {
        "id": "W52WLv_f7D1Y"
      },
      "source": [
        "### Data preprocessing <a class=\"anchor\" id=\"data-preprocessing\"></a>"
      ]
    },
    {
      "cell_type": "code",
      "execution_count": 3,
      "metadata": {
        "id": "iOdZ4iD37D1Z",
        "outputId": "2e55e8a1-1df5-4106-be71-f2140dfc7e9e",
        "colab": {
          "base_uri": "https://localhost:8080/"
        }
      },
      "outputs": [
        {
          "output_type": "execute_result",
          "data": {
            "text/plain": [
              "['Пол', 'Возраст', 'Зарплата', 'Члены семьи', 'Страховые выплаты']"
            ]
          },
          "metadata": {},
          "execution_count": 3
        }
      ],
      "source": [
        "list(df)"
      ]
    },
    {
      "cell_type": "markdown",
      "source": [
        "The columns has capital letters and written in Cyrillic. This should be fixed and translated."
      ],
      "metadata": {
        "id": "NeBMNXVhC1Z9"
      }
    },
    {
      "cell_type": "code",
      "execution_count": 4,
      "metadata": {
        "id": "dv6pz9ni7D1Z"
      },
      "outputs": [],
      "source": [
        "df.rename(columns = {'Пол' : 'sex', 'Возраст' : 'age',\n",
        "                     'Зарплата' : 'salary',\n",
        "                     'Члены семьи' : 'family',\n",
        "                     'Страховые выплаты' : 'payouts'},\n",
        "         inplace=True)"
      ]
    },
    {
      "cell_type": "markdown",
      "source": [
        "Column `age` contains data in float, converting to integer."
      ],
      "metadata": {
        "id": "SaLQ_0Y1DMxR"
      }
    },
    {
      "cell_type": "code",
      "execution_count": 5,
      "metadata": {
        "id": "KdpGUagA7D1Z"
      },
      "outputs": [],
      "source": [
        "df['age'] = df['age'].astype('int64')"
      ]
    },
    {
      "cell_type": "markdown",
      "source": [
        "Dropping 3.06% of the duplicates won't affect anything."
      ],
      "metadata": {
        "id": "9_jNkL3PDhQ7"
      }
    },
    {
      "cell_type": "code",
      "execution_count": 6,
      "metadata": {
        "id": "mALSrBC57D1a"
      },
      "outputs": [],
      "source": [
        "df.drop_duplicates(inplace=True)"
      ]
    },
    {
      "cell_type": "markdown",
      "metadata": {
        "id": "5u-PjFs97D1a"
      },
      "source": [
        "### Exploratory data analysis <a class=\"anchor\" id=\"data-eda\"></a>"
      ]
    },
    {
      "cell_type": "code",
      "execution_count": 7,
      "metadata": {
        "id": "Fj13ZE_Q7D1a",
        "outputId": "9bef0938-4bd6-4cef-9bf4-33d1f5b8adcb",
        "colab": {
          "base_uri": "https://localhost:8080/",
          "height": 822
        }
      },
      "outputs": [
        {
          "output_type": "display_data",
          "data": {
            "text/plain": [
              "<Figure size 500x500 with 2 Axes>"
            ],
            "image/png": "[encoded data removed]"
          },
          "metadata": {}
        },
        {
          "output_type": "stream",
          "name": "stdout",
          "text": [
            "\n",
            " Max correlation: 0.65% \n",
            "\n",
            "Clients sorted by age\n"
          ]
        },
        {
          "output_type": "execute_result",
          "data": {
            "text/plain": [
              "      sex  age   salary  family  payouts\n",
              "228     1   65  39700.0       1        5\n",
              "4019    0   62  14100.0       0        4\n",
              "3907    1   61  39600.0       1        4\n",
              "2240    0   60  27900.0       0        4\n",
              "3117    0   60  43400.0       2        4\n",
              "3674    1   59  29600.0       0        4\n",
              "3209    1   59  51700.0       2        4"
            ],
            "text/html": [
              "\n",
              "  <div id=\"df-fca4fb1c-9a88-4e4e-b669-e4f3a744154e\">\n",
              "    <div class=\"colab-df-container\">\n",
              "      <div>\n",
              "<style scoped>\n",
              "    .dataframe tbody tr th:only-of-type {\n",
              "        vertical-align: middle;\n",
              "    }\n",
              "\n",
              "    .dataframe tbody tr th {\n",
              "        vertical-align: top;\n",
              "    }\n",
              "\n",
              "    .dataframe thead th {\n",
              "        text-align: right;\n",
              "    }\n",
              "</style>\n",
              "<table border=\"1\" class=\"dataframe\">\n",
              "  <thead>\n",
              "    <tr style=\"text-align: right;\">\n",
              "      <th></th>\n",
              "      <th>sex</th>\n",
              "      <th>age</th>\n",
              "      <th>salary</th>\n",
              "      <th>family</th>\n",
              "      <th>payouts</th>\n",
              "    </tr>\n",
              "  </thead>\n",
              "  <tbody>\n",
              "    <tr>\n",
              "      <th>228</th>\n",
              "      <td>1</td>\n",
              "      <td>65</td>\n",
              "      <td>39700.0</td>\n",
              "      <td>1</td>\n",
              "      <td>5</td>\n",
              "    </tr>\n",
              "    <tr>\n",
              "      <th>4019</th>\n",
              "      <td>0</td>\n",
              "      <td>62</td>\n",
              "      <td>14100.0</td>\n",
              "      <td>0</td>\n",
              "      <td>4</td>\n",
              "    </tr>\n",
              "    <tr>\n",
              "      <th>3907</th>\n",
              "      <td>1</td>\n",
              "      <td>61</td>\n",
              "      <td>39600.0</td>\n",
              "      <td>1</td>\n",
              "      <td>4</td>\n",
              "    </tr>\n",
              "    <tr>\n",
              "      <th>2240</th>\n",
              "      <td>0</td>\n",
              "      <td>60</td>\n",
              "      <td>27900.0</td>\n",
              "      <td>0</td>\n",
              "      <td>4</td>\n",
              "    </tr>\n",
              "    <tr>\n",
              "      <th>3117</th>\n",
              "      <td>0</td>\n",
              "      <td>60</td>\n",
              "      <td>43400.0</td>\n",
              "      <td>2</td>\n",
              "      <td>4</td>\n",
              "    </tr>\n",
              "    <tr>\n",
              "      <th>3674</th>\n",
              "      <td>1</td>\n",
              "      <td>59</td>\n",
              "      <td>29600.0</td>\n",
              "      <td>0</td>\n",
              "      <td>4</td>\n",
              "    </tr>\n",
              "    <tr>\n",
              "      <th>3209</th>\n",
              "      <td>1</td>\n",
              "      <td>59</td>\n",
              "      <td>51700.0</td>\n",
              "      <td>2</td>\n",
              "      <td>4</td>\n",
              "    </tr>\n",
              "  </tbody>\n",
              "</table>\n",
              "</div>\n",
              "      <button class=\"colab-df-convert\" onclick=\"convertToInteractive('df-fca4fb1c-9a88-4e4e-b669-e4f3a744154e')\"\n",
              "              title=\"Convert this dataframe to an interactive table.\"\n",
              "              style=\"display:none;\">\n",
              "        \n",
              "  <svg xmlns=\"http://www.w3.org/2000/svg\" height=\"24px\"viewBox=\"0 0 24 24\"\n",
              "       width=\"24px\">\n",
              "    <path d=\"M0 0h24v24H0V0z\" fill=\"none\"/>\n",
              "    <path d=\"M18.56 5.44l.94 2.06.94-2.06 2.06-.94-2.06-.94-.94-2.06-.94 2.06-2.06.94zm-11 1L8.5 8.5l.94-2.06 2.06-.94-2.06-.94L8.5 2.5l-.94 2.06-2.06.94zm10 10l.94 2.06.94-2.06 2.06-.94-2.06-.94-.94-2.06-.94 2.06-2.06.94z\"/><path d=\"M17.41 7.96l-1.37-1.37c-.4-.4-.92-.59-1.43-.59-.52 0-1.04.2-1.43.59L10.3 9.45l-7.72 7.72c-.78.78-.78 2.05 0 2.83L4 21.41c.39.39.9.59 1.41.59.51 0 1.02-.2 1.41-.59l7.78-7.78 2.81-2.81c.8-.78.8-2.07 0-2.86zM5.41 20L4 18.59l7.72-7.72 1.47 1.35L5.41 20z\"/>\n",
              "  </svg>\n",
              "      </button>\n",
              "      \n",
              "  <style>\n",
              "    .colab-df-container {\n",
              "      display:flex;\n",
              "      flex-wrap:wrap;\n",
              "      gap: 12px;\n",
              "    }\n",
              "\n",
              "    .colab-df-convert {\n",
              "      background-color: #E8F0FE;\n",
              "      border: none;\n",
              "      border-radius: 50%;\n",
              "      cursor: pointer;\n",
              "      display: none;\n",
              "      fill: #1967D2;\n",
              "      height: 32px;\n",
              "      padding: 0 0 0 0;\n",
              "      width: 32px;\n",
              "    }\n",
              "\n",
              "    .colab-df-convert:hover {\n",
              "      background-color: #E2EBFA;\n",
              "      box-shadow: 0px 1px 2px rgba(60, 64, 67, 0.3), 0px 1px 3px 1px rgba(60, 64, 67, 0.15);\n",
              "      fill: #174EA6;\n",
              "    }\n",
              "\n",
              "    [theme=dark] .colab-df-convert {\n",
              "      background-color: #3B4455;\n",
              "      fill: #D2E3FC;\n",
              "    }\n",
              "\n",
              "    [theme=dark] .colab-df-convert:hover {\n",
              "      background-color: #434B5C;\n",
              "      box-shadow: 0px 1px 3px 1px rgba(0, 0, 0, 0.15);\n",
              "      filter: drop-shadow(0px 1px 2px rgba(0, 0, 0, 0.3));\n",
              "      fill: #FFFFFF;\n",
              "    }\n",
              "  </style>\n",
              "\n",
              "      <script>\n",
              "        const buttonEl =\n",
              "          document.querySelector('#df-fca4fb1c-9a88-4e4e-b669-e4f3a744154e button.colab-df-convert');\n",
              "        buttonEl.style.display =\n",
              "          google.colab.kernel.accessAllowed ? 'block' : 'none';\n",
              "\n",
              "        async function convertToInteractive(key) {\n",
              "          const element = document.querySelector('#df-fca4fb1c-9a88-4e4e-b669-e4f3a744154e');\n",
              "          const dataTable =\n",
              "            await google.colab.kernel.invokeFunction('convertToInteractive',\n",
              "                                                     [key], {});\n",
              "          if (!dataTable) return;\n",
              "\n",
              "          const docLinkHtml = 'Like what you see? Visit the ' +\n",
              "            '<a target=\"_blank\" href=https://colab.research.google.com/notebooks/data_table.ipynb>data table notebook</a>'\n",
              "            + ' to learn more about interactive tables.';\n",
              "          element.innerHTML = '';\n",
              "          dataTable['output_type'] = 'display_data';\n",
              "          await google.colab.output.renderOutput(dataTable, element);\n",
              "          const docLink = document.createElement('div');\n",
              "          docLink.innerHTML = docLinkHtml;\n",
              "          element.appendChild(docLink);\n",
              "        }\n",
              "      </script>\n",
              "    </div>\n",
              "  </div>\n",
              "  "
            ]
          },
          "metadata": {},
          "execution_count": 7
        }
      ],
      "source": [
        "# Seaborn style\n",
        "sns.set(\n",
        "    style='white',\n",
        "    palette='colorblind',\n",
        "    rc={'figure.figsize': (5, 5)},\n",
        "    color_codes=True)\n",
        "\n",
        "\n",
        "# Plotting the heatmap\n",
        "sns.heatmap(df.corr(), cbar=True, annot=True, fmt='.2f')\n",
        "plt.tight_layout()\n",
        "plt.show()\n",
        "\n",
        "# Print highest correlation_value\n",
        "corr_matrix = df.corr()\n",
        "max_corr = np.max(corr_matrix.values[np.triu_indices_from(df, k=1)])\n",
        "print(f\"\\n Max correlation: {max_corr:.2f}% \\n\")\n",
        "\n",
        "# Print the df sorted by age to see most elderly clients\n",
        "print(f\"Clients sorted by age\")\n",
        "df.sort_values('age', ascending=False).head(7)"
      ]
    },
    {
      "cell_type": "code",
      "execution_count": 8,
      "metadata": {
        "scrolled": false,
        "id": "nIhewdZO7D1b",
        "outputId": "3fde2bae-c4f5-41dc-8d1b-a906febfc43e",
        "colab": {
          "base_uri": "https://localhost:8080/",
          "height": 869
        }
      },
      "outputs": [
        {
          "output_type": "display_data",
          "data": {
            "text/plain": [
              "<Figure size 1500x1000 with 6 Axes>"
            ],
            "image/png": "[encoded data removed]"
          },
          "metadata": {}
        },
        {
          "output_type": "execute_result",
          "data": {
            "text/plain": [
              "               sex          age        salary       family      payouts\n",
              "count  4847.000000  4847.000000   4847.000000  4847.000000  4847.000000\n",
              "mean      0.498453    31.023932  39895.811842     1.203425     0.152259\n",
              "std       0.500049     8.487995   9972.953985     1.098664     0.468934\n",
              "min       0.000000    18.000000   5300.000000     0.000000     0.000000\n",
              "25%       0.000000    24.000000  33200.000000     0.000000     0.000000\n",
              "50%       0.000000    30.000000  40200.000000     1.000000     0.000000\n",
              "75%       1.000000    37.000000  46600.000000     2.000000     0.000000\n",
              "max       1.000000    65.000000  79000.000000     6.000000     5.000000"
            ],
            "text/html": [
              "\n",
              "  <div id=\"df-c82437e6-fd15-4fb6-8173-da27a1873248\">\n",
              "    <div class=\"colab-df-container\">\n",
              "      <div>\n",
              "<style scoped>\n",
              "    .dataframe tbody tr th:only-of-type {\n",
              "        vertical-align: middle;\n",
              "    }\n",
              "\n",
              "    .dataframe tbody tr th {\n",
              "        vertical-align: top;\n",
              "    }\n",
              "\n",
              "    .dataframe thead th {\n",
              "        text-align: right;\n",
              "    }\n",
              "</style>\n",
              "<table border=\"1\" class=\"dataframe\">\n",
              "  <thead>\n",
              "    <tr style=\"text-align: right;\">\n",
              "      <th></th>\n",
              "      <th>sex</th>\n",
              "      <th>age</th>\n",
              "      <th>salary</th>\n",
              "      <th>family</th>\n",
              "      <th>payouts</th>\n",
              "    </tr>\n",
              "  </thead>\n",
              "  <tbody>\n",
              "    <tr>\n",
              "      <th>count</th>\n",
              "      <td>4847.000000</td>\n",
              "      <td>4847.000000</td>\n",
              "      <td>4847.000000</td>\n",
              "      <td>4847.000000</td>\n",
              "      <td>4847.000000</td>\n",
              "    </tr>\n",
              "    <tr>\n",
              "      <th>mean</th>\n",
              "      <td>0.498453</td>\n",
              "      <td>31.023932</td>\n",
              "      <td>39895.811842</td>\n",
              "      <td>1.203425</td>\n",
              "      <td>0.152259</td>\n",
              "    </tr>\n",
              "    <tr>\n",
              "      <th>std</th>\n",
              "      <td>0.500049</td>\n",
              "      <td>8.487995</td>\n",
              "      <td>9972.953985</td>\n",
              "      <td>1.098664</td>\n",
              "      <td>0.468934</td>\n",
              "    </tr>\n",
              "    <tr>\n",
              "      <th>min</th>\n",
              "      <td>0.000000</td>\n",
              "      <td>18.000000</td>\n",
              "      <td>5300.000000</td>\n",
              "      <td>0.000000</td>\n",
              "      <td>0.000000</td>\n",
              "    </tr>\n",
              "    <tr>\n",
              "      <th>25%</th>\n",
              "      <td>0.000000</td>\n",
              "      <td>24.000000</td>\n",
              "      <td>33200.000000</td>\n",
              "      <td>0.000000</td>\n",
              "      <td>0.000000</td>\n",
              "    </tr>\n",
              "    <tr>\n",
              "      <th>50%</th>\n",
              "      <td>0.000000</td>\n",
              "      <td>30.000000</td>\n",
              "      <td>40200.000000</td>\n",
              "      <td>1.000000</td>\n",
              "      <td>0.000000</td>\n",
              "    </tr>\n",
              "    <tr>\n",
              "      <th>75%</th>\n",
              "      <td>1.000000</td>\n",
              "      <td>37.000000</td>\n",
              "      <td>46600.000000</td>\n",
              "      <td>2.000000</td>\n",
              "      <td>0.000000</td>\n",
              "    </tr>\n",
              "    <tr>\n",
              "      <th>max</th>\n",
              "      <td>1.000000</td>\n",
              "      <td>65.000000</td>\n",
              "      <td>79000.000000</td>\n",
              "      <td>6.000000</td>\n",
              "      <td>5.000000</td>\n",
              "    </tr>\n",
              "  </tbody>\n",
              "</table>\n",
              "</div>\n",
              "      <button class=\"colab-df-convert\" onclick=\"convertToInteractive('df-c82437e6-fd15-4fb6-8173-da27a1873248')\"\n",
              "              title=\"Convert this dataframe to an interactive table.\"\n",
              "              style=\"display:none;\">\n",
              "        \n",
              "  <svg xmlns=\"http://www.w3.org/2000/svg\" height=\"24px\"viewBox=\"0 0 24 24\"\n",
              "       width=\"24px\">\n",
              "    <path d=\"M0 0h24v24H0V0z\" fill=\"none\"/>\n",
              "    <path d=\"M18.56 5.44l.94 2.06.94-2.06 2.06-.94-2.06-.94-.94-2.06-.94 2.06-2.06.94zm-11 1L8.5 8.5l.94-2.06 2.06-.94-2.06-.94L8.5 2.5l-.94 2.06-2.06.94zm10 10l.94 2.06.94-2.06 2.06-.94-2.06-.94-.94-2.06-.94 2.06-2.06.94z\"/><path d=\"M17.41 7.96l-1.37-1.37c-.4-.4-.92-.59-1.43-.59-.52 0-1.04.2-1.43.59L10.3 9.45l-7.72 7.72c-.78.78-.78 2.05 0 2.83L4 21.41c.39.39.9.59 1.41.59.51 0 1.02-.2 1.41-.59l7.78-7.78 2.81-2.81c.8-.78.8-2.07 0-2.86zM5.41 20L4 18.59l7.72-7.72 1.47 1.35L5.41 20z\"/>\n",
              "  </svg>\n",
              "      </button>\n",
              "      \n",
              "  <style>\n",
              "    .colab-df-container {\n",
              "      display:flex;\n",
              "      flex-wrap:wrap;\n",
              "      gap: 12px;\n",
              "    }\n",
              "\n",
              "    .colab-df-convert {\n",
              "      background-color: #E8F0FE;\n",
              "      border: none;\n",
              "      border-radius: 50%;\n",
              "      cursor: pointer;\n",
              "      display: none;\n",
              "      fill: #1967D2;\n",
              "      height: 32px;\n",
              "      padding: 0 0 0 0;\n",
              "      width: 32px;\n",
              "    }\n",
              "\n",
              "    .colab-df-convert:hover {\n",
              "      background-color: #E2EBFA;\n",
              "      box-shadow: 0px 1px 2px rgba(60, 64, 67, 0.3), 0px 1px 3px 1px rgba(60, 64, 67, 0.15);\n",
              "      fill: #174EA6;\n",
              "    }\n",
              "\n",
              "    [theme=dark] .colab-df-convert {\n",
              "      background-color: #3B4455;\n",
              "      fill: #D2E3FC;\n",
              "    }\n",
              "\n",
              "    [theme=dark] .colab-df-convert:hover {\n",
              "      background-color: #434B5C;\n",
              "      box-shadow: 0px 1px 3px 1px rgba(0, 0, 0, 0.15);\n",
              "      filter: drop-shadow(0px 1px 2px rgba(0, 0, 0, 0.3));\n",
              "      fill: #FFFFFF;\n",
              "    }\n",
              "  </style>\n",
              "\n",
              "      <script>\n",
              "        const buttonEl =\n",
              "          document.querySelector('#df-c82437e6-fd15-4fb6-8173-da27a1873248 button.colab-df-convert');\n",
              "        buttonEl.style.display =\n",
              "          google.colab.kernel.accessAllowed ? 'block' : 'none';\n",
              "\n",
              "        async function convertToInteractive(key) {\n",
              "          const element = document.querySelector('#df-c82437e6-fd15-4fb6-8173-da27a1873248');\n",
              "          const dataTable =\n",
              "            await google.colab.kernel.invokeFunction('convertToInteractive',\n",
              "                                                     [key], {});\n",
              "          if (!dataTable) return;\n",
              "\n",
              "          const docLinkHtml = 'Like what you see? Visit the ' +\n",
              "            '<a target=\"_blank\" href=https://colab.research.google.com/notebooks/data_table.ipynb>data table notebook</a>'\n",
              "            + ' to learn more about interactive tables.';\n",
              "          element.innerHTML = '';\n",
              "          dataTable['output_type'] = 'display_data';\n",
              "          await google.colab.output.renderOutput(dataTable, element);\n",
              "          const docLink = document.createElement('div');\n",
              "          docLink.innerHTML = docLinkHtml;\n",
              "          element.appendChild(docLink);\n",
              "        }\n",
              "      </script>\n",
              "    </div>\n",
              "  </div>\n",
              "  "
            ]
          },
          "metadata": {},
          "execution_count": 8
        }
      ],
      "source": [
        "# Adding some visualization\n",
        "fig, axs = plt.subplots(3, 2, figsize=(15, 10))\n",
        "axs = axs.flatten()\n",
        "\n",
        "for i, col in enumerate(df.columns):\n",
        "    sns.distplot(df[col], ax=axs[i])\n",
        "\n",
        "plt.tight_layout()\n",
        "plt.show()\n",
        "\n",
        "# Descriptive statistics for DF\n",
        "df.describe()"
      ]
    },
    {
      "cell_type": "markdown",
      "metadata": {
        "id": "AEVxSWYJ7D1c"
      },
      "source": [
        "### Conclusion <a class=\"anchor\" id=\"data-conclusion\"></a>\n",
        "\n",
        "- The features and the target feature were translated to English.\n",
        "- The age feature was converted to an integer format.\n",
        "Duplicates were analyzed and account for `3.06%` of the dataframe size, and were removed.\n",
        "- There is a correlation between age and the number of insurance payouts, with a correlation coefficient of `r=0.65`."
      ]
    },
    {
      "cell_type": "markdown",
      "metadata": {
        "id": "hciqHSDM7D1c"
      },
      "source": [
        "## Matrix multiplication <a class=\"anchor\" id=\"matrix-multiplication\"></a>\n",
        "\n",
        "Notations:\n",
        "\n",
        "- $X$ — feature matrix (the zeroth column consists of ones)\n",
        "\n",
        "- $y$ — target feature vector\n",
        "\n",
        "- $P$ — matrix that features are multiplied by\n",
        "\n",
        "- $w$ — vector of linear regression weights (the zeroth element equals the bias term)\n",
        "\n",
        "Predictions:\n",
        "\n",
        "$$\n",
        "a = Xw\n",
        "$$\n",
        "\n",
        "Learning objective:\n",
        "\n",
        "$$\n",
        "w = \\arg\\min_w MSE(Xw, y)\n",
        "$$\n",
        "\n",
        "Learning formula:\n",
        "\n",
        "$$\n",
        "w = (X^T X)^{-1} X^T y\n",
        "$$\n",
        "\n",
        "**Question**: The features are multiplied by an invertible matrix. *Will the quality of linear regression change?*\n",
        "\n",
        "**Answer**: No, it will not change.\n",
        "\n",
        "**Justification**: The feature matrix $ X $ is multiplied by the inverse matrix $ P $:\n",
        "\n",
        "$$ (X P)^T X P)^{-1} (X P)^T y $$\n",
        "$$ (P^T X^T X P)^{-1} P^T X^T y $$\n",
        "$$ (X^T X P)^{-1} (P^T)^{-1} P^T X^T y $$\n",
        "$$ P^{-1} (X^T X)^{-1} E X^T y $$\n",
        "$$ P^{-1} (X^T X)^{-1} X^T y $$\n",
        "\n",
        "Comparing the resulting matrix with the $ w $:\n",
        "$$\n",
        "w = (X^T X)^{-1} X^T y\n",
        "$$\n",
        "$$\n",
        "w' = P^{-1} (X^T X)^{-1} X^T\n",
        "$$\n",
        "$$\n",
        "w' = P^{-1} w\n",
        "$$"
      ]
    },
    {
      "cell_type": "markdown",
      "metadata": {
        "id": "-B5-PdgK7D1d"
      },
      "source": [
        "## Transformation algorithm <a class=\"anchor\" id=\"transformation-algorithm\"></a>\n",
        "\n",
        "**Algorithm:**\n",
        "\n",
        "Given that the quality of linear regression should not change, the transformation algorithm is *multiplying the feature matrix $ X $ by the inverse matrix $ P $.*\n",
        "\n",
        "**Justification:**\n",
        "\n",
        "The weight vector of linear regression $ w $, as calculated above, is equal to the vector $ w' $."
      ]
    },
    {
      "cell_type": "markdown",
      "metadata": {
        "id": "ZaMC-3OE7D1e"
      },
      "source": [
        "## Algorithm check <a class=\"anchor\" id=\"algorithm-check\"></a>"
      ]
    },
    {
      "cell_type": "code",
      "execution_count": 9,
      "metadata": {
        "id": "cz47GPvi7D1f"
      },
      "outputs": [],
      "source": [
        "X = df.drop('payouts', axis=1)\n",
        "y = df['payouts']"
      ]
    },
    {
      "cell_type": "markdown",
      "metadata": {
        "id": "xVlXyPTZ7D1f"
      },
      "source": [
        "<div class=\"alert alert-success\">\n",
        "<b>✔️ Комментарий ревьювера:</b> Здорово, что применяешь элементы объектно-ориентированного программирования!\n",
        "\n",
        "</div>"
      ]
    },
    {
      "cell_type": "code",
      "execution_count": 10,
      "metadata": {
        "id": "PeBm3y5E7D1f"
      },
      "outputs": [],
      "source": [
        "class LinRegression:\n",
        "    def fit(self, X_train, y_train):\n",
        "        X = np.concatenate((np.ones((X_train.shape[0], 1)), X_train), axis=1)\n",
        "        y = y_train\n",
        "        w = np.linalg.inv(X.T.dot(X)).dot(X.T).dot(y)\n",
        "        self.w = w[1:]\n",
        "        self.w0 = w[0]\n",
        "\n",
        "    def predict(self, X_test):\n",
        "        return X_test.dot(self.w) + self.w0"
      ]
    },
    {
      "cell_type": "code",
      "execution_count": 11,
      "metadata": {
        "scrolled": true,
        "id": "Fk2Ea8DN7D1f",
        "outputId": "b406325f-d118-4967-8c2b-439f8a5d6df0",
        "colab": {
          "base_uri": "https://localhost:8080/",
          "height": 260
        }
      },
      "outputs": [
        {
          "output_type": "stream",
          "name": "stdout",
          "text": [
            "New random matrix \n",
            "[[-1.5110563  -0.47503383 -0.55860501 -1.55053136]\n",
            " [ 0.99633419  0.77505151 -0.54849409  1.02029158]\n",
            " [ 0.89168715  0.99438914  0.78871954 -0.1641495 ]\n",
            " [-0.43613463 -0.29940696  0.21400146  1.81601887]]\n",
            "\n",
            "Checking for invertibility \n",
            "[[-0.85205913 -0.13715491 -0.50985948 -0.69652337]\n",
            " [ 0.951191    0.72657435  1.04375694  0.49826903]\n",
            " [-0.23999537 -0.72511888  0.52580348  0.25000992]\n",
            " [-0.01952619  0.17229992 -0.01232476  0.43606637]] \n",
            "\n"
          ]
        },
        {
          "output_type": "display_data",
          "data": {
            "text/plain": [
              "(4847, 4)"
            ]
          },
          "metadata": {}
        },
        {
          "output_type": "execute_result",
          "data": {
            "text/plain": [
              "(4, 4)"
            ]
          },
          "metadata": {},
          "execution_count": 11
        }
      ],
      "source": [
        "# New inverse matrix with dimension according to the number of features\n",
        "new_matrix = np.random.normal(0, 1, (X.shape[1], X.shape[1]))\n",
        "print(f\"New random matrix \\n{new_matrix}\\n\")\n",
        "print(f\"Checking for invertibility \\n{np.linalg.inv(new_matrix)} \\n\")\n",
        "\n",
        "display(X.shape)\n",
        "new_matrix.shape"
      ]
    },
    {
      "cell_type": "code",
      "execution_count": 12,
      "metadata": {
        "id": "fhQvOgXz7D1g",
        "outputId": "72ccba89-0c80-4419-b144-02af3492c13b",
        "colab": {
          "base_uri": "https://localhost:8080/"
        }
      },
      "outputs": [
        {
          "output_type": "execute_result",
          "data": {
            "text/plain": [
              "array([[ 1.00000000e+00, -1.19513226e-17, -1.66056591e-17,\n",
              "         1.24694427e-16],\n",
              "       [-3.12009505e-17,  1.00000000e+00, -5.56633045e-17,\n",
              "        -3.37213801e-17],\n",
              "       [ 4.30863171e-17, -3.29853130e-18,  1.00000000e+00,\n",
              "        -7.13117306e-17],\n",
              "       [-8.55509791e-18, -2.04888923e-18,  1.66770352e-17,\n",
              "         1.00000000e+00]])"
            ]
          },
          "metadata": {},
          "execution_count": 12
        }
      ],
      "source": [
        "# Multiplying the matrix by the inverse matrix\n",
        "new_matrix @ np.linalg.inv(new_matrix)"
      ]
    },
    {
      "cell_type": "code",
      "execution_count": 13,
      "metadata": {
        "id": "6_boS_Ad7D1g"
      },
      "outputs": [],
      "source": [
        "# New encoded features\n",
        "X_encoded = X.dot(new_matrix)"
      ]
    },
    {
      "cell_type": "markdown",
      "metadata": {
        "id": "uCnfDdO87D1h"
      },
      "source": [
        "### Linear regression (class) <a class=\"anchor\" id=\"linear-regression-class\"></a>"
      ]
    },
    {
      "cell_type": "code",
      "execution_count": 14,
      "metadata": {
        "id": "V8c3q-2_7D1h"
      },
      "outputs": [],
      "source": [
        "# Fitting normal features and target\n",
        "model_class_linreg = LinRegression()\n",
        "model_class_linreg.fit(X, y)\n",
        "predictions = model_class_linreg.predict(X)\n",
        "r2_lrc = round(r2_score(y, predictions), 4)\n",
        "\n",
        "# Fitting encoded features and target\n",
        "model_class_linreg = LinRegression()\n",
        "model_class_linreg.fit(X_encoded, y)\n",
        "predictions = model_class_linreg.predict(X_encoded)\n",
        "r2_lrc_encoded = round(r2_score(y, predictions), 4)"
      ]
    },
    {
      "cell_type": "markdown",
      "metadata": {
        "id": "Gc4ynFEz7D1h"
      },
      "source": [
        "### Linear regression (sklearn) <a class=\"anchor\" id=\"linear-regression-sklearn\"></a>"
      ]
    },
    {
      "cell_type": "code",
      "execution_count": 15,
      "metadata": {
        "id": "JFeaDV3c7D1h"
      },
      "outputs": [],
      "source": [
        "# Fitting normal features and target\n",
        "model_linreg = LinearRegression()\n",
        "model_linreg.fit(X, y)\n",
        "predictions = model_linreg.predict(X)\n",
        "r2_lrs = round(r2_score(y, predictions), 4)\n",
        "\n",
        "# Fitting encoded features and target\n",
        "model_linreg = LinearRegression()\n",
        "model_linreg.fit(X_encoded, y)\n",
        "predictions = model_linreg.predict(X_encoded)\n",
        "r2_lrs_encoded = round(r2_score(y, predictions), 4)"
      ]
    },
    {
      "cell_type": "code",
      "source": [
        "print(\"Comparison table:\")\n",
        "data = [[r2_lrc, r2_lrc_encoded], [r2_lrs, r2_lrs_encoded]]\n",
        "index = ['LR (class)', 'LR (sklearn)']\n",
        "columns = ['R2 score', 'R2 score (encoded)']\n",
        "\n",
        "result = pd.DataFrame(data, index=index, columns=columns)\n",
        "result"
      ],
      "metadata": {
        "colab": {
          "base_uri": "https://localhost:8080/",
          "height": 129
        },
        "id": "he38UUGxtFIY",
        "outputId": "b87e7490-0243-4651-b162-621732cb0e87"
      },
      "execution_count": 16,
      "outputs": [
        {
          "output_type": "stream",
          "name": "stdout",
          "text": [
            "Comparison table:\n"
          ]
        },
        {
          "output_type": "execute_result",
          "data": {
            "text/plain": [
              "              R2 score  R2 score (encoded)\n",
              "LR (class)      0.4302              0.4302\n",
              "LR (sklearn)    0.4302              0.4302"
            ],
            "text/html": [
              "\n",
              "  <div id=\"df-d2646c45-136a-4add-87d5-57bf12fbbd51\">\n",
              "    <div class=\"colab-df-container\">\n",
              "      <div>\n",
              "<style scoped>\n",
              "    .dataframe tbody tr th:only-of-type {\n",
              "        vertical-align: middle;\n",
              "    }\n",
              "\n",
              "    .dataframe tbody tr th {\n",
              "        vertical-align: top;\n",
              "    }\n",
              "\n",
              "    .dataframe thead th {\n",
              "        text-align: right;\n",
              "    }\n",
              "</style>\n",
              "<table border=\"1\" class=\"dataframe\">\n",
              "  <thead>\n",
              "    <tr style=\"text-align: right;\">\n",
              "      <th></th>\n",
              "      <th>R2 score</th>\n",
              "      <th>R2 score (encoded)</th>\n",
              "    </tr>\n",
              "  </thead>\n",
              "  <tbody>\n",
              "    <tr>\n",
              "      <th>LR (class)</th>\n",
              "      <td>0.4302</td>\n",
              "      <td>0.4302</td>\n",
              "    </tr>\n",
              "    <tr>\n",
              "      <th>LR (sklearn)</th>\n",
              "      <td>0.4302</td>\n",
              "      <td>0.4302</td>\n",
              "    </tr>\n",
              "  </tbody>\n",
              "</table>\n",
              "</div>\n",
              "      <button class=\"colab-df-convert\" onclick=\"convertToInteractive('df-d2646c45-136a-4add-87d5-57bf12fbbd51')\"\n",
              "              title=\"Convert this dataframe to an interactive table.\"\n",
              "              style=\"display:none;\">\n",
              "        \n",
              "  <svg xmlns=\"http://www.w3.org/2000/svg\" height=\"24px\"viewBox=\"0 0 24 24\"\n",
              "       width=\"24px\">\n",
              "    <path d=\"M0 0h24v24H0V0z\" fill=\"none\"/>\n",
              "    <path d=\"M18.56 5.44l.94 2.06.94-2.06 2.06-.94-2.06-.94-.94-2.06-.94 2.06-2.06.94zm-11 1L8.5 8.5l.94-2.06 2.06-.94-2.06-.94L8.5 2.5l-.94 2.06-2.06.94zm10 10l.94 2.06.94-2.06 2.06-.94-2.06-.94-.94-2.06-.94 2.06-2.06.94z\"/><path d=\"M17.41 7.96l-1.37-1.37c-.4-.4-.92-.59-1.43-.59-.52 0-1.04.2-1.43.59L10.3 9.45l-7.72 7.72c-.78.78-.78 2.05 0 2.83L4 21.41c.39.39.9.59 1.41.59.51 0 1.02-.2 1.41-.59l7.78-7.78 2.81-2.81c.8-.78.8-2.07 0-2.86zM5.41 20L4 18.59l7.72-7.72 1.47 1.35L5.41 20z\"/>\n",
              "  </svg>\n",
              "      </button>\n",
              "      \n",
              "  <style>\n",
              "    .colab-df-container {\n",
              "      display:flex;\n",
              "      flex-wrap:wrap;\n",
              "      gap: 12px;\n",
              "    }\n",
              "\n",
              "    .colab-df-convert {\n",
              "      background-color: #E8F0FE;\n",
              "      border: none;\n",
              "      border-radius: 50%;\n",
              "      cursor: pointer;\n",
              "      display: none;\n",
              "      fill: #1967D2;\n",
              "      height: 32px;\n",
              "      padding: 0 0 0 0;\n",
              "      width: 32px;\n",
              "    }\n",
              "\n",
              "    .colab-df-convert:hover {\n",
              "      background-color: #E2EBFA;\n",
              "      box-shadow: 0px 1px 2px rgba(60, 64, 67, 0.3), 0px 1px 3px 1px rgba(60, 64, 67, 0.15);\n",
              "      fill: #174EA6;\n",
              "    }\n",
              "\n",
              "    [theme=dark] .colab-df-convert {\n",
              "      background-color: #3B4455;\n",
              "      fill: #D2E3FC;\n",
              "    }\n",
              "\n",
              "    [theme=dark] .colab-df-convert:hover {\n",
              "      background-color: #434B5C;\n",
              "      box-shadow: 0px 1px 3px 1px rgba(0, 0, 0, 0.15);\n",
              "      filter: drop-shadow(0px 1px 2px rgba(0, 0, 0, 0.3));\n",
              "      fill: #FFFFFF;\n",
              "    }\n",
              "  </style>\n",
              "\n",
              "      <script>\n",
              "        const buttonEl =\n",
              "          document.querySelector('#df-d2646c45-136a-4add-87d5-57bf12fbbd51 button.colab-df-convert');\n",
              "        buttonEl.style.display =\n",
              "          google.colab.kernel.accessAllowed ? 'block' : 'none';\n",
              "\n",
              "        async function convertToInteractive(key) {\n",
              "          const element = document.querySelector('#df-d2646c45-136a-4add-87d5-57bf12fbbd51');\n",
              "          const dataTable =\n",
              "            await google.colab.kernel.invokeFunction('convertToInteractive',\n",
              "                                                     [key], {});\n",
              "          if (!dataTable) return;\n",
              "\n",
              "          const docLinkHtml = 'Like what you see? Visit the ' +\n",
              "            '<a target=\"_blank\" href=https://colab.research.google.com/notebooks/data_table.ipynb>data table notebook</a>'\n",
              "            + ' to learn more about interactive tables.';\n",
              "          element.innerHTML = '';\n",
              "          dataTable['output_type'] = 'display_data';\n",
              "          await google.colab.output.renderOutput(dataTable, element);\n",
              "          const docLink = document.createElement('div');\n",
              "          docLink.innerHTML = docLinkHtml;\n",
              "          element.appendChild(docLink);\n",
              "        }\n",
              "      </script>\n",
              "    </div>\n",
              "  </div>\n",
              "  "
            ]
          },
          "metadata": {},
          "execution_count": 16
        }
      ]
    }
  ],
  "metadata": {
    "ExecuteTimeLog": [
      {
        "duration": 388,
        "start_time": "2022-07-04T17:59:22.947Z"
      },
      {
        "duration": 57,
        "start_time": "2022-07-04T18:00:53.405Z"
      },
      {
        "duration": 59,
        "start_time": "2022-07-04T18:00:55.395Z"
      },
      {
        "duration": 3,
        "start_time": "2022-07-04T18:01:10.038Z"
      },
      {
        "duration": 15,
        "start_time": "2022-07-04T18:01:11.036Z"
      },
      {
        "duration": 35,
        "start_time": "2022-07-04T18:01:12.234Z"
      },
      {
        "duration": 885,
        "start_time": "2022-07-04T18:09:52.774Z"
      },
      {
        "duration": 16,
        "start_time": "2022-07-04T18:09:58.302Z"
      },
      {
        "duration": 36,
        "start_time": "2022-07-04T18:09:59.457Z"
      },
      {
        "duration": 467,
        "start_time": "2022-07-04T18:10:04.183Z"
      },
      {
        "duration": 395,
        "start_time": "2022-07-04T18:15:54.420Z"
      },
      {
        "duration": 4,
        "start_time": "2022-07-04T18:18:01.816Z"
      },
      {
        "duration": 14,
        "start_time": "2022-07-04T18:19:39.808Z"
      },
      {
        "duration": 14,
        "start_time": "2022-07-04T18:19:47.424Z"
      },
      {
        "duration": 12,
        "start_time": "2022-07-04T18:20:31.575Z"
      },
      {
        "duration": 4,
        "start_time": "2022-07-04T18:20:50.891Z"
      },
      {
        "duration": 15,
        "start_time": "2022-07-04T18:20:52.302Z"
      },
      {
        "duration": 8,
        "start_time": "2022-07-04T18:20:59.446Z"
      },
      {
        "duration": 7,
        "start_time": "2022-07-04T18:21:12.073Z"
      },
      {
        "duration": 14,
        "start_time": "2022-07-04T18:22:12.866Z"
      },
      {
        "duration": 18,
        "start_time": "2022-07-04T18:22:21.880Z"
      },
      {
        "duration": 12,
        "start_time": "2022-07-04T18:22:44.198Z"
      },
      {
        "duration": 44,
        "start_time": "2022-07-04T18:24:16.544Z"
      },
      {
        "duration": 20,
        "start_time": "2022-07-04T18:24:21.540Z"
      },
      {
        "duration": 4,
        "start_time": "2022-07-04T18:24:33.742Z"
      },
      {
        "duration": 12,
        "start_time": "2022-07-04T18:24:40.148Z"
      },
      {
        "duration": 5,
        "start_time": "2022-07-04T18:25:08.943Z"
      },
      {
        "duration": 10,
        "start_time": "2022-07-04T18:25:10.344Z"
      },
      {
        "duration": 12,
        "start_time": "2022-07-04T18:25:20.111Z"
      },
      {
        "duration": 3,
        "start_time": "2022-07-04T18:25:23.936Z"
      },
      {
        "duration": 16,
        "start_time": "2022-07-04T18:25:25.207Z"
      },
      {
        "duration": 12,
        "start_time": "2022-07-04T18:25:33.163Z"
      },
      {
        "duration": 16,
        "start_time": "2022-07-04T18:25:40.040Z"
      },
      {
        "duration": 6,
        "start_time": "2022-07-04T18:25:45.052Z"
      },
      {
        "duration": 16,
        "start_time": "2022-07-04T18:25:46.142Z"
      },
      {
        "duration": 4,
        "start_time": "2022-07-04T18:25:53.711Z"
      },
      {
        "duration": 12,
        "start_time": "2022-07-04T18:25:58.777Z"
      },
      {
        "duration": 12,
        "start_time": "2022-07-04T18:26:02.595Z"
      },
      {
        "duration": 11,
        "start_time": "2022-07-04T18:26:18.736Z"
      },
      {
        "duration": 11,
        "start_time": "2022-07-04T18:26:27.723Z"
      },
      {
        "duration": 10,
        "start_time": "2022-07-04T18:26:29.809Z"
      },
      {
        "duration": 8,
        "start_time": "2022-07-04T18:26:44.478Z"
      },
      {
        "duration": 16,
        "start_time": "2022-07-04T18:26:57.888Z"
      },
      {
        "duration": 13,
        "start_time": "2022-07-04T18:27:04.236Z"
      },
      {
        "duration": 18,
        "start_time": "2022-07-04T18:27:30.953Z"
      },
      {
        "duration": 6,
        "start_time": "2022-07-04T18:27:33.754Z"
      },
      {
        "duration": 4,
        "start_time": "2022-07-04T18:27:54.315Z"
      },
      {
        "duration": 8,
        "start_time": "2022-07-04T18:27:58.242Z"
      },
      {
        "duration": 2,
        "start_time": "2022-07-04T18:28:02.788Z"
      },
      {
        "duration": 11,
        "start_time": "2022-07-04T18:28:06.592Z"
      },
      {
        "duration": 14,
        "start_time": "2022-07-04T18:28:10.641Z"
      },
      {
        "duration": 1058,
        "start_time": "2022-07-04T18:28:33.777Z"
      },
      {
        "duration": 16,
        "start_time": "2022-07-04T18:28:34.837Z"
      },
      {
        "duration": 34,
        "start_time": "2022-07-04T18:28:34.854Z"
      },
      {
        "duration": 4,
        "start_time": "2022-07-04T18:28:34.890Z"
      },
      {
        "duration": 5,
        "start_time": "2022-07-04T18:28:34.895Z"
      },
      {
        "duration": 405,
        "start_time": "2022-07-04T18:28:34.902Z"
      },
      {
        "duration": 4,
        "start_time": "2022-07-04T18:30:38.390Z"
      },
      {
        "duration": 8,
        "start_time": "2022-07-04T18:30:45.359Z"
      },
      {
        "duration": 13,
        "start_time": "2022-07-04T18:31:05.013Z"
      },
      {
        "duration": 17,
        "start_time": "2022-07-04T18:31:14.385Z"
      },
      {
        "duration": 11,
        "start_time": "2022-07-04T18:31:27.937Z"
      },
      {
        "duration": 100,
        "start_time": "2022-07-04T18:31:51.599Z"
      },
      {
        "duration": 11,
        "start_time": "2022-07-04T18:31:56.556Z"
      },
      {
        "duration": 10,
        "start_time": "2022-07-04T18:32:09.817Z"
      },
      {
        "duration": 11,
        "start_time": "2022-07-04T18:32:13.536Z"
      },
      {
        "duration": 44,
        "start_time": "2022-07-04T18:44:08.369Z"
      },
      {
        "duration": 13,
        "start_time": "2022-07-04T18:44:13.426Z"
      },
      {
        "duration": 51,
        "start_time": "2022-07-04T18:44:20.579Z"
      },
      {
        "duration": 12,
        "start_time": "2022-07-04T18:44:24.657Z"
      },
      {
        "duration": 45,
        "start_time": "2022-07-04T18:46:26.735Z"
      },
      {
        "duration": 14,
        "start_time": "2022-07-04T18:46:39.227Z"
      },
      {
        "duration": 7,
        "start_time": "2022-07-04T18:46:45.948Z"
      },
      {
        "duration": 13,
        "start_time": "2022-07-04T18:46:54.102Z"
      },
      {
        "duration": 16,
        "start_time": "2022-07-04T18:49:41.060Z"
      },
      {
        "duration": 13,
        "start_time": "2022-07-04T18:49:54.636Z"
      },
      {
        "duration": 361,
        "start_time": "2022-07-04T18:50:04.370Z"
      },
      {
        "duration": 1008,
        "start_time": "2022-07-04T18:50:18.898Z"
      },
      {
        "duration": 16,
        "start_time": "2022-07-04T18:50:19.908Z"
      },
      {
        "duration": 36,
        "start_time": "2022-07-04T18:50:19.925Z"
      },
      {
        "duration": 4,
        "start_time": "2022-07-04T18:50:19.962Z"
      },
      {
        "duration": 6,
        "start_time": "2022-07-04T18:50:19.967Z"
      },
      {
        "duration": 6,
        "start_time": "2022-07-04T18:50:19.974Z"
      },
      {
        "duration": 15,
        "start_time": "2022-07-04T18:50:19.981Z"
      },
      {
        "duration": 388,
        "start_time": "2022-07-04T18:50:19.997Z"
      },
      {
        "duration": 9,
        "start_time": "2022-07-04T18:52:05.734Z"
      },
      {
        "duration": 10,
        "start_time": "2022-07-04T18:52:59.039Z"
      },
      {
        "duration": 9,
        "start_time": "2022-07-04T18:53:02.916Z"
      },
      {
        "duration": 925,
        "start_time": "2022-07-04T18:53:25.282Z"
      },
      {
        "duration": 256,
        "start_time": "2022-07-04T18:54:30.534Z"
      },
      {
        "duration": 164,
        "start_time": "2022-07-04T18:54:42.731Z"
      },
      {
        "duration": 312,
        "start_time": "2022-07-04T18:54:50.168Z"
      },
      {
        "duration": 231,
        "start_time": "2022-07-04T18:55:03.459Z"
      },
      {
        "duration": 225,
        "start_time": "2022-07-04T18:55:14.073Z"
      },
      {
        "duration": 231,
        "start_time": "2022-07-04T18:55:17.569Z"
      },
      {
        "duration": 83,
        "start_time": "2022-07-04T18:55:47.298Z"
      },
      {
        "duration": 0,
        "start_time": "2022-07-04T18:56:42.687Z"
      },
      {
        "duration": 185,
        "start_time": "2022-07-04T18:56:59.661Z"
      },
      {
        "duration": 200,
        "start_time": "2022-07-04T18:57:11.487Z"
      },
      {
        "duration": 382,
        "start_time": "2022-07-04T18:57:24.383Z"
      },
      {
        "duration": 9,
        "start_time": "2022-07-04T18:57:26.707Z"
      },
      {
        "duration": 217,
        "start_time": "2022-07-04T18:57:31.304Z"
      },
      {
        "duration": 196,
        "start_time": "2022-07-04T18:57:48.111Z"
      },
      {
        "duration": 203,
        "start_time": "2022-07-04T18:57:52.290Z"
      },
      {
        "duration": 199,
        "start_time": "2022-07-04T18:58:03.894Z"
      },
      {
        "duration": 9,
        "start_time": "2022-07-04T18:58:46.239Z"
      },
      {
        "duration": 202,
        "start_time": "2022-07-04T18:59:33.706Z"
      },
      {
        "duration": 13,
        "start_time": "2022-07-04T19:01:58.442Z"
      },
      {
        "duration": 188,
        "start_time": "2022-07-04T19:04:47.764Z"
      },
      {
        "duration": 14,
        "start_time": "2022-07-04T19:04:57.520Z"
      },
      {
        "duration": 203,
        "start_time": "2022-07-04T19:05:04.595Z"
      },
      {
        "duration": 243,
        "start_time": "2022-07-04T19:05:11.344Z"
      },
      {
        "duration": 56,
        "start_time": "2022-07-04T19:05:17.735Z"
      },
      {
        "duration": 50,
        "start_time": "2022-07-04T19:05:21.882Z"
      },
      {
        "duration": 10,
        "start_time": "2022-07-04T19:05:25.070Z"
      },
      {
        "duration": 11,
        "start_time": "2022-07-04T19:05:30.973Z"
      },
      {
        "duration": 58,
        "start_time": "2022-07-04T19:05:51.301Z"
      },
      {
        "duration": 69,
        "start_time": "2022-07-04T19:06:06.314Z"
      },
      {
        "duration": 56,
        "start_time": "2022-07-04T19:06:13.374Z"
      },
      {
        "duration": 210,
        "start_time": "2022-07-04T19:06:23.983Z"
      },
      {
        "duration": 220,
        "start_time": "2022-07-04T19:06:27.388Z"
      },
      {
        "duration": 45,
        "start_time": "2022-07-04T19:06:34.783Z"
      },
      {
        "duration": 98,
        "start_time": "2022-07-04T19:06:48.974Z"
      },
      {
        "duration": 11,
        "start_time": "2022-07-04T19:07:06.453Z"
      },
      {
        "duration": 9,
        "start_time": "2022-07-04T19:07:10.906Z"
      },
      {
        "duration": 9,
        "start_time": "2022-07-04T19:07:20.310Z"
      },
      {
        "duration": 11,
        "start_time": "2022-07-04T19:07:27.375Z"
      },
      {
        "duration": 206,
        "start_time": "2022-07-04T19:07:53.177Z"
      },
      {
        "duration": 236,
        "start_time": "2022-07-04T19:09:20.168Z"
      },
      {
        "duration": 209,
        "start_time": "2022-07-04T19:10:20.185Z"
      },
      {
        "duration": 204,
        "start_time": "2022-07-04T19:11:08.064Z"
      },
      {
        "duration": 222,
        "start_time": "2022-07-04T19:11:22.005Z"
      },
      {
        "duration": 11,
        "start_time": "2022-07-04T19:11:26.776Z"
      },
      {
        "duration": 10,
        "start_time": "2022-07-04T19:11:30.254Z"
      },
      {
        "duration": 15,
        "start_time": "2022-07-04T19:11:32.883Z"
      },
      {
        "duration": 18,
        "start_time": "2022-07-04T19:11:57.944Z"
      },
      {
        "duration": 11,
        "start_time": "2022-07-04T19:13:02.661Z"
      },
      {
        "duration": 209,
        "start_time": "2022-07-04T19:13:09.294Z"
      },
      {
        "duration": 13,
        "start_time": "2022-07-04T19:13:13.316Z"
      },
      {
        "duration": 12,
        "start_time": "2022-07-04T19:13:15.604Z"
      },
      {
        "duration": 215,
        "start_time": "2022-07-04T19:13:17.798Z"
      },
      {
        "duration": 207,
        "start_time": "2022-07-04T19:13:35.063Z"
      },
      {
        "duration": 208,
        "start_time": "2022-07-04T19:13:41.970Z"
      },
      {
        "duration": 226,
        "start_time": "2022-07-04T19:13:45.275Z"
      },
      {
        "duration": 211,
        "start_time": "2022-07-04T19:13:57.554Z"
      },
      {
        "duration": 216,
        "start_time": "2022-07-04T19:14:00.875Z"
      },
      {
        "duration": 185,
        "start_time": "2022-07-04T19:14:08.960Z"
      },
      {
        "duration": 198,
        "start_time": "2022-07-04T19:14:51.639Z"
      },
      {
        "duration": 204,
        "start_time": "2022-07-04T19:14:55.174Z"
      },
      {
        "duration": 192,
        "start_time": "2022-07-04T19:15:13.554Z"
      },
      {
        "duration": 185,
        "start_time": "2022-07-04T19:15:18.592Z"
      },
      {
        "duration": 185,
        "start_time": "2022-07-04T19:15:22.470Z"
      },
      {
        "duration": 182,
        "start_time": "2022-07-04T19:15:25.398Z"
      },
      {
        "duration": 11,
        "start_time": "2022-07-04T19:15:28.660Z"
      },
      {
        "duration": 199,
        "start_time": "2022-07-04T19:15:35.445Z"
      },
      {
        "duration": 214,
        "start_time": "2022-07-04T19:15:58.073Z"
      },
      {
        "duration": 204,
        "start_time": "2022-07-04T19:16:25.717Z"
      },
      {
        "duration": 424,
        "start_time": "2022-07-04T19:16:51.899Z"
      },
      {
        "duration": 436,
        "start_time": "2022-07-04T19:17:00.245Z"
      },
      {
        "duration": 435,
        "start_time": "2022-07-04T19:17:52.895Z"
      },
      {
        "duration": 828,
        "start_time": "2022-07-04T19:18:47.023Z"
      },
      {
        "duration": 744,
        "start_time": "2022-07-04T19:19:05.041Z"
      },
      {
        "duration": 504,
        "start_time": "2022-07-04T19:19:14.399Z"
      },
      {
        "duration": 4999,
        "start_time": "2022-07-04T19:19:17.826Z"
      },
      {
        "duration": 216,
        "start_time": "2022-07-04T19:19:27.135Z"
      },
      {
        "duration": 835,
        "start_time": "2022-07-04T19:19:36.948Z"
      },
      {
        "duration": 710,
        "start_time": "2022-07-04T19:19:41.286Z"
      },
      {
        "duration": 895,
        "start_time": "2022-07-04T19:19:45.918Z"
      },
      {
        "duration": 727,
        "start_time": "2022-07-04T19:19:54.616Z"
      },
      {
        "duration": 733,
        "start_time": "2022-07-04T19:19:57.949Z"
      },
      {
        "duration": 934,
        "start_time": "2022-07-04T19:20:00.760Z"
      },
      {
        "duration": 721,
        "start_time": "2022-07-04T19:20:04.782Z"
      },
      {
        "duration": 873,
        "start_time": "2022-07-04T19:20:08.010Z"
      },
      {
        "duration": 706,
        "start_time": "2022-07-04T19:20:12.211Z"
      },
      {
        "duration": 935,
        "start_time": "2022-07-04T19:20:14.721Z"
      },
      {
        "duration": 1066,
        "start_time": "2022-07-04T19:20:50.145Z"
      },
      {
        "duration": 553,
        "start_time": "2022-07-04T19:21:04.491Z"
      },
      {
        "duration": 994,
        "start_time": "2022-07-04T19:21:07.170Z"
      },
      {
        "duration": 1267,
        "start_time": "2022-07-04T19:21:21.199Z"
      },
      {
        "duration": 386,
        "start_time": "2022-07-04T19:21:42.390Z"
      },
      {
        "duration": 32,
        "start_time": "2022-07-04T19:23:10.376Z"
      },
      {
        "duration": 16,
        "start_time": "2022-07-04T19:23:20.412Z"
      },
      {
        "duration": 995,
        "start_time": "2022-07-04T19:23:24.657Z"
      },
      {
        "duration": 1137,
        "start_time": "2022-07-04T19:23:28.494Z"
      },
      {
        "duration": 853,
        "start_time": "2022-07-04T19:23:43.497Z"
      },
      {
        "duration": 916,
        "start_time": "2022-07-04T19:23:49.156Z"
      },
      {
        "duration": 958,
        "start_time": "2022-07-04T19:23:55.377Z"
      },
      {
        "duration": 853,
        "start_time": "2022-07-04T19:24:01.279Z"
      },
      {
        "duration": 836,
        "start_time": "2022-07-04T19:24:05.324Z"
      },
      {
        "duration": 10,
        "start_time": "2022-07-04T19:24:26.668Z"
      },
      {
        "duration": 12,
        "start_time": "2022-07-04T19:24:32.592Z"
      },
      {
        "duration": 14,
        "start_time": "2022-07-04T19:24:43.782Z"
      },
      {
        "duration": 1156,
        "start_time": "2022-07-04T19:25:09.084Z"
      },
      {
        "duration": 969,
        "start_time": "2022-07-04T19:25:33.392Z"
      },
      {
        "duration": 1270,
        "start_time": "2022-07-04T19:25:38.459Z"
      },
      {
        "duration": 1354,
        "start_time": "2022-07-04T19:25:46.080Z"
      },
      {
        "duration": 1271,
        "start_time": "2022-07-04T19:25:55.917Z"
      },
      {
        "duration": 1549,
        "start_time": "2022-07-04T19:26:03.582Z"
      },
      {
        "duration": 6,
        "start_time": "2022-07-04T19:30:13.219Z"
      },
      {
        "duration": 830,
        "start_time": "2022-07-04T19:30:20.296Z"
      },
      {
        "duration": 10,
        "start_time": "2022-07-04T19:30:35.926Z"
      },
      {
        "duration": 51,
        "start_time": "2022-07-04T19:31:33.753Z"
      },
      {
        "duration": 46,
        "start_time": "2022-07-04T19:31:55.469Z"
      },
      {
        "duration": 3,
        "start_time": "2022-07-04T19:32:09.217Z"
      },
      {
        "duration": 12,
        "start_time": "2022-07-04T19:32:12.474Z"
      },
      {
        "duration": 59,
        "start_time": "2022-07-04T19:32:20.997Z"
      },
      {
        "duration": 11,
        "start_time": "2022-07-04T19:32:30.401Z"
      },
      {
        "duration": 5,
        "start_time": "2022-07-04T19:34:27.968Z"
      },
      {
        "duration": 11,
        "start_time": "2022-07-04T19:34:56.909Z"
      },
      {
        "duration": 8,
        "start_time": "2022-07-04T19:35:02.612Z"
      },
      {
        "duration": 78,
        "start_time": "2022-07-04T19:35:21.633Z"
      },
      {
        "duration": 11,
        "start_time": "2022-07-04T19:35:28.658Z"
      },
      {
        "duration": 27,
        "start_time": "2022-07-04T19:36:43.977Z"
      },
      {
        "duration": 33,
        "start_time": "2022-07-04T19:37:05.497Z"
      },
      {
        "duration": 6,
        "start_time": "2022-07-04T19:38:27.193Z"
      },
      {
        "duration": 12,
        "start_time": "2022-07-04T19:38:33.173Z"
      },
      {
        "duration": 1241,
        "start_time": "2022-07-04T19:42:11.588Z"
      },
      {
        "duration": 28,
        "start_time": "2022-07-04T19:42:12.830Z"
      },
      {
        "duration": 25,
        "start_time": "2022-07-04T19:42:12.865Z"
      },
      {
        "duration": 5,
        "start_time": "2022-07-04T19:42:12.893Z"
      },
      {
        "duration": 11,
        "start_time": "2022-07-04T19:42:12.900Z"
      },
      {
        "duration": 12,
        "start_time": "2022-07-04T19:42:12.913Z"
      },
      {
        "duration": 45,
        "start_time": "2022-07-04T19:42:12.927Z"
      },
      {
        "duration": 13,
        "start_time": "2022-07-04T19:42:12.977Z"
      },
      {
        "duration": 379,
        "start_time": "2022-07-04T19:42:12.993Z"
      },
      {
        "duration": 9,
        "start_time": "2022-07-04T19:42:13.375Z"
      },
      {
        "duration": 1235,
        "start_time": "2022-07-04T19:42:13.385Z"
      },
      {
        "duration": 38,
        "start_time": "2022-07-04T19:42:14.622Z"
      },
      {
        "duration": 1383,
        "start_time": "2022-07-09T10:24:48.471Z"
      },
      {
        "duration": 88,
        "start_time": "2022-07-09T10:24:49.856Z"
      },
      {
        "duration": 26,
        "start_time": "2022-07-09T10:24:49.945Z"
      },
      {
        "duration": 10,
        "start_time": "2022-07-09T10:24:49.977Z"
      },
      {
        "duration": 7,
        "start_time": "2022-07-09T10:24:49.989Z"
      },
      {
        "duration": 8,
        "start_time": "2022-07-09T10:24:49.997Z"
      },
      {
        "duration": 16,
        "start_time": "2022-07-09T10:24:50.008Z"
      },
      {
        "duration": 6,
        "start_time": "2022-07-09T10:24:50.025Z"
      },
      {
        "duration": 482,
        "start_time": "2022-07-09T10:24:50.033Z"
      },
      {
        "duration": 9,
        "start_time": "2022-07-09T10:24:50.516Z"
      },
      {
        "duration": 1406,
        "start_time": "2022-07-09T10:24:50.528Z"
      },
      {
        "duration": 33,
        "start_time": "2022-07-09T10:24:51.936Z"
      },
      {
        "duration": 1348,
        "start_time": "2022-07-11T05:54:33.690Z"
      },
      {
        "duration": 63,
        "start_time": "2022-07-11T05:54:35.040Z"
      },
      {
        "duration": 27,
        "start_time": "2022-07-11T05:54:35.105Z"
      },
      {
        "duration": 5,
        "start_time": "2022-07-11T05:54:35.134Z"
      },
      {
        "duration": 4,
        "start_time": "2022-07-11T05:54:35.140Z"
      },
      {
        "duration": 9,
        "start_time": "2022-07-11T05:54:35.146Z"
      },
      {
        "duration": 18,
        "start_time": "2022-07-11T05:54:35.157Z"
      },
      {
        "duration": 5,
        "start_time": "2022-07-11T05:54:35.176Z"
      },
      {
        "duration": 450,
        "start_time": "2022-07-11T05:54:35.183Z"
      },
      {
        "duration": 14,
        "start_time": "2022-07-11T05:54:35.636Z"
      },
      {
        "duration": 1082,
        "start_time": "2022-07-11T05:54:35.651Z"
      },
      {
        "duration": 21,
        "start_time": "2022-07-11T05:54:36.734Z"
      },
      {
        "duration": 1410,
        "start_time": "2022-07-11T12:19:40.141Z"
      },
      {
        "duration": 50,
        "start_time": "2022-07-11T12:19:41.553Z"
      },
      {
        "duration": 29,
        "start_time": "2022-07-11T12:19:41.605Z"
      },
      {
        "duration": 5,
        "start_time": "2022-07-11T12:19:41.636Z"
      },
      {
        "duration": 7,
        "start_time": "2022-07-11T12:19:41.642Z"
      },
      {
        "duration": 7,
        "start_time": "2022-07-11T12:19:41.650Z"
      },
      {
        "duration": 22,
        "start_time": "2022-07-11T12:19:41.658Z"
      },
      {
        "duration": 7,
        "start_time": "2022-07-11T12:19:41.682Z"
      },
      {
        "duration": 465,
        "start_time": "2022-07-11T12:19:41.691Z"
      },
      {
        "duration": 15,
        "start_time": "2022-07-11T12:19:42.160Z"
      },
      {
        "duration": 1251,
        "start_time": "2022-07-11T12:19:42.177Z"
      },
      {
        "duration": 22,
        "start_time": "2022-07-11T12:19:43.430Z"
      },
      {
        "duration": 47,
        "start_time": "2022-07-11T18:07:53.687Z"
      },
      {
        "duration": 1367,
        "start_time": "2022-07-11T18:07:58.795Z"
      },
      {
        "duration": 105,
        "start_time": "2022-07-11T18:08:00.165Z"
      },
      {
        "duration": 25,
        "start_time": "2022-07-11T18:08:00.271Z"
      },
      {
        "duration": 19,
        "start_time": "2022-07-11T18:08:00.298Z"
      },
      {
        "duration": 14,
        "start_time": "2022-07-11T18:08:00.319Z"
      },
      {
        "duration": 22,
        "start_time": "2022-07-11T18:08:00.334Z"
      },
      {
        "duration": 19,
        "start_time": "2022-07-11T18:08:00.357Z"
      },
      {
        "duration": 10,
        "start_time": "2022-07-11T18:08:00.378Z"
      },
      {
        "duration": 465,
        "start_time": "2022-07-11T18:08:00.389Z"
      },
      {
        "duration": 10,
        "start_time": "2022-07-11T18:08:00.857Z"
      },
      {
        "duration": 1284,
        "start_time": "2022-07-11T18:08:00.869Z"
      },
      {
        "duration": 27,
        "start_time": "2022-07-11T18:08:02.155Z"
      },
      {
        "duration": 4,
        "start_time": "2022-07-11T18:08:02.184Z"
      },
      {
        "duration": 5,
        "start_time": "2022-07-11T18:08:17.138Z"
      },
      {
        "duration": 276,
        "start_time": "2022-07-11T18:08:24.518Z"
      },
      {
        "duration": 229,
        "start_time": "2022-07-11T18:08:56.037Z"
      },
      {
        "duration": 56,
        "start_time": "2022-07-11T18:08:58.652Z"
      },
      {
        "duration": 1954,
        "start_time": "2022-07-11T19:40:20.553Z"
      },
      {
        "duration": 30,
        "start_time": "2022-07-11T19:40:22.509Z"
      },
      {
        "duration": 29,
        "start_time": "2022-07-11T19:40:22.541Z"
      },
      {
        "duration": 8,
        "start_time": "2022-07-11T19:40:22.572Z"
      },
      {
        "duration": 5,
        "start_time": "2022-07-11T19:40:22.584Z"
      },
      {
        "duration": 7,
        "start_time": "2022-07-11T19:40:22.592Z"
      },
      {
        "duration": 43,
        "start_time": "2022-07-11T19:40:22.600Z"
      },
      {
        "duration": 14,
        "start_time": "2022-07-11T19:40:22.653Z"
      },
      {
        "duration": 449,
        "start_time": "2022-07-11T19:40:22.669Z"
      },
      {
        "duration": 18,
        "start_time": "2022-07-11T19:40:23.120Z"
      },
      {
        "duration": 1516,
        "start_time": "2022-07-11T19:40:23.140Z"
      },
      {
        "duration": 34,
        "start_time": "2022-07-11T19:40:24.659Z"
      },
      {
        "duration": 5,
        "start_time": "2022-07-11T19:40:24.695Z"
      },
      {
        "duration": 33,
        "start_time": "2022-07-11T19:40:24.704Z"
      },
      {
        "duration": 38,
        "start_time": "2022-07-11T19:40:24.746Z"
      },
      {
        "duration": 1857,
        "start_time": "2022-07-12T09:18:46.002Z"
      },
      {
        "duration": 53,
        "start_time": "2022-07-12T09:18:47.862Z"
      },
      {
        "duration": 31,
        "start_time": "2022-07-12T09:18:47.917Z"
      },
      {
        "duration": 5,
        "start_time": "2022-07-12T09:18:47.951Z"
      },
      {
        "duration": 15,
        "start_time": "2022-07-12T09:18:47.959Z"
      },
      {
        "duration": 10,
        "start_time": "2022-07-12T09:18:47.977Z"
      },
      {
        "duration": 25,
        "start_time": "2022-07-12T09:18:47.989Z"
      },
      {
        "duration": 7,
        "start_time": "2022-07-12T09:18:48.024Z"
      },
      {
        "duration": 516,
        "start_time": "2022-07-12T09:18:48.033Z"
      },
      {
        "duration": 14,
        "start_time": "2022-07-12T09:18:48.553Z"
      },
      {
        "duration": 1644,
        "start_time": "2022-07-12T09:18:48.569Z"
      },
      {
        "duration": 31,
        "start_time": "2022-07-12T09:18:50.215Z"
      },
      {
        "duration": 12,
        "start_time": "2022-07-12T09:18:50.248Z"
      },
      {
        "duration": 100,
        "start_time": "2022-07-12T09:18:50.262Z"
      },
      {
        "duration": 68,
        "start_time": "2022-07-12T09:18:50.364Z"
      },
      {
        "duration": 1622,
        "start_time": "2022-07-12T09:26:59.522Z"
      },
      {
        "duration": 19,
        "start_time": "2022-07-12T09:27:01.147Z"
      },
      {
        "duration": 79,
        "start_time": "2022-07-12T09:27:01.168Z"
      },
      {
        "duration": 6,
        "start_time": "2022-07-12T09:27:01.250Z"
      },
      {
        "duration": 11,
        "start_time": "2022-07-12T09:27:01.258Z"
      },
      {
        "duration": 52,
        "start_time": "2022-07-12T09:27:01.271Z"
      },
      {
        "duration": 42,
        "start_time": "2022-07-12T09:27:01.325Z"
      },
      {
        "duration": 4,
        "start_time": "2022-07-12T09:27:01.370Z"
      },
      {
        "duration": 869,
        "start_time": "2022-07-12T09:27:01.376Z"
      },
      {
        "duration": 20,
        "start_time": "2022-07-12T09:27:02.249Z"
      },
      {
        "duration": 2207,
        "start_time": "2022-07-12T09:27:02.271Z"
      },
      {
        "duration": 26,
        "start_time": "2022-07-12T09:27:04.480Z"
      },
      {
        "duration": 5,
        "start_time": "2022-07-12T09:27:04.508Z"
      },
      {
        "duration": 40,
        "start_time": "2022-07-12T09:27:04.515Z"
      },
      {
        "duration": 25,
        "start_time": "2022-07-12T09:27:04.557Z"
      },
      {
        "duration": 8,
        "start_time": "2022-07-12T09:45:40.447Z"
      },
      {
        "duration": 1459,
        "start_time": "2022-07-13T14:41:51.705Z"
      },
      {
        "duration": 51,
        "start_time": "2022-07-13T14:41:53.166Z"
      },
      {
        "duration": 23,
        "start_time": "2022-07-13T14:41:53.219Z"
      },
      {
        "duration": 4,
        "start_time": "2022-07-13T14:41:53.245Z"
      },
      {
        "duration": 4,
        "start_time": "2022-07-13T14:41:53.251Z"
      },
      {
        "duration": 6,
        "start_time": "2022-07-13T14:41:53.256Z"
      },
      {
        "duration": 15,
        "start_time": "2022-07-13T14:41:53.263Z"
      },
      {
        "duration": 4,
        "start_time": "2022-07-13T14:41:53.280Z"
      },
      {
        "duration": 453,
        "start_time": "2022-07-13T14:41:53.285Z"
      },
      {
        "duration": 10,
        "start_time": "2022-07-13T14:41:53.743Z"
      },
      {
        "duration": 1155,
        "start_time": "2022-07-13T14:41:53.754Z"
      },
      {
        "duration": 20,
        "start_time": "2022-07-13T14:41:54.911Z"
      },
      {
        "duration": 3,
        "start_time": "2022-07-13T14:41:54.933Z"
      },
      {
        "duration": 81,
        "start_time": "2022-07-13T14:41:54.937Z"
      },
      {
        "duration": 23,
        "start_time": "2022-07-13T14:41:55.020Z"
      },
      {
        "duration": 23,
        "start_time": "2022-07-13T14:42:59.960Z"
      },
      {
        "duration": 11,
        "start_time": "2022-07-13T14:43:33.350Z"
      },
      {
        "duration": 20,
        "start_time": "2022-07-13T14:44:12.424Z"
      },
      {
        "duration": 2,
        "start_time": "2022-07-13T14:45:30.965Z"
      },
      {
        "duration": 4,
        "start_time": "2022-07-13T14:53:56.799Z"
      },
      {
        "duration": 102,
        "start_time": "2022-07-13T14:54:08.311Z"
      },
      {
        "duration": 4,
        "start_time": "2022-07-13T14:54:10.494Z"
      },
      {
        "duration": 4,
        "start_time": "2022-07-13T14:54:16.798Z"
      },
      {
        "duration": 5,
        "start_time": "2022-07-13T14:54:22.889Z"
      },
      {
        "duration": 5,
        "start_time": "2022-07-13T14:54:36.600Z"
      },
      {
        "duration": 8,
        "start_time": "2022-07-13T14:55:13.731Z"
      },
      {
        "duration": 8,
        "start_time": "2022-07-13T14:56:27.362Z"
      },
      {
        "duration": 80,
        "start_time": "2022-07-13T14:57:03.097Z"
      },
      {
        "duration": 6,
        "start_time": "2022-07-13T14:57:21.516Z"
      },
      {
        "duration": 7,
        "start_time": "2022-07-13T14:59:02.503Z"
      },
      {
        "duration": 5,
        "start_time": "2022-07-13T14:59:38.750Z"
      },
      {
        "duration": 55,
        "start_time": "2022-07-13T14:59:44.359Z"
      },
      {
        "duration": 6,
        "start_time": "2022-07-13T14:59:47.482Z"
      },
      {
        "duration": 6,
        "start_time": "2022-07-13T15:00:43.806Z"
      },
      {
        "duration": 3,
        "start_time": "2022-07-13T15:03:03.161Z"
      },
      {
        "duration": 12,
        "start_time": "2022-07-13T15:03:06.392Z"
      },
      {
        "duration": 3,
        "start_time": "2022-07-13T15:04:07.968Z"
      },
      {
        "duration": 12,
        "start_time": "2022-07-13T15:04:20.539Z"
      },
      {
        "duration": 11,
        "start_time": "2022-07-13T15:05:04.298Z"
      },
      {
        "duration": 11,
        "start_time": "2022-07-13T15:05:05.585Z"
      },
      {
        "duration": 23,
        "start_time": "2022-07-13T15:07:52.704Z"
      },
      {
        "duration": 20,
        "start_time": "2022-07-13T15:08:33.423Z"
      },
      {
        "duration": 1115,
        "start_time": "2022-07-13T15:10:05.408Z"
      },
      {
        "duration": 25,
        "start_time": "2022-07-13T15:10:35.917Z"
      },
      {
        "duration": 10,
        "start_time": "2022-07-13T15:10:37.619Z"
      },
      {
        "duration": 10,
        "start_time": "2022-07-13T15:10:39.638Z"
      },
      {
        "duration": 8,
        "start_time": "2022-07-13T15:10:42.512Z"
      },
      {
        "duration": 620,
        "start_time": "2022-07-13T15:10:52.562Z"
      },
      {
        "duration": 376,
        "start_time": "2022-07-13T15:10:54.018Z"
      },
      {
        "duration": 435,
        "start_time": "2022-07-13T15:11:26.426Z"
      },
      {
        "duration": 600,
        "start_time": "2022-07-13T15:11:28.898Z"
      },
      {
        "duration": 399,
        "start_time": "2022-07-13T15:11:37.652Z"
      },
      {
        "duration": 488,
        "start_time": "2022-07-13T15:11:41.100Z"
      },
      {
        "duration": 468,
        "start_time": "2022-07-13T15:11:50.137Z"
      },
      {
        "duration": 562,
        "start_time": "2022-07-13T15:12:02.042Z"
      },
      {
        "duration": 455,
        "start_time": "2022-07-13T15:12:05.498Z"
      },
      {
        "duration": 634,
        "start_time": "2022-07-13T15:12:09.839Z"
      },
      {
        "duration": 464,
        "start_time": "2022-07-13T15:12:13.320Z"
      },
      {
        "duration": 368,
        "start_time": "2022-07-13T15:13:10.227Z"
      },
      {
        "duration": 7,
        "start_time": "2022-07-13T15:15:05.969Z"
      },
      {
        "duration": 7,
        "start_time": "2022-07-13T15:15:18.639Z"
      }
    ],
    "kernelspec": {
      "display_name": "Python 3 (ipykernel)",
      "language": "python",
      "name": "python3"
    },
    "language_info": {
      "codemirror_mode": {
        "name": "ipython",
        "version": 3
      },
      "file_extension": ".py",
      "mimetype": "text/x-python",
      "name": "python",
      "nbconvert_exporter": "python",
      "pygments_lexer": "ipython3",
      "version": "3.9.5"
    },
    "toc": {
      "base_numbering": 1,
      "nav_menu": {},
      "number_sections": true,
      "sideBar": true,
      "skip_h1_title": true,
      "title_cell": "Содержание",
      "title_sidebar": "Contents",
      "toc_cell": true,
      "toc_position": {
        "height": "calc(100% - 180px)",
        "left": "10px",
        "top": "150px",
        "width": "294px"
      },
      "toc_section_display": true,
      "toc_window_display": true
    },
    "colab": {
      "provenance": [],
      "toc_visible": true
    }
  },
  "nbformat": 4,
  "nbformat_minor": 0
}