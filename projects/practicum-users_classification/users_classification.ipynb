{
  "cells": [
    {
      "cell_type": "markdown",
      "metadata": {
        "id": "nZoy030HiaEp"
      },
      "source": [
        "# Project description\n",
        "\n",
        "**Recommendation of tariffs**\n",
        "\n",
        "**Megaline**, the mobile operator, has discovered that many of its customers are using outdated tariffs. They intend to develop a system that can analyze customer behavior and recommend new tariffs, namely \"Smart\" or \"Ultra\".\n",
        "\n",
        "You have access to data on customer behavior who have already switched to these tariffs from the \"[Statistical Data Analysis](https://github.com/vartemyev88/data-analysis/tree/main/projects/practicum-determining_promising_tariff)\" course project. Your task is to create a classification model that can choose the appropriate tariff. You don't need to perform data preprocessing as you have already completed it.\n",
        "\n",
        "Your objective is to build a model with the highest possible accuracy. To successfully complete the project, you must achieve an `accuracy` rate of at least `0.75`. You need to independently verify the accuracy of the test sample."
      ]
    },
    {
      "cell_type": "markdown",
      "source": [
        "# Table of contents\n",
        "\n",
        "---\n",
        "\n",
        "1. [Data overview](#data-overview)\n",
        "2. [Exploratory data analysis](#eda)\n",
        "3. [Data split](#data-split)\n",
        "4. [Models overview](#models-overview)\n",
        "5. [General conclusion](#conclusion)\n",
        "6. [Test dataset](#test-dataset)\n",
        "7. [Conclusion](#conclusion)\n",
        "---"
      ],
      "metadata": {
        "id": "gwoRmtjljp9q"
      }
    },
    {
      "cell_type": "markdown",
      "source": [
        "## Data overview <a class=\"anchor\" id=\"data-overview\"></a>"
      ],
      "metadata": {
        "id": "HblStm1PkpJP"
      }
    },
    {
      "cell_type": "code",
      "execution_count": 1,
      "metadata": {
        "id": "UbDogX4NiaEq"
      },
      "outputs": [],
      "source": [
        "import matplotlib.pyplot as plt\n",
        "import numpy as np\n",
        "import pandas as pd\n",
        "import seaborn as sns\n",
        "import warnings\n",
        "from sklearn.model_selection import train_test_split\n",
        "from sklearn.metrics import accuracy_score\n",
        "from sklearn.tree import DecisionTreeClassifier\n",
        "from sklearn.ensemble import RandomForestClassifier\n",
        "from sklearn.linear_model import LogisticRegression"
      ]
    },
    {
      "cell_type": "code",
      "execution_count": 2,
      "metadata": {
        "colab": {
          "base_uri": "https://localhost:8080/",
          "height": 871
        },
        "id": "K5dEP7DgiaEs",
        "outputId": "6c6a601f-f37c-4e31-cd57-a51fcfdc829c"
      },
      "outputs": [
        {
          "output_type": "stream",
          "name": "stdout",
          "text": [
            "Shape of dataframe: (3214, 5)\n",
            "--------------------------\n",
            "\n",
            "Missing values:\n",
            "calls       0.0\n",
            "minutes     0.0\n",
            "messages    0.0\n",
            "mb_used     0.0\n",
            "is_ultra    0.0\n",
            "dtype: float64\n",
            "--------------------------\n",
            "\n",
            "Duplicates: 0\n",
            "--------------------------\n",
            "\n",
            "Data types:\n",
            "calls       float64\n",
            "minutes     float64\n",
            "messages    float64\n",
            "mb_used     float64\n",
            "is_ultra      int64\n",
            "dtype: object\n"
          ]
        },
        {
          "output_type": "display_data",
          "data": {
            "text/plain": [
              "             calls      minutes     messages       mb_used     is_ultra\n",
              "count  3214.000000  3214.000000  3214.000000   3214.000000  3214.000000\n",
              "mean     63.038892   438.208787    38.281269  17207.673836     0.306472\n",
              "std      33.236368   234.569872    36.148326   7570.968246     0.461100\n",
              "min       0.000000     0.000000     0.000000      0.000000     0.000000\n",
              "25%      40.000000   274.575000     9.000000  12491.902500     0.000000\n",
              "50%      62.000000   430.600000    30.000000  16943.235000     0.000000\n",
              "75%      82.000000   571.927500    57.000000  21424.700000     1.000000\n",
              "max     244.000000  1632.060000   224.000000  49745.730000     1.000000"
            ],
            "text/html": [
              "\n",
              "  <div id=\"df-9e68f971-c344-4232-8cc6-76ef4a86a497\">\n",
              "    <div class=\"colab-df-container\">\n",
              "      <div>\n",
              "<style scoped>\n",
              "    .dataframe tbody tr th:only-of-type {\n",
              "        vertical-align: middle;\n",
              "    }\n",
              "\n",
              "    .dataframe tbody tr th {\n",
              "        vertical-align: top;\n",
              "    }\n",
              "\n",
              "    .dataframe thead th {\n",
              "        text-align: right;\n",
              "    }\n",
              "</style>\n",
              "<table border=\"1\" class=\"dataframe\">\n",
              "  <thead>\n",
              "    <tr style=\"text-align: right;\">\n",
              "      <th></th>\n",
              "      <th>calls</th>\n",
              "      <th>minutes</th>\n",
              "      <th>messages</th>\n",
              "      <th>mb_used</th>\n",
              "      <th>is_ultra</th>\n",
              "    </tr>\n",
              "  </thead>\n",
              "  <tbody>\n",
              "    <tr>\n",
              "      <th>count</th>\n",
              "      <td>3214.000000</td>\n",
              "      <td>3214.000000</td>\n",
              "      <td>3214.000000</td>\n",
              "      <td>3214.000000</td>\n",
              "      <td>3214.000000</td>\n",
              "    </tr>\n",
              "    <tr>\n",
              "      <th>mean</th>\n",
              "      <td>63.038892</td>\n",
              "      <td>438.208787</td>\n",
              "      <td>38.281269</td>\n",
              "      <td>17207.673836</td>\n",
              "      <td>0.306472</td>\n",
              "    </tr>\n",
              "    <tr>\n",
              "      <th>std</th>\n",
              "      <td>33.236368</td>\n",
              "      <td>234.569872</td>\n",
              "      <td>36.148326</td>\n",
              "      <td>7570.968246</td>\n",
              "      <td>0.461100</td>\n",
              "    </tr>\n",
              "    <tr>\n",
              "      <th>min</th>\n",
              "      <td>0.000000</td>\n",
              "      <td>0.000000</td>\n",
              "      <td>0.000000</td>\n",
              "      <td>0.000000</td>\n",
              "      <td>0.000000</td>\n",
              "    </tr>\n",
              "    <tr>\n",
              "      <th>25%</th>\n",
              "      <td>40.000000</td>\n",
              "      <td>274.575000</td>\n",
              "      <td>9.000000</td>\n",
              "      <td>12491.902500</td>\n",
              "      <td>0.000000</td>\n",
              "    </tr>\n",
              "    <tr>\n",
              "      <th>50%</th>\n",
              "      <td>62.000000</td>\n",
              "      <td>430.600000</td>\n",
              "      <td>30.000000</td>\n",
              "      <td>16943.235000</td>\n",
              "      <td>0.000000</td>\n",
              "    </tr>\n",
              "    <tr>\n",
              "      <th>75%</th>\n",
              "      <td>82.000000</td>\n",
              "      <td>571.927500</td>\n",
              "      <td>57.000000</td>\n",
              "      <td>21424.700000</td>\n",
              "      <td>1.000000</td>\n",
              "    </tr>\n",
              "    <tr>\n",
              "      <th>max</th>\n",
              "      <td>244.000000</td>\n",
              "      <td>1632.060000</td>\n",
              "      <td>224.000000</td>\n",
              "      <td>49745.730000</td>\n",
              "      <td>1.000000</td>\n",
              "    </tr>\n",
              "  </tbody>\n",
              "</table>\n",
              "</div>\n",
              "      <button class=\"colab-df-convert\" onclick=\"convertToInteractive('df-9e68f971-c344-4232-8cc6-76ef4a86a497')\"\n",
              "              title=\"Convert this dataframe to an interactive table.\"\n",
              "              style=\"display:none;\">\n",
              "        \n",
              "  <svg xmlns=\"http://www.w3.org/2000/svg\" height=\"24px\"viewBox=\"0 0 24 24\"\n",
              "       width=\"24px\">\n",
              "    <path d=\"M0 0h24v24H0V0z\" fill=\"none\"/>\n",
              "    <path d=\"M18.56 5.44l.94 2.06.94-2.06 2.06-.94-2.06-.94-.94-2.06-.94 2.06-2.06.94zm-11 1L8.5 8.5l.94-2.06 2.06-.94-2.06-.94L8.5 2.5l-.94 2.06-2.06.94zm10 10l.94 2.06.94-2.06 2.06-.94-2.06-.94-.94-2.06-.94 2.06-2.06.94z\"/><path d=\"M17.41 7.96l-1.37-1.37c-.4-.4-.92-.59-1.43-.59-.52 0-1.04.2-1.43.59L10.3 9.45l-7.72 7.72c-.78.78-.78 2.05 0 2.83L4 21.41c.39.39.9.59 1.41.59.51 0 1.02-.2 1.41-.59l7.78-7.78 2.81-2.81c.8-.78.8-2.07 0-2.86zM5.41 20L4 18.59l7.72-7.72 1.47 1.35L5.41 20z\"/>\n",
              "  </svg>\n",
              "      </button>\n",
              "      \n",
              "  <style>\n",
              "    .colab-df-container {\n",
              "      display:flex;\n",
              "      flex-wrap:wrap;\n",
              "      gap: 12px;\n",
              "    }\n",
              "\n",
              "    .colab-df-convert {\n",
              "      background-color: #E8F0FE;\n",
              "      border: none;\n",
              "      border-radius: 50%;\n",
              "      cursor: pointer;\n",
              "      display: none;\n",
              "      fill: #1967D2;\n",
              "      height: 32px;\n",
              "      padding: 0 0 0 0;\n",
              "      width: 32px;\n",
              "    }\n",
              "\n",
              "    .colab-df-convert:hover {\n",
              "      background-color: #E2EBFA;\n",
              "      box-shadow: 0px 1px 2px rgba(60, 64, 67, 0.3), 0px 1px 3px 1px rgba(60, 64, 67, 0.15);\n",
              "      fill: #174EA6;\n",
              "    }\n",
              "\n",
              "    [theme=dark] .colab-df-convert {\n",
              "      background-color: #3B4455;\n",
              "      fill: #D2E3FC;\n",
              "    }\n",
              "\n",
              "    [theme=dark] .colab-df-convert:hover {\n",
              "      background-color: #434B5C;\n",
              "      box-shadow: 0px 1px 3px 1px rgba(0, 0, 0, 0.15);\n",
              "      filter: drop-shadow(0px 1px 2px rgba(0, 0, 0, 0.3));\n",
              "      fill: #FFFFFF;\n",
              "    }\n",
              "  </style>\n",
              "\n",
              "      <script>\n",
              "        const buttonEl =\n",
              "          document.querySelector('#df-9e68f971-c344-4232-8cc6-76ef4a86a497 button.colab-df-convert');\n",
              "        buttonEl.style.display =\n",
              "          google.colab.kernel.accessAllowed ? 'block' : 'none';\n",
              "\n",
              "        async function convertToInteractive(key) {\n",
              "          const element = document.querySelector('#df-9e68f971-c344-4232-8cc6-76ef4a86a497');\n",
              "          const dataTable =\n",
              "            await google.colab.kernel.invokeFunction('convertToInteractive',\n",
              "                                                     [key], {});\n",
              "          if (!dataTable) return;\n",
              "\n",
              "          const docLinkHtml = 'Like what you see? Visit the ' +\n",
              "            '<a target=\"_blank\" href=https://colab.research.google.com/notebooks/data_table.ipynb>data table notebook</a>'\n",
              "            + ' to learn more about interactive tables.';\n",
              "          element.innerHTML = '';\n",
              "          dataTable['output_type'] = 'display_data';\n",
              "          await google.colab.output.renderOutput(dataTable, element);\n",
              "          const docLink = document.createElement('div');\n",
              "          docLink.innerHTML = docLinkHtml;\n",
              "          element.appendChild(docLink);\n",
              "        }\n",
              "      </script>\n",
              "    </div>\n",
              "  </div>\n",
              "  "
            ]
          },
          "metadata": {}
        },
        {
          "output_type": "display_data",
          "data": {
            "text/plain": [
              "   calls  minutes  messages   mb_used  is_ultra\n",
              "0   40.0   311.90      83.0  19915.42         0\n",
              "1   85.0   516.75      56.0  22696.96         0\n",
              "2   77.0   467.66      86.0  21060.45         0\n",
              "3  106.0   745.53      81.0   8437.39         1\n",
              "4   66.0   418.74       1.0  14502.75         0"
            ],
            "text/html": [
              "\n",
              "  <div id=\"df-6aa40500-644c-4f9a-bb36-c5c24a0826bc\">\n",
              "    <div class=\"colab-df-container\">\n",
              "      <div>\n",
              "<style scoped>\n",
              "    .dataframe tbody tr th:only-of-type {\n",
              "        vertical-align: middle;\n",
              "    }\n",
              "\n",
              "    .dataframe tbody tr th {\n",
              "        vertical-align: top;\n",
              "    }\n",
              "\n",
              "    .dataframe thead th {\n",
              "        text-align: right;\n",
              "    }\n",
              "</style>\n",
              "<table border=\"1\" class=\"dataframe\">\n",
              "  <thead>\n",
              "    <tr style=\"text-align: right;\">\n",
              "      <th></th>\n",
              "      <th>calls</th>\n",
              "      <th>minutes</th>\n",
              "      <th>messages</th>\n",
              "      <th>mb_used</th>\n",
              "      <th>is_ultra</th>\n",
              "    </tr>\n",
              "  </thead>\n",
              "  <tbody>\n",
              "    <tr>\n",
              "      <th>0</th>\n",
              "      <td>40.0</td>\n",
              "      <td>311.90</td>\n",
              "      <td>83.0</td>\n",
              "      <td>19915.42</td>\n",
              "      <td>0</td>\n",
              "    </tr>\n",
              "    <tr>\n",
              "      <th>1</th>\n",
              "      <td>85.0</td>\n",
              "      <td>516.75</td>\n",
              "      <td>56.0</td>\n",
              "      <td>22696.96</td>\n",
              "      <td>0</td>\n",
              "    </tr>\n",
              "    <tr>\n",
              "      <th>2</th>\n",
              "      <td>77.0</td>\n",
              "      <td>467.66</td>\n",
              "      <td>86.0</td>\n",
              "      <td>21060.45</td>\n",
              "      <td>0</td>\n",
              "    </tr>\n",
              "    <tr>\n",
              "      <th>3</th>\n",
              "      <td>106.0</td>\n",
              "      <td>745.53</td>\n",
              "      <td>81.0</td>\n",
              "      <td>8437.39</td>\n",
              "      <td>1</td>\n",
              "    </tr>\n",
              "    <tr>\n",
              "      <th>4</th>\n",
              "      <td>66.0</td>\n",
              "      <td>418.74</td>\n",
              "      <td>1.0</td>\n",
              "      <td>14502.75</td>\n",
              "      <td>0</td>\n",
              "    </tr>\n",
              "  </tbody>\n",
              "</table>\n",
              "</div>\n",
              "      <button class=\"colab-df-convert\" onclick=\"convertToInteractive('df-6aa40500-644c-4f9a-bb36-c5c24a0826bc')\"\n",
              "              title=\"Convert this dataframe to an interactive table.\"\n",
              "              style=\"display:none;\">\n",
              "        \n",
              "  <svg xmlns=\"http://www.w3.org/2000/svg\" height=\"24px\"viewBox=\"0 0 24 24\"\n",
              "       width=\"24px\">\n",
              "    <path d=\"M0 0h24v24H0V0z\" fill=\"none\"/>\n",
              "    <path d=\"M18.56 5.44l.94 2.06.94-2.06 2.06-.94-2.06-.94-.94-2.06-.94 2.06-2.06.94zm-11 1L8.5 8.5l.94-2.06 2.06-.94-2.06-.94L8.5 2.5l-.94 2.06-2.06.94zm10 10l.94 2.06.94-2.06 2.06-.94-2.06-.94-.94-2.06-.94 2.06-2.06.94z\"/><path d=\"M17.41 7.96l-1.37-1.37c-.4-.4-.92-.59-1.43-.59-.52 0-1.04.2-1.43.59L10.3 9.45l-7.72 7.72c-.78.78-.78 2.05 0 2.83L4 21.41c.39.39.9.59 1.41.59.51 0 1.02-.2 1.41-.59l7.78-7.78 2.81-2.81c.8-.78.8-2.07 0-2.86zM5.41 20L4 18.59l7.72-7.72 1.47 1.35L5.41 20z\"/>\n",
              "  </svg>\n",
              "      </button>\n",
              "      \n",
              "  <style>\n",
              "    .colab-df-container {\n",
              "      display:flex;\n",
              "      flex-wrap:wrap;\n",
              "      gap: 12px;\n",
              "    }\n",
              "\n",
              "    .colab-df-convert {\n",
              "      background-color: #E8F0FE;\n",
              "      border: none;\n",
              "      border-radius: 50%;\n",
              "      cursor: pointer;\n",
              "      display: none;\n",
              "      fill: #1967D2;\n",
              "      height: 32px;\n",
              "      padding: 0 0 0 0;\n",
              "      width: 32px;\n",
              "    }\n",
              "\n",
              "    .colab-df-convert:hover {\n",
              "      background-color: #E2EBFA;\n",
              "      box-shadow: 0px 1px 2px rgba(60, 64, 67, 0.3), 0px 1px 3px 1px rgba(60, 64, 67, 0.15);\n",
              "      fill: #174EA6;\n",
              "    }\n",
              "\n",
              "    [theme=dark] .colab-df-convert {\n",
              "      background-color: #3B4455;\n",
              "      fill: #D2E3FC;\n",
              "    }\n",
              "\n",
              "    [theme=dark] .colab-df-convert:hover {\n",
              "      background-color: #434B5C;\n",
              "      box-shadow: 0px 1px 3px 1px rgba(0, 0, 0, 0.15);\n",
              "      filter: drop-shadow(0px 1px 2px rgba(0, 0, 0, 0.3));\n",
              "      fill: #FFFFFF;\n",
              "    }\n",
              "  </style>\n",
              "\n",
              "      <script>\n",
              "        const buttonEl =\n",
              "          document.querySelector('#df-6aa40500-644c-4f9a-bb36-c5c24a0826bc button.colab-df-convert');\n",
              "        buttonEl.style.display =\n",
              "          google.colab.kernel.accessAllowed ? 'block' : 'none';\n",
              "\n",
              "        async function convertToInteractive(key) {\n",
              "          const element = document.querySelector('#df-6aa40500-644c-4f9a-bb36-c5c24a0826bc');\n",
              "          const dataTable =\n",
              "            await google.colab.kernel.invokeFunction('convertToInteractive',\n",
              "                                                     [key], {});\n",
              "          if (!dataTable) return;\n",
              "\n",
              "          const docLinkHtml = 'Like what you see? Visit the ' +\n",
              "            '<a target=\"_blank\" href=https://colab.research.google.com/notebooks/data_table.ipynb>data table notebook</a>'\n",
              "            + ' to learn more about interactive tables.';\n",
              "          element.innerHTML = '';\n",
              "          dataTable['output_type'] = 'display_data';\n",
              "          await google.colab.output.renderOutput(dataTable, element);\n",
              "          const docLink = document.createElement('div');\n",
              "          docLink.innerHTML = docLinkHtml;\n",
              "          element.appendChild(docLink);\n",
              "        }\n",
              "      </script>\n",
              "    </div>\n",
              "  </div>\n",
              "  "
            ]
          },
          "metadata": {}
        }
      ],
      "source": [
        "# Locating the CSV with several locations\n",
        "try:\n",
        "    df = pd.read_csv(\"/datasets/users_behavior.csv\")\n",
        "except FileNotFoundError:\n",
        "    try:\n",
        "        df = pd.read_csv(\"users_behavior.csv\")\n",
        "    except FileNotFoundError:\n",
        "        try:\n",
        "            df = pd.read_csv(r\"users_behavior.csv\")\n",
        "        except FileNotFoundError:\n",
        "            print(\"File not found\")\n",
        "\n",
        "# Ignorig all warnings and displaying all columns in the DF:\n",
        "warnings.filterwarnings(\"ignore\")\n",
        "pd.set_option(\"display.max_columns\", None)\n",
        "\n",
        "# Print shape of dataframe\n",
        "print(f\"Shape of dataframe: {df.shape}\")\n",
        "print(\"-\" * 26)\n",
        "\n",
        "# Check for missing values and print percentage of missing values\n",
        "print(\"\\nMissing values:\")\n",
        "print(df.isna().mean().sort_values())\n",
        "print(\"-\" * 26)\n",
        "\n",
        "# Check for duplicates and print the number of duplicate rows\n",
        "print(f\"\\nDuplicates: {df.duplicated().sum()}\")\n",
        "print(\"-\" * 26)\n",
        "\n",
        "# Print data type of each column\n",
        "print(\"\\nData types:\")\n",
        "print(df.dtypes)\n",
        "\n",
        "# Print descriptive statistics\n",
        "display(df.describe())\n",
        "\n",
        "# Print the first 5 rows of the dataframe\n",
        "display(df.head())"
      ]
    },
    {
      "cell_type": "markdown",
      "source": [
        "## Exploratory data analysis <a class=\"anchor\" id=\"eda\"></a>"
      ],
      "metadata": {
        "id": "AFhh852AplOC"
      }
    },
    {
      "cell_type": "code",
      "execution_count": 3,
      "metadata": {
        "colab": {
          "base_uri": "https://localhost:8080/",
          "height": 892
        },
        "id": "A5xC0YrsiaEu",
        "outputId": "5a105bb2-9679-481f-d120-ed8dc0f44518"
      },
      "outputs": [
        {
          "output_type": "display_data",
          "data": {
            "text/plain": [
              "<Figure size 864x432 with 3 Axes>"
            ],
            "image/png": "[encoded data removed]"
          },
          "metadata": {}
        },
        {
          "output_type": "display_data",
          "data": {
            "text/plain": [
              "<Figure size 864x432 with 1 Axes>"
            ],
            "image/png": "[encoded data removed]"
          },
          "metadata": {}
        },
        {
          "output_type": "stream",
          "name": "stdout",
          "text": [
            "\n",
            "Correlation between call frequency and duration: 0.98\n"
          ]
        }
      ],
      "source": [
        "sns.set(rc={\"figure.figsize\": (12, 6)}, color_codes=True, palette=\"colorblind\")\n",
        "\n",
        "# Plotting heatmap and scatterplot:\n",
        "fig, (ax1, ax2) = plt.subplots(ncols=2)\n",
        "sns.heatmap(df.corr(), cbar=True, cmap=\"rocket\", annot=True, ax=ax1)\n",
        "ax1.set_title(\"Correlation heatmap\")\n",
        "sns.scatterplot(data=df, x=\"minutes\", y=\"calls\", ax=ax2)\n",
        "ax2.set_title(\"Relationship between call duration and frequency\")\n",
        "ax2.set_xlabel(\"Total call duration (minutes)\")\n",
        "ax2.set_ylabel(\"Number of calls\")\n",
        "plt.tight_layout()\n",
        "plt.show()\n",
        "\n",
        "# Plotting boxplot and printing correlation:\n",
        "fig, ax = plt.subplots()\n",
        "sns.boxplot(data=df, x=\"minutes\", ax=ax)\n",
        "ax.set_title(\"Outliers in call duration\")\n",
        "ax.set_xlabel(\"Total call duration (minutes)\")\n",
        "plt.tight_layout()\n",
        "plt.show()\n",
        "\n",
        "print(f\"\\nCorrelation between call frequency and duration: {df['calls'].corr(df['minutes']):.2f}\")"
      ]
    },
    {
      "cell_type": "markdown",
      "metadata": {
        "id": "H3suOQJeiaEv"
      },
      "source": [
        "There is a correlation between `calls` and `minutes`. The significant majority of calls fall within the range of up to 1400 minutes, with the outliers being calls around 1600 minutes."
      ]
    },
    {
      "cell_type": "markdown",
      "metadata": {
        "id": "acJyEs6fiaEv"
      },
      "source": [
        "## Data split <a class=\"anchor\" id=\"data-split\"></a>"
      ]
    },
    {
      "cell_type": "code",
      "execution_count": 4,
      "metadata": {
        "colab": {
          "base_uri": "https://localhost:8080/"
        },
        "id": "kj9yeVJ9iaEw",
        "outputId": "58ba3ff0-920f-413f-aa79-864dd9f06733"
      },
      "outputs": [
        {
          "output_type": "stream",
          "name": "stdout",
          "text": [
            "Proportion of training data: 60%\n",
            "Proportion of validation data: 20%\n",
            "Proportion of test data: 20%\n"
          ]
        }
      ],
      "source": [
        "# Split the data into training, validation and test:\n",
        "train_data, temp_data = train_test_split(df, test_size=0.4, random_state=12345)\n",
        "valid_data, test_data = train_test_split(temp_data, test_size=0.5, random_state=12345)\n",
        "\n",
        "# Print the proportions of the datasets:\n",
        "for data, name in [\n",
        "    (train_data, \"training\"),\n",
        "    (valid_data, \"validation\"),\n",
        "    (test_data, \"test\"),\n",
        "]:\n",
        "    prop = len(data) / len(df)\n",
        "    print(f\"Proportion of {name} data: {prop:.0%}\")\n",
        "\n",
        "# Split the datasets into features and target:\n",
        "X_train, y_train = train_data.drop(\"is_ultra\", axis=1), train_data[\"is_ultra\"]\n",
        "X_valid, y_valid = valid_data.drop(\"is_ultra\", axis=1), valid_data[\"is_ultra\"]\n",
        "X_test, y_test = test_data.drop(\"is_ultra\", axis=1), test_data[\"is_ultra\"]"
      ]
    },
    {
      "cell_type": "markdown",
      "metadata": {
        "id": "P3w0tfeXiaEx"
      },
      "source": [
        "## Models overview <a class=\"anchor\" id=\"models-overview\"></a>"
      ]
    },
    {
      "cell_type": "code",
      "source": [
        "# DecisionTreeClassifier:\n",
        "best_model = None\n",
        "best_result = 0\n",
        "\n",
        "for depth in range(1, 11):\n",
        "    model = DecisionTreeClassifier(random_state=12345, max_depth=depth)\n",
        "    model.fit(X_train, y_train)\n",
        "    predictions = model.predict(X_valid)\n",
        "    result = accuracy_score(y_valid, predictions)\n",
        "    print(f\"max_depth: {depth}, accuracy: {result:.2f}\")\n",
        "    if result > best_result:\n",
        "        best_model = model\n",
        "        best_result = result\n",
        "        \n",
        "print(f\"\\nDecisionTreeClassifier(max_depth={best_model.max_depth}) accuracy: {best_result:.2f}\")"
      ],
      "metadata": {
        "colab": {
          "base_uri": "https://localhost:8080/"
        },
        "id": "4zjsil8k4QO7",
        "outputId": "69b51b5f-398b-4e14-92f2-32edce688dd1"
      },
      "execution_count": 5,
      "outputs": [
        {
          "output_type": "stream",
          "name": "stdout",
          "text": [
            "max_depth: 1, accuracy: 0.75\n",
            "max_depth: 2, accuracy: 0.78\n",
            "max_depth: 3, accuracy: 0.79\n",
            "max_depth: 4, accuracy: 0.78\n",
            "max_depth: 5, accuracy: 0.78\n",
            "max_depth: 6, accuracy: 0.78\n",
            "max_depth: 7, accuracy: 0.78\n",
            "max_depth: 8, accuracy: 0.78\n",
            "max_depth: 9, accuracy: 0.78\n",
            "max_depth: 10, accuracy: 0.77\n",
            "\n",
            "DecisionTreeClassifier(max_depth=3) accuracy: 0.79\n"
          ]
        }
      ]
    },
    {
      "cell_type": "code",
      "source": [
        "# RandomForestClassifier:\n",
        "best_model = None\n",
        "best_result = 0\n",
        "\n",
        "for depth in range(1, 7):\n",
        "    for est in range(1, 15):\n",
        "        model = RandomForestClassifier(random_state=12345, n_estimators=est, max_depth=depth)\n",
        "        model.fit(X_train, y_train)\n",
        "        predictions = model.predict(X_valid)\n",
        "        result = accuracy_score(y_valid, predictions)\n",
        "        print(f\"n_estimators: {est}, max_depth: {depth}, accuracy: {result:.2f}\")\n",
        "        if result > best_result:\n",
        "            best_model = model\n",
        "            best_result = result\n",
        "\n",
        "print(f\"\\nRandomForestClassifier(n_estimators={best_model.n_estimators}, max_depth={best_model.max_depth}) accuracy: {best_result:.2f}\")"
      ],
      "metadata": {
        "colab": {
          "base_uri": "https://localhost:8080/"
        },
        "id": "PtkbhURE6JbD",
        "outputId": "40c0deb6-e3ac-4dc8-c271-63a381eed1ae"
      },
      "execution_count": 6,
      "outputs": [
        {
          "output_type": "stream",
          "name": "stdout",
          "text": [
            "n_estimators: 1, max_depth: 1, accuracy: 0.75\n",
            "n_estimators: 2, max_depth: 1, accuracy: 0.74\n",
            "n_estimators: 3, max_depth: 1, accuracy: 0.75\n",
            "n_estimators: 4, max_depth: 1, accuracy: 0.77\n",
            "n_estimators: 5, max_depth: 1, accuracy: 0.76\n",
            "n_estimators: 6, max_depth: 1, accuracy: 0.76\n",
            "n_estimators: 7, max_depth: 1, accuracy: 0.76\n",
            "n_estimators: 8, max_depth: 1, accuracy: 0.76\n",
            "n_estimators: 9, max_depth: 1, accuracy: 0.75\n",
            "n_estimators: 10, max_depth: 1, accuracy: 0.76\n",
            "n_estimators: 11, max_depth: 1, accuracy: 0.75\n",
            "n_estimators: 12, max_depth: 1, accuracy: 0.75\n",
            "n_estimators: 13, max_depth: 1, accuracy: 0.75\n",
            "n_estimators: 14, max_depth: 1, accuracy: 0.75\n",
            "n_estimators: 1, max_depth: 2, accuracy: 0.79\n",
            "n_estimators: 2, max_depth: 2, accuracy: 0.78\n",
            "n_estimators: 3, max_depth: 2, accuracy: 0.78\n",
            "n_estimators: 4, max_depth: 2, accuracy: 0.79\n",
            "n_estimators: 5, max_depth: 2, accuracy: 0.77\n",
            "n_estimators: 6, max_depth: 2, accuracy: 0.77\n",
            "n_estimators: 7, max_depth: 2, accuracy: 0.76\n",
            "n_estimators: 8, max_depth: 2, accuracy: 0.77\n",
            "n_estimators: 9, max_depth: 2, accuracy: 0.77\n",
            "n_estimators: 10, max_depth: 2, accuracy: 0.78\n",
            "n_estimators: 11, max_depth: 2, accuracy: 0.79\n",
            "n_estimators: 12, max_depth: 2, accuracy: 0.78\n",
            "n_estimators: 13, max_depth: 2, accuracy: 0.79\n",
            "n_estimators: 14, max_depth: 2, accuracy: 0.78\n",
            "n_estimators: 1, max_depth: 3, accuracy: 0.79\n",
            "n_estimators: 2, max_depth: 3, accuracy: 0.79\n",
            "n_estimators: 3, max_depth: 3, accuracy: 0.79\n",
            "n_estimators: 4, max_depth: 3, accuracy: 0.78\n",
            "n_estimators: 5, max_depth: 3, accuracy: 0.78\n",
            "n_estimators: 6, max_depth: 3, accuracy: 0.79\n",
            "n_estimators: 7, max_depth: 3, accuracy: 0.79\n",
            "n_estimators: 8, max_depth: 3, accuracy: 0.79\n",
            "n_estimators: 9, max_depth: 3, accuracy: 0.79\n",
            "n_estimators: 10, max_depth: 3, accuracy: 0.79\n",
            "n_estimators: 11, max_depth: 3, accuracy: 0.78\n",
            "n_estimators: 12, max_depth: 3, accuracy: 0.79\n",
            "n_estimators: 13, max_depth: 3, accuracy: 0.79\n",
            "n_estimators: 14, max_depth: 3, accuracy: 0.79\n",
            "n_estimators: 1, max_depth: 4, accuracy: 0.77\n",
            "n_estimators: 2, max_depth: 4, accuracy: 0.78\n",
            "n_estimators: 3, max_depth: 4, accuracy: 0.78\n",
            "n_estimators: 4, max_depth: 4, accuracy: 0.79\n",
            "n_estimators: 5, max_depth: 4, accuracy: 0.79\n",
            "n_estimators: 6, max_depth: 4, accuracy: 0.79\n",
            "n_estimators: 7, max_depth: 4, accuracy: 0.79\n",
            "n_estimators: 8, max_depth: 4, accuracy: 0.79\n",
            "n_estimators: 9, max_depth: 4, accuracy: 0.79\n",
            "n_estimators: 10, max_depth: 4, accuracy: 0.79\n",
            "n_estimators: 11, max_depth: 4, accuracy: 0.79\n",
            "n_estimators: 12, max_depth: 4, accuracy: 0.79\n",
            "n_estimators: 13, max_depth: 4, accuracy: 0.79\n",
            "n_estimators: 14, max_depth: 4, accuracy: 0.79\n",
            "n_estimators: 1, max_depth: 5, accuracy: 0.78\n",
            "n_estimators: 2, max_depth: 5, accuracy: 0.77\n",
            "n_estimators: 3, max_depth: 5, accuracy: 0.79\n",
            "n_estimators: 4, max_depth: 5, accuracy: 0.79\n",
            "n_estimators: 5, max_depth: 5, accuracy: 0.79\n",
            "n_estimators: 6, max_depth: 5, accuracy: 0.79\n",
            "n_estimators: 7, max_depth: 5, accuracy: 0.79\n",
            "n_estimators: 8, max_depth: 5, accuracy: 0.79\n",
            "n_estimators: 9, max_depth: 5, accuracy: 0.79\n",
            "n_estimators: 10, max_depth: 5, accuracy: 0.79\n",
            "n_estimators: 11, max_depth: 5, accuracy: 0.79\n",
            "n_estimators: 12, max_depth: 5, accuracy: 0.79\n",
            "n_estimators: 13, max_depth: 5, accuracy: 0.79\n",
            "n_estimators: 14, max_depth: 5, accuracy: 0.79\n",
            "n_estimators: 1, max_depth: 6, accuracy: 0.79\n",
            "n_estimators: 2, max_depth: 6, accuracy: 0.79\n",
            "n_estimators: 3, max_depth: 6, accuracy: 0.78\n",
            "n_estimators: 4, max_depth: 6, accuracy: 0.79\n",
            "n_estimators: 5, max_depth: 6, accuracy: 0.79\n",
            "n_estimators: 6, max_depth: 6, accuracy: 0.79\n",
            "n_estimators: 7, max_depth: 6, accuracy: 0.79\n",
            "n_estimators: 8, max_depth: 6, accuracy: 0.80\n",
            "n_estimators: 9, max_depth: 6, accuracy: 0.80\n",
            "n_estimators: 10, max_depth: 6, accuracy: 0.80\n",
            "n_estimators: 11, max_depth: 6, accuracy: 0.80\n",
            "n_estimators: 12, max_depth: 6, accuracy: 0.80\n",
            "n_estimators: 13, max_depth: 6, accuracy: 0.80\n",
            "n_estimators: 14, max_depth: 6, accuracy: 0.80\n",
            "\n",
            "RandomForestClassifier(n_estimators=12, max_depth=6) accuracy: 0.80\n"
          ]
        }
      ]
    },
    {
      "cell_type": "code",
      "source": [
        "# LogisticRegression:\n",
        "best_model = None\n",
        "best_result = 0\n",
        "\n",
        "for iter_ in range(1, 15):\n",
        "    model = LogisticRegression(random_state=12345, solver=\"lbfgs\", max_iter=iter_)\n",
        "    model.fit(X_train, y_train)\n",
        "    predictions = model.predict(X_valid)\n",
        "    result = accuracy_score(y_valid, predictions)\n",
        "    print(f\"max_iter: {iter}, accuracy: {result:.2f}\")\n",
        "    if result > best_result:\n",
        "        best_model = model\n",
        "        best_result = result\n",
        "        \n",
        "print(f\"\\nLogisticRegression(max_iter={best_model.max_iter}) accuracy: {best_result:.2f}\")"
      ],
      "metadata": {
        "colab": {
          "base_uri": "https://localhost:8080/"
        },
        "id": "Jcwvt0m77yYc",
        "outputId": "9af1fa61-c8e1-405b-8c12-1876c62580c6"
      },
      "execution_count": 7,
      "outputs": [
        {
          "output_type": "stream",
          "name": "stdout",
          "text": [
            "max_iter: <built-in function iter>, accuracy: 0.71\n",
            "max_iter: <built-in function iter>, accuracy: 0.71\n",
            "max_iter: <built-in function iter>, accuracy: 0.71\n",
            "max_iter: <built-in function iter>, accuracy: 0.71\n",
            "max_iter: <built-in function iter>, accuracy: 0.71\n",
            "max_iter: <built-in function iter>, accuracy: 0.71\n",
            "max_iter: <built-in function iter>, accuracy: 0.71\n",
            "max_iter: <built-in function iter>, accuracy: 0.71\n",
            "max_iter: <built-in function iter>, accuracy: 0.71\n",
            "max_iter: <built-in function iter>, accuracy: 0.71\n",
            "max_iter: <built-in function iter>, accuracy: 0.71\n",
            "max_iter: <built-in function iter>, accuracy: 0.71\n",
            "max_iter: <built-in function iter>, accuracy: 0.71\n",
            "max_iter: <built-in function iter>, accuracy: 0.71\n",
            "\n",
            "LogisticRegression(max_iter=1) accuracy: 0.71\n"
          ]
        }
      ]
    },
    {
      "cell_type": "markdown",
      "metadata": {
        "id": "aLndljcbiaE1"
      },
      "source": [
        "The most effective model turned out to be the `RandomForestClassifier` model with an accuracy value of *0.8*."
      ]
    },
    {
      "cell_type": "markdown",
      "metadata": {
        "id": "T-jBy1R5iaE1"
      },
      "source": [
        "## Test dataset <a class=\"anchor\" id=\"test-dataset\"></a>\n",
        "\n",
        "Testing the most effective model on the test dataset, and checking it with random sampling."
      ]
    },
    {
      "cell_type": "code",
      "source": [
        "# RandomForestClassifier:\n",
        "model = RandomForestClassifier(random_state=12345, n_estimators=14, max_depth=6)\n",
        "model.fit(X_train, y_train)\n",
        "predictions = model.predict(X_test)\n",
        "accuracy = accuracy_score(y_test, predictions)\n",
        "\n",
        "print(f\"{model} accuracy on the test set: {accuracy:.2f}\")\n",
        "\n",
        "# RandomForestClassifier:\n",
        "ran_num = np.random.randint(2, size=643)\n",
        "result = accuracy_score(y_test, ran_num)\n",
        "        \n",
        "print(f\"{model} accuracy with random sampling: {result:.2f}\")"
      ],
      "metadata": {
        "colab": {
          "base_uri": "https://localhost:8080/"
        },
        "id": "xnbem9aphSDb",
        "outputId": "b032a467-830a-4f5a-d913-da53bd8118bd"
      },
      "execution_count": 8,
      "outputs": [
        {
          "output_type": "stream",
          "name": "stdout",
          "text": [
            "RandomForestClassifier(max_depth=6, n_estimators=14, random_state=12345) accuracy on the test set: 0.79\n",
            "RandomForestClassifier(max_depth=6, n_estimators=14, random_state=12345) accuracy with random sampling: 0.50\n"
          ]
        }
      ]
    },
    {
      "cell_type": "markdown",
      "metadata": {
        "id": "IxTSlntSiaE5"
      },
      "source": [
        "## Conclusion <a class=\"anchor\" id=\"conclusion\"></a>\n",
        "\n",
        "The following conclusions can be drawn from the research:\n",
        "\n",
        "1. There is a direct correlation of 0.98 between the data in the `calls` and `minutes` columns.\n",
        "2. The data was split into three samples with the following proportions:\n",
        "    - Training data: 60%\n",
        "    - Validation data: 20%\n",
        "    - Test data: 20%\n",
        "3. Following machine learning models were selected: `DecisionTreeClassifier`, `RandomForestClassifier`, and `LogisticRegression`. The `accuracy_score` metric (with a minimum threshold of *0.75*) was used as the performance indicator for the models, hyperparameters were tuned in a loop, and the best model showed the following result:\n",
        "    - `RandomForestClassifier(n_estimators=12, max_depth=6) accuracy: 0.8`\n",
        "4. The most effective model was tested on the test sample, with a result of *0.79*. A test on random numbers was also performed, with a result of *0.5*."
      ]
    }
  ],
  "metadata": {
    "ExecuteTimeLog": [
      {
        "duration": 544,
        "start_time": "2022-05-16T10:18:29.176Z"
      },
      {
        "duration": 21,
        "start_time": "2022-05-16T10:18:30.886Z"
      },
      {
        "duration": 42,
        "start_time": "2022-05-16T10:18:32.449Z"
      },
      {
        "duration": 26,
        "start_time": "2022-05-16T10:19:08.389Z"
      },
      {
        "duration": 28,
        "start_time": "2022-05-16T10:19:15.735Z"
      },
      {
        "duration": 155,
        "start_time": "2022-05-16T10:19:20.290Z"
      },
      {
        "duration": 29,
        "start_time": "2022-05-16T10:19:29.232Z"
      },
      {
        "duration": 29,
        "start_time": "2022-05-16T10:19:33.397Z"
      },
      {
        "duration": 27,
        "start_time": "2022-05-16T10:19:38.111Z"
      },
      {
        "duration": 26,
        "start_time": "2022-05-16T10:19:40.544Z"
      },
      {
        "duration": 27,
        "start_time": "2022-05-16T10:19:49.268Z"
      },
      {
        "duration": 27,
        "start_time": "2022-05-16T10:19:57.622Z"
      },
      {
        "duration": 26,
        "start_time": "2022-05-16T10:20:17.174Z"
      },
      {
        "duration": 29,
        "start_time": "2022-05-16T10:20:25.024Z"
      },
      {
        "duration": 62,
        "start_time": "2022-05-16T10:20:35.389Z"
      },
      {
        "duration": 33,
        "start_time": "2022-05-16T10:20:50.616Z"
      },
      {
        "duration": 60,
        "start_time": "2022-05-16T10:21:21.587Z"
      },
      {
        "duration": 35,
        "start_time": "2022-05-16T10:21:33.993Z"
      },
      {
        "duration": 1340,
        "start_time": "2022-05-16T10:33:48.127Z"
      },
      {
        "duration": 6,
        "start_time": "2022-05-16T10:45:03.384Z"
      },
      {
        "duration": 5,
        "start_time": "2022-05-16T10:52:22.458Z"
      },
      {
        "duration": 66,
        "start_time": "2022-05-16T10:53:00.865Z"
      },
      {
        "duration": 7,
        "start_time": "2022-05-16T10:54:32.949Z"
      },
      {
        "duration": 7,
        "start_time": "2022-05-16T10:54:35.869Z"
      },
      {
        "duration": 6,
        "start_time": "2022-05-16T10:54:39.426Z"
      },
      {
        "duration": 4,
        "start_time": "2022-05-16T10:55:47.361Z"
      },
      {
        "duration": 152,
        "start_time": "2022-05-16T11:50:41.179Z"
      },
      {
        "duration": 12,
        "start_time": "2022-05-16T11:50:46.310Z"
      },
      {
        "duration": 7,
        "start_time": "2022-05-16T11:50:54.873Z"
      },
      {
        "duration": 10,
        "start_time": "2022-05-16T11:53:01.462Z"
      },
      {
        "duration": 16,
        "start_time": "2022-05-16T11:53:50.095Z"
      },
      {
        "duration": 9,
        "start_time": "2022-05-16T11:54:03.801Z"
      },
      {
        "duration": 15,
        "start_time": "2022-05-16T11:54:06.087Z"
      },
      {
        "duration": 6,
        "start_time": "2022-05-16T12:16:31.420Z"
      },
      {
        "duration": 8,
        "start_time": "2022-05-16T12:16:50.027Z"
      },
      {
        "duration": 8,
        "start_time": "2022-05-16T12:16:59.778Z"
      },
      {
        "duration": 6,
        "start_time": "2022-05-16T12:17:15.453Z"
      },
      {
        "duration": 6,
        "start_time": "2022-05-16T12:20:45.389Z"
      },
      {
        "duration": 7,
        "start_time": "2022-05-16T12:21:30.127Z"
      },
      {
        "duration": 18,
        "start_time": "2022-05-16T12:21:36.140Z"
      },
      {
        "duration": 5,
        "start_time": "2022-05-16T12:23:02.333Z"
      },
      {
        "duration": 66,
        "start_time": "2022-05-16T12:23:17.233Z"
      },
      {
        "duration": 4,
        "start_time": "2022-05-16T12:25:03.704Z"
      },
      {
        "duration": 63,
        "start_time": "2022-05-16T12:26:38.456Z"
      },
      {
        "duration": 4,
        "start_time": "2022-05-16T12:28:30.419Z"
      },
      {
        "duration": 16,
        "start_time": "2022-05-16T12:28:32.487Z"
      },
      {
        "duration": 68,
        "start_time": "2022-05-16T12:29:10.114Z"
      },
      {
        "duration": 65,
        "start_time": "2022-05-16T12:29:16.549Z"
      },
      {
        "duration": 20,
        "start_time": "2022-05-16T12:29:24.448Z"
      },
      {
        "duration": 18,
        "start_time": "2022-05-16T12:29:32.617Z"
      },
      {
        "duration": 19,
        "start_time": "2022-05-16T12:29:40.568Z"
      },
      {
        "duration": 20,
        "start_time": "2022-05-16T12:29:44.436Z"
      },
      {
        "duration": 21,
        "start_time": "2022-05-16T12:29:53.798Z"
      },
      {
        "duration": 23,
        "start_time": "2022-05-16T12:30:08.137Z"
      },
      {
        "duration": 23,
        "start_time": "2022-05-16T12:30:10.979Z"
      },
      {
        "duration": 21,
        "start_time": "2022-05-16T12:30:14.352Z"
      },
      {
        "duration": 22,
        "start_time": "2022-05-16T12:30:22.156Z"
      },
      {
        "duration": 22,
        "start_time": "2022-05-16T12:30:29.562Z"
      },
      {
        "duration": 7,
        "start_time": "2022-05-16T12:31:02.189Z"
      },
      {
        "duration": 66,
        "start_time": "2022-05-16T12:31:28.650Z"
      },
      {
        "duration": 66,
        "start_time": "2022-05-16T12:31:46.152Z"
      },
      {
        "duration": 9,
        "start_time": "2022-05-16T12:53:22.368Z"
      },
      {
        "duration": 9,
        "start_time": "2022-05-16T12:54:16.001Z"
      },
      {
        "duration": 15,
        "start_time": "2022-05-16T12:56:59.174Z"
      },
      {
        "duration": 22,
        "start_time": "2022-05-16T12:58:23.409Z"
      },
      {
        "duration": 68,
        "start_time": "2022-05-16T13:00:27.511Z"
      },
      {
        "duration": 68,
        "start_time": "2022-05-16T13:00:30.632Z"
      },
      {
        "duration": 129,
        "start_time": "2022-05-16T13:07:29.659Z"
      },
      {
        "duration": 3569,
        "start_time": "2022-05-16T13:07:33.672Z"
      },
      {
        "duration": 3531,
        "start_time": "2022-05-16T13:07:52.621Z"
      },
      {
        "duration": 17,
        "start_time": "2022-05-16T13:11:15.071Z"
      },
      {
        "duration": 16,
        "start_time": "2022-05-16T13:11:27.996Z"
      },
      {
        "duration": 15,
        "start_time": "2022-05-16T13:11:31.456Z"
      },
      {
        "duration": 3552,
        "start_time": "2022-05-16T13:12:32.701Z"
      },
      {
        "duration": 3558,
        "start_time": "2022-05-16T13:12:42.446Z"
      },
      {
        "duration": 3597,
        "start_time": "2022-05-16T13:12:52.271Z"
      },
      {
        "duration": 3670,
        "start_time": "2022-05-16T13:14:25.354Z"
      },
      {
        "duration": 1545,
        "start_time": "2022-05-16T13:15:32.896Z"
      },
      {
        "duration": 17,
        "start_time": "2022-05-16T13:15:34.443Z"
      },
      {
        "duration": 34,
        "start_time": "2022-05-16T13:15:34.462Z"
      },
      {
        "duration": 5,
        "start_time": "2022-05-16T13:15:34.499Z"
      },
      {
        "duration": 10,
        "start_time": "2022-05-16T13:15:34.507Z"
      },
      {
        "duration": 5,
        "start_time": "2022-05-16T13:15:34.520Z"
      },
      {
        "duration": 99,
        "start_time": "2022-05-16T13:15:34.528Z"
      },
      {
        "duration": 3858,
        "start_time": "2022-05-16T13:15:34.629Z"
      },
      {
        "duration": 2817,
        "start_time": "2022-05-16T15:14:58.679Z"
      },
      {
        "duration": 207,
        "start_time": "2022-05-16T15:15:01.500Z"
      },
      {
        "duration": 0,
        "start_time": "2022-05-16T15:15:01.710Z"
      },
      {
        "duration": 0,
        "start_time": "2022-05-16T15:15:01.712Z"
      },
      {
        "duration": 0,
        "start_time": "2022-05-16T15:15:01.713Z"
      },
      {
        "duration": 0,
        "start_time": "2022-05-16T15:15:01.715Z"
      },
      {
        "duration": 0,
        "start_time": "2022-05-16T15:15:01.717Z"
      },
      {
        "duration": 0,
        "start_time": "2022-05-16T15:15:01.719Z"
      },
      {
        "duration": 0,
        "start_time": "2022-05-16T15:15:01.720Z"
      },
      {
        "duration": 0,
        "start_time": "2022-05-16T15:15:01.722Z"
      },
      {
        "duration": 6,
        "start_time": "2022-05-16T15:15:08.625Z"
      },
      {
        "duration": 26,
        "start_time": "2022-05-16T15:15:08.639Z"
      },
      {
        "duration": 28,
        "start_time": "2022-05-16T15:15:08.667Z"
      },
      {
        "duration": 19,
        "start_time": "2022-05-16T15:15:08.697Z"
      },
      {
        "duration": 14,
        "start_time": "2022-05-16T15:15:08.719Z"
      },
      {
        "duration": 350,
        "start_time": "2022-05-16T15:15:08.738Z"
      },
      {
        "duration": 0,
        "start_time": "2022-05-16T15:15:09.092Z"
      },
      {
        "duration": 0,
        "start_time": "2022-05-16T15:15:09.094Z"
      },
      {
        "duration": 0,
        "start_time": "2022-05-16T15:15:09.096Z"
      },
      {
        "duration": 35,
        "start_time": "2022-05-16T15:16:57.303Z"
      },
      {
        "duration": 4,
        "start_time": "2022-05-16T15:17:24.767Z"
      },
      {
        "duration": 78,
        "start_time": "2022-05-16T15:17:24.943Z"
      },
      {
        "duration": 4711,
        "start_time": "2022-05-16T15:17:30.543Z"
      },
      {
        "duration": 17,
        "start_time": "2022-05-16T15:17:51.776Z"
      },
      {
        "duration": 22,
        "start_time": "2022-05-16T15:17:56.616Z"
      },
      {
        "duration": 7,
        "start_time": "2022-05-16T15:45:10.737Z"
      },
      {
        "duration": 21,
        "start_time": "2022-05-16T15:45:10.747Z"
      },
      {
        "duration": 31,
        "start_time": "2022-05-16T15:45:10.770Z"
      },
      {
        "duration": 7,
        "start_time": "2022-05-16T15:45:10.805Z"
      },
      {
        "duration": 11,
        "start_time": "2022-05-16T15:45:10.814Z"
      },
      {
        "duration": 4,
        "start_time": "2022-05-16T15:45:10.827Z"
      },
      {
        "duration": 113,
        "start_time": "2022-05-16T15:45:10.834Z"
      },
      {
        "duration": 4016,
        "start_time": "2022-05-16T15:45:10.949Z"
      },
      {
        "duration": 991,
        "start_time": "2022-05-18T08:26:41.244Z"
      },
      {
        "duration": 111,
        "start_time": "2022-05-18T08:26:44.067Z"
      },
      {
        "duration": 15,
        "start_time": "2022-05-18T08:26:45.790Z"
      },
      {
        "duration": 682,
        "start_time": "2022-05-18T09:06:57.819Z"
      },
      {
        "duration": 342,
        "start_time": "2022-05-18T09:07:34.091Z"
      },
      {
        "duration": 4,
        "start_time": "2022-05-18T09:08:09.156Z"
      },
      {
        "duration": 110,
        "start_time": "2022-05-18T09:08:22.622Z"
      },
      {
        "duration": 3,
        "start_time": "2022-05-18T09:09:37.760Z"
      },
      {
        "duration": 9,
        "start_time": "2022-05-18T09:09:40.458Z"
      },
      {
        "duration": 4,
        "start_time": "2022-05-18T09:10:18.679Z"
      },
      {
        "duration": 3,
        "start_time": "2022-05-18T09:11:38.819Z"
      },
      {
        "duration": 4,
        "start_time": "2022-05-18T09:11:46.982Z"
      },
      {
        "duration": 391,
        "start_time": "2022-05-18T09:12:26.301Z"
      },
      {
        "duration": 4,
        "start_time": "2022-05-18T09:13:11.697Z"
      },
      {
        "duration": 2,
        "start_time": "2022-05-18T09:13:19.759Z"
      },
      {
        "duration": 393,
        "start_time": "2022-05-18T09:13:21.118Z"
      },
      {
        "duration": 4,
        "start_time": "2022-05-18T09:13:32.028Z"
      },
      {
        "duration": 347,
        "start_time": "2022-05-18T09:13:33.666Z"
      },
      {
        "duration": 164,
        "start_time": "2022-05-18T09:15:28.311Z"
      },
      {
        "duration": 181,
        "start_time": "2022-05-18T09:15:34.999Z"
      },
      {
        "duration": 182,
        "start_time": "2022-05-18T09:15:44.050Z"
      },
      {
        "duration": 9,
        "start_time": "2022-05-18T09:15:49.551Z"
      },
      {
        "duration": 182,
        "start_time": "2022-05-18T09:15:52.004Z"
      },
      {
        "duration": 368,
        "start_time": "2022-05-18T09:16:06.338Z"
      },
      {
        "duration": 423,
        "start_time": "2022-05-18T09:16:30.361Z"
      },
      {
        "duration": 359,
        "start_time": "2022-05-18T09:16:53.452Z"
      },
      {
        "duration": 14,
        "start_time": "2022-05-18T09:18:03.972Z"
      },
      {
        "duration": 14,
        "start_time": "2022-05-18T09:18:16.339Z"
      },
      {
        "duration": 346,
        "start_time": "2022-05-18T09:18:21.766Z"
      },
      {
        "duration": 18,
        "start_time": "2022-05-18T09:24:43.791Z"
      },
      {
        "duration": 178,
        "start_time": "2022-05-18T09:24:51.678Z"
      },
      {
        "duration": 14,
        "start_time": "2022-05-18T09:25:18.993Z"
      },
      {
        "duration": 210,
        "start_time": "2022-05-18T09:25:25.406Z"
      },
      {
        "duration": 9,
        "start_time": "2022-05-18T09:25:32.897Z"
      },
      {
        "duration": 15,
        "start_time": "2022-05-18T09:25:37.917Z"
      },
      {
        "duration": 16,
        "start_time": "2022-05-18T09:25:48.728Z"
      },
      {
        "duration": 127,
        "start_time": "2022-05-18T09:25:55.683Z"
      },
      {
        "duration": 139,
        "start_time": "2022-05-18T09:26:17.581Z"
      },
      {
        "duration": 173,
        "start_time": "2022-05-18T09:26:46.088Z"
      },
      {
        "duration": 348,
        "start_time": "2022-05-18T09:26:58.742Z"
      },
      {
        "duration": 155,
        "start_time": "2022-05-18T09:28:17.554Z"
      },
      {
        "duration": 169,
        "start_time": "2022-05-18T09:28:31.252Z"
      },
      {
        "duration": 2,
        "start_time": "2022-05-18T09:28:48.604Z"
      },
      {
        "duration": 264,
        "start_time": "2022-05-18T09:29:13.800Z"
      },
      {
        "duration": 148,
        "start_time": "2022-05-18T09:29:23.795Z"
      },
      {
        "duration": 5,
        "start_time": "2022-05-18T09:31:10.369Z"
      },
      {
        "duration": 9,
        "start_time": "2022-05-18T09:34:30.563Z"
      },
      {
        "duration": 221,
        "start_time": "2022-05-18T09:34:44.958Z"
      },
      {
        "duration": 13153,
        "start_time": "2022-05-18T09:34:53.043Z"
      },
      {
        "duration": 5,
        "start_time": "2022-05-18T09:41:37.062Z"
      },
      {
        "duration": 522,
        "start_time": "2022-05-18T09:41:40.832Z"
      },
      {
        "duration": 333,
        "start_time": "2022-05-18T09:41:44.902Z"
      },
      {
        "duration": 349,
        "start_time": "2022-05-18T09:42:03.768Z"
      },
      {
        "duration": 330,
        "start_time": "2022-05-18T09:42:09.847Z"
      },
      {
        "duration": 346,
        "start_time": "2022-05-18T09:42:14.612Z"
      },
      {
        "duration": 441,
        "start_time": "2022-05-18T09:42:27.473Z"
      },
      {
        "duration": 444,
        "start_time": "2022-05-18T09:42:33.453Z"
      },
      {
        "duration": 495,
        "start_time": "2022-05-18T09:44:01.577Z"
      },
      {
        "duration": 555,
        "start_time": "2022-05-18T09:44:49.744Z"
      },
      {
        "duration": 582,
        "start_time": "2022-05-18T09:45:24.452Z"
      },
      {
        "duration": 400,
        "start_time": "2022-05-18T09:47:17.850Z"
      },
      {
        "duration": 222,
        "start_time": "2022-05-18T09:48:48.472Z"
      },
      {
        "duration": 594,
        "start_time": "2022-05-18T09:48:52.652Z"
      },
      {
        "duration": 531,
        "start_time": "2022-05-18T09:48:57.244Z"
      },
      {
        "duration": 521,
        "start_time": "2022-05-18T09:49:51.737Z"
      },
      {
        "duration": 502,
        "start_time": "2022-05-18T09:50:17.958Z"
      },
      {
        "duration": 547,
        "start_time": "2022-05-18T09:50:21.667Z"
      },
      {
        "duration": 512,
        "start_time": "2022-05-18T09:50:25.692Z"
      },
      {
        "duration": 532,
        "start_time": "2022-05-18T09:50:31.268Z"
      },
      {
        "duration": 33,
        "start_time": "2022-05-18T09:51:43.989Z"
      },
      {
        "duration": 507,
        "start_time": "2022-05-18T09:52:10.337Z"
      },
      {
        "duration": 544,
        "start_time": "2022-05-18T09:52:24.988Z"
      },
      {
        "duration": 557,
        "start_time": "2022-05-18T09:52:47.268Z"
      },
      {
        "duration": 4,
        "start_time": "2022-05-18T09:52:52.109Z"
      },
      {
        "duration": 616,
        "start_time": "2022-05-18T09:52:54.033Z"
      },
      {
        "duration": 5,
        "start_time": "2022-05-18T09:53:01.434Z"
      },
      {
        "duration": 542,
        "start_time": "2022-05-18T09:53:03.925Z"
      },
      {
        "duration": 5,
        "start_time": "2022-05-18T09:53:12.257Z"
      },
      {
        "duration": 536,
        "start_time": "2022-05-18T09:53:14.553Z"
      },
      {
        "duration": 517,
        "start_time": "2022-05-18T09:53:17.236Z"
      },
      {
        "duration": 547,
        "start_time": "2022-05-18T09:53:34.044Z"
      },
      {
        "duration": 884,
        "start_time": "2022-05-18T09:54:39.920Z"
      },
      {
        "duration": 557,
        "start_time": "2022-05-18T09:55:19.863Z"
      },
      {
        "duration": 513,
        "start_time": "2022-05-18T09:55:36.333Z"
      },
      {
        "duration": 5,
        "start_time": "2022-05-18T10:21:18.185Z"
      },
      {
        "duration": 9,
        "start_time": "2022-05-18T10:21:33.943Z"
      },
      {
        "duration": 38,
        "start_time": "2022-05-18T10:21:36.252Z"
      },
      {
        "duration": 3,
        "start_time": "2022-05-18T10:21:37.672Z"
      },
      {
        "duration": 5,
        "start_time": "2022-05-18T10:22:02.789Z"
      },
      {
        "duration": 5,
        "start_time": "2022-05-18T10:22:10.389Z"
      },
      {
        "duration": 7,
        "start_time": "2022-05-18T10:22:24.982Z"
      },
      {
        "duration": 6,
        "start_time": "2022-05-18T10:22:32.402Z"
      },
      {
        "duration": 6,
        "start_time": "2022-05-18T10:23:24.046Z"
      },
      {
        "duration": 6,
        "start_time": "2022-05-18T10:24:39.659Z"
      },
      {
        "duration": 12,
        "start_time": "2022-05-18T10:26:37.717Z"
      },
      {
        "duration": 8,
        "start_time": "2022-05-18T10:26:44.725Z"
      },
      {
        "duration": 7,
        "start_time": "2022-05-18T10:36:08.805Z"
      },
      {
        "duration": 4,
        "start_time": "2022-05-18T10:36:14.656Z"
      },
      {
        "duration": 8,
        "start_time": "2022-05-18T10:38:40.369Z"
      },
      {
        "duration": 7,
        "start_time": "2022-05-18T10:42:42.993Z"
      },
      {
        "duration": 4,
        "start_time": "2022-05-18T10:42:44.899Z"
      },
      {
        "duration": 8,
        "start_time": "2022-05-18T10:46:43.490Z"
      },
      {
        "duration": 7,
        "start_time": "2022-05-18T10:46:54.169Z"
      },
      {
        "duration": 9,
        "start_time": "2022-05-18T10:47:05.543Z"
      },
      {
        "duration": 37,
        "start_time": "2022-05-18T10:52:17.941Z"
      },
      {
        "duration": 9,
        "start_time": "2022-05-18T10:52:23.605Z"
      },
      {
        "duration": 7,
        "start_time": "2022-05-18T10:52:57.865Z"
      },
      {
        "duration": 17,
        "start_time": "2022-05-18T10:53:40.019Z"
      },
      {
        "duration": 8,
        "start_time": "2022-05-18T10:53:48.374Z"
      },
      {
        "duration": 11,
        "start_time": "2022-05-18T10:54:46.948Z"
      },
      {
        "duration": 9,
        "start_time": "2022-05-18T10:56:55.161Z"
      },
      {
        "duration": 11,
        "start_time": "2022-05-18T10:57:15.457Z"
      },
      {
        "duration": 10,
        "start_time": "2022-05-18T11:06:32.769Z"
      },
      {
        "duration": 10,
        "start_time": "2022-05-18T11:09:24.147Z"
      },
      {
        "duration": 5,
        "start_time": "2022-05-18T11:09:39.169Z"
      },
      {
        "duration": 5,
        "start_time": "2022-05-18T11:10:45.701Z"
      },
      {
        "duration": 10,
        "start_time": "2022-05-18T11:11:37.756Z"
      },
      {
        "duration": 15,
        "start_time": "2022-05-18T11:11:54.653Z"
      },
      {
        "duration": 9,
        "start_time": "2022-05-18T11:13:22.408Z"
      },
      {
        "duration": 9,
        "start_time": "2022-05-18T11:13:37.676Z"
      },
      {
        "duration": 2,
        "start_time": "2022-05-18T11:13:45.787Z"
      },
      {
        "duration": 13,
        "start_time": "2022-05-18T11:18:25.374Z"
      },
      {
        "duration": 3,
        "start_time": "2022-05-18T11:18:37.917Z"
      },
      {
        "duration": 2,
        "start_time": "2022-05-18T11:18:48.301Z"
      },
      {
        "duration": 18,
        "start_time": "2022-05-18T11:25:39.204Z"
      },
      {
        "duration": 19,
        "start_time": "2022-05-18T11:26:35.927Z"
      },
      {
        "duration": 17,
        "start_time": "2022-05-18T11:27:08.885Z"
      },
      {
        "duration": 18,
        "start_time": "2022-05-18T11:27:20.344Z"
      },
      {
        "duration": 18,
        "start_time": "2022-05-18T11:27:24.921Z"
      },
      {
        "duration": 19,
        "start_time": "2022-05-18T11:27:28.127Z"
      },
      {
        "duration": 18,
        "start_time": "2022-05-18T11:27:32.037Z"
      },
      {
        "duration": 15,
        "start_time": "2022-05-18T11:27:36.085Z"
      },
      {
        "duration": 24,
        "start_time": "2022-05-18T11:27:39.886Z"
      },
      {
        "duration": 17,
        "start_time": "2022-05-18T11:27:41.687Z"
      },
      {
        "duration": 18,
        "start_time": "2022-05-18T11:27:42.710Z"
      },
      {
        "duration": 13,
        "start_time": "2022-05-18T11:28:19.297Z"
      },
      {
        "duration": 14,
        "start_time": "2022-05-18T11:28:22.262Z"
      },
      {
        "duration": 13,
        "start_time": "2022-05-18T11:28:25.612Z"
      },
      {
        "duration": 17,
        "start_time": "2022-05-18T11:28:28.920Z"
      },
      {
        "duration": 17,
        "start_time": "2022-05-18T11:28:31.477Z"
      },
      {
        "duration": 14,
        "start_time": "2022-05-18T11:28:42.675Z"
      },
      {
        "duration": 19,
        "start_time": "2022-05-18T11:28:50.155Z"
      },
      {
        "duration": 18,
        "start_time": "2022-05-18T11:28:53.478Z"
      },
      {
        "duration": 23,
        "start_time": "2022-05-18T11:28:56.883Z"
      },
      {
        "duration": 17,
        "start_time": "2022-05-18T11:29:00.889Z"
      },
      {
        "duration": 38,
        "start_time": "2022-05-18T11:30:20.891Z"
      },
      {
        "duration": 166,
        "start_time": "2022-05-18T11:30:23.753Z"
      },
      {
        "duration": 118,
        "start_time": "2022-05-18T11:31:51.926Z"
      },
      {
        "duration": 119,
        "start_time": "2022-05-18T11:31:53.251Z"
      },
      {
        "duration": 105,
        "start_time": "2022-05-18T11:34:09.109Z"
      },
      {
        "duration": 106,
        "start_time": "2022-05-18T11:34:59.219Z"
      },
      {
        "duration": 200,
        "start_time": "2022-05-18T11:35:15.883Z"
      },
      {
        "duration": 249,
        "start_time": "2022-05-18T11:35:19.448Z"
      },
      {
        "duration": 962,
        "start_time": "2022-05-18T11:35:22.425Z"
      },
      {
        "duration": 44,
        "start_time": "2022-05-18T11:35:27.635Z"
      },
      {
        "duration": 49,
        "start_time": "2022-05-18T11:35:35.035Z"
      },
      {
        "duration": 59,
        "start_time": "2022-05-18T11:35:38.524Z"
      },
      {
        "duration": 56,
        "start_time": "2022-05-18T11:35:45.003Z"
      },
      {
        "duration": 57,
        "start_time": "2022-05-18T11:36:22.143Z"
      },
      {
        "duration": 61,
        "start_time": "2022-05-18T11:36:26.083Z"
      },
      {
        "duration": 57,
        "start_time": "2022-05-18T11:36:29.484Z"
      },
      {
        "duration": 71,
        "start_time": "2022-05-18T11:54:47.111Z"
      },
      {
        "duration": 102,
        "start_time": "2022-05-18T11:54:51.924Z"
      },
      {
        "duration": 216,
        "start_time": "2022-05-18T11:54:55.436Z"
      },
      {
        "duration": 150,
        "start_time": "2022-05-18T11:54:57.755Z"
      },
      {
        "duration": 179,
        "start_time": "2022-05-18T11:55:00.532Z"
      },
      {
        "duration": 55,
        "start_time": "2022-05-18T11:55:03.648Z"
      },
      {
        "duration": 210,
        "start_time": "2022-05-18T11:55:06.638Z"
      },
      {
        "duration": 195,
        "start_time": "2022-05-18T11:55:08.776Z"
      },
      {
        "duration": 68,
        "start_time": "2022-05-18T11:55:12.314Z"
      },
      {
        "duration": 66,
        "start_time": "2022-05-18T11:57:52.871Z"
      },
      {
        "duration": 34,
        "start_time": "2022-05-18T11:58:08.947Z"
      },
      {
        "duration": 73,
        "start_time": "2022-05-18T11:58:11.620Z"
      },
      {
        "duration": 10,
        "start_time": "2022-05-18T11:58:28.758Z"
      },
      {
        "duration": 3,
        "start_time": "2022-05-18T11:58:39.698Z"
      },
      {
        "duration": 226,
        "start_time": "2022-05-18T11:58:48.792Z"
      },
      {
        "duration": 287,
        "start_time": "2022-05-18T11:58:56.816Z"
      },
      {
        "duration": 69,
        "start_time": "2022-05-18T11:58:58.663Z"
      },
      {
        "duration": 439,
        "start_time": "2022-05-18T11:59:20.209Z"
      },
      {
        "duration": 1181,
        "start_time": "2022-05-18T11:59:24.606Z"
      },
      {
        "duration": 253,
        "start_time": "2022-05-18T11:59:34.433Z"
      },
      {
        "duration": 265,
        "start_time": "2022-05-18T11:59:37.171Z"
      },
      {
        "duration": 67,
        "start_time": "2022-05-18T11:59:47.554Z"
      },
      {
        "duration": 259,
        "start_time": "2022-05-18T12:00:45.950Z"
      },
      {
        "duration": 21,
        "start_time": "2022-05-18T12:00:57.118Z"
      },
      {
        "duration": 68,
        "start_time": "2022-05-18T12:00:58.947Z"
      },
      {
        "duration": 266,
        "start_time": "2022-05-18T12:01:18.544Z"
      },
      {
        "duration": 270,
        "start_time": "2022-05-18T12:01:25.448Z"
      },
      {
        "duration": 264,
        "start_time": "2022-05-18T12:01:36.394Z"
      },
      {
        "duration": 75,
        "start_time": "2022-05-18T12:01:37.946Z"
      },
      {
        "duration": 9,
        "start_time": "2022-05-18T12:08:51.431Z"
      },
      {
        "duration": 11,
        "start_time": "2022-05-18T12:09:07.303Z"
      },
      {
        "duration": 4,
        "start_time": "2022-05-18T12:09:14.873Z"
      },
      {
        "duration": 19425,
        "start_time": "2022-05-18T12:09:19.705Z"
      },
      {
        "duration": 4,
        "start_time": "2022-05-18T12:10:16.869Z"
      },
      {
        "duration": 10491,
        "start_time": "2022-05-18T12:10:25.536Z"
      },
      {
        "duration": 616,
        "start_time": "2022-05-18T12:10:45.842Z"
      },
      {
        "duration": 946,
        "start_time": "2022-05-18T12:10:59.822Z"
      },
      {
        "duration": 2677,
        "start_time": "2022-05-18T12:11:12.086Z"
      },
      {
        "duration": 68,
        "start_time": "2022-05-18T12:11:19.683Z"
      },
      {
        "duration": 721,
        "start_time": "2022-05-18T12:11:22.621Z"
      },
      {
        "duration": 674,
        "start_time": "2022-05-18T12:11:29.947Z"
      },
      {
        "duration": 78,
        "start_time": "2022-05-18T12:11:34.512Z"
      },
      {
        "duration": 3,
        "start_time": "2022-05-18T12:12:22.903Z"
      },
      {
        "duration": 51,
        "start_time": "2022-05-18T12:15:29.590Z"
      },
      {
        "duration": 56,
        "start_time": "2022-05-18T12:16:01.194Z"
      },
      {
        "duration": 54,
        "start_time": "2022-05-18T12:16:21.481Z"
      },
      {
        "duration": 3,
        "start_time": "2022-05-18T13:46:49.359Z"
      },
      {
        "duration": 36,
        "start_time": "2022-05-18T14:25:36.166Z"
      },
      {
        "duration": 1690,
        "start_time": "2022-05-18T14:25:39.550Z"
      },
      {
        "duration": 59,
        "start_time": "2022-05-18T14:26:53.211Z"
      },
      {
        "duration": 60,
        "start_time": "2022-05-18T14:27:22.342Z"
      },
      {
        "duration": 975,
        "start_time": "2022-05-18T15:41:33.380Z"
      },
      {
        "duration": 1630,
        "start_time": "2022-05-18T15:41:42.880Z"
      },
      {
        "duration": 44,
        "start_time": "2022-05-18T15:41:52.012Z"
      },
      {
        "duration": 108,
        "start_time": "2022-05-18T15:41:57.412Z"
      },
      {
        "duration": 136,
        "start_time": "2022-05-18T15:42:07.573Z"
      },
      {
        "duration": 38,
        "start_time": "2022-05-18T15:42:15.387Z"
      },
      {
        "duration": 57,
        "start_time": "2022-05-18T15:42:22.473Z"
      },
      {
        "duration": 2012,
        "start_time": "2022-05-18T15:42:34.759Z"
      },
      {
        "duration": 1630,
        "start_time": "2022-05-18T15:42:44.597Z"
      },
      {
        "duration": 76,
        "start_time": "2022-05-18T15:43:43.097Z"
      },
      {
        "duration": 28134,
        "start_time": "2022-05-18T15:45:25.300Z"
      },
      {
        "duration": 1794,
        "start_time": "2022-05-18T15:46:01.327Z"
      },
      {
        "duration": 1534,
        "start_time": "2022-05-18T16:09:48.933Z"
      },
      {
        "duration": 108,
        "start_time": "2022-05-18T16:09:50.469Z"
      },
      {
        "duration": 17,
        "start_time": "2022-05-18T16:09:50.579Z"
      },
      {
        "duration": 11,
        "start_time": "2022-05-18T16:09:50.598Z"
      },
      {
        "duration": 558,
        "start_time": "2022-05-18T16:09:50.611Z"
      },
      {
        "duration": 528,
        "start_time": "2022-05-18T16:09:51.170Z"
      },
      {
        "duration": 2,
        "start_time": "2022-05-18T16:09:51.700Z"
      },
      {
        "duration": 5,
        "start_time": "2022-05-18T16:09:51.703Z"
      },
      {
        "duration": 12,
        "start_time": "2022-05-18T16:09:51.709Z"
      },
      {
        "duration": 19,
        "start_time": "2022-05-18T16:09:51.742Z"
      },
      {
        "duration": 12,
        "start_time": "2022-05-18T16:09:51.763Z"
      },
      {
        "duration": 8,
        "start_time": "2022-05-18T16:09:51.776Z"
      },
      {
        "duration": 41,
        "start_time": "2022-05-18T16:09:51.785Z"
      },
      {
        "duration": 1657,
        "start_time": "2022-05-18T16:09:51.828Z"
      },
      {
        "duration": 118,
        "start_time": "2022-05-18T16:09:53.487Z"
      },
      {
        "duration": 69,
        "start_time": "2022-05-18T16:09:53.607Z"
      },
      {
        "duration": 3,
        "start_time": "2022-05-18T16:09:53.678Z"
      },
      {
        "duration": 72,
        "start_time": "2022-05-18T16:09:53.682Z"
      },
      {
        "duration": 3,
        "start_time": "2022-05-18T16:09:53.756Z"
      },
      {
        "duration": 546,
        "start_time": "2022-05-18T16:11:28.172Z"
      },
      {
        "duration": 10,
        "start_time": "2022-05-18T16:14:14.898Z"
      },
      {
        "duration": 10,
        "start_time": "2022-05-18T16:14:19.816Z"
      },
      {
        "duration": 9,
        "start_time": "2022-05-18T16:14:25.783Z"
      },
      {
        "duration": 1270,
        "start_time": "2022-05-18T16:19:53.484Z"
      },
      {
        "duration": 30,
        "start_time": "2022-05-18T16:19:54.756Z"
      },
      {
        "duration": 17,
        "start_time": "2022-05-18T16:19:54.788Z"
      },
      {
        "duration": 4,
        "start_time": "2022-05-18T16:19:54.807Z"
      },
      {
        "duration": 563,
        "start_time": "2022-05-18T16:19:54.813Z"
      },
      {
        "duration": 542,
        "start_time": "2022-05-18T16:19:55.377Z"
      },
      {
        "duration": 2,
        "start_time": "2022-05-18T16:19:55.920Z"
      },
      {
        "duration": 9,
        "start_time": "2022-05-18T16:19:55.943Z"
      },
      {
        "duration": 9,
        "start_time": "2022-05-18T16:19:55.954Z"
      },
      {
        "duration": 8,
        "start_time": "2022-05-18T16:19:55.965Z"
      },
      {
        "duration": 5,
        "start_time": "2022-05-18T16:19:55.974Z"
      },
      {
        "duration": 6,
        "start_time": "2022-05-18T16:19:55.981Z"
      },
      {
        "duration": 59,
        "start_time": "2022-05-18T16:19:55.988Z"
      },
      {
        "duration": 1807,
        "start_time": "2022-05-18T16:19:56.052Z"
      },
      {
        "duration": 124,
        "start_time": "2022-05-18T16:19:57.861Z"
      },
      {
        "duration": 68,
        "start_time": "2022-05-18T16:19:57.987Z"
      },
      {
        "duration": 3,
        "start_time": "2022-05-18T16:19:58.057Z"
      },
      {
        "duration": 57,
        "start_time": "2022-05-18T16:19:58.062Z"
      },
      {
        "duration": 2,
        "start_time": "2022-05-18T16:19:58.121Z"
      },
      {
        "duration": 51,
        "start_time": "2022-05-19T08:45:48.212Z"
      },
      {
        "duration": 81,
        "start_time": "2022-05-19T10:51:16.515Z"
      },
      {
        "duration": 1652,
        "start_time": "2022-05-19T10:51:19.538Z"
      },
      {
        "duration": 133,
        "start_time": "2022-05-19T10:51:22.685Z"
      },
      {
        "duration": 19,
        "start_time": "2022-05-19T10:51:23.829Z"
      },
      {
        "duration": 19,
        "start_time": "2022-05-19T10:51:35.145Z"
      },
      {
        "duration": 16,
        "start_time": "2022-05-19T10:51:43.632Z"
      },
      {
        "duration": 15,
        "start_time": "2022-05-19T10:51:48.217Z"
      },
      {
        "duration": 15,
        "start_time": "2022-05-19T10:51:51.556Z"
      },
      {
        "duration": 14,
        "start_time": "2022-05-19T10:52:03.627Z"
      },
      {
        "duration": 41,
        "start_time": "2022-05-19T12:42:50.394Z"
      },
      {
        "duration": 3,
        "start_time": "2022-05-19T12:43:25.984Z"
      },
      {
        "duration": 1325,
        "start_time": "2022-05-19T12:47:48.527Z"
      },
      {
        "duration": 33,
        "start_time": "2022-05-19T12:47:50.454Z"
      },
      {
        "duration": 18,
        "start_time": "2022-05-19T12:47:52.249Z"
      },
      {
        "duration": 5,
        "start_time": "2022-05-19T12:47:57.538Z"
      },
      {
        "duration": 568,
        "start_time": "2022-05-19T12:47:59.056Z"
      },
      {
        "duration": 636,
        "start_time": "2022-05-19T12:48:01.091Z"
      },
      {
        "duration": 3,
        "start_time": "2022-05-19T12:48:03.617Z"
      },
      {
        "duration": 2,
        "start_time": "2022-05-19T12:48:06.975Z"
      },
      {
        "duration": 10,
        "start_time": "2022-05-19T12:48:08.449Z"
      },
      {
        "duration": 12,
        "start_time": "2022-05-19T12:48:32.189Z"
      },
      {
        "duration": 9,
        "start_time": "2022-05-19T12:49:17.427Z"
      },
      {
        "duration": 7,
        "start_time": "2022-05-19T12:49:19.583Z"
      },
      {
        "duration": 124,
        "start_time": "2022-05-19T12:49:39.318Z"
      },
      {
        "duration": 5,
        "start_time": "2022-05-19T12:49:42.813Z"
      },
      {
        "duration": 43,
        "start_time": "2022-05-19T12:49:43.795Z"
      },
      {
        "duration": 58,
        "start_time": "2022-05-19T12:51:21.869Z"
      },
      {
        "duration": 1894,
        "start_time": "2022-05-19T12:51:30.384Z"
      },
      {
        "duration": 117,
        "start_time": "2022-05-19T12:51:33.940Z"
      },
      {
        "duration": 58,
        "start_time": "2022-05-19T12:51:39.172Z"
      },
      {
        "duration": 59,
        "start_time": "2022-05-19T12:52:13.355Z"
      },
      {
        "duration": 46,
        "start_time": "2022-05-19T12:52:24.949Z"
      },
      {
        "duration": 143,
        "start_time": "2022-05-19T12:52:43.812Z"
      },
      {
        "duration": 1802,
        "start_time": "2022-05-19T12:52:49.188Z"
      },
      {
        "duration": 39,
        "start_time": "2022-05-19T12:52:53.216Z"
      },
      {
        "duration": 47,
        "start_time": "2022-05-19T12:57:16.777Z"
      },
      {
        "duration": 46,
        "start_time": "2022-05-19T12:57:36.792Z"
      },
      {
        "duration": 76,
        "start_time": "2022-05-19T12:58:24.894Z"
      },
      {
        "duration": 92,
        "start_time": "2022-05-19T12:58:57.056Z"
      },
      {
        "duration": 87,
        "start_time": "2022-05-19T12:59:17.225Z"
      },
      {
        "duration": 93,
        "start_time": "2022-05-19T12:59:31.251Z"
      },
      {
        "duration": 81,
        "start_time": "2022-05-19T13:00:39.239Z"
      },
      {
        "duration": 182,
        "start_time": "2022-05-19T13:02:19.426Z"
      },
      {
        "duration": 100,
        "start_time": "2022-05-19T13:02:34.069Z"
      },
      {
        "duration": 82,
        "start_time": "2022-05-19T13:02:42.833Z"
      },
      {
        "duration": 1878,
        "start_time": "2022-05-19T13:07:30.793Z"
      },
      {
        "duration": 24,
        "start_time": "2022-05-19T13:08:07.700Z"
      },
      {
        "duration": 1828,
        "start_time": "2022-05-19T13:08:15.822Z"
      },
      {
        "duration": 1816,
        "start_time": "2022-05-19T13:08:56.530Z"
      },
      {
        "duration": 47,
        "start_time": "2022-05-19T13:09:21.591Z"
      },
      {
        "duration": 4,
        "start_time": "2022-05-19T13:25:47.339Z"
      },
      {
        "duration": 9,
        "start_time": "2022-05-19T13:27:23.577Z"
      },
      {
        "duration": 4,
        "start_time": "2022-05-19T13:52:43.077Z"
      },
      {
        "duration": 5,
        "start_time": "2022-05-19T13:53:28.438Z"
      },
      {
        "duration": 3,
        "start_time": "2022-05-19T13:54:16.515Z"
      },
      {
        "duration": 5,
        "start_time": "2022-05-19T13:54:21.318Z"
      },
      {
        "duration": 60,
        "start_time": "2022-05-19T13:55:37.322Z"
      },
      {
        "duration": 12,
        "start_time": "2022-05-19T13:56:16.733Z"
      },
      {
        "duration": 12,
        "start_time": "2022-05-19T13:56:27.617Z"
      },
      {
        "duration": 4,
        "start_time": "2022-05-19T13:56:32.546Z"
      },
      {
        "duration": 4,
        "start_time": "2022-05-19T13:56:50.681Z"
      },
      {
        "duration": 29,
        "start_time": "2022-05-19T13:57:46.625Z"
      },
      {
        "duration": 5,
        "start_time": "2022-05-19T13:57:49.723Z"
      },
      {
        "duration": 31,
        "start_time": "2022-05-19T13:59:08.181Z"
      },
      {
        "duration": 41,
        "start_time": "2022-05-19T14:14:09.653Z"
      },
      {
        "duration": 1464,
        "start_time": "2023-02-23T04:27:41.446Z"
      },
      {
        "duration": 124,
        "start_time": "2023-02-23T04:27:42.912Z"
      },
      {
        "duration": 16,
        "start_time": "2023-02-23T04:27:43.038Z"
      },
      {
        "duration": 4,
        "start_time": "2023-02-23T04:27:43.056Z"
      },
      {
        "duration": 547,
        "start_time": "2023-02-23T04:27:43.062Z"
      },
      {
        "duration": 495,
        "start_time": "2023-02-23T04:27:43.611Z"
      },
      {
        "duration": 2,
        "start_time": "2023-02-23T04:27:44.107Z"
      },
      {
        "duration": 9,
        "start_time": "2023-02-23T04:27:44.111Z"
      },
      {
        "duration": 8,
        "start_time": "2023-02-23T04:27:44.121Z"
      },
      {
        "duration": 6,
        "start_time": "2023-02-23T04:27:44.132Z"
      },
      {
        "duration": 11,
        "start_time": "2023-02-23T04:27:44.139Z"
      },
      {
        "duration": 6,
        "start_time": "2023-02-23T04:27:44.152Z"
      },
      {
        "duration": 12,
        "start_time": "2023-02-23T04:27:44.160Z"
      },
      {
        "duration": 74,
        "start_time": "2023-02-23T04:27:44.174Z"
      },
      {
        "duration": 1534,
        "start_time": "2023-02-23T04:27:44.250Z"
      },
      {
        "duration": 100,
        "start_time": "2023-02-23T04:27:45.785Z"
      },
      {
        "duration": 2,
        "start_time": "2023-02-23T04:27:45.891Z"
      },
      {
        "duration": 17,
        "start_time": "2023-02-23T04:27:45.895Z"
      },
      {
        "duration": 57,
        "start_time": "2023-02-23T04:27:45.914Z"
      },
      {
        "duration": 6,
        "start_time": "2023-02-23T04:27:45.973Z"
      }
    ],
    "kernelspec": {
      "display_name": "Python 3 (ipykernel)",
      "language": "python",
      "name": "python3"
    },
    "language_info": {
      "codemirror_mode": {
        "name": "ipython",
        "version": 3
      },
      "file_extension": ".py",
      "mimetype": "text/x-python",
      "name": "python",
      "nbconvert_exporter": "python",
      "pygments_lexer": "ipython3",
      "version": "3.9.5"
    },
    "toc": {
      "base_numbering": 1,
      "nav_menu": {},
      "number_sections": true,
      "sideBar": true,
      "skip_h1_title": true,
      "title_cell": "Table of Contents",
      "title_sidebar": "Contents",
      "toc_cell": false,
      "toc_position": {},
      "toc_section_display": true,
      "toc_window_display": true
    },
    "colab": {
      "provenance": [],
      "toc_visible": true
    }
  },
  "nbformat": 4,
  "nbformat_minor": 0
}