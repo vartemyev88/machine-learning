{
  "cells": [
    {
      "cell_type": "markdown",
      "metadata": {
        "id": "CqazkNDMEuPe"
      },
      "source": [
        "# Project description\n",
        "\n",
        "**Selecting a location for a well**\n",
        "\n",
        "As an employee of the mining company **GlavRosGosNeft** you are tasked with identifying the most suitable location for a new oil well.\n",
        "\n",
        "You have access to oil samples from three different regions, each containing `10,000` oil fields where the quality and quantity of oil reserves have been assessed. Your objective is to develop a machine learning model that can assist in determining the region that will yield the highest profits. In addition, you need to utilize the *Bootstrap* technique to analyze potential profits and risks.\n",
        "\n",
        "The following are the necessary steps to choose the optimal location:\n",
        "\n",
        "- Conduct a search for oil deposits within the selected region and gather data on the relevant features.\n",
        "- Create a model that estimates the volume of reserves.\n",
        "- Select deposits that have the highest estimated values, taking into consideration the company's budget and the cost of drilling each well.\n",
        "- Total the profit from the selected deposits to determine the final profitability of the project.\n",
        "\n",
        "Task conditions:\n",
        "- Only `linear regression` is suitable for modeling (others are not predictable enough).\n",
        "- `500` locations are surveyed in the region, and `200` of the best are selected for development using machine learning.\n",
        "- The budget for well development in the region is `10 billion` rubles.\n",
        "- At current market prices, one barrel of raw material generates a revenue of `450` rubles. The revenue from each unit of product is `450,000` rubles, as the volume is measured in thousands of barrels.\n",
        "- After assessing the risks, only those regions with a probability of losses below `2.5%` should be considered. The region with the highest average profit among them should be chosen."
      ]
    },
    {
      "cell_type": "markdown",
      "source": [
        "# Table of contents\n",
        "\n",
        "---\n",
        "\n",
        "1. [Data](#data)\n",
        "    * [Exploratory data analysis](#data-eda)\n",
        "    * [Datasets and features](#data-features)\n",
        "2. [Training the model](#training-the-model)\n",
        "3. [Preparing for profit calculation](#preparing-for-profit-calculation)\n",
        "4. [Profit and risk calculation](#profit-and-risk-calculation)\n",
        "5. [Conclusion](#conclusion)\n",
        "---"
      ],
      "metadata": {
        "id": "xtGQ-gMQE-HK"
      }
    },
    {
      "cell_type": "markdown",
      "metadata": {
        "id": "BpMgKmCXEuPf"
      },
      "source": [
        "## Data <a class=\"anchor\" id=\"data\"></a>"
      ]
    },
    {
      "cell_type": "code",
      "execution_count": 1,
      "metadata": {
        "id": "AiuBb8VSEuPg"
      },
      "outputs": [],
      "source": [
        "import matplotlib.pyplot as plt\n",
        "import numpy as np\n",
        "import pandas as pd\n",
        "import seaborn as sns\n",
        "import warnings\n",
        "\n",
        "from scipy import stats as st\n",
        "from sklearn.linear_model import LinearRegression\n",
        "from sklearn.metrics import mean_squared_error\n",
        "from sklearn.model_selection import train_test_split"
      ]
    },
    {
      "cell_type": "code",
      "source": [
        "# Locating the CSV with several locations\n",
        "try:\n",
        "    df_0 = pd.read_csv('/datasets/geo_data_0.csv')\n",
        "    df_1 = pd.read_csv('/datasets/geo_data_1.csv')\n",
        "    df_2 = pd.read_csv('/datasets/geo_data_2.csv')\n",
        "except FileNotFoundError:\n",
        "    try:\n",
        "        df_0 = pd.read_csv('geo_data_0.csv')\n",
        "        df_1 = pd.read_csv('geo_data_1.csv')\n",
        "        df_2 = pd.read_csv('geo_data_2.csv')\n",
        "    except FileNotFoundError:\n",
        "        try: \n",
        "            df_0 = pd.read_csv(r'geo_data_0.csv')\n",
        "            df_1 = pd.read_csv(r'geo_data_1.csv')\n",
        "            df_2 = pd.read_csv(r'geo_data_2.csv')\n",
        "        except FileNotFoundError:\n",
        "            print('File not found')\n",
        "\n",
        "# Ignoring all warnings and displaying all columns in the DF\n",
        "warnings.filterwarnings('ignore')\n",
        "pd.set_option('display.max_columns', None)"
      ],
      "metadata": {
        "id": "m9Wz26WiHgr7"
      },
      "execution_count": 2,
      "outputs": []
    },
    {
      "cell_type": "code",
      "source": [
        "# Iterates through each dataframe using a 'for loop'\n",
        "# The enumerate function is used to get the index of each dataframe\n",
        "dataframes = [df_0, df_1, df_2]\n",
        "\n",
        "for i, df in enumerate(dataframes):\n",
        "    print(f\"Shape of dataframe {i}: {df.shape}\")\n",
        "    print(f\"-\" * 26)\n",
        "    print(f\"Missing values: \\n\")\n",
        "    print(df.isna().mean().sort_values())\n",
        "    print(f\"-\" * 26)\n",
        "    print(f\"Duplicates: \\n\")\n",
        "    print(df.duplicated().sum())\n",
        "    print(f\"-\" * 26)\n",
        "    print(f\"Data types: \\n\")\n",
        "    print(df.dtypes)\n",
        "    print(f\"-\" * 26)\n",
        "    print(df.describe())\n",
        "    display(df.head())\n",
        "    print(f\"\\n\")"
      ],
      "metadata": {
        "colab": {
          "base_uri": "https://localhost:8080/",
          "height": 1000
        },
        "id": "H73kx-DDLVjx",
        "outputId": "ddc539c9-c7fd-43b1-daf4-b1fb2f0f97d5"
      },
      "execution_count": 3,
      "outputs": [
        {
          "output_type": "stream",
          "name": "stdout",
          "text": [
            "Shape of dataframe 0: (100000, 5)\n",
            "--------------------------\n",
            "Missing values: \n",
            "\n",
            "id         0.0\n",
            "f0         0.0\n",
            "f1         0.0\n",
            "f2         0.0\n",
            "product    0.0\n",
            "dtype: float64\n",
            "--------------------------\n",
            "Duplicates: \n",
            "\n",
            "0\n",
            "--------------------------\n",
            "Data types: \n",
            "\n",
            "id          object\n",
            "f0         float64\n",
            "f1         float64\n",
            "f2         float64\n",
            "product    float64\n",
            "dtype: object\n",
            "--------------------------\n",
            "                  f0             f1             f2        product\n",
            "count  100000.000000  100000.000000  100000.000000  100000.000000\n",
            "mean        0.500419       0.250143       2.502647      92.500000\n",
            "std         0.871832       0.504433       3.248248      44.288691\n",
            "min        -1.408605      -0.848218     -12.088328       0.000000\n",
            "25%        -0.072580      -0.200881       0.287748      56.497507\n",
            "50%         0.502360       0.250252       2.515969      91.849972\n",
            "75%         1.073581       0.700646       4.715088     128.564089\n",
            "max         2.362331       1.343769      16.003790     185.364347\n"
          ]
        },
        {
          "output_type": "display_data",
          "data": {
            "text/plain": [
              "      id        f0        f1        f2     product\n",
              "0  txEyH  0.705745 -0.497823  1.221170  105.280062\n",
              "1  2acmU  1.334711 -0.340164  4.365080   73.037750\n",
              "2  409Wp  1.022732  0.151990  1.419926   85.265647\n",
              "3  iJLyR -0.032172  0.139033  2.978566  168.620776\n",
              "4  Xdl7t  1.988431  0.155413  4.751769  154.036647"
            ],
            "text/html": [
              "\n",
              "  <div id=\"df-523bd855-4520-45fe-8656-1bcf0590344d\">\n",
              "    <div class=\"colab-df-container\">\n",
              "      <div>\n",
              "<style scoped>\n",
              "    .dataframe tbody tr th:only-of-type {\n",
              "        vertical-align: middle;\n",
              "    }\n",
              "\n",
              "    .dataframe tbody tr th {\n",
              "        vertical-align: top;\n",
              "    }\n",
              "\n",
              "    .dataframe thead th {\n",
              "        text-align: right;\n",
              "    }\n",
              "</style>\n",
              "<table border=\"1\" class=\"dataframe\">\n",
              "  <thead>\n",
              "    <tr style=\"text-align: right;\">\n",
              "      <th></th>\n",
              "      <th>id</th>\n",
              "      <th>f0</th>\n",
              "      <th>f1</th>\n",
              "      <th>f2</th>\n",
              "      <th>product</th>\n",
              "    </tr>\n",
              "  </thead>\n",
              "  <tbody>\n",
              "    <tr>\n",
              "      <th>0</th>\n",
              "      <td>txEyH</td>\n",
              "      <td>0.705745</td>\n",
              "      <td>-0.497823</td>\n",
              "      <td>1.221170</td>\n",
              "      <td>105.280062</td>\n",
              "    </tr>\n",
              "    <tr>\n",
              "      <th>1</th>\n",
              "      <td>2acmU</td>\n",
              "      <td>1.334711</td>\n",
              "      <td>-0.340164</td>\n",
              "      <td>4.365080</td>\n",
              "      <td>73.037750</td>\n",
              "    </tr>\n",
              "    <tr>\n",
              "      <th>2</th>\n",
              "      <td>409Wp</td>\n",
              "      <td>1.022732</td>\n",
              "      <td>0.151990</td>\n",
              "      <td>1.419926</td>\n",
              "      <td>85.265647</td>\n",
              "    </tr>\n",
              "    <tr>\n",
              "      <th>3</th>\n",
              "      <td>iJLyR</td>\n",
              "      <td>-0.032172</td>\n",
              "      <td>0.139033</td>\n",
              "      <td>2.978566</td>\n",
              "      <td>168.620776</td>\n",
              "    </tr>\n",
              "    <tr>\n",
              "      <th>4</th>\n",
              "      <td>Xdl7t</td>\n",
              "      <td>1.988431</td>\n",
              "      <td>0.155413</td>\n",
              "      <td>4.751769</td>\n",
              "      <td>154.036647</td>\n",
              "    </tr>\n",
              "  </tbody>\n",
              "</table>\n",
              "</div>\n",
              "      <button class=\"colab-df-convert\" onclick=\"convertToInteractive('df-523bd855-4520-45fe-8656-1bcf0590344d')\"\n",
              "              title=\"Convert this dataframe to an interactive table.\"\n",
              "              style=\"display:none;\">\n",
              "        \n",
              "  <svg xmlns=\"http://www.w3.org/2000/svg\" height=\"24px\"viewBox=\"0 0 24 24\"\n",
              "       width=\"24px\">\n",
              "    <path d=\"M0 0h24v24H0V0z\" fill=\"none\"/>\n",
              "    <path d=\"M18.56 5.44l.94 2.06.94-2.06 2.06-.94-2.06-.94-.94-2.06-.94 2.06-2.06.94zm-11 1L8.5 8.5l.94-2.06 2.06-.94-2.06-.94L8.5 2.5l-.94 2.06-2.06.94zm10 10l.94 2.06.94-2.06 2.06-.94-2.06-.94-.94-2.06-.94 2.06-2.06.94z\"/><path d=\"M17.41 7.96l-1.37-1.37c-.4-.4-.92-.59-1.43-.59-.52 0-1.04.2-1.43.59L10.3 9.45l-7.72 7.72c-.78.78-.78 2.05 0 2.83L4 21.41c.39.39.9.59 1.41.59.51 0 1.02-.2 1.41-.59l7.78-7.78 2.81-2.81c.8-.78.8-2.07 0-2.86zM5.41 20L4 18.59l7.72-7.72 1.47 1.35L5.41 20z\"/>\n",
              "  </svg>\n",
              "      </button>\n",
              "      \n",
              "  <style>\n",
              "    .colab-df-container {\n",
              "      display:flex;\n",
              "      flex-wrap:wrap;\n",
              "      gap: 12px;\n",
              "    }\n",
              "\n",
              "    .colab-df-convert {\n",
              "      background-color: #E8F0FE;\n",
              "      border: none;\n",
              "      border-radius: 50%;\n",
              "      cursor: pointer;\n",
              "      display: none;\n",
              "      fill: #1967D2;\n",
              "      height: 32px;\n",
              "      padding: 0 0 0 0;\n",
              "      width: 32px;\n",
              "    }\n",
              "\n",
              "    .colab-df-convert:hover {\n",
              "      background-color: #E2EBFA;\n",
              "      box-shadow: 0px 1px 2px rgba(60, 64, 67, 0.3), 0px 1px 3px 1px rgba(60, 64, 67, 0.15);\n",
              "      fill: #174EA6;\n",
              "    }\n",
              "\n",
              "    [theme=dark] .colab-df-convert {\n",
              "      background-color: #3B4455;\n",
              "      fill: #D2E3FC;\n",
              "    }\n",
              "\n",
              "    [theme=dark] .colab-df-convert:hover {\n",
              "      background-color: #434B5C;\n",
              "      box-shadow: 0px 1px 3px 1px rgba(0, 0, 0, 0.15);\n",
              "      filter: drop-shadow(0px 1px 2px rgba(0, 0, 0, 0.3));\n",
              "      fill: #FFFFFF;\n",
              "    }\n",
              "  </style>\n",
              "\n",
              "      <script>\n",
              "        const buttonEl =\n",
              "          document.querySelector('#df-523bd855-4520-45fe-8656-1bcf0590344d button.colab-df-convert');\n",
              "        buttonEl.style.display =\n",
              "          google.colab.kernel.accessAllowed ? 'block' : 'none';\n",
              "\n",
              "        async function convertToInteractive(key) {\n",
              "          const element = document.querySelector('#df-523bd855-4520-45fe-8656-1bcf0590344d');\n",
              "          const dataTable =\n",
              "            await google.colab.kernel.invokeFunction('convertToInteractive',\n",
              "                                                     [key], {});\n",
              "          if (!dataTable) return;\n",
              "\n",
              "          const docLinkHtml = 'Like what you see? Visit the ' +\n",
              "            '<a target=\"_blank\" href=https://colab.research.google.com/notebooks/data_table.ipynb>data table notebook</a>'\n",
              "            + ' to learn more about interactive tables.';\n",
              "          element.innerHTML = '';\n",
              "          dataTable['output_type'] = 'display_data';\n",
              "          await google.colab.output.renderOutput(dataTable, element);\n",
              "          const docLink = document.createElement('div');\n",
              "          docLink.innerHTML = docLinkHtml;\n",
              "          element.appendChild(docLink);\n",
              "        }\n",
              "      </script>\n",
              "    </div>\n",
              "  </div>\n",
              "  "
            ]
          },
          "metadata": {}
        },
        {
          "output_type": "stream",
          "name": "stdout",
          "text": [
            "\n",
            "\n",
            "Shape of dataframe 1: (100000, 5)\n",
            "--------------------------\n",
            "Missing values: \n",
            "\n",
            "id         0.0\n",
            "f0         0.0\n",
            "f1         0.0\n",
            "f2         0.0\n",
            "product    0.0\n",
            "dtype: float64\n",
            "--------------------------\n",
            "Duplicates: \n",
            "\n",
            "0\n",
            "--------------------------\n",
            "Data types: \n",
            "\n",
            "id          object\n",
            "f0         float64\n",
            "f1         float64\n",
            "f2         float64\n",
            "product    float64\n",
            "dtype: object\n",
            "--------------------------\n",
            "                  f0             f1             f2        product\n",
            "count  100000.000000  100000.000000  100000.000000  100000.000000\n",
            "mean        1.141296      -4.796579       2.494541      68.825000\n",
            "std         8.965932       5.119872       1.703572      45.944423\n",
            "min       -31.609576     -26.358598      -0.018144       0.000000\n",
            "25%        -6.298551      -8.267985       1.000021      26.953261\n",
            "50%         1.153055      -4.813172       2.011479      57.085625\n",
            "75%         8.621015      -1.332816       3.999904     107.813044\n",
            "max        29.421755      18.734063       5.019721     137.945408\n"
          ]
        },
        {
          "output_type": "display_data",
          "data": {
            "text/plain": [
              "      id         f0         f1        f2     product\n",
              "0  kBEdx -15.001348  -8.276000 -0.005876    3.179103\n",
              "1  62mP7  14.272088  -3.475083  0.999183   26.953261\n",
              "2  vyE1P   6.263187  -5.948386  5.001160  134.766305\n",
              "3  KcrkZ -13.081196 -11.506057  4.999415  137.945408\n",
              "4  AHL4O  12.702195  -8.147433  5.004363  134.766305"
            ],
            "text/html": [
              "\n",
              "  <div id=\"df-c7a9773b-f619-4f37-a59d-18e3cd3548c1\">\n",
              "    <div class=\"colab-df-container\">\n",
              "      <div>\n",
              "<style scoped>\n",
              "    .dataframe tbody tr th:only-of-type {\n",
              "        vertical-align: middle;\n",
              "    }\n",
              "\n",
              "    .dataframe tbody tr th {\n",
              "        vertical-align: top;\n",
              "    }\n",
              "\n",
              "    .dataframe thead th {\n",
              "        text-align: right;\n",
              "    }\n",
              "</style>\n",
              "<table border=\"1\" class=\"dataframe\">\n",
              "  <thead>\n",
              "    <tr style=\"text-align: right;\">\n",
              "      <th></th>\n",
              "      <th>id</th>\n",
              "      <th>f0</th>\n",
              "      <th>f1</th>\n",
              "      <th>f2</th>\n",
              "      <th>product</th>\n",
              "    </tr>\n",
              "  </thead>\n",
              "  <tbody>\n",
              "    <tr>\n",
              "      <th>0</th>\n",
              "      <td>kBEdx</td>\n",
              "      <td>-15.001348</td>\n",
              "      <td>-8.276000</td>\n",
              "      <td>-0.005876</td>\n",
              "      <td>3.179103</td>\n",
              "    </tr>\n",
              "    <tr>\n",
              "      <th>1</th>\n",
              "      <td>62mP7</td>\n",
              "      <td>14.272088</td>\n",
              "      <td>-3.475083</td>\n",
              "      <td>0.999183</td>\n",
              "      <td>26.953261</td>\n",
              "    </tr>\n",
              "    <tr>\n",
              "      <th>2</th>\n",
              "      <td>vyE1P</td>\n",
              "      <td>6.263187</td>\n",
              "      <td>-5.948386</td>\n",
              "      <td>5.001160</td>\n",
              "      <td>134.766305</td>\n",
              "    </tr>\n",
              "    <tr>\n",
              "      <th>3</th>\n",
              "      <td>KcrkZ</td>\n",
              "      <td>-13.081196</td>\n",
              "      <td>-11.506057</td>\n",
              "      <td>4.999415</td>\n",
              "      <td>137.945408</td>\n",
              "    </tr>\n",
              "    <tr>\n",
              "      <th>4</th>\n",
              "      <td>AHL4O</td>\n",
              "      <td>12.702195</td>\n",
              "      <td>-8.147433</td>\n",
              "      <td>5.004363</td>\n",
              "      <td>134.766305</td>\n",
              "    </tr>\n",
              "  </tbody>\n",
              "</table>\n",
              "</div>\n",
              "      <button class=\"colab-df-convert\" onclick=\"convertToInteractive('df-c7a9773b-f619-4f37-a59d-18e3cd3548c1')\"\n",
              "              title=\"Convert this dataframe to an interactive table.\"\n",
              "              style=\"display:none;\">\n",
              "        \n",
              "  <svg xmlns=\"http://www.w3.org/2000/svg\" height=\"24px\"viewBox=\"0 0 24 24\"\n",
              "       width=\"24px\">\n",
              "    <path d=\"M0 0h24v24H0V0z\" fill=\"none\"/>\n",
              "    <path d=\"M18.56 5.44l.94 2.06.94-2.06 2.06-.94-2.06-.94-.94-2.06-.94 2.06-2.06.94zm-11 1L8.5 8.5l.94-2.06 2.06-.94-2.06-.94L8.5 2.5l-.94 2.06-2.06.94zm10 10l.94 2.06.94-2.06 2.06-.94-2.06-.94-.94-2.06-.94 2.06-2.06.94z\"/><path d=\"M17.41 7.96l-1.37-1.37c-.4-.4-.92-.59-1.43-.59-.52 0-1.04.2-1.43.59L10.3 9.45l-7.72 7.72c-.78.78-.78 2.05 0 2.83L4 21.41c.39.39.9.59 1.41.59.51 0 1.02-.2 1.41-.59l7.78-7.78 2.81-2.81c.8-.78.8-2.07 0-2.86zM5.41 20L4 18.59l7.72-7.72 1.47 1.35L5.41 20z\"/>\n",
              "  </svg>\n",
              "      </button>\n",
              "      \n",
              "  <style>\n",
              "    .colab-df-container {\n",
              "      display:flex;\n",
              "      flex-wrap:wrap;\n",
              "      gap: 12px;\n",
              "    }\n",
              "\n",
              "    .colab-df-convert {\n",
              "      background-color: #E8F0FE;\n",
              "      border: none;\n",
              "      border-radius: 50%;\n",
              "      cursor: pointer;\n",
              "      display: none;\n",
              "      fill: #1967D2;\n",
              "      height: 32px;\n",
              "      padding: 0 0 0 0;\n",
              "      width: 32px;\n",
              "    }\n",
              "\n",
              "    .colab-df-convert:hover {\n",
              "      background-color: #E2EBFA;\n",
              "      box-shadow: 0px 1px 2px rgba(60, 64, 67, 0.3), 0px 1px 3px 1px rgba(60, 64, 67, 0.15);\n",
              "      fill: #174EA6;\n",
              "    }\n",
              "\n",
              "    [theme=dark] .colab-df-convert {\n",
              "      background-color: #3B4455;\n",
              "      fill: #D2E3FC;\n",
              "    }\n",
              "\n",
              "    [theme=dark] .colab-df-convert:hover {\n",
              "      background-color: #434B5C;\n",
              "      box-shadow: 0px 1px 3px 1px rgba(0, 0, 0, 0.15);\n",
              "      filter: drop-shadow(0px 1px 2px rgba(0, 0, 0, 0.3));\n",
              "      fill: #FFFFFF;\n",
              "    }\n",
              "  </style>\n",
              "\n",
              "      <script>\n",
              "        const buttonEl =\n",
              "          document.querySelector('#df-c7a9773b-f619-4f37-a59d-18e3cd3548c1 button.colab-df-convert');\n",
              "        buttonEl.style.display =\n",
              "          google.colab.kernel.accessAllowed ? 'block' : 'none';\n",
              "\n",
              "        async function convertToInteractive(key) {\n",
              "          const element = document.querySelector('#df-c7a9773b-f619-4f37-a59d-18e3cd3548c1');\n",
              "          const dataTable =\n",
              "            await google.colab.kernel.invokeFunction('convertToInteractive',\n",
              "                                                     [key], {});\n",
              "          if (!dataTable) return;\n",
              "\n",
              "          const docLinkHtml = 'Like what you see? Visit the ' +\n",
              "            '<a target=\"_blank\" href=https://colab.research.google.com/notebooks/data_table.ipynb>data table notebook</a>'\n",
              "            + ' to learn more about interactive tables.';\n",
              "          element.innerHTML = '';\n",
              "          dataTable['output_type'] = 'display_data';\n",
              "          await google.colab.output.renderOutput(dataTable, element);\n",
              "          const docLink = document.createElement('div');\n",
              "          docLink.innerHTML = docLinkHtml;\n",
              "          element.appendChild(docLink);\n",
              "        }\n",
              "      </script>\n",
              "    </div>\n",
              "  </div>\n",
              "  "
            ]
          },
          "metadata": {}
        },
        {
          "output_type": "stream",
          "name": "stdout",
          "text": [
            "\n",
            "\n",
            "Shape of dataframe 2: (100000, 5)\n",
            "--------------------------\n",
            "Missing values: \n",
            "\n",
            "id         0.0\n",
            "f0         0.0\n",
            "f1         0.0\n",
            "f2         0.0\n",
            "product    0.0\n",
            "dtype: float64\n",
            "--------------------------\n",
            "Duplicates: \n",
            "\n",
            "0\n",
            "--------------------------\n",
            "Data types: \n",
            "\n",
            "id          object\n",
            "f0         float64\n",
            "f1         float64\n",
            "f2         float64\n",
            "product    float64\n",
            "dtype: object\n",
            "--------------------------\n",
            "                  f0             f1             f2        product\n",
            "count  100000.000000  100000.000000  100000.000000  100000.000000\n",
            "mean        0.002023      -0.002081       2.495128      95.000000\n",
            "std         1.732045       1.730417       3.473445      44.749921\n",
            "min        -8.760004      -7.084020     -11.970335       0.000000\n",
            "25%        -1.162288      -1.174820       0.130359      59.450441\n",
            "50%         0.009424      -0.009482       2.484236      94.925613\n",
            "75%         1.158535       1.163678       4.858794     130.595027\n",
            "max         7.238262       7.844801      16.739402     190.029838\n"
          ]
        },
        {
          "output_type": "display_data",
          "data": {
            "text/plain": [
              "      id        f0        f1        f2     product\n",
              "0  fwXo0 -1.146987  0.963328 -0.828965   27.758673\n",
              "1  WJtFt  0.262778  0.269839 -2.530187   56.069697\n",
              "2  ovLUW  0.194587  0.289035 -5.586433   62.871910\n",
              "3  q6cA6  2.236060 -0.553760  0.930038  114.572842\n",
              "4  WPMUX -0.515993  1.716266  5.899011  149.600746"
            ],
            "text/html": [
              "\n",
              "  <div id=\"df-72dd7cfc-4418-4129-af3d-e3c4083ed6dd\">\n",
              "    <div class=\"colab-df-container\">\n",
              "      <div>\n",
              "<style scoped>\n",
              "    .dataframe tbody tr th:only-of-type {\n",
              "        vertical-align: middle;\n",
              "    }\n",
              "\n",
              "    .dataframe tbody tr th {\n",
              "        vertical-align: top;\n",
              "    }\n",
              "\n",
              "    .dataframe thead th {\n",
              "        text-align: right;\n",
              "    }\n",
              "</style>\n",
              "<table border=\"1\" class=\"dataframe\">\n",
              "  <thead>\n",
              "    <tr style=\"text-align: right;\">\n",
              "      <th></th>\n",
              "      <th>id</th>\n",
              "      <th>f0</th>\n",
              "      <th>f1</th>\n",
              "      <th>f2</th>\n",
              "      <th>product</th>\n",
              "    </tr>\n",
              "  </thead>\n",
              "  <tbody>\n",
              "    <tr>\n",
              "      <th>0</th>\n",
              "      <td>fwXo0</td>\n",
              "      <td>-1.146987</td>\n",
              "      <td>0.963328</td>\n",
              "      <td>-0.828965</td>\n",
              "      <td>27.758673</td>\n",
              "    </tr>\n",
              "    <tr>\n",
              "      <th>1</th>\n",
              "      <td>WJtFt</td>\n",
              "      <td>0.262778</td>\n",
              "      <td>0.269839</td>\n",
              "      <td>-2.530187</td>\n",
              "      <td>56.069697</td>\n",
              "    </tr>\n",
              "    <tr>\n",
              "      <th>2</th>\n",
              "      <td>ovLUW</td>\n",
              "      <td>0.194587</td>\n",
              "      <td>0.289035</td>\n",
              "      <td>-5.586433</td>\n",
              "      <td>62.871910</td>\n",
              "    </tr>\n",
              "    <tr>\n",
              "      <th>3</th>\n",
              "      <td>q6cA6</td>\n",
              "      <td>2.236060</td>\n",
              "      <td>-0.553760</td>\n",
              "      <td>0.930038</td>\n",
              "      <td>114.572842</td>\n",
              "    </tr>\n",
              "    <tr>\n",
              "      <th>4</th>\n",
              "      <td>WPMUX</td>\n",
              "      <td>-0.515993</td>\n",
              "      <td>1.716266</td>\n",
              "      <td>5.899011</td>\n",
              "      <td>149.600746</td>\n",
              "    </tr>\n",
              "  </tbody>\n",
              "</table>\n",
              "</div>\n",
              "      <button class=\"colab-df-convert\" onclick=\"convertToInteractive('df-72dd7cfc-4418-4129-af3d-e3c4083ed6dd')\"\n",
              "              title=\"Convert this dataframe to an interactive table.\"\n",
              "              style=\"display:none;\">\n",
              "        \n",
              "  <svg xmlns=\"http://www.w3.org/2000/svg\" height=\"24px\"viewBox=\"0 0 24 24\"\n",
              "       width=\"24px\">\n",
              "    <path d=\"M0 0h24v24H0V0z\" fill=\"none\"/>\n",
              "    <path d=\"M18.56 5.44l.94 2.06.94-2.06 2.06-.94-2.06-.94-.94-2.06-.94 2.06-2.06.94zm-11 1L8.5 8.5l.94-2.06 2.06-.94-2.06-.94L8.5 2.5l-.94 2.06-2.06.94zm10 10l.94 2.06.94-2.06 2.06-.94-2.06-.94-.94-2.06-.94 2.06-2.06.94z\"/><path d=\"M17.41 7.96l-1.37-1.37c-.4-.4-.92-.59-1.43-.59-.52 0-1.04.2-1.43.59L10.3 9.45l-7.72 7.72c-.78.78-.78 2.05 0 2.83L4 21.41c.39.39.9.59 1.41.59.51 0 1.02-.2 1.41-.59l7.78-7.78 2.81-2.81c.8-.78.8-2.07 0-2.86zM5.41 20L4 18.59l7.72-7.72 1.47 1.35L5.41 20z\"/>\n",
              "  </svg>\n",
              "      </button>\n",
              "      \n",
              "  <style>\n",
              "    .colab-df-container {\n",
              "      display:flex;\n",
              "      flex-wrap:wrap;\n",
              "      gap: 12px;\n",
              "    }\n",
              "\n",
              "    .colab-df-convert {\n",
              "      background-color: #E8F0FE;\n",
              "      border: none;\n",
              "      border-radius: 50%;\n",
              "      cursor: pointer;\n",
              "      display: none;\n",
              "      fill: #1967D2;\n",
              "      height: 32px;\n",
              "      padding: 0 0 0 0;\n",
              "      width: 32px;\n",
              "    }\n",
              "\n",
              "    .colab-df-convert:hover {\n",
              "      background-color: #E2EBFA;\n",
              "      box-shadow: 0px 1px 2px rgba(60, 64, 67, 0.3), 0px 1px 3px 1px rgba(60, 64, 67, 0.15);\n",
              "      fill: #174EA6;\n",
              "    }\n",
              "\n",
              "    [theme=dark] .colab-df-convert {\n",
              "      background-color: #3B4455;\n",
              "      fill: #D2E3FC;\n",
              "    }\n",
              "\n",
              "    [theme=dark] .colab-df-convert:hover {\n",
              "      background-color: #434B5C;\n",
              "      box-shadow: 0px 1px 3px 1px rgba(0, 0, 0, 0.15);\n",
              "      filter: drop-shadow(0px 1px 2px rgba(0, 0, 0, 0.3));\n",
              "      fill: #FFFFFF;\n",
              "    }\n",
              "  </style>\n",
              "\n",
              "      <script>\n",
              "        const buttonEl =\n",
              "          document.querySelector('#df-72dd7cfc-4418-4129-af3d-e3c4083ed6dd button.colab-df-convert');\n",
              "        buttonEl.style.display =\n",
              "          google.colab.kernel.accessAllowed ? 'block' : 'none';\n",
              "\n",
              "        async function convertToInteractive(key) {\n",
              "          const element = document.querySelector('#df-72dd7cfc-4418-4129-af3d-e3c4083ed6dd');\n",
              "          const dataTable =\n",
              "            await google.colab.kernel.invokeFunction('convertToInteractive',\n",
              "                                                     [key], {});\n",
              "          if (!dataTable) return;\n",
              "\n",
              "          const docLinkHtml = 'Like what you see? Visit the ' +\n",
              "            '<a target=\"_blank\" href=https://colab.research.google.com/notebooks/data_table.ipynb>data table notebook</a>'\n",
              "            + ' to learn more about interactive tables.';\n",
              "          element.innerHTML = '';\n",
              "          dataTable['output_type'] = 'display_data';\n",
              "          await google.colab.output.renderOutput(dataTable, element);\n",
              "          const docLink = document.createElement('div');\n",
              "          docLink.innerHTML = docLinkHtml;\n",
              "          element.appendChild(docLink);\n",
              "        }\n",
              "      </script>\n",
              "    </div>\n",
              "  </div>\n",
              "  "
            ]
          },
          "metadata": {}
        },
        {
          "output_type": "stream",
          "name": "stdout",
          "text": [
            "\n",
            "\n"
          ]
        }
      ]
    },
    {
      "cell_type": "markdown",
      "metadata": {
        "id": "dqCoR9FCEuPk"
      },
      "source": [
        "### Exploratory data analysis <a class=\"anchor\" id=\"data-eda\"></a>"
      ]
    },
    {
      "cell_type": "code",
      "source": [
        "# Seaborn style\n",
        "sns.set(style='white', palette='colorblind')\n",
        "\n",
        "# Heatmaps\n",
        "fig, axs = plt.subplots(ncols=3, figsize=(15, 5))\n",
        "\n",
        "# Loop through each dataframe and create correlation heatmaps\n",
        "for i, df in enumerate([df_0, df_1, df_2]):\n",
        "    sns.heatmap(df.corr(), cbar=True, annot=True, ax=axs[i])\n",
        "    axs[i].set_title(f\"Correlation heatmap for df_{i+1}\", fontsize=16)\n",
        "\n",
        "plt.tight_layout()\n",
        "plt.show()\n",
        "\n",
        "# Histograms\n",
        "dfs = [df_0, df_1, df_2]\n",
        "\n",
        "# Loop through each dataframe and create a subplot with 4 histograms\n",
        "for i, df in enumerate(dfs):\n",
        "    fig, axs = plt.subplots(ncols=4, figsize=(15, 5))\n",
        "    sns.distplot(df['f0'], ax=axs[0])\n",
        "    sns.distplot(df['f1'], ax=axs[1])\n",
        "    sns.distplot(df['f2'], ax=axs[2])\n",
        "    sns.distplot(df['product'], ax=axs[3])\n",
        "    plt.suptitle(f\"Histograms for df_{i}\", fontsize=16)\n",
        "    plt.tight_layout()\n",
        "    plt.show()\n"
      ],
      "metadata": {
        "colab": {
          "base_uri": "https://localhost:8080/",
          "height": 1000
        },
        "id": "sZMiFBf3Qe-K",
        "outputId": "5151ced2-c082-4128-d192-f6125d6543fb"
      },
      "execution_count": 4,
      "outputs": [
        {
          "output_type": "display_data",
          "data": {
            "text/plain": [
              "<Figure size 1080x360 with 6 Axes>"
            ],
            "image/png": "[encoded data removed]"
          },
          "metadata": {}
        },
        {
          "output_type": "display_data",
          "data": {
            "text/plain": [
              "<Figure size 1080x360 with 4 Axes>"
            ],
            "image/png": "[encoded data removed]"
          },
          "metadata": {}
        },
        {
          "output_type": "display_data",
          "data": {
            "text/plain": [
              "<Figure size 1080x360 with 4 Axes>"
            ],
            "image/png": "[encoded data removed]"
          },
          "metadata": {}
        },
        {
          "output_type": "display_data",
          "data": {
            "text/plain": [
              "<Figure size 1080x360 with 4 Axes>"
            ],
            "image/png": "[encoded data removed]"
          },
          "metadata": {}
        }
      ]
    },
    {
      "cell_type": "markdown",
      "source": [
        "Correlation:\n",
        "- Region number two `df_1`: there is a complete correlation between the feature `f2` and the volume of reserves in the well `product`.\n",
        "- The first (df_0) and third (df_2) regions look approximately the same.\n",
        "\n",
        "Data distribution:\n",
        "- From the distribution, it is noticeable that the first `df_0` and third `df_2` regions have a similar distribution in the volumes of reserves in the well. The data is distributed normally across the `f*` features."
      ],
      "metadata": {
        "id": "POXVwSOjTpKZ"
      }
    },
    {
      "cell_type": "markdown",
      "metadata": {
        "id": "2kIDktPuEuPl"
      },
      "source": [
        "### Datasets and features <a class=\"anchor\" id=\"data-features\"></a>\n",
        "\n",
        "The `id` is not needed here and could be removed from following work. The target feature in the task is the data in the `product` column, it is necessary to prepare the features and the target feature."
      ]
    },
    {
      "cell_type": "code",
      "execution_count": 5,
      "metadata": {
        "id": "IWCctf6hEuPm"
      },
      "outputs": [],
      "source": [
        "# Dropping unnecessary data\n",
        "df_0 = df_0.drop('id', axis=1)\n",
        "df_1 = df_1.drop('id', axis=1)\n",
        "df_2 = df_2.drop('id', axis=1)\n",
        "\n",
        "# Target and features for each region\n",
        "target_0 = df_0['product']\n",
        "features_0 = df_0.drop('product', axis=1)\n",
        "target_1 = df_1['product']\n",
        "features_1 = df_1.drop('product', axis=1)\n",
        "target_2 = df_2['product']\n",
        "features_2 = df_2.drop('product', axis=1)"
      ]
    },
    {
      "cell_type": "markdown",
      "metadata": {
        "id": "wEBSPgVoEuPm"
      },
      "source": [
        "The dataset will be split into training and validation sets in a 75:25 ratio."
      ]
    },
    {
      "cell_type": "code",
      "execution_count": 6,
      "metadata": {
        "colab": {
          "base_uri": "https://localhost:8080/"
        },
        "id": "VujShbsTEuPm",
        "outputId": "e9c1a0c4-b29f-426f-cd57-05011187bf8e"
      },
      "outputs": [
        {
          "output_type": "stream",
          "name": "stdout",
          "text": [
            "Total size: 100000\n",
            "Training set proportion: 75%\n",
            "Validation set proportion: 25%\n"
          ]
        }
      ],
      "source": [
        "# Datasets for each region\n",
        "X_train_0, X_valid_0, y_train_0, y_valid_0 = train_test_split(\n",
        "    features_0, target_0, test_size=0.25, random_state=8080\n",
        ")\n",
        "X_train_1, X_valid_1, y_train_1, y_valid_1 = train_test_split(\n",
        "    features_1, target_1, test_size=0.25, random_state=8080\n",
        ")\n",
        "X_train_2, X_valid_2, y_train_2, y_valid_2 = train_test_split(\n",
        "    features_2, target_2, test_size=0.25, random_state=8080\n",
        ")\n",
        "\n",
        "# Print proportions of each set\n",
        "data_sets = {'Training': X_train_0,\n",
        "             'Validation': X_valid_0\n",
        "}\n",
        "total_size = df_0.shape[0]\n",
        "\n",
        "print(f\"Total size: {total_size}\")\n",
        "\n",
        "for name, data in data_sets.items():\n",
        "    prop = data.shape[0] / total_size\n",
        "    print(f\"{name} set proportion: {prop:.0%}\")"
      ]
    },
    {
      "cell_type": "markdown",
      "metadata": {
        "id": "ZZnsbZPUEuPn"
      },
      "source": [
        "## Training the model <a class=\"anchor\" id=\"training-the-model\"></a>\n",
        "\n",
        "It is known from the conditions that only one `LinearRegression` model will be suitable for training, and it is necessary to train it for each region, calculate the average predicted oil reserves, and the root mean square error - `RMSE`."
      ]
    },
    {
      "cell_type": "code",
      "source": [
        "# Predictions for each region\n",
        "predictions_0 = []\n",
        "predictions_1 = []\n",
        "predictions_2 = []\n",
        "\n",
        "datasets = [(X_train_0, X_valid_0, y_train_0, y_valid_0, target_0),\n",
        "            (X_train_1, X_valid_1, y_train_1, y_valid_1, target_1),\n",
        "            (X_train_2, X_valid_2, y_train_2, y_valid_2, target_2)]\n",
        "            \n",
        "# In each iteration, the loop unpacks the tuple into\n",
        "# separate variables, fits the model, and calculates the RMSE.\n",
        "# Then stores the predictions for each region\n",
        "# in the corresponding list using conditional statements\n",
        "for i, data in enumerate(datasets):\n",
        "    X_train, X_valid, y_train, y_valid, target = data\n",
        "    model = LinearRegression()\n",
        "    model.fit(X_train, y_train)\n",
        "    predictions = model.predict(X_valid)\n",
        "    rmse = mean_squared_error(y_valid, predictions) ** 0.5\n",
        "    \n",
        "    if i == 0:\n",
        "        predictions_0 = predictions\n",
        "    elif i == 1:\n",
        "        predictions_1 = predictions\n",
        "    else:\n",
        "        predictions_2 = predictions\n",
        "\n",
        "    print(f\"Results for region: {i}\")\n",
        "    print(f\"Average predicted oil reserves: {target.mean().round(2)}\")\n",
        "    print(f\"RMSE: {rmse.round(4)} \\n\")"
      ],
      "metadata": {
        "colab": {
          "base_uri": "https://localhost:8080/"
        },
        "id": "gvv8YAJBeRk9",
        "outputId": "896e0f0e-6eac-4e6f-97d1-9d02eaf4deb0"
      },
      "execution_count": 7,
      "outputs": [
        {
          "output_type": "stream",
          "name": "stdout",
          "text": [
            "Results for region: 0\n",
            "Average predicted oil reserves: 92.5\n",
            "RMSE: 37.8558 \n",
            "\n",
            "Results for region: 1\n",
            "Average predicted oil reserves: 68.83\n",
            "RMSE: 0.8897 \n",
            "\n",
            "Results for region: 2\n",
            "Average predicted oil reserves: 95.0\n",
            "RMSE: 39.7775 \n",
            "\n"
          ]
        }
      ]
    },
    {
      "cell_type": "markdown",
      "metadata": {
        "id": "pQyW-04-EuPq"
      },
      "source": [
        "## Preparing for profit calculation <a class=\"anchor\" id=\"preparing-for-profit-calculation\"></a>\n",
        "\n",
        "According to the task conditions, there are inputs that need to be saved as constants. The sufficient volume of raw materials for a new oil well will be calculated using the formula:\n",
        "`Development budget ÷ Best location in the region ÷ Income from each unit of product`\n",
        "\n",
        "For comparison, all data from all regions will be printed out."
      ]
    },
    {
      "cell_type": "code",
      "execution_count": 8,
      "metadata": {
        "colab": {
          "base_uri": "https://localhost:8080/"
        },
        "id": "-fku30HEEuPu",
        "outputId": "9af89fef-82c4-4d5d-ca36-1235ec8dfdd9"
      },
      "outputs": [
        {
          "output_type": "stream",
          "name": "stdout",
          "text": [
            "The sufficient amount of resources for a new well to break even 111.11\n",
            "The average volume of resources in the first region: 92.5\n",
            "The average volume of resources in the second region: 68.83\n",
            "The average volume of resources in the first region: 95.0\n"
          ]
        }
      ],
      "source": [
        "BARREL = 450 * 1000 # Barrel price * 1000 = Income from each unit of product\n",
        "BUDGET = 10000000000 # Development budget\n",
        "LOCATION = 200 # Best locations in the region\n",
        "RES_LOCATION = 500 # Researched locations\n",
        "\n",
        "budget_per_location = BUDGET / LOCATION\n",
        "production_volume = BUDGET / LOCATION / BARREL\n",
        "\n",
        "print(f\"The sufficient amount of resources for a new well to break even {production_volume:.2f}\")\n",
        "print(f\"The average volume of resources in the first region: {target_0.mean().round(2)}\")\n",
        "print(f\"The average volume of resources in the second region: {target_1.mean().round(2)}\")\n",
        "print(f\"The average volume of resources in the first region: {target_2.mean().round(2)}\")"
      ]
    },
    {
      "cell_type": "markdown",
      "metadata": {
        "id": "GgGqDO6qEuPv"
      },
      "source": [
        "## Profit and risk calculation <a class=\"anchor\" id=\"profit-and-risk-calculation\"></a>"
      ]
    },
    {
      "cell_type": "code",
      "execution_count": 9,
      "metadata": {
        "id": "CPBOatSMEuPw"
      },
      "outputs": [],
      "source": [
        "# Convert predictions to series\n",
        "predictions_0 = pd.Series(predictions_0)\n",
        "predictions_1 = pd.Series(predictions_1)\n",
        "predictions_2 = pd.Series(predictions_2)\n",
        "\n",
        "# Profit calculation function:\n",
        "def revenue(target, predictions, count):\n",
        "    predictions_sorted = predictions.sort_values(ascending=False)\n",
        "    selected = target.loc[predictions_sorted.index.to_list()][:count]\n",
        "    return BARREL * selected.sum() - BUDGET"
      ]
    },
    {
      "cell_type": "code",
      "execution_count": 10,
      "metadata": {
        "colab": {
          "base_uri": "https://localhost:8080/"
        },
        "id": "WTuS2T8OEuPw",
        "outputId": "ea94df74-fe4a-4450-db16-0d15a835b513"
      },
      "outputs": [
        {
          "output_type": "stream",
          "name": "stdout",
          "text": [
            "\n",
            " First region:\n",
            "Average profit: 395449817.55; risk: 6.2%\n",
            "Confidence interval: lower -82629442.68 upper 928457974.18\n",
            "\n",
            " Second region:\n",
            "Average profit: 517695776.61; risk: 0.7%\n",
            "Confidence interval: lower 100986999.23 upper 940053418.44\n",
            "\n",
            " Third region:\n",
            "Average profit: 429177032.25; risk: 5.9%\n",
            "Confidence interval: lower -125293013.12 upper 990763931.3\n"
          ]
        }
      ],
      "source": [
        "# Bootstrap with 1000 samples:\n",
        "def bootstrap(target_test, predict):\n",
        "    state = np.random.RandomState(8080)\n",
        "    values = []\n",
        "    target = target_test.reset_index(drop=True)\n",
        "    predictions = pd.Series(predict)\n",
        "    count = 0 \n",
        "    for i in range(1000):\n",
        "        target_subsample = target.sample(500, replace=True, random_state=state)\n",
        "        predictions_subsample = predictions.loc[target_subsample.index.to_list()]\n",
        "        value = revenue(target_subsample, predictions_subsample, LOCATION)\n",
        "        values.append(value)\n",
        "        if value < 0: \n",
        "            count += 1 \n",
        "    \n",
        "    values = pd.Series(values)\n",
        "    lower = values.quantile(0.025)\n",
        "    upper = values.quantile(0.975)\n",
        "    risk = count / 1000\n",
        "\n",
        "    print(f\"Average profit: {values.mean().round(2)}; risk: {round(risk*100, 2)}%\")\n",
        "    print(f\"Confidence interval: lower {lower.round(2)} upper {upper.round(2)}\")\n",
        "    \n",
        "print(f\"\\n First region:\")\n",
        "values_0 = bootstrap(y_valid_0, predictions_0)\n",
        "print(f\"\\n Second region:\")\n",
        "values_1 = bootstrap(y_valid_1, predictions_1)\n",
        "print(f\"\\n Third region:\")\n",
        "values_2 = bootstrap(y_valid_2, predictions_2)"
      ]
    },
    {
      "cell_type": "markdown",
      "source": [
        "## Conclusion <a class=\"anchor\" id=\"conclusion\"></a>\n",
        "\n",
        "The data provided for the project was analyzed, prepared, and split for model training.\n",
        "\n",
        "1. Data correlation:\n",
        "    - Second region. There is a perfect correlation between the feature `f2` and the volume of reserves in the well product.\n",
        "    - The first and third regions appear to be approximately the same.\n",
        "\n",
        "2. Data distribution:\n",
        "    - It is noticeable that the first and third regions have a similar distribution in the volumes of reserves in the well. The data is distributed normally across the features.\n",
        "\n",
        "3. The data was split into training and validation datasets in a 3:1 ratio.\n",
        "\n",
        "4. To make predictions, the `LinearRegression` model was trained, and the evaluation metric used was `RMSE`. The following results were obtained:\n",
        "\n",
        "| Region | Average predicted oil reserves | RMSE |\n",
        "|--|--|--|\n",
        "| 1 | 92.5 | 37.8558 |\n",
        "| 2 | 68.83 | 0.8897 |\n",
        "| 3 | 95.0 | 39.7775 |\n",
        "\n",
        "5. To calculate revenue, was used the formula:\n",
        "`Development budget` ÷ `Best location in the region` ÷ `Income from each unit of product`, and calculations were performed for the three regions, with the following results:\n",
        "    - The sufficient amount of resources for a new well to break even 111.11\n",
        "    - The average volume of resources in the first region: 92.5\n",
        "    - The average volume of resources in the second region: 68.83\n",
        "    - The average volume of resources in the first region: 95.0\n",
        "\n",
        "6. Finally, a function was created to calculate the confidence interval, potential risks, and average profit for each of the regions. The results are as follows:\n",
        "\n",
        "| Region | Average profit | Risk | Confidence interval (lower) | Confidence interval (upper) |\n",
        "|--|--|--|--|--|\n",
        "| 1 | 395449817.55 | 6.2% | -82629442.68 | 928457974.18 |\n",
        "| 2 | 517695776.61 | 0.7% | 100986999.23 | 940053418.44 |\n",
        "| 3 | 429177032.25 | 5.9% | -125293013.12 | 990763931.3 |"
      ],
      "metadata": {
        "id": "vZHkBTNekZSl"
      }
    }
  ],
  "metadata": {
    "ExecuteTimeLog": [
      {
        "duration": 1368,
        "start_time": "2022-06-03T11:18:36.074Z"
      },
      {
        "duration": 131,
        "start_time": "2022-06-03T11:22:56.227Z"
      },
      {
        "duration": 1677,
        "start_time": "2022-06-03T11:22:58.813Z"
      },
      {
        "duration": 104,
        "start_time": "2022-06-03T11:23:01.550Z"
      },
      {
        "duration": 90,
        "start_time": "2022-06-03T11:24:14.356Z"
      },
      {
        "duration": 106,
        "start_time": "2022-06-03T11:24:49.229Z"
      },
      {
        "duration": 48,
        "start_time": "2022-06-03T11:26:58.556Z"
      },
      {
        "duration": 1233,
        "start_time": "2022-06-03T11:27:02.120Z"
      },
      {
        "duration": 1594,
        "start_time": "2022-06-03T11:27:18.003Z"
      },
      {
        "duration": 1458,
        "start_time": "2022-06-03T11:27:26.935Z"
      },
      {
        "duration": 1505,
        "start_time": "2022-06-03T11:29:03.066Z"
      },
      {
        "duration": 1616,
        "start_time": "2022-06-03T11:29:15.940Z"
      },
      {
        "duration": 1142,
        "start_time": "2022-06-03T11:31:03.601Z"
      },
      {
        "duration": 999,
        "start_time": "2022-06-03T11:32:30.919Z"
      },
      {
        "duration": 1135,
        "start_time": "2022-06-03T11:32:35.269Z"
      },
      {
        "duration": 56,
        "start_time": "2022-06-03T11:33:21.638Z"
      },
      {
        "duration": 1376,
        "start_time": "2022-06-03T11:33:42.613Z"
      },
      {
        "duration": 1435,
        "start_time": "2022-06-03T11:33:47.519Z"
      },
      {
        "duration": 1309,
        "start_time": "2022-06-03T11:33:53.108Z"
      },
      {
        "duration": 2565,
        "start_time": "2022-06-03T11:34:56.417Z"
      },
      {
        "duration": 2595,
        "start_time": "2022-06-03T11:35:04.244Z"
      },
      {
        "duration": 2720,
        "start_time": "2022-06-03T11:35:33.356Z"
      },
      {
        "duration": 3214,
        "start_time": "2022-06-03T11:35:43.788Z"
      },
      {
        "duration": 2887,
        "start_time": "2022-06-03T11:35:47.683Z"
      },
      {
        "duration": 3444,
        "start_time": "2022-06-03T11:35:53.553Z"
      },
      {
        "duration": 10285,
        "start_time": "2022-06-03T11:36:56.754Z"
      },
      {
        "duration": 1311,
        "start_time": "2022-06-03T11:37:07.041Z"
      },
      {
        "duration": 18,
        "start_time": "2022-06-03T12:25:00.437Z"
      },
      {
        "duration": 71,
        "start_time": "2022-06-03T12:25:04.676Z"
      },
      {
        "duration": 31,
        "start_time": "2022-06-03T12:30:05.420Z"
      },
      {
        "duration": 9,
        "start_time": "2022-06-03T12:31:21.745Z"
      },
      {
        "duration": 12,
        "start_time": "2022-06-03T12:31:26.624Z"
      },
      {
        "duration": 6,
        "start_time": "2022-06-03T12:31:28.759Z"
      },
      {
        "duration": 11,
        "start_time": "2022-06-03T12:31:52.193Z"
      },
      {
        "duration": 10,
        "start_time": "2022-06-03T12:31:54.935Z"
      },
      {
        "duration": 13,
        "start_time": "2022-06-03T13:27:34.117Z"
      },
      {
        "duration": 149,
        "start_time": "2022-06-03T13:27:47.370Z"
      },
      {
        "duration": 35,
        "start_time": "2022-06-03T13:27:51.710Z"
      },
      {
        "duration": 22,
        "start_time": "2022-06-03T13:30:54.092Z"
      },
      {
        "duration": 17,
        "start_time": "2022-06-03T13:44:42.545Z"
      },
      {
        "duration": 18,
        "start_time": "2022-06-03T13:45:53.029Z"
      },
      {
        "duration": 97,
        "start_time": "2022-06-03T13:46:08.093Z"
      },
      {
        "duration": 18,
        "start_time": "2022-06-03T13:46:16.464Z"
      },
      {
        "duration": 16,
        "start_time": "2022-06-03T13:46:20.882Z"
      },
      {
        "duration": 44,
        "start_time": "2022-06-03T13:48:36.748Z"
      },
      {
        "duration": 18,
        "start_time": "2022-06-03T13:49:15.099Z"
      },
      {
        "duration": 18,
        "start_time": "2022-06-03T13:49:26.962Z"
      },
      {
        "duration": 30,
        "start_time": "2022-06-03T13:50:37.390Z"
      },
      {
        "duration": 16,
        "start_time": "2022-06-03T13:50:45.674Z"
      },
      {
        "duration": 21,
        "start_time": "2022-06-03T13:52:54.599Z"
      },
      {
        "duration": 19,
        "start_time": "2022-06-03T13:53:02.648Z"
      },
      {
        "duration": 17,
        "start_time": "2022-06-03T13:53:06.226Z"
      },
      {
        "duration": 4,
        "start_time": "2022-06-03T14:02:09.248Z"
      },
      {
        "duration": 3,
        "start_time": "2022-06-03T14:04:33.572Z"
      },
      {
        "duration": 1402,
        "start_time": "2022-06-03T14:04:41.970Z"
      },
      {
        "duration": 427,
        "start_time": "2022-06-03T14:04:43.376Z"
      },
      {
        "duration": 116,
        "start_time": "2022-06-03T14:04:43.805Z"
      },
      {
        "duration": 113,
        "start_time": "2022-06-03T14:04:43.923Z"
      },
      {
        "duration": 126,
        "start_time": "2022-06-03T14:04:44.038Z"
      },
      {
        "duration": 87,
        "start_time": "2022-06-03T14:04:44.166Z"
      },
      {
        "duration": 1323,
        "start_time": "2022-06-03T14:04:44.255Z"
      },
      {
        "duration": 10115,
        "start_time": "2022-06-03T14:04:45.581Z"
      },
      {
        "duration": 14,
        "start_time": "2022-06-03T14:04:55.698Z"
      },
      {
        "duration": 53,
        "start_time": "2022-06-03T14:04:55.714Z"
      },
      {
        "duration": 62,
        "start_time": "2022-06-03T14:04:55.769Z"
      },
      {
        "duration": 65,
        "start_time": "2022-06-03T14:04:55.834Z"
      },
      {
        "duration": 203,
        "start_time": "2022-06-03T14:04:55.902Z"
      },
      {
        "duration": 209,
        "start_time": "2022-06-03T14:04:56.109Z"
      },
      {
        "duration": 178,
        "start_time": "2022-06-03T14:04:56.320Z"
      },
      {
        "duration": 8,
        "start_time": "2022-06-04T05:17:39.299Z"
      },
      {
        "duration": 56,
        "start_time": "2022-06-04T05:17:47.351Z"
      },
      {
        "duration": 4,
        "start_time": "2022-06-04T05:18:08.778Z"
      },
      {
        "duration": 9,
        "start_time": "2022-06-04T05:20:02.533Z"
      },
      {
        "duration": 1521,
        "start_time": "2022-06-04T05:20:08.019Z"
      },
      {
        "duration": 1997,
        "start_time": "2022-06-04T05:20:09.542Z"
      },
      {
        "duration": 107,
        "start_time": "2022-06-04T05:20:11.541Z"
      },
      {
        "duration": 111,
        "start_time": "2022-06-04T05:20:11.651Z"
      },
      {
        "duration": 106,
        "start_time": "2022-06-04T05:20:11.765Z"
      },
      {
        "duration": 74,
        "start_time": "2022-06-04T05:20:11.873Z"
      },
      {
        "duration": 1199,
        "start_time": "2022-06-04T05:20:11.948Z"
      },
      {
        "duration": 8901,
        "start_time": "2022-06-04T05:20:13.149Z"
      },
      {
        "duration": 12,
        "start_time": "2022-06-04T05:20:22.052Z"
      },
      {
        "duration": 24,
        "start_time": "2022-06-04T05:20:22.066Z"
      },
      {
        "duration": 35,
        "start_time": "2022-06-04T05:20:22.091Z"
      },
      {
        "duration": 66,
        "start_time": "2022-06-04T05:20:22.128Z"
      },
      {
        "duration": 105,
        "start_time": "2022-06-04T05:20:22.196Z"
      },
      {
        "duration": 191,
        "start_time": "2022-06-04T05:20:22.304Z"
      },
      {
        "duration": 94,
        "start_time": "2022-06-04T05:20:22.498Z"
      },
      {
        "duration": 9,
        "start_time": "2022-06-04T05:20:53.150Z"
      },
      {
        "duration": 8,
        "start_time": "2022-06-04T05:21:29.699Z"
      },
      {
        "duration": 6,
        "start_time": "2022-06-04T05:21:44.222Z"
      },
      {
        "duration": 7,
        "start_time": "2022-06-04T05:25:03.250Z"
      },
      {
        "duration": 3,
        "start_time": "2022-06-04T05:27:57.629Z"
      },
      {
        "duration": 7,
        "start_time": "2022-06-04T05:31:20.739Z"
      },
      {
        "duration": 1651,
        "start_time": "2022-06-04T09:48:45.009Z"
      },
      {
        "duration": 1386,
        "start_time": "2022-06-04T09:48:50.816Z"
      },
      {
        "duration": 2329,
        "start_time": "2022-06-04T09:48:52.204Z"
      },
      {
        "duration": 142,
        "start_time": "2022-06-04T09:48:54.535Z"
      },
      {
        "duration": 135,
        "start_time": "2022-06-04T09:48:54.679Z"
      },
      {
        "duration": 145,
        "start_time": "2022-06-04T09:48:54.817Z"
      },
      {
        "duration": 96,
        "start_time": "2022-06-04T09:48:54.964Z"
      },
      {
        "duration": 1214,
        "start_time": "2022-06-04T09:48:55.062Z"
      },
      {
        "duration": 12004,
        "start_time": "2022-06-04T09:48:56.279Z"
      },
      {
        "duration": 12,
        "start_time": "2022-06-04T09:49:08.285Z"
      },
      {
        "duration": 22,
        "start_time": "2022-06-04T09:49:08.299Z"
      },
      {
        "duration": 80,
        "start_time": "2022-06-04T09:49:08.323Z"
      },
      {
        "duration": 72,
        "start_time": "2022-06-04T09:49:08.405Z"
      },
      {
        "duration": 110,
        "start_time": "2022-06-04T09:49:08.535Z"
      },
      {
        "duration": 67,
        "start_time": "2022-06-04T09:49:08.730Z"
      },
      {
        "duration": 98,
        "start_time": "2022-06-04T09:49:08.836Z"
      },
      {
        "duration": 7,
        "start_time": "2022-06-04T10:01:33.607Z"
      },
      {
        "duration": 190,
        "start_time": "2022-06-04T10:01:47.656Z"
      },
      {
        "duration": 5,
        "start_time": "2022-06-04T10:02:12.453Z"
      },
      {
        "duration": 8,
        "start_time": "2022-06-04T10:03:01.119Z"
      },
      {
        "duration": 10,
        "start_time": "2022-06-04T10:03:24.119Z"
      },
      {
        "duration": 4,
        "start_time": "2022-06-04T10:05:01.482Z"
      },
      {
        "duration": 38,
        "start_time": "2022-06-04T10:14:13.723Z"
      },
      {
        "duration": 23,
        "start_time": "2022-06-04T10:14:26.699Z"
      },
      {
        "duration": 1457,
        "start_time": "2022-06-04T10:16:12.698Z"
      },
      {
        "duration": 4,
        "start_time": "2022-06-04T10:19:15.981Z"
      },
      {
        "duration": 4,
        "start_time": "2022-06-04T10:21:19.113Z"
      },
      {
        "duration": 29,
        "start_time": "2022-06-04T10:22:23.153Z"
      },
      {
        "duration": 48,
        "start_time": "2022-06-04T10:23:01.726Z"
      },
      {
        "duration": 21,
        "start_time": "2022-06-04T10:24:55.196Z"
      },
      {
        "duration": 4,
        "start_time": "2022-06-04T10:25:49.524Z"
      },
      {
        "duration": 20,
        "start_time": "2022-06-04T10:25:54.192Z"
      },
      {
        "duration": 25,
        "start_time": "2022-06-04T10:26:54.604Z"
      },
      {
        "duration": 2192,
        "start_time": "2022-06-04T10:33:28.443Z"
      },
      {
        "duration": 2508,
        "start_time": "2022-06-04T10:34:20.915Z"
      },
      {
        "duration": 1921,
        "start_time": "2022-06-04T10:35:42.291Z"
      },
      {
        "duration": 2003,
        "start_time": "2022-06-04T10:35:58.695Z"
      },
      {
        "duration": 2029,
        "start_time": "2022-06-04T10:36:19.004Z"
      },
      {
        "duration": 7,
        "start_time": "2022-06-04T11:16:08.203Z"
      },
      {
        "duration": 10,
        "start_time": "2022-06-04T11:18:21.237Z"
      },
      {
        "duration": 9,
        "start_time": "2022-06-04T11:18:29.607Z"
      },
      {
        "duration": 11,
        "start_time": "2022-06-04T11:19:38.531Z"
      },
      {
        "duration": 17,
        "start_time": "2022-06-04T11:19:54.951Z"
      },
      {
        "duration": 9,
        "start_time": "2022-06-04T11:20:00.151Z"
      },
      {
        "duration": 7,
        "start_time": "2022-06-04T11:20:58.347Z"
      },
      {
        "duration": 6,
        "start_time": "2022-06-04T11:21:30.947Z"
      },
      {
        "duration": 1225,
        "start_time": "2022-06-04T11:21:35.867Z"
      },
      {
        "duration": 651,
        "start_time": "2022-06-04T11:21:37.094Z"
      },
      {
        "duration": 101,
        "start_time": "2022-06-04T11:21:37.747Z"
      },
      {
        "duration": 102,
        "start_time": "2022-06-04T11:21:37.850Z"
      },
      {
        "duration": 112,
        "start_time": "2022-06-04T11:21:37.955Z"
      },
      {
        "duration": 85,
        "start_time": "2022-06-04T11:21:38.069Z"
      },
      {
        "duration": 1074,
        "start_time": "2022-06-04T11:21:38.156Z"
      },
      {
        "duration": 8244,
        "start_time": "2022-06-04T11:21:39.234Z"
      },
      {
        "duration": 10,
        "start_time": "2022-06-04T11:21:47.480Z"
      },
      {
        "duration": 15,
        "start_time": "2022-06-04T11:21:47.491Z"
      },
      {
        "duration": 53,
        "start_time": "2022-06-04T11:21:47.508Z"
      },
      {
        "duration": 76,
        "start_time": "2022-06-04T11:21:47.563Z"
      },
      {
        "duration": 127,
        "start_time": "2022-06-04T11:21:47.641Z"
      },
      {
        "duration": 81,
        "start_time": "2022-06-04T11:21:47.774Z"
      },
      {
        "duration": 117,
        "start_time": "2022-06-04T11:21:47.930Z"
      },
      {
        "duration": 6,
        "start_time": "2022-06-04T11:21:48.049Z"
      },
      {
        "duration": 121,
        "start_time": "2022-06-04T11:21:48.057Z"
      },
      {
        "duration": 0,
        "start_time": "2022-06-04T11:21:48.179Z"
      },
      {
        "duration": 67,
        "start_time": "2022-06-05T17:41:38.687Z"
      },
      {
        "duration": 1573,
        "start_time": "2022-06-05T17:47:41.423Z"
      },
      {
        "duration": 1848,
        "start_time": "2022-06-05T17:47:42.998Z"
      },
      {
        "duration": 113,
        "start_time": "2022-06-05T17:47:44.848Z"
      },
      {
        "duration": 104,
        "start_time": "2022-06-05T17:47:44.963Z"
      },
      {
        "duration": 103,
        "start_time": "2022-06-05T17:47:45.069Z"
      },
      {
        "duration": 95,
        "start_time": "2022-06-05T17:47:45.173Z"
      },
      {
        "duration": 1110,
        "start_time": "2022-06-05T17:47:45.270Z"
      },
      {
        "duration": 8779,
        "start_time": "2022-06-05T17:47:46.382Z"
      },
      {
        "duration": 12,
        "start_time": "2022-06-05T17:47:55.163Z"
      },
      {
        "duration": 16,
        "start_time": "2022-06-05T17:47:55.178Z"
      },
      {
        "duration": 54,
        "start_time": "2022-06-05T17:47:55.196Z"
      },
      {
        "duration": 189,
        "start_time": "2022-06-05T17:47:55.252Z"
      },
      {
        "duration": 107,
        "start_time": "2022-06-05T17:47:55.443Z"
      },
      {
        "duration": 221,
        "start_time": "2022-06-05T17:47:55.551Z"
      },
      {
        "duration": 83,
        "start_time": "2022-06-05T17:47:55.773Z"
      },
      {
        "duration": 14,
        "start_time": "2022-06-05T17:47:55.934Z"
      },
      {
        "duration": 132,
        "start_time": "2022-06-05T17:47:55.950Z"
      },
      {
        "duration": 0,
        "start_time": "2022-06-05T17:47:56.083Z"
      },
      {
        "duration": 1345,
        "start_time": "2022-06-05T17:48:08.218Z"
      },
      {
        "duration": 411,
        "start_time": "2022-06-05T17:48:09.565Z"
      },
      {
        "duration": 115,
        "start_time": "2022-06-05T17:48:09.979Z"
      },
      {
        "duration": 114,
        "start_time": "2022-06-05T17:48:10.096Z"
      },
      {
        "duration": 132,
        "start_time": "2022-06-05T17:48:10.214Z"
      },
      {
        "duration": 100,
        "start_time": "2022-06-05T17:48:10.347Z"
      },
      {
        "duration": 1096,
        "start_time": "2022-06-05T17:48:10.449Z"
      },
      {
        "duration": 8797,
        "start_time": "2022-06-05T17:48:11.546Z"
      },
      {
        "duration": 12,
        "start_time": "2022-06-05T17:48:20.345Z"
      },
      {
        "duration": 27,
        "start_time": "2022-06-05T17:48:20.359Z"
      },
      {
        "duration": 57,
        "start_time": "2022-06-05T17:48:20.388Z"
      },
      {
        "duration": 94,
        "start_time": "2022-06-05T17:48:20.447Z"
      },
      {
        "duration": 124,
        "start_time": "2022-06-05T17:48:20.544Z"
      },
      {
        "duration": 127,
        "start_time": "2022-06-05T17:48:20.734Z"
      },
      {
        "duration": 91,
        "start_time": "2022-06-05T17:48:20.863Z"
      },
      {
        "duration": 83,
        "start_time": "2022-06-05T17:48:20.958Z"
      },
      {
        "duration": 22,
        "start_time": "2022-06-05T17:48:21.044Z"
      },
      {
        "duration": 7,
        "start_time": "2022-06-05T17:48:21.068Z"
      },
      {
        "duration": 1596,
        "start_time": "2022-06-06T07:40:40.169Z"
      },
      {
        "duration": 772,
        "start_time": "2022-06-06T07:40:41.768Z"
      },
      {
        "duration": 123,
        "start_time": "2022-06-06T07:40:42.541Z"
      },
      {
        "duration": 101,
        "start_time": "2022-06-06T07:40:42.667Z"
      },
      {
        "duration": 116,
        "start_time": "2022-06-06T07:40:42.771Z"
      },
      {
        "duration": 67,
        "start_time": "2022-06-06T07:40:42.889Z"
      },
      {
        "duration": 1130,
        "start_time": "2022-06-06T07:40:42.959Z"
      },
      {
        "duration": 8244,
        "start_time": "2022-06-06T07:40:44.091Z"
      },
      {
        "duration": 11,
        "start_time": "2022-06-06T07:40:52.336Z"
      },
      {
        "duration": 19,
        "start_time": "2022-06-06T07:40:52.355Z"
      },
      {
        "duration": 42,
        "start_time": "2022-06-06T07:40:52.376Z"
      },
      {
        "duration": 146,
        "start_time": "2022-06-06T07:40:52.419Z"
      },
      {
        "duration": 112,
        "start_time": "2022-06-06T07:40:52.573Z"
      },
      {
        "duration": 117,
        "start_time": "2022-06-06T07:40:52.763Z"
      },
      {
        "duration": 177,
        "start_time": "2022-06-06T07:40:52.882Z"
      },
      {
        "duration": 10,
        "start_time": "2022-06-06T07:40:53.061Z"
      },
      {
        "duration": 10,
        "start_time": "2022-06-06T07:40:53.073Z"
      },
      {
        "duration": 36,
        "start_time": "2022-06-06T08:33:22.388Z"
      },
      {
        "duration": 3,
        "start_time": "2022-06-06T08:33:27.127Z"
      },
      {
        "duration": 139,
        "start_time": "2022-06-06T08:39:02.927Z"
      },
      {
        "duration": 6,
        "start_time": "2022-06-06T08:39:45.547Z"
      },
      {
        "duration": 4,
        "start_time": "2022-06-06T08:40:32.734Z"
      },
      {
        "duration": 12,
        "start_time": "2022-06-06T08:41:16.184Z"
      },
      {
        "duration": 3,
        "start_time": "2022-06-06T08:41:35.838Z"
      },
      {
        "duration": 5,
        "start_time": "2022-06-06T08:41:57.490Z"
      },
      {
        "duration": 9,
        "start_time": "2022-06-06T08:50:00.761Z"
      },
      {
        "duration": 4,
        "start_time": "2022-06-06T08:50:03.675Z"
      },
      {
        "duration": 14,
        "start_time": "2022-06-06T08:52:03.215Z"
      },
      {
        "duration": 10,
        "start_time": "2022-06-06T08:52:12.005Z"
      },
      {
        "duration": 14,
        "start_time": "2022-06-06T08:52:57.336Z"
      },
      {
        "duration": 7,
        "start_time": "2022-06-06T08:53:15.987Z"
      },
      {
        "duration": 12,
        "start_time": "2022-06-06T08:53:17.778Z"
      },
      {
        "duration": 27,
        "start_time": "2022-06-06T08:53:22.365Z"
      },
      {
        "duration": 13,
        "start_time": "2022-06-06T08:53:30.204Z"
      },
      {
        "duration": 13,
        "start_time": "2022-06-06T08:54:05.375Z"
      },
      {
        "duration": 20,
        "start_time": "2022-06-06T08:54:06.880Z"
      },
      {
        "duration": 6,
        "start_time": "2022-06-06T08:54:34.383Z"
      },
      {
        "duration": 19,
        "start_time": "2022-06-06T08:54:36.022Z"
      },
      {
        "duration": 9,
        "start_time": "2022-06-06T08:54:51.347Z"
      },
      {
        "duration": 18,
        "start_time": "2022-06-06T08:54:53.521Z"
      },
      {
        "duration": 4,
        "start_time": "2022-06-06T09:01:50.110Z"
      },
      {
        "duration": 13,
        "start_time": "2022-06-06T09:09:03.068Z"
      },
      {
        "duration": 4,
        "start_time": "2022-06-06T09:09:17.323Z"
      },
      {
        "duration": 10,
        "start_time": "2022-06-06T09:10:01.274Z"
      },
      {
        "duration": 9,
        "start_time": "2022-06-06T10:53:09.378Z"
      },
      {
        "duration": 15,
        "start_time": "2022-06-06T10:53:21.987Z"
      },
      {
        "duration": 18,
        "start_time": "2022-06-06T10:54:36.775Z"
      },
      {
        "duration": 13,
        "start_time": "2022-06-06T10:55:45.824Z"
      },
      {
        "duration": 458,
        "start_time": "2022-06-06T10:55:57.581Z"
      },
      {
        "duration": 9,
        "start_time": "2022-06-06T10:56:49.820Z"
      },
      {
        "duration": 14,
        "start_time": "2022-06-06T10:56:53.724Z"
      },
      {
        "duration": 3,
        "start_time": "2022-06-06T11:19:44.332Z"
      },
      {
        "duration": 15,
        "start_time": "2022-06-06T11:22:14.180Z"
      },
      {
        "duration": 7,
        "start_time": "2022-06-06T11:22:31.559Z"
      },
      {
        "duration": 12,
        "start_time": "2022-06-06T11:22:33.220Z"
      },
      {
        "duration": 6,
        "start_time": "2022-06-06T11:27:27.918Z"
      },
      {
        "duration": 13,
        "start_time": "2022-06-06T11:27:34.599Z"
      },
      {
        "duration": 4,
        "start_time": "2022-06-06T11:27:53.335Z"
      },
      {
        "duration": 13,
        "start_time": "2022-06-06T11:28:04.151Z"
      },
      {
        "duration": 8,
        "start_time": "2022-06-06T11:32:38.906Z"
      },
      {
        "duration": 4,
        "start_time": "2022-06-06T11:32:42.012Z"
      },
      {
        "duration": 6,
        "start_time": "2022-06-06T11:33:40.872Z"
      },
      {
        "duration": 16,
        "start_time": "2022-06-06T11:33:55.501Z"
      },
      {
        "duration": 3,
        "start_time": "2022-06-06T11:34:01.508Z"
      },
      {
        "duration": 10,
        "start_time": "2022-06-06T11:34:03.113Z"
      },
      {
        "duration": 19,
        "start_time": "2022-06-06T11:35:10.345Z"
      },
      {
        "duration": 35,
        "start_time": "2022-06-06T11:35:22.058Z"
      },
      {
        "duration": 7,
        "start_time": "2022-06-06T11:35:34.975Z"
      },
      {
        "duration": 24,
        "start_time": "2022-06-06T11:36:01.282Z"
      },
      {
        "duration": 24,
        "start_time": "2022-06-06T11:36:05.403Z"
      },
      {
        "duration": 39,
        "start_time": "2022-06-06T11:36:08.105Z"
      },
      {
        "duration": 20,
        "start_time": "2022-06-06T11:36:19.067Z"
      },
      {
        "duration": 8,
        "start_time": "2022-06-06T11:36:26.780Z"
      },
      {
        "duration": 3,
        "start_time": "2022-06-06T11:36:47.594Z"
      },
      {
        "duration": 12,
        "start_time": "2022-06-06T11:36:55.317Z"
      },
      {
        "duration": 9,
        "start_time": "2022-06-06T11:36:59.646Z"
      },
      {
        "duration": 4,
        "start_time": "2022-06-06T11:37:06.433Z"
      },
      {
        "duration": 8,
        "start_time": "2022-06-06T11:37:08.548Z"
      },
      {
        "duration": 9,
        "start_time": "2022-06-06T11:37:11.232Z"
      },
      {
        "duration": 3,
        "start_time": "2022-06-06T11:37:22.944Z"
      },
      {
        "duration": 9,
        "start_time": "2022-06-06T11:37:25.396Z"
      },
      {
        "duration": 8,
        "start_time": "2022-06-06T11:37:28.733Z"
      },
      {
        "duration": 15,
        "start_time": "2022-06-06T11:46:34.095Z"
      },
      {
        "duration": 3,
        "start_time": "2022-06-06T11:46:43.389Z"
      },
      {
        "duration": 17,
        "start_time": "2022-06-06T11:46:45.626Z"
      },
      {
        "duration": 17,
        "start_time": "2022-06-06T12:18:01.729Z"
      },
      {
        "duration": 15,
        "start_time": "2022-06-06T12:18:14.488Z"
      },
      {
        "duration": 10,
        "start_time": "2022-06-06T12:20:40.344Z"
      },
      {
        "duration": 19,
        "start_time": "2022-06-06T12:20:58.598Z"
      },
      {
        "duration": 20,
        "start_time": "2022-06-06T12:22:54.307Z"
      },
      {
        "duration": 15,
        "start_time": "2022-06-06T12:23:04.849Z"
      },
      {
        "duration": 17,
        "start_time": "2022-06-06T12:23:20.908Z"
      },
      {
        "duration": 23,
        "start_time": "2022-06-06T12:23:26.776Z"
      },
      {
        "duration": 17,
        "start_time": "2022-06-06T12:24:08.740Z"
      },
      {
        "duration": 17,
        "start_time": "2022-06-06T12:24:12.597Z"
      },
      {
        "duration": 18,
        "start_time": "2022-06-06T12:24:46.587Z"
      },
      {
        "duration": 18,
        "start_time": "2022-06-06T12:24:51.236Z"
      },
      {
        "duration": 17,
        "start_time": "2022-06-06T12:25:55.696Z"
      },
      {
        "duration": 11,
        "start_time": "2022-06-06T12:26:17.711Z"
      },
      {
        "duration": 17,
        "start_time": "2022-06-06T12:26:23.866Z"
      },
      {
        "duration": 16,
        "start_time": "2022-06-06T12:26:39.841Z"
      },
      {
        "duration": 5,
        "start_time": "2022-06-06T12:26:52.353Z"
      },
      {
        "duration": 10,
        "start_time": "2022-06-06T12:26:59.882Z"
      },
      {
        "duration": 8,
        "start_time": "2022-06-06T12:27:06.469Z"
      },
      {
        "duration": 6,
        "start_time": "2022-06-06T12:27:27.586Z"
      },
      {
        "duration": 4,
        "start_time": "2022-06-06T12:27:30.266Z"
      },
      {
        "duration": 13,
        "start_time": "2022-06-06T12:27:31.751Z"
      },
      {
        "duration": 5,
        "start_time": "2022-06-06T12:27:37.194Z"
      },
      {
        "duration": 16,
        "start_time": "2022-06-06T12:27:40.201Z"
      },
      {
        "duration": 3,
        "start_time": "2022-06-06T12:27:49.367Z"
      },
      {
        "duration": 3,
        "start_time": "2022-06-06T12:27:50.953Z"
      },
      {
        "duration": 6,
        "start_time": "2022-06-06T12:27:53.180Z"
      },
      {
        "duration": 23,
        "start_time": "2022-06-06T12:29:04.959Z"
      },
      {
        "duration": 23,
        "start_time": "2022-06-06T13:32:43.340Z"
      },
      {
        "duration": 17,
        "start_time": "2022-06-06T13:32:55.099Z"
      },
      {
        "duration": 23,
        "start_time": "2022-06-06T13:33:00.907Z"
      },
      {
        "duration": 17,
        "start_time": "2022-06-06T13:33:09.077Z"
      },
      {
        "duration": 18,
        "start_time": "2022-06-06T13:33:21.202Z"
      },
      {
        "duration": 4,
        "start_time": "2022-06-06T13:41:00.245Z"
      },
      {
        "duration": 16,
        "start_time": "2022-06-06T13:41:02.081Z"
      },
      {
        "duration": 17,
        "start_time": "2022-06-06T13:44:15.633Z"
      },
      {
        "duration": 4,
        "start_time": "2022-06-06T13:44:19.186Z"
      },
      {
        "duration": 18,
        "start_time": "2022-06-06T13:44:20.892Z"
      },
      {
        "duration": 16,
        "start_time": "2022-06-06T13:44:29.624Z"
      },
      {
        "duration": 18,
        "start_time": "2022-06-06T13:44:48.603Z"
      },
      {
        "duration": 3,
        "start_time": "2022-06-06T13:45:06.829Z"
      },
      {
        "duration": 4,
        "start_time": "2022-06-06T13:45:08.431Z"
      },
      {
        "duration": 17,
        "start_time": "2022-06-06T13:45:13.013Z"
      },
      {
        "duration": 21,
        "start_time": "2022-06-06T13:45:22.471Z"
      },
      {
        "duration": 17,
        "start_time": "2022-06-06T13:45:36.530Z"
      },
      {
        "duration": 1372,
        "start_time": "2022-06-07T06:30:21.931Z"
      },
      {
        "duration": 897,
        "start_time": "2022-06-07T06:30:23.304Z"
      },
      {
        "duration": 85,
        "start_time": "2022-06-07T06:30:24.203Z"
      },
      {
        "duration": 87,
        "start_time": "2022-06-07T06:30:24.290Z"
      },
      {
        "duration": 93,
        "start_time": "2022-06-07T06:30:24.378Z"
      },
      {
        "duration": 63,
        "start_time": "2022-06-07T06:30:24.472Z"
      },
      {
        "duration": 986,
        "start_time": "2022-06-07T06:30:24.536Z"
      },
      {
        "duration": 7529,
        "start_time": "2022-06-07T06:30:25.523Z"
      },
      {
        "duration": 10,
        "start_time": "2022-06-07T06:30:33.054Z"
      },
      {
        "duration": 15,
        "start_time": "2022-06-07T06:30:33.067Z"
      },
      {
        "duration": 37,
        "start_time": "2022-06-07T06:30:33.084Z"
      },
      {
        "duration": 114,
        "start_time": "2022-06-07T06:30:33.122Z"
      },
      {
        "duration": 110,
        "start_time": "2022-06-07T06:30:33.238Z"
      },
      {
        "duration": 189,
        "start_time": "2022-06-07T06:30:33.350Z"
      },
      {
        "duration": 193,
        "start_time": "2022-06-07T06:30:33.542Z"
      },
      {
        "duration": 13,
        "start_time": "2022-06-07T06:30:33.736Z"
      },
      {
        "duration": 13,
        "start_time": "2022-06-07T06:30:33.750Z"
      },
      {
        "duration": 24,
        "start_time": "2022-06-07T06:30:33.764Z"
      },
      {
        "duration": 19,
        "start_time": "2022-06-07T06:30:33.789Z"
      },
      {
        "duration": 124,
        "start_time": "2022-06-07T06:30:33.809Z"
      },
      {
        "duration": 3,
        "start_time": "2022-06-07T06:55:13.625Z"
      },
      {
        "duration": 20,
        "start_time": "2022-06-07T06:59:06.543Z"
      },
      {
        "duration": 4,
        "start_time": "2022-06-07T06:59:18.664Z"
      },
      {
        "duration": 11,
        "start_time": "2022-06-07T06:59:20.186Z"
      },
      {
        "duration": 16,
        "start_time": "2022-06-07T07:00:16.889Z"
      },
      {
        "duration": 13,
        "start_time": "2022-06-07T07:01:26.695Z"
      },
      {
        "duration": 40,
        "start_time": "2022-06-07T07:03:54.409Z"
      },
      {
        "duration": 4,
        "start_time": "2022-06-07T07:04:41.623Z"
      },
      {
        "duration": 24,
        "start_time": "2022-06-07T07:04:43.382Z"
      },
      {
        "duration": 31,
        "start_time": "2022-06-07T07:05:06.346Z"
      },
      {
        "duration": 3,
        "start_time": "2022-06-07T07:06:47.617Z"
      },
      {
        "duration": 19,
        "start_time": "2022-06-07T07:06:49.079Z"
      },
      {
        "duration": 1394,
        "start_time": "2022-06-08T07:33:40.947Z"
      },
      {
        "duration": 760,
        "start_time": "2022-06-08T07:33:42.343Z"
      },
      {
        "duration": 91,
        "start_time": "2022-06-08T07:33:43.105Z"
      },
      {
        "duration": 93,
        "start_time": "2022-06-08T07:33:43.198Z"
      },
      {
        "duration": 108,
        "start_time": "2022-06-08T07:33:43.294Z"
      },
      {
        "duration": 72,
        "start_time": "2022-06-08T07:33:43.404Z"
      },
      {
        "duration": 1042,
        "start_time": "2022-06-08T07:33:43.478Z"
      },
      {
        "duration": 7623,
        "start_time": "2022-06-08T07:33:44.521Z"
      },
      {
        "duration": 13,
        "start_time": "2022-06-08T07:33:52.146Z"
      },
      {
        "duration": 14,
        "start_time": "2022-06-08T07:33:52.160Z"
      },
      {
        "duration": 51,
        "start_time": "2022-06-08T07:33:52.176Z"
      },
      {
        "duration": 20,
        "start_time": "2022-06-08T07:33:52.228Z"
      },
      {
        "duration": 182,
        "start_time": "2022-06-08T07:33:52.249Z"
      },
      {
        "duration": 204,
        "start_time": "2022-06-08T07:33:52.435Z"
      },
      {
        "duration": 86,
        "start_time": "2022-06-08T07:33:52.642Z"
      },
      {
        "duration": 97,
        "start_time": "2022-06-08T07:33:52.731Z"
      },
      {
        "duration": 0,
        "start_time": "2022-06-08T07:33:52.830Z"
      },
      {
        "duration": 0,
        "start_time": "2022-06-08T07:33:52.831Z"
      },
      {
        "duration": 0,
        "start_time": "2022-06-08T07:33:52.832Z"
      },
      {
        "duration": 0,
        "start_time": "2022-06-08T07:33:52.833Z"
      },
      {
        "duration": 0,
        "start_time": "2022-06-08T07:33:52.834Z"
      },
      {
        "duration": 0,
        "start_time": "2022-06-08T07:33:52.835Z"
      },
      {
        "duration": 0,
        "start_time": "2022-06-08T07:33:52.836Z"
      },
      {
        "duration": 15,
        "start_time": "2022-06-08T07:38:27.712Z"
      },
      {
        "duration": 3,
        "start_time": "2022-06-08T07:38:43.075Z"
      },
      {
        "duration": 9,
        "start_time": "2022-06-08T07:38:46.243Z"
      },
      {
        "duration": 19,
        "start_time": "2022-06-08T07:38:50.633Z"
      },
      {
        "duration": 20,
        "start_time": "2022-06-08T07:38:54.841Z"
      },
      {
        "duration": 122,
        "start_time": "2022-06-08T07:38:58.940Z"
      },
      {
        "duration": 32,
        "start_time": "2022-06-08T07:43:15.396Z"
      },
      {
        "duration": 17,
        "start_time": "2022-06-08T07:43:24.142Z"
      },
      {
        "duration": 14,
        "start_time": "2022-06-08T07:51:33.047Z"
      },
      {
        "duration": 14,
        "start_time": "2022-06-08T07:51:38.826Z"
      },
      {
        "duration": 12,
        "start_time": "2022-06-08T07:51:58.449Z"
      },
      {
        "duration": 12,
        "start_time": "2022-06-08T07:52:22.478Z"
      },
      {
        "duration": 25,
        "start_time": "2022-06-08T07:53:43.764Z"
      },
      {
        "duration": 20,
        "start_time": "2022-06-08T07:53:46.456Z"
      },
      {
        "duration": 20,
        "start_time": "2022-06-08T07:56:00.857Z"
      },
      {
        "duration": 25,
        "start_time": "2022-06-08T07:56:20.606Z"
      },
      {
        "duration": 18,
        "start_time": "2022-06-08T07:56:22.610Z"
      },
      {
        "duration": 17,
        "start_time": "2022-06-08T07:56:40.810Z"
      },
      {
        "duration": 18,
        "start_time": "2022-06-08T07:57:58.639Z"
      },
      {
        "duration": 24,
        "start_time": "2022-06-08T07:59:13.198Z"
      },
      {
        "duration": 19,
        "start_time": "2022-06-08T08:00:49.783Z"
      },
      {
        "duration": 3,
        "start_time": "2022-06-08T08:01:49.614Z"
      },
      {
        "duration": 23,
        "start_time": "2022-06-08T08:01:55.643Z"
      },
      {
        "duration": 18,
        "start_time": "2022-06-08T08:02:17.876Z"
      },
      {
        "duration": 19,
        "start_time": "2022-06-08T08:02:54.965Z"
      },
      {
        "duration": 19,
        "start_time": "2022-06-08T08:05:25.888Z"
      },
      {
        "duration": 18,
        "start_time": "2022-06-08T08:05:33.040Z"
      },
      {
        "duration": 18,
        "start_time": "2022-06-08T08:07:17.589Z"
      },
      {
        "duration": 23,
        "start_time": "2022-06-08T08:09:00.754Z"
      },
      {
        "duration": 12,
        "start_time": "2022-06-08T08:12:19.766Z"
      },
      {
        "duration": 12,
        "start_time": "2022-06-08T08:12:47.526Z"
      },
      {
        "duration": 150,
        "start_time": "2022-06-08T08:12:54.739Z"
      },
      {
        "duration": 10,
        "start_time": "2022-06-08T08:13:08.994Z"
      },
      {
        "duration": 25,
        "start_time": "2022-06-08T08:13:11.713Z"
      },
      {
        "duration": 164,
        "start_time": "2022-06-08T08:13:33.189Z"
      },
      {
        "duration": 1466,
        "start_time": "2022-06-09T06:27:45.137Z"
      },
      {
        "duration": 990,
        "start_time": "2022-06-09T06:27:46.605Z"
      },
      {
        "duration": 90,
        "start_time": "2022-06-09T06:27:47.597Z"
      },
      {
        "duration": 87,
        "start_time": "2022-06-09T06:27:47.689Z"
      },
      {
        "duration": 126,
        "start_time": "2022-06-09T06:27:47.778Z"
      },
      {
        "duration": 72,
        "start_time": "2022-06-09T06:27:47.905Z"
      },
      {
        "duration": 1029,
        "start_time": "2022-06-09T06:27:47.979Z"
      },
      {
        "duration": 7559,
        "start_time": "2022-06-09T06:27:49.010Z"
      },
      {
        "duration": 11,
        "start_time": "2022-06-09T06:27:56.571Z"
      },
      {
        "duration": 26,
        "start_time": "2022-06-09T06:27:56.585Z"
      },
      {
        "duration": 34,
        "start_time": "2022-06-09T06:27:56.613Z"
      },
      {
        "duration": 123,
        "start_time": "2022-06-09T06:27:56.649Z"
      },
      {
        "duration": 107,
        "start_time": "2022-06-09T06:27:56.862Z"
      },
      {
        "duration": 187,
        "start_time": "2022-06-09T06:27:56.972Z"
      },
      {
        "duration": 102,
        "start_time": "2022-06-09T06:27:57.162Z"
      },
      {
        "duration": 16,
        "start_time": "2022-06-09T06:27:57.266Z"
      },
      {
        "duration": 14,
        "start_time": "2022-06-09T06:27:57.284Z"
      },
      {
        "duration": 7,
        "start_time": "2022-06-09T06:27:57.300Z"
      },
      {
        "duration": 10,
        "start_time": "2022-06-09T06:27:57.309Z"
      },
      {
        "duration": 27,
        "start_time": "2022-06-09T06:27:57.321Z"
      },
      {
        "duration": 32,
        "start_time": "2022-06-09T06:27:57.350Z"
      },
      {
        "duration": 145,
        "start_time": "2022-06-09T06:27:57.384Z"
      },
      {
        "duration": 116,
        "start_time": "2022-06-09T06:27:57.531Z"
      },
      {
        "duration": 19,
        "start_time": "2022-06-09T06:28:01.092Z"
      },
      {
        "duration": 6,
        "start_time": "2022-06-09T06:28:20.925Z"
      },
      {
        "duration": 11,
        "start_time": "2022-06-09T06:30:16.146Z"
      },
      {
        "duration": 17,
        "start_time": "2022-06-09T06:30:25.315Z"
      },
      {
        "duration": 19,
        "start_time": "2022-06-09T06:30:28.991Z"
      },
      {
        "duration": 18,
        "start_time": "2022-06-09T06:30:38.482Z"
      },
      {
        "duration": 23,
        "start_time": "2022-06-09T06:49:31.099Z"
      },
      {
        "duration": 12,
        "start_time": "2022-06-09T06:49:57.570Z"
      },
      {
        "duration": 6,
        "start_time": "2022-06-09T06:50:19.237Z"
      },
      {
        "duration": 7,
        "start_time": "2022-06-09T06:51:04.431Z"
      },
      {
        "duration": 7,
        "start_time": "2022-06-09T06:51:05.753Z"
      },
      {
        "duration": 6,
        "start_time": "2022-06-09T06:51:31.759Z"
      },
      {
        "duration": 5,
        "start_time": "2022-06-09T06:58:35.491Z"
      },
      {
        "duration": 9,
        "start_time": "2022-06-09T07:02:22.735Z"
      },
      {
        "duration": 8,
        "start_time": "2022-06-09T07:04:16.609Z"
      },
      {
        "duration": 17,
        "start_time": "2022-06-09T07:04:34.637Z"
      },
      {
        "duration": 4,
        "start_time": "2022-06-09T07:05:01.716Z"
      },
      {
        "duration": 846,
        "start_time": "2022-06-09T07:05:15.055Z"
      },
      {
        "duration": 4,
        "start_time": "2022-06-09T07:06:03.123Z"
      },
      {
        "duration": 7,
        "start_time": "2022-06-09T07:06:04.646Z"
      },
      {
        "duration": 775,
        "start_time": "2022-06-09T07:06:06.568Z"
      },
      {
        "duration": 21,
        "start_time": "2022-06-09T07:07:18.354Z"
      },
      {
        "duration": 6,
        "start_time": "2022-06-09T07:07:32.809Z"
      },
      {
        "duration": 13,
        "start_time": "2022-06-09T07:07:34.977Z"
      },
      {
        "duration": 7,
        "start_time": "2022-06-09T07:07:41.674Z"
      },
      {
        "duration": 672,
        "start_time": "2022-06-09T07:07:45.108Z"
      },
      {
        "duration": 11,
        "start_time": "2022-06-09T07:11:30.440Z"
      },
      {
        "duration": 837,
        "start_time": "2022-06-09T07:11:32.734Z"
      },
      {
        "duration": 5,
        "start_time": "2022-06-09T07:11:48.628Z"
      },
      {
        "duration": 5,
        "start_time": "2022-06-09T07:11:53.428Z"
      },
      {
        "duration": 767,
        "start_time": "2022-06-09T07:11:55.251Z"
      },
      {
        "duration": 9,
        "start_time": "2022-06-09T07:12:02.689Z"
      },
      {
        "duration": 687,
        "start_time": "2022-06-09T07:12:04.392Z"
      },
      {
        "duration": 851,
        "start_time": "2022-06-09T07:12:12.809Z"
      },
      {
        "duration": 700,
        "start_time": "2022-06-09T07:12:44.669Z"
      },
      {
        "duration": 8,
        "start_time": "2022-06-09T07:12:54.588Z"
      },
      {
        "duration": 832,
        "start_time": "2022-06-09T07:12:56.035Z"
      },
      {
        "duration": 6,
        "start_time": "2022-06-09T07:13:00.546Z"
      },
      {
        "duration": 845,
        "start_time": "2022-06-09T07:13:02.520Z"
      },
      {
        "duration": 6,
        "start_time": "2022-06-09T07:13:08.140Z"
      },
      {
        "duration": 745,
        "start_time": "2022-06-09T07:13:09.382Z"
      },
      {
        "duration": 8,
        "start_time": "2022-06-09T07:13:23.756Z"
      },
      {
        "duration": 9,
        "start_time": "2022-06-09T07:15:03.167Z"
      },
      {
        "duration": 971,
        "start_time": "2022-06-09T07:15:05.665Z"
      },
      {
        "duration": 5,
        "start_time": "2022-06-09T07:15:09.430Z"
      },
      {
        "duration": 698,
        "start_time": "2022-06-09T07:15:11.515Z"
      },
      {
        "duration": 7,
        "start_time": "2022-06-09T07:16:08.303Z"
      },
      {
        "duration": 840,
        "start_time": "2022-06-09T07:16:09.722Z"
      },
      {
        "duration": 8,
        "start_time": "2022-06-09T07:16:13.675Z"
      },
      {
        "duration": 862,
        "start_time": "2022-06-09T07:16:14.963Z"
      },
      {
        "duration": 8,
        "start_time": "2022-06-09T07:16:38.671Z"
      },
      {
        "duration": 713,
        "start_time": "2022-06-09T07:16:40.401Z"
      },
      {
        "duration": 4727,
        "start_time": "2022-06-09T07:22:06.839Z"
      },
      {
        "duration": 20,
        "start_time": "2022-06-09T07:26:55.567Z"
      },
      {
        "duration": 25,
        "start_time": "2022-06-09T07:27:10.877Z"
      },
      {
        "duration": 16,
        "start_time": "2022-06-09T07:28:20.109Z"
      },
      {
        "duration": 5,
        "start_time": "2022-06-09T07:30:04.144Z"
      },
      {
        "duration": 880,
        "start_time": "2022-06-09T07:30:06.515Z"
      },
      {
        "duration": 913,
        "start_time": "2022-06-09T07:30:57.273Z"
      },
      {
        "duration": 34,
        "start_time": "2022-06-09T07:31:31.387Z"
      },
      {
        "duration": 2330,
        "start_time": "2022-06-09T07:31:35.112Z"
      },
      {
        "duration": 2320,
        "start_time": "2022-06-09T07:31:53.713Z"
      },
      {
        "duration": 10,
        "start_time": "2022-06-09T07:32:50.736Z"
      },
      {
        "duration": 2382,
        "start_time": "2022-06-09T07:32:52.087Z"
      },
      {
        "duration": 2453,
        "start_time": "2022-06-09T07:33:48.620Z"
      },
      {
        "duration": 2430,
        "start_time": "2022-06-09T07:34:04.250Z"
      },
      {
        "duration": 2528,
        "start_time": "2022-06-09T07:34:19.412Z"
      },
      {
        "duration": 1401,
        "start_time": "2022-06-09T07:38:00.325Z"
      },
      {
        "duration": 441,
        "start_time": "2022-06-09T07:38:01.728Z"
      },
      {
        "duration": 118,
        "start_time": "2022-06-09T07:38:02.175Z"
      },
      {
        "duration": 117,
        "start_time": "2022-06-09T07:38:02.296Z"
      },
      {
        "duration": 106,
        "start_time": "2022-06-09T07:38:02.415Z"
      },
      {
        "duration": 91,
        "start_time": "2022-06-09T07:38:02.523Z"
      },
      {
        "duration": 1165,
        "start_time": "2022-06-09T07:38:02.616Z"
      },
      {
        "duration": 8460,
        "start_time": "2022-06-09T07:38:03.784Z"
      },
      {
        "duration": 19,
        "start_time": "2022-06-09T07:38:12.246Z"
      },
      {
        "duration": 32,
        "start_time": "2022-06-09T07:38:12.268Z"
      },
      {
        "duration": 34,
        "start_time": "2022-06-09T07:38:12.303Z"
      },
      {
        "duration": 42,
        "start_time": "2022-06-09T07:38:12.338Z"
      },
      {
        "duration": 184,
        "start_time": "2022-06-09T07:38:12.382Z"
      },
      {
        "duration": 104,
        "start_time": "2022-06-09T07:38:12.573Z"
      },
      {
        "duration": 75,
        "start_time": "2022-06-09T07:38:12.687Z"
      },
      {
        "duration": 36,
        "start_time": "2022-06-09T07:38:12.770Z"
      },
      {
        "duration": 52,
        "start_time": "2022-06-09T07:38:12.808Z"
      },
      {
        "duration": 5,
        "start_time": "2022-06-09T07:38:12.861Z"
      },
      {
        "duration": 2217,
        "start_time": "2022-06-09T07:38:12.869Z"
      },
      {
        "duration": 56,
        "start_time": "2022-06-10T10:14:18.088Z"
      },
      {
        "duration": 7,
        "start_time": "2022-06-10T10:14:33.886Z"
      },
      {
        "duration": 1601,
        "start_time": "2022-06-10T10:14:39.122Z"
      },
      {
        "duration": 986,
        "start_time": "2022-06-10T10:14:40.725Z"
      },
      {
        "duration": 95,
        "start_time": "2022-06-10T10:14:41.713Z"
      },
      {
        "duration": 101,
        "start_time": "2022-06-10T10:14:41.811Z"
      },
      {
        "duration": 102,
        "start_time": "2022-06-10T10:14:41.913Z"
      },
      {
        "duration": 80,
        "start_time": "2022-06-10T10:14:42.017Z"
      },
      {
        "duration": 1109,
        "start_time": "2022-06-10T10:14:42.099Z"
      },
      {
        "duration": 8812,
        "start_time": "2022-06-10T10:14:43.212Z"
      },
      {
        "duration": 12,
        "start_time": "2022-06-10T10:14:52.026Z"
      },
      {
        "duration": 39,
        "start_time": "2022-06-10T10:14:52.041Z"
      },
      {
        "duration": 40,
        "start_time": "2022-06-10T10:14:52.082Z"
      },
      {
        "duration": 158,
        "start_time": "2022-06-10T10:14:52.124Z"
      },
      {
        "duration": 89,
        "start_time": "2022-06-10T10:14:52.284Z"
      },
      {
        "duration": 93,
        "start_time": "2022-06-10T10:14:52.377Z"
      },
      {
        "duration": 125,
        "start_time": "2022-06-10T10:14:52.476Z"
      },
      {
        "duration": 52,
        "start_time": "2022-06-10T10:14:52.604Z"
      },
      {
        "duration": 38,
        "start_time": "2022-06-10T10:14:52.659Z"
      },
      {
        "duration": 119,
        "start_time": "2022-06-10T10:14:52.699Z"
      },
      {
        "duration": 0,
        "start_time": "2022-06-10T10:14:52.820Z"
      },
      {
        "duration": 0,
        "start_time": "2022-06-10T10:14:52.821Z"
      },
      {
        "duration": 23,
        "start_time": "2022-06-10T10:15:33.893Z"
      },
      {
        "duration": 39,
        "start_time": "2022-06-10T10:18:32.352Z"
      },
      {
        "duration": 44,
        "start_time": "2022-06-10T10:19:08.150Z"
      },
      {
        "duration": 90,
        "start_time": "2022-06-10T10:21:17.968Z"
      },
      {
        "duration": 121,
        "start_time": "2022-06-10T10:21:31.845Z"
      },
      {
        "duration": 88,
        "start_time": "2022-06-10T10:21:39.577Z"
      },
      {
        "duration": 25,
        "start_time": "2022-06-10T10:21:42.219Z"
      },
      {
        "duration": 23,
        "start_time": "2022-06-10T10:21:43.644Z"
      },
      {
        "duration": 18,
        "start_time": "2022-06-10T10:21:46.072Z"
      },
      {
        "duration": 15,
        "start_time": "2022-06-10T10:22:02.684Z"
      },
      {
        "duration": 18,
        "start_time": "2022-06-10T10:22:19.791Z"
      },
      {
        "duration": 7,
        "start_time": "2022-06-10T10:22:32.776Z"
      },
      {
        "duration": 23,
        "start_time": "2022-06-10T10:22:41.320Z"
      },
      {
        "duration": 23,
        "start_time": "2022-06-10T10:23:12.976Z"
      },
      {
        "duration": 8,
        "start_time": "2022-06-10T10:23:23.122Z"
      },
      {
        "duration": 16,
        "start_time": "2022-06-10T10:23:29.346Z"
      },
      {
        "duration": 21,
        "start_time": "2022-06-10T10:23:33.918Z"
      },
      {
        "duration": 12,
        "start_time": "2022-06-10T10:23:40.115Z"
      },
      {
        "duration": 14,
        "start_time": "2022-06-10T10:24:28.821Z"
      },
      {
        "duration": 10,
        "start_time": "2022-06-10T10:24:49.179Z"
      },
      {
        "duration": 83,
        "start_time": "2022-06-10T10:25:32.579Z"
      },
      {
        "duration": 36,
        "start_time": "2022-06-10T10:25:39.928Z"
      },
      {
        "duration": 28,
        "start_time": "2022-06-10T10:25:53.278Z"
      },
      {
        "duration": 29,
        "start_time": "2022-06-10T10:25:55.546Z"
      },
      {
        "duration": 16,
        "start_time": "2022-06-10T10:26:06.376Z"
      },
      {
        "duration": 6,
        "start_time": "2022-06-10T10:26:15.543Z"
      },
      {
        "duration": 34,
        "start_time": "2022-06-10T10:26:27.531Z"
      },
      {
        "duration": 23,
        "start_time": "2022-06-10T10:26:29.384Z"
      },
      {
        "duration": 5,
        "start_time": "2022-06-10T10:26:32.982Z"
      },
      {
        "duration": 16,
        "start_time": "2022-06-10T10:26:51.384Z"
      },
      {
        "duration": 9,
        "start_time": "2022-06-10T10:26:59.773Z"
      },
      {
        "duration": 14,
        "start_time": "2022-06-10T10:27:06.781Z"
      },
      {
        "duration": 4,
        "start_time": "2022-06-10T10:28:04.350Z"
      },
      {
        "duration": 9,
        "start_time": "2022-06-10T10:28:06.354Z"
      },
      {
        "duration": 5,
        "start_time": "2022-06-10T10:28:39.561Z"
      },
      {
        "duration": 7,
        "start_time": "2022-06-10T10:29:04.766Z"
      },
      {
        "duration": 5,
        "start_time": "2022-06-10T10:35:57.440Z"
      },
      {
        "duration": 5,
        "start_time": "2022-06-10T10:36:07.991Z"
      },
      {
        "duration": 4,
        "start_time": "2022-06-10T10:36:09.884Z"
      },
      {
        "duration": 10,
        "start_time": "2022-06-10T10:36:11.866Z"
      },
      {
        "duration": 16,
        "start_time": "2022-06-10T10:36:36.093Z"
      },
      {
        "duration": 15,
        "start_time": "2022-06-10T10:36:49.918Z"
      },
      {
        "duration": 25,
        "start_time": "2022-06-10T10:37:15.492Z"
      },
      {
        "duration": 26,
        "start_time": "2022-06-10T10:37:18.549Z"
      },
      {
        "duration": 15,
        "start_time": "2022-06-10T10:37:24.353Z"
      },
      {
        "duration": 45,
        "start_time": "2022-06-10T10:37:37.309Z"
      },
      {
        "duration": 27,
        "start_time": "2022-06-10T10:37:47.316Z"
      },
      {
        "duration": 15,
        "start_time": "2022-06-10T10:37:49.059Z"
      },
      {
        "duration": 26,
        "start_time": "2022-06-10T10:37:53.464Z"
      },
      {
        "duration": 5,
        "start_time": "2022-06-10T10:38:04.463Z"
      },
      {
        "duration": 17,
        "start_time": "2022-06-10T10:39:31.544Z"
      },
      {
        "duration": 18,
        "start_time": "2022-06-10T10:39:37.959Z"
      },
      {
        "duration": 7,
        "start_time": "2022-06-10T10:39:55.374Z"
      },
      {
        "duration": 11,
        "start_time": "2022-06-10T10:40:31.579Z"
      },
      {
        "duration": 17,
        "start_time": "2022-06-10T10:40:43.172Z"
      },
      {
        "duration": 4,
        "start_time": "2022-06-10T10:41:52.375Z"
      },
      {
        "duration": 5,
        "start_time": "2022-06-10T10:42:16.517Z"
      },
      {
        "duration": 1759,
        "start_time": "2022-06-10T10:42:49.477Z"
      },
      {
        "duration": 8,
        "start_time": "2022-06-10T10:43:10.191Z"
      },
      {
        "duration": 8,
        "start_time": "2022-06-10T10:43:13.032Z"
      },
      {
        "duration": 1778,
        "start_time": "2022-06-10T10:43:15.103Z"
      },
      {
        "duration": 1686,
        "start_time": "2022-06-10T10:43:19.498Z"
      },
      {
        "duration": 1771,
        "start_time": "2022-06-10T10:43:23.828Z"
      },
      {
        "duration": 1738,
        "start_time": "2022-06-10T10:43:30.964Z"
      },
      {
        "duration": 1685,
        "start_time": "2022-06-10T10:44:35.891Z"
      },
      {
        "duration": 1743,
        "start_time": "2022-06-10T10:48:36.842Z"
      },
      {
        "duration": 6,
        "start_time": "2022-06-10T10:48:40.114Z"
      },
      {
        "duration": 1756,
        "start_time": "2022-06-10T10:48:42.033Z"
      },
      {
        "duration": 1662,
        "start_time": "2022-06-10T10:50:11.577Z"
      },
      {
        "duration": 1724,
        "start_time": "2022-06-10T10:50:36.516Z"
      },
      {
        "duration": 1813,
        "start_time": "2022-06-10T10:51:57.022Z"
      },
      {
        "duration": 1691,
        "start_time": "2022-06-10T10:52:20.493Z"
      },
      {
        "duration": 1782,
        "start_time": "2022-06-10T10:52:36.313Z"
      },
      {
        "duration": 1645,
        "start_time": "2022-06-10T10:53:28.603Z"
      },
      {
        "duration": 1718,
        "start_time": "2022-06-10T10:53:40.560Z"
      },
      {
        "duration": 25,
        "start_time": "2022-06-10T10:54:38.945Z"
      },
      {
        "duration": 5026,
        "start_time": "2022-06-10T10:54:45.105Z"
      },
      {
        "duration": 5250,
        "start_time": "2022-06-10T10:55:34.081Z"
      },
      {
        "duration": 1306,
        "start_time": "2022-06-10T10:56:09.022Z"
      },
      {
        "duration": 392,
        "start_time": "2022-06-10T10:56:10.329Z"
      },
      {
        "duration": 115,
        "start_time": "2022-06-10T10:56:10.723Z"
      },
      {
        "duration": 118,
        "start_time": "2022-06-10T10:56:10.840Z"
      },
      {
        "duration": 117,
        "start_time": "2022-06-10T10:56:10.960Z"
      },
      {
        "duration": 97,
        "start_time": "2022-06-10T10:56:11.081Z"
      },
      {
        "duration": 1142,
        "start_time": "2022-06-10T10:56:11.185Z"
      },
      {
        "duration": 8699,
        "start_time": "2022-06-10T10:56:12.328Z"
      },
      {
        "duration": 16,
        "start_time": "2022-06-10T10:56:21.029Z"
      },
      {
        "duration": 45,
        "start_time": "2022-06-10T10:56:21.051Z"
      },
      {
        "duration": 42,
        "start_time": "2022-06-10T10:56:21.098Z"
      },
      {
        "duration": 40,
        "start_time": "2022-06-10T10:56:21.142Z"
      },
      {
        "duration": 89,
        "start_time": "2022-06-10T10:56:21.184Z"
      },
      {
        "duration": 105,
        "start_time": "2022-06-10T10:56:21.280Z"
      },
      {
        "duration": 10,
        "start_time": "2022-06-10T10:56:21.468Z"
      },
      {
        "duration": 45,
        "start_time": "2022-06-10T10:56:21.554Z"
      },
      {
        "duration": 19,
        "start_time": "2022-06-10T10:56:21.600Z"
      },
      {
        "duration": 9,
        "start_time": "2022-06-10T10:56:21.621Z"
      },
      {
        "duration": 142,
        "start_time": "2022-06-10T10:56:21.632Z"
      },
      {
        "duration": 0,
        "start_time": "2022-06-10T10:56:21.778Z"
      },
      {
        "duration": 0,
        "start_time": "2022-06-10T10:56:21.779Z"
      },
      {
        "duration": 1460,
        "start_time": "2022-06-10T10:56:45.308Z"
      },
      {
        "duration": 431,
        "start_time": "2022-06-10T10:56:46.770Z"
      },
      {
        "duration": 121,
        "start_time": "2022-06-10T10:56:47.203Z"
      },
      {
        "duration": 138,
        "start_time": "2022-06-10T10:56:47.327Z"
      },
      {
        "duration": 117,
        "start_time": "2022-06-10T10:56:47.467Z"
      },
      {
        "duration": 67,
        "start_time": "2022-06-10T10:56:47.586Z"
      },
      {
        "duration": 1102,
        "start_time": "2022-06-10T10:56:47.654Z"
      },
      {
        "duration": 9052,
        "start_time": "2022-06-10T10:56:48.757Z"
      },
      {
        "duration": 12,
        "start_time": "2022-06-10T10:56:57.811Z"
      },
      {
        "duration": 20,
        "start_time": "2022-06-10T10:56:57.825Z"
      },
      {
        "duration": 72,
        "start_time": "2022-06-10T10:56:57.847Z"
      },
      {
        "duration": 69,
        "start_time": "2022-06-10T10:56:57.922Z"
      },
      {
        "duration": 125,
        "start_time": "2022-06-10T10:56:58.051Z"
      },
      {
        "duration": 38,
        "start_time": "2022-06-10T10:56:58.259Z"
      },
      {
        "duration": 179,
        "start_time": "2022-06-10T10:56:58.299Z"
      },
      {
        "duration": 6,
        "start_time": "2022-06-10T10:56:58.481Z"
      },
      {
        "duration": 10,
        "start_time": "2022-06-10T10:56:58.489Z"
      },
      {
        "duration": 7,
        "start_time": "2022-06-10T10:56:58.501Z"
      },
      {
        "duration": 5341,
        "start_time": "2022-06-10T10:56:58.510Z"
      }
    ],
    "kernelspec": {
      "display_name": "Python 3 (ipykernel)",
      "language": "python",
      "name": "python3"
    },
    "language_info": {
      "codemirror_mode": {
        "name": "ipython",
        "version": 3
      },
      "file_extension": ".py",
      "mimetype": "text/x-python",
      "name": "python",
      "nbconvert_exporter": "python",
      "pygments_lexer": "ipython3",
      "version": "3.9.5"
    },
    "toc": {
      "base_numbering": 1,
      "nav_menu": {},
      "number_sections": true,
      "sideBar": true,
      "skip_h1_title": true,
      "title_cell": "Table of Contents",
      "title_sidebar": "Contents",
      "toc_cell": false,
      "toc_position": {
        "height": "calc(100% - 180px)",
        "left": "10px",
        "top": "150px",
        "width": "366.188px"
      },
      "toc_section_display": true,
      "toc_window_display": true
    },
    "colab": {
      "provenance": [],
      "toc_visible": true
    }
  },
  "nbformat": 4,
  "nbformat_minor": 0
}