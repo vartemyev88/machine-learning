{
  "cells": [
    {
      "cell_type": "markdown",
      "metadata": {
        "id": "0RpU10LxQdcd"
      },
      "source": [
        "# Project description\n",
        "\n",
        "Project for \"WikiShop\"\n",
        "\n",
        "The online store \"WikiShop\" is launching a new service. Now users can edit and supplement product descriptions, just like in wiki communities. This means that customers suggest their edits and comment on other changes. The store needs a tool that will detect toxic comments and send them for moderation.\n",
        "\n",
        "Train a model to classify comments as positive or negative. You have a dataset with labels for the toxicity of edits.\n",
        "\n",
        "Build a model with an F1 score of at least 0.75."
      ]
    },
    {
      "cell_type": "markdown",
      "metadata": {
        "id": "nnuJEhCkQXRY"
      },
      "source": [
        "# Table of contents\n",
        "\n",
        "---\n",
        "\n",
        "1. [Data](#data)\n",
        "    * [Conclusion](#data-conclusion)\n",
        "2. [Data preprocessing](#data-preprocessing)\n",
        "    * [Text processing](#data-text-processing)\n",
        "3. [Model preparation](#model-preparation)\n",
        "    * [Datasets](#model-datasets-preparation)\n",
        "    * [Hyperparameter tuning](#model-hyperparameter-tuning)\n",
        "    * [Conclusion](#model-conclusion)\n",
        "4. [Model training and testing](#model-training-and-testing)\n",
        "5. [BERT model](#bert-model)\n",
        "    * [Data preprocessing](#bert-data-preprocessing)\n",
        "    * [Datasets](#bert-model-datasets-preparation)\n",
        "    * [Model training and testing](#bert-model-model-training-and-testing)\n",
        "6. [Conclusion](#conclusion)\n",
        "---"
      ]
    },
    {
      "cell_type": "markdown",
      "metadata": {
        "id": "ACsZGRUuQXRY"
      },
      "source": [
        "## Data <a class=\"anchor\" id=\"data\"></a>"
      ]
    },
    {
      "cell_type": "code",
      "execution_count": 1,
      "metadata": {
        "id": "kxbeYkMKZv7G"
      },
      "outputs": [],
      "source": [
        "%%capture\n",
        "!pip install transformers"
      ]
    },
    {
      "cell_type": "code",
      "execution_count": 2,
      "metadata": {
        "id": "dbWnl42TQXRZ"
      },
      "outputs": [],
      "source": [
        "import os\n",
        "import re\n",
        "import warnings\n",
        "\n",
        "import matplotlib.pyplot as plt\n",
        "import numpy as np\n",
        "import nltk\n",
        "import pandas as pd\n",
        "import seaborn as sns\n",
        "import torch\n",
        "import transformers\n",
        "\n",
        "from lightgbm import LGBMClassifier\n",
        "from nltk.corpus import stopwords, wordnet\n",
        "from nltk.tokenize import word_tokenize\n",
        "from sklearn.ensemble import RandomForestClassifier\n",
        "from sklearn.feature_extraction.text import TfidfVectorizer\n",
        "from sklearn.linear_model import LogisticRegression\n",
        "from sklearn.metrics import f1_score, make_scorer\n",
        "from sklearn.model_selection import (\n",
        "    GridSearchCV, RandomizedSearchCV, train_test_split\n",
        "    )\n",
        "from sklearn.pipeline import Pipeline\n",
        "from sklearn.tree import DecisionTreeClassifier\n",
        "from textblob import TextBlob, Word\n",
        "from torch.nn.utils.rnn import pad_sequence\n",
        "from torch.utils.data import DataLoader, TensorDataset\n",
        "from tqdm import notebook\n",
        "from transformers import (\n",
        "    BertTokenizer, BertForSequenceClassification, AdamW\n",
        "    )"
      ]
    },
    {
      "cell_type": "code",
      "execution_count": 3,
      "metadata": {
        "colab": {
          "base_uri": "https://localhost:8080/",
          "height": 571
        },
        "id": "jj8LGdKZRLBV",
        "outputId": "3a26cc65-220e-4af9-84ce-60d7631edaf7"
      },
      "outputs": [
        {
          "output_type": "stream",
          "name": "stdout",
          "text": [
            "Shape of dataframe: (159292, 3)\n",
            "--------------------------\n",
            "Missing values in `toxic`: 0\n",
            "--------------------------\n",
            "Unique values in `toxic`: 2\n",
            "--------------------------\n",
            "Dataframe info: \n",
            "\n",
            "<class 'pandas.core.frame.DataFrame'>\n",
            "RangeIndex: 159292 entries, 0 to 159291\n",
            "Data columns (total 3 columns):\n",
            " #   Column      Non-Null Count   Dtype \n",
            "---  ------      --------------   ----- \n",
            " 0   Unnamed: 0  159292 non-null  int64 \n",
            " 1   text        159292 non-null  object\n",
            " 2   toxic       159292 non-null  int64 \n",
            "dtypes: int64(2), object(1)\n",
            "memory usage: 3.6+ MB\n",
            "None\n",
            "--------------------------\n"
          ]
        },
        {
          "output_type": "display_data",
          "data": {
            "text/plain": [
              "        Unnamed: 0                                               text  toxic\n",
              "35951        35993  Page should just be deleted. \\n\\nNo, seriously...      1\n",
              "115670      115769             my apologies \\n\\nsuck my junk bitch!!!      1"
            ],
            "text/html": [
              "\n",
              "  <div id=\"df-ef21813f-b70a-4a21-ace3-b5d10a1bdd32\">\n",
              "    <div class=\"colab-df-container\">\n",
              "      <div>\n",
              "<style scoped>\n",
              "    .dataframe tbody tr th:only-of-type {\n",
              "        vertical-align: middle;\n",
              "    }\n",
              "\n",
              "    .dataframe tbody tr th {\n",
              "        vertical-align: top;\n",
              "    }\n",
              "\n",
              "    .dataframe thead th {\n",
              "        text-align: right;\n",
              "    }\n",
              "</style>\n",
              "<table border=\"1\" class=\"dataframe\">\n",
              "  <thead>\n",
              "    <tr style=\"text-align: right;\">\n",
              "      <th></th>\n",
              "      <th>Unnamed: 0</th>\n",
              "      <th>text</th>\n",
              "      <th>toxic</th>\n",
              "    </tr>\n",
              "  </thead>\n",
              "  <tbody>\n",
              "    <tr>\n",
              "      <th>35951</th>\n",
              "      <td>35993</td>\n",
              "      <td>Page should just be deleted. \\n\\nNo, seriously...</td>\n",
              "      <td>1</td>\n",
              "    </tr>\n",
              "    <tr>\n",
              "      <th>115670</th>\n",
              "      <td>115769</td>\n",
              "      <td>my apologies \\n\\nsuck my junk bitch!!!</td>\n",
              "      <td>1</td>\n",
              "    </tr>\n",
              "  </tbody>\n",
              "</table>\n",
              "</div>\n",
              "      <button class=\"colab-df-convert\" onclick=\"convertToInteractive('df-ef21813f-b70a-4a21-ace3-b5d10a1bdd32')\"\n",
              "              title=\"Convert this dataframe to an interactive table.\"\n",
              "              style=\"display:none;\">\n",
              "        \n",
              "  <svg xmlns=\"http://www.w3.org/2000/svg\" height=\"24px\"viewBox=\"0 0 24 24\"\n",
              "       width=\"24px\">\n",
              "    <path d=\"M0 0h24v24H0V0z\" fill=\"none\"/>\n",
              "    <path d=\"M18.56 5.44l.94 2.06.94-2.06 2.06-.94-2.06-.94-.94-2.06-.94 2.06-2.06.94zm-11 1L8.5 8.5l.94-2.06 2.06-.94-2.06-.94L8.5 2.5l-.94 2.06-2.06.94zm10 10l.94 2.06.94-2.06 2.06-.94-2.06-.94-.94-2.06-.94 2.06-2.06.94z\"/><path d=\"M17.41 7.96l-1.37-1.37c-.4-.4-.92-.59-1.43-.59-.52 0-1.04.2-1.43.59L10.3 9.45l-7.72 7.72c-.78.78-.78 2.05 0 2.83L4 21.41c.39.39.9.59 1.41.59.51 0 1.02-.2 1.41-.59l7.78-7.78 2.81-2.81c.8-.78.8-2.07 0-2.86zM5.41 20L4 18.59l7.72-7.72 1.47 1.35L5.41 20z\"/>\n",
              "  </svg>\n",
              "      </button>\n",
              "      \n",
              "  <style>\n",
              "    .colab-df-container {\n",
              "      display:flex;\n",
              "      flex-wrap:wrap;\n",
              "      gap: 12px;\n",
              "    }\n",
              "\n",
              "    .colab-df-convert {\n",
              "      background-color: #E8F0FE;\n",
              "      border: none;\n",
              "      border-radius: 50%;\n",
              "      cursor: pointer;\n",
              "      display: none;\n",
              "      fill: #1967D2;\n",
              "      height: 32px;\n",
              "      padding: 0 0 0 0;\n",
              "      width: 32px;\n",
              "    }\n",
              "\n",
              "    .colab-df-convert:hover {\n",
              "      background-color: #E2EBFA;\n",
              "      box-shadow: 0px 1px 2px rgba(60, 64, 67, 0.3), 0px 1px 3px 1px rgba(60, 64, 67, 0.15);\n",
              "      fill: #174EA6;\n",
              "    }\n",
              "\n",
              "    [theme=dark] .colab-df-convert {\n",
              "      background-color: #3B4455;\n",
              "      fill: #D2E3FC;\n",
              "    }\n",
              "\n",
              "    [theme=dark] .colab-df-convert:hover {\n",
              "      background-color: #434B5C;\n",
              "      box-shadow: 0px 1px 3px 1px rgba(0, 0, 0, 0.15);\n",
              "      filter: drop-shadow(0px 1px 2px rgba(0, 0, 0, 0.3));\n",
              "      fill: #FFFFFF;\n",
              "    }\n",
              "  </style>\n",
              "\n",
              "      <script>\n",
              "        const buttonEl =\n",
              "          document.querySelector('#df-ef21813f-b70a-4a21-ace3-b5d10a1bdd32 button.colab-df-convert');\n",
              "        buttonEl.style.display =\n",
              "          google.colab.kernel.accessAllowed ? 'block' : 'none';\n",
              "\n",
              "        async function convertToInteractive(key) {\n",
              "          const element = document.querySelector('#df-ef21813f-b70a-4a21-ace3-b5d10a1bdd32');\n",
              "          const dataTable =\n",
              "            await google.colab.kernel.invokeFunction('convertToInteractive',\n",
              "                                                     [key], {});\n",
              "          if (!dataTable) return;\n",
              "\n",
              "          const docLinkHtml = 'Like what you see? Visit the ' +\n",
              "            '<a target=\"_blank\" href=https://colab.research.google.com/notebooks/data_table.ipynb>data table notebook</a>'\n",
              "            + ' to learn more about interactive tables.';\n",
              "          element.innerHTML = '';\n",
              "          dataTable['output_type'] = 'display_data';\n",
              "          await google.colab.output.renderOutput(dataTable, element);\n",
              "          const docLink = document.createElement('div');\n",
              "          docLink.innerHTML = docLinkHtml;\n",
              "          element.appendChild(docLink);\n",
              "        }\n",
              "      </script>\n",
              "    </div>\n",
              "  </div>\n",
              "  "
            ]
          },
          "metadata": {}
        },
        {
          "output_type": "display_data",
          "data": {
            "text/plain": [
              "        Unnamed: 0                                 text  toxic\n",
              "142553      142706             oh, please81.178.153.156      0\n",
              "79957        80033  the long-term effects of Fluoxetine      0"
            ],
            "text/html": [
              "\n",
              "  <div id=\"df-e1e3a217-21b0-4e42-92ab-122f2f71b366\">\n",
              "    <div class=\"colab-df-container\">\n",
              "      <div>\n",
              "<style scoped>\n",
              "    .dataframe tbody tr th:only-of-type {\n",
              "        vertical-align: middle;\n",
              "    }\n",
              "\n",
              "    .dataframe tbody tr th {\n",
              "        vertical-align: top;\n",
              "    }\n",
              "\n",
              "    .dataframe thead th {\n",
              "        text-align: right;\n",
              "    }\n",
              "</style>\n",
              "<table border=\"1\" class=\"dataframe\">\n",
              "  <thead>\n",
              "    <tr style=\"text-align: right;\">\n",
              "      <th></th>\n",
              "      <th>Unnamed: 0</th>\n",
              "      <th>text</th>\n",
              "      <th>toxic</th>\n",
              "    </tr>\n",
              "  </thead>\n",
              "  <tbody>\n",
              "    <tr>\n",
              "      <th>142553</th>\n",
              "      <td>142706</td>\n",
              "      <td>oh, please81.178.153.156</td>\n",
              "      <td>0</td>\n",
              "    </tr>\n",
              "    <tr>\n",
              "      <th>79957</th>\n",
              "      <td>80033</td>\n",
              "      <td>the long-term effects of Fluoxetine</td>\n",
              "      <td>0</td>\n",
              "    </tr>\n",
              "  </tbody>\n",
              "</table>\n",
              "</div>\n",
              "      <button class=\"colab-df-convert\" onclick=\"convertToInteractive('df-e1e3a217-21b0-4e42-92ab-122f2f71b366')\"\n",
              "              title=\"Convert this dataframe to an interactive table.\"\n",
              "              style=\"display:none;\">\n",
              "        \n",
              "  <svg xmlns=\"http://www.w3.org/2000/svg\" height=\"24px\"viewBox=\"0 0 24 24\"\n",
              "       width=\"24px\">\n",
              "    <path d=\"M0 0h24v24H0V0z\" fill=\"none\"/>\n",
              "    <path d=\"M18.56 5.44l.94 2.06.94-2.06 2.06-.94-2.06-.94-.94-2.06-.94 2.06-2.06.94zm-11 1L8.5 8.5l.94-2.06 2.06-.94-2.06-.94L8.5 2.5l-.94 2.06-2.06.94zm10 10l.94 2.06.94-2.06 2.06-.94-2.06-.94-.94-2.06-.94 2.06-2.06.94z\"/><path d=\"M17.41 7.96l-1.37-1.37c-.4-.4-.92-.59-1.43-.59-.52 0-1.04.2-1.43.59L10.3 9.45l-7.72 7.72c-.78.78-.78 2.05 0 2.83L4 21.41c.39.39.9.59 1.41.59.51 0 1.02-.2 1.41-.59l7.78-7.78 2.81-2.81c.8-.78.8-2.07 0-2.86zM5.41 20L4 18.59l7.72-7.72 1.47 1.35L5.41 20z\"/>\n",
              "  </svg>\n",
              "      </button>\n",
              "      \n",
              "  <style>\n",
              "    .colab-df-container {\n",
              "      display:flex;\n",
              "      flex-wrap:wrap;\n",
              "      gap: 12px;\n",
              "    }\n",
              "\n",
              "    .colab-df-convert {\n",
              "      background-color: #E8F0FE;\n",
              "      border: none;\n",
              "      border-radius: 50%;\n",
              "      cursor: pointer;\n",
              "      display: none;\n",
              "      fill: #1967D2;\n",
              "      height: 32px;\n",
              "      padding: 0 0 0 0;\n",
              "      width: 32px;\n",
              "    }\n",
              "\n",
              "    .colab-df-convert:hover {\n",
              "      background-color: #E2EBFA;\n",
              "      box-shadow: 0px 1px 2px rgba(60, 64, 67, 0.3), 0px 1px 3px 1px rgba(60, 64, 67, 0.15);\n",
              "      fill: #174EA6;\n",
              "    }\n",
              "\n",
              "    [theme=dark] .colab-df-convert {\n",
              "      background-color: #3B4455;\n",
              "      fill: #D2E3FC;\n",
              "    }\n",
              "\n",
              "    [theme=dark] .colab-df-convert:hover {\n",
              "      background-color: #434B5C;\n",
              "      box-shadow: 0px 1px 3px 1px rgba(0, 0, 0, 0.15);\n",
              "      filter: drop-shadow(0px 1px 2px rgba(0, 0, 0, 0.3));\n",
              "      fill: #FFFFFF;\n",
              "    }\n",
              "  </style>\n",
              "\n",
              "      <script>\n",
              "        const buttonEl =\n",
              "          document.querySelector('#df-e1e3a217-21b0-4e42-92ab-122f2f71b366 button.colab-df-convert');\n",
              "        buttonEl.style.display =\n",
              "          google.colab.kernel.accessAllowed ? 'block' : 'none';\n",
              "\n",
              "        async function convertToInteractive(key) {\n",
              "          const element = document.querySelector('#df-e1e3a217-21b0-4e42-92ab-122f2f71b366');\n",
              "          const dataTable =\n",
              "            await google.colab.kernel.invokeFunction('convertToInteractive',\n",
              "                                                     [key], {});\n",
              "          if (!dataTable) return;\n",
              "\n",
              "          const docLinkHtml = 'Like what you see? Visit the ' +\n",
              "            '<a target=\"_blank\" href=https://colab.research.google.com/notebooks/data_table.ipynb>data table notebook</a>'\n",
              "            + ' to learn more about interactive tables.';\n",
              "          element.innerHTML = '';\n",
              "          dataTable['output_type'] = 'display_data';\n",
              "          await google.colab.output.renderOutput(dataTable, element);\n",
              "          const docLink = document.createElement('div');\n",
              "          docLink.innerHTML = docLinkHtml;\n",
              "          element.appendChild(docLink);\n",
              "        }\n",
              "      </script>\n",
              "    </div>\n",
              "  </div>\n",
              "  "
            ]
          },
          "metadata": {}
        },
        {
          "output_type": "stream",
          "name": "stdout",
          "text": [
            "Percentage of toxic comments: 10.16%\n"
          ]
        }
      ],
      "source": [
        "# Searching for file\n",
        "file_names = ['toxic_comments.csv']\n",
        "url = 'https://code.s3.yandex.net/datasets/toxic_comments.csv'\n",
        "\n",
        "file_path = None\n",
        "\n",
        "for root, dirs, files in os.walk('.'):\n",
        "    for file_name in file_names:\n",
        "        if file_name in files:\n",
        "            file_path = os.path.join(root, file_name)\n",
        "            break\n",
        "    else:\n",
        "        continue\n",
        "    break\n",
        "\n",
        "if file_path is not None:\n",
        "    df = pd.read_csv(file_path)\n",
        "else:\n",
        "    df = pd.read_csv(url)\n",
        "\n",
        "# Ignoring all warnings and displaying all columns in the DF\n",
        "warnings.filterwarnings('ignore')\n",
        "pd.set_option('display.max_columns', None)\n",
        "\n",
        "# Basic information\n",
        "print(f\"Shape of dataframe: {df.shape}\")\n",
        "print(f\"-\" * 26)\n",
        "print(f\"Missing values in `toxic`: {df['toxic'].isnull().sum().sum()}\")\n",
        "print(f\"-\" * 26)\n",
        "print(f\"Unique values in `toxic`: {df['toxic'].nunique()}\")\n",
        "print(f\"-\" * 26)\n",
        "print(f\"Dataframe info: \\n\")\n",
        "print(df.info())\n",
        "print(f\"-\" * 26)\n",
        "display(df[df['toxic']==1].sample(2))\n",
        "display(df[df['toxic']==0].sample(2))\n",
        "\n",
        "toxic_count_part = round(\n",
        "    (df['toxic']==1).sum() / (\n",
        "        (df['toxic']==0).sum() + (df['toxic']==1).sum()\n",
        "    ) * 100, 2\n",
        ")\n",
        "print(f\"Percentage of toxic comments: {toxic_count_part}%\")"
      ]
    },
    {
      "cell_type": "code",
      "execution_count": 4,
      "metadata": {
        "colab": {
          "base_uri": "https://localhost:8080/"
        },
        "id": "2EVJCtM0QXRb",
        "outputId": "d25c140f-dd7b-41eb-f3fe-2d75566ad5ee"
      },
      "outputs": [
        {
          "output_type": "stream",
          "name": "stderr",
          "text": [
            "[nltk_data] Downloading package stopwords to /root/nltk_data...\n",
            "[nltk_data]   Unzipping corpora/stopwords.zip.\n",
            "[nltk_data] Downloading package punkt to /root/nltk_data...\n",
            "[nltk_data]   Unzipping tokenizers/punkt.zip.\n",
            "[nltk_data] Downloading package wordnet to /root/nltk_data...\n",
            "[nltk_data] Downloading package omw-1.4 to /root/nltk_data...\n",
            "[nltk_data] Downloading package averaged_perceptron_tagger to\n",
            "[nltk_data]     /root/nltk_data...\n",
            "[nltk_data]   Unzipping taggers/averaged_perceptron_tagger.zip.\n"
          ]
        },
        {
          "output_type": "execute_result",
          "data": {
            "text/plain": [
              "True"
            ]
          },
          "metadata": {},
          "execution_count": 4
        }
      ],
      "source": [
        "nltk.download('stopwords')\n",
        "nltk.download('punkt')\n",
        "nltk.download('wordnet')\n",
        "nltk.download('omw-1.4')\n",
        "nltk.download('averaged_perceptron_tagger')"
      ]
    },
    {
      "cell_type": "markdown",
      "metadata": {
        "id": "0Yp6hvNuS2UG"
      },
      "source": [
        "### Conclusion <a class=\"anchor\" id=\"data-conclusion\"></a>\n",
        "\n",
        "The initial data inspection showed:\n",
        "\n",
        "- The data is represented in large quantities.\n",
        "- The comments are either negative or not, no other value has been identified\n",
        "-10.17% of the comments are toxic.\n",
        "- A class imbalance has been identified, which needs to be addressed."
      ]
    },
    {
      "cell_type": "markdown",
      "metadata": {
        "id": "sejqWwPXQXRf"
      },
      "source": [
        "## Data preprocessing <a class=\"anchor\" id=\"data-preprocessing\"></a>\n",
        "\n",
        "We will balance the data, it should be adjusted to the smaller class, that is, the toxic comments."
      ]
    },
    {
      "cell_type": "code",
      "execution_count": 5,
      "metadata": {
        "colab": {
          "base_uri": "https://localhost:8080/",
          "height": 415
        },
        "id": "C1lBimpKQXRf",
        "outputId": "70df8a7e-2e89-4e63-8d6e-531db00f6e76"
      },
      "outputs": [
        {
          "output_type": "stream",
          "name": "stdout",
          "text": [
            "Number of toxic comments: 16186 \n",
            "\n",
            "Percentage of comments after balancing: 50%\n"
          ]
        },
        {
          "output_type": "execute_result",
          "data": {
            "text/plain": [
              "       Unnamed: 0                                               text  toxic\n",
              "19255       92644  Well its leading to a bit of a problem on the ...      0\n",
              "30306      103856  \"\\nYou dopy little fuck, \"\"wee curry monster\"\"...      1\n",
              "8839         7245  It dont matter where u r...Kansas or anywhere ...      1\n",
              "20057       89157  What the F son? \\n\\nHere I am trying to educat...      1\n",
              "228        132553  \"\\nIt is exactly about that. we don't know whe...      0\n",
              "5840        45365  \"\\n\\n Mind Pollution and Sin Star votes \\n\\nI ...      0\n",
              "19188      124270          What source is the higher Russian figure?      0\n",
              "26714       49039  albert einstine was a foorball player for the ...      1\n",
              "31238       75345  \"\\n\\nI think you are right, in that there may ...      0\n",
              "350         24087  Hello \\n\\nHi there!\\n\\nPlz check my talkpage.\\...      0"
            ],
            "text/html": [
              "\n",
              "  <div id=\"df-2aba9e10-a389-4496-935a-264ef9d07992\">\n",
              "    <div class=\"colab-df-container\">\n",
              "      <div>\n",
              "<style scoped>\n",
              "    .dataframe tbody tr th:only-of-type {\n",
              "        vertical-align: middle;\n",
              "    }\n",
              "\n",
              "    .dataframe tbody tr th {\n",
              "        vertical-align: top;\n",
              "    }\n",
              "\n",
              "    .dataframe thead th {\n",
              "        text-align: right;\n",
              "    }\n",
              "</style>\n",
              "<table border=\"1\" class=\"dataframe\">\n",
              "  <thead>\n",
              "    <tr style=\"text-align: right;\">\n",
              "      <th></th>\n",
              "      <th>Unnamed: 0</th>\n",
              "      <th>text</th>\n",
              "      <th>toxic</th>\n",
              "    </tr>\n",
              "  </thead>\n",
              "  <tbody>\n",
              "    <tr>\n",
              "      <th>19255</th>\n",
              "      <td>92644</td>\n",
              "      <td>Well its leading to a bit of a problem on the ...</td>\n",
              "      <td>0</td>\n",
              "    </tr>\n",
              "    <tr>\n",
              "      <th>30306</th>\n",
              "      <td>103856</td>\n",
              "      <td>\"\\nYou dopy little fuck, \"\"wee curry monster\"\"...</td>\n",
              "      <td>1</td>\n",
              "    </tr>\n",
              "    <tr>\n",
              "      <th>8839</th>\n",
              "      <td>7245</td>\n",
              "      <td>It dont matter where u r...Kansas or anywhere ...</td>\n",
              "      <td>1</td>\n",
              "    </tr>\n",
              "    <tr>\n",
              "      <th>20057</th>\n",
              "      <td>89157</td>\n",
              "      <td>What the F son? \\n\\nHere I am trying to educat...</td>\n",
              "      <td>1</td>\n",
              "    </tr>\n",
              "    <tr>\n",
              "      <th>228</th>\n",
              "      <td>132553</td>\n",
              "      <td>\"\\nIt is exactly about that. we don't know whe...</td>\n",
              "      <td>0</td>\n",
              "    </tr>\n",
              "    <tr>\n",
              "      <th>5840</th>\n",
              "      <td>45365</td>\n",
              "      <td>\"\\n\\n Mind Pollution and Sin Star votes \\n\\nI ...</td>\n",
              "      <td>0</td>\n",
              "    </tr>\n",
              "    <tr>\n",
              "      <th>19188</th>\n",
              "      <td>124270</td>\n",
              "      <td>What source is the higher Russian figure?</td>\n",
              "      <td>0</td>\n",
              "    </tr>\n",
              "    <tr>\n",
              "      <th>26714</th>\n",
              "      <td>49039</td>\n",
              "      <td>albert einstine was a foorball player for the ...</td>\n",
              "      <td>1</td>\n",
              "    </tr>\n",
              "    <tr>\n",
              "      <th>31238</th>\n",
              "      <td>75345</td>\n",
              "      <td>\"\\n\\nI think you are right, in that there may ...</td>\n",
              "      <td>0</td>\n",
              "    </tr>\n",
              "    <tr>\n",
              "      <th>350</th>\n",
              "      <td>24087</td>\n",
              "      <td>Hello \\n\\nHi there!\\n\\nPlz check my talkpage.\\...</td>\n",
              "      <td>0</td>\n",
              "    </tr>\n",
              "  </tbody>\n",
              "</table>\n",
              "</div>\n",
              "      <button class=\"colab-df-convert\" onclick=\"convertToInteractive('df-2aba9e10-a389-4496-935a-264ef9d07992')\"\n",
              "              title=\"Convert this dataframe to an interactive table.\"\n",
              "              style=\"display:none;\">\n",
              "        \n",
              "  <svg xmlns=\"http://www.w3.org/2000/svg\" height=\"24px\"viewBox=\"0 0 24 24\"\n",
              "       width=\"24px\">\n",
              "    <path d=\"M0 0h24v24H0V0z\" fill=\"none\"/>\n",
              "    <path d=\"M18.56 5.44l.94 2.06.94-2.06 2.06-.94-2.06-.94-.94-2.06-.94 2.06-2.06.94zm-11 1L8.5 8.5l.94-2.06 2.06-.94-2.06-.94L8.5 2.5l-.94 2.06-2.06.94zm10 10l.94 2.06.94-2.06 2.06-.94-2.06-.94-.94-2.06-.94 2.06-2.06.94z\"/><path d=\"M17.41 7.96l-1.37-1.37c-.4-.4-.92-.59-1.43-.59-.52 0-1.04.2-1.43.59L10.3 9.45l-7.72 7.72c-.78.78-.78 2.05 0 2.83L4 21.41c.39.39.9.59 1.41.59.51 0 1.02-.2 1.41-.59l7.78-7.78 2.81-2.81c.8-.78.8-2.07 0-2.86zM5.41 20L4 18.59l7.72-7.72 1.47 1.35L5.41 20z\"/>\n",
              "  </svg>\n",
              "      </button>\n",
              "      \n",
              "  <style>\n",
              "    .colab-df-container {\n",
              "      display:flex;\n",
              "      flex-wrap:wrap;\n",
              "      gap: 12px;\n",
              "    }\n",
              "\n",
              "    .colab-df-convert {\n",
              "      background-color: #E8F0FE;\n",
              "      border: none;\n",
              "      border-radius: 50%;\n",
              "      cursor: pointer;\n",
              "      display: none;\n",
              "      fill: #1967D2;\n",
              "      height: 32px;\n",
              "      padding: 0 0 0 0;\n",
              "      width: 32px;\n",
              "    }\n",
              "\n",
              "    .colab-df-convert:hover {\n",
              "      background-color: #E2EBFA;\n",
              "      box-shadow: 0px 1px 2px rgba(60, 64, 67, 0.3), 0px 1px 3px 1px rgba(60, 64, 67, 0.15);\n",
              "      fill: #174EA6;\n",
              "    }\n",
              "\n",
              "    [theme=dark] .colab-df-convert {\n",
              "      background-color: #3B4455;\n",
              "      fill: #D2E3FC;\n",
              "    }\n",
              "\n",
              "    [theme=dark] .colab-df-convert:hover {\n",
              "      background-color: #434B5C;\n",
              "      box-shadow: 0px 1px 3px 1px rgba(0, 0, 0, 0.15);\n",
              "      filter: drop-shadow(0px 1px 2px rgba(0, 0, 0, 0.3));\n",
              "      fill: #FFFFFF;\n",
              "    }\n",
              "  </style>\n",
              "\n",
              "      <script>\n",
              "        const buttonEl =\n",
              "          document.querySelector('#df-2aba9e10-a389-4496-935a-264ef9d07992 button.colab-df-convert');\n",
              "        buttonEl.style.display =\n",
              "          google.colab.kernel.accessAllowed ? 'block' : 'none';\n",
              "\n",
              "        async function convertToInteractive(key) {\n",
              "          const element = document.querySelector('#df-2aba9e10-a389-4496-935a-264ef9d07992');\n",
              "          const dataTable =\n",
              "            await google.colab.kernel.invokeFunction('convertToInteractive',\n",
              "                                                     [key], {});\n",
              "          if (!dataTable) return;\n",
              "\n",
              "          const docLinkHtml = 'Like what you see? Visit the ' +\n",
              "            '<a target=\"_blank\" href=https://colab.research.google.com/notebooks/data_table.ipynb>data table notebook</a>'\n",
              "            + ' to learn more about interactive tables.';\n",
              "          element.innerHTML = '';\n",
              "          dataTable['output_type'] = 'display_data';\n",
              "          await google.colab.output.renderOutput(dataTable, element);\n",
              "          const docLink = document.createElement('div');\n",
              "          docLink.innerHTML = docLinkHtml;\n",
              "          element.appendChild(docLink);\n",
              "        }\n",
              "      </script>\n",
              "    </div>\n",
              "  </div>\n",
              "  "
            ]
          },
          "metadata": {},
          "execution_count": 5
        }
      ],
      "source": [
        "toxic_count = (df['toxic']==1).sum()\n",
        "\n",
        "print(f\"Number of toxic comments: {toxic_count} \\n\")\n",
        "\n",
        "negative = df[df['toxic'] == 1]\n",
        "positive = df[df['toxic'] == 0].sample(toxic_count)\n",
        "df = pd.concat([negative, positive], axis=0).sample(frac=1)\n",
        "df.reset_index(drop=True, inplace=True)\n",
        "\n",
        "toxic_count_part = round(\n",
        "    (df['toxic']==1).sum() / (\n",
        "        (df['toxic']==0).sum() + (df['toxic']==1).sum()\n",
        "    ) * 100, 2\n",
        ")\n",
        "print(\n",
        "    f\"Percentage of comments after balancing: {int(toxic_count_part)}%\"\n",
        "    )\n",
        "\n",
        "df.sample(10)"
      ]
    },
    {
      "cell_type": "markdown",
      "metadata": {
        "id": "V2nnQ1w_QXRf"
      },
      "source": [
        "### Text processing <a class=\"anchor\" id=\"data-text-processing\"></a>\n",
        "\n",
        "A text corpus creation:"
      ]
    },
    {
      "cell_type": "code",
      "execution_count": 6,
      "metadata": {
        "id": "umuXeWxBQXRg"
      },
      "outputs": [],
      "source": [
        "corpus = df['text']"
      ]
    },
    {
      "cell_type": "markdown",
      "metadata": {
        "id": "zg5uHm78QXRg"
      },
      "source": [
        "Text lemmatization and removing punctuation and double spaces."
      ]
    },
    {
      "cell_type": "code",
      "execution_count": 7,
      "metadata": {
        "colab": {
          "base_uri": "https://localhost:8080/",
          "height": 632
        },
        "id": "RCkbl6ZOQXRg",
        "outputId": "20628127-4c67-47d7-b72c-33025aa9ee0a"
      },
      "outputs": [
        {
          "output_type": "stream",
          "name": "stdout",
          "text": [
            "Original text:  Rocks, papers and scissors.\n",
            "                Tests     and testing. We are making something!!@#$%\n",
            "\n",
            "Lemmatized text: rock paper and scissors test and test we be make something @ %\n"
          ]
        },
        {
          "output_type": "execute_result",
          "data": {
            "text/plain": [
              "   Unnamed: 0                                               text  toxic  \\\n",
              "0       86147  You dirty fuckers, why block me?  Not busy eno...      1   \n",
              "1       12345  Idiot \\n\\nI just wanted to let you know that y...      1   \n",
              "2       21514  Why do you like to deflower prepubescent girls...      1   \n",
              "3      125445  Is that your new strategy to claim there is no...      0   \n",
              "4       12454  You're a motherfucking idiot\\n\\nYou're stupid ...      1   \n",
              "5       41601                 .\\n\\nI actually feel sorry for you      0   \n",
              "6      118799  The Hand of God Game as it pertains to the 200...      0   \n",
              "7       30196  Good job.  It's now much better referenced.  I...      0   \n",
              "8        1985  \"\\nI really didn't expect it to \"\"fly.\"\" Thank...      0   \n",
              "9      138615                          mother fucking cunt bitch      1   \n",
              "\n",
              "                                     text_lemmatized  \n",
              "0  you dirty fucker why block me not busy enough ...  \n",
              "1  idiot i just want to let you know that you and...  \n",
              "2  why do you like to deflower prepubescent girl ...  \n",
              "3  be that your new strategy to claim there be no...  \n",
              "4  you 're a motherfucking idiot you 're stupid a...  \n",
              "5                      i actually feel sorry for you  \n",
              "6  the hand of god game a it pertain to the 2006 ...  \n",
              "7  good job it 's now much well reference i move ...  \n",
              "8  i really do n't expect it to fly thanks for th...  \n",
              "9                             mother fuck cunt bitch  "
            ],
            "text/html": [
              "\n",
              "  <div id=\"df-0f4b6f98-040a-4b60-837d-1bc6c86d1e8c\">\n",
              "    <div class=\"colab-df-container\">\n",
              "      <div>\n",
              "<style scoped>\n",
              "    .dataframe tbody tr th:only-of-type {\n",
              "        vertical-align: middle;\n",
              "    }\n",
              "\n",
              "    .dataframe tbody tr th {\n",
              "        vertical-align: top;\n",
              "    }\n",
              "\n",
              "    .dataframe thead th {\n",
              "        text-align: right;\n",
              "    }\n",
              "</style>\n",
              "<table border=\"1\" class=\"dataframe\">\n",
              "  <thead>\n",
              "    <tr style=\"text-align: right;\">\n",
              "      <th></th>\n",
              "      <th>Unnamed: 0</th>\n",
              "      <th>text</th>\n",
              "      <th>toxic</th>\n",
              "      <th>text_lemmatized</th>\n",
              "    </tr>\n",
              "  </thead>\n",
              "  <tbody>\n",
              "    <tr>\n",
              "      <th>0</th>\n",
              "      <td>86147</td>\n",
              "      <td>You dirty fuckers, why block me?  Not busy eno...</td>\n",
              "      <td>1</td>\n",
              "      <td>you dirty fucker why block me not busy enough ...</td>\n",
              "    </tr>\n",
              "    <tr>\n",
              "      <th>1</th>\n",
              "      <td>12345</td>\n",
              "      <td>Idiot \\n\\nI just wanted to let you know that y...</td>\n",
              "      <td>1</td>\n",
              "      <td>idiot i just want to let you know that you and...</td>\n",
              "    </tr>\n",
              "    <tr>\n",
              "      <th>2</th>\n",
              "      <td>21514</td>\n",
              "      <td>Why do you like to deflower prepubescent girls...</td>\n",
              "      <td>1</td>\n",
              "      <td>why do you like to deflower prepubescent girl ...</td>\n",
              "    </tr>\n",
              "    <tr>\n",
              "      <th>3</th>\n",
              "      <td>125445</td>\n",
              "      <td>Is that your new strategy to claim there is no...</td>\n",
              "      <td>0</td>\n",
              "      <td>be that your new strategy to claim there be no...</td>\n",
              "    </tr>\n",
              "    <tr>\n",
              "      <th>4</th>\n",
              "      <td>12454</td>\n",
              "      <td>You're a motherfucking idiot\\n\\nYou're stupid ...</td>\n",
              "      <td>1</td>\n",
              "      <td>you 're a motherfucking idiot you 're stupid a...</td>\n",
              "    </tr>\n",
              "    <tr>\n",
              "      <th>5</th>\n",
              "      <td>41601</td>\n",
              "      <td>.\\n\\nI actually feel sorry for you</td>\n",
              "      <td>0</td>\n",
              "      <td>i actually feel sorry for you</td>\n",
              "    </tr>\n",
              "    <tr>\n",
              "      <th>6</th>\n",
              "      <td>118799</td>\n",
              "      <td>The Hand of God Game as it pertains to the 200...</td>\n",
              "      <td>0</td>\n",
              "      <td>the hand of god game a it pertain to the 2006 ...</td>\n",
              "    </tr>\n",
              "    <tr>\n",
              "      <th>7</th>\n",
              "      <td>30196</td>\n",
              "      <td>Good job.  It's now much better referenced.  I...</td>\n",
              "      <td>0</td>\n",
              "      <td>good job it 's now much well reference i move ...</td>\n",
              "    </tr>\n",
              "    <tr>\n",
              "      <th>8</th>\n",
              "      <td>1985</td>\n",
              "      <td>\"\\nI really didn't expect it to \"\"fly.\"\" Thank...</td>\n",
              "      <td>0</td>\n",
              "      <td>i really do n't expect it to fly thanks for th...</td>\n",
              "    </tr>\n",
              "    <tr>\n",
              "      <th>9</th>\n",
              "      <td>138615</td>\n",
              "      <td>mother fucking cunt bitch</td>\n",
              "      <td>1</td>\n",
              "      <td>mother fuck cunt bitch</td>\n",
              "    </tr>\n",
              "  </tbody>\n",
              "</table>\n",
              "</div>\n",
              "      <button class=\"colab-df-convert\" onclick=\"convertToInteractive('df-0f4b6f98-040a-4b60-837d-1bc6c86d1e8c')\"\n",
              "              title=\"Convert this dataframe to an interactive table.\"\n",
              "              style=\"display:none;\">\n",
              "        \n",
              "  <svg xmlns=\"http://www.w3.org/2000/svg\" height=\"24px\"viewBox=\"0 0 24 24\"\n",
              "       width=\"24px\">\n",
              "    <path d=\"M0 0h24v24H0V0z\" fill=\"none\"/>\n",
              "    <path d=\"M18.56 5.44l.94 2.06.94-2.06 2.06-.94-2.06-.94-.94-2.06-.94 2.06-2.06.94zm-11 1L8.5 8.5l.94-2.06 2.06-.94-2.06-.94L8.5 2.5l-.94 2.06-2.06.94zm10 10l.94 2.06.94-2.06 2.06-.94-2.06-.94-.94-2.06-.94 2.06-2.06.94z\"/><path d=\"M17.41 7.96l-1.37-1.37c-.4-.4-.92-.59-1.43-.59-.52 0-1.04.2-1.43.59L10.3 9.45l-7.72 7.72c-.78.78-.78 2.05 0 2.83L4 21.41c.39.39.9.59 1.41.59.51 0 1.02-.2 1.41-.59l7.78-7.78 2.81-2.81c.8-.78.8-2.07 0-2.86zM5.41 20L4 18.59l7.72-7.72 1.47 1.35L5.41 20z\"/>\n",
              "  </svg>\n",
              "      </button>\n",
              "      \n",
              "  <style>\n",
              "    .colab-df-container {\n",
              "      display:flex;\n",
              "      flex-wrap:wrap;\n",
              "      gap: 12px;\n",
              "    }\n",
              "\n",
              "    .colab-df-convert {\n",
              "      background-color: #E8F0FE;\n",
              "      border: none;\n",
              "      border-radius: 50%;\n",
              "      cursor: pointer;\n",
              "      display: none;\n",
              "      fill: #1967D2;\n",
              "      height: 32px;\n",
              "      padding: 0 0 0 0;\n",
              "      width: 32px;\n",
              "    }\n",
              "\n",
              "    .colab-df-convert:hover {\n",
              "      background-color: #E2EBFA;\n",
              "      box-shadow: 0px 1px 2px rgba(60, 64, 67, 0.3), 0px 1px 3px 1px rgba(60, 64, 67, 0.15);\n",
              "      fill: #174EA6;\n",
              "    }\n",
              "\n",
              "    [theme=dark] .colab-df-convert {\n",
              "      background-color: #3B4455;\n",
              "      fill: #D2E3FC;\n",
              "    }\n",
              "\n",
              "    [theme=dark] .colab-df-convert:hover {\n",
              "      background-color: #434B5C;\n",
              "      box-shadow: 0px 1px 3px 1px rgba(0, 0, 0, 0.15);\n",
              "      filter: drop-shadow(0px 1px 2px rgba(0, 0, 0, 0.3));\n",
              "      fill: #FFFFFF;\n",
              "    }\n",
              "  </style>\n",
              "\n",
              "      <script>\n",
              "        const buttonEl =\n",
              "          document.querySelector('#df-0f4b6f98-040a-4b60-837d-1bc6c86d1e8c button.colab-df-convert');\n",
              "        buttonEl.style.display =\n",
              "          google.colab.kernel.accessAllowed ? 'block' : 'none';\n",
              "\n",
              "        async function convertToInteractive(key) {\n",
              "          const element = document.querySelector('#df-0f4b6f98-040a-4b60-837d-1bc6c86d1e8c');\n",
              "          const dataTable =\n",
              "            await google.colab.kernel.invokeFunction('convertToInteractive',\n",
              "                                                     [key], {});\n",
              "          if (!dataTable) return;\n",
              "\n",
              "          const docLinkHtml = 'Like what you see? Visit the ' +\n",
              "            '<a target=\"_blank\" href=https://colab.research.google.com/notebooks/data_table.ipynb>data table notebook</a>'\n",
              "            + ' to learn more about interactive tables.';\n",
              "          element.innerHTML = '';\n",
              "          dataTable['output_type'] = 'display_data';\n",
              "          await google.colab.output.renderOutput(dataTable, element);\n",
              "          const docLink = document.createElement('div');\n",
              "          docLink.innerHTML = docLinkHtml;\n",
              "          element.appendChild(docLink);\n",
              "        }\n",
              "      </script>\n",
              "    </div>\n",
              "  </div>\n",
              "  "
            ]
          },
          "metadata": {},
          "execution_count": 7
        }
      ],
      "source": [
        "demo_text = \"\"\" Rocks, papers and scissors.\n",
        "                Tests     and testing. We are making something!!@#$%\"\"\"\n",
        "\n",
        "def lemmatize_with_postag(text):\n",
        "    sent = TextBlob(text.lower())\n",
        "    tag_dict = {\"J\": 'a', \n",
        "                \"N\": 'n', \n",
        "                \"V\": 'v', \n",
        "                \"R\": 'r'}\n",
        "    words_and_tags = [\n",
        "        (w, tag_dict.get(pos[0], 'n')) for w, pos in sent.tags]\n",
        "    lemmatized_list = [wd.lemmatize(tag) for wd, tag in words_and_tags]\n",
        "    return \" \".join(lemmatized_list)\n",
        "\n",
        "print(f\"Original text: {demo_text}\\n\")\n",
        "print(f\"Lemmatized text: {lemmatize_with_postag(demo_text)}\")\n",
        "\n",
        "test_df = df.head(10)\n",
        "test_df['text_lemmatized'] = test_df['text'].apply(lemmatize_with_postag)\n",
        "test_df"
      ]
    },
    {
      "cell_type": "code",
      "execution_count": 8,
      "metadata": {
        "colab": {
          "base_uri": "https://localhost:8080/",
          "height": 563
        },
        "id": "ipj0TpArQXRh",
        "outputId": "91be7279-1455-4158-9fa2-ef14bc4c972d"
      },
      "outputs": [
        {
          "output_type": "stream",
          "name": "stdout",
          "text": [
            "CPU times: user 2min 29s, sys: 2.21 s, total: 2min 31s\n",
            "Wall time: 2min 43s\n"
          ]
        },
        {
          "output_type": "execute_result",
          "data": {
            "text/plain": [
              "                                                text  \\\n",
              "0  You dirty fuckers, why block me?  Not busy eno...   \n",
              "1  Idiot \\n\\nI just wanted to let you know that y...   \n",
              "2  Why do you like to deflower prepubescent girls...   \n",
              "3  Is that your new strategy to claim there is no...   \n",
              "4  You're a motherfucking idiot\\n\\nYou're stupid ...   \n",
              "5                 .\\n\\nI actually feel sorry for you   \n",
              "6  The Hand of God Game as it pertains to the 200...   \n",
              "7  Good job.  It's now much better referenced.  I...   \n",
              "8  \"\\nI really didn't expect it to \"\"fly.\"\" Thank...   \n",
              "9                          mother fucking cunt bitch   \n",
              "\n",
              "                                     text_lemmatized  toxic  \n",
              "0  you dirty fucker why block me not busy enough ...      1  \n",
              "1  idiot i just want to let you know that you and...      1  \n",
              "2  why do you like to deflower prepubescent girl ...      1  \n",
              "3  be that your new strategy to claim there be no...      0  \n",
              "4  you 're a motherfucking idiot you 're stupid a...      1  \n",
              "5                      i actually feel sorry for you      0  \n",
              "6  the hand of god game a it pertain to the 2006 ...      0  \n",
              "7  good job it 's now much well reference i move ...      0  \n",
              "8  i really do n't expect it to fly thanks for th...      0  \n",
              "9                             mother fuck cunt bitch      1  "
            ],
            "text/html": [
              "\n",
              "  <div id=\"df-d63d2a7e-65a5-4edd-a5f5-8d0cf36c5906\">\n",
              "    <div class=\"colab-df-container\">\n",
              "      <div>\n",
              "<style scoped>\n",
              "    .dataframe tbody tr th:only-of-type {\n",
              "        vertical-align: middle;\n",
              "    }\n",
              "\n",
              "    .dataframe tbody tr th {\n",
              "        vertical-align: top;\n",
              "    }\n",
              "\n",
              "    .dataframe thead th {\n",
              "        text-align: right;\n",
              "    }\n",
              "</style>\n",
              "<table border=\"1\" class=\"dataframe\">\n",
              "  <thead>\n",
              "    <tr style=\"text-align: right;\">\n",
              "      <th></th>\n",
              "      <th>text</th>\n",
              "      <th>text_lemmatized</th>\n",
              "      <th>toxic</th>\n",
              "    </tr>\n",
              "  </thead>\n",
              "  <tbody>\n",
              "    <tr>\n",
              "      <th>0</th>\n",
              "      <td>You dirty fuckers, why block me?  Not busy eno...</td>\n",
              "      <td>you dirty fucker why block me not busy enough ...</td>\n",
              "      <td>1</td>\n",
              "    </tr>\n",
              "    <tr>\n",
              "      <th>1</th>\n",
              "      <td>Idiot \\n\\nI just wanted to let you know that y...</td>\n",
              "      <td>idiot i just want to let you know that you and...</td>\n",
              "      <td>1</td>\n",
              "    </tr>\n",
              "    <tr>\n",
              "      <th>2</th>\n",
              "      <td>Why do you like to deflower prepubescent girls...</td>\n",
              "      <td>why do you like to deflower prepubescent girl ...</td>\n",
              "      <td>1</td>\n",
              "    </tr>\n",
              "    <tr>\n",
              "      <th>3</th>\n",
              "      <td>Is that your new strategy to claim there is no...</td>\n",
              "      <td>be that your new strategy to claim there be no...</td>\n",
              "      <td>0</td>\n",
              "    </tr>\n",
              "    <tr>\n",
              "      <th>4</th>\n",
              "      <td>You're a motherfucking idiot\\n\\nYou're stupid ...</td>\n",
              "      <td>you 're a motherfucking idiot you 're stupid a...</td>\n",
              "      <td>1</td>\n",
              "    </tr>\n",
              "    <tr>\n",
              "      <th>5</th>\n",
              "      <td>.\\n\\nI actually feel sorry for you</td>\n",
              "      <td>i actually feel sorry for you</td>\n",
              "      <td>0</td>\n",
              "    </tr>\n",
              "    <tr>\n",
              "      <th>6</th>\n",
              "      <td>The Hand of God Game as it pertains to the 200...</td>\n",
              "      <td>the hand of god game a it pertain to the 2006 ...</td>\n",
              "      <td>0</td>\n",
              "    </tr>\n",
              "    <tr>\n",
              "      <th>7</th>\n",
              "      <td>Good job.  It's now much better referenced.  I...</td>\n",
              "      <td>good job it 's now much well reference i move ...</td>\n",
              "      <td>0</td>\n",
              "    </tr>\n",
              "    <tr>\n",
              "      <th>8</th>\n",
              "      <td>\"\\nI really didn't expect it to \"\"fly.\"\" Thank...</td>\n",
              "      <td>i really do n't expect it to fly thanks for th...</td>\n",
              "      <td>0</td>\n",
              "    </tr>\n",
              "    <tr>\n",
              "      <th>9</th>\n",
              "      <td>mother fucking cunt bitch</td>\n",
              "      <td>mother fuck cunt bitch</td>\n",
              "      <td>1</td>\n",
              "    </tr>\n",
              "  </tbody>\n",
              "</table>\n",
              "</div>\n",
              "      <button class=\"colab-df-convert\" onclick=\"convertToInteractive('df-d63d2a7e-65a5-4edd-a5f5-8d0cf36c5906')\"\n",
              "              title=\"Convert this dataframe to an interactive table.\"\n",
              "              style=\"display:none;\">\n",
              "        \n",
              "  <svg xmlns=\"http://www.w3.org/2000/svg\" height=\"24px\"viewBox=\"0 0 24 24\"\n",
              "       width=\"24px\">\n",
              "    <path d=\"M0 0h24v24H0V0z\" fill=\"none\"/>\n",
              "    <path d=\"M18.56 5.44l.94 2.06.94-2.06 2.06-.94-2.06-.94-.94-2.06-.94 2.06-2.06.94zm-11 1L8.5 8.5l.94-2.06 2.06-.94-2.06-.94L8.5 2.5l-.94 2.06-2.06.94zm10 10l.94 2.06.94-2.06 2.06-.94-2.06-.94-.94-2.06-.94 2.06-2.06.94z\"/><path d=\"M17.41 7.96l-1.37-1.37c-.4-.4-.92-.59-1.43-.59-.52 0-1.04.2-1.43.59L10.3 9.45l-7.72 7.72c-.78.78-.78 2.05 0 2.83L4 21.41c.39.39.9.59 1.41.59.51 0 1.02-.2 1.41-.59l7.78-7.78 2.81-2.81c.8-.78.8-2.07 0-2.86zM5.41 20L4 18.59l7.72-7.72 1.47 1.35L5.41 20z\"/>\n",
              "  </svg>\n",
              "      </button>\n",
              "      \n",
              "  <style>\n",
              "    .colab-df-container {\n",
              "      display:flex;\n",
              "      flex-wrap:wrap;\n",
              "      gap: 12px;\n",
              "    }\n",
              "\n",
              "    .colab-df-convert {\n",
              "      background-color: #E8F0FE;\n",
              "      border: none;\n",
              "      border-radius: 50%;\n",
              "      cursor: pointer;\n",
              "      display: none;\n",
              "      fill: #1967D2;\n",
              "      height: 32px;\n",
              "      padding: 0 0 0 0;\n",
              "      width: 32px;\n",
              "    }\n",
              "\n",
              "    .colab-df-convert:hover {\n",
              "      background-color: #E2EBFA;\n",
              "      box-shadow: 0px 1px 2px rgba(60, 64, 67, 0.3), 0px 1px 3px 1px rgba(60, 64, 67, 0.15);\n",
              "      fill: #174EA6;\n",
              "    }\n",
              "\n",
              "    [theme=dark] .colab-df-convert {\n",
              "      background-color: #3B4455;\n",
              "      fill: #D2E3FC;\n",
              "    }\n",
              "\n",
              "    [theme=dark] .colab-df-convert:hover {\n",
              "      background-color: #434B5C;\n",
              "      box-shadow: 0px 1px 3px 1px rgba(0, 0, 0, 0.15);\n",
              "      filter: drop-shadow(0px 1px 2px rgba(0, 0, 0, 0.3));\n",
              "      fill: #FFFFFF;\n",
              "    }\n",
              "  </style>\n",
              "\n",
              "      <script>\n",
              "        const buttonEl =\n",
              "          document.querySelector('#df-d63d2a7e-65a5-4edd-a5f5-8d0cf36c5906 button.colab-df-convert');\n",
              "        buttonEl.style.display =\n",
              "          google.colab.kernel.accessAllowed ? 'block' : 'none';\n",
              "\n",
              "        async function convertToInteractive(key) {\n",
              "          const element = document.querySelector('#df-d63d2a7e-65a5-4edd-a5f5-8d0cf36c5906');\n",
              "          const dataTable =\n",
              "            await google.colab.kernel.invokeFunction('convertToInteractive',\n",
              "                                                     [key], {});\n",
              "          if (!dataTable) return;\n",
              "\n",
              "          const docLinkHtml = 'Like what you see? Visit the ' +\n",
              "            '<a target=\"_blank\" href=https://colab.research.google.com/notebooks/data_table.ipynb>data table notebook</a>'\n",
              "            + ' to learn more about interactive tables.';\n",
              "          element.innerHTML = '';\n",
              "          dataTable['output_type'] = 'display_data';\n",
              "          await google.colab.output.renderOutput(dataTable, element);\n",
              "          const docLink = document.createElement('div');\n",
              "          docLink.innerHTML = docLinkHtml;\n",
              "          element.appendChild(docLink);\n",
              "        }\n",
              "      </script>\n",
              "    </div>\n",
              "  </div>\n",
              "  "
            ]
          },
          "metadata": {},
          "execution_count": 8
        }
      ],
      "source": [
        "%%time\n",
        "\n",
        "df['text_lemmatized'] = df['text'].apply(lemmatize_with_postag)\n",
        "df = df[['text', 'text_lemmatized', 'toxic']]\n",
        "\n",
        "df.head(10)"
      ]
    },
    {
      "cell_type": "markdown",
      "metadata": {
        "id": "V_qatXleVtqk"
      },
      "source": [
        "## Model preparation <a class=\"anchor\" id=\"model-preparation\"></a>"
      ]
    },
    {
      "cell_type": "markdown",
      "metadata": {
        "id": "5v7GmwWCQXRi"
      },
      "source": [
        "### Datasets <a class=\"anchor\" id=\"model-datasets-preparation\"></a>"
      ]
    },
    {
      "cell_type": "code",
      "execution_count": 9,
      "metadata": {
        "id": "RC2MD-kiWb2M"
      },
      "outputs": [],
      "source": [
        "state = 8080"
      ]
    },
    {
      "cell_type": "code",
      "execution_count": 10,
      "metadata": {
        "colab": {
          "base_uri": "https://localhost:8080/"
        },
        "id": "3iXmwC7NQXRi",
        "outputId": "920a1281-a210-46e1-cbba-0ced28681daa"
      },
      "outputs": [
        {
          "output_type": "stream",
          "name": "stdout",
          "text": [
            "Original data: 32372\n",
            "Train dataset: 80%, shape: (25897,)\n",
            "Test dataset: 20%, shape: (6475,)\n"
          ]
        }
      ],
      "source": [
        "# Datasets split\n",
        "X_train, X_test, y_train, y_test = train_test_split(\n",
        "    df['text_lemmatized'], df['toxic'], test_size=0.2, random_state=state\n",
        "    )\n",
        "\n",
        "# Check the datasets size\n",
        "x = df.shape[0]\n",
        "a = X_train.shape[0]\n",
        "b = y_test.shape[0]\n",
        "\n",
        "def perc(pt, whl):\n",
        "    return round(100 * pt / whl)\n",
        "\n",
        "print(f\"Original data: {x}\")\n",
        "print(f\"Train dataset: {perc(a, x)}%, shape: {X_train.shape}\")\n",
        "print(f\"Test dataset: {perc(b, x)}%, shape: {y_test.shape}\")"
      ]
    },
    {
      "cell_type": "markdown",
      "metadata": {
        "id": "m4WX2qtGQXRk"
      },
      "source": [
        "### Hyperparameter tuning <a class=\"anchor\" id=\"model-hyperparameter-tuning\"></a>\n",
        "\n",
        "The following models will be used:\n",
        "1. DecisionTreeClassifier\n",
        "2. RandomForestClassifier\n",
        "3. LogisticRegression\n",
        "4. LGBMClassifier\n",
        "\n",
        "Best hyperparameters search via `Pipeline` using `RandomizedSearchCV` and `GridSearchCV`."
      ]
    },
    {
      "cell_type": "code",
      "execution_count": 11,
      "metadata": {
        "id": "Yp1NtDdjQXRk"
      },
      "outputs": [],
      "source": [
        "cv_value = 6\n",
        "f1 = make_scorer(f1_score, average='binary')"
      ]
    },
    {
      "cell_type": "markdown",
      "metadata": {
        "id": "k-8UXX4AQXRl"
      },
      "source": [
        "**DecisionTreeClassifier**"
      ]
    },
    {
      "cell_type": "code",
      "execution_count": 12,
      "metadata": {
        "colab": {
          "base_uri": "https://localhost:8080/",
          "height": 391
        },
        "id": "Qe7P0Nf4S8N_",
        "outputId": "09a809e5-b4cb-4d96-ba2f-b7646ecfd6d5"
      },
      "outputs": [
        {
          "output_type": "stream",
          "name": "stdout",
          "text": [
            "Fitting 6 folds for each of 10 candidates, totalling 60 fits\n",
            "\n",
            "Best parameters for DecisionTreeClassifier\n",
            "{'dtc__min_samples_split': 270, 'dtc__min_samples_leaf': 3, 'dtc__max_depth': 156}\n",
            "\n",
            "F1: 0.8394\n",
            "\n"
          ]
        },
        {
          "output_type": "display_data",
          "data": {
            "text/plain": [
              "<Figure size 1000x400 with 3 Axes>"
            ],
            "image/png": "[encoded data removed]"
          },
          "metadata": {}
        }
      ],
      "source": [
        "%%time\n",
        "model_dtc = DecisionTreeClassifier(\n",
        "    random_state=state, class_weight='balanced'\n",
        "    )\n",
        "\n",
        "params_dtc = {\n",
        "    'dtc__min_samples_split': range(260, 285, 5),\n",
        "    'dtc__min_samples_leaf': range(2, 10, 1),\n",
        "    'dtc__max_depth': range(140, 162, 2)\n",
        "}\n",
        "\n",
        "# Define the model and parameters\n",
        "pipeline_dtc = Pipeline([\n",
        "    ('tfidf', TfidfVectorizer(stop_words='english')),\n",
        "    ('dtc', model_dtc)\n",
        "])\n",
        "\n",
        "# Search the hyperparameters\n",
        "grid_dtc = RandomizedSearchCV(\n",
        "    pipeline_dtc,\n",
        "    params_dtc,\n",
        "    cv=cv_value,\n",
        "    scoring='f1',\n",
        "    n_jobs=-1,\n",
        "    verbose=10\n",
        ")\n",
        "grid_dtc.fit(X_train, y_train)\n",
        "\n",
        "# The best score, parameters and estimator\n",
        "f1_dtc = grid_dtc.best_score_.round(4)\n",
        "best_params_dtc = grid_dtc.best_params_\n",
        "best_model_dtc = grid_dtc.best_estimator_\n",
        "\n",
        "print(f\"\\nBest parameters for {type(model_dtc).__name__}\")\n",
        "print(f\"{best_params_dtc}\\n\")\n",
        "print(f\"F1: {f1_dtc}\\n\")\n",
        "\n",
        "# Plots with parameters performance\n",
        "fig, axs = plt.subplots(ncols=3, nrows=1, figsize=(10, 4))\n",
        "sns.lineplot(x='param_dtc__min_samples_split', y='mean_test_score',\n",
        "             data=pd.DataFrame(grid_dtc.cv_results_), ax=axs[0])\n",
        "sns.lineplot(x='param_dtc__min_samples_leaf', y='mean_test_score',\n",
        "             data=pd.DataFrame(grid_dtc.cv_results_), ax=axs[1])\n",
        "sns.lineplot(x='param_dtc__max_depth', y='mean_test_score',\n",
        "             data=pd.DataFrame(grid_dtc.cv_results_), ax=axs[2])\n",
        "\n",
        "fig.suptitle('DecisionTreeClassifier')\n",
        "axs[0].set(xlabel='min_samples_split', ylabel='mean_test_score')\n",
        "axs[1].set(xlabel='min_samples_leaf', ylabel='')\n",
        "axs[2].set(xlabel='max_depth', ylabel='')\n",
        "\n",
        "plt.tight_layout()\n",
        "plt.show()"
      ]
    },
    {
      "cell_type": "markdown",
      "metadata": {
        "id": "oQgHOmVZQXRl"
      },
      "source": [
        "**RandomForestClassifier**"
      ]
    },
    {
      "cell_type": "code",
      "execution_count": 13,
      "metadata": {
        "colab": {
          "base_uri": "https://localhost:8080/",
          "height": 480
        },
        "id": "I2ofVV2xhHAs",
        "outputId": "9f9ed29b-40fc-443e-fdc5-fc1357482258"
      },
      "outputs": [
        {
          "output_type": "stream",
          "name": "stdout",
          "text": [
            "CPU times: user 11.3 s, sys: 621 ms, total: 11.9 s\n",
            "Wall time: 4min 24s\n",
            "Fitting 6 folds for each of 10 candidates, totalling 60 fits\n",
            "\n",
            "Best parameters for RandomForestClassifier\n",
            "{'rfc__min_samples_split': 28, 'rfc__min_samples_leaf': 3, 'rfc__max_leaf_nodes': 82, 'rfc__max_depth': 83}\n",
            "\n",
            "F1: 0.8356\n",
            "\n"
          ]
        },
        {
          "output_type": "display_data",
          "data": {
            "text/plain": [
              "<Figure size 1000x400 with 4 Axes>"
            ],
            "image/png": "[encoded data removed]"
          },
          "metadata": {}
        },
        {
          "output_type": "stream",
          "name": "stdout",
          "text": [
            "CPU times: user 5.5 s, sys: 446 ms, total: 5.95 s\n",
            "Wall time: 2min 32s\n"
          ]
        }
      ],
      "source": [
        "%%time\n",
        "model_rfc = RandomForestClassifier(\n",
        "    random_state=state, class_weight='balanced'\n",
        "    )\n",
        "\n",
        "params_rfc = {\n",
        "    'rfc__min_samples_split': range(22, 40, 3),\n",
        "    'rfc__min_samples_leaf' : range(1, 8, 1),\n",
        "    'rfc__max_leaf_nodes' : range(70, 85, 3),\n",
        "    'rfc__max_depth' : range(75, 84, 1)\n",
        "}\n",
        "\n",
        "pipeline_rfc = Pipeline([\n",
        "    ('tfidf', TfidfVectorizer(stop_words='english')),\n",
        "    ('rfc', model_rfc)\n",
        "])\n",
        "\n",
        "grid_rfc = RandomizedSearchCV(\n",
        "    pipeline_rfc,\n",
        "    params_rfc,\n",
        "    cv=cv_value,\n",
        "    scoring='f1',\n",
        "    n_jobs=-1,\n",
        "    verbose=10\n",
        ")\n",
        "grid_rfc.fit(X_train, y_train)\n",
        "\n",
        "f1_rfc = grid_rfc.best_score_.round(4)\n",
        "best_params_rfc = grid_rfc.best_params_\n",
        "best_model_rfc = grid_rfc.best_estimator_\n",
        "\n",
        "print(f\"\\nBest parameters for {type(model_rfc).__name__}\")\n",
        "print(f\"{best_params_rfc}\\n\")\n",
        "print(f\"F1: {f1_rfc}\\n\")\n",
        "\n",
        "fig, axs = plt.subplots(ncols=2, nrows=2, figsize=(10, 4))\n",
        "sns.lineplot(x='param_rfc__min_samples_split', y='mean_test_score',\n",
        "             data=pd.DataFrame(grid_rfc.cv_results_), ax=axs[0, 0]\n",
        "             )\n",
        "sns.lineplot(x='param_rfc__min_samples_leaf', y='mean_test_score',\n",
        "             data=pd.DataFrame(grid_rfc.cv_results_), ax=axs[0, 1]\n",
        "             )\n",
        "sns.lineplot(x='param_rfc__max_leaf_nodes', y='mean_test_score',\n",
        "             data=pd.DataFrame(grid_rfc.cv_results_), ax=axs[1, 0]\n",
        "             )\n",
        "sns.lineplot(x='param_rfc__max_depth', y='mean_test_score',\n",
        "             data=pd.DataFrame(grid_rfc.cv_results_), ax=axs[1, 1]\n",
        "             )\n",
        "\n",
        "fig.suptitle('RandomForestClassifier')\n",
        "axs[0, 0].set(xlabel='min_samples_split', ylabel='mean_test_score')\n",
        "axs[0, 1].set(xlabel='min_samples_leaf', ylabel='')\n",
        "axs[1, 0].set(xlabel='max_leaf_nodes', ylabel='mean_test_score')\n",
        "axs[1, 1].set(xlabel='max_depth', ylabel='')\n",
        "\n",
        "plt.tight_layout()\n",
        "plt.show()"
      ]
    },
    {
      "cell_type": "markdown",
      "metadata": {
        "id": "OAlLem61QXRm"
      },
      "source": [
        "**LogisticRegression**\n",
        "\n",
        "To prevent overfitting of LR and increase the regularization strength, smaller values of C are set."
      ]
    },
    {
      "cell_type": "code",
      "execution_count": 14,
      "metadata": {
        "id": "6SSJTdyMm9J6",
        "colab": {
          "base_uri": "https://localhost:8080/",
          "height": 426
        },
        "outputId": "7309420b-4a94-47bc-daf4-b39dd544b6a0"
      },
      "outputs": [
        {
          "output_type": "stream",
          "name": "stdout",
          "text": [
            "Fitting 6 folds for each of 9 candidates, totalling 54 fits\n",
            "\n",
            "Best parameters for LogisticRegression\n",
            "{'lr__C': 0.5, 'lr__solver': 'lbfgs'}\n",
            "\n",
            "F1: 0.8781\n",
            "\n"
          ]
        },
        {
          "output_type": "display_data",
          "data": {
            "text/plain": [
              "<Figure size 1000x400 with 2 Axes>"
            ],
            "image/png": "[encoded data removed]"
          },
          "metadata": {}
        },
        {
          "output_type": "stream",
          "name": "stdout",
          "text": [
            "CPU times: user 3.33 s, sys: 1.03 s, total: 4.36 s\n",
            "Wall time: 1min 8s\n"
          ]
        }
      ],
      "source": [
        "%%time\n",
        "model_lr = LogisticRegression(random_state=state, class_weight='balanced')\n",
        "\n",
        "params_lr = {\n",
        "    'lr__C': [0.001, 0.01, 0.5],\n",
        "    'lr__solver' : ['lbfgs', 'sag', 'saga']\n",
        "}\n",
        "\n",
        "pipeline_lr = Pipeline([\n",
        "    ('tfidf', TfidfVectorizer(stop_words='english')),\n",
        "    ('lr', model_lr)\n",
        "])\n",
        "\n",
        "grid_lr = GridSearchCV(\n",
        "    pipeline_lr,\n",
        "    params_lr,\n",
        "    cv=cv_value,\n",
        "    scoring='f1',\n",
        "    n_jobs=-1,\n",
        "    verbose=10\n",
        ")\n",
        "grid_lr.fit(X_train, y_train)\n",
        "\n",
        "f1_lr = grid_lr.best_score_.round(4)\n",
        "best_params_lr = grid_lr.best_params_\n",
        "best_model_lr = grid_lr.best_estimator_\n",
        "\n",
        "print(f\"\\nBest parameters for {type(model_lr).__name__}\")\n",
        "print(f\"{best_params_lr}\\n\")\n",
        "print(f\"F1: {f1_lr}\\n\")\n",
        "\n",
        "fig, axs = plt.subplots(ncols=2, nrows=1, figsize=(10, 4))\n",
        "sns.lineplot(x='param_lr__solver', y='mean_test_score',\n",
        "             data=pd.DataFrame(grid_lr.cv_results_), ax=axs[0]\n",
        "             )\n",
        "sns.lineplot(x='param_lr__C', y='mean_test_score',\n",
        "             data=pd.DataFrame(grid_lr.cv_results_), ax=axs[1]\n",
        "             )\n",
        "\n",
        "fig.suptitle('LogisticRegression')\n",
        "axs[0].set(xlabel='solver', ylabel='mean_test_score')\n",
        "axs[1].set(xlabel='C', ylabel='')\n",
        "\n",
        "plt.tight_layout()\n",
        "plt.show()"
      ]
    },
    {
      "cell_type": "markdown",
      "metadata": {
        "id": "_lknDVcFQXRm"
      },
      "source": [
        "**LGBMClassifier**"
      ]
    },
    {
      "cell_type": "code",
      "execution_count": 15,
      "metadata": {
        "id": "_pdyA--dvWb6",
        "colab": {
          "base_uri": "https://localhost:8080/",
          "height": 426
        },
        "outputId": "9e3d9cb3-8d6d-4972-e090-42ee4880a2c0"
      },
      "outputs": [
        {
          "output_type": "stream",
          "name": "stdout",
          "text": [
            "Fitting 6 folds for each of 10 candidates, totalling 60 fits\n",
            "\n",
            "Best parameters for LGBMClassifier\n",
            "{'lgbmc__num_leaves': 5, 'lgbmc__max_depth': 25, 'lgbmc__learning_rate': 0.9}\n",
            "\n",
            "F1: 0.8809\n",
            "\n"
          ]
        },
        {
          "output_type": "display_data",
          "data": {
            "text/plain": [
              "<Figure size 1000x400 with 3 Axes>"
            ],
            "image/png": "[encoded data removed]"
          },
          "metadata": {}
        },
        {
          "output_type": "stream",
          "name": "stdout",
          "text": [
            "CPU times: user 6.78 s, sys: 502 ms, total: 7.28 s\n",
            "Wall time: 4min 13s\n"
          ]
        }
      ],
      "source": [
        "%%time\n",
        "model_lgbmc = LGBMClassifier(random_state=state)\n",
        "\n",
        "params_lgbmc = {\n",
        "    'lgbmc__num_leaves': [5, 10, 30],\n",
        "    'lgbmc__max_depth': [5, 25],\n",
        "    'lgbmc__learning_rate': [0.01, 0.1, 0.9]\n",
        "}\n",
        "\n",
        "pipeline_lgbmc = Pipeline([\n",
        "    ('tfidf', TfidfVectorizer(stop_words='english')),\n",
        "    ('lgbmc', model_lgbmc)\n",
        "])\n",
        "\n",
        "grid_lgbmc = RandomizedSearchCV(\n",
        "    pipeline_lgbmc,\n",
        "    params_lgbmc,\n",
        "    cv=cv_value,\n",
        "    scoring='f1',\n",
        "    n_jobs=-1,\n",
        "    verbose=10\n",
        ")\n",
        "grid_lgbmc.fit(X_train, y_train)\n",
        "\n",
        "f1_lgbmc = grid_lgbmc.best_score_.round(4)\n",
        "best_params_lgbmc = grid_lgbmc.best_params_\n",
        "best_model_lgbmc = grid_lgbmc.best_estimator_\n",
        "\n",
        "print(f\"\\nBest parameters for {type(model_lgbmc).__name__}\")\n",
        "print(f\"{best_params_lgbmc}\\n\")\n",
        "print(f\"F1: {f1_lgbmc}\\n\")\n",
        "\n",
        "fig, axs = plt.subplots(ncols=3, nrows=1, figsize=(10, 4))\n",
        "sns.lineplot(x='param_lgbmc__num_leaves', y='mean_test_score',\n",
        "             data=pd.DataFrame(grid_lgbmc.cv_results_), ax=axs[0]\n",
        "             )\n",
        "sns.lineplot(x='param_lgbmc__max_depth', y='mean_test_score',\n",
        "             data=pd.DataFrame(grid_lgbmc.cv_results_), ax=axs[1]\n",
        "             )\n",
        "sns.lineplot(x='param_lgbmc__learning_rate', y='mean_test_score',\n",
        "             data=pd.DataFrame(grid_lgbmc.cv_results_), ax=axs[2]\n",
        "             )\n",
        "\n",
        "fig.suptitle('LGBMClassifier')\n",
        "axs[0].set(xlabel='num_leaves', ylabel='mean_test_score')\n",
        "axs[1].set(xlabel='max_depth', ylabel='')\n",
        "axs[2].set(xlabel='learning_rate', ylabel='')\n",
        "\n",
        "plt.tight_layout()\n",
        "plt.show()"
      ]
    },
    {
      "cell_type": "markdown",
      "metadata": {
        "id": "FFrsWEMKQXRn"
      },
      "source": [
        "### Conclusion <a class=\"anchor\" id=\"model-conclusion\"></a>\n",
        "\n",
        "For each model, we obtained the RMSE value during the parameter tuning process. Let's take a look at the best parameters found by `RandomizedSearchCV`:"
      ]
    },
    {
      "cell_type": "code",
      "execution_count": 16,
      "metadata": {
        "id": "iJ46HuTmQXRn",
        "colab": {
          "base_uri": "https://localhost:8080/",
          "height": 425
        },
        "outputId": "b2c15dc2-9beb-4609-c749-631c7c0bc87c"
      },
      "outputs": [
        {
          "output_type": "execute_result",
          "data": {
            "text/plain": [
              "                          DTC   RFC     LR LGBMC\n",
              "dtc__min_samples_split  270.0                   \n",
              "dtc__min_samples_leaf     3.0                   \n",
              "dtc__max_depth          156.0                   \n",
              "rfc__min_samples_split         28.0             \n",
              "rfc__min_samples_leaf           3.0             \n",
              "rfc__max_leaf_nodes            82.0             \n",
              "rfc__max_depth                 83.0             \n",
              "lr__C                                  0.5      \n",
              "lr__solver                           lbfgs      \n",
              "lgbmc__num_leaves                            5.0\n",
              "lgbmc__max_depth                            25.0\n",
              "lgbmc__learning_rate                         0.9"
            ],
            "text/html": [
              "\n",
              "  <div id=\"df-f809589a-41fe-48de-97d3-6a2904b0f096\">\n",
              "    <div class=\"colab-df-container\">\n",
              "      <div>\n",
              "<style scoped>\n",
              "    .dataframe tbody tr th:only-of-type {\n",
              "        vertical-align: middle;\n",
              "    }\n",
              "\n",
              "    .dataframe tbody tr th {\n",
              "        vertical-align: top;\n",
              "    }\n",
              "\n",
              "    .dataframe thead th {\n",
              "        text-align: right;\n",
              "    }\n",
              "</style>\n",
              "<table border=\"1\" class=\"dataframe\">\n",
              "  <thead>\n",
              "    <tr style=\"text-align: right;\">\n",
              "      <th></th>\n",
              "      <th>DTC</th>\n",
              "      <th>RFC</th>\n",
              "      <th>LR</th>\n",
              "      <th>LGBMC</th>\n",
              "    </tr>\n",
              "  </thead>\n",
              "  <tbody>\n",
              "    <tr>\n",
              "      <th>dtc__min_samples_split</th>\n",
              "      <td>270.0</td>\n",
              "      <td></td>\n",
              "      <td></td>\n",
              "      <td></td>\n",
              "    </tr>\n",
              "    <tr>\n",
              "      <th>dtc__min_samples_leaf</th>\n",
              "      <td>3.0</td>\n",
              "      <td></td>\n",
              "      <td></td>\n",
              "      <td></td>\n",
              "    </tr>\n",
              "    <tr>\n",
              "      <th>dtc__max_depth</th>\n",
              "      <td>156.0</td>\n",
              "      <td></td>\n",
              "      <td></td>\n",
              "      <td></td>\n",
              "    </tr>\n",
              "    <tr>\n",
              "      <th>rfc__min_samples_split</th>\n",
              "      <td></td>\n",
              "      <td>28.0</td>\n",
              "      <td></td>\n",
              "      <td></td>\n",
              "    </tr>\n",
              "    <tr>\n",
              "      <th>rfc__min_samples_leaf</th>\n",
              "      <td></td>\n",
              "      <td>3.0</td>\n",
              "      <td></td>\n",
              "      <td></td>\n",
              "    </tr>\n",
              "    <tr>\n",
              "      <th>rfc__max_leaf_nodes</th>\n",
              "      <td></td>\n",
              "      <td>82.0</td>\n",
              "      <td></td>\n",
              "      <td></td>\n",
              "    </tr>\n",
              "    <tr>\n",
              "      <th>rfc__max_depth</th>\n",
              "      <td></td>\n",
              "      <td>83.0</td>\n",
              "      <td></td>\n",
              "      <td></td>\n",
              "    </tr>\n",
              "    <tr>\n",
              "      <th>lr__C</th>\n",
              "      <td></td>\n",
              "      <td></td>\n",
              "      <td>0.5</td>\n",
              "      <td></td>\n",
              "    </tr>\n",
              "    <tr>\n",
              "      <th>lr__solver</th>\n",
              "      <td></td>\n",
              "      <td></td>\n",
              "      <td>lbfgs</td>\n",
              "      <td></td>\n",
              "    </tr>\n",
              "    <tr>\n",
              "      <th>lgbmc__num_leaves</th>\n",
              "      <td></td>\n",
              "      <td></td>\n",
              "      <td></td>\n",
              "      <td>5.0</td>\n",
              "    </tr>\n",
              "    <tr>\n",
              "      <th>lgbmc__max_depth</th>\n",
              "      <td></td>\n",
              "      <td></td>\n",
              "      <td></td>\n",
              "      <td>25.0</td>\n",
              "    </tr>\n",
              "    <tr>\n",
              "      <th>lgbmc__learning_rate</th>\n",
              "      <td></td>\n",
              "      <td></td>\n",
              "      <td></td>\n",
              "      <td>0.9</td>\n",
              "    </tr>\n",
              "  </tbody>\n",
              "</table>\n",
              "</div>\n",
              "      <button class=\"colab-df-convert\" onclick=\"convertToInteractive('df-f809589a-41fe-48de-97d3-6a2904b0f096')\"\n",
              "              title=\"Convert this dataframe to an interactive table.\"\n",
              "              style=\"display:none;\">\n",
              "        \n",
              "  <svg xmlns=\"http://www.w3.org/2000/svg\" height=\"24px\"viewBox=\"0 0 24 24\"\n",
              "       width=\"24px\">\n",
              "    <path d=\"M0 0h24v24H0V0z\" fill=\"none\"/>\n",
              "    <path d=\"M18.56 5.44l.94 2.06.94-2.06 2.06-.94-2.06-.94-.94-2.06-.94 2.06-2.06.94zm-11 1L8.5 8.5l.94-2.06 2.06-.94-2.06-.94L8.5 2.5l-.94 2.06-2.06.94zm10 10l.94 2.06.94-2.06 2.06-.94-2.06-.94-.94-2.06-.94 2.06-2.06.94z\"/><path d=\"M17.41 7.96l-1.37-1.37c-.4-.4-.92-.59-1.43-.59-.52 0-1.04.2-1.43.59L10.3 9.45l-7.72 7.72c-.78.78-.78 2.05 0 2.83L4 21.41c.39.39.9.59 1.41.59.51 0 1.02-.2 1.41-.59l7.78-7.78 2.81-2.81c.8-.78.8-2.07 0-2.86zM5.41 20L4 18.59l7.72-7.72 1.47 1.35L5.41 20z\"/>\n",
              "  </svg>\n",
              "      </button>\n",
              "      \n",
              "  <style>\n",
              "    .colab-df-container {\n",
              "      display:flex;\n",
              "      flex-wrap:wrap;\n",
              "      gap: 12px;\n",
              "    }\n",
              "\n",
              "    .colab-df-convert {\n",
              "      background-color: #E8F0FE;\n",
              "      border: none;\n",
              "      border-radius: 50%;\n",
              "      cursor: pointer;\n",
              "      display: none;\n",
              "      fill: #1967D2;\n",
              "      height: 32px;\n",
              "      padding: 0 0 0 0;\n",
              "      width: 32px;\n",
              "    }\n",
              "\n",
              "    .colab-df-convert:hover {\n",
              "      background-color: #E2EBFA;\n",
              "      box-shadow: 0px 1px 2px rgba(60, 64, 67, 0.3), 0px 1px 3px 1px rgba(60, 64, 67, 0.15);\n",
              "      fill: #174EA6;\n",
              "    }\n",
              "\n",
              "    [theme=dark] .colab-df-convert {\n",
              "      background-color: #3B4455;\n",
              "      fill: #D2E3FC;\n",
              "    }\n",
              "\n",
              "    [theme=dark] .colab-df-convert:hover {\n",
              "      background-color: #434B5C;\n",
              "      box-shadow: 0px 1px 3px 1px rgba(0, 0, 0, 0.15);\n",
              "      filter: drop-shadow(0px 1px 2px rgba(0, 0, 0, 0.3));\n",
              "      fill: #FFFFFF;\n",
              "    }\n",
              "  </style>\n",
              "\n",
              "      <script>\n",
              "        const buttonEl =\n",
              "          document.querySelector('#df-f809589a-41fe-48de-97d3-6a2904b0f096 button.colab-df-convert');\n",
              "        buttonEl.style.display =\n",
              "          google.colab.kernel.accessAllowed ? 'block' : 'none';\n",
              "\n",
              "        async function convertToInteractive(key) {\n",
              "          const element = document.querySelector('#df-f809589a-41fe-48de-97d3-6a2904b0f096');\n",
              "          const dataTable =\n",
              "            await google.colab.kernel.invokeFunction('convertToInteractive',\n",
              "                                                     [key], {});\n",
              "          if (!dataTable) return;\n",
              "\n",
              "          const docLinkHtml = 'Like what you see? Visit the ' +\n",
              "            '<a target=\"_blank\" href=https://colab.research.google.com/notebooks/data_table.ipynb>data table notebook</a>'\n",
              "            + ' to learn more about interactive tables.';\n",
              "          element.innerHTML = '';\n",
              "          dataTable['output_type'] = 'display_data';\n",
              "          await google.colab.output.renderOutput(dataTable, element);\n",
              "          const docLink = document.createElement('div');\n",
              "          docLink.innerHTML = docLinkHtml;\n",
              "          element.appendChild(docLink);\n",
              "        }\n",
              "      </script>\n",
              "    </div>\n",
              "  </div>\n",
              "  "
            ]
          },
          "metadata": {},
          "execution_count": 16
        }
      ],
      "source": [
        "params_vals = {'DTC'  : grid_dtc.best_params_,\n",
        "               'RFC'  : grid_rfc.best_params_,\n",
        "               'LR'   : grid_lr.best_params_,\n",
        "               'LGBMC': grid_lgbmc.best_params_\n",
        "}\n",
        "params_df = pd.DataFrame(params_vals)\n",
        "params_df.fillna('', inplace=True)\n",
        "params_df"
      ]
    },
    {
      "cell_type": "markdown",
      "metadata": {
        "id": "AsPU1yRKQXRo"
      },
      "source": [
        "## Model training and testing <a class=\"anchor\" id=\"model-training-and-testing\"></a>\n",
        "\n",
        "We will train and test the models with the parameters selected by `RandomizedSearchCV`."
      ]
    },
    {
      "cell_type": "code",
      "execution_count": 17,
      "metadata": {
        "id": "s5L8l1fy4a3r",
        "colab": {
          "base_uri": "https://localhost:8080/",
          "height": 209
        },
        "outputId": "913e6683-4dd0-4eb3-b28b-0873adc2ac2a"
      },
      "outputs": [
        {
          "output_type": "stream",
          "name": "stdout",
          "text": [
            "CPU times: user 22.8 s, sys: 706 ms, total: 23.5 s\n",
            "Wall time: 22.9 s\n"
          ]
        },
        {
          "output_type": "execute_result",
          "data": {
            "text/plain": [
              "               model_name  train_f1  test_f1\n",
              "3          LGBMClassifier    0.9113   0.8835\n",
              "2      LogisticRegression    0.9152   0.8816\n",
              "0  DecisionTreeClassifier    0.8955   0.8382\n",
              "1  RandomForestClassifier    0.8474   0.8276"
            ],
            "text/html": [
              "\n",
              "  <div id=\"df-76e06a02-c2c7-4f74-a07f-930395e467a3\">\n",
              "    <div class=\"colab-df-container\">\n",
              "      <div>\n",
              "<style scoped>\n",
              "    .dataframe tbody tr th:only-of-type {\n",
              "        vertical-align: middle;\n",
              "    }\n",
              "\n",
              "    .dataframe tbody tr th {\n",
              "        vertical-align: top;\n",
              "    }\n",
              "\n",
              "    .dataframe thead th {\n",
              "        text-align: right;\n",
              "    }\n",
              "</style>\n",
              "<table border=\"1\" class=\"dataframe\">\n",
              "  <thead>\n",
              "    <tr style=\"text-align: right;\">\n",
              "      <th></th>\n",
              "      <th>model_name</th>\n",
              "      <th>train_f1</th>\n",
              "      <th>test_f1</th>\n",
              "    </tr>\n",
              "  </thead>\n",
              "  <tbody>\n",
              "    <tr>\n",
              "      <th>3</th>\n",
              "      <td>LGBMClassifier</td>\n",
              "      <td>0.9113</td>\n",
              "      <td>0.8835</td>\n",
              "    </tr>\n",
              "    <tr>\n",
              "      <th>2</th>\n",
              "      <td>LogisticRegression</td>\n",
              "      <td>0.9152</td>\n",
              "      <td>0.8816</td>\n",
              "    </tr>\n",
              "    <tr>\n",
              "      <th>0</th>\n",
              "      <td>DecisionTreeClassifier</td>\n",
              "      <td>0.8955</td>\n",
              "      <td>0.8382</td>\n",
              "    </tr>\n",
              "    <tr>\n",
              "      <th>1</th>\n",
              "      <td>RandomForestClassifier</td>\n",
              "      <td>0.8474</td>\n",
              "      <td>0.8276</td>\n",
              "    </tr>\n",
              "  </tbody>\n",
              "</table>\n",
              "</div>\n",
              "      <button class=\"colab-df-convert\" onclick=\"convertToInteractive('df-76e06a02-c2c7-4f74-a07f-930395e467a3')\"\n",
              "              title=\"Convert this dataframe to an interactive table.\"\n",
              "              style=\"display:none;\">\n",
              "        \n",
              "  <svg xmlns=\"http://www.w3.org/2000/svg\" height=\"24px\"viewBox=\"0 0 24 24\"\n",
              "       width=\"24px\">\n",
              "    <path d=\"M0 0h24v24H0V0z\" fill=\"none\"/>\n",
              "    <path d=\"M18.56 5.44l.94 2.06.94-2.06 2.06-.94-2.06-.94-.94-2.06-.94 2.06-2.06.94zm-11 1L8.5 8.5l.94-2.06 2.06-.94-2.06-.94L8.5 2.5l-.94 2.06-2.06.94zm10 10l.94 2.06.94-2.06 2.06-.94-2.06-.94-.94-2.06-.94 2.06-2.06.94z\"/><path d=\"M17.41 7.96l-1.37-1.37c-.4-.4-.92-.59-1.43-.59-.52 0-1.04.2-1.43.59L10.3 9.45l-7.72 7.72c-.78.78-.78 2.05 0 2.83L4 21.41c.39.39.9.59 1.41.59.51 0 1.02-.2 1.41-.59l7.78-7.78 2.81-2.81c.8-.78.8-2.07 0-2.86zM5.41 20L4 18.59l7.72-7.72 1.47 1.35L5.41 20z\"/>\n",
              "  </svg>\n",
              "      </button>\n",
              "      \n",
              "  <style>\n",
              "    .colab-df-container {\n",
              "      display:flex;\n",
              "      flex-wrap:wrap;\n",
              "      gap: 12px;\n",
              "    }\n",
              "\n",
              "    .colab-df-convert {\n",
              "      background-color: #E8F0FE;\n",
              "      border: none;\n",
              "      border-radius: 50%;\n",
              "      cursor: pointer;\n",
              "      display: none;\n",
              "      fill: #1967D2;\n",
              "      height: 32px;\n",
              "      padding: 0 0 0 0;\n",
              "      width: 32px;\n",
              "    }\n",
              "\n",
              "    .colab-df-convert:hover {\n",
              "      background-color: #E2EBFA;\n",
              "      box-shadow: 0px 1px 2px rgba(60, 64, 67, 0.3), 0px 1px 3px 1px rgba(60, 64, 67, 0.15);\n",
              "      fill: #174EA6;\n",
              "    }\n",
              "\n",
              "    [theme=dark] .colab-df-convert {\n",
              "      background-color: #3B4455;\n",
              "      fill: #D2E3FC;\n",
              "    }\n",
              "\n",
              "    [theme=dark] .colab-df-convert:hover {\n",
              "      background-color: #434B5C;\n",
              "      box-shadow: 0px 1px 3px 1px rgba(0, 0, 0, 0.15);\n",
              "      filter: drop-shadow(0px 1px 2px rgba(0, 0, 0, 0.3));\n",
              "      fill: #FFFFFF;\n",
              "    }\n",
              "  </style>\n",
              "\n",
              "      <script>\n",
              "        const buttonEl =\n",
              "          document.querySelector('#df-76e06a02-c2c7-4f74-a07f-930395e467a3 button.colab-df-convert');\n",
              "        buttonEl.style.display =\n",
              "          google.colab.kernel.accessAllowed ? 'block' : 'none';\n",
              "\n",
              "        async function convertToInteractive(key) {\n",
              "          const element = document.querySelector('#df-76e06a02-c2c7-4f74-a07f-930395e467a3');\n",
              "          const dataTable =\n",
              "            await google.colab.kernel.invokeFunction('convertToInteractive',\n",
              "                                                     [key], {});\n",
              "          if (!dataTable) return;\n",
              "\n",
              "          const docLinkHtml = 'Like what you see? Visit the ' +\n",
              "            '<a target=\"_blank\" href=https://colab.research.google.com/notebooks/data_table.ipynb>data table notebook</a>'\n",
              "            + ' to learn more about interactive tables.';\n",
              "          element.innerHTML = '';\n",
              "          dataTable['output_type'] = 'display_data';\n",
              "          await google.colab.output.renderOutput(dataTable, element);\n",
              "          const docLink = document.createElement('div');\n",
              "          docLink.innerHTML = docLinkHtml;\n",
              "          element.appendChild(docLink);\n",
              "        }\n",
              "      </script>\n",
              "    </div>\n",
              "  </div>\n",
              "  "
            ]
          },
          "metadata": {},
          "execution_count": 17
        }
      ],
      "source": [
        "%%time\n",
        "\n",
        "def get_f1_scores(models, X_train, X_test, y_train, y_test):\n",
        "    results = pd.DataFrame(columns=['model_name', 'train_f1', 'test_f1'])\n",
        "    for model in models:\n",
        "        best_model = model.best_estimator_\n",
        "        model_name = type(\n",
        "            best_model.named_steps[model.best_estimator_.steps[-1][0]]\n",
        "            ).__name__\n",
        "        best_model.fit(X_train, y_train)\n",
        "        predictions_train = best_model.predict(X_train)\n",
        "        train_f1 = round(f1_score(predictions_train, y_train), 4)\n",
        "        predictions_test = best_model.predict(X_test)\n",
        "        test_f1 = round(f1_score(predictions_test, y_test), 4)\n",
        "        results = results.append(\n",
        "            {'model_name': model_name,\n",
        "             'train_f1': train_f1,\n",
        "             'test_f1': test_f1}, ignore_index=True\n",
        "             )\n",
        "    return results\n",
        "\n",
        "models = [grid_dtc, grid_rfc, grid_lr, grid_lgbmc]\n",
        "results = get_f1_scores(models, X_train, X_test, y_train, y_test)\n",
        "results.sort_values(by='test_f1', ascending=False)"
      ]
    },
    {
      "cell_type": "markdown",
      "metadata": {
        "id": "rIje3lohKxIl"
      },
      "source": [
        "## BERT model <a class=\"anchor\" id=\"bert-model\"></a>"
      ]
    },
    {
      "cell_type": "code",
      "source": [
        "# Check if CUDA is available\n",
        "!nvidia-smi"
      ],
      "metadata": {
        "colab": {
          "base_uri": "https://localhost:8080/"
        },
        "id": "zX8dSjfJKu4F",
        "outputId": "b618b52b-97d8-48ac-94cd-f28d90bf6c80"
      },
      "execution_count": 18,
      "outputs": [
        {
          "output_type": "stream",
          "name": "stdout",
          "text": [
            "Mon Apr 17 17:52:00 2023       \n",
            "+-----------------------------------------------------------------------------+\n",
            "| NVIDIA-SMI 525.85.12    Driver Version: 525.85.12    CUDA Version: 12.0     |\n",
            "|-------------------------------+----------------------+----------------------+\n",
            "| GPU  Name        Persistence-M| Bus-Id        Disp.A | Volatile Uncorr. ECC |\n",
            "| Fan  Temp  Perf  Pwr:Usage/Cap|         Memory-Usage | GPU-Util  Compute M. |\n",
            "|                               |                      |               MIG M. |\n",
            "|===============================+======================+======================|\n",
            "|   0  Tesla T4            Off  | 00000000:00:04.0 Off |                    0 |\n",
            "| N/A   34C    P8     9W /  70W |      0MiB / 15360MiB |      0%      Default |\n",
            "|                               |                      |                  N/A |\n",
            "+-------------------------------+----------------------+----------------------+\n",
            "                                                                               \n",
            "+-----------------------------------------------------------------------------+\n",
            "| Processes:                                                                  |\n",
            "|  GPU   GI   CI        PID   Type   Process name                  GPU Memory |\n",
            "|        ID   ID                                                   Usage      |\n",
            "|=============================================================================|\n",
            "|  No running processes found                                                 |\n",
            "+-----------------------------------------------------------------------------+\n"
          ]
        }
      ]
    },
    {
      "cell_type": "markdown",
      "source": [
        "### Data preprocessing <a class=\"anchor\" id=\"bert-data-preprocessing\"></a>\n",
        "\n",
        "Preparing new datasets, tokenization and optimization of data for BERT."
      ],
      "metadata": {
        "id": "9F1u7DQkwdiC"
      }
    },
    {
      "cell_type": "code",
      "source": [
        "# Sample data\n",
        "sampled_data = df.sample(5000).reset_index(drop=True)\n",
        "\n",
        "# Count the number of instances with toxic=True and toxic=False\n",
        "toxic_counts = sampled_data['toxic'].value_counts()\n",
        "\n",
        "# Plot a pie chart\n",
        "labels = ['Non-Toxic', 'Toxic']\n",
        "sizes = [toxic_counts[0], toxic_counts[1]]\n",
        "fig1, ax1 = plt.subplots()\n",
        "ax1.pie(sizes, labels=labels, autopct='%1.1f%%', startangle=90)\n",
        "ax1.axis('equal')\n",
        "plt.title('Comments distribution for BERT model')\n",
        "plt.show()"
      ],
      "metadata": {
        "colab": {
          "base_uri": "https://localhost:8080/",
          "height": 428
        },
        "id": "VsyCmAWgR5QD",
        "outputId": "72b88fe2-9651-4bbe-ac1b-2228ca434711"
      },
      "execution_count": 19,
      "outputs": [
        {
          "output_type": "display_data",
          "data": {
            "text/plain": [
              "<Figure size 640x480 with 1 Axes>"
            ],
            "image/png": "[encoded data removed]"
          },
          "metadata": {}
        }
      ]
    },
    {
      "cell_type": "code",
      "source": [
        "# Set batch size and gradient accumulation steps\n",
        "batch_size = 16\n",
        "gradient_accumulation_steps = 4\n",
        "\n",
        "# Load pre-trained BERT tokenizer\n",
        "tokenizer = transformers.BertTokenizer.from_pretrained(\n",
        "    'unitary/toxic-bert'\n",
        "    )\n",
        "\n",
        "# Tokenize text data using BERT tokenizer and encode into token IDs\n",
        "# `df_bert` is assumed to be a pandas dataframe containing the text data\n",
        "tokenized = sampled_data['text'].apply(\n",
        "    lambda x: tokenizer.encode(\n",
        "        x, max_length=512, truncation=True, add_special_tokens=True\n",
        "        )\n",
        ")\n",
        "\n",
        "# Pad tokenized sequences to the same length using `pad_sequence`\n",
        "# function from PyTorch. This function automatically pads sequences\n",
        "# with 0s to match the maximum length of the sequences `batch_first=True`\n",
        "# ensures that the output tensor has shape (batch_size, max_seq_len)\n",
        "padded = pad_sequence(\n",
        "    [torch.as_tensor(seq) for seq in tokenized], batch_first=True\n",
        "    )\n",
        "\n",
        "# Generate attention mask tensor to indicate which elements are\n",
        "# padding tokens and which are actual tokens\n",
        "# Attention mask tensor has same shape as padded tensor\n",
        "attention_mask = padded > 0\n",
        "attention_mask = attention_mask.type(torch.LongTensor)\n",
        "\n",
        "# Move tensors to GPU if available\n",
        "device = torch.device('cuda' if torch.cuda.is_available() else 'cpu')\n",
        "padded = padded.to(device)\n",
        "attention_mask = attention_mask.to(device)\n",
        "\n",
        "# Create dataloader\n",
        "data = TensorDataset(padded, attention_mask)\n",
        "loader = DataLoader(data, batch_size=batch_size)\n",
        "\n",
        "# Load pre-trained BERT config and model from Hugging Face model hub\n",
        "config = transformers.BertConfig.from_pretrained('unitary/toxic-bert')\n",
        "model = transformers.BertModel.from_pretrained(\n",
        "    'unitary/toxic-bert', config=config\n",
        "    ).to(device)\n",
        "\n",
        "# Define optimizer and learning rate\n",
        "optimizer = AdamW(model.parameters(),\n",
        "                  lr=0.00001,\n",
        "                  weight_decay=0.01,\n",
        "                  eps=1e-8,)"
      ],
      "metadata": {
        "colab": {
          "base_uri": "https://localhost:8080/",
          "height": 389,
          "referenced_widgets": [
            "757a1d4e823c4ad496342be1760d7e05",
            "2be54487d86e4d46aecedd6cc0c01c8f",
            "ca164f73bebf4b5b86b14bab099e0e9a",
            "6489df73336d41df8842a4719f6d73a5",
            "8c39c88845264f6fbc9a0a3d905b29c1",
            "c5db930af94949b0837d354eabc6fe17",
            "7fa6115af0e84176aaa8872d05fb3ba1",
            "aaa2ea6cee0c44e1904a5bbd749765ff",
            "c35138c116c4432e86e19a0680e3efc2",
            "42b1ec66c69349c09acf4fb8085e61fb",
            "a18e30d5a6cb4dea944e38c1e9f4e53e",
            "f6c7397885e24274a2526767b1a84c23",
            "7fe0dfdfed70407e9e4b9b39191353f9",
            "36b8c896d4d4492d9bff02b9eb501178",
            "b80d05d549424085b7bf0ac3ec72a5a9",
            "0d756831c5664cd8a48e813202d3f976",
            "c84a2bc12b9343a8b26bb9664659f088",
            "a97d517648424d838b58f3f2bca87ef7",
            "da3fe86d3d544abc9b9476738cdf6b7c",
            "0631173f8d0e4f399096aea03d71c7ef",
            "1edc32ba31074f719a4a481a9b6516a9",
            "4ff48f59efe544d39086ac3ffba23abc",
            "6736f0ac31664740bffd9576092f3437",
            "c415e25ae56f40939bf7fff5d3f603a7",
            "ee4571e77ea24d90a86bcdcfba27f2cf",
            "9ff8aae5e89244ca951dd43de16dae5d",
            "f3484deca7af4207bcc977fa9a99d32a",
            "56beb779b71045deb3dad83310c8a996",
            "67e5e34dd1224a9fb3a37369d4bbff6c",
            "ae1469c00a3848da99a89133f19f8a18",
            "eb89686ec3404915b2fa744cc2d6cfe1",
            "c6e3731691db4d299f644e9cc50e92c2",
            "f0f653d9a3614f83bc9c30b54e65f4f3",
            "f51d744a03cd4284b62b143f5061f72e",
            "e52022c7d5174fb6a8eef834ccea6780",
            "fa8356f8942945278a24477ba98199e4",
            "9319b6cd8367497587b2e3744a349fc1",
            "1b2b0e7a9d3a455a84eff421f7639715",
            "2ab012fe67f146b58d46c9b31c78c827",
            "26011caf48454b91a30a93d4865ff881",
            "e7f9eeea5ae049429d71d0c5f317d608",
            "e57ce373e94c4cbe80ddf4c928b7c6a7",
            "b8e74092bc414145b1007de96fdd0c5c",
            "b3f1b571faf14a8e886dc22c56cd9d04",
            "ac9b76ccef064e5787e29c62e3e479fb",
            "34a9dbc900aa447b83dc2080145339f0",
            "3def56a4fc6e4a1ebe49014925d97e4d",
            "48b7406fa4ab4a95b9ff941c5d3d8573",
            "13ea128137ba4fe3ba090431ec4059d7",
            "bdb01734fbd74ce8a2590d598d0ca937",
            "bbc15407df2c47889e0e5a685aa9e69b",
            "9495174bc44843e3934b6da1013466ea",
            "61c815e8afbc45219e20d589507f00cf",
            "c51a4d7746394d00b9beaea7b32d720e",
            "28b5f9c3e8714edeb37dd9bf46676e8d"
          ]
        },
        "id": "FdzmhNlR7v9Z",
        "outputId": "2caa897a-44ea-4e57-d180-664e0235ae9d"
      },
      "execution_count": 20,
      "outputs": [
        {
          "output_type": "display_data",
          "data": {
            "text/plain": [
              "Downloading (…)solve/main/vocab.txt:   0%|          | 0.00/232k [00:00<?, ?B/s]"
            ],
            "application/vnd.jupyter.widget-view+json": {
              "version_major": 2,
              "version_minor": 0,
              "model_id": "757a1d4e823c4ad496342be1760d7e05"
            }
          },
          "metadata": {}
        },
        {
          "output_type": "display_data",
          "data": {
            "text/plain": [
              "Downloading (…)cial_tokens_map.json:   0%|          | 0.00/112 [00:00<?, ?B/s]"
            ],
            "application/vnd.jupyter.widget-view+json": {
              "version_major": 2,
              "version_minor": 0,
              "model_id": "f6c7397885e24274a2526767b1a84c23"
            }
          },
          "metadata": {}
        },
        {
          "output_type": "display_data",
          "data": {
            "text/plain": [
              "Downloading (…)okenizer_config.json:   0%|          | 0.00/174 [00:00<?, ?B/s]"
            ],
            "application/vnd.jupyter.widget-view+json": {
              "version_major": 2,
              "version_minor": 0,
              "model_id": "6736f0ac31664740bffd9576092f3437"
            }
          },
          "metadata": {}
        },
        {
          "output_type": "display_data",
          "data": {
            "text/plain": [
              "Downloading (…)lve/main/config.json:   0%|          | 0.00/811 [00:00<?, ?B/s]"
            ],
            "application/vnd.jupyter.widget-view+json": {
              "version_major": 2,
              "version_minor": 0,
              "model_id": "f51d744a03cd4284b62b143f5061f72e"
            }
          },
          "metadata": {}
        },
        {
          "output_type": "display_data",
          "data": {
            "text/plain": [
              "Downloading pytorch_model.bin:   0%|          | 0.00/438M [00:00<?, ?B/s]"
            ],
            "application/vnd.jupyter.widget-view+json": {
              "version_major": 2,
              "version_minor": 0,
              "model_id": "ac9b76ccef064e5787e29c62e3e479fb"
            }
          },
          "metadata": {}
        },
        {
          "output_type": "stream",
          "name": "stderr",
          "text": [
            "Some weights of the model checkpoint at unitary/toxic-bert were not used when initializing BertModel: ['classifier.weight', 'classifier.bias']\n",
            "- This IS expected if you are initializing BertModel from the checkpoint of a model trained on another task or with another architecture (e.g. initializing a BertForSequenceClassification model from a BertForPreTraining model).\n",
            "- This IS NOT expected if you are initializing BertModel from the checkpoint of a model that you expect to be exactly identical (initializing a BertForSequenceClassification model from a BertForSequenceClassification model).\n"
          ]
        }
      ]
    },
    {
      "cell_type": "code",
      "source": [
        "%%time\n",
        "\n",
        "# Create list for embeddings\n",
        "embeddings = []\n",
        "\n",
        "# Loop through batches\n",
        "for i, batch in enumerate(notebook.tqdm(loader)):\n",
        "    batch = [tensor.to(device) for tensor in batch]\n",
        "    batch_embeddings = model(*batch)[0][:,0,:].detach().cpu().numpy()\n",
        "    embeddings.append(batch_embeddings)\n",
        "    # Perform gradient accumulation\n",
        "    if (i + 1) % gradient_accumulation_steps == 0:\n",
        "        optimizer.step()\n",
        "        optimizer.zero_grad()\n",
        "\n",
        "features_bert = np.concatenate(embeddings)"
      ],
      "metadata": {
        "colab": {
          "base_uri": "https://localhost:8080/",
          "height": 84,
          "referenced_widgets": [
            "2c553ae68ae547abaa37eca5cc356667",
            "7921d222ed954afd89ae357d8920418e",
            "c5d3a278fbfd4870a32209ca9856e6dc",
            "b865ca4835ca42948632a0b47a07e5a1",
            "10fd019398a34c4f9506816b0eb0f27a",
            "5e1fe286b32c4d57a44c60cb2f2b4491",
            "58b06f43fd114f6fbd6c76f93549212f",
            "ba91297fb135466badaf449ec53703c2",
            "1773e7e476aa43889f10c9cd0420e6b9",
            "e6972e53ad8940a5b00b410f0aaf7171",
            "5c2b4fe789aa424e99fcd81ec10db79e"
          ]
        },
        "id": "sxZJS_jTxhlY",
        "outputId": "99895ca3-28fc-49e8-f708-566e7ecd6426"
      },
      "execution_count": 21,
      "outputs": [
        {
          "output_type": "display_data",
          "data": {
            "text/plain": [
              "  0%|          | 0/313 [00:00<?, ?it/s]"
            ],
            "application/vnd.jupyter.widget-view+json": {
              "version_major": 2,
              "version_minor": 0,
              "model_id": "2c553ae68ae547abaa37eca5cc356667"
            }
          },
          "metadata": {}
        },
        {
          "output_type": "stream",
          "name": "stdout",
          "text": [
            "CPU times: user 2min 30s, sys: 434 ms, total: 2min 31s\n",
            "Wall time: 2min 33s\n"
          ]
        }
      ]
    },
    {
      "cell_type": "markdown",
      "source": [
        "### Datasets <a class=\"anchor\" id=\"bert-model-datasets-preparation\"></a>"
      ],
      "metadata": {
        "id": "C3ZwH8LawWz1"
      }
    },
    {
      "cell_type": "code",
      "source": [
        "# Datasets split\n",
        "X_train_bert, X_test_bert, y_train_bert, y_test_bert = train_test_split(\n",
        "    features_bert, sampled_data['toxic'],\n",
        "    test_size=0.2, random_state=state\n",
        "    )\n",
        "\n",
        "# Check the datasets size\n",
        "x = sampled_data.shape[0]\n",
        "a = X_train_bert.shape[0]\n",
        "b = y_test_bert.shape[0]\n",
        "\n",
        "def perc(pt, whl):\n",
        "    return round(100 * pt / whl)\n",
        "\n",
        "print(f\"Original data: {x}\")\n",
        "print(f\"Train dataset: {perc(a, x)}%, shape: {X_train_bert.shape}\")\n",
        "print(f\"Test dataset: {perc(b, x)}%, shape: {y_test_bert.shape}\")"
      ],
      "metadata": {
        "colab": {
          "base_uri": "https://localhost:8080/"
        },
        "id": "Km-7xOUVMjXM",
        "outputId": "b3cee949-5b0f-452f-a6c5-5e90c3ee9f94"
      },
      "execution_count": 22,
      "outputs": [
        {
          "output_type": "stream",
          "name": "stdout",
          "text": [
            "Original data: 5000\n",
            "Train dataset: 80%, shape: (4000, 768)\n",
            "Test dataset: 20%, shape: (1000,)\n"
          ]
        }
      ]
    },
    {
      "cell_type": "markdown",
      "metadata": {
        "id": "IGsNaPcR_Zto"
      },
      "source": [
        "### Model training and testing <a class=\"anchor\" id=\"bert-model-model-training-and-testing\"></a>\n",
        "\n",
        "Since we have a new dataset it is neccesary to get best hyperparameters for each model.\n",
        "The `cv` value will be doubled and `RandomizedSearchCV` will be used for tuning."
      ]
    },
    {
      "cell_type": "code",
      "source": [
        "def run_model(pipeline, param_grid, model_name):\n",
        "    # Search hyperparameters\n",
        "    grid_search = RandomizedSearchCV(\n",
        "        pipeline,\n",
        "        param_grid,\n",
        "        cv=(cv_value*2),\n",
        "        scoring='f1',\n",
        "        n_jobs=-1,\n",
        "        verbose=10\n",
        "    )\n",
        "    grid_search.fit(X_train_bert, y_train_bert)\n",
        "    best_model = grid_search.best_estimator_\n",
        "    y_pred_train = best_model.predict(X_train_bert)\n",
        "    y_pred_test = best_model.predict(X_test_bert)\n",
        "\n",
        "    # Print the F1 metrics\n",
        "    train_f1 = round(f1_score(y_train_bert, y_pred_train), 4)\n",
        "    test_f1 = round(f1_score(y_test_bert, y_pred_test), 4)\n",
        "    print(f\"F1 score on train set: {train_f1:.4f}\")\n",
        "    print(f\"F1 score on test set: {test_f1:.4f}\")\n",
        "    print(f\"Best hyperparameters:\\n{grid_search.best_params_}\\n\")\n",
        "\n",
        "    return best_model, train_f1, test_f1"
      ],
      "metadata": {
        "id": "cqZDeXzGAQ2r"
      },
      "execution_count": 23,
      "outputs": []
    },
    {
      "cell_type": "markdown",
      "source": [
        "**DecisionTreeClassifier**"
      ],
      "metadata": {
        "id": "zll18KXOBBkJ"
      }
    },
    {
      "cell_type": "code",
      "source": [
        "%%time\n",
        "\n",
        "pipeline_dtc_bert = Pipeline(\n",
        "    [('dtc', DecisionTreeClassifier(random_state=state))]\n",
        "    )\n",
        "params_dtc_bert = {\n",
        "    'dtc__max_depth' : range(1, 30, 1),\n",
        "    'dtc__min_samples_leaf': range(20, 80, 4),\n",
        "    'dtc__min_samples_split': range(2, 25, 1)\n",
        "}\n",
        "\n",
        "(best_model_dtc_bert,\n",
        " train_f1_dtc_bert, test_f1_dtc_bert) = run_model(\n",
        "    pipeline_dtc_bert, params_dtc_bert, 'dtc'\n",
        "    )\n"
      ],
      "metadata": {
        "colab": {
          "base_uri": "https://localhost:8080/"
        },
        "id": "KKgLZkILBAGQ",
        "outputId": "18da72d8-d06d-47fe-a120-d115a646faae"
      },
      "execution_count": 24,
      "outputs": [
        {
          "output_type": "stream",
          "name": "stdout",
          "text": [
            "Fitting 12 folds for each of 10 candidates, totalling 120 fits\n",
            "F1 score on train set: 0.9854\n",
            "F1 score on test set: 0.9760\n",
            "Best hyperparameters:\n",
            "{'dtc__min_samples_split': 9, 'dtc__min_samples_leaf': 28, 'dtc__max_depth': 8}\n",
            "\n",
            "CPU times: user 3.42 s, sys: 115 ms, total: 3.53 s\n",
            "Wall time: 2min 14s\n"
          ]
        }
      ]
    },
    {
      "cell_type": "markdown",
      "source": [
        "**RandomForestClassifier**"
      ],
      "metadata": {
        "id": "5n53mcyIBLvo"
      }
    },
    {
      "cell_type": "code",
      "source": [
        "%%time\n",
        "\n",
        "pipeline_rfc_bert = Pipeline(\n",
        "    [('rfc', RandomForestClassifier(random_state=state))]\n",
        "    )\n",
        "params_rfc_bert = {\n",
        "    'rfc__min_samples_split': range(2, 60, 3),\n",
        "    'rfc__min_samples_leaf' : range(1, 30, 2),\n",
        "    'rfc__max_leaf_nodes' : range(10, 50, 5),\n",
        "    'rfc__max_depth' : range(40, 80, 3)\n",
        "}\n",
        "\n",
        "(best_model_rfc_bert,\n",
        " train_f1_rfc_bert, test_f1_rfc_bert) = run_model(\n",
        "    pipeline_rfc_bert, params_rfc_bert, 'rfc'\n",
        "    )\n"
      ],
      "metadata": {
        "colab": {
          "base_uri": "https://localhost:8080/"
        },
        "id": "hWNw-Dc_BJoj",
        "outputId": "7c1285a6-ad4d-4530-e33a-6651c5756872"
      },
      "execution_count": 25,
      "outputs": [
        {
          "output_type": "stream",
          "name": "stdout",
          "text": [
            "Fitting 12 folds for each of 10 candidates, totalling 120 fits\n",
            "F1 score on train set: 0.9926\n",
            "F1 score on test set: 0.9817\n",
            "Best hyperparameters:\n",
            "{'rfc__min_samples_split': 23, 'rfc__min_samples_leaf': 1, 'rfc__max_leaf_nodes': 20, 'rfc__max_depth': 46}\n",
            "\n",
            "CPU times: user 8.5 s, sys: 276 ms, total: 8.77 s\n",
            "Wall time: 7min 26s\n"
          ]
        }
      ]
    },
    {
      "cell_type": "markdown",
      "source": [
        "**LogisticRegression**"
      ],
      "metadata": {
        "id": "z0yAhgvtBVQG"
      }
    },
    {
      "cell_type": "code",
      "source": [
        "%%time\n",
        "\n",
        "pipeline_lr_bert = Pipeline(\n",
        "    [('lr', LogisticRegression(random_state=state))]\n",
        "    )\n",
        "params_lr_bert = {\n",
        "    'lr__C': [0.001, 0.01, 0.5],\n",
        "    'lr__solver' : ['lbfgs', 'sag', 'saga']\n",
        "}\n",
        "\n",
        "(best_model_lr_bert,\n",
        " train_f1_lr_bert, test_f1_lr_bert) = run_model(\n",
        "    pipeline_lr_bert, params_lr_bert, 'lr'\n",
        "    )"
      ],
      "metadata": {
        "colab": {
          "base_uri": "https://localhost:8080/"
        },
        "id": "iA_BJ6_xBTqk",
        "outputId": "b7b240a4-71a5-498d-a5e8-d2d81f5ceafe"
      },
      "execution_count": 26,
      "outputs": [
        {
          "output_type": "stream",
          "name": "stdout",
          "text": [
            "Fitting 12 folds for each of 9 candidates, totalling 108 fits\n",
            "F1 score on train set: 0.9849\n",
            "F1 score on test set: 0.9807\n",
            "Best hyperparameters:\n",
            "{'lr__solver': 'lbfgs', 'lr__C': 0.01}\n",
            "\n",
            "CPU times: user 1.48 s, sys: 194 ms, total: 1.68 s\n",
            "Wall time: 3min 22s\n"
          ]
        }
      ]
    },
    {
      "cell_type": "code",
      "source": [
        "%%time\n",
        "\n",
        "pipeline_lgbmc_bert = Pipeline(\n",
        "    [('lgbmc', LGBMClassifier(random_state=state))]\n",
        "    )\n",
        "params_lgbmc_bert = {\n",
        "    'lgbmc__num_leaves': [5, 10, 30],\n",
        "    'lgbmc__max_depth': [5, 25],\n",
        "    'lgbmc__learning_rate': [0.01, 0.1, 0.9]\n",
        "}\n",
        "\n",
        "(best_model_lgbmc_bert,\n",
        " train_f1_lgbmc_bert, test_f1_lgbmc_bert) = run_model(\n",
        "    pipeline_lgbmc_bert, params_lgbmc_bert, 'lgbmc'\n",
        "    )"
      ],
      "metadata": {
        "colab": {
          "base_uri": "https://localhost:8080/"
        },
        "id": "vNVOygKlBe2F",
        "outputId": "69ffe191-45a9-44f5-c24b-21d04a261ec9"
      },
      "execution_count": 27,
      "outputs": [
        {
          "output_type": "stream",
          "name": "stdout",
          "text": [
            "Fitting 12 folds for each of 10 candidates, totalling 120 fits\n",
            "F1 score on train set: 1.0000\n",
            "F1 score on test set: 0.9807\n",
            "Best hyperparameters:\n",
            "{'lgbmc__num_leaves': 10, 'lgbmc__max_depth': 5, 'lgbmc__learning_rate': 0.1}\n",
            "\n",
            "CPU times: user 6.67 s, sys: 283 ms, total: 6.95 s\n",
            "Wall time: 5min 38s\n"
          ]
        }
      ]
    },
    {
      "cell_type": "markdown",
      "metadata": {
        "id": "eVRftQl7v_Rl"
      },
      "source": [
        "Final results (Pipeline vs BERT):"
      ]
    },
    {
      "cell_type": "code",
      "execution_count": 28,
      "metadata": {
        "id": "BiPHl_fBv-pu",
        "colab": {
          "base_uri": "https://localhost:8080/",
          "height": 174
        },
        "outputId": "b7a36f45-f25c-4ce1-c44a-404bc0a6944e"
      },
      "outputs": [
        {
          "output_type": "execute_result",
          "data": {
            "text/plain": [
              "               model_name  F1 (Pipeline)  F1 (BERT)\n",
              "0  DecisionTreeClassifier         0.8382     0.9760\n",
              "1  RandomForestClassifier         0.8276     0.9817\n",
              "2      LogisticRegression         0.8816     0.9807\n",
              "3          LGBMClassifier         0.8835     0.9807"
            ],
            "text/html": [
              "\n",
              "  <div id=\"df-8937832d-9b30-4a75-a26a-a6f5240b4ab4\">\n",
              "    <div class=\"colab-df-container\">\n",
              "      <div>\n",
              "<style scoped>\n",
              "    .dataframe tbody tr th:only-of-type {\n",
              "        vertical-align: middle;\n",
              "    }\n",
              "\n",
              "    .dataframe tbody tr th {\n",
              "        vertical-align: top;\n",
              "    }\n",
              "\n",
              "    .dataframe thead th {\n",
              "        text-align: right;\n",
              "    }\n",
              "</style>\n",
              "<table border=\"1\" class=\"dataframe\">\n",
              "  <thead>\n",
              "    <tr style=\"text-align: right;\">\n",
              "      <th></th>\n",
              "      <th>model_name</th>\n",
              "      <th>F1 (Pipeline)</th>\n",
              "      <th>F1 (BERT)</th>\n",
              "    </tr>\n",
              "  </thead>\n",
              "  <tbody>\n",
              "    <tr>\n",
              "      <th>0</th>\n",
              "      <td>DecisionTreeClassifier</td>\n",
              "      <td>0.8382</td>\n",
              "      <td>0.9760</td>\n",
              "    </tr>\n",
              "    <tr>\n",
              "      <th>1</th>\n",
              "      <td>RandomForestClassifier</td>\n",
              "      <td>0.8276</td>\n",
              "      <td>0.9817</td>\n",
              "    </tr>\n",
              "    <tr>\n",
              "      <th>2</th>\n",
              "      <td>LogisticRegression</td>\n",
              "      <td>0.8816</td>\n",
              "      <td>0.9807</td>\n",
              "    </tr>\n",
              "    <tr>\n",
              "      <th>3</th>\n",
              "      <td>LGBMClassifier</td>\n",
              "      <td>0.8835</td>\n",
              "      <td>0.9807</td>\n",
              "    </tr>\n",
              "  </tbody>\n",
              "</table>\n",
              "</div>\n",
              "      <button class=\"colab-df-convert\" onclick=\"convertToInteractive('df-8937832d-9b30-4a75-a26a-a6f5240b4ab4')\"\n",
              "              title=\"Convert this dataframe to an interactive table.\"\n",
              "              style=\"display:none;\">\n",
              "        \n",
              "  <svg xmlns=\"http://www.w3.org/2000/svg\" height=\"24px\"viewBox=\"0 0 24 24\"\n",
              "       width=\"24px\">\n",
              "    <path d=\"M0 0h24v24H0V0z\" fill=\"none\"/>\n",
              "    <path d=\"M18.56 5.44l.94 2.06.94-2.06 2.06-.94-2.06-.94-.94-2.06-.94 2.06-2.06.94zm-11 1L8.5 8.5l.94-2.06 2.06-.94-2.06-.94L8.5 2.5l-.94 2.06-2.06.94zm10 10l.94 2.06.94-2.06 2.06-.94-2.06-.94-.94-2.06-.94 2.06-2.06.94z\"/><path d=\"M17.41 7.96l-1.37-1.37c-.4-.4-.92-.59-1.43-.59-.52 0-1.04.2-1.43.59L10.3 9.45l-7.72 7.72c-.78.78-.78 2.05 0 2.83L4 21.41c.39.39.9.59 1.41.59.51 0 1.02-.2 1.41-.59l7.78-7.78 2.81-2.81c.8-.78.8-2.07 0-2.86zM5.41 20L4 18.59l7.72-7.72 1.47 1.35L5.41 20z\"/>\n",
              "  </svg>\n",
              "      </button>\n",
              "      \n",
              "  <style>\n",
              "    .colab-df-container {\n",
              "      display:flex;\n",
              "      flex-wrap:wrap;\n",
              "      gap: 12px;\n",
              "    }\n",
              "\n",
              "    .colab-df-convert {\n",
              "      background-color: #E8F0FE;\n",
              "      border: none;\n",
              "      border-radius: 50%;\n",
              "      cursor: pointer;\n",
              "      display: none;\n",
              "      fill: #1967D2;\n",
              "      height: 32px;\n",
              "      padding: 0 0 0 0;\n",
              "      width: 32px;\n",
              "    }\n",
              "\n",
              "    .colab-df-convert:hover {\n",
              "      background-color: #E2EBFA;\n",
              "      box-shadow: 0px 1px 2px rgba(60, 64, 67, 0.3), 0px 1px 3px 1px rgba(60, 64, 67, 0.15);\n",
              "      fill: #174EA6;\n",
              "    }\n",
              "\n",
              "    [theme=dark] .colab-df-convert {\n",
              "      background-color: #3B4455;\n",
              "      fill: #D2E3FC;\n",
              "    }\n",
              "\n",
              "    [theme=dark] .colab-df-convert:hover {\n",
              "      background-color: #434B5C;\n",
              "      box-shadow: 0px 1px 3px 1px rgba(0, 0, 0, 0.15);\n",
              "      filter: drop-shadow(0px 1px 2px rgba(0, 0, 0, 0.3));\n",
              "      fill: #FFFFFF;\n",
              "    }\n",
              "  </style>\n",
              "\n",
              "      <script>\n",
              "        const buttonEl =\n",
              "          document.querySelector('#df-8937832d-9b30-4a75-a26a-a6f5240b4ab4 button.colab-df-convert');\n",
              "        buttonEl.style.display =\n",
              "          google.colab.kernel.accessAllowed ? 'block' : 'none';\n",
              "\n",
              "        async function convertToInteractive(key) {\n",
              "          const element = document.querySelector('#df-8937832d-9b30-4a75-a26a-a6f5240b4ab4');\n",
              "          const dataTable =\n",
              "            await google.colab.kernel.invokeFunction('convertToInteractive',\n",
              "                                                     [key], {});\n",
              "          if (!dataTable) return;\n",
              "\n",
              "          const docLinkHtml = 'Like what you see? Visit the ' +\n",
              "            '<a target=\"_blank\" href=https://colab.research.google.com/notebooks/data_table.ipynb>data table notebook</a>'\n",
              "            + ' to learn more about interactive tables.';\n",
              "          element.innerHTML = '';\n",
              "          dataTable['output_type'] = 'display_data';\n",
              "          await google.colab.output.renderOutput(dataTable, element);\n",
              "          const docLink = document.createElement('div');\n",
              "          docLink.innerHTML = docLinkHtml;\n",
              "          element.appendChild(docLink);\n",
              "        }\n",
              "      </script>\n",
              "    </div>\n",
              "  </div>\n",
              "  "
            ]
          },
          "metadata": {},
          "execution_count": 28
        }
      ],
      "source": [
        "bert_f1 = {'model' : ['DecisionTreeClassifier', 'RandomForestClassifier',\n",
        "                      'LogisticRegression', 'LGBMClassifier'],\n",
        "           'F1 (BERT)' : [test_f1_dtc_bert, test_f1_rfc_bert,\n",
        "                          test_f1_lr_bert, test_f1_lgbmc_bert]}\n",
        "\n",
        "results_bert = pd.DataFrame(data=bert_f1)\n",
        "\n",
        "final_results = pd.concat([results, results_bert], axis=1)\n",
        "final_results = final_results.drop(['model', 'train_f1'], axis=1)\n",
        "final_results = final_results.rename(columns={'test_f1': 'F1 (Pipeline)'})\n",
        "final_results"
      ]
    },
    {
      "cell_type": "markdown",
      "metadata": {
        "id": "Dh4te3kSQXRr"
      },
      "source": [
        "## Conclusion <a class=\"anchor\" id=\"conclusion\"></a>\n",
        "\n",
        "- At the initial examination of the data, a serious class imbalance was found - the percentage of toxic comments was 10.17%. To address the imbalance, the number of non-toxic comments was reduced to match the number of negative comments, resulting in a final sample size of 32450. Next, lemmatization and preparation of train/test sets were performed.\n",
        "- Then, optimal parameters were selected with a focus on the `F1` metric.\n",
        "- Four models were selected for training and trained on the train and test sets with the best parameters.\n",
        "- Additionally, the `BERT` model was implemented. The datasets were prepared and needed data encoded, the trained models were tested on the obtained sample.\n",
        "- Finally, the best models and `F1` values were identified in the comparative table. For more clarity they are printed out below:"
      ]
    },
    {
      "cell_type": "code",
      "execution_count": 29,
      "metadata": {
        "id": "gygzuFRFEBzM",
        "colab": {
          "base_uri": "https://localhost:8080/"
        },
        "outputId": "29956161-2eb6-446d-9358-5028d98d2e3b"
      },
      "outputs": [
        {
          "output_type": "stream",
          "name": "stdout",
          "text": [
            "Best model (Pipeline): \n",
            "    LGBMClassifier, F1: 0.8835\n",
            "Best model (BERT): \n",
            "    RandomForestClassifier, F1: 0.9817\n"
          ]
        }
      ],
      "source": [
        "final_model_pipe = final_results.sort_values(\n",
        "    by='F1 (Pipeline)', ascending=False\n",
        "    )\n",
        "print(\n",
        "    f\"\"\"Best model (Pipeline): \n",
        "    {final_model_pipe.iloc[0, 0]}, F1: {final_model_pipe.iloc[0, 1]}\"\"\"\n",
        "    )\n",
        "final_model_bert = final_results.sort_values(\n",
        "    by='F1 (BERT)', ascending=False\n",
        "    )\n",
        "print(\n",
        "    f\"\"\"Best model (BERT): \n",
        "    {final_model_bert.iloc[0, 0]}, F1: {final_model_bert.iloc[0, 2]}\"\"\"\n",
        ")"
      ]
    }
  ],
  "metadata": {
    "ExecuteTimeLog": [
      {
        "duration": 364,
        "start_time": "2022-08-08T11:40:15.610Z"
      },
      {
        "duration": 3209,
        "start_time": "2022-08-08T11:43:11.398Z"
      },
      {
        "duration": 283,
        "start_time": "2022-08-08T11:43:19.559Z"
      },
      {
        "duration": 258,
        "start_time": "2022-08-08T11:43:24.821Z"
      },
      {
        "duration": 248,
        "start_time": "2022-08-08T11:43:38.544Z"
      },
      {
        "duration": 766,
        "start_time": "2022-08-08T11:45:37.444Z"
      },
      {
        "duration": 3,
        "start_time": "2022-08-08T11:46:03.134Z"
      },
      {
        "duration": 412,
        "start_time": "2022-08-08T11:46:11.303Z"
      },
      {
        "duration": 3,
        "start_time": "2022-08-08T11:46:26.172Z"
      },
      {
        "duration": 299,
        "start_time": "2022-08-08T11:46:28.749Z"
      },
      {
        "duration": 25,
        "start_time": "2022-08-08T12:31:04.957Z"
      },
      {
        "duration": 1357,
        "start_time": "2022-08-09T06:50:11.081Z"
      },
      {
        "duration": 2482,
        "start_time": "2022-08-09T06:50:13.003Z"
      },
      {
        "duration": 274,
        "start_time": "2022-08-09T06:50:15.487Z"
      },
      {
        "duration": 50,
        "start_time": "2022-08-11T14:04:28.778Z"
      },
      {
        "duration": 1371,
        "start_time": "2022-08-11T14:04:52.761Z"
      },
      {
        "duration": 3418,
        "start_time": "2022-08-11T14:04:54.134Z"
      },
      {
        "duration": 312,
        "start_time": "2022-08-11T14:04:57.554Z"
      },
      {
        "duration": 6,
        "start_time": "2022-08-11T14:04:57.868Z"
      },
      {
        "duration": 1165,
        "start_time": "2022-08-12T06:50:46.437Z"
      },
      {
        "duration": 97,
        "start_time": "2022-08-12T06:52:00.294Z"
      },
      {
        "duration": 2195,
        "start_time": "2022-08-12T06:52:05.133Z"
      },
      {
        "duration": 60,
        "start_time": "2022-08-12T06:52:08.119Z"
      },
      {
        "duration": 53,
        "start_time": "2022-08-12T06:52:18.027Z"
      },
      {
        "duration": 6,
        "start_time": "2022-08-12T06:52:28.479Z"
      },
      {
        "duration": 51,
        "start_time": "2022-08-12T06:52:47.928Z"
      },
      {
        "duration": 32,
        "start_time": "2022-08-12T06:53:00.668Z"
      },
      {
        "duration": 31,
        "start_time": "2022-08-12T06:53:16.290Z"
      },
      {
        "duration": 5,
        "start_time": "2022-08-12T06:55:12.045Z"
      },
      {
        "duration": 9,
        "start_time": "2022-08-12T06:57:27.421Z"
      },
      {
        "duration": 688,
        "start_time": "2022-08-12T06:58:16.478Z"
      },
      {
        "duration": 979,
        "start_time": "2022-08-12T06:58:21.676Z"
      },
      {
        "duration": 728,
        "start_time": "2022-08-12T06:58:22.657Z"
      },
      {
        "duration": 36,
        "start_time": "2022-08-12T06:58:23.386Z"
      },
      {
        "duration": 16,
        "start_time": "2022-08-12T06:58:23.424Z"
      },
      {
        "duration": 1828,
        "start_time": "2022-08-12T06:58:23.442Z"
      },
      {
        "duration": 753,
        "start_time": "2022-08-12T07:00:51.719Z"
      },
      {
        "duration": 3,
        "start_time": "2022-08-12T07:02:26.224Z"
      },
      {
        "duration": 102,
        "start_time": "2022-08-12T07:05:08.430Z"
      },
      {
        "duration": 13,
        "start_time": "2022-08-12T07:05:39.731Z"
      },
      {
        "duration": 772,
        "start_time": "2022-08-12T07:05:53.662Z"
      },
      {
        "duration": 823,
        "start_time": "2022-08-12T07:06:00.730Z"
      },
      {
        "duration": 773,
        "start_time": "2022-08-12T07:07:12.329Z"
      },
      {
        "duration": 6,
        "start_time": "2022-08-12T07:07:48.288Z"
      },
      {
        "duration": 13,
        "start_time": "2022-08-12T07:08:43.620Z"
      },
      {
        "duration": 3,
        "start_time": "2022-08-12T07:08:45.736Z"
      },
      {
        "duration": 790,
        "start_time": "2022-08-12T07:08:46.751Z"
      },
      {
        "duration": 782,
        "start_time": "2022-08-12T07:09:00.765Z"
      },
      {
        "duration": 3,
        "start_time": "2022-08-12T07:12:06.065Z"
      },
      {
        "duration": 1478,
        "start_time": "2022-08-12T07:12:30.474Z"
      },
      {
        "duration": 1495,
        "start_time": "2022-08-12T07:13:15.800Z"
      },
      {
        "duration": 5,
        "start_time": "2022-08-12T07:16:09.667Z"
      },
      {
        "duration": 1489,
        "start_time": "2022-08-12T07:16:52.638Z"
      },
      {
        "duration": 379,
        "start_time": "2022-08-12T07:19:47.224Z"
      },
      {
        "duration": 755,
        "start_time": "2022-08-12T07:20:02.737Z"
      },
      {
        "duration": 972,
        "start_time": "2022-08-12T07:20:10.145Z"
      },
      {
        "duration": 1470,
        "start_time": "2022-08-12T07:22:23.440Z"
      },
      {
        "duration": 2374,
        "start_time": "2022-08-12T07:22:24.912Z"
      },
      {
        "duration": 36,
        "start_time": "2022-08-12T07:22:27.288Z"
      },
      {
        "duration": 5,
        "start_time": "2022-08-12T07:22:27.325Z"
      },
      {
        "duration": 1838,
        "start_time": "2022-08-12T07:22:27.332Z"
      },
      {
        "duration": 12,
        "start_time": "2022-08-12T07:22:29.172Z"
      },
      {
        "duration": 1549,
        "start_time": "2022-08-12T07:22:29.186Z"
      },
      {
        "duration": 3,
        "start_time": "2022-08-12T07:27:12.378Z"
      },
      {
        "duration": 1205,
        "start_time": "2022-08-12T07:29:21.169Z"
      },
      {
        "duration": 8,
        "start_time": "2022-08-12T07:29:34.708Z"
      },
      {
        "duration": 1514,
        "start_time": "2022-08-12T07:30:56.506Z"
      },
      {
        "duration": 1516,
        "start_time": "2022-08-12T07:39:12.530Z"
      },
      {
        "duration": 122,
        "start_time": "2022-08-12T07:39:58.230Z"
      },
      {
        "duration": 79230,
        "start_time": "2022-08-12T07:40:09.114Z"
      },
      {
        "duration": 9,
        "start_time": "2022-08-12T07:41:38.874Z"
      },
      {
        "duration": 3,
        "start_time": "2022-08-12T07:45:36.991Z"
      },
      {
        "duration": 6,
        "start_time": "2022-08-12T07:49:31.709Z"
      },
      {
        "duration": 25,
        "start_time": "2022-08-12T07:49:40.251Z"
      },
      {
        "duration": 3,
        "start_time": "2022-08-12T07:49:57.398Z"
      },
      {
        "duration": 1165,
        "start_time": "2022-08-12T07:50:00.630Z"
      },
      {
        "duration": 984,
        "start_time": "2022-08-12T07:50:13.449Z"
      },
      {
        "duration": 18305,
        "start_time": "2022-08-12T07:50:25.195Z"
      },
      {
        "duration": 4,
        "start_time": "2022-08-12T07:51:49.943Z"
      },
      {
        "duration": 677,
        "start_time": "2022-08-12T07:51:51.428Z"
      },
      {
        "duration": 935,
        "start_time": "2022-08-12T07:53:38.563Z"
      },
      {
        "duration": 81589,
        "start_time": "2022-08-12T07:54:24.927Z"
      },
      {
        "duration": 12,
        "start_time": "2022-08-12T07:56:09.620Z"
      },
      {
        "duration": 6,
        "start_time": "2022-08-12T08:01:31.365Z"
      },
      {
        "duration": 1423,
        "start_time": "2022-08-12T08:02:00.561Z"
      },
      {
        "duration": 7,
        "start_time": "2022-08-12T08:02:01.986Z"
      },
      {
        "duration": 800,
        "start_time": "2022-08-12T08:02:01.995Z"
      },
      {
        "duration": 42,
        "start_time": "2022-08-12T08:02:02.797Z"
      },
      {
        "duration": 5,
        "start_time": "2022-08-12T08:02:02.841Z"
      },
      {
        "duration": 1900,
        "start_time": "2022-08-12T08:02:02.847Z"
      },
      {
        "duration": 7,
        "start_time": "2022-08-12T08:02:04.748Z"
      },
      {
        "duration": 82823,
        "start_time": "2022-08-12T08:02:04.756Z"
      },
      {
        "duration": 123,
        "start_time": "2022-08-12T08:05:59.711Z"
      },
      {
        "duration": 7,
        "start_time": "2022-08-12T08:06:07.346Z"
      },
      {
        "duration": 83418,
        "start_time": "2022-08-12T08:06:28.858Z"
      },
      {
        "duration": 7,
        "start_time": "2022-08-12T08:07:52.278Z"
      },
      {
        "duration": 3,
        "start_time": "2022-08-12T08:09:05.811Z"
      },
      {
        "duration": 6,
        "start_time": "2022-08-12T08:09:07.596Z"
      },
      {
        "duration": 3,
        "start_time": "2022-08-12T08:09:18.895Z"
      },
      {
        "duration": 5,
        "start_time": "2022-08-12T08:09:20.621Z"
      },
      {
        "duration": 2,
        "start_time": "2022-08-12T08:09:29.839Z"
      },
      {
        "duration": 6,
        "start_time": "2022-08-12T08:09:31.315Z"
      },
      {
        "duration": 17,
        "start_time": "2022-08-12T08:12:31.914Z"
      },
      {
        "duration": 3,
        "start_time": "2022-08-12T08:13:40.254Z"
      },
      {
        "duration": 52,
        "start_time": "2022-08-12T08:14:48.033Z"
      },
      {
        "duration": 3,
        "start_time": "2022-08-12T08:16:48.448Z"
      },
      {
        "duration": 14,
        "start_time": "2022-08-12T08:16:51.078Z"
      },
      {
        "duration": 3,
        "start_time": "2022-08-12T08:17:23.314Z"
      },
      {
        "duration": 3,
        "start_time": "2022-08-12T08:17:27.048Z"
      },
      {
        "duration": 19,
        "start_time": "2022-08-12T08:17:28.740Z"
      },
      {
        "duration": 3,
        "start_time": "2022-08-12T08:17:37.384Z"
      },
      {
        "duration": 7,
        "start_time": "2022-08-12T08:17:38.900Z"
      },
      {
        "duration": 4,
        "start_time": "2022-08-12T08:18:10.788Z"
      },
      {
        "duration": 7,
        "start_time": "2022-08-12T08:18:12.339Z"
      },
      {
        "duration": 4,
        "start_time": "2022-08-12T08:18:51.336Z"
      },
      {
        "duration": 65,
        "start_time": "2022-08-12T08:23:54.194Z"
      },
      {
        "duration": 19,
        "start_time": "2022-08-12T08:24:03.239Z"
      },
      {
        "duration": 19,
        "start_time": "2022-08-12T08:25:03.174Z"
      },
      {
        "duration": 1128,
        "start_time": "2022-08-12T08:26:09.637Z"
      },
      {
        "duration": 3,
        "start_time": "2022-08-12T08:26:23.474Z"
      },
      {
        "duration": 7,
        "start_time": "2022-08-12T08:26:24.581Z"
      },
      {
        "duration": 5,
        "start_time": "2022-08-12T08:26:46.290Z"
      },
      {
        "duration": 7,
        "start_time": "2022-08-12T08:26:51.959Z"
      },
      {
        "duration": 6,
        "start_time": "2022-08-12T08:27:05.129Z"
      },
      {
        "duration": 6,
        "start_time": "2022-08-12T08:27:54.227Z"
      },
      {
        "duration": 5,
        "start_time": "2022-08-12T08:28:01.028Z"
      },
      {
        "duration": 2,
        "start_time": "2022-08-12T08:28:07.152Z"
      },
      {
        "duration": 5,
        "start_time": "2022-08-12T08:28:15.841Z"
      },
      {
        "duration": 5,
        "start_time": "2022-08-12T08:28:18.828Z"
      },
      {
        "duration": 7,
        "start_time": "2022-08-12T08:28:25.725Z"
      },
      {
        "duration": 2,
        "start_time": "2022-08-12T08:28:29.364Z"
      },
      {
        "duration": 6,
        "start_time": "2022-08-12T08:28:31.226Z"
      },
      {
        "duration": 8,
        "start_time": "2022-08-12T08:28:36.338Z"
      },
      {
        "duration": 7,
        "start_time": "2022-08-12T08:28:44.239Z"
      },
      {
        "duration": 7,
        "start_time": "2022-08-12T08:28:46.688Z"
      },
      {
        "duration": 7,
        "start_time": "2022-08-12T08:28:50.625Z"
      },
      {
        "duration": 5,
        "start_time": "2022-08-12T08:28:57.625Z"
      },
      {
        "duration": 3,
        "start_time": "2022-08-12T08:29:05.277Z"
      },
      {
        "duration": 5,
        "start_time": "2022-08-12T08:29:06.760Z"
      },
      {
        "duration": 6,
        "start_time": "2022-08-12T08:29:19.143Z"
      },
      {
        "duration": 3,
        "start_time": "2022-08-12T08:29:26.485Z"
      },
      {
        "duration": 6,
        "start_time": "2022-08-12T08:29:27.514Z"
      },
      {
        "duration": 3,
        "start_time": "2022-08-12T08:30:14.840Z"
      },
      {
        "duration": 815,
        "start_time": "2022-08-12T08:30:31.545Z"
      },
      {
        "duration": 6,
        "start_time": "2022-08-12T08:30:55.941Z"
      },
      {
        "duration": 804,
        "start_time": "2022-08-12T08:31:07.447Z"
      },
      {
        "duration": 3,
        "start_time": "2022-08-12T08:33:48.284Z"
      },
      {
        "duration": 789,
        "start_time": "2022-08-12T08:33:58.492Z"
      },
      {
        "duration": 6,
        "start_time": "2022-08-12T08:34:17.626Z"
      },
      {
        "duration": 5,
        "start_time": "2022-08-12T08:34:24.853Z"
      },
      {
        "duration": 807,
        "start_time": "2022-08-12T08:34:49.087Z"
      },
      {
        "duration": 3,
        "start_time": "2022-08-12T08:36:13.827Z"
      },
      {
        "duration": 763,
        "start_time": "2022-08-12T08:36:14.979Z"
      },
      {
        "duration": 796,
        "start_time": "2022-08-12T08:36:29.657Z"
      },
      {
        "duration": 789,
        "start_time": "2022-08-12T08:36:36.126Z"
      },
      {
        "duration": 3,
        "start_time": "2022-08-12T08:37:20.886Z"
      },
      {
        "duration": 781,
        "start_time": "2022-08-12T08:37:23.473Z"
      },
      {
        "duration": 5,
        "start_time": "2022-08-12T08:40:14.168Z"
      },
      {
        "duration": 5,
        "start_time": "2022-08-12T08:42:12.545Z"
      },
      {
        "duration": 5,
        "start_time": "2022-08-12T08:42:19.217Z"
      },
      {
        "duration": 5,
        "start_time": "2022-08-12T08:42:32.248Z"
      },
      {
        "duration": 5,
        "start_time": "2022-08-12T08:42:37.100Z"
      },
      {
        "duration": 5,
        "start_time": "2022-08-12T08:42:44.914Z"
      },
      {
        "duration": 5,
        "start_time": "2022-08-12T08:43:03.981Z"
      },
      {
        "duration": 5,
        "start_time": "2022-08-12T08:43:11.441Z"
      },
      {
        "duration": 5,
        "start_time": "2022-08-12T08:43:15.745Z"
      },
      {
        "duration": 5,
        "start_time": "2022-08-12T08:43:22.442Z"
      },
      {
        "duration": 4,
        "start_time": "2022-08-12T08:43:28.417Z"
      },
      {
        "duration": 2,
        "start_time": "2022-08-12T08:43:49.930Z"
      },
      {
        "duration": 5,
        "start_time": "2022-08-12T08:43:51.654Z"
      },
      {
        "duration": 2,
        "start_time": "2022-08-12T08:44:10.928Z"
      },
      {
        "duration": 5,
        "start_time": "2022-08-12T08:44:14.375Z"
      },
      {
        "duration": 5,
        "start_time": "2022-08-12T08:44:48.268Z"
      },
      {
        "duration": 5,
        "start_time": "2022-08-12T08:44:57.279Z"
      },
      {
        "duration": 5,
        "start_time": "2022-08-12T08:45:20.424Z"
      },
      {
        "duration": 6,
        "start_time": "2022-08-12T08:45:28.978Z"
      },
      {
        "duration": 5,
        "start_time": "2022-08-12T08:45:50.017Z"
      },
      {
        "duration": 18,
        "start_time": "2022-08-12T08:46:31.478Z"
      },
      {
        "duration": 15,
        "start_time": "2022-08-12T08:46:40.357Z"
      },
      {
        "duration": 15,
        "start_time": "2022-08-12T08:47:04.026Z"
      },
      {
        "duration": 24,
        "start_time": "2022-08-12T08:47:15.179Z"
      },
      {
        "duration": 17,
        "start_time": "2022-08-12T08:48:04.830Z"
      },
      {
        "duration": 6,
        "start_time": "2022-08-12T08:48:38.983Z"
      },
      {
        "duration": 16,
        "start_time": "2022-08-12T08:49:05.216Z"
      },
      {
        "duration": 15,
        "start_time": "2022-08-12T08:58:37.535Z"
      },
      {
        "duration": 17,
        "start_time": "2022-08-12T08:58:50.199Z"
      },
      {
        "duration": 5,
        "start_time": "2022-08-12T08:58:56.111Z"
      },
      {
        "duration": 16,
        "start_time": "2022-08-12T08:59:17.679Z"
      },
      {
        "duration": 4,
        "start_time": "2022-08-12T08:59:21.960Z"
      },
      {
        "duration": 6,
        "start_time": "2022-08-12T08:59:58.651Z"
      },
      {
        "duration": 7,
        "start_time": "2022-08-12T09:00:15.579Z"
      },
      {
        "duration": 8,
        "start_time": "2022-08-12T09:00:39.685Z"
      },
      {
        "duration": 6,
        "start_time": "2022-08-12T09:01:12.373Z"
      },
      {
        "duration": 5,
        "start_time": "2022-08-12T09:01:24.936Z"
      },
      {
        "duration": 5,
        "start_time": "2022-08-12T09:01:39.409Z"
      },
      {
        "duration": 6,
        "start_time": "2022-08-12T09:01:57.503Z"
      },
      {
        "duration": 88,
        "start_time": "2022-08-12T09:02:43.714Z"
      },
      {
        "duration": 5,
        "start_time": "2022-08-12T09:02:54.271Z"
      },
      {
        "duration": 5,
        "start_time": "2022-08-12T09:03:28.240Z"
      },
      {
        "duration": 5,
        "start_time": "2022-08-12T09:03:34.186Z"
      },
      {
        "duration": 5,
        "start_time": "2022-08-12T09:04:05.488Z"
      },
      {
        "duration": 117372,
        "start_time": "2022-08-12T09:06:36.375Z"
      },
      {
        "duration": 1427,
        "start_time": "2022-08-12T09:14:00.150Z"
      },
      {
        "duration": 763,
        "start_time": "2022-08-12T09:14:01.579Z"
      },
      {
        "duration": 37,
        "start_time": "2022-08-12T09:14:02.344Z"
      },
      {
        "duration": 5,
        "start_time": "2022-08-12T09:14:02.382Z"
      },
      {
        "duration": 1884,
        "start_time": "2022-08-12T09:14:02.389Z"
      },
      {
        "duration": 1202,
        "start_time": "2022-08-12T09:14:04.275Z"
      },
      {
        "duration": 118284,
        "start_time": "2022-08-12T09:14:05.478Z"
      },
      {
        "duration": 17,
        "start_time": "2022-08-12T09:17:47.915Z"
      },
      {
        "duration": 121,
        "start_time": "2022-08-12T09:21:38.191Z"
      },
      {
        "duration": 3,
        "start_time": "2022-08-12T09:21:54.321Z"
      },
      {
        "duration": 56,
        "start_time": "2022-08-12T09:21:56.858Z"
      },
      {
        "duration": 56,
        "start_time": "2022-08-12T09:22:05.948Z"
      },
      {
        "duration": 50,
        "start_time": "2022-08-12T09:22:11.851Z"
      },
      {
        "duration": 213,
        "start_time": "2022-08-12T09:22:51.829Z"
      },
      {
        "duration": 3,
        "start_time": "2022-08-12T09:23:03.973Z"
      },
      {
        "duration": 3,
        "start_time": "2022-08-12T09:24:03.526Z"
      },
      {
        "duration": 4,
        "start_time": "2022-08-12T09:24:20.183Z"
      },
      {
        "duration": 1279,
        "start_time": "2022-08-12T10:48:13.874Z"
      },
      {
        "duration": 3205,
        "start_time": "2022-08-12T10:48:15.155Z"
      },
      {
        "duration": 41,
        "start_time": "2022-08-12T10:48:18.362Z"
      },
      {
        "duration": 5,
        "start_time": "2022-08-12T10:48:18.404Z"
      },
      {
        "duration": 1681,
        "start_time": "2022-08-12T10:48:18.411Z"
      },
      {
        "duration": 1064,
        "start_time": "2022-08-12T10:48:20.094Z"
      },
      {
        "duration": 117379,
        "start_time": "2022-08-12T10:48:21.159Z"
      },
      {
        "duration": 43,
        "start_time": "2022-08-12T10:50:18.539Z"
      },
      {
        "duration": 347,
        "start_time": "2022-08-12T10:50:18.584Z"
      },
      {
        "duration": 108,
        "start_time": "2022-08-12T10:55:00.323Z"
      },
      {
        "duration": 10,
        "start_time": "2022-08-12T10:55:22.119Z"
      },
      {
        "duration": 3,
        "start_time": "2022-08-12T10:56:09.065Z"
      },
      {
        "duration": 4,
        "start_time": "2022-08-12T10:56:12.965Z"
      },
      {
        "duration": 1319,
        "start_time": "2022-08-12T10:56:29.173Z"
      },
      {
        "duration": 3388,
        "start_time": "2022-08-12T10:56:30.494Z"
      },
      {
        "duration": 44,
        "start_time": "2022-08-12T10:56:33.884Z"
      },
      {
        "duration": 7,
        "start_time": "2022-08-12T10:56:33.930Z"
      },
      {
        "duration": 1755,
        "start_time": "2022-08-12T10:56:33.940Z"
      },
      {
        "duration": 1188,
        "start_time": "2022-08-12T10:56:35.696Z"
      },
      {
        "duration": 118143,
        "start_time": "2022-08-12T10:56:36.886Z"
      },
      {
        "duration": 45,
        "start_time": "2022-08-12T10:58:35.031Z"
      },
      {
        "duration": 178,
        "start_time": "2022-08-12T10:58:35.078Z"
      },
      {
        "duration": 1351,
        "start_time": "2022-08-12T11:02:00.788Z"
      },
      {
        "duration": 3303,
        "start_time": "2022-08-12T11:02:02.141Z"
      },
      {
        "duration": 46,
        "start_time": "2022-08-12T11:02:05.445Z"
      },
      {
        "duration": 5,
        "start_time": "2022-08-12T11:02:05.493Z"
      },
      {
        "duration": 1743,
        "start_time": "2022-08-12T11:02:05.500Z"
      },
      {
        "duration": 1158,
        "start_time": "2022-08-12T11:02:07.245Z"
      },
      {
        "duration": 121606,
        "start_time": "2022-08-12T11:02:08.404Z"
      },
      {
        "duration": 42,
        "start_time": "2022-08-12T11:04:10.012Z"
      },
      {
        "duration": 237,
        "start_time": "2022-08-12T11:04:10.056Z"
      },
      {
        "duration": 44,
        "start_time": "2022-08-12T11:04:53.275Z"
      },
      {
        "duration": 1305,
        "start_time": "2022-08-12T11:05:01.731Z"
      },
      {
        "duration": 3198,
        "start_time": "2022-08-12T11:05:05.764Z"
      },
      {
        "duration": 40,
        "start_time": "2022-08-12T11:05:08.964Z"
      },
      {
        "duration": 5,
        "start_time": "2022-08-12T11:05:10.577Z"
      },
      {
        "duration": 1660,
        "start_time": "2022-08-12T11:05:12.613Z"
      },
      {
        "duration": 1106,
        "start_time": "2022-08-12T11:05:16.812Z"
      },
      {
        "duration": 117293,
        "start_time": "2022-08-12T11:05:20.679Z"
      },
      {
        "duration": 76,
        "start_time": "2022-08-12T11:09:48.915Z"
      },
      {
        "duration": 280,
        "start_time": "2022-08-12T11:09:51.137Z"
      }
    ],
    "colab": {
      "provenance": [],
      "toc_visible": true
    },
    "kernelspec": {
      "display_name": "Python 3 (ipykernel)",
      "language": "python",
      "name": "python3"
    },
    "language_info": {
      "codemirror_mode": {
        "name": "ipython",
        "version": 3
      },
      "file_extension": ".py",
      "mimetype": "text/x-python",
      "name": "python",
      "nbconvert_exporter": "python",
      "pygments_lexer": "ipython3",
      "version": "3.9.5"
    },
    "toc": {
      "base_numbering": 1,
      "nav_menu": {},
      "number_sections": true,
      "sideBar": true,
      "skip_h1_title": true,
      "title_cell": "Содержание",
      "title_sidebar": "Contents",
      "toc_cell": false,
      "toc_position": {
        "height": "calc(100% - 180px)",
        "left": "10px",
        "top": "150px",
        "width": "302.391px"
      },
      "toc_section_display": true,
      "toc_window_display": true
    },
    "accelerator": "GPU",
    "gpuClass": "standard",
    "widgets": {
      "application/vnd.jupyter.widget-state+json": {
        "757a1d4e823c4ad496342be1760d7e05": {
          "model_module": "@jupyter-widgets/controls",
          "model_name": "HBoxModel",
          "model_module_version": "1.5.0",
          "state": {
            "_dom_classes": [],
            "_model_module": "@jupyter-widgets/controls",
            "_model_module_version": "1.5.0",
            "_model_name": "HBoxModel",
            "_view_count": null,
            "_view_module": "@jupyter-widgets/controls",
            "_view_module_version": "1.5.0",
            "_view_name": "HBoxView",
            "box_style": "",
            "children": [
              "IPY_MODEL_2be54487d86e4d46aecedd6cc0c01c8f",
              "IPY_MODEL_ca164f73bebf4b5b86b14bab099e0e9a",
              "IPY_MODEL_6489df73336d41df8842a4719f6d73a5"
            ],
            "layout": "IPY_MODEL_8c39c88845264f6fbc9a0a3d905b29c1"
          }
        },
        "2be54487d86e4d46aecedd6cc0c01c8f": {
          "model_module": "@jupyter-widgets/controls",
          "model_name": "HTMLModel",
          "model_module_version": "1.5.0",
          "state": {
            "_dom_classes": [],
            "_model_module": "@jupyter-widgets/controls",
            "_model_module_version": "1.5.0",
            "_model_name": "HTMLModel",
            "_view_count": null,
            "_view_module": "@jupyter-widgets/controls",
            "_view_module_version": "1.5.0",
            "_view_name": "HTMLView",
            "description": "",
            "description_tooltip": null,
            "layout": "IPY_MODEL_c5db930af94949b0837d354eabc6fe17",
            "placeholder": "​",
            "style": "IPY_MODEL_7fa6115af0e84176aaa8872d05fb3ba1",
            "value": "Downloading (…)solve/main/vocab.txt: 100%"
          }
        },
        "ca164f73bebf4b5b86b14bab099e0e9a": {
          "model_module": "@jupyter-widgets/controls",
          "model_name": "FloatProgressModel",
          "model_module_version": "1.5.0",
          "state": {
            "_dom_classes": [],
            "_model_module": "@jupyter-widgets/controls",
            "_model_module_version": "1.5.0",
            "_model_name": "FloatProgressModel",
            "_view_count": null,
            "_view_module": "@jupyter-widgets/controls",
            "_view_module_version": "1.5.0",
            "_view_name": "ProgressView",
            "bar_style": "success",
            "description": "",
            "description_tooltip": null,
            "layout": "IPY_MODEL_aaa2ea6cee0c44e1904a5bbd749765ff",
            "max": 231508,
            "min": 0,
            "orientation": "horizontal",
            "style": "IPY_MODEL_c35138c116c4432e86e19a0680e3efc2",
            "value": 231508
          }
        },
        "6489df73336d41df8842a4719f6d73a5": {
          "model_module": "@jupyter-widgets/controls",
          "model_name": "HTMLModel",
          "model_module_version": "1.5.0",
          "state": {
            "_dom_classes": [],
            "_model_module": "@jupyter-widgets/controls",
            "_model_module_version": "1.5.0",
            "_model_name": "HTMLModel",
            "_view_count": null,
            "_view_module": "@jupyter-widgets/controls",
            "_view_module_version": "1.5.0",
            "_view_name": "HTMLView",
            "description": "",
            "description_tooltip": null,
            "layout": "IPY_MODEL_42b1ec66c69349c09acf4fb8085e61fb",
            "placeholder": "​",
            "style": "IPY_MODEL_a18e30d5a6cb4dea944e38c1e9f4e53e",
            "value": " 232k/232k [00:00&lt;00:00, 938kB/s]"
          }
        },
        "8c39c88845264f6fbc9a0a3d905b29c1": {
          "model_module": "@jupyter-widgets/base",
          "model_name": "LayoutModel",
          "model_module_version": "1.2.0",
          "state": {
            "_model_module": "@jupyter-widgets/base",
            "_model_module_version": "1.2.0",
            "_model_name": "LayoutModel",
            "_view_count": null,
            "_view_module": "@jupyter-widgets/base",
            "_view_module_version": "1.2.0",
            "_view_name": "LayoutView",
            "align_content": null,
            "align_items": null,
            "align_self": null,
            "border": null,
            "bottom": null,
            "display": null,
            "flex": null,
            "flex_flow": null,
            "grid_area": null,
            "grid_auto_columns": null,
            "grid_auto_flow": null,
            "grid_auto_rows": null,
            "grid_column": null,
            "grid_gap": null,
            "grid_row": null,
            "grid_template_areas": null,
            "grid_template_columns": null,
            "grid_template_rows": null,
            "height": null,
            "justify_content": null,
            "justify_items": null,
            "left": null,
            "margin": null,
            "max_height": null,
            "max_width": null,
            "min_height": null,
            "min_width": null,
            "object_fit": null,
            "object_position": null,
            "order": null,
            "overflow": null,
            "overflow_x": null,
            "overflow_y": null,
            "padding": null,
            "right": null,
            "top": null,
            "visibility": null,
            "width": null
          }
        },
        "c5db930af94949b0837d354eabc6fe17": {
          "model_module": "@jupyter-widgets/base",
          "model_name": "LayoutModel",
          "model_module_version": "1.2.0",
          "state": {
            "_model_module": "@jupyter-widgets/base",
            "_model_module_version": "1.2.0",
            "_model_name": "LayoutModel",
            "_view_count": null,
            "_view_module": "@jupyter-widgets/base",
            "_view_module_version": "1.2.0",
            "_view_name": "LayoutView",
            "align_content": null,
            "align_items": null,
            "align_self": null,
            "border": null,
            "bottom": null,
            "display": null,
            "flex": null,
            "flex_flow": null,
            "grid_area": null,
            "grid_auto_columns": null,
            "grid_auto_flow": null,
            "grid_auto_rows": null,
            "grid_column": null,
            "grid_gap": null,
            "grid_row": null,
            "grid_template_areas": null,
            "grid_template_columns": null,
            "grid_template_rows": null,
            "height": null,
            "justify_content": null,
            "justify_items": null,
            "left": null,
            "margin": null,
            "max_height": null,
            "max_width": null,
            "min_height": null,
            "min_width": null,
            "object_fit": null,
            "object_position": null,
            "order": null,
            "overflow": null,
            "overflow_x": null,
            "overflow_y": null,
            "padding": null,
            "right": null,
            "top": null,
            "visibility": null,
            "width": null
          }
        },
        "7fa6115af0e84176aaa8872d05fb3ba1": {
          "model_module": "@jupyter-widgets/controls",
          "model_name": "DescriptionStyleModel",
          "model_module_version": "1.5.0",
          "state": {
            "_model_module": "@jupyter-widgets/controls",
            "_model_module_version": "1.5.0",
            "_model_name": "DescriptionStyleModel",
            "_view_count": null,
            "_view_module": "@jupyter-widgets/base",
            "_view_module_version": "1.2.0",
            "_view_name": "StyleView",
            "description_width": ""
          }
        },
        "aaa2ea6cee0c44e1904a5bbd749765ff": {
          "model_module": "@jupyter-widgets/base",
          "model_name": "LayoutModel",
          "model_module_version": "1.2.0",
          "state": {
            "_model_module": "@jupyter-widgets/base",
            "_model_module_version": "1.2.0",
            "_model_name": "LayoutModel",
            "_view_count": null,
            "_view_module": "@jupyter-widgets/base",
            "_view_module_version": "1.2.0",
            "_view_name": "LayoutView",
            "align_content": null,
            "align_items": null,
            "align_self": null,
            "border": null,
            "bottom": null,
            "display": null,
            "flex": null,
            "flex_flow": null,
            "grid_area": null,
            "grid_auto_columns": null,
            "grid_auto_flow": null,
            "grid_auto_rows": null,
            "grid_column": null,
            "grid_gap": null,
            "grid_row": null,
            "grid_template_areas": null,
            "grid_template_columns": null,
            "grid_template_rows": null,
            "height": null,
            "justify_content": null,
            "justify_items": null,
            "left": null,
            "margin": null,
            "max_height": null,
            "max_width": null,
            "min_height": null,
            "min_width": null,
            "object_fit": null,
            "object_position": null,
            "order": null,
            "overflow": null,
            "overflow_x": null,
            "overflow_y": null,
            "padding": null,
            "right": null,
            "top": null,
            "visibility": null,
            "width": null
          }
        },
        "c35138c116c4432e86e19a0680e3efc2": {
          "model_module": "@jupyter-widgets/controls",
          "model_name": "ProgressStyleModel",
          "model_module_version": "1.5.0",
          "state": {
            "_model_module": "@jupyter-widgets/controls",
            "_model_module_version": "1.5.0",
            "_model_name": "ProgressStyleModel",
            "_view_count": null,
            "_view_module": "@jupyter-widgets/base",
            "_view_module_version": "1.2.0",
            "_view_name": "StyleView",
            "bar_color": null,
            "description_width": ""
          }
        },
        "42b1ec66c69349c09acf4fb8085e61fb": {
          "model_module": "@jupyter-widgets/base",
          "model_name": "LayoutModel",
          "model_module_version": "1.2.0",
          "state": {
            "_model_module": "@jupyter-widgets/base",
            "_model_module_version": "1.2.0",
            "_model_name": "LayoutModel",
            "_view_count": null,
            "_view_module": "@jupyter-widgets/base",
            "_view_module_version": "1.2.0",
            "_view_name": "LayoutView",
            "align_content": null,
            "align_items": null,
            "align_self": null,
            "border": null,
            "bottom": null,
            "display": null,
            "flex": null,
            "flex_flow": null,
            "grid_area": null,
            "grid_auto_columns": null,
            "grid_auto_flow": null,
            "grid_auto_rows": null,
            "grid_column": null,
            "grid_gap": null,
            "grid_row": null,
            "grid_template_areas": null,
            "grid_template_columns": null,
            "grid_template_rows": null,
            "height": null,
            "justify_content": null,
            "justify_items": null,
            "left": null,
            "margin": null,
            "max_height": null,
            "max_width": null,
            "min_height": null,
            "min_width": null,
            "object_fit": null,
            "object_position": null,
            "order": null,
            "overflow": null,
            "overflow_x": null,
            "overflow_y": null,
            "padding": null,
            "right": null,
            "top": null,
            "visibility": null,
            "width": null
          }
        },
        "a18e30d5a6cb4dea944e38c1e9f4e53e": {
          "model_module": "@jupyter-widgets/controls",
          "model_name": "DescriptionStyleModel",
          "model_module_version": "1.5.0",
          "state": {
            "_model_module": "@jupyter-widgets/controls",
            "_model_module_version": "1.5.0",
            "_model_name": "DescriptionStyleModel",
            "_view_count": null,
            "_view_module": "@jupyter-widgets/base",
            "_view_module_version": "1.2.0",
            "_view_name": "StyleView",
            "description_width": ""
          }
        },
        "f6c7397885e24274a2526767b1a84c23": {
          "model_module": "@jupyter-widgets/controls",
          "model_name": "HBoxModel",
          "model_module_version": "1.5.0",
          "state": {
            "_dom_classes": [],
            "_model_module": "@jupyter-widgets/controls",
            "_model_module_version": "1.5.0",
            "_model_name": "HBoxModel",
            "_view_count": null,
            "_view_module": "@jupyter-widgets/controls",
            "_view_module_version": "1.5.0",
            "_view_name": "HBoxView",
            "box_style": "",
            "children": [
              "IPY_MODEL_7fe0dfdfed70407e9e4b9b39191353f9",
              "IPY_MODEL_36b8c896d4d4492d9bff02b9eb501178",
              "IPY_MODEL_b80d05d549424085b7bf0ac3ec72a5a9"
            ],
            "layout": "IPY_MODEL_0d756831c5664cd8a48e813202d3f976"
          }
        },
        "7fe0dfdfed70407e9e4b9b39191353f9": {
          "model_module": "@jupyter-widgets/controls",
          "model_name": "HTMLModel",
          "model_module_version": "1.5.0",
          "state": {
            "_dom_classes": [],
            "_model_module": "@jupyter-widgets/controls",
            "_model_module_version": "1.5.0",
            "_model_name": "HTMLModel",
            "_view_count": null,
            "_view_module": "@jupyter-widgets/controls",
            "_view_module_version": "1.5.0",
            "_view_name": "HTMLView",
            "description": "",
            "description_tooltip": null,
            "layout": "IPY_MODEL_c84a2bc12b9343a8b26bb9664659f088",
            "placeholder": "​",
            "style": "IPY_MODEL_a97d517648424d838b58f3f2bca87ef7",
            "value": "Downloading (…)cial_tokens_map.json: 100%"
          }
        },
        "36b8c896d4d4492d9bff02b9eb501178": {
          "model_module": "@jupyter-widgets/controls",
          "model_name": "FloatProgressModel",
          "model_module_version": "1.5.0",
          "state": {
            "_dom_classes": [],
            "_model_module": "@jupyter-widgets/controls",
            "_model_module_version": "1.5.0",
            "_model_name": "FloatProgressModel",
            "_view_count": null,
            "_view_module": "@jupyter-widgets/controls",
            "_view_module_version": "1.5.0",
            "_view_name": "ProgressView",
            "bar_style": "success",
            "description": "",
            "description_tooltip": null,
            "layout": "IPY_MODEL_da3fe86d3d544abc9b9476738cdf6b7c",
            "max": 112,
            "min": 0,
            "orientation": "horizontal",
            "style": "IPY_MODEL_0631173f8d0e4f399096aea03d71c7ef",
            "value": 112
          }
        },
        "b80d05d549424085b7bf0ac3ec72a5a9": {
          "model_module": "@jupyter-widgets/controls",
          "model_name": "HTMLModel",
          "model_module_version": "1.5.0",
          "state": {
            "_dom_classes": [],
            "_model_module": "@jupyter-widgets/controls",
            "_model_module_version": "1.5.0",
            "_model_name": "HTMLModel",
            "_view_count": null,
            "_view_module": "@jupyter-widgets/controls",
            "_view_module_version": "1.5.0",
            "_view_name": "HTMLView",
            "description": "",
            "description_tooltip": null,
            "layout": "IPY_MODEL_1edc32ba31074f719a4a481a9b6516a9",
            "placeholder": "​",
            "style": "IPY_MODEL_4ff48f59efe544d39086ac3ffba23abc",
            "value": " 112/112 [00:00&lt;00:00, 5.76kB/s]"
          }
        },
        "0d756831c5664cd8a48e813202d3f976": {
          "model_module": "@jupyter-widgets/base",
          "model_name": "LayoutModel",
          "model_module_version": "1.2.0",
          "state": {
            "_model_module": "@jupyter-widgets/base",
            "_model_module_version": "1.2.0",
            "_model_name": "LayoutModel",
            "_view_count": null,
            "_view_module": "@jupyter-widgets/base",
            "_view_module_version": "1.2.0",
            "_view_name": "LayoutView",
            "align_content": null,
            "align_items": null,
            "align_self": null,
            "border": null,
            "bottom": null,
            "display": null,
            "flex": null,
            "flex_flow": null,
            "grid_area": null,
            "grid_auto_columns": null,
            "grid_auto_flow": null,
            "grid_auto_rows": null,
            "grid_column": null,
            "grid_gap": null,
            "grid_row": null,
            "grid_template_areas": null,
            "grid_template_columns": null,
            "grid_template_rows": null,
            "height": null,
            "justify_content": null,
            "justify_items": null,
            "left": null,
            "margin": null,
            "max_height": null,
            "max_width": null,
            "min_height": null,
            "min_width": null,
            "object_fit": null,
            "object_position": null,
            "order": null,
            "overflow": null,
            "overflow_x": null,
            "overflow_y": null,
            "padding": null,
            "right": null,
            "top": null,
            "visibility": null,
            "width": null
          }
        },
        "c84a2bc12b9343a8b26bb9664659f088": {
          "model_module": "@jupyter-widgets/base",
          "model_name": "LayoutModel",
          "model_module_version": "1.2.0",
          "state": {
            "_model_module": "@jupyter-widgets/base",
            "_model_module_version": "1.2.0",
            "_model_name": "LayoutModel",
            "_view_count": null,
            "_view_module": "@jupyter-widgets/base",
            "_view_module_version": "1.2.0",
            "_view_name": "LayoutView",
            "align_content": null,
            "align_items": null,
            "align_self": null,
            "border": null,
            "bottom": null,
            "display": null,
            "flex": null,
            "flex_flow": null,
            "grid_area": null,
            "grid_auto_columns": null,
            "grid_auto_flow": null,
            "grid_auto_rows": null,
            "grid_column": null,
            "grid_gap": null,
            "grid_row": null,
            "grid_template_areas": null,
            "grid_template_columns": null,
            "grid_template_rows": null,
            "height": null,
            "justify_content": null,
            "justify_items": null,
            "left": null,
            "margin": null,
            "max_height": null,
            "max_width": null,
            "min_height": null,
            "min_width": null,
            "object_fit": null,
            "object_position": null,
            "order": null,
            "overflow": null,
            "overflow_x": null,
            "overflow_y": null,
            "padding": null,
            "right": null,
            "top": null,
            "visibility": null,
            "width": null
          }
        },
        "a97d517648424d838b58f3f2bca87ef7": {
          "model_module": "@jupyter-widgets/controls",
          "model_name": "DescriptionStyleModel",
          "model_module_version": "1.5.0",
          "state": {
            "_model_module": "@jupyter-widgets/controls",
            "_model_module_version": "1.5.0",
            "_model_name": "DescriptionStyleModel",
            "_view_count": null,
            "_view_module": "@jupyter-widgets/base",
            "_view_module_version": "1.2.0",
            "_view_name": "StyleView",
            "description_width": ""
          }
        },
        "da3fe86d3d544abc9b9476738cdf6b7c": {
          "model_module": "@jupyter-widgets/base",
          "model_name": "LayoutModel",
          "model_module_version": "1.2.0",
          "state": {
            "_model_module": "@jupyter-widgets/base",
            "_model_module_version": "1.2.0",
            "_model_name": "LayoutModel",
            "_view_count": null,
            "_view_module": "@jupyter-widgets/base",
            "_view_module_version": "1.2.0",
            "_view_name": "LayoutView",
            "align_content": null,
            "align_items": null,
            "align_self": null,
            "border": null,
            "bottom": null,
            "display": null,
            "flex": null,
            "flex_flow": null,
            "grid_area": null,
            "grid_auto_columns": null,
            "grid_auto_flow": null,
            "grid_auto_rows": null,
            "grid_column": null,
            "grid_gap": null,
            "grid_row": null,
            "grid_template_areas": null,
            "grid_template_columns": null,
            "grid_template_rows": null,
            "height": null,
            "justify_content": null,
            "justify_items": null,
            "left": null,
            "margin": null,
            "max_height": null,
            "max_width": null,
            "min_height": null,
            "min_width": null,
            "object_fit": null,
            "object_position": null,
            "order": null,
            "overflow": null,
            "overflow_x": null,
            "overflow_y": null,
            "padding": null,
            "right": null,
            "top": null,
            "visibility": null,
            "width": null
          }
        },
        "0631173f8d0e4f399096aea03d71c7ef": {
          "model_module": "@jupyter-widgets/controls",
          "model_name": "ProgressStyleModel",
          "model_module_version": "1.5.0",
          "state": {
            "_model_module": "@jupyter-widgets/controls",
            "_model_module_version": "1.5.0",
            "_model_name": "ProgressStyleModel",
            "_view_count": null,
            "_view_module": "@jupyter-widgets/base",
            "_view_module_version": "1.2.0",
            "_view_name": "StyleView",
            "bar_color": null,
            "description_width": ""
          }
        },
        "1edc32ba31074f719a4a481a9b6516a9": {
          "model_module": "@jupyter-widgets/base",
          "model_name": "LayoutModel",
          "model_module_version": "1.2.0",
          "state": {
            "_model_module": "@jupyter-widgets/base",
            "_model_module_version": "1.2.0",
            "_model_name": "LayoutModel",
            "_view_count": null,
            "_view_module": "@jupyter-widgets/base",
            "_view_module_version": "1.2.0",
            "_view_name": "LayoutView",
            "align_content": null,
            "align_items": null,
            "align_self": null,
            "border": null,
            "bottom": null,
            "display": null,
            "flex": null,
            "flex_flow": null,
            "grid_area": null,
            "grid_auto_columns": null,
            "grid_auto_flow": null,
            "grid_auto_rows": null,
            "grid_column": null,
            "grid_gap": null,
            "grid_row": null,
            "grid_template_areas": null,
            "grid_template_columns": null,
            "grid_template_rows": null,
            "height": null,
            "justify_content": null,
            "justify_items": null,
            "left": null,
            "margin": null,
            "max_height": null,
            "max_width": null,
            "min_height": null,
            "min_width": null,
            "object_fit": null,
            "object_position": null,
            "order": null,
            "overflow": null,
            "overflow_x": null,
            "overflow_y": null,
            "padding": null,
            "right": null,
            "top": null,
            "visibility": null,
            "width": null
          }
        },
        "4ff48f59efe544d39086ac3ffba23abc": {
          "model_module": "@jupyter-widgets/controls",
          "model_name": "DescriptionStyleModel",
          "model_module_version": "1.5.0",
          "state": {
            "_model_module": "@jupyter-widgets/controls",
            "_model_module_version": "1.5.0",
            "_model_name": "DescriptionStyleModel",
            "_view_count": null,
            "_view_module": "@jupyter-widgets/base",
            "_view_module_version": "1.2.0",
            "_view_name": "StyleView",
            "description_width": ""
          }
        },
        "6736f0ac31664740bffd9576092f3437": {
          "model_module": "@jupyter-widgets/controls",
          "model_name": "HBoxModel",
          "model_module_version": "1.5.0",
          "state": {
            "_dom_classes": [],
            "_model_module": "@jupyter-widgets/controls",
            "_model_module_version": "1.5.0",
            "_model_name": "HBoxModel",
            "_view_count": null,
            "_view_module": "@jupyter-widgets/controls",
            "_view_module_version": "1.5.0",
            "_view_name": "HBoxView",
            "box_style": "",
            "children": [
              "IPY_MODEL_c415e25ae56f40939bf7fff5d3f603a7",
              "IPY_MODEL_ee4571e77ea24d90a86bcdcfba27f2cf",
              "IPY_MODEL_9ff8aae5e89244ca951dd43de16dae5d"
            ],
            "layout": "IPY_MODEL_f3484deca7af4207bcc977fa9a99d32a"
          }
        },
        "c415e25ae56f40939bf7fff5d3f603a7": {
          "model_module": "@jupyter-widgets/controls",
          "model_name": "HTMLModel",
          "model_module_version": "1.5.0",
          "state": {
            "_dom_classes": [],
            "_model_module": "@jupyter-widgets/controls",
            "_model_module_version": "1.5.0",
            "_model_name": "HTMLModel",
            "_view_count": null,
            "_view_module": "@jupyter-widgets/controls",
            "_view_module_version": "1.5.0",
            "_view_name": "HTMLView",
            "description": "",
            "description_tooltip": null,
            "layout": "IPY_MODEL_56beb779b71045deb3dad83310c8a996",
            "placeholder": "​",
            "style": "IPY_MODEL_67e5e34dd1224a9fb3a37369d4bbff6c",
            "value": "Downloading (…)okenizer_config.json: 100%"
          }
        },
        "ee4571e77ea24d90a86bcdcfba27f2cf": {
          "model_module": "@jupyter-widgets/controls",
          "model_name": "FloatProgressModel",
          "model_module_version": "1.5.0",
          "state": {
            "_dom_classes": [],
            "_model_module": "@jupyter-widgets/controls",
            "_model_module_version": "1.5.0",
            "_model_name": "FloatProgressModel",
            "_view_count": null,
            "_view_module": "@jupyter-widgets/controls",
            "_view_module_version": "1.5.0",
            "_view_name": "ProgressView",
            "bar_style": "success",
            "description": "",
            "description_tooltip": null,
            "layout": "IPY_MODEL_ae1469c00a3848da99a89133f19f8a18",
            "max": 174,
            "min": 0,
            "orientation": "horizontal",
            "style": "IPY_MODEL_eb89686ec3404915b2fa744cc2d6cfe1",
            "value": 174
          }
        },
        "9ff8aae5e89244ca951dd43de16dae5d": {
          "model_module": "@jupyter-widgets/controls",
          "model_name": "HTMLModel",
          "model_module_version": "1.5.0",
          "state": {
            "_dom_classes": [],
            "_model_module": "@jupyter-widgets/controls",
            "_model_module_version": "1.5.0",
            "_model_name": "HTMLModel",
            "_view_count": null,
            "_view_module": "@jupyter-widgets/controls",
            "_view_module_version": "1.5.0",
            "_view_name": "HTMLView",
            "description": "",
            "description_tooltip": null,
            "layout": "IPY_MODEL_c6e3731691db4d299f644e9cc50e92c2",
            "placeholder": "​",
            "style": "IPY_MODEL_f0f653d9a3614f83bc9c30b54e65f4f3",
            "value": " 174/174 [00:00&lt;00:00, 5.91kB/s]"
          }
        },
        "f3484deca7af4207bcc977fa9a99d32a": {
          "model_module": "@jupyter-widgets/base",
          "model_name": "LayoutModel",
          "model_module_version": "1.2.0",
          "state": {
            "_model_module": "@jupyter-widgets/base",
            "_model_module_version": "1.2.0",
            "_model_name": "LayoutModel",
            "_view_count": null,
            "_view_module": "@jupyter-widgets/base",
            "_view_module_version": "1.2.0",
            "_view_name": "LayoutView",
            "align_content": null,
            "align_items": null,
            "align_self": null,
            "border": null,
            "bottom": null,
            "display": null,
            "flex": null,
            "flex_flow": null,
            "grid_area": null,
            "grid_auto_columns": null,
            "grid_auto_flow": null,
            "grid_auto_rows": null,
            "grid_column": null,
            "grid_gap": null,
            "grid_row": null,
            "grid_template_areas": null,
            "grid_template_columns": null,
            "grid_template_rows": null,
            "height": null,
            "justify_content": null,
            "justify_items": null,
            "left": null,
            "margin": null,
            "max_height": null,
            "max_width": null,
            "min_height": null,
            "min_width": null,
            "object_fit": null,
            "object_position": null,
            "order": null,
            "overflow": null,
            "overflow_x": null,
            "overflow_y": null,
            "padding": null,
            "right": null,
            "top": null,
            "visibility": null,
            "width": null
          }
        },
        "56beb779b71045deb3dad83310c8a996": {
          "model_module": "@jupyter-widgets/base",
          "model_name": "LayoutModel",
          "model_module_version": "1.2.0",
          "state": {
            "_model_module": "@jupyter-widgets/base",
            "_model_module_version": "1.2.0",
            "_model_name": "LayoutModel",
            "_view_count": null,
            "_view_module": "@jupyter-widgets/base",
            "_view_module_version": "1.2.0",
            "_view_name": "LayoutView",
            "align_content": null,
            "align_items": null,
            "align_self": null,
            "border": null,
            "bottom": null,
            "display": null,
            "flex": null,
            "flex_flow": null,
            "grid_area": null,
            "grid_auto_columns": null,
            "grid_auto_flow": null,
            "grid_auto_rows": null,
            "grid_column": null,
            "grid_gap": null,
            "grid_row": null,
            "grid_template_areas": null,
            "grid_template_columns": null,
            "grid_template_rows": null,
            "height": null,
            "justify_content": null,
            "justify_items": null,
            "left": null,
            "margin": null,
            "max_height": null,
            "max_width": null,
            "min_height": null,
            "min_width": null,
            "object_fit": null,
            "object_position": null,
            "order": null,
            "overflow": null,
            "overflow_x": null,
            "overflow_y": null,
            "padding": null,
            "right": null,
            "top": null,
            "visibility": null,
            "width": null
          }
        },
        "67e5e34dd1224a9fb3a37369d4bbff6c": {
          "model_module": "@jupyter-widgets/controls",
          "model_name": "DescriptionStyleModel",
          "model_module_version": "1.5.0",
          "state": {
            "_model_module": "@jupyter-widgets/controls",
            "_model_module_version": "1.5.0",
            "_model_name": "DescriptionStyleModel",
            "_view_count": null,
            "_view_module": "@jupyter-widgets/base",
            "_view_module_version": "1.2.0",
            "_view_name": "StyleView",
            "description_width": ""
          }
        },
        "ae1469c00a3848da99a89133f19f8a18": {
          "model_module": "@jupyter-widgets/base",
          "model_name": "LayoutModel",
          "model_module_version": "1.2.0",
          "state": {
            "_model_module": "@jupyter-widgets/base",
            "_model_module_version": "1.2.0",
            "_model_name": "LayoutModel",
            "_view_count": null,
            "_view_module": "@jupyter-widgets/base",
            "_view_module_version": "1.2.0",
            "_view_name": "LayoutView",
            "align_content": null,
            "align_items": null,
            "align_self": null,
            "border": null,
            "bottom": null,
            "display": null,
            "flex": null,
            "flex_flow": null,
            "grid_area": null,
            "grid_auto_columns": null,
            "grid_auto_flow": null,
            "grid_auto_rows": null,
            "grid_column": null,
            "grid_gap": null,
            "grid_row": null,
            "grid_template_areas": null,
            "grid_template_columns": null,
            "grid_template_rows": null,
            "height": null,
            "justify_content": null,
            "justify_items": null,
            "left": null,
            "margin": null,
            "max_height": null,
            "max_width": null,
            "min_height": null,
            "min_width": null,
            "object_fit": null,
            "object_position": null,
            "order": null,
            "overflow": null,
            "overflow_x": null,
            "overflow_y": null,
            "padding": null,
            "right": null,
            "top": null,
            "visibility": null,
            "width": null
          }
        },
        "eb89686ec3404915b2fa744cc2d6cfe1": {
          "model_module": "@jupyter-widgets/controls",
          "model_name": "ProgressStyleModel",
          "model_module_version": "1.5.0",
          "state": {
            "_model_module": "@jupyter-widgets/controls",
            "_model_module_version": "1.5.0",
            "_model_name": "ProgressStyleModel",
            "_view_count": null,
            "_view_module": "@jupyter-widgets/base",
            "_view_module_version": "1.2.0",
            "_view_name": "StyleView",
            "bar_color": null,
            "description_width": ""
          }
        },
        "c6e3731691db4d299f644e9cc50e92c2": {
          "model_module": "@jupyter-widgets/base",
          "model_name": "LayoutModel",
          "model_module_version": "1.2.0",
          "state": {
            "_model_module": "@jupyter-widgets/base",
            "_model_module_version": "1.2.0",
            "_model_name": "LayoutModel",
            "_view_count": null,
            "_view_module": "@jupyter-widgets/base",
            "_view_module_version": "1.2.0",
            "_view_name": "LayoutView",
            "align_content": null,
            "align_items": null,
            "align_self": null,
            "border": null,
            "bottom": null,
            "display": null,
            "flex": null,
            "flex_flow": null,
            "grid_area": null,
            "grid_auto_columns": null,
            "grid_auto_flow": null,
            "grid_auto_rows": null,
            "grid_column": null,
            "grid_gap": null,
            "grid_row": null,
            "grid_template_areas": null,
            "grid_template_columns": null,
            "grid_template_rows": null,
            "height": null,
            "justify_content": null,
            "justify_items": null,
            "left": null,
            "margin": null,
            "max_height": null,
            "max_width": null,
            "min_height": null,
            "min_width": null,
            "object_fit": null,
            "object_position": null,
            "order": null,
            "overflow": null,
            "overflow_x": null,
            "overflow_y": null,
            "padding": null,
            "right": null,
            "top": null,
            "visibility": null,
            "width": null
          }
        },
        "f0f653d9a3614f83bc9c30b54e65f4f3": {
          "model_module": "@jupyter-widgets/controls",
          "model_name": "DescriptionStyleModel",
          "model_module_version": "1.5.0",
          "state": {
            "_model_module": "@jupyter-widgets/controls",
            "_model_module_version": "1.5.0",
            "_model_name": "DescriptionStyleModel",
            "_view_count": null,
            "_view_module": "@jupyter-widgets/base",
            "_view_module_version": "1.2.0",
            "_view_name": "StyleView",
            "description_width": ""
          }
        },
        "f51d744a03cd4284b62b143f5061f72e": {
          "model_module": "@jupyter-widgets/controls",
          "model_name": "HBoxModel",
          "model_module_version": "1.5.0",
          "state": {
            "_dom_classes": [],
            "_model_module": "@jupyter-widgets/controls",
            "_model_module_version": "1.5.0",
            "_model_name": "HBoxModel",
            "_view_count": null,
            "_view_module": "@jupyter-widgets/controls",
            "_view_module_version": "1.5.0",
            "_view_name": "HBoxView",
            "box_style": "",
            "children": [
              "IPY_MODEL_e52022c7d5174fb6a8eef834ccea6780",
              "IPY_MODEL_fa8356f8942945278a24477ba98199e4",
              "IPY_MODEL_9319b6cd8367497587b2e3744a349fc1"
            ],
            "layout": "IPY_MODEL_1b2b0e7a9d3a455a84eff421f7639715"
          }
        },
        "e52022c7d5174fb6a8eef834ccea6780": {
          "model_module": "@jupyter-widgets/controls",
          "model_name": "HTMLModel",
          "model_module_version": "1.5.0",
          "state": {
            "_dom_classes": [],
            "_model_module": "@jupyter-widgets/controls",
            "_model_module_version": "1.5.0",
            "_model_name": "HTMLModel",
            "_view_count": null,
            "_view_module": "@jupyter-widgets/controls",
            "_view_module_version": "1.5.0",
            "_view_name": "HTMLView",
            "description": "",
            "description_tooltip": null,
            "layout": "IPY_MODEL_2ab012fe67f146b58d46c9b31c78c827",
            "placeholder": "​",
            "style": "IPY_MODEL_26011caf48454b91a30a93d4865ff881",
            "value": "Downloading (…)lve/main/config.json: 100%"
          }
        },
        "fa8356f8942945278a24477ba98199e4": {
          "model_module": "@jupyter-widgets/controls",
          "model_name": "FloatProgressModel",
          "model_module_version": "1.5.0",
          "state": {
            "_dom_classes": [],
            "_model_module": "@jupyter-widgets/controls",
            "_model_module_version": "1.5.0",
            "_model_name": "FloatProgressModel",
            "_view_count": null,
            "_view_module": "@jupyter-widgets/controls",
            "_view_module_version": "1.5.0",
            "_view_name": "ProgressView",
            "bar_style": "success",
            "description": "",
            "description_tooltip": null,
            "layout": "IPY_MODEL_e7f9eeea5ae049429d71d0c5f317d608",
            "max": 811,
            "min": 0,
            "orientation": "horizontal",
            "style": "IPY_MODEL_e57ce373e94c4cbe80ddf4c928b7c6a7",
            "value": 811
          }
        },
        "9319b6cd8367497587b2e3744a349fc1": {
          "model_module": "@jupyter-widgets/controls",
          "model_name": "HTMLModel",
          "model_module_version": "1.5.0",
          "state": {
            "_dom_classes": [],
            "_model_module": "@jupyter-widgets/controls",
            "_model_module_version": "1.5.0",
            "_model_name": "HTMLModel",
            "_view_count": null,
            "_view_module": "@jupyter-widgets/controls",
            "_view_module_version": "1.5.0",
            "_view_name": "HTMLView",
            "description": "",
            "description_tooltip": null,
            "layout": "IPY_MODEL_b8e74092bc414145b1007de96fdd0c5c",
            "placeholder": "​",
            "style": "IPY_MODEL_b3f1b571faf14a8e886dc22c56cd9d04",
            "value": " 811/811 [00:00&lt;00:00, 45.3kB/s]"
          }
        },
        "1b2b0e7a9d3a455a84eff421f7639715": {
          "model_module": "@jupyter-widgets/base",
          "model_name": "LayoutModel",
          "model_module_version": "1.2.0",
          "state": {
            "_model_module": "@jupyter-widgets/base",
            "_model_module_version": "1.2.0",
            "_model_name": "LayoutModel",
            "_view_count": null,
            "_view_module": "@jupyter-widgets/base",
            "_view_module_version": "1.2.0",
            "_view_name": "LayoutView",
            "align_content": null,
            "align_items": null,
            "align_self": null,
            "border": null,
            "bottom": null,
            "display": null,
            "flex": null,
            "flex_flow": null,
            "grid_area": null,
            "grid_auto_columns": null,
            "grid_auto_flow": null,
            "grid_auto_rows": null,
            "grid_column": null,
            "grid_gap": null,
            "grid_row": null,
            "grid_template_areas": null,
            "grid_template_columns": null,
            "grid_template_rows": null,
            "height": null,
            "justify_content": null,
            "justify_items": null,
            "left": null,
            "margin": null,
            "max_height": null,
            "max_width": null,
            "min_height": null,
            "min_width": null,
            "object_fit": null,
            "object_position": null,
            "order": null,
            "overflow": null,
            "overflow_x": null,
            "overflow_y": null,
            "padding": null,
            "right": null,
            "top": null,
            "visibility": null,
            "width": null
          }
        },
        "2ab012fe67f146b58d46c9b31c78c827": {
          "model_module": "@jupyter-widgets/base",
          "model_name": "LayoutModel",
          "model_module_version": "1.2.0",
          "state": {
            "_model_module": "@jupyter-widgets/base",
            "_model_module_version": "1.2.0",
            "_model_name": "LayoutModel",
            "_view_count": null,
            "_view_module": "@jupyter-widgets/base",
            "_view_module_version": "1.2.0",
            "_view_name": "LayoutView",
            "align_content": null,
            "align_items": null,
            "align_self": null,
            "border": null,
            "bottom": null,
            "display": null,
            "flex": null,
            "flex_flow": null,
            "grid_area": null,
            "grid_auto_columns": null,
            "grid_auto_flow": null,
            "grid_auto_rows": null,
            "grid_column": null,
            "grid_gap": null,
            "grid_row": null,
            "grid_template_areas": null,
            "grid_template_columns": null,
            "grid_template_rows": null,
            "height": null,
            "justify_content": null,
            "justify_items": null,
            "left": null,
            "margin": null,
            "max_height": null,
            "max_width": null,
            "min_height": null,
            "min_width": null,
            "object_fit": null,
            "object_position": null,
            "order": null,
            "overflow": null,
            "overflow_x": null,
            "overflow_y": null,
            "padding": null,
            "right": null,
            "top": null,
            "visibility": null,
            "width": null
          }
        },
        "26011caf48454b91a30a93d4865ff881": {
          "model_module": "@jupyter-widgets/controls",
          "model_name": "DescriptionStyleModel",
          "model_module_version": "1.5.0",
          "state": {
            "_model_module": "@jupyter-widgets/controls",
            "_model_module_version": "1.5.0",
            "_model_name": "DescriptionStyleModel",
            "_view_count": null,
            "_view_module": "@jupyter-widgets/base",
            "_view_module_version": "1.2.0",
            "_view_name": "StyleView",
            "description_width": ""
          }
        },
        "e7f9eeea5ae049429d71d0c5f317d608": {
          "model_module": "@jupyter-widgets/base",
          "model_name": "LayoutModel",
          "model_module_version": "1.2.0",
          "state": {
            "_model_module": "@jupyter-widgets/base",
            "_model_module_version": "1.2.0",
            "_model_name": "LayoutModel",
            "_view_count": null,
            "_view_module": "@jupyter-widgets/base",
            "_view_module_version": "1.2.0",
            "_view_name": "LayoutView",
            "align_content": null,
            "align_items": null,
            "align_self": null,
            "border": null,
            "bottom": null,
            "display": null,
            "flex": null,
            "flex_flow": null,
            "grid_area": null,
            "grid_auto_columns": null,
            "grid_auto_flow": null,
            "grid_auto_rows": null,
            "grid_column": null,
            "grid_gap": null,
            "grid_row": null,
            "grid_template_areas": null,
            "grid_template_columns": null,
            "grid_template_rows": null,
            "height": null,
            "justify_content": null,
            "justify_items": null,
            "left": null,
            "margin": null,
            "max_height": null,
            "max_width": null,
            "min_height": null,
            "min_width": null,
            "object_fit": null,
            "object_position": null,
            "order": null,
            "overflow": null,
            "overflow_x": null,
            "overflow_y": null,
            "padding": null,
            "right": null,
            "top": null,
            "visibility": null,
            "width": null
          }
        },
        "e57ce373e94c4cbe80ddf4c928b7c6a7": {
          "model_module": "@jupyter-widgets/controls",
          "model_name": "ProgressStyleModel",
          "model_module_version": "1.5.0",
          "state": {
            "_model_module": "@jupyter-widgets/controls",
            "_model_module_version": "1.5.0",
            "_model_name": "ProgressStyleModel",
            "_view_count": null,
            "_view_module": "@jupyter-widgets/base",
            "_view_module_version": "1.2.0",
            "_view_name": "StyleView",
            "bar_color": null,
            "description_width": ""
          }
        },
        "b8e74092bc414145b1007de96fdd0c5c": {
          "model_module": "@jupyter-widgets/base",
          "model_name": "LayoutModel",
          "model_module_version": "1.2.0",
          "state": {
            "_model_module": "@jupyter-widgets/base",
            "_model_module_version": "1.2.0",
            "_model_name": "LayoutModel",
            "_view_count": null,
            "_view_module": "@jupyter-widgets/base",
            "_view_module_version": "1.2.0",
            "_view_name": "LayoutView",
            "align_content": null,
            "align_items": null,
            "align_self": null,
            "border": null,
            "bottom": null,
            "display": null,
            "flex": null,
            "flex_flow": null,
            "grid_area": null,
            "grid_auto_columns": null,
            "grid_auto_flow": null,
            "grid_auto_rows": null,
            "grid_column": null,
            "grid_gap": null,
            "grid_row": null,
            "grid_template_areas": null,
            "grid_template_columns": null,
            "grid_template_rows": null,
            "height": null,
            "justify_content": null,
            "justify_items": null,
            "left": null,
            "margin": null,
            "max_height": null,
            "max_width": null,
            "min_height": null,
            "min_width": null,
            "object_fit": null,
            "object_position": null,
            "order": null,
            "overflow": null,
            "overflow_x": null,
            "overflow_y": null,
            "padding": null,
            "right": null,
            "top": null,
            "visibility": null,
            "width": null
          }
        },
        "b3f1b571faf14a8e886dc22c56cd9d04": {
          "model_module": "@jupyter-widgets/controls",
          "model_name": "DescriptionStyleModel",
          "model_module_version": "1.5.0",
          "state": {
            "_model_module": "@jupyter-widgets/controls",
            "_model_module_version": "1.5.0",
            "_model_name": "DescriptionStyleModel",
            "_view_count": null,
            "_view_module": "@jupyter-widgets/base",
            "_view_module_version": "1.2.0",
            "_view_name": "StyleView",
            "description_width": ""
          }
        },
        "ac9b76ccef064e5787e29c62e3e479fb": {
          "model_module": "@jupyter-widgets/controls",
          "model_name": "HBoxModel",
          "model_module_version": "1.5.0",
          "state": {
            "_dom_classes": [],
            "_model_module": "@jupyter-widgets/controls",
            "_model_module_version": "1.5.0",
            "_model_name": "HBoxModel",
            "_view_count": null,
            "_view_module": "@jupyter-widgets/controls",
            "_view_module_version": "1.5.0",
            "_view_name": "HBoxView",
            "box_style": "",
            "children": [
              "IPY_MODEL_34a9dbc900aa447b83dc2080145339f0",
              "IPY_MODEL_3def56a4fc6e4a1ebe49014925d97e4d",
              "IPY_MODEL_48b7406fa4ab4a95b9ff941c5d3d8573"
            ],
            "layout": "IPY_MODEL_13ea128137ba4fe3ba090431ec4059d7"
          }
        },
        "34a9dbc900aa447b83dc2080145339f0": {
          "model_module": "@jupyter-widgets/controls",
          "model_name": "HTMLModel",
          "model_module_version": "1.5.0",
          "state": {
            "_dom_classes": [],
            "_model_module": "@jupyter-widgets/controls",
            "_model_module_version": "1.5.0",
            "_model_name": "HTMLModel",
            "_view_count": null,
            "_view_module": "@jupyter-widgets/controls",
            "_view_module_version": "1.5.0",
            "_view_name": "HTMLView",
            "description": "",
            "description_tooltip": null,
            "layout": "IPY_MODEL_bdb01734fbd74ce8a2590d598d0ca937",
            "placeholder": "​",
            "style": "IPY_MODEL_bbc15407df2c47889e0e5a685aa9e69b",
            "value": "Downloading pytorch_model.bin: 100%"
          }
        },
        "3def56a4fc6e4a1ebe49014925d97e4d": {
          "model_module": "@jupyter-widgets/controls",
          "model_name": "FloatProgressModel",
          "model_module_version": "1.5.0",
          "state": {
            "_dom_classes": [],
            "_model_module": "@jupyter-widgets/controls",
            "_model_module_version": "1.5.0",
            "_model_name": "FloatProgressModel",
            "_view_count": null,
            "_view_module": "@jupyter-widgets/controls",
            "_view_module_version": "1.5.0",
            "_view_name": "ProgressView",
            "bar_style": "success",
            "description": "",
            "description_tooltip": null,
            "layout": "IPY_MODEL_9495174bc44843e3934b6da1013466ea",
            "max": 438033929,
            "min": 0,
            "orientation": "horizontal",
            "style": "IPY_MODEL_61c815e8afbc45219e20d589507f00cf",
            "value": 438033929
          }
        },
        "48b7406fa4ab4a95b9ff941c5d3d8573": {
          "model_module": "@jupyter-widgets/controls",
          "model_name": "HTMLModel",
          "model_module_version": "1.5.0",
          "state": {
            "_dom_classes": [],
            "_model_module": "@jupyter-widgets/controls",
            "_model_module_version": "1.5.0",
            "_model_name": "HTMLModel",
            "_view_count": null,
            "_view_module": "@jupyter-widgets/controls",
            "_view_module_version": "1.5.0",
            "_view_name": "HTMLView",
            "description": "",
            "description_tooltip": null,
            "layout": "IPY_MODEL_c51a4d7746394d00b9beaea7b32d720e",
            "placeholder": "​",
            "style": "IPY_MODEL_28b5f9c3e8714edeb37dd9bf46676e8d",
            "value": " 438M/438M [00:04&lt;00:00, 90.9MB/s]"
          }
        },
        "13ea128137ba4fe3ba090431ec4059d7": {
          "model_module": "@jupyter-widgets/base",
          "model_name": "LayoutModel",
          "model_module_version": "1.2.0",
          "state": {
            "_model_module": "@jupyter-widgets/base",
            "_model_module_version": "1.2.0",
            "_model_name": "LayoutModel",
            "_view_count": null,
            "_view_module": "@jupyter-widgets/base",
            "_view_module_version": "1.2.0",
            "_view_name": "LayoutView",
            "align_content": null,
            "align_items": null,
            "align_self": null,
            "border": null,
            "bottom": null,
            "display": null,
            "flex": null,
            "flex_flow": null,
            "grid_area": null,
            "grid_auto_columns": null,
            "grid_auto_flow": null,
            "grid_auto_rows": null,
            "grid_column": null,
            "grid_gap": null,
            "grid_row": null,
            "grid_template_areas": null,
            "grid_template_columns": null,
            "grid_template_rows": null,
            "height": null,
            "justify_content": null,
            "justify_items": null,
            "left": null,
            "margin": null,
            "max_height": null,
            "max_width": null,
            "min_height": null,
            "min_width": null,
            "object_fit": null,
            "object_position": null,
            "order": null,
            "overflow": null,
            "overflow_x": null,
            "overflow_y": null,
            "padding": null,
            "right": null,
            "top": null,
            "visibility": null,
            "width": null
          }
        },
        "bdb01734fbd74ce8a2590d598d0ca937": {
          "model_module": "@jupyter-widgets/base",
          "model_name": "LayoutModel",
          "model_module_version": "1.2.0",
          "state": {
            "_model_module": "@jupyter-widgets/base",
            "_model_module_version": "1.2.0",
            "_model_name": "LayoutModel",
            "_view_count": null,
            "_view_module": "@jupyter-widgets/base",
            "_view_module_version": "1.2.0",
            "_view_name": "LayoutView",
            "align_content": null,
            "align_items": null,
            "align_self": null,
            "border": null,
            "bottom": null,
            "display": null,
            "flex": null,
            "flex_flow": null,
            "grid_area": null,
            "grid_auto_columns": null,
            "grid_auto_flow": null,
            "grid_auto_rows": null,
            "grid_column": null,
            "grid_gap": null,
            "grid_row": null,
            "grid_template_areas": null,
            "grid_template_columns": null,
            "grid_template_rows": null,
            "height": null,
            "justify_content": null,
            "justify_items": null,
            "left": null,
            "margin": null,
            "max_height": null,
            "max_width": null,
            "min_height": null,
            "min_width": null,
            "object_fit": null,
            "object_position": null,
            "order": null,
            "overflow": null,
            "overflow_x": null,
            "overflow_y": null,
            "padding": null,
            "right": null,
            "top": null,
            "visibility": null,
            "width": null
          }
        },
        "bbc15407df2c47889e0e5a685aa9e69b": {
          "model_module": "@jupyter-widgets/controls",
          "model_name": "DescriptionStyleModel",
          "model_module_version": "1.5.0",
          "state": {
            "_model_module": "@jupyter-widgets/controls",
            "_model_module_version": "1.5.0",
            "_model_name": "DescriptionStyleModel",
            "_view_count": null,
            "_view_module": "@jupyter-widgets/base",
            "_view_module_version": "1.2.0",
            "_view_name": "StyleView",
            "description_width": ""
          }
        },
        "9495174bc44843e3934b6da1013466ea": {
          "model_module": "@jupyter-widgets/base",
          "model_name": "LayoutModel",
          "model_module_version": "1.2.0",
          "state": {
            "_model_module": "@jupyter-widgets/base",
            "_model_module_version": "1.2.0",
            "_model_name": "LayoutModel",
            "_view_count": null,
            "_view_module": "@jupyter-widgets/base",
            "_view_module_version": "1.2.0",
            "_view_name": "LayoutView",
            "align_content": null,
            "align_items": null,
            "align_self": null,
            "border": null,
            "bottom": null,
            "display": null,
            "flex": null,
            "flex_flow": null,
            "grid_area": null,
            "grid_auto_columns": null,
            "grid_auto_flow": null,
            "grid_auto_rows": null,
            "grid_column": null,
            "grid_gap": null,
            "grid_row": null,
            "grid_template_areas": null,
            "grid_template_columns": null,
            "grid_template_rows": null,
            "height": null,
            "justify_content": null,
            "justify_items": null,
            "left": null,
            "margin": null,
            "max_height": null,
            "max_width": null,
            "min_height": null,
            "min_width": null,
            "object_fit": null,
            "object_position": null,
            "order": null,
            "overflow": null,
            "overflow_x": null,
            "overflow_y": null,
            "padding": null,
            "right": null,
            "top": null,
            "visibility": null,
            "width": null
          }
        },
        "61c815e8afbc45219e20d589507f00cf": {
          "model_module": "@jupyter-widgets/controls",
          "model_name": "ProgressStyleModel",
          "model_module_version": "1.5.0",
          "state": {
            "_model_module": "@jupyter-widgets/controls",
            "_model_module_version": "1.5.0",
            "_model_name": "ProgressStyleModel",
            "_view_count": null,
            "_view_module": "@jupyter-widgets/base",
            "_view_module_version": "1.2.0",
            "_view_name": "StyleView",
            "bar_color": null,
            "description_width": ""
          }
        },
        "c51a4d7746394d00b9beaea7b32d720e": {
          "model_module": "@jupyter-widgets/base",
          "model_name": "LayoutModel",
          "model_module_version": "1.2.0",
          "state": {
            "_model_module": "@jupyter-widgets/base",
            "_model_module_version": "1.2.0",
            "_model_name": "LayoutModel",
            "_view_count": null,
            "_view_module": "@jupyter-widgets/base",
            "_view_module_version": "1.2.0",
            "_view_name": "LayoutView",
            "align_content": null,
            "align_items": null,
            "align_self": null,
            "border": null,
            "bottom": null,
            "display": null,
            "flex": null,
            "flex_flow": null,
            "grid_area": null,
            "grid_auto_columns": null,
            "grid_auto_flow": null,
            "grid_auto_rows": null,
            "grid_column": null,
            "grid_gap": null,
            "grid_row": null,
            "grid_template_areas": null,
            "grid_template_columns": null,
            "grid_template_rows": null,
            "height": null,
            "justify_content": null,
            "justify_items": null,
            "left": null,
            "margin": null,
            "max_height": null,
            "max_width": null,
            "min_height": null,
            "min_width": null,
            "object_fit": null,
            "object_position": null,
            "order": null,
            "overflow": null,
            "overflow_x": null,
            "overflow_y": null,
            "padding": null,
            "right": null,
            "top": null,
            "visibility": null,
            "width": null
          }
        },
        "28b5f9c3e8714edeb37dd9bf46676e8d": {
          "model_module": "@jupyter-widgets/controls",
          "model_name": "DescriptionStyleModel",
          "model_module_version": "1.5.0",
          "state": {
            "_model_module": "@jupyter-widgets/controls",
            "_model_module_version": "1.5.0",
            "_model_name": "DescriptionStyleModel",
            "_view_count": null,
            "_view_module": "@jupyter-widgets/base",
            "_view_module_version": "1.2.0",
            "_view_name": "StyleView",
            "description_width": ""
          }
        },
        "2c553ae68ae547abaa37eca5cc356667": {
          "model_module": "@jupyter-widgets/controls",
          "model_name": "HBoxModel",
          "model_module_version": "1.5.0",
          "state": {
            "_dom_classes": [],
            "_model_module": "@jupyter-widgets/controls",
            "_model_module_version": "1.5.0",
            "_model_name": "HBoxModel",
            "_view_count": null,
            "_view_module": "@jupyter-widgets/controls",
            "_view_module_version": "1.5.0",
            "_view_name": "HBoxView",
            "box_style": "",
            "children": [
              "IPY_MODEL_7921d222ed954afd89ae357d8920418e",
              "IPY_MODEL_c5d3a278fbfd4870a32209ca9856e6dc",
              "IPY_MODEL_b865ca4835ca42948632a0b47a07e5a1"
            ],
            "layout": "IPY_MODEL_10fd019398a34c4f9506816b0eb0f27a"
          }
        },
        "7921d222ed954afd89ae357d8920418e": {
          "model_module": "@jupyter-widgets/controls",
          "model_name": "HTMLModel",
          "model_module_version": "1.5.0",
          "state": {
            "_dom_classes": [],
            "_model_module": "@jupyter-widgets/controls",
            "_model_module_version": "1.5.0",
            "_model_name": "HTMLModel",
            "_view_count": null,
            "_view_module": "@jupyter-widgets/controls",
            "_view_module_version": "1.5.0",
            "_view_name": "HTMLView",
            "description": "",
            "description_tooltip": null,
            "layout": "IPY_MODEL_5e1fe286b32c4d57a44c60cb2f2b4491",
            "placeholder": "​",
            "style": "IPY_MODEL_58b06f43fd114f6fbd6c76f93549212f",
            "value": "100%"
          }
        },
        "c5d3a278fbfd4870a32209ca9856e6dc": {
          "model_module": "@jupyter-widgets/controls",
          "model_name": "FloatProgressModel",
          "model_module_version": "1.5.0",
          "state": {
            "_dom_classes": [],
            "_model_module": "@jupyter-widgets/controls",
            "_model_module_version": "1.5.0",
            "_model_name": "FloatProgressModel",
            "_view_count": null,
            "_view_module": "@jupyter-widgets/controls",
            "_view_module_version": "1.5.0",
            "_view_name": "ProgressView",
            "bar_style": "success",
            "description": "",
            "description_tooltip": null,
            "layout": "IPY_MODEL_ba91297fb135466badaf449ec53703c2",
            "max": 313,
            "min": 0,
            "orientation": "horizontal",
            "style": "IPY_MODEL_1773e7e476aa43889f10c9cd0420e6b9",
            "value": 313
          }
        },
        "b865ca4835ca42948632a0b47a07e5a1": {
          "model_module": "@jupyter-widgets/controls",
          "model_name": "HTMLModel",
          "model_module_version": "1.5.0",
          "state": {
            "_dom_classes": [],
            "_model_module": "@jupyter-widgets/controls",
            "_model_module_version": "1.5.0",
            "_model_name": "HTMLModel",
            "_view_count": null,
            "_view_module": "@jupyter-widgets/controls",
            "_view_module_version": "1.5.0",
            "_view_name": "HTMLView",
            "description": "",
            "description_tooltip": null,
            "layout": "IPY_MODEL_e6972e53ad8940a5b00b410f0aaf7171",
            "placeholder": "​",
            "style": "IPY_MODEL_5c2b4fe789aa424e99fcd81ec10db79e",
            "value": " 313/313 [02:33&lt;00:00,  2.34it/s]"
          }
        },
        "10fd019398a34c4f9506816b0eb0f27a": {
          "model_module": "@jupyter-widgets/base",
          "model_name": "LayoutModel",
          "model_module_version": "1.2.0",
          "state": {
            "_model_module": "@jupyter-widgets/base",
            "_model_module_version": "1.2.0",
            "_model_name": "LayoutModel",
            "_view_count": null,
            "_view_module": "@jupyter-widgets/base",
            "_view_module_version": "1.2.0",
            "_view_name": "LayoutView",
            "align_content": null,
            "align_items": null,
            "align_self": null,
            "border": null,
            "bottom": null,
            "display": null,
            "flex": null,
            "flex_flow": null,
            "grid_area": null,
            "grid_auto_columns": null,
            "grid_auto_flow": null,
            "grid_auto_rows": null,
            "grid_column": null,
            "grid_gap": null,
            "grid_row": null,
            "grid_template_areas": null,
            "grid_template_columns": null,
            "grid_template_rows": null,
            "height": null,
            "justify_content": null,
            "justify_items": null,
            "left": null,
            "margin": null,
            "max_height": null,
            "max_width": null,
            "min_height": null,
            "min_width": null,
            "object_fit": null,
            "object_position": null,
            "order": null,
            "overflow": null,
            "overflow_x": null,
            "overflow_y": null,
            "padding": null,
            "right": null,
            "top": null,
            "visibility": null,
            "width": null
          }
        },
        "5e1fe286b32c4d57a44c60cb2f2b4491": {
          "model_module": "@jupyter-widgets/base",
          "model_name": "LayoutModel",
          "model_module_version": "1.2.0",
          "state": {
            "_model_module": "@jupyter-widgets/base",
            "_model_module_version": "1.2.0",
            "_model_name": "LayoutModel",
            "_view_count": null,
            "_view_module": "@jupyter-widgets/base",
            "_view_module_version": "1.2.0",
            "_view_name": "LayoutView",
            "align_content": null,
            "align_items": null,
            "align_self": null,
            "border": null,
            "bottom": null,
            "display": null,
            "flex": null,
            "flex_flow": null,
            "grid_area": null,
            "grid_auto_columns": null,
            "grid_auto_flow": null,
            "grid_auto_rows": null,
            "grid_column": null,
            "grid_gap": null,
            "grid_row": null,
            "grid_template_areas": null,
            "grid_template_columns": null,
            "grid_template_rows": null,
            "height": null,
            "justify_content": null,
            "justify_items": null,
            "left": null,
            "margin": null,
            "max_height": null,
            "max_width": null,
            "min_height": null,
            "min_width": null,
            "object_fit": null,
            "object_position": null,
            "order": null,
            "overflow": null,
            "overflow_x": null,
            "overflow_y": null,
            "padding": null,
            "right": null,
            "top": null,
            "visibility": null,
            "width": null
          }
        },
        "58b06f43fd114f6fbd6c76f93549212f": {
          "model_module": "@jupyter-widgets/controls",
          "model_name": "DescriptionStyleModel",
          "model_module_version": "1.5.0",
          "state": {
            "_model_module": "@jupyter-widgets/controls",
            "_model_module_version": "1.5.0",
            "_model_name": "DescriptionStyleModel",
            "_view_count": null,
            "_view_module": "@jupyter-widgets/base",
            "_view_module_version": "1.2.0",
            "_view_name": "StyleView",
            "description_width": ""
          }
        },
        "ba91297fb135466badaf449ec53703c2": {
          "model_module": "@jupyter-widgets/base",
          "model_name": "LayoutModel",
          "model_module_version": "1.2.0",
          "state": {
            "_model_module": "@jupyter-widgets/base",
            "_model_module_version": "1.2.0",
            "_model_name": "LayoutModel",
            "_view_count": null,
            "_view_module": "@jupyter-widgets/base",
            "_view_module_version": "1.2.0",
            "_view_name": "LayoutView",
            "align_content": null,
            "align_items": null,
            "align_self": null,
            "border": null,
            "bottom": null,
            "display": null,
            "flex": null,
            "flex_flow": null,
            "grid_area": null,
            "grid_auto_columns": null,
            "grid_auto_flow": null,
            "grid_auto_rows": null,
            "grid_column": null,
            "grid_gap": null,
            "grid_row": null,
            "grid_template_areas": null,
            "grid_template_columns": null,
            "grid_template_rows": null,
            "height": null,
            "justify_content": null,
            "justify_items": null,
            "left": null,
            "margin": null,
            "max_height": null,
            "max_width": null,
            "min_height": null,
            "min_width": null,
            "object_fit": null,
            "object_position": null,
            "order": null,
            "overflow": null,
            "overflow_x": null,
            "overflow_y": null,
            "padding": null,
            "right": null,
            "top": null,
            "visibility": null,
            "width": null
          }
        },
        "1773e7e476aa43889f10c9cd0420e6b9": {
          "model_module": "@jupyter-widgets/controls",
          "model_name": "ProgressStyleModel",
          "model_module_version": "1.5.0",
          "state": {
            "_model_module": "@jupyter-widgets/controls",
            "_model_module_version": "1.5.0",
            "_model_name": "ProgressStyleModel",
            "_view_count": null,
            "_view_module": "@jupyter-widgets/base",
            "_view_module_version": "1.2.0",
            "_view_name": "StyleView",
            "bar_color": null,
            "description_width": ""
          }
        },
        "e6972e53ad8940a5b00b410f0aaf7171": {
          "model_module": "@jupyter-widgets/base",
          "model_name": "LayoutModel",
          "model_module_version": "1.2.0",
          "state": {
            "_model_module": "@jupyter-widgets/base",
            "_model_module_version": "1.2.0",
            "_model_name": "LayoutModel",
            "_view_count": null,
            "_view_module": "@jupyter-widgets/base",
            "_view_module_version": "1.2.0",
            "_view_name": "LayoutView",
            "align_content": null,
            "align_items": null,
            "align_self": null,
            "border": null,
            "bottom": null,
            "display": null,
            "flex": null,
            "flex_flow": null,
            "grid_area": null,
            "grid_auto_columns": null,
            "grid_auto_flow": null,
            "grid_auto_rows": null,
            "grid_column": null,
            "grid_gap": null,
            "grid_row": null,
            "grid_template_areas": null,
            "grid_template_columns": null,
            "grid_template_rows": null,
            "height": null,
            "justify_content": null,
            "justify_items": null,
            "left": null,
            "margin": null,
            "max_height": null,
            "max_width": null,
            "min_height": null,
            "min_width": null,
            "object_fit": null,
            "object_position": null,
            "order": null,
            "overflow": null,
            "overflow_x": null,
            "overflow_y": null,
            "padding": null,
            "right": null,
            "top": null,
            "visibility": null,
            "width": null
          }
        },
        "5c2b4fe789aa424e99fcd81ec10db79e": {
          "model_module": "@jupyter-widgets/controls",
          "model_name": "DescriptionStyleModel",
          "model_module_version": "1.5.0",
          "state": {
            "_model_module": "@jupyter-widgets/controls",
            "_model_module_version": "1.5.0",
            "_model_name": "DescriptionStyleModel",
            "_view_count": null,
            "_view_module": "@jupyter-widgets/base",
            "_view_module_version": "1.2.0",
            "_view_name": "StyleView",
            "description_width": ""
          }
        }
      }
    }
  },
  "nbformat": 4,
  "nbformat_minor": 0
}