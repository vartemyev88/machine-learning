{
  "cells": [
    {
      "cell_type": "markdown",
      "source": [
        "# Project description\n",
        "\n",
        "**Gold recovery**\n",
        "\n",
        "An industrial company specializing in developing solutions for the efficient operation of enterprises is currently constructing a machine learning model. The purpose of this model is to accurately predict the gold recovery rate from gold-bearing ore by utilizing data on various mining and purification parameters. This predictive model will enable the optimization of production processes to avoid launching the plant under unprofitable conditions."
      ],
      "metadata": {
        "id": "q6djFD1_EMOJ"
      }
    },
    {
      "cell_type": "markdown",
      "metadata": {
        "toc": true,
        "id": "Z_N1Z3BDDRIe"
      },
      "source": [
        "# Table of contents\n",
        "\n",
        "---\n",
        "\n",
        "1. [Introduction to study](#introduction-to-study)\n",
        "    * [Technological process](#technological-process)\n",
        "    * [Process description](#process-description)\n",
        "    * [Stage parameters](#stage-parameters)\n",
        "    * [Efficiency calculation](#efficiency-calculation)\n",
        "    * [Quality metric](#quality-metric)\n",
        "    * [Data description](#data-description)\n",
        "2. [Data](#data)\n",
        "    * [Enrichment efficiency](#enrichment-efficiency)\n",
        "    * [Features analysis](#features-analysis)\n",
        "    * [Data preprocessing](#data-preprocessing)\n",
        "    * [Conclusion](#data-conclusion)\n",
        "3. [Data analysis](#ata-analysis)\n",
        "    * [Changes in metal concentrations](#changes-in-metal-concentrations)\n",
        "    * [Particle size distribution of raw materials](#particle-size-distribution-of-raw-materials)\n",
        "    * [Study of total concentration](#study-of-total-concentration)\n",
        "    * [Conclusion](#data-analysis-conclusion)\n",
        "4. [Model](#model)\n",
        "    * [sMAPE calculation](#smape-calculation)\n",
        "    * [Datasets preparation](#datasets-preparation)\n",
        "    * [Hyperparameter tuning](#hyperparameter-tuning)\n",
        "    * [Models training](#models-training)\n",
        "    * [sMAPE results](#smape-results)\n",
        "    * [Conclusion](#model-conclusion)\n",
        "5. [Best model test](#best-model-test)\n",
        "6. [Conclusion](#conclusion)\n",
        "---"
      ]
    },
    {
      "cell_type": "markdown",
      "metadata": {
        "id": "inrCVzKvDRIh"
      },
      "source": [
        "## Introduction to study <a class=\"anchor\" id=\"introduction-to-study\"></a>\n",
        "\n",
        "It is required to prepare a prototype for a machine learning model for **\"Цифры\"** (eng. **Figures**), a company specializing in developing solutions for the efficient operation of industrial enterprises.\n",
        "\n",
        "The model is intended to predict the gold recovery rate from gold-bearing ore, utilizing data on various mining and purification parameters. Its development aims to optimize production processes, ensuring that the plant is not launched under unprofitable conditions.\n",
        "\n",
        "The project involves the following tasks:\n",
        "\n",
        "- Data preparation;\n",
        "- Conducting an exploratory data analysis;\n",
        "- Building and training the machine learning model."
      ]
    },
    {
      "cell_type": "markdown",
      "metadata": {
        "id": "GPngh8-bDRIi"
      },
      "source": [
        "### Technological process <a class=\"anchor\" id=\"technological-process\"></a>\n",
        "\n",
        "How is gold extracted from ore? Study the stages of the process carefully. After primary processing, the mined ore becomes a crushed mixture that is sent for flotation (enrichment) and two-stage purification.\n",
        "\n",
        "[![](https://mermaid.ink/img/pako:eNp9kLtuwzAMRX9F4NQCCbR7KNBEsacuTTcpAyExthA9DJlGUQT596oyOnQpJz4O7wV5B5sdQQfXkD_thIXFhzJJ1HjVcsjBiVxIXsR-_yIOT33IyMg-p-fWGbRUa5wFow8-jYu8bLuHNj1q-Z7XcRI2J0uJCzL9EsdGKN37srCwgTBVAbEwzZvZsHGqFSd9piri_gFPrei17H3C8NcSdhCpRPSuXnr_4Q3wRJEMdDV1WG4GTHpUDlfO569koeOy0g7W2VUJ5XEsGKG7Ylhql5znXN6217UPPr4Bo1JnxA?type=png)](https://mermaid.live/edit#pako:eNp9kLtuwzAMRX9F4NQCCbR7KNBEsacuTTcpAyExthA9DJlGUQT596oyOnQpJz4O7wV5B5sdQQfXkD_thIXFhzJJ1HjVcsjBiVxIXsR-_yIOT33IyMg-p-fWGbRUa5wFow8-jYu8bLuHNj1q-Z7XcRI2J0uJCzL9EsdGKN37srCwgTBVAbEwzZvZsHGqFSd9piri_gFPrei17H3C8NcSdhCpRPSuXnr_4Q3wRJEMdDV1WG4GTHpUDlfO569koeOy0g7W2VUJ5XEsGKG7Ylhql5znXN6217UPPr4Bo1JnxA)\n",
        "\n",
        "Let's describe each stage:\n",
        "\n",
        "1. **Flotation.** A mixture of gold-bearing ore is fed into the flotation plant. After enrichment, a rough concentrate and \"tailings\" are obtained, which are the remnants of the product with a low concentration of valuable metals. The stability of this process is affected by the unstable and suboptimal physical and chemical state of the flotation pulp (a mixture of solid particles and liquid).\n",
        "\n",
        "2. **Purification.** The rough concentrate undergoes two stages of purification. The output is a final concentrate and new tailings."
      ]
    },
    {
      "cell_type": "markdown",
      "source": [
        "### Process description <a class=\"anchor\" id=\"process-description\"></a>\n",
        "- `Rougher feed`: raw material\n",
        "- `Rougher additions` (or `reagent additions`): flotation reagents: *Xanthate, Sulphate, Depressant*\n",
        "    - `Xanthate`: xanthogenate (promoter, or flotation activator);\n",
        "    - `Sulphate`: sulfate (sodium sulfide at this plant);\n",
        "    - `Depressant`: depressant (sodium silicate).\n",
        "- `Rougher process`: flotation\n",
        "- `Rougher tails`: tailings\n",
        "- `Float banks`: flotation plant\n",
        "- `Cleaner process`: cleaning\n",
        "- `Rougher Au`: rough gold concentrate\n",
        "- `Final Au`: final gold concentrate"
      ],
      "metadata": {
        "id": "fmuu87YpN8V_"
      }
    },
    {
      "cell_type": "markdown",
      "source": [
        "### Stage parameters <a class=\"anchor\" id=\"stage-parameters\"></a>\n",
        "- `air amount`: volume of air\n",
        "- `fluid levels`: liquid level\n",
        "- `feed size`: size of raw material grains\n",
        "- `feed rate`: feed rate"
      ],
      "metadata": {
        "id": "X4NUE1NZOkPW"
      }
    },
    {
      "cell_type": "markdown",
      "metadata": {
        "id": "k8WdqhVzDRIj"
      },
      "source": [
        "### Efficiency calculation <a class=\"anchor\" id=\"efficiency-calculation\"></a>\n",
        "\n",
        "You need to model the process of gold recovery from gold-bearing ore.\n",
        "The enrichment efficiency is calculated by the formula:\n",
        "\n",
        "$$ \\text{Recovery}= \\frac{C * (F - T)}{F * (C - T)} * 100\\% $$\n",
        "\n",
        "where:\n",
        "- C - the share of gold in the concentrate after flotation/cleaning;\n",
        "- F - the share of gold in the ore/concentrate before flotation/cleaning;\n",
        "- T - the share of gold in the tailings after flotation/cleaning.\n",
        "\n",
        "To predict the coefficient, it is necessary to find the share of gold in the concentrates and tailings. Moreover, not only the final product but also the rough concentrate is important."
      ]
    },
    {
      "cell_type": "markdown",
      "source": [
        "### Quality metric <a class=\"anchor\" id=\"quality-metric\"></a>\n",
        "\n",
        "To solve the task, we introduce a new quality metric called sMAPE (*Symmetric Mean Absolute Percentage Error*). It is similar to MAE but expressed not in absolute terms, but in relative ones. Why is it called *symmetric*? It equally takes into account the scale of the target feature and the predictions.\n",
        "\n",
        "The `sMAPE` metric is calculated as follows:\n",
        "\n",
        "$$ \\text{sMAPE} = \\frac{1}{N}\\sum_{i=1}^{N}{\\frac{|y_i - \\hat{y}_i|}{(|y_i| + |\\hat{y}_i|) / 2}} $$\n",
        "\n",
        "where:\n",
        "\n",
        "- $ y_i $ is the actual value of the target feature for the $ i $ object in the dataset;\n",
        "- $ \\hat{y}_i $ is the predicted value of the target feature for the $ i $ object in the dataset;\n",
        "- $ N $ is the number of objects in the dataset;\n",
        "- $ \\sum_{i=1}^{N} $ is the sum over all objects in the dataset ($ i $ varies from 1 to $ N $).\n",
        "\n",
        "We need to predict two values:\n",
        "\n",
        "1. The recovery rate of the rougher concentrate `rougher.output.recovery`;\n",
        "2. The recovery rate of the final concentrate `final.output.recovery`.\n",
        "\n",
        "The final metric is a weighted average of the two metrics:\n",
        "\n",
        "$$ \\text{Finall sMAPE}=25\\% * \\text{sMAPE(rougher)} + 75\\% * \\text{sMAPE(final)} $$"
      ],
      "metadata": {
        "id": "7g2w4BxuTfrp"
      }
    },
    {
      "cell_type": "markdown",
      "metadata": {
        "id": "9QEyM83YDRIk"
      },
      "source": [
        "### Data description <a class=\"anchor\" id=\"data-description\"></a>\n",
        "\n",
        "Data is located in three files:\n",
        "\n",
        "- `gold_recovery_train_new.csv` - training set;\n",
        "- `gold_recovery_test_new.csv` - test set;\n",
        "- `gold_recovery_full_new.csv` - original data.\n",
        "\n",
        "The data is indexed by the date and time of information retrieval (the `date` feature). Parameters that are close in time are often similar.\n",
        "\n",
        "Some parameters are not available because they are measured and/or calculated significantly later. Because of this, some features may be missing in the test set that are present in the training set. Also, there are no target features in the test set.\n",
        "\n",
        "The original dataset contains both the training and test sets with all features. You have access to the raw data: it was simply exported from the repository. Before building a model, please check the data for correctness according to our instructions."
      ]
    },
    {
      "cell_type": "markdown",
      "metadata": {
        "id": "ZAFuRaC6DRIk"
      },
      "source": [
        "## Data <a class=\"anchor\" id=\"data\"></a>"
      ]
    },
    {
      "cell_type": "code",
      "execution_count": 1,
      "metadata": {
        "id": "4iJ27_uHDRIl"
      },
      "outputs": [],
      "source": [
        "import matplotlib.pyplot as plt\n",
        "import numpy as np\n",
        "import os\n",
        "import pandas as pd\n",
        "import seaborn as sns\n",
        "import warnings\n",
        "from sklearn.dummy import DummyRegressor\n",
        "from sklearn.ensemble import RandomForestRegressor\n",
        "from sklearn.linear_model import LinearRegression\n",
        "from sklearn.metrics import make_scorer, mean_absolute_error\n",
        "from sklearn.model_selection import cross_val_score, cross_validate, RandomizedSearchCV\n",
        "from sklearn.preprocessing import StandardScaler\n",
        "from sklearn.tree import DecisionTreeRegressor"
      ]
    },
    {
      "cell_type": "code",
      "source": [
        "# Searching for CSV files in multiple locations\n",
        "csv_files = []\n",
        "for file in os.listdir('.'):\n",
        "    if file.endswith('.csv'):\n",
        "        csv_files.append(file)\n",
        "\n",
        "if 'gold_recovery_train_new.csv' in csv_files and 'gold_recovery_test_new.csv' in csv_files and 'gold_recovery_full_new.csv' in csv_files:\n",
        "    df_train = pd.read_csv('gold_recovery_train_new.csv')\n",
        "    df_test = pd.read_csv('gold_recovery_test_new.csv')\n",
        "    df_full = pd.read_csv('gold_recovery_full_new.csv')\n",
        "else:\n",
        "    try:\n",
        "        df_train = pd.read_csv('/datasets/gold_recovery_train_new.csv')\n",
        "        df_test = pd.read_csv('/datasets/gold_recovery_test_new.csv')\n",
        "        df_full = pd.read_csv('/datasets/gold_recovery_full_new.csv')\n",
        "    except FileNotFoundError:\n",
        "        try:\n",
        "            df_train = pd.read_csv('https://code.s3.yandex.net/datasets/gold_recovery_train_new.csv')\n",
        "            df_test = pd.read_csv('https://code.s3.yandex.net/datasets/gold_recovery_test_new.csv')\n",
        "            df_full = pd.read_csv('https://code.s3.yandex.net/datasets/gold_recovery_full_new.csv')\n",
        "        except FileNotFoundError:\n",
        "            print('File not found')\n",
        "\n",
        "# Ignoring all warnings and displaying all columns in the DF\n",
        "warnings.filterwarnings('ignore')\n",
        "pd.set_option('display.max_columns', None)\n",
        "\n",
        "# Set names for each dataframe\n",
        "title_train = 'Training dataset'\n",
        "title_test = 'Test dataset'\n",
        "title_full = 'Original dataset'\n"
      ],
      "metadata": {
        "id": "egSrpOANZkUl"
      },
      "execution_count": 2,
      "outputs": []
    },
    {
      "cell_type": "code",
      "source": [
        "# Iterates through each dataframe using a 'for loop'\n",
        "# The enumerate function is used to get the index of each dataframe\n",
        "dataframes = {\n",
        "    'Training dataset': df_train,\n",
        "    'Test dataset': df_test,\n",
        "    'Original dataset': df_full\n",
        "}\n",
        "\n",
        "for var_name, df in dataframes.items():\n",
        "    print(f\"Shape of {var_name}: {df.shape}\")\n",
        "    print(f\"-\" * 26)\n",
        "    print(f\"Missing values: \\n\")\n",
        "    print(df.isnull().sum().sum())\n",
        "    print(f\"-\" * 26)\n",
        "    print(f\"Duplicates: \\n\")\n",
        "    print(df.duplicated().sum())\n",
        "    print(f\"-\" * 26)\n",
        "    print(f\"Dataframe info: \\n\")\n",
        "    print(df_train.info())\n",
        "    print(f\"-\" * 26)\n",
        "    display(df.head())\n",
        "    print(f\"\\n\")"
      ],
      "metadata": {
        "colab": {
          "base_uri": "https://localhost:8080/",
          "height": 1000
        },
        "id": "O_3yvAx-bxYS",
        "outputId": "60bb811e-8eb9-4e14-ba83-e6ddc34e0419"
      },
      "execution_count": 3,
      "outputs": [
        {
          "output_type": "stream",
          "name": "stdout",
          "text": [
            "Shape of Training dataset: (14149, 87)\n",
            "--------------------------\n",
            "Missing values: \n",
            "\n",
            "4100\n",
            "--------------------------\n",
            "Duplicates: \n",
            "\n",
            "0\n",
            "--------------------------\n",
            "Dataframe info: \n",
            "\n",
            "<class 'pandas.core.frame.DataFrame'>\n",
            "RangeIndex: 14149 entries, 0 to 14148\n",
            "Data columns (total 87 columns):\n",
            " #   Column                                              Non-Null Count  Dtype  \n",
            "---  ------                                              --------------  -----  \n",
            " 0   date                                                14149 non-null  object \n",
            " 1   final.output.concentrate_ag                         14148 non-null  float64\n",
            " 2   final.output.concentrate_pb                         14148 non-null  float64\n",
            " 3   final.output.concentrate_sol                        13938 non-null  float64\n",
            " 4   final.output.concentrate_au                         14149 non-null  float64\n",
            " 5   final.output.recovery                               14149 non-null  float64\n",
            " 6   final.output.tail_ag                                14149 non-null  float64\n",
            " 7   final.output.tail_pb                                14049 non-null  float64\n",
            " 8   final.output.tail_sol                               14144 non-null  float64\n",
            " 9   final.output.tail_au                                14149 non-null  float64\n",
            " 10  primary_cleaner.input.sulfate                       14129 non-null  float64\n",
            " 11  primary_cleaner.input.depressant                    14117 non-null  float64\n",
            " 12  primary_cleaner.input.feed_size                     14149 non-null  float64\n",
            " 13  primary_cleaner.input.xanthate                      14049 non-null  float64\n",
            " 14  primary_cleaner.output.concentrate_ag               14149 non-null  float64\n",
            " 15  primary_cleaner.output.concentrate_pb               14063 non-null  float64\n",
            " 16  primary_cleaner.output.concentrate_sol              13863 non-null  float64\n",
            " 17  primary_cleaner.output.concentrate_au               14149 non-null  float64\n",
            " 18  primary_cleaner.output.tail_ag                      14148 non-null  float64\n",
            " 19  primary_cleaner.output.tail_pb                      14134 non-null  float64\n",
            " 20  primary_cleaner.output.tail_sol                     14103 non-null  float64\n",
            " 21  primary_cleaner.output.tail_au                      14149 non-null  float64\n",
            " 22  primary_cleaner.state.floatbank8_a_air              14145 non-null  float64\n",
            " 23  primary_cleaner.state.floatbank8_a_level            14148 non-null  float64\n",
            " 24  primary_cleaner.state.floatbank8_b_air              14145 non-null  float64\n",
            " 25  primary_cleaner.state.floatbank8_b_level            14148 non-null  float64\n",
            " 26  primary_cleaner.state.floatbank8_c_air              14147 non-null  float64\n",
            " 27  primary_cleaner.state.floatbank8_c_level            14148 non-null  float64\n",
            " 28  primary_cleaner.state.floatbank8_d_air              14146 non-null  float64\n",
            " 29  primary_cleaner.state.floatbank8_d_level            14148 non-null  float64\n",
            " 30  rougher.calculation.sulfate_to_au_concentrate       14148 non-null  float64\n",
            " 31  rougher.calculation.floatbank10_sulfate_to_au_feed  14148 non-null  float64\n",
            " 32  rougher.calculation.floatbank11_sulfate_to_au_feed  14148 non-null  float64\n",
            " 33  rougher.calculation.au_pb_ratio                     14149 non-null  float64\n",
            " 34  rougher.input.feed_ag                               14149 non-null  float64\n",
            " 35  rougher.input.feed_pb                               14049 non-null  float64\n",
            " 36  rougher.input.feed_rate                             14141 non-null  float64\n",
            " 37  rougher.input.feed_size                             14005 non-null  float64\n",
            " 38  rougher.input.feed_sol                              14071 non-null  float64\n",
            " 39  rougher.input.feed_au                               14149 non-null  float64\n",
            " 40  rougher.input.floatbank10_sulfate                   14120 non-null  float64\n",
            " 41  rougher.input.floatbank10_xanthate                  14141 non-null  float64\n",
            " 42  rougher.input.floatbank11_sulfate                   14113 non-null  float64\n",
            " 43  rougher.input.floatbank11_xanthate                  13721 non-null  float64\n",
            " 44  rougher.output.concentrate_ag                       14149 non-null  float64\n",
            " 45  rougher.output.concentrate_pb                       14149 non-null  float64\n",
            " 46  rougher.output.concentrate_sol                      14127 non-null  float64\n",
            " 47  rougher.output.concentrate_au                       14149 non-null  float64\n",
            " 48  rougher.output.recovery                             14149 non-null  float64\n",
            " 49  rougher.output.tail_ag                              14148 non-null  float64\n",
            " 50  rougher.output.tail_pb                              14149 non-null  float64\n",
            " 51  rougher.output.tail_sol                             14149 non-null  float64\n",
            " 52  rougher.output.tail_au                              14149 non-null  float64\n",
            " 53  rougher.state.floatbank10_a_air                     14148 non-null  float64\n",
            " 54  rougher.state.floatbank10_a_level                   14148 non-null  float64\n",
            " 55  rougher.state.floatbank10_b_air                     14148 non-null  float64\n",
            " 56  rougher.state.floatbank10_b_level                   14148 non-null  float64\n",
            " 57  rougher.state.floatbank10_c_air                     14148 non-null  float64\n",
            " 58  rougher.state.floatbank10_c_level                   14148 non-null  float64\n",
            " 59  rougher.state.floatbank10_d_air                     14149 non-null  float64\n",
            " 60  rougher.state.floatbank10_d_level                   14149 non-null  float64\n",
            " 61  rougher.state.floatbank10_e_air                     13713 non-null  float64\n",
            " 62  rougher.state.floatbank10_e_level                   14149 non-null  float64\n",
            " 63  rougher.state.floatbank10_f_air                     14149 non-null  float64\n",
            " 64  rougher.state.floatbank10_f_level                   14149 non-null  float64\n",
            " 65  secondary_cleaner.output.tail_ag                    14147 non-null  float64\n",
            " 66  secondary_cleaner.output.tail_pb                    14139 non-null  float64\n",
            " 67  secondary_cleaner.output.tail_sol                   12544 non-null  float64\n",
            " 68  secondary_cleaner.output.tail_au                    14149 non-null  float64\n",
            " 69  secondary_cleaner.state.floatbank2_a_air            13932 non-null  float64\n",
            " 70  secondary_cleaner.state.floatbank2_a_level          14148 non-null  float64\n",
            " 71  secondary_cleaner.state.floatbank2_b_air            14128 non-null  float64\n",
            " 72  secondary_cleaner.state.floatbank2_b_level          14148 non-null  float64\n",
            " 73  secondary_cleaner.state.floatbank3_a_air            14145 non-null  float64\n",
            " 74  secondary_cleaner.state.floatbank3_a_level          14148 non-null  float64\n",
            " 75  secondary_cleaner.state.floatbank3_b_air            14148 non-null  float64\n",
            " 76  secondary_cleaner.state.floatbank3_b_level          14148 non-null  float64\n",
            " 77  secondary_cleaner.state.floatbank4_a_air            14143 non-null  float64\n",
            " 78  secondary_cleaner.state.floatbank4_a_level          14148 non-null  float64\n",
            " 79  secondary_cleaner.state.floatbank4_b_air            14148 non-null  float64\n",
            " 80  secondary_cleaner.state.floatbank4_b_level          14148 non-null  float64\n",
            " 81  secondary_cleaner.state.floatbank5_a_air            14148 non-null  float64\n",
            " 82  secondary_cleaner.state.floatbank5_a_level          14148 non-null  float64\n",
            " 83  secondary_cleaner.state.floatbank5_b_air            14148 non-null  float64\n",
            " 84  secondary_cleaner.state.floatbank5_b_level          14148 non-null  float64\n",
            " 85  secondary_cleaner.state.floatbank6_a_air            14147 non-null  float64\n",
            " 86  secondary_cleaner.state.floatbank6_a_level          14148 non-null  float64\n",
            "dtypes: float64(86), object(1)\n",
            "memory usage: 9.4+ MB\n",
            "None\n",
            "--------------------------\n"
          ]
        },
        {
          "output_type": "display_data",
          "data": {
            "text/plain": [
              "                  date  final.output.concentrate_ag  \\\n",
              "0  2016-01-15 00:00:00                     6.055403   \n",
              "1  2016-01-15 01:00:00                     6.029369   \n",
              "2  2016-01-15 02:00:00                     6.055926   \n",
              "3  2016-01-15 03:00:00                     6.047977   \n",
              "4  2016-01-15 04:00:00                     6.148599   \n",
              "\n",
              "   final.output.concentrate_pb  final.output.concentrate_sol  \\\n",
              "0                     9.889648                      5.507324   \n",
              "1                     9.968944                      5.257781   \n",
              "2                    10.213995                      5.383759   \n",
              "3                     9.977019                      4.858634   \n",
              "4                    10.142511                      4.939416   \n",
              "\n",
              "   final.output.concentrate_au  final.output.recovery  final.output.tail_ag  \\\n",
              "0                    42.192020              70.541216             10.411962   \n",
              "1                    42.701629              69.266198             10.462676   \n",
              "2                    42.657501              68.116445             10.507046   \n",
              "3                    42.689819              68.347543             10.422762   \n",
              "4                    42.774141              66.927016             10.360302   \n",
              "\n",
              "   final.output.tail_pb  final.output.tail_sol  final.output.tail_au  \\\n",
              "0              0.895447              16.904297              2.143149   \n",
              "1              0.927452              16.634514              2.224930   \n",
              "2              0.953716              16.208849              2.257889   \n",
              "3              0.883763              16.532835              2.146849   \n",
              "4              0.792826              16.525686              2.055292   \n",
              "\n",
              "   primary_cleaner.input.sulfate  primary_cleaner.input.depressant  \\\n",
              "0                     127.092003                         10.128295   \n",
              "1                     125.629232                         10.296251   \n",
              "2                     123.819808                         11.316280   \n",
              "3                     122.270188                         11.322140   \n",
              "4                     117.988169                         11.913613   \n",
              "\n",
              "   primary_cleaner.input.feed_size  primary_cleaner.input.xanthate  \\\n",
              "0                             7.25                        0.988759   \n",
              "1                             7.25                        1.002663   \n",
              "2                             7.25                        0.991265   \n",
              "3                             7.25                        0.996739   \n",
              "4                             7.25                        1.009869   \n",
              "\n",
              "   primary_cleaner.output.concentrate_ag  \\\n",
              "0                               8.547551   \n",
              "1                               8.558743   \n",
              "2                               8.603505   \n",
              "3                               7.221879   \n",
              "4                               9.089428   \n",
              "\n",
              "   primary_cleaner.output.concentrate_pb  \\\n",
              "0                              10.389648   \n",
              "1                              10.497069   \n",
              "2                              10.354494   \n",
              "3                               8.496563   \n",
              "4                               9.986786   \n",
              "\n",
              "   primary_cleaner.output.concentrate_sol  \\\n",
              "0                               19.529297   \n",
              "1                               19.369147   \n",
              "2                               19.167579   \n",
              "3                               15.978538   \n",
              "4                               19.199864   \n",
              "\n",
              "   primary_cleaner.output.concentrate_au  primary_cleaner.output.tail_ag  \\\n",
              "0                              34.174427                       14.936526   \n",
              "1                              34.118526                       16.250511   \n",
              "2                              33.969464                       16.491823   \n",
              "3                              28.260743                       16.024359   \n",
              "4                              33.044932                       16.480185   \n",
              "\n",
              "   primary_cleaner.output.tail_pb  primary_cleaner.output.tail_sol  \\\n",
              "0                        2.534912                         7.476074   \n",
              "1                        3.049646                         6.733907   \n",
              "2                        3.124664                         6.471768   \n",
              "3                        2.960362                         6.843791   \n",
              "4                        3.112100                         6.550154   \n",
              "\n",
              "   primary_cleaner.output.tail_au  primary_cleaner.state.floatbank8_a_air  \\\n",
              "0                        2.106679                             1549.775757   \n",
              "1                        2.353017                             1576.166671   \n",
              "2                        2.416800                             1601.556163   \n",
              "3                        2.262051                             1599.968720   \n",
              "4                        2.277073                             1601.339707   \n",
              "\n",
              "   primary_cleaner.state.floatbank8_a_level  \\\n",
              "0                               -498.912140   \n",
              "1                               -500.904965   \n",
              "2                               -499.997791   \n",
              "3                               -500.951778   \n",
              "4                               -498.975456   \n",
              "\n",
              "   primary_cleaner.state.floatbank8_b_air  \\\n",
              "0                             1551.434204   \n",
              "1                             1575.950626   \n",
              "2                             1600.386685   \n",
              "3                             1600.659236   \n",
              "4                             1601.437854   \n",
              "\n",
              "   primary_cleaner.state.floatbank8_b_level  \\\n",
              "0                               -516.403442   \n",
              "1                               -499.865889   \n",
              "2                               -500.607762   \n",
              "3                               -499.677094   \n",
              "4                               -500.323246   \n",
              "\n",
              "   primary_cleaner.state.floatbank8_c_air  \\\n",
              "0                             1549.873901   \n",
              "1                             1575.994189   \n",
              "2                             1602.003542   \n",
              "3                             1600.304144   \n",
              "4                             1599.581894   \n",
              "\n",
              "   primary_cleaner.state.floatbank8_c_level  \\\n",
              "0                               -498.666595   \n",
              "1                               -499.315107   \n",
              "2                               -500.870069   \n",
              "3                               -500.727997   \n",
              "4                               -500.888152   \n",
              "\n",
              "   primary_cleaner.state.floatbank8_d_air  \\\n",
              "0                             1554.367432   \n",
              "1                             1574.479259   \n",
              "2                             1599.541515   \n",
              "3                             1600.449520   \n",
              "4                             1602.649541   \n",
              "\n",
              "   primary_cleaner.state.floatbank8_d_level  \\\n",
              "0                               -493.428131   \n",
              "1                               -498.931665   \n",
              "2                               -499.827444   \n",
              "3                               -500.052575   \n",
              "4                               -500.593010   \n",
              "\n",
              "   rougher.calculation.sulfate_to_au_concentrate  \\\n",
              "0                                   41885.707031   \n",
              "1                                   42050.861809   \n",
              "2                                   42018.101184   \n",
              "3                                   42029.447991   \n",
              "4                                   42125.354245   \n",
              "\n",
              "   rougher.calculation.floatbank10_sulfate_to_au_feed  \\\n",
              "0                                        3481.779053    \n",
              "1                                        3498.370979    \n",
              "2                                        3495.348910    \n",
              "3                                        3498.578313    \n",
              "4                                        3494.800771    \n",
              "\n",
              "   rougher.calculation.floatbank11_sulfate_to_au_feed  \\\n",
              "0                                        3520.337158    \n",
              "1                                        3489.981857    \n",
              "2                                        3502.359819    \n",
              "3                                        3499.162912    \n",
              "4                                        3506.679315    \n",
              "\n",
              "   rougher.calculation.au_pb_ratio  rougher.input.feed_ag  \\\n",
              "0                         2.838687               6.100378   \n",
              "1                         2.858998               6.161113   \n",
              "2                         2.945989               6.116455   \n",
              "3                         3.002340               6.043309   \n",
              "4                         3.169615               6.060915   \n",
              "\n",
              "   rougher.input.feed_pb  rougher.input.feed_rate  rougher.input.feed_size  \\\n",
              "0               2.284912               523.546326                55.486599   \n",
              "1               2.266033               525.290581                57.278666   \n",
              "2               2.159622               530.026610                57.510649   \n",
              "3               2.037807               542.590390                57.792734   \n",
              "4               1.786875               540.531893                56.047189   \n",
              "\n",
              "   rougher.input.feed_sol  rougher.input.feed_au  \\\n",
              "0               36.808594               6.486150   \n",
              "1               35.753385               6.478583   \n",
              "2               35.971630               6.362222   \n",
              "3               36.862241               6.118189   \n",
              "4               34.347666               5.663707   \n",
              "\n",
              "   rougher.input.floatbank10_sulfate  rougher.input.floatbank10_xanthate  \\\n",
              "0                          11.986616                            6.007990   \n",
              "1                          11.971193                            6.005766   \n",
              "2                          11.920603                            6.197377   \n",
              "3                          11.630094                            6.203177   \n",
              "4                          10.957755                            6.198826   \n",
              "\n",
              "   rougher.input.floatbank11_sulfate  rougher.input.floatbank11_xanthate  \\\n",
              "0                          11.836743                            6.005818   \n",
              "1                          11.996163                            6.012594   \n",
              "2                          11.920305                            6.204633   \n",
              "3                          11.692450                            6.196578   \n",
              "4                          10.960521                            6.194897   \n",
              "\n",
              "   rougher.output.concentrate_ag  rougher.output.concentrate_pb  \\\n",
              "0                      11.500771                       7.101074   \n",
              "1                      11.615865                       7.278807   \n",
              "2                      11.695753                       7.216833   \n",
              "3                      11.915047                       7.175616   \n",
              "4                      12.411054                       7.240205   \n",
              "\n",
              "   rougher.output.concentrate_sol  rougher.output.concentrate_au  \\\n",
              "0                       28.029297                      19.793808   \n",
              "1                       28.067063                      20.050975   \n",
              "2                       27.454037                      19.737170   \n",
              "3                       27.341277                      19.320810   \n",
              "4                       27.041023                      19.216101   \n",
              "\n",
              "   rougher.output.recovery  rougher.output.tail_ag  rougher.output.tail_pb  \\\n",
              "0                87.107763                5.008018                0.508728   \n",
              "1                86.843261                4.955378                0.536689   \n",
              "2                86.842308                4.843460                0.546416   \n",
              "3                87.226430                4.655288                0.542525   \n",
              "4                86.688794                4.552800                0.515438   \n",
              "\n",
              "   rougher.output.tail_sol  rougher.output.tail_au  \\\n",
              "0                19.154297                1.170244   \n",
              "1                18.965234                1.184827   \n",
              "2                18.808533                1.162562   \n",
              "3                19.330200                1.079755   \n",
              "4                19.267422                1.012642   \n",
              "\n",
              "   rougher.state.floatbank10_a_air  rougher.state.floatbank10_a_level  \\\n",
              "0                       999.706909                        -404.066986   \n",
              "1                      1000.286398                        -400.065196   \n",
              "2                       999.719565                        -400.074028   \n",
              "3                       999.814770                        -400.200179   \n",
              "4                       999.678690                        -399.752729   \n",
              "\n",
              "   rougher.state.floatbank10_b_air  rougher.state.floatbank10_b_level  \\\n",
              "0                      1603.011353                        -434.715027   \n",
              "1                      1600.754587                        -449.953435   \n",
              "2                      1599.337330                        -450.008530   \n",
              "3                      1600.059442                        -450.619948   \n",
              "4                      1600.208824                        -449.599614   \n",
              "\n",
              "   rougher.state.floatbank10_c_air  rougher.state.floatbank10_c_level  \\\n",
              "0                      1602.375000                        -442.204468   \n",
              "1                      1600.479580                        -449.830646   \n",
              "2                      1599.672797                        -449.954491   \n",
              "3                      1600.012842                        -449.910497   \n",
              "4                      1600.357732                        -450.034364   \n",
              "\n",
              "   rougher.state.floatbank10_d_air  rougher.state.floatbank10_d_level  \\\n",
              "0                      1598.937256                        -451.294128   \n",
              "1                      1600.527589                        -449.953649   \n",
              "2                      1599.849325                        -449.954185   \n",
              "3                      1597.725177                        -450.130127   \n",
              "4                      1599.759049                        -449.909799   \n",
              "\n",
              "   rougher.state.floatbank10_e_air  rougher.state.floatbank10_e_level  \\\n",
              "0                      1404.472046                        -455.462982   \n",
              "1                      1399.227084                        -450.869848   \n",
              "2                      1399.180945                        -449.937588   \n",
              "3                      1400.943157                        -450.030142   \n",
              "4                      1401.560902                        -448.877187   \n",
              "\n",
              "   rougher.state.floatbank10_f_air  rougher.state.floatbank10_f_level  \\\n",
              "0                      1416.354980                        -451.939636   \n",
              "1                      1399.719514                        -450.119001   \n",
              "2                      1400.316682                        -450.527147   \n",
              "3                      1400.234743                        -449.790835   \n",
              "4                      1401.160227                        -450.407128   \n",
              "\n",
              "   secondary_cleaner.output.tail_ag  secondary_cleaner.output.tail_pb  \\\n",
              "0                         14.500184                          4.694824   \n",
              "1                         14.265474                          4.592547   \n",
              "2                         14.115662                          4.624775   \n",
              "3                         13.732071                          4.482453   \n",
              "4                         14.079996                          4.470737   \n",
              "\n",
              "   secondary_cleaner.output.tail_sol  secondary_cleaner.output.tail_au  \\\n",
              "0                           8.764648                          2.606185   \n",
              "1                           9.001494                          2.488248   \n",
              "2                           8.842896                          2.458187   \n",
              "3                           9.122857                          2.322062   \n",
              "4                           8.871028                          2.330448   \n",
              "\n",
              "   secondary_cleaner.state.floatbank2_a_air  \\\n",
              "0                                 25.853109   \n",
              "1                                 25.880539   \n",
              "2                                 26.005245   \n",
              "3                                 25.942508   \n",
              "4                                 26.024787   \n",
              "\n",
              "   secondary_cleaner.state.floatbank2_a_level  \\\n",
              "0                                 -498.526489   \n",
              "1                                 -499.989656   \n",
              "2                                 -499.929616   \n",
              "3                                 -499.176749   \n",
              "4                                 -500.279091   \n",
              "\n",
              "   secondary_cleaner.state.floatbank2_b_air  \\\n",
              "0                                 23.893660   \n",
              "1                                 23.889530   \n",
              "2                                 23.886657   \n",
              "3                                 23.955516   \n",
              "4                                 23.955345   \n",
              "\n",
              "   secondary_cleaner.state.floatbank2_b_level  \\\n",
              "0                                 -501.406281   \n",
              "1                                 -500.372428   \n",
              "2                                 -499.951928   \n",
              "3                                 -499.848796   \n",
              "4                                 -500.593614   \n",
              "\n",
              "   secondary_cleaner.state.floatbank3_a_air  \\\n",
              "0                                 23.961798   \n",
              "1                                 23.970550   \n",
              "2                                 23.913535   \n",
              "3                                 23.966838   \n",
              "4                                 23.985703   \n",
              "\n",
              "   secondary_cleaner.state.floatbank3_a_level  \\\n",
              "0                                 -495.262817   \n",
              "1                                 -500.085473   \n",
              "2                                 -499.442343   \n",
              "3                                 -500.008812   \n",
              "4                                 -500.083811   \n",
              "\n",
              "   secondary_cleaner.state.floatbank3_b_air  \\\n",
              "0                                 21.940409   \n",
              "1                                 22.085714   \n",
              "2                                 23.957717   \n",
              "3                                 23.954443   \n",
              "4                                 23.958945   \n",
              "\n",
              "   secondary_cleaner.state.floatbank3_b_level  \\\n",
              "0                                 -499.340973   \n",
              "1                                 -499.446897   \n",
              "2                                 -499.901982   \n",
              "3                                 -499.944710   \n",
              "4                                 -499.990309   \n",
              "\n",
              "   secondary_cleaner.state.floatbank4_a_air  \\\n",
              "0                                 14.016835   \n",
              "1                                 13.992281   \n",
              "2                                 14.015015   \n",
              "3                                 14.036510   \n",
              "4                                 14.027298   \n",
              "\n",
              "   secondary_cleaner.state.floatbank4_a_level  \\\n",
              "0                                 -502.488007   \n",
              "1                                 -505.503262   \n",
              "2                                 -502.520901   \n",
              "3                                 -500.857308   \n",
              "4                                 -499.838632   \n",
              "\n",
              "   secondary_cleaner.state.floatbank4_b_air  \\\n",
              "0                                 12.099931   \n",
              "1                                 11.950531   \n",
              "2                                 11.912783   \n",
              "3                                 11.999550   \n",
              "4                                 11.953070   \n",
              "\n",
              "   secondary_cleaner.state.floatbank4_b_level  \\\n",
              "0                                 -504.715942   \n",
              "1                                 -501.331529   \n",
              "2                                 -501.133383   \n",
              "3                                 -501.193686   \n",
              "4                                 -501.053894   \n",
              "\n",
              "   secondary_cleaner.state.floatbank5_a_air  \\\n",
              "0                                  9.925633   \n",
              "1                                 10.039245   \n",
              "2                                 10.070913   \n",
              "3                                  9.970366   \n",
              "4                                  9.925709   \n",
              "\n",
              "   secondary_cleaner.state.floatbank5_a_level  \\\n",
              "0                                 -498.310211   \n",
              "1                                 -500.169983   \n",
              "2                                 -500.129135   \n",
              "3                                 -499.201640   \n",
              "4                                 -501.686727   \n",
              "\n",
              "   secondary_cleaner.state.floatbank5_b_air  \\\n",
              "0                                  8.079666   \n",
              "1                                  7.984757   \n",
              "2                                  8.013877   \n",
              "3                                  7.977324   \n",
              "4                                  7.894242   \n",
              "\n",
              "   secondary_cleaner.state.floatbank5_b_level  \\\n",
              "0                                 -500.470978   \n",
              "1                                 -500.582168   \n",
              "2                                 -500.517572   \n",
              "3                                 -500.255908   \n",
              "4                                 -500.356035   \n",
              "\n",
              "   secondary_cleaner.state.floatbank6_a_air  \\\n",
              "0                                 14.151341   \n",
              "1                                 13.998353   \n",
              "2                                 14.028663   \n",
              "3                                 14.005551   \n",
              "4                                 13.996647   \n",
              "\n",
              "   secondary_cleaner.state.floatbank6_a_level  \n",
              "0                                 -605.841980  \n",
              "1                                 -599.787184  \n",
              "2                                 -601.427363  \n",
              "3                                 -599.996129  \n",
              "4                                 -601.496691  "
            ],
            "text/html": [
              "\n",
              "  <div id=\"df-fb95ecf8-5a2e-4221-9d5d-934a43f6cda2\">\n",
              "    <div class=\"colab-df-container\">\n",
              "      <div>\n",
              "<style scoped>\n",
              "    .dataframe tbody tr th:only-of-type {\n",
              "        vertical-align: middle;\n",
              "    }\n",
              "\n",
              "    .dataframe tbody tr th {\n",
              "        vertical-align: top;\n",
              "    }\n",
              "\n",
              "    .dataframe thead th {\n",
              "        text-align: right;\n",
              "    }\n",
              "</style>\n",
              "<table border=\"1\" class=\"dataframe\">\n",
              "  <thead>\n",
              "    <tr style=\"text-align: right;\">\n",
              "      <th></th>\n",
              "      <th>date</th>\n",
              "      <th>final.output.concentrate_ag</th>\n",
              "      <th>final.output.concentrate_pb</th>\n",
              "      <th>final.output.concentrate_sol</th>\n",
              "      <th>final.output.concentrate_au</th>\n",
              "      <th>final.output.recovery</th>\n",
              "      <th>final.output.tail_ag</th>\n",
              "      <th>final.output.tail_pb</th>\n",
              "      <th>final.output.tail_sol</th>\n",
              "      <th>final.output.tail_au</th>\n",
              "      <th>primary_cleaner.input.sulfate</th>\n",
              "      <th>primary_cleaner.input.depressant</th>\n",
              "      <th>primary_cleaner.input.feed_size</th>\n",
              "      <th>primary_cleaner.input.xanthate</th>\n",
              "      <th>primary_cleaner.output.concentrate_ag</th>\n",
              "      <th>primary_cleaner.output.concentrate_pb</th>\n",
              "      <th>primary_cleaner.output.concentrate_sol</th>\n",
              "      <th>primary_cleaner.output.concentrate_au</th>\n",
              "      <th>primary_cleaner.output.tail_ag</th>\n",
              "      <th>primary_cleaner.output.tail_pb</th>\n",
              "      <th>primary_cleaner.output.tail_sol</th>\n",
              "      <th>primary_cleaner.output.tail_au</th>\n",
              "      <th>primary_cleaner.state.floatbank8_a_air</th>\n",
              "      <th>primary_cleaner.state.floatbank8_a_level</th>\n",
              "      <th>primary_cleaner.state.floatbank8_b_air</th>\n",
              "      <th>primary_cleaner.state.floatbank8_b_level</th>\n",
              "      <th>primary_cleaner.state.floatbank8_c_air</th>\n",
              "      <th>primary_cleaner.state.floatbank8_c_level</th>\n",
              "      <th>primary_cleaner.state.floatbank8_d_air</th>\n",
              "      <th>primary_cleaner.state.floatbank8_d_level</th>\n",
              "      <th>rougher.calculation.sulfate_to_au_concentrate</th>\n",
              "      <th>rougher.calculation.floatbank10_sulfate_to_au_feed</th>\n",
              "      <th>rougher.calculation.floatbank11_sulfate_to_au_feed</th>\n",
              "      <th>rougher.calculation.au_pb_ratio</th>\n",
              "      <th>rougher.input.feed_ag</th>\n",
              "      <th>rougher.input.feed_pb</th>\n",
              "      <th>rougher.input.feed_rate</th>\n",
              "      <th>rougher.input.feed_size</th>\n",
              "      <th>rougher.input.feed_sol</th>\n",
              "      <th>rougher.input.feed_au</th>\n",
              "      <th>rougher.input.floatbank10_sulfate</th>\n",
              "      <th>rougher.input.floatbank10_xanthate</th>\n",
              "      <th>rougher.input.floatbank11_sulfate</th>\n",
              "      <th>rougher.input.floatbank11_xanthate</th>\n",
              "      <th>rougher.output.concentrate_ag</th>\n",
              "      <th>rougher.output.concentrate_pb</th>\n",
              "      <th>rougher.output.concentrate_sol</th>\n",
              "      <th>rougher.output.concentrate_au</th>\n",
              "      <th>rougher.output.recovery</th>\n",
              "      <th>rougher.output.tail_ag</th>\n",
              "      <th>rougher.output.tail_pb</th>\n",
              "      <th>rougher.output.tail_sol</th>\n",
              "      <th>rougher.output.tail_au</th>\n",
              "      <th>rougher.state.floatbank10_a_air</th>\n",
              "      <th>rougher.state.floatbank10_a_level</th>\n",
              "      <th>rougher.state.floatbank10_b_air</th>\n",
              "      <th>rougher.state.floatbank10_b_level</th>\n",
              "      <th>rougher.state.floatbank10_c_air</th>\n",
              "      <th>rougher.state.floatbank10_c_level</th>\n",
              "      <th>rougher.state.floatbank10_d_air</th>\n",
              "      <th>rougher.state.floatbank10_d_level</th>\n",
              "      <th>rougher.state.floatbank10_e_air</th>\n",
              "      <th>rougher.state.floatbank10_e_level</th>\n",
              "      <th>rougher.state.floatbank10_f_air</th>\n",
              "      <th>rougher.state.floatbank10_f_level</th>\n",
              "      <th>secondary_cleaner.output.tail_ag</th>\n",
              "      <th>secondary_cleaner.output.tail_pb</th>\n",
              "      <th>secondary_cleaner.output.tail_sol</th>\n",
              "      <th>secondary_cleaner.output.tail_au</th>\n",
              "      <th>secondary_cleaner.state.floatbank2_a_air</th>\n",
              "      <th>secondary_cleaner.state.floatbank2_a_level</th>\n",
              "      <th>secondary_cleaner.state.floatbank2_b_air</th>\n",
              "      <th>secondary_cleaner.state.floatbank2_b_level</th>\n",
              "      <th>secondary_cleaner.state.floatbank3_a_air</th>\n",
              "      <th>secondary_cleaner.state.floatbank3_a_level</th>\n",
              "      <th>secondary_cleaner.state.floatbank3_b_air</th>\n",
              "      <th>secondary_cleaner.state.floatbank3_b_level</th>\n",
              "      <th>secondary_cleaner.state.floatbank4_a_air</th>\n",
              "      <th>secondary_cleaner.state.floatbank4_a_level</th>\n",
              "      <th>secondary_cleaner.state.floatbank4_b_air</th>\n",
              "      <th>secondary_cleaner.state.floatbank4_b_level</th>\n",
              "      <th>secondary_cleaner.state.floatbank5_a_air</th>\n",
              "      <th>secondary_cleaner.state.floatbank5_a_level</th>\n",
              "      <th>secondary_cleaner.state.floatbank5_b_air</th>\n",
              "      <th>secondary_cleaner.state.floatbank5_b_level</th>\n",
              "      <th>secondary_cleaner.state.floatbank6_a_air</th>\n",
              "      <th>secondary_cleaner.state.floatbank6_a_level</th>\n",
              "    </tr>\n",
              "  </thead>\n",
              "  <tbody>\n",
              "    <tr>\n",
              "      <th>0</th>\n",
              "      <td>2016-01-15 00:00:00</td>\n",
              "      <td>6.055403</td>\n",
              "      <td>9.889648</td>\n",
              "      <td>5.507324</td>\n",
              "      <td>42.192020</td>\n",
              "      <td>70.541216</td>\n",
              "      <td>10.411962</td>\n",
              "      <td>0.895447</td>\n",
              "      <td>16.904297</td>\n",
              "      <td>2.143149</td>\n",
              "      <td>127.092003</td>\n",
              "      <td>10.128295</td>\n",
              "      <td>7.25</td>\n",
              "      <td>0.988759</td>\n",
              "      <td>8.547551</td>\n",
              "      <td>10.389648</td>\n",
              "      <td>19.529297</td>\n",
              "      <td>34.174427</td>\n",
              "      <td>14.936526</td>\n",
              "      <td>2.534912</td>\n",
              "      <td>7.476074</td>\n",
              "      <td>2.106679</td>\n",
              "      <td>1549.775757</td>\n",
              "      <td>-498.912140</td>\n",
              "      <td>1551.434204</td>\n",
              "      <td>-516.403442</td>\n",
              "      <td>1549.873901</td>\n",
              "      <td>-498.666595</td>\n",
              "      <td>1554.367432</td>\n",
              "      <td>-493.428131</td>\n",
              "      <td>41885.707031</td>\n",
              "      <td>3481.779053</td>\n",
              "      <td>3520.337158</td>\n",
              "      <td>2.838687</td>\n",
              "      <td>6.100378</td>\n",
              "      <td>2.284912</td>\n",
              "      <td>523.546326</td>\n",
              "      <td>55.486599</td>\n",
              "      <td>36.808594</td>\n",
              "      <td>6.486150</td>\n",
              "      <td>11.986616</td>\n",
              "      <td>6.007990</td>\n",
              "      <td>11.836743</td>\n",
              "      <td>6.005818</td>\n",
              "      <td>11.500771</td>\n",
              "      <td>7.101074</td>\n",
              "      <td>28.029297</td>\n",
              "      <td>19.793808</td>\n",
              "      <td>87.107763</td>\n",
              "      <td>5.008018</td>\n",
              "      <td>0.508728</td>\n",
              "      <td>19.154297</td>\n",
              "      <td>1.170244</td>\n",
              "      <td>999.706909</td>\n",
              "      <td>-404.066986</td>\n",
              "      <td>1603.011353</td>\n",
              "      <td>-434.715027</td>\n",
              "      <td>1602.375000</td>\n",
              "      <td>-442.204468</td>\n",
              "      <td>1598.937256</td>\n",
              "      <td>-451.294128</td>\n",
              "      <td>1404.472046</td>\n",
              "      <td>-455.462982</td>\n",
              "      <td>1416.354980</td>\n",
              "      <td>-451.939636</td>\n",
              "      <td>14.500184</td>\n",
              "      <td>4.694824</td>\n",
              "      <td>8.764648</td>\n",
              "      <td>2.606185</td>\n",
              "      <td>25.853109</td>\n",
              "      <td>-498.526489</td>\n",
              "      <td>23.893660</td>\n",
              "      <td>-501.406281</td>\n",
              "      <td>23.961798</td>\n",
              "      <td>-495.262817</td>\n",
              "      <td>21.940409</td>\n",
              "      <td>-499.340973</td>\n",
              "      <td>14.016835</td>\n",
              "      <td>-502.488007</td>\n",
              "      <td>12.099931</td>\n",
              "      <td>-504.715942</td>\n",
              "      <td>9.925633</td>\n",
              "      <td>-498.310211</td>\n",
              "      <td>8.079666</td>\n",
              "      <td>-500.470978</td>\n",
              "      <td>14.151341</td>\n",
              "      <td>-605.841980</td>\n",
              "    </tr>\n",
              "    <tr>\n",
              "      <th>1</th>\n",
              "      <td>2016-01-15 01:00:00</td>\n",
              "      <td>6.029369</td>\n",
              "      <td>9.968944</td>\n",
              "      <td>5.257781</td>\n",
              "      <td>42.701629</td>\n",
              "      <td>69.266198</td>\n",
              "      <td>10.462676</td>\n",
              "      <td>0.927452</td>\n",
              "      <td>16.634514</td>\n",
              "      <td>2.224930</td>\n",
              "      <td>125.629232</td>\n",
              "      <td>10.296251</td>\n",
              "      <td>7.25</td>\n",
              "      <td>1.002663</td>\n",
              "      <td>8.558743</td>\n",
              "      <td>10.497069</td>\n",
              "      <td>19.369147</td>\n",
              "      <td>34.118526</td>\n",
              "      <td>16.250511</td>\n",
              "      <td>3.049646</td>\n",
              "      <td>6.733907</td>\n",
              "      <td>2.353017</td>\n",
              "      <td>1576.166671</td>\n",
              "      <td>-500.904965</td>\n",
              "      <td>1575.950626</td>\n",
              "      <td>-499.865889</td>\n",
              "      <td>1575.994189</td>\n",
              "      <td>-499.315107</td>\n",
              "      <td>1574.479259</td>\n",
              "      <td>-498.931665</td>\n",
              "      <td>42050.861809</td>\n",
              "      <td>3498.370979</td>\n",
              "      <td>3489.981857</td>\n",
              "      <td>2.858998</td>\n",
              "      <td>6.161113</td>\n",
              "      <td>2.266033</td>\n",
              "      <td>525.290581</td>\n",
              "      <td>57.278666</td>\n",
              "      <td>35.753385</td>\n",
              "      <td>6.478583</td>\n",
              "      <td>11.971193</td>\n",
              "      <td>6.005766</td>\n",
              "      <td>11.996163</td>\n",
              "      <td>6.012594</td>\n",
              "      <td>11.615865</td>\n",
              "      <td>7.278807</td>\n",
              "      <td>28.067063</td>\n",
              "      <td>20.050975</td>\n",
              "      <td>86.843261</td>\n",
              "      <td>4.955378</td>\n",
              "      <td>0.536689</td>\n",
              "      <td>18.965234</td>\n",
              "      <td>1.184827</td>\n",
              "      <td>1000.286398</td>\n",
              "      <td>-400.065196</td>\n",
              "      <td>1600.754587</td>\n",
              "      <td>-449.953435</td>\n",
              "      <td>1600.479580</td>\n",
              "      <td>-449.830646</td>\n",
              "      <td>1600.527589</td>\n",
              "      <td>-449.953649</td>\n",
              "      <td>1399.227084</td>\n",
              "      <td>-450.869848</td>\n",
              "      <td>1399.719514</td>\n",
              "      <td>-450.119001</td>\n",
              "      <td>14.265474</td>\n",
              "      <td>4.592547</td>\n",
              "      <td>9.001494</td>\n",
              "      <td>2.488248</td>\n",
              "      <td>25.880539</td>\n",
              "      <td>-499.989656</td>\n",
              "      <td>23.889530</td>\n",
              "      <td>-500.372428</td>\n",
              "      <td>23.970550</td>\n",
              "      <td>-500.085473</td>\n",
              "      <td>22.085714</td>\n",
              "      <td>-499.446897</td>\n",
              "      <td>13.992281</td>\n",
              "      <td>-505.503262</td>\n",
              "      <td>11.950531</td>\n",
              "      <td>-501.331529</td>\n",
              "      <td>10.039245</td>\n",
              "      <td>-500.169983</td>\n",
              "      <td>7.984757</td>\n",
              "      <td>-500.582168</td>\n",
              "      <td>13.998353</td>\n",
              "      <td>-599.787184</td>\n",
              "    </tr>\n",
              "    <tr>\n",
              "      <th>2</th>\n",
              "      <td>2016-01-15 02:00:00</td>\n",
              "      <td>6.055926</td>\n",
              "      <td>10.213995</td>\n",
              "      <td>5.383759</td>\n",
              "      <td>42.657501</td>\n",
              "      <td>68.116445</td>\n",
              "      <td>10.507046</td>\n",
              "      <td>0.953716</td>\n",
              "      <td>16.208849</td>\n",
              "      <td>2.257889</td>\n",
              "      <td>123.819808</td>\n",
              "      <td>11.316280</td>\n",
              "      <td>7.25</td>\n",
              "      <td>0.991265</td>\n",
              "      <td>8.603505</td>\n",
              "      <td>10.354494</td>\n",
              "      <td>19.167579</td>\n",
              "      <td>33.969464</td>\n",
              "      <td>16.491823</td>\n",
              "      <td>3.124664</td>\n",
              "      <td>6.471768</td>\n",
              "      <td>2.416800</td>\n",
              "      <td>1601.556163</td>\n",
              "      <td>-499.997791</td>\n",
              "      <td>1600.386685</td>\n",
              "      <td>-500.607762</td>\n",
              "      <td>1602.003542</td>\n",
              "      <td>-500.870069</td>\n",
              "      <td>1599.541515</td>\n",
              "      <td>-499.827444</td>\n",
              "      <td>42018.101184</td>\n",
              "      <td>3495.348910</td>\n",
              "      <td>3502.359819</td>\n",
              "      <td>2.945989</td>\n",
              "      <td>6.116455</td>\n",
              "      <td>2.159622</td>\n",
              "      <td>530.026610</td>\n",
              "      <td>57.510649</td>\n",
              "      <td>35.971630</td>\n",
              "      <td>6.362222</td>\n",
              "      <td>11.920603</td>\n",
              "      <td>6.197377</td>\n",
              "      <td>11.920305</td>\n",
              "      <td>6.204633</td>\n",
              "      <td>11.695753</td>\n",
              "      <td>7.216833</td>\n",
              "      <td>27.454037</td>\n",
              "      <td>19.737170</td>\n",
              "      <td>86.842308</td>\n",
              "      <td>4.843460</td>\n",
              "      <td>0.546416</td>\n",
              "      <td>18.808533</td>\n",
              "      <td>1.162562</td>\n",
              "      <td>999.719565</td>\n",
              "      <td>-400.074028</td>\n",
              "      <td>1599.337330</td>\n",
              "      <td>-450.008530</td>\n",
              "      <td>1599.672797</td>\n",
              "      <td>-449.954491</td>\n",
              "      <td>1599.849325</td>\n",
              "      <td>-449.954185</td>\n",
              "      <td>1399.180945</td>\n",
              "      <td>-449.937588</td>\n",
              "      <td>1400.316682</td>\n",
              "      <td>-450.527147</td>\n",
              "      <td>14.115662</td>\n",
              "      <td>4.624775</td>\n",
              "      <td>8.842896</td>\n",
              "      <td>2.458187</td>\n",
              "      <td>26.005245</td>\n",
              "      <td>-499.929616</td>\n",
              "      <td>23.886657</td>\n",
              "      <td>-499.951928</td>\n",
              "      <td>23.913535</td>\n",
              "      <td>-499.442343</td>\n",
              "      <td>23.957717</td>\n",
              "      <td>-499.901982</td>\n",
              "      <td>14.015015</td>\n",
              "      <td>-502.520901</td>\n",
              "      <td>11.912783</td>\n",
              "      <td>-501.133383</td>\n",
              "      <td>10.070913</td>\n",
              "      <td>-500.129135</td>\n",
              "      <td>8.013877</td>\n",
              "      <td>-500.517572</td>\n",
              "      <td>14.028663</td>\n",
              "      <td>-601.427363</td>\n",
              "    </tr>\n",
              "    <tr>\n",
              "      <th>3</th>\n",
              "      <td>2016-01-15 03:00:00</td>\n",
              "      <td>6.047977</td>\n",
              "      <td>9.977019</td>\n",
              "      <td>4.858634</td>\n",
              "      <td>42.689819</td>\n",
              "      <td>68.347543</td>\n",
              "      <td>10.422762</td>\n",
              "      <td>0.883763</td>\n",
              "      <td>16.532835</td>\n",
              "      <td>2.146849</td>\n",
              "      <td>122.270188</td>\n",
              "      <td>11.322140</td>\n",
              "      <td>7.25</td>\n",
              "      <td>0.996739</td>\n",
              "      <td>7.221879</td>\n",
              "      <td>8.496563</td>\n",
              "      <td>15.978538</td>\n",
              "      <td>28.260743</td>\n",
              "      <td>16.024359</td>\n",
              "      <td>2.960362</td>\n",
              "      <td>6.843791</td>\n",
              "      <td>2.262051</td>\n",
              "      <td>1599.968720</td>\n",
              "      <td>-500.951778</td>\n",
              "      <td>1600.659236</td>\n",
              "      <td>-499.677094</td>\n",
              "      <td>1600.304144</td>\n",
              "      <td>-500.727997</td>\n",
              "      <td>1600.449520</td>\n",
              "      <td>-500.052575</td>\n",
              "      <td>42029.447991</td>\n",
              "      <td>3498.578313</td>\n",
              "      <td>3499.162912</td>\n",
              "      <td>3.002340</td>\n",
              "      <td>6.043309</td>\n",
              "      <td>2.037807</td>\n",
              "      <td>542.590390</td>\n",
              "      <td>57.792734</td>\n",
              "      <td>36.862241</td>\n",
              "      <td>6.118189</td>\n",
              "      <td>11.630094</td>\n",
              "      <td>6.203177</td>\n",
              "      <td>11.692450</td>\n",
              "      <td>6.196578</td>\n",
              "      <td>11.915047</td>\n",
              "      <td>7.175616</td>\n",
              "      <td>27.341277</td>\n",
              "      <td>19.320810</td>\n",
              "      <td>87.226430</td>\n",
              "      <td>4.655288</td>\n",
              "      <td>0.542525</td>\n",
              "      <td>19.330200</td>\n",
              "      <td>1.079755</td>\n",
              "      <td>999.814770</td>\n",
              "      <td>-400.200179</td>\n",
              "      <td>1600.059442</td>\n",
              "      <td>-450.619948</td>\n",
              "      <td>1600.012842</td>\n",
              "      <td>-449.910497</td>\n",
              "      <td>1597.725177</td>\n",
              "      <td>-450.130127</td>\n",
              "      <td>1400.943157</td>\n",
              "      <td>-450.030142</td>\n",
              "      <td>1400.234743</td>\n",
              "      <td>-449.790835</td>\n",
              "      <td>13.732071</td>\n",
              "      <td>4.482453</td>\n",
              "      <td>9.122857</td>\n",
              "      <td>2.322062</td>\n",
              "      <td>25.942508</td>\n",
              "      <td>-499.176749</td>\n",
              "      <td>23.955516</td>\n",
              "      <td>-499.848796</td>\n",
              "      <td>23.966838</td>\n",
              "      <td>-500.008812</td>\n",
              "      <td>23.954443</td>\n",
              "      <td>-499.944710</td>\n",
              "      <td>14.036510</td>\n",
              "      <td>-500.857308</td>\n",
              "      <td>11.999550</td>\n",
              "      <td>-501.193686</td>\n",
              "      <td>9.970366</td>\n",
              "      <td>-499.201640</td>\n",
              "      <td>7.977324</td>\n",
              "      <td>-500.255908</td>\n",
              "      <td>14.005551</td>\n",
              "      <td>-599.996129</td>\n",
              "    </tr>\n",
              "    <tr>\n",
              "      <th>4</th>\n",
              "      <td>2016-01-15 04:00:00</td>\n",
              "      <td>6.148599</td>\n",
              "      <td>10.142511</td>\n",
              "      <td>4.939416</td>\n",
              "      <td>42.774141</td>\n",
              "      <td>66.927016</td>\n",
              "      <td>10.360302</td>\n",
              "      <td>0.792826</td>\n",
              "      <td>16.525686</td>\n",
              "      <td>2.055292</td>\n",
              "      <td>117.988169</td>\n",
              "      <td>11.913613</td>\n",
              "      <td>7.25</td>\n",
              "      <td>1.009869</td>\n",
              "      <td>9.089428</td>\n",
              "      <td>9.986786</td>\n",
              "      <td>19.199864</td>\n",
              "      <td>33.044932</td>\n",
              "      <td>16.480185</td>\n",
              "      <td>3.112100</td>\n",
              "      <td>6.550154</td>\n",
              "      <td>2.277073</td>\n",
              "      <td>1601.339707</td>\n",
              "      <td>-498.975456</td>\n",
              "      <td>1601.437854</td>\n",
              "      <td>-500.323246</td>\n",
              "      <td>1599.581894</td>\n",
              "      <td>-500.888152</td>\n",
              "      <td>1602.649541</td>\n",
              "      <td>-500.593010</td>\n",
              "      <td>42125.354245</td>\n",
              "      <td>3494.800771</td>\n",
              "      <td>3506.679315</td>\n",
              "      <td>3.169615</td>\n",
              "      <td>6.060915</td>\n",
              "      <td>1.786875</td>\n",
              "      <td>540.531893</td>\n",
              "      <td>56.047189</td>\n",
              "      <td>34.347666</td>\n",
              "      <td>5.663707</td>\n",
              "      <td>10.957755</td>\n",
              "      <td>6.198826</td>\n",
              "      <td>10.960521</td>\n",
              "      <td>6.194897</td>\n",
              "      <td>12.411054</td>\n",
              "      <td>7.240205</td>\n",
              "      <td>27.041023</td>\n",
              "      <td>19.216101</td>\n",
              "      <td>86.688794</td>\n",
              "      <td>4.552800</td>\n",
              "      <td>0.515438</td>\n",
              "      <td>19.267422</td>\n",
              "      <td>1.012642</td>\n",
              "      <td>999.678690</td>\n",
              "      <td>-399.752729</td>\n",
              "      <td>1600.208824</td>\n",
              "      <td>-449.599614</td>\n",
              "      <td>1600.357732</td>\n",
              "      <td>-450.034364</td>\n",
              "      <td>1599.759049</td>\n",
              "      <td>-449.909799</td>\n",
              "      <td>1401.560902</td>\n",
              "      <td>-448.877187</td>\n",
              "      <td>1401.160227</td>\n",
              "      <td>-450.407128</td>\n",
              "      <td>14.079996</td>\n",
              "      <td>4.470737</td>\n",
              "      <td>8.871028</td>\n",
              "      <td>2.330448</td>\n",
              "      <td>26.024787</td>\n",
              "      <td>-500.279091</td>\n",
              "      <td>23.955345</td>\n",
              "      <td>-500.593614</td>\n",
              "      <td>23.985703</td>\n",
              "      <td>-500.083811</td>\n",
              "      <td>23.958945</td>\n",
              "      <td>-499.990309</td>\n",
              "      <td>14.027298</td>\n",
              "      <td>-499.838632</td>\n",
              "      <td>11.953070</td>\n",
              "      <td>-501.053894</td>\n",
              "      <td>9.925709</td>\n",
              "      <td>-501.686727</td>\n",
              "      <td>7.894242</td>\n",
              "      <td>-500.356035</td>\n",
              "      <td>13.996647</td>\n",
              "      <td>-601.496691</td>\n",
              "    </tr>\n",
              "  </tbody>\n",
              "</table>\n",
              "</div>\n",
              "      <button class=\"colab-df-convert\" onclick=\"convertToInteractive('df-fb95ecf8-5a2e-4221-9d5d-934a43f6cda2')\"\n",
              "              title=\"Convert this dataframe to an interactive table.\"\n",
              "              style=\"display:none;\">\n",
              "        \n",
              "  <svg xmlns=\"http://www.w3.org/2000/svg\" height=\"24px\"viewBox=\"0 0 24 24\"\n",
              "       width=\"24px\">\n",
              "    <path d=\"M0 0h24v24H0V0z\" fill=\"none\"/>\n",
              "    <path d=\"M18.56 5.44l.94 2.06.94-2.06 2.06-.94-2.06-.94-.94-2.06-.94 2.06-2.06.94zm-11 1L8.5 8.5l.94-2.06 2.06-.94-2.06-.94L8.5 2.5l-.94 2.06-2.06.94zm10 10l.94 2.06.94-2.06 2.06-.94-2.06-.94-.94-2.06-.94 2.06-2.06.94z\"/><path d=\"M17.41 7.96l-1.37-1.37c-.4-.4-.92-.59-1.43-.59-.52 0-1.04.2-1.43.59L10.3 9.45l-7.72 7.72c-.78.78-.78 2.05 0 2.83L4 21.41c.39.39.9.59 1.41.59.51 0 1.02-.2 1.41-.59l7.78-7.78 2.81-2.81c.8-.78.8-2.07 0-2.86zM5.41 20L4 18.59l7.72-7.72 1.47 1.35L5.41 20z\"/>\n",
              "  </svg>\n",
              "      </button>\n",
              "      \n",
              "  <style>\n",
              "    .colab-df-container {\n",
              "      display:flex;\n",
              "      flex-wrap:wrap;\n",
              "      gap: 12px;\n",
              "    }\n",
              "\n",
              "    .colab-df-convert {\n",
              "      background-color: #E8F0FE;\n",
              "      border: none;\n",
              "      border-radius: 50%;\n",
              "      cursor: pointer;\n",
              "      display: none;\n",
              "      fill: #1967D2;\n",
              "      height: 32px;\n",
              "      padding: 0 0 0 0;\n",
              "      width: 32px;\n",
              "    }\n",
              "\n",
              "    .colab-df-convert:hover {\n",
              "      background-color: #E2EBFA;\n",
              "      box-shadow: 0px 1px 2px rgba(60, 64, 67, 0.3), 0px 1px 3px 1px rgba(60, 64, 67, 0.15);\n",
              "      fill: #174EA6;\n",
              "    }\n",
              "\n",
              "    [theme=dark] .colab-df-convert {\n",
              "      background-color: #3B4455;\n",
              "      fill: #D2E3FC;\n",
              "    }\n",
              "\n",
              "    [theme=dark] .colab-df-convert:hover {\n",
              "      background-color: #434B5C;\n",
              "      box-shadow: 0px 1px 3px 1px rgba(0, 0, 0, 0.15);\n",
              "      filter: drop-shadow(0px 1px 2px rgba(0, 0, 0, 0.3));\n",
              "      fill: #FFFFFF;\n",
              "    }\n",
              "  </style>\n",
              "\n",
              "      <script>\n",
              "        const buttonEl =\n",
              "          document.querySelector('#df-fb95ecf8-5a2e-4221-9d5d-934a43f6cda2 button.colab-df-convert');\n",
              "        buttonEl.style.display =\n",
              "          google.colab.kernel.accessAllowed ? 'block' : 'none';\n",
              "\n",
              "        async function convertToInteractive(key) {\n",
              "          const element = document.querySelector('#df-fb95ecf8-5a2e-4221-9d5d-934a43f6cda2');\n",
              "          const dataTable =\n",
              "            await google.colab.kernel.invokeFunction('convertToInteractive',\n",
              "                                                     [key], {});\n",
              "          if (!dataTable) return;\n",
              "\n",
              "          const docLinkHtml = 'Like what you see? Visit the ' +\n",
              "            '<a target=\"_blank\" href=https://colab.research.google.com/notebooks/data_table.ipynb>data table notebook</a>'\n",
              "            + ' to learn more about interactive tables.';\n",
              "          element.innerHTML = '';\n",
              "          dataTable['output_type'] = 'display_data';\n",
              "          await google.colab.output.renderOutput(dataTable, element);\n",
              "          const docLink = document.createElement('div');\n",
              "          docLink.innerHTML = docLinkHtml;\n",
              "          element.appendChild(docLink);\n",
              "        }\n",
              "      </script>\n",
              "    </div>\n",
              "  </div>\n",
              "  "
            ]
          },
          "metadata": {}
        },
        {
          "output_type": "stream",
          "name": "stdout",
          "text": [
            "\n",
            "\n",
            "Shape of Test dataset: (5290, 53)\n",
            "--------------------------\n",
            "Missing values: \n",
            "\n",
            "90\n",
            "--------------------------\n",
            "Duplicates: \n",
            "\n",
            "0\n",
            "--------------------------\n",
            "Dataframe info: \n",
            "\n",
            "<class 'pandas.core.frame.DataFrame'>\n",
            "RangeIndex: 14149 entries, 0 to 14148\n",
            "Data columns (total 87 columns):\n",
            " #   Column                                              Non-Null Count  Dtype  \n",
            "---  ------                                              --------------  -----  \n",
            " 0   date                                                14149 non-null  object \n",
            " 1   final.output.concentrate_ag                         14148 non-null  float64\n",
            " 2   final.output.concentrate_pb                         14148 non-null  float64\n",
            " 3   final.output.concentrate_sol                        13938 non-null  float64\n",
            " 4   final.output.concentrate_au                         14149 non-null  float64\n",
            " 5   final.output.recovery                               14149 non-null  float64\n",
            " 6   final.output.tail_ag                                14149 non-null  float64\n",
            " 7   final.output.tail_pb                                14049 non-null  float64\n",
            " 8   final.output.tail_sol                               14144 non-null  float64\n",
            " 9   final.output.tail_au                                14149 non-null  float64\n",
            " 10  primary_cleaner.input.sulfate                       14129 non-null  float64\n",
            " 11  primary_cleaner.input.depressant                    14117 non-null  float64\n",
            " 12  primary_cleaner.input.feed_size                     14149 non-null  float64\n",
            " 13  primary_cleaner.input.xanthate                      14049 non-null  float64\n",
            " 14  primary_cleaner.output.concentrate_ag               14149 non-null  float64\n",
            " 15  primary_cleaner.output.concentrate_pb               14063 non-null  float64\n",
            " 16  primary_cleaner.output.concentrate_sol              13863 non-null  float64\n",
            " 17  primary_cleaner.output.concentrate_au               14149 non-null  float64\n",
            " 18  primary_cleaner.output.tail_ag                      14148 non-null  float64\n",
            " 19  primary_cleaner.output.tail_pb                      14134 non-null  float64\n",
            " 20  primary_cleaner.output.tail_sol                     14103 non-null  float64\n",
            " 21  primary_cleaner.output.tail_au                      14149 non-null  float64\n",
            " 22  primary_cleaner.state.floatbank8_a_air              14145 non-null  float64\n",
            " 23  primary_cleaner.state.floatbank8_a_level            14148 non-null  float64\n",
            " 24  primary_cleaner.state.floatbank8_b_air              14145 non-null  float64\n",
            " 25  primary_cleaner.state.floatbank8_b_level            14148 non-null  float64\n",
            " 26  primary_cleaner.state.floatbank8_c_air              14147 non-null  float64\n",
            " 27  primary_cleaner.state.floatbank8_c_level            14148 non-null  float64\n",
            " 28  primary_cleaner.state.floatbank8_d_air              14146 non-null  float64\n",
            " 29  primary_cleaner.state.floatbank8_d_level            14148 non-null  float64\n",
            " 30  rougher.calculation.sulfate_to_au_concentrate       14148 non-null  float64\n",
            " 31  rougher.calculation.floatbank10_sulfate_to_au_feed  14148 non-null  float64\n",
            " 32  rougher.calculation.floatbank11_sulfate_to_au_feed  14148 non-null  float64\n",
            " 33  rougher.calculation.au_pb_ratio                     14149 non-null  float64\n",
            " 34  rougher.input.feed_ag                               14149 non-null  float64\n",
            " 35  rougher.input.feed_pb                               14049 non-null  float64\n",
            " 36  rougher.input.feed_rate                             14141 non-null  float64\n",
            " 37  rougher.input.feed_size                             14005 non-null  float64\n",
            " 38  rougher.input.feed_sol                              14071 non-null  float64\n",
            " 39  rougher.input.feed_au                               14149 non-null  float64\n",
            " 40  rougher.input.floatbank10_sulfate                   14120 non-null  float64\n",
            " 41  rougher.input.floatbank10_xanthate                  14141 non-null  float64\n",
            " 42  rougher.input.floatbank11_sulfate                   14113 non-null  float64\n",
            " 43  rougher.input.floatbank11_xanthate                  13721 non-null  float64\n",
            " 44  rougher.output.concentrate_ag                       14149 non-null  float64\n",
            " 45  rougher.output.concentrate_pb                       14149 non-null  float64\n",
            " 46  rougher.output.concentrate_sol                      14127 non-null  float64\n",
            " 47  rougher.output.concentrate_au                       14149 non-null  float64\n",
            " 48  rougher.output.recovery                             14149 non-null  float64\n",
            " 49  rougher.output.tail_ag                              14148 non-null  float64\n",
            " 50  rougher.output.tail_pb                              14149 non-null  float64\n",
            " 51  rougher.output.tail_sol                             14149 non-null  float64\n",
            " 52  rougher.output.tail_au                              14149 non-null  float64\n",
            " 53  rougher.state.floatbank10_a_air                     14148 non-null  float64\n",
            " 54  rougher.state.floatbank10_a_level                   14148 non-null  float64\n",
            " 55  rougher.state.floatbank10_b_air                     14148 non-null  float64\n",
            " 56  rougher.state.floatbank10_b_level                   14148 non-null  float64\n",
            " 57  rougher.state.floatbank10_c_air                     14148 non-null  float64\n",
            " 58  rougher.state.floatbank10_c_level                   14148 non-null  float64\n",
            " 59  rougher.state.floatbank10_d_air                     14149 non-null  float64\n",
            " 60  rougher.state.floatbank10_d_level                   14149 non-null  float64\n",
            " 61  rougher.state.floatbank10_e_air                     13713 non-null  float64\n",
            " 62  rougher.state.floatbank10_e_level                   14149 non-null  float64\n",
            " 63  rougher.state.floatbank10_f_air                     14149 non-null  float64\n",
            " 64  rougher.state.floatbank10_f_level                   14149 non-null  float64\n",
            " 65  secondary_cleaner.output.tail_ag                    14147 non-null  float64\n",
            " 66  secondary_cleaner.output.tail_pb                    14139 non-null  float64\n",
            " 67  secondary_cleaner.output.tail_sol                   12544 non-null  float64\n",
            " 68  secondary_cleaner.output.tail_au                    14149 non-null  float64\n",
            " 69  secondary_cleaner.state.floatbank2_a_air            13932 non-null  float64\n",
            " 70  secondary_cleaner.state.floatbank2_a_level          14148 non-null  float64\n",
            " 71  secondary_cleaner.state.floatbank2_b_air            14128 non-null  float64\n",
            " 72  secondary_cleaner.state.floatbank2_b_level          14148 non-null  float64\n",
            " 73  secondary_cleaner.state.floatbank3_a_air            14145 non-null  float64\n",
            " 74  secondary_cleaner.state.floatbank3_a_level          14148 non-null  float64\n",
            " 75  secondary_cleaner.state.floatbank3_b_air            14148 non-null  float64\n",
            " 76  secondary_cleaner.state.floatbank3_b_level          14148 non-null  float64\n",
            " 77  secondary_cleaner.state.floatbank4_a_air            14143 non-null  float64\n",
            " 78  secondary_cleaner.state.floatbank4_a_level          14148 non-null  float64\n",
            " 79  secondary_cleaner.state.floatbank4_b_air            14148 non-null  float64\n",
            " 80  secondary_cleaner.state.floatbank4_b_level          14148 non-null  float64\n",
            " 81  secondary_cleaner.state.floatbank5_a_air            14148 non-null  float64\n",
            " 82  secondary_cleaner.state.floatbank5_a_level          14148 non-null  float64\n",
            " 83  secondary_cleaner.state.floatbank5_b_air            14148 non-null  float64\n",
            " 84  secondary_cleaner.state.floatbank5_b_level          14148 non-null  float64\n",
            " 85  secondary_cleaner.state.floatbank6_a_air            14147 non-null  float64\n",
            " 86  secondary_cleaner.state.floatbank6_a_level          14148 non-null  float64\n",
            "dtypes: float64(86), object(1)\n",
            "memory usage: 9.4+ MB\n",
            "None\n",
            "--------------------------\n"
          ]
        },
        {
          "output_type": "display_data",
          "data": {
            "text/plain": [
              "                  date  primary_cleaner.input.sulfate  \\\n",
              "0  2016-09-01 00:59:59                     210.800909   \n",
              "1  2016-09-01 01:59:59                     215.392455   \n",
              "2  2016-09-01 02:59:59                     215.259946   \n",
              "3  2016-09-01 03:59:59                     215.336236   \n",
              "4  2016-09-01 04:59:59                     199.099327   \n",
              "\n",
              "   primary_cleaner.input.depressant  primary_cleaner.input.feed_size  \\\n",
              "0                         14.993118                         8.080000   \n",
              "1                         14.987471                         8.080000   \n",
              "2                         12.884934                         7.786667   \n",
              "3                         12.006805                         7.640000   \n",
              "4                         10.682530                         7.530000   \n",
              "\n",
              "   primary_cleaner.input.xanthate  primary_cleaner.state.floatbank8_a_air  \\\n",
              "0                        1.005021                             1398.981301   \n",
              "1                        0.990469                             1398.777912   \n",
              "2                        0.996043                             1398.493666   \n",
              "3                        0.863514                             1399.618111   \n",
              "4                        0.805575                             1401.268123   \n",
              "\n",
              "   primary_cleaner.state.floatbank8_a_level  \\\n",
              "0                               -500.225577   \n",
              "1                               -500.057435   \n",
              "2                               -500.868360   \n",
              "3                               -498.863574   \n",
              "4                               -500.808305   \n",
              "\n",
              "   primary_cleaner.state.floatbank8_b_air  \\\n",
              "0                             1399.144926   \n",
              "1                             1398.055362   \n",
              "2                             1398.860436   \n",
              "3                             1397.440120   \n",
              "4                             1398.128818   \n",
              "\n",
              "   primary_cleaner.state.floatbank8_b_level  \\\n",
              "0                               -499.919735   \n",
              "1                               -499.778182   \n",
              "2                               -499.764529   \n",
              "3                               -499.211024   \n",
              "4                               -499.504543   \n",
              "\n",
              "   primary_cleaner.state.floatbank8_c_air  \\\n",
              "0                             1400.102998   \n",
              "1                             1396.151033   \n",
              "2                             1398.075709   \n",
              "3                             1400.129303   \n",
              "4                             1402.172226   \n",
              "\n",
              "   primary_cleaner.state.floatbank8_c_level  \\\n",
              "0                               -500.704369   \n",
              "1                               -499.240168   \n",
              "2                               -502.151509   \n",
              "3                               -498.355873   \n",
              "4                               -500.810606   \n",
              "\n",
              "   primary_cleaner.state.floatbank8_d_air  \\\n",
              "0                             1399.001695   \n",
              "1                             1399.508091   \n",
              "2                             1399.497088   \n",
              "3                             1401.065165   \n",
              "4                             1399.480508   \n",
              "\n",
              "   primary_cleaner.state.floatbank8_d_level  rougher.input.feed_ag  \\\n",
              "0                               -499.485144              13.128569   \n",
              "1                               -500.416324              13.036280   \n",
              "2                               -499.715479              13.138412   \n",
              "3                               -501.038738              12.400507   \n",
              "4                               -499.374053              11.327427   \n",
              "\n",
              "   rougher.input.feed_pb  rougher.input.feed_rate  rougher.input.feed_size  \\\n",
              "0               5.636710               489.793655                62.710452   \n",
              "1               5.526065               490.104534                61.961163   \n",
              "2               5.426561               489.617969                66.903807   \n",
              "3               5.114758               476.618130                59.865919   \n",
              "4               4.767383               488.248117                63.315324   \n",
              "\n",
              "   rougher.input.feed_sol  rougher.input.feed_au  \\\n",
              "0               42.022440              12.084103   \n",
              "1               41.187903              11.918977   \n",
              "2               42.546294              12.091332   \n",
              "3               41.060195              12.181597   \n",
              "4               41.269161              11.290425   \n",
              "\n",
              "   rougher.input.floatbank10_sulfate  rougher.input.floatbank10_xanthate  \\\n",
              "0                          16.922877                            6.153479   \n",
              "1                          17.002532                            5.999043   \n",
              "2                          16.992520                            5.850632   \n",
              "3                          16.532144                            5.801935   \n",
              "4                          13.607257                            5.738081   \n",
              "\n",
              "   rougher.input.floatbank11_sulfate  rougher.input.floatbank11_xanthate  \\\n",
              "0                          16.867518                            6.150709   \n",
              "1                          16.996063                            6.002315   \n",
              "2                          16.982096                            5.853594   \n",
              "3                          16.515277                            5.803657   \n",
              "4                          13.650053                            5.739634   \n",
              "\n",
              "   rougher.state.floatbank10_a_air  rougher.state.floatbank10_a_level  \\\n",
              "0                      1001.849317                        -350.301265   \n",
              "1                       998.690785                        -350.425704   \n",
              "2                       998.516720                        -349.783538   \n",
              "3                      1000.276604                        -350.172597   \n",
              "4                       996.541302                        -350.562517   \n",
              "\n",
              "   rougher.state.floatbank10_b_air  rougher.state.floatbank10_b_level  \\\n",
              "0                      1249.738612                        -399.107531   \n",
              "1                      1248.395457                        -399.946025   \n",
              "2                      1247.440748                        -400.264330   \n",
              "3                      1251.322675                        -398.655289   \n",
              "4                      1304.658848                        -399.511519   \n",
              "\n",
              "   rougher.state.floatbank10_c_air  rougher.state.floatbank10_c_level  \\\n",
              "0                      1249.750520                        -399.396730   \n",
              "1                      1249.514451                        -399.630810   \n",
              "2                      1248.207204                        -401.074405   \n",
              "3                      1250.493702                        -399.746728   \n",
              "4                      1306.455515                        -399.050685   \n",
              "\n",
              "   rougher.state.floatbank10_d_air  rougher.state.floatbank10_d_level  \\\n",
              "0                      1198.287855                        -399.488594   \n",
              "1                      1200.506459                        -399.942434   \n",
              "2                      1199.770026                        -400.790582   \n",
              "3                      1199.398691                        -397.503052   \n",
              "4                      1248.699349                        -400.876894   \n",
              "\n",
              "   rougher.state.floatbank10_e_air  rougher.state.floatbank10_e_level  \\\n",
              "0                       999.472250                        -399.530962   \n",
              "1                      1000.002114                        -399.491528   \n",
              "2                       999.925519                        -399.236999   \n",
              "3                      1001.930679                        -400.437573   \n",
              "4                      1058.839106                        -398.988239   \n",
              "\n",
              "   rougher.state.floatbank10_f_air  rougher.state.floatbank10_f_level  \\\n",
              "0                       949.566189                        -398.180807   \n",
              "1                       950.200009                        -405.787514   \n",
              "2                       950.320481                        -400.864340   \n",
              "3                       950.735324                        -399.802986   \n",
              "4                       949.645313                        -399.277632   \n",
              "\n",
              "   secondary_cleaner.state.floatbank2_a_air  \\\n",
              "0                                 24.938200   \n",
              "1                                 24.923466   \n",
              "2                                 24.908732   \n",
              "3                                 24.893998   \n",
              "4                                 24.886905   \n",
              "\n",
              "   secondary_cleaner.state.floatbank2_a_level  \\\n",
              "0                                 -500.490963   \n",
              "1                                 -499.813963   \n",
              "2                                 -500.304035   \n",
              "3                                 -499.382374   \n",
              "4                                 -499.357375   \n",
              "\n",
              "   secondary_cleaner.state.floatbank2_b_air  \\\n",
              "0                                 14.947607   \n",
              "1                                 14.930873   \n",
              "2                                 14.996511   \n",
              "3                                 14.916674   \n",
              "4                                 14.979233   \n",
              "\n",
              "   secondary_cleaner.state.floatbank2_b_level  \\\n",
              "0                                 -500.013837   \n",
              "1                                 -500.764452   \n",
              "2                                 -500.993821   \n",
              "3                                 -499.862299   \n",
              "4                                 -500.186804   \n",
              "\n",
              "   secondary_cleaner.state.floatbank3_a_air  \\\n",
              "0                                 20.018166   \n",
              "1                                 19.988503   \n",
              "2                                 20.039689   \n",
              "3                                 20.031100   \n",
              "4                                 19.962364   \n",
              "\n",
              "   secondary_cleaner.state.floatbank3_a_level  \\\n",
              "0                                 -450.395995   \n",
              "1                                 -450.114024   \n",
              "2                                 -450.263164   \n",
              "3                                 -449.372570   \n",
              "4                                 -450.638828   \n",
              "\n",
              "   secondary_cleaner.state.floatbank3_b_air  \\\n",
              "0                                 13.987058   \n",
              "1                                 14.092981   \n",
              "2                                 14.077881   \n",
              "3                                 14.013968   \n",
              "4                                 14.009245   \n",
              "\n",
              "   secondary_cleaner.state.floatbank3_b_level  \\\n",
              "0                                 -449.831513   \n",
              "1                                 -450.059163   \n",
              "2                                 -449.660997   \n",
              "3                                 -449.526900   \n",
              "4                                 -450.022259   \n",
              "\n",
              "   secondary_cleaner.state.floatbank4_a_air  \\\n",
              "0                                 12.023554   \n",
              "1                                 12.058140   \n",
              "2                                 11.962366   \n",
              "3                                 12.033091   \n",
              "4                                 12.025367   \n",
              "\n",
              "   secondary_cleaner.state.floatbank4_a_level  \\\n",
              "0                                 -497.795834   \n",
              "1                                 -498.695773   \n",
              "2                                 -498.767484   \n",
              "3                                 -498.350935   \n",
              "4                                 -500.786497   \n",
              "\n",
              "   secondary_cleaner.state.floatbank4_b_air  \\\n",
              "0                                  8.016656   \n",
              "1                                  8.130979   \n",
              "2                                  8.096893   \n",
              "3                                  8.074946   \n",
              "4                                  8.054678   \n",
              "\n",
              "   secondary_cleaner.state.floatbank4_b_level  \\\n",
              "0                                 -501.289139   \n",
              "1                                 -499.634209   \n",
              "2                                 -500.827423   \n",
              "3                                 -499.474407   \n",
              "4                                 -500.397500   \n",
              "\n",
              "   secondary_cleaner.state.floatbank5_a_air  \\\n",
              "0                                  7.946562   \n",
              "1                                  7.958270   \n",
              "2                                  8.071056   \n",
              "3                                  7.897085   \n",
              "4                                  8.107890   \n",
              "\n",
              "   secondary_cleaner.state.floatbank5_a_level  \\\n",
              "0                                 -432.317850   \n",
              "1                                 -525.839648   \n",
              "2                                 -500.801673   \n",
              "3                                 -500.868509   \n",
              "4                                 -509.526725   \n",
              "\n",
              "   secondary_cleaner.state.floatbank5_b_air  \\\n",
              "0                                  4.872511   \n",
              "1                                  4.878850   \n",
              "2                                  4.905125   \n",
              "3                                  4.931400   \n",
              "4                                  4.957674   \n",
              "\n",
              "   secondary_cleaner.state.floatbank5_b_level  \\\n",
              "0                                 -500.037437   \n",
              "1                                 -500.162375   \n",
              "2                                 -499.828510   \n",
              "3                                 -499.963623   \n",
              "4                                 -500.360026   \n",
              "\n",
              "   secondary_cleaner.state.floatbank6_a_air  \\\n",
              "0                                 26.705889   \n",
              "1                                 25.019940   \n",
              "2                                 24.994862   \n",
              "3                                 24.948919   \n",
              "4                                 25.003331   \n",
              "\n",
              "   secondary_cleaner.state.floatbank6_a_level  \n",
              "0                                 -499.709414  \n",
              "1                                 -499.819438  \n",
              "2                                 -500.622559  \n",
              "3                                 -498.709987  \n",
              "4                                 -500.856333  "
            ],
            "text/html": [
              "\n",
              "  <div id=\"df-7c8e7474-7d8a-4105-a6d1-778e4d59c612\">\n",
              "    <div class=\"colab-df-container\">\n",
              "      <div>\n",
              "<style scoped>\n",
              "    .dataframe tbody tr th:only-of-type {\n",
              "        vertical-align: middle;\n",
              "    }\n",
              "\n",
              "    .dataframe tbody tr th {\n",
              "        vertical-align: top;\n",
              "    }\n",
              "\n",
              "    .dataframe thead th {\n",
              "        text-align: right;\n",
              "    }\n",
              "</style>\n",
              "<table border=\"1\" class=\"dataframe\">\n",
              "  <thead>\n",
              "    <tr style=\"text-align: right;\">\n",
              "      <th></th>\n",
              "      <th>date</th>\n",
              "      <th>primary_cleaner.input.sulfate</th>\n",
              "      <th>primary_cleaner.input.depressant</th>\n",
              "      <th>primary_cleaner.input.feed_size</th>\n",
              "      <th>primary_cleaner.input.xanthate</th>\n",
              "      <th>primary_cleaner.state.floatbank8_a_air</th>\n",
              "      <th>primary_cleaner.state.floatbank8_a_level</th>\n",
              "      <th>primary_cleaner.state.floatbank8_b_air</th>\n",
              "      <th>primary_cleaner.state.floatbank8_b_level</th>\n",
              "      <th>primary_cleaner.state.floatbank8_c_air</th>\n",
              "      <th>primary_cleaner.state.floatbank8_c_level</th>\n",
              "      <th>primary_cleaner.state.floatbank8_d_air</th>\n",
              "      <th>primary_cleaner.state.floatbank8_d_level</th>\n",
              "      <th>rougher.input.feed_ag</th>\n",
              "      <th>rougher.input.feed_pb</th>\n",
              "      <th>rougher.input.feed_rate</th>\n",
              "      <th>rougher.input.feed_size</th>\n",
              "      <th>rougher.input.feed_sol</th>\n",
              "      <th>rougher.input.feed_au</th>\n",
              "      <th>rougher.input.floatbank10_sulfate</th>\n",
              "      <th>rougher.input.floatbank10_xanthate</th>\n",
              "      <th>rougher.input.floatbank11_sulfate</th>\n",
              "      <th>rougher.input.floatbank11_xanthate</th>\n",
              "      <th>rougher.state.floatbank10_a_air</th>\n",
              "      <th>rougher.state.floatbank10_a_level</th>\n",
              "      <th>rougher.state.floatbank10_b_air</th>\n",
              "      <th>rougher.state.floatbank10_b_level</th>\n",
              "      <th>rougher.state.floatbank10_c_air</th>\n",
              "      <th>rougher.state.floatbank10_c_level</th>\n",
              "      <th>rougher.state.floatbank10_d_air</th>\n",
              "      <th>rougher.state.floatbank10_d_level</th>\n",
              "      <th>rougher.state.floatbank10_e_air</th>\n",
              "      <th>rougher.state.floatbank10_e_level</th>\n",
              "      <th>rougher.state.floatbank10_f_air</th>\n",
              "      <th>rougher.state.floatbank10_f_level</th>\n",
              "      <th>secondary_cleaner.state.floatbank2_a_air</th>\n",
              "      <th>secondary_cleaner.state.floatbank2_a_level</th>\n",
              "      <th>secondary_cleaner.state.floatbank2_b_air</th>\n",
              "      <th>secondary_cleaner.state.floatbank2_b_level</th>\n",
              "      <th>secondary_cleaner.state.floatbank3_a_air</th>\n",
              "      <th>secondary_cleaner.state.floatbank3_a_level</th>\n",
              "      <th>secondary_cleaner.state.floatbank3_b_air</th>\n",
              "      <th>secondary_cleaner.state.floatbank3_b_level</th>\n",
              "      <th>secondary_cleaner.state.floatbank4_a_air</th>\n",
              "      <th>secondary_cleaner.state.floatbank4_a_level</th>\n",
              "      <th>secondary_cleaner.state.floatbank4_b_air</th>\n",
              "      <th>secondary_cleaner.state.floatbank4_b_level</th>\n",
              "      <th>secondary_cleaner.state.floatbank5_a_air</th>\n",
              "      <th>secondary_cleaner.state.floatbank5_a_level</th>\n",
              "      <th>secondary_cleaner.state.floatbank5_b_air</th>\n",
              "      <th>secondary_cleaner.state.floatbank5_b_level</th>\n",
              "      <th>secondary_cleaner.state.floatbank6_a_air</th>\n",
              "      <th>secondary_cleaner.state.floatbank6_a_level</th>\n",
              "    </tr>\n",
              "  </thead>\n",
              "  <tbody>\n",
              "    <tr>\n",
              "      <th>0</th>\n",
              "      <td>2016-09-01 00:59:59</td>\n",
              "      <td>210.800909</td>\n",
              "      <td>14.993118</td>\n",
              "      <td>8.080000</td>\n",
              "      <td>1.005021</td>\n",
              "      <td>1398.981301</td>\n",
              "      <td>-500.225577</td>\n",
              "      <td>1399.144926</td>\n",
              "      <td>-499.919735</td>\n",
              "      <td>1400.102998</td>\n",
              "      <td>-500.704369</td>\n",
              "      <td>1399.001695</td>\n",
              "      <td>-499.485144</td>\n",
              "      <td>13.128569</td>\n",
              "      <td>5.636710</td>\n",
              "      <td>489.793655</td>\n",
              "      <td>62.710452</td>\n",
              "      <td>42.022440</td>\n",
              "      <td>12.084103</td>\n",
              "      <td>16.922877</td>\n",
              "      <td>6.153479</td>\n",
              "      <td>16.867518</td>\n",
              "      <td>6.150709</td>\n",
              "      <td>1001.849317</td>\n",
              "      <td>-350.301265</td>\n",
              "      <td>1249.738612</td>\n",
              "      <td>-399.107531</td>\n",
              "      <td>1249.750520</td>\n",
              "      <td>-399.396730</td>\n",
              "      <td>1198.287855</td>\n",
              "      <td>-399.488594</td>\n",
              "      <td>999.472250</td>\n",
              "      <td>-399.530962</td>\n",
              "      <td>949.566189</td>\n",
              "      <td>-398.180807</td>\n",
              "      <td>24.938200</td>\n",
              "      <td>-500.490963</td>\n",
              "      <td>14.947607</td>\n",
              "      <td>-500.013837</td>\n",
              "      <td>20.018166</td>\n",
              "      <td>-450.395995</td>\n",
              "      <td>13.987058</td>\n",
              "      <td>-449.831513</td>\n",
              "      <td>12.023554</td>\n",
              "      <td>-497.795834</td>\n",
              "      <td>8.016656</td>\n",
              "      <td>-501.289139</td>\n",
              "      <td>7.946562</td>\n",
              "      <td>-432.317850</td>\n",
              "      <td>4.872511</td>\n",
              "      <td>-500.037437</td>\n",
              "      <td>26.705889</td>\n",
              "      <td>-499.709414</td>\n",
              "    </tr>\n",
              "    <tr>\n",
              "      <th>1</th>\n",
              "      <td>2016-09-01 01:59:59</td>\n",
              "      <td>215.392455</td>\n",
              "      <td>14.987471</td>\n",
              "      <td>8.080000</td>\n",
              "      <td>0.990469</td>\n",
              "      <td>1398.777912</td>\n",
              "      <td>-500.057435</td>\n",
              "      <td>1398.055362</td>\n",
              "      <td>-499.778182</td>\n",
              "      <td>1396.151033</td>\n",
              "      <td>-499.240168</td>\n",
              "      <td>1399.508091</td>\n",
              "      <td>-500.416324</td>\n",
              "      <td>13.036280</td>\n",
              "      <td>5.526065</td>\n",
              "      <td>490.104534</td>\n",
              "      <td>61.961163</td>\n",
              "      <td>41.187903</td>\n",
              "      <td>11.918977</td>\n",
              "      <td>17.002532</td>\n",
              "      <td>5.999043</td>\n",
              "      <td>16.996063</td>\n",
              "      <td>6.002315</td>\n",
              "      <td>998.690785</td>\n",
              "      <td>-350.425704</td>\n",
              "      <td>1248.395457</td>\n",
              "      <td>-399.946025</td>\n",
              "      <td>1249.514451</td>\n",
              "      <td>-399.630810</td>\n",
              "      <td>1200.506459</td>\n",
              "      <td>-399.942434</td>\n",
              "      <td>1000.002114</td>\n",
              "      <td>-399.491528</td>\n",
              "      <td>950.200009</td>\n",
              "      <td>-405.787514</td>\n",
              "      <td>24.923466</td>\n",
              "      <td>-499.813963</td>\n",
              "      <td>14.930873</td>\n",
              "      <td>-500.764452</td>\n",
              "      <td>19.988503</td>\n",
              "      <td>-450.114024</td>\n",
              "      <td>14.092981</td>\n",
              "      <td>-450.059163</td>\n",
              "      <td>12.058140</td>\n",
              "      <td>-498.695773</td>\n",
              "      <td>8.130979</td>\n",
              "      <td>-499.634209</td>\n",
              "      <td>7.958270</td>\n",
              "      <td>-525.839648</td>\n",
              "      <td>4.878850</td>\n",
              "      <td>-500.162375</td>\n",
              "      <td>25.019940</td>\n",
              "      <td>-499.819438</td>\n",
              "    </tr>\n",
              "    <tr>\n",
              "      <th>2</th>\n",
              "      <td>2016-09-01 02:59:59</td>\n",
              "      <td>215.259946</td>\n",
              "      <td>12.884934</td>\n",
              "      <td>7.786667</td>\n",
              "      <td>0.996043</td>\n",
              "      <td>1398.493666</td>\n",
              "      <td>-500.868360</td>\n",
              "      <td>1398.860436</td>\n",
              "      <td>-499.764529</td>\n",
              "      <td>1398.075709</td>\n",
              "      <td>-502.151509</td>\n",
              "      <td>1399.497088</td>\n",
              "      <td>-499.715479</td>\n",
              "      <td>13.138412</td>\n",
              "      <td>5.426561</td>\n",
              "      <td>489.617969</td>\n",
              "      <td>66.903807</td>\n",
              "      <td>42.546294</td>\n",
              "      <td>12.091332</td>\n",
              "      <td>16.992520</td>\n",
              "      <td>5.850632</td>\n",
              "      <td>16.982096</td>\n",
              "      <td>5.853594</td>\n",
              "      <td>998.516720</td>\n",
              "      <td>-349.783538</td>\n",
              "      <td>1247.440748</td>\n",
              "      <td>-400.264330</td>\n",
              "      <td>1248.207204</td>\n",
              "      <td>-401.074405</td>\n",
              "      <td>1199.770026</td>\n",
              "      <td>-400.790582</td>\n",
              "      <td>999.925519</td>\n",
              "      <td>-399.236999</td>\n",
              "      <td>950.320481</td>\n",
              "      <td>-400.864340</td>\n",
              "      <td>24.908732</td>\n",
              "      <td>-500.304035</td>\n",
              "      <td>14.996511</td>\n",
              "      <td>-500.993821</td>\n",
              "      <td>20.039689</td>\n",
              "      <td>-450.263164</td>\n",
              "      <td>14.077881</td>\n",
              "      <td>-449.660997</td>\n",
              "      <td>11.962366</td>\n",
              "      <td>-498.767484</td>\n",
              "      <td>8.096893</td>\n",
              "      <td>-500.827423</td>\n",
              "      <td>8.071056</td>\n",
              "      <td>-500.801673</td>\n",
              "      <td>4.905125</td>\n",
              "      <td>-499.828510</td>\n",
              "      <td>24.994862</td>\n",
              "      <td>-500.622559</td>\n",
              "    </tr>\n",
              "    <tr>\n",
              "      <th>3</th>\n",
              "      <td>2016-09-01 03:59:59</td>\n",
              "      <td>215.336236</td>\n",
              "      <td>12.006805</td>\n",
              "      <td>7.640000</td>\n",
              "      <td>0.863514</td>\n",
              "      <td>1399.618111</td>\n",
              "      <td>-498.863574</td>\n",
              "      <td>1397.440120</td>\n",
              "      <td>-499.211024</td>\n",
              "      <td>1400.129303</td>\n",
              "      <td>-498.355873</td>\n",
              "      <td>1401.065165</td>\n",
              "      <td>-501.038738</td>\n",
              "      <td>12.400507</td>\n",
              "      <td>5.114758</td>\n",
              "      <td>476.618130</td>\n",
              "      <td>59.865919</td>\n",
              "      <td>41.060195</td>\n",
              "      <td>12.181597</td>\n",
              "      <td>16.532144</td>\n",
              "      <td>5.801935</td>\n",
              "      <td>16.515277</td>\n",
              "      <td>5.803657</td>\n",
              "      <td>1000.276604</td>\n",
              "      <td>-350.172597</td>\n",
              "      <td>1251.322675</td>\n",
              "      <td>-398.655289</td>\n",
              "      <td>1250.493702</td>\n",
              "      <td>-399.746728</td>\n",
              "      <td>1199.398691</td>\n",
              "      <td>-397.503052</td>\n",
              "      <td>1001.930679</td>\n",
              "      <td>-400.437573</td>\n",
              "      <td>950.735324</td>\n",
              "      <td>-399.802986</td>\n",
              "      <td>24.893998</td>\n",
              "      <td>-499.382374</td>\n",
              "      <td>14.916674</td>\n",
              "      <td>-499.862299</td>\n",
              "      <td>20.031100</td>\n",
              "      <td>-449.372570</td>\n",
              "      <td>14.013968</td>\n",
              "      <td>-449.526900</td>\n",
              "      <td>12.033091</td>\n",
              "      <td>-498.350935</td>\n",
              "      <td>8.074946</td>\n",
              "      <td>-499.474407</td>\n",
              "      <td>7.897085</td>\n",
              "      <td>-500.868509</td>\n",
              "      <td>4.931400</td>\n",
              "      <td>-499.963623</td>\n",
              "      <td>24.948919</td>\n",
              "      <td>-498.709987</td>\n",
              "    </tr>\n",
              "    <tr>\n",
              "      <th>4</th>\n",
              "      <td>2016-09-01 04:59:59</td>\n",
              "      <td>199.099327</td>\n",
              "      <td>10.682530</td>\n",
              "      <td>7.530000</td>\n",
              "      <td>0.805575</td>\n",
              "      <td>1401.268123</td>\n",
              "      <td>-500.808305</td>\n",
              "      <td>1398.128818</td>\n",
              "      <td>-499.504543</td>\n",
              "      <td>1402.172226</td>\n",
              "      <td>-500.810606</td>\n",
              "      <td>1399.480508</td>\n",
              "      <td>-499.374053</td>\n",
              "      <td>11.327427</td>\n",
              "      <td>4.767383</td>\n",
              "      <td>488.248117</td>\n",
              "      <td>63.315324</td>\n",
              "      <td>41.269161</td>\n",
              "      <td>11.290425</td>\n",
              "      <td>13.607257</td>\n",
              "      <td>5.738081</td>\n",
              "      <td>13.650053</td>\n",
              "      <td>5.739634</td>\n",
              "      <td>996.541302</td>\n",
              "      <td>-350.562517</td>\n",
              "      <td>1304.658848</td>\n",
              "      <td>-399.511519</td>\n",
              "      <td>1306.455515</td>\n",
              "      <td>-399.050685</td>\n",
              "      <td>1248.699349</td>\n",
              "      <td>-400.876894</td>\n",
              "      <td>1058.839106</td>\n",
              "      <td>-398.988239</td>\n",
              "      <td>949.645313</td>\n",
              "      <td>-399.277632</td>\n",
              "      <td>24.886905</td>\n",
              "      <td>-499.357375</td>\n",
              "      <td>14.979233</td>\n",
              "      <td>-500.186804</td>\n",
              "      <td>19.962364</td>\n",
              "      <td>-450.638828</td>\n",
              "      <td>14.009245</td>\n",
              "      <td>-450.022259</td>\n",
              "      <td>12.025367</td>\n",
              "      <td>-500.786497</td>\n",
              "      <td>8.054678</td>\n",
              "      <td>-500.397500</td>\n",
              "      <td>8.107890</td>\n",
              "      <td>-509.526725</td>\n",
              "      <td>4.957674</td>\n",
              "      <td>-500.360026</td>\n",
              "      <td>25.003331</td>\n",
              "      <td>-500.856333</td>\n",
              "    </tr>\n",
              "  </tbody>\n",
              "</table>\n",
              "</div>\n",
              "      <button class=\"colab-df-convert\" onclick=\"convertToInteractive('df-7c8e7474-7d8a-4105-a6d1-778e4d59c612')\"\n",
              "              title=\"Convert this dataframe to an interactive table.\"\n",
              "              style=\"display:none;\">\n",
              "        \n",
              "  <svg xmlns=\"http://www.w3.org/2000/svg\" height=\"24px\"viewBox=\"0 0 24 24\"\n",
              "       width=\"24px\">\n",
              "    <path d=\"M0 0h24v24H0V0z\" fill=\"none\"/>\n",
              "    <path d=\"M18.56 5.44l.94 2.06.94-2.06 2.06-.94-2.06-.94-.94-2.06-.94 2.06-2.06.94zm-11 1L8.5 8.5l.94-2.06 2.06-.94-2.06-.94L8.5 2.5l-.94 2.06-2.06.94zm10 10l.94 2.06.94-2.06 2.06-.94-2.06-.94-.94-2.06-.94 2.06-2.06.94z\"/><path d=\"M17.41 7.96l-1.37-1.37c-.4-.4-.92-.59-1.43-.59-.52 0-1.04.2-1.43.59L10.3 9.45l-7.72 7.72c-.78.78-.78 2.05 0 2.83L4 21.41c.39.39.9.59 1.41.59.51 0 1.02-.2 1.41-.59l7.78-7.78 2.81-2.81c.8-.78.8-2.07 0-2.86zM5.41 20L4 18.59l7.72-7.72 1.47 1.35L5.41 20z\"/>\n",
              "  </svg>\n",
              "      </button>\n",
              "      \n",
              "  <style>\n",
              "    .colab-df-container {\n",
              "      display:flex;\n",
              "      flex-wrap:wrap;\n",
              "      gap: 12px;\n",
              "    }\n",
              "\n",
              "    .colab-df-convert {\n",
              "      background-color: #E8F0FE;\n",
              "      border: none;\n",
              "      border-radius: 50%;\n",
              "      cursor: pointer;\n",
              "      display: none;\n",
              "      fill: #1967D2;\n",
              "      height: 32px;\n",
              "      padding: 0 0 0 0;\n",
              "      width: 32px;\n",
              "    }\n",
              "\n",
              "    .colab-df-convert:hover {\n",
              "      background-color: #E2EBFA;\n",
              "      box-shadow: 0px 1px 2px rgba(60, 64, 67, 0.3), 0px 1px 3px 1px rgba(60, 64, 67, 0.15);\n",
              "      fill: #174EA6;\n",
              "    }\n",
              "\n",
              "    [theme=dark] .colab-df-convert {\n",
              "      background-color: #3B4455;\n",
              "      fill: #D2E3FC;\n",
              "    }\n",
              "\n",
              "    [theme=dark] .colab-df-convert:hover {\n",
              "      background-color: #434B5C;\n",
              "      box-shadow: 0px 1px 3px 1px rgba(0, 0, 0, 0.15);\n",
              "      filter: drop-shadow(0px 1px 2px rgba(0, 0, 0, 0.3));\n",
              "      fill: #FFFFFF;\n",
              "    }\n",
              "  </style>\n",
              "\n",
              "      <script>\n",
              "        const buttonEl =\n",
              "          document.querySelector('#df-7c8e7474-7d8a-4105-a6d1-778e4d59c612 button.colab-df-convert');\n",
              "        buttonEl.style.display =\n",
              "          google.colab.kernel.accessAllowed ? 'block' : 'none';\n",
              "\n",
              "        async function convertToInteractive(key) {\n",
              "          const element = document.querySelector('#df-7c8e7474-7d8a-4105-a6d1-778e4d59c612');\n",
              "          const dataTable =\n",
              "            await google.colab.kernel.invokeFunction('convertToInteractive',\n",
              "                                                     [key], {});\n",
              "          if (!dataTable) return;\n",
              "\n",
              "          const docLinkHtml = 'Like what you see? Visit the ' +\n",
              "            '<a target=\"_blank\" href=https://colab.research.google.com/notebooks/data_table.ipynb>data table notebook</a>'\n",
              "            + ' to learn more about interactive tables.';\n",
              "          element.innerHTML = '';\n",
              "          dataTable['output_type'] = 'display_data';\n",
              "          await google.colab.output.renderOutput(dataTable, element);\n",
              "          const docLink = document.createElement('div');\n",
              "          docLink.innerHTML = docLinkHtml;\n",
              "          element.appendChild(docLink);\n",
              "        }\n",
              "      </script>\n",
              "    </div>\n",
              "  </div>\n",
              "  "
            ]
          },
          "metadata": {}
        },
        {
          "output_type": "stream",
          "name": "stdout",
          "text": [
            "\n",
            "\n",
            "Shape of Original dataset: (19439, 87)\n",
            "--------------------------\n",
            "Missing values: \n",
            "\n",
            "4481\n",
            "--------------------------\n",
            "Duplicates: \n",
            "\n",
            "0\n",
            "--------------------------\n",
            "Dataframe info: \n",
            "\n",
            "<class 'pandas.core.frame.DataFrame'>\n",
            "RangeIndex: 14149 entries, 0 to 14148\n",
            "Data columns (total 87 columns):\n",
            " #   Column                                              Non-Null Count  Dtype  \n",
            "---  ------                                              --------------  -----  \n",
            " 0   date                                                14149 non-null  object \n",
            " 1   final.output.concentrate_ag                         14148 non-null  float64\n",
            " 2   final.output.concentrate_pb                         14148 non-null  float64\n",
            " 3   final.output.concentrate_sol                        13938 non-null  float64\n",
            " 4   final.output.concentrate_au                         14149 non-null  float64\n",
            " 5   final.output.recovery                               14149 non-null  float64\n",
            " 6   final.output.tail_ag                                14149 non-null  float64\n",
            " 7   final.output.tail_pb                                14049 non-null  float64\n",
            " 8   final.output.tail_sol                               14144 non-null  float64\n",
            " 9   final.output.tail_au                                14149 non-null  float64\n",
            " 10  primary_cleaner.input.sulfate                       14129 non-null  float64\n",
            " 11  primary_cleaner.input.depressant                    14117 non-null  float64\n",
            " 12  primary_cleaner.input.feed_size                     14149 non-null  float64\n",
            " 13  primary_cleaner.input.xanthate                      14049 non-null  float64\n",
            " 14  primary_cleaner.output.concentrate_ag               14149 non-null  float64\n",
            " 15  primary_cleaner.output.concentrate_pb               14063 non-null  float64\n",
            " 16  primary_cleaner.output.concentrate_sol              13863 non-null  float64\n",
            " 17  primary_cleaner.output.concentrate_au               14149 non-null  float64\n",
            " 18  primary_cleaner.output.tail_ag                      14148 non-null  float64\n",
            " 19  primary_cleaner.output.tail_pb                      14134 non-null  float64\n",
            " 20  primary_cleaner.output.tail_sol                     14103 non-null  float64\n",
            " 21  primary_cleaner.output.tail_au                      14149 non-null  float64\n",
            " 22  primary_cleaner.state.floatbank8_a_air              14145 non-null  float64\n",
            " 23  primary_cleaner.state.floatbank8_a_level            14148 non-null  float64\n",
            " 24  primary_cleaner.state.floatbank8_b_air              14145 non-null  float64\n",
            " 25  primary_cleaner.state.floatbank8_b_level            14148 non-null  float64\n",
            " 26  primary_cleaner.state.floatbank8_c_air              14147 non-null  float64\n",
            " 27  primary_cleaner.state.floatbank8_c_level            14148 non-null  float64\n",
            " 28  primary_cleaner.state.floatbank8_d_air              14146 non-null  float64\n",
            " 29  primary_cleaner.state.floatbank8_d_level            14148 non-null  float64\n",
            " 30  rougher.calculation.sulfate_to_au_concentrate       14148 non-null  float64\n",
            " 31  rougher.calculation.floatbank10_sulfate_to_au_feed  14148 non-null  float64\n",
            " 32  rougher.calculation.floatbank11_sulfate_to_au_feed  14148 non-null  float64\n",
            " 33  rougher.calculation.au_pb_ratio                     14149 non-null  float64\n",
            " 34  rougher.input.feed_ag                               14149 non-null  float64\n",
            " 35  rougher.input.feed_pb                               14049 non-null  float64\n",
            " 36  rougher.input.feed_rate                             14141 non-null  float64\n",
            " 37  rougher.input.feed_size                             14005 non-null  float64\n",
            " 38  rougher.input.feed_sol                              14071 non-null  float64\n",
            " 39  rougher.input.feed_au                               14149 non-null  float64\n",
            " 40  rougher.input.floatbank10_sulfate                   14120 non-null  float64\n",
            " 41  rougher.input.floatbank10_xanthate                  14141 non-null  float64\n",
            " 42  rougher.input.floatbank11_sulfate                   14113 non-null  float64\n",
            " 43  rougher.input.floatbank11_xanthate                  13721 non-null  float64\n",
            " 44  rougher.output.concentrate_ag                       14149 non-null  float64\n",
            " 45  rougher.output.concentrate_pb                       14149 non-null  float64\n",
            " 46  rougher.output.concentrate_sol                      14127 non-null  float64\n",
            " 47  rougher.output.concentrate_au                       14149 non-null  float64\n",
            " 48  rougher.output.recovery                             14149 non-null  float64\n",
            " 49  rougher.output.tail_ag                              14148 non-null  float64\n",
            " 50  rougher.output.tail_pb                              14149 non-null  float64\n",
            " 51  rougher.output.tail_sol                             14149 non-null  float64\n",
            " 52  rougher.output.tail_au                              14149 non-null  float64\n",
            " 53  rougher.state.floatbank10_a_air                     14148 non-null  float64\n",
            " 54  rougher.state.floatbank10_a_level                   14148 non-null  float64\n",
            " 55  rougher.state.floatbank10_b_air                     14148 non-null  float64\n",
            " 56  rougher.state.floatbank10_b_level                   14148 non-null  float64\n",
            " 57  rougher.state.floatbank10_c_air                     14148 non-null  float64\n",
            " 58  rougher.state.floatbank10_c_level                   14148 non-null  float64\n",
            " 59  rougher.state.floatbank10_d_air                     14149 non-null  float64\n",
            " 60  rougher.state.floatbank10_d_level                   14149 non-null  float64\n",
            " 61  rougher.state.floatbank10_e_air                     13713 non-null  float64\n",
            " 62  rougher.state.floatbank10_e_level                   14149 non-null  float64\n",
            " 63  rougher.state.floatbank10_f_air                     14149 non-null  float64\n",
            " 64  rougher.state.floatbank10_f_level                   14149 non-null  float64\n",
            " 65  secondary_cleaner.output.tail_ag                    14147 non-null  float64\n",
            " 66  secondary_cleaner.output.tail_pb                    14139 non-null  float64\n",
            " 67  secondary_cleaner.output.tail_sol                   12544 non-null  float64\n",
            " 68  secondary_cleaner.output.tail_au                    14149 non-null  float64\n",
            " 69  secondary_cleaner.state.floatbank2_a_air            13932 non-null  float64\n",
            " 70  secondary_cleaner.state.floatbank2_a_level          14148 non-null  float64\n",
            " 71  secondary_cleaner.state.floatbank2_b_air            14128 non-null  float64\n",
            " 72  secondary_cleaner.state.floatbank2_b_level          14148 non-null  float64\n",
            " 73  secondary_cleaner.state.floatbank3_a_air            14145 non-null  float64\n",
            " 74  secondary_cleaner.state.floatbank3_a_level          14148 non-null  float64\n",
            " 75  secondary_cleaner.state.floatbank3_b_air            14148 non-null  float64\n",
            " 76  secondary_cleaner.state.floatbank3_b_level          14148 non-null  float64\n",
            " 77  secondary_cleaner.state.floatbank4_a_air            14143 non-null  float64\n",
            " 78  secondary_cleaner.state.floatbank4_a_level          14148 non-null  float64\n",
            " 79  secondary_cleaner.state.floatbank4_b_air            14148 non-null  float64\n",
            " 80  secondary_cleaner.state.floatbank4_b_level          14148 non-null  float64\n",
            " 81  secondary_cleaner.state.floatbank5_a_air            14148 non-null  float64\n",
            " 82  secondary_cleaner.state.floatbank5_a_level          14148 non-null  float64\n",
            " 83  secondary_cleaner.state.floatbank5_b_air            14148 non-null  float64\n",
            " 84  secondary_cleaner.state.floatbank5_b_level          14148 non-null  float64\n",
            " 85  secondary_cleaner.state.floatbank6_a_air            14147 non-null  float64\n",
            " 86  secondary_cleaner.state.floatbank6_a_level          14148 non-null  float64\n",
            "dtypes: float64(86), object(1)\n",
            "memory usage: 9.4+ MB\n",
            "None\n",
            "--------------------------\n"
          ]
        },
        {
          "output_type": "display_data",
          "data": {
            "text/plain": [
              "                  date  final.output.concentrate_ag  \\\n",
              "0  2016-01-15 00:00:00                     6.055403   \n",
              "1  2016-01-15 01:00:00                     6.029369   \n",
              "2  2016-01-15 02:00:00                     6.055926   \n",
              "3  2016-01-15 03:00:00                     6.047977   \n",
              "4  2016-01-15 04:00:00                     6.148599   \n",
              "\n",
              "   final.output.concentrate_pb  final.output.concentrate_sol  \\\n",
              "0                     9.889648                      5.507324   \n",
              "1                     9.968944                      5.257781   \n",
              "2                    10.213995                      5.383759   \n",
              "3                     9.977019                      4.858634   \n",
              "4                    10.142511                      4.939416   \n",
              "\n",
              "   final.output.concentrate_au  final.output.recovery  final.output.tail_ag  \\\n",
              "0                    42.192020              70.541216             10.411962   \n",
              "1                    42.701629              69.266198             10.462676   \n",
              "2                    42.657501              68.116445             10.507046   \n",
              "3                    42.689819              68.347543             10.422762   \n",
              "4                    42.774141              66.927016             10.360302   \n",
              "\n",
              "   final.output.tail_pb  final.output.tail_sol  final.output.tail_au  \\\n",
              "0              0.895447              16.904297              2.143149   \n",
              "1              0.927452              16.634514              2.224930   \n",
              "2              0.953716              16.208849              2.257889   \n",
              "3              0.883763              16.532835              2.146849   \n",
              "4              0.792826              16.525686              2.055292   \n",
              "\n",
              "   primary_cleaner.input.sulfate  primary_cleaner.input.depressant  \\\n",
              "0                     127.092003                         10.128295   \n",
              "1                     125.629232                         10.296251   \n",
              "2                     123.819808                         11.316280   \n",
              "3                     122.270188                         11.322140   \n",
              "4                     117.988169                         11.913613   \n",
              "\n",
              "   primary_cleaner.input.feed_size  primary_cleaner.input.xanthate  \\\n",
              "0                             7.25                        0.988759   \n",
              "1                             7.25                        1.002663   \n",
              "2                             7.25                        0.991265   \n",
              "3                             7.25                        0.996739   \n",
              "4                             7.25                        1.009869   \n",
              "\n",
              "   primary_cleaner.output.concentrate_ag  \\\n",
              "0                               8.547551   \n",
              "1                               8.558743   \n",
              "2                               8.603505   \n",
              "3                               7.221879   \n",
              "4                               9.089428   \n",
              "\n",
              "   primary_cleaner.output.concentrate_pb  \\\n",
              "0                              10.389648   \n",
              "1                              10.497069   \n",
              "2                              10.354494   \n",
              "3                               8.496563   \n",
              "4                               9.986786   \n",
              "\n",
              "   primary_cleaner.output.concentrate_sol  \\\n",
              "0                               19.529297   \n",
              "1                               19.369147   \n",
              "2                               19.167579   \n",
              "3                               15.978538   \n",
              "4                               19.199864   \n",
              "\n",
              "   primary_cleaner.output.concentrate_au  primary_cleaner.output.tail_ag  \\\n",
              "0                              34.174427                       14.936526   \n",
              "1                              34.118526                       16.250511   \n",
              "2                              33.969464                       16.491823   \n",
              "3                              28.260743                       16.024359   \n",
              "4                              33.044932                       16.480185   \n",
              "\n",
              "   primary_cleaner.output.tail_pb  primary_cleaner.output.tail_sol  \\\n",
              "0                        2.534912                         7.476074   \n",
              "1                        3.049646                         6.733907   \n",
              "2                        3.124664                         6.471768   \n",
              "3                        2.960362                         6.843791   \n",
              "4                        3.112100                         6.550154   \n",
              "\n",
              "   primary_cleaner.output.tail_au  primary_cleaner.state.floatbank8_a_air  \\\n",
              "0                        2.106679                             1549.775757   \n",
              "1                        2.353017                             1576.166671   \n",
              "2                        2.416800                             1601.556163   \n",
              "3                        2.262051                             1599.968720   \n",
              "4                        2.277073                             1601.339707   \n",
              "\n",
              "   primary_cleaner.state.floatbank8_a_level  \\\n",
              "0                               -498.912140   \n",
              "1                               -500.904965   \n",
              "2                               -499.997791   \n",
              "3                               -500.951778   \n",
              "4                               -498.975456   \n",
              "\n",
              "   primary_cleaner.state.floatbank8_b_air  \\\n",
              "0                             1551.434204   \n",
              "1                             1575.950626   \n",
              "2                             1600.386685   \n",
              "3                             1600.659236   \n",
              "4                             1601.437854   \n",
              "\n",
              "   primary_cleaner.state.floatbank8_b_level  \\\n",
              "0                               -516.403442   \n",
              "1                               -499.865889   \n",
              "2                               -500.607762   \n",
              "3                               -499.677094   \n",
              "4                               -500.323246   \n",
              "\n",
              "   primary_cleaner.state.floatbank8_c_air  \\\n",
              "0                             1549.873901   \n",
              "1                             1575.994189   \n",
              "2                             1602.003542   \n",
              "3                             1600.304144   \n",
              "4                             1599.581894   \n",
              "\n",
              "   primary_cleaner.state.floatbank8_c_level  \\\n",
              "0                               -498.666595   \n",
              "1                               -499.315107   \n",
              "2                               -500.870069   \n",
              "3                               -500.727997   \n",
              "4                               -500.888152   \n",
              "\n",
              "   primary_cleaner.state.floatbank8_d_air  \\\n",
              "0                             1554.367432   \n",
              "1                             1574.479259   \n",
              "2                             1599.541515   \n",
              "3                             1600.449520   \n",
              "4                             1602.649541   \n",
              "\n",
              "   primary_cleaner.state.floatbank8_d_level  \\\n",
              "0                               -493.428131   \n",
              "1                               -498.931665   \n",
              "2                               -499.827444   \n",
              "3                               -500.052575   \n",
              "4                               -500.593010   \n",
              "\n",
              "   rougher.calculation.sulfate_to_au_concentrate  \\\n",
              "0                                   41885.707031   \n",
              "1                                   42050.861809   \n",
              "2                                   42018.101184   \n",
              "3                                   42029.447991   \n",
              "4                                   42125.354245   \n",
              "\n",
              "   rougher.calculation.floatbank10_sulfate_to_au_feed  \\\n",
              "0                                        3481.779053    \n",
              "1                                        3498.370979    \n",
              "2                                        3495.348910    \n",
              "3                                        3498.578313    \n",
              "4                                        3494.800771    \n",
              "\n",
              "   rougher.calculation.floatbank11_sulfate_to_au_feed  \\\n",
              "0                                        3520.337158    \n",
              "1                                        3489.981857    \n",
              "2                                        3502.359819    \n",
              "3                                        3499.162912    \n",
              "4                                        3506.679315    \n",
              "\n",
              "   rougher.calculation.au_pb_ratio  rougher.input.feed_ag  \\\n",
              "0                         2.838687               6.100378   \n",
              "1                         2.858998               6.161113   \n",
              "2                         2.945989               6.116455   \n",
              "3                         3.002340               6.043309   \n",
              "4                         3.169615               6.060915   \n",
              "\n",
              "   rougher.input.feed_pb  rougher.input.feed_rate  rougher.input.feed_size  \\\n",
              "0               2.284912               523.546326                55.486599   \n",
              "1               2.266033               525.290581                57.278666   \n",
              "2               2.159622               530.026610                57.510649   \n",
              "3               2.037807               542.590390                57.792734   \n",
              "4               1.786875               540.531893                56.047189   \n",
              "\n",
              "   rougher.input.feed_sol  rougher.input.feed_au  \\\n",
              "0               36.808594               6.486150   \n",
              "1               35.753385               6.478583   \n",
              "2               35.971630               6.362222   \n",
              "3               36.862241               6.118189   \n",
              "4               34.347666               5.663707   \n",
              "\n",
              "   rougher.input.floatbank10_sulfate  rougher.input.floatbank10_xanthate  \\\n",
              "0                          11.986616                            6.007990   \n",
              "1                          11.971193                            6.005766   \n",
              "2                          11.920603                            6.197377   \n",
              "3                          11.630094                            6.203177   \n",
              "4                          10.957755                            6.198826   \n",
              "\n",
              "   rougher.input.floatbank11_sulfate  rougher.input.floatbank11_xanthate  \\\n",
              "0                          11.836743                            6.005818   \n",
              "1                          11.996163                            6.012594   \n",
              "2                          11.920305                            6.204633   \n",
              "3                          11.692450                            6.196578   \n",
              "4                          10.960521                            6.194897   \n",
              "\n",
              "   rougher.output.concentrate_ag  rougher.output.concentrate_pb  \\\n",
              "0                      11.500771                       7.101074   \n",
              "1                      11.615865                       7.278807   \n",
              "2                      11.695753                       7.216833   \n",
              "3                      11.915047                       7.175616   \n",
              "4                      12.411054                       7.240205   \n",
              "\n",
              "   rougher.output.concentrate_sol  rougher.output.concentrate_au  \\\n",
              "0                       28.029297                      19.793808   \n",
              "1                       28.067063                      20.050975   \n",
              "2                       27.454037                      19.737170   \n",
              "3                       27.341277                      19.320810   \n",
              "4                       27.041023                      19.216101   \n",
              "\n",
              "   rougher.output.recovery  rougher.output.tail_ag  rougher.output.tail_pb  \\\n",
              "0                87.107763                5.008018                0.508728   \n",
              "1                86.843261                4.955378                0.536689   \n",
              "2                86.842308                4.843460                0.546416   \n",
              "3                87.226430                4.655288                0.542525   \n",
              "4                86.688794                4.552800                0.515438   \n",
              "\n",
              "   rougher.output.tail_sol  rougher.output.tail_au  \\\n",
              "0                19.154297                1.170244   \n",
              "1                18.965234                1.184827   \n",
              "2                18.808533                1.162562   \n",
              "3                19.330200                1.079755   \n",
              "4                19.267422                1.012642   \n",
              "\n",
              "   rougher.state.floatbank10_a_air  rougher.state.floatbank10_a_level  \\\n",
              "0                       999.706909                        -404.066986   \n",
              "1                      1000.286398                        -400.065196   \n",
              "2                       999.719565                        -400.074028   \n",
              "3                       999.814770                        -400.200179   \n",
              "4                       999.678690                        -399.752729   \n",
              "\n",
              "   rougher.state.floatbank10_b_air  rougher.state.floatbank10_b_level  \\\n",
              "0                      1603.011353                        -434.715027   \n",
              "1                      1600.754587                        -449.953435   \n",
              "2                      1599.337330                        -450.008530   \n",
              "3                      1600.059442                        -450.619948   \n",
              "4                      1600.208824                        -449.599614   \n",
              "\n",
              "   rougher.state.floatbank10_c_air  rougher.state.floatbank10_c_level  \\\n",
              "0                      1602.375000                        -442.204468   \n",
              "1                      1600.479580                        -449.830646   \n",
              "2                      1599.672797                        -449.954491   \n",
              "3                      1600.012842                        -449.910497   \n",
              "4                      1600.357732                        -450.034364   \n",
              "\n",
              "   rougher.state.floatbank10_d_air  rougher.state.floatbank10_d_level  \\\n",
              "0                      1598.937256                        -451.294128   \n",
              "1                      1600.527589                        -449.953649   \n",
              "2                      1599.849325                        -449.954185   \n",
              "3                      1597.725177                        -450.130127   \n",
              "4                      1599.759049                        -449.909799   \n",
              "\n",
              "   rougher.state.floatbank10_e_air  rougher.state.floatbank10_e_level  \\\n",
              "0                      1404.472046                        -455.462982   \n",
              "1                      1399.227084                        -450.869848   \n",
              "2                      1399.180945                        -449.937588   \n",
              "3                      1400.943157                        -450.030142   \n",
              "4                      1401.560902                        -448.877187   \n",
              "\n",
              "   rougher.state.floatbank10_f_air  rougher.state.floatbank10_f_level  \\\n",
              "0                      1416.354980                        -451.939636   \n",
              "1                      1399.719514                        -450.119001   \n",
              "2                      1400.316682                        -450.527147   \n",
              "3                      1400.234743                        -449.790835   \n",
              "4                      1401.160227                        -450.407128   \n",
              "\n",
              "   secondary_cleaner.output.tail_ag  secondary_cleaner.output.tail_pb  \\\n",
              "0                         14.500184                          4.694824   \n",
              "1                         14.265474                          4.592547   \n",
              "2                         14.115662                          4.624775   \n",
              "3                         13.732071                          4.482453   \n",
              "4                         14.079996                          4.470737   \n",
              "\n",
              "   secondary_cleaner.output.tail_sol  secondary_cleaner.output.tail_au  \\\n",
              "0                           8.764648                          2.606185   \n",
              "1                           9.001494                          2.488248   \n",
              "2                           8.842896                          2.458187   \n",
              "3                           9.122857                          2.322062   \n",
              "4                           8.871028                          2.330448   \n",
              "\n",
              "   secondary_cleaner.state.floatbank2_a_air  \\\n",
              "0                                 25.853109   \n",
              "1                                 25.880539   \n",
              "2                                 26.005245   \n",
              "3                                 25.942508   \n",
              "4                                 26.024787   \n",
              "\n",
              "   secondary_cleaner.state.floatbank2_a_level  \\\n",
              "0                                 -498.526489   \n",
              "1                                 -499.989656   \n",
              "2                                 -499.929616   \n",
              "3                                 -499.176749   \n",
              "4                                 -500.279091   \n",
              "\n",
              "   secondary_cleaner.state.floatbank2_b_air  \\\n",
              "0                                 23.893660   \n",
              "1                                 23.889530   \n",
              "2                                 23.886657   \n",
              "3                                 23.955516   \n",
              "4                                 23.955345   \n",
              "\n",
              "   secondary_cleaner.state.floatbank2_b_level  \\\n",
              "0                                 -501.406281   \n",
              "1                                 -500.372428   \n",
              "2                                 -499.951928   \n",
              "3                                 -499.848796   \n",
              "4                                 -500.593614   \n",
              "\n",
              "   secondary_cleaner.state.floatbank3_a_air  \\\n",
              "0                                 23.961798   \n",
              "1                                 23.970550   \n",
              "2                                 23.913535   \n",
              "3                                 23.966838   \n",
              "4                                 23.985703   \n",
              "\n",
              "   secondary_cleaner.state.floatbank3_a_level  \\\n",
              "0                                 -495.262817   \n",
              "1                                 -500.085473   \n",
              "2                                 -499.442343   \n",
              "3                                 -500.008812   \n",
              "4                                 -500.083811   \n",
              "\n",
              "   secondary_cleaner.state.floatbank3_b_air  \\\n",
              "0                                 21.940409   \n",
              "1                                 22.085714   \n",
              "2                                 23.957717   \n",
              "3                                 23.954443   \n",
              "4                                 23.958945   \n",
              "\n",
              "   secondary_cleaner.state.floatbank3_b_level  \\\n",
              "0                                 -499.340973   \n",
              "1                                 -499.446897   \n",
              "2                                 -499.901982   \n",
              "3                                 -499.944710   \n",
              "4                                 -499.990309   \n",
              "\n",
              "   secondary_cleaner.state.floatbank4_a_air  \\\n",
              "0                                 14.016835   \n",
              "1                                 13.992281   \n",
              "2                                 14.015015   \n",
              "3                                 14.036510   \n",
              "4                                 14.027298   \n",
              "\n",
              "   secondary_cleaner.state.floatbank4_a_level  \\\n",
              "0                                 -502.488007   \n",
              "1                                 -505.503262   \n",
              "2                                 -502.520901   \n",
              "3                                 -500.857308   \n",
              "4                                 -499.838632   \n",
              "\n",
              "   secondary_cleaner.state.floatbank4_b_air  \\\n",
              "0                                 12.099931   \n",
              "1                                 11.950531   \n",
              "2                                 11.912783   \n",
              "3                                 11.999550   \n",
              "4                                 11.953070   \n",
              "\n",
              "   secondary_cleaner.state.floatbank4_b_level  \\\n",
              "0                                 -504.715942   \n",
              "1                                 -501.331529   \n",
              "2                                 -501.133383   \n",
              "3                                 -501.193686   \n",
              "4                                 -501.053894   \n",
              "\n",
              "   secondary_cleaner.state.floatbank5_a_air  \\\n",
              "0                                  9.925633   \n",
              "1                                 10.039245   \n",
              "2                                 10.070913   \n",
              "3                                  9.970366   \n",
              "4                                  9.925709   \n",
              "\n",
              "   secondary_cleaner.state.floatbank5_a_level  \\\n",
              "0                                 -498.310211   \n",
              "1                                 -500.169983   \n",
              "2                                 -500.129135   \n",
              "3                                 -499.201640   \n",
              "4                                 -501.686727   \n",
              "\n",
              "   secondary_cleaner.state.floatbank5_b_air  \\\n",
              "0                                  8.079666   \n",
              "1                                  7.984757   \n",
              "2                                  8.013877   \n",
              "3                                  7.977324   \n",
              "4                                  7.894242   \n",
              "\n",
              "   secondary_cleaner.state.floatbank5_b_level  \\\n",
              "0                                 -500.470978   \n",
              "1                                 -500.582168   \n",
              "2                                 -500.517572   \n",
              "3                                 -500.255908   \n",
              "4                                 -500.356035   \n",
              "\n",
              "   secondary_cleaner.state.floatbank6_a_air  \\\n",
              "0                                 14.151341   \n",
              "1                                 13.998353   \n",
              "2                                 14.028663   \n",
              "3                                 14.005551   \n",
              "4                                 13.996647   \n",
              "\n",
              "   secondary_cleaner.state.floatbank6_a_level  \n",
              "0                                 -605.841980  \n",
              "1                                 -599.787184  \n",
              "2                                 -601.427363  \n",
              "3                                 -599.996129  \n",
              "4                                 -601.496691  "
            ],
            "text/html": [
              "\n",
              "  <div id=\"df-c694d18d-2e30-4f2e-aa4a-ef133acc29c3\">\n",
              "    <div class=\"colab-df-container\">\n",
              "      <div>\n",
              "<style scoped>\n",
              "    .dataframe tbody tr th:only-of-type {\n",
              "        vertical-align: middle;\n",
              "    }\n",
              "\n",
              "    .dataframe tbody tr th {\n",
              "        vertical-align: top;\n",
              "    }\n",
              "\n",
              "    .dataframe thead th {\n",
              "        text-align: right;\n",
              "    }\n",
              "</style>\n",
              "<table border=\"1\" class=\"dataframe\">\n",
              "  <thead>\n",
              "    <tr style=\"text-align: right;\">\n",
              "      <th></th>\n",
              "      <th>date</th>\n",
              "      <th>final.output.concentrate_ag</th>\n",
              "      <th>final.output.concentrate_pb</th>\n",
              "      <th>final.output.concentrate_sol</th>\n",
              "      <th>final.output.concentrate_au</th>\n",
              "      <th>final.output.recovery</th>\n",
              "      <th>final.output.tail_ag</th>\n",
              "      <th>final.output.tail_pb</th>\n",
              "      <th>final.output.tail_sol</th>\n",
              "      <th>final.output.tail_au</th>\n",
              "      <th>primary_cleaner.input.sulfate</th>\n",
              "      <th>primary_cleaner.input.depressant</th>\n",
              "      <th>primary_cleaner.input.feed_size</th>\n",
              "      <th>primary_cleaner.input.xanthate</th>\n",
              "      <th>primary_cleaner.output.concentrate_ag</th>\n",
              "      <th>primary_cleaner.output.concentrate_pb</th>\n",
              "      <th>primary_cleaner.output.concentrate_sol</th>\n",
              "      <th>primary_cleaner.output.concentrate_au</th>\n",
              "      <th>primary_cleaner.output.tail_ag</th>\n",
              "      <th>primary_cleaner.output.tail_pb</th>\n",
              "      <th>primary_cleaner.output.tail_sol</th>\n",
              "      <th>primary_cleaner.output.tail_au</th>\n",
              "      <th>primary_cleaner.state.floatbank8_a_air</th>\n",
              "      <th>primary_cleaner.state.floatbank8_a_level</th>\n",
              "      <th>primary_cleaner.state.floatbank8_b_air</th>\n",
              "      <th>primary_cleaner.state.floatbank8_b_level</th>\n",
              "      <th>primary_cleaner.state.floatbank8_c_air</th>\n",
              "      <th>primary_cleaner.state.floatbank8_c_level</th>\n",
              "      <th>primary_cleaner.state.floatbank8_d_air</th>\n",
              "      <th>primary_cleaner.state.floatbank8_d_level</th>\n",
              "      <th>rougher.calculation.sulfate_to_au_concentrate</th>\n",
              "      <th>rougher.calculation.floatbank10_sulfate_to_au_feed</th>\n",
              "      <th>rougher.calculation.floatbank11_sulfate_to_au_feed</th>\n",
              "      <th>rougher.calculation.au_pb_ratio</th>\n",
              "      <th>rougher.input.feed_ag</th>\n",
              "      <th>rougher.input.feed_pb</th>\n",
              "      <th>rougher.input.feed_rate</th>\n",
              "      <th>rougher.input.feed_size</th>\n",
              "      <th>rougher.input.feed_sol</th>\n",
              "      <th>rougher.input.feed_au</th>\n",
              "      <th>rougher.input.floatbank10_sulfate</th>\n",
              "      <th>rougher.input.floatbank10_xanthate</th>\n",
              "      <th>rougher.input.floatbank11_sulfate</th>\n",
              "      <th>rougher.input.floatbank11_xanthate</th>\n",
              "      <th>rougher.output.concentrate_ag</th>\n",
              "      <th>rougher.output.concentrate_pb</th>\n",
              "      <th>rougher.output.concentrate_sol</th>\n",
              "      <th>rougher.output.concentrate_au</th>\n",
              "      <th>rougher.output.recovery</th>\n",
              "      <th>rougher.output.tail_ag</th>\n",
              "      <th>rougher.output.tail_pb</th>\n",
              "      <th>rougher.output.tail_sol</th>\n",
              "      <th>rougher.output.tail_au</th>\n",
              "      <th>rougher.state.floatbank10_a_air</th>\n",
              "      <th>rougher.state.floatbank10_a_level</th>\n",
              "      <th>rougher.state.floatbank10_b_air</th>\n",
              "      <th>rougher.state.floatbank10_b_level</th>\n",
              "      <th>rougher.state.floatbank10_c_air</th>\n",
              "      <th>rougher.state.floatbank10_c_level</th>\n",
              "      <th>rougher.state.floatbank10_d_air</th>\n",
              "      <th>rougher.state.floatbank10_d_level</th>\n",
              "      <th>rougher.state.floatbank10_e_air</th>\n",
              "      <th>rougher.state.floatbank10_e_level</th>\n",
              "      <th>rougher.state.floatbank10_f_air</th>\n",
              "      <th>rougher.state.floatbank10_f_level</th>\n",
              "      <th>secondary_cleaner.output.tail_ag</th>\n",
              "      <th>secondary_cleaner.output.tail_pb</th>\n",
              "      <th>secondary_cleaner.output.tail_sol</th>\n",
              "      <th>secondary_cleaner.output.tail_au</th>\n",
              "      <th>secondary_cleaner.state.floatbank2_a_air</th>\n",
              "      <th>secondary_cleaner.state.floatbank2_a_level</th>\n",
              "      <th>secondary_cleaner.state.floatbank2_b_air</th>\n",
              "      <th>secondary_cleaner.state.floatbank2_b_level</th>\n",
              "      <th>secondary_cleaner.state.floatbank3_a_air</th>\n",
              "      <th>secondary_cleaner.state.floatbank3_a_level</th>\n",
              "      <th>secondary_cleaner.state.floatbank3_b_air</th>\n",
              "      <th>secondary_cleaner.state.floatbank3_b_level</th>\n",
              "      <th>secondary_cleaner.state.floatbank4_a_air</th>\n",
              "      <th>secondary_cleaner.state.floatbank4_a_level</th>\n",
              "      <th>secondary_cleaner.state.floatbank4_b_air</th>\n",
              "      <th>secondary_cleaner.state.floatbank4_b_level</th>\n",
              "      <th>secondary_cleaner.state.floatbank5_a_air</th>\n",
              "      <th>secondary_cleaner.state.floatbank5_a_level</th>\n",
              "      <th>secondary_cleaner.state.floatbank5_b_air</th>\n",
              "      <th>secondary_cleaner.state.floatbank5_b_level</th>\n",
              "      <th>secondary_cleaner.state.floatbank6_a_air</th>\n",
              "      <th>secondary_cleaner.state.floatbank6_a_level</th>\n",
              "    </tr>\n",
              "  </thead>\n",
              "  <tbody>\n",
              "    <tr>\n",
              "      <th>0</th>\n",
              "      <td>2016-01-15 00:00:00</td>\n",
              "      <td>6.055403</td>\n",
              "      <td>9.889648</td>\n",
              "      <td>5.507324</td>\n",
              "      <td>42.192020</td>\n",
              "      <td>70.541216</td>\n",
              "      <td>10.411962</td>\n",
              "      <td>0.895447</td>\n",
              "      <td>16.904297</td>\n",
              "      <td>2.143149</td>\n",
              "      <td>127.092003</td>\n",
              "      <td>10.128295</td>\n",
              "      <td>7.25</td>\n",
              "      <td>0.988759</td>\n",
              "      <td>8.547551</td>\n",
              "      <td>10.389648</td>\n",
              "      <td>19.529297</td>\n",
              "      <td>34.174427</td>\n",
              "      <td>14.936526</td>\n",
              "      <td>2.534912</td>\n",
              "      <td>7.476074</td>\n",
              "      <td>2.106679</td>\n",
              "      <td>1549.775757</td>\n",
              "      <td>-498.912140</td>\n",
              "      <td>1551.434204</td>\n",
              "      <td>-516.403442</td>\n",
              "      <td>1549.873901</td>\n",
              "      <td>-498.666595</td>\n",
              "      <td>1554.367432</td>\n",
              "      <td>-493.428131</td>\n",
              "      <td>41885.707031</td>\n",
              "      <td>3481.779053</td>\n",
              "      <td>3520.337158</td>\n",
              "      <td>2.838687</td>\n",
              "      <td>6.100378</td>\n",
              "      <td>2.284912</td>\n",
              "      <td>523.546326</td>\n",
              "      <td>55.486599</td>\n",
              "      <td>36.808594</td>\n",
              "      <td>6.486150</td>\n",
              "      <td>11.986616</td>\n",
              "      <td>6.007990</td>\n",
              "      <td>11.836743</td>\n",
              "      <td>6.005818</td>\n",
              "      <td>11.500771</td>\n",
              "      <td>7.101074</td>\n",
              "      <td>28.029297</td>\n",
              "      <td>19.793808</td>\n",
              "      <td>87.107763</td>\n",
              "      <td>5.008018</td>\n",
              "      <td>0.508728</td>\n",
              "      <td>19.154297</td>\n",
              "      <td>1.170244</td>\n",
              "      <td>999.706909</td>\n",
              "      <td>-404.066986</td>\n",
              "      <td>1603.011353</td>\n",
              "      <td>-434.715027</td>\n",
              "      <td>1602.375000</td>\n",
              "      <td>-442.204468</td>\n",
              "      <td>1598.937256</td>\n",
              "      <td>-451.294128</td>\n",
              "      <td>1404.472046</td>\n",
              "      <td>-455.462982</td>\n",
              "      <td>1416.354980</td>\n",
              "      <td>-451.939636</td>\n",
              "      <td>14.500184</td>\n",
              "      <td>4.694824</td>\n",
              "      <td>8.764648</td>\n",
              "      <td>2.606185</td>\n",
              "      <td>25.853109</td>\n",
              "      <td>-498.526489</td>\n",
              "      <td>23.893660</td>\n",
              "      <td>-501.406281</td>\n",
              "      <td>23.961798</td>\n",
              "      <td>-495.262817</td>\n",
              "      <td>21.940409</td>\n",
              "      <td>-499.340973</td>\n",
              "      <td>14.016835</td>\n",
              "      <td>-502.488007</td>\n",
              "      <td>12.099931</td>\n",
              "      <td>-504.715942</td>\n",
              "      <td>9.925633</td>\n",
              "      <td>-498.310211</td>\n",
              "      <td>8.079666</td>\n",
              "      <td>-500.470978</td>\n",
              "      <td>14.151341</td>\n",
              "      <td>-605.841980</td>\n",
              "    </tr>\n",
              "    <tr>\n",
              "      <th>1</th>\n",
              "      <td>2016-01-15 01:00:00</td>\n",
              "      <td>6.029369</td>\n",
              "      <td>9.968944</td>\n",
              "      <td>5.257781</td>\n",
              "      <td>42.701629</td>\n",
              "      <td>69.266198</td>\n",
              "      <td>10.462676</td>\n",
              "      <td>0.927452</td>\n",
              "      <td>16.634514</td>\n",
              "      <td>2.224930</td>\n",
              "      <td>125.629232</td>\n",
              "      <td>10.296251</td>\n",
              "      <td>7.25</td>\n",
              "      <td>1.002663</td>\n",
              "      <td>8.558743</td>\n",
              "      <td>10.497069</td>\n",
              "      <td>19.369147</td>\n",
              "      <td>34.118526</td>\n",
              "      <td>16.250511</td>\n",
              "      <td>3.049646</td>\n",
              "      <td>6.733907</td>\n",
              "      <td>2.353017</td>\n",
              "      <td>1576.166671</td>\n",
              "      <td>-500.904965</td>\n",
              "      <td>1575.950626</td>\n",
              "      <td>-499.865889</td>\n",
              "      <td>1575.994189</td>\n",
              "      <td>-499.315107</td>\n",
              "      <td>1574.479259</td>\n",
              "      <td>-498.931665</td>\n",
              "      <td>42050.861809</td>\n",
              "      <td>3498.370979</td>\n",
              "      <td>3489.981857</td>\n",
              "      <td>2.858998</td>\n",
              "      <td>6.161113</td>\n",
              "      <td>2.266033</td>\n",
              "      <td>525.290581</td>\n",
              "      <td>57.278666</td>\n",
              "      <td>35.753385</td>\n",
              "      <td>6.478583</td>\n",
              "      <td>11.971193</td>\n",
              "      <td>6.005766</td>\n",
              "      <td>11.996163</td>\n",
              "      <td>6.012594</td>\n",
              "      <td>11.615865</td>\n",
              "      <td>7.278807</td>\n",
              "      <td>28.067063</td>\n",
              "      <td>20.050975</td>\n",
              "      <td>86.843261</td>\n",
              "      <td>4.955378</td>\n",
              "      <td>0.536689</td>\n",
              "      <td>18.965234</td>\n",
              "      <td>1.184827</td>\n",
              "      <td>1000.286398</td>\n",
              "      <td>-400.065196</td>\n",
              "      <td>1600.754587</td>\n",
              "      <td>-449.953435</td>\n",
              "      <td>1600.479580</td>\n",
              "      <td>-449.830646</td>\n",
              "      <td>1600.527589</td>\n",
              "      <td>-449.953649</td>\n",
              "      <td>1399.227084</td>\n",
              "      <td>-450.869848</td>\n",
              "      <td>1399.719514</td>\n",
              "      <td>-450.119001</td>\n",
              "      <td>14.265474</td>\n",
              "      <td>4.592547</td>\n",
              "      <td>9.001494</td>\n",
              "      <td>2.488248</td>\n",
              "      <td>25.880539</td>\n",
              "      <td>-499.989656</td>\n",
              "      <td>23.889530</td>\n",
              "      <td>-500.372428</td>\n",
              "      <td>23.970550</td>\n",
              "      <td>-500.085473</td>\n",
              "      <td>22.085714</td>\n",
              "      <td>-499.446897</td>\n",
              "      <td>13.992281</td>\n",
              "      <td>-505.503262</td>\n",
              "      <td>11.950531</td>\n",
              "      <td>-501.331529</td>\n",
              "      <td>10.039245</td>\n",
              "      <td>-500.169983</td>\n",
              "      <td>7.984757</td>\n",
              "      <td>-500.582168</td>\n",
              "      <td>13.998353</td>\n",
              "      <td>-599.787184</td>\n",
              "    </tr>\n",
              "    <tr>\n",
              "      <th>2</th>\n",
              "      <td>2016-01-15 02:00:00</td>\n",
              "      <td>6.055926</td>\n",
              "      <td>10.213995</td>\n",
              "      <td>5.383759</td>\n",
              "      <td>42.657501</td>\n",
              "      <td>68.116445</td>\n",
              "      <td>10.507046</td>\n",
              "      <td>0.953716</td>\n",
              "      <td>16.208849</td>\n",
              "      <td>2.257889</td>\n",
              "      <td>123.819808</td>\n",
              "      <td>11.316280</td>\n",
              "      <td>7.25</td>\n",
              "      <td>0.991265</td>\n",
              "      <td>8.603505</td>\n",
              "      <td>10.354494</td>\n",
              "      <td>19.167579</td>\n",
              "      <td>33.969464</td>\n",
              "      <td>16.491823</td>\n",
              "      <td>3.124664</td>\n",
              "      <td>6.471768</td>\n",
              "      <td>2.416800</td>\n",
              "      <td>1601.556163</td>\n",
              "      <td>-499.997791</td>\n",
              "      <td>1600.386685</td>\n",
              "      <td>-500.607762</td>\n",
              "      <td>1602.003542</td>\n",
              "      <td>-500.870069</td>\n",
              "      <td>1599.541515</td>\n",
              "      <td>-499.827444</td>\n",
              "      <td>42018.101184</td>\n",
              "      <td>3495.348910</td>\n",
              "      <td>3502.359819</td>\n",
              "      <td>2.945989</td>\n",
              "      <td>6.116455</td>\n",
              "      <td>2.159622</td>\n",
              "      <td>530.026610</td>\n",
              "      <td>57.510649</td>\n",
              "      <td>35.971630</td>\n",
              "      <td>6.362222</td>\n",
              "      <td>11.920603</td>\n",
              "      <td>6.197377</td>\n",
              "      <td>11.920305</td>\n",
              "      <td>6.204633</td>\n",
              "      <td>11.695753</td>\n",
              "      <td>7.216833</td>\n",
              "      <td>27.454037</td>\n",
              "      <td>19.737170</td>\n",
              "      <td>86.842308</td>\n",
              "      <td>4.843460</td>\n",
              "      <td>0.546416</td>\n",
              "      <td>18.808533</td>\n",
              "      <td>1.162562</td>\n",
              "      <td>999.719565</td>\n",
              "      <td>-400.074028</td>\n",
              "      <td>1599.337330</td>\n",
              "      <td>-450.008530</td>\n",
              "      <td>1599.672797</td>\n",
              "      <td>-449.954491</td>\n",
              "      <td>1599.849325</td>\n",
              "      <td>-449.954185</td>\n",
              "      <td>1399.180945</td>\n",
              "      <td>-449.937588</td>\n",
              "      <td>1400.316682</td>\n",
              "      <td>-450.527147</td>\n",
              "      <td>14.115662</td>\n",
              "      <td>4.624775</td>\n",
              "      <td>8.842896</td>\n",
              "      <td>2.458187</td>\n",
              "      <td>26.005245</td>\n",
              "      <td>-499.929616</td>\n",
              "      <td>23.886657</td>\n",
              "      <td>-499.951928</td>\n",
              "      <td>23.913535</td>\n",
              "      <td>-499.442343</td>\n",
              "      <td>23.957717</td>\n",
              "      <td>-499.901982</td>\n",
              "      <td>14.015015</td>\n",
              "      <td>-502.520901</td>\n",
              "      <td>11.912783</td>\n",
              "      <td>-501.133383</td>\n",
              "      <td>10.070913</td>\n",
              "      <td>-500.129135</td>\n",
              "      <td>8.013877</td>\n",
              "      <td>-500.517572</td>\n",
              "      <td>14.028663</td>\n",
              "      <td>-601.427363</td>\n",
              "    </tr>\n",
              "    <tr>\n",
              "      <th>3</th>\n",
              "      <td>2016-01-15 03:00:00</td>\n",
              "      <td>6.047977</td>\n",
              "      <td>9.977019</td>\n",
              "      <td>4.858634</td>\n",
              "      <td>42.689819</td>\n",
              "      <td>68.347543</td>\n",
              "      <td>10.422762</td>\n",
              "      <td>0.883763</td>\n",
              "      <td>16.532835</td>\n",
              "      <td>2.146849</td>\n",
              "      <td>122.270188</td>\n",
              "      <td>11.322140</td>\n",
              "      <td>7.25</td>\n",
              "      <td>0.996739</td>\n",
              "      <td>7.221879</td>\n",
              "      <td>8.496563</td>\n",
              "      <td>15.978538</td>\n",
              "      <td>28.260743</td>\n",
              "      <td>16.024359</td>\n",
              "      <td>2.960362</td>\n",
              "      <td>6.843791</td>\n",
              "      <td>2.262051</td>\n",
              "      <td>1599.968720</td>\n",
              "      <td>-500.951778</td>\n",
              "      <td>1600.659236</td>\n",
              "      <td>-499.677094</td>\n",
              "      <td>1600.304144</td>\n",
              "      <td>-500.727997</td>\n",
              "      <td>1600.449520</td>\n",
              "      <td>-500.052575</td>\n",
              "      <td>42029.447991</td>\n",
              "      <td>3498.578313</td>\n",
              "      <td>3499.162912</td>\n",
              "      <td>3.002340</td>\n",
              "      <td>6.043309</td>\n",
              "      <td>2.037807</td>\n",
              "      <td>542.590390</td>\n",
              "      <td>57.792734</td>\n",
              "      <td>36.862241</td>\n",
              "      <td>6.118189</td>\n",
              "      <td>11.630094</td>\n",
              "      <td>6.203177</td>\n",
              "      <td>11.692450</td>\n",
              "      <td>6.196578</td>\n",
              "      <td>11.915047</td>\n",
              "      <td>7.175616</td>\n",
              "      <td>27.341277</td>\n",
              "      <td>19.320810</td>\n",
              "      <td>87.226430</td>\n",
              "      <td>4.655288</td>\n",
              "      <td>0.542525</td>\n",
              "      <td>19.330200</td>\n",
              "      <td>1.079755</td>\n",
              "      <td>999.814770</td>\n",
              "      <td>-400.200179</td>\n",
              "      <td>1600.059442</td>\n",
              "      <td>-450.619948</td>\n",
              "      <td>1600.012842</td>\n",
              "      <td>-449.910497</td>\n",
              "      <td>1597.725177</td>\n",
              "      <td>-450.130127</td>\n",
              "      <td>1400.943157</td>\n",
              "      <td>-450.030142</td>\n",
              "      <td>1400.234743</td>\n",
              "      <td>-449.790835</td>\n",
              "      <td>13.732071</td>\n",
              "      <td>4.482453</td>\n",
              "      <td>9.122857</td>\n",
              "      <td>2.322062</td>\n",
              "      <td>25.942508</td>\n",
              "      <td>-499.176749</td>\n",
              "      <td>23.955516</td>\n",
              "      <td>-499.848796</td>\n",
              "      <td>23.966838</td>\n",
              "      <td>-500.008812</td>\n",
              "      <td>23.954443</td>\n",
              "      <td>-499.944710</td>\n",
              "      <td>14.036510</td>\n",
              "      <td>-500.857308</td>\n",
              "      <td>11.999550</td>\n",
              "      <td>-501.193686</td>\n",
              "      <td>9.970366</td>\n",
              "      <td>-499.201640</td>\n",
              "      <td>7.977324</td>\n",
              "      <td>-500.255908</td>\n",
              "      <td>14.005551</td>\n",
              "      <td>-599.996129</td>\n",
              "    </tr>\n",
              "    <tr>\n",
              "      <th>4</th>\n",
              "      <td>2016-01-15 04:00:00</td>\n",
              "      <td>6.148599</td>\n",
              "      <td>10.142511</td>\n",
              "      <td>4.939416</td>\n",
              "      <td>42.774141</td>\n",
              "      <td>66.927016</td>\n",
              "      <td>10.360302</td>\n",
              "      <td>0.792826</td>\n",
              "      <td>16.525686</td>\n",
              "      <td>2.055292</td>\n",
              "      <td>117.988169</td>\n",
              "      <td>11.913613</td>\n",
              "      <td>7.25</td>\n",
              "      <td>1.009869</td>\n",
              "      <td>9.089428</td>\n",
              "      <td>9.986786</td>\n",
              "      <td>19.199864</td>\n",
              "      <td>33.044932</td>\n",
              "      <td>16.480185</td>\n",
              "      <td>3.112100</td>\n",
              "      <td>6.550154</td>\n",
              "      <td>2.277073</td>\n",
              "      <td>1601.339707</td>\n",
              "      <td>-498.975456</td>\n",
              "      <td>1601.437854</td>\n",
              "      <td>-500.323246</td>\n",
              "      <td>1599.581894</td>\n",
              "      <td>-500.888152</td>\n",
              "      <td>1602.649541</td>\n",
              "      <td>-500.593010</td>\n",
              "      <td>42125.354245</td>\n",
              "      <td>3494.800771</td>\n",
              "      <td>3506.679315</td>\n",
              "      <td>3.169615</td>\n",
              "      <td>6.060915</td>\n",
              "      <td>1.786875</td>\n",
              "      <td>540.531893</td>\n",
              "      <td>56.047189</td>\n",
              "      <td>34.347666</td>\n",
              "      <td>5.663707</td>\n",
              "      <td>10.957755</td>\n",
              "      <td>6.198826</td>\n",
              "      <td>10.960521</td>\n",
              "      <td>6.194897</td>\n",
              "      <td>12.411054</td>\n",
              "      <td>7.240205</td>\n",
              "      <td>27.041023</td>\n",
              "      <td>19.216101</td>\n",
              "      <td>86.688794</td>\n",
              "      <td>4.552800</td>\n",
              "      <td>0.515438</td>\n",
              "      <td>19.267422</td>\n",
              "      <td>1.012642</td>\n",
              "      <td>999.678690</td>\n",
              "      <td>-399.752729</td>\n",
              "      <td>1600.208824</td>\n",
              "      <td>-449.599614</td>\n",
              "      <td>1600.357732</td>\n",
              "      <td>-450.034364</td>\n",
              "      <td>1599.759049</td>\n",
              "      <td>-449.909799</td>\n",
              "      <td>1401.560902</td>\n",
              "      <td>-448.877187</td>\n",
              "      <td>1401.160227</td>\n",
              "      <td>-450.407128</td>\n",
              "      <td>14.079996</td>\n",
              "      <td>4.470737</td>\n",
              "      <td>8.871028</td>\n",
              "      <td>2.330448</td>\n",
              "      <td>26.024787</td>\n",
              "      <td>-500.279091</td>\n",
              "      <td>23.955345</td>\n",
              "      <td>-500.593614</td>\n",
              "      <td>23.985703</td>\n",
              "      <td>-500.083811</td>\n",
              "      <td>23.958945</td>\n",
              "      <td>-499.990309</td>\n",
              "      <td>14.027298</td>\n",
              "      <td>-499.838632</td>\n",
              "      <td>11.953070</td>\n",
              "      <td>-501.053894</td>\n",
              "      <td>9.925709</td>\n",
              "      <td>-501.686727</td>\n",
              "      <td>7.894242</td>\n",
              "      <td>-500.356035</td>\n",
              "      <td>13.996647</td>\n",
              "      <td>-601.496691</td>\n",
              "    </tr>\n",
              "  </tbody>\n",
              "</table>\n",
              "</div>\n",
              "      <button class=\"colab-df-convert\" onclick=\"convertToInteractive('df-c694d18d-2e30-4f2e-aa4a-ef133acc29c3')\"\n",
              "              title=\"Convert this dataframe to an interactive table.\"\n",
              "              style=\"display:none;\">\n",
              "        \n",
              "  <svg xmlns=\"http://www.w3.org/2000/svg\" height=\"24px\"viewBox=\"0 0 24 24\"\n",
              "       width=\"24px\">\n",
              "    <path d=\"M0 0h24v24H0V0z\" fill=\"none\"/>\n",
              "    <path d=\"M18.56 5.44l.94 2.06.94-2.06 2.06-.94-2.06-.94-.94-2.06-.94 2.06-2.06.94zm-11 1L8.5 8.5l.94-2.06 2.06-.94-2.06-.94L8.5 2.5l-.94 2.06-2.06.94zm10 10l.94 2.06.94-2.06 2.06-.94-2.06-.94-.94-2.06-.94 2.06-2.06.94z\"/><path d=\"M17.41 7.96l-1.37-1.37c-.4-.4-.92-.59-1.43-.59-.52 0-1.04.2-1.43.59L10.3 9.45l-7.72 7.72c-.78.78-.78 2.05 0 2.83L4 21.41c.39.39.9.59 1.41.59.51 0 1.02-.2 1.41-.59l7.78-7.78 2.81-2.81c.8-.78.8-2.07 0-2.86zM5.41 20L4 18.59l7.72-7.72 1.47 1.35L5.41 20z\"/>\n",
              "  </svg>\n",
              "      </button>\n",
              "      \n",
              "  <style>\n",
              "    .colab-df-container {\n",
              "      display:flex;\n",
              "      flex-wrap:wrap;\n",
              "      gap: 12px;\n",
              "    }\n",
              "\n",
              "    .colab-df-convert {\n",
              "      background-color: #E8F0FE;\n",
              "      border: none;\n",
              "      border-radius: 50%;\n",
              "      cursor: pointer;\n",
              "      display: none;\n",
              "      fill: #1967D2;\n",
              "      height: 32px;\n",
              "      padding: 0 0 0 0;\n",
              "      width: 32px;\n",
              "    }\n",
              "\n",
              "    .colab-df-convert:hover {\n",
              "      background-color: #E2EBFA;\n",
              "      box-shadow: 0px 1px 2px rgba(60, 64, 67, 0.3), 0px 1px 3px 1px rgba(60, 64, 67, 0.15);\n",
              "      fill: #174EA6;\n",
              "    }\n",
              "\n",
              "    [theme=dark] .colab-df-convert {\n",
              "      background-color: #3B4455;\n",
              "      fill: #D2E3FC;\n",
              "    }\n",
              "\n",
              "    [theme=dark] .colab-df-convert:hover {\n",
              "      background-color: #434B5C;\n",
              "      box-shadow: 0px 1px 3px 1px rgba(0, 0, 0, 0.15);\n",
              "      filter: drop-shadow(0px 1px 2px rgba(0, 0, 0, 0.3));\n",
              "      fill: #FFFFFF;\n",
              "    }\n",
              "  </style>\n",
              "\n",
              "      <script>\n",
              "        const buttonEl =\n",
              "          document.querySelector('#df-c694d18d-2e30-4f2e-aa4a-ef133acc29c3 button.colab-df-convert');\n",
              "        buttonEl.style.display =\n",
              "          google.colab.kernel.accessAllowed ? 'block' : 'none';\n",
              "\n",
              "        async function convertToInteractive(key) {\n",
              "          const element = document.querySelector('#df-c694d18d-2e30-4f2e-aa4a-ef133acc29c3');\n",
              "          const dataTable =\n",
              "            await google.colab.kernel.invokeFunction('convertToInteractive',\n",
              "                                                     [key], {});\n",
              "          if (!dataTable) return;\n",
              "\n",
              "          const docLinkHtml = 'Like what you see? Visit the ' +\n",
              "            '<a target=\"_blank\" href=https://colab.research.google.com/notebooks/data_table.ipynb>data table notebook</a>'\n",
              "            + ' to learn more about interactive tables.';\n",
              "          element.innerHTML = '';\n",
              "          dataTable['output_type'] = 'display_data';\n",
              "          await google.colab.output.renderOutput(dataTable, element);\n",
              "          const docLink = document.createElement('div');\n",
              "          docLink.innerHTML = docLinkHtml;\n",
              "          element.appendChild(docLink);\n",
              "        }\n",
              "      </script>\n",
              "    </div>\n",
              "  </div>\n",
              "  "
            ]
          },
          "metadata": {}
        },
        {
          "output_type": "stream",
          "name": "stdout",
          "text": [
            "\n",
            "\n"
          ]
        }
      ]
    },
    {
      "cell_type": "markdown",
      "metadata": {
        "id": "JzAWPkBLDRIp"
      },
      "source": [
        "### Enrichment efficiency <a class=\"anchor\" id=\"enrichment-efficiency\"></a>\n",
        "\n",
        "We will use the formula provided in the brief to calculate the efficiency using the above formula on the training dataset:\n",
        "\n",
        "$$ \\text{Recovery}= \\frac{C * (F - T)}{F * (C - T)} * 100\\% $$\n",
        "\n",
        "To calculate the `MAE`, we will create a Series with data from the `rougher.output.recovery` column."
      ]
    },
    {
      "cell_type": "code",
      "execution_count": 4,
      "metadata": {
        "colab": {
          "base_uri": "https://localhost:8080/"
        },
        "id": "Rvl970o2DRIp",
        "outputId": "41982022-186e-4548-9d40-50312916b228"
      },
      "outputs": [
        {
          "output_type": "stream",
          "name": "stdout",
          "text": [
            "Gold (Au) recovery efficiency calculation: \n",
            "0    87.107763\n",
            "1    86.843261\n",
            "2    86.842308\n",
            "3    87.226430\n",
            "4    86.688794\n",
            "5    88.156912\n",
            "6    88.168065\n",
            "7    87.668336\n",
            "8    87.035862\n",
            "9    87.650868\n",
            "dtype: float64\n"
          ]
        }
      ],
      "source": [
        "C = df_train['rougher.output.concentrate_au']\n",
        "F = df_train['rougher.input.feed_au']\n",
        "T = df_train['rougher.output.tail_au']\n",
        "\n",
        "# The formula\n",
        "recovery_au = (C * (F - T) / (F * (C - T))) * 100\n",
        "\n",
        "# Create the Series\n",
        "mae = df_train['rougher.output.recovery']\n",
        "\n",
        "print(f\"Gold (Au) recovery efficiency calculation: \\n{recovery_au.head(10)}\")"
      ]
    },
    {
      "cell_type": "code",
      "source": [
        "np.format_float_positional(mean_absolute_error(mae, recovery_au), trim='-')"
      ],
      "metadata": {
        "colab": {
          "base_uri": "https://localhost:8080/",
          "height": 35
        },
        "id": "hwOrfRxJomT6",
        "outputId": "0bf32b55-e46d-4b97-8ceb-f0ffc5df6e3a"
      },
      "execution_count": 5,
      "outputs": [
        {
          "output_type": "execute_result",
          "data": {
            "text/plain": [
              "'0.00000000000000973512347450521'"
            ],
            "application/vnd.google.colaboratory.intrinsic+json": {
              "type": "string"
            }
          },
          "metadata": {},
          "execution_count": 5
        }
      ]
    },
    {
      "cell_type": "markdown",
      "metadata": {
        "id": "9YWCPmq6DRIq"
      },
      "source": [
        "### Features analysis <a class=\"anchor\" id=\"features-analysis\"></a>\n",
        "\n",
        "For the task, it is necessary to analyze how many features are missing in the test dataset `df_test` compared to the training dataset `df_train`. It is also necessary to understand what these features are."
      ]
    },
    {
      "cell_type": "code",
      "source": [
        "print(f\"Amount of missing features: {df_train.columns.difference(df_test.columns).value_counts().sum()}\")\n",
        "print(f\"\\nFeatures list: \\n{df_train.columns.difference(df_test.columns)}\")"
      ],
      "metadata": {
        "colab": {
          "base_uri": "https://localhost:8080/"
        },
        "id": "M56WYsPIhpju",
        "outputId": "b807f8f9-4891-4beb-ab64-35466a733d84"
      },
      "execution_count": 6,
      "outputs": [
        {
          "output_type": "stream",
          "name": "stdout",
          "text": [
            "Amount of missing features: 34\n",
            "\n",
            "Features list: \n",
            "Index(['final.output.concentrate_ag', 'final.output.concentrate_au',\n",
            "       'final.output.concentrate_pb', 'final.output.concentrate_sol',\n",
            "       'final.output.recovery', 'final.output.tail_ag', 'final.output.tail_au',\n",
            "       'final.output.tail_pb', 'final.output.tail_sol',\n",
            "       'primary_cleaner.output.concentrate_ag',\n",
            "       'primary_cleaner.output.concentrate_au',\n",
            "       'primary_cleaner.output.concentrate_pb',\n",
            "       'primary_cleaner.output.concentrate_sol',\n",
            "       'primary_cleaner.output.tail_ag', 'primary_cleaner.output.tail_au',\n",
            "       'primary_cleaner.output.tail_pb', 'primary_cleaner.output.tail_sol',\n",
            "       'rougher.calculation.au_pb_ratio',\n",
            "       'rougher.calculation.floatbank10_sulfate_to_au_feed',\n",
            "       'rougher.calculation.floatbank11_sulfate_to_au_feed',\n",
            "       'rougher.calculation.sulfate_to_au_concentrate',\n",
            "       'rougher.output.concentrate_ag', 'rougher.output.concentrate_au',\n",
            "       'rougher.output.concentrate_pb', 'rougher.output.concentrate_sol',\n",
            "       'rougher.output.recovery', 'rougher.output.tail_ag',\n",
            "       'rougher.output.tail_au', 'rougher.output.tail_pb',\n",
            "       'rougher.output.tail_sol', 'secondary_cleaner.output.tail_ag',\n",
            "       'secondary_cleaner.output.tail_au', 'secondary_cleaner.output.tail_pb',\n",
            "       'secondary_cleaner.output.tail_sol'],\n",
            "      dtype='object')\n"
          ]
        }
      ]
    },
    {
      "cell_type": "markdown",
      "metadata": {
        "id": "FtsGQOuHDRIs"
      },
      "source": [
        "### Data preprocessing <a class=\"anchor\" id=\"data-preprocessing\"></a>\n",
        "\n",
        "There are missing values in data, checking the amount:"
      ]
    },
    {
      "cell_type": "code",
      "execution_count": 7,
      "metadata": {
        "colab": {
          "base_uri": "https://localhost:8080/"
        },
        "id": "pOf4m7cxDRIs",
        "outputId": "c8322d2b-cd68-4d5c-a52c-e34ae13b7df9"
      },
      "outputs": [
        {
          "output_type": "stream",
          "name": "stdout",
          "text": [
            "Training dataset. Missing values: 28.98%\n",
            "Test dataset. Missing values: 1.7%\n",
            "Original dataset. Missing values: 23.05%\n"
          ]
        }
      ],
      "source": [
        "df = [df_train, df_test, df_full]\n",
        "\n",
        "def missing_values(title, df):\n",
        "    print(f\"{title}. Missing values: {round(df.isna().mean().sum() * 100, 2)}%\")\n",
        "    return\n",
        "\n",
        "missing_values(title_train, df_train)\n",
        "missing_values(title_test, df_test)\n",
        "missing_values(title_full, df_full)"
      ]
    },
    {
      "cell_type": "markdown",
      "metadata": {
        "id": "MO9aYEVwDRIs"
      },
      "source": [
        "Replace date with index, replacing NaN with 0 filling missing values with .ffill():"
      ]
    },
    {
      "cell_type": "code",
      "execution_count": 8,
      "metadata": {
        "colab": {
          "base_uri": "https://localhost:8080/"
        },
        "id": "yftG2T6TDRIs",
        "outputId": "d006510e-576c-488e-ef53-975200d966c2"
      },
      "outputs": [
        {
          "output_type": "stream",
          "name": "stdout",
          "text": [
            "Training dataset. Missing values: 0.0%\n",
            "Test dataset. Missing values: 0.0%\n",
            "Original dataset. Missing values: 0.0%\n"
          ]
        }
      ],
      "source": [
        "df_train = df_train.drop('date', axis=1)\n",
        "df_test = df_test.drop('date', axis=1)\n",
        "df_full = df_full.drop('date', axis=1)\n",
        "\n",
        "df_train = df_train.ffill()\n",
        "df_test = df_test.ffill()\n",
        "df_full = df_full.ffill()\n",
        "\n",
        "missing_values(title_train, df_train)\n",
        "missing_values(title_test, df_test)\n",
        "missing_values(title_full, df_full)"
      ]
    },
    {
      "cell_type": "code",
      "source": [
        "(df_train==0).sum(axis=1)"
      ],
      "metadata": {
        "colab": {
          "base_uri": "https://localhost:8080/"
        },
        "id": "9wIJeBJUYApc",
        "outputId": "0f72eddb-10d5-4fbf-95b1-c0fb2a5eebde"
      },
      "execution_count": 9,
      "outputs": [
        {
          "output_type": "execute_result",
          "data": {
            "text/plain": [
              "0        0\n",
              "1        0\n",
              "2        0\n",
              "3        0\n",
              "4        0\n",
              "        ..\n",
              "14144    4\n",
              "14145    4\n",
              "14146    4\n",
              "14147    4\n",
              "14148    4\n",
              "Length: 14149, dtype: int64"
            ]
          },
          "metadata": {},
          "execution_count": 9
        }
      ]
    },
    {
      "cell_type": "markdown",
      "metadata": {
        "id": "yvhfB9QaDRIt"
      },
      "source": [
        "### Conclusion <a class=\"anchor\" id=\"data-conclusion\"></a>\n",
        "\n",
        "1. After the initial **data review**, the following was revealed:\n",
        "\n",
        "    - `df_train`: there are 4100 missing values and 0 duplicates. The shape of the df is (14149, 87) and the data type is **float64**.\n",
        "    - `df_test`: there are 90 missing values and 0 duplicates. The shape of the df is (5290, 53) and the data type is **float64**.\n",
        "    - `df_full`: there are 4481 missing values and 0 duplicates. The shape of the array is (19439, 87) and the data type is **float64**.\n",
        "    - In all dataframes, the `date` column has an **object** format.\n",
        "\n",
        "\n",
        "2. **Enrichment efficiency.** The calculation of gold recovery efficiency was checked and the results are correct. The value of Mean Absolute Error (MAE) was calculated and it is extremely low: **0.00000000000000973512347450521**, which indicates a high level of accuracy.\n",
        "\n",
        "\n",
        "3. **Features analysis.** In the `df_test` test set, 34 features are missing, which are related to the following stages:\n",
        "\n",
        "| Feature | Stage | Parameter type |\n",
        "|--|--|--|\n",
        "| final.output.concentrate_ag | Final characteristics | Product parameters |\n",
        "| final.output.concentrate_au | Final characteristics | Product parameters |\n",
        "| final.output.concentrate_pb | Final characteristics | Product parameters |\n",
        "| final.output.concentrate_sol | Final characteristics | Product parameters |\n",
        "| final.output.recovery | Final characteristics | Product parameters |\n",
        "| final.output.tail_ag | Final characteristics | Product parameters |\n",
        "| final.output.tail_au | Final characteristics | Product parameters |\n",
        "| final.output.tail_pb | Final characteristics | Product parameters |\n",
        "| final.output.tail_sol | Final characteristics | Product parameters |\n",
        "| primary_cleaner.output.concentrate_ag | Primary cleaning | Product parameters |\n",
        "| primary_cleaner.output.concentrate_au | Primary cleaning | Product parameters |\n",
        "| primary_cleaner.output.concentrate_pb | Primary cleaning | Product parameters |\n",
        "| primary_cleaner.output.concentrate_sol | Primary cleaning | Product parameters |\n",
        "| primary_cleaner.output.tail_ag | Primary cleaning | Product parameters |\n",
        "| primary_cleaner.output.tail_au | Primary cleaning | Product parameters |\n",
        "| primary_cleaner.output.tail_pb | Primary cleaning | Product parameters |\n",
        "| primary_cleaner.output.tail_sol | Primary cleaning | Product parameters |\n",
        "| rougher.calculation.au_pb_ratio | Flotation | Calculation parameters |\n",
        "| rougher.calculation.floatbank10_sulfate_to_au_feed | Flotation | Calculation parameters |\n",
        "| rougher.calculation.floatbank11_sulfate_to_au_feed | Flotation | Calculation parameters |\n",
        "| rougher.calculation.sulfate_to_au_concentrate | Flotation | Calculation parameters |\n",
        "| rougher.output.concentrate_ag | Flotation | Product parameters |\n",
        "| rougher.output.concentrate_au | Flotation | Product parameters |\n",
        "| rougher.output.concentrate_pb | Flotation | Product parameters |\n",
        "| rougher.output.concentrate_sol | Flotation | Product parameters |\n",
        "| rougher.output.recovery | Flotation | Product parameters |\n",
        "| rougher.output.tail_ag | Flotation | Product parameters |\n",
        "| rougher.output.tail_au | Flotation | Product parameters |\n",
        "| rougher.output.tail_pb | Flotation | Product parameters |\n",
        "| rougher.output.tail_sol | Flotation | Product parameters |\n",
        "| secondary_cleaner.output.tail_ag | Secondary cleaning | Product parameters |\n",
        "| secondary_cleaner.output.tail_au | Secondary cleaning | Product parameters |\n",
        "| secondary_cleaner.output.tail_pb | Secondary cleaning | Product parameters |\n",
        "| secondary_cleaner.output.tail_sol | Secondary cleaning | Product parameters |\n",
        "\n",
        "\n",
        "4. **Data preprocessing:**\n",
        "\n",
        "    - Columns with date information were removed since they were not necessary for further analysis and data processing.\n",
        "    - Missing values in the `df_train` and `df_test` dataframes were filled using the forward-fill method `ffill()`. This method fills the missing values with the previous non-missing value, and since neighboring time parameters are often similar, this approach was considered reasonable."
      ]
    },
    {
      "cell_type": "markdown",
      "metadata": {
        "id": "BuOmFl5qDRIu"
      },
      "source": [
        "## Data analysis <a class=\"anchor\" id=\"data-analysis\"></a>"
      ]
    },
    {
      "cell_type": "markdown",
      "metadata": {
        "id": "olQbzus4DRIu"
      },
      "source": [
        "### Changes in metal concentrations <a class=\"anchor\" id=\"changes-in-metal-concentrations\"></a>\n",
        "\n",
        "Let's see how the concentrations of metals (Au, Ag, Pb) change at different stages of purification. To do this, three separate data frames for each metal at different stages of purification will be created, calculated the median values of the changes in concentration, visualized the changes and added numbers for clarity."
      ]
    },
    {
      "cell_type": "code",
      "source": [
        "# Extract concentration data for gold (Au), silver (Ag) and lead (Pb) at various stages of the process\n",
        "Au = df_full[['rougher.input.feed_au', 'rougher.output.concentrate_au',\n",
        "              'primary_cleaner.output.concentrate_au', 'final.output.concentrate_au']]\n",
        "Ag = df_full[['rougher.input.feed_ag', 'rougher.output.concentrate_ag',\n",
        "              'primary_cleaner.output.concentrate_ag', 'final.output.concentrate_ag']]\n",
        "Pb = df_full[['rougher.input.feed_pb', 'rougher.output.concentrate_pb',\n",
        "              'primary_cleaner.output.concentrate_pb', 'final.output.concentrate_pb']]"
      ],
      "metadata": {
        "id": "kqCuNS9oKg84"
      },
      "execution_count": 10,
      "outputs": []
    },
    {
      "cell_type": "code",
      "source": [
        "# Calculate median concentration for each stage of the process for each metal\n",
        "au_rough_input = Au['rougher.input.feed_au'].median()\n",
        "au_rough_output = Au['rougher.output.concentrate_au'].median()\n",
        "au_clean = Au['primary_cleaner.output.concentrate_au'].median()\n",
        "au_final = Au['final.output.concentrate_au'].median()\n",
        "\n",
        "ag_rough_input = Ag['rougher.input.feed_ag'].median()\n",
        "ag_rough_output = Ag['rougher.output.concentrate_ag'].median()\n",
        "ag_clean = Ag['primary_cleaner.output.concentrate_ag'].median()\n",
        "ag_final = Ag['final.output.concentrate_ag'].median()\n",
        "\n",
        "pb_rough_input = Pb['rougher.input.feed_pb'].median()\n",
        "pb_rough_output = Pb['rougher.output.concentrate_pb'].median()\n",
        "pb_clean = Pb['primary_cleaner.output.concentrate_pb'].median()\n",
        "pb_final = Pb['final.output.concentrate_pb'].median()\n",
        "\n",
        "# Create a dataframe to store the median concentration for each metal and each stage of the process\n",
        "metal_concentrate = pd.DataFrame(\n",
        "    {'Feed': [au_rough_input, ag_rough_input, pb_rough_input],\n",
        "     'Flotation': [au_rough_output, ag_rough_output, pb_rough_output],\n",
        "     'Primary cleaning': [au_clean, ag_clean, pb_clean],\n",
        "     'Final concentrate': [au_final, ag_final, pb_final]},\n",
        "    index=['Gold', 'Silver', 'Lead']\n",
        ")"
      ],
      "metadata": {
        "id": "MaiAzpxfMLe9"
      },
      "execution_count": 11,
      "outputs": []
    },
    {
      "cell_type": "code",
      "source": [
        "# Set up the graph\n",
        "sns.set(rc={'figure.figsize': (10, 15)}, color_codes=True)\n",
        "pal = sns.color_palette('Set2', 50)\n",
        "\n",
        "# Create a subplot with three graphs\n",
        "fig, axs = plt.subplots(3, 1)\n",
        "\n",
        "# Plot the distribution of concentration for gold (Au) at each stage of the process\n",
        "for column in list(Au):\n",
        "    sns.distplot(Au[column], ax=axs[0])\n",
        "axs[0].set(title='Gold', xlabel='Concentration')\n",
        "\n",
        "# Plot the distribution of concentration for silver (Ag) at each stage of the process\n",
        "for column in list(Ag):\n",
        "    sns.distplot(Ag[column], ax=axs[1])\n",
        "axs[1].set(title='Silver', xlabel='Concentration')\n",
        "\n",
        "# Plot the distribution of concentration for lead (Pb) at each stage of the process\n",
        "for column in list(Pb):\n",
        "    sns.distplot(Pb[column], ax=axs[2])\n",
        "axs[2].set(title='Lead', xlabel='Concentration')\n",
        "\n",
        "# Add a legend to the graph\n",
        "fig.legend(['Feed', 'Flotation', 'Primary cleaning', 'Final concentrate'])\n",
        "plt.tight_layout()\n",
        "plt.show()\n",
        "\n",
        "# Printing results\n",
        "print(f\"\\nResults: \\n{metal_concentrate}\")"
      ],
      "metadata": {
        "colab": {
          "base_uri": "https://localhost:8080/",
          "height": 1000
        },
        "id": "JIw-sDtMIe7U",
        "outputId": "64d7254d-d397-4c9e-9d98-3b83bb28e594"
      },
      "execution_count": 12,
      "outputs": [
        {
          "output_type": "display_data",
          "data": {
            "text/plain": [
              "<Figure size 720x1080 with 3 Axes>"
            ],
            "image/png": "[encoded data removed]"
          },
          "metadata": {}
        },
        {
          "output_type": "stream",
          "name": "stdout",
          "text": [
            "\n",
            "Results: \n",
            "            Feed  Flotation  Primary cleaning  Final concentrate\n",
            "Gold    8.125839  20.280214         32.841295          45.011244\n",
            "Silver  8.593574  12.098115          8.507298           5.066039\n",
            "Lead    3.528235   7.742580         10.142270          10.102264\n"
          ]
        }
      ]
    },
    {
      "cell_type": "markdown",
      "metadata": {
        "id": "pk54lpZpDRIw"
      },
      "source": [
        "### Particle size distribution of raw materials <a class=\"anchor\" id=\"particle-size-distribution-of-raw-materials\"></a>\n",
        "\n",
        "It is necessary to compare the particle size distributions of raw materials in the training and test sets. If the distributions differ significantly from each other, the model evaluation will be incorrect."
      ]
    },
    {
      "cell_type": "code",
      "source": [
        "# Create a figure with 2 subplots\n",
        "fig, axs = plt.subplots(2, 1, figsize=(10, 8))\n",
        "\n",
        "# Raw material\n",
        "axs[0].hist(df_train['rougher.input.feed_size'], bins=30, density=True, alpha=.5, color = 'tab:green', ec='w')\n",
        "axs[0].hist(df_test['rougher.input.feed_size'], bins=30, density=True, alpha=.5, color = 'tab:red', ec='w')\n",
        "axs[0].set(title='Particle size distribution in raw material', xlabel='Particle size', ylabel='Proportion')\n",
        "\n",
        "# Primary cleaning\n",
        "axs[1].hist(df_train['primary_cleaner.input.feed_size'], bins=30, density=True, alpha=.5, color = 'tab:green', ec='w')\n",
        "axs[1].hist(df_test['primary_cleaner.input.feed_size'], bins=30, density=True, alpha=.5, color = 'tab:red', ec='w')\n",
        "axs[1].set(title='Particle size distribution after primary cleaning', xlabel='Particle size', ylabel='Proportion')\n",
        "\n",
        "# Add legend and show the plot\n",
        "fig.legend(['Training set', 'Test set'])\n",
        "plt.tight_layout()\n",
        "fig.show()\n"
      ],
      "metadata": {
        "colab": {
          "base_uri": "https://localhost:8080/",
          "height": 588
        },
        "id": "DnXXC4qnJe_s",
        "outputId": "5a96d0be-9556-441a-94a3-90f7c01b1795"
      },
      "execution_count": 13,
      "outputs": [
        {
          "output_type": "display_data",
          "data": {
            "text/plain": [
              "<Figure size 720x576 with 2 Axes>"
            ],
            "image/png": "[encoded data removed]"
          },
          "metadata": {}
        }
      ]
    },
    {
      "cell_type": "markdown",
      "metadata": {
        "id": "yA3q4iOeDRI0"
      },
      "source": [
        "### Study of total concentration <a class=\"anchor\" id=\"study-of-total-concentration\"></a>\n",
        "\n",
        "It is necessary to study the total concentration of all substances at different stages: in the feed, in the rougher and final concentrates."
      ]
    },
    {
      "cell_type": "code",
      "source": [
        "# Dataframe `rougher.input` for every metal:\n",
        "rougher_input_full = df_full[\n",
        "    ['rougher.input.feed_ag', 'rougher.input.feed_au',\n",
        "     'rougher.input.feed_pb', 'rougher.input.feed_sol']\n",
        "].sum(axis=1)\n",
        "\n",
        "# Dataframe `rougher.output`:\n",
        "rougher_output_full = df_full[\n",
        "    ['rougher.output.concentrate_ag', 'rougher.output.concentrate_au',\n",
        "     'rougher.output.concentrate_pb', 'rougher.output.tail_sol']\n",
        "].sum(axis=1)\n",
        "\n",
        "# Dataframe `final.output`:\n",
        "final_output_full = df_full[\n",
        "    ['final.output.concentrate_ag', 'final.output.concentrate_au',\n",
        "     'final.output.concentrate_pb', 'final.output.concentrate_sol']\n",
        "].sum(axis=1)"
      ],
      "metadata": {
        "id": "b0QAHKKPL0Fs"
      },
      "execution_count": 14,
      "outputs": []
    },
    {
      "cell_type": "code",
      "execution_count": 15,
      "metadata": {
        "colab": {
          "base_uri": "https://localhost:8080/",
          "height": 365
        },
        "id": "AotGHXv0DRI1",
        "outputId": "16e08522-53da-4bc9-c46b-356f85830edd"
      },
      "outputs": [
        {
          "output_type": "display_data",
          "data": {
            "text/plain": [
              "<Figure size 720x360 with 1 Axes>"
            ],
            "image/png": "[encoded data removed]"
          },
          "metadata": {}
        }
      ],
      "source": [
        "# Settings for the plot\n",
        "sns.set(\n",
        "    rc={'figure.figsize': (10, 5)},\n",
        "    color_codes=True\n",
        ")\n",
        "pal = sns.color_palette('Set2')\n",
        "\n",
        "\n",
        "# Plot\n",
        "sns.distplot(rougher_input_full, kde=True, color='tab:blue')\n",
        "sns.distplot(rougher_output_full, kde=True, color='tab:orange')\n",
        "sns.distplot(final_output_full, kde=True, color='tab:red')\n",
        "plt.legend(['Raw feed', 'Rougher concentrate', 'Final concentrate'])\n",
        "plt.title('Total Concentration')\n",
        "plt.xlabel('Concentration')\n",
        "plt.ylabel('Ratio')\n",
        "plt.tight_layout()\n",
        "plt.show()"
      ]
    },
    {
      "cell_type": "markdown",
      "metadata": {
        "id": "XUnBc0UiDRI1"
      },
      "source": [
        "On the histogram above, minor outliers are visible in the range of 0 and 20. Everything below 20 will be removed."
      ]
    },
    {
      "cell_type": "code",
      "execution_count": 16,
      "metadata": {
        "scrolled": true,
        "id": "eAm_-Tk3DRI1"
      },
      "outputs": [],
      "source": [
        "df_train_clean = df_train.query(\n",
        "    '@rougher_input_full > 20 & @rougher_output_full > 20 & @final_output_full > 20'\n",
        ")\n",
        "df_test_clean = df_test.query(\n",
        "    '@rougher_input_full > 20 & @rougher_output_full > 20 & @final_output_full > 20'\n",
        ")\n",
        "df_full_clean = df_full.query(\n",
        "    '@rougher_input_full > 20 & @rougher_output_full > 20 & @final_output_full > 20'\n",
        ")"
      ]
    },
    {
      "cell_type": "markdown",
      "metadata": {
        "id": "aEUSn2HlDRIw"
      },
      "source": [
        "### Conclusion <a class=\"anchor\" id=\"data-analysis-conclusion\"></a>\n",
        "\n",
        "Regarding the three metals, the following can be concluded:\n",
        "\n",
        "- Gold: the concentration increases with each stage;\n",
        "- Silver: the concentration decreases after flotation;\n",
        "- Lead: the concentration increases up to primary cleaning and slightly decreases at the final stage;\n",
        "- Anomalies are visible for each of the three metals.\n",
        "\n",
        "\n",
        "It is noticeable from the above histograms that there are no significant differences between the two samples (training and testing). According to the condition, in this case, the model evaluation will be correct."
      ]
    },
    {
      "cell_type": "markdown",
      "metadata": {
        "id": "j4JN7duLDRI2"
      },
      "source": [
        "## Model <a class=\"anchor\" id=\"model\"></a>"
      ]
    },
    {
      "cell_type": "markdown",
      "metadata": {
        "id": "PvfCv-rcDRI2"
      },
      "source": [
        "### sMAPE calculation <a class=\"anchor\" id=\"smape-calculation\"></a>\n",
        "\n",
        "At this stage, it is necessary to write a function in accordance with the formula from the brief. A function for **sMAPE** (*Symmetric Mean Absolute Percentage Error*):\n",
        "\n",
        "$$ \\text{sMAPE} = \\frac{1}{N}\\sum_{i=1}^{N}{\\frac{|y_i - \\hat{y}_i|}{(|y_i| + |\\hat{y}_i|) / 2}} $$"
      ]
    },
    {
      "cell_type": "code",
      "execution_count": 17,
      "metadata": {
        "id": "eePjnlA3DRI2"
      },
      "outputs": [],
      "source": [
        "def smape(actual, forecast):\n",
        "    smape = 1/len(actual) * np.sum(2 * np.abs(forecast - actual) / (np.abs(actual) + np.abs(forecast)) * 100)\n",
        "    return smape"
      ]
    },
    {
      "cell_type": "markdown",
      "metadata": {
        "id": "phVoNDucDRI3"
      },
      "source": [
        "Final sMAPE function:\n",
        "\n",
        "$$ \\text{Finall sMAPE}=25\\% * \\text{sMAPE(rougher)} + 75\\% * \\text{sMAPE(final)} $$"
      ]
    },
    {
      "cell_type": "code",
      "execution_count": 18,
      "metadata": {
        "id": "0wqhElzxDRI3"
      },
      "outputs": [],
      "source": [
        "def total_smape(rougher, final):\n",
        "    return (0.25 * rougher + 0.75 * final)\n",
        "\n",
        "smape_score = make_scorer(smape, greater_is_better=False)"
      ]
    },
    {
      "cell_type": "markdown",
      "metadata": {
        "id": "bUTosmH0DRI3"
      },
      "source": [
        "### Datasets preparation <a class=\"anchor\" id=\"datasets-preparation\"></a>\n",
        "\n",
        "It is needed to train different models and evaluate their quality with cross-validation. Choose the best model and test it on the test sample."
      ]
    },
    {
      "cell_type": "code",
      "execution_count": 19,
      "metadata": {
        "id": "LVxCpu7nDRI3"
      },
      "outputs": [],
      "source": [
        "# Data scaling function\n",
        "def scaler_function(X_train, X_test):\n",
        "    scaler = StandardScaler()\n",
        "    scaler.fit(X_train)\n",
        "    X_train = scaler.transform(X_train)\n",
        "    X_test = scaler.transform(X_test)\n",
        "    return X_train, X_test"
      ]
    },
    {
      "cell_type": "code",
      "source": [
        "# Rougher stage data\n",
        "rougher_cols = [col for col in df_test_clean.columns if 'rougher' in col]\n",
        "X_test_rougher = df_test_clean[rougher_cols]\n",
        "X_train_rougher = df_train_clean[rougher_cols]\n",
        "y_train_rougher = df_train_clean['rougher.output.recovery']\n",
        "y_test_rougher = df_full_clean.loc[X_test_rougher.index, 'rougher.output.recovery']\n",
        "\n",
        "# Final stage data\n",
        "X_final = list(df_test_clean.columns)\n",
        "X_train_final = df_train_clean[X_final]\n",
        "X_test_final = df_test_clean[X_final]\n",
        "y_train_final = df_train_clean['final.output.recovery']\n",
        "y_test_final = df_full_clean.loc[X_test_final.index, 'final.output.recovery']\n",
        "\n",
        "# Printing shapes of dataframes of each stage\n",
        "print(\"Original data shapes:\")\n",
        "print(\"df_train:\", df_train.shape)\n",
        "print(\"df_test:\", df_test.shape)\n",
        "print(\"df_full:\", df_full.shape)\n",
        "print(\"-\")\n",
        "print(\"Cleaned data shapes:\")\n",
        "print(\"df_train_clean:\", df_train_clean.shape)\n",
        "print(\"df_test_clean:\", df_test_clean.shape)\n",
        "print(\"df_full_clean:\", df_full_clean.shape)\n",
        "print(\"-\")\n",
        "print(\"Rougher stage shapes:\")\n",
        "print(\"X_train_rougher:\", X_train_rougher.shape)\n",
        "print(\"X_test_rougher:\", X_test_rougher.shape)\n",
        "print(\"y_train_rougher:\", y_train_rougher.shape)\n",
        "print(\"y_test_rougher:\", y_test_rougher.shape)\n",
        "print(\"-\")\n",
        "print(\"Final stage shapes:\")\n",
        "print(\"X_train_final:\", X_train_final.shape)\n",
        "print(\"X_test_final:\", X_test_final.shape)\n",
        "print(\"y_train_final:\", y_train_final.shape)\n",
        "print(\"y_test_final:\", y_test_final.shape)"
      ],
      "metadata": {
        "colab": {
          "base_uri": "https://localhost:8080/"
        },
        "id": "6OYOapPeSgw0",
        "outputId": "559c2235-eba9-4f35-88e8-7936fd1b816b"
      },
      "execution_count": 20,
      "outputs": [
        {
          "output_type": "stream",
          "name": "stdout",
          "text": [
            "Original data shapes:\n",
            "df_train: (14149, 86)\n",
            "df_test: (5290, 52)\n",
            "df_full: (19439, 86)\n",
            "-\n",
            "Cleaned data shapes:\n",
            "df_train_clean: (13785, 86)\n",
            "df_test_clean: (5165, 52)\n",
            "df_full_clean: (18950, 86)\n",
            "-\n",
            "Rougher stage shapes:\n",
            "X_train_rougher: (13785, 22)\n",
            "X_test_rougher: (5165, 22)\n",
            "y_train_rougher: (13785,)\n",
            "y_test_rougher: (5165,)\n",
            "-\n",
            "Final stage shapes:\n",
            "X_train_final: (13785, 52)\n",
            "X_test_final: (5165, 52)\n",
            "y_train_final: (13785,)\n",
            "y_test_final: (5165,)\n"
          ]
        }
      ]
    },
    {
      "cell_type": "code",
      "execution_count": 21,
      "metadata": {
        "id": "mVM6l2mkDRI4"
      },
      "outputs": [],
      "source": [
        "# Scaling\n",
        "X_train_rougher_scaled, X_test_rougher_scaled = scaler_function(X_train_rougher, X_test_rougher)\n",
        "X_train_final_scaled, X_test_final_scaled = scaler_function(X_train_final, X_test_final)"
      ]
    },
    {
      "cell_type": "markdown",
      "metadata": {
        "id": "iRQPIWjqDRI5"
      },
      "source": [
        "### Hyperparameter tuning <a class=\"anchor\" id=\"hyperparameter-tuning\"></a>\n",
        "\n",
        "Hyperparameter tuning for the first stage.\n"
      ]
    },
    {
      "cell_type": "code",
      "source": [
        "# Passing hyperparameters to RandomizedSearchCV:\n",
        "params_rfr = {\n",
        "    'n_estimators': range(250, 1500, 250),\n",
        "    'min_samples_leaf': range(125, 225, 25),\n",
        "    'max_depth' : [20, 40, 80, 90, 120]\n",
        "}\n",
        "params_dtr = {\n",
        "    'min_samples_split': range(2, 20, 1),\n",
        "    'min_samples_leaf': range(10, 400, 5),\n",
        "    'max_depth' : range(1, 100, 2)\n",
        "}\n",
        "\n",
        "# Iterations and cross-validation values\n",
        "n_iter = 6\n",
        "cv = 2"
      ],
      "metadata": {
        "id": "ZmvKW26uNpoM"
      },
      "execution_count": 22,
      "outputs": []
    },
    {
      "cell_type": "code",
      "execution_count": 23,
      "metadata": {
        "scrolled": true,
        "colab": {
          "base_uri": "https://localhost:8080/"
        },
        "id": "QK38V0qwDRI5",
        "outputId": "d6036aef-bf93-437b-82cf-b677523c4a6c"
      },
      "outputs": [
        {
          "output_type": "stream",
          "name": "stdout",
          "text": [
            "Fitting 2 folds for each of 6 candidates, totalling 12 fits\n",
            "\n",
            "Best parameters for RandomForestRegressor(random_state=8080): \n",
            " {'n_estimators': 250, 'min_samples_leaf': 175, 'max_depth': 90} \n",
            "\n",
            "CPU times: user 38.6 s, sys: 267 ms, total: 38.9 s\n",
            "Wall time: 6min\n"
          ]
        }
      ],
      "source": [
        "%%time\n",
        "\n",
        "# RandomForestRegressor\n",
        "clf = RandomForestRegressor(random_state=8080)\n",
        "grid_rfr_rougher = RandomizedSearchCV(\n",
        "    estimator=clf,\n",
        "    param_distributions=params_rfr,\n",
        "    n_iter=n_iter,\n",
        "    n_jobs=-1,\n",
        "    cv=cv,\n",
        "    verbose=10)\n",
        "grid_rfr_rougher.fit(X_train_rougher_scaled, y_train_rougher)\n",
        "random_forest_params_rougher = grid_rfr_rougher.best_params_\n",
        "print(f\"\\nBest parameters for {clf}: \\n {random_forest_params_rougher} \\n\")"
      ]
    },
    {
      "cell_type": "code",
      "source": [
        "%%time\n",
        "\n",
        "# DecisionTreeRegressor\n",
        "clf = DecisionTreeRegressor(random_state=8080)\n",
        "grid_dtr_rougher = RandomizedSearchCV(\n",
        "    estimator=clf,\n",
        "    param_distributions=params_dtr,\n",
        "    n_iter=n_iter,\n",
        "    n_jobs=-1,\n",
        "    cv=cv,\n",
        "    verbose=10)\n",
        "grid_dtr_rougher.fit(X_train_rougher_scaled, y_train_rougher)\n",
        "decision_tree_params_rougher = grid_dtr_rougher.best_params_\n",
        "print(f\"\\nBest parameters for {clf}: \\n {decision_tree_params_rougher} \\n\")"
      ],
      "metadata": {
        "colab": {
          "base_uri": "https://localhost:8080/"
        },
        "id": "bEI9amCdo3IR",
        "outputId": "5aa312f0-85b7-49db-8092-6cb7f99f2f07"
      },
      "execution_count": 24,
      "outputs": [
        {
          "output_type": "stream",
          "name": "stdout",
          "text": [
            "Fitting 2 folds for each of 6 candidates, totalling 12 fits\n",
            "\n",
            "Best parameters for DecisionTreeRegressor(random_state=8080): \n",
            " {'min_samples_split': 18, 'min_samples_leaf': 195, 'max_depth': 39} \n",
            "\n",
            "CPU times: user 301 ms, sys: 0 ns, total: 301 ms\n",
            "Wall time: 1.22 s\n"
          ]
        }
      ]
    },
    {
      "cell_type": "code",
      "source": [
        "# Define the subplots\n",
        "fig, axs = plt.subplots(ncols=3, nrows=2, figsize=(15, 10))\n",
        "\n",
        "# Random Forest Regressor - Rougher Stage\n",
        "sns.lineplot(x='param_n_estimators', y='mean_test_score', data=pd.DataFrame(grid_rfr_rougher.cv_results_), ax=axs[0,0])\n",
        "sns.lineplot(x='param_min_samples_leaf', y='mean_test_score', data=pd.DataFrame(grid_rfr_rougher.cv_results_), ax=axs[0,1])\n",
        "sns.lineplot(x='param_max_depth', y='mean_test_score', data=pd.DataFrame(grid_rfr_rougher.cv_results_), ax=axs[0,2])\n",
        "\n",
        "# Decision Tree Regressor - Rougher Stage\n",
        "sns.lineplot(x='param_min_samples_split', y='mean_test_score', data=pd.DataFrame(grid_dtr_rougher.cv_results_), ax=axs[1,0])\n",
        "sns.lineplot(x='param_min_samples_leaf', y='mean_test_score', data=pd.DataFrame(grid_dtr_rougher.cv_results_), ax=axs[1,1])\n",
        "sns.lineplot(x='param_max_depth', y='mean_test_score', data=pd.DataFrame(grid_dtr_rougher.cv_results_), ax=axs[1,2])\n",
        "\n",
        "# Add titles and labels to the subplots\n",
        "axs[0,0].set(title='Random Forest Regressor - Rougher Stage', xlabel='n_estimators', ylabel='mean_test_score')\n",
        "axs[0,1].set(title='Random Forest Regressor - Rougher Stage', xlabel='min_samples_leaf', ylabel='')\n",
        "axs[0,2].set(title='Random Forest Regressor - Rougher Stage', xlabel='max_depth', ylabel='')\n",
        "\n",
        "axs[1,0].set(title='Decision Tree Regressor - Rougher Stage', xlabel='min_samples_split', ylabel='mean_test_score')\n",
        "axs[1,1].set(title='Decision Tree Regressor - Rougher Stage', xlabel='min_samples_leaf', ylabel='')\n",
        "axs[1,2].set(title='Decision Tree Regressor - Rougher Stage', xlabel='max_depth', ylabel='')\n",
        "\n",
        "# Adjust the layout and spacing of the subplots\n",
        "plt.tight_layout()"
      ],
      "metadata": {
        "colab": {
          "base_uri": "https://localhost:8080/",
          "height": 586
        },
        "id": "kjNgISygHWHb",
        "outputId": "4af3bb25-007c-4ec3-a50f-f936ac2244c6"
      },
      "execution_count": 25,
      "outputs": [
        {
          "output_type": "display_data",
          "data": {
            "text/plain": [
              "<Figure size 1080x720 with 6 Axes>"
            ],
            "image/png": "[encoded data removed]"
          },
          "metadata": {}
        }
      ]
    },
    {
      "cell_type": "markdown",
      "metadata": {
        "id": "yCSpu_xODRI6"
      },
      "source": [
        "Hyperparameter tuning for the final stage."
      ]
    },
    {
      "cell_type": "code",
      "execution_count": 26,
      "metadata": {
        "id": "bwYC0A60DRI6",
        "colab": {
          "base_uri": "https://localhost:8080/"
        },
        "outputId": "efee94a3-2c0c-46d2-bc29-bf68385621d1"
      },
      "outputs": [
        {
          "output_type": "stream",
          "name": "stdout",
          "text": [
            "Fitting 2 folds for each of 6 candidates, totalling 12 fits\n",
            "\n",
            "Best parameters for RandomForestRegressor(random_state=8080): \n",
            " {'n_estimators': 500, 'min_samples_leaf': 150, 'max_depth': 40} \n",
            "\n",
            "CPU times: user 2min 51s, sys: 517 ms, total: 2min 51s\n",
            "Wall time: 16min 17s\n"
          ]
        }
      ],
      "source": [
        "%%time\n",
        "\n",
        "# RandomForestRegressor\n",
        "clf = RandomForestRegressor(random_state=8080)\n",
        "grid_rfr_final = RandomizedSearchCV(\n",
        "    estimator=clf,\n",
        "    param_distributions=params_rfr,\n",
        "    n_iter=n_iter,\n",
        "    n_jobs=-1,\n",
        "    cv=cv,\n",
        "    verbose=10)\n",
        "grid_rfr_final.fit(X_train_final_scaled, y_train_final)\n",
        "random_forest_params_final = grid_rfr_final.best_params_\n",
        "print(f\"\\nBest parameters for {clf}: \\n {random_forest_params_final} \\n\")"
      ]
    },
    {
      "cell_type": "code",
      "source": [
        "%%time\n",
        "\n",
        "# DecisionTreeRegressor\n",
        "clf = DecisionTreeRegressor(random_state=8080)\n",
        "grid_dtr_final = RandomizedSearchCV(\n",
        "    estimator=clf,\n",
        "    param_distributions=params_dtr,\n",
        "    n_iter=n_iter,\n",
        "    n_jobs=-1,\n",
        "    cv=cv,\n",
        "    verbose=10)\n",
        "grid_dtr_final.fit(X_train_final_scaled, y_train_final)\n",
        "decision_tree_params_final = grid_dtr_final.best_params_\n",
        "print(f\"\\nBest parameters for {clf}: \\n {decision_tree_params_final} \\n\")"
      ],
      "metadata": {
        "colab": {
          "base_uri": "https://localhost:8080/"
        },
        "id": "hbKb8rSjprd5",
        "outputId": "db01a403-cfad-4bd6-8a3c-1754ef481738"
      },
      "execution_count": 27,
      "outputs": [
        {
          "output_type": "stream",
          "name": "stdout",
          "text": [
            "Fitting 2 folds for each of 6 candidates, totalling 12 fits\n",
            "\n",
            "Best parameters for DecisionTreeRegressor(random_state=8080): \n",
            " {'min_samples_split': 19, 'min_samples_leaf': 160, 'max_depth': 7} \n",
            "\n",
            "CPU times: user 564 ms, sys: 6.04 ms, total: 570 ms\n",
            "Wall time: 2.2 s\n"
          ]
        }
      ]
    },
    {
      "cell_type": "code",
      "execution_count": 28,
      "metadata": {
        "id": "If8f6_bRDRI7",
        "colab": {
          "base_uri": "https://localhost:8080/",
          "height": 586
        },
        "outputId": "412d54f5-1427-4d98-b0af-7a85ecea10b6"
      },
      "outputs": [
        {
          "output_type": "display_data",
          "data": {
            "text/plain": [
              "<Figure size 1080x720 with 6 Axes>"
            ],
            "image/png": "[encoded data removed]"
          },
          "metadata": {}
        }
      ],
      "source": [
        "# Define the subplots\n",
        "fig, axs = plt.subplots(ncols=3, nrows=2, figsize=(15, 10))\n",
        "\n",
        "# Random Forest Regressor - Final Stage\n",
        "sns.lineplot(x='param_n_estimators', y='mean_test_score', data=pd.DataFrame(grid_rfr_final.cv_results_), ax=axs[0,0])\n",
        "sns.lineplot(x='param_min_samples_leaf', y='mean_test_score', data=pd.DataFrame(grid_rfr_final.cv_results_), ax=axs[0,1])\n",
        "sns.lineplot(x='param_max_depth', y='mean_test_score', data=pd.DataFrame(grid_rfr_final.cv_results_), ax=axs[0,2])\n",
        "\n",
        "# Decision Tree Regressor - Final Stage\n",
        "sns.lineplot(x='param_min_samples_split', y='mean_test_score', data=pd.DataFrame(grid_dtr_final.cv_results_), ax=axs[1,0])\n",
        "sns.lineplot(x='param_min_samples_leaf', y='mean_test_score', data=pd.DataFrame(grid_dtr_final.cv_results_), ax=axs[1,1])\n",
        "sns.lineplot(x='param_max_depth', y='mean_test_score', data=pd.DataFrame(grid_dtr_final.cv_results_), ax=axs[1,2])\n",
        "\n",
        "# Add titles and labels to the subplots\n",
        "axs[0,0].set(title='Random Forest Regressor - Final Stage', xlabel='n_estimators', ylabel='mean_test_score')\n",
        "axs[0,1].set(title='Random Forest Regressor - Final Stage', xlabel='min_samples_leaf', ylabel='')\n",
        "axs[0,2].set(title='Random Forest Regressor - Final Stage', xlabel='max_depth', ylabel='')\n",
        "\n",
        "axs[1,0].set(title='Decision Tree Regressor - Final Stage', xlabel='min_samples_split', ylabel='mean_test_score')\n",
        "axs[1,1].set(title='Decision Tree Regressor - Final Stage', xlabel='min_samples_leaf', ylabel='')\n",
        "axs[1,2].set(title='Decision Tree Regressor - Final Stage', xlabel='max_depth', ylabel='')\n",
        "\n",
        "# Adjust the layout and spacing of the subplots\n",
        "plt.tight_layout()"
      ]
    },
    {
      "cell_type": "code",
      "source": [
        "print(f\"Best founded hyperparameters:\")\n",
        "params_vals = {'RFR_rough'  : random_forest_params_rougher,\n",
        "               'DTR_rough'  : decision_tree_params_rougher,\n",
        "               'RFR_final'  : random_forest_params_final,\n",
        "               'DTR_final'  : decision_tree_params_final}\n",
        "params_df = pd.DataFrame(params_vals)\n",
        "params_df.fillna('', inplace=True)\n",
        "params_df"
      ],
      "metadata": {
        "id": "VVYsbqImD1kU",
        "colab": {
          "base_uri": "https://localhost:8080/",
          "height": 192
        },
        "outputId": "63bc90e2-3d68-40a5-89cc-1d763046ea0a"
      },
      "execution_count": 29,
      "outputs": [
        {
          "output_type": "stream",
          "name": "stdout",
          "text": [
            "Best founded hyperparameters:\n"
          ]
        },
        {
          "output_type": "execute_result",
          "data": {
            "text/plain": [
              "                  RFR_rough DTR_rough RFR_final DTR_final\n",
              "n_estimators          250.0               500.0          \n",
              "min_samples_leaf      175.0     195.0     150.0     160.0\n",
              "max_depth              90.0      39.0      40.0       7.0\n",
              "min_samples_split                18.0                19.0"
            ],
            "text/html": [
              "\n",
              "  <div id=\"df-4a0899ea-711f-4797-8d9c-d47c9d1ea60d\">\n",
              "    <div class=\"colab-df-container\">\n",
              "      <div>\n",
              "<style scoped>\n",
              "    .dataframe tbody tr th:only-of-type {\n",
              "        vertical-align: middle;\n",
              "    }\n",
              "\n",
              "    .dataframe tbody tr th {\n",
              "        vertical-align: top;\n",
              "    }\n",
              "\n",
              "    .dataframe thead th {\n",
              "        text-align: right;\n",
              "    }\n",
              "</style>\n",
              "<table border=\"1\" class=\"dataframe\">\n",
              "  <thead>\n",
              "    <tr style=\"text-align: right;\">\n",
              "      <th></th>\n",
              "      <th>RFR_rough</th>\n",
              "      <th>DTR_rough</th>\n",
              "      <th>RFR_final</th>\n",
              "      <th>DTR_final</th>\n",
              "    </tr>\n",
              "  </thead>\n",
              "  <tbody>\n",
              "    <tr>\n",
              "      <th>n_estimators</th>\n",
              "      <td>250.0</td>\n",
              "      <td></td>\n",
              "      <td>500.0</td>\n",
              "      <td></td>\n",
              "    </tr>\n",
              "    <tr>\n",
              "      <th>min_samples_leaf</th>\n",
              "      <td>175.0</td>\n",
              "      <td>195.0</td>\n",
              "      <td>150.0</td>\n",
              "      <td>160.0</td>\n",
              "    </tr>\n",
              "    <tr>\n",
              "      <th>max_depth</th>\n",
              "      <td>90.0</td>\n",
              "      <td>39.0</td>\n",
              "      <td>40.0</td>\n",
              "      <td>7.0</td>\n",
              "    </tr>\n",
              "    <tr>\n",
              "      <th>min_samples_split</th>\n",
              "      <td></td>\n",
              "      <td>18.0</td>\n",
              "      <td></td>\n",
              "      <td>19.0</td>\n",
              "    </tr>\n",
              "  </tbody>\n",
              "</table>\n",
              "</div>\n",
              "      <button class=\"colab-df-convert\" onclick=\"convertToInteractive('df-4a0899ea-711f-4797-8d9c-d47c9d1ea60d')\"\n",
              "              title=\"Convert this dataframe to an interactive table.\"\n",
              "              style=\"display:none;\">\n",
              "        \n",
              "  <svg xmlns=\"http://www.w3.org/2000/svg\" height=\"24px\"viewBox=\"0 0 24 24\"\n",
              "       width=\"24px\">\n",
              "    <path d=\"M0 0h24v24H0V0z\" fill=\"none\"/>\n",
              "    <path d=\"M18.56 5.44l.94 2.06.94-2.06 2.06-.94-2.06-.94-.94-2.06-.94 2.06-2.06.94zm-11 1L8.5 8.5l.94-2.06 2.06-.94-2.06-.94L8.5 2.5l-.94 2.06-2.06.94zm10 10l.94 2.06.94-2.06 2.06-.94-2.06-.94-.94-2.06-.94 2.06-2.06.94z\"/><path d=\"M17.41 7.96l-1.37-1.37c-.4-.4-.92-.59-1.43-.59-.52 0-1.04.2-1.43.59L10.3 9.45l-7.72 7.72c-.78.78-.78 2.05 0 2.83L4 21.41c.39.39.9.59 1.41.59.51 0 1.02-.2 1.41-.59l7.78-7.78 2.81-2.81c.8-.78.8-2.07 0-2.86zM5.41 20L4 18.59l7.72-7.72 1.47 1.35L5.41 20z\"/>\n",
              "  </svg>\n",
              "      </button>\n",
              "      \n",
              "  <style>\n",
              "    .colab-df-container {\n",
              "      display:flex;\n",
              "      flex-wrap:wrap;\n",
              "      gap: 12px;\n",
              "    }\n",
              "\n",
              "    .colab-df-convert {\n",
              "      background-color: #E8F0FE;\n",
              "      border: none;\n",
              "      border-radius: 50%;\n",
              "      cursor: pointer;\n",
              "      display: none;\n",
              "      fill: #1967D2;\n",
              "      height: 32px;\n",
              "      padding: 0 0 0 0;\n",
              "      width: 32px;\n",
              "    }\n",
              "\n",
              "    .colab-df-convert:hover {\n",
              "      background-color: #E2EBFA;\n",
              "      box-shadow: 0px 1px 2px rgba(60, 64, 67, 0.3), 0px 1px 3px 1px rgba(60, 64, 67, 0.15);\n",
              "      fill: #174EA6;\n",
              "    }\n",
              "\n",
              "    [theme=dark] .colab-df-convert {\n",
              "      background-color: #3B4455;\n",
              "      fill: #D2E3FC;\n",
              "    }\n",
              "\n",
              "    [theme=dark] .colab-df-convert:hover {\n",
              "      background-color: #434B5C;\n",
              "      box-shadow: 0px 1px 3px 1px rgba(0, 0, 0, 0.15);\n",
              "      filter: drop-shadow(0px 1px 2px rgba(0, 0, 0, 0.3));\n",
              "      fill: #FFFFFF;\n",
              "    }\n",
              "  </style>\n",
              "\n",
              "      <script>\n",
              "        const buttonEl =\n",
              "          document.querySelector('#df-4a0899ea-711f-4797-8d9c-d47c9d1ea60d button.colab-df-convert');\n",
              "        buttonEl.style.display =\n",
              "          google.colab.kernel.accessAllowed ? 'block' : 'none';\n",
              "\n",
              "        async function convertToInteractive(key) {\n",
              "          const element = document.querySelector('#df-4a0899ea-711f-4797-8d9c-d47c9d1ea60d');\n",
              "          const dataTable =\n",
              "            await google.colab.kernel.invokeFunction('convertToInteractive',\n",
              "                                                     [key], {});\n",
              "          if (!dataTable) return;\n",
              "\n",
              "          const docLinkHtml = 'Like what you see? Visit the ' +\n",
              "            '<a target=\"_blank\" href=https://colab.research.google.com/notebooks/data_table.ipynb>data table notebook</a>'\n",
              "            + ' to learn more about interactive tables.';\n",
              "          element.innerHTML = '';\n",
              "          dataTable['output_type'] = 'display_data';\n",
              "          await google.colab.output.renderOutput(dataTable, element);\n",
              "          const docLink = document.createElement('div');\n",
              "          docLink.innerHTML = docLinkHtml;\n",
              "          element.appendChild(docLink);\n",
              "        }\n",
              "      </script>\n",
              "    </div>\n",
              "  </div>\n",
              "  "
            ]
          },
          "metadata": {},
          "execution_count": 29
        }
      ]
    },
    {
      "cell_type": "markdown",
      "metadata": {
        "id": "nWhv4H_vDRI7"
      },
      "source": [
        "### Models training <a class=\"anchor\" id=\"models-training\"></a>\n",
        "\n",
        "First stage."
      ]
    },
    {
      "cell_type": "code",
      "source": [
        "%%time\n",
        "\n",
        "# RandomForestRegressor\n",
        "random_forest_rougher = RandomForestRegressor(\n",
        "    n_estimators=random_forest_params_rougher.get('n_estimators'),\n",
        "    min_samples_leaf=random_forest_params_rougher.get('min_samples_leaf'),\n",
        "    max_depth=random_forest_params_rougher.get('max_depth'),\n",
        "    random_state=8080)\n",
        "random_forest_rougher.fit(X_train_rougher_scaled, y_train_rougher)\n",
        "predictions_rfr_rougher = random_forest_rougher.predict(X_train_rougher_scaled)\n",
        "smape_rfr_rougher = smape(y_train_rougher, predictions_rfr_rougher)\n",
        "print(f\"sMAPE for {random_forest_rougher}: {smape_rfr_rougher:.4f}\\n\")"
      ],
      "metadata": {
        "id": "vr_tiw6pJfll",
        "colab": {
          "base_uri": "https://localhost:8080/"
        },
        "outputId": "e6c2b9de-7afe-4390-ad12-fbf8e464bd0e"
      },
      "execution_count": 30,
      "outputs": [
        {
          "output_type": "stream",
          "name": "stdout",
          "text": [
            "sMAPE for RandomForestRegressor(max_depth=90, min_samples_leaf=175, n_estimators=250,\n",
            "                      random_state=8080): 9.1812\n",
            "\n",
            "CPU times: user 37.1 s, sys: 48.3 ms, total: 37.2 s\n",
            "Wall time: 37.1 s\n"
          ]
        }
      ]
    },
    {
      "cell_type": "code",
      "source": [
        "%%time\n",
        "\n",
        "# DecisionTreeRegressor\n",
        "decision_tree_rougher = DecisionTreeRegressor(\n",
        "    min_samples_split=decision_tree_params_rougher.get('min_samples_split'),\n",
        "    min_samples_leaf=decision_tree_params_rougher.get('min_samples_leaf'),\n",
        "    max_depth=decision_tree_params_rougher.get('max_depth'),\n",
        "    random_state=8080)\n",
        "decision_tree_rougher.fit(X_train_rougher_scaled, y_train_rougher)\n",
        "predictions_dtr_rougher = decision_tree_rougher.predict(X_train_rougher_scaled)\n",
        "smape_dtr_rougher = smape(y_train_rougher, predictions_dtr_rougher)\n",
        "print(f\"sMAPE for {decision_tree_rougher}: {smape_dtr_rougher:.4f}\\n\")"
      ],
      "metadata": {
        "id": "-r2mUsBdLpYk",
        "colab": {
          "base_uri": "https://localhost:8080/"
        },
        "outputId": "fd5d6915-3ee5-4994-d6f4-f2dc0280881f"
      },
      "execution_count": 31,
      "outputs": [
        {
          "output_type": "stream",
          "name": "stdout",
          "text": [
            "sMAPE for DecisionTreeRegressor(max_depth=39, min_samples_leaf=195, min_samples_split=18,\n",
            "                      random_state=8080): 9.3123\n",
            "\n",
            "CPU times: user 261 ms, sys: 984 µs, total: 262 ms\n",
            "Wall time: 264 ms\n"
          ]
        }
      ]
    },
    {
      "cell_type": "code",
      "execution_count": 32,
      "metadata": {
        "id": "7N-LuU1ODRI7",
        "colab": {
          "base_uri": "https://localhost:8080/"
        },
        "outputId": "b5cb239a-64f3-4e58-800b-77da1358730a"
      },
      "outputs": [
        {
          "output_type": "stream",
          "name": "stdout",
          "text": [
            "sMAPE for LinearRegression(): 16.0175\n",
            "\n",
            "CPU times: user 41.6 ms, sys: 32.1 ms, total: 73.7 ms\n",
            "Wall time: 44 ms\n"
          ]
        }
      ],
      "source": [
        "%%time\n",
        "\n",
        "# LinearRegression\n",
        "linear_reg_rougher = LinearRegression()\n",
        "smape_lr_rougher = abs(cross_val_score(estimator=linear_reg_rougher,\n",
        "                            X=X_train_rougher_scaled,\n",
        "                            y=y_train_rougher,\n",
        "                            cv=cv,\n",
        "                            scoring=smape_score)).mean()\n",
        "print(f\"sMAPE for {linear_reg_rougher}: {smape_lr_rougher:.4f}\\n\")"
      ]
    },
    {
      "cell_type": "markdown",
      "metadata": {
        "id": "XRgHRMfHDRI7"
      },
      "source": [
        "Training for final stage."
      ]
    },
    {
      "cell_type": "code",
      "source": [
        "%%time\n",
        "\n",
        "# RandomForestRegressor\n",
        "random_forest_final = RandomForestRegressor(\n",
        "    n_estimators=random_forest_params_final.get('n_estimators'),\n",
        "    min_samples_leaf=random_forest_params_final.get('min_samples_leaf'),\n",
        "    max_depth=random_forest_params_final.get('max_depth'),\n",
        "    random_state=8080)\n",
        "random_forest_final.fit(X_train_final_scaled, y_train_final)\n",
        "predictions_rfr_final = random_forest_final.predict(X_train_final_scaled)\n",
        "smape_rfr_final = smape(y_train_final, predictions_rfr_final)\n",
        "print(f\"sMAPE for {random_forest_final}: {smape_rfr_final:.4f}\\n\")"
      ],
      "metadata": {
        "id": "FUF9h5iHMNKy",
        "colab": {
          "base_uri": "https://localhost:8080/"
        },
        "outputId": "a66ceea5-99ba-4efc-f096-64273cb5a217"
      },
      "execution_count": 33,
      "outputs": [
        {
          "output_type": "stream",
          "name": "stdout",
          "text": [
            "sMAPE for RandomForestRegressor(max_depth=40, min_samples_leaf=150, n_estimators=500,\n",
            "                      random_state=8080): 7.7535\n",
            "\n",
            "CPU times: user 2min 46s, sys: 266 ms, total: 2min 46s\n",
            "Wall time: 2min 46s\n"
          ]
        }
      ]
    },
    {
      "cell_type": "code",
      "source": [
        "%%time\n",
        "\n",
        "# DecisionTreeRegressor\n",
        "decision_tree_final = DecisionTreeRegressor(\n",
        "    min_samples_split=decision_tree_params_final.get('min_samples_split'),\n",
        "    min_samples_leaf=decision_tree_params_final.get('min_samples_leaf'),\n",
        "    max_depth=decision_tree_params_final.get('max_depth'),\n",
        "    random_state=8080)\n",
        "decision_tree_final.fit(X_train_final_scaled, y_train_final)\n",
        "predictions_dtr_final = decision_tree_final.predict(X_train_final_scaled)\n",
        "smape_dtr_final = smape(y_train_final, predictions_dtr_final)\n",
        "print(f\"sMAPE for {decision_tree_final}: {smape_dtr_final:.4f}\\n\")"
      ],
      "metadata": {
        "id": "Jtg50gIZMUAW",
        "colab": {
          "base_uri": "https://localhost:8080/"
        },
        "outputId": "9be5e0cb-1c9a-4e91-a860-e70d0d597c5a"
      },
      "execution_count": 34,
      "outputs": [
        {
          "output_type": "stream",
          "name": "stdout",
          "text": [
            "sMAPE for DecisionTreeRegressor(max_depth=7, min_samples_leaf=160, min_samples_split=19,\n",
            "                      random_state=8080): 8.1924\n",
            "\n",
            "CPU times: user 517 ms, sys: 1.98 ms, total: 519 ms\n",
            "Wall time: 518 ms\n"
          ]
        }
      ]
    },
    {
      "cell_type": "code",
      "source": [
        "%%time\n",
        "\n",
        "# LinearRegression\n",
        "linear_reg_final = LinearRegression()\n",
        "smape_lr_final = abs(cross_val_score(estimator=linear_reg_final,\n",
        "                            X=X_train_final_scaled,\n",
        "                            y=y_train_final,\n",
        "                            cv=cv,\n",
        "                            scoring=smape_score)).mean()\n",
        "print(f\"sMAPE for {linear_reg_final}: {smape_lr_final:.4f}\\n\")"
      ],
      "metadata": {
        "id": "wolwIpRvMXaW",
        "colab": {
          "base_uri": "https://localhost:8080/"
        },
        "outputId": "95663e51-4388-4f32-bf82-188548cbc9a0"
      },
      "execution_count": 35,
      "outputs": [
        {
          "output_type": "stream",
          "name": "stdout",
          "text": [
            "sMAPE for LinearRegression(): 13.3177\n",
            "\n",
            "CPU times: user 58.9 ms, sys: 38 ms, total: 97 ms\n",
            "Wall time: 67.2 ms\n"
          ]
        }
      ]
    },
    {
      "cell_type": "markdown",
      "source": [
        "### sMAPE results <a class=\"anchor\" id=\"smape-results\"></a>"
      ],
      "metadata": {
        "id": "a0L9tLJLRpro"
      }
    },
    {
      "cell_type": "code",
      "source": [
        "print(f\"Final sMAPE results:\")\n",
        "names = ['RFR', 'DTR', 'LR']\n",
        "smape_results = [total_smape(smape_rfr_rougher, smape_rfr_final),\n",
        "                 total_smape(smape_dtr_rougher, smape_dtr_final),\n",
        "                 total_smape(smape_lr_rougher, smape_lr_final)]\n",
        "smape_results_data = {'Final sMAPE': smape_results}\n",
        "\n",
        "smape_results_df = pd.DataFrame(smape_results_data, index=names).sort_values(by='Final sMAPE')\n",
        "smape_results_df"
      ],
      "metadata": {
        "id": "dFGH3GohRzaM",
        "colab": {
          "base_uri": "https://localhost:8080/",
          "height": 160
        },
        "outputId": "7d9d76a4-49b1-479b-b259-6874def689ba"
      },
      "execution_count": 36,
      "outputs": [
        {
          "output_type": "stream",
          "name": "stdout",
          "text": [
            "Final sMAPE results:\n"
          ]
        },
        {
          "output_type": "execute_result",
          "data": {
            "text/plain": [
              "     Final sMAPE\n",
              "RFR     8.110401\n",
              "DTR     8.472363\n",
              "LR     13.992635"
            ],
            "text/html": [
              "\n",
              "  <div id=\"df-390ca862-1ee4-4ba4-a4a7-0c5e8fd95c38\">\n",
              "    <div class=\"colab-df-container\">\n",
              "      <div>\n",
              "<style scoped>\n",
              "    .dataframe tbody tr th:only-of-type {\n",
              "        vertical-align: middle;\n",
              "    }\n",
              "\n",
              "    .dataframe tbody tr th {\n",
              "        vertical-align: top;\n",
              "    }\n",
              "\n",
              "    .dataframe thead th {\n",
              "        text-align: right;\n",
              "    }\n",
              "</style>\n",
              "<table border=\"1\" class=\"dataframe\">\n",
              "  <thead>\n",
              "    <tr style=\"text-align: right;\">\n",
              "      <th></th>\n",
              "      <th>Final sMAPE</th>\n",
              "    </tr>\n",
              "  </thead>\n",
              "  <tbody>\n",
              "    <tr>\n",
              "      <th>RFR</th>\n",
              "      <td>8.110401</td>\n",
              "    </tr>\n",
              "    <tr>\n",
              "      <th>DTR</th>\n",
              "      <td>8.472363</td>\n",
              "    </tr>\n",
              "    <tr>\n",
              "      <th>LR</th>\n",
              "      <td>13.992635</td>\n",
              "    </tr>\n",
              "  </tbody>\n",
              "</table>\n",
              "</div>\n",
              "      <button class=\"colab-df-convert\" onclick=\"convertToInteractive('df-390ca862-1ee4-4ba4-a4a7-0c5e8fd95c38')\"\n",
              "              title=\"Convert this dataframe to an interactive table.\"\n",
              "              style=\"display:none;\">\n",
              "        \n",
              "  <svg xmlns=\"http://www.w3.org/2000/svg\" height=\"24px\"viewBox=\"0 0 24 24\"\n",
              "       width=\"24px\">\n",
              "    <path d=\"M0 0h24v24H0V0z\" fill=\"none\"/>\n",
              "    <path d=\"M18.56 5.44l.94 2.06.94-2.06 2.06-.94-2.06-.94-.94-2.06-.94 2.06-2.06.94zm-11 1L8.5 8.5l.94-2.06 2.06-.94-2.06-.94L8.5 2.5l-.94 2.06-2.06.94zm10 10l.94 2.06.94-2.06 2.06-.94-2.06-.94-.94-2.06-.94 2.06-2.06.94z\"/><path d=\"M17.41 7.96l-1.37-1.37c-.4-.4-.92-.59-1.43-.59-.52 0-1.04.2-1.43.59L10.3 9.45l-7.72 7.72c-.78.78-.78 2.05 0 2.83L4 21.41c.39.39.9.59 1.41.59.51 0 1.02-.2 1.41-.59l7.78-7.78 2.81-2.81c.8-.78.8-2.07 0-2.86zM5.41 20L4 18.59l7.72-7.72 1.47 1.35L5.41 20z\"/>\n",
              "  </svg>\n",
              "      </button>\n",
              "      \n",
              "  <style>\n",
              "    .colab-df-container {\n",
              "      display:flex;\n",
              "      flex-wrap:wrap;\n",
              "      gap: 12px;\n",
              "    }\n",
              "\n",
              "    .colab-df-convert {\n",
              "      background-color: #E8F0FE;\n",
              "      border: none;\n",
              "      border-radius: 50%;\n",
              "      cursor: pointer;\n",
              "      display: none;\n",
              "      fill: #1967D2;\n",
              "      height: 32px;\n",
              "      padding: 0 0 0 0;\n",
              "      width: 32px;\n",
              "    }\n",
              "\n",
              "    .colab-df-convert:hover {\n",
              "      background-color: #E2EBFA;\n",
              "      box-shadow: 0px 1px 2px rgba(60, 64, 67, 0.3), 0px 1px 3px 1px rgba(60, 64, 67, 0.15);\n",
              "      fill: #174EA6;\n",
              "    }\n",
              "\n",
              "    [theme=dark] .colab-df-convert {\n",
              "      background-color: #3B4455;\n",
              "      fill: #D2E3FC;\n",
              "    }\n",
              "\n",
              "    [theme=dark] .colab-df-convert:hover {\n",
              "      background-color: #434B5C;\n",
              "      box-shadow: 0px 1px 3px 1px rgba(0, 0, 0, 0.15);\n",
              "      filter: drop-shadow(0px 1px 2px rgba(0, 0, 0, 0.3));\n",
              "      fill: #FFFFFF;\n",
              "    }\n",
              "  </style>\n",
              "\n",
              "      <script>\n",
              "        const buttonEl =\n",
              "          document.querySelector('#df-390ca862-1ee4-4ba4-a4a7-0c5e8fd95c38 button.colab-df-convert');\n",
              "        buttonEl.style.display =\n",
              "          google.colab.kernel.accessAllowed ? 'block' : 'none';\n",
              "\n",
              "        async function convertToInteractive(key) {\n",
              "          const element = document.querySelector('#df-390ca862-1ee4-4ba4-a4a7-0c5e8fd95c38');\n",
              "          const dataTable =\n",
              "            await google.colab.kernel.invokeFunction('convertToInteractive',\n",
              "                                                     [key], {});\n",
              "          if (!dataTable) return;\n",
              "\n",
              "          const docLinkHtml = 'Like what you see? Visit the ' +\n",
              "            '<a target=\"_blank\" href=https://colab.research.google.com/notebooks/data_table.ipynb>data table notebook</a>'\n",
              "            + ' to learn more about interactive tables.';\n",
              "          element.innerHTML = '';\n",
              "          dataTable['output_type'] = 'display_data';\n",
              "          await google.colab.output.renderOutput(dataTable, element);\n",
              "          const docLink = document.createElement('div');\n",
              "          docLink.innerHTML = docLinkHtml;\n",
              "          element.appendChild(docLink);\n",
              "        }\n",
              "      </script>\n",
              "    </div>\n",
              "  </div>\n",
              "  "
            ]
          },
          "metadata": {},
          "execution_count": 36
        }
      ]
    },
    {
      "cell_type": "markdown",
      "metadata": {
        "id": "k6CKp83ODRI9"
      },
      "source": [
        "### Conclusion <a class=\"anchor\" id=\"model-conclusion\"></a>\n",
        "\n",
        "1. Three models were selected for training: `RandomForestRegressor`, `DecisionTreeRegressor` and `LinearRegression`. For the first two, the best parameters were selected using `RandomizedSearchCV`.\n",
        "Parameters grid:\n"
      ]
    },
    {
      "cell_type": "code",
      "source": [
        "print(f\"Hyperparameters for RandomForestRegressor: \\n{params_rfr}\")\n",
        "print(f\"Hyperparameters for DecisionTreeRegressor: \\n{params_dtr}\")"
      ],
      "metadata": {
        "id": "I0-dlld83cCF",
        "colab": {
          "base_uri": "https://localhost:8080/"
        },
        "outputId": "30fcd92a-0c78-4da7-f4cc-7c29d748618c"
      },
      "execution_count": 37,
      "outputs": [
        {
          "output_type": "stream",
          "name": "stdout",
          "text": [
            "Hyperparameters for RandomForestRegressor: \n",
            "{'n_estimators': range(250, 1500, 250), 'min_samples_leaf': range(125, 225, 25), 'max_depth': [20, 40, 80, 90, 120]}\n",
            "Hyperparameters for DecisionTreeRegressor: \n",
            "{'min_samples_split': range(2, 20), 'min_samples_leaf': range(10, 400, 5), 'max_depth': range(1, 100, 2)}\n"
          ]
        }
      ]
    },
    {
      "cell_type": "markdown",
      "source": [
        "2. Hyperparameters tuning were performed with the following values:\n",
        "    - number of iterations `n_iter=6`;\n",
        "    - cross-validation `cv=2`.\n",
        "3. The final metric was the custom function `total_smape`, which works according to the formula $ \\text{Finall sMAPE}=25\\% * \\text{sMAPE(rougher)} + 75\\% * \\text{sMAPE(final)} $\n",
        "4. The most effective model was found to be:"
      ],
      "metadata": {
        "id": "ipGhK5sN3bEU"
      }
    },
    {
      "cell_type": "code",
      "source": [
        "random_forest_final"
      ],
      "metadata": {
        "id": "7587osPHuwdZ",
        "colab": {
          "base_uri": "https://localhost:8080/",
          "height": 91
        },
        "outputId": "2b65a7e7-58f1-4907-84cb-8e455195e8db"
      },
      "execution_count": 38,
      "outputs": [
        {
          "output_type": "execute_result",
          "data": {
            "text/plain": [
              "RandomForestRegressor(max_depth=40, min_samples_leaf=150, n_estimators=500,\n",
              "                      random_state=8080)"
            ],
            "text/html": [
              "<style>#sk-container-id-1 {color: black;background-color: white;}#sk-container-id-1 pre{padding: 0;}#sk-container-id-1 div.sk-toggleable {background-color: white;}#sk-container-id-1 label.sk-toggleable__label {cursor: pointer;display: block;width: 100%;margin-bottom: 0;padding: 0.3em;box-sizing: border-box;text-align: center;}#sk-container-id-1 label.sk-toggleable__label-arrow:before {content: \"▸\";float: left;margin-right: 0.25em;color: #696969;}#sk-container-id-1 label.sk-toggleable__label-arrow:hover:before {color: black;}#sk-container-id-1 div.sk-estimator:hover label.sk-toggleable__label-arrow:before {color: black;}#sk-container-id-1 div.sk-toggleable__content {max-height: 0;max-width: 0;overflow: hidden;text-align: left;background-color: #f0f8ff;}#sk-container-id-1 div.sk-toggleable__content pre {margin: 0.2em;color: black;border-radius: 0.25em;background-color: #f0f8ff;}#sk-container-id-1 input.sk-toggleable__control:checked~div.sk-toggleable__content {max-height: 200px;max-width: 100%;overflow: auto;}#sk-container-id-1 input.sk-toggleable__control:checked~label.sk-toggleable__label-arrow:before {content: \"▾\";}#sk-container-id-1 div.sk-estimator input.sk-toggleable__control:checked~label.sk-toggleable__label {background-color: #d4ebff;}#sk-container-id-1 div.sk-label input.sk-toggleable__control:checked~label.sk-toggleable__label {background-color: #d4ebff;}#sk-container-id-1 input.sk-hidden--visually {border: 0;clip: rect(1px 1px 1px 1px);clip: rect(1px, 1px, 1px, 1px);height: 1px;margin: -1px;overflow: hidden;padding: 0;position: absolute;width: 1px;}#sk-container-id-1 div.sk-estimator {font-family: monospace;background-color: #f0f8ff;border: 1px dotted black;border-radius: 0.25em;box-sizing: border-box;margin-bottom: 0.5em;}#sk-container-id-1 div.sk-estimator:hover {background-color: #d4ebff;}#sk-container-id-1 div.sk-parallel-item::after {content: \"\";width: 100%;border-bottom: 1px solid gray;flex-grow: 1;}#sk-container-id-1 div.sk-label:hover label.sk-toggleable__label {background-color: #d4ebff;}#sk-container-id-1 div.sk-serial::before {content: \"\";position: absolute;border-left: 1px solid gray;box-sizing: border-box;top: 0;bottom: 0;left: 50%;z-index: 0;}#sk-container-id-1 div.sk-serial {display: flex;flex-direction: column;align-items: center;background-color: white;padding-right: 0.2em;padding-left: 0.2em;position: relative;}#sk-container-id-1 div.sk-item {position: relative;z-index: 1;}#sk-container-id-1 div.sk-parallel {display: flex;align-items: stretch;justify-content: center;background-color: white;position: relative;}#sk-container-id-1 div.sk-item::before, #sk-container-id-1 div.sk-parallel-item::before {content: \"\";position: absolute;border-left: 1px solid gray;box-sizing: border-box;top: 0;bottom: 0;left: 50%;z-index: -1;}#sk-container-id-1 div.sk-parallel-item {display: flex;flex-direction: column;z-index: 1;position: relative;background-color: white;}#sk-container-id-1 div.sk-parallel-item:first-child::after {align-self: flex-end;width: 50%;}#sk-container-id-1 div.sk-parallel-item:last-child::after {align-self: flex-start;width: 50%;}#sk-container-id-1 div.sk-parallel-item:only-child::after {width: 0;}#sk-container-id-1 div.sk-dashed-wrapped {border: 1px dashed gray;margin: 0 0.4em 0.5em 0.4em;box-sizing: border-box;padding-bottom: 0.4em;background-color: white;}#sk-container-id-1 div.sk-label label {font-family: monospace;font-weight: bold;display: inline-block;line-height: 1.2em;}#sk-container-id-1 div.sk-label-container {text-align: center;}#sk-container-id-1 div.sk-container {/* jupyter's `normalize.less` sets `[hidden] { display: none; }` but bootstrap.min.css set `[hidden] { display: none !important; }` so we also need the `!important` here to be able to override the default hidden behavior on the sphinx rendered scikit-learn.org. See: https://github.com/scikit-learn/scikit-learn/issues/21755 */display: inline-block !important;position: relative;}#sk-container-id-1 div.sk-text-repr-fallback {display: none;}</style><div id=\"sk-container-id-1\" class=\"sk-top-container\"><div class=\"sk-text-repr-fallback\"><pre>RandomForestRegressor(max_depth=40, min_samples_leaf=150, n_estimators=500,\n",
              "                      random_state=8080)</pre><b>In a Jupyter environment, please rerun this cell to show the HTML representation or trust the notebook. <br />On GitHub, the HTML representation is unable to render, please try loading this page with nbviewer.org.</b></div><div class=\"sk-container\" hidden><div class=\"sk-item\"><div class=\"sk-estimator sk-toggleable\"><input class=\"sk-toggleable__control sk-hidden--visually\" id=\"sk-estimator-id-1\" type=\"checkbox\" checked><label for=\"sk-estimator-id-1\" class=\"sk-toggleable__label sk-toggleable__label-arrow\">RandomForestRegressor</label><div class=\"sk-toggleable__content\"><pre>RandomForestRegressor(max_depth=40, min_samples_leaf=150, n_estimators=500,\n",
              "                      random_state=8080)</pre></div></div></div></div></div>"
            ]
          },
          "metadata": {},
          "execution_count": 38
        }
      ]
    },
    {
      "cell_type": "markdown",
      "metadata": {
        "id": "cYOLSUPsDRI-"
      },
      "source": [
        "## Best model test <a class=\"anchor\" id=\"best-model-test\"></a>\n",
        "\n",
        "It is necessary to test the most effective model (with best founded hyperparameters for each stage) on the test dataset and compare the results with the `DummyRegressor` model.\n",
        "\n",
        "**Test dataset:**"
      ]
    },
    {
      "cell_type": "code",
      "execution_count": 39,
      "metadata": {
        "id": "o2-4HlBGDRI-",
        "colab": {
          "base_uri": "https://localhost:8080/"
        },
        "outputId": "787b0b6a-36bf-4165-f459-e24e011726a9"
      },
      "outputs": [
        {
          "output_type": "stream",
          "name": "stdout",
          "text": [
            "CPU times: user 3min 22s, sys: 187 ms, total: 3min 23s\n",
            "Wall time: 3min 22s\n"
          ]
        }
      ],
      "source": [
        "%%time\n",
        "\n",
        "# Rougher stage Best Model\n",
        "test_model_rougher = RandomForestRegressor(\n",
        "    n_estimators=random_forest_params_rougher.get('n_estimators'),\n",
        "    min_samples_leaf=random_forest_params_rougher.get('min_samples_leaf'),\n",
        "    max_depth=random_forest_params_rougher.get('max_depth'),\n",
        "    random_state=8080)\n",
        "test_model_rougher.fit(X_train_rougher_scaled, y_train_rougher)\n",
        "predictions_test_rougher = pd.Series(\n",
        "    test_model_rougher.predict(X_test_rougher_scaled)\n",
        ")\n",
        "\n",
        "# Rougher result Best Model\n",
        "smape_rougher_test = smape(y_test_rougher, predictions_test_rougher)\n",
        "\n",
        "# Final stage Best Model\n",
        "test_model_final = RandomForestRegressor(\n",
        "    n_estimators=random_forest_params_final.get('n_estimators'),\n",
        "    min_samples_leaf=random_forest_params_final.get('min_samples_leaf'),\n",
        "    max_depth=random_forest_params_final.get('max_depth'),\n",
        "    random_state=8080)\n",
        "test_model_final.fit(X_train_final_scaled, y_train_final)\n",
        "prediction_test_final = pd.Series(\n",
        "    test_model_final.predict(X_test_final_scaled)\n",
        ")\n",
        "\n",
        "# Final result Best Model\n",
        "smape_final_test = smape(y_test_final, prediction_test_final)\n",
        "\n",
        "# Rougher stage DummyRegressor\n",
        "constant_model_rougher = DummyRegressor()\n",
        "constant_model_rougher.fit(X_train_rougher_scaled, y_train_rougher)\n",
        "predictions_constant_model_rougher = pd.Series(\n",
        "    constant_model_rougher.predict(X_test_rougher_scaled)\n",
        ")\n",
        "smape_rougher_dummy = smape(y_test_rougher, predictions_constant_model_rougher)\n",
        "\n",
        "# Final stage DummyRegressor\n",
        "constant_model_final = DummyRegressor()\n",
        "constant_model_final.fit(X_train_final_scaled, y_train_final)\n",
        "prediction_constant_model_final = pd.Series(\n",
        "    constant_model_final.predict(X_test_final_scaled)\n",
        ")\n",
        "smape_final_dummy = smape(y_test_final, prediction_constant_model_final)"
      ]
    },
    {
      "cell_type": "code",
      "execution_count": 40,
      "metadata": {
        "id": "HJnckDM3DRI-",
        "colab": {
          "base_uri": "https://localhost:8080/"
        },
        "outputId": "4f758515-53fe-4cae-d70b-07554ff57a06"
      },
      "outputs": [
        {
          "output_type": "stream",
          "name": "stdout",
          "text": [
            "Final sMAPE for best model trained on test dataset: 11.0690\n",
            "Final sMAPE for DummyRegressor model trained on test dataset: 9.2289\n"
          ]
        }
      ],
      "source": [
        "print(f\"Final sMAPE for best model trained on test dataset: {total_smape(smape_rougher_test, smape_final_test):.4f}\")\n",
        "print(f\"Final sMAPE for DummyRegressor model trained on test dataset: {total_smape(smape_rougher_dummy, smape_final_dummy):.4f}\")"
      ]
    },
    {
      "cell_type": "markdown",
      "metadata": {
        "id": "sa6e_tuEDRI_"
      },
      "source": [
        "## Conclusion <a class=\"anchor\" id=\"conclusion\"></a>\n",
        "\n",
        "1. Initial **data review**, showed the following:\n",
        "\n",
        "    - `df_train`: there were 4100 missing values and 0 duplicates.\n",
        "    - `df_test`: there were 90 missing values and 0 duplicates.\n",
        "    - `df_full`: there were 4481 missing values and 0 duplicates.\n",
        "\n",
        "2. **Enrichment efficiency.** The calculation of gold recovery efficiency was checked and the results are correct. The value of Mean Absolute Error (MAE) was calculated and it is extremely low: **0.00000000000000973512347450521**, which indicates a high level of accuracy.\n",
        "\n",
        "3. **Features analysis.** In the `df_test` test set, 34 features are missing.\n",
        "4. **Data preprocessing:**\n",
        "\n",
        "    - Dates were removed since they were not necessary for further analysis and data processing.\n",
        "    - Missing values in the `df_train` and `df_test` dataframes were filled using the forward-fill method `ffill()`. This method fills the missing values with the previous non-missing value, and since neighboring time parameters are often similar, this approach was considered reasonable.\n",
        "\n",
        "5. **Data analysis**. During the analysis of metal concentration, it was found that:\n",
        "    - Gold: the concentration increases with each stage;\n",
        "    - Silver: the concentration decreases after flotation;\n",
        "    - Lead: the concentration increases up to primary cleaning and slightly decreases at the final stage;\n",
        "    - Anomalies are visible for each of the three metals.\n",
        "\n",
        "6. During the investigation of the **distribution of raw material particle sizes**, it was found out that there are no significant differences between the two datasets (training and test).\n",
        "7. **Model training:**\n",
        "    - Three models were selected for training: `RandomForestRegressor`, `DecisionTreeRegressor` and `LinearRegression`. For the first two, the best parameters were found using `RandomizedSearchCV`.\n",
        "    - Hyperparameters tuning were performed with the following values:\n",
        "        - number of iterations `n_iter=6`;\n",
        "        - cross-validation `cv=2`.\n",
        "    - The final metric was the custom function `total_smape`.\n",
        "    - The most effective model:\n",
        "    `RandomForestRegressor(max_depth=40, min_samples_leaf=150, n_estimators=500)`\n",
        "    - The final sMAPE of 11.07% is slightly behind the result of the `DummyRegressor` model with result of 9.23%."
      ]
    }
  ],
  "metadata": {
    "ExecuteTimeLog": [
      {
        "duration": 1475,
        "start_time": "2022-06-11T09:47:13.495Z"
      },
      {
        "duration": 3,
        "start_time": "2022-06-11T09:49:04.395Z"
      },
      {
        "duration": 3238,
        "start_time": "2022-06-11T09:49:05.776Z"
      },
      {
        "duration": 387,
        "start_time": "2022-06-11T09:50:35.377Z"
      },
      {
        "duration": 3,
        "start_time": "2022-06-11T09:51:51.251Z"
      },
      {
        "duration": 168,
        "start_time": "2022-06-11T09:52:07.638Z"
      },
      {
        "duration": 382,
        "start_time": "2022-06-11T09:52:50.617Z"
      },
      {
        "duration": 1291,
        "start_time": "2022-06-15T07:39:38.756Z"
      },
      {
        "duration": 1810,
        "start_time": "2022-06-15T07:39:40.050Z"
      },
      {
        "duration": 344,
        "start_time": "2022-06-15T07:39:41.862Z"
      },
      {
        "duration": 154,
        "start_time": "2022-06-15T07:39:42.208Z"
      },
      {
        "duration": 334,
        "start_time": "2022-06-15T07:39:42.363Z"
      },
      {
        "duration": 3,
        "start_time": "2022-06-15T10:16:00.520Z"
      },
      {
        "duration": 624,
        "start_time": "2022-06-15T10:16:53.614Z"
      },
      {
        "duration": 375,
        "start_time": "2022-06-15T10:16:55.414Z"
      },
      {
        "duration": 158,
        "start_time": "2022-06-15T10:17:05.109Z"
      },
      {
        "duration": 167,
        "start_time": "2022-06-15T10:18:04.435Z"
      },
      {
        "duration": 178,
        "start_time": "2022-06-15T10:20:39.482Z"
      },
      {
        "duration": 169,
        "start_time": "2022-06-15T10:20:56.879Z"
      },
      {
        "duration": 61,
        "start_time": "2022-06-15T10:21:57.418Z"
      },
      {
        "duration": 141,
        "start_time": "2022-06-15T10:22:50.637Z"
      },
      {
        "duration": 3,
        "start_time": "2022-06-15T13:36:28.558Z"
      },
      {
        "duration": 3,
        "start_time": "2022-06-15T13:54:18.403Z"
      },
      {
        "duration": 5,
        "start_time": "2022-06-15T13:54:51.138Z"
      },
      {
        "duration": 3,
        "start_time": "2022-06-15T13:54:57.352Z"
      },
      {
        "duration": 25,
        "start_time": "2022-06-15T13:56:28.585Z"
      },
      {
        "duration": 6,
        "start_time": "2022-06-15T13:57:21.499Z"
      },
      {
        "duration": 4,
        "start_time": "2022-06-15T13:57:57.142Z"
      },
      {
        "duration": 27,
        "start_time": "2022-06-15T14:06:45.801Z"
      },
      {
        "duration": 2,
        "start_time": "2022-06-15T14:07:11.848Z"
      },
      {
        "duration": 6,
        "start_time": "2022-06-15T14:07:15.696Z"
      },
      {
        "duration": 5,
        "start_time": "2022-06-15T14:08:10.790Z"
      },
      {
        "duration": 4,
        "start_time": "2022-06-15T14:10:34.223Z"
      },
      {
        "duration": 3,
        "start_time": "2022-06-15T14:10:35.898Z"
      },
      {
        "duration": 54,
        "start_time": "2022-06-15T14:11:19.678Z"
      },
      {
        "duration": 5,
        "start_time": "2022-06-15T14:11:22.416Z"
      },
      {
        "duration": 6,
        "start_time": "2022-06-15T14:12:16.863Z"
      },
      {
        "duration": 2,
        "start_time": "2022-06-15T14:12:23.179Z"
      },
      {
        "duration": 4,
        "start_time": "2022-06-15T14:13:00.562Z"
      },
      {
        "duration": 6,
        "start_time": "2022-06-15T14:13:04.571Z"
      },
      {
        "duration": 5,
        "start_time": "2022-06-15T14:13:50.659Z"
      },
      {
        "duration": 3,
        "start_time": "2022-06-15T14:18:20.004Z"
      },
      {
        "duration": 6,
        "start_time": "2022-06-15T14:18:23.548Z"
      },
      {
        "duration": 10,
        "start_time": "2022-06-15T14:19:21.479Z"
      },
      {
        "duration": 13,
        "start_time": "2022-06-15T14:19:40.836Z"
      },
      {
        "duration": 10,
        "start_time": "2022-06-15T14:20:03.598Z"
      },
      {
        "duration": 9,
        "start_time": "2022-06-15T14:21:28.821Z"
      },
      {
        "duration": 9,
        "start_time": "2022-06-15T14:23:25.485Z"
      },
      {
        "duration": 10,
        "start_time": "2022-06-15T14:26:04.617Z"
      },
      {
        "duration": 9,
        "start_time": "2022-06-15T14:29:45.164Z"
      },
      {
        "duration": 11,
        "start_time": "2022-06-15T14:30:38.302Z"
      },
      {
        "duration": 7,
        "start_time": "2022-06-15T14:31:40.236Z"
      },
      {
        "duration": 3,
        "start_time": "2022-06-15T14:50:31.935Z"
      },
      {
        "duration": 3,
        "start_time": "2022-06-15T14:56:22.771Z"
      },
      {
        "duration": 3,
        "start_time": "2022-06-15T15:01:34.694Z"
      },
      {
        "duration": 3,
        "start_time": "2022-06-15T15:01:41.171Z"
      },
      {
        "duration": 3,
        "start_time": "2022-06-15T15:02:29.245Z"
      },
      {
        "duration": 3,
        "start_time": "2022-06-15T15:07:24.016Z"
      },
      {
        "duration": 6,
        "start_time": "2022-06-15T15:07:28.681Z"
      },
      {
        "duration": 103,
        "start_time": "2022-06-15T15:07:33.265Z"
      },
      {
        "duration": 8,
        "start_time": "2022-06-15T15:07:42.427Z"
      },
      {
        "duration": 3,
        "start_time": "2022-06-15T15:07:49.714Z"
      },
      {
        "duration": 4,
        "start_time": "2022-06-15T15:07:54.305Z"
      },
      {
        "duration": 33,
        "start_time": "2022-06-15T15:08:00.200Z"
      },
      {
        "duration": 1242,
        "start_time": "2022-06-16T06:45:49.620Z"
      },
      {
        "duration": 1725,
        "start_time": "2022-06-16T06:45:50.864Z"
      },
      {
        "duration": 170,
        "start_time": "2022-06-16T06:45:52.591Z"
      },
      {
        "duration": 62,
        "start_time": "2022-06-16T06:45:52.763Z"
      },
      {
        "duration": 163,
        "start_time": "2022-06-16T06:45:52.826Z"
      },
      {
        "duration": 9,
        "start_time": "2022-06-16T06:45:52.990Z"
      },
      {
        "duration": 4,
        "start_time": "2022-06-16T06:45:53.000Z"
      },
      {
        "duration": 8,
        "start_time": "2022-06-16T06:45:53.005Z"
      },
      {
        "duration": 5,
        "start_time": "2022-06-16T06:48:40.224Z"
      },
      {
        "duration": 5,
        "start_time": "2022-06-16T06:48:44.973Z"
      },
      {
        "duration": 4,
        "start_time": "2022-06-16T06:48:48.537Z"
      },
      {
        "duration": 7,
        "start_time": "2022-06-16T06:48:50.577Z"
      },
      {
        "duration": 6,
        "start_time": "2022-06-16T06:48:53.035Z"
      },
      {
        "duration": 5,
        "start_time": "2022-06-16T06:48:56.195Z"
      },
      {
        "duration": 6,
        "start_time": "2022-06-16T06:48:58.468Z"
      },
      {
        "duration": 6,
        "start_time": "2022-06-16T06:49:01.629Z"
      },
      {
        "duration": 4,
        "start_time": "2022-06-16T06:49:19.024Z"
      },
      {
        "duration": 8,
        "start_time": "2022-06-16T06:49:30.061Z"
      },
      {
        "duration": 88,
        "start_time": "2022-06-16T06:49:47.456Z"
      },
      {
        "duration": 7,
        "start_time": "2022-06-16T06:49:48.846Z"
      },
      {
        "duration": 5,
        "start_time": "2022-06-16T06:49:50.723Z"
      },
      {
        "duration": 14,
        "start_time": "2022-06-16T07:52:35.112Z"
      },
      {
        "duration": 8,
        "start_time": "2022-06-16T08:32:40.096Z"
      },
      {
        "duration": 13,
        "start_time": "2022-06-16T08:32:47.543Z"
      },
      {
        "duration": 118,
        "start_time": "2022-06-16T08:32:57.709Z"
      },
      {
        "duration": 32,
        "start_time": "2022-06-16T08:33:10.100Z"
      },
      {
        "duration": 26,
        "start_time": "2022-06-16T08:33:18.978Z"
      },
      {
        "duration": 10,
        "start_time": "2022-06-16T08:33:30.116Z"
      },
      {
        "duration": 26,
        "start_time": "2022-06-16T08:33:33.465Z"
      },
      {
        "duration": 90,
        "start_time": "2022-06-16T08:33:36.342Z"
      },
      {
        "duration": 75,
        "start_time": "2022-06-16T08:36:55.831Z"
      },
      {
        "duration": 74,
        "start_time": "2022-06-16T08:37:08.403Z"
      },
      {
        "duration": 79,
        "start_time": "2022-06-16T08:37:23.442Z"
      },
      {
        "duration": 70,
        "start_time": "2022-06-16T08:37:27.503Z"
      },
      {
        "duration": 73,
        "start_time": "2022-06-16T08:37:53.060Z"
      },
      {
        "duration": 72,
        "start_time": "2022-06-16T08:38:21.409Z"
      },
      {
        "duration": 57,
        "start_time": "2022-06-16T08:38:30.604Z"
      },
      {
        "duration": 62,
        "start_time": "2022-06-16T08:38:55.116Z"
      },
      {
        "duration": 101,
        "start_time": "2022-06-16T08:39:05.259Z"
      },
      {
        "duration": 128,
        "start_time": "2022-06-16T08:39:50.942Z"
      },
      {
        "duration": 131,
        "start_time": "2022-06-16T08:39:58.842Z"
      },
      {
        "duration": 119,
        "start_time": "2022-06-16T08:40:09.459Z"
      },
      {
        "duration": 17,
        "start_time": "2022-06-16T08:40:36.235Z"
      },
      {
        "duration": 15,
        "start_time": "2022-06-16T08:40:45.324Z"
      },
      {
        "duration": 4,
        "start_time": "2022-06-16T08:40:53.858Z"
      },
      {
        "duration": 13,
        "start_time": "2022-06-16T08:41:06.421Z"
      },
      {
        "duration": 89,
        "start_time": "2022-06-16T08:41:32.097Z"
      },
      {
        "duration": 1648,
        "start_time": "2022-06-16T16:20:20.910Z"
      },
      {
        "duration": 3503,
        "start_time": "2022-06-16T16:20:22.561Z"
      },
      {
        "duration": 230,
        "start_time": "2022-06-16T16:20:26.065Z"
      },
      {
        "duration": 86,
        "start_time": "2022-06-16T16:20:26.298Z"
      },
      {
        "duration": 204,
        "start_time": "2022-06-16T16:20:26.386Z"
      },
      {
        "duration": 10,
        "start_time": "2022-06-16T16:20:26.592Z"
      },
      {
        "duration": 26,
        "start_time": "2022-06-16T16:20:26.604Z"
      },
      {
        "duration": 7,
        "start_time": "2022-06-16T16:20:26.631Z"
      },
      {
        "duration": 10,
        "start_time": "2022-06-16T16:20:26.640Z"
      },
      {
        "duration": 117,
        "start_time": "2022-06-16T16:20:26.653Z"
      },
      {
        "duration": 7,
        "start_time": "2022-06-16T16:23:34.903Z"
      },
      {
        "duration": 8,
        "start_time": "2022-06-16T16:23:58.813Z"
      },
      {
        "duration": 9,
        "start_time": "2022-06-16T16:24:05.518Z"
      },
      {
        "duration": 10,
        "start_time": "2022-06-16T16:24:15.826Z"
      },
      {
        "duration": 12,
        "start_time": "2022-06-16T16:24:29.407Z"
      },
      {
        "duration": 8,
        "start_time": "2022-06-16T16:24:36.608Z"
      },
      {
        "duration": 7,
        "start_time": "2022-06-16T16:24:39.899Z"
      },
      {
        "duration": 9,
        "start_time": "2022-06-16T16:26:59.485Z"
      },
      {
        "duration": 10,
        "start_time": "2022-06-16T16:27:07.989Z"
      },
      {
        "duration": 13,
        "start_time": "2022-06-16T16:27:14.519Z"
      },
      {
        "duration": 10,
        "start_time": "2022-06-16T16:27:20.012Z"
      },
      {
        "duration": 10,
        "start_time": "2022-06-16T16:29:08.871Z"
      },
      {
        "duration": 10,
        "start_time": "2022-06-16T16:29:28.140Z"
      },
      {
        "duration": 12,
        "start_time": "2022-06-16T16:29:41.610Z"
      },
      {
        "duration": 8,
        "start_time": "2022-06-16T16:29:46.656Z"
      },
      {
        "duration": 24,
        "start_time": "2022-06-16T16:30:14.364Z"
      },
      {
        "duration": 32,
        "start_time": "2022-06-16T16:34:38.740Z"
      },
      {
        "duration": 18,
        "start_time": "2022-06-16T16:34:43.353Z"
      },
      {
        "duration": 8,
        "start_time": "2022-06-16T16:35:23.659Z"
      },
      {
        "duration": 6,
        "start_time": "2022-06-16T16:35:25.788Z"
      },
      {
        "duration": 1423,
        "start_time": "2022-06-16T16:38:18.411Z"
      },
      {
        "duration": 797,
        "start_time": "2022-06-16T16:38:19.836Z"
      },
      {
        "duration": 218,
        "start_time": "2022-06-16T16:38:20.634Z"
      },
      {
        "duration": 89,
        "start_time": "2022-06-16T16:38:20.855Z"
      },
      {
        "duration": 203,
        "start_time": "2022-06-16T16:38:20.946Z"
      },
      {
        "duration": 11,
        "start_time": "2022-06-16T16:38:21.151Z"
      },
      {
        "duration": 12,
        "start_time": "2022-06-16T16:38:21.164Z"
      },
      {
        "duration": 32,
        "start_time": "2022-06-16T16:38:21.178Z"
      },
      {
        "duration": 32,
        "start_time": "2022-06-16T16:38:21.213Z"
      },
      {
        "duration": 38,
        "start_time": "2022-06-16T16:38:21.248Z"
      },
      {
        "duration": 81,
        "start_time": "2022-06-16T16:38:21.288Z"
      },
      {
        "duration": 23,
        "start_time": "2022-06-16T16:39:12.218Z"
      },
      {
        "duration": 22,
        "start_time": "2022-06-16T16:47:42.422Z"
      },
      {
        "duration": 5,
        "start_time": "2022-06-16T16:55:59.673Z"
      },
      {
        "duration": 5,
        "start_time": "2022-06-16T16:56:18.873Z"
      },
      {
        "duration": 133,
        "start_time": "2022-06-16T16:56:24.345Z"
      },
      {
        "duration": 18,
        "start_time": "2022-06-16T16:56:26.422Z"
      },
      {
        "duration": 380,
        "start_time": "2022-06-16T17:03:51.833Z"
      },
      {
        "duration": 355,
        "start_time": "2022-06-16T17:04:57.462Z"
      },
      {
        "duration": 845,
        "start_time": "2022-06-16T17:05:11.128Z"
      },
      {
        "duration": 988,
        "start_time": "2022-06-16T17:06:48.466Z"
      },
      {
        "duration": 1328,
        "start_time": "2022-06-16T17:07:34.137Z"
      },
      {
        "duration": 1382,
        "start_time": "2022-06-16T17:08:08.940Z"
      },
      {
        "duration": 5032,
        "start_time": "2022-06-16T17:08:47.637Z"
      },
      {
        "duration": 4673,
        "start_time": "2022-06-16T17:09:50.802Z"
      },
      {
        "duration": 4848,
        "start_time": "2022-06-16T17:10:04.789Z"
      },
      {
        "duration": 4715,
        "start_time": "2022-06-16T17:12:16.990Z"
      },
      {
        "duration": 4962,
        "start_time": "2022-06-16T17:13:11.749Z"
      },
      {
        "duration": 4943,
        "start_time": "2022-06-16T17:14:42.917Z"
      },
      {
        "duration": 4887,
        "start_time": "2022-06-16T17:15:34.606Z"
      },
      {
        "duration": 4534,
        "start_time": "2022-06-16T17:15:48.992Z"
      },
      {
        "duration": 4787,
        "start_time": "2022-06-16T17:16:06.974Z"
      },
      {
        "duration": 4467,
        "start_time": "2022-06-16T17:16:25.725Z"
      },
      {
        "duration": 4941,
        "start_time": "2022-06-16T17:16:39.990Z"
      },
      {
        "duration": 4445,
        "start_time": "2022-06-16T17:17:06.560Z"
      },
      {
        "duration": 4923,
        "start_time": "2022-06-16T17:17:17.188Z"
      },
      {
        "duration": 4637,
        "start_time": "2022-06-16T17:17:30.221Z"
      },
      {
        "duration": 5041,
        "start_time": "2022-06-16T17:17:44.392Z"
      },
      {
        "duration": 4533,
        "start_time": "2022-06-16T17:18:00.339Z"
      },
      {
        "duration": 4855,
        "start_time": "2022-06-16T17:18:11.229Z"
      },
      {
        "duration": 4431,
        "start_time": "2022-06-16T17:18:38.034Z"
      },
      {
        "duration": 4964,
        "start_time": "2022-06-16T17:18:59.040Z"
      },
      {
        "duration": 4598,
        "start_time": "2022-06-16T17:19:10.913Z"
      },
      {
        "duration": 4462,
        "start_time": "2022-06-16T17:19:21.688Z"
      },
      {
        "duration": 4462,
        "start_time": "2022-06-16T17:19:55.811Z"
      },
      {
        "duration": 4515,
        "start_time": "2022-06-16T17:20:00.991Z"
      },
      {
        "duration": 5034,
        "start_time": "2022-06-16T17:20:22.708Z"
      },
      {
        "duration": 4274,
        "start_time": "2022-06-16T17:20:40.287Z"
      },
      {
        "duration": 5195,
        "start_time": "2022-06-16T17:20:48.629Z"
      },
      {
        "duration": 4547,
        "start_time": "2022-06-16T17:26:36.991Z"
      },
      {
        "duration": 7,
        "start_time": "2022-06-16T17:48:12.258Z"
      },
      {
        "duration": 4614,
        "start_time": "2022-06-16T17:48:15.326Z"
      },
      {
        "duration": 5084,
        "start_time": "2022-06-16T17:49:07.357Z"
      },
      {
        "duration": 4506,
        "start_time": "2022-06-16T17:50:03.829Z"
      },
      {
        "duration": 331,
        "start_time": "2022-06-16T17:51:48.962Z"
      },
      {
        "duration": 17,
        "start_time": "2022-06-16T17:52:51.260Z"
      },
      {
        "duration": 8,
        "start_time": "2022-06-16T18:30:34.930Z"
      },
      {
        "duration": 11,
        "start_time": "2022-06-16T18:30:39.417Z"
      },
      {
        "duration": 15,
        "start_time": "2022-06-16T18:32:39.712Z"
      },
      {
        "duration": 5,
        "start_time": "2022-06-16T18:34:04.781Z"
      },
      {
        "duration": 8,
        "start_time": "2022-06-16T18:34:12.350Z"
      },
      {
        "duration": 6,
        "start_time": "2022-06-16T18:38:36.952Z"
      },
      {
        "duration": 12,
        "start_time": "2022-06-16T18:39:38.078Z"
      },
      {
        "duration": 6,
        "start_time": "2022-06-16T18:40:01.202Z"
      },
      {
        "duration": 5,
        "start_time": "2022-06-16T18:40:05.279Z"
      },
      {
        "duration": 6,
        "start_time": "2022-06-16T18:40:19.594Z"
      },
      {
        "duration": 6,
        "start_time": "2022-06-16T18:40:23.684Z"
      },
      {
        "duration": 579,
        "start_time": "2022-06-16T18:41:07.207Z"
      },
      {
        "duration": 25,
        "start_time": "2022-06-16T18:45:09.251Z"
      },
      {
        "duration": 5,
        "start_time": "2022-06-16T18:45:28.117Z"
      },
      {
        "duration": 10,
        "start_time": "2022-06-16T18:45:31.579Z"
      },
      {
        "duration": 7,
        "start_time": "2022-06-16T18:45:45.980Z"
      },
      {
        "duration": 23,
        "start_time": "2022-06-16T18:48:09.744Z"
      },
      {
        "duration": 10,
        "start_time": "2022-06-16T18:50:09.611Z"
      },
      {
        "duration": 19,
        "start_time": "2022-06-16T18:51:01.622Z"
      },
      {
        "duration": 13,
        "start_time": "2022-06-16T18:51:09.663Z"
      },
      {
        "duration": 13,
        "start_time": "2022-06-16T18:51:15.055Z"
      },
      {
        "duration": 12,
        "start_time": "2022-06-16T18:51:19.194Z"
      },
      {
        "duration": 25,
        "start_time": "2022-06-16T18:51:52.884Z"
      },
      {
        "duration": 13,
        "start_time": "2022-06-16T18:52:08.681Z"
      },
      {
        "duration": 20,
        "start_time": "2022-06-16T18:52:15.425Z"
      },
      {
        "duration": 16,
        "start_time": "2022-06-16T18:55:08.616Z"
      },
      {
        "duration": 20,
        "start_time": "2022-06-16T18:55:10.479Z"
      },
      {
        "duration": 11,
        "start_time": "2022-06-16T18:55:14.657Z"
      },
      {
        "duration": 1541,
        "start_time": "2022-06-16T18:55:25.564Z"
      },
      {
        "duration": 891,
        "start_time": "2022-06-16T18:55:27.107Z"
      },
      {
        "duration": 256,
        "start_time": "2022-06-16T18:55:28.000Z"
      },
      {
        "duration": 111,
        "start_time": "2022-06-16T18:55:28.258Z"
      },
      {
        "duration": 234,
        "start_time": "2022-06-16T18:55:28.371Z"
      },
      {
        "duration": 9,
        "start_time": "2022-06-16T18:55:28.607Z"
      },
      {
        "duration": 41,
        "start_time": "2022-06-16T18:55:28.617Z"
      },
      {
        "duration": 8,
        "start_time": "2022-06-16T18:55:28.660Z"
      },
      {
        "duration": 14,
        "start_time": "2022-06-16T18:55:28.670Z"
      },
      {
        "duration": 25,
        "start_time": "2022-06-16T18:55:28.686Z"
      },
      {
        "duration": 45,
        "start_time": "2022-06-16T18:55:28.713Z"
      },
      {
        "duration": 6,
        "start_time": "2022-06-16T18:55:28.761Z"
      },
      {
        "duration": 24,
        "start_time": "2022-06-16T18:55:28.768Z"
      },
      {
        "duration": 5206,
        "start_time": "2022-06-16T18:55:28.795Z"
      },
      {
        "duration": 11,
        "start_time": "2022-06-16T18:55:34.004Z"
      },
      {
        "duration": 5008,
        "start_time": "2022-06-16T19:01:42.914Z"
      },
      {
        "duration": 4912,
        "start_time": "2022-06-16T19:03:46.866Z"
      },
      {
        "duration": 4915,
        "start_time": "2022-06-16T19:03:57.543Z"
      },
      {
        "duration": 1608,
        "start_time": "2022-06-20T06:01:37.451Z"
      },
      {
        "duration": 3134,
        "start_time": "2022-06-20T06:01:39.062Z"
      },
      {
        "duration": 195,
        "start_time": "2022-06-20T06:01:42.198Z"
      },
      {
        "duration": 86,
        "start_time": "2022-06-20T06:01:42.396Z"
      },
      {
        "duration": 192,
        "start_time": "2022-06-20T06:01:42.484Z"
      },
      {
        "duration": 9,
        "start_time": "2022-06-20T06:01:42.678Z"
      },
      {
        "duration": 37,
        "start_time": "2022-06-20T06:01:42.688Z"
      },
      {
        "duration": 25,
        "start_time": "2022-06-20T06:01:42.727Z"
      },
      {
        "duration": 28,
        "start_time": "2022-06-20T06:01:42.754Z"
      },
      {
        "duration": 32,
        "start_time": "2022-06-20T06:01:42.784Z"
      },
      {
        "duration": 29,
        "start_time": "2022-06-20T06:01:42.817Z"
      },
      {
        "duration": 23,
        "start_time": "2022-06-20T06:01:42.847Z"
      },
      {
        "duration": 46,
        "start_time": "2022-06-20T06:01:42.872Z"
      },
      {
        "duration": 4541,
        "start_time": "2022-06-20T06:01:42.920Z"
      },
      {
        "duration": 9,
        "start_time": "2022-06-20T06:01:47.463Z"
      },
      {
        "duration": 605,
        "start_time": "2022-06-20T06:06:02.852Z"
      },
      {
        "duration": 566,
        "start_time": "2022-06-20T06:08:44.171Z"
      },
      {
        "duration": 803,
        "start_time": "2022-06-20T06:08:55.779Z"
      },
      {
        "duration": 48,
        "start_time": "2022-06-20T06:09:14.869Z"
      },
      {
        "duration": 655,
        "start_time": "2022-06-20T06:09:24.922Z"
      },
      {
        "duration": 813,
        "start_time": "2022-06-20T06:09:43.110Z"
      },
      {
        "duration": 704,
        "start_time": "2022-06-20T06:10:44.154Z"
      },
      {
        "duration": 677,
        "start_time": "2022-06-20T06:10:52.513Z"
      },
      {
        "duration": 910,
        "start_time": "2022-06-20T06:11:24.838Z"
      },
      {
        "duration": 926,
        "start_time": "2022-06-20T06:12:42.452Z"
      },
      {
        "duration": 941,
        "start_time": "2022-06-20T06:16:49.350Z"
      },
      {
        "duration": 894,
        "start_time": "2022-06-20T06:17:09.174Z"
      },
      {
        "duration": 838,
        "start_time": "2022-06-20T06:18:11.573Z"
      },
      {
        "duration": 944,
        "start_time": "2022-06-20T06:18:33.626Z"
      },
      {
        "duration": 809,
        "start_time": "2022-06-20T06:18:42.056Z"
      },
      {
        "duration": 85,
        "start_time": "2022-06-20T06:20:10.931Z"
      },
      {
        "duration": 805,
        "start_time": "2022-06-20T06:20:19.163Z"
      },
      {
        "duration": 636,
        "start_time": "2022-06-20T06:20:31.275Z"
      },
      {
        "duration": 543,
        "start_time": "2022-06-20T06:21:13.305Z"
      },
      {
        "duration": 1298,
        "start_time": "2022-06-20T07:46:55.583Z"
      },
      {
        "duration": 669,
        "start_time": "2022-06-20T07:46:56.883Z"
      },
      {
        "duration": 208,
        "start_time": "2022-06-20T07:46:57.553Z"
      },
      {
        "duration": 82,
        "start_time": "2022-06-20T07:46:57.762Z"
      },
      {
        "duration": 172,
        "start_time": "2022-06-20T07:46:57.846Z"
      },
      {
        "duration": 8,
        "start_time": "2022-06-20T07:46:58.026Z"
      },
      {
        "duration": 6,
        "start_time": "2022-06-20T07:46:58.035Z"
      },
      {
        "duration": 12,
        "start_time": "2022-06-20T07:46:58.043Z"
      },
      {
        "duration": 19,
        "start_time": "2022-06-20T07:46:58.057Z"
      },
      {
        "duration": 21,
        "start_time": "2022-06-20T07:46:58.078Z"
      },
      {
        "duration": 18,
        "start_time": "2022-06-20T07:46:58.101Z"
      },
      {
        "duration": 5,
        "start_time": "2022-06-20T07:46:58.127Z"
      },
      {
        "duration": 18,
        "start_time": "2022-06-20T07:46:58.134Z"
      },
      {
        "duration": 4603,
        "start_time": "2022-06-20T07:46:58.154Z"
      },
      {
        "duration": 8,
        "start_time": "2022-06-20T07:47:02.759Z"
      },
      {
        "duration": 565,
        "start_time": "2022-06-20T07:47:02.768Z"
      },
      {
        "duration": 112,
        "start_time": "2022-06-20T07:47:16.148Z"
      },
      {
        "duration": 530,
        "start_time": "2022-06-20T07:47:54.731Z"
      },
      {
        "duration": 284,
        "start_time": "2022-06-20T07:49:04.194Z"
      },
      {
        "duration": 633,
        "start_time": "2022-06-20T07:49:34.001Z"
      },
      {
        "duration": 533,
        "start_time": "2022-06-20T07:50:40.630Z"
      },
      {
        "duration": 1218,
        "start_time": "2022-06-20T07:51:56.320Z"
      },
      {
        "duration": 622,
        "start_time": "2022-06-20T07:53:59.617Z"
      },
      {
        "duration": 508,
        "start_time": "2022-06-20T07:54:19.968Z"
      },
      {
        "duration": 524,
        "start_time": "2022-06-20T07:54:35.551Z"
      },
      {
        "duration": 513,
        "start_time": "2022-06-20T07:54:57.138Z"
      },
      {
        "duration": 664,
        "start_time": "2022-06-20T07:55:05.532Z"
      },
      {
        "duration": 525,
        "start_time": "2022-06-20T07:55:15.186Z"
      },
      {
        "duration": 50,
        "start_time": "2022-06-20T07:55:35.775Z"
      },
      {
        "duration": 47,
        "start_time": "2022-06-20T07:55:50.941Z"
      },
      {
        "duration": 548,
        "start_time": "2022-06-20T07:55:54.211Z"
      },
      {
        "duration": 630,
        "start_time": "2022-06-20T07:55:59.764Z"
      },
      {
        "duration": 514,
        "start_time": "2022-06-20T07:56:03.879Z"
      },
      {
        "duration": 4571,
        "start_time": "2022-06-20T07:56:27.052Z"
      },
      {
        "duration": 1766,
        "start_time": "2022-06-20T07:57:39.969Z"
      },
      {
        "duration": 344,
        "start_time": "2022-06-20T07:57:50.952Z"
      },
      {
        "duration": 440,
        "start_time": "2022-06-20T07:58:31.354Z"
      },
      {
        "duration": 4541,
        "start_time": "2022-06-20T07:58:37.363Z"
      },
      {
        "duration": 1263,
        "start_time": "2022-06-20T09:02:04.661Z"
      },
      {
        "duration": 655,
        "start_time": "2022-06-20T09:02:05.926Z"
      },
      {
        "duration": 199,
        "start_time": "2022-06-20T09:02:06.582Z"
      },
      {
        "duration": 78,
        "start_time": "2022-06-20T09:02:06.782Z"
      },
      {
        "duration": 180,
        "start_time": "2022-06-20T09:02:06.862Z"
      },
      {
        "duration": 9,
        "start_time": "2022-06-20T09:02:07.044Z"
      },
      {
        "duration": 7,
        "start_time": "2022-06-20T09:02:07.054Z"
      },
      {
        "duration": 6,
        "start_time": "2022-06-20T09:02:07.062Z"
      },
      {
        "duration": 10,
        "start_time": "2022-06-20T09:02:07.070Z"
      },
      {
        "duration": 45,
        "start_time": "2022-06-20T09:02:07.082Z"
      },
      {
        "duration": 21,
        "start_time": "2022-06-20T09:02:07.129Z"
      },
      {
        "duration": 6,
        "start_time": "2022-06-20T09:02:07.152Z"
      },
      {
        "duration": 26,
        "start_time": "2022-06-20T09:02:07.160Z"
      },
      {
        "duration": 4432,
        "start_time": "2022-06-20T09:02:07.189Z"
      },
      {
        "duration": 12,
        "start_time": "2022-06-20T09:02:11.650Z"
      },
      {
        "duration": 516,
        "start_time": "2022-06-20T09:02:11.664Z"
      },
      {
        "duration": 4,
        "start_time": "2022-06-20T09:11:22.069Z"
      },
      {
        "duration": 5,
        "start_time": "2022-06-20T09:13:20.831Z"
      },
      {
        "duration": 6,
        "start_time": "2022-06-20T09:14:45.331Z"
      },
      {
        "duration": 330,
        "start_time": "2022-06-20T09:19:49.426Z"
      },
      {
        "duration": 9,
        "start_time": "2022-06-20T09:20:10.417Z"
      },
      {
        "duration": 277,
        "start_time": "2022-06-20T09:20:19.085Z"
      },
      {
        "duration": 272,
        "start_time": "2022-06-20T09:20:25.426Z"
      },
      {
        "duration": 236,
        "start_time": "2022-06-20T09:20:29.662Z"
      },
      {
        "duration": 382,
        "start_time": "2022-06-20T09:21:00.057Z"
      },
      {
        "duration": 472,
        "start_time": "2022-06-20T09:21:07.679Z"
      },
      {
        "duration": 102,
        "start_time": "2022-06-20T09:21:25.842Z"
      },
      {
        "duration": 470,
        "start_time": "2022-06-20T09:21:30.285Z"
      },
      {
        "duration": 1174,
        "start_time": "2022-06-20T09:22:41.888Z"
      },
      {
        "duration": 1169,
        "start_time": "2022-06-20T09:23:57.551Z"
      },
      {
        "duration": 1315,
        "start_time": "2022-06-20T09:24:35.066Z"
      },
      {
        "duration": 1177,
        "start_time": "2022-06-20T09:25:57.221Z"
      },
      {
        "duration": 12,
        "start_time": "2022-06-20T09:26:30.304Z"
      },
      {
        "duration": 1189,
        "start_time": "2022-06-20T09:26:34.040Z"
      },
      {
        "duration": 1141,
        "start_time": "2022-06-20T09:27:43.950Z"
      },
      {
        "duration": 1155,
        "start_time": "2022-06-20T09:27:52.840Z"
      },
      {
        "duration": 1472,
        "start_time": "2022-06-20T09:28:03.927Z"
      },
      {
        "duration": 1232,
        "start_time": "2022-06-20T09:28:39.072Z"
      },
      {
        "duration": 12,
        "start_time": "2022-06-20T09:30:14.494Z"
      },
      {
        "duration": 0,
        "start_time": "2022-06-20T09:32:08.928Z"
      },
      {
        "duration": 1142,
        "start_time": "2022-06-20T09:32:12.640Z"
      },
      {
        "duration": 1164,
        "start_time": "2022-06-20T09:33:57.925Z"
      },
      {
        "duration": 1195,
        "start_time": "2022-06-20T09:34:13.900Z"
      },
      {
        "duration": 1249,
        "start_time": "2022-06-20T09:34:59.570Z"
      },
      {
        "duration": 49,
        "start_time": "2022-06-20T11:26:50.402Z"
      },
      {
        "duration": 6,
        "start_time": "2022-06-20T11:27:02.657Z"
      },
      {
        "duration": 8,
        "start_time": "2022-06-20T11:27:11.146Z"
      },
      {
        "duration": 7,
        "start_time": "2022-06-20T11:29:44.249Z"
      },
      {
        "duration": 14,
        "start_time": "2022-06-20T11:38:04.650Z"
      },
      {
        "duration": 7,
        "start_time": "2022-06-20T11:38:42.674Z"
      },
      {
        "duration": 5,
        "start_time": "2022-06-20T11:38:45.829Z"
      },
      {
        "duration": 3,
        "start_time": "2022-06-20T11:49:33.572Z"
      },
      {
        "duration": 3,
        "start_time": "2022-06-20T11:49:40.389Z"
      },
      {
        "duration": 11,
        "start_time": "2022-06-20T12:16:01.101Z"
      },
      {
        "duration": 961,
        "start_time": "2022-06-20T12:16:29.102Z"
      },
      {
        "duration": 1343,
        "start_time": "2022-06-20T12:17:41.853Z"
      },
      {
        "duration": 798,
        "start_time": "2022-06-20T12:17:43.198Z"
      },
      {
        "duration": 212,
        "start_time": "2022-06-20T12:17:43.998Z"
      },
      {
        "duration": 88,
        "start_time": "2022-06-20T12:17:44.212Z"
      },
      {
        "duration": 192,
        "start_time": "2022-06-20T12:17:44.302Z"
      },
      {
        "duration": 8,
        "start_time": "2022-06-20T12:17:44.495Z"
      },
      {
        "duration": 51,
        "start_time": "2022-06-20T12:17:44.505Z"
      },
      {
        "duration": 17,
        "start_time": "2022-06-20T12:17:44.558Z"
      },
      {
        "duration": 26,
        "start_time": "2022-06-20T12:17:44.577Z"
      },
      {
        "duration": 67,
        "start_time": "2022-06-20T12:17:44.604Z"
      },
      {
        "duration": 44,
        "start_time": "2022-06-20T12:17:44.673Z"
      },
      {
        "duration": 6,
        "start_time": "2022-06-20T12:17:44.719Z"
      },
      {
        "duration": 71,
        "start_time": "2022-06-20T12:17:44.728Z"
      },
      {
        "duration": 4720,
        "start_time": "2022-06-20T12:17:44.801Z"
      },
      {
        "duration": 16,
        "start_time": "2022-06-20T12:17:49.523Z"
      },
      {
        "duration": 684,
        "start_time": "2022-06-20T12:17:49.540Z"
      },
      {
        "duration": 14,
        "start_time": "2022-06-20T12:17:50.226Z"
      },
      {
        "duration": 1322,
        "start_time": "2022-06-20T12:17:50.242Z"
      },
      {
        "duration": 5,
        "start_time": "2022-06-20T12:17:51.566Z"
      },
      {
        "duration": 24,
        "start_time": "2022-06-20T12:17:51.573Z"
      },
      {
        "duration": 1434,
        "start_time": "2022-06-20T13:14:40.753Z"
      },
      {
        "duration": 743,
        "start_time": "2022-06-20T13:14:42.189Z"
      },
      {
        "duration": 206,
        "start_time": "2022-06-20T13:14:42.933Z"
      },
      {
        "duration": 70,
        "start_time": "2022-06-20T13:14:43.141Z"
      },
      {
        "duration": 183,
        "start_time": "2022-06-20T13:14:43.226Z"
      },
      {
        "duration": 22,
        "start_time": "2022-06-20T13:14:43.410Z"
      },
      {
        "duration": 17,
        "start_time": "2022-06-20T13:14:43.442Z"
      },
      {
        "duration": 21,
        "start_time": "2022-06-20T13:14:43.460Z"
      },
      {
        "duration": 21,
        "start_time": "2022-06-20T13:14:43.483Z"
      },
      {
        "duration": 45,
        "start_time": "2022-06-20T13:14:43.506Z"
      },
      {
        "duration": 20,
        "start_time": "2022-06-20T13:14:43.553Z"
      },
      {
        "duration": 12,
        "start_time": "2022-06-20T13:14:43.575Z"
      },
      {
        "duration": 51,
        "start_time": "2022-06-20T13:14:43.589Z"
      },
      {
        "duration": 4695,
        "start_time": "2022-06-20T13:14:43.642Z"
      },
      {
        "duration": 8,
        "start_time": "2022-06-20T13:14:48.339Z"
      },
      {
        "duration": 549,
        "start_time": "2022-06-20T13:14:48.348Z"
      },
      {
        "duration": 7,
        "start_time": "2022-06-20T13:14:48.899Z"
      },
      {
        "duration": 1214,
        "start_time": "2022-06-20T13:14:48.908Z"
      },
      {
        "duration": 13,
        "start_time": "2022-06-20T13:14:50.124Z"
      },
      {
        "duration": 18,
        "start_time": "2022-06-20T13:14:50.139Z"
      },
      {
        "duration": 2663,
        "start_time": "2022-06-20T16:41:02.752Z"
      },
      {
        "duration": 2205,
        "start_time": "2022-06-20T16:41:05.418Z"
      },
      {
        "duration": 271,
        "start_time": "2022-06-20T16:41:07.626Z"
      },
      {
        "duration": 126,
        "start_time": "2022-06-20T16:41:07.900Z"
      },
      {
        "duration": 248,
        "start_time": "2022-06-20T16:41:08.029Z"
      },
      {
        "duration": 10,
        "start_time": "2022-06-20T16:41:08.279Z"
      },
      {
        "duration": 10,
        "start_time": "2022-06-20T16:41:08.294Z"
      },
      {
        "duration": 26,
        "start_time": "2022-06-20T16:41:08.306Z"
      },
      {
        "duration": 14,
        "start_time": "2022-06-20T16:41:08.334Z"
      },
      {
        "duration": 6,
        "start_time": "2022-06-20T16:41:15.845Z"
      },
      {
        "duration": 5,
        "start_time": "2022-06-20T16:58:01.187Z"
      },
      {
        "duration": 103,
        "start_time": "2022-06-20T16:58:32.390Z"
      },
      {
        "duration": 1351,
        "start_time": "2022-06-20T17:04:43.040Z"
      },
      {
        "duration": 646,
        "start_time": "2022-06-20T17:04:44.393Z"
      },
      {
        "duration": 191,
        "start_time": "2022-06-20T17:04:45.040Z"
      },
      {
        "duration": 64,
        "start_time": "2022-06-20T17:04:45.234Z"
      },
      {
        "duration": 180,
        "start_time": "2022-06-20T17:04:45.299Z"
      },
      {
        "duration": 7,
        "start_time": "2022-06-20T17:04:45.480Z"
      },
      {
        "duration": 14,
        "start_time": "2022-06-20T17:04:45.488Z"
      },
      {
        "duration": 23,
        "start_time": "2022-06-20T17:04:45.503Z"
      },
      {
        "duration": 6,
        "start_time": "2022-06-20T17:04:45.528Z"
      },
      {
        "duration": 17,
        "start_time": "2022-06-20T17:04:45.536Z"
      },
      {
        "duration": 20,
        "start_time": "2022-06-20T17:04:45.554Z"
      },
      {
        "duration": 5,
        "start_time": "2022-06-20T17:04:45.576Z"
      },
      {
        "duration": 7,
        "start_time": "2022-06-20T17:04:45.582Z"
      },
      {
        "duration": 40,
        "start_time": "2022-06-20T17:04:45.591Z"
      },
      {
        "duration": 4178,
        "start_time": "2022-06-20T17:04:45.633Z"
      },
      {
        "duration": 9,
        "start_time": "2022-06-20T17:04:49.812Z"
      },
      {
        "duration": 485,
        "start_time": "2022-06-20T17:04:49.822Z"
      },
      {
        "duration": 7,
        "start_time": "2022-06-20T17:04:50.309Z"
      },
      {
        "duration": 1234,
        "start_time": "2022-06-20T17:04:50.326Z"
      },
      {
        "duration": 4,
        "start_time": "2022-06-20T17:04:51.562Z"
      },
      {
        "duration": 17,
        "start_time": "2022-06-20T17:04:51.567Z"
      },
      {
        "duration": 5,
        "start_time": "2022-06-20T17:12:43.739Z"
      },
      {
        "duration": 18,
        "start_time": "2022-06-20T17:14:37.963Z"
      },
      {
        "duration": 8,
        "start_time": "2022-06-20T17:14:42.680Z"
      },
      {
        "duration": 8,
        "start_time": "2022-06-20T17:14:47.443Z"
      },
      {
        "duration": 134,
        "start_time": "2022-06-20T17:15:25.265Z"
      },
      {
        "duration": 111,
        "start_time": "2022-06-20T17:16:05.924Z"
      },
      {
        "duration": 117,
        "start_time": "2022-06-20T17:16:15.983Z"
      },
      {
        "duration": 322,
        "start_time": "2022-06-20T17:18:10.620Z"
      },
      {
        "duration": 182,
        "start_time": "2022-06-20T17:18:52.324Z"
      },
      {
        "duration": 184,
        "start_time": "2022-06-20T17:18:58.025Z"
      },
      {
        "duration": 219,
        "start_time": "2022-06-20T17:19:05.835Z"
      },
      {
        "duration": 190,
        "start_time": "2022-06-20T17:19:27.412Z"
      },
      {
        "duration": 457,
        "start_time": "2022-06-20T17:19:31.870Z"
      },
      {
        "duration": 1637,
        "start_time": "2022-06-23T07:52:41.514Z"
      },
      {
        "duration": 4580,
        "start_time": "2022-06-23T07:52:46.809Z"
      },
      {
        "duration": 9,
        "start_time": "2022-06-23T07:52:56.065Z"
      },
      {
        "duration": 12,
        "start_time": "2022-06-23T07:52:58.322Z"
      },
      {
        "duration": 4,
        "start_time": "2022-06-23T07:53:00.303Z"
      },
      {
        "duration": 4,
        "start_time": "2022-06-23T07:53:02.606Z"
      },
      {
        "duration": 20,
        "start_time": "2022-06-23T07:53:22.773Z"
      },
      {
        "duration": 18,
        "start_time": "2022-06-23T07:53:51.007Z"
      },
      {
        "duration": 17,
        "start_time": "2022-06-23T07:53:53.098Z"
      },
      {
        "duration": 40,
        "start_time": "2022-06-23T07:59:24.571Z"
      },
      {
        "duration": 60,
        "start_time": "2022-06-23T07:59:49.898Z"
      },
      {
        "duration": 7,
        "start_time": "2022-06-23T08:00:06.882Z"
      },
      {
        "duration": 12,
        "start_time": "2022-06-23T08:00:52.464Z"
      },
      {
        "duration": 5,
        "start_time": "2022-06-23T08:03:27.463Z"
      },
      {
        "duration": 9,
        "start_time": "2022-06-23T08:03:48.843Z"
      },
      {
        "duration": 5,
        "start_time": "2022-06-23T08:03:53.903Z"
      },
      {
        "duration": 12,
        "start_time": "2022-06-23T08:04:13.221Z"
      },
      {
        "duration": 4,
        "start_time": "2022-06-23T08:05:12.897Z"
      },
      {
        "duration": 5,
        "start_time": "2022-06-23T08:05:28.194Z"
      },
      {
        "duration": 5,
        "start_time": "2022-06-23T08:08:42.087Z"
      },
      {
        "duration": 6,
        "start_time": "2022-06-23T08:09:00.788Z"
      },
      {
        "duration": 43,
        "start_time": "2022-06-23T08:09:05.261Z"
      },
      {
        "duration": 53,
        "start_time": "2022-06-23T08:09:31.597Z"
      },
      {
        "duration": 12,
        "start_time": "2022-06-23T08:09:38.941Z"
      },
      {
        "duration": 16,
        "start_time": "2022-06-23T08:10:01.059Z"
      },
      {
        "duration": 806,
        "start_time": "2022-06-23T08:10:23.582Z"
      },
      {
        "duration": 28,
        "start_time": "2022-06-23T08:10:28.339Z"
      },
      {
        "duration": 25,
        "start_time": "2022-06-23T08:10:31.773Z"
      },
      {
        "duration": 778,
        "start_time": "2022-06-23T08:12:02.858Z"
      },
      {
        "duration": 15,
        "start_time": "2022-06-23T08:13:20.056Z"
      },
      {
        "duration": 25,
        "start_time": "2022-06-23T08:13:28.997Z"
      },
      {
        "duration": 1458,
        "start_time": "2022-06-23T10:37:47.773Z"
      },
      {
        "duration": 17,
        "start_time": "2022-06-23T10:38:07.199Z"
      },
      {
        "duration": 8,
        "start_time": "2022-06-23T10:38:12.703Z"
      },
      {
        "duration": 1622,
        "start_time": "2022-06-23T10:38:14.611Z"
      },
      {
        "duration": 1549,
        "start_time": "2022-06-23T10:38:21.165Z"
      },
      {
        "duration": 1344,
        "start_time": "2022-06-23T10:38:26.207Z"
      },
      {
        "duration": 18,
        "start_time": "2022-06-23T10:40:16.700Z"
      },
      {
        "duration": 937,
        "start_time": "2022-06-23T10:40:31.658Z"
      },
      {
        "duration": 42,
        "start_time": "2022-06-23T10:43:49.291Z"
      },
      {
        "duration": 19,
        "start_time": "2022-06-23T10:45:22.496Z"
      },
      {
        "duration": 1345,
        "start_time": "2022-06-23T10:45:33.216Z"
      },
      {
        "duration": 260,
        "start_time": "2022-06-23T10:45:58.765Z"
      },
      {
        "duration": 268,
        "start_time": "2022-06-23T10:46:08.312Z"
      },
      {
        "duration": 170,
        "start_time": "2022-06-23T10:46:30.166Z"
      },
      {
        "duration": 87,
        "start_time": "2022-06-23T10:46:58.959Z"
      },
      {
        "duration": 1011,
        "start_time": "2022-06-23T10:47:10.917Z"
      },
      {
        "duration": 1349,
        "start_time": "2022-06-23T10:47:18.050Z"
      },
      {
        "duration": 110,
        "start_time": "2022-06-23T10:47:29.750Z"
      },
      {
        "duration": 63,
        "start_time": "2022-06-23T10:49:19.919Z"
      },
      {
        "duration": 86,
        "start_time": "2022-06-23T10:49:27.310Z"
      },
      {
        "duration": 85,
        "start_time": "2022-06-23T10:55:28.264Z"
      },
      {
        "duration": 10,
        "start_time": "2022-06-23T11:08:03.593Z"
      },
      {
        "duration": 10,
        "start_time": "2022-06-23T11:08:13.191Z"
      },
      {
        "duration": 4,
        "start_time": "2022-06-23T11:11:08.354Z"
      },
      {
        "duration": 124,
        "start_time": "2022-06-23T11:11:11.518Z"
      },
      {
        "duration": 17,
        "start_time": "2022-06-23T11:11:28.695Z"
      },
      {
        "duration": 40,
        "start_time": "2022-06-23T11:11:38.649Z"
      },
      {
        "duration": 32,
        "start_time": "2022-06-23T12:46:57.329Z"
      },
      {
        "duration": 1480,
        "start_time": "2022-06-23T12:47:24.676Z"
      },
      {
        "duration": 773,
        "start_time": "2022-06-23T12:47:26.158Z"
      },
      {
        "duration": 202,
        "start_time": "2022-06-23T12:47:26.933Z"
      },
      {
        "duration": 67,
        "start_time": "2022-06-23T12:47:27.138Z"
      },
      {
        "duration": 199,
        "start_time": "2022-06-23T12:47:27.229Z"
      },
      {
        "duration": 9,
        "start_time": "2022-06-23T12:47:27.430Z"
      },
      {
        "duration": 6,
        "start_time": "2022-06-23T12:47:27.441Z"
      },
      {
        "duration": 8,
        "start_time": "2022-06-23T12:47:27.449Z"
      },
      {
        "duration": 7,
        "start_time": "2022-06-23T12:47:27.459Z"
      },
      {
        "duration": 18,
        "start_time": "2022-06-23T12:47:27.469Z"
      },
      {
        "duration": 43,
        "start_time": "2022-06-23T12:47:27.488Z"
      },
      {
        "duration": 23,
        "start_time": "2022-06-23T12:47:27.533Z"
      },
      {
        "duration": 7,
        "start_time": "2022-06-23T12:47:27.558Z"
      },
      {
        "duration": 9,
        "start_time": "2022-06-23T12:47:27.566Z"
      },
      {
        "duration": 15,
        "start_time": "2022-06-23T12:47:27.577Z"
      },
      {
        "duration": 4258,
        "start_time": "2022-06-23T12:47:27.593Z"
      },
      {
        "duration": 11,
        "start_time": "2022-06-23T12:47:31.852Z"
      },
      {
        "duration": 587,
        "start_time": "2022-06-23T12:47:31.864Z"
      },
      {
        "duration": 8,
        "start_time": "2022-06-23T12:47:32.453Z"
      },
      {
        "duration": 42,
        "start_time": "2022-06-23T12:47:32.463Z"
      },
      {
        "duration": 1229,
        "start_time": "2022-06-23T12:47:32.506Z"
      },
      {
        "duration": 44,
        "start_time": "2022-06-23T12:47:33.736Z"
      },
      {
        "duration": 3,
        "start_time": "2022-06-23T12:47:33.782Z"
      },
      {
        "duration": 9,
        "start_time": "2022-06-23T12:47:33.787Z"
      },
      {
        "duration": 55,
        "start_time": "2022-06-23T12:47:33.798Z"
      },
      {
        "duration": 141,
        "start_time": "2022-06-23T12:50:04.774Z"
      },
      {
        "duration": 9,
        "start_time": "2022-06-23T12:54:16.351Z"
      },
      {
        "duration": 1460,
        "start_time": "2022-06-23T12:55:54.661Z"
      },
      {
        "duration": 939,
        "start_time": "2022-06-23T12:55:56.124Z"
      },
      {
        "duration": 322,
        "start_time": "2022-06-23T12:55:57.066Z"
      },
      {
        "duration": 123,
        "start_time": "2022-06-23T12:55:57.391Z"
      },
      {
        "duration": 205,
        "start_time": "2022-06-23T12:55:57.526Z"
      },
      {
        "duration": 14,
        "start_time": "2022-06-23T12:55:57.735Z"
      },
      {
        "duration": 15,
        "start_time": "2022-06-23T12:55:57.751Z"
      },
      {
        "duration": 4,
        "start_time": "2022-06-23T12:55:57.768Z"
      },
      {
        "duration": 12,
        "start_time": "2022-06-23T12:55:57.774Z"
      },
      {
        "duration": 23,
        "start_time": "2022-06-23T12:55:57.787Z"
      },
      {
        "duration": 134,
        "start_time": "2022-06-23T12:55:57.827Z"
      },
      {
        "duration": 0,
        "start_time": "2022-06-23T12:55:57.963Z"
      },
      {
        "duration": 0,
        "start_time": "2022-06-23T12:55:57.965Z"
      },
      {
        "duration": 0,
        "start_time": "2022-06-23T12:55:57.966Z"
      },
      {
        "duration": 0,
        "start_time": "2022-06-23T12:55:57.969Z"
      },
      {
        "duration": 0,
        "start_time": "2022-06-23T12:55:57.970Z"
      },
      {
        "duration": 0,
        "start_time": "2022-06-23T12:55:57.972Z"
      },
      {
        "duration": 0,
        "start_time": "2022-06-23T12:55:57.973Z"
      },
      {
        "duration": 0,
        "start_time": "2022-06-23T12:55:57.975Z"
      },
      {
        "duration": 0,
        "start_time": "2022-06-23T12:55:57.976Z"
      },
      {
        "duration": 0,
        "start_time": "2022-06-23T12:55:57.978Z"
      },
      {
        "duration": 0,
        "start_time": "2022-06-23T12:55:57.979Z"
      },
      {
        "duration": 0,
        "start_time": "2022-06-23T12:55:57.981Z"
      },
      {
        "duration": 0,
        "start_time": "2022-06-23T12:55:57.983Z"
      },
      {
        "duration": 0,
        "start_time": "2022-06-23T12:55:57.985Z"
      },
      {
        "duration": 0,
        "start_time": "2022-06-23T12:55:57.987Z"
      },
      {
        "duration": 2,
        "start_time": "2022-06-23T13:00:08.718Z"
      },
      {
        "duration": 40,
        "start_time": "2022-06-23T13:02:32.086Z"
      },
      {
        "duration": 70,
        "start_time": "2022-06-23T13:02:50.868Z"
      },
      {
        "duration": 11,
        "start_time": "2022-06-23T13:04:32.771Z"
      },
      {
        "duration": 33,
        "start_time": "2022-06-23T13:06:09.017Z"
      },
      {
        "duration": 13,
        "start_time": "2022-06-23T13:07:22.860Z"
      },
      {
        "duration": 15,
        "start_time": "2022-06-23T13:08:20.301Z"
      },
      {
        "duration": 1323,
        "start_time": "2022-06-23T13:08:36.464Z"
      },
      {
        "duration": 718,
        "start_time": "2022-06-23T13:08:37.789Z"
      },
      {
        "duration": 209,
        "start_time": "2022-06-23T13:08:38.508Z"
      },
      {
        "duration": 68,
        "start_time": "2022-06-23T13:08:38.728Z"
      },
      {
        "duration": 187,
        "start_time": "2022-06-23T13:08:38.798Z"
      },
      {
        "duration": 9,
        "start_time": "2022-06-23T13:08:38.987Z"
      },
      {
        "duration": 5,
        "start_time": "2022-06-23T13:08:38.998Z"
      },
      {
        "duration": 26,
        "start_time": "2022-06-23T13:08:39.005Z"
      },
      {
        "duration": 8,
        "start_time": "2022-06-23T13:08:39.032Z"
      },
      {
        "duration": 18,
        "start_time": "2022-06-23T13:08:39.043Z"
      },
      {
        "duration": 15,
        "start_time": "2022-06-23T13:08:39.063Z"
      },
      {
        "duration": 3,
        "start_time": "2022-06-23T13:08:39.079Z"
      },
      {
        "duration": 64,
        "start_time": "2022-06-23T13:08:39.084Z"
      },
      {
        "duration": 12,
        "start_time": "2022-06-23T13:08:39.150Z"
      },
      {
        "duration": 6,
        "start_time": "2022-06-23T13:08:39.164Z"
      },
      {
        "duration": 9,
        "start_time": "2022-06-23T13:08:39.172Z"
      },
      {
        "duration": 14,
        "start_time": "2022-06-23T13:08:39.183Z"
      },
      {
        "duration": 4940,
        "start_time": "2022-06-23T13:08:39.199Z"
      },
      {
        "duration": 8,
        "start_time": "2022-06-23T13:08:44.141Z"
      },
      {
        "duration": 563,
        "start_time": "2022-06-23T13:08:44.151Z"
      },
      {
        "duration": 15,
        "start_time": "2022-06-23T13:08:44.716Z"
      },
      {
        "duration": 7,
        "start_time": "2022-06-23T13:08:44.734Z"
      },
      {
        "duration": 1258,
        "start_time": "2022-06-23T13:08:44.743Z"
      },
      {
        "duration": 49,
        "start_time": "2022-06-23T13:08:46.002Z"
      },
      {
        "duration": 2,
        "start_time": "2022-06-23T13:08:46.053Z"
      },
      {
        "duration": 10,
        "start_time": "2022-06-23T13:08:46.057Z"
      },
      {
        "duration": 148,
        "start_time": "2022-06-23T13:08:46.068Z"
      },
      {
        "duration": 56,
        "start_time": "2022-06-23T13:09:15.786Z"
      },
      {
        "duration": 22,
        "start_time": "2022-06-23T13:09:54.916Z"
      },
      {
        "duration": 15,
        "start_time": "2022-06-23T13:09:56.786Z"
      },
      {
        "duration": 1518,
        "start_time": "2022-06-23T13:10:12.816Z"
      },
      {
        "duration": 1313,
        "start_time": "2022-06-23T13:10:14.336Z"
      },
      {
        "duration": 340,
        "start_time": "2022-06-23T13:10:15.651Z"
      },
      {
        "duration": 85,
        "start_time": "2022-06-23T13:10:15.994Z"
      },
      {
        "duration": 191,
        "start_time": "2022-06-23T13:10:16.081Z"
      },
      {
        "duration": 10,
        "start_time": "2022-06-23T13:10:16.275Z"
      },
      {
        "duration": 12,
        "start_time": "2022-06-23T13:10:16.287Z"
      },
      {
        "duration": 11,
        "start_time": "2022-06-23T13:10:16.302Z"
      },
      {
        "duration": 6,
        "start_time": "2022-06-23T13:10:16.328Z"
      },
      {
        "duration": 29,
        "start_time": "2022-06-23T13:10:16.338Z"
      },
      {
        "duration": 30,
        "start_time": "2022-06-23T13:10:16.369Z"
      },
      {
        "duration": 3,
        "start_time": "2022-06-23T13:10:16.405Z"
      },
      {
        "duration": 42,
        "start_time": "2022-06-23T13:10:16.428Z"
      },
      {
        "duration": 15,
        "start_time": "2022-06-23T13:10:16.473Z"
      },
      {
        "duration": 9,
        "start_time": "2022-06-23T13:10:16.490Z"
      },
      {
        "duration": 36,
        "start_time": "2022-06-23T13:10:16.501Z"
      },
      {
        "duration": 18,
        "start_time": "2022-06-23T13:10:16.539Z"
      },
      {
        "duration": 4559,
        "start_time": "2022-06-23T13:10:16.560Z"
      },
      {
        "duration": 9,
        "start_time": "2022-06-23T13:10:21.120Z"
      },
      {
        "duration": 522,
        "start_time": "2022-06-23T13:10:21.130Z"
      },
      {
        "duration": 7,
        "start_time": "2022-06-23T13:10:21.654Z"
      },
      {
        "duration": 8,
        "start_time": "2022-06-23T13:10:21.663Z"
      },
      {
        "duration": 1227,
        "start_time": "2022-06-23T13:10:21.673Z"
      },
      {
        "duration": 47,
        "start_time": "2022-06-23T13:10:22.902Z"
      },
      {
        "duration": 3,
        "start_time": "2022-06-23T13:10:22.951Z"
      },
      {
        "duration": 9,
        "start_time": "2022-06-23T13:10:22.955Z"
      },
      {
        "duration": 159,
        "start_time": "2022-06-23T13:10:22.966Z"
      },
      {
        "duration": 5,
        "start_time": "2022-06-23T13:18:47.815Z"
      },
      {
        "duration": 14,
        "start_time": "2022-06-23T13:19:03.891Z"
      },
      {
        "duration": 7,
        "start_time": "2022-06-23T13:19:05.675Z"
      },
      {
        "duration": 1396,
        "start_time": "2022-06-23T13:27:45.135Z"
      },
      {
        "duration": 757,
        "start_time": "2022-06-23T13:27:46.533Z"
      },
      {
        "duration": 204,
        "start_time": "2022-06-23T13:27:47.292Z"
      },
      {
        "duration": 77,
        "start_time": "2022-06-23T13:27:47.497Z"
      },
      {
        "duration": 187,
        "start_time": "2022-06-23T13:27:47.576Z"
      },
      {
        "duration": 7,
        "start_time": "2022-06-23T13:27:47.765Z"
      },
      {
        "duration": 6,
        "start_time": "2022-06-23T13:27:47.774Z"
      },
      {
        "duration": 6,
        "start_time": "2022-06-23T13:27:47.781Z"
      },
      {
        "duration": 7,
        "start_time": "2022-06-23T13:27:47.788Z"
      },
      {
        "duration": 40,
        "start_time": "2022-06-23T13:27:47.797Z"
      },
      {
        "duration": 22,
        "start_time": "2022-06-23T13:27:47.839Z"
      },
      {
        "duration": 2,
        "start_time": "2022-06-23T13:27:47.863Z"
      },
      {
        "duration": 38,
        "start_time": "2022-06-23T13:27:47.866Z"
      },
      {
        "duration": 20,
        "start_time": "2022-06-23T13:27:47.907Z"
      },
      {
        "duration": 5,
        "start_time": "2022-06-23T13:27:47.928Z"
      },
      {
        "duration": 21,
        "start_time": "2022-06-23T13:27:47.935Z"
      },
      {
        "duration": 4493,
        "start_time": "2022-06-23T13:27:47.958Z"
      },
      {
        "duration": 9,
        "start_time": "2022-06-23T13:27:52.452Z"
      },
      {
        "duration": 501,
        "start_time": "2022-06-23T13:27:52.463Z"
      },
      {
        "duration": 7,
        "start_time": "2022-06-23T13:27:52.966Z"
      },
      {
        "duration": 7,
        "start_time": "2022-06-23T13:27:52.974Z"
      },
      {
        "duration": 1233,
        "start_time": "2022-06-23T13:27:52.982Z"
      },
      {
        "duration": 44,
        "start_time": "2022-06-23T13:27:54.217Z"
      },
      {
        "duration": 3,
        "start_time": "2022-06-23T13:27:54.262Z"
      },
      {
        "duration": 16,
        "start_time": "2022-06-23T13:27:54.267Z"
      },
      {
        "duration": 146,
        "start_time": "2022-06-23T13:27:54.285Z"
      },
      {
        "duration": 0,
        "start_time": "2022-06-23T13:27:54.433Z"
      },
      {
        "duration": 6,
        "start_time": "2022-06-23T13:28:14.399Z"
      },
      {
        "duration": 1440,
        "start_time": "2022-06-23T13:29:10.924Z"
      },
      {
        "duration": 746,
        "start_time": "2022-06-23T13:29:12.367Z"
      },
      {
        "duration": 217,
        "start_time": "2022-06-23T13:29:13.115Z"
      },
      {
        "duration": 70,
        "start_time": "2022-06-23T13:29:13.334Z"
      },
      {
        "duration": 205,
        "start_time": "2022-06-23T13:29:13.405Z"
      },
      {
        "duration": 18,
        "start_time": "2022-06-23T13:29:13.611Z"
      },
      {
        "duration": 11,
        "start_time": "2022-06-23T13:29:13.631Z"
      },
      {
        "duration": 6,
        "start_time": "2022-06-23T13:29:13.644Z"
      },
      {
        "duration": 11,
        "start_time": "2022-06-23T13:29:13.652Z"
      },
      {
        "duration": 22,
        "start_time": "2022-06-23T13:29:13.668Z"
      },
      {
        "duration": 56,
        "start_time": "2022-06-23T13:29:13.692Z"
      },
      {
        "duration": 3,
        "start_time": "2022-06-23T13:29:13.750Z"
      },
      {
        "duration": 37,
        "start_time": "2022-06-23T13:29:13.755Z"
      },
      {
        "duration": 7,
        "start_time": "2022-06-23T13:29:13.794Z"
      },
      {
        "duration": 24,
        "start_time": "2022-06-23T13:29:13.803Z"
      },
      {
        "duration": 17,
        "start_time": "2022-06-23T13:29:13.829Z"
      },
      {
        "duration": 4522,
        "start_time": "2022-06-23T13:29:13.848Z"
      },
      {
        "duration": 9,
        "start_time": "2022-06-23T13:29:18.372Z"
      },
      {
        "duration": 563,
        "start_time": "2022-06-23T13:29:18.382Z"
      },
      {
        "duration": 7,
        "start_time": "2022-06-23T13:29:18.946Z"
      },
      {
        "duration": 7,
        "start_time": "2022-06-23T13:29:18.955Z"
      },
      {
        "duration": 1428,
        "start_time": "2022-06-23T13:29:18.964Z"
      },
      {
        "duration": 7,
        "start_time": "2022-06-23T13:29:20.394Z"
      },
      {
        "duration": 68,
        "start_time": "2022-06-23T13:29:20.403Z"
      },
      {
        "duration": 3,
        "start_time": "2022-06-23T13:29:20.473Z"
      },
      {
        "duration": 11,
        "start_time": "2022-06-23T13:29:20.478Z"
      },
      {
        "duration": 11,
        "start_time": "2022-06-23T13:29:20.490Z"
      },
      {
        "duration": 161,
        "start_time": "2022-06-23T13:29:20.504Z"
      },
      {
        "duration": 42,
        "start_time": "2022-06-23T13:30:49.071Z"
      },
      {
        "duration": 8,
        "start_time": "2022-06-23T13:31:15.239Z"
      },
      {
        "duration": 12,
        "start_time": "2022-06-23T13:31:36.782Z"
      },
      {
        "duration": 1760,
        "start_time": "2022-06-25T04:50:31.524Z"
      },
      {
        "duration": 3793,
        "start_time": "2022-06-25T04:50:33.286Z"
      },
      {
        "duration": 228,
        "start_time": "2022-06-25T04:50:37.080Z"
      },
      {
        "duration": 94,
        "start_time": "2022-06-25T04:50:37.310Z"
      },
      {
        "duration": 263,
        "start_time": "2022-06-25T04:50:37.405Z"
      },
      {
        "duration": 8,
        "start_time": "2022-06-25T04:50:37.669Z"
      },
      {
        "duration": 5,
        "start_time": "2022-06-25T04:50:37.678Z"
      },
      {
        "duration": 7,
        "start_time": "2022-06-25T04:50:37.685Z"
      },
      {
        "duration": 15,
        "start_time": "2022-06-25T04:50:37.694Z"
      },
      {
        "duration": 34,
        "start_time": "2022-06-25T04:50:37.711Z"
      },
      {
        "duration": 24,
        "start_time": "2022-06-25T04:50:37.749Z"
      },
      {
        "duration": 2,
        "start_time": "2022-06-25T04:50:37.775Z"
      },
      {
        "duration": 37,
        "start_time": "2022-06-25T04:50:37.779Z"
      },
      {
        "duration": 15,
        "start_time": "2022-06-25T04:50:37.826Z"
      },
      {
        "duration": 30,
        "start_time": "2022-06-25T04:50:37.850Z"
      },
      {
        "duration": 18,
        "start_time": "2022-06-25T04:50:37.881Z"
      },
      {
        "duration": 4804,
        "start_time": "2022-06-25T04:50:37.901Z"
      },
      {
        "duration": 10,
        "start_time": "2022-06-25T04:50:42.708Z"
      },
      {
        "duration": 600,
        "start_time": "2022-06-25T04:50:42.720Z"
      },
      {
        "duration": 13,
        "start_time": "2022-06-25T04:50:43.322Z"
      },
      {
        "duration": 34,
        "start_time": "2022-06-25T04:50:43.340Z"
      },
      {
        "duration": 1301,
        "start_time": "2022-06-25T04:50:43.376Z"
      },
      {
        "duration": 56,
        "start_time": "2022-06-25T04:50:44.679Z"
      },
      {
        "duration": 10,
        "start_time": "2022-06-25T04:50:44.746Z"
      },
      {
        "duration": 8,
        "start_time": "2022-06-25T04:50:44.758Z"
      },
      {
        "duration": 15,
        "start_time": "2022-06-25T04:50:44.767Z"
      },
      {
        "duration": 161,
        "start_time": "2022-06-25T04:50:44.784Z"
      },
      {
        "duration": 14,
        "start_time": "2022-06-25T04:57:31.798Z"
      },
      {
        "duration": 2,
        "start_time": "2022-06-25T04:57:38.260Z"
      },
      {
        "duration": 6,
        "start_time": "2022-06-25T05:00:36.351Z"
      },
      {
        "duration": 31,
        "start_time": "2022-06-25T05:00:38.029Z"
      },
      {
        "duration": 1466,
        "start_time": "2022-06-25T05:01:20.846Z"
      },
      {
        "duration": 736,
        "start_time": "2022-06-25T05:01:22.315Z"
      },
      {
        "duration": 221,
        "start_time": "2022-06-25T05:01:23.052Z"
      },
      {
        "duration": 85,
        "start_time": "2022-06-25T05:01:23.276Z"
      },
      {
        "duration": 195,
        "start_time": "2022-06-25T05:01:23.363Z"
      },
      {
        "duration": 7,
        "start_time": "2022-06-25T05:01:23.560Z"
      },
      {
        "duration": 25,
        "start_time": "2022-06-25T05:01:23.568Z"
      },
      {
        "duration": 20,
        "start_time": "2022-06-25T05:01:23.595Z"
      },
      {
        "duration": 31,
        "start_time": "2022-06-25T05:01:23.617Z"
      },
      {
        "duration": 38,
        "start_time": "2022-06-25T05:01:23.651Z"
      },
      {
        "duration": 33,
        "start_time": "2022-06-25T05:01:23.691Z"
      },
      {
        "duration": 17,
        "start_time": "2022-06-25T05:01:23.725Z"
      },
      {
        "duration": 53,
        "start_time": "2022-06-25T05:01:23.744Z"
      },
      {
        "duration": 18,
        "start_time": "2022-06-25T05:01:23.799Z"
      },
      {
        "duration": 38,
        "start_time": "2022-06-25T05:01:23.818Z"
      },
      {
        "duration": 29,
        "start_time": "2022-06-25T05:01:23.857Z"
      },
      {
        "duration": 4510,
        "start_time": "2022-06-25T05:01:23.887Z"
      },
      {
        "duration": 9,
        "start_time": "2022-06-25T05:01:28.399Z"
      },
      {
        "duration": 546,
        "start_time": "2022-06-25T05:01:28.411Z"
      },
      {
        "duration": 7,
        "start_time": "2022-06-25T05:01:28.959Z"
      },
      {
        "duration": 5,
        "start_time": "2022-06-25T05:01:28.968Z"
      },
      {
        "duration": 1374,
        "start_time": "2022-06-25T05:01:28.975Z"
      },
      {
        "duration": 67,
        "start_time": "2022-06-25T05:01:30.350Z"
      },
      {
        "duration": 5,
        "start_time": "2022-06-25T05:01:30.432Z"
      },
      {
        "duration": 39,
        "start_time": "2022-06-25T05:01:30.439Z"
      },
      {
        "duration": 39,
        "start_time": "2022-06-25T05:01:30.480Z"
      },
      {
        "duration": 170,
        "start_time": "2022-06-25T05:01:30.521Z"
      },
      {
        "duration": 42,
        "start_time": "2022-06-25T05:02:10.519Z"
      },
      {
        "duration": 1364,
        "start_time": "2022-06-25T05:02:15.839Z"
      },
      {
        "duration": 772,
        "start_time": "2022-06-25T05:02:17.205Z"
      },
      {
        "duration": 216,
        "start_time": "2022-06-25T05:02:17.979Z"
      },
      {
        "duration": 92,
        "start_time": "2022-06-25T05:02:18.198Z"
      },
      {
        "duration": 211,
        "start_time": "2022-06-25T05:02:18.292Z"
      },
      {
        "duration": 8,
        "start_time": "2022-06-25T05:02:18.505Z"
      },
      {
        "duration": 34,
        "start_time": "2022-06-25T05:02:18.514Z"
      },
      {
        "duration": 4,
        "start_time": "2022-06-25T05:02:18.550Z"
      },
      {
        "duration": 12,
        "start_time": "2022-06-25T05:02:18.556Z"
      },
      {
        "duration": 37,
        "start_time": "2022-06-25T05:02:18.571Z"
      },
      {
        "duration": 32,
        "start_time": "2022-06-25T05:02:18.610Z"
      },
      {
        "duration": 5,
        "start_time": "2022-06-25T05:02:18.644Z"
      },
      {
        "duration": 40,
        "start_time": "2022-06-25T05:02:18.651Z"
      },
      {
        "duration": 7,
        "start_time": "2022-06-25T05:02:18.692Z"
      },
      {
        "duration": 8,
        "start_time": "2022-06-25T05:02:18.700Z"
      },
      {
        "duration": 40,
        "start_time": "2022-06-25T05:02:18.710Z"
      },
      {
        "duration": 4619,
        "start_time": "2022-06-25T05:02:18.751Z"
      },
      {
        "duration": 10,
        "start_time": "2022-06-25T05:02:23.372Z"
      },
      {
        "duration": 529,
        "start_time": "2022-06-25T05:02:23.384Z"
      },
      {
        "duration": 14,
        "start_time": "2022-06-25T05:02:23.915Z"
      },
      {
        "duration": 21,
        "start_time": "2022-06-25T05:02:23.936Z"
      },
      {
        "duration": 1255,
        "start_time": "2022-06-25T05:02:23.959Z"
      },
      {
        "duration": 50,
        "start_time": "2022-06-25T05:02:25.216Z"
      },
      {
        "duration": 3,
        "start_time": "2022-06-25T05:02:25.268Z"
      },
      {
        "duration": 9,
        "start_time": "2022-06-25T05:02:25.272Z"
      },
      {
        "duration": 12,
        "start_time": "2022-06-25T05:02:25.282Z"
      },
      {
        "duration": 66,
        "start_time": "2022-06-25T05:02:25.296Z"
      },
      {
        "duration": 33,
        "start_time": "2022-06-25T05:05:20.682Z"
      },
      {
        "duration": 36,
        "start_time": "2022-06-25T05:05:35.450Z"
      },
      {
        "duration": 30,
        "start_time": "2022-06-25T05:05:43.784Z"
      },
      {
        "duration": 177,
        "start_time": "2022-06-25T05:09:22.446Z"
      },
      {
        "duration": 114,
        "start_time": "2022-06-25T05:09:44.365Z"
      },
      {
        "duration": 4,
        "start_time": "2022-06-25T05:11:32.873Z"
      },
      {
        "duration": 8685,
        "start_time": "2022-06-25T05:11:34.025Z"
      },
      {
        "duration": 3,
        "start_time": "2022-06-25T05:13:15.968Z"
      },
      {
        "duration": 3,
        "start_time": "2022-06-25T05:13:40.011Z"
      },
      {
        "duration": 8837,
        "start_time": "2022-06-25T05:13:42.616Z"
      },
      {
        "duration": 8802,
        "start_time": "2022-06-25T05:13:58.041Z"
      },
      {
        "duration": 4,
        "start_time": "2022-06-25T05:14:36.679Z"
      },
      {
        "duration": 15475,
        "start_time": "2022-06-25T05:14:44.287Z"
      },
      {
        "duration": 8602,
        "start_time": "2022-06-25T05:17:05.898Z"
      },
      {
        "duration": 28986,
        "start_time": "2022-06-25T05:17:17.744Z"
      },
      {
        "duration": 15681,
        "start_time": "2022-06-25T05:17:57.661Z"
      },
      {
        "duration": 2225,
        "start_time": "2022-06-25T05:19:35.463Z"
      },
      {
        "duration": 56,
        "start_time": "2022-06-25T05:20:01.849Z"
      },
      {
        "duration": 3,
        "start_time": "2022-06-25T05:20:50.070Z"
      },
      {
        "duration": 1364,
        "start_time": "2022-06-25T05:20:59.273Z"
      },
      {
        "duration": 774,
        "start_time": "2022-06-25T05:21:17.203Z"
      },
      {
        "duration": 447,
        "start_time": "2022-06-25T05:21:34.415Z"
      },
      {
        "duration": 436,
        "start_time": "2022-06-25T05:21:48.425Z"
      },
      {
        "duration": 6,
        "start_time": "2022-06-25T05:21:54.247Z"
      },
      {
        "duration": 4,
        "start_time": "2022-06-25T05:22:07.880Z"
      },
      {
        "duration": 59,
        "start_time": "2022-06-25T05:22:24.160Z"
      },
      {
        "duration": 4,
        "start_time": "2022-06-25T05:22:43.797Z"
      },
      {
        "duration": 30635,
        "start_time": "2022-06-25T05:22:44.980Z"
      },
      {
        "duration": 48202,
        "start_time": "2022-06-25T05:23:22.043Z"
      },
      {
        "duration": 4,
        "start_time": "2022-06-25T05:27:08.644Z"
      },
      {
        "duration": 5,
        "start_time": "2022-06-25T05:27:56.041Z"
      },
      {
        "duration": 17,
        "start_time": "2022-06-25T05:29:02.415Z"
      },
      {
        "duration": 8,
        "start_time": "2022-06-25T05:29:21.175Z"
      },
      {
        "duration": 10,
        "start_time": "2022-06-25T05:30:15.753Z"
      },
      {
        "duration": 4,
        "start_time": "2022-06-25T05:30:21.408Z"
      },
      {
        "duration": 32,
        "start_time": "2022-06-25T05:30:36.949Z"
      },
      {
        "duration": 10,
        "start_time": "2022-06-25T05:30:48.539Z"
      },
      {
        "duration": 5,
        "start_time": "2022-06-25T05:31:06.444Z"
      },
      {
        "duration": 466006,
        "start_time": "2022-06-25T05:31:12.971Z"
      },
      {
        "duration": 4,
        "start_time": "2022-06-25T05:40:00.575Z"
      },
      {
        "duration": 8252,
        "start_time": "2022-06-25T05:40:05.070Z"
      },
      {
        "duration": 3,
        "start_time": "2022-06-25T05:41:50.824Z"
      },
      {
        "duration": 188192,
        "start_time": "2022-06-25T05:42:07.727Z"
      },
      {
        "duration": 0,
        "start_time": "2022-06-25T05:45:15.927Z"
      },
      {
        "duration": 5,
        "start_time": "2022-06-25T05:45:18.279Z"
      },
      {
        "duration": 144192,
        "start_time": "2022-06-25T05:45:21.489Z"
      },
      {
        "duration": 17323,
        "start_time": "2022-06-25T05:47:53.385Z"
      },
      {
        "duration": 311669,
        "start_time": "2022-06-25T05:48:10.710Z"
      },
      {
        "duration": 386,
        "start_time": "2022-06-25T05:53:22.381Z"
      },
      {
        "duration": 14,
        "start_time": "2022-06-25T05:53:41.551Z"
      },
      {
        "duration": 4,
        "start_time": "2022-06-25T05:53:59.792Z"
      },
      {
        "duration": 11,
        "start_time": "2022-06-25T05:54:08.130Z"
      },
      {
        "duration": 3,
        "start_time": "2022-06-25T05:54:25.360Z"
      },
      {
        "duration": 1509,
        "start_time": "2022-06-25T05:54:29.711Z"
      },
      {
        "duration": 38,
        "start_time": "2022-06-25T05:55:09.784Z"
      },
      {
        "duration": 56002,
        "start_time": "2022-06-25T05:55:42.235Z"
      },
      {
        "duration": 1929,
        "start_time": "2022-06-25T05:56:51.464Z"
      },
      {
        "duration": 84,
        "start_time": "2022-06-25T05:57:35.186Z"
      },
      {
        "duration": 1150,
        "start_time": "2022-06-25T05:57:43.181Z"
      },
      {
        "duration": 5,
        "start_time": "2022-06-25T05:59:07.260Z"
      },
      {
        "duration": 1371,
        "start_time": "2022-06-25T05:59:36.761Z"
      },
      {
        "duration": 699,
        "start_time": "2022-06-25T05:59:38.135Z"
      },
      {
        "duration": 216,
        "start_time": "2022-06-25T05:59:38.835Z"
      },
      {
        "duration": 80,
        "start_time": "2022-06-25T05:59:39.054Z"
      },
      {
        "duration": 182,
        "start_time": "2022-06-25T05:59:39.136Z"
      },
      {
        "duration": 8,
        "start_time": "2022-06-25T05:59:39.327Z"
      },
      {
        "duration": 7,
        "start_time": "2022-06-25T05:59:39.336Z"
      },
      {
        "duration": 6,
        "start_time": "2022-06-25T05:59:39.344Z"
      },
      {
        "duration": 14,
        "start_time": "2022-06-25T05:59:39.352Z"
      },
      {
        "duration": 30,
        "start_time": "2022-06-25T05:59:39.369Z"
      },
      {
        "duration": 33,
        "start_time": "2022-06-25T05:59:39.401Z"
      },
      {
        "duration": 3,
        "start_time": "2022-06-25T05:59:39.436Z"
      },
      {
        "duration": 38,
        "start_time": "2022-06-25T05:59:39.440Z"
      },
      {
        "duration": 6,
        "start_time": "2022-06-25T05:59:39.479Z"
      },
      {
        "duration": 23,
        "start_time": "2022-06-25T05:59:39.487Z"
      },
      {
        "duration": 49,
        "start_time": "2022-06-25T05:59:39.512Z"
      },
      {
        "duration": 4402,
        "start_time": "2022-06-25T05:59:39.563Z"
      },
      {
        "duration": 8,
        "start_time": "2022-06-25T05:59:43.967Z"
      },
      {
        "duration": 497,
        "start_time": "2022-06-25T05:59:43.977Z"
      },
      {
        "duration": 7,
        "start_time": "2022-06-25T05:59:44.476Z"
      },
      {
        "duration": 6,
        "start_time": "2022-06-25T05:59:44.485Z"
      },
      {
        "duration": 1218,
        "start_time": "2022-06-25T05:59:44.493Z"
      },
      {
        "duration": 165,
        "start_time": "2022-06-25T05:59:45.713Z"
      },
      {
        "duration": 4,
        "start_time": "2022-06-25T05:59:45.880Z"
      },
      {
        "duration": 9,
        "start_time": "2022-06-25T05:59:45.885Z"
      },
      {
        "duration": 33,
        "start_time": "2022-06-25T05:59:45.896Z"
      },
      {
        "duration": 3,
        "start_time": "2022-06-25T05:59:45.931Z"
      },
      {
        "duration": 5,
        "start_time": "2022-06-25T05:59:45.936Z"
      },
      {
        "duration": 13,
        "start_time": "2022-06-25T05:59:45.942Z"
      },
      {
        "duration": 15,
        "start_time": "2022-06-25T05:59:45.957Z"
      },
      {
        "duration": 7,
        "start_time": "2022-06-25T05:59:45.974Z"
      },
      {
        "duration": 65,
        "start_time": "2022-06-25T05:59:45.982Z"
      },
      {
        "duration": 115,
        "start_time": "2022-06-25T05:59:46.048Z"
      },
      {
        "duration": 0,
        "start_time": "2022-06-25T05:59:46.164Z"
      },
      {
        "duration": 0,
        "start_time": "2022-06-25T05:59:46.166Z"
      },
      {
        "duration": 0,
        "start_time": "2022-06-25T05:59:46.167Z"
      },
      {
        "duration": 0,
        "start_time": "2022-06-25T05:59:46.168Z"
      },
      {
        "duration": 0,
        "start_time": "2022-06-25T05:59:46.169Z"
      },
      {
        "duration": 0,
        "start_time": "2022-06-25T05:59:46.170Z"
      },
      {
        "duration": 0,
        "start_time": "2022-06-25T05:59:46.171Z"
      },
      {
        "duration": 1371,
        "start_time": "2022-06-25T06:00:45.710Z"
      },
      {
        "duration": 708,
        "start_time": "2022-06-25T06:00:47.084Z"
      },
      {
        "duration": 210,
        "start_time": "2022-06-25T06:00:47.794Z"
      },
      {
        "duration": 85,
        "start_time": "2022-06-25T06:00:48.007Z"
      },
      {
        "duration": 209,
        "start_time": "2022-06-25T06:00:48.094Z"
      },
      {
        "duration": 10,
        "start_time": "2022-06-25T06:00:48.305Z"
      },
      {
        "duration": 12,
        "start_time": "2022-06-25T06:00:48.326Z"
      },
      {
        "duration": 23,
        "start_time": "2022-06-25T06:00:48.339Z"
      },
      {
        "duration": 24,
        "start_time": "2022-06-25T06:00:48.364Z"
      },
      {
        "duration": 28,
        "start_time": "2022-06-25T06:00:48.391Z"
      },
      {
        "duration": 24,
        "start_time": "2022-06-25T06:00:48.421Z"
      },
      {
        "duration": 5,
        "start_time": "2022-06-25T06:00:48.447Z"
      },
      {
        "duration": 51,
        "start_time": "2022-06-25T06:00:48.454Z"
      },
      {
        "duration": 6,
        "start_time": "2022-06-25T06:00:48.507Z"
      },
      {
        "duration": 23,
        "start_time": "2022-06-25T06:00:48.514Z"
      },
      {
        "duration": 17,
        "start_time": "2022-06-25T06:00:48.539Z"
      },
      {
        "duration": 4512,
        "start_time": "2022-06-25T06:00:48.557Z"
      },
      {
        "duration": 8,
        "start_time": "2022-06-25T06:00:53.071Z"
      },
      {
        "duration": 536,
        "start_time": "2022-06-25T06:00:53.081Z"
      },
      {
        "duration": 10,
        "start_time": "2022-06-25T06:00:53.619Z"
      },
      {
        "duration": 4,
        "start_time": "2022-06-25T06:00:53.631Z"
      },
      {
        "duration": 1275,
        "start_time": "2022-06-25T06:00:53.637Z"
      },
      {
        "duration": 182,
        "start_time": "2022-06-25T06:00:54.914Z"
      },
      {
        "duration": 4,
        "start_time": "2022-06-25T06:00:55.097Z"
      },
      {
        "duration": 7,
        "start_time": "2022-06-25T06:00:55.102Z"
      },
      {
        "duration": 26,
        "start_time": "2022-06-25T06:00:55.111Z"
      },
      {
        "duration": 4,
        "start_time": "2022-06-25T06:00:55.138Z"
      },
      {
        "duration": 5,
        "start_time": "2022-06-25T06:00:55.145Z"
      },
      {
        "duration": 11,
        "start_time": "2022-06-25T06:00:55.152Z"
      },
      {
        "duration": 15,
        "start_time": "2022-06-25T06:00:55.165Z"
      },
      {
        "duration": 5,
        "start_time": "2022-06-25T06:00:55.182Z"
      },
      {
        "duration": 67,
        "start_time": "2022-06-25T06:00:55.188Z"
      },
      {
        "duration": 3,
        "start_time": "2022-06-25T06:00:55.257Z"
      },
      {
        "duration": 8265,
        "start_time": "2022-06-25T06:00:55.262Z"
      },
      {
        "duration": 24259,
        "start_time": "2022-06-25T06:01:03.528Z"
      },
      {
        "duration": 0,
        "start_time": "2022-06-25T06:01:27.789Z"
      },
      {
        "duration": 0,
        "start_time": "2022-06-25T06:01:27.790Z"
      },
      {
        "duration": 0,
        "start_time": "2022-06-25T06:01:27.791Z"
      },
      {
        "duration": 0,
        "start_time": "2022-06-25T06:01:27.792Z"
      },
      {
        "duration": 0,
        "start_time": "2022-06-25T06:01:27.792Z"
      },
      {
        "duration": 0,
        "start_time": "2022-06-25T06:01:27.793Z"
      },
      {
        "duration": 1484,
        "start_time": "2022-06-25T06:03:50.540Z"
      },
      {
        "duration": 735,
        "start_time": "2022-06-25T06:03:52.026Z"
      },
      {
        "duration": 227,
        "start_time": "2022-06-25T06:03:52.762Z"
      },
      {
        "duration": 84,
        "start_time": "2022-06-25T06:03:52.991Z"
      },
      {
        "duration": 214,
        "start_time": "2022-06-25T06:03:53.077Z"
      },
      {
        "duration": 8,
        "start_time": "2022-06-25T06:03:53.293Z"
      },
      {
        "duration": 6,
        "start_time": "2022-06-25T06:03:53.303Z"
      },
      {
        "duration": 4,
        "start_time": "2022-06-25T06:03:53.327Z"
      },
      {
        "duration": 10,
        "start_time": "2022-06-25T06:03:53.332Z"
      },
      {
        "duration": 16,
        "start_time": "2022-06-25T06:03:53.345Z"
      },
      {
        "duration": 23,
        "start_time": "2022-06-25T06:03:53.363Z"
      },
      {
        "duration": 3,
        "start_time": "2022-06-25T06:03:53.388Z"
      },
      {
        "duration": 65,
        "start_time": "2022-06-25T06:03:53.392Z"
      },
      {
        "duration": 6,
        "start_time": "2022-06-25T06:03:53.458Z"
      },
      {
        "duration": 11,
        "start_time": "2022-06-25T06:03:53.465Z"
      },
      {
        "duration": 16,
        "start_time": "2022-06-25T06:03:53.478Z"
      },
      {
        "duration": 4419,
        "start_time": "2022-06-25T06:03:53.495Z"
      },
      {
        "duration": 10,
        "start_time": "2022-06-25T06:03:57.916Z"
      },
      {
        "duration": 555,
        "start_time": "2022-06-25T06:03:57.928Z"
      },
      {
        "duration": 8,
        "start_time": "2022-06-25T06:03:58.485Z"
      },
      {
        "duration": 24,
        "start_time": "2022-06-25T06:03:58.496Z"
      },
      {
        "duration": 1215,
        "start_time": "2022-06-25T06:03:58.522Z"
      },
      {
        "duration": 194,
        "start_time": "2022-06-25T06:03:59.739Z"
      },
      {
        "duration": 3,
        "start_time": "2022-06-25T06:03:59.935Z"
      },
      {
        "duration": 9,
        "start_time": "2022-06-25T06:03:59.940Z"
      },
      {
        "duration": 13,
        "start_time": "2022-06-25T06:03:59.951Z"
      },
      {
        "duration": 3,
        "start_time": "2022-06-25T06:03:59.966Z"
      },
      {
        "duration": 6,
        "start_time": "2022-06-25T06:03:59.972Z"
      },
      {
        "duration": 11,
        "start_time": "2022-06-25T06:03:59.980Z"
      },
      {
        "duration": 42,
        "start_time": "2022-06-25T06:03:59.993Z"
      },
      {
        "duration": 9,
        "start_time": "2022-06-25T06:04:00.037Z"
      },
      {
        "duration": 44,
        "start_time": "2022-06-25T06:04:00.048Z"
      },
      {
        "duration": 4,
        "start_time": "2022-06-25T06:04:00.094Z"
      },
      {
        "duration": 8435,
        "start_time": "2022-06-25T06:04:00.100Z"
      },
      {
        "duration": 140906,
        "start_time": "2022-06-25T06:04:08.537Z"
      },
      {
        "duration": 17090,
        "start_time": "2022-06-25T06:06:29.445Z"
      },
      {
        "duration": 310610,
        "start_time": "2022-06-25T06:06:46.537Z"
      },
      {
        "duration": 1982,
        "start_time": "2022-06-25T06:11:57.149Z"
      },
      {
        "duration": 33594,
        "start_time": "2022-06-25T06:11:59.133Z"
      },
      {
        "duration": 1101,
        "start_time": "2022-06-25T06:12:32.729Z"
      },
      {
        "duration": 159,
        "start_time": "2022-06-25T06:12:33.832Z"
      },
      {
        "duration": 15,
        "start_time": "2022-06-25T06:15:20.670Z"
      },
      {
        "duration": 1404,
        "start_time": "2022-06-25T06:16:09.603Z"
      },
      {
        "duration": 762,
        "start_time": "2022-06-25T06:16:11.010Z"
      },
      {
        "duration": 220,
        "start_time": "2022-06-25T06:16:11.773Z"
      },
      {
        "duration": 82,
        "start_time": "2022-06-25T06:16:11.995Z"
      },
      {
        "duration": 191,
        "start_time": "2022-06-25T06:16:12.078Z"
      },
      {
        "duration": 8,
        "start_time": "2022-06-25T06:16:12.271Z"
      },
      {
        "duration": 14,
        "start_time": "2022-06-25T06:16:12.280Z"
      },
      {
        "duration": 25,
        "start_time": "2022-06-25T06:16:12.296Z"
      },
      {
        "duration": 22,
        "start_time": "2022-06-25T06:16:12.322Z"
      },
      {
        "duration": 33,
        "start_time": "2022-06-25T06:16:12.348Z"
      },
      {
        "duration": 36,
        "start_time": "2022-06-25T06:16:12.383Z"
      },
      {
        "duration": 2,
        "start_time": "2022-06-25T06:16:12.421Z"
      },
      {
        "duration": 54,
        "start_time": "2022-06-25T06:16:12.425Z"
      },
      {
        "duration": 6,
        "start_time": "2022-06-25T06:16:12.481Z"
      },
      {
        "duration": 28,
        "start_time": "2022-06-25T06:16:12.489Z"
      },
      {
        "duration": 38,
        "start_time": "2022-06-25T06:16:12.519Z"
      },
      {
        "duration": 4467,
        "start_time": "2022-06-25T06:16:12.558Z"
      },
      {
        "duration": 10,
        "start_time": "2022-06-25T06:16:17.028Z"
      },
      {
        "duration": 555,
        "start_time": "2022-06-25T06:16:17.040Z"
      },
      {
        "duration": 8,
        "start_time": "2022-06-25T06:16:17.597Z"
      },
      {
        "duration": 9,
        "start_time": "2022-06-25T06:16:17.607Z"
      },
      {
        "duration": 1235,
        "start_time": "2022-06-25T06:16:17.618Z"
      },
      {
        "duration": 174,
        "start_time": "2022-06-25T06:16:18.855Z"
      },
      {
        "duration": 4,
        "start_time": "2022-06-25T06:16:19.031Z"
      },
      {
        "duration": 10,
        "start_time": "2022-06-25T06:16:19.036Z"
      },
      {
        "duration": 13,
        "start_time": "2022-06-25T06:16:19.047Z"
      },
      {
        "duration": 3,
        "start_time": "2022-06-25T06:16:19.061Z"
      },
      {
        "duration": 3,
        "start_time": "2022-06-25T06:16:19.068Z"
      },
      {
        "duration": 10,
        "start_time": "2022-06-25T06:16:19.073Z"
      },
      {
        "duration": 11,
        "start_time": "2022-06-25T06:16:19.085Z"
      },
      {
        "duration": 32,
        "start_time": "2022-06-25T06:16:19.097Z"
      },
      {
        "duration": 46,
        "start_time": "2022-06-25T06:16:19.131Z"
      },
      {
        "duration": 4,
        "start_time": "2022-06-25T06:16:19.178Z"
      },
      {
        "duration": 8334,
        "start_time": "2022-06-25T06:16:19.184Z"
      },
      {
        "duration": 137572,
        "start_time": "2022-06-25T06:16:27.520Z"
      },
      {
        "duration": 17328,
        "start_time": "2022-06-25T06:18:45.094Z"
      },
      {
        "duration": 314319,
        "start_time": "2022-06-25T06:19:02.424Z"
      },
      {
        "duration": 1940,
        "start_time": "2022-06-25T06:24:16.744Z"
      },
      {
        "duration": 34044,
        "start_time": "2022-06-25T06:24:18.686Z"
      },
      {
        "duration": 1504,
        "start_time": "2022-06-25T06:24:52.731Z"
      },
      {
        "duration": 4317,
        "start_time": "2022-06-25T06:24:54.237Z"
      },
      {
        "duration": 125625,
        "start_time": "2022-06-25T06:24:58.556Z"
      },
      {
        "duration": 1954,
        "start_time": "2022-06-25T06:27:04.183Z"
      },
      {
        "duration": 241,
        "start_time": "2022-06-25T06:27:06.139Z"
      },
      {
        "duration": 10,
        "start_time": "2022-06-25T06:44:26.161Z"
      },
      {
        "duration": 6,
        "start_time": "2022-06-25T06:44:41.650Z"
      },
      {
        "duration": 36,
        "start_time": "2022-06-25T06:45:13.609Z"
      },
      {
        "duration": 41,
        "start_time": "2022-06-25T06:45:16.154Z"
      },
      {
        "duration": 7049,
        "start_time": "2022-06-25T06:47:11.520Z"
      },
      {
        "duration": 12,
        "start_time": "2022-06-25T06:49:35.105Z"
      },
      {
        "duration": 1495,
        "start_time": "2022-06-25T17:54:39.437Z"
      },
      {
        "duration": 1332,
        "start_time": "2022-06-25T17:54:47.342Z"
      },
      {
        "duration": 3112,
        "start_time": "2022-06-25T17:54:55.120Z"
      },
      {
        "duration": 8,
        "start_time": "2022-06-25T17:55:35.752Z"
      },
      {
        "duration": 6,
        "start_time": "2022-06-25T17:55:43.760Z"
      },
      {
        "duration": 3,
        "start_time": "2022-06-25T17:56:03.836Z"
      },
      {
        "duration": 5,
        "start_time": "2022-06-25T17:56:29.617Z"
      },
      {
        "duration": 46,
        "start_time": "2022-06-25T17:57:07.102Z"
      },
      {
        "duration": 673,
        "start_time": "2022-06-25T17:57:32.250Z"
      },
      {
        "duration": 8,
        "start_time": "2022-06-25T17:57:36.719Z"
      },
      {
        "duration": 5,
        "start_time": "2022-06-25T17:57:38.675Z"
      },
      {
        "duration": 3,
        "start_time": "2022-06-25T17:57:40.966Z"
      },
      {
        "duration": 5,
        "start_time": "2022-06-25T17:57:42.111Z"
      },
      {
        "duration": 15,
        "start_time": "2022-06-25T17:57:46.065Z"
      },
      {
        "duration": 16,
        "start_time": "2022-06-25T17:57:55.775Z"
      },
      {
        "duration": 15,
        "start_time": "2022-06-25T17:58:05.824Z"
      },
      {
        "duration": 20,
        "start_time": "2022-06-25T17:58:39.762Z"
      },
      {
        "duration": 15,
        "start_time": "2022-06-25T17:58:41.337Z"
      },
      {
        "duration": 9,
        "start_time": "2022-06-25T17:59:18.263Z"
      },
      {
        "duration": 648,
        "start_time": "2022-06-25T17:59:24.003Z"
      },
      {
        "duration": 8,
        "start_time": "2022-06-25T17:59:27.904Z"
      },
      {
        "duration": 5,
        "start_time": "2022-06-25T17:59:29.500Z"
      },
      {
        "duration": 16,
        "start_time": "2022-06-25T17:59:35.527Z"
      },
      {
        "duration": 11,
        "start_time": "2022-06-25T17:59:41.006Z"
      },
      {
        "duration": 21,
        "start_time": "2022-06-25T17:59:45.106Z"
      },
      {
        "duration": 139,
        "start_time": "2022-06-25T18:02:56.210Z"
      },
      {
        "duration": 10,
        "start_time": "2022-06-25T18:03:03.611Z"
      },
      {
        "duration": 34,
        "start_time": "2022-06-25T18:03:06.169Z"
      },
      {
        "duration": 3,
        "start_time": "2022-06-25T18:03:29.923Z"
      },
      {
        "duration": 3,
        "start_time": "2022-06-25T18:03:31.552Z"
      },
      {
        "duration": 9,
        "start_time": "2022-06-25T18:03:33.858Z"
      },
      {
        "duration": 3,
        "start_time": "2022-06-25T18:03:37.043Z"
      },
      {
        "duration": 4,
        "start_time": "2022-06-25T18:03:38.450Z"
      },
      {
        "duration": 7,
        "start_time": "2022-06-25T18:03:49.525Z"
      },
      {
        "duration": 8,
        "start_time": "2022-06-25T18:03:51.120Z"
      },
      {
        "duration": 5,
        "start_time": "2022-06-25T18:03:53.018Z"
      },
      {
        "duration": 17,
        "start_time": "2022-06-25T18:04:47.915Z"
      },
      {
        "duration": 71,
        "start_time": "2022-06-25T18:05:03.303Z"
      },
      {
        "duration": 6,
        "start_time": "2022-06-25T18:09:00.062Z"
      },
      {
        "duration": 20,
        "start_time": "2022-06-25T18:09:01.977Z"
      },
      {
        "duration": 8,
        "start_time": "2022-06-25T18:09:25.228Z"
      },
      {
        "duration": 49,
        "start_time": "2022-06-25T18:09:28.379Z"
      },
      {
        "duration": 3,
        "start_time": "2022-06-25T18:09:30.469Z"
      },
      {
        "duration": 4,
        "start_time": "2022-06-25T18:09:31.498Z"
      },
      {
        "duration": 3,
        "start_time": "2022-06-25T18:09:36.249Z"
      },
      {
        "duration": 5,
        "start_time": "2022-06-25T18:09:37.349Z"
      },
      {
        "duration": 10,
        "start_time": "2022-06-25T18:09:38.632Z"
      },
      {
        "duration": 10,
        "start_time": "2022-06-25T18:09:40.320Z"
      },
      {
        "duration": 16,
        "start_time": "2022-06-25T18:09:41.713Z"
      },
      {
        "duration": 28,
        "start_time": "2022-06-25T18:09:43.643Z"
      },
      {
        "duration": 3,
        "start_time": "2022-06-25T18:09:46.995Z"
      },
      {
        "duration": 7938,
        "start_time": "2022-06-25T18:10:12.980Z"
      },
      {
        "duration": 133443,
        "start_time": "2022-06-25T18:10:20.920Z"
      },
      {
        "duration": 22272,
        "start_time": "2022-06-25T18:12:34.365Z"
      },
      {
        "duration": 381154,
        "start_time": "2022-06-25T18:12:56.639Z"
      },
      {
        "duration": 1830,
        "start_time": "2022-06-25T18:19:17.795Z"
      },
      {
        "duration": 10857,
        "start_time": "2022-06-25T18:19:28.407Z"
      },
      {
        "duration": 603,
        "start_time": "2022-06-25T18:19:43.457Z"
      },
      {
        "duration": 5209,
        "start_time": "2022-06-25T18:19:49.474Z"
      },
      {
        "duration": 107067,
        "start_time": "2022-06-25T18:19:58.019Z"
      },
      {
        "duration": 0,
        "start_time": "2022-06-25T18:21:45.088Z"
      },
      {
        "duration": 147237,
        "start_time": "2022-06-25T18:21:49.653Z"
      },
      {
        "duration": 1462,
        "start_time": "2022-06-25T18:24:26.699Z"
      },
      {
        "duration": 2304,
        "start_time": "2022-06-25T18:25:56.267Z"
      },
      {
        "duration": 2247,
        "start_time": "2022-06-25T18:28:31.340Z"
      },
      {
        "duration": 33028,
        "start_time": "2022-06-25T18:28:53.014Z"
      },
      {
        "duration": 33048,
        "start_time": "2022-06-25T18:30:04.604Z"
      },
      {
        "duration": 32649,
        "start_time": "2022-06-25T19:04:40.591Z"
      },
      {
        "duration": 5,
        "start_time": "2022-06-25T19:05:29.008Z"
      },
      {
        "duration": 5,
        "start_time": "2022-06-25T19:05:33.792Z"
      },
      {
        "duration": 6,
        "start_time": "2022-06-25T19:05:42.934Z"
      },
      {
        "duration": 6,
        "start_time": "2022-06-25T19:05:48.423Z"
      },
      {
        "duration": 3,
        "start_time": "2022-06-25T19:06:30.934Z"
      },
      {
        "duration": 32456,
        "start_time": "2022-06-25T19:06:34.850Z"
      },
      {
        "duration": 32557,
        "start_time": "2022-06-25T19:08:29.761Z"
      },
      {
        "duration": 4,
        "start_time": "2022-06-25T19:09:10.084Z"
      },
      {
        "duration": 6,
        "start_time": "2022-06-25T19:09:17.099Z"
      },
      {
        "duration": 96,
        "start_time": "2022-06-25T19:09:59.820Z"
      },
      {
        "duration": 13,
        "start_time": "2022-06-25T19:11:39.007Z"
      },
      {
        "duration": 1332,
        "start_time": "2022-06-25T19:11:49.565Z"
      },
      {
        "duration": 683,
        "start_time": "2022-06-25T19:11:50.899Z"
      },
      {
        "duration": 201,
        "start_time": "2022-06-25T19:11:51.584Z"
      },
      {
        "duration": 80,
        "start_time": "2022-06-25T19:11:51.786Z"
      },
      {
        "duration": 178,
        "start_time": "2022-06-25T19:11:51.868Z"
      },
      {
        "duration": 15,
        "start_time": "2022-06-25T19:11:52.048Z"
      },
      {
        "duration": 4,
        "start_time": "2022-06-25T19:11:52.065Z"
      },
      {
        "duration": 5,
        "start_time": "2022-06-25T19:11:52.071Z"
      },
      {
        "duration": 6,
        "start_time": "2022-06-25T19:11:52.077Z"
      },
      {
        "duration": 16,
        "start_time": "2022-06-25T19:11:52.086Z"
      },
      {
        "duration": 16,
        "start_time": "2022-06-25T19:11:52.103Z"
      },
      {
        "duration": 58,
        "start_time": "2022-06-25T19:11:52.121Z"
      },
      {
        "duration": 2,
        "start_time": "2022-06-25T19:11:52.180Z"
      },
      {
        "duration": 6,
        "start_time": "2022-06-25T19:11:52.184Z"
      },
      {
        "duration": 11,
        "start_time": "2022-06-25T19:11:52.191Z"
      },
      {
        "duration": 7,
        "start_time": "2022-06-25T19:11:52.204Z"
      },
      {
        "duration": 16,
        "start_time": "2022-06-25T19:11:52.212Z"
      },
      {
        "duration": 4450,
        "start_time": "2022-06-25T19:11:52.230Z"
      },
      {
        "duration": 8,
        "start_time": "2022-06-25T19:11:56.681Z"
      },
      {
        "duration": 522,
        "start_time": "2022-06-25T19:11:56.691Z"
      },
      {
        "duration": 8,
        "start_time": "2022-06-25T19:11:57.215Z"
      },
      {
        "duration": 27,
        "start_time": "2022-06-25T19:11:57.225Z"
      },
      {
        "duration": 1245,
        "start_time": "2022-06-25T19:11:57.254Z"
      },
      {
        "duration": 175,
        "start_time": "2022-06-25T19:11:58.501Z"
      },
      {
        "duration": 4,
        "start_time": "2022-06-25T19:11:58.677Z"
      },
      {
        "duration": 21,
        "start_time": "2022-06-25T19:11:58.682Z"
      },
      {
        "duration": 18,
        "start_time": "2022-06-25T19:11:58.705Z"
      },
      {
        "duration": 5,
        "start_time": "2022-06-25T19:11:58.727Z"
      },
      {
        "duration": 26,
        "start_time": "2022-06-25T19:11:58.733Z"
      },
      {
        "duration": 32,
        "start_time": "2022-06-25T19:11:58.760Z"
      },
      {
        "duration": 27,
        "start_time": "2022-06-25T19:11:58.793Z"
      },
      {
        "duration": 33,
        "start_time": "2022-06-25T19:11:58.822Z"
      },
      {
        "duration": 32,
        "start_time": "2022-06-25T19:11:58.857Z"
      },
      {
        "duration": 3,
        "start_time": "2022-06-25T19:11:58.890Z"
      },
      {
        "duration": 9076,
        "start_time": "2022-06-25T19:11:58.895Z"
      },
      {
        "duration": 162690,
        "start_time": "2022-06-25T19:12:07.972Z"
      },
      {
        "duration": 23200,
        "start_time": "2022-06-25T19:14:50.664Z"
      },
      {
        "duration": 398064,
        "start_time": "2022-06-25T19:15:13.866Z"
      },
      {
        "duration": 2220,
        "start_time": "2022-06-25T19:21:51.932Z"
      },
      {
        "duration": 63580,
        "start_time": "2022-06-25T19:21:54.153Z"
      },
      {
        "duration": 831,
        "start_time": "2022-06-25T19:22:57.734Z"
      },
      {
        "duration": 5563,
        "start_time": "2022-06-25T19:22:58.567Z"
      },
      {
        "duration": 125279,
        "start_time": "2022-06-25T19:23:04.132Z"
      },
      {
        "duration": 1658,
        "start_time": "2022-06-25T19:25:09.412Z"
      },
      {
        "duration": 39681,
        "start_time": "2022-06-25T19:25:11.072Z"
      },
      {
        "duration": 6,
        "start_time": "2022-06-25T19:25:50.758Z"
      },
      {
        "duration": 13,
        "start_time": "2022-06-25T19:25:50.766Z"
      },
      {
        "duration": 1532,
        "start_time": "2022-06-25T19:26:29.953Z"
      },
      {
        "duration": 5,
        "start_time": "2022-06-25T19:26:58.451Z"
      },
      {
        "duration": 4,
        "start_time": "2022-06-25T19:27:10.523Z"
      },
      {
        "duration": 5,
        "start_time": "2022-06-25T19:27:15.143Z"
      },
      {
        "duration": 6,
        "start_time": "2022-06-25T19:27:21.014Z"
      },
      {
        "duration": 3,
        "start_time": "2022-06-25T19:27:23.827Z"
      },
      {
        "duration": 5,
        "start_time": "2022-06-25T19:27:28.786Z"
      },
      {
        "duration": 6,
        "start_time": "2022-06-25T19:27:32.577Z"
      },
      {
        "duration": 5,
        "start_time": "2022-06-25T19:27:42.562Z"
      },
      {
        "duration": 1539,
        "start_time": "2022-06-25T19:29:04.336Z"
      },
      {
        "duration": 1514,
        "start_time": "2022-06-25T19:29:41.347Z"
      },
      {
        "duration": 16,
        "start_time": "2022-06-25T19:37:59.204Z"
      },
      {
        "duration": 103,
        "start_time": "2022-06-25T19:39:59.437Z"
      },
      {
        "duration": 7,
        "start_time": "2022-06-25T19:40:08.641Z"
      },
      {
        "duration": 26,
        "start_time": "2022-06-25T19:40:11.681Z"
      },
      {
        "duration": 9025,
        "start_time": "2022-06-25T19:46:05.401Z"
      },
      {
        "duration": 9022,
        "start_time": "2022-06-25T19:46:30.615Z"
      },
      {
        "duration": 8971,
        "start_time": "2022-06-25T19:46:45.811Z"
      },
      {
        "duration": 8962,
        "start_time": "2022-06-25T19:46:59.370Z"
      },
      {
        "duration": 8781,
        "start_time": "2022-06-25T19:47:17.367Z"
      },
      {
        "duration": 163203,
        "start_time": "2022-06-25T19:48:38.980Z"
      },
      {
        "duration": 24099,
        "start_time": "2022-06-25T19:52:12.397Z"
      },
      {
        "duration": 12452,
        "start_time": "2022-06-25T19:53:35.580Z"
      },
      {
        "duration": 162676,
        "start_time": "2022-06-25T19:55:01.342Z"
      },
      {
        "duration": 435566,
        "start_time": "2022-06-25T19:57:44.020Z"
      },
      {
        "duration": 461,
        "start_time": "2022-06-25T20:07:21.583Z"
      },
      {
        "duration": 5589,
        "start_time": "2022-06-25T20:08:22.313Z"
      },
      {
        "duration": 4,
        "start_time": "2022-06-25T20:09:33.333Z"
      },
      {
        "duration": 29,
        "start_time": "2022-06-25T20:09:44.373Z"
      },
      {
        "duration": 30,
        "start_time": "2022-06-25T20:09:47.678Z"
      },
      {
        "duration": 5509,
        "start_time": "2022-06-25T20:10:13.222Z"
      },
      {
        "duration": 49,
        "start_time": "2022-06-25T20:11:20.002Z"
      },
      {
        "duration": 444,
        "start_time": "2022-06-25T20:12:49.693Z"
      },
      {
        "duration": 171455,
        "start_time": "2022-06-25T20:13:00.270Z"
      },
      {
        "duration": 439370,
        "start_time": "2022-06-25T20:15:51.728Z"
      },
      {
        "duration": 5701,
        "start_time": "2022-06-25T20:23:28.671Z"
      },
      {
        "duration": 8432,
        "start_time": "2022-06-25T20:28:30.127Z"
      },
      {
        "duration": 70632,
        "start_time": "2022-06-25T20:30:27.241Z"
      },
      {
        "duration": 8406,
        "start_time": "2022-06-25T20:32:00.857Z"
      },
      {
        "duration": 35141,
        "start_time": "2022-06-25T20:32:35.229Z"
      },
      {
        "duration": 19842,
        "start_time": "2022-06-25T20:37:24.029Z"
      },
      {
        "duration": 1747,
        "start_time": "2022-06-25T20:37:57.055Z"
      },
      {
        "duration": 12,
        "start_time": "2022-06-25T20:38:48.902Z"
      },
      {
        "duration": 12,
        "start_time": "2022-06-25T20:39:05.816Z"
      },
      {
        "duration": 13,
        "start_time": "2022-06-25T20:39:45.817Z"
      },
      {
        "duration": 8256,
        "start_time": "2022-06-25T20:39:56.809Z"
      },
      {
        "duration": 33696,
        "start_time": "2022-06-25T20:40:05.068Z"
      },
      {
        "duration": 1779,
        "start_time": "2022-06-25T20:40:38.768Z"
      },
      {
        "duration": 32906,
        "start_time": "2022-06-25T20:42:47.459Z"
      },
      {
        "duration": 139660,
        "start_time": "2022-06-25T20:45:48.414Z"
      },
      {
        "duration": 8,
        "start_time": "2022-06-25T20:51:20.202Z"
      },
      {
        "duration": 10,
        "start_time": "2022-06-25T20:52:07.178Z"
      },
      {
        "duration": 43,
        "start_time": "2022-06-25T20:53:28.974Z"
      },
      {
        "duration": 13,
        "start_time": "2022-06-25T20:53:37.475Z"
      },
      {
        "duration": 10,
        "start_time": "2022-06-25T20:54:01.573Z"
      },
      {
        "duration": 4,
        "start_time": "2022-06-25T20:56:38.689Z"
      },
      {
        "duration": 4,
        "start_time": "2022-06-25T20:57:48.878Z"
      },
      {
        "duration": 13,
        "start_time": "2022-06-25T21:02:00.559Z"
      },
      {
        "duration": 11,
        "start_time": "2022-06-25T21:04:07.888Z"
      },
      {
        "duration": 10,
        "start_time": "2022-06-25T21:04:49.494Z"
      },
      {
        "duration": 1724,
        "start_time": "2022-06-25T21:07:00.323Z"
      },
      {
        "duration": 474,
        "start_time": "2022-06-25T21:14:47.946Z"
      },
      {
        "duration": 459,
        "start_time": "2022-06-25T21:15:43.247Z"
      },
      {
        "duration": 465,
        "start_time": "2022-06-25T21:17:08.572Z"
      },
      {
        "duration": 1172,
        "start_time": "2022-06-25T21:18:17.537Z"
      },
      {
        "duration": 4,
        "start_time": "2022-06-25T21:19:17.919Z"
      },
      {
        "duration": 1432,
        "start_time": "2022-06-25T21:20:25.264Z"
      },
      {
        "duration": 800,
        "start_time": "2022-06-25T21:20:26.698Z"
      },
      {
        "duration": 216,
        "start_time": "2022-06-25T21:20:27.500Z"
      },
      {
        "duration": 95,
        "start_time": "2022-06-25T21:20:27.719Z"
      },
      {
        "duration": 192,
        "start_time": "2022-06-25T21:20:27.817Z"
      },
      {
        "duration": 8,
        "start_time": "2022-06-25T21:20:28.011Z"
      },
      {
        "duration": 7,
        "start_time": "2022-06-25T21:20:28.020Z"
      },
      {
        "duration": 5,
        "start_time": "2022-06-25T21:20:28.029Z"
      },
      {
        "duration": 24,
        "start_time": "2022-06-25T21:20:28.035Z"
      },
      {
        "duration": 21,
        "start_time": "2022-06-25T21:20:28.065Z"
      },
      {
        "duration": 16,
        "start_time": "2022-06-25T21:20:28.088Z"
      },
      {
        "duration": 45,
        "start_time": "2022-06-25T21:20:28.106Z"
      },
      {
        "duration": 3,
        "start_time": "2022-06-25T21:20:28.152Z"
      },
      {
        "duration": 21,
        "start_time": "2022-06-25T21:20:28.158Z"
      },
      {
        "duration": 21,
        "start_time": "2022-06-25T21:20:28.181Z"
      },
      {
        "duration": 13,
        "start_time": "2022-06-25T21:20:28.204Z"
      },
      {
        "duration": 16,
        "start_time": "2022-06-25T21:20:28.219Z"
      },
      {
        "duration": 4436,
        "start_time": "2022-06-25T21:20:28.237Z"
      },
      {
        "duration": 8,
        "start_time": "2022-06-25T21:20:32.675Z"
      },
      {
        "duration": 569,
        "start_time": "2022-06-25T21:20:32.685Z"
      },
      {
        "duration": 10,
        "start_time": "2022-06-25T21:20:33.258Z"
      },
      {
        "duration": 22,
        "start_time": "2022-06-25T21:20:33.270Z"
      },
      {
        "duration": 1250,
        "start_time": "2022-06-25T21:20:33.293Z"
      },
      {
        "duration": 176,
        "start_time": "2022-06-25T21:20:34.544Z"
      },
      {
        "duration": 4,
        "start_time": "2022-06-25T21:20:34.722Z"
      },
      {
        "duration": 9,
        "start_time": "2022-06-25T21:20:34.728Z"
      },
      {
        "duration": 8,
        "start_time": "2022-06-25T21:20:34.738Z"
      },
      {
        "duration": 14,
        "start_time": "2022-06-25T21:20:34.761Z"
      },
      {
        "duration": 35,
        "start_time": "2022-06-25T21:20:34.777Z"
      },
      {
        "duration": 2,
        "start_time": "2022-06-25T21:20:34.813Z"
      },
      {
        "duration": 64,
        "start_time": "2022-06-25T21:20:34.817Z"
      },
      {
        "duration": 3,
        "start_time": "2022-06-25T21:20:34.883Z"
      },
      {
        "duration": 183813,
        "start_time": "2022-06-25T21:20:34.888Z"
      },
      {
        "duration": 447040,
        "start_time": "2022-06-25T21:23:38.702Z"
      },
      {
        "duration": 14117,
        "start_time": "2022-06-25T21:31:05.744Z"
      },
      {
        "duration": 28904,
        "start_time": "2022-06-25T21:31:19.863Z"
      },
      {
        "duration": 56309,
        "start_time": "2022-06-25T21:31:48.769Z"
      },
      {
        "duration": 112693,
        "start_time": "2022-06-25T21:32:45.081Z"
      },
      {
        "duration": 91,
        "start_time": "2022-06-25T21:34:37.776Z"
      },
      {
        "duration": 544,
        "start_time": "2022-06-25T21:34:37.870Z"
      },
      {
        "duration": 1252,
        "start_time": "2022-06-25T21:34:38.415Z"
      },
      {
        "duration": 5,
        "start_time": "2022-06-25T21:34:39.673Z"
      },
      {
        "duration": 1802,
        "start_time": "2022-06-27T11:36:14.787Z"
      },
      {
        "duration": 3652,
        "start_time": "2022-06-27T11:36:16.592Z"
      },
      {
        "duration": 244,
        "start_time": "2022-06-27T11:36:20.248Z"
      },
      {
        "duration": 97,
        "start_time": "2022-06-27T11:36:20.494Z"
      },
      {
        "duration": 212,
        "start_time": "2022-06-27T11:36:20.593Z"
      },
      {
        "duration": 9,
        "start_time": "2022-06-27T11:36:20.807Z"
      },
      {
        "duration": 25,
        "start_time": "2022-06-27T11:36:20.818Z"
      },
      {
        "duration": 5,
        "start_time": "2022-06-27T11:36:20.844Z"
      },
      {
        "duration": 10,
        "start_time": "2022-06-27T11:36:20.850Z"
      },
      {
        "duration": 20,
        "start_time": "2022-06-27T11:36:20.863Z"
      },
      {
        "duration": 17,
        "start_time": "2022-06-27T11:36:20.884Z"
      },
      {
        "duration": 56,
        "start_time": "2022-06-27T11:36:20.903Z"
      },
      {
        "duration": 3,
        "start_time": "2022-06-27T11:36:20.961Z"
      },
      {
        "duration": 11,
        "start_time": "2022-06-27T11:36:20.965Z"
      },
      {
        "duration": 17,
        "start_time": "2022-06-27T11:36:20.977Z"
      },
      {
        "duration": 18,
        "start_time": "2022-06-27T11:36:20.997Z"
      },
      {
        "duration": 4850,
        "start_time": "2022-06-27T11:36:21.016Z"
      },
      {
        "duration": 10,
        "start_time": "2022-06-27T11:36:25.867Z"
      },
      {
        "duration": 615,
        "start_time": "2022-06-27T11:36:25.879Z"
      },
      {
        "duration": 8,
        "start_time": "2022-06-27T11:36:26.496Z"
      },
      {
        "duration": 5,
        "start_time": "2022-06-27T11:36:26.505Z"
      },
      {
        "duration": 1287,
        "start_time": "2022-06-27T11:36:26.512Z"
      },
      {
        "duration": 184,
        "start_time": "2022-06-27T11:36:27.800Z"
      },
      {
        "duration": 4,
        "start_time": "2022-06-27T11:36:27.986Z"
      },
      {
        "duration": 9,
        "start_time": "2022-06-27T11:36:27.991Z"
      },
      {
        "duration": 8,
        "start_time": "2022-06-27T11:36:28.001Z"
      },
      {
        "duration": 7,
        "start_time": "2022-06-27T11:36:28.011Z"
      },
      {
        "duration": 49,
        "start_time": "2022-06-27T11:36:28.021Z"
      },
      {
        "duration": 3,
        "start_time": "2022-06-27T11:36:28.072Z"
      },
      {
        "duration": 41,
        "start_time": "2022-06-27T11:36:28.077Z"
      },
      {
        "duration": 23,
        "start_time": "2022-06-27T11:36:28.120Z"
      },
      {
        "duration": 187595,
        "start_time": "2022-06-27T11:36:28.145Z"
      },
      {
        "duration": 460701,
        "start_time": "2022-06-27T11:39:35.742Z"
      },
      {
        "duration": 14915,
        "start_time": "2022-06-27T11:47:16.444Z"
      },
      {
        "duration": 30687,
        "start_time": "2022-06-27T11:47:31.364Z"
      },
      {
        "duration": 57891,
        "start_time": "2022-06-27T11:48:02.053Z"
      },
      {
        "duration": 117405,
        "start_time": "2022-06-27T11:48:59.946Z"
      },
      {
        "duration": 19,
        "start_time": "2022-06-27T11:50:57.354Z"
      },
      {
        "duration": 506,
        "start_time": "2022-06-27T11:50:57.448Z"
      },
      {
        "duration": 1239,
        "start_time": "2022-06-27T11:50:57.957Z"
      },
      {
        "duration": 4,
        "start_time": "2022-06-27T11:50:59.197Z"
      },
      {
        "duration": 25,
        "start_time": "2022-06-27T12:17:37.232Z"
      },
      {
        "duration": 39,
        "start_time": "2022-06-27T12:19:10.969Z"
      },
      {
        "duration": 28,
        "start_time": "2022-06-27T12:23:48.120Z"
      },
      {
        "duration": 41,
        "start_time": "2022-06-27T12:24:51.376Z"
      },
      {
        "duration": 29,
        "start_time": "2022-06-27T12:25:33.922Z"
      },
      {
        "duration": 31,
        "start_time": "2022-06-27T12:25:37.632Z"
      },
      {
        "duration": 1476,
        "start_time": "2022-06-27T12:41:05.273Z"
      },
      {
        "duration": 794,
        "start_time": "2022-06-27T12:41:06.751Z"
      },
      {
        "duration": 229,
        "start_time": "2022-06-27T12:41:07.547Z"
      },
      {
        "duration": 91,
        "start_time": "2022-06-27T12:41:07.778Z"
      },
      {
        "duration": 209,
        "start_time": "2022-06-27T12:41:07.871Z"
      },
      {
        "duration": 12,
        "start_time": "2022-06-27T12:41:08.083Z"
      },
      {
        "duration": 6,
        "start_time": "2022-06-27T12:41:08.096Z"
      },
      {
        "duration": 7,
        "start_time": "2022-06-27T12:41:08.103Z"
      },
      {
        "duration": 9,
        "start_time": "2022-06-27T12:41:08.111Z"
      },
      {
        "duration": 37,
        "start_time": "2022-06-27T12:41:08.122Z"
      },
      {
        "duration": 18,
        "start_time": "2022-06-27T12:41:08.161Z"
      },
      {
        "duration": 27,
        "start_time": "2022-06-27T12:41:08.181Z"
      },
      {
        "duration": 2,
        "start_time": "2022-06-27T12:41:08.210Z"
      },
      {
        "duration": 31,
        "start_time": "2022-06-27T12:41:08.215Z"
      },
      {
        "duration": 9,
        "start_time": "2022-06-27T12:41:08.248Z"
      },
      {
        "duration": 15,
        "start_time": "2022-06-27T12:41:08.259Z"
      },
      {
        "duration": 4946,
        "start_time": "2022-06-27T12:41:08.275Z"
      },
      {
        "duration": 9,
        "start_time": "2022-06-27T12:41:13.223Z"
      },
      {
        "duration": 608,
        "start_time": "2022-06-27T12:41:13.233Z"
      },
      {
        "duration": 10,
        "start_time": "2022-06-27T12:41:13.843Z"
      },
      {
        "duration": 17,
        "start_time": "2022-06-27T12:41:13.855Z"
      },
      {
        "duration": 1316,
        "start_time": "2022-06-27T12:41:13.874Z"
      },
      {
        "duration": 183,
        "start_time": "2022-06-27T12:41:15.192Z"
      },
      {
        "duration": 4,
        "start_time": "2022-06-27T12:41:15.377Z"
      },
      {
        "duration": 10,
        "start_time": "2022-06-27T12:41:15.383Z"
      },
      {
        "duration": 5,
        "start_time": "2022-06-27T12:41:15.395Z"
      },
      {
        "duration": 51,
        "start_time": "2022-06-27T12:41:15.402Z"
      },
      {
        "duration": 34,
        "start_time": "2022-06-27T12:41:15.455Z"
      },
      {
        "duration": 3,
        "start_time": "2022-06-27T12:41:15.491Z"
      },
      {
        "duration": 211104,
        "start_time": "2022-06-27T12:41:15.496Z"
      },
      {
        "duration": 510981,
        "start_time": "2022-06-27T12:44:46.602Z"
      },
      {
        "duration": 16364,
        "start_time": "2022-06-27T12:53:17.585Z"
      },
      {
        "duration": 35404,
        "start_time": "2022-06-27T12:53:33.954Z"
      },
      {
        "duration": 201,
        "start_time": "2022-06-27T12:54:09.363Z"
      },
      {
        "duration": 0,
        "start_time": "2022-06-27T12:54:09.566Z"
      },
      {
        "duration": 0,
        "start_time": "2022-06-27T12:54:09.567Z"
      },
      {
        "duration": 0,
        "start_time": "2022-06-27T12:54:09.569Z"
      },
      {
        "duration": 0,
        "start_time": "2022-06-27T12:54:09.570Z"
      },
      {
        "duration": 0,
        "start_time": "2022-06-27T12:54:09.571Z"
      },
      {
        "duration": 36327,
        "start_time": "2022-06-27T12:56:28.880Z"
      },
      {
        "duration": 61714,
        "start_time": "2022-06-27T12:57:11.236Z"
      },
      {
        "duration": 129807,
        "start_time": "2022-06-27T12:58:12.962Z"
      },
      {
        "duration": 16,
        "start_time": "2022-06-27T13:00:28.266Z"
      },
      {
        "duration": 14,
        "start_time": "2022-06-27T13:00:33.968Z"
      },
      {
        "duration": 554,
        "start_time": "2022-06-27T13:00:59.127Z"
      },
      {
        "duration": 1394,
        "start_time": "2022-06-27T13:01:29.404Z"
      },
      {
        "duration": 4,
        "start_time": "2022-06-27T13:01:32.789Z"
      },
      {
        "duration": 74,
        "start_time": "2022-06-27T13:06:41.431Z"
      },
      {
        "duration": 1647,
        "start_time": "2022-06-27T13:10:39.527Z"
      },
      {
        "duration": 660,
        "start_time": "2022-06-27T13:10:41.176Z"
      },
      {
        "duration": 249,
        "start_time": "2022-06-27T13:10:41.838Z"
      },
      {
        "duration": 106,
        "start_time": "2022-06-27T13:10:42.089Z"
      },
      {
        "duration": 229,
        "start_time": "2022-06-27T13:10:42.198Z"
      },
      {
        "duration": 13,
        "start_time": "2022-06-27T13:10:42.430Z"
      },
      {
        "duration": 5,
        "start_time": "2022-06-27T13:10:42.445Z"
      },
      {
        "duration": 13,
        "start_time": "2022-06-27T13:10:42.452Z"
      },
      {
        "duration": 12,
        "start_time": "2022-06-27T13:10:42.467Z"
      },
      {
        "duration": 22,
        "start_time": "2022-06-27T13:10:42.481Z"
      },
      {
        "duration": 37,
        "start_time": "2022-06-27T13:10:42.505Z"
      },
      {
        "duration": 31,
        "start_time": "2022-06-27T13:10:42.545Z"
      },
      {
        "duration": 2,
        "start_time": "2022-06-27T13:10:42.578Z"
      },
      {
        "duration": 12,
        "start_time": "2022-06-27T13:10:42.583Z"
      },
      {
        "duration": 8,
        "start_time": "2022-06-27T13:10:42.598Z"
      },
      {
        "duration": 34,
        "start_time": "2022-06-27T13:10:42.608Z"
      },
      {
        "duration": 4870,
        "start_time": "2022-06-27T13:10:42.644Z"
      },
      {
        "duration": 12,
        "start_time": "2022-06-27T13:10:47.517Z"
      },
      {
        "duration": 593,
        "start_time": "2022-06-27T13:10:47.532Z"
      },
      {
        "duration": 16,
        "start_time": "2022-06-27T13:10:48.127Z"
      },
      {
        "duration": 4,
        "start_time": "2022-06-27T13:10:48.145Z"
      },
      {
        "duration": 1346,
        "start_time": "2022-06-27T13:10:48.151Z"
      },
      {
        "duration": 181,
        "start_time": "2022-06-27T13:10:49.499Z"
      },
      {
        "duration": 3,
        "start_time": "2022-06-27T13:10:49.682Z"
      },
      {
        "duration": 10,
        "start_time": "2022-06-27T13:10:49.687Z"
      },
      {
        "duration": 9,
        "start_time": "2022-06-27T13:10:49.698Z"
      },
      {
        "duration": 45,
        "start_time": "2022-06-27T13:10:49.709Z"
      },
      {
        "duration": 38,
        "start_time": "2022-06-27T13:10:49.756Z"
      },
      {
        "duration": 3,
        "start_time": "2022-06-27T13:10:49.796Z"
      },
      {
        "duration": 190801,
        "start_time": "2022-06-27T13:10:49.801Z"
      },
      {
        "duration": 463935,
        "start_time": "2022-06-27T13:14:00.604Z"
      },
      {
        "duration": 14408,
        "start_time": "2022-06-27T13:21:44.541Z"
      },
      {
        "duration": 29694,
        "start_time": "2022-06-27T13:21:58.952Z"
      },
      {
        "duration": 57198,
        "start_time": "2022-06-27T13:22:28.649Z"
      },
      {
        "duration": 113588,
        "start_time": "2022-06-27T13:23:25.853Z"
      },
      {
        "duration": 15,
        "start_time": "2022-06-27T13:25:19.443Z"
      },
      {
        "duration": 513,
        "start_time": "2022-06-27T13:25:19.460Z"
      },
      {
        "duration": 1167,
        "start_time": "2022-06-27T13:25:19.975Z"
      },
      {
        "duration": 4,
        "start_time": "2022-06-27T13:25:21.144Z"
      },
      {
        "duration": 1627,
        "start_time": "2022-06-28T09:36:09.365Z"
      },
      {
        "duration": 3078,
        "start_time": "2022-06-28T09:36:10.993Z"
      },
      {
        "duration": 189,
        "start_time": "2022-06-28T09:36:14.073Z"
      },
      {
        "duration": 74,
        "start_time": "2022-06-28T09:36:14.264Z"
      },
      {
        "duration": 175,
        "start_time": "2022-06-28T09:36:14.340Z"
      },
      {
        "duration": 16,
        "start_time": "2022-06-28T09:36:14.517Z"
      },
      {
        "duration": 7,
        "start_time": "2022-06-28T09:36:14.535Z"
      },
      {
        "duration": 7,
        "start_time": "2022-06-28T09:36:14.543Z"
      },
      {
        "duration": 6,
        "start_time": "2022-06-28T09:36:14.551Z"
      },
      {
        "duration": 16,
        "start_time": "2022-06-28T09:36:14.559Z"
      },
      {
        "duration": 16,
        "start_time": "2022-06-28T09:36:14.577Z"
      },
      {
        "duration": 47,
        "start_time": "2022-06-28T09:36:14.594Z"
      },
      {
        "duration": 2,
        "start_time": "2022-06-28T09:36:14.643Z"
      },
      {
        "duration": 21,
        "start_time": "2022-06-28T09:36:14.647Z"
      },
      {
        "duration": 8,
        "start_time": "2022-06-28T09:36:14.670Z"
      },
      {
        "duration": 17,
        "start_time": "2022-06-28T09:36:14.679Z"
      },
      {
        "duration": 4399,
        "start_time": "2022-06-28T09:36:14.697Z"
      },
      {
        "duration": 9,
        "start_time": "2022-06-28T09:36:19.097Z"
      },
      {
        "duration": 528,
        "start_time": "2022-06-28T09:36:19.107Z"
      },
      {
        "duration": 7,
        "start_time": "2022-06-28T09:36:19.637Z"
      },
      {
        "duration": 11,
        "start_time": "2022-06-28T09:36:19.645Z"
      },
      {
        "duration": 1223,
        "start_time": "2022-06-28T09:36:19.657Z"
      },
      {
        "duration": 148,
        "start_time": "2022-06-28T09:36:20.881Z"
      },
      {
        "duration": 106,
        "start_time": "2022-06-28T09:36:44.006Z"
      },
      {
        "duration": 876,
        "start_time": "2022-06-28T09:36:55.666Z"
      },
      {
        "duration": 75,
        "start_time": "2022-06-28T09:37:00.434Z"
      },
      {
        "duration": 8,
        "start_time": "2022-06-28T09:38:02.365Z"
      },
      {
        "duration": 3,
        "start_time": "2022-06-28T09:38:10.628Z"
      },
      {
        "duration": 5,
        "start_time": "2022-06-28T09:38:13.220Z"
      },
      {
        "duration": 8,
        "start_time": "2022-06-28T09:38:28.235Z"
      },
      {
        "duration": 4,
        "start_time": "2022-06-28T09:38:45.963Z"
      },
      {
        "duration": 20,
        "start_time": "2022-06-28T09:38:51.741Z"
      },
      {
        "duration": 7,
        "start_time": "2022-06-28T09:39:12.648Z"
      },
      {
        "duration": 11,
        "start_time": "2022-06-28T09:41:01.075Z"
      },
      {
        "duration": 130,
        "start_time": "2022-06-28T10:27:29.761Z"
      },
      {
        "duration": 9,
        "start_time": "2022-06-28T10:28:37.948Z"
      },
      {
        "duration": 3,
        "start_time": "2022-06-28T10:28:40.364Z"
      },
      {
        "duration": 4,
        "start_time": "2022-06-28T10:28:42.019Z"
      },
      {
        "duration": 1512,
        "start_time": "2022-06-28T10:36:14.058Z"
      },
      {
        "duration": 681,
        "start_time": "2022-06-28T10:36:15.572Z"
      },
      {
        "duration": 221,
        "start_time": "2022-06-28T10:36:16.255Z"
      },
      {
        "duration": 92,
        "start_time": "2022-06-28T10:36:16.478Z"
      },
      {
        "duration": 174,
        "start_time": "2022-06-28T10:36:16.572Z"
      },
      {
        "duration": 8,
        "start_time": "2022-06-28T10:36:16.748Z"
      },
      {
        "duration": 8,
        "start_time": "2022-06-28T10:36:16.757Z"
      },
      {
        "duration": 6,
        "start_time": "2022-06-28T10:36:16.766Z"
      },
      {
        "duration": 6,
        "start_time": "2022-06-28T10:36:16.774Z"
      },
      {
        "duration": 15,
        "start_time": "2022-06-28T10:36:16.783Z"
      },
      {
        "duration": 46,
        "start_time": "2022-06-28T10:36:16.799Z"
      },
      {
        "duration": 27,
        "start_time": "2022-06-28T10:36:16.848Z"
      },
      {
        "duration": 2,
        "start_time": "2022-06-28T10:36:16.877Z"
      },
      {
        "duration": 11,
        "start_time": "2022-06-28T10:36:16.881Z"
      },
      {
        "duration": 16,
        "start_time": "2022-06-28T10:36:16.894Z"
      },
      {
        "duration": 18,
        "start_time": "2022-06-28T10:36:16.912Z"
      },
      {
        "duration": 4408,
        "start_time": "2022-06-28T10:36:16.931Z"
      },
      {
        "duration": 10,
        "start_time": "2022-06-28T10:36:21.341Z"
      },
      {
        "duration": 545,
        "start_time": "2022-06-28T10:36:21.352Z"
      },
      {
        "duration": 7,
        "start_time": "2022-06-28T10:36:21.899Z"
      },
      {
        "duration": 8,
        "start_time": "2022-06-28T10:36:21.908Z"
      },
      {
        "duration": 1214,
        "start_time": "2022-06-28T10:36:21.918Z"
      },
      {
        "duration": 164,
        "start_time": "2022-06-28T10:36:23.145Z"
      },
      {
        "duration": 9,
        "start_time": "2022-06-28T10:36:23.311Z"
      },
      {
        "duration": 11,
        "start_time": "2022-06-28T10:36:23.322Z"
      },
      {
        "duration": 16,
        "start_time": "2022-06-28T10:36:23.335Z"
      },
      {
        "duration": 5,
        "start_time": "2022-06-28T10:36:23.353Z"
      },
      {
        "duration": 27,
        "start_time": "2022-06-28T10:36:23.362Z"
      },
      {
        "duration": 52,
        "start_time": "2022-06-28T10:36:23.390Z"
      },
      {
        "duration": 3,
        "start_time": "2022-06-28T10:36:23.446Z"
      },
      {
        "duration": 177762,
        "start_time": "2022-06-28T10:36:23.450Z"
      },
      {
        "duration": 433797,
        "start_time": "2022-06-28T10:39:21.214Z"
      },
      {
        "duration": 13857,
        "start_time": "2022-06-28T10:46:35.012Z"
      },
      {
        "duration": 28406,
        "start_time": "2022-06-28T10:46:48.931Z"
      },
      {
        "duration": 54097,
        "start_time": "2022-06-28T10:47:17.338Z"
      },
      {
        "duration": 102910,
        "start_time": "2022-06-28T10:48:11.528Z"
      },
      {
        "duration": 98,
        "start_time": "2022-06-28T10:49:54.440Z"
      },
      {
        "duration": 505,
        "start_time": "2022-06-28T10:49:54.540Z"
      },
      {
        "duration": 1102,
        "start_time": "2022-06-28T10:49:55.046Z"
      },
      {
        "duration": 5,
        "start_time": "2022-06-28T10:49:56.150Z"
      },
      {
        "duration": 19,
        "start_time": "2022-06-28T11:12:59.665Z"
      },
      {
        "duration": 213,
        "start_time": "2022-06-28T11:14:31.863Z"
      },
      {
        "duration": 244,
        "start_time": "2022-06-28T11:14:41.411Z"
      },
      {
        "duration": 1678,
        "start_time": "2022-06-29T08:00:31.008Z"
      },
      {
        "duration": 1515,
        "start_time": "2022-06-29T08:00:32.689Z"
      },
      {
        "duration": 223,
        "start_time": "2022-06-29T08:00:34.206Z"
      },
      {
        "duration": 98,
        "start_time": "2022-06-29T08:00:34.431Z"
      },
      {
        "duration": 216,
        "start_time": "2022-06-29T08:00:34.531Z"
      },
      {
        "duration": 7,
        "start_time": "2022-06-29T08:00:34.749Z"
      },
      {
        "duration": 5,
        "start_time": "2022-06-29T08:00:34.758Z"
      },
      {
        "duration": 18,
        "start_time": "2022-06-29T08:00:34.764Z"
      },
      {
        "duration": 21,
        "start_time": "2022-06-29T08:00:34.784Z"
      },
      {
        "duration": 57,
        "start_time": "2022-06-29T08:00:34.807Z"
      },
      {
        "duration": 18,
        "start_time": "2022-06-29T08:00:34.865Z"
      },
      {
        "duration": 27,
        "start_time": "2022-06-29T08:00:34.885Z"
      },
      {
        "duration": 3,
        "start_time": "2022-06-29T08:00:34.913Z"
      },
      {
        "duration": 15,
        "start_time": "2022-06-29T08:00:34.917Z"
      },
      {
        "duration": 19,
        "start_time": "2022-06-29T08:00:34.933Z"
      },
      {
        "duration": 19,
        "start_time": "2022-06-29T08:00:34.953Z"
      },
      {
        "duration": 5372,
        "start_time": "2022-06-29T08:00:34.973Z"
      },
      {
        "duration": 10,
        "start_time": "2022-06-29T08:00:40.347Z"
      },
      {
        "duration": 538,
        "start_time": "2022-06-29T08:00:40.358Z"
      },
      {
        "duration": 8,
        "start_time": "2022-06-29T08:00:40.898Z"
      },
      {
        "duration": 8,
        "start_time": "2022-06-29T08:00:40.907Z"
      },
      {
        "duration": 1219,
        "start_time": "2022-06-29T08:00:40.917Z"
      },
      {
        "duration": 169,
        "start_time": "2022-06-29T08:00:42.137Z"
      },
      {
        "duration": 24,
        "start_time": "2022-06-29T08:00:42.307Z"
      },
      {
        "duration": 3,
        "start_time": "2022-06-29T08:00:42.332Z"
      },
      {
        "duration": 5,
        "start_time": "2022-06-29T08:00:42.337Z"
      },
      {
        "duration": 5,
        "start_time": "2022-06-29T08:00:42.344Z"
      },
      {
        "duration": 25,
        "start_time": "2022-06-29T08:00:42.352Z"
      },
      {
        "duration": 66,
        "start_time": "2022-06-29T08:00:42.379Z"
      },
      {
        "duration": 3,
        "start_time": "2022-06-29T08:00:42.447Z"
      },
      {
        "duration": 75169,
        "start_time": "2022-06-29T08:00:42.452Z"
      },
      {
        "duration": 1257858,
        "start_time": "2022-06-29T08:01:57.623Z"
      },
      {
        "duration": 9,
        "start_time": "2022-06-29T08:22:55.483Z"
      },
      {
        "duration": 0,
        "start_time": "2022-06-29T08:22:55.494Z"
      },
      {
        "duration": 0,
        "start_time": "2022-06-29T08:22:55.496Z"
      },
      {
        "duration": 0,
        "start_time": "2022-06-29T08:22:55.497Z"
      },
      {
        "duration": 0,
        "start_time": "2022-06-29T08:22:55.498Z"
      },
      {
        "duration": 0,
        "start_time": "2022-06-29T08:22:55.499Z"
      },
      {
        "duration": 0,
        "start_time": "2022-06-29T08:22:55.500Z"
      },
      {
        "duration": 0,
        "start_time": "2022-06-29T08:22:55.501Z"
      },
      {
        "duration": 0,
        "start_time": "2022-06-29T08:22:55.502Z"
      },
      {
        "duration": 0,
        "start_time": "2022-06-29T08:22:55.505Z"
      },
      {
        "duration": 9470,
        "start_time": "2022-06-29T08:28:08.168Z"
      },
      {
        "duration": 9415,
        "start_time": "2022-06-29T08:28:47.439Z"
      },
      {
        "duration": 1399,
        "start_time": "2022-06-29T09:30:17.085Z"
      },
      {
        "duration": 679,
        "start_time": "2022-06-29T09:30:18.486Z"
      },
      {
        "duration": 206,
        "start_time": "2022-06-29T09:30:19.167Z"
      },
      {
        "duration": 90,
        "start_time": "2022-06-29T09:30:19.375Z"
      },
      {
        "duration": 197,
        "start_time": "2022-06-29T09:30:19.468Z"
      },
      {
        "duration": 8,
        "start_time": "2022-06-29T09:30:19.666Z"
      },
      {
        "duration": 9,
        "start_time": "2022-06-29T09:30:19.676Z"
      },
      {
        "duration": 4,
        "start_time": "2022-06-29T09:30:19.687Z"
      },
      {
        "duration": 22,
        "start_time": "2022-06-29T09:30:19.693Z"
      },
      {
        "duration": 24,
        "start_time": "2022-06-29T09:30:19.717Z"
      },
      {
        "duration": 18,
        "start_time": "2022-06-29T09:30:19.743Z"
      },
      {
        "duration": 25,
        "start_time": "2022-06-29T09:30:19.763Z"
      },
      {
        "duration": 3,
        "start_time": "2022-06-29T09:30:19.790Z"
      },
      {
        "duration": 32,
        "start_time": "2022-06-29T09:30:19.796Z"
      },
      {
        "duration": 9,
        "start_time": "2022-06-29T09:30:19.830Z"
      },
      {
        "duration": 17,
        "start_time": "2022-06-29T09:30:19.840Z"
      },
      {
        "duration": 4686,
        "start_time": "2022-06-29T09:30:19.859Z"
      },
      {
        "duration": 12,
        "start_time": "2022-06-29T09:30:24.548Z"
      },
      {
        "duration": 583,
        "start_time": "2022-06-29T09:30:24.562Z"
      },
      {
        "duration": 7,
        "start_time": "2022-06-29T09:30:25.147Z"
      },
      {
        "duration": 15,
        "start_time": "2022-06-29T09:30:25.155Z"
      },
      {
        "duration": 1290,
        "start_time": "2022-06-29T09:30:25.171Z"
      },
      {
        "duration": 185,
        "start_time": "2022-06-29T09:30:26.463Z"
      },
      {
        "duration": 9,
        "start_time": "2022-06-29T09:30:26.650Z"
      },
      {
        "duration": 32,
        "start_time": "2022-06-29T09:30:26.661Z"
      },
      {
        "duration": 32,
        "start_time": "2022-06-29T09:30:26.694Z"
      },
      {
        "duration": 26,
        "start_time": "2022-06-29T09:30:26.728Z"
      },
      {
        "duration": 46,
        "start_time": "2022-06-29T09:30:26.756Z"
      },
      {
        "duration": 63,
        "start_time": "2022-06-29T09:30:26.804Z"
      },
      {
        "duration": 3,
        "start_time": "2022-06-29T09:30:26.869Z"
      },
      {
        "duration": 9381,
        "start_time": "2022-06-29T09:30:26.874Z"
      },
      {
        "duration": 1379,
        "start_time": "2022-06-29T09:32:47.786Z"
      },
      {
        "duration": 678,
        "start_time": "2022-06-29T09:32:49.167Z"
      },
      {
        "duration": 204,
        "start_time": "2022-06-29T09:32:49.847Z"
      },
      {
        "duration": 81,
        "start_time": "2022-06-29T09:32:50.053Z"
      },
      {
        "duration": 196,
        "start_time": "2022-06-29T09:32:50.136Z"
      },
      {
        "duration": 8,
        "start_time": "2022-06-29T09:32:50.334Z"
      },
      {
        "duration": 11,
        "start_time": "2022-06-29T09:32:50.343Z"
      },
      {
        "duration": 13,
        "start_time": "2022-06-29T09:32:50.356Z"
      },
      {
        "duration": 19,
        "start_time": "2022-06-29T09:32:50.371Z"
      },
      {
        "duration": 41,
        "start_time": "2022-06-29T09:32:50.392Z"
      },
      {
        "duration": 17,
        "start_time": "2022-06-29T09:32:50.435Z"
      },
      {
        "duration": 50,
        "start_time": "2022-06-29T09:32:50.454Z"
      },
      {
        "duration": 2,
        "start_time": "2022-06-29T09:32:50.506Z"
      },
      {
        "duration": 9,
        "start_time": "2022-06-29T09:32:50.511Z"
      },
      {
        "duration": 17,
        "start_time": "2022-06-29T09:32:50.521Z"
      },
      {
        "duration": 16,
        "start_time": "2022-06-29T09:32:50.539Z"
      },
      {
        "duration": 4748,
        "start_time": "2022-06-29T09:32:50.557Z"
      },
      {
        "duration": 9,
        "start_time": "2022-06-29T09:32:55.307Z"
      },
      {
        "duration": 515,
        "start_time": "2022-06-29T09:32:55.318Z"
      },
      {
        "duration": 8,
        "start_time": "2022-06-29T09:32:55.834Z"
      },
      {
        "duration": 6,
        "start_time": "2022-06-29T09:32:55.843Z"
      },
      {
        "duration": 1287,
        "start_time": "2022-06-29T09:32:55.851Z"
      },
      {
        "duration": 187,
        "start_time": "2022-06-29T09:32:57.139Z"
      },
      {
        "duration": 10,
        "start_time": "2022-06-29T09:32:57.328Z"
      },
      {
        "duration": 4,
        "start_time": "2022-06-29T09:32:57.339Z"
      },
      {
        "duration": 7,
        "start_time": "2022-06-29T09:32:57.344Z"
      },
      {
        "duration": 12,
        "start_time": "2022-06-29T09:32:57.353Z"
      },
      {
        "duration": 30,
        "start_time": "2022-06-29T09:32:57.367Z"
      },
      {
        "duration": 35,
        "start_time": "2022-06-29T09:32:57.426Z"
      },
      {
        "duration": 4,
        "start_time": "2022-06-29T09:32:57.462Z"
      },
      {
        "duration": 9637,
        "start_time": "2022-06-29T09:32:57.467Z"
      },
      {
        "duration": 37143,
        "start_time": "2022-06-29T09:33:07.106Z"
      },
      {
        "duration": 24522,
        "start_time": "2022-06-29T09:33:44.251Z"
      },
      {
        "duration": 13816,
        "start_time": "2022-06-29T09:34:08.775Z"
      },
      {
        "duration": 11,
        "start_time": "2022-06-29T09:34:22.593Z"
      },
      {
        "duration": 0,
        "start_time": "2022-06-29T09:34:22.606Z"
      },
      {
        "duration": 0,
        "start_time": "2022-06-29T09:34:22.607Z"
      },
      {
        "duration": 0,
        "start_time": "2022-06-29T09:34:22.608Z"
      },
      {
        "duration": 0,
        "start_time": "2022-06-29T09:34:22.609Z"
      },
      {
        "duration": 0,
        "start_time": "2022-06-29T09:34:22.610Z"
      },
      {
        "duration": 0,
        "start_time": "2022-06-29T09:34:22.611Z"
      },
      {
        "duration": 0,
        "start_time": "2022-06-29T09:34:22.612Z"
      },
      {
        "duration": 0,
        "start_time": "2022-06-29T09:34:22.613Z"
      },
      {
        "duration": 0,
        "start_time": "2022-06-29T09:34:22.616Z"
      },
      {
        "duration": 17422,
        "start_time": "2022-06-29T09:34:33.311Z"
      },
      {
        "duration": 9540,
        "start_time": "2022-06-29T09:34:54.187Z"
      },
      {
        "duration": 5,
        "start_time": "2022-06-29T09:44:33.642Z"
      },
      {
        "duration": 26,
        "start_time": "2022-06-29T09:44:39.546Z"
      },
      {
        "duration": 34,
        "start_time": "2022-06-29T09:44:41.634Z"
      },
      {
        "duration": 3,
        "start_time": "2022-06-29T09:44:43.330Z"
      },
      {
        "duration": 113669,
        "start_time": "2022-06-29T09:44:44.612Z"
      },
      {
        "duration": 4,
        "start_time": "2022-06-29T09:46:50.858Z"
      },
      {
        "duration": 5,
        "start_time": "2022-06-29T09:47:00.424Z"
      },
      {
        "duration": 99916,
        "start_time": "2022-06-29T09:47:02.999Z"
      },
      {
        "duration": 889,
        "start_time": "2022-06-29T09:48:46.111Z"
      },
      {
        "duration": 170,
        "start_time": "2022-06-29T09:49:04.710Z"
      },
      {
        "duration": 164,
        "start_time": "2022-06-29T09:49:15.890Z"
      },
      {
        "duration": 106040,
        "start_time": "2022-06-29T09:49:30.038Z"
      },
      {
        "duration": 4,
        "start_time": "2022-06-29T09:51:46.082Z"
      },
      {
        "duration": 19183,
        "start_time": "2022-06-29T09:51:54.087Z"
      },
      {
        "duration": 4,
        "start_time": "2022-06-29T09:52:43.642Z"
      },
      {
        "duration": 110348,
        "start_time": "2022-06-29T09:52:51.425Z"
      },
      {
        "duration": 1462405,
        "start_time": "2022-06-29T09:54:41.775Z"
      },
      {
        "duration": 5,
        "start_time": "2022-06-29T11:06:03.940Z"
      },
      {
        "duration": 370052,
        "start_time": "2022-06-29T11:06:08.882Z"
      },
      {
        "duration": 112389,
        "start_time": "2022-06-29T11:12:18.937Z"
      },
      {
        "duration": 261079,
        "start_time": "2022-06-29T11:14:11.328Z"
      },
      {
        "duration": 815264,
        "start_time": "2022-06-29T11:18:32.411Z"
      },
      {
        "duration": 121,
        "start_time": "2022-06-29T11:32:31.509Z"
      },
      {
        "duration": 346,
        "start_time": "2022-06-29T11:32:45.491Z"
      },
      {
        "duration": 1081,
        "start_time": "2022-06-29T11:32:54.648Z"
      },
      {
        "duration": 2512,
        "start_time": "2022-06-29T11:32:57.922Z"
      },
      {
        "duration": 11,
        "start_time": "2022-06-29T11:33:02.792Z"
      },
      {
        "duration": 605,
        "start_time": "2022-06-29T11:35:10.726Z"
      },
      {
        "duration": 1597,
        "start_time": "2022-06-29T11:35:14.430Z"
      },
      {
        "duration": 11,
        "start_time": "2022-06-29T11:35:17.931Z"
      },
      {
        "duration": 484,
        "start_time": "2022-06-29T11:37:46.747Z"
      },
      {
        "duration": 1838,
        "start_time": "2022-06-29T11:37:48.192Z"
      },
      {
        "duration": 13,
        "start_time": "2022-06-29T11:37:50.396Z"
      },
      {
        "duration": 1073,
        "start_time": "2022-06-29T11:38:00.161Z"
      },
      {
        "duration": 1912,
        "start_time": "2022-06-29T11:38:03.023Z"
      },
      {
        "duration": 13,
        "start_time": "2022-06-29T11:38:06.662Z"
      },
      {
        "duration": 496,
        "start_time": "2022-06-29T11:39:30.924Z"
      },
      {
        "duration": 1208,
        "start_time": "2022-06-29T11:39:32.528Z"
      },
      {
        "duration": 5,
        "start_time": "2022-06-29T11:39:34.929Z"
      },
      {
        "duration": 13,
        "start_time": "2022-06-29T11:44:59.372Z"
      },
      {
        "duration": 23,
        "start_time": "2022-06-29T11:45:37.924Z"
      },
      {
        "duration": 15,
        "start_time": "2022-06-29T11:45:51.460Z"
      },
      {
        "duration": 11,
        "start_time": "2022-06-29T11:46:04.185Z"
      },
      {
        "duration": 500,
        "start_time": "2022-06-29T11:50:27.589Z"
      },
      {
        "duration": 1215,
        "start_time": "2022-06-29T11:50:29.291Z"
      },
      {
        "duration": 4,
        "start_time": "2022-06-29T11:50:32.912Z"
      },
      {
        "duration": 4,
        "start_time": "2022-06-29T11:51:56.213Z"
      },
      {
        "duration": 11,
        "start_time": "2022-06-29T11:52:08.108Z"
      },
      {
        "duration": 13,
        "start_time": "2022-06-29T11:52:11.184Z"
      },
      {
        "duration": 10,
        "start_time": "2022-06-29T11:52:13.116Z"
      },
      {
        "duration": 235,
        "start_time": "2022-06-29T11:52:47.501Z"
      },
      {
        "duration": 1511,
        "start_time": "2022-06-29T11:53:06.018Z"
      },
      {
        "duration": 713,
        "start_time": "2022-06-29T11:53:07.532Z"
      },
      {
        "duration": 218,
        "start_time": "2022-06-29T11:53:08.247Z"
      },
      {
        "duration": 85,
        "start_time": "2022-06-29T11:53:08.468Z"
      },
      {
        "duration": 196,
        "start_time": "2022-06-29T11:53:08.555Z"
      },
      {
        "duration": 11,
        "start_time": "2022-06-29T11:53:08.753Z"
      },
      {
        "duration": 12,
        "start_time": "2022-06-29T11:53:08.766Z"
      },
      {
        "duration": 7,
        "start_time": "2022-06-29T11:53:08.780Z"
      },
      {
        "duration": 11,
        "start_time": "2022-06-29T11:53:08.789Z"
      },
      {
        "duration": 41,
        "start_time": "2022-06-29T11:53:08.803Z"
      },
      {
        "duration": 18,
        "start_time": "2022-06-29T11:53:08.845Z"
      },
      {
        "duration": 28,
        "start_time": "2022-06-29T11:53:08.865Z"
      },
      {
        "duration": 3,
        "start_time": "2022-06-29T11:53:08.896Z"
      },
      {
        "duration": 26,
        "start_time": "2022-06-29T11:53:08.901Z"
      },
      {
        "duration": 16,
        "start_time": "2022-06-29T11:53:08.928Z"
      },
      {
        "duration": 15,
        "start_time": "2022-06-29T11:53:08.945Z"
      },
      {
        "duration": 4736,
        "start_time": "2022-06-29T11:53:08.962Z"
      },
      {
        "duration": 10,
        "start_time": "2022-06-29T11:53:13.699Z"
      },
      {
        "duration": 551,
        "start_time": "2022-06-29T11:53:13.710Z"
      },
      {
        "duration": 10,
        "start_time": "2022-06-29T11:53:14.264Z"
      },
      {
        "duration": 21,
        "start_time": "2022-06-29T11:53:14.276Z"
      },
      {
        "duration": 1230,
        "start_time": "2022-06-29T11:53:14.299Z"
      },
      {
        "duration": 182,
        "start_time": "2022-06-29T11:53:15.531Z"
      },
      {
        "duration": 16,
        "start_time": "2022-06-29T11:53:15.715Z"
      },
      {
        "duration": 7,
        "start_time": "2022-06-29T11:53:15.733Z"
      },
      {
        "duration": 7,
        "start_time": "2022-06-29T11:53:15.741Z"
      },
      {
        "duration": 8,
        "start_time": "2022-06-29T11:53:15.750Z"
      },
      {
        "duration": 36,
        "start_time": "2022-06-29T11:53:15.761Z"
      },
      {
        "duration": 36,
        "start_time": "2022-06-29T11:53:15.826Z"
      },
      {
        "duration": 3,
        "start_time": "2022-06-29T11:53:15.864Z"
      },
      {
        "duration": 1498,
        "start_time": "2022-06-29T11:56:11.917Z"
      },
      {
        "duration": 683,
        "start_time": "2022-06-29T11:56:13.417Z"
      },
      {
        "duration": 216,
        "start_time": "2022-06-29T11:56:14.102Z"
      },
      {
        "duration": 83,
        "start_time": "2022-06-29T11:56:14.325Z"
      },
      {
        "duration": 257,
        "start_time": "2022-06-29T11:56:14.411Z"
      },
      {
        "duration": 10,
        "start_time": "2022-06-29T11:56:14.671Z"
      },
      {
        "duration": 16,
        "start_time": "2022-06-29T11:56:14.684Z"
      },
      {
        "duration": 27,
        "start_time": "2022-06-29T11:56:14.702Z"
      },
      {
        "duration": 7,
        "start_time": "2022-06-29T11:56:14.731Z"
      },
      {
        "duration": 21,
        "start_time": "2022-06-29T11:56:14.741Z"
      },
      {
        "duration": 18,
        "start_time": "2022-06-29T11:56:14.764Z"
      },
      {
        "duration": 50,
        "start_time": "2022-06-29T11:56:14.784Z"
      },
      {
        "duration": 3,
        "start_time": "2022-06-29T11:56:14.836Z"
      },
      {
        "duration": 8,
        "start_time": "2022-06-29T11:56:14.841Z"
      },
      {
        "duration": 9,
        "start_time": "2022-06-29T11:56:14.851Z"
      },
      {
        "duration": 21,
        "start_time": "2022-06-29T11:56:14.862Z"
      },
      {
        "duration": 4561,
        "start_time": "2022-06-29T11:56:14.885Z"
      },
      {
        "duration": 9,
        "start_time": "2022-06-29T11:56:19.448Z"
      },
      {
        "duration": 573,
        "start_time": "2022-06-29T11:56:19.459Z"
      },
      {
        "duration": 9,
        "start_time": "2022-06-29T11:56:20.034Z"
      },
      {
        "duration": 6,
        "start_time": "2022-06-29T11:56:20.045Z"
      },
      {
        "duration": 1291,
        "start_time": "2022-06-29T11:56:20.054Z"
      },
      {
        "duration": 202,
        "start_time": "2022-06-29T11:56:21.348Z"
      },
      {
        "duration": 14,
        "start_time": "2022-06-29T11:56:21.552Z"
      },
      {
        "duration": 37,
        "start_time": "2022-06-29T11:56:21.568Z"
      },
      {
        "duration": 30,
        "start_time": "2022-06-29T11:56:21.606Z"
      },
      {
        "duration": 28,
        "start_time": "2022-06-29T11:56:21.638Z"
      },
      {
        "duration": 64,
        "start_time": "2022-06-29T11:56:21.669Z"
      },
      {
        "duration": 49,
        "start_time": "2022-06-29T11:56:21.734Z"
      },
      {
        "duration": 3,
        "start_time": "2022-06-29T11:56:21.785Z"
      },
      {
        "duration": 76262,
        "start_time": "2022-06-29T11:56:21.790Z"
      },
      {
        "duration": 1556,
        "start_time": "2022-06-29T12:07:07.068Z"
      },
      {
        "duration": 706,
        "start_time": "2022-06-29T12:07:08.627Z"
      },
      {
        "duration": 231,
        "start_time": "2022-06-29T12:07:09.335Z"
      },
      {
        "duration": 86,
        "start_time": "2022-06-29T12:07:09.569Z"
      },
      {
        "duration": 194,
        "start_time": "2022-06-29T12:07:09.656Z"
      },
      {
        "duration": 8,
        "start_time": "2022-06-29T12:07:09.851Z"
      },
      {
        "duration": 13,
        "start_time": "2022-06-29T12:07:09.861Z"
      },
      {
        "duration": 19,
        "start_time": "2022-06-29T12:07:09.876Z"
      },
      {
        "duration": 15,
        "start_time": "2022-06-29T12:07:09.897Z"
      },
      {
        "duration": 34,
        "start_time": "2022-06-29T12:07:09.914Z"
      },
      {
        "duration": 20,
        "start_time": "2022-06-29T12:07:09.950Z"
      },
      {
        "duration": 34,
        "start_time": "2022-06-29T12:07:09.971Z"
      },
      {
        "duration": 3,
        "start_time": "2022-06-29T12:07:10.007Z"
      },
      {
        "duration": 26,
        "start_time": "2022-06-29T12:07:10.011Z"
      },
      {
        "duration": 22,
        "start_time": "2022-06-29T12:07:10.038Z"
      },
      {
        "duration": 27,
        "start_time": "2022-06-29T12:07:10.061Z"
      },
      {
        "duration": 4767,
        "start_time": "2022-06-29T12:07:10.090Z"
      },
      {
        "duration": 10,
        "start_time": "2022-06-29T12:07:14.860Z"
      },
      {
        "duration": 542,
        "start_time": "2022-06-29T12:07:14.872Z"
      },
      {
        "duration": 12,
        "start_time": "2022-06-29T12:07:15.416Z"
      },
      {
        "duration": 13,
        "start_time": "2022-06-29T12:07:15.430Z"
      },
      {
        "duration": 1323,
        "start_time": "2022-06-29T12:07:15.445Z"
      },
      {
        "duration": 187,
        "start_time": "2022-06-29T12:07:16.770Z"
      },
      {
        "duration": 11,
        "start_time": "2022-06-29T12:07:16.959Z"
      },
      {
        "duration": 10,
        "start_time": "2022-06-29T12:07:16.972Z"
      },
      {
        "duration": 8,
        "start_time": "2022-06-29T12:07:16.984Z"
      },
      {
        "duration": 10,
        "start_time": "2022-06-29T12:07:16.993Z"
      },
      {
        "duration": 29,
        "start_time": "2022-06-29T12:07:17.029Z"
      },
      {
        "duration": 74,
        "start_time": "2022-06-29T12:07:17.060Z"
      },
      {
        "duration": 3,
        "start_time": "2022-06-29T12:07:17.137Z"
      },
      {
        "duration": 23752,
        "start_time": "2022-06-29T12:07:17.141Z"
      },
      {
        "duration": 397319,
        "start_time": "2022-06-29T12:07:40.895Z"
      },
      {
        "duration": 55317,
        "start_time": "2022-06-29T12:14:18.216Z"
      },
      {
        "duration": 916329,
        "start_time": "2022-06-29T12:15:13.542Z"
      },
      {
        "duration": 2,
        "start_time": "2022-06-29T12:30:29.873Z"
      },
      {
        "duration": 356,
        "start_time": "2022-06-29T12:30:29.877Z"
      },
      {
        "duration": 1317,
        "start_time": "2022-06-29T12:30:30.235Z"
      },
      {
        "duration": 1910,
        "start_time": "2022-06-29T12:30:31.630Z"
      },
      {
        "duration": 4389,
        "start_time": "2022-06-29T12:30:33.542Z"
      },
      {
        "duration": 7,
        "start_time": "2022-06-29T12:30:37.933Z"
      },
      {
        "duration": 91,
        "start_time": "2022-06-29T12:30:37.941Z"
      },
      {
        "duration": 517,
        "start_time": "2022-06-29T12:30:38.036Z"
      },
      {
        "duration": 1288,
        "start_time": "2022-06-29T12:30:38.555Z"
      },
      {
        "duration": 5,
        "start_time": "2022-06-29T12:30:39.845Z"
      },
      {
        "duration": 227,
        "start_time": "2022-06-29T12:34:07.078Z"
      },
      {
        "duration": 56,
        "start_time": "2022-06-29T12:34:08.646Z"
      },
      {
        "duration": 483,
        "start_time": "2022-06-29T12:34:18.390Z"
      },
      {
        "duration": 5,
        "start_time": "2022-06-29T12:34:20.214Z"
      },
      {
        "duration": 9,
        "start_time": "2022-06-29T12:38:28.184Z"
      },
      {
        "duration": 15,
        "start_time": "2022-06-29T12:39:23.110Z"
      },
      {
        "duration": 23,
        "start_time": "2022-06-29T12:41:37.278Z"
      },
      {
        "duration": 1572,
        "start_time": "2022-06-29T12:42:49.230Z"
      },
      {
        "duration": 770,
        "start_time": "2022-06-29T12:42:50.804Z"
      },
      {
        "duration": 222,
        "start_time": "2022-06-29T12:42:51.577Z"
      },
      {
        "duration": 85,
        "start_time": "2022-06-29T12:42:51.801Z"
      },
      {
        "duration": 202,
        "start_time": "2022-06-29T12:42:51.889Z"
      },
      {
        "duration": 8,
        "start_time": "2022-06-29T12:42:52.094Z"
      },
      {
        "duration": 24,
        "start_time": "2022-06-29T12:42:52.104Z"
      },
      {
        "duration": 4,
        "start_time": "2022-06-29T12:42:52.129Z"
      },
      {
        "duration": 17,
        "start_time": "2022-06-29T12:42:52.134Z"
      },
      {
        "duration": 24,
        "start_time": "2022-06-29T12:42:52.154Z"
      },
      {
        "duration": 17,
        "start_time": "2022-06-29T12:42:52.179Z"
      },
      {
        "duration": 41,
        "start_time": "2022-06-29T12:42:52.198Z"
      },
      {
        "duration": 2,
        "start_time": "2022-06-29T12:42:52.241Z"
      },
      {
        "duration": 10,
        "start_time": "2022-06-29T12:42:52.246Z"
      },
      {
        "duration": 8,
        "start_time": "2022-06-29T12:42:52.258Z"
      },
      {
        "duration": 26,
        "start_time": "2022-06-29T12:42:52.268Z"
      },
      {
        "duration": 4786,
        "start_time": "2022-06-29T12:42:52.296Z"
      },
      {
        "duration": 10,
        "start_time": "2022-06-29T12:42:57.083Z"
      },
      {
        "duration": 633,
        "start_time": "2022-06-29T12:42:57.095Z"
      },
      {
        "duration": 9,
        "start_time": "2022-06-29T12:42:57.731Z"
      },
      {
        "duration": 21,
        "start_time": "2022-06-29T12:42:57.741Z"
      },
      {
        "duration": 1275,
        "start_time": "2022-06-29T12:42:57.764Z"
      },
      {
        "duration": 220,
        "start_time": "2022-06-29T12:42:59.041Z"
      },
      {
        "duration": 12,
        "start_time": "2022-06-29T12:42:59.263Z"
      },
      {
        "duration": 15,
        "start_time": "2022-06-29T12:42:59.277Z"
      },
      {
        "duration": 11,
        "start_time": "2022-06-29T12:42:59.293Z"
      },
      {
        "duration": 9,
        "start_time": "2022-06-29T12:42:59.306Z"
      },
      {
        "duration": 31,
        "start_time": "2022-06-29T12:42:59.326Z"
      },
      {
        "duration": 38,
        "start_time": "2022-06-29T12:42:59.359Z"
      },
      {
        "duration": 29,
        "start_time": "2022-06-29T12:42:59.399Z"
      },
      {
        "duration": 23238,
        "start_time": "2022-06-29T12:42:59.430Z"
      },
      {
        "duration": 392558,
        "start_time": "2022-06-29T12:43:22.670Z"
      },
      {
        "duration": 54414,
        "start_time": "2022-06-29T12:49:55.230Z"
      },
      {
        "duration": 919584,
        "start_time": "2022-06-29T12:50:49.646Z"
      },
      {
        "duration": 4,
        "start_time": "2022-06-29T13:06:09.240Z"
      },
      {
        "duration": 379,
        "start_time": "2022-06-29T13:06:09.246Z"
      },
      {
        "duration": 1200,
        "start_time": "2022-06-29T13:06:09.630Z"
      },
      {
        "duration": 2108,
        "start_time": "2022-06-29T13:06:10.836Z"
      },
      {
        "duration": 5202,
        "start_time": "2022-06-29T13:06:13.026Z"
      },
      {
        "duration": 9,
        "start_time": "2022-06-29T13:06:18.229Z"
      },
      {
        "duration": 100,
        "start_time": "2022-06-29T13:06:18.240Z"
      },
      {
        "duration": 218,
        "start_time": "2022-06-29T13:06:18.344Z"
      },
      {
        "duration": 493,
        "start_time": "2022-06-29T13:06:18.564Z"
      },
      {
        "duration": 5,
        "start_time": "2022-06-29T13:06:19.060Z"
      },
      {
        "duration": 20,
        "start_time": "2022-06-29T13:06:19.067Z"
      }
    ],
    "kernelspec": {
      "display_name": "Python 3 (ipykernel)",
      "language": "python",
      "name": "python3"
    },
    "language_info": {
      "codemirror_mode": {
        "name": "ipython",
        "version": 3
      },
      "file_extension": ".py",
      "mimetype": "text/x-python",
      "name": "python",
      "nbconvert_exporter": "python",
      "pygments_lexer": "ipython3",
      "version": "3.9.5"
    },
    "toc": {
      "base_numbering": 1,
      "nav_menu": {},
      "number_sections": true,
      "sideBar": true,
      "skip_h1_title": true,
      "title_cell": "Содержание",
      "title_sidebar": "Contents",
      "toc_cell": true,
      "toc_position": {
        "height": "calc(100% - 180px)",
        "left": "10px",
        "top": "150px",
        "width": "366.391px"
      },
      "toc_section_display": true,
      "toc_window_display": true
    },
    "colab": {
      "provenance": [],
      "toc_visible": true
    }
  },
  "nbformat": 4,
  "nbformat_minor": 0
}