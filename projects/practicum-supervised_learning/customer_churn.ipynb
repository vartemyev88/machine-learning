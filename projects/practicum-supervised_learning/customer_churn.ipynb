{
  "cells": [
    {
      "cell_type": "markdown",
      "metadata": {
        "id": "Tze7bps9EfD9"
      },
      "source": [
        "# Project description\n",
        "\n",
        "**Customer churn**\n",
        "\n",
        "Customers have started leaving **Beta Bank**. Every month. It's not a lot, but it's noticeable. Bank marketers have determined that retaining current customers is more cost-effective than acquiring new ones.\n",
        "\n",
        "The objective is to predict whether a customer will leave the bank in the near future or not, using historical data on customer behavior and contract terminations. The goal is to construct a model that achieves the highest possible `F1-score`, with a minimum threshold of `0.59` required to successfully complete the project. It is essential to verify the `F1-score` on the test set.\n",
        "\n",
        "Additionally, the `AUC-ROC` should be measured and compared to the `F1-score`.\n",
        "\n",
        "Data source: https://www.kaggle.com/barelydedicated/bank-customer-churn-modeling\n"
      ]
    },
    {
      "cell_type": "markdown",
      "metadata": {
        "toc": true,
        "id": "wwgnG1JXEfD8"
      },
      "source": [
        "# Table of contents\n",
        "\n",
        "---\n",
        "\n",
        "1. [Data](#data)\n",
        "    * [Preprocessing](#data-prep)\n",
        "    * [Exploratory data analysis](#data-eda)\n",
        "    * [Datasets split](#data-split)\n",
        "    * [Conclusion (Data)](#data-conclusion)\n",
        "2. [Class balance](#class-balance)\n",
        "    * [Models training](#class-models-training)\n",
        "    * [Conclusion](#class-conslusion)\n",
        "3. [Balancing the classes](#balancing-the-classes)\n",
        "    * [Upsampling](#balancing-upsampling)\n",
        "    * [Downsampling](#balancing-downsampling)\n",
        "    * [Conclusion](#balancing-conclusion)\n",
        "4. [Testing the best model](#testing)\n",
        "5. [General conclusion](#general-conclusion)\n",
        "---"
      ]
    },
    {
      "cell_type": "markdown",
      "metadata": {
        "id": "mr_y6eIREfD9"
      },
      "source": [
        "## Data <a class=\"anchor\" id=\"data\"></a>"
      ]
    },
    {
      "cell_type": "code",
      "execution_count": 1,
      "metadata": {
        "id": "nyqNWk2tEfD-"
      },
      "outputs": [],
      "source": [
        "import matplotlib.pyplot as plt\n",
        "import numpy as np\n",
        "import pandas as pd\n",
        "import seaborn as sns\n",
        "import warnings\n",
        "\n",
        "from scipy.stats import randint\n",
        "from sklearn.ensemble import RandomForestClassifier\n",
        "from sklearn.linear_model import LogisticRegression\n",
        "from sklearn.metrics import accuracy_score, f1_score, recall_score, roc_auc_score, roc_curve\n",
        "from sklearn.model_selection import train_test_split\n",
        "from sklearn.preprocessing import StandardScaler\n",
        "from sklearn.tree import DecisionTreeClassifier\n",
        "from sklearn.utils import shuffle\n",
        "from tqdm import tqdm"
      ]
    },
    {
      "cell_type": "code",
      "source": [
        "# Locating the CSV with several locations\n",
        "try:\n",
        "    df = pd.read_csv('/datasets/churn.csv')\n",
        "except FileNotFoundError:\n",
        "    try:\n",
        "        df = pd.read_csv('churn.csv')\n",
        "    except FileNotFoundError:\n",
        "        try:\n",
        "            df = pd.read_csv(r'churn.csv')\n",
        "        except FileNotFoundError:\n",
        "            print('File not found')\n",
        "\n",
        "# Ignorig all warnings and displaying all columns in the DF\n",
        "warnings.filterwarnings('ignore')\n",
        "pd.set_option('display.max_columns', None)\n",
        "\n",
        "# Print basic info of dataframe\n",
        "print(f'Shape of dataframe: {df.shape}')\n",
        "print('-' * 26)\n",
        "print('\\nMissing values:')\n",
        "print(df.isna().mean().sort_values())\n",
        "print('-' * 26)\n",
        "print(f'\\nDuplicates: {df.duplicated().sum()}')\n",
        "print('-' * 26)\n",
        "print('\\nData types:')\n",
        "print(df.dtypes)\n",
        "display(df.describe())\n",
        "display(df.head())"
      ],
      "metadata": {
        "colab": {
          "base_uri": "https://localhost:8080/",
          "height": 1000
        },
        "id": "TQ0D0lIdi0pU",
        "outputId": "4e47a975-4936-44bf-f809-1906c9db384b"
      },
      "execution_count": 2,
      "outputs": [
        {
          "output_type": "stream",
          "name": "stdout",
          "text": [
            "Shape of dataframe: (10000, 14)\n",
            "--------------------------\n",
            "\n",
            "Missing values:\n",
            "RowNumber          0.0000\n",
            "CustomerId         0.0000\n",
            "Surname            0.0000\n",
            "CreditScore        0.0000\n",
            "Geography          0.0000\n",
            "Gender             0.0000\n",
            "Age                0.0000\n",
            "Balance            0.0000\n",
            "NumOfProducts      0.0000\n",
            "HasCrCard          0.0000\n",
            "IsActiveMember     0.0000\n",
            "EstimatedSalary    0.0000\n",
            "Exited             0.0000\n",
            "Tenure             0.0909\n",
            "dtype: float64\n",
            "--------------------------\n",
            "\n",
            "Duplicates: 0\n",
            "--------------------------\n",
            "\n",
            "Data types:\n",
            "RowNumber            int64\n",
            "CustomerId           int64\n",
            "Surname             object\n",
            "CreditScore          int64\n",
            "Geography           object\n",
            "Gender              object\n",
            "Age                  int64\n",
            "Tenure             float64\n",
            "Balance            float64\n",
            "NumOfProducts        int64\n",
            "HasCrCard            int64\n",
            "IsActiveMember       int64\n",
            "EstimatedSalary    float64\n",
            "Exited               int64\n",
            "dtype: object\n"
          ]
        },
        {
          "output_type": "display_data",
          "data": {
            "text/plain": [
              "         RowNumber    CustomerId   CreditScore           Age       Tenure  \\\n",
              "count  10000.00000  1.000000e+04  10000.000000  10000.000000  9091.000000   \n",
              "mean    5000.50000  1.569094e+07    650.528800     38.921800     4.997690   \n",
              "std     2886.89568  7.193619e+04     96.653299     10.487806     2.894723   \n",
              "min        1.00000  1.556570e+07    350.000000     18.000000     0.000000   \n",
              "25%     2500.75000  1.562853e+07    584.000000     32.000000     2.000000   \n",
              "50%     5000.50000  1.569074e+07    652.000000     37.000000     5.000000   \n",
              "75%     7500.25000  1.575323e+07    718.000000     44.000000     7.000000   \n",
              "max    10000.00000  1.581569e+07    850.000000     92.000000    10.000000   \n",
              "\n",
              "             Balance  NumOfProducts    HasCrCard  IsActiveMember  \\\n",
              "count   10000.000000   10000.000000  10000.00000    10000.000000   \n",
              "mean    76485.889288       1.530200      0.70550        0.515100   \n",
              "std     62397.405202       0.581654      0.45584        0.499797   \n",
              "min         0.000000       1.000000      0.00000        0.000000   \n",
              "25%         0.000000       1.000000      0.00000        0.000000   \n",
              "50%     97198.540000       1.000000      1.00000        1.000000   \n",
              "75%    127644.240000       2.000000      1.00000        1.000000   \n",
              "max    250898.090000       4.000000      1.00000        1.000000   \n",
              "\n",
              "       EstimatedSalary        Exited  \n",
              "count     10000.000000  10000.000000  \n",
              "mean     100090.239881      0.203700  \n",
              "std       57510.492818      0.402769  \n",
              "min          11.580000      0.000000  \n",
              "25%       51002.110000      0.000000  \n",
              "50%      100193.915000      0.000000  \n",
              "75%      149388.247500      0.000000  \n",
              "max      199992.480000      1.000000  "
            ],
            "text/html": [
              "\n",
              "  <div id=\"df-c2a1719b-d9c6-485c-83d2-b89603b505a7\">\n",
              "    <div class=\"colab-df-container\">\n",
              "      <div>\n",
              "<style scoped>\n",
              "    .dataframe tbody tr th:only-of-type {\n",
              "        vertical-align: middle;\n",
              "    }\n",
              "\n",
              "    .dataframe tbody tr th {\n",
              "        vertical-align: top;\n",
              "    }\n",
              "\n",
              "    .dataframe thead th {\n",
              "        text-align: right;\n",
              "    }\n",
              "</style>\n",
              "<table border=\"1\" class=\"dataframe\">\n",
              "  <thead>\n",
              "    <tr style=\"text-align: right;\">\n",
              "      <th></th>\n",
              "      <th>RowNumber</th>\n",
              "      <th>CustomerId</th>\n",
              "      <th>CreditScore</th>\n",
              "      <th>Age</th>\n",
              "      <th>Tenure</th>\n",
              "      <th>Balance</th>\n",
              "      <th>NumOfProducts</th>\n",
              "      <th>HasCrCard</th>\n",
              "      <th>IsActiveMember</th>\n",
              "      <th>EstimatedSalary</th>\n",
              "      <th>Exited</th>\n",
              "    </tr>\n",
              "  </thead>\n",
              "  <tbody>\n",
              "    <tr>\n",
              "      <th>count</th>\n",
              "      <td>10000.00000</td>\n",
              "      <td>1.000000e+04</td>\n",
              "      <td>10000.000000</td>\n",
              "      <td>10000.000000</td>\n",
              "      <td>9091.000000</td>\n",
              "      <td>10000.000000</td>\n",
              "      <td>10000.000000</td>\n",
              "      <td>10000.00000</td>\n",
              "      <td>10000.000000</td>\n",
              "      <td>10000.000000</td>\n",
              "      <td>10000.000000</td>\n",
              "    </tr>\n",
              "    <tr>\n",
              "      <th>mean</th>\n",
              "      <td>5000.50000</td>\n",
              "      <td>1.569094e+07</td>\n",
              "      <td>650.528800</td>\n",
              "      <td>38.921800</td>\n",
              "      <td>4.997690</td>\n",
              "      <td>76485.889288</td>\n",
              "      <td>1.530200</td>\n",
              "      <td>0.70550</td>\n",
              "      <td>0.515100</td>\n",
              "      <td>100090.239881</td>\n",
              "      <td>0.203700</td>\n",
              "    </tr>\n",
              "    <tr>\n",
              "      <th>std</th>\n",
              "      <td>2886.89568</td>\n",
              "      <td>7.193619e+04</td>\n",
              "      <td>96.653299</td>\n",
              "      <td>10.487806</td>\n",
              "      <td>2.894723</td>\n",
              "      <td>62397.405202</td>\n",
              "      <td>0.581654</td>\n",
              "      <td>0.45584</td>\n",
              "      <td>0.499797</td>\n",
              "      <td>57510.492818</td>\n",
              "      <td>0.402769</td>\n",
              "    </tr>\n",
              "    <tr>\n",
              "      <th>min</th>\n",
              "      <td>1.00000</td>\n",
              "      <td>1.556570e+07</td>\n",
              "      <td>350.000000</td>\n",
              "      <td>18.000000</td>\n",
              "      <td>0.000000</td>\n",
              "      <td>0.000000</td>\n",
              "      <td>1.000000</td>\n",
              "      <td>0.00000</td>\n",
              "      <td>0.000000</td>\n",
              "      <td>11.580000</td>\n",
              "      <td>0.000000</td>\n",
              "    </tr>\n",
              "    <tr>\n",
              "      <th>25%</th>\n",
              "      <td>2500.75000</td>\n",
              "      <td>1.562853e+07</td>\n",
              "      <td>584.000000</td>\n",
              "      <td>32.000000</td>\n",
              "      <td>2.000000</td>\n",
              "      <td>0.000000</td>\n",
              "      <td>1.000000</td>\n",
              "      <td>0.00000</td>\n",
              "      <td>0.000000</td>\n",
              "      <td>51002.110000</td>\n",
              "      <td>0.000000</td>\n",
              "    </tr>\n",
              "    <tr>\n",
              "      <th>50%</th>\n",
              "      <td>5000.50000</td>\n",
              "      <td>1.569074e+07</td>\n",
              "      <td>652.000000</td>\n",
              "      <td>37.000000</td>\n",
              "      <td>5.000000</td>\n",
              "      <td>97198.540000</td>\n",
              "      <td>1.000000</td>\n",
              "      <td>1.00000</td>\n",
              "      <td>1.000000</td>\n",
              "      <td>100193.915000</td>\n",
              "      <td>0.000000</td>\n",
              "    </tr>\n",
              "    <tr>\n",
              "      <th>75%</th>\n",
              "      <td>7500.25000</td>\n",
              "      <td>1.575323e+07</td>\n",
              "      <td>718.000000</td>\n",
              "      <td>44.000000</td>\n",
              "      <td>7.000000</td>\n",
              "      <td>127644.240000</td>\n",
              "      <td>2.000000</td>\n",
              "      <td>1.00000</td>\n",
              "      <td>1.000000</td>\n",
              "      <td>149388.247500</td>\n",
              "      <td>0.000000</td>\n",
              "    </tr>\n",
              "    <tr>\n",
              "      <th>max</th>\n",
              "      <td>10000.00000</td>\n",
              "      <td>1.581569e+07</td>\n",
              "      <td>850.000000</td>\n",
              "      <td>92.000000</td>\n",
              "      <td>10.000000</td>\n",
              "      <td>250898.090000</td>\n",
              "      <td>4.000000</td>\n",
              "      <td>1.00000</td>\n",
              "      <td>1.000000</td>\n",
              "      <td>199992.480000</td>\n",
              "      <td>1.000000</td>\n",
              "    </tr>\n",
              "  </tbody>\n",
              "</table>\n",
              "</div>\n",
              "      <button class=\"colab-df-convert\" onclick=\"convertToInteractive('df-c2a1719b-d9c6-485c-83d2-b89603b505a7')\"\n",
              "              title=\"Convert this dataframe to an interactive table.\"\n",
              "              style=\"display:none;\">\n",
              "        \n",
              "  <svg xmlns=\"http://www.w3.org/2000/svg\" height=\"24px\"viewBox=\"0 0 24 24\"\n",
              "       width=\"24px\">\n",
              "    <path d=\"M0 0h24v24H0V0z\" fill=\"none\"/>\n",
              "    <path d=\"M18.56 5.44l.94 2.06.94-2.06 2.06-.94-2.06-.94-.94-2.06-.94 2.06-2.06.94zm-11 1L8.5 8.5l.94-2.06 2.06-.94-2.06-.94L8.5 2.5l-.94 2.06-2.06.94zm10 10l.94 2.06.94-2.06 2.06-.94-2.06-.94-.94-2.06-.94 2.06-2.06.94z\"/><path d=\"M17.41 7.96l-1.37-1.37c-.4-.4-.92-.59-1.43-.59-.52 0-1.04.2-1.43.59L10.3 9.45l-7.72 7.72c-.78.78-.78 2.05 0 2.83L4 21.41c.39.39.9.59 1.41.59.51 0 1.02-.2 1.41-.59l7.78-7.78 2.81-2.81c.8-.78.8-2.07 0-2.86zM5.41 20L4 18.59l7.72-7.72 1.47 1.35L5.41 20z\"/>\n",
              "  </svg>\n",
              "      </button>\n",
              "      \n",
              "  <style>\n",
              "    .colab-df-container {\n",
              "      display:flex;\n",
              "      flex-wrap:wrap;\n",
              "      gap: 12px;\n",
              "    }\n",
              "\n",
              "    .colab-df-convert {\n",
              "      background-color: #E8F0FE;\n",
              "      border: none;\n",
              "      border-radius: 50%;\n",
              "      cursor: pointer;\n",
              "      display: none;\n",
              "      fill: #1967D2;\n",
              "      height: 32px;\n",
              "      padding: 0 0 0 0;\n",
              "      width: 32px;\n",
              "    }\n",
              "\n",
              "    .colab-df-convert:hover {\n",
              "      background-color: #E2EBFA;\n",
              "      box-shadow: 0px 1px 2px rgba(60, 64, 67, 0.3), 0px 1px 3px 1px rgba(60, 64, 67, 0.15);\n",
              "      fill: #174EA6;\n",
              "    }\n",
              "\n",
              "    [theme=dark] .colab-df-convert {\n",
              "      background-color: #3B4455;\n",
              "      fill: #D2E3FC;\n",
              "    }\n",
              "\n",
              "    [theme=dark] .colab-df-convert:hover {\n",
              "      background-color: #434B5C;\n",
              "      box-shadow: 0px 1px 3px 1px rgba(0, 0, 0, 0.15);\n",
              "      filter: drop-shadow(0px 1px 2px rgba(0, 0, 0, 0.3));\n",
              "      fill: #FFFFFF;\n",
              "    }\n",
              "  </style>\n",
              "\n",
              "      <script>\n",
              "        const buttonEl =\n",
              "          document.querySelector('#df-c2a1719b-d9c6-485c-83d2-b89603b505a7 button.colab-df-convert');\n",
              "        buttonEl.style.display =\n",
              "          google.colab.kernel.accessAllowed ? 'block' : 'none';\n",
              "\n",
              "        async function convertToInteractive(key) {\n",
              "          const element = document.querySelector('#df-c2a1719b-d9c6-485c-83d2-b89603b505a7');\n",
              "          const dataTable =\n",
              "            await google.colab.kernel.invokeFunction('convertToInteractive',\n",
              "                                                     [key], {});\n",
              "          if (!dataTable) return;\n",
              "\n",
              "          const docLinkHtml = 'Like what you see? Visit the ' +\n",
              "            '<a target=\"_blank\" href=https://colab.research.google.com/notebooks/data_table.ipynb>data table notebook</a>'\n",
              "            + ' to learn more about interactive tables.';\n",
              "          element.innerHTML = '';\n",
              "          dataTable['output_type'] = 'display_data';\n",
              "          await google.colab.output.renderOutput(dataTable, element);\n",
              "          const docLink = document.createElement('div');\n",
              "          docLink.innerHTML = docLinkHtml;\n",
              "          element.appendChild(docLink);\n",
              "        }\n",
              "      </script>\n",
              "    </div>\n",
              "  </div>\n",
              "  "
            ]
          },
          "metadata": {}
        },
        {
          "output_type": "display_data",
          "data": {
            "text/plain": [
              "   RowNumber  CustomerId   Surname  CreditScore Geography  Gender  Age  \\\n",
              "0          1    15634602  Hargrave          619    France  Female   42   \n",
              "1          2    15647311      Hill          608     Spain  Female   41   \n",
              "2          3    15619304      Onio          502    France  Female   42   \n",
              "3          4    15701354      Boni          699    France  Female   39   \n",
              "4          5    15737888  Mitchell          850     Spain  Female   43   \n",
              "\n",
              "   Tenure    Balance  NumOfProducts  HasCrCard  IsActiveMember  \\\n",
              "0     2.0       0.00              1          1               1   \n",
              "1     1.0   83807.86              1          0               1   \n",
              "2     8.0  159660.80              3          1               0   \n",
              "3     1.0       0.00              2          0               0   \n",
              "4     2.0  125510.82              1          1               1   \n",
              "\n",
              "   EstimatedSalary  Exited  \n",
              "0        101348.88       1  \n",
              "1        112542.58       0  \n",
              "2        113931.57       1  \n",
              "3         93826.63       0  \n",
              "4         79084.10       0  "
            ],
            "text/html": [
              "\n",
              "  <div id=\"df-c150b492-7e59-4336-b5b2-0da79b5db8d7\">\n",
              "    <div class=\"colab-df-container\">\n",
              "      <div>\n",
              "<style scoped>\n",
              "    .dataframe tbody tr th:only-of-type {\n",
              "        vertical-align: middle;\n",
              "    }\n",
              "\n",
              "    .dataframe tbody tr th {\n",
              "        vertical-align: top;\n",
              "    }\n",
              "\n",
              "    .dataframe thead th {\n",
              "        text-align: right;\n",
              "    }\n",
              "</style>\n",
              "<table border=\"1\" class=\"dataframe\">\n",
              "  <thead>\n",
              "    <tr style=\"text-align: right;\">\n",
              "      <th></th>\n",
              "      <th>RowNumber</th>\n",
              "      <th>CustomerId</th>\n",
              "      <th>Surname</th>\n",
              "      <th>CreditScore</th>\n",
              "      <th>Geography</th>\n",
              "      <th>Gender</th>\n",
              "      <th>Age</th>\n",
              "      <th>Tenure</th>\n",
              "      <th>Balance</th>\n",
              "      <th>NumOfProducts</th>\n",
              "      <th>HasCrCard</th>\n",
              "      <th>IsActiveMember</th>\n",
              "      <th>EstimatedSalary</th>\n",
              "      <th>Exited</th>\n",
              "    </tr>\n",
              "  </thead>\n",
              "  <tbody>\n",
              "    <tr>\n",
              "      <th>0</th>\n",
              "      <td>1</td>\n",
              "      <td>15634602</td>\n",
              "      <td>Hargrave</td>\n",
              "      <td>619</td>\n",
              "      <td>France</td>\n",
              "      <td>Female</td>\n",
              "      <td>42</td>\n",
              "      <td>2.0</td>\n",
              "      <td>0.00</td>\n",
              "      <td>1</td>\n",
              "      <td>1</td>\n",
              "      <td>1</td>\n",
              "      <td>101348.88</td>\n",
              "      <td>1</td>\n",
              "    </tr>\n",
              "    <tr>\n",
              "      <th>1</th>\n",
              "      <td>2</td>\n",
              "      <td>15647311</td>\n",
              "      <td>Hill</td>\n",
              "      <td>608</td>\n",
              "      <td>Spain</td>\n",
              "      <td>Female</td>\n",
              "      <td>41</td>\n",
              "      <td>1.0</td>\n",
              "      <td>83807.86</td>\n",
              "      <td>1</td>\n",
              "      <td>0</td>\n",
              "      <td>1</td>\n",
              "      <td>112542.58</td>\n",
              "      <td>0</td>\n",
              "    </tr>\n",
              "    <tr>\n",
              "      <th>2</th>\n",
              "      <td>3</td>\n",
              "      <td>15619304</td>\n",
              "      <td>Onio</td>\n",
              "      <td>502</td>\n",
              "      <td>France</td>\n",
              "      <td>Female</td>\n",
              "      <td>42</td>\n",
              "      <td>8.0</td>\n",
              "      <td>159660.80</td>\n",
              "      <td>3</td>\n",
              "      <td>1</td>\n",
              "      <td>0</td>\n",
              "      <td>113931.57</td>\n",
              "      <td>1</td>\n",
              "    </tr>\n",
              "    <tr>\n",
              "      <th>3</th>\n",
              "      <td>4</td>\n",
              "      <td>15701354</td>\n",
              "      <td>Boni</td>\n",
              "      <td>699</td>\n",
              "      <td>France</td>\n",
              "      <td>Female</td>\n",
              "      <td>39</td>\n",
              "      <td>1.0</td>\n",
              "      <td>0.00</td>\n",
              "      <td>2</td>\n",
              "      <td>0</td>\n",
              "      <td>0</td>\n",
              "      <td>93826.63</td>\n",
              "      <td>0</td>\n",
              "    </tr>\n",
              "    <tr>\n",
              "      <th>4</th>\n",
              "      <td>5</td>\n",
              "      <td>15737888</td>\n",
              "      <td>Mitchell</td>\n",
              "      <td>850</td>\n",
              "      <td>Spain</td>\n",
              "      <td>Female</td>\n",
              "      <td>43</td>\n",
              "      <td>2.0</td>\n",
              "      <td>125510.82</td>\n",
              "      <td>1</td>\n",
              "      <td>1</td>\n",
              "      <td>1</td>\n",
              "      <td>79084.10</td>\n",
              "      <td>0</td>\n",
              "    </tr>\n",
              "  </tbody>\n",
              "</table>\n",
              "</div>\n",
              "      <button class=\"colab-df-convert\" onclick=\"convertToInteractive('df-c150b492-7e59-4336-b5b2-0da79b5db8d7')\"\n",
              "              title=\"Convert this dataframe to an interactive table.\"\n",
              "              style=\"display:none;\">\n",
              "        \n",
              "  <svg xmlns=\"http://www.w3.org/2000/svg\" height=\"24px\"viewBox=\"0 0 24 24\"\n",
              "       width=\"24px\">\n",
              "    <path d=\"M0 0h24v24H0V0z\" fill=\"none\"/>\n",
              "    <path d=\"M18.56 5.44l.94 2.06.94-2.06 2.06-.94-2.06-.94-.94-2.06-.94 2.06-2.06.94zm-11 1L8.5 8.5l.94-2.06 2.06-.94-2.06-.94L8.5 2.5l-.94 2.06-2.06.94zm10 10l.94 2.06.94-2.06 2.06-.94-2.06-.94-.94-2.06-.94 2.06-2.06.94z\"/><path d=\"M17.41 7.96l-1.37-1.37c-.4-.4-.92-.59-1.43-.59-.52 0-1.04.2-1.43.59L10.3 9.45l-7.72 7.72c-.78.78-.78 2.05 0 2.83L4 21.41c.39.39.9.59 1.41.59.51 0 1.02-.2 1.41-.59l7.78-7.78 2.81-2.81c.8-.78.8-2.07 0-2.86zM5.41 20L4 18.59l7.72-7.72 1.47 1.35L5.41 20z\"/>\n",
              "  </svg>\n",
              "      </button>\n",
              "      \n",
              "  <style>\n",
              "    .colab-df-container {\n",
              "      display:flex;\n",
              "      flex-wrap:wrap;\n",
              "      gap: 12px;\n",
              "    }\n",
              "\n",
              "    .colab-df-convert {\n",
              "      background-color: #E8F0FE;\n",
              "      border: none;\n",
              "      border-radius: 50%;\n",
              "      cursor: pointer;\n",
              "      display: none;\n",
              "      fill: #1967D2;\n",
              "      height: 32px;\n",
              "      padding: 0 0 0 0;\n",
              "      width: 32px;\n",
              "    }\n",
              "\n",
              "    .colab-df-convert:hover {\n",
              "      background-color: #E2EBFA;\n",
              "      box-shadow: 0px 1px 2px rgba(60, 64, 67, 0.3), 0px 1px 3px 1px rgba(60, 64, 67, 0.15);\n",
              "      fill: #174EA6;\n",
              "    }\n",
              "\n",
              "    [theme=dark] .colab-df-convert {\n",
              "      background-color: #3B4455;\n",
              "      fill: #D2E3FC;\n",
              "    }\n",
              "\n",
              "    [theme=dark] .colab-df-convert:hover {\n",
              "      background-color: #434B5C;\n",
              "      box-shadow: 0px 1px 3px 1px rgba(0, 0, 0, 0.15);\n",
              "      filter: drop-shadow(0px 1px 2px rgba(0, 0, 0, 0.3));\n",
              "      fill: #FFFFFF;\n",
              "    }\n",
              "  </style>\n",
              "\n",
              "      <script>\n",
              "        const buttonEl =\n",
              "          document.querySelector('#df-c150b492-7e59-4336-b5b2-0da79b5db8d7 button.colab-df-convert');\n",
              "        buttonEl.style.display =\n",
              "          google.colab.kernel.accessAllowed ? 'block' : 'none';\n",
              "\n",
              "        async function convertToInteractive(key) {\n",
              "          const element = document.querySelector('#df-c150b492-7e59-4336-b5b2-0da79b5db8d7');\n",
              "          const dataTable =\n",
              "            await google.colab.kernel.invokeFunction('convertToInteractive',\n",
              "                                                     [key], {});\n",
              "          if (!dataTable) return;\n",
              "\n",
              "          const docLinkHtml = 'Like what you see? Visit the ' +\n",
              "            '<a target=\"_blank\" href=https://colab.research.google.com/notebooks/data_table.ipynb>data table notebook</a>'\n",
              "            + ' to learn more about interactive tables.';\n",
              "          element.innerHTML = '';\n",
              "          dataTable['output_type'] = 'display_data';\n",
              "          await google.colab.output.renderOutput(dataTable, element);\n",
              "          const docLink = document.createElement('div');\n",
              "          docLink.innerHTML = docLinkHtml;\n",
              "          element.appendChild(docLink);\n",
              "        }\n",
              "      </script>\n",
              "    </div>\n",
              "  </div>\n",
              "  "
            ]
          },
          "metadata": {}
        }
      ]
    },
    {
      "cell_type": "markdown",
      "metadata": {
        "id": "dytGonVfEfEB"
      },
      "source": [
        "### Preprocessing <a class=\"anchor\" id=\"data-prep\"></a>\n",
        "\n",
        "The column `df['Tenure']` contains missing values, let's take a look at them and decide what we can do to process them."
      ]
    },
    {
      "cell_type": "code",
      "execution_count": 3,
      "metadata": {
        "scrolled": true,
        "id": "442VjUbiEfEC",
        "outputId": "0702999a-67f3-42ca-ba1d-cd01b7ee8248",
        "colab": {
          "base_uri": "https://localhost:8080/"
        }
      },
      "outputs": [
        {
          "output_type": "execute_result",
          "data": {
            "text/plain": [
              "array([ 2.,  1.,  8.,  7.,  4.,  6.,  3., 10.,  5.,  9.,  0., nan])"
            ]
          },
          "metadata": {},
          "execution_count": 3
        }
      ],
      "source": [
        "df['Tenure'].unique()"
      ]
    },
    {
      "cell_type": "markdown",
      "metadata": {
        "id": "uJN-4TPPEfEC"
      },
      "source": [
        "The `df['Tenure']` column contains both zeros and NaN values. Let's count how many NaN values there are."
      ]
    },
    {
      "cell_type": "code",
      "execution_count": 4,
      "metadata": {
        "id": "uPWyBfmsEfEC",
        "colab": {
          "base_uri": "https://localhost:8080/"
        },
        "outputId": "48a6568d-3248-4a25-930c-ac4749eba47f"
      },
      "outputs": [
        {
          "output_type": "stream",
          "name": "stdout",
          "text": [
            "The amount of '0' in the 'Tenure' column: 382\n",
            "Amount of 'NaN': 909\n",
            "The total amount of missing values: 1291\n"
          ]
        }
      ],
      "source": [
        "# Calculate the number of 0s and NaNs in the Tenure column\n",
        "tenure_z = (df['Tenure'] == 0).sum()\n",
        "tenure_nan = df['Tenure'].isna().sum()\n",
        "\n",
        "# Calculate the total number of missing values in the Tenure column\n",
        "total_missing = tenure_nan + tenure_z\n",
        "\n",
        "# Print the results\n",
        "print(f\"The amount of '0' in the 'Tenure' column: {tenure_z}\")\n",
        "print(f\"Amount of 'NaN': {tenure_nan}\")\n",
        "print(f\"The total amount of missing values: {total_missing}\")"
      ]
    },
    {
      "cell_type": "markdown",
      "source": [
        "Given the input data, the `df['Tenure']` column contains information about how long a person has been a client of the bank. It can be assumed that the value of 0 corresponds to the fact that the person has been a client for less than a year.\n",
        "\n",
        "I assume that the NaN values are either incorrectly entered data or simply missing values, but the data may be needed for further work. We remove NaN values (with a placeholder of `\"-1\"`)."
      ],
      "metadata": {
        "id": "dpNdvV5wo9lP"
      }
    },
    {
      "cell_type": "code",
      "execution_count": 5,
      "metadata": {
        "id": "UjULj6UuEfED",
        "outputId": "0768e21a-cd2c-4ae6-ddbc-f19aaf90111e",
        "colab": {
          "base_uri": "https://localhost:8080/",
          "height": 270
        }
      },
      "outputs": [
        {
          "output_type": "execute_result",
          "data": {
            "text/plain": [
              "      RowNumber  CustomerId    Surname  CreditScore Geography  Gender  Age  \\\n",
              "9995       9996    15606229   Obijiaku          771    France    Male   39   \n",
              "9996       9997    15569892  Johnstone          516    France    Male   35   \n",
              "9997       9998    15584532        Liu          709    France  Female   36   \n",
              "9998       9999    15682355  Sabbatini          772   Germany    Male   42   \n",
              "9999      10000    15628319     Walker          792    France  Female   28   \n",
              "\n",
              "      Tenure    Balance  NumOfProducts  HasCrCard  IsActiveMember  \\\n",
              "9995     5.0       0.00              2          1               0   \n",
              "9996    10.0   57369.61              1          1               1   \n",
              "9997     7.0       0.00              1          0               1   \n",
              "9998     3.0   75075.31              2          1               0   \n",
              "9999    -1.0  130142.79              1          1               0   \n",
              "\n",
              "      EstimatedSalary  Exited  \n",
              "9995         96270.64       0  \n",
              "9996        101699.77       0  \n",
              "9997         42085.58       1  \n",
              "9998         92888.52       1  \n",
              "9999         38190.78       0  "
            ],
            "text/html": [
              "\n",
              "  <div id=\"df-7dd852b5-4ae3-4b0b-a7a1-32199cb37e27\">\n",
              "    <div class=\"colab-df-container\">\n",
              "      <div>\n",
              "<style scoped>\n",
              "    .dataframe tbody tr th:only-of-type {\n",
              "        vertical-align: middle;\n",
              "    }\n",
              "\n",
              "    .dataframe tbody tr th {\n",
              "        vertical-align: top;\n",
              "    }\n",
              "\n",
              "    .dataframe thead th {\n",
              "        text-align: right;\n",
              "    }\n",
              "</style>\n",
              "<table border=\"1\" class=\"dataframe\">\n",
              "  <thead>\n",
              "    <tr style=\"text-align: right;\">\n",
              "      <th></th>\n",
              "      <th>RowNumber</th>\n",
              "      <th>CustomerId</th>\n",
              "      <th>Surname</th>\n",
              "      <th>CreditScore</th>\n",
              "      <th>Geography</th>\n",
              "      <th>Gender</th>\n",
              "      <th>Age</th>\n",
              "      <th>Tenure</th>\n",
              "      <th>Balance</th>\n",
              "      <th>NumOfProducts</th>\n",
              "      <th>HasCrCard</th>\n",
              "      <th>IsActiveMember</th>\n",
              "      <th>EstimatedSalary</th>\n",
              "      <th>Exited</th>\n",
              "    </tr>\n",
              "  </thead>\n",
              "  <tbody>\n",
              "    <tr>\n",
              "      <th>9995</th>\n",
              "      <td>9996</td>\n",
              "      <td>15606229</td>\n",
              "      <td>Obijiaku</td>\n",
              "      <td>771</td>\n",
              "      <td>France</td>\n",
              "      <td>Male</td>\n",
              "      <td>39</td>\n",
              "      <td>5.0</td>\n",
              "      <td>0.00</td>\n",
              "      <td>2</td>\n",
              "      <td>1</td>\n",
              "      <td>0</td>\n",
              "      <td>96270.64</td>\n",
              "      <td>0</td>\n",
              "    </tr>\n",
              "    <tr>\n",
              "      <th>9996</th>\n",
              "      <td>9997</td>\n",
              "      <td>15569892</td>\n",
              "      <td>Johnstone</td>\n",
              "      <td>516</td>\n",
              "      <td>France</td>\n",
              "      <td>Male</td>\n",
              "      <td>35</td>\n",
              "      <td>10.0</td>\n",
              "      <td>57369.61</td>\n",
              "      <td>1</td>\n",
              "      <td>1</td>\n",
              "      <td>1</td>\n",
              "      <td>101699.77</td>\n",
              "      <td>0</td>\n",
              "    </tr>\n",
              "    <tr>\n",
              "      <th>9997</th>\n",
              "      <td>9998</td>\n",
              "      <td>15584532</td>\n",
              "      <td>Liu</td>\n",
              "      <td>709</td>\n",
              "      <td>France</td>\n",
              "      <td>Female</td>\n",
              "      <td>36</td>\n",
              "      <td>7.0</td>\n",
              "      <td>0.00</td>\n",
              "      <td>1</td>\n",
              "      <td>0</td>\n",
              "      <td>1</td>\n",
              "      <td>42085.58</td>\n",
              "      <td>1</td>\n",
              "    </tr>\n",
              "    <tr>\n",
              "      <th>9998</th>\n",
              "      <td>9999</td>\n",
              "      <td>15682355</td>\n",
              "      <td>Sabbatini</td>\n",
              "      <td>772</td>\n",
              "      <td>Germany</td>\n",
              "      <td>Male</td>\n",
              "      <td>42</td>\n",
              "      <td>3.0</td>\n",
              "      <td>75075.31</td>\n",
              "      <td>2</td>\n",
              "      <td>1</td>\n",
              "      <td>0</td>\n",
              "      <td>92888.52</td>\n",
              "      <td>1</td>\n",
              "    </tr>\n",
              "    <tr>\n",
              "      <th>9999</th>\n",
              "      <td>10000</td>\n",
              "      <td>15628319</td>\n",
              "      <td>Walker</td>\n",
              "      <td>792</td>\n",
              "      <td>France</td>\n",
              "      <td>Female</td>\n",
              "      <td>28</td>\n",
              "      <td>-1.0</td>\n",
              "      <td>130142.79</td>\n",
              "      <td>1</td>\n",
              "      <td>1</td>\n",
              "      <td>0</td>\n",
              "      <td>38190.78</td>\n",
              "      <td>0</td>\n",
              "    </tr>\n",
              "  </tbody>\n",
              "</table>\n",
              "</div>\n",
              "      <button class=\"colab-df-convert\" onclick=\"convertToInteractive('df-7dd852b5-4ae3-4b0b-a7a1-32199cb37e27')\"\n",
              "              title=\"Convert this dataframe to an interactive table.\"\n",
              "              style=\"display:none;\">\n",
              "        \n",
              "  <svg xmlns=\"http://www.w3.org/2000/svg\" height=\"24px\"viewBox=\"0 0 24 24\"\n",
              "       width=\"24px\">\n",
              "    <path d=\"M0 0h24v24H0V0z\" fill=\"none\"/>\n",
              "    <path d=\"M18.56 5.44l.94 2.06.94-2.06 2.06-.94-2.06-.94-.94-2.06-.94 2.06-2.06.94zm-11 1L8.5 8.5l.94-2.06 2.06-.94-2.06-.94L8.5 2.5l-.94 2.06-2.06.94zm10 10l.94 2.06.94-2.06 2.06-.94-2.06-.94-.94-2.06-.94 2.06-2.06.94z\"/><path d=\"M17.41 7.96l-1.37-1.37c-.4-.4-.92-.59-1.43-.59-.52 0-1.04.2-1.43.59L10.3 9.45l-7.72 7.72c-.78.78-.78 2.05 0 2.83L4 21.41c.39.39.9.59 1.41.59.51 0 1.02-.2 1.41-.59l7.78-7.78 2.81-2.81c.8-.78.8-2.07 0-2.86zM5.41 20L4 18.59l7.72-7.72 1.47 1.35L5.41 20z\"/>\n",
              "  </svg>\n",
              "      </button>\n",
              "      \n",
              "  <style>\n",
              "    .colab-df-container {\n",
              "      display:flex;\n",
              "      flex-wrap:wrap;\n",
              "      gap: 12px;\n",
              "    }\n",
              "\n",
              "    .colab-df-convert {\n",
              "      background-color: #E8F0FE;\n",
              "      border: none;\n",
              "      border-radius: 50%;\n",
              "      cursor: pointer;\n",
              "      display: none;\n",
              "      fill: #1967D2;\n",
              "      height: 32px;\n",
              "      padding: 0 0 0 0;\n",
              "      width: 32px;\n",
              "    }\n",
              "\n",
              "    .colab-df-convert:hover {\n",
              "      background-color: #E2EBFA;\n",
              "      box-shadow: 0px 1px 2px rgba(60, 64, 67, 0.3), 0px 1px 3px 1px rgba(60, 64, 67, 0.15);\n",
              "      fill: #174EA6;\n",
              "    }\n",
              "\n",
              "    [theme=dark] .colab-df-convert {\n",
              "      background-color: #3B4455;\n",
              "      fill: #D2E3FC;\n",
              "    }\n",
              "\n",
              "    [theme=dark] .colab-df-convert:hover {\n",
              "      background-color: #434B5C;\n",
              "      box-shadow: 0px 1px 3px 1px rgba(0, 0, 0, 0.15);\n",
              "      filter: drop-shadow(0px 1px 2px rgba(0, 0, 0, 0.3));\n",
              "      fill: #FFFFFF;\n",
              "    }\n",
              "  </style>\n",
              "\n",
              "      <script>\n",
              "        const buttonEl =\n",
              "          document.querySelector('#df-7dd852b5-4ae3-4b0b-a7a1-32199cb37e27 button.colab-df-convert');\n",
              "        buttonEl.style.display =\n",
              "          google.colab.kernel.accessAllowed ? 'block' : 'none';\n",
              "\n",
              "        async function convertToInteractive(key) {\n",
              "          const element = document.querySelector('#df-7dd852b5-4ae3-4b0b-a7a1-32199cb37e27');\n",
              "          const dataTable =\n",
              "            await google.colab.kernel.invokeFunction('convertToInteractive',\n",
              "                                                     [key], {});\n",
              "          if (!dataTable) return;\n",
              "\n",
              "          const docLinkHtml = 'Like what you see? Visit the ' +\n",
              "            '<a target=\"_blank\" href=https://colab.research.google.com/notebooks/data_table.ipynb>data table notebook</a>'\n",
              "            + ' to learn more about interactive tables.';\n",
              "          element.innerHTML = '';\n",
              "          dataTable['output_type'] = 'display_data';\n",
              "          await google.colab.output.renderOutput(dataTable, element);\n",
              "          const docLink = document.createElement('div');\n",
              "          docLink.innerHTML = docLinkHtml;\n",
              "          element.appendChild(docLink);\n",
              "        }\n",
              "      </script>\n",
              "    </div>\n",
              "  </div>\n",
              "  "
            ]
          },
          "metadata": {},
          "execution_count": 5
        }
      ],
      "source": [
        "df['Tenure'] = np.where((np.isnan(df.Tenure)), -1, df.Tenure)\n",
        "df.tail()"
      ]
    },
    {
      "cell_type": "markdown",
      "metadata": {
        "id": "LUUfAeECEfED"
      },
      "source": [
        "### Exploratory data analysis <a class=\"anchor\" id=\"data-eda\"></a>"
      ]
    },
    {
      "cell_type": "code",
      "execution_count": 6,
      "metadata": {
        "id": "0jPKo_23EfEE",
        "outputId": "a0447b52-7ad7-4932-a924-1cec1dfee934",
        "colab": {
          "base_uri": "https://localhost:8080/",
          "height": 1000
        }
      },
      "outputs": [
        {
          "output_type": "display_data",
          "data": {
            "text/plain": [
              "<Figure size 1080x360 with 2 Axes>"
            ],
            "image/png": "[encoded data removed]"
          },
          "metadata": {}
        },
        {
          "output_type": "display_data",
          "data": {
            "text/plain": [
              "<Figure size 1080x360 with 4 Axes>"
            ],
            "image/png": "[encoded data removed]"
          },
          "metadata": {}
        },
        {
          "output_type": "display_data",
          "data": {
            "text/plain": [
              "<Figure size 1080x360 with 4 Axes>"
            ],
            "image/png": "[encoded data removed]"
          },
          "metadata": {}
        },
        {
          "output_type": "display_data",
          "data": {
            "text/plain": [
              "<Figure size 1080x360 with 1 Axes>"
            ],
            "image/png": "[encoded data removed]"
          },
          "metadata": {}
        },
        {
          "output_type": "stream",
          "name": "stdout",
          "text": [
            "Mean values of the numerical columns:\n",
            "Credit Score: 651.0\n",
            "Age: 39.0\n",
            "Tenure: 4.0\n",
            "Balance: 76486.0\n",
            "Estimated Salary: 100090.24\n"
          ]
        }
      ],
      "source": [
        "sns.set(rc={'figure.figsize': (15, 5)}, color_codes=True, palette='colorblind')\n",
        "\n",
        "# Heatmap\n",
        "sns.heatmap(df.corr(), cbar=True, cmap='rocket', annot=True)\n",
        "plt.title('Correlation heatmap')\n",
        "plt.tight_layout()\n",
        "plt.show()\n",
        "\n",
        "# Set the figure size\n",
        "fig, axs = plt.subplots(ncols=4, figsize=(15, 5))\n",
        "\n",
        "# Create the first subplot with the first four columns\n",
        "sns.distplot(df['CreditScore'], ax=axs[0])\n",
        "sns.distplot(df['Age'], ax=axs[1])\n",
        "sns.distplot(df['Tenure'], ax=axs[2])\n",
        "sns.distplot(df['Balance'], ax=axs[3])\n",
        "\n",
        "# Set the figure size for the second subplot\n",
        "fig, axs = plt.subplots(ncols=4, figsize=(15, 5))\n",
        "\n",
        "# Create the second subplot with the remain columns\n",
        "sns.distplot(df['NumOfProducts'], ax=axs[0])\n",
        "sns.distplot(df['HasCrCard'], ax=axs[1])\n",
        "sns.distplot(df['IsActiveMember'], ax=axs[2])\n",
        "sns.distplot(df['EstimatedSalary'], ax=axs[3])\n",
        "plt.tight_layout()\n",
        "plt.show()\n",
        "\n",
        "# Countplot of the 'Exited' columns\n",
        "sns.countplot(df['Exited'])\n",
        "plt.tight_layout()\n",
        "plt.show()\n",
        "\n",
        "# Print the values\n",
        "print(f\"Mean values of the numerical columns:\")\n",
        "print(f\"Credit Score: {df['CreditScore'].mean().round()}\")\n",
        "print(f\"Age: {df['Age'].mean().round()}\")\n",
        "print(f\"Tenure: {df['Tenure'].mean().round()}\")\n",
        "print(f\"Balance: {df['Balance'].mean().round()}\")\n",
        "print(f\"Estimated Salary: {df['EstimatedSalary'].mean().round(2)}\")"
      ]
    },
    {
      "cell_type": "markdown",
      "metadata": {
        "id": "gxL6xDrLEfEE"
      },
      "source": [
        "### Datasets split <a class=\"anchor\" id=\"data-split\"></a>\n",
        "\n",
        "Preparing the features using one-hot encoding. The row number, surname, and customer ID are not required in this case and will be removed. The target feature for this task is the data in the `Exited` column. Prepare the features and target  accordingly, and at this stage, the dataset will be split in a 3:1:1 ratio."
      ]
    },
    {
      "cell_type": "code",
      "execution_count": 7,
      "metadata": {
        "id": "GBAPWjYFEfEF",
        "colab": {
          "base_uri": "https://localhost:8080/"
        },
        "outputId": "619cf258-ba89-4d40-e2b5-6859580f8b4f"
      },
      "outputs": [
        {
          "output_type": "stream",
          "name": "stdout",
          "text": [
            "Total size: 10000\n",
            "Training set proportion: 60%\n",
            "Validation set proportion: 20%\n",
            "Test set proportion: 20%\n"
          ]
        }
      ],
      "source": [
        "# Prepare data with one-hot encoding\n",
        "df_ohe = df.drop(['RowNumber', 'Surname', 'CustomerId'], axis=1)\n",
        "df_ohe = pd.get_dummies(df_ohe, drop_first=True)\n",
        "\n",
        "# Split data into training, validation, and test sets\n",
        "target = df_ohe['Exited']\n",
        "features = df_ohe.drop('Exited', axis=1)\n",
        "\n",
        "X_train, X_valid_test, y_train, y_valid_test = train_test_split(\n",
        "    features, target, test_size=0.4, stratify=target, random_state=8080\n",
        ")\n",
        "X_valid, X_test, y_valid, y_test = train_test_split(\n",
        "    X_valid_test, y_valid_test, test_size=0.5, stratify=y_valid_test, random_state=8080\n",
        ")\n",
        "\n",
        "# Print proportions of each set\n",
        "data_sets = {'Training': X_train,\n",
        "             'Validation': X_valid,\n",
        "             'Test': X_test\n",
        "}\n",
        "total_size = df_ohe.shape[0]\n",
        "\n",
        "print(f\"Total size: {total_size}\")\n",
        "\n",
        "for name, data in data_sets.items():\n",
        "    prop = data.shape[0] / total_size\n",
        "    print(f\"{name} set proportion: {prop:.0%}\")"
      ]
    },
    {
      "cell_type": "markdown",
      "metadata": {
        "id": "u8uf3MbNEfEG"
      },
      "source": [
        "Adding numerical features to the variable `numeric` and scaling the data."
      ]
    },
    {
      "cell_type": "code",
      "execution_count": 8,
      "metadata": {
        "id": "JoFkpinkEfEG"
      },
      "outputs": [],
      "source": [
        "numeric = ['CreditScore', 'Age', 'Tenure', 'Balance', 'NumOfProducts', 'EstimatedSalary']\n",
        "scaler = StandardScaler()\n",
        "scaler.fit(X_train[numeric])\n",
        "X_train[numeric] = scaler.transform(X_train[numeric])\n",
        "X_valid[numeric] = scaler.transform(X_valid[numeric])\n",
        "X_test[numeric] = scaler.transform(X_test[numeric])"
      ]
    },
    {
      "cell_type": "markdown",
      "metadata": {
        "id": "sxiuUseAEfEH"
      },
      "source": [
        "### Conclusion (Data)  <a class=\"anchor\" id=\"data-conclusion\"></a>\n",
        "\n",
        "1. During data preprocessing, missing values **NaN** were found in the Tenure column, and they were replaced with a placeholder value of `\"-1\"`. Zero values in the column accounted for *9%* of the data.\n",
        "2. During exploratory data analysis (EDA), it was observed that there was no strong dependence between the variables, and the data was mostly normally distributed. Also the following was determined:\n",
        "    - The average credit score was 651;\n",
        "    - The average age was 39 years;\n",
        "    - On average, clients worked with the bank for 5 years;\n",
        "    - The average salary for clients was around 100,000;\n",
        "    - Many clients had a balance of zero, but the average balance was 76,000;\n",
        "    - The number of products held by clients in descending order was 1, 2, 3+;\n",
        "    - More than half of the clients did not have a credit card;\n",
        "    - Approximately half of the entire sample of clients was active;\n",
        "    - 80% of clients remained with the bank.\n",
        "3. During the preparation of the datasets, *60%* was allocated for `training`, *20%* for `validation`, and *20%* for `test`. The `features` and `numerical features` were identified and scaled."
      ]
    },
    {
      "cell_type": "markdown",
      "metadata": {
        "id": "ENsyqsCrEfEH"
      },
      "source": [
        "## Class balance <a class=\"anchor\" id=\"class-balance\"></a>\n",
        "\n",
        "\n",
        "It is necessary to investigate the class balance. Given that during EDA it was determined that *80%* of customers remain with the bank, class imbalance is evident."
      ]
    },
    {
      "cell_type": "markdown",
      "source": [
        "### Models training <a class=\"anchor\" id=\"class-models-training\"></a>\n",
        "\n",
        "Training the `RandomForestClassifier` model without considering class imbalance, using hyperparameter tuning."
      ],
      "metadata": {
        "id": "CnZk2zw1xBvd"
      }
    },
    {
      "cell_type": "code",
      "source": [
        "%%time\n",
        "\n",
        "best_result = {'depth_rfc': 0, 'est': 0, 'auc_roc': 0, 'f1': 0}\n",
        "\n",
        "for depth_rfc in tqdm(range(15, 23, 1)):\n",
        "    for est in range(190, 220, 10):\n",
        "        model_rfc = RandomForestClassifier(\n",
        "            random_state=8080,\n",
        "            max_depth=depth_rfc,\n",
        "            n_estimators=est\n",
        "        )\n",
        "        model_rfc.fit(X_train, y_train)\n",
        "        predictions = model_rfc.predict(X_valid)\n",
        "        auc_roc_rfc = roc_auc_score(y_valid, predictions)\n",
        "        f1_rfc = f1_score(y_valid, predictions)\n",
        "        if auc_roc_rfc > best_result['auc_roc']:\n",
        "            best_result['depth_rfc'] = depth_rfc\n",
        "            best_result['est'] = est\n",
        "            best_result['auc_roc'] = auc_roc_rfc\n",
        "            best_result['f1'] = f1_rfc\n",
        "\n",
        "print(f\"\\nBest parameters and results:\")\n",
        "print(f\"max_depth: {best_result['depth_rfc']}\")\n",
        "print(f\"n_estimators: {best_result['est']}\")\n",
        "print(f\"auc_roc: {best_result['auc_roc']:.2f}\")\n",
        "print(f\"f1: {best_result['f1']:.2f}\")"
      ],
      "metadata": {
        "colab": {
          "base_uri": "https://localhost:8080/"
        },
        "id": "Alcl1MMLdqHk",
        "outputId": "f684c58d-cc40-4b72-9839-634646a4fcfe"
      },
      "execution_count": 9,
      "outputs": [
        {
          "output_type": "stream",
          "name": "stderr",
          "text": [
            "100%|██████████| 8/8 [01:06<00:00,  8.27s/it]"
          ]
        },
        {
          "output_type": "stream",
          "name": "stdout",
          "text": [
            "\n",
            "Best parameters and results:\n",
            "max_depth: 19\n",
            "n_estimators: 200\n",
            "auc_roc: 0.73\n",
            "f1: 0.60\n",
            "CPU times: user 53.9 s, sys: 251 ms, total: 54.2 s\n",
            "Wall time: 1min 6s\n"
          ]
        },
        {
          "output_type": "stream",
          "name": "stderr",
          "text": [
            "\n"
          ]
        }
      ]
    },
    {
      "cell_type": "markdown",
      "metadata": {
        "id": "j9W4IK7vEfEI"
      },
      "source": [
        "ROC curve for the model with the best parameters, added accuracy and recall."
      ]
    },
    {
      "cell_type": "code",
      "source": [
        "model_rfc = RandomForestClassifier(\n",
        "    random_state=8080,\n",
        "    max_depth=best_result['depth_rfc'],\n",
        "    n_estimators=best_result['est']\n",
        ")\n",
        "model_rfc.fit(X_train, y_train)\n",
        "predictions = model_rfc.predict(X_valid)\n",
        "auc_roc_rfc = roc_auc_score(y_valid, predictions)\n",
        "f1_rfc = f1_score(y_valid, predictions)\n",
        "accuracy_rfc = accuracy_score(y_valid, predictions)\n",
        "recall_rfc = recall_score(y_valid, predictions)\n",
        "\n",
        "probabilities_valid = model_rfc.predict_proba(X_valid)\n",
        "probabilities_one_valid = probabilities_valid[:, 1]\n",
        "\n",
        "fpr, tpr, thresholds = roc_curve(y_valid, probabilities_one_valid)\n",
        "\n",
        "plt.figure(figsize=(5, 5))\n",
        "plt.plot(fpr, tpr)\n",
        "plt.xlim([0.0, 1.0])\n",
        "plt.ylim([0.0, 1.0])\n",
        "plt.xlabel('False Positive Rate')\n",
        "plt.ylabel('True Positive Rate')\n",
        "plt.title('ROC RandomForestClassifier')\n",
        "\n",
        "plt.figure(figsize=(5, 5))\n",
        "plt.plot([0, 1], [0, 1], linestyle='--')\n",
        "plt.xlabel('False Positive Rate')\n",
        "plt.ylabel('True Positive Rate')\n",
        "plt.show()\n",
        "\n",
        "print(f\"ROC-AUC: {auc_roc_rfc:.2f}\")\n",
        "print(f\"F1: {f1_rfc:.2f}\")\n",
        "print(f\"Accuracy: {accuracy_rfc:.2f}\")\n",
        "print(f\"Recall: {recall_rfc:.2f}\")"
      ],
      "metadata": {
        "colab": {
          "base_uri": "https://localhost:8080/",
          "height": 746
        },
        "id": "MAQQCXCCiNsl",
        "outputId": "e5b0a386-0508-4d18-e817-fc11b988dd40"
      },
      "execution_count": 10,
      "outputs": [
        {
          "output_type": "display_data",
          "data": {
            "text/plain": [
              "<Figure size 360x360 with 1 Axes>"
            ],
            "image/png": "[encoded data removed]"
          },
          "metadata": {}
        },
        {
          "output_type": "display_data",
          "data": {
            "text/plain": [
              "<Figure size 360x360 with 1 Axes>"
            ],
            "image/png": "[encoded data removed]"
          },
          "metadata": {}
        },
        {
          "output_type": "stream",
          "name": "stdout",
          "text": [
            "ROC-AUC: 0.73\n",
            "F1: 0.60\n",
            "Accuracy: 0.87\n",
            "Recall: 0.48\n"
          ]
        }
      ]
    },
    {
      "cell_type": "markdown",
      "metadata": {
        "id": "pgC4V3pUEfEJ"
      },
      "source": [
        "Training the `LogisticRegression` model without considering class imbalance, using hyperparameter tuning."
      ]
    },
    {
      "cell_type": "code",
      "source": [
        "%%time\n",
        "\n",
        "solvers = ['newton-cg', 'lbfgs', 'liblinear']\n",
        "\n",
        "best_result = {'solver': '', 'max_iter': 0, 'auc_roc': 0, 'f1': 0}\n",
        "\n",
        "for solver in tqdm(solvers):\n",
        "    for max_iter in range(1, 20, 1):\n",
        "        model_lr = LogisticRegression(\n",
        "            random_state=8080,\n",
        "            penalty='l2',\n",
        "            solver=solver,\n",
        "            max_iter=max_iter)\n",
        "        model_lr.fit(X_train, y_train)\n",
        "        predictions = model_lr.predict(X_valid)\n",
        "        auc_roc_lr = roc_auc_score(y_valid, predictions)\n",
        "        f1_lr = f1_score(y_valid, predictions)\n",
        "        if auc_roc_lr > best_result['auc_roc']:\n",
        "            best_result['solver'] = solver\n",
        "            best_result['max_iter'] = max_iter\n",
        "            best_result['auc_roc'] = auc_roc_lr\n",
        "            best_result['f1'] = f1_lr\n",
        "\n",
        "print(f\"\\nBest parameters and results:\")\n",
        "print(f\"solver: {best_result['solver']}\")\n",
        "print(f\"max_iter: {best_result['max_iter']}\")\n",
        "print(f\"auc_roc: {best_result['auc_roc']:.2f}\")\n",
        "print(f\"f1: {best_result['f1']:.2f}\")"
      ],
      "metadata": {
        "colab": {
          "base_uri": "https://localhost:8080/"
        },
        "id": "sp9nrL2AjWAt",
        "outputId": "3c99be20-965a-4921-dc7b-2dbccdf7f026"
      },
      "execution_count": 11,
      "outputs": [
        {
          "output_type": "stream",
          "name": "stderr",
          "text": [
            "100%|██████████| 3/3 [00:01<00:00,  1.53it/s]"
          ]
        },
        {
          "output_type": "stream",
          "name": "stdout",
          "text": [
            "\n",
            "Best parameters and results:\n",
            "solver: lbfgs\n",
            "max_iter: 7\n",
            "auc_roc: 0.58\n",
            "f1: 0.31\n",
            "CPU times: user 2.1 s, sys: 1.57 s, total: 3.66 s\n",
            "Wall time: 1.98 s\n"
          ]
        },
        {
          "output_type": "stream",
          "name": "stderr",
          "text": [
            "\n"
          ]
        }
      ]
    },
    {
      "cell_type": "markdown",
      "metadata": {
        "id": "M_G17FLyEfEJ"
      },
      "source": [
        "ROC curve for the model with the best parameters, added accuracy and recall."
      ]
    },
    {
      "cell_type": "code",
      "source": [
        "model_lr = LogisticRegression(\n",
        "    random_state=8080,\n",
        "    penalty='l2',\n",
        "    solver=best_result['solver'], \n",
        "    max_iter=best_result['max_iter']\n",
        ")\n",
        "model_lr.fit(X_train, y_train)\n",
        "predictions = model_lr.predict(X_valid)\n",
        "auc_roc_lr = roc_auc_score(y_valid, predictions)\n",
        "f1_lr = f1_score(y_valid, predictions)\n",
        "accuracy_lr = accuracy_score(y_valid, predictions)\n",
        "recall_lr = recall_score(y_valid, predictions)\n",
        "\n",
        "probabilities_valid = model_lr.predict_proba(X_valid)\n",
        "probabilities_one_valid = probabilities_valid[:, 1]\n",
        "\n",
        "fpr, tpr, thresholds = roc_curve(y_valid, probabilities_one_valid)\n",
        "\n",
        "plt.figure(figsize=(5, 5))\n",
        "plt.plot(fpr, tpr)\n",
        "plt.xlim([0.0, 1.0])\n",
        "plt.ylim([0.0, 1.0])\n",
        "plt.xlabel('False Positive Rate')\n",
        "plt.ylabel('True Positive Rate')\n",
        "plt.title('ROC LogisticRegression')\n",
        "\n",
        "plt.figure(figsize=(5, 5))\n",
        "plt.plot([0, 1], [0, 1], linestyle='--')\n",
        "plt.xlabel('False Positive Rate')\n",
        "plt.ylabel('True Positive Rate')\n",
        "plt.show()\n",
        "\n",
        "print(f\"ROC-AUC: {auc_roc_lr:.2f}\")\n",
        "print(f\"F1: {f1_lr:.2f}\")\n",
        "print(f\"Accuracy: {accuracy_lr:.2f}\")\n",
        "print(f\"Recall: {recall_lr:.2f}\")"
      ],
      "metadata": {
        "colab": {
          "base_uri": "https://localhost:8080/",
          "height": 746
        },
        "id": "2EVjfVlnl-od",
        "outputId": "adc598dd-9af5-4a62-ed1d-1b7d41ca0aef"
      },
      "execution_count": 12,
      "outputs": [
        {
          "output_type": "display_data",
          "data": {
            "text/plain": [
              "<Figure size 360x360 with 1 Axes>"
            ],
            "image/png": "[encoded data removed]"
          },
          "metadata": {}
        },
        {
          "output_type": "display_data",
          "data": {
            "text/plain": [
              "<Figure size 360x360 with 1 Axes>"
            ],
            "image/png": "[encoded data removed]"
          },
          "metadata": {}
        },
        {
          "output_type": "stream",
          "name": "stdout",
          "text": [
            "ROC-AUC: 0.58\n",
            "F1: 0.31\n",
            "Accuracy: 0.81\n",
            "Recall: 0.21\n"
          ]
        }
      ]
    },
    {
      "cell_type": "markdown",
      "metadata": {
        "id": "ZT0wovRpEfEK"
      },
      "source": [
        "Training the `DecisionTreeClassifier` model without considering class imbalance, using hyperparameter tuning."
      ]
    },
    {
      "cell_type": "code",
      "source": [
        "%%time\n",
        "\n",
        "best_result = {\n",
        "    'depth_dtc': 0, 'features': None, 'samples': 0, 'auc_roc': 0, 'f1': 0\n",
        "}\n",
        "\n",
        "for depth_dtc in tqdm(range(1, 10)):\n",
        "    for feature in ['auto', 'sqrt', None]:\n",
        "        for samples in range(10, 20, 1):\n",
        "            model_dtc = DecisionTreeClassifier(\n",
        "                random_state=8080,\n",
        "                max_depth=depth_dtc,\n",
        "                max_features=feature,\n",
        "                min_samples_split=samples\n",
        "            )\n",
        "            model_dtc.fit(X_train, y_train)\n",
        "            predictions = model_dtc.predict(X_valid)\n",
        "            auc_roc_dtc = roc_auc_score(y_valid, predictions)\n",
        "            f1_dtc = f1_score(y_valid, predictions)\n",
        "            if auc_roc_dtc > best_result['auc_roc']:\n",
        "                best_result['depth_dtc'] = depth_dtc\n",
        "                best_result['features'] = feature\n",
        "                best_result['samples'] = samples\n",
        "                best_result['auc_roc'] = auc_roc_dtc\n",
        "                best_result['f1'] = f1_dtc\n",
        "\n",
        "print(f\"\\nBest parameters and results:\")\n",
        "print(f\"max_depth: {best_result['depth_dtc']}\")\n",
        "print(f\"max_features: {best_result['features']}\")\n",
        "print(f\"min_samples_split: {best_result['samples']}\")\n",
        "print(f\"auc_roc: {best_result['auc_roc']:.2f}\")\n",
        "print(f\"f1: {best_result['f1']:.2f}\")"
      ],
      "metadata": {
        "colab": {
          "base_uri": "https://localhost:8080/"
        },
        "id": "CsdbLB8KnLi0",
        "outputId": "44cdd940-5c7b-4f7c-bfa0-64ac58642584"
      },
      "execution_count": 13,
      "outputs": [
        {
          "output_type": "stream",
          "name": "stderr",
          "text": [
            "100%|██████████| 9/9 [00:04<00:00,  2.02it/s]"
          ]
        },
        {
          "output_type": "stream",
          "name": "stdout",
          "text": [
            "\n",
            "Best parameters and results:\n",
            "max_depth: 9\n",
            "max_features: None\n",
            "min_samples_split: 17\n",
            "auc_roc: 0.72\n",
            "f1: 0.58\n",
            "CPU times: user 4.41 s, sys: 25.3 ms, total: 4.44 s\n",
            "Wall time: 4.47 s\n"
          ]
        },
        {
          "output_type": "stream",
          "name": "stderr",
          "text": [
            "\n"
          ]
        }
      ]
    },
    {
      "cell_type": "markdown",
      "metadata": {
        "id": "DVMGfFDgEfEL"
      },
      "source": [
        "ROC curve for the model with the best parameters, added accuracy and recall."
      ]
    },
    {
      "cell_type": "code",
      "execution_count": 14,
      "metadata": {
        "id": "VDPB-iLvEfEL",
        "outputId": "b25ca1d1-d97e-4397-f489-75ef6e287d69",
        "colab": {
          "base_uri": "https://localhost:8080/",
          "height": 746
        }
      },
      "outputs": [
        {
          "output_type": "display_data",
          "data": {
            "text/plain": [
              "<Figure size 360x360 with 1 Axes>"
            ],
            "image/png": "[encoded data removed]"
          },
          "metadata": {}
        },
        {
          "output_type": "display_data",
          "data": {
            "text/plain": [
              "<Figure size 360x360 with 1 Axes>"
            ],
            "image/png": "[encoded data removed]"
          },
          "metadata": {}
        },
        {
          "output_type": "stream",
          "name": "stdout",
          "text": [
            "ROC-AUC: 0.72\n",
            "F1: 0.58\n",
            "Accuracy: 0.85\n",
            "Recall: 0.49\n"
          ]
        }
      ],
      "source": [
        "model_dtc = DecisionTreeClassifier(\n",
        "    random_state=8080,\n",
        "    max_depth=best_result['depth_dtc'],\n",
        "    max_features=best_result['features'],\n",
        "    min_samples_split=best_result['samples']\n",
        ")\n",
        "model_dtc.fit(X_train, y_train)\n",
        "predictions = model_dtc.predict(X_valid)\n",
        "auc_roc_dtc = roc_auc_score(y_valid, predictions)\n",
        "f1_dtc = f1_score(y_valid, predictions)\n",
        "accuracy_dtc = accuracy_score(y_valid, predictions)\n",
        "recall_dtc = recall_score(y_valid, predictions)\n",
        "\n",
        "probabilities_valid = model_dtc.predict_proba(X_valid)\n",
        "probabilities_one_valid = probabilities_valid[:, 1]\n",
        "\n",
        "fpr, tpr, thresholds = roc_curve(y_valid, probabilities_one_valid)\n",
        "\n",
        "plt.figure(figsize=(5, 5))\n",
        "plt.plot(fpr, tpr)\n",
        "plt.xlim([0.0, 1.0])\n",
        "plt.ylim([0.0, 1.0])\n",
        "plt.xlabel('False Positive Rate')\n",
        "plt.ylabel('True Positive Rate')\n",
        "plt.title('ROC DecisionTreeClassifier')\n",
        "\n",
        "plt.figure(figsize=(5, 5))\n",
        "plt.plot([0, 1], [0, 1], linestyle='--')\n",
        "plt.xlabel('False Positive Rate')\n",
        "plt.ylabel('True Positive Rate')\n",
        "plt.show()\n",
        "\n",
        "print(f\"ROC-AUC: {auc_roc_dtc:.2f}\")\n",
        "print(f\"F1: {f1_dtc:.2f}\")\n",
        "print(f\"Accuracy: {accuracy_dtc:.2f}\")\n",
        "print(f\"Recall: {recall_dtc:.2f}\")"
      ]
    },
    {
      "cell_type": "code",
      "source": [
        "# Collecting results in dataframe\n",
        "data = {\n",
        "    'Model': ['RandomForestClassifier', 'LogisticRegression', 'DecisionTreeClassifier'],\n",
        "    'ROC-AUC': [round(auc_roc_rfc, 2), round(auc_roc_lr, 2), round(auc_roc_dtc, 2)],\n",
        "    'F1': [round(f1_rfc, 2), round(f1_lr, 2), round(f1_dtc, 2)],\n",
        "    'Accuracy': [round(accuracy_rfc, 2), round(accuracy_lr, 2), round(accuracy_dtc, 2)],\n",
        "    'Recall': [round(recall_rfc, 2), round(recall_lr, 2), round(recall_dtc, 2)],\n",
        "    'Dataset': ['Unbalanced', 'Unbalanced', 'Unbalanced']\n",
        "}\n",
        "\n",
        "results = pd.DataFrame(data)\n",
        "results"
      ],
      "metadata": {
        "colab": {
          "base_uri": "https://localhost:8080/",
          "height": 143
        },
        "id": "i7ygUfFgKN_t",
        "outputId": "704d45b7-ac37-491b-ca71-0f1c5844d95e"
      },
      "execution_count": 15,
      "outputs": [
        {
          "output_type": "execute_result",
          "data": {
            "text/plain": [
              "                    Model  ROC-AUC    F1  Accuracy  Recall     Dataset\n",
              "0  RandomForestClassifier     0.73  0.60      0.87    0.48  Unbalanced\n",
              "1      LogisticRegression     0.58  0.31      0.81    0.21  Unbalanced\n",
              "2  DecisionTreeClassifier     0.72  0.58      0.85    0.49  Unbalanced"
            ],
            "text/html": [
              "\n",
              "  <div id=\"df-f761749a-6035-455e-9c37-55c80a908cef\">\n",
              "    <div class=\"colab-df-container\">\n",
              "      <div>\n",
              "<style scoped>\n",
              "    .dataframe tbody tr th:only-of-type {\n",
              "        vertical-align: middle;\n",
              "    }\n",
              "\n",
              "    .dataframe tbody tr th {\n",
              "        vertical-align: top;\n",
              "    }\n",
              "\n",
              "    .dataframe thead th {\n",
              "        text-align: right;\n",
              "    }\n",
              "</style>\n",
              "<table border=\"1\" class=\"dataframe\">\n",
              "  <thead>\n",
              "    <tr style=\"text-align: right;\">\n",
              "      <th></th>\n",
              "      <th>Model</th>\n",
              "      <th>ROC-AUC</th>\n",
              "      <th>F1</th>\n",
              "      <th>Accuracy</th>\n",
              "      <th>Recall</th>\n",
              "      <th>Dataset</th>\n",
              "    </tr>\n",
              "  </thead>\n",
              "  <tbody>\n",
              "    <tr>\n",
              "      <th>0</th>\n",
              "      <td>RandomForestClassifier</td>\n",
              "      <td>0.73</td>\n",
              "      <td>0.60</td>\n",
              "      <td>0.87</td>\n",
              "      <td>0.48</td>\n",
              "      <td>Unbalanced</td>\n",
              "    </tr>\n",
              "    <tr>\n",
              "      <th>1</th>\n",
              "      <td>LogisticRegression</td>\n",
              "      <td>0.58</td>\n",
              "      <td>0.31</td>\n",
              "      <td>0.81</td>\n",
              "      <td>0.21</td>\n",
              "      <td>Unbalanced</td>\n",
              "    </tr>\n",
              "    <tr>\n",
              "      <th>2</th>\n",
              "      <td>DecisionTreeClassifier</td>\n",
              "      <td>0.72</td>\n",
              "      <td>0.58</td>\n",
              "      <td>0.85</td>\n",
              "      <td>0.49</td>\n",
              "      <td>Unbalanced</td>\n",
              "    </tr>\n",
              "  </tbody>\n",
              "</table>\n",
              "</div>\n",
              "      <button class=\"colab-df-convert\" onclick=\"convertToInteractive('df-f761749a-6035-455e-9c37-55c80a908cef')\"\n",
              "              title=\"Convert this dataframe to an interactive table.\"\n",
              "              style=\"display:none;\">\n",
              "        \n",
              "  <svg xmlns=\"http://www.w3.org/2000/svg\" height=\"24px\"viewBox=\"0 0 24 24\"\n",
              "       width=\"24px\">\n",
              "    <path d=\"M0 0h24v24H0V0z\" fill=\"none\"/>\n",
              "    <path d=\"M18.56 5.44l.94 2.06.94-2.06 2.06-.94-2.06-.94-.94-2.06-.94 2.06-2.06.94zm-11 1L8.5 8.5l.94-2.06 2.06-.94-2.06-.94L8.5 2.5l-.94 2.06-2.06.94zm10 10l.94 2.06.94-2.06 2.06-.94-2.06-.94-.94-2.06-.94 2.06-2.06.94z\"/><path d=\"M17.41 7.96l-1.37-1.37c-.4-.4-.92-.59-1.43-.59-.52 0-1.04.2-1.43.59L10.3 9.45l-7.72 7.72c-.78.78-.78 2.05 0 2.83L4 21.41c.39.39.9.59 1.41.59.51 0 1.02-.2 1.41-.59l7.78-7.78 2.81-2.81c.8-.78.8-2.07 0-2.86zM5.41 20L4 18.59l7.72-7.72 1.47 1.35L5.41 20z\"/>\n",
              "  </svg>\n",
              "      </button>\n",
              "      \n",
              "  <style>\n",
              "    .colab-df-container {\n",
              "      display:flex;\n",
              "      flex-wrap:wrap;\n",
              "      gap: 12px;\n",
              "    }\n",
              "\n",
              "    .colab-df-convert {\n",
              "      background-color: #E8F0FE;\n",
              "      border: none;\n",
              "      border-radius: 50%;\n",
              "      cursor: pointer;\n",
              "      display: none;\n",
              "      fill: #1967D2;\n",
              "      height: 32px;\n",
              "      padding: 0 0 0 0;\n",
              "      width: 32px;\n",
              "    }\n",
              "\n",
              "    .colab-df-convert:hover {\n",
              "      background-color: #E2EBFA;\n",
              "      box-shadow: 0px 1px 2px rgba(60, 64, 67, 0.3), 0px 1px 3px 1px rgba(60, 64, 67, 0.15);\n",
              "      fill: #174EA6;\n",
              "    }\n",
              "\n",
              "    [theme=dark] .colab-df-convert {\n",
              "      background-color: #3B4455;\n",
              "      fill: #D2E3FC;\n",
              "    }\n",
              "\n",
              "    [theme=dark] .colab-df-convert:hover {\n",
              "      background-color: #434B5C;\n",
              "      box-shadow: 0px 1px 3px 1px rgba(0, 0, 0, 0.15);\n",
              "      filter: drop-shadow(0px 1px 2px rgba(0, 0, 0, 0.3));\n",
              "      fill: #FFFFFF;\n",
              "    }\n",
              "  </style>\n",
              "\n",
              "      <script>\n",
              "        const buttonEl =\n",
              "          document.querySelector('#df-f761749a-6035-455e-9c37-55c80a908cef button.colab-df-convert');\n",
              "        buttonEl.style.display =\n",
              "          google.colab.kernel.accessAllowed ? 'block' : 'none';\n",
              "\n",
              "        async function convertToInteractive(key) {\n",
              "          const element = document.querySelector('#df-f761749a-6035-455e-9c37-55c80a908cef');\n",
              "          const dataTable =\n",
              "            await google.colab.kernel.invokeFunction('convertToInteractive',\n",
              "                                                     [key], {});\n",
              "          if (!dataTable) return;\n",
              "\n",
              "          const docLinkHtml = 'Like what you see? Visit the ' +\n",
              "            '<a target=\"_blank\" href=https://colab.research.google.com/notebooks/data_table.ipynb>data table notebook</a>'\n",
              "            + ' to learn more about interactive tables.';\n",
              "          element.innerHTML = '';\n",
              "          dataTable['output_type'] = 'display_data';\n",
              "          await google.colab.output.renderOutput(dataTable, element);\n",
              "          const docLink = document.createElement('div');\n",
              "          docLink.innerHTML = docLinkHtml;\n",
              "          element.appendChild(docLink);\n",
              "        }\n",
              "      </script>\n",
              "    </div>\n",
              "  </div>\n",
              "  "
            ]
          },
          "metadata": {},
          "execution_count": 15
        }
      ]
    },
    {
      "cell_type": "markdown",
      "metadata": {
        "id": "vVOC-Io2EfEM"
      },
      "source": [
        "### Conclusion <a class=\"anchor\" id=\"class-conslusion\"></a>\n",
        "During the research, it was found that the class imbalance was *80%* and *20%*. The models `RandomForestClassifier`, `LogisticRegression`, and `DecisionTreeClassifier` were trained. The best hyperparameters were selected by tuning them in the loop.\n",
        "\n",
        "The highest score was obtained by the `RandomForestClassifier (max_depth=18; n_estimators=210)` model."
      ]
    },
    {
      "cell_type": "markdown",
      "metadata": {
        "id": "4pXV_2AoEfEN"
      },
      "source": [
        "## Balancing the classes <a class=\"anchor\" id=\"balancing-the-classes\"></a>"
      ]
    },
    {
      "cell_type": "markdown",
      "source": [
        "### Upsampling <a class=\"anchor\" id=\"balancing-upsampling\"></a>\n",
        "\n",
        "To restore balance of the classes (rebalancing), will be applied Upsampling - increasing the dataset size."
      ],
      "metadata": {
        "id": "IaOAvceluKIr"
      }
    },
    {
      "cell_type": "code",
      "source": [
        "def upsample(features, target, repeat):\n",
        "    \"\"\"\n",
        "    1. Separate the features and target by class\n",
        "    2. Create new upsampled dataset by concatenating\n",
        "    the minority class with itself 'repeat' times\n",
        "    3. Shuffle the upsampled dataset\n",
        "    4. Display shapes of original classes\n",
        "    \"\"\"\n",
        "    X_zeros = features[target == 0]\n",
        "    X_ones = features[target == 1]\n",
        "    y_zeros = target[target == 0]\n",
        "    y_ones = target[target == 1]\n",
        "\n",
        "    X_upsampled = pd.concat([X_zeros] + [X_ones] * repeat)\n",
        "    y_upsampled = pd.concat([y_zeros] + [y_ones] * repeat)\n",
        "    \n",
        "    X_upsampled, y_upsampled = shuffle(\n",
        "        X_upsampled, y_upsampled, random_state=8080\n",
        "    )\n",
        "    \n",
        "    display(X_zeros.shape)\n",
        "    display(X_ones.shape)\n",
        "    display(y_zeros.shape)\n",
        "    display(y_ones.shape)\n",
        "    \n",
        "    return X_upsampled, y_upsampled\n",
        "\n",
        "# Example usage: upsample X_train and y_train with repeat=10\n",
        "X_upsampled, y_upsampled = upsample(X_train, y_train, 10)"
      ],
      "metadata": {
        "colab": {
          "base_uri": "https://localhost:8080/",
          "height": 86
        },
        "id": "RZfw-w6fu_2t",
        "outputId": "89958f96-b1bb-49c0-f74d-7e2069624cb9"
      },
      "execution_count": 16,
      "outputs": [
        {
          "output_type": "display_data",
          "data": {
            "text/plain": [
              "(4778, 11)"
            ]
          },
          "metadata": {}
        },
        {
          "output_type": "display_data",
          "data": {
            "text/plain": [
              "(1222, 11)"
            ]
          },
          "metadata": {}
        },
        {
          "output_type": "display_data",
          "data": {
            "text/plain": [
              "(4778,)"
            ]
          },
          "metadata": {}
        },
        {
          "output_type": "display_data",
          "data": {
            "text/plain": [
              "(1222,)"
            ]
          },
          "metadata": {}
        }
      ]
    },
    {
      "cell_type": "markdown",
      "metadata": {
        "id": "cB9iioMoEfEO"
      },
      "source": [
        "**Models training**\n",
        "\n",
        "Training the model on the new upsampled dataset and searching for the best hyperparameters.\n",
        "\n",
        "`RandomForestClassifier`:"
      ]
    },
    {
      "cell_type": "code",
      "source": [
        "%%time\n",
        "\n",
        "best_result = {'depth': 0, 'est': 0, 'auc_roc': 0, 'f1': 0}\n",
        "\n",
        "for depth in tqdm(range(15, 20, 1)):\n",
        "    for est in range(150, 200, 10):\n",
        "        model_rfc = RandomForestClassifier(\n",
        "            random_state=8080,\n",
        "            max_depth=depth,\n",
        "            n_estimators=est\n",
        "        )\n",
        "        model_rfc.fit(X_upsampled, y_upsampled)\n",
        "        predictions = model_rfc.predict(X_valid)\n",
        "        auc_roc_rfc = roc_auc_score(y_valid, predictions)\n",
        "        f1_rfc = f1_score(y_valid, predictions)\n",
        "        if auc_roc_rfc > best_result['auc_roc']:\n",
        "            best_result['depth'] = depth\n",
        "            best_result['est'] = est\n",
        "            best_result['auc_roc'] = auc_roc_rfc\n",
        "            best_result['f1'] = f1_rfc\n",
        "\n",
        "print(f\"\\nBest parameters and results:\")\n",
        "print(f\"max_depth: {best_result['depth']}\")\n",
        "print(f\"n_estimators: {best_result['est']}\")\n",
        "print(f\"auc_roc: {best_result['auc_roc']:.2f}\")\n",
        "print(f\"f1: {best_result['f1']:.2f}\")"
      ],
      "metadata": {
        "colab": {
          "base_uri": "https://localhost:8080/"
        },
        "id": "AzKRMIflxK5i",
        "outputId": "f6d5576b-e5b0-4654-bbdc-2357b9220014"
      },
      "execution_count": 17,
      "outputs": [
        {
          "output_type": "stream",
          "name": "stderr",
          "text": [
            "100%|██████████| 5/5 [01:29<00:00, 17.81s/it]"
          ]
        },
        {
          "output_type": "stream",
          "name": "stdout",
          "text": [
            "\n",
            "Best parameters and results:\n",
            "max_depth: 16\n",
            "n_estimators: 180\n",
            "auc_roc: 0.75\n",
            "f1: 0.61\n",
            "CPU times: user 1min 20s, sys: 306 ms, total: 1min 21s\n",
            "Wall time: 1min 29s\n"
          ]
        },
        {
          "output_type": "stream",
          "name": "stderr",
          "text": [
            "\n"
          ]
        }
      ]
    },
    {
      "cell_type": "code",
      "execution_count": 18,
      "metadata": {
        "scrolled": true,
        "id": "Xn5p2TOsEfEO"
      },
      "outputs": [],
      "source": [
        "model_rfc = RandomForestClassifier(\n",
        "    random_state=8080,\n",
        "    max_depth=best_result['depth'],\n",
        "    n_estimators=best_result['est']\n",
        ")\n",
        "model_rfc.fit(X_upsampled, y_upsampled)\n",
        "predictions = model_rfc.predict(X_valid)\n",
        "auc_roc_rfc = roc_auc_score(y_valid, predictions)\n",
        "f1_rfc = f1_score(y_valid, predictions)\n",
        "accuracy_rfc = accuracy_score(y_valid, predictions)\n",
        "recall_rfc = recall_score(y_valid, predictions)"
      ]
    },
    {
      "cell_type": "markdown",
      "source": [
        "`LogisticRegression`:"
      ],
      "metadata": {
        "id": "hY3CptSM4NdO"
      }
    },
    {
      "cell_type": "code",
      "source": [
        "%%time\n",
        "\n",
        "solvers = ['newton-cg', 'lbfgs', 'liblinear']\n",
        "\n",
        "best_result = {'solver': '', 'max_iter': 0, 'auc_roc': 0, 'f1': 0}\n",
        "\n",
        "for solver in tqdm(solvers):\n",
        "    for max_iter in range(1, 20, 1):\n",
        "        model_lr = LogisticRegression(\n",
        "            random_state=8080,\n",
        "            penalty='l2',\n",
        "            solver=solver,\n",
        "            max_iter=max_iter)\n",
        "        model_lr.fit(X_upsampled, y_upsampled)\n",
        "        predictions = model_lr.predict(X_valid)\n",
        "        auc_roc_lr = roc_auc_score(y_valid, predictions)\n",
        "        f1_lr = f1_score(y_valid, predictions)\n",
        "        if auc_roc_lr > best_result['auc_roc']:\n",
        "            best_result['solver'] = solver\n",
        "            best_result['max_iter'] = max_iter\n",
        "            best_result['auc_roc'] = auc_roc_lr\n",
        "            best_result['f1'] = f1_lr\n",
        "\n",
        "print(f\"\\nBest parameters and results:\")\n",
        "print(f\"solver: {best_result['solver']}\")\n",
        "print(f\"max_iter: {best_result['max_iter']}\")\n",
        "print(f\"auc_roc: {best_result['auc_roc']:.2f}\")\n",
        "print(f\"f1: {best_result['f1']:.2f}\")"
      ],
      "metadata": {
        "colab": {
          "base_uri": "https://localhost:8080/"
        },
        "id": "VM0Qs2fp4KnT",
        "outputId": "52df12ba-a4c9-4b25-cb50-5641e518a04a"
      },
      "execution_count": 19,
      "outputs": [
        {
          "output_type": "stream",
          "name": "stderr",
          "text": [
            "100%|██████████| 3/3 [00:03<00:00,  1.25s/it]"
          ]
        },
        {
          "output_type": "stream",
          "name": "stdout",
          "text": [
            "\n",
            "Best parameters and results:\n",
            "solver: newton-cg\n",
            "max_iter: 2\n",
            "auc_roc: 0.66\n",
            "f1: 0.43\n",
            "CPU times: user 4.08 s, sys: 2.93 s, total: 7 s\n",
            "Wall time: 3.76 s\n"
          ]
        },
        {
          "output_type": "stream",
          "name": "stderr",
          "text": [
            "\n"
          ]
        }
      ]
    },
    {
      "cell_type": "code",
      "execution_count": 20,
      "metadata": {
        "id": "nl4lUwJwEfEQ"
      },
      "outputs": [],
      "source": [
        "model_lr = LogisticRegression(\n",
        "    random_state=8080,\n",
        "    penalty='l2',\n",
        "    solver=best_result['solver'],\n",
        "    max_iter=best_result['max_iter']\n",
        ")\n",
        "model_lr.fit(X_upsampled, y_upsampled)\n",
        "predictions = model_lr.predict(X_valid)\n",
        "auc_roc_lr = roc_auc_score(y_valid, predictions)\n",
        "f1_lr = f1_score(y_valid, predictions)\n",
        "accuracy_lr = accuracy_score(y_valid, predictions)\n",
        "recall_lr = recall_score(y_valid, predictions)"
      ]
    },
    {
      "cell_type": "markdown",
      "metadata": {
        "id": "jHNuFC0aEfEP"
      },
      "source": [
        "`DecisionTreeClassifier`:"
      ]
    },
    {
      "cell_type": "code",
      "source": [
        "%%time\n",
        "\n",
        "best_result = {\n",
        "    'depth': 0, 'features': None, 'samples': 0, 'auc_roc': 0, 'f1': 0\n",
        "}\n",
        "\n",
        "for depth in tqdm(range(1, 10)):\n",
        "    for feature in ['auto', 'sqrt', None]:\n",
        "        for samples in range(2, 10, 1):\n",
        "            model_dtc = DecisionTreeClassifier(\n",
        "                random_state=8080,\n",
        "                max_depth=depth,\n",
        "                max_features=feature,\n",
        "                min_samples_split=samples\n",
        "            )\n",
        "            model_dtc.fit(X_upsampled, y_upsampled)\n",
        "            predictions = model_dtc.predict(X_valid)\n",
        "            auc_roc_dtc = roc_auc_score(y_valid, predictions)\n",
        "            f1_dtc = f1_score(y_valid, predictions)\n",
        "            if auc_roc_dtc > best_result['auc_roc']:\n",
        "                best_result['depth'] = depth\n",
        "                best_result['features'] = feature\n",
        "                best_result['samples'] = samples\n",
        "                best_result['auc_roc'] = auc_roc_dtc\n",
        "                best_result['f1'] = f1_dtc\n",
        "\n",
        "print(f\"\\nBest parameters and results:\")\n",
        "print(f\"max_depth: {best_result['depth']}\")\n",
        "print(f\"max_features: {best_result['features']}\")\n",
        "print(f\"min_samples_split: {best_result['samples']}\")\n",
        "print(f\"auc_roc: {best_result['auc_roc']:.2f}\")\n",
        "print(f\"f1: {best_result['f1']:.2f}\")"
      ],
      "metadata": {
        "colab": {
          "base_uri": "https://localhost:8080/"
        },
        "id": "LTFgNNzS5UNp",
        "outputId": "bca5722a-45ce-4905-a347-6dad4f0ad39a"
      },
      "execution_count": 21,
      "outputs": [
        {
          "output_type": "stream",
          "name": "stderr",
          "text": [
            "100%|██████████| 9/9 [00:05<00:00,  1.67it/s]"
          ]
        },
        {
          "output_type": "stream",
          "name": "stdout",
          "text": [
            "\n",
            "Best parameters and results:\n",
            "max_depth: 7\n",
            "max_features: None\n",
            "min_samples_split: 2\n",
            "auc_roc: 0.75\n",
            "f1: 0.53\n",
            "CPU times: user 5.37 s, sys: 89.8 ms, total: 5.46 s\n",
            "Wall time: 5.42 s\n"
          ]
        },
        {
          "output_type": "stream",
          "name": "stderr",
          "text": [
            "\n"
          ]
        }
      ]
    },
    {
      "cell_type": "code",
      "execution_count": 22,
      "metadata": {
        "id": "RwCmZDg4EfEQ"
      },
      "outputs": [],
      "source": [
        "model_dtc = DecisionTreeClassifier(\n",
        "    random_state=8080,\n",
        "    max_depth=best_result['depth'],\n",
        "    max_features=best_result['features'],\n",
        "    min_samples_split=best_result['samples']\n",
        ")\n",
        "model_dtc.fit(X_upsampled, y_upsampled)\n",
        "predictions = model_dtc.predict(X_valid)\n",
        "auc_roc_dtc = roc_auc_score(y_valid, predictions)\n",
        "f1_dtc = f1_score(y_valid, predictions)\n",
        "accuracy_dtc = accuracy_score(y_valid, predictions)\n",
        "recall_dtc = recall_score(y_valid, predictions)"
      ]
    },
    {
      "cell_type": "markdown",
      "source": [
        "Evaluation metrics of trained models on upsampled dataset:"
      ],
      "metadata": {
        "id": "vcE385CescVL"
      }
    },
    {
      "cell_type": "code",
      "source": [
        "data = {\n",
        "    'Model': ['RandomForestClassifier', 'LogisticRegression', 'DecisionTreeClassifier'],\n",
        "    'ROC-AUC': [round(auc_roc_rfc, 2), round(auc_roc_lr, 2), round(auc_roc_dtc, 2)],\n",
        "    'F1': [round(f1_rfc, 2), round(f1_lr, 2), round(f1_dtc, 2)],\n",
        "    'Accuracy': [round(accuracy_rfc, 2), round(accuracy_lr, 2), round(accuracy_dtc, 2)],\n",
        "    'Recall': [round(recall_rfc, 2), round(recall_lr, 2), round(recall_dtc, 2)],\n",
        "    'Dataset': ['Upsampled', 'Upsampled', 'Upsampled']\n",
        "}\n",
        "\n",
        "results_upsampled = pd.DataFrame(data)\n",
        "results_upsampled"
      ],
      "metadata": {
        "colab": {
          "base_uri": "https://localhost:8080/",
          "height": 143
        },
        "id": "UIMy3PvMBsTf",
        "outputId": "78808aec-82cf-4df5-811b-5b53ee511f58"
      },
      "execution_count": 23,
      "outputs": [
        {
          "output_type": "execute_result",
          "data": {
            "text/plain": [
              "                    Model  ROC-AUC    F1  Accuracy  Recall    Dataset\n",
              "0  RandomForestClassifier     0.75  0.61      0.84    0.59  Upsampled\n",
              "1      LogisticRegression     0.66  0.43      0.52    0.89  Upsampled\n",
              "2  DecisionTreeClassifier     0.75  0.53      0.70    0.83  Upsampled"
            ],
            "text/html": [
              "\n",
              "  <div id=\"df-0c274e11-9d71-4969-be33-82909e1a1bd2\">\n",
              "    <div class=\"colab-df-container\">\n",
              "      <div>\n",
              "<style scoped>\n",
              "    .dataframe tbody tr th:only-of-type {\n",
              "        vertical-align: middle;\n",
              "    }\n",
              "\n",
              "    .dataframe tbody tr th {\n",
              "        vertical-align: top;\n",
              "    }\n",
              "\n",
              "    .dataframe thead th {\n",
              "        text-align: right;\n",
              "    }\n",
              "</style>\n",
              "<table border=\"1\" class=\"dataframe\">\n",
              "  <thead>\n",
              "    <tr style=\"text-align: right;\">\n",
              "      <th></th>\n",
              "      <th>Model</th>\n",
              "      <th>ROC-AUC</th>\n",
              "      <th>F1</th>\n",
              "      <th>Accuracy</th>\n",
              "      <th>Recall</th>\n",
              "      <th>Dataset</th>\n",
              "    </tr>\n",
              "  </thead>\n",
              "  <tbody>\n",
              "    <tr>\n",
              "      <th>0</th>\n",
              "      <td>RandomForestClassifier</td>\n",
              "      <td>0.75</td>\n",
              "      <td>0.61</td>\n",
              "      <td>0.84</td>\n",
              "      <td>0.59</td>\n",
              "      <td>Upsampled</td>\n",
              "    </tr>\n",
              "    <tr>\n",
              "      <th>1</th>\n",
              "      <td>LogisticRegression</td>\n",
              "      <td>0.66</td>\n",
              "      <td>0.43</td>\n",
              "      <td>0.52</td>\n",
              "      <td>0.89</td>\n",
              "      <td>Upsampled</td>\n",
              "    </tr>\n",
              "    <tr>\n",
              "      <th>2</th>\n",
              "      <td>DecisionTreeClassifier</td>\n",
              "      <td>0.75</td>\n",
              "      <td>0.53</td>\n",
              "      <td>0.70</td>\n",
              "      <td>0.83</td>\n",
              "      <td>Upsampled</td>\n",
              "    </tr>\n",
              "  </tbody>\n",
              "</table>\n",
              "</div>\n",
              "      <button class=\"colab-df-convert\" onclick=\"convertToInteractive('df-0c274e11-9d71-4969-be33-82909e1a1bd2')\"\n",
              "              title=\"Convert this dataframe to an interactive table.\"\n",
              "              style=\"display:none;\">\n",
              "        \n",
              "  <svg xmlns=\"http://www.w3.org/2000/svg\" height=\"24px\"viewBox=\"0 0 24 24\"\n",
              "       width=\"24px\">\n",
              "    <path d=\"M0 0h24v24H0V0z\" fill=\"none\"/>\n",
              "    <path d=\"M18.56 5.44l.94 2.06.94-2.06 2.06-.94-2.06-.94-.94-2.06-.94 2.06-2.06.94zm-11 1L8.5 8.5l.94-2.06 2.06-.94-2.06-.94L8.5 2.5l-.94 2.06-2.06.94zm10 10l.94 2.06.94-2.06 2.06-.94-2.06-.94-.94-2.06-.94 2.06-2.06.94z\"/><path d=\"M17.41 7.96l-1.37-1.37c-.4-.4-.92-.59-1.43-.59-.52 0-1.04.2-1.43.59L10.3 9.45l-7.72 7.72c-.78.78-.78 2.05 0 2.83L4 21.41c.39.39.9.59 1.41.59.51 0 1.02-.2 1.41-.59l7.78-7.78 2.81-2.81c.8-.78.8-2.07 0-2.86zM5.41 20L4 18.59l7.72-7.72 1.47 1.35L5.41 20z\"/>\n",
              "  </svg>\n",
              "      </button>\n",
              "      \n",
              "  <style>\n",
              "    .colab-df-container {\n",
              "      display:flex;\n",
              "      flex-wrap:wrap;\n",
              "      gap: 12px;\n",
              "    }\n",
              "\n",
              "    .colab-df-convert {\n",
              "      background-color: #E8F0FE;\n",
              "      border: none;\n",
              "      border-radius: 50%;\n",
              "      cursor: pointer;\n",
              "      display: none;\n",
              "      fill: #1967D2;\n",
              "      height: 32px;\n",
              "      padding: 0 0 0 0;\n",
              "      width: 32px;\n",
              "    }\n",
              "\n",
              "    .colab-df-convert:hover {\n",
              "      background-color: #E2EBFA;\n",
              "      box-shadow: 0px 1px 2px rgba(60, 64, 67, 0.3), 0px 1px 3px 1px rgba(60, 64, 67, 0.15);\n",
              "      fill: #174EA6;\n",
              "    }\n",
              "\n",
              "    [theme=dark] .colab-df-convert {\n",
              "      background-color: #3B4455;\n",
              "      fill: #D2E3FC;\n",
              "    }\n",
              "\n",
              "    [theme=dark] .colab-df-convert:hover {\n",
              "      background-color: #434B5C;\n",
              "      box-shadow: 0px 1px 3px 1px rgba(0, 0, 0, 0.15);\n",
              "      filter: drop-shadow(0px 1px 2px rgba(0, 0, 0, 0.3));\n",
              "      fill: #FFFFFF;\n",
              "    }\n",
              "  </style>\n",
              "\n",
              "      <script>\n",
              "        const buttonEl =\n",
              "          document.querySelector('#df-0c274e11-9d71-4969-be33-82909e1a1bd2 button.colab-df-convert');\n",
              "        buttonEl.style.display =\n",
              "          google.colab.kernel.accessAllowed ? 'block' : 'none';\n",
              "\n",
              "        async function convertToInteractive(key) {\n",
              "          const element = document.querySelector('#df-0c274e11-9d71-4969-be33-82909e1a1bd2');\n",
              "          const dataTable =\n",
              "            await google.colab.kernel.invokeFunction('convertToInteractive',\n",
              "                                                     [key], {});\n",
              "          if (!dataTable) return;\n",
              "\n",
              "          const docLinkHtml = 'Like what you see? Visit the ' +\n",
              "            '<a target=\"_blank\" href=https://colab.research.google.com/notebooks/data_table.ipynb>data table notebook</a>'\n",
              "            + ' to learn more about interactive tables.';\n",
              "          element.innerHTML = '';\n",
              "          dataTable['output_type'] = 'display_data';\n",
              "          await google.colab.output.renderOutput(dataTable, element);\n",
              "          const docLink = document.createElement('div');\n",
              "          docLink.innerHTML = docLinkHtml;\n",
              "          element.appendChild(docLink);\n",
              "        }\n",
              "      </script>\n",
              "    </div>\n",
              "  </div>\n",
              "  "
            ]
          },
          "metadata": {},
          "execution_count": 23
        }
      ]
    },
    {
      "cell_type": "markdown",
      "metadata": {
        "id": "TIfYursHEfEQ"
      },
      "source": [
        "### Downsampling <a class=\"anchor\" id=\"balancing-downsampling\"></a>\n",
        "\n",
        "To restore balance of the classes (rebalancing), will be applied Downsampling - decreasing the dataset size."
      ]
    },
    {
      "cell_type": "code",
      "execution_count": 24,
      "metadata": {
        "id": "Tf6tYqlJEfER",
        "outputId": "27a42b82-16ea-4f1b-8505-5b0bf89b47aa",
        "colab": {
          "base_uri": "https://localhost:8080/",
          "height": 86
        }
      },
      "outputs": [
        {
          "output_type": "display_data",
          "data": {
            "text/plain": [
              "(4778, 11)"
            ]
          },
          "metadata": {}
        },
        {
          "output_type": "display_data",
          "data": {
            "text/plain": [
              "(1222, 11)"
            ]
          },
          "metadata": {}
        },
        {
          "output_type": "display_data",
          "data": {
            "text/plain": [
              "(4778,)"
            ]
          },
          "metadata": {}
        },
        {
          "output_type": "display_data",
          "data": {
            "text/plain": [
              "(1222,)"
            ]
          },
          "metadata": {}
        }
      ],
      "source": [
        "def downsample(features, target, fraction):\n",
        "    \"\"\"\n",
        "    1. Separate the features and target by class\n",
        "    2. Perform downsampling by concatenating\n",
        "    a fraction of the majority class data with the minority class data\n",
        "    3. Shuffle the upsampled dataset\n",
        "    4. Display shapes of original classes\n",
        "    \"\"\"\n",
        "    X_zeros = features[target == 0]\n",
        "    X_ones = features[target == 1]\n",
        "    y_zeros = target[target == 0]\n",
        "    y_ones = target[target == 1]\n",
        "\n",
        "    X_downsampled = pd.concat(\n",
        "        [X_zeros.sample(frac=fraction, random_state=8080)] + [X_ones]\n",
        "    )\n",
        "    y_downsampled = pd.concat(\n",
        "        [y_zeros.sample(frac=fraction, random_state=8080)] + [y_ones]\n",
        "    )\n",
        "    \n",
        "    X_downsampled, y_downsampled = shuffle(\n",
        "        X_downsampled, y_downsampled, random_state=8080\n",
        "    )\n",
        "    \n",
        "    display(X_zeros.shape)\n",
        "    display(X_ones.shape)\n",
        "    display(y_zeros.shape)\n",
        "    display(y_ones.shape)\n",
        "    \n",
        "    return X_downsampled, y_downsampled\n",
        "\n",
        "# Call the downsample function with the training data,\n",
        "# a downsampling fraction of 0.1, and store the resulting downsampled dataset\n",
        "X_downsampled, y_downsampled = downsample(X_train, y_train, 0.1)"
      ]
    },
    {
      "cell_type": "markdown",
      "metadata": {
        "id": "l8DCyzQDEfES"
      },
      "source": [
        "**Models training**\n",
        "\n",
        "Training the model on the new downsampled dataset and searching for the best hyperparameters.\n",
        "\n",
        "`RandomForestClassifier`:"
      ]
    },
    {
      "cell_type": "code",
      "source": [
        "%%time\n",
        "\n",
        "best_result = {'depth': 0, 'est': 0, 'auc_roc': 0, 'f1': 0}\n",
        "\n",
        "for depth in tqdm(range(5, 15, 1)):\n",
        "    for est in range(150, 250, 10):\n",
        "        model_rfc = RandomForestClassifier(\n",
        "            random_state=8080,\n",
        "            max_depth=depth,\n",
        "            n_estimators=est\n",
        "        )\n",
        "        model_rfc.fit(X_downsampled, y_downsampled)\n",
        "        predictions = model_rfc.predict(X_valid)\n",
        "        auc_roc_rfc = roc_auc_score(y_valid, predictions)\n",
        "        f1_rfc = f1_score(y_valid, predictions)\n",
        "        if auc_roc_rfc > best_result['auc_roc']:\n",
        "            best_result['depth'] = depth\n",
        "            best_result['est'] = est\n",
        "            best_result['auc_roc'] = auc_roc_rfc\n",
        "            best_result['f1'] = f1_rfc\n",
        "\n",
        "print(f\"\\nBest parameters and results:\")\n",
        "print(f\"max_depth: {best_result['depth']}\")\n",
        "print(f\"n_estimators: {best_result['est']}\")\n",
        "print(f\"auc_roc: {best_result['auc_roc']:.2f}\")\n",
        "print(f\"f1: {best_result['f1']:.2f}\")"
      ],
      "metadata": {
        "colab": {
          "base_uri": "https://localhost:8080/"
        },
        "id": "hEZwDTnM9x4S",
        "outputId": "43562f29-0706-4c91-d64a-de2e211d1de7"
      },
      "execution_count": 25,
      "outputs": [
        {
          "output_type": "stream",
          "name": "stderr",
          "text": [
            "100%|██████████| 10/10 [01:19<00:00,  7.97s/it]"
          ]
        },
        {
          "output_type": "stream",
          "name": "stdout",
          "text": [
            "\n",
            "Best parameters and results:\n",
            "max_depth: 12\n",
            "n_estimators: 190\n",
            "auc_roc: 0.72\n",
            "f1: 0.48\n",
            "CPU times: user 1min 15s, sys: 355 ms, total: 1min 15s\n",
            "Wall time: 1min 19s\n"
          ]
        },
        {
          "output_type": "stream",
          "name": "stderr",
          "text": [
            "\n"
          ]
        }
      ]
    },
    {
      "cell_type": "code",
      "execution_count": 26,
      "metadata": {
        "id": "S4VPP2qwEfES"
      },
      "outputs": [],
      "source": [
        "model_rfc = RandomForestClassifier(\n",
        "    random_state=8080,\n",
        "    max_depth=best_result['depth'],\n",
        "    n_estimators=best_result['est']\n",
        ")\n",
        "model_rfc.fit(X_downsampled, y_downsampled)\n",
        "predictions = model_rfc.predict(X_valid)\n",
        "auc_roc_rfc = roc_auc_score(y_valid, predictions)\n",
        "f1_rfc = f1_score(y_valid, predictions)\n",
        "accuracy_rfc = accuracy_score(y_valid, predictions)\n",
        "recall_rfc = recall_score(y_valid, predictions)"
      ]
    },
    {
      "cell_type": "markdown",
      "metadata": {
        "id": "xcwcLExMEfET"
      },
      "source": [
        "`LogisticRegression`:"
      ]
    },
    {
      "cell_type": "code",
      "execution_count": 27,
      "metadata": {
        "id": "1i0YSUykEfET",
        "outputId": "820fb8c7-bc43-4027-ea81-ebbcabbfd7d4",
        "colab": {
          "base_uri": "https://localhost:8080/"
        }
      },
      "outputs": [
        {
          "output_type": "stream",
          "name": "stderr",
          "text": [
            "100%|██████████| 3/3 [00:01<00:00,  2.21it/s]"
          ]
        },
        {
          "output_type": "stream",
          "name": "stdout",
          "text": [
            "\n",
            "Best parameters and results:\n",
            "solver: lbfgs\n",
            "max_iter: 4\n",
            "auc_roc: 0.65\n",
            "f1: 0.43\n",
            "CPU times: user 1.44 s, sys: 1.1 s, total: 2.54 s\n",
            "Wall time: 1.36 s\n"
          ]
        },
        {
          "output_type": "stream",
          "name": "stderr",
          "text": [
            "\n"
          ]
        }
      ],
      "source": [
        "%%time\n",
        "\n",
        "solvers = ['newton-cg', 'lbfgs', 'liblinear']\n",
        "\n",
        "best_result = {'solver': '', 'max_iter': 0, 'auc_roc': 0, 'f1': 0}\n",
        "\n",
        "for solver in tqdm(solvers):\n",
        "    for max_iter in range(1, 20, 1):\n",
        "        model_lr = LogisticRegression(\n",
        "            random_state=8080,\n",
        "            penalty='l2',\n",
        "            solver=solver,\n",
        "            max_iter=max_iter)\n",
        "        model_lr.fit(X_downsampled, y_downsampled)\n",
        "        predictions = model_lr.predict(X_valid)\n",
        "        auc_roc_lr = roc_auc_score(y_valid, predictions)\n",
        "        f1_lr = f1_score(y_valid, predictions)\n",
        "        if auc_roc_lr > best_result['auc_roc']:\n",
        "            best_result['solver'] = solver\n",
        "            best_result['max_iter'] = max_iter\n",
        "            best_result['auc_roc'] = auc_roc_lr\n",
        "            best_result['f1'] = f1_lr\n",
        "\n",
        "print(f\"\\nBest parameters and results:\")\n",
        "print(f\"solver: {best_result['solver']}\")\n",
        "print(f\"max_iter: {best_result['max_iter']}\")\n",
        "print(f\"auc_roc: {best_result['auc_roc']:.2f}\")\n",
        "print(f\"f1: {best_result['f1']:.2f}\")"
      ]
    },
    {
      "cell_type": "code",
      "execution_count": 28,
      "metadata": {
        "id": "YMUMAYMaEfEU"
      },
      "outputs": [],
      "source": [
        "model_lr = LogisticRegression(\n",
        "    random_state=8080,\n",
        "    penalty='l2',\n",
        "    solver=best_result['solver'],\n",
        "    max_iter=best_result['max_iter']\n",
        ")\n",
        "model_lr.fit(X_downsampled, y_downsampled)\n",
        "predictions = model_lr.predict(X_valid)\n",
        "auc_roc_lr = roc_auc_score(y_valid, predictions)\n",
        "f1_lr = f1_score(y_valid, predictions)\n",
        "accuracy_lr = accuracy_score(y_valid, predictions)\n",
        "recall_lr = recall_score(y_valid, predictions)"
      ]
    },
    {
      "cell_type": "markdown",
      "metadata": {
        "id": "H6PdhHATEfES"
      },
      "source": [
        "`DecisionTreeClassifier`:"
      ]
    },
    {
      "cell_type": "code",
      "execution_count": 29,
      "metadata": {
        "scrolled": true,
        "id": "zYdyUBSxEfET",
        "outputId": "c094c34a-55c4-4e40-d427-3c582a049368",
        "colab": {
          "base_uri": "https://localhost:8080/"
        }
      },
      "outputs": [
        {
          "output_type": "stream",
          "name": "stderr",
          "text": [
            "100%|██████████| 9/9 [00:02<00:00,  3.65it/s]"
          ]
        },
        {
          "output_type": "stream",
          "name": "stdout",
          "text": [
            "\n",
            "Best parameters and results:\n",
            "max_depth: 7\n",
            "max_features: None\n",
            "min_samples_split: 7\n",
            "auc_roc: 0.71\n",
            "f1: 0.48\n",
            "CPU times: user 2.44 s, sys: 90.2 ms, total: 2.53 s\n",
            "Wall time: 2.47 s\n"
          ]
        },
        {
          "output_type": "stream",
          "name": "stderr",
          "text": [
            "\n"
          ]
        }
      ],
      "source": [
        "%%time\n",
        "\n",
        "best_result = {\n",
        "    'depth': 0, 'features': None, 'samples': 0, 'auc_roc': 0, 'f1': 0\n",
        "}\n",
        "\n",
        "for depth in tqdm(range(1, 10)):\n",
        "    for feature in ['auto', 'sqrt', None]:\n",
        "        for samples in range(2, 10, 1):\n",
        "            model_dtc = DecisionTreeClassifier(\n",
        "                random_state=8080,\n",
        "                max_depth=depth,\n",
        "                max_features=feature,\n",
        "                min_samples_split=samples\n",
        "            )\n",
        "            model_dtc.fit(X_downsampled, y_downsampled)\n",
        "            predictions = model_dtc.predict(X_valid)\n",
        "            auc_roc_dtc = roc_auc_score(y_valid, predictions)\n",
        "            f1_dtc = f1_score(y_valid, predictions)\n",
        "            if auc_roc_dtc > best_result['auc_roc']:\n",
        "                best_result['depth'] = depth\n",
        "                best_result['features'] = feature\n",
        "                best_result['samples'] = samples\n",
        "                best_result['auc_roc'] = auc_roc_dtc\n",
        "                best_result['f1'] = f1_dtc\n",
        "\n",
        "print(f\"\\nBest parameters and results:\")\n",
        "print(f\"max_depth: {best_result['depth']}\")\n",
        "print(f\"max_features: {best_result['features']}\")\n",
        "print(f\"min_samples_split: {best_result['samples']}\")\n",
        "print(f\"auc_roc: {best_result['auc_roc']:.2f}\")\n",
        "print(f\"f1: {best_result['f1']:.2f}\")"
      ]
    },
    {
      "cell_type": "code",
      "execution_count": 30,
      "metadata": {
        "id": "Y2gAE2ZQEfET"
      },
      "outputs": [],
      "source": [
        "model_dtc = DecisionTreeClassifier(\n",
        "    random_state=8080,\n",
        "    max_depth=best_result['depth'],\n",
        "    max_features=best_result['features'],\n",
        "    min_samples_split=best_result['samples']\n",
        ")\n",
        "model_dtc.fit(X_downsampled, y_downsampled)\n",
        "predictions = model_dtc.predict(X_valid)\n",
        "auc_roc_dtc = roc_auc_score(y_valid, predictions)\n",
        "f1_dtc = f1_score(y_valid, predictions)\n",
        "accuracy_dtc = accuracy_score(y_valid, predictions)\n",
        "recall_dtc = recall_score(y_valid, predictions)"
      ]
    },
    {
      "cell_type": "markdown",
      "source": [
        "Evaluation metrics of trained models on downsampled dataset:"
      ],
      "metadata": {
        "id": "L2K8CkqnvwXy"
      }
    },
    {
      "cell_type": "code",
      "source": [
        "data = {\n",
        "    'Model': ['RandomForestClassifier', 'LogisticRegression', 'DecisionTreeClassifier'],\n",
        "    'ROC-AUC': [round(auc_roc_rfc, 2), round(auc_roc_lr, 2), round(auc_roc_dtc, 2)],\n",
        "    'F1': [round(f1_rfc, 2), round(f1_lr, 2), round(f1_dtc, 2)],\n",
        "    'Accuracy': [round(accuracy_rfc, 2), round(accuracy_lr, 2), round(accuracy_dtc, 2)],\n",
        "    'Recall': [round(recall_rfc, 2), round(recall_lr, 2), round(recall_dtc, 2)],\n",
        "    'Dataset': ['Downsampled', 'Downsampled', 'Downsampled']\n",
        "}\n",
        "\n",
        "results_downsampled = pd.DataFrame(data)"
      ],
      "metadata": {
        "id": "iFkvELigNX8w"
      },
      "execution_count": 31,
      "outputs": []
    },
    {
      "cell_type": "code",
      "source": [
        "# Concatenate the results and reoder by F1\n",
        "results_final = pd.concat([results, results_upsampled, results_downsampled])\n",
        "results_final = results_final.sort_values(by='F1', ascending=False)\n",
        "results_final.style.hide_index()"
      ],
      "metadata": {
        "colab": {
          "base_uri": "https://localhost:8080/",
          "height": 331
        },
        "id": "mmYOrbnNNlG4",
        "outputId": "1a3b7f8c-8116-44f4-cc4a-fd26dce73b99"
      },
      "execution_count": 32,
      "outputs": [
        {
          "output_type": "execute_result",
          "data": {
            "text/plain": [
              "<pandas.io.formats.style.Styler at 0x7f99d389ebb0>"
            ],
            "text/html": [
              "<style type=\"text/css\">\n",
              "</style>\n",
              "<table id=\"T_5974d_\" class=\"dataframe\">\n",
              "  <thead>\n",
              "    <tr>\n",
              "      <th class=\"col_heading level0 col0\" >Model</th>\n",
              "      <th class=\"col_heading level0 col1\" >ROC-AUC</th>\n",
              "      <th class=\"col_heading level0 col2\" >F1</th>\n",
              "      <th class=\"col_heading level0 col3\" >Accuracy</th>\n",
              "      <th class=\"col_heading level0 col4\" >Recall</th>\n",
              "      <th class=\"col_heading level0 col5\" >Dataset</th>\n",
              "    </tr>\n",
              "  </thead>\n",
              "  <tbody>\n",
              "    <tr>\n",
              "      <td id=\"T_5974d_row0_col0\" class=\"data row0 col0\" >RandomForestClassifier</td>\n",
              "      <td id=\"T_5974d_row0_col1\" class=\"data row0 col1\" >0.750000</td>\n",
              "      <td id=\"T_5974d_row0_col2\" class=\"data row0 col2\" >0.610000</td>\n",
              "      <td id=\"T_5974d_row0_col3\" class=\"data row0 col3\" >0.840000</td>\n",
              "      <td id=\"T_5974d_row0_col4\" class=\"data row0 col4\" >0.590000</td>\n",
              "      <td id=\"T_5974d_row0_col5\" class=\"data row0 col5\" >Upsampled</td>\n",
              "    </tr>\n",
              "    <tr>\n",
              "      <td id=\"T_5974d_row1_col0\" class=\"data row1 col0\" >RandomForestClassifier</td>\n",
              "      <td id=\"T_5974d_row1_col1\" class=\"data row1 col1\" >0.730000</td>\n",
              "      <td id=\"T_5974d_row1_col2\" class=\"data row1 col2\" >0.600000</td>\n",
              "      <td id=\"T_5974d_row1_col3\" class=\"data row1 col3\" >0.870000</td>\n",
              "      <td id=\"T_5974d_row1_col4\" class=\"data row1 col4\" >0.480000</td>\n",
              "      <td id=\"T_5974d_row1_col5\" class=\"data row1 col5\" >Unbalanced</td>\n",
              "    </tr>\n",
              "    <tr>\n",
              "      <td id=\"T_5974d_row2_col0\" class=\"data row2 col0\" >DecisionTreeClassifier</td>\n",
              "      <td id=\"T_5974d_row2_col1\" class=\"data row2 col1\" >0.720000</td>\n",
              "      <td id=\"T_5974d_row2_col2\" class=\"data row2 col2\" >0.580000</td>\n",
              "      <td id=\"T_5974d_row2_col3\" class=\"data row2 col3\" >0.850000</td>\n",
              "      <td id=\"T_5974d_row2_col4\" class=\"data row2 col4\" >0.490000</td>\n",
              "      <td id=\"T_5974d_row2_col5\" class=\"data row2 col5\" >Unbalanced</td>\n",
              "    </tr>\n",
              "    <tr>\n",
              "      <td id=\"T_5974d_row3_col0\" class=\"data row3 col0\" >DecisionTreeClassifier</td>\n",
              "      <td id=\"T_5974d_row3_col1\" class=\"data row3 col1\" >0.750000</td>\n",
              "      <td id=\"T_5974d_row3_col2\" class=\"data row3 col2\" >0.530000</td>\n",
              "      <td id=\"T_5974d_row3_col3\" class=\"data row3 col3\" >0.700000</td>\n",
              "      <td id=\"T_5974d_row3_col4\" class=\"data row3 col4\" >0.830000</td>\n",
              "      <td id=\"T_5974d_row3_col5\" class=\"data row3 col5\" >Upsampled</td>\n",
              "    </tr>\n",
              "    <tr>\n",
              "      <td id=\"T_5974d_row4_col0\" class=\"data row4 col0\" >RandomForestClassifier</td>\n",
              "      <td id=\"T_5974d_row4_col1\" class=\"data row4 col1\" >0.720000</td>\n",
              "      <td id=\"T_5974d_row4_col2\" class=\"data row4 col2\" >0.480000</td>\n",
              "      <td id=\"T_5974d_row4_col3\" class=\"data row4 col3\" >0.580000</td>\n",
              "      <td id=\"T_5974d_row4_col4\" class=\"data row4 col4\" >0.940000</td>\n",
              "      <td id=\"T_5974d_row4_col5\" class=\"data row4 col5\" >Downsampled</td>\n",
              "    </tr>\n",
              "    <tr>\n",
              "      <td id=\"T_5974d_row5_col0\" class=\"data row5 col0\" >DecisionTreeClassifier</td>\n",
              "      <td id=\"T_5974d_row5_col1\" class=\"data row5 col1\" >0.710000</td>\n",
              "      <td id=\"T_5974d_row5_col2\" class=\"data row5 col2\" >0.480000</td>\n",
              "      <td id=\"T_5974d_row5_col3\" class=\"data row5 col3\" >0.640000</td>\n",
              "      <td id=\"T_5974d_row5_col4\" class=\"data row5 col4\" >0.830000</td>\n",
              "      <td id=\"T_5974d_row5_col5\" class=\"data row5 col5\" >Downsampled</td>\n",
              "    </tr>\n",
              "    <tr>\n",
              "      <td id=\"T_5974d_row6_col0\" class=\"data row6 col0\" >LogisticRegression</td>\n",
              "      <td id=\"T_5974d_row6_col1\" class=\"data row6 col1\" >0.660000</td>\n",
              "      <td id=\"T_5974d_row6_col2\" class=\"data row6 col2\" >0.430000</td>\n",
              "      <td id=\"T_5974d_row6_col3\" class=\"data row6 col3\" >0.520000</td>\n",
              "      <td id=\"T_5974d_row6_col4\" class=\"data row6 col4\" >0.890000</td>\n",
              "      <td id=\"T_5974d_row6_col5\" class=\"data row6 col5\" >Upsampled</td>\n",
              "    </tr>\n",
              "    <tr>\n",
              "      <td id=\"T_5974d_row7_col0\" class=\"data row7 col0\" >LogisticRegression</td>\n",
              "      <td id=\"T_5974d_row7_col1\" class=\"data row7 col1\" >0.650000</td>\n",
              "      <td id=\"T_5974d_row7_col2\" class=\"data row7 col2\" >0.430000</td>\n",
              "      <td id=\"T_5974d_row7_col3\" class=\"data row7 col3\" >0.490000</td>\n",
              "      <td id=\"T_5974d_row7_col4\" class=\"data row7 col4\" >0.920000</td>\n",
              "      <td id=\"T_5974d_row7_col5\" class=\"data row7 col5\" >Downsampled</td>\n",
              "    </tr>\n",
              "    <tr>\n",
              "      <td id=\"T_5974d_row8_col0\" class=\"data row8 col0\" >LogisticRegression</td>\n",
              "      <td id=\"T_5974d_row8_col1\" class=\"data row8 col1\" >0.580000</td>\n",
              "      <td id=\"T_5974d_row8_col2\" class=\"data row8 col2\" >0.310000</td>\n",
              "      <td id=\"T_5974d_row8_col3\" class=\"data row8 col3\" >0.810000</td>\n",
              "      <td id=\"T_5974d_row8_col4\" class=\"data row8 col4\" >0.210000</td>\n",
              "      <td id=\"T_5974d_row8_col5\" class=\"data row8 col5\" >Unbalanced</td>\n",
              "    </tr>\n",
              "  </tbody>\n",
              "</table>\n"
            ]
          },
          "metadata": {},
          "execution_count": 32
        }
      ]
    },
    {
      "cell_type": "markdown",
      "metadata": {
        "id": "-TrCtz70EfEU"
      },
      "source": [
        "### Conclusion <a class=\"anchor\" id=\"balancing-conclusion\"></a>\n",
        "\n",
        "The best model for *upsampled* dataset:\n",
        "- `RandomForestClassifier (max_depth: 16, n_estimators: 180)` with F1 - 0.61.\n",
        "\n",
        "The best model for *downsampled* dataset:\n",
        "- `RandomForestClassifier (max_depth: 12, n_estimators: 190)` with F1 - 0.48."
      ]
    },
    {
      "cell_type": "markdown",
      "metadata": {
        "id": "f3KG01GHEfEU"
      },
      "source": [
        "## Testing the best model <a class=\"anchor\" id=\"testing\"></a>\n",
        "\n",
        "Training the model with hyperparameters showed highest F1 score (upsampled dataset)"
      ]
    },
    {
      "cell_type": "code",
      "execution_count": 33,
      "metadata": {
        "id": "T_WUG11MEfEU",
        "outputId": "660d468b-1f66-4dd5-91ec-2938b7b0e019",
        "colab": {
          "base_uri": "https://localhost:8080/"
        }
      },
      "outputs": [
        {
          "output_type": "stream",
          "name": "stdout",
          "text": [
            "ROC-AUC: 0.72\n",
            "F1: 0.59\n",
            "Accuracy: 0.86\n",
            "Recall: 0.48\n"
          ]
        }
      ],
      "source": [
        "model_rfc_test = RandomForestClassifier(\n",
        "    random_state=8080,\n",
        "    max_depth=16,\n",
        "    n_estimators=180\n",
        ")\n",
        "model_rfc.fit(X_train, y_train)\n",
        "predictions = model_rfc.predict(X_test)\n",
        "auc_roc_rfc = roc_auc_score(y_test, predictions)\n",
        "f1_rfc = f1_score(y_test, predictions)\n",
        "accuracy_rfc = accuracy_score(y_test, predictions)\n",
        "recall_rfc = recall_score(y_test, predictions)\n",
        "\n",
        "print(f\"ROC-AUC: {auc_roc_rfc:.2f}\")\n",
        "print(f\"F1: {f1_rfc:.2f}\")\n",
        "print(f\"Accuracy: {accuracy_rfc:.2f}\")\n",
        "print(f\"Recall: {recall_rfc:.2f}\")"
      ]
    },
    {
      "cell_type": "markdown",
      "metadata": {
        "id": "ZrqKUWgaEfEV"
      },
      "source": [
        "## General conclusion <a class=\"anchor\" id=\"general-conclusion\"></a>\n",
        "\n",
        "During the data analysis, it was conducted EDA and found that there is no strong dependence in the data, and for the most part, the data is normally distributed. Also the following was found out:\n",
        " - The average credit rating is 651;\n",
        " - The average age is 39 years;\n",
        " - On average, clients have been working with the bank for 5 years;\n",
        " - The average salary of clients is around 100,000;\n",
        " - Many clients have a zero balance on their account, but the average balance is 76,000;\n",
        " - The number of products in descending order is: 1, 2, 3+;\n",
        " - More than half of the clients do not have a credit card;\n",
        " - Approximately half of the entire sample of clients is an active part;\n",
        " - 80% of clients remain working with the bank.\n",
        "\n",
        "Three machine learning models were used to achive the aim (F1 is not below of *0.59*): `RandomForestClassifier`, `LogisticRegression`, and `DecisionTreeClassifier`. The best hyperparameters for each model were chosen by iterating through them.\n",
        "Experiments were conducted for each model on both an upsampled and downsampled datasets to achieve the best results.\n",
        "\n",
        "The best model was determined:"
      ]
    },
    {
      "cell_type": "code",
      "source": [
        "model_rfc_test"
      ],
      "metadata": {
        "colab": {
          "base_uri": "https://localhost:8080/"
        },
        "id": "3W8mnPH1wH7R",
        "outputId": "96662734-a6ea-4bf5-b2d1-d9ac7d0a1c95"
      },
      "execution_count": 34,
      "outputs": [
        {
          "output_type": "execute_result",
          "data": {
            "text/plain": [
              "RandomForestClassifier(max_depth=16, n_estimators=180, random_state=8080)"
            ]
          },
          "metadata": {},
          "execution_count": 34
        }
      ]
    },
    {
      "cell_type": "markdown",
      "source": [
        "which achieved the following results:\n",
        "\n",
        "| ROC-AUC | F1 | Accuracy | Recall |\n",
        "|--|--|--|--|\n",
        "| 0.72 | 0.59 | 0.86 | 0.49 |"
      ],
      "metadata": {
        "id": "P6MQaBq-wTx6"
      }
    }
  ],
  "metadata": {
    "ExecuteTimeLog": [
      {
        "duration": 620,
        "start_time": "2022-05-23T12:08:59.751Z"
      },
      {
        "duration": 4,
        "start_time": "2022-05-23T12:09:17.333Z"
      },
      {
        "duration": 164,
        "start_time": "2022-05-23T12:09:34.025Z"
      },
      {
        "duration": 36,
        "start_time": "2022-05-23T12:10:32.570Z"
      },
      {
        "duration": 4,
        "start_time": "2022-05-23T12:10:49.261Z"
      },
      {
        "duration": 3,
        "start_time": "2022-05-23T12:10:55.393Z"
      },
      {
        "duration": 5,
        "start_time": "2022-05-23T12:11:02.834Z"
      },
      {
        "duration": 9,
        "start_time": "2022-05-23T12:11:30.060Z"
      },
      {
        "duration": 10,
        "start_time": "2022-05-23T12:12:13.292Z"
      },
      {
        "duration": 47,
        "start_time": "2022-05-23T12:12:22.967Z"
      },
      {
        "duration": 9,
        "start_time": "2022-05-23T12:12:25.588Z"
      },
      {
        "duration": 11,
        "start_time": "2022-05-23T12:12:36.461Z"
      },
      {
        "duration": 10,
        "start_time": "2022-05-23T12:13:01.039Z"
      },
      {
        "duration": 9,
        "start_time": "2022-05-23T12:13:26.868Z"
      },
      {
        "duration": 20,
        "start_time": "2022-05-23T12:13:55.456Z"
      },
      {
        "duration": 37,
        "start_time": "2022-05-23T12:14:09.725Z"
      },
      {
        "duration": 77,
        "start_time": "2022-05-23T12:14:35.483Z"
      },
      {
        "duration": 17,
        "start_time": "2022-05-23T12:14:45.463Z"
      },
      {
        "duration": 23,
        "start_time": "2022-05-23T12:15:05.422Z"
      },
      {
        "duration": 21,
        "start_time": "2022-05-23T12:15:47.284Z"
      },
      {
        "duration": 26,
        "start_time": "2022-05-23T12:16:00.555Z"
      },
      {
        "duration": 27,
        "start_time": "2022-05-23T12:16:12.800Z"
      },
      {
        "duration": 18,
        "start_time": "2022-05-23T12:48:04.665Z"
      },
      {
        "duration": 19,
        "start_time": "2022-05-23T12:48:12.296Z"
      },
      {
        "duration": 23,
        "start_time": "2022-05-23T12:48:22.566Z"
      },
      {
        "duration": 17,
        "start_time": "2022-05-23T12:53:06.775Z"
      },
      {
        "duration": 19,
        "start_time": "2022-05-23T12:53:10.437Z"
      },
      {
        "duration": 18,
        "start_time": "2022-05-23T12:53:16.389Z"
      },
      {
        "duration": 7,
        "start_time": "2022-05-23T13:02:17.068Z"
      },
      {
        "duration": 176,
        "start_time": "2022-05-23T13:02:22.656Z"
      },
      {
        "duration": 5,
        "start_time": "2022-05-23T13:03:01.973Z"
      },
      {
        "duration": 7,
        "start_time": "2022-05-23T13:03:05.077Z"
      },
      {
        "duration": 7,
        "start_time": "2022-05-23T13:03:10.460Z"
      },
      {
        "duration": 5,
        "start_time": "2022-05-23T13:09:13.665Z"
      },
      {
        "duration": 7,
        "start_time": "2022-05-23T13:09:18.954Z"
      },
      {
        "duration": 6,
        "start_time": "2022-05-23T13:09:23.761Z"
      },
      {
        "duration": 8,
        "start_time": "2022-05-23T13:09:31.397Z"
      },
      {
        "duration": 20,
        "start_time": "2022-05-23T13:10:49.091Z"
      },
      {
        "duration": 13,
        "start_time": "2022-05-23T13:10:59.382Z"
      },
      {
        "duration": 20,
        "start_time": "2022-05-23T13:11:03.862Z"
      },
      {
        "duration": 23,
        "start_time": "2022-05-23T13:11:07.157Z"
      },
      {
        "duration": 20,
        "start_time": "2022-05-23T13:17:05.038Z"
      },
      {
        "duration": 16,
        "start_time": "2022-05-23T13:19:30.408Z"
      },
      {
        "duration": 22,
        "start_time": "2022-05-23T13:19:43.519Z"
      },
      {
        "duration": 17,
        "start_time": "2022-05-23T13:19:54.345Z"
      },
      {
        "duration": 23,
        "start_time": "2022-05-23T13:20:56.778Z"
      },
      {
        "duration": 31,
        "start_time": "2022-05-23T13:21:28.173Z"
      },
      {
        "duration": 27,
        "start_time": "2022-05-23T13:21:35.174Z"
      },
      {
        "duration": 21,
        "start_time": "2022-05-23T13:21:47.490Z"
      },
      {
        "duration": 16,
        "start_time": "2022-05-23T13:21:52.001Z"
      },
      {
        "duration": 29,
        "start_time": "2022-05-23T13:21:58.774Z"
      },
      {
        "duration": 21,
        "start_time": "2022-05-23T13:22:12.790Z"
      },
      {
        "duration": 8,
        "start_time": "2022-05-23T13:22:33.646Z"
      },
      {
        "duration": 21,
        "start_time": "2022-05-23T13:23:14.669Z"
      },
      {
        "duration": 16,
        "start_time": "2022-05-23T13:28:38.874Z"
      },
      {
        "duration": 18,
        "start_time": "2022-05-23T13:28:53.596Z"
      },
      {
        "duration": 8,
        "start_time": "2022-05-23T13:29:04.353Z"
      },
      {
        "duration": 15,
        "start_time": "2022-05-23T13:29:10.189Z"
      },
      {
        "duration": 16,
        "start_time": "2022-05-23T13:30:24.050Z"
      },
      {
        "duration": 29,
        "start_time": "2022-05-23T13:30:35.728Z"
      },
      {
        "duration": 16,
        "start_time": "2022-05-23T13:30:43.384Z"
      },
      {
        "duration": 15,
        "start_time": "2022-05-23T13:30:50.501Z"
      },
      {
        "duration": 14,
        "start_time": "2022-05-23T13:30:53.893Z"
      },
      {
        "duration": 15,
        "start_time": "2022-05-23T13:31:11.962Z"
      },
      {
        "duration": 20,
        "start_time": "2022-05-23T13:34:07.515Z"
      },
      {
        "duration": 20,
        "start_time": "2022-05-23T13:34:13.370Z"
      },
      {
        "duration": 27,
        "start_time": "2022-05-23T13:35:01.587Z"
      },
      {
        "duration": 11,
        "start_time": "2022-05-23T13:40:38.122Z"
      },
      {
        "duration": 20,
        "start_time": "2022-05-23T13:40:43.598Z"
      },
      {
        "duration": 5,
        "start_time": "2022-05-23T13:41:55.934Z"
      },
      {
        "duration": 8,
        "start_time": "2022-05-23T13:46:02.189Z"
      },
      {
        "duration": 7,
        "start_time": "2022-05-23T13:46:49.450Z"
      },
      {
        "duration": 5,
        "start_time": "2022-05-23T13:46:56.165Z"
      },
      {
        "duration": 4,
        "start_time": "2022-05-23T14:00:11.002Z"
      },
      {
        "duration": 11,
        "start_time": "2022-05-23T14:02:50.173Z"
      },
      {
        "duration": 600,
        "start_time": "2022-05-23T14:03:19.506Z"
      },
      {
        "duration": 41,
        "start_time": "2022-05-23T14:03:24.056Z"
      },
      {
        "duration": 10,
        "start_time": "2022-05-23T14:03:33.283Z"
      },
      {
        "duration": 875,
        "start_time": "2022-05-23T14:06:01.822Z"
      },
      {
        "duration": 39,
        "start_time": "2022-05-23T14:06:02.699Z"
      },
      {
        "duration": 35,
        "start_time": "2022-05-23T14:06:02.740Z"
      },
      {
        "duration": 48,
        "start_time": "2022-05-23T14:06:02.778Z"
      },
      {
        "duration": 26,
        "start_time": "2022-05-23T14:06:02.827Z"
      },
      {
        "duration": 48,
        "start_time": "2022-05-23T14:06:02.855Z"
      },
      {
        "duration": 122,
        "start_time": "2022-05-23T14:06:02.905Z"
      },
      {
        "duration": 5,
        "start_time": "2022-05-23T14:06:10.487Z"
      },
      {
        "duration": 10,
        "start_time": "2022-05-23T14:06:38.961Z"
      },
      {
        "duration": 928,
        "start_time": "2022-05-25T06:47:49.545Z"
      },
      {
        "duration": 85,
        "start_time": "2022-05-25T06:47:50.475Z"
      },
      {
        "duration": 41,
        "start_time": "2022-05-25T06:47:50.562Z"
      },
      {
        "duration": 22,
        "start_time": "2022-05-25T06:47:50.605Z"
      },
      {
        "duration": 8,
        "start_time": "2022-05-25T06:47:50.630Z"
      },
      {
        "duration": 26,
        "start_time": "2022-05-25T06:47:50.639Z"
      },
      {
        "duration": 9,
        "start_time": "2022-05-25T06:47:50.667Z"
      },
      {
        "duration": 619,
        "start_time": "2022-05-25T07:46:23.381Z"
      },
      {
        "duration": 5,
        "start_time": "2022-05-25T07:52:06.935Z"
      },
      {
        "duration": 1237,
        "start_time": "2022-05-25T07:52:15.559Z"
      },
      {
        "duration": 3,
        "start_time": "2022-05-25T07:52:28.259Z"
      },
      {
        "duration": 1374,
        "start_time": "2022-05-25T07:52:32.030Z"
      },
      {
        "duration": 6,
        "start_time": "2022-05-25T07:52:45.965Z"
      },
      {
        "duration": 1307,
        "start_time": "2022-05-25T07:52:47.617Z"
      },
      {
        "duration": 499,
        "start_time": "2022-05-25T08:01:35.016Z"
      },
      {
        "duration": 325,
        "start_time": "2022-05-25T08:02:02.321Z"
      },
      {
        "duration": 320,
        "start_time": "2022-05-25T08:02:26.706Z"
      },
      {
        "duration": 390,
        "start_time": "2022-05-25T08:02:58.786Z"
      },
      {
        "duration": 489,
        "start_time": "2022-05-25T08:03:14.519Z"
      },
      {
        "duration": 513,
        "start_time": "2022-05-25T08:05:09.501Z"
      },
      {
        "duration": 452,
        "start_time": "2022-05-25T08:05:23.276Z"
      },
      {
        "duration": 471,
        "start_time": "2022-05-25T08:05:31.581Z"
      },
      {
        "duration": 18701,
        "start_time": "2022-05-25T08:06:32.280Z"
      },
      {
        "duration": 3843,
        "start_time": "2022-05-26T06:35:44.592Z"
      },
      {
        "duration": 89,
        "start_time": "2022-05-26T06:35:48.437Z"
      },
      {
        "duration": 102,
        "start_time": "2022-05-26T06:35:48.527Z"
      },
      {
        "duration": 24,
        "start_time": "2022-05-26T06:35:48.631Z"
      },
      {
        "duration": 6,
        "start_time": "2022-05-26T06:35:48.663Z"
      },
      {
        "duration": 11,
        "start_time": "2022-05-26T06:35:48.670Z"
      },
      {
        "duration": 1379,
        "start_time": "2022-05-26T06:35:48.682Z"
      },
      {
        "duration": 12,
        "start_time": "2022-05-26T06:35:50.062Z"
      },
      {
        "duration": 11,
        "start_time": "2022-05-26T06:35:50.076Z"
      },
      {
        "duration": 1522,
        "start_time": "2022-05-26T06:37:37.698Z"
      },
      {
        "duration": 26,
        "start_time": "2022-05-26T06:38:54.547Z"
      },
      {
        "duration": 31,
        "start_time": "2022-05-26T06:39:49.979Z"
      },
      {
        "duration": 31,
        "start_time": "2022-05-26T06:40:30.514Z"
      },
      {
        "duration": 131,
        "start_time": "2022-05-26T06:40:55.073Z"
      },
      {
        "duration": 23,
        "start_time": "2022-05-26T06:41:02.528Z"
      },
      {
        "duration": 10,
        "start_time": "2022-05-26T06:41:14.529Z"
      },
      {
        "duration": 12,
        "start_time": "2022-05-26T06:41:22.676Z"
      },
      {
        "duration": 8,
        "start_time": "2022-05-26T06:41:27.504Z"
      },
      {
        "duration": 5,
        "start_time": "2022-05-26T06:41:53.385Z"
      },
      {
        "duration": 5,
        "start_time": "2022-05-26T06:42:06.033Z"
      },
      {
        "duration": 9,
        "start_time": "2022-05-26T06:42:19.896Z"
      },
      {
        "duration": 7,
        "start_time": "2022-05-26T06:42:23.626Z"
      },
      {
        "duration": 9,
        "start_time": "2022-05-26T06:42:33.585Z"
      },
      {
        "duration": 5,
        "start_time": "2022-05-26T06:42:45.576Z"
      },
      {
        "duration": 5,
        "start_time": "2022-05-26T06:43:03.215Z"
      },
      {
        "duration": 18,
        "start_time": "2022-05-26T06:43:38.387Z"
      },
      {
        "duration": 20,
        "start_time": "2022-05-26T06:43:52.027Z"
      },
      {
        "duration": 20,
        "start_time": "2022-05-26T06:43:59.088Z"
      },
      {
        "duration": 28,
        "start_time": "2022-05-26T06:44:02.675Z"
      },
      {
        "duration": 41,
        "start_time": "2022-05-26T06:52:49.147Z"
      },
      {
        "duration": 19,
        "start_time": "2022-05-26T06:53:22.975Z"
      },
      {
        "duration": 39,
        "start_time": "2022-05-26T06:53:49.745Z"
      },
      {
        "duration": 25,
        "start_time": "2022-05-26T06:54:02.207Z"
      },
      {
        "duration": 9,
        "start_time": "2022-05-26T06:54:36.377Z"
      },
      {
        "duration": 5,
        "start_time": "2022-05-26T06:54:56.979Z"
      },
      {
        "duration": 26,
        "start_time": "2022-05-26T06:55:09.113Z"
      },
      {
        "duration": 60,
        "start_time": "2022-05-26T06:55:25.478Z"
      },
      {
        "duration": 5,
        "start_time": "2022-05-26T06:55:32.592Z"
      },
      {
        "duration": 17,
        "start_time": "2022-05-26T06:55:34.415Z"
      },
      {
        "duration": 15,
        "start_time": "2022-05-26T06:55:42.976Z"
      },
      {
        "duration": 5,
        "start_time": "2022-05-26T06:57:24.087Z"
      },
      {
        "duration": 6,
        "start_time": "2022-05-26T06:57:29.732Z"
      },
      {
        "duration": 4,
        "start_time": "2022-05-26T06:58:00.032Z"
      },
      {
        "duration": 12,
        "start_time": "2022-05-26T06:59:22.092Z"
      },
      {
        "duration": 4,
        "start_time": "2022-05-26T06:59:24.082Z"
      },
      {
        "duration": 29,
        "start_time": "2022-05-26T06:59:25.635Z"
      },
      {
        "duration": 5,
        "start_time": "2022-05-26T06:59:30.512Z"
      },
      {
        "duration": 14,
        "start_time": "2022-05-26T07:00:02.073Z"
      },
      {
        "duration": 5,
        "start_time": "2022-05-26T07:00:04.427Z"
      },
      {
        "duration": 6,
        "start_time": "2022-05-26T07:00:50.042Z"
      },
      {
        "duration": 13,
        "start_time": "2022-05-26T07:01:05.705Z"
      },
      {
        "duration": 5,
        "start_time": "2022-05-26T07:01:31.770Z"
      },
      {
        "duration": 6,
        "start_time": "2022-05-26T07:02:34.317Z"
      },
      {
        "duration": 9,
        "start_time": "2022-05-26T07:12:42.929Z"
      },
      {
        "duration": 10,
        "start_time": "2022-05-26T07:12:51.340Z"
      },
      {
        "duration": 6,
        "start_time": "2022-05-26T07:12:56.817Z"
      },
      {
        "duration": 14,
        "start_time": "2022-05-26T07:13:00.268Z"
      },
      {
        "duration": 5,
        "start_time": "2022-05-26T07:13:05.584Z"
      },
      {
        "duration": 7,
        "start_time": "2022-05-26T07:13:19.352Z"
      },
      {
        "duration": 31,
        "start_time": "2022-05-26T07:16:56.833Z"
      },
      {
        "duration": 28,
        "start_time": "2022-05-26T07:19:01.252Z"
      },
      {
        "duration": 4,
        "start_time": "2022-05-26T07:19:08.401Z"
      },
      {
        "duration": 5,
        "start_time": "2022-05-26T07:19:14.237Z"
      },
      {
        "duration": 4,
        "start_time": "2022-05-26T07:20:24.301Z"
      },
      {
        "duration": 12,
        "start_time": "2022-05-26T07:20:25.668Z"
      },
      {
        "duration": 31,
        "start_time": "2022-05-26T07:20:42.117Z"
      },
      {
        "duration": 74,
        "start_time": "2022-05-26T07:20:51.566Z"
      },
      {
        "duration": 36,
        "start_time": "2022-05-26T07:20:53.138Z"
      },
      {
        "duration": 4,
        "start_time": "2022-05-26T07:21:00.634Z"
      },
      {
        "duration": 6,
        "start_time": "2022-05-26T07:21:02.014Z"
      },
      {
        "duration": 41,
        "start_time": "2022-05-26T07:21:09.018Z"
      },
      {
        "duration": 41,
        "start_time": "2022-05-26T07:21:12.895Z"
      },
      {
        "duration": 38,
        "start_time": "2022-05-26T07:21:13.947Z"
      },
      {
        "duration": 35,
        "start_time": "2022-05-26T07:21:21.535Z"
      },
      {
        "duration": 6,
        "start_time": "2022-05-26T07:21:37.213Z"
      },
      {
        "duration": 9,
        "start_time": "2022-05-26T07:21:39.450Z"
      },
      {
        "duration": 4,
        "start_time": "2022-05-26T07:22:32.739Z"
      },
      {
        "duration": 6,
        "start_time": "2022-05-26T07:22:33.936Z"
      },
      {
        "duration": 44,
        "start_time": "2022-05-26T07:22:42.926Z"
      },
      {
        "duration": 20,
        "start_time": "2022-05-26T07:22:57.849Z"
      },
      {
        "duration": 11,
        "start_time": "2022-05-26T07:22:59.305Z"
      },
      {
        "duration": 13,
        "start_time": "2022-05-26T07:23:04.984Z"
      },
      {
        "duration": 60,
        "start_time": "2022-05-26T07:23:12.743Z"
      },
      {
        "duration": 37,
        "start_time": "2022-05-26T07:23:13.909Z"
      },
      {
        "duration": 9,
        "start_time": "2022-05-26T07:23:31.569Z"
      },
      {
        "duration": 9,
        "start_time": "2022-05-26T07:24:22.991Z"
      },
      {
        "duration": 6,
        "start_time": "2022-05-26T07:24:32.704Z"
      },
      {
        "duration": 15,
        "start_time": "2022-05-26T07:24:49.773Z"
      },
      {
        "duration": 10,
        "start_time": "2022-05-26T07:24:58.155Z"
      },
      {
        "duration": 3,
        "start_time": "2022-05-26T07:27:25.531Z"
      },
      {
        "duration": 5,
        "start_time": "2022-05-26T07:28:06.395Z"
      },
      {
        "duration": 5,
        "start_time": "2022-05-26T07:28:11.040Z"
      },
      {
        "duration": 16,
        "start_time": "2022-05-26T07:28:26.626Z"
      },
      {
        "duration": 1412,
        "start_time": "2022-05-26T07:29:03.964Z"
      },
      {
        "duration": 10,
        "start_time": "2022-05-26T07:29:12.799Z"
      },
      {
        "duration": 11,
        "start_time": "2022-05-26T07:29:15.029Z"
      },
      {
        "duration": 14,
        "start_time": "2022-05-26T07:33:18.928Z"
      },
      {
        "duration": 1246,
        "start_time": "2022-05-26T07:33:29.748Z"
      },
      {
        "duration": 42,
        "start_time": "2022-05-26T07:33:30.996Z"
      },
      {
        "duration": 118,
        "start_time": "2022-05-26T07:33:31.040Z"
      },
      {
        "duration": 17,
        "start_time": "2022-05-26T07:33:31.164Z"
      },
      {
        "duration": 18,
        "start_time": "2022-05-26T07:33:31.182Z"
      },
      {
        "duration": 18,
        "start_time": "2022-05-26T07:33:31.202Z"
      },
      {
        "duration": 28,
        "start_time": "2022-05-26T07:33:31.222Z"
      },
      {
        "duration": 1453,
        "start_time": "2022-05-26T07:33:31.251Z"
      },
      {
        "duration": 12,
        "start_time": "2022-05-26T07:33:32.706Z"
      },
      {
        "duration": 14,
        "start_time": "2022-05-26T07:33:32.721Z"
      },
      {
        "duration": 1329,
        "start_time": "2022-05-26T07:37:15.950Z"
      },
      {
        "duration": 42,
        "start_time": "2022-05-26T07:37:17.281Z"
      },
      {
        "duration": 119,
        "start_time": "2022-05-26T07:37:17.325Z"
      },
      {
        "duration": 4,
        "start_time": "2022-05-26T07:37:17.447Z"
      },
      {
        "duration": 23,
        "start_time": "2022-05-26T07:37:17.457Z"
      },
      {
        "duration": 8,
        "start_time": "2022-05-26T07:37:17.482Z"
      },
      {
        "duration": 19,
        "start_time": "2022-05-26T07:37:17.492Z"
      },
      {
        "duration": 1508,
        "start_time": "2022-05-26T07:37:17.512Z"
      },
      {
        "duration": 11,
        "start_time": "2022-05-26T07:37:19.021Z"
      },
      {
        "duration": 15,
        "start_time": "2022-05-26T07:37:19.035Z"
      },
      {
        "duration": 328,
        "start_time": "2022-05-26T07:38:54.088Z"
      },
      {
        "duration": 127,
        "start_time": "2022-05-26T07:42:08.780Z"
      },
      {
        "duration": 9,
        "start_time": "2022-05-26T07:42:12.013Z"
      },
      {
        "duration": 10055,
        "start_time": "2022-05-26T07:42:17.835Z"
      },
      {
        "duration": 317,
        "start_time": "2022-05-26T07:46:59.441Z"
      },
      {
        "duration": 348,
        "start_time": "2022-05-26T07:49:23.921Z"
      },
      {
        "duration": 401,
        "start_time": "2022-05-26T07:49:41.134Z"
      },
      {
        "duration": 362,
        "start_time": "2022-05-26T07:51:30.125Z"
      },
      {
        "duration": 356,
        "start_time": "2022-05-26T07:52:08.891Z"
      },
      {
        "duration": 779,
        "start_time": "2022-05-26T07:52:22.712Z"
      },
      {
        "duration": 271,
        "start_time": "2022-05-26T07:52:32.039Z"
      },
      {
        "duration": 1306,
        "start_time": "2022-05-26T07:52:38.099Z"
      },
      {
        "duration": 44,
        "start_time": "2022-05-26T07:52:39.407Z"
      },
      {
        "duration": 120,
        "start_time": "2022-05-26T07:52:39.455Z"
      },
      {
        "duration": 4,
        "start_time": "2022-05-26T07:52:39.578Z"
      },
      {
        "duration": 6,
        "start_time": "2022-05-26T07:52:39.585Z"
      },
      {
        "duration": 6,
        "start_time": "2022-05-26T07:52:39.593Z"
      },
      {
        "duration": 18,
        "start_time": "2022-05-26T07:52:39.601Z"
      },
      {
        "duration": 1475,
        "start_time": "2022-05-26T07:52:39.621Z"
      },
      {
        "duration": 370,
        "start_time": "2022-05-26T07:52:41.098Z"
      },
      {
        "duration": 238,
        "start_time": "2022-05-26T07:52:41.474Z"
      },
      {
        "duration": 11,
        "start_time": "2022-05-26T07:52:41.714Z"
      },
      {
        "duration": 35,
        "start_time": "2022-05-26T07:52:41.728Z"
      },
      {
        "duration": 160,
        "start_time": "2022-05-26T07:53:36.482Z"
      },
      {
        "duration": 17,
        "start_time": "2022-05-26T07:54:10.300Z"
      },
      {
        "duration": 13,
        "start_time": "2022-05-26T07:54:22.313Z"
      },
      {
        "duration": 20,
        "start_time": "2022-05-26T07:55:08.873Z"
      },
      {
        "duration": 18,
        "start_time": "2022-05-26T07:57:38.572Z"
      },
      {
        "duration": 506,
        "start_time": "2022-05-26T07:58:12.989Z"
      },
      {
        "duration": 466,
        "start_time": "2022-05-26T07:58:39.579Z"
      },
      {
        "duration": 469,
        "start_time": "2022-05-26T07:59:01.271Z"
      },
      {
        "duration": 495,
        "start_time": "2022-05-26T07:59:28.237Z"
      },
      {
        "duration": 619,
        "start_time": "2022-05-26T07:59:53.722Z"
      },
      {
        "duration": 1210,
        "start_time": "2022-05-26T08:00:00.068Z"
      },
      {
        "duration": 41,
        "start_time": "2022-05-26T08:00:19.067Z"
      },
      {
        "duration": 574,
        "start_time": "2022-05-26T08:00:22.706Z"
      },
      {
        "duration": 1292,
        "start_time": "2022-05-26T08:00:29.596Z"
      },
      {
        "duration": 474,
        "start_time": "2022-05-26T08:00:46.864Z"
      },
      {
        "duration": 478,
        "start_time": "2022-05-26T08:01:57.437Z"
      },
      {
        "duration": 1189,
        "start_time": "2022-05-26T08:02:58.639Z"
      },
      {
        "duration": 189,
        "start_time": "2022-05-26T08:03:08.181Z"
      },
      {
        "duration": 1273,
        "start_time": "2022-05-26T08:03:13.627Z"
      },
      {
        "duration": 1297,
        "start_time": "2022-05-26T08:03:31.664Z"
      },
      {
        "duration": 499,
        "start_time": "2022-05-26T08:04:14.516Z"
      },
      {
        "duration": 1739,
        "start_time": "2022-05-26T08:04:47.834Z"
      },
      {
        "duration": 371,
        "start_time": "2022-05-26T08:05:16.811Z"
      },
      {
        "duration": 281,
        "start_time": "2022-05-26T08:05:31.299Z"
      },
      {
        "duration": 652,
        "start_time": "2022-05-26T08:05:43.689Z"
      },
      {
        "duration": 798,
        "start_time": "2022-05-26T08:06:00.990Z"
      },
      {
        "duration": 1086,
        "start_time": "2022-05-26T08:06:22.004Z"
      },
      {
        "duration": 51,
        "start_time": "2022-05-26T08:06:52.451Z"
      },
      {
        "duration": 2,
        "start_time": "2022-05-26T08:06:53.731Z"
      },
      {
        "duration": 50,
        "start_time": "2022-05-26T08:06:54.937Z"
      },
      {
        "duration": 1167,
        "start_time": "2022-05-26T08:06:59.703Z"
      },
      {
        "duration": 1305,
        "start_time": "2022-05-26T08:09:10.773Z"
      },
      {
        "duration": 44,
        "start_time": "2022-05-26T08:10:04.778Z"
      },
      {
        "duration": 43,
        "start_time": "2022-05-26T08:10:14.002Z"
      },
      {
        "duration": 43,
        "start_time": "2022-05-26T08:10:17.275Z"
      },
      {
        "duration": 1250,
        "start_time": "2022-05-26T08:10:31.280Z"
      },
      {
        "duration": 87,
        "start_time": "2022-05-26T08:11:45.430Z"
      },
      {
        "duration": 44,
        "start_time": "2022-05-26T08:11:56.634Z"
      },
      {
        "duration": 1365,
        "start_time": "2022-05-26T08:12:13.147Z"
      },
      {
        "duration": 1290,
        "start_time": "2022-05-26T08:12:35.528Z"
      },
      {
        "duration": 1313,
        "start_time": "2022-05-26T08:13:05.197Z"
      },
      {
        "duration": 21,
        "start_time": "2022-05-26T08:14:56.969Z"
      },
      {
        "duration": 2271,
        "start_time": "2022-05-26T08:15:35.144Z"
      },
      {
        "duration": 1849,
        "start_time": "2022-05-26T08:15:45.495Z"
      },
      {
        "duration": 1904,
        "start_time": "2022-05-26T08:16:02.383Z"
      },
      {
        "duration": 2000,
        "start_time": "2022-05-26T08:16:34.604Z"
      },
      {
        "duration": 426,
        "start_time": "2022-05-26T08:28:24.381Z"
      },
      {
        "duration": 1917,
        "start_time": "2022-05-26T08:29:02.079Z"
      },
      {
        "duration": 818,
        "start_time": "2022-05-26T08:30:38.312Z"
      },
      {
        "duration": 41,
        "start_time": "2022-05-26T08:31:39.464Z"
      },
      {
        "duration": 788,
        "start_time": "2022-05-26T08:31:51.738Z"
      },
      {
        "duration": 810,
        "start_time": "2022-05-26T08:31:58.423Z"
      },
      {
        "duration": 1052,
        "start_time": "2022-05-26T08:32:51.736Z"
      },
      {
        "duration": 857,
        "start_time": "2022-05-26T08:33:01.410Z"
      },
      {
        "duration": 898,
        "start_time": "2022-05-26T08:33:06.292Z"
      },
      {
        "duration": 1029,
        "start_time": "2022-05-26T08:33:10.044Z"
      },
      {
        "duration": 451,
        "start_time": "2022-05-26T08:33:24.438Z"
      },
      {
        "duration": 867,
        "start_time": "2022-05-26T08:33:38.332Z"
      },
      {
        "duration": 887,
        "start_time": "2022-05-26T08:33:53.611Z"
      },
      {
        "duration": 963,
        "start_time": "2022-05-26T08:34:15.481Z"
      },
      {
        "duration": 1229,
        "start_time": "2022-05-26T08:35:17.123Z"
      },
      {
        "duration": 1476,
        "start_time": "2022-05-26T08:35:35.080Z"
      },
      {
        "duration": 884,
        "start_time": "2022-05-26T08:35:48.519Z"
      },
      {
        "duration": 838,
        "start_time": "2022-05-26T08:36:22.998Z"
      },
      {
        "duration": 758,
        "start_time": "2022-05-26T08:37:06.655Z"
      },
      {
        "duration": 1749,
        "start_time": "2022-05-26T08:37:25.313Z"
      },
      {
        "duration": 1847,
        "start_time": "2022-05-26T08:37:35.663Z"
      },
      {
        "duration": 1542,
        "start_time": "2022-05-26T08:38:08.227Z"
      },
      {
        "duration": 1766,
        "start_time": "2022-05-26T08:38:29.986Z"
      },
      {
        "duration": 1686,
        "start_time": "2022-05-26T08:39:21.202Z"
      },
      {
        "duration": 1926,
        "start_time": "2022-05-26T08:41:04.848Z"
      },
      {
        "duration": 2028,
        "start_time": "2022-05-26T08:41:24.045Z"
      },
      {
        "duration": 1600,
        "start_time": "2022-05-26T08:41:58.290Z"
      },
      {
        "duration": 1878,
        "start_time": "2022-05-26T08:42:29.032Z"
      },
      {
        "duration": 1753,
        "start_time": "2022-05-26T08:43:02.638Z"
      },
      {
        "duration": 8,
        "start_time": "2022-05-26T08:47:24.234Z"
      },
      {
        "duration": 1886,
        "start_time": "2022-05-26T08:47:40.989Z"
      },
      {
        "duration": 1182,
        "start_time": "2022-05-26T08:53:00.266Z"
      },
      {
        "duration": 76,
        "start_time": "2022-05-26T08:53:01.450Z"
      },
      {
        "duration": 108,
        "start_time": "2022-05-26T08:53:01.528Z"
      },
      {
        "duration": 5,
        "start_time": "2022-05-26T08:53:01.638Z"
      },
      {
        "duration": 19,
        "start_time": "2022-05-26T08:53:01.657Z"
      },
      {
        "duration": 17,
        "start_time": "2022-05-26T08:53:01.678Z"
      },
      {
        "duration": 33,
        "start_time": "2022-05-26T08:53:01.696Z"
      },
      {
        "duration": 1435,
        "start_time": "2022-05-26T08:53:01.731Z"
      },
      {
        "duration": 1888,
        "start_time": "2022-05-26T08:53:03.168Z"
      },
      {
        "duration": 11,
        "start_time": "2022-05-26T08:53:05.062Z"
      },
      {
        "duration": 18,
        "start_time": "2022-05-26T08:53:05.075Z"
      },
      {
        "duration": 65,
        "start_time": "2022-05-26T08:55:41.918Z"
      },
      {
        "duration": 1178,
        "start_time": "2022-05-26T08:56:20.330Z"
      },
      {
        "duration": 41,
        "start_time": "2022-05-26T08:56:21.510Z"
      },
      {
        "duration": 136,
        "start_time": "2022-05-26T08:56:21.555Z"
      },
      {
        "duration": 4,
        "start_time": "2022-05-26T08:56:21.693Z"
      },
      {
        "duration": 8,
        "start_time": "2022-05-26T08:56:21.698Z"
      },
      {
        "duration": 5,
        "start_time": "2022-05-26T08:56:21.708Z"
      },
      {
        "duration": 42,
        "start_time": "2022-05-26T08:56:21.715Z"
      },
      {
        "duration": 1380,
        "start_time": "2022-05-26T08:56:21.768Z"
      },
      {
        "duration": 1825,
        "start_time": "2022-05-26T08:56:23.149Z"
      },
      {
        "duration": 10,
        "start_time": "2022-05-26T08:56:24.976Z"
      },
      {
        "duration": 12,
        "start_time": "2022-05-26T08:56:24.988Z"
      },
      {
        "duration": 13,
        "start_time": "2022-05-26T09:17:47.622Z"
      },
      {
        "duration": 8,
        "start_time": "2022-05-26T09:24:59.108Z"
      },
      {
        "duration": 10,
        "start_time": "2022-05-26T09:25:58.635Z"
      },
      {
        "duration": 1228,
        "start_time": "2022-05-26T09:26:13.428Z"
      },
      {
        "duration": 43,
        "start_time": "2022-05-26T09:26:14.658Z"
      },
      {
        "duration": 139,
        "start_time": "2022-05-26T09:26:14.702Z"
      },
      {
        "duration": 4,
        "start_time": "2022-05-26T09:26:14.844Z"
      },
      {
        "duration": 24,
        "start_time": "2022-05-26T09:26:14.854Z"
      },
      {
        "duration": 9,
        "start_time": "2022-05-26T09:26:14.880Z"
      },
      {
        "duration": 22,
        "start_time": "2022-05-26T09:26:14.890Z"
      },
      {
        "duration": 2630,
        "start_time": "2022-05-26T09:26:14.914Z"
      },
      {
        "duration": 1926,
        "start_time": "2022-05-26T09:26:17.546Z"
      },
      {
        "duration": 127,
        "start_time": "2022-05-26T09:26:19.475Z"
      },
      {
        "duration": 0,
        "start_time": "2022-05-26T09:26:19.604Z"
      },
      {
        "duration": 5,
        "start_time": "2022-05-26T09:27:30.066Z"
      },
      {
        "duration": 9,
        "start_time": "2022-05-26T09:27:59.281Z"
      },
      {
        "duration": 11,
        "start_time": "2022-05-26T09:29:48.933Z"
      },
      {
        "duration": 9,
        "start_time": "2022-05-26T09:29:50.811Z"
      },
      {
        "duration": 12,
        "start_time": "2022-05-26T09:30:07.800Z"
      },
      {
        "duration": 1243,
        "start_time": "2022-05-26T09:30:12.923Z"
      },
      {
        "duration": 56,
        "start_time": "2022-05-26T09:30:14.169Z"
      },
      {
        "duration": 155,
        "start_time": "2022-05-26T09:30:14.227Z"
      },
      {
        "duration": 4,
        "start_time": "2022-05-26T09:30:14.385Z"
      },
      {
        "duration": 9,
        "start_time": "2022-05-26T09:30:14.390Z"
      },
      {
        "duration": 7,
        "start_time": "2022-05-26T09:30:14.401Z"
      },
      {
        "duration": 15,
        "start_time": "2022-05-26T09:30:14.410Z"
      },
      {
        "duration": 2557,
        "start_time": "2022-05-26T09:30:14.451Z"
      },
      {
        "duration": 2077,
        "start_time": "2022-05-26T09:30:17.010Z"
      },
      {
        "duration": 13,
        "start_time": "2022-05-26T09:30:19.089Z"
      },
      {
        "duration": 14,
        "start_time": "2022-05-26T09:30:19.104Z"
      },
      {
        "duration": 3,
        "start_time": "2022-05-26T09:38:59.639Z"
      },
      {
        "duration": 11,
        "start_time": "2022-05-26T09:40:02.916Z"
      },
      {
        "duration": 11,
        "start_time": "2022-05-26T09:40:04.254Z"
      },
      {
        "duration": 126,
        "start_time": "2022-05-26T09:40:05.979Z"
      },
      {
        "duration": 3,
        "start_time": "2022-05-26T09:43:25.732Z"
      },
      {
        "duration": 11,
        "start_time": "2022-05-26T09:43:31.840Z"
      },
      {
        "duration": 9,
        "start_time": "2022-05-26T09:43:52.513Z"
      },
      {
        "duration": 3,
        "start_time": "2022-05-26T09:43:54.320Z"
      },
      {
        "duration": 12,
        "start_time": "2022-05-26T09:43:56.028Z"
      },
      {
        "duration": 11,
        "start_time": "2022-05-26T09:46:22.733Z"
      },
      {
        "duration": 8,
        "start_time": "2022-05-26T09:46:30.513Z"
      },
      {
        "duration": 4,
        "start_time": "2022-05-26T09:46:46.639Z"
      },
      {
        "duration": 4,
        "start_time": "2022-05-26T09:46:50.203Z"
      },
      {
        "duration": 9,
        "start_time": "2022-05-26T09:47:20.318Z"
      },
      {
        "duration": 4,
        "start_time": "2022-05-26T09:47:25.267Z"
      },
      {
        "duration": 10,
        "start_time": "2022-05-26T09:47:26.771Z"
      },
      {
        "duration": 12,
        "start_time": "2022-05-26T09:47:35.899Z"
      },
      {
        "duration": 11,
        "start_time": "2022-05-26T09:47:45.550Z"
      },
      {
        "duration": 11,
        "start_time": "2022-05-26T09:48:04.385Z"
      },
      {
        "duration": 12,
        "start_time": "2022-05-26T09:48:46.731Z"
      },
      {
        "duration": 5,
        "start_time": "2022-05-26T09:48:55.276Z"
      },
      {
        "duration": 10,
        "start_time": "2022-05-26T09:48:56.849Z"
      },
      {
        "duration": 3,
        "start_time": "2022-05-26T09:48:58.722Z"
      },
      {
        "duration": 13,
        "start_time": "2022-05-26T09:49:00.112Z"
      },
      {
        "duration": 20,
        "start_time": "2022-05-26T09:49:21.744Z"
      },
      {
        "duration": 29,
        "start_time": "2022-05-26T09:50:12.219Z"
      },
      {
        "duration": 22,
        "start_time": "2022-05-26T09:50:23.124Z"
      },
      {
        "duration": 28,
        "start_time": "2022-05-26T11:59:17.031Z"
      },
      {
        "duration": 1320,
        "start_time": "2022-05-26T11:59:24.688Z"
      },
      {
        "duration": 87,
        "start_time": "2022-05-26T11:59:26.009Z"
      },
      {
        "duration": 156,
        "start_time": "2022-05-26T11:59:26.098Z"
      },
      {
        "duration": 11,
        "start_time": "2022-05-26T11:59:26.256Z"
      },
      {
        "duration": 17,
        "start_time": "2022-05-26T11:59:26.272Z"
      },
      {
        "duration": 6,
        "start_time": "2022-05-26T11:59:26.291Z"
      },
      {
        "duration": 17,
        "start_time": "2022-05-26T11:59:26.298Z"
      },
      {
        "duration": 1471,
        "start_time": "2022-05-26T11:59:26.317Z"
      },
      {
        "duration": 1970,
        "start_time": "2022-05-26T11:59:27.790Z"
      },
      {
        "duration": 5,
        "start_time": "2022-05-26T11:59:29.768Z"
      },
      {
        "duration": 12,
        "start_time": "2022-05-26T11:59:29.774Z"
      },
      {
        "duration": 4,
        "start_time": "2022-05-26T11:59:29.788Z"
      },
      {
        "duration": 32,
        "start_time": "2022-05-26T11:59:29.793Z"
      },
      {
        "duration": 1971,
        "start_time": "2022-05-26T12:05:31.041Z"
      },
      {
        "duration": 2271,
        "start_time": "2022-05-26T12:05:41.916Z"
      },
      {
        "duration": 2250,
        "start_time": "2022-05-26T12:06:13.471Z"
      },
      {
        "duration": 2135,
        "start_time": "2022-05-26T12:06:21.209Z"
      },
      {
        "duration": 56,
        "start_time": "2022-05-26T12:42:55.636Z"
      },
      {
        "duration": 138,
        "start_time": "2022-05-26T12:43:27.321Z"
      },
      {
        "duration": 109,
        "start_time": "2022-05-26T12:44:59.694Z"
      },
      {
        "duration": 5,
        "start_time": "2022-05-26T12:47:55.175Z"
      },
      {
        "duration": 3,
        "start_time": "2022-05-26T12:51:34.334Z"
      },
      {
        "duration": 24,
        "start_time": "2022-05-26T12:51:36.027Z"
      },
      {
        "duration": 9,
        "start_time": "2022-05-26T12:53:34.400Z"
      },
      {
        "duration": 10,
        "start_time": "2022-05-26T12:53:36.658Z"
      },
      {
        "duration": 12,
        "start_time": "2022-05-26T12:53:37.924Z"
      },
      {
        "duration": 3,
        "start_time": "2022-05-26T12:53:40.385Z"
      },
      {
        "duration": 30,
        "start_time": "2022-05-26T12:53:43.574Z"
      },
      {
        "duration": 12,
        "start_time": "2022-05-26T12:54:28.078Z"
      },
      {
        "duration": 12,
        "start_time": "2022-05-26T12:54:46.958Z"
      },
      {
        "duration": 10,
        "start_time": "2022-05-26T12:55:06.579Z"
      },
      {
        "duration": 1774,
        "start_time": "2022-05-27T07:53:01.810Z"
      },
      {
        "duration": 172,
        "start_time": "2022-05-27T07:53:03.586Z"
      },
      {
        "duration": 103,
        "start_time": "2022-05-27T07:53:03.760Z"
      },
      {
        "duration": 16,
        "start_time": "2022-05-27T07:53:03.866Z"
      },
      {
        "duration": 24,
        "start_time": "2022-05-27T07:53:03.886Z"
      },
      {
        "duration": 6,
        "start_time": "2022-05-27T07:53:03.913Z"
      },
      {
        "duration": 33,
        "start_time": "2022-05-27T07:53:03.921Z"
      },
      {
        "duration": 1488,
        "start_time": "2022-05-27T07:53:03.957Z"
      },
      {
        "duration": 1898,
        "start_time": "2022-05-27T07:53:05.447Z"
      },
      {
        "duration": 4,
        "start_time": "2022-05-27T07:53:07.348Z"
      },
      {
        "duration": 30,
        "start_time": "2022-05-27T07:53:07.355Z"
      },
      {
        "duration": 13,
        "start_time": "2022-05-27T07:53:07.390Z"
      },
      {
        "duration": 135,
        "start_time": "2022-05-27T07:53:07.405Z"
      },
      {
        "duration": 0,
        "start_time": "2022-05-27T07:53:07.541Z"
      },
      {
        "duration": 11,
        "start_time": "2022-05-27T07:54:17.722Z"
      },
      {
        "duration": 6,
        "start_time": "2022-05-27T07:54:22.860Z"
      },
      {
        "duration": 9,
        "start_time": "2022-05-27T07:54:24.063Z"
      },
      {
        "duration": 12,
        "start_time": "2022-05-27T07:54:36.628Z"
      },
      {
        "duration": 1298,
        "start_time": "2022-05-27T07:54:45.136Z"
      },
      {
        "duration": 46,
        "start_time": "2022-05-27T07:54:46.435Z"
      },
      {
        "duration": 75,
        "start_time": "2022-05-27T07:54:46.482Z"
      },
      {
        "duration": 6,
        "start_time": "2022-05-27T07:54:46.559Z"
      },
      {
        "duration": 18,
        "start_time": "2022-05-27T07:54:46.578Z"
      },
      {
        "duration": 6,
        "start_time": "2022-05-27T07:54:46.598Z"
      },
      {
        "duration": 19,
        "start_time": "2022-05-27T07:54:46.605Z"
      },
      {
        "duration": 1367,
        "start_time": "2022-05-27T07:54:46.625Z"
      },
      {
        "duration": 1830,
        "start_time": "2022-05-27T07:54:47.995Z"
      },
      {
        "duration": 5,
        "start_time": "2022-05-27T07:54:49.827Z"
      },
      {
        "duration": 16,
        "start_time": "2022-05-27T07:54:49.834Z"
      },
      {
        "duration": 36,
        "start_time": "2022-05-27T07:54:49.852Z"
      },
      {
        "duration": 250,
        "start_time": "2022-05-27T07:54:49.895Z"
      },
      {
        "duration": 0,
        "start_time": "2022-05-27T07:54:50.147Z"
      },
      {
        "duration": 10,
        "start_time": "2022-05-27T07:56:35.537Z"
      },
      {
        "duration": 23,
        "start_time": "2022-05-27T07:56:41.993Z"
      },
      {
        "duration": 31,
        "start_time": "2022-05-27T07:56:44.330Z"
      },
      {
        "duration": 61,
        "start_time": "2022-05-27T07:56:48.908Z"
      },
      {
        "duration": 3,
        "start_time": "2022-05-27T07:56:59.312Z"
      },
      {
        "duration": 35,
        "start_time": "2022-05-27T07:57:01.058Z"
      },
      {
        "duration": 47,
        "start_time": "2022-05-27T07:57:03.564Z"
      },
      {
        "duration": 5,
        "start_time": "2022-05-27T07:59:45.208Z"
      },
      {
        "duration": 6,
        "start_time": "2022-05-27T07:59:52.336Z"
      },
      {
        "duration": 122,
        "start_time": "2022-05-27T07:59:54.037Z"
      },
      {
        "duration": 3,
        "start_time": "2022-05-27T07:59:56.327Z"
      },
      {
        "duration": 32,
        "start_time": "2022-05-27T07:59:57.894Z"
      },
      {
        "duration": 210,
        "start_time": "2022-05-27T08:00:02.298Z"
      },
      {
        "duration": 5,
        "start_time": "2022-05-27T08:02:47.324Z"
      },
      {
        "duration": 5,
        "start_time": "2022-05-27T08:02:48.752Z"
      },
      {
        "duration": 10,
        "start_time": "2022-05-27T08:02:49.958Z"
      },
      {
        "duration": 36,
        "start_time": "2022-05-27T08:02:52.728Z"
      },
      {
        "duration": 72,
        "start_time": "2022-05-27T08:02:54.410Z"
      },
      {
        "duration": 1274,
        "start_time": "2022-05-27T08:04:05.738Z"
      },
      {
        "duration": 42,
        "start_time": "2022-05-27T08:04:07.013Z"
      },
      {
        "duration": 74,
        "start_time": "2022-05-27T08:04:07.056Z"
      },
      {
        "duration": 6,
        "start_time": "2022-05-27T08:04:07.131Z"
      },
      {
        "duration": 10,
        "start_time": "2022-05-27T08:04:07.138Z"
      },
      {
        "duration": 6,
        "start_time": "2022-05-27T08:04:07.150Z"
      },
      {
        "duration": 45,
        "start_time": "2022-05-27T08:04:07.176Z"
      },
      {
        "duration": 1482,
        "start_time": "2022-05-27T08:04:07.223Z"
      },
      {
        "duration": 2098,
        "start_time": "2022-05-27T08:04:08.707Z"
      },
      {
        "duration": 143,
        "start_time": "2022-05-27T08:04:10.807Z"
      },
      {
        "duration": 0,
        "start_time": "2022-05-27T08:04:10.953Z"
      },
      {
        "duration": 0,
        "start_time": "2022-05-27T08:04:10.955Z"
      },
      {
        "duration": 0,
        "start_time": "2022-05-27T08:04:10.956Z"
      },
      {
        "duration": 0,
        "start_time": "2022-05-27T08:04:10.958Z"
      },
      {
        "duration": 1323,
        "start_time": "2022-05-27T08:04:30.423Z"
      },
      {
        "duration": 59,
        "start_time": "2022-05-27T08:04:31.748Z"
      },
      {
        "duration": 88,
        "start_time": "2022-05-27T08:04:31.809Z"
      },
      {
        "duration": 6,
        "start_time": "2022-05-27T08:04:31.899Z"
      },
      {
        "duration": 26,
        "start_time": "2022-05-27T08:04:31.908Z"
      },
      {
        "duration": 8,
        "start_time": "2022-05-27T08:04:31.936Z"
      },
      {
        "duration": 14,
        "start_time": "2022-05-27T08:04:31.947Z"
      },
      {
        "duration": 1524,
        "start_time": "2022-05-27T08:04:31.964Z"
      },
      {
        "duration": 1833,
        "start_time": "2022-05-27T08:04:33.491Z"
      },
      {
        "duration": 5,
        "start_time": "2022-05-27T08:04:35.326Z"
      },
      {
        "duration": 24,
        "start_time": "2022-05-27T08:04:35.333Z"
      },
      {
        "duration": 33,
        "start_time": "2022-05-27T08:04:35.359Z"
      },
      {
        "duration": 30,
        "start_time": "2022-05-27T08:04:35.393Z"
      },
      {
        "duration": 167,
        "start_time": "2022-05-27T08:04:35.425Z"
      },
      {
        "duration": 5,
        "start_time": "2022-05-27T10:05:22.763Z"
      },
      {
        "duration": 17,
        "start_time": "2022-05-27T10:05:32.272Z"
      },
      {
        "duration": 130,
        "start_time": "2022-05-27T10:05:48.742Z"
      },
      {
        "duration": 6,
        "start_time": "2022-05-27T10:06:40.633Z"
      },
      {
        "duration": 8,
        "start_time": "2022-05-27T10:07:02.631Z"
      },
      {
        "duration": 28,
        "start_time": "2022-05-27T10:07:24.297Z"
      },
      {
        "duration": 167,
        "start_time": "2022-05-27T10:08:48.442Z"
      },
      {
        "duration": 24251,
        "start_time": "2022-05-27T10:09:17.849Z"
      },
      {
        "duration": 65354,
        "start_time": "2022-05-27T10:09:49.690Z"
      },
      {
        "duration": 20,
        "start_time": "2022-05-27T10:26:28.366Z"
      },
      {
        "duration": 22,
        "start_time": "2022-05-27T10:27:25.662Z"
      },
      {
        "duration": 145939,
        "start_time": "2022-05-27T10:29:33.030Z"
      },
      {
        "duration": 300435,
        "start_time": "2022-05-27T10:33:57.534Z"
      },
      {
        "duration": 4663,
        "start_time": "2022-05-27T10:41:25.937Z"
      },
      {
        "duration": 10,
        "start_time": "2022-05-27T10:42:30.690Z"
      },
      {
        "duration": 4,
        "start_time": "2022-05-27T10:42:33.305Z"
      },
      {
        "duration": 79649,
        "start_time": "2022-05-27T10:42:57.860Z"
      },
      {
        "duration": 62991,
        "start_time": "2022-05-27T10:44:24.720Z"
      },
      {
        "duration": 4,
        "start_time": "2022-05-27T10:45:31.282Z"
      },
      {
        "duration": 3,
        "start_time": "2022-05-27T10:46:39.436Z"
      },
      {
        "duration": 18,
        "start_time": "2022-05-27T12:27:34.854Z"
      },
      {
        "duration": 12,
        "start_time": "2022-05-27T12:27:39.604Z"
      },
      {
        "duration": 11,
        "start_time": "2022-05-27T12:27:47.745Z"
      },
      {
        "duration": 3,
        "start_time": "2022-05-27T12:28:30.611Z"
      },
      {
        "duration": 1200,
        "start_time": "2022-05-27T12:28:39.510Z"
      },
      {
        "duration": 39,
        "start_time": "2022-05-27T12:28:40.712Z"
      },
      {
        "duration": 58,
        "start_time": "2022-05-27T12:28:40.753Z"
      },
      {
        "duration": 129,
        "start_time": "2022-05-27T12:28:40.812Z"
      },
      {
        "duration": 0,
        "start_time": "2022-05-27T12:28:40.943Z"
      },
      {
        "duration": 0,
        "start_time": "2022-05-27T12:28:40.944Z"
      },
      {
        "duration": 0,
        "start_time": "2022-05-27T12:28:40.945Z"
      },
      {
        "duration": 0,
        "start_time": "2022-05-27T12:28:40.946Z"
      },
      {
        "duration": 0,
        "start_time": "2022-05-27T12:28:40.947Z"
      },
      {
        "duration": 0,
        "start_time": "2022-05-27T12:28:40.948Z"
      },
      {
        "duration": 0,
        "start_time": "2022-05-27T12:28:40.949Z"
      },
      {
        "duration": 0,
        "start_time": "2022-05-27T12:28:40.949Z"
      },
      {
        "duration": 0,
        "start_time": "2022-05-27T12:28:40.950Z"
      },
      {
        "duration": 0,
        "start_time": "2022-05-27T12:28:40.951Z"
      },
      {
        "duration": 0,
        "start_time": "2022-05-27T12:28:40.952Z"
      },
      {
        "duration": 0,
        "start_time": "2022-05-27T12:28:40.953Z"
      },
      {
        "duration": 4,
        "start_time": "2022-05-27T12:28:46.387Z"
      },
      {
        "duration": 5,
        "start_time": "2022-05-27T12:28:55.480Z"
      },
      {
        "duration": 6,
        "start_time": "2022-05-27T12:28:59.696Z"
      },
      {
        "duration": 12,
        "start_time": "2022-05-27T12:29:11.584Z"
      },
      {
        "duration": 1284,
        "start_time": "2022-05-27T12:29:18.385Z"
      },
      {
        "duration": 1635,
        "start_time": "2022-05-27T12:29:45.497Z"
      },
      {
        "duration": 11,
        "start_time": "2022-05-27T12:30:00.986Z"
      },
      {
        "duration": 6,
        "start_time": "2022-05-27T12:30:03.489Z"
      },
      {
        "duration": 8,
        "start_time": "2022-05-27T12:30:19.334Z"
      },
      {
        "duration": 4,
        "start_time": "2022-05-27T12:30:29.995Z"
      },
      {
        "duration": 23,
        "start_time": "2022-05-27T12:30:31.354Z"
      },
      {
        "duration": 23,
        "start_time": "2022-05-27T12:30:46.248Z"
      },
      {
        "duration": 62330,
        "start_time": "2022-05-27T12:31:44.826Z"
      },
      {
        "duration": 3,
        "start_time": "2022-05-27T12:32:47.157Z"
      },
      {
        "duration": 3,
        "start_time": "2022-05-27T12:50:51.260Z"
      },
      {
        "duration": 23599,
        "start_time": "2022-05-27T12:56:37.749Z"
      },
      {
        "duration": 9,
        "start_time": "2022-05-27T12:57:01.350Z"
      },
      {
        "duration": 4883,
        "start_time": "2022-05-27T12:57:12.637Z"
      },
      {
        "duration": 3,
        "start_time": "2022-05-27T12:57:17.522Z"
      },
      {
        "duration": 395455,
        "start_time": "2022-05-27T12:59:03.488Z"
      },
      {
        "duration": 8,
        "start_time": "2022-05-27T13:05:38.945Z"
      },
      {
        "duration": 379856,
        "start_time": "2022-05-27T13:05:50.577Z"
      },
      {
        "duration": 9,
        "start_time": "2022-05-27T13:12:10.435Z"
      },
      {
        "duration": 72358,
        "start_time": "2022-05-27T13:12:35.605Z"
      },
      {
        "duration": 9,
        "start_time": "2022-05-27T13:13:47.964Z"
      },
      {
        "duration": 5,
        "start_time": "2022-05-27T13:14:01.019Z"
      },
      {
        "duration": 9741,
        "start_time": "2022-05-27T13:14:19.360Z"
      },
      {
        "duration": 3,
        "start_time": "2022-05-27T13:14:29.104Z"
      },
      {
        "duration": 10840,
        "start_time": "2022-05-27T13:14:44.091Z"
      },
      {
        "duration": 41,
        "start_time": "2022-05-27T13:16:48.716Z"
      },
      {
        "duration": 3,
        "start_time": "2022-05-27T13:17:20.161Z"
      },
      {
        "duration": 9065,
        "start_time": "2022-05-27T13:17:22.833Z"
      },
      {
        "duration": 3,
        "start_time": "2022-05-27T13:17:31.900Z"
      },
      {
        "duration": 3,
        "start_time": "2022-05-27T13:18:36.112Z"
      },
      {
        "duration": 147,
        "start_time": "2022-05-27T13:20:09.774Z"
      },
      {
        "duration": 4,
        "start_time": "2022-05-27T13:20:36.087Z"
      },
      {
        "duration": 64,
        "start_time": "2022-05-27T13:22:23.241Z"
      },
      {
        "duration": 1347,
        "start_time": "2022-05-27T13:23:04.715Z"
      },
      {
        "duration": 3,
        "start_time": "2022-05-27T13:23:20.295Z"
      },
      {
        "duration": 13912,
        "start_time": "2022-05-27T13:23:36.644Z"
      },
      {
        "duration": 3,
        "start_time": "2022-05-27T13:23:50.558Z"
      },
      {
        "duration": 2081,
        "start_time": "2022-05-27T13:23:50.562Z"
      },
      {
        "duration": 3,
        "start_time": "2022-05-27T13:23:52.646Z"
      },
      {
        "duration": 1480,
        "start_time": "2022-05-28T04:50:35.310Z"
      },
      {
        "duration": 77,
        "start_time": "2022-05-28T04:50:36.793Z"
      },
      {
        "duration": 63,
        "start_time": "2022-05-28T04:50:36.872Z"
      },
      {
        "duration": 5,
        "start_time": "2022-05-28T04:50:36.938Z"
      },
      {
        "duration": 9,
        "start_time": "2022-05-28T04:50:36.945Z"
      },
      {
        "duration": 6,
        "start_time": "2022-05-28T04:50:36.955Z"
      },
      {
        "duration": 26,
        "start_time": "2022-05-28T04:50:36.962Z"
      },
      {
        "duration": 2145,
        "start_time": "2022-05-28T04:50:36.990Z"
      },
      {
        "duration": 1646,
        "start_time": "2022-05-28T04:50:39.136Z"
      },
      {
        "duration": 11,
        "start_time": "2022-05-28T04:50:40.784Z"
      },
      {
        "duration": 23,
        "start_time": "2022-05-28T04:50:40.797Z"
      },
      {
        "duration": 26,
        "start_time": "2022-05-28T04:50:40.822Z"
      },
      {
        "duration": 21,
        "start_time": "2022-05-28T04:50:40.849Z"
      },
      {
        "duration": 134,
        "start_time": "2022-05-28T04:50:40.871Z"
      },
      {
        "duration": 12709,
        "start_time": "2022-05-28T04:50:41.006Z"
      },
      {
        "duration": 11,
        "start_time": "2022-05-28T04:50:53.717Z"
      },
      {
        "duration": 2161,
        "start_time": "2022-05-28T04:50:53.729Z"
      },
      {
        "duration": 4,
        "start_time": "2022-05-28T04:50:55.892Z"
      },
      {
        "duration": 15,
        "start_time": "2022-05-28T04:53:33.230Z"
      },
      {
        "duration": 130,
        "start_time": "2022-05-28T04:53:48.548Z"
      },
      {
        "duration": 1252,
        "start_time": "2022-05-28T04:54:02.742Z"
      },
      {
        "duration": 40,
        "start_time": "2022-05-28T04:54:03.995Z"
      },
      {
        "duration": 59,
        "start_time": "2022-05-28T04:54:04.037Z"
      },
      {
        "duration": 5,
        "start_time": "2022-05-28T04:54:04.098Z"
      },
      {
        "duration": 23,
        "start_time": "2022-05-28T04:54:04.104Z"
      },
      {
        "duration": 6,
        "start_time": "2022-05-28T04:54:04.128Z"
      },
      {
        "duration": 16,
        "start_time": "2022-05-28T04:54:04.135Z"
      },
      {
        "duration": 2011,
        "start_time": "2022-05-28T04:54:04.152Z"
      },
      {
        "duration": 1919,
        "start_time": "2022-05-28T04:54:06.165Z"
      },
      {
        "duration": 11,
        "start_time": "2022-05-28T04:54:08.087Z"
      },
      {
        "duration": 4,
        "start_time": "2022-05-28T04:54:08.100Z"
      },
      {
        "duration": 130,
        "start_time": "2022-05-28T04:54:08.106Z"
      },
      {
        "duration": 2,
        "start_time": "2022-05-28T04:54:08.238Z"
      },
      {
        "duration": 148,
        "start_time": "2022-05-28T04:54:08.242Z"
      },
      {
        "duration": 0,
        "start_time": "2022-05-28T04:54:08.392Z"
      },
      {
        "duration": 0,
        "start_time": "2022-05-28T04:54:08.394Z"
      },
      {
        "duration": 0,
        "start_time": "2022-05-28T04:54:08.395Z"
      },
      {
        "duration": 0,
        "start_time": "2022-05-28T04:54:08.396Z"
      },
      {
        "duration": 24,
        "start_time": "2022-05-28T04:54:16.703Z"
      },
      {
        "duration": 1285,
        "start_time": "2022-05-28T04:54:26.527Z"
      },
      {
        "duration": 40,
        "start_time": "2022-05-28T04:54:27.814Z"
      },
      {
        "duration": 58,
        "start_time": "2022-05-28T04:54:27.856Z"
      },
      {
        "duration": 4,
        "start_time": "2022-05-28T04:54:27.916Z"
      },
      {
        "duration": 8,
        "start_time": "2022-05-28T04:54:27.921Z"
      },
      {
        "duration": 5,
        "start_time": "2022-05-28T04:54:27.931Z"
      },
      {
        "duration": 13,
        "start_time": "2022-05-28T04:54:27.938Z"
      },
      {
        "duration": 1281,
        "start_time": "2022-05-28T04:54:27.953Z"
      },
      {
        "duration": 1695,
        "start_time": "2022-05-28T04:54:29.237Z"
      },
      {
        "duration": 11,
        "start_time": "2022-05-28T04:54:30.935Z"
      },
      {
        "duration": 15,
        "start_time": "2022-05-28T04:54:30.948Z"
      },
      {
        "duration": 132,
        "start_time": "2022-05-28T04:54:30.965Z"
      },
      {
        "duration": 23,
        "start_time": "2022-05-28T04:54:31.099Z"
      },
      {
        "duration": 31,
        "start_time": "2022-05-28T04:54:31.123Z"
      },
      {
        "duration": 10619,
        "start_time": "2022-05-28T04:54:31.156Z"
      },
      {
        "duration": 3,
        "start_time": "2022-05-28T04:54:41.777Z"
      },
      {
        "duration": 1724,
        "start_time": "2022-05-28T04:54:41.781Z"
      },
      {
        "duration": 5,
        "start_time": "2022-05-28T04:54:43.508Z"
      },
      {
        "duration": 3,
        "start_time": "2022-05-28T04:55:01.258Z"
      },
      {
        "duration": 24,
        "start_time": "2022-05-28T04:55:45.376Z"
      },
      {
        "duration": 4,
        "start_time": "2022-05-28T04:58:24.725Z"
      },
      {
        "duration": 87,
        "start_time": "2022-05-28T04:59:02.246Z"
      },
      {
        "duration": 400,
        "start_time": "2022-05-28T04:59:28.638Z"
      },
      {
        "duration": 154,
        "start_time": "2022-05-28T04:59:39.577Z"
      },
      {
        "duration": 168,
        "start_time": "2022-05-28T04:59:45.763Z"
      },
      {
        "duration": 1307,
        "start_time": "2022-05-28T05:00:34.098Z"
      },
      {
        "duration": 42,
        "start_time": "2022-05-28T05:00:35.406Z"
      },
      {
        "duration": 64,
        "start_time": "2022-05-28T05:00:35.449Z"
      },
      {
        "duration": 13,
        "start_time": "2022-05-28T05:00:35.515Z"
      },
      {
        "duration": 5,
        "start_time": "2022-05-28T05:00:35.529Z"
      },
      {
        "duration": 6,
        "start_time": "2022-05-28T05:00:35.535Z"
      },
      {
        "duration": 14,
        "start_time": "2022-05-28T05:00:35.542Z"
      },
      {
        "duration": 1381,
        "start_time": "2022-05-28T05:00:35.558Z"
      },
      {
        "duration": 1659,
        "start_time": "2022-05-28T05:00:36.941Z"
      },
      {
        "duration": 11,
        "start_time": "2022-05-28T05:00:38.602Z"
      },
      {
        "duration": 14,
        "start_time": "2022-05-28T05:00:38.614Z"
      },
      {
        "duration": 120,
        "start_time": "2022-05-28T05:00:38.630Z"
      },
      {
        "duration": 4,
        "start_time": "2022-05-28T05:00:38.752Z"
      },
      {
        "duration": 29,
        "start_time": "2022-05-28T05:00:38.758Z"
      },
      {
        "duration": 8601,
        "start_time": "2022-05-28T05:00:38.788Z"
      },
      {
        "duration": 3,
        "start_time": "2022-05-28T05:00:47.391Z"
      },
      {
        "duration": 1716,
        "start_time": "2022-05-28T05:00:47.395Z"
      },
      {
        "duration": 3,
        "start_time": "2022-05-28T05:00:49.113Z"
      },
      {
        "duration": 213,
        "start_time": "2022-05-28T05:00:49.117Z"
      },
      {
        "duration": 3,
        "start_time": "2022-05-28T05:00:57.156Z"
      },
      {
        "duration": 1294,
        "start_time": "2022-05-28T05:01:37.693Z"
      },
      {
        "duration": 42,
        "start_time": "2022-05-28T05:01:38.989Z"
      },
      {
        "duration": 63,
        "start_time": "2022-05-28T05:01:39.033Z"
      },
      {
        "duration": 14,
        "start_time": "2022-05-28T05:01:39.098Z"
      },
      {
        "duration": 11,
        "start_time": "2022-05-28T05:01:39.113Z"
      },
      {
        "duration": 11,
        "start_time": "2022-05-28T05:01:39.126Z"
      },
      {
        "duration": 15,
        "start_time": "2022-05-28T05:01:39.138Z"
      },
      {
        "duration": 1264,
        "start_time": "2022-05-28T05:01:39.154Z"
      },
      {
        "duration": 1599,
        "start_time": "2022-05-28T05:01:40.420Z"
      },
      {
        "duration": 11,
        "start_time": "2022-05-28T05:01:42.026Z"
      },
      {
        "duration": 4,
        "start_time": "2022-05-28T05:01:42.039Z"
      },
      {
        "duration": 129,
        "start_time": "2022-05-28T05:01:42.045Z"
      },
      {
        "duration": 2,
        "start_time": "2022-05-28T05:01:42.176Z"
      },
      {
        "duration": 5,
        "start_time": "2022-05-28T05:01:42.180Z"
      },
      {
        "duration": 7511,
        "start_time": "2022-05-28T05:01:42.186Z"
      },
      {
        "duration": 3,
        "start_time": "2022-05-28T05:01:49.699Z"
      },
      {
        "duration": 1667,
        "start_time": "2022-05-28T05:01:49.703Z"
      },
      {
        "duration": 3,
        "start_time": "2022-05-28T05:01:51.371Z"
      },
      {
        "duration": 755,
        "start_time": "2022-05-28T05:01:51.376Z"
      },
      {
        "duration": 3,
        "start_time": "2022-05-28T05:01:52.133Z"
      },
      {
        "duration": 563,
        "start_time": "2022-05-28T05:02:09.571Z"
      },
      {
        "duration": 509,
        "start_time": "2022-05-28T05:02:18.520Z"
      },
      {
        "duration": 1231,
        "start_time": "2022-05-28T05:04:09.568Z"
      },
      {
        "duration": 42,
        "start_time": "2022-05-28T05:04:10.800Z"
      },
      {
        "duration": 60,
        "start_time": "2022-05-28T05:04:10.844Z"
      },
      {
        "duration": 4,
        "start_time": "2022-05-28T05:04:10.906Z"
      },
      {
        "duration": 6,
        "start_time": "2022-05-28T05:04:10.926Z"
      },
      {
        "duration": 23,
        "start_time": "2022-05-28T05:04:10.933Z"
      },
      {
        "duration": 26,
        "start_time": "2022-05-28T05:04:10.958Z"
      },
      {
        "duration": 1281,
        "start_time": "2022-05-28T05:04:10.986Z"
      },
      {
        "duration": 1815,
        "start_time": "2022-05-28T05:04:12.269Z"
      },
      {
        "duration": 11,
        "start_time": "2022-05-28T05:04:14.085Z"
      },
      {
        "duration": 17,
        "start_time": "2022-05-28T05:04:14.098Z"
      },
      {
        "duration": 137,
        "start_time": "2022-05-28T05:04:14.117Z"
      },
      {
        "duration": 3,
        "start_time": "2022-05-28T05:04:14.255Z"
      },
      {
        "duration": 6,
        "start_time": "2022-05-28T05:04:14.261Z"
      },
      {
        "duration": 367,
        "start_time": "2022-05-28T05:04:14.269Z"
      },
      {
        "duration": 13374,
        "start_time": "2022-05-28T05:04:14.728Z"
      },
      {
        "duration": 4,
        "start_time": "2022-05-28T05:04:28.103Z"
      },
      {
        "duration": 1746,
        "start_time": "2022-05-28T05:04:28.108Z"
      },
      {
        "duration": 3,
        "start_time": "2022-05-28T05:04:29.856Z"
      },
      {
        "duration": 328,
        "start_time": "2022-05-28T05:04:37.206Z"
      },
      {
        "duration": 347,
        "start_time": "2022-05-28T05:04:43.883Z"
      },
      {
        "duration": 3,
        "start_time": "2022-05-28T05:06:20.958Z"
      },
      {
        "duration": 27,
        "start_time": "2022-05-28T05:06:22.484Z"
      },
      {
        "duration": 270,
        "start_time": "2022-05-28T05:06:24.757Z"
      },
      {
        "duration": 31,
        "start_time": "2022-05-28T05:06:53.771Z"
      },
      {
        "duration": 328,
        "start_time": "2022-05-28T05:06:58.501Z"
      },
      {
        "duration": 5,
        "start_time": "2022-05-28T05:07:22.385Z"
      },
      {
        "duration": 199,
        "start_time": "2022-05-28T05:07:24.730Z"
      },
      {
        "duration": 201,
        "start_time": "2022-05-28T05:08:26.534Z"
      },
      {
        "duration": 1240,
        "start_time": "2022-05-28T05:09:32.125Z"
      },
      {
        "duration": 40,
        "start_time": "2022-05-28T05:09:33.367Z"
      },
      {
        "duration": 59,
        "start_time": "2022-05-28T05:09:33.409Z"
      },
      {
        "duration": 4,
        "start_time": "2022-05-28T05:09:33.470Z"
      },
      {
        "duration": 27,
        "start_time": "2022-05-28T05:09:33.476Z"
      },
      {
        "duration": 18,
        "start_time": "2022-05-28T05:09:33.505Z"
      },
      {
        "duration": 32,
        "start_time": "2022-05-28T05:09:33.525Z"
      },
      {
        "duration": 1313,
        "start_time": "2022-05-28T05:09:33.562Z"
      },
      {
        "duration": 1686,
        "start_time": "2022-05-28T05:09:34.877Z"
      },
      {
        "duration": 10,
        "start_time": "2022-05-28T05:09:36.566Z"
      },
      {
        "duration": 22,
        "start_time": "2022-05-28T05:09:36.577Z"
      },
      {
        "duration": 136,
        "start_time": "2022-05-28T05:09:36.601Z"
      },
      {
        "duration": 23,
        "start_time": "2022-05-28T05:09:36.739Z"
      },
      {
        "duration": 41,
        "start_time": "2022-05-28T05:09:36.764Z"
      },
      {
        "duration": 231,
        "start_time": "2022-05-28T05:09:36.806Z"
      },
      {
        "duration": 11337,
        "start_time": "2022-05-28T05:09:37.127Z"
      },
      {
        "duration": 3,
        "start_time": "2022-05-28T05:09:48.466Z"
      },
      {
        "duration": 1708,
        "start_time": "2022-05-28T05:09:48.471Z"
      },
      {
        "duration": 3,
        "start_time": "2022-05-28T05:09:50.181Z"
      },
      {
        "duration": 162,
        "start_time": "2022-05-28T05:10:36.067Z"
      },
      {
        "duration": 1471,
        "start_time": "2022-05-29T05:55:12.432Z"
      },
      {
        "duration": 80,
        "start_time": "2022-05-29T05:55:13.905Z"
      },
      {
        "duration": 64,
        "start_time": "2022-05-29T05:55:13.986Z"
      },
      {
        "duration": 8,
        "start_time": "2022-05-29T05:55:14.052Z"
      },
      {
        "duration": 18,
        "start_time": "2022-05-29T05:55:14.061Z"
      },
      {
        "duration": 12,
        "start_time": "2022-05-29T05:55:14.080Z"
      },
      {
        "duration": 19,
        "start_time": "2022-05-29T05:55:14.093Z"
      },
      {
        "duration": 1361,
        "start_time": "2022-05-29T05:55:14.114Z"
      },
      {
        "duration": 1656,
        "start_time": "2022-05-29T05:55:15.477Z"
      },
      {
        "duration": 26,
        "start_time": "2022-05-29T05:55:17.136Z"
      },
      {
        "duration": 6,
        "start_time": "2022-05-29T05:55:17.164Z"
      },
      {
        "duration": 133,
        "start_time": "2022-05-29T05:55:17.172Z"
      },
      {
        "duration": 3,
        "start_time": "2022-05-29T05:55:17.306Z"
      },
      {
        "duration": 34,
        "start_time": "2022-05-29T05:55:17.310Z"
      },
      {
        "duration": 216,
        "start_time": "2022-05-29T05:55:17.346Z"
      },
      {
        "duration": 11941,
        "start_time": "2022-05-29T05:55:17.568Z"
      },
      {
        "duration": 4,
        "start_time": "2022-05-29T05:55:29.510Z"
      },
      {
        "duration": 1850,
        "start_time": "2022-05-29T05:55:29.516Z"
      },
      {
        "duration": 3,
        "start_time": "2022-05-29T05:55:31.368Z"
      },
      {
        "duration": 9853,
        "start_time": "2022-05-29T06:02:29.335Z"
      },
      {
        "duration": 13237,
        "start_time": "2022-05-29T06:03:06.018Z"
      },
      {
        "duration": 12401,
        "start_time": "2022-05-29T06:04:19.641Z"
      },
      {
        "duration": 69,
        "start_time": "2022-05-29T06:04:47.355Z"
      },
      {
        "duration": 19110,
        "start_time": "2022-05-29T06:04:56.165Z"
      },
      {
        "duration": 79344,
        "start_time": "2022-05-29T06:05:45.777Z"
      },
      {
        "duration": 11,
        "start_time": "2022-05-29T06:20:36.978Z"
      },
      {
        "duration": 65,
        "start_time": "2022-05-29T06:20:52.458Z"
      },
      {
        "duration": 288081,
        "start_time": "2022-05-29T06:21:16.317Z"
      },
      {
        "duration": 1903,
        "start_time": "2022-05-29T06:33:16.761Z"
      },
      {
        "duration": 67508,
        "start_time": "2022-05-29T06:33:39.850Z"
      },
      {
        "duration": 4,
        "start_time": "2022-05-29T06:39:49.366Z"
      },
      {
        "duration": 207,
        "start_time": "2022-05-29T06:42:41.105Z"
      },
      {
        "duration": 413,
        "start_time": "2022-05-29T06:42:55.389Z"
      },
      {
        "duration": 553,
        "start_time": "2022-05-29T06:42:59.110Z"
      },
      {
        "duration": 360,
        "start_time": "2022-05-29T06:43:14.566Z"
      },
      {
        "duration": 742,
        "start_time": "2022-05-29T06:43:19.350Z"
      },
      {
        "duration": 1780,
        "start_time": "2022-05-29T06:43:29.454Z"
      },
      {
        "duration": 341,
        "start_time": "2022-05-29T06:43:40.474Z"
      },
      {
        "duration": 5,
        "start_time": "2022-05-29T06:44:41.314Z"
      },
      {
        "duration": 24,
        "start_time": "2022-05-29T06:46:17.269Z"
      },
      {
        "duration": 14,
        "start_time": "2022-05-29T06:46:21.776Z"
      },
      {
        "duration": 627,
        "start_time": "2022-05-29T06:50:11.122Z"
      },
      {
        "duration": 658,
        "start_time": "2022-05-29T06:50:26.467Z"
      },
      {
        "duration": 30,
        "start_time": "2022-05-29T06:51:46.319Z"
      },
      {
        "duration": 55,
        "start_time": "2022-05-29T06:51:56.689Z"
      },
      {
        "duration": 1912,
        "start_time": "2022-05-29T06:52:10.655Z"
      },
      {
        "duration": 1897,
        "start_time": "2022-05-29T06:52:40.793Z"
      },
      {
        "duration": 1417,
        "start_time": "2022-05-29T08:39:40.978Z"
      },
      {
        "duration": 89,
        "start_time": "2022-05-29T08:39:42.397Z"
      },
      {
        "duration": 78,
        "start_time": "2022-05-29T08:39:42.488Z"
      },
      {
        "duration": 5,
        "start_time": "2022-05-29T08:39:42.568Z"
      },
      {
        "duration": 19,
        "start_time": "2022-05-29T08:39:42.575Z"
      },
      {
        "duration": 10,
        "start_time": "2022-05-29T08:39:42.595Z"
      },
      {
        "duration": 31,
        "start_time": "2022-05-29T08:39:42.608Z"
      },
      {
        "duration": 2335,
        "start_time": "2022-05-29T08:39:42.641Z"
      },
      {
        "duration": 1914,
        "start_time": "2022-05-29T08:39:44.978Z"
      },
      {
        "duration": 11,
        "start_time": "2022-05-29T08:39:46.894Z"
      },
      {
        "duration": 4,
        "start_time": "2022-05-29T08:39:46.906Z"
      },
      {
        "duration": 121,
        "start_time": "2022-05-29T08:39:46.912Z"
      },
      {
        "duration": 2,
        "start_time": "2022-05-29T08:39:47.035Z"
      },
      {
        "duration": 41,
        "start_time": "2022-05-29T08:39:47.038Z"
      },
      {
        "duration": 73943,
        "start_time": "2022-05-29T08:39:47.081Z"
      },
      {
        "duration": 58932,
        "start_time": "2022-05-29T08:41:01.026Z"
      },
      {
        "duration": 2105,
        "start_time": "2022-05-29T08:41:59.962Z"
      },
      {
        "duration": 3,
        "start_time": "2022-05-29T08:43:44.911Z"
      },
      {
        "duration": 13223,
        "start_time": "2022-05-29T08:45:47.399Z"
      },
      {
        "duration": 54175,
        "start_time": "2022-05-29T08:46:12.732Z"
      },
      {
        "duration": 1300,
        "start_time": "2022-05-29T08:54:24.465Z"
      },
      {
        "duration": 38,
        "start_time": "2022-05-29T08:54:25.767Z"
      },
      {
        "duration": 62,
        "start_time": "2022-05-29T08:54:25.806Z"
      },
      {
        "duration": 3,
        "start_time": "2022-05-29T08:54:25.870Z"
      },
      {
        "duration": 8,
        "start_time": "2022-05-29T08:54:25.875Z"
      },
      {
        "duration": 7,
        "start_time": "2022-05-29T08:54:25.884Z"
      },
      {
        "duration": 18,
        "start_time": "2022-05-29T08:54:25.892Z"
      },
      {
        "duration": 1368,
        "start_time": "2022-05-29T08:54:25.912Z"
      },
      {
        "duration": 1685,
        "start_time": "2022-05-29T08:54:27.282Z"
      },
      {
        "duration": 10,
        "start_time": "2022-05-29T08:54:28.969Z"
      },
      {
        "duration": 5,
        "start_time": "2022-05-29T08:54:28.980Z"
      },
      {
        "duration": 126,
        "start_time": "2022-05-29T08:54:28.986Z"
      },
      {
        "duration": 5,
        "start_time": "2022-05-29T08:54:29.113Z"
      },
      {
        "duration": 33,
        "start_time": "2022-05-29T08:54:29.119Z"
      },
      {
        "duration": 74093,
        "start_time": "2022-05-29T08:54:29.154Z"
      },
      {
        "duration": 53710,
        "start_time": "2022-05-29T08:55:43.248Z"
      },
      {
        "duration": 2053,
        "start_time": "2022-05-29T08:56:36.961Z"
      },
      {
        "duration": 1291,
        "start_time": "2022-05-29T09:14:15.632Z"
      },
      {
        "duration": 63,
        "start_time": "2022-05-29T09:14:16.925Z"
      },
      {
        "duration": 63,
        "start_time": "2022-05-29T09:14:16.990Z"
      },
      {
        "duration": 4,
        "start_time": "2022-05-29T09:14:17.055Z"
      },
      {
        "duration": 18,
        "start_time": "2022-05-29T09:14:17.060Z"
      },
      {
        "duration": 7,
        "start_time": "2022-05-29T09:14:17.079Z"
      },
      {
        "duration": 15,
        "start_time": "2022-05-29T09:14:17.088Z"
      },
      {
        "duration": 1351,
        "start_time": "2022-05-29T09:14:17.105Z"
      },
      {
        "duration": 1753,
        "start_time": "2022-05-29T09:14:18.458Z"
      },
      {
        "duration": 11,
        "start_time": "2022-05-29T09:14:20.213Z"
      },
      {
        "duration": 5,
        "start_time": "2022-05-29T09:14:20.226Z"
      },
      {
        "duration": 126,
        "start_time": "2022-05-29T09:14:20.232Z"
      },
      {
        "duration": 3,
        "start_time": "2022-05-29T09:14:20.359Z"
      },
      {
        "duration": 26,
        "start_time": "2022-05-29T09:14:20.363Z"
      },
      {
        "duration": 74102,
        "start_time": "2022-05-29T09:14:20.390Z"
      },
      {
        "duration": 59366,
        "start_time": "2022-05-29T09:15:34.493Z"
      },
      {
        "duration": 2183,
        "start_time": "2022-05-29T09:16:33.861Z"
      },
      {
        "duration": 6,
        "start_time": "2022-05-29T09:29:35.179Z"
      },
      {
        "duration": 1630,
        "start_time": "2022-05-29T09:37:43.179Z"
      },
      {
        "duration": 1525,
        "start_time": "2022-05-29T09:38:54.769Z"
      },
      {
        "duration": 1528,
        "start_time": "2022-05-29T09:39:02.799Z"
      },
      {
        "duration": 1442,
        "start_time": "2022-05-29T09:39:19.993Z"
      },
      {
        "duration": 1496,
        "start_time": "2022-05-29T09:39:54.419Z"
      },
      {
        "duration": 1381,
        "start_time": "2022-05-29T09:42:50.443Z"
      },
      {
        "duration": 1461,
        "start_time": "2022-05-29T09:44:02.069Z"
      },
      {
        "duration": 18358,
        "start_time": "2022-05-29T09:44:55.311Z"
      },
      {
        "duration": 211,
        "start_time": "2022-05-29T09:45:57.674Z"
      },
      {
        "duration": 1671,
        "start_time": "2022-05-29T09:47:02.466Z"
      },
      {
        "duration": 1556,
        "start_time": "2022-05-29T09:47:14.164Z"
      },
      {
        "duration": 1653,
        "start_time": "2022-05-29T09:48:07.282Z"
      },
      {
        "duration": 1531,
        "start_time": "2022-05-29T09:49:09.465Z"
      },
      {
        "duration": 1398,
        "start_time": "2022-05-29T09:49:26.844Z"
      },
      {
        "duration": 1521,
        "start_time": "2022-05-29T09:49:37.814Z"
      },
      {
        "duration": 18378,
        "start_time": "2022-05-29T09:50:02.101Z"
      },
      {
        "duration": 346,
        "start_time": "2022-05-29T09:50:32.161Z"
      },
      {
        "duration": 53,
        "start_time": "2022-05-29T09:53:20.218Z"
      },
      {
        "duration": 55,
        "start_time": "2022-05-29T09:54:05.650Z"
      },
      {
        "duration": 4,
        "start_time": "2022-05-29T09:54:23.942Z"
      },
      {
        "duration": 326,
        "start_time": "2022-05-29T09:54:29.278Z"
      },
      {
        "duration": 17269,
        "start_time": "2022-05-29T09:54:59.098Z"
      },
      {
        "duration": 1481,
        "start_time": "2022-05-29T09:55:50.960Z"
      },
      {
        "duration": 1577,
        "start_time": "2022-05-29T10:02:33.141Z"
      },
      {
        "duration": 27857,
        "start_time": "2022-05-29T10:08:02.541Z"
      },
      {
        "duration": 360,
        "start_time": "2022-05-29T10:10:20.479Z"
      },
      {
        "duration": 395,
        "start_time": "2022-05-29T10:16:29.676Z"
      },
      {
        "duration": 4638,
        "start_time": "2022-05-29T10:20:40.373Z"
      },
      {
        "duration": 81,
        "start_time": "2022-05-29T10:20:45.012Z"
      },
      {
        "duration": 89,
        "start_time": "2022-05-29T10:20:45.095Z"
      },
      {
        "duration": 5,
        "start_time": "2022-05-29T10:20:45.187Z"
      },
      {
        "duration": 16,
        "start_time": "2022-05-29T10:20:45.194Z"
      },
      {
        "duration": 6,
        "start_time": "2022-05-29T10:20:45.212Z"
      },
      {
        "duration": 16,
        "start_time": "2022-05-29T10:20:45.220Z"
      },
      {
        "duration": 1606,
        "start_time": "2022-05-29T10:20:45.238Z"
      },
      {
        "duration": 1962,
        "start_time": "2022-05-29T10:20:46.845Z"
      },
      {
        "duration": 12,
        "start_time": "2022-05-29T10:20:48.811Z"
      },
      {
        "duration": 6,
        "start_time": "2022-05-29T10:20:48.824Z"
      },
      {
        "duration": 148,
        "start_time": "2022-05-29T10:20:48.832Z"
      },
      {
        "duration": 8,
        "start_time": "2022-05-29T10:20:48.981Z"
      },
      {
        "duration": 27,
        "start_time": "2022-05-29T10:20:48.991Z"
      },
      {
        "duration": 85348,
        "start_time": "2022-05-29T10:20:49.020Z"
      },
      {
        "duration": 1807,
        "start_time": "2022-05-29T10:22:14.371Z"
      },
      {
        "duration": 117865,
        "start_time": "2022-05-29T10:22:16.182Z"
      },
      {
        "duration": 28151,
        "start_time": "2022-05-29T10:24:14.049Z"
      },
      {
        "duration": 2373,
        "start_time": "2022-05-29T10:24:42.202Z"
      },
      {
        "duration": 402,
        "start_time": "2022-05-29T10:24:44.578Z"
      },
      {
        "duration": 1370,
        "start_time": "2022-05-29T10:24:47.875Z"
      },
      {
        "duration": 51,
        "start_time": "2022-05-29T10:24:49.247Z"
      },
      {
        "duration": 80,
        "start_time": "2022-05-29T10:24:49.299Z"
      },
      {
        "duration": 5,
        "start_time": "2022-05-29T10:24:49.381Z"
      },
      {
        "duration": 7,
        "start_time": "2022-05-29T10:24:49.388Z"
      },
      {
        "duration": 4,
        "start_time": "2022-05-29T10:24:49.397Z"
      },
      {
        "duration": 14,
        "start_time": "2022-05-29T10:24:49.403Z"
      },
      {
        "duration": 1505,
        "start_time": "2022-05-29T10:24:49.419Z"
      },
      {
        "duration": 1971,
        "start_time": "2022-05-29T10:24:50.926Z"
      },
      {
        "duration": 10,
        "start_time": "2022-05-29T10:24:52.899Z"
      },
      {
        "duration": 11,
        "start_time": "2022-05-29T10:24:52.911Z"
      },
      {
        "duration": 134,
        "start_time": "2022-05-29T10:24:52.923Z"
      },
      {
        "duration": 29,
        "start_time": "2022-05-29T10:24:53.059Z"
      },
      {
        "duration": 33,
        "start_time": "2022-05-29T10:24:53.091Z"
      },
      {
        "duration": 83022,
        "start_time": "2022-05-29T10:24:53.126Z"
      },
      {
        "duration": 1646,
        "start_time": "2022-05-29T10:26:16.153Z"
      },
      {
        "duration": 28887,
        "start_time": "2022-05-29T10:26:17.801Z"
      },
      {
        "duration": 22350,
        "start_time": "2022-05-29T10:26:46.690Z"
      },
      {
        "duration": 2195,
        "start_time": "2022-05-29T10:27:09.042Z"
      },
      {
        "duration": 372,
        "start_time": "2022-05-29T10:27:11.238Z"
      },
      {
        "duration": 29666,
        "start_time": "2022-05-29T10:27:11.612Z"
      },
      {
        "duration": 28,
        "start_time": "2022-05-29T11:01:32.380Z"
      },
      {
        "duration": 4,
        "start_time": "2022-05-29T11:03:43.806Z"
      },
      {
        "duration": 11,
        "start_time": "2022-05-29T11:04:28.079Z"
      },
      {
        "duration": 6,
        "start_time": "2022-05-29T11:04:39.042Z"
      },
      {
        "duration": 12,
        "start_time": "2022-05-29T11:05:00.081Z"
      },
      {
        "duration": 22,
        "start_time": "2022-05-29T11:06:00.315Z"
      },
      {
        "duration": 5,
        "start_time": "2022-05-29T11:06:15.875Z"
      },
      {
        "duration": 15,
        "start_time": "2022-05-29T11:06:18.227Z"
      },
      {
        "duration": 24,
        "start_time": "2022-05-29T11:06:33.685Z"
      },
      {
        "duration": 5,
        "start_time": "2022-05-29T11:06:40.512Z"
      },
      {
        "duration": 9,
        "start_time": "2022-05-29T11:06:44.557Z"
      },
      {
        "duration": 31,
        "start_time": "2022-05-29T11:07:44.677Z"
      },
      {
        "duration": 2388,
        "start_time": "2022-05-29T11:08:59.567Z"
      },
      {
        "duration": 83,
        "start_time": "2022-05-29T11:10:46.332Z"
      },
      {
        "duration": 46475,
        "start_time": "2022-05-29T11:11:45.710Z"
      },
      {
        "duration": 32,
        "start_time": "2022-05-29T11:15:39.054Z"
      },
      {
        "duration": 43,
        "start_time": "2022-05-29T11:15:56.737Z"
      },
      {
        "duration": 543,
        "start_time": "2022-05-29T11:16:22.875Z"
      },
      {
        "duration": 25,
        "start_time": "2022-05-29T11:16:47.697Z"
      },
      {
        "duration": 19055,
        "start_time": "2022-05-29T11:17:17.202Z"
      },
      {
        "duration": 1322,
        "start_time": "2022-05-29T11:26:07.295Z"
      },
      {
        "duration": 1373,
        "start_time": "2022-05-29T11:28:49.402Z"
      },
      {
        "duration": 42,
        "start_time": "2022-05-29T11:28:50.777Z"
      },
      {
        "duration": 77,
        "start_time": "2022-05-29T11:28:50.821Z"
      },
      {
        "duration": 8,
        "start_time": "2022-05-29T11:28:50.900Z"
      },
      {
        "duration": 9,
        "start_time": "2022-05-29T11:28:50.910Z"
      },
      {
        "duration": 10,
        "start_time": "2022-05-29T11:28:50.920Z"
      },
      {
        "duration": 40,
        "start_time": "2022-05-29T11:28:50.932Z"
      },
      {
        "duration": 1492,
        "start_time": "2022-05-29T11:28:50.974Z"
      },
      {
        "duration": 1900,
        "start_time": "2022-05-29T11:28:52.473Z"
      },
      {
        "duration": 11,
        "start_time": "2022-05-29T11:28:54.376Z"
      },
      {
        "duration": 5,
        "start_time": "2022-05-29T11:28:54.388Z"
      },
      {
        "duration": 129,
        "start_time": "2022-05-29T11:28:54.395Z"
      },
      {
        "duration": 3,
        "start_time": "2022-05-29T11:28:54.525Z"
      },
      {
        "duration": 47,
        "start_time": "2022-05-29T11:28:54.530Z"
      },
      {
        "duration": 78367,
        "start_time": "2022-05-29T11:28:54.580Z"
      },
      {
        "duration": 1540,
        "start_time": "2022-05-29T11:30:12.949Z"
      },
      {
        "duration": 14967,
        "start_time": "2022-05-29T11:30:14.491Z"
      },
      {
        "duration": 12483,
        "start_time": "2022-05-29T11:30:29.466Z"
      },
      {
        "duration": 2292,
        "start_time": "2022-05-29T11:30:41.952Z"
      },
      {
        "duration": 383,
        "start_time": "2022-05-29T11:30:44.246Z"
      },
      {
        "duration": 36,
        "start_time": "2022-05-29T11:30:44.630Z"
      },
      {
        "duration": 2396,
        "start_time": "2022-05-29T11:30:44.668Z"
      },
      {
        "duration": 66,
        "start_time": "2022-05-29T11:30:47.066Z"
      },
      {
        "duration": 57629,
        "start_time": "2022-05-29T11:30:47.134Z"
      },
      {
        "duration": 186,
        "start_time": "2022-05-29T11:31:44.765Z"
      },
      {
        "duration": 580,
        "start_time": "2022-05-29T11:31:44.957Z"
      },
      {
        "duration": 42,
        "start_time": "2022-05-29T11:31:45.539Z"
      },
      {
        "duration": 10677,
        "start_time": "2022-05-29T11:31:45.585Z"
      },
      {
        "duration": 1345,
        "start_time": "2022-05-29T11:31:56.264Z"
      },
      {
        "duration": 1841,
        "start_time": "2022-05-30T09:58:28.798Z"
      },
      {
        "duration": 86,
        "start_time": "2022-05-30T09:58:33.343Z"
      },
      {
        "duration": 72,
        "start_time": "2022-05-30T09:58:35.177Z"
      },
      {
        "duration": 7,
        "start_time": "2022-05-30T09:58:39.113Z"
      },
      {
        "duration": 5,
        "start_time": "2022-05-30T09:58:40.999Z"
      },
      {
        "duration": 7,
        "start_time": "2022-05-30T09:58:42.589Z"
      },
      {
        "duration": 14,
        "start_time": "2022-05-30T09:59:03.581Z"
      },
      {
        "duration": 1603,
        "start_time": "2022-05-30T09:59:17.274Z"
      },
      {
        "duration": 1896,
        "start_time": "2022-05-30T09:59:25.190Z"
      },
      {
        "duration": 17,
        "start_time": "2022-05-30T10:10:24.221Z"
      },
      {
        "duration": 5,
        "start_time": "2022-05-30T10:10:53.302Z"
      },
      {
        "duration": 125,
        "start_time": "2022-05-30T10:10:55.848Z"
      },
      {
        "duration": 3,
        "start_time": "2022-05-30T10:10:59.540Z"
      },
      {
        "duration": 31,
        "start_time": "2022-05-30T10:11:01.443Z"
      },
      {
        "duration": 76334,
        "start_time": "2022-05-30T10:11:08.840Z"
      },
      {
        "duration": 1551,
        "start_time": "2022-05-30T10:53:25.325Z"
      },
      {
        "duration": 1349,
        "start_time": "2022-05-30T10:54:12.434Z"
      },
      {
        "duration": 809,
        "start_time": "2022-05-30T10:56:15.792Z"
      },
      {
        "duration": 1985,
        "start_time": "2022-05-30T10:56:21.454Z"
      },
      {
        "duration": 355,
        "start_time": "2022-05-30T10:59:52.987Z"
      },
      {
        "duration": 14,
        "start_time": "2022-05-30T11:21:27.692Z"
      },
      {
        "duration": 4,
        "start_time": "2022-05-30T11:21:33.960Z"
      },
      {
        "duration": 6,
        "start_time": "2022-05-30T11:21:50.021Z"
      },
      {
        "duration": 126,
        "start_time": "2022-05-30T11:23:27.000Z"
      },
      {
        "duration": 4,
        "start_time": "2022-05-30T12:30:24.146Z"
      },
      {
        "duration": 5,
        "start_time": "2022-05-30T12:30:28.848Z"
      },
      {
        "duration": 4,
        "start_time": "2022-05-30T12:30:40.913Z"
      },
      {
        "duration": 17,
        "start_time": "2022-05-30T12:31:28.425Z"
      },
      {
        "duration": 21,
        "start_time": "2022-05-30T12:31:42.026Z"
      },
      {
        "duration": 18,
        "start_time": "2022-05-30T12:32:38.312Z"
      },
      {
        "duration": 20,
        "start_time": "2022-05-30T12:32:41.377Z"
      },
      {
        "duration": 64,
        "start_time": "2022-05-30T12:32:45.833Z"
      },
      {
        "duration": 20,
        "start_time": "2022-05-30T12:32:49.981Z"
      },
      {
        "duration": 1510,
        "start_time": "2022-05-31T06:35:16.118Z"
      },
      {
        "duration": 103,
        "start_time": "2022-05-31T06:35:17.631Z"
      },
      {
        "duration": 78,
        "start_time": "2022-05-31T06:35:17.736Z"
      },
      {
        "duration": 4,
        "start_time": "2022-05-31T06:35:17.816Z"
      },
      {
        "duration": 17,
        "start_time": "2022-05-31T06:35:17.822Z"
      },
      {
        "duration": 5,
        "start_time": "2022-05-31T06:35:17.840Z"
      },
      {
        "duration": 27,
        "start_time": "2022-05-31T06:35:17.846Z"
      },
      {
        "duration": 1498,
        "start_time": "2022-05-31T06:35:17.874Z"
      },
      {
        "duration": 2013,
        "start_time": "2022-05-31T06:35:19.374Z"
      },
      {
        "duration": 14,
        "start_time": "2022-05-31T06:35:21.390Z"
      },
      {
        "duration": 5,
        "start_time": "2022-05-31T06:35:21.406Z"
      },
      {
        "duration": 143,
        "start_time": "2022-05-31T06:35:21.412Z"
      },
      {
        "duration": 42,
        "start_time": "2022-05-31T06:35:21.557Z"
      },
      {
        "duration": 43,
        "start_time": "2022-05-31T06:35:21.601Z"
      },
      {
        "duration": 70288,
        "start_time": "2022-05-31T06:35:21.646Z"
      },
      {
        "duration": 1270,
        "start_time": "2022-05-31T06:36:31.936Z"
      },
      {
        "duration": 2052,
        "start_time": "2022-05-31T06:36:33.207Z"
      },
      {
        "duration": 2662,
        "start_time": "2022-05-31T06:36:35.261Z"
      },
      {
        "duration": 1720,
        "start_time": "2022-05-31T06:36:37.924Z"
      },
      {
        "duration": 301,
        "start_time": "2022-05-31T06:36:39.645Z"
      },
      {
        "duration": 29,
        "start_time": "2022-05-31T06:36:39.947Z"
      },
      {
        "duration": 1888,
        "start_time": "2022-05-31T06:36:39.977Z"
      },
      {
        "duration": 53,
        "start_time": "2022-05-31T06:36:41.866Z"
      },
      {
        "duration": 2040,
        "start_time": "2022-05-31T06:36:41.921Z"
      },
      {
        "duration": 96,
        "start_time": "2022-05-31T06:36:43.963Z"
      },
      {
        "duration": 447,
        "start_time": "2022-05-31T06:36:44.061Z"
      },
      {
        "duration": 20,
        "start_time": "2022-05-31T06:36:44.509Z"
      },
      {
        "duration": 447,
        "start_time": "2022-05-31T06:36:44.531Z"
      },
      {
        "duration": 1048,
        "start_time": "2022-05-31T06:36:45.068Z"
      },
      {
        "duration": 127847,
        "start_time": "2022-05-31T06:40:46.123Z"
      },
      {
        "duration": 2559,
        "start_time": "2022-05-31T06:53:03.075Z"
      },
      {
        "duration": 88,
        "start_time": "2022-05-31T06:53:29.999Z"
      },
      {
        "duration": 2998,
        "start_time": "2022-05-31T06:55:21.482Z"
      },
      {
        "duration": 59,
        "start_time": "2022-05-31T07:01:10.836Z"
      },
      {
        "duration": 1740,
        "start_time": "2022-05-31T07:01:52.440Z"
      },
      {
        "duration": 2174,
        "start_time": "2022-05-31T07:03:05.624Z"
      },
      {
        "duration": 17,
        "start_time": "2022-05-31T07:06:26.196Z"
      },
      {
        "duration": 22,
        "start_time": "2022-05-31T07:06:34.358Z"
      },
      {
        "duration": 23,
        "start_time": "2022-05-31T07:06:39.913Z"
      },
      {
        "duration": 22,
        "start_time": "2022-05-31T07:06:44.906Z"
      },
      {
        "duration": 32069,
        "start_time": "2022-05-31T07:09:35.367Z"
      },
      {
        "duration": 508,
        "start_time": "2022-05-31T07:11:52.086Z"
      },
      {
        "duration": 1062,
        "start_time": "2022-05-31T07:12:33.311Z"
      },
      {
        "duration": 27,
        "start_time": "2022-05-31T07:14:52.879Z"
      },
      {
        "duration": 1392,
        "start_time": "2022-05-31T07:15:28.691Z"
      },
      {
        "duration": 1427,
        "start_time": "2022-05-31T07:16:59.771Z"
      },
      {
        "duration": 1455,
        "start_time": "2022-05-31T07:21:01.941Z"
      },
      {
        "duration": 1438,
        "start_time": "2022-05-31T07:21:17.535Z"
      },
      {
        "duration": 1207,
        "start_time": "2022-05-31T07:22:30.101Z"
      },
      {
        "duration": 2236,
        "start_time": "2022-05-31T07:34:05.045Z"
      },
      {
        "duration": 72,
        "start_time": "2022-05-31T07:34:07.291Z"
      },
      {
        "duration": 239,
        "start_time": "2022-05-31T07:34:07.369Z"
      },
      {
        "duration": 11,
        "start_time": "2022-05-31T07:34:07.610Z"
      },
      {
        "duration": 19,
        "start_time": "2022-05-31T07:34:07.623Z"
      },
      {
        "duration": 6,
        "start_time": "2022-05-31T07:34:07.644Z"
      },
      {
        "duration": 58,
        "start_time": "2022-05-31T07:34:07.651Z"
      },
      {
        "duration": 2366,
        "start_time": "2022-05-31T07:34:07.717Z"
      },
      {
        "duration": 2686,
        "start_time": "2022-05-31T07:34:10.092Z"
      },
      {
        "duration": 16,
        "start_time": "2022-05-31T07:34:12.784Z"
      },
      {
        "duration": 32,
        "start_time": "2022-05-31T07:34:12.806Z"
      },
      {
        "duration": 188,
        "start_time": "2022-05-31T07:34:12.841Z"
      },
      {
        "duration": 3,
        "start_time": "2022-05-31T07:34:13.034Z"
      },
      {
        "duration": 75,
        "start_time": "2022-05-31T07:34:13.039Z"
      },
      {
        "duration": 84814,
        "start_time": "2022-05-31T07:34:13.116Z"
      },
      {
        "duration": 1582,
        "start_time": "2022-05-31T07:35:37.932Z"
      },
      {
        "duration": 2844,
        "start_time": "2022-05-31T07:35:39.516Z"
      },
      {
        "duration": 1615,
        "start_time": "2022-05-31T07:35:42.372Z"
      },
      {
        "duration": 2375,
        "start_time": "2022-05-31T07:35:43.989Z"
      },
      {
        "duration": 386,
        "start_time": "2022-05-31T07:35:46.366Z"
      },
      {
        "duration": 42,
        "start_time": "2022-05-31T07:35:46.773Z"
      },
      {
        "duration": 168168,
        "start_time": "2022-05-31T07:35:46.817Z"
      },
      {
        "duration": 3302,
        "start_time": "2022-05-31T07:38:34.988Z"
      },
      {
        "duration": 3994,
        "start_time": "2022-05-31T07:38:38.292Z"
      },
      {
        "duration": 63,
        "start_time": "2022-05-31T07:38:42.288Z"
      },
      {
        "duration": 2340,
        "start_time": "2022-05-31T07:38:42.353Z"
      },
      {
        "duration": 1749,
        "start_time": "2022-05-31T07:38:44.713Z"
      },
      {
        "duration": 152,
        "start_time": "2022-05-31T07:38:46.466Z"
      },
      {
        "duration": 42009,
        "start_time": "2022-05-31T07:38:46.620Z"
      },
      {
        "duration": 650,
        "start_time": "2022-05-31T07:39:28.635Z"
      },
      {
        "duration": 1596,
        "start_time": "2022-05-31T07:39:29.287Z"
      },
      {
        "duration": 28,
        "start_time": "2022-05-31T07:39:30.887Z"
      },
      {
        "duration": 1764,
        "start_time": "2022-05-31T07:39:30.917Z"
      },
      {
        "duration": 812,
        "start_time": "2022-05-31T07:39:32.688Z"
      },
      {
        "duration": 1733,
        "start_time": "2022-05-31T07:39:33.513Z"
      },
      {
        "duration": 1391,
        "start_time": "2022-05-31T07:39:35.247Z"
      }
    ],
    "kernelspec": {
      "display_name": "Python 3 (ipykernel)",
      "language": "python",
      "name": "python3"
    },
    "language_info": {
      "codemirror_mode": {
        "name": "ipython",
        "version": 3
      },
      "file_extension": ".py",
      "mimetype": "text/x-python",
      "name": "python",
      "nbconvert_exporter": "python",
      "pygments_lexer": "ipython3",
      "version": "3.9.5"
    },
    "toc": {
      "base_numbering": 1,
      "nav_menu": {},
      "number_sections": true,
      "sideBar": true,
      "skip_h1_title": true,
      "title_cell": "Содержание",
      "title_sidebar": "Contents",
      "toc_cell": true,
      "toc_position": {
        "height": "calc(100% - 180px)",
        "left": "10px",
        "top": "150px",
        "width": "304px"
      },
      "toc_section_display": true,
      "toc_window_display": true
    },
    "colab": {
      "provenance": [],
      "toc_visible": true
    }
  },
  "nbformat": 4,
  "nbformat_minor": 0
}