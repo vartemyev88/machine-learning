{
  "cells": [
    {
      "cell_type": "markdown",
      "source": [
        "# Project description\n",
        "\n",
        "**Determining the cost of cars**\n",
        "\n",
        "The used car sales service \"Not damaged, not repainted\" is developing an application to attract new customers. The app will allow users to quickly find out the market value of their car. You have historical data at your disposal, including technical specifications, equipment, and prices of cars. Your task is to build a model to determine the cost.\n",
        "\n",
        "The client's priorities are:\n",
        "\n",
        "- The quality of the prediction.\n",
        "- The speed of the prediction.\n",
        "- The training time."
      ],
      "metadata": {
        "id": "ndCcMfXURmOQ"
      }
    },
    {
      "cell_type": "markdown",
      "metadata": {
        "id": "dHZ07EUFRh1_"
      },
      "source": [
        "# Table of contents\n",
        "\n",
        "---\n",
        "\n",
        "1. [Data](#data)\n",
        "    * [Data preprocessing](#data-preprocessing)\n",
        "    * [Exploratory data analysis](#data-eda)\n",
        "    * [Conclusion](#data-conclusion)\n",
        "2. [Model preparation](#model-preparation)\n",
        "    * [Datasets](#model-datasets-preparation)\n",
        "    * [Hyperparameter tuning](#model-hyperparameter-tuning)\n",
        "    * [Conclusion](#model-conclusion)\n",
        "3. [Model analysis](#model-analysis)\n",
        "    * [Model training](#model-training)\n",
        "    * [Test dataset](#model-test)\n",
        "    * [Final results](#model-final-results)\n",
        "5. [Conclusion](#conclusion)\n",
        "---"
      ]
    },
    {
      "cell_type": "markdown",
      "metadata": {
        "id": "JhmEiUqURh1_"
      },
      "source": [
        "## Data <a class=\"anchor\" id=\"data\"></a>"
      ]
    },
    {
      "cell_type": "code",
      "source": [
        "%%capture\n",
        "!pip install catboost"
      ],
      "metadata": {
        "id": "5TKXYMkUTS8H"
      },
      "execution_count": 1,
      "outputs": []
    },
    {
      "cell_type": "code",
      "source": [
        "import matplotlib.pyplot as plt\n",
        "import numpy as np\n",
        "import os\n",
        "import pandas as pd\n",
        "import time\n",
        "import seaborn as sns\n",
        "import warnings\n",
        "from catboost import CatBoostRegressor, Pool, cv\n",
        "from lightgbm import LGBMRegressor\n",
        "from sklearn.linear_model import LinearRegression\n",
        "from sklearn.metrics import mean_squared_error\n",
        "from sklearn.model_selection import cross_val_score, GridSearchCV, train_test_split\n",
        "from sklearn.preprocessing import OrdinalEncoder, StandardScaler\n",
        "from sklearn.tree import DecisionTreeRegressor"
      ],
      "metadata": {
        "id": "LOZQkCOWS2O-"
      },
      "execution_count": 2,
      "outputs": []
    },
    {
      "cell_type": "code",
      "source": [
        "# Searching for file\n",
        "file_names = ['autos.csv']\n",
        "url = 'https://code.s3.yandex.net/datasets/autos.csv'\n",
        "\n",
        "file_path = None\n",
        "\n",
        "for root, dirs, files in os.walk('.'):\n",
        "    for file_name in file_names:\n",
        "        if file_name in files:\n",
        "            file_path = os.path.join(root, file_name)\n",
        "            break\n",
        "    else:\n",
        "        continue\n",
        "    break\n",
        "\n",
        "if file_path is not None:\n",
        "    data = pd.read_csv(file_path)\n",
        "else:\n",
        "    data = pd.read_csv(url)\n",
        "\n",
        "# Ignoring all warnings and displaying all columns in the DF\n",
        "warnings.filterwarnings('ignore')\n",
        "pd.set_option('display.max_columns', None)\n",
        "\n",
        "# Basic information\n",
        "print(f\"Shape of dataframe: {data.shape}\")\n",
        "print(f\"-\" * 26)\n",
        "print(f\"Missing values: \\n\")\n",
        "print(data.isnull().sum().sum())\n",
        "print(f\"-\" * 26)\n",
        "print(f\"Duplicates: {data.duplicated().sum() / len(data) * 100}%\")\n",
        "print(f\"-\" * 26)\n",
        "print(f\"Dataframe info: \\n\")\n",
        "print(data.info())\n",
        "print(f\"-\" * 26)\n",
        "display(data.head())\n",
        "print(f\"\\n\")\n",
        "display(data.describe())\n",
        "print(f\"\\n\")"
      ],
      "metadata": {
        "colab": {
          "base_uri": "https://localhost:8080/",
          "height": 1000
        },
        "id": "T-DLkeS6Tzqs",
        "outputId": "9c54286f-dddc-456c-ddb1-c80d736070da"
      },
      "execution_count": 3,
      "outputs": [
        {
          "output_type": "stream",
          "name": "stdout",
          "text": [
            "Shape of dataframe: (354369, 16)\n",
            "--------------------------\n",
            "Missing values: \n",
            "\n",
            "181077\n",
            "--------------------------\n",
            "Duplicates: 0.0011287669068118262%\n",
            "--------------------------\n",
            "Dataframe info: \n",
            "\n",
            "<class 'pandas.core.frame.DataFrame'>\n",
            "RangeIndex: 354369 entries, 0 to 354368\n",
            "Data columns (total 16 columns):\n",
            " #   Column             Non-Null Count   Dtype \n",
            "---  ------             --------------   ----- \n",
            " 0   DateCrawled        354369 non-null  object\n",
            " 1   Price              354369 non-null  int64 \n",
            " 2   VehicleType        316879 non-null  object\n",
            " 3   RegistrationYear   354369 non-null  int64 \n",
            " 4   Gearbox            334536 non-null  object\n",
            " 5   Power              354369 non-null  int64 \n",
            " 6   Model              334664 non-null  object\n",
            " 7   Kilometer          354369 non-null  int64 \n",
            " 8   RegistrationMonth  354369 non-null  int64 \n",
            " 9   FuelType           321474 non-null  object\n",
            " 10  Brand              354369 non-null  object\n",
            " 11  Repaired           283215 non-null  object\n",
            " 12  DateCreated        354369 non-null  object\n",
            " 13  NumberOfPictures   354369 non-null  int64 \n",
            " 14  PostalCode         354369 non-null  int64 \n",
            " 15  LastSeen           354369 non-null  object\n",
            "dtypes: int64(7), object(9)\n",
            "memory usage: 43.3+ MB\n",
            "None\n",
            "--------------------------\n"
          ]
        },
        {
          "output_type": "display_data",
          "data": {
            "text/plain": [
              "           DateCrawled  Price VehicleType  RegistrationYear Gearbox  Power  \\\n",
              "0  2016-03-24 11:52:17    480         NaN              1993  manual      0   \n",
              "1  2016-03-24 10:58:45  18300       coupe              2011  manual    190   \n",
              "2  2016-03-14 12:52:21   9800         suv              2004    auto    163   \n",
              "3  2016-03-17 16:54:04   1500       small              2001  manual     75   \n",
              "4  2016-03-31 17:25:20   3600       small              2008  manual     69   \n",
              "\n",
              "   Model  Kilometer  RegistrationMonth  FuelType       Brand Repaired  \\\n",
              "0   golf     150000                  0    petrol  volkswagen      NaN   \n",
              "1    NaN     125000                  5  gasoline        audi      yes   \n",
              "2  grand     125000                  8  gasoline        jeep      NaN   \n",
              "3   golf     150000                  6    petrol  volkswagen       no   \n",
              "4  fabia      90000                  7  gasoline       skoda       no   \n",
              "\n",
              "           DateCreated  NumberOfPictures  PostalCode             LastSeen  \n",
              "0  2016-03-24 00:00:00                 0       70435  2016-04-07 03:16:57  \n",
              "1  2016-03-24 00:00:00                 0       66954  2016-04-07 01:46:50  \n",
              "2  2016-03-14 00:00:00                 0       90480  2016-04-05 12:47:46  \n",
              "3  2016-03-17 00:00:00                 0       91074  2016-03-17 17:40:17  \n",
              "4  2016-03-31 00:00:00                 0       60437  2016-04-06 10:17:21  "
            ],
            "text/html": [
              "\n",
              "  <div id=\"df-7db9590b-12f3-4736-80f6-3cb3d5644b57\">\n",
              "    <div class=\"colab-df-container\">\n",
              "      <div>\n",
              "<style scoped>\n",
              "    .dataframe tbody tr th:only-of-type {\n",
              "        vertical-align: middle;\n",
              "    }\n",
              "\n",
              "    .dataframe tbody tr th {\n",
              "        vertical-align: top;\n",
              "    }\n",
              "\n",
              "    .dataframe thead th {\n",
              "        text-align: right;\n",
              "    }\n",
              "</style>\n",
              "<table border=\"1\" class=\"dataframe\">\n",
              "  <thead>\n",
              "    <tr style=\"text-align: right;\">\n",
              "      <th></th>\n",
              "      <th>DateCrawled</th>\n",
              "      <th>Price</th>\n",
              "      <th>VehicleType</th>\n",
              "      <th>RegistrationYear</th>\n",
              "      <th>Gearbox</th>\n",
              "      <th>Power</th>\n",
              "      <th>Model</th>\n",
              "      <th>Kilometer</th>\n",
              "      <th>RegistrationMonth</th>\n",
              "      <th>FuelType</th>\n",
              "      <th>Brand</th>\n",
              "      <th>Repaired</th>\n",
              "      <th>DateCreated</th>\n",
              "      <th>NumberOfPictures</th>\n",
              "      <th>PostalCode</th>\n",
              "      <th>LastSeen</th>\n",
              "    </tr>\n",
              "  </thead>\n",
              "  <tbody>\n",
              "    <tr>\n",
              "      <th>0</th>\n",
              "      <td>2016-03-24 11:52:17</td>\n",
              "      <td>480</td>\n",
              "      <td>NaN</td>\n",
              "      <td>1993</td>\n",
              "      <td>manual</td>\n",
              "      <td>0</td>\n",
              "      <td>golf</td>\n",
              "      <td>150000</td>\n",
              "      <td>0</td>\n",
              "      <td>petrol</td>\n",
              "      <td>volkswagen</td>\n",
              "      <td>NaN</td>\n",
              "      <td>2016-03-24 00:00:00</td>\n",
              "      <td>0</td>\n",
              "      <td>70435</td>\n",
              "      <td>2016-04-07 03:16:57</td>\n",
              "    </tr>\n",
              "    <tr>\n",
              "      <th>1</th>\n",
              "      <td>2016-03-24 10:58:45</td>\n",
              "      <td>18300</td>\n",
              "      <td>coupe</td>\n",
              "      <td>2011</td>\n",
              "      <td>manual</td>\n",
              "      <td>190</td>\n",
              "      <td>NaN</td>\n",
              "      <td>125000</td>\n",
              "      <td>5</td>\n",
              "      <td>gasoline</td>\n",
              "      <td>audi</td>\n",
              "      <td>yes</td>\n",
              "      <td>2016-03-24 00:00:00</td>\n",
              "      <td>0</td>\n",
              "      <td>66954</td>\n",
              "      <td>2016-04-07 01:46:50</td>\n",
              "    </tr>\n",
              "    <tr>\n",
              "      <th>2</th>\n",
              "      <td>2016-03-14 12:52:21</td>\n",
              "      <td>9800</td>\n",
              "      <td>suv</td>\n",
              "      <td>2004</td>\n",
              "      <td>auto</td>\n",
              "      <td>163</td>\n",
              "      <td>grand</td>\n",
              "      <td>125000</td>\n",
              "      <td>8</td>\n",
              "      <td>gasoline</td>\n",
              "      <td>jeep</td>\n",
              "      <td>NaN</td>\n",
              "      <td>2016-03-14 00:00:00</td>\n",
              "      <td>0</td>\n",
              "      <td>90480</td>\n",
              "      <td>2016-04-05 12:47:46</td>\n",
              "    </tr>\n",
              "    <tr>\n",
              "      <th>3</th>\n",
              "      <td>2016-03-17 16:54:04</td>\n",
              "      <td>1500</td>\n",
              "      <td>small</td>\n",
              "      <td>2001</td>\n",
              "      <td>manual</td>\n",
              "      <td>75</td>\n",
              "      <td>golf</td>\n",
              "      <td>150000</td>\n",
              "      <td>6</td>\n",
              "      <td>petrol</td>\n",
              "      <td>volkswagen</td>\n",
              "      <td>no</td>\n",
              "      <td>2016-03-17 00:00:00</td>\n",
              "      <td>0</td>\n",
              "      <td>91074</td>\n",
              "      <td>2016-03-17 17:40:17</td>\n",
              "    </tr>\n",
              "    <tr>\n",
              "      <th>4</th>\n",
              "      <td>2016-03-31 17:25:20</td>\n",
              "      <td>3600</td>\n",
              "      <td>small</td>\n",
              "      <td>2008</td>\n",
              "      <td>manual</td>\n",
              "      <td>69</td>\n",
              "      <td>fabia</td>\n",
              "      <td>90000</td>\n",
              "      <td>7</td>\n",
              "      <td>gasoline</td>\n",
              "      <td>skoda</td>\n",
              "      <td>no</td>\n",
              "      <td>2016-03-31 00:00:00</td>\n",
              "      <td>0</td>\n",
              "      <td>60437</td>\n",
              "      <td>2016-04-06 10:17:21</td>\n",
              "    </tr>\n",
              "  </tbody>\n",
              "</table>\n",
              "</div>\n",
              "      <button class=\"colab-df-convert\" onclick=\"convertToInteractive('df-7db9590b-12f3-4736-80f6-3cb3d5644b57')\"\n",
              "              title=\"Convert this dataframe to an interactive table.\"\n",
              "              style=\"display:none;\">\n",
              "        \n",
              "  <svg xmlns=\"http://www.w3.org/2000/svg\" height=\"24px\"viewBox=\"0 0 24 24\"\n",
              "       width=\"24px\">\n",
              "    <path d=\"M0 0h24v24H0V0z\" fill=\"none\"/>\n",
              "    <path d=\"M18.56 5.44l.94 2.06.94-2.06 2.06-.94-2.06-.94-.94-2.06-.94 2.06-2.06.94zm-11 1L8.5 8.5l.94-2.06 2.06-.94-2.06-.94L8.5 2.5l-.94 2.06-2.06.94zm10 10l.94 2.06.94-2.06 2.06-.94-2.06-.94-.94-2.06-.94 2.06-2.06.94z\"/><path d=\"M17.41 7.96l-1.37-1.37c-.4-.4-.92-.59-1.43-.59-.52 0-1.04.2-1.43.59L10.3 9.45l-7.72 7.72c-.78.78-.78 2.05 0 2.83L4 21.41c.39.39.9.59 1.41.59.51 0 1.02-.2 1.41-.59l7.78-7.78 2.81-2.81c.8-.78.8-2.07 0-2.86zM5.41 20L4 18.59l7.72-7.72 1.47 1.35L5.41 20z\"/>\n",
              "  </svg>\n",
              "      </button>\n",
              "      \n",
              "  <style>\n",
              "    .colab-df-container {\n",
              "      display:flex;\n",
              "      flex-wrap:wrap;\n",
              "      gap: 12px;\n",
              "    }\n",
              "\n",
              "    .colab-df-convert {\n",
              "      background-color: #E8F0FE;\n",
              "      border: none;\n",
              "      border-radius: 50%;\n",
              "      cursor: pointer;\n",
              "      display: none;\n",
              "      fill: #1967D2;\n",
              "      height: 32px;\n",
              "      padding: 0 0 0 0;\n",
              "      width: 32px;\n",
              "    }\n",
              "\n",
              "    .colab-df-convert:hover {\n",
              "      background-color: #E2EBFA;\n",
              "      box-shadow: 0px 1px 2px rgba(60, 64, 67, 0.3), 0px 1px 3px 1px rgba(60, 64, 67, 0.15);\n",
              "      fill: #174EA6;\n",
              "    }\n",
              "\n",
              "    [theme=dark] .colab-df-convert {\n",
              "      background-color: #3B4455;\n",
              "      fill: #D2E3FC;\n",
              "    }\n",
              "\n",
              "    [theme=dark] .colab-df-convert:hover {\n",
              "      background-color: #434B5C;\n",
              "      box-shadow: 0px 1px 3px 1px rgba(0, 0, 0, 0.15);\n",
              "      filter: drop-shadow(0px 1px 2px rgba(0, 0, 0, 0.3));\n",
              "      fill: #FFFFFF;\n",
              "    }\n",
              "  </style>\n",
              "\n",
              "      <script>\n",
              "        const buttonEl =\n",
              "          document.querySelector('#df-7db9590b-12f3-4736-80f6-3cb3d5644b57 button.colab-df-convert');\n",
              "        buttonEl.style.display =\n",
              "          google.colab.kernel.accessAllowed ? 'block' : 'none';\n",
              "\n",
              "        async function convertToInteractive(key) {\n",
              "          const element = document.querySelector('#df-7db9590b-12f3-4736-80f6-3cb3d5644b57');\n",
              "          const dataTable =\n",
              "            await google.colab.kernel.invokeFunction('convertToInteractive',\n",
              "                                                     [key], {});\n",
              "          if (!dataTable) return;\n",
              "\n",
              "          const docLinkHtml = 'Like what you see? Visit the ' +\n",
              "            '<a target=\"_blank\" href=https://colab.research.google.com/notebooks/data_table.ipynb>data table notebook</a>'\n",
              "            + ' to learn more about interactive tables.';\n",
              "          element.innerHTML = '';\n",
              "          dataTable['output_type'] = 'display_data';\n",
              "          await google.colab.output.renderOutput(dataTable, element);\n",
              "          const docLink = document.createElement('div');\n",
              "          docLink.innerHTML = docLinkHtml;\n",
              "          element.appendChild(docLink);\n",
              "        }\n",
              "      </script>\n",
              "    </div>\n",
              "  </div>\n",
              "  "
            ]
          },
          "metadata": {}
        },
        {
          "output_type": "stream",
          "name": "stdout",
          "text": [
            "\n",
            "\n"
          ]
        },
        {
          "output_type": "display_data",
          "data": {
            "text/plain": [
              "               Price  RegistrationYear          Power      Kilometer  \\\n",
              "count  354369.000000     354369.000000  354369.000000  354369.000000   \n",
              "mean     4416.656776       2004.234448     110.094337  128211.172535   \n",
              "std      4514.158514         90.227958     189.850405   37905.341530   \n",
              "min         0.000000       1000.000000       0.000000    5000.000000   \n",
              "25%      1050.000000       1999.000000      69.000000  125000.000000   \n",
              "50%      2700.000000       2003.000000     105.000000  150000.000000   \n",
              "75%      6400.000000       2008.000000     143.000000  150000.000000   \n",
              "max     20000.000000       9999.000000   20000.000000  150000.000000   \n",
              "\n",
              "       RegistrationMonth  NumberOfPictures     PostalCode  \n",
              "count      354369.000000          354369.0  354369.000000  \n",
              "mean            5.714645               0.0   50508.689087  \n",
              "std             3.726421               0.0   25783.096248  \n",
              "min             0.000000               0.0    1067.000000  \n",
              "25%             3.000000               0.0   30165.000000  \n",
              "50%             6.000000               0.0   49413.000000  \n",
              "75%             9.000000               0.0   71083.000000  \n",
              "max            12.000000               0.0   99998.000000  "
            ],
            "text/html": [
              "\n",
              "  <div id=\"df-0b30abb2-39bd-4eb4-9653-aa5eca18ccb5\">\n",
              "    <div class=\"colab-df-container\">\n",
              "      <div>\n",
              "<style scoped>\n",
              "    .dataframe tbody tr th:only-of-type {\n",
              "        vertical-align: middle;\n",
              "    }\n",
              "\n",
              "    .dataframe tbody tr th {\n",
              "        vertical-align: top;\n",
              "    }\n",
              "\n",
              "    .dataframe thead th {\n",
              "        text-align: right;\n",
              "    }\n",
              "</style>\n",
              "<table border=\"1\" class=\"dataframe\">\n",
              "  <thead>\n",
              "    <tr style=\"text-align: right;\">\n",
              "      <th></th>\n",
              "      <th>Price</th>\n",
              "      <th>RegistrationYear</th>\n",
              "      <th>Power</th>\n",
              "      <th>Kilometer</th>\n",
              "      <th>RegistrationMonth</th>\n",
              "      <th>NumberOfPictures</th>\n",
              "      <th>PostalCode</th>\n",
              "    </tr>\n",
              "  </thead>\n",
              "  <tbody>\n",
              "    <tr>\n",
              "      <th>count</th>\n",
              "      <td>354369.000000</td>\n",
              "      <td>354369.000000</td>\n",
              "      <td>354369.000000</td>\n",
              "      <td>354369.000000</td>\n",
              "      <td>354369.000000</td>\n",
              "      <td>354369.0</td>\n",
              "      <td>354369.000000</td>\n",
              "    </tr>\n",
              "    <tr>\n",
              "      <th>mean</th>\n",
              "      <td>4416.656776</td>\n",
              "      <td>2004.234448</td>\n",
              "      <td>110.094337</td>\n",
              "      <td>128211.172535</td>\n",
              "      <td>5.714645</td>\n",
              "      <td>0.0</td>\n",
              "      <td>50508.689087</td>\n",
              "    </tr>\n",
              "    <tr>\n",
              "      <th>std</th>\n",
              "      <td>4514.158514</td>\n",
              "      <td>90.227958</td>\n",
              "      <td>189.850405</td>\n",
              "      <td>37905.341530</td>\n",
              "      <td>3.726421</td>\n",
              "      <td>0.0</td>\n",
              "      <td>25783.096248</td>\n",
              "    </tr>\n",
              "    <tr>\n",
              "      <th>min</th>\n",
              "      <td>0.000000</td>\n",
              "      <td>1000.000000</td>\n",
              "      <td>0.000000</td>\n",
              "      <td>5000.000000</td>\n",
              "      <td>0.000000</td>\n",
              "      <td>0.0</td>\n",
              "      <td>1067.000000</td>\n",
              "    </tr>\n",
              "    <tr>\n",
              "      <th>25%</th>\n",
              "      <td>1050.000000</td>\n",
              "      <td>1999.000000</td>\n",
              "      <td>69.000000</td>\n",
              "      <td>125000.000000</td>\n",
              "      <td>3.000000</td>\n",
              "      <td>0.0</td>\n",
              "      <td>30165.000000</td>\n",
              "    </tr>\n",
              "    <tr>\n",
              "      <th>50%</th>\n",
              "      <td>2700.000000</td>\n",
              "      <td>2003.000000</td>\n",
              "      <td>105.000000</td>\n",
              "      <td>150000.000000</td>\n",
              "      <td>6.000000</td>\n",
              "      <td>0.0</td>\n",
              "      <td>49413.000000</td>\n",
              "    </tr>\n",
              "    <tr>\n",
              "      <th>75%</th>\n",
              "      <td>6400.000000</td>\n",
              "      <td>2008.000000</td>\n",
              "      <td>143.000000</td>\n",
              "      <td>150000.000000</td>\n",
              "      <td>9.000000</td>\n",
              "      <td>0.0</td>\n",
              "      <td>71083.000000</td>\n",
              "    </tr>\n",
              "    <tr>\n",
              "      <th>max</th>\n",
              "      <td>20000.000000</td>\n",
              "      <td>9999.000000</td>\n",
              "      <td>20000.000000</td>\n",
              "      <td>150000.000000</td>\n",
              "      <td>12.000000</td>\n",
              "      <td>0.0</td>\n",
              "      <td>99998.000000</td>\n",
              "    </tr>\n",
              "  </tbody>\n",
              "</table>\n",
              "</div>\n",
              "      <button class=\"colab-df-convert\" onclick=\"convertToInteractive('df-0b30abb2-39bd-4eb4-9653-aa5eca18ccb5')\"\n",
              "              title=\"Convert this dataframe to an interactive table.\"\n",
              "              style=\"display:none;\">\n",
              "        \n",
              "  <svg xmlns=\"http://www.w3.org/2000/svg\" height=\"24px\"viewBox=\"0 0 24 24\"\n",
              "       width=\"24px\">\n",
              "    <path d=\"M0 0h24v24H0V0z\" fill=\"none\"/>\n",
              "    <path d=\"M18.56 5.44l.94 2.06.94-2.06 2.06-.94-2.06-.94-.94-2.06-.94 2.06-2.06.94zm-11 1L8.5 8.5l.94-2.06 2.06-.94-2.06-.94L8.5 2.5l-.94 2.06-2.06.94zm10 10l.94 2.06.94-2.06 2.06-.94-2.06-.94-.94-2.06-.94 2.06-2.06.94z\"/><path d=\"M17.41 7.96l-1.37-1.37c-.4-.4-.92-.59-1.43-.59-.52 0-1.04.2-1.43.59L10.3 9.45l-7.72 7.72c-.78.78-.78 2.05 0 2.83L4 21.41c.39.39.9.59 1.41.59.51 0 1.02-.2 1.41-.59l7.78-7.78 2.81-2.81c.8-.78.8-2.07 0-2.86zM5.41 20L4 18.59l7.72-7.72 1.47 1.35L5.41 20z\"/>\n",
              "  </svg>\n",
              "      </button>\n",
              "      \n",
              "  <style>\n",
              "    .colab-df-container {\n",
              "      display:flex;\n",
              "      flex-wrap:wrap;\n",
              "      gap: 12px;\n",
              "    }\n",
              "\n",
              "    .colab-df-convert {\n",
              "      background-color: #E8F0FE;\n",
              "      border: none;\n",
              "      border-radius: 50%;\n",
              "      cursor: pointer;\n",
              "      display: none;\n",
              "      fill: #1967D2;\n",
              "      height: 32px;\n",
              "      padding: 0 0 0 0;\n",
              "      width: 32px;\n",
              "    }\n",
              "\n",
              "    .colab-df-convert:hover {\n",
              "      background-color: #E2EBFA;\n",
              "      box-shadow: 0px 1px 2px rgba(60, 64, 67, 0.3), 0px 1px 3px 1px rgba(60, 64, 67, 0.15);\n",
              "      fill: #174EA6;\n",
              "    }\n",
              "\n",
              "    [theme=dark] .colab-df-convert {\n",
              "      background-color: #3B4455;\n",
              "      fill: #D2E3FC;\n",
              "    }\n",
              "\n",
              "    [theme=dark] .colab-df-convert:hover {\n",
              "      background-color: #434B5C;\n",
              "      box-shadow: 0px 1px 3px 1px rgba(0, 0, 0, 0.15);\n",
              "      filter: drop-shadow(0px 1px 2px rgba(0, 0, 0, 0.3));\n",
              "      fill: #FFFFFF;\n",
              "    }\n",
              "  </style>\n",
              "\n",
              "      <script>\n",
              "        const buttonEl =\n",
              "          document.querySelector('#df-0b30abb2-39bd-4eb4-9653-aa5eca18ccb5 button.colab-df-convert');\n",
              "        buttonEl.style.display =\n",
              "          google.colab.kernel.accessAllowed ? 'block' : 'none';\n",
              "\n",
              "        async function convertToInteractive(key) {\n",
              "          const element = document.querySelector('#df-0b30abb2-39bd-4eb4-9653-aa5eca18ccb5');\n",
              "          const dataTable =\n",
              "            await google.colab.kernel.invokeFunction('convertToInteractive',\n",
              "                                                     [key], {});\n",
              "          if (!dataTable) return;\n",
              "\n",
              "          const docLinkHtml = 'Like what you see? Visit the ' +\n",
              "            '<a target=\"_blank\" href=https://colab.research.google.com/notebooks/data_table.ipynb>data table notebook</a>'\n",
              "            + ' to learn more about interactive tables.';\n",
              "          element.innerHTML = '';\n",
              "          dataTable['output_type'] = 'display_data';\n",
              "          await google.colab.output.renderOutput(dataTable, element);\n",
              "          const docLink = document.createElement('div');\n",
              "          docLink.innerHTML = docLinkHtml;\n",
              "          element.appendChild(docLink);\n",
              "        }\n",
              "      </script>\n",
              "    </div>\n",
              "  </div>\n",
              "  "
            ]
          },
          "metadata": {}
        },
        {
          "output_type": "stream",
          "name": "stdout",
          "text": [
            "\n",
            "\n"
          ]
        }
      ]
    },
    {
      "cell_type": "markdown",
      "metadata": {
        "id": "A6xIae4FRh2E"
      },
      "source": [
        "### Data preprocessing <a class=\"anchor\" id=\"data-preprocessing\"></a>\n",
        "\n",
        "Data exploration revealed a large number of anomalies and missing values. To preserve the original data, we will work with a copy. Here, we will also get rid of unnecessary features for model training. Important features for training include:\n",
        "\n",
        "- `VehicleType`: the body type affects the price of the car, but within a brand and model, there may be several body types;\n",
        "- `Brand`, `Model`: it is important to understand which brands and models we are studying (premium, regular, or economy);\n",
        "- `RegistrationYear`: the age of the car may affect the price, except for retro or exclusive cars;\n",
        "- `Gearbox`, `Power`, `FuelType`: the technical characteristics of the car determine the price;\n",
        "- `Kilometer`: the mileage affects the price;\n",
        "- `Repaired`: whether the car has undergone repairs affects the final price;\n",
        "- `Price`: target feature."
      ]
    },
    {
      "cell_type": "code",
      "source": [
        "# Rename `Repaired` column to legacy `NotRepaired`\n",
        "data = data.rename(columns={'Repaired': 'NotRepaired'})\n",
        "\n",
        "# Create a copy of DF with selection of features\n",
        "df = data.loc[:, ['VehicleType',\n",
        "                  'Brand', 'Model',\n",
        "                  'RegistrationYear',\n",
        "                  'Gearbox', 'Power', 'FuelType',\n",
        "                  'Kilometer', 'NotRepaired', 'Price'\n",
        "                  ]].copy()\n",
        "print(df.isna().mean() * 100)\n",
        "df.head()"
      ],
      "metadata": {
        "colab": {
          "base_uri": "https://localhost:8080/",
          "height": 441
        },
        "id": "CjbBOmDUV2_5",
        "outputId": "b9e4b666-2687-46ac-a7eb-a2f801503c35"
      },
      "execution_count": 4,
      "outputs": [
        {
          "output_type": "stream",
          "name": "stdout",
          "text": [
            "VehicleType         10.579368\n",
            "Brand                0.000000\n",
            "Model                5.560588\n",
            "RegistrationYear     0.000000\n",
            "Gearbox              5.596709\n",
            "Power                0.000000\n",
            "FuelType             9.282697\n",
            "Kilometer            0.000000\n",
            "NotRepaired         20.079070\n",
            "Price                0.000000\n",
            "dtype: float64\n"
          ]
        },
        {
          "output_type": "execute_result",
          "data": {
            "text/plain": [
              "  VehicleType       Brand  Model  RegistrationYear Gearbox  Power  FuelType  \\\n",
              "0         NaN  volkswagen   golf              1993  manual      0    petrol   \n",
              "1       coupe        audi    NaN              2011  manual    190  gasoline   \n",
              "2         suv        jeep  grand              2004    auto    163  gasoline   \n",
              "3       small  volkswagen   golf              2001  manual     75    petrol   \n",
              "4       small       skoda  fabia              2008  manual     69  gasoline   \n",
              "\n",
              "   Kilometer NotRepaired  Price  \n",
              "0     150000         NaN    480  \n",
              "1     125000         yes  18300  \n",
              "2     125000         NaN   9800  \n",
              "3     150000          no   1500  \n",
              "4      90000          no   3600  "
            ],
            "text/html": [
              "\n",
              "  <div id=\"df-433ff3e8-9eaf-4e0c-afec-a3913df54723\">\n",
              "    <div class=\"colab-df-container\">\n",
              "      <div>\n",
              "<style scoped>\n",
              "    .dataframe tbody tr th:only-of-type {\n",
              "        vertical-align: middle;\n",
              "    }\n",
              "\n",
              "    .dataframe tbody tr th {\n",
              "        vertical-align: top;\n",
              "    }\n",
              "\n",
              "    .dataframe thead th {\n",
              "        text-align: right;\n",
              "    }\n",
              "</style>\n",
              "<table border=\"1\" class=\"dataframe\">\n",
              "  <thead>\n",
              "    <tr style=\"text-align: right;\">\n",
              "      <th></th>\n",
              "      <th>VehicleType</th>\n",
              "      <th>Brand</th>\n",
              "      <th>Model</th>\n",
              "      <th>RegistrationYear</th>\n",
              "      <th>Gearbox</th>\n",
              "      <th>Power</th>\n",
              "      <th>FuelType</th>\n",
              "      <th>Kilometer</th>\n",
              "      <th>NotRepaired</th>\n",
              "      <th>Price</th>\n",
              "    </tr>\n",
              "  </thead>\n",
              "  <tbody>\n",
              "    <tr>\n",
              "      <th>0</th>\n",
              "      <td>NaN</td>\n",
              "      <td>volkswagen</td>\n",
              "      <td>golf</td>\n",
              "      <td>1993</td>\n",
              "      <td>manual</td>\n",
              "      <td>0</td>\n",
              "      <td>petrol</td>\n",
              "      <td>150000</td>\n",
              "      <td>NaN</td>\n",
              "      <td>480</td>\n",
              "    </tr>\n",
              "    <tr>\n",
              "      <th>1</th>\n",
              "      <td>coupe</td>\n",
              "      <td>audi</td>\n",
              "      <td>NaN</td>\n",
              "      <td>2011</td>\n",
              "      <td>manual</td>\n",
              "      <td>190</td>\n",
              "      <td>gasoline</td>\n",
              "      <td>125000</td>\n",
              "      <td>yes</td>\n",
              "      <td>18300</td>\n",
              "    </tr>\n",
              "    <tr>\n",
              "      <th>2</th>\n",
              "      <td>suv</td>\n",
              "      <td>jeep</td>\n",
              "      <td>grand</td>\n",
              "      <td>2004</td>\n",
              "      <td>auto</td>\n",
              "      <td>163</td>\n",
              "      <td>gasoline</td>\n",
              "      <td>125000</td>\n",
              "      <td>NaN</td>\n",
              "      <td>9800</td>\n",
              "    </tr>\n",
              "    <tr>\n",
              "      <th>3</th>\n",
              "      <td>small</td>\n",
              "      <td>volkswagen</td>\n",
              "      <td>golf</td>\n",
              "      <td>2001</td>\n",
              "      <td>manual</td>\n",
              "      <td>75</td>\n",
              "      <td>petrol</td>\n",
              "      <td>150000</td>\n",
              "      <td>no</td>\n",
              "      <td>1500</td>\n",
              "    </tr>\n",
              "    <tr>\n",
              "      <th>4</th>\n",
              "      <td>small</td>\n",
              "      <td>skoda</td>\n",
              "      <td>fabia</td>\n",
              "      <td>2008</td>\n",
              "      <td>manual</td>\n",
              "      <td>69</td>\n",
              "      <td>gasoline</td>\n",
              "      <td>90000</td>\n",
              "      <td>no</td>\n",
              "      <td>3600</td>\n",
              "    </tr>\n",
              "  </tbody>\n",
              "</table>\n",
              "</div>\n",
              "      <button class=\"colab-df-convert\" onclick=\"convertToInteractive('df-433ff3e8-9eaf-4e0c-afec-a3913df54723')\"\n",
              "              title=\"Convert this dataframe to an interactive table.\"\n",
              "              style=\"display:none;\">\n",
              "        \n",
              "  <svg xmlns=\"http://www.w3.org/2000/svg\" height=\"24px\"viewBox=\"0 0 24 24\"\n",
              "       width=\"24px\">\n",
              "    <path d=\"M0 0h24v24H0V0z\" fill=\"none\"/>\n",
              "    <path d=\"M18.56 5.44l.94 2.06.94-2.06 2.06-.94-2.06-.94-.94-2.06-.94 2.06-2.06.94zm-11 1L8.5 8.5l.94-2.06 2.06-.94-2.06-.94L8.5 2.5l-.94 2.06-2.06.94zm10 10l.94 2.06.94-2.06 2.06-.94-2.06-.94-.94-2.06-.94 2.06-2.06.94z\"/><path d=\"M17.41 7.96l-1.37-1.37c-.4-.4-.92-.59-1.43-.59-.52 0-1.04.2-1.43.59L10.3 9.45l-7.72 7.72c-.78.78-.78 2.05 0 2.83L4 21.41c.39.39.9.59 1.41.59.51 0 1.02-.2 1.41-.59l7.78-7.78 2.81-2.81c.8-.78.8-2.07 0-2.86zM5.41 20L4 18.59l7.72-7.72 1.47 1.35L5.41 20z\"/>\n",
              "  </svg>\n",
              "      </button>\n",
              "      \n",
              "  <style>\n",
              "    .colab-df-container {\n",
              "      display:flex;\n",
              "      flex-wrap:wrap;\n",
              "      gap: 12px;\n",
              "    }\n",
              "\n",
              "    .colab-df-convert {\n",
              "      background-color: #E8F0FE;\n",
              "      border: none;\n",
              "      border-radius: 50%;\n",
              "      cursor: pointer;\n",
              "      display: none;\n",
              "      fill: #1967D2;\n",
              "      height: 32px;\n",
              "      padding: 0 0 0 0;\n",
              "      width: 32px;\n",
              "    }\n",
              "\n",
              "    .colab-df-convert:hover {\n",
              "      background-color: #E2EBFA;\n",
              "      box-shadow: 0px 1px 2px rgba(60, 64, 67, 0.3), 0px 1px 3px 1px rgba(60, 64, 67, 0.15);\n",
              "      fill: #174EA6;\n",
              "    }\n",
              "\n",
              "    [theme=dark] .colab-df-convert {\n",
              "      background-color: #3B4455;\n",
              "      fill: #D2E3FC;\n",
              "    }\n",
              "\n",
              "    [theme=dark] .colab-df-convert:hover {\n",
              "      background-color: #434B5C;\n",
              "      box-shadow: 0px 1px 3px 1px rgba(0, 0, 0, 0.15);\n",
              "      filter: drop-shadow(0px 1px 2px rgba(0, 0, 0, 0.3));\n",
              "      fill: #FFFFFF;\n",
              "    }\n",
              "  </style>\n",
              "\n",
              "      <script>\n",
              "        const buttonEl =\n",
              "          document.querySelector('#df-433ff3e8-9eaf-4e0c-afec-a3913df54723 button.colab-df-convert');\n",
              "        buttonEl.style.display =\n",
              "          google.colab.kernel.accessAllowed ? 'block' : 'none';\n",
              "\n",
              "        async function convertToInteractive(key) {\n",
              "          const element = document.querySelector('#df-433ff3e8-9eaf-4e0c-afec-a3913df54723');\n",
              "          const dataTable =\n",
              "            await google.colab.kernel.invokeFunction('convertToInteractive',\n",
              "                                                     [key], {});\n",
              "          if (!dataTable) return;\n",
              "\n",
              "          const docLinkHtml = 'Like what you see? Visit the ' +\n",
              "            '<a target=\"_blank\" href=https://colab.research.google.com/notebooks/data_table.ipynb>data table notebook</a>'\n",
              "            + ' to learn more about interactive tables.';\n",
              "          element.innerHTML = '';\n",
              "          dataTable['output_type'] = 'display_data';\n",
              "          await google.colab.output.renderOutput(dataTable, element);\n",
              "          const docLink = document.createElement('div');\n",
              "          docLink.innerHTML = docLinkHtml;\n",
              "          element.appendChild(docLink);\n",
              "        }\n",
              "      </script>\n",
              "    </div>\n",
              "  </div>\n",
              "  "
            ]
          },
          "metadata": {},
          "execution_count": 4
        }
      ]
    },
    {
      "cell_type": "markdown",
      "metadata": {
        "id": "1aMfTP0PRh2F"
      },
      "source": [
        "Removed columns:"
      ]
    },
    {
      "cell_type": "code",
      "execution_count": 5,
      "metadata": {
        "colab": {
          "base_uri": "https://localhost:8080/"
        },
        "id": "RH3UV7j2Rh2F",
        "outputId": "37831f30-d0b9-4daa-8b54-29ea427742fe"
      },
      "outputs": [
        {
          "output_type": "execute_result",
          "data": {
            "text/plain": [
              "Index(['DateCrawled', 'DateCreated', 'LastSeen', 'NumberOfPictures',\n",
              "       'PostalCode', 'RegistrationMonth'],\n",
              "      dtype='object')"
            ]
          },
          "metadata": {},
          "execution_count": 5
        }
      ],
      "source": [
        "cols_difference = data.columns.difference(df.columns)\n",
        "cols_difference"
      ]
    },
    {
      "cell_type": "markdown",
      "metadata": {
        "id": "uo42fV-vRh2G"
      },
      "source": [
        "**Date of downloading the questionnaire from the database.**\n",
        "\n",
        "This information is for reference only and does not require processing."
      ]
    },
    {
      "cell_type": "code",
      "execution_count": 6,
      "metadata": {
        "id": "bMZGBLzORh2G",
        "outputId": "40bc143f-472c-44b6-a445-9b8754eac8d3",
        "colab": {
          "base_uri": "https://localhost:8080/"
        }
      },
      "outputs": [
        {
          "output_type": "execute_result",
          "data": {
            "text/plain": [
              "2016-03-24 14:49:47    7\n",
              "2016-03-19 21:49:56    6\n",
              "2016-03-26 22:57:31    6\n",
              "2016-03-31 16:50:28    5\n",
              "2016-03-07 17:36:19    5\n",
              "                      ..\n",
              "2016-03-22 11:53:58    1\n",
              "2016-03-30 21:57:23    1\n",
              "2016-03-23 19:45:34    1\n",
              "2016-03-05 18:43:29    1\n",
              "2016-03-19 18:57:12    1\n",
              "Name: DateCrawled, Length: 271174, dtype: int64"
            ]
          },
          "metadata": {},
          "execution_count": 6
        }
      ],
      "source": [
        "data['DateCrawled'].value_counts().sort_values(ascending=False)"
      ]
    },
    {
      "cell_type": "markdown",
      "metadata": {
        "id": "eRyrD3sKRh2G"
      },
      "source": [
        "**Price (Euros).**\n",
        "\n",
        "Let's look at the distribution of prices, excluding zero records."
      ]
    },
    {
      "cell_type": "code",
      "source": [
        "# Get the Price column from the DataFrame\n",
        "df_price = df['Price']\n",
        "\n",
        "# Display the count of each unique value in Price, sorted by descending count\n",
        "display(df_price.value_counts().sort_values(ascending=False).head(7))\n",
        "\n",
        "# Plot a histogram of Price values greater than zero\n",
        "plt.figure(figsize=(8, 4))\n",
        "df_price[df_price > 0].hist(bins=100)\n",
        "plt.xlabel('Price')\n",
        "plt.ylabel('Count')\n",
        "plt.title('Distribution of Price')\n",
        "plt.tight_layout()\n",
        "plt.show()\n",
        "\n",
        "# Create a boxplot of Price values greater than zero\n",
        "plt.figure(figsize=(4, 8))\n",
        "plt.boxplot(df_price[df_price > 0])\n",
        "plt.ylabel('Price')\n",
        "plt.title('Boxplot of Price')\n",
        "plt.tight_layout()\n",
        "plt.show()\n",
        "\n",
        "# Get summary statistics for Price values greater than zero\n",
        "display(df_price[df_price > 0].describe())"
      ],
      "metadata": {
        "colab": {
          "base_uri": "https://localhost:8080/",
          "height": 1000
        },
        "id": "UZSkXk4vHtJI",
        "outputId": "c35d1313-ca6b-423b-ea74-42547ce54cb9"
      },
      "execution_count": 7,
      "outputs": [
        {
          "output_type": "display_data",
          "data": {
            "text/plain": [
              "0       10772\n",
              "500      5670\n",
              "1500     5394\n",
              "1000     4649\n",
              "1200     4594\n",
              "2500     4438\n",
              "600      3819\n",
              "Name: Price, dtype: int64"
            ]
          },
          "metadata": {}
        },
        {
          "output_type": "display_data",
          "data": {
            "text/plain": [
              "<Figure size 800x400 with 1 Axes>"
            ],
            "image/png": "[encoded data removed]"
          },
          "metadata": {}
        },
        {
          "output_type": "display_data",
          "data": {
            "text/plain": [
              "<Figure size 400x800 with 1 Axes>"
            ],
            "image/png": "[encoded data removed]"
          },
          "metadata": {}
        },
        {
          "output_type": "display_data",
          "data": {
            "text/plain": [
              "count    343597.000000\n",
              "mean       4555.121974\n",
              "std        4515.058553\n",
              "min           1.000000\n",
              "25%        1200.000000\n",
              "50%        2890.000000\n",
              "75%        6500.000000\n",
              "max       20000.000000\n",
              "Name: Price, dtype: float64"
            ]
          },
          "metadata": {}
        }
      ]
    },
    {
      "cell_type": "markdown",
      "metadata": {
        "id": "gHLXzQ_2Rh2G"
      },
      "source": [
        "Let's look at the 5% and 90% percentiles."
      ]
    },
    {
      "cell_type": "code",
      "execution_count": 8,
      "metadata": {
        "id": "KxTe9_7URh2H",
        "outputId": "851fce0e-6697-4f10-8566-d2d65a15d1f5",
        "colab": {
          "base_uri": "https://localhost:8080/"
        }
      },
      "outputs": [
        {
          "output_type": "execute_result",
          "data": {
            "text/plain": [
              "0.05      200.0\n",
              "0.90    11450.0\n",
              "Name: Price, dtype: float64"
            ]
          },
          "metadata": {},
          "execution_count": 8
        }
      ],
      "source": [
        "df_price.quantile([0.05, 0.9])"
      ]
    },
    {
      "cell_type": "markdown",
      "metadata": {
        "id": "uXo-xGvyRh2H"
      },
      "source": [
        "It is not possible to restore zero values in the car price, so we will have to delete these records. We will also filter by values from the obtained percentiles."
      ]
    },
    {
      "cell_type": "code",
      "execution_count": 9,
      "metadata": {
        "id": "HVyxIJd7Rh2H",
        "outputId": "c9527069-d0ad-4b84-9fd9-7d3b6f4e471c",
        "colab": {
          "base_uri": "https://localhost:8080/"
        }
      },
      "outputs": [
        {
          "output_type": "stream",
          "name": "stdout",
          "text": [
            "Removed 14.53% of the data.\n"
          ]
        }
      ],
      "source": [
        "df = df.query('Price >= 200 & Price <= 11500')\n",
        "print(f\"Removed {round((data.shape[0] - df.shape[0]) / data.shape[0] * 100, 2)}% of the data.\")"
      ]
    },
    {
      "cell_type": "markdown",
      "metadata": {
        "id": "tVF1bhoQRh2H"
      },
      "source": [
        "**Type of car body.**"
      ]
    },
    {
      "cell_type": "code",
      "execution_count": 10,
      "metadata": {
        "id": "90PnY3_hRh2I",
        "outputId": "d948dd8b-63fe-4787-940f-56512758465e",
        "colab": {
          "base_uri": "https://localhost:8080/"
        }
      },
      "outputs": [
        {
          "output_type": "execute_result",
          "data": {
            "text/plain": [
              "sedan          79209\n",
              "small          73781\n",
              "wagon          56064\n",
              "bus            24951\n",
              "convertible    15881\n",
              "coupe          12277\n",
              "suv             7664\n",
              "other           2807\n",
              "Name: VehicleType, dtype: int64"
            ]
          },
          "metadata": {},
          "execution_count": 10
        }
      ],
      "source": [
        "df['VehicleType'].value_counts().sort_values(ascending=False)"
      ]
    },
    {
      "cell_type": "markdown",
      "metadata": {
        "id": "ACrCFfJHRh2I"
      },
      "source": [
        "Replace NaN with `unknown`, since the body may differ even within the same model. **Justification** on the example of the Volkswagen Passat. This car was presented in different body styles throughout the model's existence: hatchback (small), wagon (estate), coupe (coupe), sedan (sedan), and even a hard-top convertible (convertible) in 2015. Let's take a look at the Alltrack version in the SUV body."
      ]
    },
    {
      "cell_type": "code",
      "execution_count": 11,
      "metadata": {
        "id": "S6We0XT_Rh2I",
        "outputId": "ef876ea7-bdd9-4eee-a3a5-ffd5fa2547d3",
        "colab": {
          "base_uri": "https://localhost:8080/",
          "height": 238
        }
      },
      "outputs": [
        {
          "output_type": "execute_result",
          "data": {
            "text/plain": [
              "       VehicleType       Brand   Model  RegistrationYear Gearbox  Power  \\\n",
              "11394          suv  volkswagen  passat              1998  manual    101   \n",
              "90879          suv  volkswagen  passat              1996  manual      0   \n",
              "116771         suv  volkswagen  passat              1998  manual    101   \n",
              "127182         suv  volkswagen  passat              2008  manual    140   \n",
              "\n",
              "        FuelType  Kilometer NotRepaired  Price  \n",
              "11394     petrol     150000         NaN   1600  \n",
              "90879     petrol     150000          no    500  \n",
              "116771    petrol     150000         NaN   1500  \n",
              "127182  gasoline     150000          no   6950  "
            ],
            "text/html": [
              "\n",
              "  <div id=\"df-fecf3a4e-2ca3-4536-9204-37d995b0a194\">\n",
              "    <div class=\"colab-df-container\">\n",
              "      <div>\n",
              "<style scoped>\n",
              "    .dataframe tbody tr th:only-of-type {\n",
              "        vertical-align: middle;\n",
              "    }\n",
              "\n",
              "    .dataframe tbody tr th {\n",
              "        vertical-align: top;\n",
              "    }\n",
              "\n",
              "    .dataframe thead th {\n",
              "        text-align: right;\n",
              "    }\n",
              "</style>\n",
              "<table border=\"1\" class=\"dataframe\">\n",
              "  <thead>\n",
              "    <tr style=\"text-align: right;\">\n",
              "      <th></th>\n",
              "      <th>VehicleType</th>\n",
              "      <th>Brand</th>\n",
              "      <th>Model</th>\n",
              "      <th>RegistrationYear</th>\n",
              "      <th>Gearbox</th>\n",
              "      <th>Power</th>\n",
              "      <th>FuelType</th>\n",
              "      <th>Kilometer</th>\n",
              "      <th>NotRepaired</th>\n",
              "      <th>Price</th>\n",
              "    </tr>\n",
              "  </thead>\n",
              "  <tbody>\n",
              "    <tr>\n",
              "      <th>11394</th>\n",
              "      <td>suv</td>\n",
              "      <td>volkswagen</td>\n",
              "      <td>passat</td>\n",
              "      <td>1998</td>\n",
              "      <td>manual</td>\n",
              "      <td>101</td>\n",
              "      <td>petrol</td>\n",
              "      <td>150000</td>\n",
              "      <td>NaN</td>\n",
              "      <td>1600</td>\n",
              "    </tr>\n",
              "    <tr>\n",
              "      <th>90879</th>\n",
              "      <td>suv</td>\n",
              "      <td>volkswagen</td>\n",
              "      <td>passat</td>\n",
              "      <td>1996</td>\n",
              "      <td>manual</td>\n",
              "      <td>0</td>\n",
              "      <td>petrol</td>\n",
              "      <td>150000</td>\n",
              "      <td>no</td>\n",
              "      <td>500</td>\n",
              "    </tr>\n",
              "    <tr>\n",
              "      <th>116771</th>\n",
              "      <td>suv</td>\n",
              "      <td>volkswagen</td>\n",
              "      <td>passat</td>\n",
              "      <td>1998</td>\n",
              "      <td>manual</td>\n",
              "      <td>101</td>\n",
              "      <td>petrol</td>\n",
              "      <td>150000</td>\n",
              "      <td>NaN</td>\n",
              "      <td>1500</td>\n",
              "    </tr>\n",
              "    <tr>\n",
              "      <th>127182</th>\n",
              "      <td>suv</td>\n",
              "      <td>volkswagen</td>\n",
              "      <td>passat</td>\n",
              "      <td>2008</td>\n",
              "      <td>manual</td>\n",
              "      <td>140</td>\n",
              "      <td>gasoline</td>\n",
              "      <td>150000</td>\n",
              "      <td>no</td>\n",
              "      <td>6950</td>\n",
              "    </tr>\n",
              "  </tbody>\n",
              "</table>\n",
              "</div>\n",
              "      <button class=\"colab-df-convert\" onclick=\"convertToInteractive('df-fecf3a4e-2ca3-4536-9204-37d995b0a194')\"\n",
              "              title=\"Convert this dataframe to an interactive table.\"\n",
              "              style=\"display:none;\">\n",
              "        \n",
              "  <svg xmlns=\"http://www.w3.org/2000/svg\" height=\"24px\"viewBox=\"0 0 24 24\"\n",
              "       width=\"24px\">\n",
              "    <path d=\"M0 0h24v24H0V0z\" fill=\"none\"/>\n",
              "    <path d=\"M18.56 5.44l.94 2.06.94-2.06 2.06-.94-2.06-.94-.94-2.06-.94 2.06-2.06.94zm-11 1L8.5 8.5l.94-2.06 2.06-.94-2.06-.94L8.5 2.5l-.94 2.06-2.06.94zm10 10l.94 2.06.94-2.06 2.06-.94-2.06-.94-.94-2.06-.94 2.06-2.06.94z\"/><path d=\"M17.41 7.96l-1.37-1.37c-.4-.4-.92-.59-1.43-.59-.52 0-1.04.2-1.43.59L10.3 9.45l-7.72 7.72c-.78.78-.78 2.05 0 2.83L4 21.41c.39.39.9.59 1.41.59.51 0 1.02-.2 1.41-.59l7.78-7.78 2.81-2.81c.8-.78.8-2.07 0-2.86zM5.41 20L4 18.59l7.72-7.72 1.47 1.35L5.41 20z\"/>\n",
              "  </svg>\n",
              "      </button>\n",
              "      \n",
              "  <style>\n",
              "    .colab-df-container {\n",
              "      display:flex;\n",
              "      flex-wrap:wrap;\n",
              "      gap: 12px;\n",
              "    }\n",
              "\n",
              "    .colab-df-convert {\n",
              "      background-color: #E8F0FE;\n",
              "      border: none;\n",
              "      border-radius: 50%;\n",
              "      cursor: pointer;\n",
              "      display: none;\n",
              "      fill: #1967D2;\n",
              "      height: 32px;\n",
              "      padding: 0 0 0 0;\n",
              "      width: 32px;\n",
              "    }\n",
              "\n",
              "    .colab-df-convert:hover {\n",
              "      background-color: #E2EBFA;\n",
              "      box-shadow: 0px 1px 2px rgba(60, 64, 67, 0.3), 0px 1px 3px 1px rgba(60, 64, 67, 0.15);\n",
              "      fill: #174EA6;\n",
              "    }\n",
              "\n",
              "    [theme=dark] .colab-df-convert {\n",
              "      background-color: #3B4455;\n",
              "      fill: #D2E3FC;\n",
              "    }\n",
              "\n",
              "    [theme=dark] .colab-df-convert:hover {\n",
              "      background-color: #434B5C;\n",
              "      box-shadow: 0px 1px 3px 1px rgba(0, 0, 0, 0.15);\n",
              "      filter: drop-shadow(0px 1px 2px rgba(0, 0, 0, 0.3));\n",
              "      fill: #FFFFFF;\n",
              "    }\n",
              "  </style>\n",
              "\n",
              "      <script>\n",
              "        const buttonEl =\n",
              "          document.querySelector('#df-fecf3a4e-2ca3-4536-9204-37d995b0a194 button.colab-df-convert');\n",
              "        buttonEl.style.display =\n",
              "          google.colab.kernel.accessAllowed ? 'block' : 'none';\n",
              "\n",
              "        async function convertToInteractive(key) {\n",
              "          const element = document.querySelector('#df-fecf3a4e-2ca3-4536-9204-37d995b0a194');\n",
              "          const dataTable =\n",
              "            await google.colab.kernel.invokeFunction('convertToInteractive',\n",
              "                                                     [key], {});\n",
              "          if (!dataTable) return;\n",
              "\n",
              "          const docLinkHtml = 'Like what you see? Visit the ' +\n",
              "            '<a target=\"_blank\" href=https://colab.research.google.com/notebooks/data_table.ipynb>data table notebook</a>'\n",
              "            + ' to learn more about interactive tables.';\n",
              "          element.innerHTML = '';\n",
              "          dataTable['output_type'] = 'display_data';\n",
              "          await google.colab.output.renderOutput(dataTable, element);\n",
              "          const docLink = document.createElement('div');\n",
              "          docLink.innerHTML = docLinkHtml;\n",
              "          element.appendChild(docLink);\n",
              "        }\n",
              "      </script>\n",
              "    </div>\n",
              "  </div>\n",
              "  "
            ]
          },
          "metadata": {},
          "execution_count": 11
        }
      ],
      "source": [
        "df.loc[\n",
        "    (df['Brand'] == 'volkswagen') & \n",
        "    (df['Model'] =='passat') & \n",
        "    (df['VehicleType'] == 'suv')\n",
        "]"
      ]
    },
    {
      "cell_type": "code",
      "execution_count": 12,
      "metadata": {
        "id": "DSdbu_dHRh2I",
        "outputId": "aa526ccf-eafa-458d-aed4-2c659c906d9d",
        "colab": {
          "base_uri": "https://localhost:8080/"
        }
      },
      "outputs": [
        {
          "output_type": "stream",
          "name": "stdout",
          "text": [
            "Amount of NaN in `VehicleType`: 0\n"
          ]
        }
      ],
      "source": [
        "df['VehicleType'].fillna('unknown', inplace=True)\n",
        "print(f\"Amount of NaN in `VehicleType`: {df['VehicleType'].isna().sum()}\")"
      ]
    },
    {
      "cell_type": "markdown",
      "metadata": {
        "id": "kJhus6AkRh2I"
      },
      "source": [
        "**Car brand.**"
      ]
    },
    {
      "cell_type": "code",
      "execution_count": 13,
      "metadata": {
        "id": "eo0K9A_lRh2J",
        "outputId": "2c88e281-2064-43f5-ae21-32bc7dadd83a",
        "colab": {
          "base_uri": "https://localhost:8080/"
        }
      },
      "outputs": [
        {
          "output_type": "execute_result",
          "data": {
            "text/plain": [
              "array(['alfa_romeo', 'audi', 'bmw', 'chevrolet', 'chrysler', 'citroen',\n",
              "       'dacia', 'daewoo', 'daihatsu', 'fiat', 'ford', 'honda', 'hyundai',\n",
              "       'jaguar', 'jeep', 'kia', 'lada', 'lancia', 'land_rover', 'mazda',\n",
              "       'mercedes_benz', 'mini', 'mitsubishi', 'nissan', 'opel', 'peugeot',\n",
              "       'porsche', 'renault', 'rover', 'saab', 'seat', 'skoda', 'smart',\n",
              "       'sonstige_autos', 'subaru', 'suzuki', 'toyota', 'trabant',\n",
              "       'volkswagen', 'volvo'], dtype=object)"
            ]
          },
          "metadata": {},
          "execution_count": 13
        }
      ],
      "source": [
        "np.sort(df['Brand'].unique())"
      ]
    },
    {
      "cell_type": "markdown",
      "metadata": {
        "id": "C78NH_xMRh2J"
      },
      "source": [
        "**Car model.**\n",
        "\n",
        "Let's take a closer look at NaN values in this feature."
      ]
    },
    {
      "cell_type": "code",
      "execution_count": 14,
      "metadata": {
        "scrolled": true,
        "id": "N8PfzhSBRh2J",
        "outputId": "56e8c4b8-acba-4d5a-d9bc-ead8cf72d342",
        "colab": {
          "base_uri": "https://localhost:8080/",
          "height": 267
        }
      },
      "outputs": [
        {
          "output_type": "stream",
          "name": "stdout",
          "text": [
            "Amount of NaN in `Model`: 15486\n"
          ]
        },
        {
          "output_type": "execute_result",
          "data": {
            "text/plain": [
              "    VehicleType       Brand Model  RegistrationYear Gearbox  Power  FuelType  \\\n",
              "81        small        fiat   NaN              1997  manual     54       NaN   \n",
              "135       sedan        audi   NaN              1992  manual    136       NaN   \n",
              "151       small  volkswagen   NaN              2009     NaN     60    petrol   \n",
              "160       small     renault   NaN              1999  manual      0    petrol   \n",
              "161       wagon  volkswagen   NaN              2001     NaN     64  gasoline   \n",
              "\n",
              "     Kilometer NotRepaired  Price  \n",
              "81      150000         yes    350  \n",
              "135     150000          no   1450  \n",
              "151      20000          no   6799  \n",
              "160     150000          no    500  \n",
              "161     150000         NaN   1495  "
            ],
            "text/html": [
              "\n",
              "  <div id=\"df-7ef61678-1b50-4a92-8dbb-0e8b05662cb5\">\n",
              "    <div class=\"colab-df-container\">\n",
              "      <div>\n",
              "<style scoped>\n",
              "    .dataframe tbody tr th:only-of-type {\n",
              "        vertical-align: middle;\n",
              "    }\n",
              "\n",
              "    .dataframe tbody tr th {\n",
              "        vertical-align: top;\n",
              "    }\n",
              "\n",
              "    .dataframe thead th {\n",
              "        text-align: right;\n",
              "    }\n",
              "</style>\n",
              "<table border=\"1\" class=\"dataframe\">\n",
              "  <thead>\n",
              "    <tr style=\"text-align: right;\">\n",
              "      <th></th>\n",
              "      <th>VehicleType</th>\n",
              "      <th>Brand</th>\n",
              "      <th>Model</th>\n",
              "      <th>RegistrationYear</th>\n",
              "      <th>Gearbox</th>\n",
              "      <th>Power</th>\n",
              "      <th>FuelType</th>\n",
              "      <th>Kilometer</th>\n",
              "      <th>NotRepaired</th>\n",
              "      <th>Price</th>\n",
              "    </tr>\n",
              "  </thead>\n",
              "  <tbody>\n",
              "    <tr>\n",
              "      <th>81</th>\n",
              "      <td>small</td>\n",
              "      <td>fiat</td>\n",
              "      <td>NaN</td>\n",
              "      <td>1997</td>\n",
              "      <td>manual</td>\n",
              "      <td>54</td>\n",
              "      <td>NaN</td>\n",
              "      <td>150000</td>\n",
              "      <td>yes</td>\n",
              "      <td>350</td>\n",
              "    </tr>\n",
              "    <tr>\n",
              "      <th>135</th>\n",
              "      <td>sedan</td>\n",
              "      <td>audi</td>\n",
              "      <td>NaN</td>\n",
              "      <td>1992</td>\n",
              "      <td>manual</td>\n",
              "      <td>136</td>\n",
              "      <td>NaN</td>\n",
              "      <td>150000</td>\n",
              "      <td>no</td>\n",
              "      <td>1450</td>\n",
              "    </tr>\n",
              "    <tr>\n",
              "      <th>151</th>\n",
              "      <td>small</td>\n",
              "      <td>volkswagen</td>\n",
              "      <td>NaN</td>\n",
              "      <td>2009</td>\n",
              "      <td>NaN</td>\n",
              "      <td>60</td>\n",
              "      <td>petrol</td>\n",
              "      <td>20000</td>\n",
              "      <td>no</td>\n",
              "      <td>6799</td>\n",
              "    </tr>\n",
              "    <tr>\n",
              "      <th>160</th>\n",
              "      <td>small</td>\n",
              "      <td>renault</td>\n",
              "      <td>NaN</td>\n",
              "      <td>1999</td>\n",
              "      <td>manual</td>\n",
              "      <td>0</td>\n",
              "      <td>petrol</td>\n",
              "      <td>150000</td>\n",
              "      <td>no</td>\n",
              "      <td>500</td>\n",
              "    </tr>\n",
              "    <tr>\n",
              "      <th>161</th>\n",
              "      <td>wagon</td>\n",
              "      <td>volkswagen</td>\n",
              "      <td>NaN</td>\n",
              "      <td>2001</td>\n",
              "      <td>NaN</td>\n",
              "      <td>64</td>\n",
              "      <td>gasoline</td>\n",
              "      <td>150000</td>\n",
              "      <td>NaN</td>\n",
              "      <td>1495</td>\n",
              "    </tr>\n",
              "  </tbody>\n",
              "</table>\n",
              "</div>\n",
              "      <button class=\"colab-df-convert\" onclick=\"convertToInteractive('df-7ef61678-1b50-4a92-8dbb-0e8b05662cb5')\"\n",
              "              title=\"Convert this dataframe to an interactive table.\"\n",
              "              style=\"display:none;\">\n",
              "        \n",
              "  <svg xmlns=\"http://www.w3.org/2000/svg\" height=\"24px\"viewBox=\"0 0 24 24\"\n",
              "       width=\"24px\">\n",
              "    <path d=\"M0 0h24v24H0V0z\" fill=\"none\"/>\n",
              "    <path d=\"M18.56 5.44l.94 2.06.94-2.06 2.06-.94-2.06-.94-.94-2.06-.94 2.06-2.06.94zm-11 1L8.5 8.5l.94-2.06 2.06-.94-2.06-.94L8.5 2.5l-.94 2.06-2.06.94zm10 10l.94 2.06.94-2.06 2.06-.94-2.06-.94-.94-2.06-.94 2.06-2.06.94z\"/><path d=\"M17.41 7.96l-1.37-1.37c-.4-.4-.92-.59-1.43-.59-.52 0-1.04.2-1.43.59L10.3 9.45l-7.72 7.72c-.78.78-.78 2.05 0 2.83L4 21.41c.39.39.9.59 1.41.59.51 0 1.02-.2 1.41-.59l7.78-7.78 2.81-2.81c.8-.78.8-2.07 0-2.86zM5.41 20L4 18.59l7.72-7.72 1.47 1.35L5.41 20z\"/>\n",
              "  </svg>\n",
              "      </button>\n",
              "      \n",
              "  <style>\n",
              "    .colab-df-container {\n",
              "      display:flex;\n",
              "      flex-wrap:wrap;\n",
              "      gap: 12px;\n",
              "    }\n",
              "\n",
              "    .colab-df-convert {\n",
              "      background-color: #E8F0FE;\n",
              "      border: none;\n",
              "      border-radius: 50%;\n",
              "      cursor: pointer;\n",
              "      display: none;\n",
              "      fill: #1967D2;\n",
              "      height: 32px;\n",
              "      padding: 0 0 0 0;\n",
              "      width: 32px;\n",
              "    }\n",
              "\n",
              "    .colab-df-convert:hover {\n",
              "      background-color: #E2EBFA;\n",
              "      box-shadow: 0px 1px 2px rgba(60, 64, 67, 0.3), 0px 1px 3px 1px rgba(60, 64, 67, 0.15);\n",
              "      fill: #174EA6;\n",
              "    }\n",
              "\n",
              "    [theme=dark] .colab-df-convert {\n",
              "      background-color: #3B4455;\n",
              "      fill: #D2E3FC;\n",
              "    }\n",
              "\n",
              "    [theme=dark] .colab-df-convert:hover {\n",
              "      background-color: #434B5C;\n",
              "      box-shadow: 0px 1px 3px 1px rgba(0, 0, 0, 0.15);\n",
              "      filter: drop-shadow(0px 1px 2px rgba(0, 0, 0, 0.3));\n",
              "      fill: #FFFFFF;\n",
              "    }\n",
              "  </style>\n",
              "\n",
              "      <script>\n",
              "        const buttonEl =\n",
              "          document.querySelector('#df-7ef61678-1b50-4a92-8dbb-0e8b05662cb5 button.colab-df-convert');\n",
              "        buttonEl.style.display =\n",
              "          google.colab.kernel.accessAllowed ? 'block' : 'none';\n",
              "\n",
              "        async function convertToInteractive(key) {\n",
              "          const element = document.querySelector('#df-7ef61678-1b50-4a92-8dbb-0e8b05662cb5');\n",
              "          const dataTable =\n",
              "            await google.colab.kernel.invokeFunction('convertToInteractive',\n",
              "                                                     [key], {});\n",
              "          if (!dataTable) return;\n",
              "\n",
              "          const docLinkHtml = 'Like what you see? Visit the ' +\n",
              "            '<a target=\"_blank\" href=https://colab.research.google.com/notebooks/data_table.ipynb>data table notebook</a>'\n",
              "            + ' to learn more about interactive tables.';\n",
              "          element.innerHTML = '';\n",
              "          dataTable['output_type'] = 'display_data';\n",
              "          await google.colab.output.renderOutput(dataTable, element);\n",
              "          const docLink = document.createElement('div');\n",
              "          docLink.innerHTML = docLinkHtml;\n",
              "          element.appendChild(docLink);\n",
              "        }\n",
              "      </script>\n",
              "    </div>\n",
              "  </div>\n",
              "  "
            ]
          },
          "metadata": {},
          "execution_count": 14
        }
      ],
      "source": [
        "print(f\"Amount of NaN in `Model`: {df['Model'].isna().sum()}\")\n",
        "df[df['Model'].isna()].head()"
      ]
    },
    {
      "cell_type": "code",
      "execution_count": 15,
      "metadata": {
        "id": "tSYMm6rzRh2J",
        "outputId": "293cb6b5-7daf-4c80-ef40-afb89921b940",
        "colab": {
          "base_uri": "https://localhost:8080/"
        }
      },
      "outputs": [
        {
          "output_type": "execute_result",
          "data": {
            "text/plain": [
              "golf          25343\n",
              "other         20611\n",
              "3er           16882\n",
              "polo          11841\n",
              "corsa         11482\n",
              "              ...  \n",
              "rangerover        3\n",
              "amarok            3\n",
              "q3                2\n",
              "serie_1           1\n",
              "serie_3           1\n",
              "Name: Model, Length: 248, dtype: int64"
            ]
          },
          "metadata": {},
          "execution_count": 15
        }
      ],
      "source": [
        "df['Model'].value_counts().sort_values(ascending=False)"
      ]
    },
    {
      "cell_type": "markdown",
      "metadata": {
        "id": "dhb28HK_Rh2J"
      },
      "source": [
        "Replace NaN with `unknown`."
      ]
    },
    {
      "cell_type": "code",
      "execution_count": 16,
      "metadata": {
        "id": "-1gHSjqNRh2K",
        "outputId": "720dcce0-1658-496c-d92c-80732bdaf660",
        "colab": {
          "base_uri": "https://localhost:8080/"
        }
      },
      "outputs": [
        {
          "output_type": "stream",
          "name": "stdout",
          "text": [
            "Amount of NaN in `Model`: 0\n"
          ]
        }
      ],
      "source": [
        "df['Model'].fillna('unknown', inplace=True)\n",
        "print(f\"Amount of NaN in `Model`: {df['Model'].isna().sum()}\")"
      ]
    },
    {
      "cell_type": "markdown",
      "metadata": {
        "id": "B0SHSKhhRh2K"
      },
      "source": [
        "**Year of car registration.**"
      ]
    },
    {
      "cell_type": "code",
      "execution_count": 17,
      "metadata": {
        "id": "Z1oURD19Rh2K",
        "outputId": "513fa0de-10d3-4bcb-9f1a-d83bec369b4b",
        "colab": {
          "base_uri": "https://localhost:8080/"
        }
      },
      "outputs": [
        {
          "output_type": "execute_result",
          "data": {
            "text/plain": [
              "array([1000, 1001, 1039, 1111, 1234, 1300, 1400, 1500, 1600, 1602, 1800,\n",
              "       1910, 1923, 1925, 1928, 1929, 1930, 1931, 1932, 1934, 1935, 1936,\n",
              "       1937, 1938, 1941, 1942, 1943, 1944, 1945, 1946, 1948, 1950, 1951,\n",
              "       1952, 1953, 1954, 1955, 1956, 1957, 1958, 1959, 1960, 1961, 1962,\n",
              "       1963, 1964, 1965, 1966, 1967, 1968, 1969, 1970, 1971, 1972, 1973,\n",
              "       1974, 1975, 1976, 1977, 1978, 1979, 1980, 1981, 1982, 1983, 1984,\n",
              "       1985, 1986, 1987, 1988, 1989, 1990, 1991, 1992, 1993, 1994, 1995,\n",
              "       1996, 1997, 1998, 1999, 2000, 2001, 2002, 2003, 2004, 2005, 2006,\n",
              "       2007, 2008, 2009, 2010, 2011, 2012, 2013, 2014, 2015, 2016, 2017,\n",
              "       2018, 2019, 2066, 2200, 2290, 2500, 2800, 2900, 3000, 3200, 3700,\n",
              "       3800, 4000, 4100, 4500, 4800, 5000, 5300, 5555, 5900, 5911, 6000,\n",
              "       7000, 7100, 7800, 8200, 8500, 8888, 9000, 9450, 9999])"
            ]
          },
          "metadata": {},
          "execution_count": 17
        }
      ],
      "source": [
        "np.sort(df['RegistrationYear'].unique())"
      ]
    },
    {
      "cell_type": "markdown",
      "metadata": {
        "id": "v8gK7tZzRh2K"
      },
      "source": [
        "Let's look at the chart of registration years according to data on the first car in open sources. According to the condition, we have historical data, including 2016. Therefore, we can safely remove everything newer. We will analyze the lower bound."
      ]
    },
    {
      "cell_type": "code",
      "execution_count": 18,
      "metadata": {
        "id": "2xyIxMnaRh2K",
        "outputId": "7eaed585-1eb4-4071-8ecb-e3a7431ad7c2",
        "colab": {
          "base_uri": "https://localhost:8080/",
          "height": 832
        }
      },
      "outputs": [
        {
          "output_type": "display_data",
          "data": {
            "text/plain": [
              "<Figure size 800x400 with 1 Axes>"
            ],
            "image/png": "[encoded data removed]"
          },
          "metadata": {}
        },
        {
          "output_type": "stream",
          "name": "stdout",
          "text": [
            "\n",
            "Lower bound\n"
          ]
        },
        {
          "output_type": "display_data",
          "data": {
            "text/plain": [
              "<Figure size 800x400 with 1 Axes>"
            ],
            "image/png": "[encoded data removed]"
          },
          "metadata": {}
        }
      ],
      "source": [
        "df_reg_year = df['RegistrationYear']\n",
        "df_reg_year = df_reg_year[df_reg_year <= 2016]\n",
        "df_reg_year = df_reg_year[df_reg_year >= 1800]\n",
        "df_reg_year.hist(bins=100, figsize=(8, 4))\n",
        "plt.tight_layout()\n",
        "plt.show()\n",
        "\n",
        "print(f\"\\nLower bound\")\n",
        "df_reg_year[df_reg_year < 1980].hist(bins=100, figsize=(8, 4))\n",
        "plt.tight_layout()\n",
        "plt.show()"
      ]
    },
    {
      "cell_type": "markdown",
      "metadata": {
        "id": "CvHb8ncxRh2L"
      },
      "source": [
        "There is a slight \"spike\" in the period from 1900 to 1925, but it will not affect anything. The growth is noticeable in the period from 1950 to 1975, so we will filter everything from 1950 to 2016 inclusive."
      ]
    },
    {
      "cell_type": "code",
      "execution_count": 19,
      "metadata": {
        "scrolled": false,
        "id": "5OpbkC1aRh2L",
        "outputId": "6ec70fe6-523c-472c-889d-58f45c350f7b",
        "colab": {
          "base_uri": "https://localhost:8080/"
        }
      },
      "outputs": [
        {
          "output_type": "stream",
          "name": "stdout",
          "text": [
            "Removed 18.23% of the data.\n",
            "Clean period: 1950-2016.\n"
          ]
        }
      ],
      "source": [
        "df = df.query('RegistrationYear >= 1950 & RegistrationYear <= 2016')\n",
        "reg_year_start = np.sort(df['RegistrationYear'].unique()).min()\n",
        "reg_year_end = np.sort(df['RegistrationYear'].unique()).max()\n",
        "\n",
        "print(f\"Removed {round((data.shape[0] - df.shape[0]) / data.shape[0] * 100, 2)}% of the data.\")\n",
        "print(f\"Clean period: {reg_year_start}-{reg_year_end}.\")"
      ]
    },
    {
      "cell_type": "markdown",
      "metadata": {
        "id": "1TBrQx62Rh2L"
      },
      "source": [
        "**Type of transmission.**\n",
        "\n",
        "Let's take a closer look at NaN values in this feature."
      ]
    },
    {
      "cell_type": "code",
      "execution_count": 20,
      "metadata": {
        "id": "-BODQWSmRh2L",
        "outputId": "3090b53e-9b57-44f8-dbdf-e27f0ef972f3",
        "colab": {
          "base_uri": "https://localhost:8080/",
          "height": 267
        }
      },
      "outputs": [
        {
          "output_type": "stream",
          "name": "stdout",
          "text": [
            "Amount of NaN in `Gearbox`: 13369\n"
          ]
        },
        {
          "output_type": "execute_result",
          "data": {
            "text/plain": [
              "   VehicleType       Brand   Model  RegistrationYear Gearbox  Power  FuelType  \\\n",
              "16     unknown  volkswagen    polo              2016     NaN     60    petrol   \n",
              "32       sedan  volkswagen    golf              1994     NaN      0    petrol   \n",
              "37     unknown     renault  kangoo              2016     NaN      0  gasoline   \n",
              "69       coupe        opel   astra              2001     NaN      0       NaN   \n",
              "92     unknown        ford      ka              2000     NaN     60       NaN   \n",
              "\n",
              "    Kilometer NotRepaired  Price  \n",
              "16     150000         NaN    300  \n",
              "32     150000          no    245  \n",
              "37     150000          no   1500  \n",
              "69     150000         NaN   1200  \n",
              "92     150000         NaN    250  "
            ],
            "text/html": [
              "\n",
              "  <div id=\"df-a8dba717-3de9-4476-acd9-17f37646f7c1\">\n",
              "    <div class=\"colab-df-container\">\n",
              "      <div>\n",
              "<style scoped>\n",
              "    .dataframe tbody tr th:only-of-type {\n",
              "        vertical-align: middle;\n",
              "    }\n",
              "\n",
              "    .dataframe tbody tr th {\n",
              "        vertical-align: top;\n",
              "    }\n",
              "\n",
              "    .dataframe thead th {\n",
              "        text-align: right;\n",
              "    }\n",
              "</style>\n",
              "<table border=\"1\" class=\"dataframe\">\n",
              "  <thead>\n",
              "    <tr style=\"text-align: right;\">\n",
              "      <th></th>\n",
              "      <th>VehicleType</th>\n",
              "      <th>Brand</th>\n",
              "      <th>Model</th>\n",
              "      <th>RegistrationYear</th>\n",
              "      <th>Gearbox</th>\n",
              "      <th>Power</th>\n",
              "      <th>FuelType</th>\n",
              "      <th>Kilometer</th>\n",
              "      <th>NotRepaired</th>\n",
              "      <th>Price</th>\n",
              "    </tr>\n",
              "  </thead>\n",
              "  <tbody>\n",
              "    <tr>\n",
              "      <th>16</th>\n",
              "      <td>unknown</td>\n",
              "      <td>volkswagen</td>\n",
              "      <td>polo</td>\n",
              "      <td>2016</td>\n",
              "      <td>NaN</td>\n",
              "      <td>60</td>\n",
              "      <td>petrol</td>\n",
              "      <td>150000</td>\n",
              "      <td>NaN</td>\n",
              "      <td>300</td>\n",
              "    </tr>\n",
              "    <tr>\n",
              "      <th>32</th>\n",
              "      <td>sedan</td>\n",
              "      <td>volkswagen</td>\n",
              "      <td>golf</td>\n",
              "      <td>1994</td>\n",
              "      <td>NaN</td>\n",
              "      <td>0</td>\n",
              "      <td>petrol</td>\n",
              "      <td>150000</td>\n",
              "      <td>no</td>\n",
              "      <td>245</td>\n",
              "    </tr>\n",
              "    <tr>\n",
              "      <th>37</th>\n",
              "      <td>unknown</td>\n",
              "      <td>renault</td>\n",
              "      <td>kangoo</td>\n",
              "      <td>2016</td>\n",
              "      <td>NaN</td>\n",
              "      <td>0</td>\n",
              "      <td>gasoline</td>\n",
              "      <td>150000</td>\n",
              "      <td>no</td>\n",
              "      <td>1500</td>\n",
              "    </tr>\n",
              "    <tr>\n",
              "      <th>69</th>\n",
              "      <td>coupe</td>\n",
              "      <td>opel</td>\n",
              "      <td>astra</td>\n",
              "      <td>2001</td>\n",
              "      <td>NaN</td>\n",
              "      <td>0</td>\n",
              "      <td>NaN</td>\n",
              "      <td>150000</td>\n",
              "      <td>NaN</td>\n",
              "      <td>1200</td>\n",
              "    </tr>\n",
              "    <tr>\n",
              "      <th>92</th>\n",
              "      <td>unknown</td>\n",
              "      <td>ford</td>\n",
              "      <td>ka</td>\n",
              "      <td>2000</td>\n",
              "      <td>NaN</td>\n",
              "      <td>60</td>\n",
              "      <td>NaN</td>\n",
              "      <td>150000</td>\n",
              "      <td>NaN</td>\n",
              "      <td>250</td>\n",
              "    </tr>\n",
              "  </tbody>\n",
              "</table>\n",
              "</div>\n",
              "      <button class=\"colab-df-convert\" onclick=\"convertToInteractive('df-a8dba717-3de9-4476-acd9-17f37646f7c1')\"\n",
              "              title=\"Convert this dataframe to an interactive table.\"\n",
              "              style=\"display:none;\">\n",
              "        \n",
              "  <svg xmlns=\"http://www.w3.org/2000/svg\" height=\"24px\"viewBox=\"0 0 24 24\"\n",
              "       width=\"24px\">\n",
              "    <path d=\"M0 0h24v24H0V0z\" fill=\"none\"/>\n",
              "    <path d=\"M18.56 5.44l.94 2.06.94-2.06 2.06-.94-2.06-.94-.94-2.06-.94 2.06-2.06.94zm-11 1L8.5 8.5l.94-2.06 2.06-.94-2.06-.94L8.5 2.5l-.94 2.06-2.06.94zm10 10l.94 2.06.94-2.06 2.06-.94-2.06-.94-.94-2.06-.94 2.06-2.06.94z\"/><path d=\"M17.41 7.96l-1.37-1.37c-.4-.4-.92-.59-1.43-.59-.52 0-1.04.2-1.43.59L10.3 9.45l-7.72 7.72c-.78.78-.78 2.05 0 2.83L4 21.41c.39.39.9.59 1.41.59.51 0 1.02-.2 1.41-.59l7.78-7.78 2.81-2.81c.8-.78.8-2.07 0-2.86zM5.41 20L4 18.59l7.72-7.72 1.47 1.35L5.41 20z\"/>\n",
              "  </svg>\n",
              "      </button>\n",
              "      \n",
              "  <style>\n",
              "    .colab-df-container {\n",
              "      display:flex;\n",
              "      flex-wrap:wrap;\n",
              "      gap: 12px;\n",
              "    }\n",
              "\n",
              "    .colab-df-convert {\n",
              "      background-color: #E8F0FE;\n",
              "      border: none;\n",
              "      border-radius: 50%;\n",
              "      cursor: pointer;\n",
              "      display: none;\n",
              "      fill: #1967D2;\n",
              "      height: 32px;\n",
              "      padding: 0 0 0 0;\n",
              "      width: 32px;\n",
              "    }\n",
              "\n",
              "    .colab-df-convert:hover {\n",
              "      background-color: #E2EBFA;\n",
              "      box-shadow: 0px 1px 2px rgba(60, 64, 67, 0.3), 0px 1px 3px 1px rgba(60, 64, 67, 0.15);\n",
              "      fill: #174EA6;\n",
              "    }\n",
              "\n",
              "    [theme=dark] .colab-df-convert {\n",
              "      background-color: #3B4455;\n",
              "      fill: #D2E3FC;\n",
              "    }\n",
              "\n",
              "    [theme=dark] .colab-df-convert:hover {\n",
              "      background-color: #434B5C;\n",
              "      box-shadow: 0px 1px 3px 1px rgba(0, 0, 0, 0.15);\n",
              "      filter: drop-shadow(0px 1px 2px rgba(0, 0, 0, 0.3));\n",
              "      fill: #FFFFFF;\n",
              "    }\n",
              "  </style>\n",
              "\n",
              "      <script>\n",
              "        const buttonEl =\n",
              "          document.querySelector('#df-a8dba717-3de9-4476-acd9-17f37646f7c1 button.colab-df-convert');\n",
              "        buttonEl.style.display =\n",
              "          google.colab.kernel.accessAllowed ? 'block' : 'none';\n",
              "\n",
              "        async function convertToInteractive(key) {\n",
              "          const element = document.querySelector('#df-a8dba717-3de9-4476-acd9-17f37646f7c1');\n",
              "          const dataTable =\n",
              "            await google.colab.kernel.invokeFunction('convertToInteractive',\n",
              "                                                     [key], {});\n",
              "          if (!dataTable) return;\n",
              "\n",
              "          const docLinkHtml = 'Like what you see? Visit the ' +\n",
              "            '<a target=\"_blank\" href=https://colab.research.google.com/notebooks/data_table.ipynb>data table notebook</a>'\n",
              "            + ' to learn more about interactive tables.';\n",
              "          element.innerHTML = '';\n",
              "          dataTable['output_type'] = 'display_data';\n",
              "          await google.colab.output.renderOutput(dataTable, element);\n",
              "          const docLink = document.createElement('div');\n",
              "          docLink.innerHTML = docLinkHtml;\n",
              "          element.appendChild(docLink);\n",
              "        }\n",
              "      </script>\n",
              "    </div>\n",
              "  </div>\n",
              "  "
            ]
          },
          "metadata": {},
          "execution_count": 20
        }
      ],
      "source": [
        "print(f\"Amount of NaN in `Gearbox`: {df['Gearbox'].isna().sum()}\")\n",
        "df[df['Gearbox'].isna()].head()"
      ]
    },
    {
      "cell_type": "code",
      "execution_count": 21,
      "metadata": {
        "id": "tQp7GFT8Rh2M",
        "outputId": "edf984c9-9938-40e2-a8d8-6ac0ef9d6a2a",
        "colab": {
          "base_uri": "https://localhost:8080/"
        }
      },
      "outputs": [
        {
          "output_type": "execute_result",
          "data": {
            "text/plain": [
              "manual    227668\n",
              "auto       48746\n",
              "Name: Gearbox, dtype: int64"
            ]
          },
          "metadata": {},
          "execution_count": 21
        }
      ],
      "source": [
        "df['Gearbox'].value_counts().sort_values(ascending=False)"
      ]
    },
    {
      "cell_type": "markdown",
      "metadata": {
        "id": "XB8CM0jaRh2M"
      },
      "source": [
        "Electric cars are present in the ads, which do not have a gearbox, but to avoid creating an additional value, let's replace all `electric` with `auto` in `Gearbox`. "
      ]
    },
    {
      "cell_type": "code",
      "execution_count": 22,
      "metadata": {
        "id": "JV7C7PPhRh2M",
        "outputId": "59ef1e59-eb3b-4466-8d52-7949b0b17f46",
        "colab": {
          "base_uri": "https://localhost:8080/",
          "height": 487
        }
      },
      "outputs": [
        {
          "output_type": "execute_result",
          "data": {
            "text/plain": [
              "       VehicleType           Brand     Model  RegistrationYear Gearbox  Power  \\\n",
              "12571        small         renault     other              2014    auto     15   \n",
              "13227        small         renault     other              2013    auto     18   \n",
              "13316        coupe   mercedes_benz  c_klasse              2001    auto    170   \n",
              "16237        other  sonstige_autos   unknown              2006    auto      5   \n",
              "25191        other  sonstige_autos   unknown              2010     NaN      0   \n",
              "...            ...             ...       ...               ...     ...    ...   \n",
              "340404       small        daihatsu     cuore              1996    auto     45   \n",
              "343292       small         renault     other              2012    auto     11   \n",
              "344961       small         renault     other              2012    auto     13   \n",
              "348891       small         renault     other              2014    auto     18   \n",
              "352464       wagon            opel     astra              2007  manual     90   \n",
              "\n",
              "        FuelType  Kilometer NotRepaired  Price  \n",
              "12571   electric      10000          no   5999  \n",
              "13227   electric      10000          no   5799  \n",
              "13316   electric     125000          no   4200  \n",
              "16237   electric      40000          no   4500  \n",
              "25191   electric       5000         NaN   2000  \n",
              "...          ...        ...         ...    ...  \n",
              "340404  electric      50000         yes   1000  \n",
              "343292  electric      50000          no   5250  \n",
              "344961  electric      20000          no   6500  \n",
              "348891  electric      10000          no   5690  \n",
              "352464  electric     150000          no   4300  \n",
              "\n",
              "[67 rows x 10 columns]"
            ],
            "text/html": [
              "\n",
              "  <div id=\"df-774e876c-f800-4e1e-959c-51711a011389\">\n",
              "    <div class=\"colab-df-container\">\n",
              "      <div>\n",
              "<style scoped>\n",
              "    .dataframe tbody tr th:only-of-type {\n",
              "        vertical-align: middle;\n",
              "    }\n",
              "\n",
              "    .dataframe tbody tr th {\n",
              "        vertical-align: top;\n",
              "    }\n",
              "\n",
              "    .dataframe thead th {\n",
              "        text-align: right;\n",
              "    }\n",
              "</style>\n",
              "<table border=\"1\" class=\"dataframe\">\n",
              "  <thead>\n",
              "    <tr style=\"text-align: right;\">\n",
              "      <th></th>\n",
              "      <th>VehicleType</th>\n",
              "      <th>Brand</th>\n",
              "      <th>Model</th>\n",
              "      <th>RegistrationYear</th>\n",
              "      <th>Gearbox</th>\n",
              "      <th>Power</th>\n",
              "      <th>FuelType</th>\n",
              "      <th>Kilometer</th>\n",
              "      <th>NotRepaired</th>\n",
              "      <th>Price</th>\n",
              "    </tr>\n",
              "  </thead>\n",
              "  <tbody>\n",
              "    <tr>\n",
              "      <th>12571</th>\n",
              "      <td>small</td>\n",
              "      <td>renault</td>\n",
              "      <td>other</td>\n",
              "      <td>2014</td>\n",
              "      <td>auto</td>\n",
              "      <td>15</td>\n",
              "      <td>electric</td>\n",
              "      <td>10000</td>\n",
              "      <td>no</td>\n",
              "      <td>5999</td>\n",
              "    </tr>\n",
              "    <tr>\n",
              "      <th>13227</th>\n",
              "      <td>small</td>\n",
              "      <td>renault</td>\n",
              "      <td>other</td>\n",
              "      <td>2013</td>\n",
              "      <td>auto</td>\n",
              "      <td>18</td>\n",
              "      <td>electric</td>\n",
              "      <td>10000</td>\n",
              "      <td>no</td>\n",
              "      <td>5799</td>\n",
              "    </tr>\n",
              "    <tr>\n",
              "      <th>13316</th>\n",
              "      <td>coupe</td>\n",
              "      <td>mercedes_benz</td>\n",
              "      <td>c_klasse</td>\n",
              "      <td>2001</td>\n",
              "      <td>auto</td>\n",
              "      <td>170</td>\n",
              "      <td>electric</td>\n",
              "      <td>125000</td>\n",
              "      <td>no</td>\n",
              "      <td>4200</td>\n",
              "    </tr>\n",
              "    <tr>\n",
              "      <th>16237</th>\n",
              "      <td>other</td>\n",
              "      <td>sonstige_autos</td>\n",
              "      <td>unknown</td>\n",
              "      <td>2006</td>\n",
              "      <td>auto</td>\n",
              "      <td>5</td>\n",
              "      <td>electric</td>\n",
              "      <td>40000</td>\n",
              "      <td>no</td>\n",
              "      <td>4500</td>\n",
              "    </tr>\n",
              "    <tr>\n",
              "      <th>25191</th>\n",
              "      <td>other</td>\n",
              "      <td>sonstige_autos</td>\n",
              "      <td>unknown</td>\n",
              "      <td>2010</td>\n",
              "      <td>NaN</td>\n",
              "      <td>0</td>\n",
              "      <td>electric</td>\n",
              "      <td>5000</td>\n",
              "      <td>NaN</td>\n",
              "      <td>2000</td>\n",
              "    </tr>\n",
              "    <tr>\n",
              "      <th>...</th>\n",
              "      <td>...</td>\n",
              "      <td>...</td>\n",
              "      <td>...</td>\n",
              "      <td>...</td>\n",
              "      <td>...</td>\n",
              "      <td>...</td>\n",
              "      <td>...</td>\n",
              "      <td>...</td>\n",
              "      <td>...</td>\n",
              "      <td>...</td>\n",
              "    </tr>\n",
              "    <tr>\n",
              "      <th>340404</th>\n",
              "      <td>small</td>\n",
              "      <td>daihatsu</td>\n",
              "      <td>cuore</td>\n",
              "      <td>1996</td>\n",
              "      <td>auto</td>\n",
              "      <td>45</td>\n",
              "      <td>electric</td>\n",
              "      <td>50000</td>\n",
              "      <td>yes</td>\n",
              "      <td>1000</td>\n",
              "    </tr>\n",
              "    <tr>\n",
              "      <th>343292</th>\n",
              "      <td>small</td>\n",
              "      <td>renault</td>\n",
              "      <td>other</td>\n",
              "      <td>2012</td>\n",
              "      <td>auto</td>\n",
              "      <td>11</td>\n",
              "      <td>electric</td>\n",
              "      <td>50000</td>\n",
              "      <td>no</td>\n",
              "      <td>5250</td>\n",
              "    </tr>\n",
              "    <tr>\n",
              "      <th>344961</th>\n",
              "      <td>small</td>\n",
              "      <td>renault</td>\n",
              "      <td>other</td>\n",
              "      <td>2012</td>\n",
              "      <td>auto</td>\n",
              "      <td>13</td>\n",
              "      <td>electric</td>\n",
              "      <td>20000</td>\n",
              "      <td>no</td>\n",
              "      <td>6500</td>\n",
              "    </tr>\n",
              "    <tr>\n",
              "      <th>348891</th>\n",
              "      <td>small</td>\n",
              "      <td>renault</td>\n",
              "      <td>other</td>\n",
              "      <td>2014</td>\n",
              "      <td>auto</td>\n",
              "      <td>18</td>\n",
              "      <td>electric</td>\n",
              "      <td>10000</td>\n",
              "      <td>no</td>\n",
              "      <td>5690</td>\n",
              "    </tr>\n",
              "    <tr>\n",
              "      <th>352464</th>\n",
              "      <td>wagon</td>\n",
              "      <td>opel</td>\n",
              "      <td>astra</td>\n",
              "      <td>2007</td>\n",
              "      <td>manual</td>\n",
              "      <td>90</td>\n",
              "      <td>electric</td>\n",
              "      <td>150000</td>\n",
              "      <td>no</td>\n",
              "      <td>4300</td>\n",
              "    </tr>\n",
              "  </tbody>\n",
              "</table>\n",
              "<p>67 rows × 10 columns</p>\n",
              "</div>\n",
              "      <button class=\"colab-df-convert\" onclick=\"convertToInteractive('df-774e876c-f800-4e1e-959c-51711a011389')\"\n",
              "              title=\"Convert this dataframe to an interactive table.\"\n",
              "              style=\"display:none;\">\n",
              "        \n",
              "  <svg xmlns=\"http://www.w3.org/2000/svg\" height=\"24px\"viewBox=\"0 0 24 24\"\n",
              "       width=\"24px\">\n",
              "    <path d=\"M0 0h24v24H0V0z\" fill=\"none\"/>\n",
              "    <path d=\"M18.56 5.44l.94 2.06.94-2.06 2.06-.94-2.06-.94-.94-2.06-.94 2.06-2.06.94zm-11 1L8.5 8.5l.94-2.06 2.06-.94-2.06-.94L8.5 2.5l-.94 2.06-2.06.94zm10 10l.94 2.06.94-2.06 2.06-.94-2.06-.94-.94-2.06-.94 2.06-2.06.94z\"/><path d=\"M17.41 7.96l-1.37-1.37c-.4-.4-.92-.59-1.43-.59-.52 0-1.04.2-1.43.59L10.3 9.45l-7.72 7.72c-.78.78-.78 2.05 0 2.83L4 21.41c.39.39.9.59 1.41.59.51 0 1.02-.2 1.41-.59l7.78-7.78 2.81-2.81c.8-.78.8-2.07 0-2.86zM5.41 20L4 18.59l7.72-7.72 1.47 1.35L5.41 20z\"/>\n",
              "  </svg>\n",
              "      </button>\n",
              "      \n",
              "  <style>\n",
              "    .colab-df-container {\n",
              "      display:flex;\n",
              "      flex-wrap:wrap;\n",
              "      gap: 12px;\n",
              "    }\n",
              "\n",
              "    .colab-df-convert {\n",
              "      background-color: #E8F0FE;\n",
              "      border: none;\n",
              "      border-radius: 50%;\n",
              "      cursor: pointer;\n",
              "      display: none;\n",
              "      fill: #1967D2;\n",
              "      height: 32px;\n",
              "      padding: 0 0 0 0;\n",
              "      width: 32px;\n",
              "    }\n",
              "\n",
              "    .colab-df-convert:hover {\n",
              "      background-color: #E2EBFA;\n",
              "      box-shadow: 0px 1px 2px rgba(60, 64, 67, 0.3), 0px 1px 3px 1px rgba(60, 64, 67, 0.15);\n",
              "      fill: #174EA6;\n",
              "    }\n",
              "\n",
              "    [theme=dark] .colab-df-convert {\n",
              "      background-color: #3B4455;\n",
              "      fill: #D2E3FC;\n",
              "    }\n",
              "\n",
              "    [theme=dark] .colab-df-convert:hover {\n",
              "      background-color: #434B5C;\n",
              "      box-shadow: 0px 1px 3px 1px rgba(0, 0, 0, 0.15);\n",
              "      filter: drop-shadow(0px 1px 2px rgba(0, 0, 0, 0.3));\n",
              "      fill: #FFFFFF;\n",
              "    }\n",
              "  </style>\n",
              "\n",
              "      <script>\n",
              "        const buttonEl =\n",
              "          document.querySelector('#df-774e876c-f800-4e1e-959c-51711a011389 button.colab-df-convert');\n",
              "        buttonEl.style.display =\n",
              "          google.colab.kernel.accessAllowed ? 'block' : 'none';\n",
              "\n",
              "        async function convertToInteractive(key) {\n",
              "          const element = document.querySelector('#df-774e876c-f800-4e1e-959c-51711a011389');\n",
              "          const dataTable =\n",
              "            await google.colab.kernel.invokeFunction('convertToInteractive',\n",
              "                                                     [key], {});\n",
              "          if (!dataTable) return;\n",
              "\n",
              "          const docLinkHtml = 'Like what you see? Visit the ' +\n",
              "            '<a target=\"_blank\" href=https://colab.research.google.com/notebooks/data_table.ipynb>data table notebook</a>'\n",
              "            + ' to learn more about interactive tables.';\n",
              "          element.innerHTML = '';\n",
              "          dataTable['output_type'] = 'display_data';\n",
              "          await google.colab.output.renderOutput(dataTable, element);\n",
              "          const docLink = document.createElement('div');\n",
              "          docLink.innerHTML = docLinkHtml;\n",
              "          element.appendChild(docLink);\n",
              "        }\n",
              "      </script>\n",
              "    </div>\n",
              "  </div>\n",
              "  "
            ]
          },
          "metadata": {},
          "execution_count": 22
        }
      ],
      "source": [
        "df[df['FuelType'] == 'electric']"
      ]
    },
    {
      "cell_type": "code",
      "execution_count": 23,
      "metadata": {
        "id": "yYIvTkk4Rh2M",
        "outputId": "ca238647-4d6a-43cb-ed62-6832ae2c489e",
        "colab": {
          "base_uri": "https://localhost:8080/",
          "height": 395
        }
      },
      "outputs": [
        {
          "output_type": "execute_result",
          "data": {
            "text/plain": [
              "        VehicleType           Brand    Model  RegistrationYear Gearbox  Power  \\\n",
              "25191         other  sonstige_autos  unknown              2010     NaN      0   \n",
              "66254         small  sonstige_autos  unknown              2010     NaN     14   \n",
              "67587         small  sonstige_autos  unknown              1993     NaN      0   \n",
              "83642         small         renault    other              2012     NaN     11   \n",
              "91391   convertible  sonstige_autos  unknown              2007     NaN      0   \n",
              "110222        small         renault    other              2012     NaN     11   \n",
              "110822        small           smart   fortwo              2013     NaN     75   \n",
              "147119        small         renault    other              2013     NaN     11   \n",
              "151821      unknown  sonstige_autos  unknown              2007     NaN      0   \n",
              "\n",
              "        FuelType  Kilometer NotRepaired  Price  \n",
              "25191   electric       5000         NaN   2000  \n",
              "66254   electric      10000          no   6600  \n",
              "67587   electric     150000         NaN    550  \n",
              "83642   electric      20000          no   4950  \n",
              "91391   electric      30000          no   3500  \n",
              "110222  electric      20000          no   5390  \n",
              "110822  electric      40000          no   8400  \n",
              "147119  electric      20000          no   6499  \n",
              "151821  electric      30000         yes   3500  "
            ],
            "text/html": [
              "\n",
              "  <div id=\"df-f902ded6-195d-477b-aedd-e5cc1cfdb95f\">\n",
              "    <div class=\"colab-df-container\">\n",
              "      <div>\n",
              "<style scoped>\n",
              "    .dataframe tbody tr th:only-of-type {\n",
              "        vertical-align: middle;\n",
              "    }\n",
              "\n",
              "    .dataframe tbody tr th {\n",
              "        vertical-align: top;\n",
              "    }\n",
              "\n",
              "    .dataframe thead th {\n",
              "        text-align: right;\n",
              "    }\n",
              "</style>\n",
              "<table border=\"1\" class=\"dataframe\">\n",
              "  <thead>\n",
              "    <tr style=\"text-align: right;\">\n",
              "      <th></th>\n",
              "      <th>VehicleType</th>\n",
              "      <th>Brand</th>\n",
              "      <th>Model</th>\n",
              "      <th>RegistrationYear</th>\n",
              "      <th>Gearbox</th>\n",
              "      <th>Power</th>\n",
              "      <th>FuelType</th>\n",
              "      <th>Kilometer</th>\n",
              "      <th>NotRepaired</th>\n",
              "      <th>Price</th>\n",
              "    </tr>\n",
              "  </thead>\n",
              "  <tbody>\n",
              "    <tr>\n",
              "      <th>25191</th>\n",
              "      <td>other</td>\n",
              "      <td>sonstige_autos</td>\n",
              "      <td>unknown</td>\n",
              "      <td>2010</td>\n",
              "      <td>NaN</td>\n",
              "      <td>0</td>\n",
              "      <td>electric</td>\n",
              "      <td>5000</td>\n",
              "      <td>NaN</td>\n",
              "      <td>2000</td>\n",
              "    </tr>\n",
              "    <tr>\n",
              "      <th>66254</th>\n",
              "      <td>small</td>\n",
              "      <td>sonstige_autos</td>\n",
              "      <td>unknown</td>\n",
              "      <td>2010</td>\n",
              "      <td>NaN</td>\n",
              "      <td>14</td>\n",
              "      <td>electric</td>\n",
              "      <td>10000</td>\n",
              "      <td>no</td>\n",
              "      <td>6600</td>\n",
              "    </tr>\n",
              "    <tr>\n",
              "      <th>67587</th>\n",
              "      <td>small</td>\n",
              "      <td>sonstige_autos</td>\n",
              "      <td>unknown</td>\n",
              "      <td>1993</td>\n",
              "      <td>NaN</td>\n",
              "      <td>0</td>\n",
              "      <td>electric</td>\n",
              "      <td>150000</td>\n",
              "      <td>NaN</td>\n",
              "      <td>550</td>\n",
              "    </tr>\n",
              "    <tr>\n",
              "      <th>83642</th>\n",
              "      <td>small</td>\n",
              "      <td>renault</td>\n",
              "      <td>other</td>\n",
              "      <td>2012</td>\n",
              "      <td>NaN</td>\n",
              "      <td>11</td>\n",
              "      <td>electric</td>\n",
              "      <td>20000</td>\n",
              "      <td>no</td>\n",
              "      <td>4950</td>\n",
              "    </tr>\n",
              "    <tr>\n",
              "      <th>91391</th>\n",
              "      <td>convertible</td>\n",
              "      <td>sonstige_autos</td>\n",
              "      <td>unknown</td>\n",
              "      <td>2007</td>\n",
              "      <td>NaN</td>\n",
              "      <td>0</td>\n",
              "      <td>electric</td>\n",
              "      <td>30000</td>\n",
              "      <td>no</td>\n",
              "      <td>3500</td>\n",
              "    </tr>\n",
              "    <tr>\n",
              "      <th>110222</th>\n",
              "      <td>small</td>\n",
              "      <td>renault</td>\n",
              "      <td>other</td>\n",
              "      <td>2012</td>\n",
              "      <td>NaN</td>\n",
              "      <td>11</td>\n",
              "      <td>electric</td>\n",
              "      <td>20000</td>\n",
              "      <td>no</td>\n",
              "      <td>5390</td>\n",
              "    </tr>\n",
              "    <tr>\n",
              "      <th>110822</th>\n",
              "      <td>small</td>\n",
              "      <td>smart</td>\n",
              "      <td>fortwo</td>\n",
              "      <td>2013</td>\n",
              "      <td>NaN</td>\n",
              "      <td>75</td>\n",
              "      <td>electric</td>\n",
              "      <td>40000</td>\n",
              "      <td>no</td>\n",
              "      <td>8400</td>\n",
              "    </tr>\n",
              "    <tr>\n",
              "      <th>147119</th>\n",
              "      <td>small</td>\n",
              "      <td>renault</td>\n",
              "      <td>other</td>\n",
              "      <td>2013</td>\n",
              "      <td>NaN</td>\n",
              "      <td>11</td>\n",
              "      <td>electric</td>\n",
              "      <td>20000</td>\n",
              "      <td>no</td>\n",
              "      <td>6499</td>\n",
              "    </tr>\n",
              "    <tr>\n",
              "      <th>151821</th>\n",
              "      <td>unknown</td>\n",
              "      <td>sonstige_autos</td>\n",
              "      <td>unknown</td>\n",
              "      <td>2007</td>\n",
              "      <td>NaN</td>\n",
              "      <td>0</td>\n",
              "      <td>electric</td>\n",
              "      <td>30000</td>\n",
              "      <td>yes</td>\n",
              "      <td>3500</td>\n",
              "    </tr>\n",
              "  </tbody>\n",
              "</table>\n",
              "</div>\n",
              "      <button class=\"colab-df-convert\" onclick=\"convertToInteractive('df-f902ded6-195d-477b-aedd-e5cc1cfdb95f')\"\n",
              "              title=\"Convert this dataframe to an interactive table.\"\n",
              "              style=\"display:none;\">\n",
              "        \n",
              "  <svg xmlns=\"http://www.w3.org/2000/svg\" height=\"24px\"viewBox=\"0 0 24 24\"\n",
              "       width=\"24px\">\n",
              "    <path d=\"M0 0h24v24H0V0z\" fill=\"none\"/>\n",
              "    <path d=\"M18.56 5.44l.94 2.06.94-2.06 2.06-.94-2.06-.94-.94-2.06-.94 2.06-2.06.94zm-11 1L8.5 8.5l.94-2.06 2.06-.94-2.06-.94L8.5 2.5l-.94 2.06-2.06.94zm10 10l.94 2.06.94-2.06 2.06-.94-2.06-.94-.94-2.06-.94 2.06-2.06.94z\"/><path d=\"M17.41 7.96l-1.37-1.37c-.4-.4-.92-.59-1.43-.59-.52 0-1.04.2-1.43.59L10.3 9.45l-7.72 7.72c-.78.78-.78 2.05 0 2.83L4 21.41c.39.39.9.59 1.41.59.51 0 1.02-.2 1.41-.59l7.78-7.78 2.81-2.81c.8-.78.8-2.07 0-2.86zM5.41 20L4 18.59l7.72-7.72 1.47 1.35L5.41 20z\"/>\n",
              "  </svg>\n",
              "      </button>\n",
              "      \n",
              "  <style>\n",
              "    .colab-df-container {\n",
              "      display:flex;\n",
              "      flex-wrap:wrap;\n",
              "      gap: 12px;\n",
              "    }\n",
              "\n",
              "    .colab-df-convert {\n",
              "      background-color: #E8F0FE;\n",
              "      border: none;\n",
              "      border-radius: 50%;\n",
              "      cursor: pointer;\n",
              "      display: none;\n",
              "      fill: #1967D2;\n",
              "      height: 32px;\n",
              "      padding: 0 0 0 0;\n",
              "      width: 32px;\n",
              "    }\n",
              "\n",
              "    .colab-df-convert:hover {\n",
              "      background-color: #E2EBFA;\n",
              "      box-shadow: 0px 1px 2px rgba(60, 64, 67, 0.3), 0px 1px 3px 1px rgba(60, 64, 67, 0.15);\n",
              "      fill: #174EA6;\n",
              "    }\n",
              "\n",
              "    [theme=dark] .colab-df-convert {\n",
              "      background-color: #3B4455;\n",
              "      fill: #D2E3FC;\n",
              "    }\n",
              "\n",
              "    [theme=dark] .colab-df-convert:hover {\n",
              "      background-color: #434B5C;\n",
              "      box-shadow: 0px 1px 3px 1px rgba(0, 0, 0, 0.15);\n",
              "      filter: drop-shadow(0px 1px 2px rgba(0, 0, 0, 0.3));\n",
              "      fill: #FFFFFF;\n",
              "    }\n",
              "  </style>\n",
              "\n",
              "      <script>\n",
              "        const buttonEl =\n",
              "          document.querySelector('#df-f902ded6-195d-477b-aedd-e5cc1cfdb95f button.colab-df-convert');\n",
              "        buttonEl.style.display =\n",
              "          google.colab.kernel.accessAllowed ? 'block' : 'none';\n",
              "\n",
              "        async function convertToInteractive(key) {\n",
              "          const element = document.querySelector('#df-f902ded6-195d-477b-aedd-e5cc1cfdb95f');\n",
              "          const dataTable =\n",
              "            await google.colab.kernel.invokeFunction('convertToInteractive',\n",
              "                                                     [key], {});\n",
              "          if (!dataTable) return;\n",
              "\n",
              "          const docLinkHtml = 'Like what you see? Visit the ' +\n",
              "            '<a target=\"_blank\" href=https://colab.research.google.com/notebooks/data_table.ipynb>data table notebook</a>'\n",
              "            + ' to learn more about interactive tables.';\n",
              "          element.innerHTML = '';\n",
              "          dataTable['output_type'] = 'display_data';\n",
              "          await google.colab.output.renderOutput(dataTable, element);\n",
              "          const docLink = document.createElement('div');\n",
              "          docLink.innerHTML = docLinkHtml;\n",
              "          element.appendChild(docLink);\n",
              "        }\n",
              "      </script>\n",
              "    </div>\n",
              "  </div>\n",
              "  "
            ]
          },
          "metadata": {},
          "execution_count": 23
        }
      ],
      "source": [
        "df.loc[(df['Gearbox'].isnull()) & (df['FuelType'] == 'electric')]"
      ]
    },
    {
      "cell_type": "code",
      "execution_count": 24,
      "metadata": {
        "id": "PhH7buRKRh2M",
        "outputId": "a48c3ca7-0893-48a9-fd17-79ed0173e7e6",
        "colab": {
          "base_uri": "https://localhost:8080/",
          "height": 270
        }
      },
      "outputs": [
        {
          "output_type": "execute_result",
          "data": {
            "text/plain": [
              "      VehicleType           Brand     Model  RegistrationYear Gearbox  Power  \\\n",
              "12571       small         renault     other              2014    auto     15   \n",
              "13227       small         renault     other              2013    auto     18   \n",
              "13316       coupe   mercedes_benz  c_klasse              2001    auto    170   \n",
              "16237       other  sonstige_autos   unknown              2006    auto      5   \n",
              "25191       other  sonstige_autos   unknown              2010    auto      0   \n",
              "\n",
              "       FuelType  Kilometer NotRepaired  Price  \n",
              "12571  electric      10000          no   5999  \n",
              "13227  electric      10000          no   5799  \n",
              "13316  electric     125000          no   4200  \n",
              "16237  electric      40000          no   4500  \n",
              "25191  electric       5000         NaN   2000  "
            ],
            "text/html": [
              "\n",
              "  <div id=\"df-4dd3259c-4ae1-4447-b5e7-5cbb51d2d177\">\n",
              "    <div class=\"colab-df-container\">\n",
              "      <div>\n",
              "<style scoped>\n",
              "    .dataframe tbody tr th:only-of-type {\n",
              "        vertical-align: middle;\n",
              "    }\n",
              "\n",
              "    .dataframe tbody tr th {\n",
              "        vertical-align: top;\n",
              "    }\n",
              "\n",
              "    .dataframe thead th {\n",
              "        text-align: right;\n",
              "    }\n",
              "</style>\n",
              "<table border=\"1\" class=\"dataframe\">\n",
              "  <thead>\n",
              "    <tr style=\"text-align: right;\">\n",
              "      <th></th>\n",
              "      <th>VehicleType</th>\n",
              "      <th>Brand</th>\n",
              "      <th>Model</th>\n",
              "      <th>RegistrationYear</th>\n",
              "      <th>Gearbox</th>\n",
              "      <th>Power</th>\n",
              "      <th>FuelType</th>\n",
              "      <th>Kilometer</th>\n",
              "      <th>NotRepaired</th>\n",
              "      <th>Price</th>\n",
              "    </tr>\n",
              "  </thead>\n",
              "  <tbody>\n",
              "    <tr>\n",
              "      <th>12571</th>\n",
              "      <td>small</td>\n",
              "      <td>renault</td>\n",
              "      <td>other</td>\n",
              "      <td>2014</td>\n",
              "      <td>auto</td>\n",
              "      <td>15</td>\n",
              "      <td>electric</td>\n",
              "      <td>10000</td>\n",
              "      <td>no</td>\n",
              "      <td>5999</td>\n",
              "    </tr>\n",
              "    <tr>\n",
              "      <th>13227</th>\n",
              "      <td>small</td>\n",
              "      <td>renault</td>\n",
              "      <td>other</td>\n",
              "      <td>2013</td>\n",
              "      <td>auto</td>\n",
              "      <td>18</td>\n",
              "      <td>electric</td>\n",
              "      <td>10000</td>\n",
              "      <td>no</td>\n",
              "      <td>5799</td>\n",
              "    </tr>\n",
              "    <tr>\n",
              "      <th>13316</th>\n",
              "      <td>coupe</td>\n",
              "      <td>mercedes_benz</td>\n",
              "      <td>c_klasse</td>\n",
              "      <td>2001</td>\n",
              "      <td>auto</td>\n",
              "      <td>170</td>\n",
              "      <td>electric</td>\n",
              "      <td>125000</td>\n",
              "      <td>no</td>\n",
              "      <td>4200</td>\n",
              "    </tr>\n",
              "    <tr>\n",
              "      <th>16237</th>\n",
              "      <td>other</td>\n",
              "      <td>sonstige_autos</td>\n",
              "      <td>unknown</td>\n",
              "      <td>2006</td>\n",
              "      <td>auto</td>\n",
              "      <td>5</td>\n",
              "      <td>electric</td>\n",
              "      <td>40000</td>\n",
              "      <td>no</td>\n",
              "      <td>4500</td>\n",
              "    </tr>\n",
              "    <tr>\n",
              "      <th>25191</th>\n",
              "      <td>other</td>\n",
              "      <td>sonstige_autos</td>\n",
              "      <td>unknown</td>\n",
              "      <td>2010</td>\n",
              "      <td>auto</td>\n",
              "      <td>0</td>\n",
              "      <td>electric</td>\n",
              "      <td>5000</td>\n",
              "      <td>NaN</td>\n",
              "      <td>2000</td>\n",
              "    </tr>\n",
              "  </tbody>\n",
              "</table>\n",
              "</div>\n",
              "      <button class=\"colab-df-convert\" onclick=\"convertToInteractive('df-4dd3259c-4ae1-4447-b5e7-5cbb51d2d177')\"\n",
              "              title=\"Convert this dataframe to an interactive table.\"\n",
              "              style=\"display:none;\">\n",
              "        \n",
              "  <svg xmlns=\"http://www.w3.org/2000/svg\" height=\"24px\"viewBox=\"0 0 24 24\"\n",
              "       width=\"24px\">\n",
              "    <path d=\"M0 0h24v24H0V0z\" fill=\"none\"/>\n",
              "    <path d=\"M18.56 5.44l.94 2.06.94-2.06 2.06-.94-2.06-.94-.94-2.06-.94 2.06-2.06.94zm-11 1L8.5 8.5l.94-2.06 2.06-.94-2.06-.94L8.5 2.5l-.94 2.06-2.06.94zm10 10l.94 2.06.94-2.06 2.06-.94-2.06-.94-.94-2.06-.94 2.06-2.06.94z\"/><path d=\"M17.41 7.96l-1.37-1.37c-.4-.4-.92-.59-1.43-.59-.52 0-1.04.2-1.43.59L10.3 9.45l-7.72 7.72c-.78.78-.78 2.05 0 2.83L4 21.41c.39.39.9.59 1.41.59.51 0 1.02-.2 1.41-.59l7.78-7.78 2.81-2.81c.8-.78.8-2.07 0-2.86zM5.41 20L4 18.59l7.72-7.72 1.47 1.35L5.41 20z\"/>\n",
              "  </svg>\n",
              "      </button>\n",
              "      \n",
              "  <style>\n",
              "    .colab-df-container {\n",
              "      display:flex;\n",
              "      flex-wrap:wrap;\n",
              "      gap: 12px;\n",
              "    }\n",
              "\n",
              "    .colab-df-convert {\n",
              "      background-color: #E8F0FE;\n",
              "      border: none;\n",
              "      border-radius: 50%;\n",
              "      cursor: pointer;\n",
              "      display: none;\n",
              "      fill: #1967D2;\n",
              "      height: 32px;\n",
              "      padding: 0 0 0 0;\n",
              "      width: 32px;\n",
              "    }\n",
              "\n",
              "    .colab-df-convert:hover {\n",
              "      background-color: #E2EBFA;\n",
              "      box-shadow: 0px 1px 2px rgba(60, 64, 67, 0.3), 0px 1px 3px 1px rgba(60, 64, 67, 0.15);\n",
              "      fill: #174EA6;\n",
              "    }\n",
              "\n",
              "    [theme=dark] .colab-df-convert {\n",
              "      background-color: #3B4455;\n",
              "      fill: #D2E3FC;\n",
              "    }\n",
              "\n",
              "    [theme=dark] .colab-df-convert:hover {\n",
              "      background-color: #434B5C;\n",
              "      box-shadow: 0px 1px 3px 1px rgba(0, 0, 0, 0.15);\n",
              "      filter: drop-shadow(0px 1px 2px rgba(0, 0, 0, 0.3));\n",
              "      fill: #FFFFFF;\n",
              "    }\n",
              "  </style>\n",
              "\n",
              "      <script>\n",
              "        const buttonEl =\n",
              "          document.querySelector('#df-4dd3259c-4ae1-4447-b5e7-5cbb51d2d177 button.colab-df-convert');\n",
              "        buttonEl.style.display =\n",
              "          google.colab.kernel.accessAllowed ? 'block' : 'none';\n",
              "\n",
              "        async function convertToInteractive(key) {\n",
              "          const element = document.querySelector('#df-4dd3259c-4ae1-4447-b5e7-5cbb51d2d177');\n",
              "          const dataTable =\n",
              "            await google.colab.kernel.invokeFunction('convertToInteractive',\n",
              "                                                     [key], {});\n",
              "          if (!dataTable) return;\n",
              "\n",
              "          const docLinkHtml = 'Like what you see? Visit the ' +\n",
              "            '<a target=\"_blank\" href=https://colab.research.google.com/notebooks/data_table.ipynb>data table notebook</a>'\n",
              "            + ' to learn more about interactive tables.';\n",
              "          element.innerHTML = '';\n",
              "          dataTable['output_type'] = 'display_data';\n",
              "          await google.colab.output.renderOutput(dataTable, element);\n",
              "          const docLink = document.createElement('div');\n",
              "          docLink.innerHTML = docLinkHtml;\n",
              "          element.appendChild(docLink);\n",
              "        }\n",
              "      </script>\n",
              "    </div>\n",
              "  </div>\n",
              "  "
            ]
          },
          "metadata": {},
          "execution_count": 24
        }
      ],
      "source": [
        "df['Gearbox'] = np.where((df['Gearbox'].isnull()) & (df['FuelType'] == 'electric'), 'auto', 'auto')\n",
        "df[df['FuelType'] == 'electric'].head()"
      ]
    },
    {
      "cell_type": "markdown",
      "metadata": {
        "id": "D4xYmGLHRh2N"
      },
      "source": [
        "I assume that in other cases, the gearbox type is not specified because it is mechanical by default, i.e. `manual`. This can support the replacement of gaps with `manual`."
      ]
    },
    {
      "cell_type": "code",
      "execution_count": 25,
      "metadata": {
        "id": "IBwUJNoNRh2N",
        "outputId": "3ca633a3-389a-4a99-e981-52755372d3dd",
        "colab": {
          "base_uri": "https://localhost:8080/"
        }
      },
      "outputs": [
        {
          "output_type": "stream",
          "name": "stdout",
          "text": [
            "Amount of NaN in `Gearbox`: 0\n"
          ]
        }
      ],
      "source": [
        "df['Gearbox'].fillna('manual', inplace=True)\n",
        "print(f\"Amount of NaN in `Gearbox`: {df['Gearbox'].isna().sum()}\")"
      ]
    },
    {
      "cell_type": "markdown",
      "metadata": {
        "id": "Ydq8XHLuRh2N"
      },
      "source": [
        "**Horsepower**"
      ]
    },
    {
      "cell_type": "code",
      "execution_count": 26,
      "metadata": {
        "scrolled": true,
        "id": "u80FmmTkRh2N",
        "outputId": "119dd1aa-c033-4efa-9d5e-1d2c9cf72b3f",
        "colab": {
          "base_uri": "https://localhost:8080/"
        }
      },
      "outputs": [
        {
          "output_type": "execute_result",
          "data": {
            "text/plain": [
              "array([    0,     1,     2,     3,     4,     5,     6,     7,     8,\n",
              "           9,    10,    11,    12,    13,    14,    15,    16,    17,\n",
              "          18,    19,    20,    21,    22,    23,    24,    25,    26,\n",
              "          27,    28,    29,    30,    31,    32,    33,    34,    35,\n",
              "          36,    37,    38,    39,    40,    41,    42,    43,    44,\n",
              "          45,    46,    47,    48,    49,    50,    51,    52,    53,\n",
              "          54,    55,    56,    57,    58,    59,    60,    61,    62,\n",
              "          63,    64,    65,    66,    67,    68,    69,    70,    71,\n",
              "          72,    73,    74,    75,    76,    77,    78,    79,    80,\n",
              "          81,    82,    83,    84,    85,    86,    87,    88,    89,\n",
              "          90,    91,    92,    93,    94,    95,    96,    97,    98,\n",
              "          99,   100,   101,   102,   103,   104,   105,   106,   107,\n",
              "         108,   109,   110,   111,   112,   113,   114,   115,   116,\n",
              "         117,   118,   119,   120,   121,   122,   123,   124,   125,\n",
              "         126,   127,   128,   129,   130,   131,   132,   133,   134,\n",
              "         135,   136,   137,   138,   139,   140,   141,   142,   143,\n",
              "         144,   145,   146,   147,   148,   149,   150,   151,   152,\n",
              "         153,   154,   155,   156,   157,   158,   159,   160,   161,\n",
              "         162,   163,   164,   165,   166,   167,   168,   169,   170,\n",
              "         171,   172,   173,   174,   175,   176,   177,   178,   179,\n",
              "         180,   181,   182,   183,   184,   185,   186,   187,   188,\n",
              "         189,   190,   191,   192,   193,   194,   195,   196,   197,\n",
              "         198,   199,   200,   201,   202,   203,   204,   205,   206,\n",
              "         207,   208,   209,   210,   211,   212,   213,   214,   215,\n",
              "         216,   217,   218,   219,   220,   221,   222,   223,   224,\n",
              "         225,   226,   227,   228,   229,   230,   231,   232,   233,\n",
              "         234,   235,   236,   237,   238,   239,   240,   241,   242,\n",
              "         243,   244,   245,   246,   247,   248,   249,   250,   251,\n",
              "         252,   253,   254,   255,   256,   257,   258,   259,   260,\n",
              "         261,   262,   264,   265,   266,   267,   268,   269,   270,\n",
              "         271,   272,   273,   274,   275,   276,   277,   278,   279,\n",
              "         280,   281,   282,   283,   284,   285,   286,   287,   288,\n",
              "         289,   290,   292,   293,   294,   295,   296,   297,   298,\n",
              "         299,   300,   301,   303,   304,   305,   306,   308,   309,\n",
              "         310,   311,   313,   314,   315,   316,   318,   320,   321,\n",
              "         322,   323,   324,   325,   326,   328,   329,   330,   331,\n",
              "         333,   334,   335,   336,   338,   339,   340,   341,   343,\n",
              "         344,   345,   346,   347,   348,   349,   350,   353,   354,\n",
              "         357,   358,   360,   362,   363,   364,   365,   367,   370,\n",
              "         374,   376,   379,   380,   381,   382,   385,   386,   387,\n",
              "         388,   390,   392,   394,   396,   398,   399,   400,   401,\n",
              "         405,   408,   411,   420,   430,   431,   435,   445,   449,\n",
              "         450,   454,   459,   475,   476,   500,   507,   515,   540,\n",
              "         541,   544,   550,   551,   580,   584,   585,   601,   602,\n",
              "         603,   604,   606,   610,   612,   620,   645,   650,   651,\n",
              "         671,   682,   685,   696,   700,   702,   703,   732,   743,\n",
              "         750,   754,   771,   776,   800,   805,   850,   851,   900,\n",
              "         902,   903,   907,   909,   923,   950,   952,   953,   998,\n",
              "         999,  1000,  1001,  1002,  1003,  1004,  1005,  1011,  1012,\n",
              "        1016,  1017,  1021,  1024,  1054,  1055,  1056,  1062,  1079,\n",
              "        1082,  1090,  1100,  1103,  1105,  1115,  1120,  1149,  1151,\n",
              "        1158,  1160,  1162,  1164,  1199,  1200,  1202,  1221,  1223,\n",
              "        1230,  1239,  1240,  1241,  1250,  1256,  1275,  1299,  1300,\n",
              "        1312,  1317,  1324,  1339,  1360,  1362,  1363,  1367,  1390,\n",
              "        1398,  1399,  1400,  1401,  1403,  1405,  1416,  1432,  1433,\n",
              "        1436,  1500,  1501,  1502,  1503,  1506,  1521,  1548,  1595,\n",
              "        1596,  1597,  1598,  1600,  1625,  1631,  1653,  1659,  1689,\n",
              "        1703,  1704,  1707,  1753,  1771,  1779,  1780,  1781,  1783,\n",
              "        1793,  1796,  1799,  1800,  1801,  1870,  1895,  1896,  1900,\n",
              "        1920,  1922,  1933,  1937,  1968,  1988,  1992,  1993,  1995,\n",
              "        1998,  1999,  2000,  2004,  2005,  2007,  2009,  2016,  2017,\n",
              "        2018,  2172,  2331,  2340,  2389,  2402,  2461,  2598,  2729,\n",
              "        2789,  2792,  2799,  3199,  3454,  3500,  4400,  4507,  4700,\n",
              "        5411,  5420,  5575,  5809,  5867,  6006,  6010,  6011,  6012,\n",
              "        6018,  6045,  6062,  6226,  6512,  6920,  7508,  7511,  7512,\n",
              "        7515,  7518,  7529,  7544,  8259,  8404,  8500,  9007,  9012,\n",
              "       10000, 10110, 10311, 10520, 10522, 10710, 10910, 10912, 11011,\n",
              "       11025, 11509, 11530, 11635, 12012, 12510, 12512, 12684, 13616,\n",
              "       14009, 15001, 15017, 15020, 15033, 16051, 17011, 17019, 17410,\n",
              "       17700, 17932, 19208, 19211, 19312, 20000])"
            ]
          },
          "metadata": {},
          "execution_count": 26
        }
      ],
      "source": [
        "np.sort(df['Power'].unique())"
      ]
    },
    {
      "cell_type": "markdown",
      "metadata": {
        "id": "5pLbmIx3Rh2N"
      },
      "source": [
        "A randomly chosen number (650) from the above array showed the manufacturer \"sonstige_autos\". Unfortunately, Google does not provide anything specific: these can be trailers, spare parts, or even a manufacturer of car models on a scale. It is not possible to restore power and other indicators."
      ]
    },
    {
      "cell_type": "code",
      "execution_count": 27,
      "metadata": {
        "scrolled": true,
        "id": "v4IVcCPLRh2O",
        "outputId": "992c451a-7ac2-4f04-d757-63c96baf1cc3",
        "colab": {
          "base_uri": "https://localhost:8080/",
          "height": 176
        }
      },
      "outputs": [
        {
          "output_type": "execute_result",
          "data": {
            "text/plain": [
              "       VehicleType           Brand    Model  RegistrationYear Gearbox  Power  \\\n",
              "212083       other  sonstige_autos  unknown              1999    auto    650   \n",
              "353633       sedan         citroen       c2              2007    auto    650   \n",
              "\n",
              "       FuelType  Kilometer NotRepaired  Price  \n",
              "212083   petrol     150000          no   4900  \n",
              "353633   petrol     150000         NaN   2400  "
            ],
            "text/html": [
              "\n",
              "  <div id=\"df-a846a9c2-b4af-4711-be5d-673d5c56fdcd\">\n",
              "    <div class=\"colab-df-container\">\n",
              "      <div>\n",
              "<style scoped>\n",
              "    .dataframe tbody tr th:only-of-type {\n",
              "        vertical-align: middle;\n",
              "    }\n",
              "\n",
              "    .dataframe tbody tr th {\n",
              "        vertical-align: top;\n",
              "    }\n",
              "\n",
              "    .dataframe thead th {\n",
              "        text-align: right;\n",
              "    }\n",
              "</style>\n",
              "<table border=\"1\" class=\"dataframe\">\n",
              "  <thead>\n",
              "    <tr style=\"text-align: right;\">\n",
              "      <th></th>\n",
              "      <th>VehicleType</th>\n",
              "      <th>Brand</th>\n",
              "      <th>Model</th>\n",
              "      <th>RegistrationYear</th>\n",
              "      <th>Gearbox</th>\n",
              "      <th>Power</th>\n",
              "      <th>FuelType</th>\n",
              "      <th>Kilometer</th>\n",
              "      <th>NotRepaired</th>\n",
              "      <th>Price</th>\n",
              "    </tr>\n",
              "  </thead>\n",
              "  <tbody>\n",
              "    <tr>\n",
              "      <th>212083</th>\n",
              "      <td>other</td>\n",
              "      <td>sonstige_autos</td>\n",
              "      <td>unknown</td>\n",
              "      <td>1999</td>\n",
              "      <td>auto</td>\n",
              "      <td>650</td>\n",
              "      <td>petrol</td>\n",
              "      <td>150000</td>\n",
              "      <td>no</td>\n",
              "      <td>4900</td>\n",
              "    </tr>\n",
              "    <tr>\n",
              "      <th>353633</th>\n",
              "      <td>sedan</td>\n",
              "      <td>citroen</td>\n",
              "      <td>c2</td>\n",
              "      <td>2007</td>\n",
              "      <td>auto</td>\n",
              "      <td>650</td>\n",
              "      <td>petrol</td>\n",
              "      <td>150000</td>\n",
              "      <td>NaN</td>\n",
              "      <td>2400</td>\n",
              "    </tr>\n",
              "  </tbody>\n",
              "</table>\n",
              "</div>\n",
              "      <button class=\"colab-df-convert\" onclick=\"convertToInteractive('df-a846a9c2-b4af-4711-be5d-673d5c56fdcd')\"\n",
              "              title=\"Convert this dataframe to an interactive table.\"\n",
              "              style=\"display:none;\">\n",
              "        \n",
              "  <svg xmlns=\"http://www.w3.org/2000/svg\" height=\"24px\"viewBox=\"0 0 24 24\"\n",
              "       width=\"24px\">\n",
              "    <path d=\"M0 0h24v24H0V0z\" fill=\"none\"/>\n",
              "    <path d=\"M18.56 5.44l.94 2.06.94-2.06 2.06-.94-2.06-.94-.94-2.06-.94 2.06-2.06.94zm-11 1L8.5 8.5l.94-2.06 2.06-.94-2.06-.94L8.5 2.5l-.94 2.06-2.06.94zm10 10l.94 2.06.94-2.06 2.06-.94-2.06-.94-.94-2.06-.94 2.06-2.06.94z\"/><path d=\"M17.41 7.96l-1.37-1.37c-.4-.4-.92-.59-1.43-.59-.52 0-1.04.2-1.43.59L10.3 9.45l-7.72 7.72c-.78.78-.78 2.05 0 2.83L4 21.41c.39.39.9.59 1.41.59.51 0 1.02-.2 1.41-.59l7.78-7.78 2.81-2.81c.8-.78.8-2.07 0-2.86zM5.41 20L4 18.59l7.72-7.72 1.47 1.35L5.41 20z\"/>\n",
              "  </svg>\n",
              "      </button>\n",
              "      \n",
              "  <style>\n",
              "    .colab-df-container {\n",
              "      display:flex;\n",
              "      flex-wrap:wrap;\n",
              "      gap: 12px;\n",
              "    }\n",
              "\n",
              "    .colab-df-convert {\n",
              "      background-color: #E8F0FE;\n",
              "      border: none;\n",
              "      border-radius: 50%;\n",
              "      cursor: pointer;\n",
              "      display: none;\n",
              "      fill: #1967D2;\n",
              "      height: 32px;\n",
              "      padding: 0 0 0 0;\n",
              "      width: 32px;\n",
              "    }\n",
              "\n",
              "    .colab-df-convert:hover {\n",
              "      background-color: #E2EBFA;\n",
              "      box-shadow: 0px 1px 2px rgba(60, 64, 67, 0.3), 0px 1px 3px 1px rgba(60, 64, 67, 0.15);\n",
              "      fill: #174EA6;\n",
              "    }\n",
              "\n",
              "    [theme=dark] .colab-df-convert {\n",
              "      background-color: #3B4455;\n",
              "      fill: #D2E3FC;\n",
              "    }\n",
              "\n",
              "    [theme=dark] .colab-df-convert:hover {\n",
              "      background-color: #434B5C;\n",
              "      box-shadow: 0px 1px 3px 1px rgba(0, 0, 0, 0.15);\n",
              "      filter: drop-shadow(0px 1px 2px rgba(0, 0, 0, 0.3));\n",
              "      fill: #FFFFFF;\n",
              "    }\n",
              "  </style>\n",
              "\n",
              "      <script>\n",
              "        const buttonEl =\n",
              "          document.querySelector('#df-a846a9c2-b4af-4711-be5d-673d5c56fdcd button.colab-df-convert');\n",
              "        buttonEl.style.display =\n",
              "          google.colab.kernel.accessAllowed ? 'block' : 'none';\n",
              "\n",
              "        async function convertToInteractive(key) {\n",
              "          const element = document.querySelector('#df-a846a9c2-b4af-4711-be5d-673d5c56fdcd');\n",
              "          const dataTable =\n",
              "            await google.colab.kernel.invokeFunction('convertToInteractive',\n",
              "                                                     [key], {});\n",
              "          if (!dataTable) return;\n",
              "\n",
              "          const docLinkHtml = 'Like what you see? Visit the ' +\n",
              "            '<a target=\"_blank\" href=https://colab.research.google.com/notebooks/data_table.ipynb>data table notebook</a>'\n",
              "            + ' to learn more about interactive tables.';\n",
              "          element.innerHTML = '';\n",
              "          dataTable['output_type'] = 'display_data';\n",
              "          await google.colab.output.renderOutput(dataTable, element);\n",
              "          const docLink = document.createElement('div');\n",
              "          docLink.innerHTML = docLinkHtml;\n",
              "          element.appendChild(docLink);\n",
              "        }\n",
              "      </script>\n",
              "    </div>\n",
              "  </div>\n",
              "  "
            ]
          },
          "metadata": {},
          "execution_count": 27
        }
      ],
      "source": [
        "df[df['Power'] == 650]"
      ]
    },
    {
      "cell_type": "code",
      "execution_count": 28,
      "metadata": {
        "id": "cOTr-3QNRh2O",
        "outputId": "a7d0daa4-1f8a-4e39-df68-33adc9bc5c0a",
        "colab": {
          "base_uri": "https://localhost:8080/",
          "height": 270
        }
      },
      "outputs": [
        {
          "output_type": "execute_result",
          "data": {
            "text/plain": [
              "    VehicleType           Brand    Model  RegistrationYear Gearbox  Power  \\\n",
              "306     unknown  sonstige_autos  unknown              2009    auto      0   \n",
              "431       small  sonstige_autos  unknown              2004    auto      5   \n",
              "661         suv  sonstige_autos  unknown              2000    auto    250   \n",
              "700       sedan  sonstige_autos  unknown              2010    auto    186   \n",
              "985       sedan  sonstige_autos  unknown              2010    auto    101   \n",
              "\n",
              "     FuelType  Kilometer NotRepaired  Price  \n",
              "306       NaN      10000         NaN    200  \n",
              "431  gasoline      70000          no   3950  \n",
              "661       lpg     150000          no   9900  \n",
              "700    petrol     125000          no   6999  \n",
              "985    petrol      70000         yes    500  "
            ],
            "text/html": [
              "\n",
              "  <div id=\"df-0502b707-940b-4f10-9e74-594faba8b0b1\">\n",
              "    <div class=\"colab-df-container\">\n",
              "      <div>\n",
              "<style scoped>\n",
              "    .dataframe tbody tr th:only-of-type {\n",
              "        vertical-align: middle;\n",
              "    }\n",
              "\n",
              "    .dataframe tbody tr th {\n",
              "        vertical-align: top;\n",
              "    }\n",
              "\n",
              "    .dataframe thead th {\n",
              "        text-align: right;\n",
              "    }\n",
              "</style>\n",
              "<table border=\"1\" class=\"dataframe\">\n",
              "  <thead>\n",
              "    <tr style=\"text-align: right;\">\n",
              "      <th></th>\n",
              "      <th>VehicleType</th>\n",
              "      <th>Brand</th>\n",
              "      <th>Model</th>\n",
              "      <th>RegistrationYear</th>\n",
              "      <th>Gearbox</th>\n",
              "      <th>Power</th>\n",
              "      <th>FuelType</th>\n",
              "      <th>Kilometer</th>\n",
              "      <th>NotRepaired</th>\n",
              "      <th>Price</th>\n",
              "    </tr>\n",
              "  </thead>\n",
              "  <tbody>\n",
              "    <tr>\n",
              "      <th>306</th>\n",
              "      <td>unknown</td>\n",
              "      <td>sonstige_autos</td>\n",
              "      <td>unknown</td>\n",
              "      <td>2009</td>\n",
              "      <td>auto</td>\n",
              "      <td>0</td>\n",
              "      <td>NaN</td>\n",
              "      <td>10000</td>\n",
              "      <td>NaN</td>\n",
              "      <td>200</td>\n",
              "    </tr>\n",
              "    <tr>\n",
              "      <th>431</th>\n",
              "      <td>small</td>\n",
              "      <td>sonstige_autos</td>\n",
              "      <td>unknown</td>\n",
              "      <td>2004</td>\n",
              "      <td>auto</td>\n",
              "      <td>5</td>\n",
              "      <td>gasoline</td>\n",
              "      <td>70000</td>\n",
              "      <td>no</td>\n",
              "      <td>3950</td>\n",
              "    </tr>\n",
              "    <tr>\n",
              "      <th>661</th>\n",
              "      <td>suv</td>\n",
              "      <td>sonstige_autos</td>\n",
              "      <td>unknown</td>\n",
              "      <td>2000</td>\n",
              "      <td>auto</td>\n",
              "      <td>250</td>\n",
              "      <td>lpg</td>\n",
              "      <td>150000</td>\n",
              "      <td>no</td>\n",
              "      <td>9900</td>\n",
              "    </tr>\n",
              "    <tr>\n",
              "      <th>700</th>\n",
              "      <td>sedan</td>\n",
              "      <td>sonstige_autos</td>\n",
              "      <td>unknown</td>\n",
              "      <td>2010</td>\n",
              "      <td>auto</td>\n",
              "      <td>186</td>\n",
              "      <td>petrol</td>\n",
              "      <td>125000</td>\n",
              "      <td>no</td>\n",
              "      <td>6999</td>\n",
              "    </tr>\n",
              "    <tr>\n",
              "      <th>985</th>\n",
              "      <td>sedan</td>\n",
              "      <td>sonstige_autos</td>\n",
              "      <td>unknown</td>\n",
              "      <td>2010</td>\n",
              "      <td>auto</td>\n",
              "      <td>101</td>\n",
              "      <td>petrol</td>\n",
              "      <td>70000</td>\n",
              "      <td>yes</td>\n",
              "      <td>500</td>\n",
              "    </tr>\n",
              "  </tbody>\n",
              "</table>\n",
              "</div>\n",
              "      <button class=\"colab-df-convert\" onclick=\"convertToInteractive('df-0502b707-940b-4f10-9e74-594faba8b0b1')\"\n",
              "              title=\"Convert this dataframe to an interactive table.\"\n",
              "              style=\"display:none;\">\n",
              "        \n",
              "  <svg xmlns=\"http://www.w3.org/2000/svg\" height=\"24px\"viewBox=\"0 0 24 24\"\n",
              "       width=\"24px\">\n",
              "    <path d=\"M0 0h24v24H0V0z\" fill=\"none\"/>\n",
              "    <path d=\"M18.56 5.44l.94 2.06.94-2.06 2.06-.94-2.06-.94-.94-2.06-.94 2.06-2.06.94zm-11 1L8.5 8.5l.94-2.06 2.06-.94-2.06-.94L8.5 2.5l-.94 2.06-2.06.94zm10 10l.94 2.06.94-2.06 2.06-.94-2.06-.94-.94-2.06-.94 2.06-2.06.94z\"/><path d=\"M17.41 7.96l-1.37-1.37c-.4-.4-.92-.59-1.43-.59-.52 0-1.04.2-1.43.59L10.3 9.45l-7.72 7.72c-.78.78-.78 2.05 0 2.83L4 21.41c.39.39.9.59 1.41.59.51 0 1.02-.2 1.41-.59l7.78-7.78 2.81-2.81c.8-.78.8-2.07 0-2.86zM5.41 20L4 18.59l7.72-7.72 1.47 1.35L5.41 20z\"/>\n",
              "  </svg>\n",
              "      </button>\n",
              "      \n",
              "  <style>\n",
              "    .colab-df-container {\n",
              "      display:flex;\n",
              "      flex-wrap:wrap;\n",
              "      gap: 12px;\n",
              "    }\n",
              "\n",
              "    .colab-df-convert {\n",
              "      background-color: #E8F0FE;\n",
              "      border: none;\n",
              "      border-radius: 50%;\n",
              "      cursor: pointer;\n",
              "      display: none;\n",
              "      fill: #1967D2;\n",
              "      height: 32px;\n",
              "      padding: 0 0 0 0;\n",
              "      width: 32px;\n",
              "    }\n",
              "\n",
              "    .colab-df-convert:hover {\n",
              "      background-color: #E2EBFA;\n",
              "      box-shadow: 0px 1px 2px rgba(60, 64, 67, 0.3), 0px 1px 3px 1px rgba(60, 64, 67, 0.15);\n",
              "      fill: #174EA6;\n",
              "    }\n",
              "\n",
              "    [theme=dark] .colab-df-convert {\n",
              "      background-color: #3B4455;\n",
              "      fill: #D2E3FC;\n",
              "    }\n",
              "\n",
              "    [theme=dark] .colab-df-convert:hover {\n",
              "      background-color: #434B5C;\n",
              "      box-shadow: 0px 1px 3px 1px rgba(0, 0, 0, 0.15);\n",
              "      filter: drop-shadow(0px 1px 2px rgba(0, 0, 0, 0.3));\n",
              "      fill: #FFFFFF;\n",
              "    }\n",
              "  </style>\n",
              "\n",
              "      <script>\n",
              "        const buttonEl =\n",
              "          document.querySelector('#df-0502b707-940b-4f10-9e74-594faba8b0b1 button.colab-df-convert');\n",
              "        buttonEl.style.display =\n",
              "          google.colab.kernel.accessAllowed ? 'block' : 'none';\n",
              "\n",
              "        async function convertToInteractive(key) {\n",
              "          const element = document.querySelector('#df-0502b707-940b-4f10-9e74-594faba8b0b1');\n",
              "          const dataTable =\n",
              "            await google.colab.kernel.invokeFunction('convertToInteractive',\n",
              "                                                     [key], {});\n",
              "          if (!dataTable) return;\n",
              "\n",
              "          const docLinkHtml = 'Like what you see? Visit the ' +\n",
              "            '<a target=\"_blank\" href=https://colab.research.google.com/notebooks/data_table.ipynb>data table notebook</a>'\n",
              "            + ' to learn more about interactive tables.';\n",
              "          element.innerHTML = '';\n",
              "          dataTable['output_type'] = 'display_data';\n",
              "          await google.colab.output.renderOutput(dataTable, element);\n",
              "          const docLink = document.createElement('div');\n",
              "          docLink.innerHTML = docLinkHtml;\n",
              "          element.appendChild(docLink);\n",
              "        }\n",
              "      </script>\n",
              "    </div>\n",
              "  </div>\n",
              "  "
            ]
          },
          "metadata": {},
          "execution_count": 28
        }
      ],
      "source": [
        "df[df['Brand'] == 'sonstige_autos'].head(5)"
      ]
    },
    {
      "cell_type": "markdown",
      "metadata": {
        "id": "zb7Vizp3Rh2O"
      },
      "source": [
        "Let's look at the distribution and remove inflated and extremely low values in the data based on the diagram."
      ]
    },
    {
      "cell_type": "code",
      "execution_count": 29,
      "metadata": {
        "id": "31too8PjRh2O",
        "outputId": "e3fcb348-2e1f-4cee-be44-54b42eecd6c1",
        "colab": {
          "base_uri": "https://localhost:8080/",
          "height": 563
        }
      },
      "outputs": [
        {
          "output_type": "display_data",
          "data": {
            "text/plain": [
              "<Figure size 800x400 with 1 Axes>"
            ],
            "image/png": "[encoded data removed]"
          },
          "metadata": {}
        },
        {
          "output_type": "execute_result",
          "data": {
            "text/plain": [
              "count    289533.000000\n",
              "mean        102.868592\n",
              "std          58.004761\n",
              "min           0.000000\n",
              "25%          69.000000\n",
              "50%         102.000000\n",
              "75%         140.000000\n",
              "max         999.000000\n",
              "Name: Power, dtype: float64"
            ]
          },
          "metadata": {},
          "execution_count": 29
        }
      ],
      "source": [
        "df_power = df['Power']\n",
        "df_power[df_power < 1000].hist(bins=100, figsize=(8, 4))\n",
        "plt.tight_layout()\n",
        "plt.show()\n",
        "\n",
        "df_power[df_power < 1000].describe()"
      ]
    },
    {
      "cell_type": "code",
      "execution_count": 30,
      "metadata": {
        "id": "reTtcodXRh2P",
        "outputId": "c36a5457-478d-4265-f4da-d3ceaaf08a0e",
        "colab": {
          "base_uri": "https://localhost:8080/"
        }
      },
      "outputs": [
        {
          "output_type": "stream",
          "name": "stdout",
          "text": [
            "Removed 26.66% of the data.\n"
          ]
        }
      ],
      "source": [
        "df = df.query('Power > 15 & Power <= 400')\n",
        "\n",
        "print(f\"Removed {round((data.shape[0] - df.shape[0]) / data.shape[0] * 100, 2)}% of the data.\")"
      ]
    },
    {
      "cell_type": "markdown",
      "metadata": {
        "id": "_no5m-4PRh2P"
      },
      "source": [
        "**Fuel type.**"
      ]
    },
    {
      "cell_type": "code",
      "execution_count": 31,
      "metadata": {
        "id": "VlC4hEnrRh2Q",
        "outputId": "44fb6957-96f8-4267-9e88-9c6f01fccc68",
        "colab": {
          "base_uri": "https://localhost:8080/"
        }
      },
      "outputs": [
        {
          "output_type": "execute_result",
          "data": {
            "text/plain": [
              "petrol      169892\n",
              "gasoline     70721\n",
              "lpg           4430\n",
              "cng            464\n",
              "hybrid         112\n",
              "other           79\n",
              "electric        27\n",
              "Name: FuelType, dtype: int64"
            ]
          },
          "metadata": {},
          "execution_count": 31
        }
      ],
      "source": [
        "df['FuelType'].value_counts().sort_values(ascending=False)"
      ]
    },
    {
      "cell_type": "markdown",
      "metadata": {
        "id": "Ush8KBueRh2Q"
      },
      "source": [
        "Here, as in the body type, there can be both diesel/gasoline engines and hybrid, electric, or even gas (lpg, cng)."
      ]
    },
    {
      "cell_type": "code",
      "execution_count": 32,
      "metadata": {
        "id": "ll79r9ESRh2Q",
        "outputId": "237f4a30-88d9-423a-a887-9f88f577957c",
        "colab": {
          "base_uri": "https://localhost:8080/"
        }
      },
      "outputs": [
        {
          "output_type": "stream",
          "name": "stdout",
          "text": [
            "Amount of NaN in `FuelType`: 0\n"
          ]
        }
      ],
      "source": [
        "df['FuelType'].fillna('unknown', inplace=True)\n",
        "print(f\"Amount of NaN in `FuelType`: {df['FuelType'].isna().sum()}\")"
      ]
    },
    {
      "cell_type": "markdown",
      "metadata": {
        "id": "vmJ0iw0FRh2Q"
      },
      "source": [
        "**Mileage (km).**"
      ]
    },
    {
      "cell_type": "code",
      "execution_count": 33,
      "metadata": {
        "id": "-u7ovArNRh2Q",
        "outputId": "8390f3c7-eaad-4ad0-b258-807a650152fb",
        "colab": {
          "base_uri": "https://localhost:8080/"
        }
      },
      "outputs": [
        {
          "output_type": "execute_result",
          "data": {
            "text/plain": [
              "array([  5000,  10000,  20000,  30000,  40000,  50000,  60000,  70000,\n",
              "        80000,  90000, 100000, 125000, 150000])"
            ]
          },
          "metadata": {},
          "execution_count": 33
        }
      ],
      "source": [
        "np.sort(df['Kilometer'].unique())"
      ]
    },
    {
      "cell_type": "markdown",
      "metadata": {
        "id": "sZUHYM7WRh2Q"
      },
      "source": [
        "**Record of car repair.**\n",
        "\n",
        "Let's take a closer look at NaN values in this feature."
      ]
    },
    {
      "cell_type": "code",
      "execution_count": 34,
      "metadata": {
        "id": "SXJ5G7W9Rh2R",
        "outputId": "3adeed1f-5713-4e14-8757-c39805cc8f5e",
        "colab": {
          "base_uri": "https://localhost:8080/",
          "height": 267
        }
      },
      "outputs": [
        {
          "output_type": "stream",
          "name": "stdout",
          "text": [
            "Amount of NaN in `NotRepaired`: 39514\n"
          ]
        },
        {
          "output_type": "execute_result",
          "data": {
            "text/plain": [
              "   VehicleType       Brand   Model  RegistrationYear Gearbox  Power  FuelType  \\\n",
              "2          suv        jeep   grand              2004    auto    163  gasoline   \n",
              "9        small  volkswagen    golf              1998    auto    101   unknown   \n",
              "12       wagon  volkswagen  passat              1995    auto    115    petrol   \n",
              "16     unknown  volkswagen    polo              2016    auto     60    petrol   \n",
              "31     unknown     renault    clio              2016    auto     60    petrol   \n",
              "\n",
              "    Kilometer NotRepaired  Price  \n",
              "2      125000         NaN   9800  \n",
              "9      150000         NaN    999  \n",
              "12     150000         NaN    999  \n",
              "16     150000         NaN    300  \n",
              "31     150000         NaN    899  "
            ],
            "text/html": [
              "\n",
              "  <div id=\"df-36e955a7-3ee3-469a-8995-a46c8ef6db0a\">\n",
              "    <div class=\"colab-df-container\">\n",
              "      <div>\n",
              "<style scoped>\n",
              "    .dataframe tbody tr th:only-of-type {\n",
              "        vertical-align: middle;\n",
              "    }\n",
              "\n",
              "    .dataframe tbody tr th {\n",
              "        vertical-align: top;\n",
              "    }\n",
              "\n",
              "    .dataframe thead th {\n",
              "        text-align: right;\n",
              "    }\n",
              "</style>\n",
              "<table border=\"1\" class=\"dataframe\">\n",
              "  <thead>\n",
              "    <tr style=\"text-align: right;\">\n",
              "      <th></th>\n",
              "      <th>VehicleType</th>\n",
              "      <th>Brand</th>\n",
              "      <th>Model</th>\n",
              "      <th>RegistrationYear</th>\n",
              "      <th>Gearbox</th>\n",
              "      <th>Power</th>\n",
              "      <th>FuelType</th>\n",
              "      <th>Kilometer</th>\n",
              "      <th>NotRepaired</th>\n",
              "      <th>Price</th>\n",
              "    </tr>\n",
              "  </thead>\n",
              "  <tbody>\n",
              "    <tr>\n",
              "      <th>2</th>\n",
              "      <td>suv</td>\n",
              "      <td>jeep</td>\n",
              "      <td>grand</td>\n",
              "      <td>2004</td>\n",
              "      <td>auto</td>\n",
              "      <td>163</td>\n",
              "      <td>gasoline</td>\n",
              "      <td>125000</td>\n",
              "      <td>NaN</td>\n",
              "      <td>9800</td>\n",
              "    </tr>\n",
              "    <tr>\n",
              "      <th>9</th>\n",
              "      <td>small</td>\n",
              "      <td>volkswagen</td>\n",
              "      <td>golf</td>\n",
              "      <td>1998</td>\n",
              "      <td>auto</td>\n",
              "      <td>101</td>\n",
              "      <td>unknown</td>\n",
              "      <td>150000</td>\n",
              "      <td>NaN</td>\n",
              "      <td>999</td>\n",
              "    </tr>\n",
              "    <tr>\n",
              "      <th>12</th>\n",
              "      <td>wagon</td>\n",
              "      <td>volkswagen</td>\n",
              "      <td>passat</td>\n",
              "      <td>1995</td>\n",
              "      <td>auto</td>\n",
              "      <td>115</td>\n",
              "      <td>petrol</td>\n",
              "      <td>150000</td>\n",
              "      <td>NaN</td>\n",
              "      <td>999</td>\n",
              "    </tr>\n",
              "    <tr>\n",
              "      <th>16</th>\n",
              "      <td>unknown</td>\n",
              "      <td>volkswagen</td>\n",
              "      <td>polo</td>\n",
              "      <td>2016</td>\n",
              "      <td>auto</td>\n",
              "      <td>60</td>\n",
              "      <td>petrol</td>\n",
              "      <td>150000</td>\n",
              "      <td>NaN</td>\n",
              "      <td>300</td>\n",
              "    </tr>\n",
              "    <tr>\n",
              "      <th>31</th>\n",
              "      <td>unknown</td>\n",
              "      <td>renault</td>\n",
              "      <td>clio</td>\n",
              "      <td>2016</td>\n",
              "      <td>auto</td>\n",
              "      <td>60</td>\n",
              "      <td>petrol</td>\n",
              "      <td>150000</td>\n",
              "      <td>NaN</td>\n",
              "      <td>899</td>\n",
              "    </tr>\n",
              "  </tbody>\n",
              "</table>\n",
              "</div>\n",
              "      <button class=\"colab-df-convert\" onclick=\"convertToInteractive('df-36e955a7-3ee3-469a-8995-a46c8ef6db0a')\"\n",
              "              title=\"Convert this dataframe to an interactive table.\"\n",
              "              style=\"display:none;\">\n",
              "        \n",
              "  <svg xmlns=\"http://www.w3.org/2000/svg\" height=\"24px\"viewBox=\"0 0 24 24\"\n",
              "       width=\"24px\">\n",
              "    <path d=\"M0 0h24v24H0V0z\" fill=\"none\"/>\n",
              "    <path d=\"M18.56 5.44l.94 2.06.94-2.06 2.06-.94-2.06-.94-.94-2.06-.94 2.06-2.06.94zm-11 1L8.5 8.5l.94-2.06 2.06-.94-2.06-.94L8.5 2.5l-.94 2.06-2.06.94zm10 10l.94 2.06.94-2.06 2.06-.94-2.06-.94-.94-2.06-.94 2.06-2.06.94z\"/><path d=\"M17.41 7.96l-1.37-1.37c-.4-.4-.92-.59-1.43-.59-.52 0-1.04.2-1.43.59L10.3 9.45l-7.72 7.72c-.78.78-.78 2.05 0 2.83L4 21.41c.39.39.9.59 1.41.59.51 0 1.02-.2 1.41-.59l7.78-7.78 2.81-2.81c.8-.78.8-2.07 0-2.86zM5.41 20L4 18.59l7.72-7.72 1.47 1.35L5.41 20z\"/>\n",
              "  </svg>\n",
              "      </button>\n",
              "      \n",
              "  <style>\n",
              "    .colab-df-container {\n",
              "      display:flex;\n",
              "      flex-wrap:wrap;\n",
              "      gap: 12px;\n",
              "    }\n",
              "\n",
              "    .colab-df-convert {\n",
              "      background-color: #E8F0FE;\n",
              "      border: none;\n",
              "      border-radius: 50%;\n",
              "      cursor: pointer;\n",
              "      display: none;\n",
              "      fill: #1967D2;\n",
              "      height: 32px;\n",
              "      padding: 0 0 0 0;\n",
              "      width: 32px;\n",
              "    }\n",
              "\n",
              "    .colab-df-convert:hover {\n",
              "      background-color: #E2EBFA;\n",
              "      box-shadow: 0px 1px 2px rgba(60, 64, 67, 0.3), 0px 1px 3px 1px rgba(60, 64, 67, 0.15);\n",
              "      fill: #174EA6;\n",
              "    }\n",
              "\n",
              "    [theme=dark] .colab-df-convert {\n",
              "      background-color: #3B4455;\n",
              "      fill: #D2E3FC;\n",
              "    }\n",
              "\n",
              "    [theme=dark] .colab-df-convert:hover {\n",
              "      background-color: #434B5C;\n",
              "      box-shadow: 0px 1px 3px 1px rgba(0, 0, 0, 0.15);\n",
              "      filter: drop-shadow(0px 1px 2px rgba(0, 0, 0, 0.3));\n",
              "      fill: #FFFFFF;\n",
              "    }\n",
              "  </style>\n",
              "\n",
              "      <script>\n",
              "        const buttonEl =\n",
              "          document.querySelector('#df-36e955a7-3ee3-469a-8995-a46c8ef6db0a button.colab-df-convert');\n",
              "        buttonEl.style.display =\n",
              "          google.colab.kernel.accessAllowed ? 'block' : 'none';\n",
              "\n",
              "        async function convertToInteractive(key) {\n",
              "          const element = document.querySelector('#df-36e955a7-3ee3-469a-8995-a46c8ef6db0a');\n",
              "          const dataTable =\n",
              "            await google.colab.kernel.invokeFunction('convertToInteractive',\n",
              "                                                     [key], {});\n",
              "          if (!dataTable) return;\n",
              "\n",
              "          const docLinkHtml = 'Like what you see? Visit the ' +\n",
              "            '<a target=\"_blank\" href=https://colab.research.google.com/notebooks/data_table.ipynb>data table notebook</a>'\n",
              "            + ' to learn more about interactive tables.';\n",
              "          element.innerHTML = '';\n",
              "          dataTable['output_type'] = 'display_data';\n",
              "          await google.colab.output.renderOutput(dataTable, element);\n",
              "          const docLink = document.createElement('div');\n",
              "          docLink.innerHTML = docLinkHtml;\n",
              "          element.appendChild(docLink);\n",
              "        }\n",
              "      </script>\n",
              "    </div>\n",
              "  </div>\n",
              "  "
            ]
          },
          "metadata": {},
          "execution_count": 34
        }
      ],
      "source": [
        "print(f\"Amount of NaN in `NotRepaired`: {df['NotRepaired'].isna().sum()}\")\n",
        "df[df['NotRepaired'].isna()].head()"
      ]
    },
    {
      "cell_type": "markdown",
      "metadata": {
        "id": "ah2snUhPRh2R"
      },
      "source": [
        "Replace NaN's. **Justification:** if it is not indicated that the car was repaired, then there can be no other option. The exception may be intentional concealment of information."
      ]
    },
    {
      "cell_type": "code",
      "execution_count": 35,
      "metadata": {
        "id": "PgRjsAeMRh2R",
        "outputId": "60ad9cca-2ae5-479a-fe2c-82e903e218b3",
        "colab": {
          "base_uri": "https://localhost:8080/"
        }
      },
      "outputs": [
        {
          "output_type": "stream",
          "name": "stdout",
          "text": [
            "Amount of NaN in `NotRepaired`: 0\n"
          ]
        },
        {
          "output_type": "execute_result",
          "data": {
            "text/plain": [
              "no     193575\n",
              "yes     66335\n",
              "Name: NotRepaired, dtype: int64"
            ]
          },
          "metadata": {},
          "execution_count": 35
        }
      ],
      "source": [
        "df['NotRepaired'].fillna('yes', inplace=True)\n",
        "print(f\"Amount of NaN in `NotRepaired`: {df['NotRepaired'].isna().sum()}\")\n",
        "df['NotRepaired'].value_counts()"
      ]
    },
    {
      "cell_type": "markdown",
      "metadata": {
        "id": "9y8r2zQZRh2R"
      },
      "source": [
        "After data preprocessing, we have:"
      ]
    },
    {
      "cell_type": "code",
      "execution_count": 36,
      "metadata": {
        "id": "w_ZqHZBSRh2R",
        "outputId": "f7224383-3491-4369-86e7-13a6e09f0fb1",
        "colab": {
          "base_uri": "https://localhost:8080/",
          "height": 545
        }
      },
      "outputs": [
        {
          "output_type": "stream",
          "name": "stdout",
          "text": [
            "--------------------------\n",
            "Removed 26.66% of the data.\n",
            "--------------------------\n",
            "Missing values: \n",
            "\n",
            "VehicleType         0.0\n",
            "Brand               0.0\n",
            "Model               0.0\n",
            "RegistrationYear    0.0\n",
            "Gearbox             0.0\n",
            "Power               0.0\n",
            "FuelType            0.0\n",
            "Kilometer           0.0\n",
            "NotRepaired         0.0\n",
            "Price               0.0\n",
            "dtype: float64\n",
            "--------------------------\n"
          ]
        },
        {
          "output_type": "execute_result",
          "data": {
            "text/plain": [
              "   VehicleType       Brand    Model  RegistrationYear Gearbox  Power  \\\n",
              "2          suv        jeep    grand              2004    auto    163   \n",
              "3        small  volkswagen     golf              2001    auto     75   \n",
              "4        small       skoda    fabia              2008    auto     69   \n",
              "5        sedan         bmw      3er              1995    auto    102   \n",
              "6  convertible     peugeot  2_reihe              2004    auto    109   \n",
              "\n",
              "   FuelType  Kilometer NotRepaired  Price  \n",
              "2  gasoline     125000         yes   9800  \n",
              "3    petrol     150000          no   1500  \n",
              "4  gasoline      90000          no   3600  \n",
              "5    petrol     150000         yes    650  \n",
              "6    petrol     150000          no   2200  "
            ],
            "text/html": [
              "\n",
              "  <div id=\"df-ae851fc5-8e86-445f-bc58-f68a55fd6810\">\n",
              "    <div class=\"colab-df-container\">\n",
              "      <div>\n",
              "<style scoped>\n",
              "    .dataframe tbody tr th:only-of-type {\n",
              "        vertical-align: middle;\n",
              "    }\n",
              "\n",
              "    .dataframe tbody tr th {\n",
              "        vertical-align: top;\n",
              "    }\n",
              "\n",
              "    .dataframe thead th {\n",
              "        text-align: right;\n",
              "    }\n",
              "</style>\n",
              "<table border=\"1\" class=\"dataframe\">\n",
              "  <thead>\n",
              "    <tr style=\"text-align: right;\">\n",
              "      <th></th>\n",
              "      <th>VehicleType</th>\n",
              "      <th>Brand</th>\n",
              "      <th>Model</th>\n",
              "      <th>RegistrationYear</th>\n",
              "      <th>Gearbox</th>\n",
              "      <th>Power</th>\n",
              "      <th>FuelType</th>\n",
              "      <th>Kilometer</th>\n",
              "      <th>NotRepaired</th>\n",
              "      <th>Price</th>\n",
              "    </tr>\n",
              "  </thead>\n",
              "  <tbody>\n",
              "    <tr>\n",
              "      <th>2</th>\n",
              "      <td>suv</td>\n",
              "      <td>jeep</td>\n",
              "      <td>grand</td>\n",
              "      <td>2004</td>\n",
              "      <td>auto</td>\n",
              "      <td>163</td>\n",
              "      <td>gasoline</td>\n",
              "      <td>125000</td>\n",
              "      <td>yes</td>\n",
              "      <td>9800</td>\n",
              "    </tr>\n",
              "    <tr>\n",
              "      <th>3</th>\n",
              "      <td>small</td>\n",
              "      <td>volkswagen</td>\n",
              "      <td>golf</td>\n",
              "      <td>2001</td>\n",
              "      <td>auto</td>\n",
              "      <td>75</td>\n",
              "      <td>petrol</td>\n",
              "      <td>150000</td>\n",
              "      <td>no</td>\n",
              "      <td>1500</td>\n",
              "    </tr>\n",
              "    <tr>\n",
              "      <th>4</th>\n",
              "      <td>small</td>\n",
              "      <td>skoda</td>\n",
              "      <td>fabia</td>\n",
              "      <td>2008</td>\n",
              "      <td>auto</td>\n",
              "      <td>69</td>\n",
              "      <td>gasoline</td>\n",
              "      <td>90000</td>\n",
              "      <td>no</td>\n",
              "      <td>3600</td>\n",
              "    </tr>\n",
              "    <tr>\n",
              "      <th>5</th>\n",
              "      <td>sedan</td>\n",
              "      <td>bmw</td>\n",
              "      <td>3er</td>\n",
              "      <td>1995</td>\n",
              "      <td>auto</td>\n",
              "      <td>102</td>\n",
              "      <td>petrol</td>\n",
              "      <td>150000</td>\n",
              "      <td>yes</td>\n",
              "      <td>650</td>\n",
              "    </tr>\n",
              "    <tr>\n",
              "      <th>6</th>\n",
              "      <td>convertible</td>\n",
              "      <td>peugeot</td>\n",
              "      <td>2_reihe</td>\n",
              "      <td>2004</td>\n",
              "      <td>auto</td>\n",
              "      <td>109</td>\n",
              "      <td>petrol</td>\n",
              "      <td>150000</td>\n",
              "      <td>no</td>\n",
              "      <td>2200</td>\n",
              "    </tr>\n",
              "  </tbody>\n",
              "</table>\n",
              "</div>\n",
              "      <button class=\"colab-df-convert\" onclick=\"convertToInteractive('df-ae851fc5-8e86-445f-bc58-f68a55fd6810')\"\n",
              "              title=\"Convert this dataframe to an interactive table.\"\n",
              "              style=\"display:none;\">\n",
              "        \n",
              "  <svg xmlns=\"http://www.w3.org/2000/svg\" height=\"24px\"viewBox=\"0 0 24 24\"\n",
              "       width=\"24px\">\n",
              "    <path d=\"M0 0h24v24H0V0z\" fill=\"none\"/>\n",
              "    <path d=\"M18.56 5.44l.94 2.06.94-2.06 2.06-.94-2.06-.94-.94-2.06-.94 2.06-2.06.94zm-11 1L8.5 8.5l.94-2.06 2.06-.94-2.06-.94L8.5 2.5l-.94 2.06-2.06.94zm10 10l.94 2.06.94-2.06 2.06-.94-2.06-.94-.94-2.06-.94 2.06-2.06.94z\"/><path d=\"M17.41 7.96l-1.37-1.37c-.4-.4-.92-.59-1.43-.59-.52 0-1.04.2-1.43.59L10.3 9.45l-7.72 7.72c-.78.78-.78 2.05 0 2.83L4 21.41c.39.39.9.59 1.41.59.51 0 1.02-.2 1.41-.59l7.78-7.78 2.81-2.81c.8-.78.8-2.07 0-2.86zM5.41 20L4 18.59l7.72-7.72 1.47 1.35L5.41 20z\"/>\n",
              "  </svg>\n",
              "      </button>\n",
              "      \n",
              "  <style>\n",
              "    .colab-df-container {\n",
              "      display:flex;\n",
              "      flex-wrap:wrap;\n",
              "      gap: 12px;\n",
              "    }\n",
              "\n",
              "    .colab-df-convert {\n",
              "      background-color: #E8F0FE;\n",
              "      border: none;\n",
              "      border-radius: 50%;\n",
              "      cursor: pointer;\n",
              "      display: none;\n",
              "      fill: #1967D2;\n",
              "      height: 32px;\n",
              "      padding: 0 0 0 0;\n",
              "      width: 32px;\n",
              "    }\n",
              "\n",
              "    .colab-df-convert:hover {\n",
              "      background-color: #E2EBFA;\n",
              "      box-shadow: 0px 1px 2px rgba(60, 64, 67, 0.3), 0px 1px 3px 1px rgba(60, 64, 67, 0.15);\n",
              "      fill: #174EA6;\n",
              "    }\n",
              "\n",
              "    [theme=dark] .colab-df-convert {\n",
              "      background-color: #3B4455;\n",
              "      fill: #D2E3FC;\n",
              "    }\n",
              "\n",
              "    [theme=dark] .colab-df-convert:hover {\n",
              "      background-color: #434B5C;\n",
              "      box-shadow: 0px 1px 3px 1px rgba(0, 0, 0, 0.15);\n",
              "      filter: drop-shadow(0px 1px 2px rgba(0, 0, 0, 0.3));\n",
              "      fill: #FFFFFF;\n",
              "    }\n",
              "  </style>\n",
              "\n",
              "      <script>\n",
              "        const buttonEl =\n",
              "          document.querySelector('#df-ae851fc5-8e86-445f-bc58-f68a55fd6810 button.colab-df-convert');\n",
              "        buttonEl.style.display =\n",
              "          google.colab.kernel.accessAllowed ? 'block' : 'none';\n",
              "\n",
              "        async function convertToInteractive(key) {\n",
              "          const element = document.querySelector('#df-ae851fc5-8e86-445f-bc58-f68a55fd6810');\n",
              "          const dataTable =\n",
              "            await google.colab.kernel.invokeFunction('convertToInteractive',\n",
              "                                                     [key], {});\n",
              "          if (!dataTable) return;\n",
              "\n",
              "          const docLinkHtml = 'Like what you see? Visit the ' +\n",
              "            '<a target=\"_blank\" href=https://colab.research.google.com/notebooks/data_table.ipynb>data table notebook</a>'\n",
              "            + ' to learn more about interactive tables.';\n",
              "          element.innerHTML = '';\n",
              "          dataTable['output_type'] = 'display_data';\n",
              "          await google.colab.output.renderOutput(dataTable, element);\n",
              "          const docLink = document.createElement('div');\n",
              "          docLink.innerHTML = docLinkHtml;\n",
              "          element.appendChild(docLink);\n",
              "        }\n",
              "      </script>\n",
              "    </div>\n",
              "  </div>\n",
              "  "
            ]
          },
          "metadata": {},
          "execution_count": 36
        }
      ],
      "source": [
        "print(f\"-\" * 26)\n",
        "print(f\"Removed {round((data.shape[0] - df.shape[0]) / data.shape[0] * 100, 2)}% of the data.\")\n",
        "print(f\"-\" * 26)\n",
        "print(f\"Missing values: \\n\")\n",
        "print(df.isna().mean() * 100)\n",
        "print(f\"-\" * 26)\n",
        "df.head()"
      ]
    },
    {
      "cell_type": "markdown",
      "metadata": {
        "id": "C6Tf9yFkRh2S"
      },
      "source": [
        "### Exploratory data analysis <a class=\"anchor\" id=\"data-eda\"></a>\n",
        "\n",
        "Let's look at the correlation of the data:"
      ]
    },
    {
      "cell_type": "code",
      "execution_count": 37,
      "metadata": {
        "scrolled": false,
        "id": "K67ebwB2Rh2S",
        "outputId": "f05c1244-57c6-4c10-a63e-0bb28f3e2439",
        "colab": {
          "base_uri": "https://localhost:8080/",
          "height": 801
        }
      },
      "outputs": [
        {
          "output_type": "display_data",
          "data": {
            "text/plain": [
              "<Figure size 800x800 with 2 Axes>"
            ],
            "image/png": "[encoded data removed]"
          },
          "metadata": {}
        }
      ],
      "source": [
        "# Seaborn style\n",
        "sns.set(\n",
        "    style='white',\n",
        "    palette='colorblind',\n",
        "    rc={'figure.figsize': (8, 8)},\n",
        "    color_codes=True)\n",
        "\n",
        "# Plotting the heatmap\n",
        "sns.heatmap(df.corr(), cmap='coolwarm', cbar=True, annot=True, fmt='.2f')\n",
        "plt.tight_layout()\n",
        "plt.show()"
      ]
    },
    {
      "cell_type": "code",
      "execution_count": 38,
      "metadata": {
        "id": "rYi4x3CZRh2S",
        "outputId": "a7083978-8791-4b7c-bb92-46709a1e7260",
        "colab": {
          "base_uri": "https://localhost:8080/",
          "height": 300
        }
      },
      "outputs": [
        {
          "output_type": "execute_result",
          "data": {
            "text/plain": [
              "       RegistrationYear          Power      Kilometer          Price\n",
              "count     259910.000000  259910.000000  259910.000000  259910.000000\n",
              "mean        2002.200350     114.253034  132023.758224    3643.481197\n",
              "std            6.093528      47.716190   33496.310965    2924.322593\n",
              "min         1950.000000      16.000000    5000.000000     200.000000\n",
              "25%         1999.000000      75.000000  125000.000000    1250.000000\n",
              "50%         2002.000000     105.000000  150000.000000    2750.000000\n",
              "75%         2006.000000     140.000000  150000.000000    5500.000000\n",
              "max         2016.000000     400.000000  150000.000000   11500.000000"
            ],
            "text/html": [
              "\n",
              "  <div id=\"df-063e16f7-89df-4b9b-bfb0-09e5a060fbd2\">\n",
              "    <div class=\"colab-df-container\">\n",
              "      <div>\n",
              "<style scoped>\n",
              "    .dataframe tbody tr th:only-of-type {\n",
              "        vertical-align: middle;\n",
              "    }\n",
              "\n",
              "    .dataframe tbody tr th {\n",
              "        vertical-align: top;\n",
              "    }\n",
              "\n",
              "    .dataframe thead th {\n",
              "        text-align: right;\n",
              "    }\n",
              "</style>\n",
              "<table border=\"1\" class=\"dataframe\">\n",
              "  <thead>\n",
              "    <tr style=\"text-align: right;\">\n",
              "      <th></th>\n",
              "      <th>RegistrationYear</th>\n",
              "      <th>Power</th>\n",
              "      <th>Kilometer</th>\n",
              "      <th>Price</th>\n",
              "    </tr>\n",
              "  </thead>\n",
              "  <tbody>\n",
              "    <tr>\n",
              "      <th>count</th>\n",
              "      <td>259910.000000</td>\n",
              "      <td>259910.000000</td>\n",
              "      <td>259910.000000</td>\n",
              "      <td>259910.000000</td>\n",
              "    </tr>\n",
              "    <tr>\n",
              "      <th>mean</th>\n",
              "      <td>2002.200350</td>\n",
              "      <td>114.253034</td>\n",
              "      <td>132023.758224</td>\n",
              "      <td>3643.481197</td>\n",
              "    </tr>\n",
              "    <tr>\n",
              "      <th>std</th>\n",
              "      <td>6.093528</td>\n",
              "      <td>47.716190</td>\n",
              "      <td>33496.310965</td>\n",
              "      <td>2924.322593</td>\n",
              "    </tr>\n",
              "    <tr>\n",
              "      <th>min</th>\n",
              "      <td>1950.000000</td>\n",
              "      <td>16.000000</td>\n",
              "      <td>5000.000000</td>\n",
              "      <td>200.000000</td>\n",
              "    </tr>\n",
              "    <tr>\n",
              "      <th>25%</th>\n",
              "      <td>1999.000000</td>\n",
              "      <td>75.000000</td>\n",
              "      <td>125000.000000</td>\n",
              "      <td>1250.000000</td>\n",
              "    </tr>\n",
              "    <tr>\n",
              "      <th>50%</th>\n",
              "      <td>2002.000000</td>\n",
              "      <td>105.000000</td>\n",
              "      <td>150000.000000</td>\n",
              "      <td>2750.000000</td>\n",
              "    </tr>\n",
              "    <tr>\n",
              "      <th>75%</th>\n",
              "      <td>2006.000000</td>\n",
              "      <td>140.000000</td>\n",
              "      <td>150000.000000</td>\n",
              "      <td>5500.000000</td>\n",
              "    </tr>\n",
              "    <tr>\n",
              "      <th>max</th>\n",
              "      <td>2016.000000</td>\n",
              "      <td>400.000000</td>\n",
              "      <td>150000.000000</td>\n",
              "      <td>11500.000000</td>\n",
              "    </tr>\n",
              "  </tbody>\n",
              "</table>\n",
              "</div>\n",
              "      <button class=\"colab-df-convert\" onclick=\"convertToInteractive('df-063e16f7-89df-4b9b-bfb0-09e5a060fbd2')\"\n",
              "              title=\"Convert this dataframe to an interactive table.\"\n",
              "              style=\"display:none;\">\n",
              "        \n",
              "  <svg xmlns=\"http://www.w3.org/2000/svg\" height=\"24px\"viewBox=\"0 0 24 24\"\n",
              "       width=\"24px\">\n",
              "    <path d=\"M0 0h24v24H0V0z\" fill=\"none\"/>\n",
              "    <path d=\"M18.56 5.44l.94 2.06.94-2.06 2.06-.94-2.06-.94-.94-2.06-.94 2.06-2.06.94zm-11 1L8.5 8.5l.94-2.06 2.06-.94-2.06-.94L8.5 2.5l-.94 2.06-2.06.94zm10 10l.94 2.06.94-2.06 2.06-.94-2.06-.94-.94-2.06-.94 2.06-2.06.94z\"/><path d=\"M17.41 7.96l-1.37-1.37c-.4-.4-.92-.59-1.43-.59-.52 0-1.04.2-1.43.59L10.3 9.45l-7.72 7.72c-.78.78-.78 2.05 0 2.83L4 21.41c.39.39.9.59 1.41.59.51 0 1.02-.2 1.41-.59l7.78-7.78 2.81-2.81c.8-.78.8-2.07 0-2.86zM5.41 20L4 18.59l7.72-7.72 1.47 1.35L5.41 20z\"/>\n",
              "  </svg>\n",
              "      </button>\n",
              "      \n",
              "  <style>\n",
              "    .colab-df-container {\n",
              "      display:flex;\n",
              "      flex-wrap:wrap;\n",
              "      gap: 12px;\n",
              "    }\n",
              "\n",
              "    .colab-df-convert {\n",
              "      background-color: #E8F0FE;\n",
              "      border: none;\n",
              "      border-radius: 50%;\n",
              "      cursor: pointer;\n",
              "      display: none;\n",
              "      fill: #1967D2;\n",
              "      height: 32px;\n",
              "      padding: 0 0 0 0;\n",
              "      width: 32px;\n",
              "    }\n",
              "\n",
              "    .colab-df-convert:hover {\n",
              "      background-color: #E2EBFA;\n",
              "      box-shadow: 0px 1px 2px rgba(60, 64, 67, 0.3), 0px 1px 3px 1px rgba(60, 64, 67, 0.15);\n",
              "      fill: #174EA6;\n",
              "    }\n",
              "\n",
              "    [theme=dark] .colab-df-convert {\n",
              "      background-color: #3B4455;\n",
              "      fill: #D2E3FC;\n",
              "    }\n",
              "\n",
              "    [theme=dark] .colab-df-convert:hover {\n",
              "      background-color: #434B5C;\n",
              "      box-shadow: 0px 1px 3px 1px rgba(0, 0, 0, 0.15);\n",
              "      filter: drop-shadow(0px 1px 2px rgba(0, 0, 0, 0.3));\n",
              "      fill: #FFFFFF;\n",
              "    }\n",
              "  </style>\n",
              "\n",
              "      <script>\n",
              "        const buttonEl =\n",
              "          document.querySelector('#df-063e16f7-89df-4b9b-bfb0-09e5a060fbd2 button.colab-df-convert');\n",
              "        buttonEl.style.display =\n",
              "          google.colab.kernel.accessAllowed ? 'block' : 'none';\n",
              "\n",
              "        async function convertToInteractive(key) {\n",
              "          const element = document.querySelector('#df-063e16f7-89df-4b9b-bfb0-09e5a060fbd2');\n",
              "          const dataTable =\n",
              "            await google.colab.kernel.invokeFunction('convertToInteractive',\n",
              "                                                     [key], {});\n",
              "          if (!dataTable) return;\n",
              "\n",
              "          const docLinkHtml = 'Like what you see? Visit the ' +\n",
              "            '<a target=\"_blank\" href=https://colab.research.google.com/notebooks/data_table.ipynb>data table notebook</a>'\n",
              "            + ' to learn more about interactive tables.';\n",
              "          element.innerHTML = '';\n",
              "          dataTable['output_type'] = 'display_data';\n",
              "          await google.colab.output.renderOutput(dataTable, element);\n",
              "          const docLink = document.createElement('div');\n",
              "          docLink.innerHTML = docLinkHtml;\n",
              "          element.appendChild(docLink);\n",
              "        }\n",
              "      </script>\n",
              "    </div>\n",
              "  </div>\n",
              "  "
            ]
          },
          "metadata": {},
          "execution_count": 38
        }
      ],
      "source": [
        "df.describe()"
      ]
    },
    {
      "cell_type": "markdown",
      "metadata": {
        "id": "pbrLxPFiRh2R"
      },
      "source": [
        "### Conclusion <a class=\"anchor\" id=\"data-conclusion\"></a>\n",
        "\n",
        "1. Missing values were observed in the following features:\n",
        "    - `Model`: 5.56%\n",
        "    - `Gearbox`: 5.59%\n",
        "    - `FuelType`: 9.28%\n",
        "    - `VehicleType`: 10.57%\n",
        "    - `NotRepaired`: 20.07%\n",
        "2. The **target feature** `Price` contains many zero values - 10,772;\n",
        "3. The `RegistrationYear` feature contains many erroneous records (e.g. year 1234 or 9000);\n",
        "4. The `Power` feature includes extremely high engine power values;\n",
        "5. The `Kilometer` feature seems to have dummy mileage records.\n",
        "6. In the `Gearbox` feature, NaN values for electric cars in the `FuelType` column can be replaced with `auto`;\n",
        "7. Unnecessary features for model training were identified.\n",
        "\n",
        "8. Analysis of missing values and their replacement:\n",
        "    - `Price`: 14.53% of the original dataframe was removed by filtering with the 5% and 90% quantiles;\n",
        "    - `VehicleType`: NaN was replaced with unknown, as the body type may differ even within the same model;\n",
        "    - `Model`: NaN was replaced with unknown;\n",
        "    - `RegistrationYear`: 18.23% of the original data was removed by defining a \"clean\" period from 1950 to 2016;\n",
        "    - `Gearbox`: for all electric cars with NaN, it was replaced with auto (67 ads), and the remaining missing values were replaced with manual;\n",
        "    - `Power`: 26.66% of the original data was removed by filtering out abnormally high and low values;\n",
        "    - `FuelType`: NaN was replaced with unknown, as different engines can be present within the same model;\n",
        "    - `NotRepaired`: all NaN were replaced with yes, assuming that we have honest ads and not scams.\n",
        "9. Cleaning the dataframe from unnecessary data:\n",
        "    - `DateCrawled`;\n",
        "    - `DateCreated`;\n",
        "    - `LastSeen`;\n",
        "    - `NumberOfPictures`;\n",
        "    - `PostalCode`;\n",
        "    - `RegistrationMonth`.\n",
        "10. Exploratory data analysis:\n",
        "    - The price has a correlation with the registration date of the car `r=0.47` and its power `r=0.43`."
      ]
    },
    {
      "cell_type": "markdown",
      "metadata": {
        "id": "GZP6ZopGRh2T"
      },
      "source": [
        "## Model preparation <a class=\"anchor\" id=\"model-preparation\"></a>"
      ]
    },
    {
      "cell_type": "markdown",
      "source": [
        "### Datasets preparation <a class=\"anchor\" id=\"model-datasets-preparation\"></a>\n",
        "\n",
        "We will prepare three types of datasets: with original data, transformed by one-hot encoding (OHE), and transformed by ordinal encoding (OE)."
      ],
      "metadata": {
        "id": "1UbGjzhnWmIl"
      }
    },
    {
      "cell_type": "code",
      "execution_count": 39,
      "metadata": {
        "id": "3K6hLsj3Rh2T"
      },
      "outputs": [],
      "source": [
        "# Original feature and target\n",
        "features = df.drop('Price', axis=1)\n",
        "target = df['Price']\n",
        "\n",
        "# OHE\n",
        "features_ohe = pd.get_dummies(features, drop_first=True)\n",
        "\n",
        "# OE\n",
        "encoder = OrdinalEncoder()\n",
        "columns_oe = list(df.select_dtypes(include='object').columns)\n",
        "columns_oe = ['VehicleType', 'Brand', 'Model', 'Gearbox', 'FuelType', 'NotRepaired']\n",
        "\n",
        "features_oe = features[columns_oe]\n",
        "features_oe = pd.DataFrame(\n",
        "    encoder.fit_transform(features_oe),\n",
        "    columns=features_oe.columns,\n",
        "    index=features_oe.index\n",
        ")"
      ]
    },
    {
      "cell_type": "code",
      "execution_count": 40,
      "metadata": {
        "id": "3ah-p9PNRh2T",
        "outputId": "d3c69bfd-c023-4d77-9295-dd923131b0c8",
        "colab": {
          "base_uri": "https://localhost:8080/"
        }
      },
      "outputs": [
        {
          "output_type": "stream",
          "name": "stdout",
          "text": [
            "Original data: 259910\n",
            "Train dataset: 75%\n",
            "Test dataset: 25%\n"
          ]
        }
      ],
      "source": [
        "# Datasets split\n",
        "X_train, X_test, y_train, y_test = train_test_split(\n",
        "    features, target, test_size=0.25, random_state=8080)\n",
        "\n",
        "X_ohe_train = features_ohe.loc[X_train.index, :]\n",
        "X_ohe_test = features_ohe.loc[X_test.index, :]\n",
        "\n",
        "X_oe_train = features_oe.loc[X_train.index, :]\n",
        "X_oe_test = features_oe.loc[X_test.index, :]\n",
        "\n",
        "# Print proportions of each set\n",
        "x, x_ = features.shape\n",
        "a, a_ = X_train.shape\n",
        "b, b_ = X_test.shape\n",
        "\n",
        "def perc(pt, whl):\n",
        "    perc = 100 * pt / whl\n",
        "    return str(round(perc)) + '%'\n",
        "\n",
        "print(f\"Original data: {x}\")\n",
        "print(f\"Train dataset: {perc(a, x)}\")\n",
        "print(f\"Test dataset: {perc(b, x)}\")\n"
      ]
    },
    {
      "cell_type": "code",
      "execution_count": 41,
      "metadata": {
        "id": "E7enm1bwRh2T"
      },
      "outputs": [],
      "source": [
        "scaler = StandardScaler()\n",
        "\n",
        "# Scaling the OHE features\n",
        "numeric = X_ohe_train.columns\n",
        "scaler.fit(X_ohe_train)\n",
        "\n",
        "X_ohe_train_scaled = scaler.transform(X_ohe_train)\n",
        "X_ohe_test_scaled = scaler.transform(X_ohe_test)\n",
        "\n",
        "# Scaling the OE features\n",
        "numeric = X_oe_train.columns\n",
        "scaler.fit(X_oe_train)\n",
        "\n",
        "X_oe_train_scaled = scaler.transform(X_oe_train)\n",
        "X_oe_test_scaled = scaler.transform(X_oe_test)"
      ]
    },
    {
      "cell_type": "markdown",
      "metadata": {
        "id": "7y0gVPNKRh2U"
      },
      "source": [
        "### Hyperparameter tuning <a class=\"anchor\" id=\"model-hyperparameter-tuning\"></a>\n",
        "\n",
        "The following models will be used:\n",
        "1. DecisionTreeRegressor\n",
        "2. LinearRegression\n",
        "3. CatBoostRegressor\n",
        "4. LGBMRegressor"
      ]
    },
    {
      "cell_type": "code",
      "execution_count": 42,
      "metadata": {
        "id": "Z6LCPMXwRh2U"
      },
      "outputs": [],
      "source": [
        "state = np.random.RandomState(8080)"
      ]
    },
    {
      "cell_type": "code",
      "execution_count": 43,
      "metadata": {
        "id": "wXx4pDjvRh2U"
      },
      "outputs": [],
      "source": [
        "# Passing hyperparameters to GridSearch:\n",
        "def grid_search(clf_name):\n",
        "    params = {'DecisionTreeRegressor'   : {'max_depth'        : range(10, 30, 2),\n",
        "                                           'max_features'     : ['auto'],\n",
        "                                           'min_samples_leaf' : range(1, 8, 1),\n",
        "                                           'criterion'        : ['squared_error']},\n",
        "             'CatBoostRegressor'        : {'depth'            : [2, 16, 32],\n",
        "                                           'learning_rate'    : [0.8],\n",
        "                                           'iterations'       : [60]},\n",
        "             'LGBMRegressor'            : {'max_depth'        : range(1, 20, 5),\n",
        "                                           'num_leaves'       : range(10, 100, 10),\n",
        "                                           'learning_rate'    : [0.8]}\n",
        "             }\n",
        "    return params[clf_name]"
      ]
    },
    {
      "cell_type": "markdown",
      "metadata": {
        "id": "VFuuLhlrRh2U"
      },
      "source": [
        "**DecisionTreeRegressor**\n",
        "\n",
        "Using DecisionTreeRegressor on the OHE dataset is not expedient and will not be used."
      ]
    },
    {
      "cell_type": "code",
      "execution_count": 44,
      "metadata": {
        "id": "fG-DHY0KRh2V",
        "outputId": "a2565722-27c6-4d85-f4cd-9ad3344cbe92",
        "colab": {
          "base_uri": "https://localhost:8080/"
        }
      },
      "outputs": [
        {
          "output_type": "stream",
          "name": "stdout",
          "text": [
            "Fitting 5 folds for each of 70 candidates, totalling 350 fits\n",
            "\n",
            "Best parameters for DecisionTreeRegressor with OE dataset: {'criterion': 'squared_error', 'max_depth': 22, 'max_features': 'auto', 'min_samples_leaf': 4}\n",
            "RMSE: 2318.4\n",
            "\n",
            "CPU times: user 2.24 s, sys: 632 ms, total: 2.87 s\n",
            "Wall time: 1min 7s\n"
          ]
        }
      ],
      "source": [
        "%%time\n",
        "\n",
        "# DecisionTreeRegressor (Ordinal Enconding)\n",
        "model_dtr = DecisionTreeRegressor(random_state=8080)\n",
        "grid_dtr_oe = GridSearchCV(\n",
        "    model_dtr,\n",
        "    grid_search(clf_name=type(model_dtr).__name__),\n",
        "    scoring='neg_mean_squared_error',\n",
        "    n_jobs=-1, verbose=10\n",
        ")\n",
        "grid_dtr_oe.fit(X_oe_train_scaled, y_train)\n",
        "\n",
        "means = grid_dtr_oe.cv_results_['mean_test_score']\n",
        "rmse_model_dtr_oe = (max(means)*-1) ** 0.5\n",
        "rmse_model_dtr_oe = round(rmse_model_dtr_oe, 2)\n",
        "\n",
        "print(f\"\\nBest parameters for {type(model_dtr).__name__} with OE dataset: {grid_dtr_oe.best_params_}\")\n",
        "print(f\"RMSE: {rmse_model_dtr_oe}\\n\")"
      ]
    },
    {
      "cell_type": "code",
      "source": [
        "# Define the subplots\n",
        "fig, axs = plt.subplots(ncols=2, nrows=1, figsize=(10, 4))\n",
        "\n",
        "# Decision Tree Regressor\n",
        "sns.lineplot(x='param_max_depth', y='mean_test_score', data=pd.DataFrame(grid_dtr_oe.cv_results_), ax=axs[0])\n",
        "sns.lineplot(x='param_min_samples_leaf', y='mean_test_score', data=pd.DataFrame(grid_dtr_oe.cv_results_), ax=axs[1])\n",
        "\n",
        "# Add titles and labels to the subplots\n",
        "axs[0].set(title='DecisionTreeRegressor', xlabel='max_depth', ylabel='mean_test_score')\n",
        "axs[1].set(title='DecisionTreeRegressor', xlabel='min_samples_leaf', ylabel='')\n",
        "\n",
        "# Adjust the layout and spacing of the subplots\n",
        "plt.tight_layout()"
      ],
      "metadata": {
        "colab": {
          "base_uri": "https://localhost:8080/",
          "height": 352
        },
        "id": "7Bd3Zd_YNxnu",
        "outputId": "8ad3d574-a6a8-48e2-f268-765a56140867"
      },
      "execution_count": 45,
      "outputs": [
        {
          "output_type": "display_data",
          "data": {
            "text/plain": [
              "<Figure size 1000x400 with 2 Axes>"
            ],
            "image/png": "[encoded data removed]"
          },
          "metadata": {}
        }
      ]
    },
    {
      "cell_type": "markdown",
      "metadata": {
        "id": "O8zaoWI7Rh2V"
      },
      "source": [
        "**LinearRegression**"
      ]
    },
    {
      "cell_type": "code",
      "execution_count": 46,
      "metadata": {
        "id": "ebtKfEvrRh2V",
        "outputId": "d162ef38-a066-4d95-80e5-58c55184e40c",
        "colab": {
          "base_uri": "https://localhost:8080/"
        }
      },
      "outputs": [
        {
          "output_type": "stream",
          "name": "stdout",
          "text": [
            "RMSE for LinearRegression with OHE dataset: 1770.53\n",
            "\n",
            "CPU times: user 10.3 s, sys: 2.26 s, total: 12.6 s\n",
            "Wall time: 9.69 s\n"
          ]
        }
      ],
      "source": [
        "%%time\n",
        "\n",
        "model_lr = LinearRegression()\n",
        "\n",
        "# Linear Regression (One-Hot Encoding)\n",
        "model_lr.fit(X_ohe_train_scaled, y_train)\n",
        "predictions_ohe = model_lr.predict(X_ohe_train_scaled)\n",
        "rmse_lr_ohe = mean_squared_error(y_train, predictions_ohe, squared=False)\n",
        "rmse_lr_ohe = round(rmse_lr_ohe, 2)\n",
        "\n",
        "print(f\"RMSE for {type(model_lr).__name__} with OHE dataset: {rmse_lr_ohe}\\n\")"
      ]
    },
    {
      "cell_type": "code",
      "execution_count": 47,
      "metadata": {
        "id": "ls4tdA9uRh2V",
        "outputId": "84cd6d58-c37a-4112-8f90-207fa98ccf57",
        "colab": {
          "base_uri": "https://localhost:8080/"
        }
      },
      "outputs": [
        {
          "output_type": "stream",
          "name": "stdout",
          "text": [
            "RMSE for LinearRegression with OE dataset: 2689.8\n",
            "\n",
            "CPU times: user 88.5 ms, sys: 55.4 ms, total: 144 ms\n",
            "Wall time: 157 ms\n"
          ]
        }
      ],
      "source": [
        "%%time\n",
        "\n",
        "# Linear Regression (Ordinal Enconding)\n",
        "model_lr.fit(X_oe_train_scaled, y_train)\n",
        "predictions_oe = model_lr.predict(X_oe_train_scaled)\n",
        "rmse_lr_oe = mean_squared_error(y_train, predictions_oe, squared=False)\n",
        "rmse_lr_oe = round(rmse_lr_oe, 2)\n",
        "\n",
        "print(f\"RMSE for {type(model_lr).__name__} with OE dataset: {rmse_lr_oe}\\n\")"
      ]
    },
    {
      "cell_type": "markdown",
      "metadata": {
        "id": "8VA20uWCRh2W"
      },
      "source": [
        "**CatBoostRegressor**"
      ]
    },
    {
      "cell_type": "code",
      "execution_count": 48,
      "metadata": {
        "id": "RJUdA7RwRh2X",
        "outputId": "eab52cbf-5756-4e1b-9397-9b80020725b7",
        "colab": {
          "base_uri": "https://localhost:8080/"
        }
      },
      "outputs": [
        {
          "output_type": "stream",
          "name": "stdout",
          "text": [
            "0:\tlearn: 1618.3330299\ttotal: 1.2s\tremaining: 1m 10s\n",
            "1:\tlearn: 1351.1383727\ttotal: 2.28s\tremaining: 1m 6s\n",
            "2:\tlearn: 1299.7046624\ttotal: 3.33s\tremaining: 1m 3s\n",
            "3:\tlearn: 1271.4582537\ttotal: 4.79s\tremaining: 1m 7s\n",
            "4:\tlearn: 1252.7168978\ttotal: 6.58s\tremaining: 1m 12s\n",
            "5:\tlearn: 1239.2477113\ttotal: 7.76s\tremaining: 1m 9s\n",
            "6:\tlearn: 1223.2361530\ttotal: 8.81s\tremaining: 1m 6s\n",
            "7:\tlearn: 1211.6193797\ttotal: 9.83s\tremaining: 1m 3s\n",
            "8:\tlearn: 1201.6185079\ttotal: 10.9s\tremaining: 1m 1s\n",
            "9:\tlearn: 1194.3901147\ttotal: 11.9s\tremaining: 59.5s\n",
            "10:\tlearn: 1186.6324908\ttotal: 12.9s\tremaining: 57.5s\n",
            "11:\tlearn: 1176.3003824\ttotal: 14s\tremaining: 55.8s\n",
            "12:\tlearn: 1167.0366329\ttotal: 15s\tremaining: 54.2s\n",
            "13:\tlearn: 1162.4986896\ttotal: 16s\tremaining: 52.7s\n",
            "14:\tlearn: 1155.8091044\ttotal: 17.1s\tremaining: 51.3s\n",
            "15:\tlearn: 1151.7269762\ttotal: 19s\tremaining: 52.3s\n",
            "16:\tlearn: 1145.9532517\ttotal: 20.4s\tremaining: 51.7s\n",
            "17:\tlearn: 1136.3157900\ttotal: 21.5s\tremaining: 50.1s\n",
            "18:\tlearn: 1132.4001307\ttotal: 22.5s\tremaining: 48.5s\n",
            "19:\tlearn: 1126.5791060\ttotal: 23.5s\tremaining: 47s\n",
            "20:\tlearn: 1124.1048908\ttotal: 24.6s\tremaining: 45.6s\n",
            "21:\tlearn: 1118.3549900\ttotal: 25.6s\tremaining: 44.2s\n",
            "22:\tlearn: 1114.1405387\ttotal: 26.6s\tremaining: 42.8s\n",
            "23:\tlearn: 1110.1827850\ttotal: 27.7s\tremaining: 41.5s\n",
            "24:\tlearn: 1105.7715589\ttotal: 28.7s\tremaining: 40.2s\n",
            "25:\tlearn: 1102.3712795\ttotal: 29.7s\tremaining: 38.8s\n",
            "26:\tlearn: 1098.9420362\ttotal: 31.3s\tremaining: 38.3s\n",
            "27:\tlearn: 1095.5084831\ttotal: 33.1s\tremaining: 37.8s\n",
            "28:\tlearn: 1092.3680505\ttotal: 34.1s\tremaining: 36.5s\n",
            "29:\tlearn: 1089.0446038\ttotal: 35.2s\tremaining: 35.2s\n",
            "30:\tlearn: 1085.0541362\ttotal: 36.2s\tremaining: 33.9s\n",
            "31:\tlearn: 1081.8171186\ttotal: 37.2s\tremaining: 32.6s\n",
            "32:\tlearn: 1078.3500144\ttotal: 38.2s\tremaining: 31.3s\n",
            "33:\tlearn: 1075.3611103\ttotal: 39.3s\tremaining: 30s\n",
            "34:\tlearn: 1072.6053576\ttotal: 40.3s\tremaining: 28.8s\n",
            "35:\tlearn: 1070.1003121\ttotal: 41.3s\tremaining: 27.5s\n",
            "36:\tlearn: 1066.4855156\ttotal: 42.4s\tremaining: 26.3s\n",
            "37:\tlearn: 1063.3715878\ttotal: 43.5s\tremaining: 25.2s\n",
            "38:\tlearn: 1061.7936035\ttotal: 45.3s\tremaining: 24.4s\n",
            "39:\tlearn: 1058.9169022\ttotal: 46.8s\tremaining: 23.4s\n",
            "40:\tlearn: 1056.7168736\ttotal: 47.9s\tremaining: 22.2s\n",
            "41:\tlearn: 1054.9934840\ttotal: 48.9s\tremaining: 21s\n",
            "42:\tlearn: 1053.4286657\ttotal: 49.9s\tremaining: 19.7s\n",
            "43:\tlearn: 1049.0644650\ttotal: 51s\tremaining: 18.5s\n",
            "44:\tlearn: 1047.3110351\ttotal: 52s\tremaining: 17.3s\n",
            "45:\tlearn: 1042.8673073\ttotal: 53s\tremaining: 16.1s\n",
            "46:\tlearn: 1041.5434490\ttotal: 54.1s\tremaining: 15s\n",
            "47:\tlearn: 1040.7128205\ttotal: 55.1s\tremaining: 13.8s\n",
            "48:\tlearn: 1037.9248483\ttotal: 56.1s\tremaining: 12.6s\n",
            "49:\tlearn: 1035.1043557\ttotal: 57.7s\tremaining: 11.5s\n",
            "50:\tlearn: 1031.2280785\ttotal: 59.5s\tremaining: 10.5s\n",
            "51:\tlearn: 1029.5946292\ttotal: 1m\tremaining: 9.32s\n",
            "52:\tlearn: 1028.0954110\ttotal: 1m 1s\tremaining: 8.13s\n",
            "53:\tlearn: 1026.4317109\ttotal: 1m 2s\tremaining: 6.96s\n",
            "54:\tlearn: 1024.7080258\ttotal: 1m 3s\tremaining: 5.79s\n",
            "55:\tlearn: 1020.5850989\ttotal: 1m 4s\tremaining: 4.62s\n",
            "56:\tlearn: 1018.3558080\ttotal: 1m 5s\tremaining: 3.46s\n",
            "57:\tlearn: 1016.1688271\ttotal: 1m 6s\tremaining: 2.3s\n",
            "58:\tlearn: 1013.6614275\ttotal: 1m 7s\tremaining: 1.15s\n",
            "59:\tlearn: 1011.9795395\ttotal: 1m 8s\tremaining: 0us\n",
            "\n",
            "Best parameters for CatBoostRegressor with OHE dataset: {'depth': 16, 'iterations': 60, 'learning_rate': 0.8}\n",
            "RMSE: 1185.3\n",
            "\n",
            "CPU times: user 1min 21s, sys: 36.7 s, total: 1min 57s\n",
            "Wall time: 7min 18s\n"
          ]
        }
      ],
      "source": [
        "%%time\n",
        "\n",
        "model_cbr = CatBoostRegressor()\n",
        "\n",
        "# CatBoostRegressor (One-Hot Encoding)\n",
        "grid_cbr_ohe = GridSearchCV(\n",
        "    model_cbr,\n",
        "    grid_search(clf_name=type(model_cbr).__name__),\n",
        "    scoring='neg_mean_squared_error',\n",
        "    n_jobs=-1, verbose=False\n",
        ")\n",
        "grid_cbr_ohe.fit(X_ohe_train, y_train)\n",
        "\n",
        "means = grid_cbr_ohe.cv_results_['mean_test_score']\n",
        "rmse_model_cbr_ohe = (max(means)*-1) ** 0.5\n",
        "rmse_model_cbr_ohe = round(rmse_model_cbr_ohe, 2)\n",
        "\n",
        "print(f\"\\nBest parameters for {type(model_cbr).__name__} with OHE dataset: {grid_cbr_ohe.best_params_}\")\n",
        "print(f\"RMSE: {rmse_model_cbr_ohe}\\n\")"
      ]
    },
    {
      "cell_type": "code",
      "execution_count": 49,
      "metadata": {
        "id": "4Q7SKX2-Rh2X",
        "outputId": "e5aed0c6-52d6-4642-d4d5-e3d7bba4fc1e",
        "colab": {
          "base_uri": "https://localhost:8080/"
        }
      },
      "outputs": [
        {
          "output_type": "stream",
          "name": "stdout",
          "text": [
            "Fitting 5 folds for each of 3 candidates, totalling 15 fits\n",
            "0:\tlearn: 2515.6564928\ttotal: 804ms\tremaining: 47.4s\n",
            "1:\tlearn: 2448.3317981\ttotal: 1.4s\tremaining: 40.7s\n",
            "2:\tlearn: 2414.4579458\ttotal: 1.96s\tremaining: 37.2s\n",
            "3:\tlearn: 2392.8947033\ttotal: 2.49s\tremaining: 34.9s\n",
            "4:\tlearn: 2374.1467637\ttotal: 3.04s\tremaining: 33.4s\n",
            "5:\tlearn: 2354.6314995\ttotal: 3.58s\tremaining: 32.2s\n",
            "6:\tlearn: 2342.7372949\ttotal: 4.14s\tremaining: 31.3s\n",
            "7:\tlearn: 2332.8533582\ttotal: 4.69s\tremaining: 30.5s\n",
            "8:\tlearn: 2324.5488004\ttotal: 5.22s\tremaining: 29.6s\n",
            "9:\tlearn: 2319.8158673\ttotal: 5.79s\tremaining: 28.9s\n",
            "10:\tlearn: 2318.6893034\ttotal: 5.82s\tremaining: 25.9s\n",
            "11:\tlearn: 2318.0054987\ttotal: 5.85s\tremaining: 23.4s\n",
            "12:\tlearn: 2314.6718879\ttotal: 6.4s\tremaining: 23.1s\n",
            "13:\tlearn: 2311.7092541\ttotal: 6.95s\tremaining: 22.8s\n",
            "14:\tlearn: 2307.8374776\ttotal: 7.5s\tremaining: 22.5s\n",
            "15:\tlearn: 2305.0517694\ttotal: 8.05s\tremaining: 22.1s\n",
            "16:\tlearn: 2302.6102540\ttotal: 8.59s\tremaining: 21.7s\n",
            "17:\tlearn: 2299.5196803\ttotal: 9.14s\tremaining: 21.3s\n",
            "18:\tlearn: 2297.1697154\ttotal: 9.69s\tremaining: 20.9s\n",
            "19:\tlearn: 2294.9261019\ttotal: 10.2s\tremaining: 20.5s\n",
            "20:\tlearn: 2291.6414375\ttotal: 10.9s\tremaining: 20.2s\n",
            "21:\tlearn: 2288.5319056\ttotal: 11.7s\tremaining: 20.3s\n",
            "22:\tlearn: 2287.5173096\ttotal: 11.9s\tremaining: 19.1s\n",
            "23:\tlearn: 2285.7840626\ttotal: 12.7s\tremaining: 19s\n",
            "24:\tlearn: 2284.1320132\ttotal: 13.5s\tremaining: 19s\n",
            "25:\tlearn: 2283.0433619\ttotal: 14.1s\tremaining: 18.4s\n",
            "26:\tlearn: 2281.0088395\ttotal: 14.6s\tremaining: 17.9s\n",
            "27:\tlearn: 2279.7826889\ttotal: 15.2s\tremaining: 17.4s\n",
            "28:\tlearn: 2276.6013509\ttotal: 15.7s\tremaining: 16.8s\n",
            "29:\tlearn: 2275.5329247\ttotal: 16.3s\tremaining: 16.3s\n",
            "30:\tlearn: 2274.8866255\ttotal: 16.8s\tremaining: 15.7s\n",
            "31:\tlearn: 2274.0505110\ttotal: 17.4s\tremaining: 15.2s\n",
            "32:\tlearn: 2273.4720166\ttotal: 17.5s\tremaining: 14.3s\n",
            "33:\tlearn: 2272.4635137\ttotal: 18.1s\tremaining: 13.8s\n",
            "34:\tlearn: 2270.8479087\ttotal: 18.6s\tremaining: 13.3s\n",
            "35:\tlearn: 2270.5616387\ttotal: 18.6s\tremaining: 12.4s\n",
            "36:\tlearn: 2269.8671535\ttotal: 19.2s\tremaining: 11.9s\n",
            "37:\tlearn: 2268.7777447\ttotal: 19.7s\tremaining: 11.4s\n",
            "38:\tlearn: 2268.1966669\ttotal: 20.3s\tremaining: 10.9s\n",
            "39:\tlearn: 2267.8715340\ttotal: 20.8s\tremaining: 10.4s\n",
            "40:\tlearn: 2267.6463472\ttotal: 20.9s\tremaining: 9.68s\n",
            "41:\tlearn: 2266.9991434\ttotal: 21.4s\tremaining: 9.19s\n",
            "42:\tlearn: 2266.7042763\ttotal: 22s\tremaining: 8.69s\n",
            "43:\tlearn: 2266.1055549\ttotal: 22.5s\tremaining: 8.19s\n",
            "44:\tlearn: 2265.7815856\ttotal: 23.1s\tremaining: 7.68s\n",
            "45:\tlearn: 2265.0577184\ttotal: 23.6s\tremaining: 7.19s\n",
            "46:\tlearn: 2264.6077678\ttotal: 24.5s\tremaining: 6.76s\n",
            "47:\tlearn: 2264.3926200\ttotal: 25.3s\tremaining: 6.33s\n",
            "48:\tlearn: 2264.1422313\ttotal: 26.2s\tremaining: 5.87s\n",
            "49:\tlearn: 2263.4146465\ttotal: 26.9s\tremaining: 5.37s\n",
            "50:\tlearn: 2262.9158066\ttotal: 27.4s\tremaining: 4.84s\n",
            "51:\tlearn: 2262.0316646\ttotal: 28s\tremaining: 4.3s\n",
            "52:\tlearn: 2261.6391019\ttotal: 28.5s\tremaining: 3.77s\n",
            "53:\tlearn: 2261.2611010\ttotal: 29s\tremaining: 3.23s\n",
            "54:\tlearn: 2261.0441708\ttotal: 29.6s\tremaining: 2.69s\n",
            "55:\tlearn: 2260.7238869\ttotal: 30.1s\tremaining: 2.15s\n",
            "56:\tlearn: 2260.5191825\ttotal: 30.7s\tremaining: 1.61s\n",
            "57:\tlearn: 2260.2606480\ttotal: 31.2s\tremaining: 1.08s\n",
            "58:\tlearn: 2260.0726022\ttotal: 31.8s\tremaining: 539ms\n",
            "59:\tlearn: 2259.8018814\ttotal: 32.3s\tremaining: 0us\n",
            "\n",
            "Best parameters for CatBoostRegressor with OE dataset: {'depth': 16, 'iterations': 60, 'learning_rate': 0.8}\n",
            "RMSE: 2310.92\n",
            "\n",
            "CPU times: user 27.4 s, sys: 12.7 s, total: 40.2 s\n",
            "Wall time: 3min 1s\n"
          ]
        }
      ],
      "source": [
        "%%time\n",
        "\n",
        "# CatBoostRegressor (Ordinal Enconding)\n",
        "grid_cbr_oe = GridSearchCV(\n",
        "    model_cbr,\n",
        "    grid_search(clf_name=type(model_cbr).__name__),\n",
        "    scoring='neg_mean_squared_error',\n",
        "    n_jobs=-1, verbose=1\n",
        ")\n",
        "grid_cbr_oe.fit(X_oe_train, y_train)\n",
        "\n",
        "means = grid_cbr_oe.cv_results_['mean_test_score']\n",
        "rmse_model_cbr_oe = (max(means)*-1) ** 0.5\n",
        "rmse_model_cbr_oe = round(rmse_model_cbr_oe, 2)\n",
        "\n",
        "print(f\"\\nBest parameters for {type(model_cbr).__name__} with OE dataset: {grid_cbr_oe.best_params_}\")\n",
        "print(f\"RMSE: {rmse_model_cbr_oe}\\n\")"
      ]
    },
    {
      "cell_type": "code",
      "source": [
        "# Define the subplots\n",
        "fig, axs = plt.subplots(ncols=2, nrows=1, figsize=(10, 4))\n",
        "\n",
        "# CatBoostRegressor - One-Hot Encoding\n",
        "sns.lineplot(x='param_depth', y='mean_test_score', data=pd.DataFrame(grid_cbr_ohe.cv_results_), ax=axs[0])\n",
        "\n",
        "# CatBoostRegressor - Ordinal Enconding\n",
        "sns.lineplot(x='param_depth', y='mean_test_score', data=pd.DataFrame(grid_cbr_oe.cv_results_), ax=axs[1])\n",
        "\n",
        "# Add titles and labels to the subplots\n",
        "axs[0].set(title='CatBoostRegressor - One-Hot Encoding', xlabel='depth', ylabel='mean_test_score')\n",
        "axs[1].set(title='CatBoostRegressor - Ordinal Enconding', xlabel='depth', ylabel='mean_test_score')\n",
        "\n",
        "# Adjust the layout and spacing of the subplots\n",
        "plt.tight_layout()"
      ],
      "metadata": {
        "colab": {
          "base_uri": "https://localhost:8080/",
          "height": 337
        },
        "id": "ASTfdDVtOSOe",
        "outputId": "5eee4676-3c65-4edc-d2a2-b6047dd1fefd"
      },
      "execution_count": 50,
      "outputs": [
        {
          "output_type": "display_data",
          "data": {
            "text/plain": [
              "<Figure size 1000x400 with 2 Axes>"
            ],
            "image/png": "[encoded data removed]"
          },
          "metadata": {}
        }
      ]
    },
    {
      "cell_type": "markdown",
      "metadata": {
        "id": "qDRjGBkiRh2Y"
      },
      "source": [
        "**LGBMRegressor**"
      ]
    },
    {
      "cell_type": "code",
      "execution_count": 51,
      "metadata": {
        "scrolled": false,
        "id": "6NXnoYypRh2Y",
        "outputId": "9d9e09e1-9b2d-406e-e45d-8d97639f2eca",
        "colab": {
          "base_uri": "https://localhost:8080/"
        }
      },
      "outputs": [
        {
          "output_type": "stream",
          "name": "stdout",
          "text": [
            "Fitting 5 folds for each of 36 candidates, totalling 180 fits\n",
            "\n",
            "Best parameters for LGBMRegressor with OHE dataset: {'learning_rate': 0.8, 'max_depth': 11, 'num_leaves': 40}\n",
            "RMSE: 1191.21\n",
            "CPU times: user 7.88 s, sys: 792 ms, total: 8.67 s\n",
            "Wall time: 7min 32s\n"
          ]
        }
      ],
      "source": [
        "%%time\n",
        "\n",
        "model_lgbmr = LGBMRegressor()\n",
        "\n",
        "# LGBMRegressor (One-Hot Encoding)\n",
        "grid_lgbmr_ohe = GridSearchCV(\n",
        "    model_lgbmr,\n",
        "    grid_search(clf_name=type(model_lgbmr).__name__),\n",
        "    scoring='neg_mean_squared_error',\n",
        "    n_jobs=-1, verbose=10\n",
        ")\n",
        "grid_lgbmr_ohe.fit(X_ohe_train, y_train)\n",
        "\n",
        "means = grid_lgbmr_ohe.cv_results_['mean_test_score']\n",
        "rmse_model_lgbmr_ohe = (max(means)*-1) ** 0.5\n",
        "rmse_model_lgbmr_ohe = round(rmse_model_lgbmr_ohe, 2)\n",
        "\n",
        "print(f\"\\nBest parameters for {type(model_lgbmr).__name__} with OHE dataset: {grid_lgbmr_ohe.best_params_}\")\n",
        "print(f\"RMSE: {rmse_model_lgbmr_ohe}\")"
      ]
    },
    {
      "cell_type": "code",
      "execution_count": 52,
      "metadata": {
        "scrolled": false,
        "id": "wh3cPXm4Rh2Y",
        "outputId": "8fd21c03-9266-4f19-8ded-9fa7dc2d8d3b",
        "colab": {
          "base_uri": "https://localhost:8080/"
        }
      },
      "outputs": [
        {
          "output_type": "stream",
          "name": "stdout",
          "text": [
            "Fitting 5 folds for each of 36 candidates, totalling 180 fits\n",
            "\n",
            "Best parameters for LGBMRegressor with OE dataset: {'learning_rate': 0.8, 'max_depth': 11, 'num_leaves': 50}\n",
            "RMSE: 2306.42\n",
            "CPU times: user 3.29 s, sys: 354 ms, total: 3.65 s\n",
            "Wall time: 2min 20s\n"
          ]
        }
      ],
      "source": [
        "%%time\n",
        "\n",
        "# LGBMRegressor (Ordinal Encoding)\n",
        "grid_lgbmr_oe = GridSearchCV(\n",
        "    model_lgbmr,\n",
        "    grid_search(clf_name=type(model_lgbmr).__name__),\n",
        "    scoring='neg_mean_squared_error',\n",
        "    n_jobs=-1, verbose=10\n",
        ")\n",
        "grid_lgbmr_oe.fit(X_oe_train, y_train)\n",
        "decision_tree_params = grid_lgbmr_oe.best_params_\n",
        "\n",
        "means = grid_lgbmr_oe.cv_results_['mean_test_score']\n",
        "rmse_model_lgbmr_oe = (max(means)*-1) ** 0.5\n",
        "rmse_model_lgbmr_oe = round(rmse_model_lgbmr_oe, 2)\n",
        "\n",
        "print(f\"\\nBest parameters for {type(model_lgbmr).__name__} with OE dataset: {grid_lgbmr_oe.best_params_}\")\n",
        "print(f\"RMSE: {rmse_model_lgbmr_oe}\")"
      ]
    },
    {
      "cell_type": "code",
      "source": [
        "# Define the subplots\n",
        "fig, axs = plt.subplots(ncols=2, nrows=2, figsize=(10, 8))\n",
        "\n",
        "# LGBMRegressor - One-Hot Encoding\n",
        "sns.lineplot(x='param_max_depth', y='mean_test_score', data=pd.DataFrame(grid_lgbmr_ohe.cv_results_), ax=axs[0,0])\n",
        "sns.lineplot(x='param_num_leaves', y='mean_test_score', data=pd.DataFrame(grid_lgbmr_ohe.cv_results_), ax=axs[0,1])\n",
        "\n",
        "# LGBMRegressor - Ordinal Enconding\n",
        "sns.lineplot(x='param_max_depth', y='mean_test_score', data=pd.DataFrame(grid_lgbmr_oe.cv_results_), ax=axs[1,0])\n",
        "sns.lineplot(x='param_num_leaves', y='mean_test_score', data=pd.DataFrame(grid_lgbmr_oe.cv_results_), ax=axs[1,1])\n",
        "\n",
        "# Add titles and labels to the subplots\n",
        "axs[0,0].set(title='LGBMRegressor - One-Hot Encoding', xlabel='max_depth', ylabel='mean_test_score')\n",
        "axs[0,1].set(title='LGBMRegressor - One-Hot Encoding', xlabel='num_leaves', ylabel='')\n",
        "\n",
        "axs[1,0].set(title='LGBMRegressor - Ordinal Enconding', xlabel='max_depth', ylabel='mean_test_score')\n",
        "axs[1,1].set(title='LGBMRegressor - Ordinal Enconding', xlabel='num_leaves', ylabel='')\n",
        "\n",
        "# Adjust the layout and spacing of the subplots\n",
        "plt.tight_layout()"
      ],
      "metadata": {
        "colab": {
          "base_uri": "https://localhost:8080/",
          "height": 686
        },
        "id": "YElcf-bcZ6Oa",
        "outputId": "dd5310b5-0621-4f27-b154-4610095df925"
      },
      "execution_count": 53,
      "outputs": [
        {
          "output_type": "display_data",
          "data": {
            "text/plain": [
              "<Figure size 1000x800 with 4 Axes>"
            ],
            "image/png": "[encoded data removed]"
          },
          "metadata": {}
        }
      ]
    },
    {
      "cell_type": "markdown",
      "metadata": {
        "id": "gbVWWsYSRh2Z"
      },
      "source": [
        "### Conclusion <a class=\"anchor\" id=\"model-conclusion\"></a>\n",
        "\n",
        "For each model, we obtained the RMSE value when tuning the parameters on OHE and OE samples, let's take a look at them along with the best parameters found by `GridSearchCV`:"
      ]
    },
    {
      "cell_type": "code",
      "execution_count": 54,
      "metadata": {
        "scrolled": true,
        "id": "P3TFIcF-Rh2Z",
        "outputId": "4e5d25ee-b5e4-4db0-897c-769e8fe7908f",
        "colab": {
          "base_uri": "https://localhost:8080/",
          "height": 80
        }
      },
      "outputs": [
        {
          "output_type": "execute_result",
          "data": {
            "text/plain": [
              "   DTR_OE   LR_OHE   LR_OE  CBR_OHE   CBR_OE  LGBMR_OHE  LGBMR_OE\n",
              "1  2318.4  1770.53  2689.8   1185.3  2310.92    1191.21   2306.42"
            ],
            "text/html": [
              "\n",
              "  <div id=\"df-09bf4956-9bc6-4fd1-bca5-8f63c06eb96a\">\n",
              "    <div class=\"colab-df-container\">\n",
              "      <div>\n",
              "<style scoped>\n",
              "    .dataframe tbody tr th:only-of-type {\n",
              "        vertical-align: middle;\n",
              "    }\n",
              "\n",
              "    .dataframe tbody tr th {\n",
              "        vertical-align: top;\n",
              "    }\n",
              "\n",
              "    .dataframe thead th {\n",
              "        text-align: right;\n",
              "    }\n",
              "</style>\n",
              "<table border=\"1\" class=\"dataframe\">\n",
              "  <thead>\n",
              "    <tr style=\"text-align: right;\">\n",
              "      <th></th>\n",
              "      <th>DTR_OE</th>\n",
              "      <th>LR_OHE</th>\n",
              "      <th>LR_OE</th>\n",
              "      <th>CBR_OHE</th>\n",
              "      <th>CBR_OE</th>\n",
              "      <th>LGBMR_OHE</th>\n",
              "      <th>LGBMR_OE</th>\n",
              "    </tr>\n",
              "  </thead>\n",
              "  <tbody>\n",
              "    <tr>\n",
              "      <th>1</th>\n",
              "      <td>2318.4</td>\n",
              "      <td>1770.53</td>\n",
              "      <td>2689.8</td>\n",
              "      <td>1185.3</td>\n",
              "      <td>2310.92</td>\n",
              "      <td>1191.21</td>\n",
              "      <td>2306.42</td>\n",
              "    </tr>\n",
              "  </tbody>\n",
              "</table>\n",
              "</div>\n",
              "      <button class=\"colab-df-convert\" onclick=\"convertToInteractive('df-09bf4956-9bc6-4fd1-bca5-8f63c06eb96a')\"\n",
              "              title=\"Convert this dataframe to an interactive table.\"\n",
              "              style=\"display:none;\">\n",
              "        \n",
              "  <svg xmlns=\"http://www.w3.org/2000/svg\" height=\"24px\"viewBox=\"0 0 24 24\"\n",
              "       width=\"24px\">\n",
              "    <path d=\"M0 0h24v24H0V0z\" fill=\"none\"/>\n",
              "    <path d=\"M18.56 5.44l.94 2.06.94-2.06 2.06-.94-2.06-.94-.94-2.06-.94 2.06-2.06.94zm-11 1L8.5 8.5l.94-2.06 2.06-.94-2.06-.94L8.5 2.5l-.94 2.06-2.06.94zm10 10l.94 2.06.94-2.06 2.06-.94-2.06-.94-.94-2.06-.94 2.06-2.06.94z\"/><path d=\"M17.41 7.96l-1.37-1.37c-.4-.4-.92-.59-1.43-.59-.52 0-1.04.2-1.43.59L10.3 9.45l-7.72 7.72c-.78.78-.78 2.05 0 2.83L4 21.41c.39.39.9.59 1.41.59.51 0 1.02-.2 1.41-.59l7.78-7.78 2.81-2.81c.8-.78.8-2.07 0-2.86zM5.41 20L4 18.59l7.72-7.72 1.47 1.35L5.41 20z\"/>\n",
              "  </svg>\n",
              "      </button>\n",
              "      \n",
              "  <style>\n",
              "    .colab-df-container {\n",
              "      display:flex;\n",
              "      flex-wrap:wrap;\n",
              "      gap: 12px;\n",
              "    }\n",
              "\n",
              "    .colab-df-convert {\n",
              "      background-color: #E8F0FE;\n",
              "      border: none;\n",
              "      border-radius: 50%;\n",
              "      cursor: pointer;\n",
              "      display: none;\n",
              "      fill: #1967D2;\n",
              "      height: 32px;\n",
              "      padding: 0 0 0 0;\n",
              "      width: 32px;\n",
              "    }\n",
              "\n",
              "    .colab-df-convert:hover {\n",
              "      background-color: #E2EBFA;\n",
              "      box-shadow: 0px 1px 2px rgba(60, 64, 67, 0.3), 0px 1px 3px 1px rgba(60, 64, 67, 0.15);\n",
              "      fill: #174EA6;\n",
              "    }\n",
              "\n",
              "    [theme=dark] .colab-df-convert {\n",
              "      background-color: #3B4455;\n",
              "      fill: #D2E3FC;\n",
              "    }\n",
              "\n",
              "    [theme=dark] .colab-df-convert:hover {\n",
              "      background-color: #434B5C;\n",
              "      box-shadow: 0px 1px 3px 1px rgba(0, 0, 0, 0.15);\n",
              "      filter: drop-shadow(0px 1px 2px rgba(0, 0, 0, 0.3));\n",
              "      fill: #FFFFFF;\n",
              "    }\n",
              "  </style>\n",
              "\n",
              "      <script>\n",
              "        const buttonEl =\n",
              "          document.querySelector('#df-09bf4956-9bc6-4fd1-bca5-8f63c06eb96a button.colab-df-convert');\n",
              "        buttonEl.style.display =\n",
              "          google.colab.kernel.accessAllowed ? 'block' : 'none';\n",
              "\n",
              "        async function convertToInteractive(key) {\n",
              "          const element = document.querySelector('#df-09bf4956-9bc6-4fd1-bca5-8f63c06eb96a');\n",
              "          const dataTable =\n",
              "            await google.colab.kernel.invokeFunction('convertToInteractive',\n",
              "                                                     [key], {});\n",
              "          if (!dataTable) return;\n",
              "\n",
              "          const docLinkHtml = 'Like what you see? Visit the ' +\n",
              "            '<a target=\"_blank\" href=https://colab.research.google.com/notebooks/data_table.ipynb>data table notebook</a>'\n",
              "            + ' to learn more about interactive tables.';\n",
              "          element.innerHTML = '';\n",
              "          dataTable['output_type'] = 'display_data';\n",
              "          await google.colab.output.renderOutput(dataTable, element);\n",
              "          const docLink = document.createElement('div');\n",
              "          docLink.innerHTML = docLinkHtml;\n",
              "          element.appendChild(docLink);\n",
              "        }\n",
              "      </script>\n",
              "    </div>\n",
              "  </div>\n",
              "  "
            ]
          },
          "metadata": {},
          "execution_count": 54
        }
      ],
      "source": [
        "rmse_vals = {'DTR_OE'   : rmse_model_dtr_oe,\n",
        "             'LR_OHE'   : rmse_lr_ohe,\n",
        "             'LR_OE'    : rmse_lr_oe,\n",
        "             'CBR_OHE'  : rmse_model_cbr_ohe,\n",
        "             'CBR_OE'   : rmse_model_cbr_oe,\n",
        "             'LGBMR_OHE': rmse_model_lgbmr_ohe,\n",
        "             'LGBMR_OE' : rmse_model_lgbmr_oe\n",
        "}\n",
        "rmse_subtotals = pd.DataFrame(rmse_vals, index=[1])\n",
        "rmse_subtotals"
      ]
    },
    {
      "cell_type": "code",
      "execution_count": 55,
      "metadata": {
        "id": "D_9tHd0RRh2Z",
        "outputId": "70f19ee4-f2ae-4116-bc3e-3b71839b7c3f",
        "colab": {
          "base_uri": "https://localhost:8080/",
          "height": 300
        }
      },
      "outputs": [
        {
          "output_type": "execute_result",
          "data": {
            "text/plain": [
              "                         DTR_OE CBR_OHE CBR_OE LGBMR_OHE LGBMR_OE\n",
              "criterion         squared_error                                  \n",
              "max_depth                    22                     11.0     11.0\n",
              "max_features               auto                                  \n",
              "min_samples_leaf              4                                  \n",
              "depth                              16.0   16.0                   \n",
              "iterations                         60.0   60.0                   \n",
              "learning_rate                       0.8    0.8       0.8      0.8\n",
              "num_leaves                                          40.0     50.0"
            ],
            "text/html": [
              "\n",
              "  <div id=\"df-997121ce-f43b-4249-acd2-912d868d2c42\">\n",
              "    <div class=\"colab-df-container\">\n",
              "      <div>\n",
              "<style scoped>\n",
              "    .dataframe tbody tr th:only-of-type {\n",
              "        vertical-align: middle;\n",
              "    }\n",
              "\n",
              "    .dataframe tbody tr th {\n",
              "        vertical-align: top;\n",
              "    }\n",
              "\n",
              "    .dataframe thead th {\n",
              "        text-align: right;\n",
              "    }\n",
              "</style>\n",
              "<table border=\"1\" class=\"dataframe\">\n",
              "  <thead>\n",
              "    <tr style=\"text-align: right;\">\n",
              "      <th></th>\n",
              "      <th>DTR_OE</th>\n",
              "      <th>CBR_OHE</th>\n",
              "      <th>CBR_OE</th>\n",
              "      <th>LGBMR_OHE</th>\n",
              "      <th>LGBMR_OE</th>\n",
              "    </tr>\n",
              "  </thead>\n",
              "  <tbody>\n",
              "    <tr>\n",
              "      <th>criterion</th>\n",
              "      <td>squared_error</td>\n",
              "      <td></td>\n",
              "      <td></td>\n",
              "      <td></td>\n",
              "      <td></td>\n",
              "    </tr>\n",
              "    <tr>\n",
              "      <th>max_depth</th>\n",
              "      <td>22</td>\n",
              "      <td></td>\n",
              "      <td></td>\n",
              "      <td>11.0</td>\n",
              "      <td>11.0</td>\n",
              "    </tr>\n",
              "    <tr>\n",
              "      <th>max_features</th>\n",
              "      <td>auto</td>\n",
              "      <td></td>\n",
              "      <td></td>\n",
              "      <td></td>\n",
              "      <td></td>\n",
              "    </tr>\n",
              "    <tr>\n",
              "      <th>min_samples_leaf</th>\n",
              "      <td>4</td>\n",
              "      <td></td>\n",
              "      <td></td>\n",
              "      <td></td>\n",
              "      <td></td>\n",
              "    </tr>\n",
              "    <tr>\n",
              "      <th>depth</th>\n",
              "      <td></td>\n",
              "      <td>16.0</td>\n",
              "      <td>16.0</td>\n",
              "      <td></td>\n",
              "      <td></td>\n",
              "    </tr>\n",
              "    <tr>\n",
              "      <th>iterations</th>\n",
              "      <td></td>\n",
              "      <td>60.0</td>\n",
              "      <td>60.0</td>\n",
              "      <td></td>\n",
              "      <td></td>\n",
              "    </tr>\n",
              "    <tr>\n",
              "      <th>learning_rate</th>\n",
              "      <td></td>\n",
              "      <td>0.8</td>\n",
              "      <td>0.8</td>\n",
              "      <td>0.8</td>\n",
              "      <td>0.8</td>\n",
              "    </tr>\n",
              "    <tr>\n",
              "      <th>num_leaves</th>\n",
              "      <td></td>\n",
              "      <td></td>\n",
              "      <td></td>\n",
              "      <td>40.0</td>\n",
              "      <td>50.0</td>\n",
              "    </tr>\n",
              "  </tbody>\n",
              "</table>\n",
              "</div>\n",
              "      <button class=\"colab-df-convert\" onclick=\"convertToInteractive('df-997121ce-f43b-4249-acd2-912d868d2c42')\"\n",
              "              title=\"Convert this dataframe to an interactive table.\"\n",
              "              style=\"display:none;\">\n",
              "        \n",
              "  <svg xmlns=\"http://www.w3.org/2000/svg\" height=\"24px\"viewBox=\"0 0 24 24\"\n",
              "       width=\"24px\">\n",
              "    <path d=\"M0 0h24v24H0V0z\" fill=\"none\"/>\n",
              "    <path d=\"M18.56 5.44l.94 2.06.94-2.06 2.06-.94-2.06-.94-.94-2.06-.94 2.06-2.06.94zm-11 1L8.5 8.5l.94-2.06 2.06-.94-2.06-.94L8.5 2.5l-.94 2.06-2.06.94zm10 10l.94 2.06.94-2.06 2.06-.94-2.06-.94-.94-2.06-.94 2.06-2.06.94z\"/><path d=\"M17.41 7.96l-1.37-1.37c-.4-.4-.92-.59-1.43-.59-.52 0-1.04.2-1.43.59L10.3 9.45l-7.72 7.72c-.78.78-.78 2.05 0 2.83L4 21.41c.39.39.9.59 1.41.59.51 0 1.02-.2 1.41-.59l7.78-7.78 2.81-2.81c.8-.78.8-2.07 0-2.86zM5.41 20L4 18.59l7.72-7.72 1.47 1.35L5.41 20z\"/>\n",
              "  </svg>\n",
              "      </button>\n",
              "      \n",
              "  <style>\n",
              "    .colab-df-container {\n",
              "      display:flex;\n",
              "      flex-wrap:wrap;\n",
              "      gap: 12px;\n",
              "    }\n",
              "\n",
              "    .colab-df-convert {\n",
              "      background-color: #E8F0FE;\n",
              "      border: none;\n",
              "      border-radius: 50%;\n",
              "      cursor: pointer;\n",
              "      display: none;\n",
              "      fill: #1967D2;\n",
              "      height: 32px;\n",
              "      padding: 0 0 0 0;\n",
              "      width: 32px;\n",
              "    }\n",
              "\n",
              "    .colab-df-convert:hover {\n",
              "      background-color: #E2EBFA;\n",
              "      box-shadow: 0px 1px 2px rgba(60, 64, 67, 0.3), 0px 1px 3px 1px rgba(60, 64, 67, 0.15);\n",
              "      fill: #174EA6;\n",
              "    }\n",
              "\n",
              "    [theme=dark] .colab-df-convert {\n",
              "      background-color: #3B4455;\n",
              "      fill: #D2E3FC;\n",
              "    }\n",
              "\n",
              "    [theme=dark] .colab-df-convert:hover {\n",
              "      background-color: #434B5C;\n",
              "      box-shadow: 0px 1px 3px 1px rgba(0, 0, 0, 0.15);\n",
              "      filter: drop-shadow(0px 1px 2px rgba(0, 0, 0, 0.3));\n",
              "      fill: #FFFFFF;\n",
              "    }\n",
              "  </style>\n",
              "\n",
              "      <script>\n",
              "        const buttonEl =\n",
              "          document.querySelector('#df-997121ce-f43b-4249-acd2-912d868d2c42 button.colab-df-convert');\n",
              "        buttonEl.style.display =\n",
              "          google.colab.kernel.accessAllowed ? 'block' : 'none';\n",
              "\n",
              "        async function convertToInteractive(key) {\n",
              "          const element = document.querySelector('#df-997121ce-f43b-4249-acd2-912d868d2c42');\n",
              "          const dataTable =\n",
              "            await google.colab.kernel.invokeFunction('convertToInteractive',\n",
              "                                                     [key], {});\n",
              "          if (!dataTable) return;\n",
              "\n",
              "          const docLinkHtml = 'Like what you see? Visit the ' +\n",
              "            '<a target=\"_blank\" href=https://colab.research.google.com/notebooks/data_table.ipynb>data table notebook</a>'\n",
              "            + ' to learn more about interactive tables.';\n",
              "          element.innerHTML = '';\n",
              "          dataTable['output_type'] = 'display_data';\n",
              "          await google.colab.output.renderOutput(dataTable, element);\n",
              "          const docLink = document.createElement('div');\n",
              "          docLink.innerHTML = docLinkHtml;\n",
              "          element.appendChild(docLink);\n",
              "        }\n",
              "      </script>\n",
              "    </div>\n",
              "  </div>\n",
              "  "
            ]
          },
          "metadata": {},
          "execution_count": 55
        }
      ],
      "source": [
        "# Best hyperparameters\n",
        "params_vals = {'DTR_OE'     : grid_dtr_oe.best_params_,\n",
        "               'CBR_OHE'    : grid_cbr_ohe.best_params_,\n",
        "               'CBR_OE'     : grid_cbr_oe.best_params_,\n",
        "               'LGBMR_OHE'  : grid_lgbmr_ohe.best_params_,\n",
        "               'LGBMR_OE'   : grid_lgbmr_oe.best_params_\n",
        "}\n",
        "params_df = pd.DataFrame(params_vals)\n",
        "params_df.fillna('', inplace=True)\n",
        "params_df"
      ]
    },
    {
      "cell_type": "markdown",
      "metadata": {
        "id": "vVNYzp3tRh2a"
      },
      "source": [
        "## Model analysis <a class=\"anchor\" id=\"model-analysis\"></a>"
      ]
    },
    {
      "cell_type": "markdown",
      "metadata": {
        "id": "SdDOgEDlRh2b"
      },
      "source": [
        "### Model training <a class=\"anchor\" id=\"model-training\"></a>\n",
        "\n",
        "Based on the obtained results, we will use the best hyperparameters for the selected models and conduct an experiment with training on the test set. The metric used will be RMSE. We will measure the execution time in seconds using a separate variable instead of the _magic_ command `%%time`, for subsequent addition to the table."
      ]
    },
    {
      "cell_type": "code",
      "source": [
        "params_df.iloc[7, 3]"
      ],
      "metadata": {
        "colab": {
          "base_uri": "https://localhost:8080/"
        },
        "id": "7F2gPSdcnfA5",
        "outputId": "61c1ccfe-48f1-4829-dc06-328894def11b"
      },
      "execution_count": 56,
      "outputs": [
        {
          "output_type": "execute_result",
          "data": {
            "text/plain": [
              "40.0"
            ]
          },
          "metadata": {},
          "execution_count": 56
        }
      ]
    },
    {
      "cell_type": "code",
      "execution_count": 57,
      "metadata": {
        "id": "WFwb-UF4Rh2b"
      },
      "outputs": [],
      "source": [
        "# For greater clarity, all the tuned hyperparameters will be added to variables\n",
        "# DTR_OE:\n",
        "dtr_oe_criterion = params_df.iloc[0, 0]\n",
        "dtr_oe_max_depth = params_df.iloc[1, 0]\n",
        "dtr_oe_max_features = params_df.iloc[2, 0]\n",
        "dtr_oe_min_samples_leaf = params_df.iloc[3, 0]\n",
        "\n",
        "# CBR_OHE:\n",
        "cbr_ohe_depth = params_df.iloc[4, 1]\n",
        "cbr_ohe_iterations = params_df.iloc[5, 1]\n",
        "cbr_ohe_learn_rate = params_df.iloc[6, 1]\n",
        "# CBR_OE:\n",
        "cbr_oe_depth = params_df.iloc[4, 2]\n",
        "cbr_oe_iterations = params_df.iloc[5, 2]\n",
        "cbr_oe_learn_rate = params_df.iloc[6, 2]\n",
        "\n",
        "# LGBMR_OHE:\n",
        "lgbmr_ohe_max_depth = int(params_df.iloc[1, 3])\n",
        "lgbmr_ohe_learning_rate = params_df.iloc[6, 3]\n",
        "lgbmr_ohe_num_leaves = int(params_df.iloc[7, 3])\n",
        "# LGBMR_OE:\n",
        "lgbmr_oe_max_depth = int(params_df.iloc[1, 4])\n",
        "lgbmr_oe_learning_rate = params_df.iloc[6, 4]\n",
        "lgbmr_oe_num_leaves = int(params_df.iloc[7, 4])"
      ]
    },
    {
      "cell_type": "markdown",
      "metadata": {
        "id": "ZpHMZXprRh2b"
      },
      "source": [
        "**DecisionTreeRegressor**"
      ]
    },
    {
      "cell_type": "code",
      "execution_count": 58,
      "metadata": {
        "id": "mA1q8mLARh2b",
        "outputId": "5df95438-b1ea-43b4-b3ff-a250f9b2eaed",
        "colab": {
          "base_uri": "https://localhost:8080/"
        }
      },
      "outputs": [
        {
          "output_type": "stream",
          "name": "stdout",
          "text": [
            "Model: DecisionTreeRegressor\n",
            "RMSE: 1016.85\n",
            "Completion time: 9.52 seconds\n"
          ]
        }
      ],
      "source": [
        "start = time.time()\n",
        "\n",
        "model_dtr_final = DecisionTreeRegressor(max_depth=dtr_oe_max_depth,\n",
        "                                        max_features=dtr_oe_max_features,\n",
        "                                        min_samples_leaf=dtr_oe_min_samples_leaf,\n",
        "                                        criterion=dtr_oe_criterion,\n",
        "                                        random_state=8080\n",
        "                                       )\n",
        "model_dtr_final.fit(features_ohe, target)\n",
        "predictions = model_dtr_final.predict(features_ohe)\n",
        "model_dtr_final_rmse = mean_squared_error(target, predictions) ** 0.5\n",
        "model_dtr_final_rmse = round(model_dtr_final_rmse, 2)\n",
        "\n",
        "end = time.time()\n",
        "run_time_dtr = end - start\n",
        "run_time_dtr = round(run_time_dtr, 2)\n",
        "\n",
        "print(f\"Model: {type(model_dtr_final).__name__}\")\n",
        "print(f\"RMSE: {model_dtr_final_rmse}\")\n",
        "print(f\"Completion time: {run_time_dtr} seconds\")"
      ]
    },
    {
      "cell_type": "markdown",
      "metadata": {
        "id": "GQxNqndVRh2c"
      },
      "source": [
        "**LinearRegression**"
      ]
    },
    {
      "cell_type": "code",
      "execution_count": 59,
      "metadata": {
        "id": "EsqVzF8HRh2c",
        "outputId": "42971a71-e746-4898-de0b-e24b03f62f13",
        "colab": {
          "base_uri": "https://localhost:8080/"
        }
      },
      "outputs": [
        {
          "output_type": "stream",
          "name": "stdout",
          "text": [
            "Model: LinearRegression\n",
            "RMSE: 1770.98\n",
            "Completion time: 13.44 seconds\n"
          ]
        }
      ],
      "source": [
        "start = time.time()\n",
        "\n",
        "model_lr_final = LinearRegression()\n",
        "model_lr_final.fit(features_ohe, target)\n",
        "predictions = model_lr_final.predict(features_ohe)\n",
        "model_lr_final_rmse = mean_squared_error(target, predictions) ** 0.5\n",
        "model_lr_final_rmse = round(model_lr_final_rmse, 2)\n",
        "\n",
        "end = time.time()\n",
        "run_time_lr = end - start\n",
        "run_time_lr = round(run_time_lr, 2)\n",
        "\n",
        "print(f\"Model: {type(model_lr_final).__name__}\")\n",
        "print(f\"RMSE: {model_lr_final_rmse}\")\n",
        "print(f\"Completion time: {run_time_lr} seconds\")"
      ]
    },
    {
      "cell_type": "markdown",
      "metadata": {
        "id": "lK-7hRvCRh2c"
      },
      "source": [
        "**CatBoostRegressor**"
      ]
    },
    {
      "cell_type": "code",
      "execution_count": 60,
      "metadata": {
        "id": "IRFu79h0Rh2c",
        "outputId": "444cfafe-48ac-41d2-996a-b8620699c652",
        "colab": {
          "base_uri": "https://localhost:8080/"
        }
      },
      "outputs": [
        {
          "output_type": "stream",
          "name": "stdout",
          "text": [
            "Model: CatBoostRegressor\n",
            "RMSE: 1020.85\n",
            "Completion time: 81.95 seconds\n"
          ]
        }
      ],
      "source": [
        "start = time.time()\n",
        "\n",
        "model_cbr_final = CatBoostRegressor(depth=cbr_ohe_depth,\n",
        "                                    iterations=cbr_ohe_iterations,\n",
        "                                    learning_rate=cbr_ohe_learn_rate,\n",
        "                                    verbose=False\n",
        "                                   )\n",
        "model_cbr_final.fit(features_ohe, target)\n",
        "predictions = model_cbr_final.predict(features_ohe)\n",
        "model_cbr_final_rmse = mean_squared_error(target, predictions) ** 0.5\n",
        "model_cbr_final_rmse = round(model_cbr_final_rmse, 2)\n",
        "\n",
        "end = time.time()\n",
        "run_time_cbr = end - start\n",
        "run_time_cbr = round(run_time_cbr, 2)\n",
        "\n",
        "print(f\"Model: {type(model_cbr_final).__name__}\")\n",
        "print(f\"RMSE: {model_cbr_final_rmse}\")\n",
        "print(f\"Completion time: {run_time_cbr} seconds\")"
      ]
    },
    {
      "cell_type": "markdown",
      "metadata": {
        "id": "6C5WFnvkRh2d"
      },
      "source": [
        "**LGBMRegressor**"
      ]
    },
    {
      "cell_type": "code",
      "execution_count": 61,
      "metadata": {
        "id": "3fer276FRh2d",
        "outputId": "8a81fbaf-4482-45c7-c7ff-ea686c3f4738",
        "colab": {
          "base_uri": "https://localhost:8080/"
        }
      },
      "outputs": [
        {
          "output_type": "stream",
          "name": "stdout",
          "text": [
            "Model: LGBMRegressor\n",
            "RMSE: 1107.74\n",
            "Completion time: 7.18 seconds\n"
          ]
        }
      ],
      "source": [
        "start = time.time()\n",
        "\n",
        "model_lgbmr_final = LGBMRegressor(learning_rate=lgbmr_ohe_learning_rate,\n",
        "                                  max_depth=lgbmr_ohe_max_depth,\n",
        "                                  num_leaves=lgbmr_ohe_num_leaves\n",
        "                                 )\n",
        "model_lgbmr_final.fit(features_ohe, target)\n",
        "predictions = model_lgbmr_final.predict(features_ohe)\n",
        "model_lgbmr_final_rmse = mean_squared_error(target, predictions) ** 0.5\n",
        "model_lgbmr_final_rmse = round(model_lgbmr_final_rmse, 2)\n",
        "\n",
        "end = time.time()\n",
        "run_time_lgbmr = end - start\n",
        "run_time_lgbmr = round(run_time_lgbmr, 2)\n",
        "\n",
        "print(f\"Model: {type(model_lgbmr_final).__name__}\")\n",
        "print(f\"RMSE: {model_lgbmr_final_rmse}\")\n",
        "print(f\"Completion time: {run_time_lgbmr} seconds\")"
      ]
    },
    {
      "cell_type": "markdown",
      "metadata": {
        "id": "9H164D0CRh2d"
      },
      "source": [
        "### Test dataset <a class=\"anchor\" id=\"model-test\"></a>\n",
        "\n",
        "Let's conduct testing of the trained models on the dataset encoded using `One-Hot Encoding` method:\n",
        "\n",
        "**DecisionTreeRegressor**"
      ]
    },
    {
      "cell_type": "code",
      "execution_count": 62,
      "metadata": {
        "id": "f2KZ2Y--Rh2e",
        "outputId": "9b0d816a-3036-41cc-fbec-9ac0be21d233",
        "colab": {
          "base_uri": "https://localhost:8080/"
        }
      },
      "outputs": [
        {
          "output_type": "stream",
          "name": "stdout",
          "text": [
            "Model: DecisionTreeRegressor\n",
            "RMSE: 1013.67\n",
            "Completion time: 1.66 seconds\n"
          ]
        }
      ],
      "source": [
        "start = time.time()\n",
        "\n",
        "model_dtr_test = DecisionTreeRegressor(max_depth=dtr_oe_max_depth,\n",
        "                                       max_features=dtr_oe_max_features,\n",
        "                                       min_samples_leaf=dtr_oe_min_samples_leaf,\n",
        "                                       criterion=dtr_oe_criterion,\n",
        "                                       random_state=8080\n",
        "                                      )\n",
        "model_dtr_test.fit(X_ohe_test, y_test)\n",
        "predictions = model_dtr_test.predict(X_ohe_test)\n",
        "model_dtr_test_rmse = mean_squared_error(y_test, predictions) ** 0.5\n",
        "model_dtr_test_rmse = round(model_dtr_test_rmse, 2)\n",
        "\n",
        "end = time.time()\n",
        "run_time_dtr_test = end - start\n",
        "run_time_dtr_test = round(run_time_dtr_test, 2)\n",
        "\n",
        "print(f\"Model: {type(model_dtr_test).__name__}\")\n",
        "print(f\"RMSE: {model_dtr_test_rmse}\")\n",
        "print(f\"Completion time: {run_time_dtr_test} seconds\")"
      ]
    },
    {
      "cell_type": "markdown",
      "metadata": {
        "id": "i_HTDSQDRh2e"
      },
      "source": [
        "**LinearRegression**"
      ]
    },
    {
      "cell_type": "code",
      "execution_count": 63,
      "metadata": {
        "id": "jT8I7va4Rh2e",
        "outputId": "e689131c-e2e6-4086-ad61-389fb563024d",
        "colab": {
          "base_uri": "https://localhost:8080/"
        }
      },
      "outputs": [
        {
          "output_type": "stream",
          "name": "stdout",
          "text": [
            "Model: LinearRegression\n",
            "RMSE: 1767.3\n",
            "Completion time: 2.4 seconds\n"
          ]
        }
      ],
      "source": [
        "start = time.time()\n",
        "\n",
        "model_lr_test = LinearRegression()\n",
        "model_lr_test.fit(X_ohe_test, y_test)\n",
        "predictions = model_lr_test.predict(X_ohe_test)\n",
        "model_lr_test_rmse = mean_squared_error(y_test, predictions) ** 0.5\n",
        "model_lr_test_rmse = round(model_lr_test_rmse, 2)\n",
        "\n",
        "end = time.time()\n",
        "run_time_lr_test = end - start\n",
        "run_time_lr_test = round(run_time_lr_test, 2)\n",
        "\n",
        "print(f\"Model: {type(model_lr_test).__name__}\")\n",
        "print(f\"RMSE: {model_lr_test_rmse}\")\n",
        "print(f\"Completion time: {run_time_lr_test} seconds\")"
      ]
    },
    {
      "cell_type": "markdown",
      "metadata": {
        "id": "CYPbJ5iTRh2f"
      },
      "source": [
        "**CatBoostRegressor**"
      ]
    },
    {
      "cell_type": "code",
      "execution_count": 64,
      "metadata": {
        "id": "sD37TiXtRh2f",
        "outputId": "70f72c49-daba-464f-ebd2-f7ab404b0a93",
        "colab": {
          "base_uri": "https://localhost:8080/"
        }
      },
      "outputs": [
        {
          "output_type": "stream",
          "name": "stdout",
          "text": [
            "Model: CatBoostRegressor\n",
            "RMSE: 928.4\n",
            "Completion time: 64.21 seconds\n"
          ]
        }
      ],
      "source": [
        "start = time.time()\n",
        "\n",
        "model_cbr_test = CatBoostRegressor(depth=cbr_ohe_depth,\n",
        "                                   iterations=cbr_ohe_iterations,\n",
        "                                   learning_rate=cbr_ohe_learn_rate,\n",
        "                                   verbose=False\n",
        "                                  )\n",
        "model_cbr_test.fit(X_ohe_test, y_test)\n",
        "predictions = model_cbr_test.predict(X_ohe_test)\n",
        "model_cbr_test_rmse = mean_squared_error(y_test, predictions) ** 0.5\n",
        "model_cbr_test_rmse = round(model_cbr_test_rmse, 2)\n",
        "\n",
        "end = time.time()\n",
        "run_time_cbr_test = end - start\n",
        "run_time_cbr_test = round(run_time_cbr_test, 2)\n",
        "\n",
        "print(f\"Model: {type(model_cbr_test).__name__}\")\n",
        "print(f\"RMSE: {model_cbr_test_rmse}\")\n",
        "print(f\"Completion time: {run_time_cbr_test} seconds\")"
      ]
    },
    {
      "cell_type": "markdown",
      "metadata": {
        "id": "LnfqucTKRh2f"
      },
      "source": [
        "**LGBMRegressor**"
      ]
    },
    {
      "cell_type": "code",
      "execution_count": 65,
      "metadata": {
        "id": "OAoviRMnRh2f",
        "outputId": "142be357-2d09-4b54-e09c-dfc8ab666666",
        "colab": {
          "base_uri": "https://localhost:8080/"
        }
      },
      "outputs": [
        {
          "output_type": "stream",
          "name": "stdout",
          "text": [
            "Model: LGBMRegressor\n",
            "RMSE: 1045.59\n",
            "Completion time: 1.38 seconds\n"
          ]
        }
      ],
      "source": [
        "start = time.time()\n",
        "\n",
        "model_lgbmr_test = LGBMRegressor(learning_rate=lgbmr_ohe_learning_rate,\n",
        "                                 max_depth=lgbmr_ohe_max_depth,\n",
        "                                 num_leaves=lgbmr_ohe_num_leaves\n",
        "                                )\n",
        "model_lgbmr_test.fit(X_ohe_test, y_test)\n",
        "predictions = model_lgbmr_test.predict(X_ohe_test)\n",
        "model_lgbmr_test_rmse = mean_squared_error(y_test, predictions) ** 0.5\n",
        "model_lgbmr_test_rmse = round(model_lgbmr_test_rmse, 2)\n",
        "\n",
        "end = time.time()\n",
        "run_time_lgbmr_test = end - start\n",
        "run_time_lgbmr_test = round(run_time_lgbmr_test, 2)\n",
        "\n",
        "print(f\"Model: {type(model_lgbmr_test).__name__}\")\n",
        "print(f\"RMSE: {model_lgbmr_test_rmse}\")\n",
        "print(f\"Completion time: {run_time_lgbmr_test} seconds\")"
      ]
    },
    {
      "cell_type": "markdown",
      "metadata": {
        "id": "okl-cLoLRh2g"
      },
      "source": [
        "### Final results <a class=\"anchor\" id=\"model-final-results\"></a>\n",
        "\n",
        "Let's gather all the obtained data in DF."
      ]
    },
    {
      "cell_type": "code",
      "execution_count": 66,
      "metadata": {
        "id": "bskBe8xmRh2g",
        "outputId": "dde657fc-5b22-4263-9385-69b565c775a9",
        "colab": {
          "base_uri": "https://localhost:8080/",
          "height": 218
        }
      },
      "outputs": [
        {
          "output_type": "execute_result",
          "data": {
            "text/plain": [
              "                       RMSE (train features)  RMSE (test features)  \\\n",
              "DecisionTreeRegressor                1016.85               1013.67   \n",
              "LinearRegression                     1770.98               1767.30   \n",
              "CatBoostRegressor                    1020.85                928.40   \n",
              "LGBMRegressor                        1107.74               1045.59   \n",
              "\n",
              "                       Time (train features)  Time (test features)  \n",
              "DecisionTreeRegressor                   9.52                  1.66  \n",
              "LinearRegression                       13.44                  2.40  \n",
              "CatBoostRegressor                      81.95                 64.21  \n",
              "LGBMRegressor                           7.18                  1.38  "
            ],
            "text/html": [
              "\n",
              "  <div id=\"df-beeb953b-004a-4cce-962e-33281c9f3a98\">\n",
              "    <div class=\"colab-df-container\">\n",
              "      <div>\n",
              "<style scoped>\n",
              "    .dataframe tbody tr th:only-of-type {\n",
              "        vertical-align: middle;\n",
              "    }\n",
              "\n",
              "    .dataframe tbody tr th {\n",
              "        vertical-align: top;\n",
              "    }\n",
              "\n",
              "    .dataframe thead th {\n",
              "        text-align: right;\n",
              "    }\n",
              "</style>\n",
              "<table border=\"1\" class=\"dataframe\">\n",
              "  <thead>\n",
              "    <tr style=\"text-align: right;\">\n",
              "      <th></th>\n",
              "      <th>RMSE (train features)</th>\n",
              "      <th>RMSE (test features)</th>\n",
              "      <th>Time (train features)</th>\n",
              "      <th>Time (test features)</th>\n",
              "    </tr>\n",
              "  </thead>\n",
              "  <tbody>\n",
              "    <tr>\n",
              "      <th>DecisionTreeRegressor</th>\n",
              "      <td>1016.85</td>\n",
              "      <td>1013.67</td>\n",
              "      <td>9.52</td>\n",
              "      <td>1.66</td>\n",
              "    </tr>\n",
              "    <tr>\n",
              "      <th>LinearRegression</th>\n",
              "      <td>1770.98</td>\n",
              "      <td>1767.30</td>\n",
              "      <td>13.44</td>\n",
              "      <td>2.40</td>\n",
              "    </tr>\n",
              "    <tr>\n",
              "      <th>CatBoostRegressor</th>\n",
              "      <td>1020.85</td>\n",
              "      <td>928.40</td>\n",
              "      <td>81.95</td>\n",
              "      <td>64.21</td>\n",
              "    </tr>\n",
              "    <tr>\n",
              "      <th>LGBMRegressor</th>\n",
              "      <td>1107.74</td>\n",
              "      <td>1045.59</td>\n",
              "      <td>7.18</td>\n",
              "      <td>1.38</td>\n",
              "    </tr>\n",
              "  </tbody>\n",
              "</table>\n",
              "</div>\n",
              "      <button class=\"colab-df-convert\" onclick=\"convertToInteractive('df-beeb953b-004a-4cce-962e-33281c9f3a98')\"\n",
              "              title=\"Convert this dataframe to an interactive table.\"\n",
              "              style=\"display:none;\">\n",
              "        \n",
              "  <svg xmlns=\"http://www.w3.org/2000/svg\" height=\"24px\"viewBox=\"0 0 24 24\"\n",
              "       width=\"24px\">\n",
              "    <path d=\"M0 0h24v24H0V0z\" fill=\"none\"/>\n",
              "    <path d=\"M18.56 5.44l.94 2.06.94-2.06 2.06-.94-2.06-.94-.94-2.06-.94 2.06-2.06.94zm-11 1L8.5 8.5l.94-2.06 2.06-.94-2.06-.94L8.5 2.5l-.94 2.06-2.06.94zm10 10l.94 2.06.94-2.06 2.06-.94-2.06-.94-.94-2.06-.94 2.06-2.06.94z\"/><path d=\"M17.41 7.96l-1.37-1.37c-.4-.4-.92-.59-1.43-.59-.52 0-1.04.2-1.43.59L10.3 9.45l-7.72 7.72c-.78.78-.78 2.05 0 2.83L4 21.41c.39.39.9.59 1.41.59.51 0 1.02-.2 1.41-.59l7.78-7.78 2.81-2.81c.8-.78.8-2.07 0-2.86zM5.41 20L4 18.59l7.72-7.72 1.47 1.35L5.41 20z\"/>\n",
              "  </svg>\n",
              "      </button>\n",
              "      \n",
              "  <style>\n",
              "    .colab-df-container {\n",
              "      display:flex;\n",
              "      flex-wrap:wrap;\n",
              "      gap: 12px;\n",
              "    }\n",
              "\n",
              "    .colab-df-convert {\n",
              "      background-color: #E8F0FE;\n",
              "      border: none;\n",
              "      border-radius: 50%;\n",
              "      cursor: pointer;\n",
              "      display: none;\n",
              "      fill: #1967D2;\n",
              "      height: 32px;\n",
              "      padding: 0 0 0 0;\n",
              "      width: 32px;\n",
              "    }\n",
              "\n",
              "    .colab-df-convert:hover {\n",
              "      background-color: #E2EBFA;\n",
              "      box-shadow: 0px 1px 2px rgba(60, 64, 67, 0.3), 0px 1px 3px 1px rgba(60, 64, 67, 0.15);\n",
              "      fill: #174EA6;\n",
              "    }\n",
              "\n",
              "    [theme=dark] .colab-df-convert {\n",
              "      background-color: #3B4455;\n",
              "      fill: #D2E3FC;\n",
              "    }\n",
              "\n",
              "    [theme=dark] .colab-df-convert:hover {\n",
              "      background-color: #434B5C;\n",
              "      box-shadow: 0px 1px 3px 1px rgba(0, 0, 0, 0.15);\n",
              "      filter: drop-shadow(0px 1px 2px rgba(0, 0, 0, 0.3));\n",
              "      fill: #FFFFFF;\n",
              "    }\n",
              "  </style>\n",
              "\n",
              "      <script>\n",
              "        const buttonEl =\n",
              "          document.querySelector('#df-beeb953b-004a-4cce-962e-33281c9f3a98 button.colab-df-convert');\n",
              "        buttonEl.style.display =\n",
              "          google.colab.kernel.accessAllowed ? 'block' : 'none';\n",
              "\n",
              "        async function convertToInteractive(key) {\n",
              "          const element = document.querySelector('#df-beeb953b-004a-4cce-962e-33281c9f3a98');\n",
              "          const dataTable =\n",
              "            await google.colab.kernel.invokeFunction('convertToInteractive',\n",
              "                                                     [key], {});\n",
              "          if (!dataTable) return;\n",
              "\n",
              "          const docLinkHtml = 'Like what you see? Visit the ' +\n",
              "            '<a target=\"_blank\" href=https://colab.research.google.com/notebooks/data_table.ipynb>data table notebook</a>'\n",
              "            + ' to learn more about interactive tables.';\n",
              "          element.innerHTML = '';\n",
              "          dataTable['output_type'] = 'display_data';\n",
              "          await google.colab.output.renderOutput(dataTable, element);\n",
              "          const docLink = document.createElement('div');\n",
              "          docLink.innerHTML = docLinkHtml;\n",
              "          element.appendChild(docLink);\n",
              "        }\n",
              "      </script>\n",
              "    </div>\n",
              "  </div>\n",
              "  "
            ]
          },
          "metadata": {},
          "execution_count": 66
        }
      ],
      "source": [
        "final_data = {'RMSE (train features)' : [model_dtr_final_rmse, model_lr_final_rmse,\n",
        "                                         model_cbr_final_rmse, model_lgbmr_final_rmse],\n",
        "              'RMSE (test features)'  : [model_dtr_test_rmse, model_lr_test_rmse,\n",
        "                                         model_cbr_test_rmse, model_lgbmr_test_rmse],\n",
        "              'Time (train features)' : [run_time_dtr, run_time_lr,\n",
        "                                         run_time_cbr, run_time_lgbmr],\n",
        "              'Time (test features)'  : [run_time_dtr_test, run_time_lr_test,\n",
        "                                         run_time_cbr_test, run_time_lgbmr_test]\n",
        "             }\n",
        "indexes = [type(model_dtr).__name__, type(model_lr).__name__,\n",
        "           type(model_cbr).__name__, type(model_lgbmr).__name__]\n",
        "final = pd.DataFrame(data=final_data, index=indexes)\n",
        "final"
      ]
    },
    {
      "cell_type": "markdown",
      "metadata": {
        "id": "_42dmmwIRh2i"
      },
      "source": [
        "## Conclusion <a class=\"anchor\" id=\"conclusion\"></a>\n",
        "\n",
        "During the study, we conducted the following:\n",
        "\n",
        "1. Analyzed and replaced missing values in features, thus reducing the data by 26.66%.\n",
        "    - Filtered out reasonable prices by using 5% and 90% quantiles.\n",
        "    - Defined a relevant period of car registration: 1950-2016.\n",
        "    - Kept only the ads with correct technical characteristics (transmission, engine power, fuel type) based on the analysis results.\n",
        "2. Cleaned the dataframe from unnecessary data.\n",
        "3. Found a correlation between the price and the date of car registration and its power with coefficients `r=0.47` and `r=0.43`, respectively.\n",
        "4. Prepared datasets for analysis with a 75% training set and a 25% test set.\n",
        "5. Chose four training models: `DecisionTreeRegressor`, `LinearRegression`, `CatBoostRegressor`, and `LGBMRegressor`.\n",
        "6. Tuned the optimal parameters for them using `GridSearchCV`.\n",
        "7. Determined the `RMSE` metric on datasets encoded using `One-Hot` and `Ordinal Encoding` methods.\n",
        "8. Trained models with the best parameters on `train` and `test` datasets encoded using the OHE method. At this stage, the execution time of the cell (model training speed) was also obtained.\n",
        "9. Compiled a final table with stats of models and selected the **best model** (in the cell below)."
      ]
    },
    {
      "cell_type": "code",
      "execution_count": 67,
      "metadata": {
        "id": "l-LgLmqURh2i",
        "outputId": "84002fd8-a0c0-4893-e424-3bae4b32eb44",
        "colab": {
          "base_uri": "https://localhost:8080/"
        }
      },
      "outputs": [
        {
          "output_type": "stream",
          "name": "stdout",
          "text": [
            "Best model based on research results: CatBoostRegressor\n"
          ]
        }
      ],
      "source": [
        "best_model = final.sort_values(by='RMSE (test features)').index[0]\n",
        "print(f\"Best model based on research results: {best_model}\")"
      ]
    }
  ],
  "metadata": {
    "ExecuteTimeLog": [
      {
        "duration": 1278,
        "start_time": "2022-07-14T12:35:11.265Z"
      },
      {
        "duration": 1068,
        "start_time": "2022-07-14T12:35:12.545Z"
      },
      {
        "duration": 580,
        "start_time": "2022-07-14T12:35:13.615Z"
      },
      {
        "duration": 710,
        "start_time": "2022-07-14T12:35:14.197Z"
      },
      {
        "duration": 267,
        "start_time": "2022-07-14T12:35:14.908Z"
      },
      {
        "duration": 0,
        "start_time": "2022-07-14T12:35:15.177Z"
      },
      {
        "duration": 729,
        "start_time": "2022-07-14T12:35:33.421Z"
      },
      {
        "duration": 645,
        "start_time": "2022-07-14T12:35:56.545Z"
      },
      {
        "duration": 77960,
        "start_time": "2022-07-14T12:36:14.272Z"
      },
      {
        "duration": 101,
        "start_time": "2022-07-14T12:37:32.234Z"
      },
      {
        "duration": 536,
        "start_time": "2022-07-14T12:39:21.538Z"
      },
      {
        "duration": 33,
        "start_time": "2022-07-14T12:42:57.665Z"
      },
      {
        "duration": 21,
        "start_time": "2022-07-14T12:43:02.767Z"
      },
      {
        "duration": 21,
        "start_time": "2022-07-14T12:43:31.866Z"
      },
      {
        "duration": 19,
        "start_time": "2022-07-14T12:43:35.478Z"
      },
      {
        "duration": 22,
        "start_time": "2022-07-14T12:43:38.304Z"
      },
      {
        "duration": 92,
        "start_time": "2022-07-14T12:51:17.299Z"
      },
      {
        "duration": 45,
        "start_time": "2022-07-14T12:52:08.721Z"
      },
      {
        "duration": 38,
        "start_time": "2022-07-14T12:52:17.141Z"
      },
      {
        "duration": 8,
        "start_time": "2022-07-14T12:52:32.256Z"
      },
      {
        "duration": 9,
        "start_time": "2022-07-14T12:52:59.935Z"
      },
      {
        "duration": 9,
        "start_time": "2022-07-14T12:53:12.183Z"
      },
      {
        "duration": 9,
        "start_time": "2022-07-14T12:53:42.309Z"
      },
      {
        "duration": 11,
        "start_time": "2022-07-14T12:53:57.837Z"
      },
      {
        "duration": 12,
        "start_time": "2022-07-14T12:54:01.846Z"
      },
      {
        "duration": 8,
        "start_time": "2022-07-14T12:54:04.988Z"
      },
      {
        "duration": 12,
        "start_time": "2022-07-14T12:54:15.195Z"
      },
      {
        "duration": 5,
        "start_time": "2022-07-14T12:55:08.688Z"
      },
      {
        "duration": 6,
        "start_time": "2022-07-14T12:55:15.642Z"
      },
      {
        "duration": 93,
        "start_time": "2022-07-14T12:55:23.977Z"
      },
      {
        "duration": 8,
        "start_time": "2022-07-14T12:55:30.924Z"
      },
      {
        "duration": 7,
        "start_time": "2022-07-14T12:55:54.496Z"
      },
      {
        "duration": 9,
        "start_time": "2022-07-14T12:58:15.917Z"
      },
      {
        "duration": 7,
        "start_time": "2022-07-14T12:58:24.769Z"
      },
      {
        "duration": 5,
        "start_time": "2022-07-14T13:00:03.845Z"
      },
      {
        "duration": 14,
        "start_time": "2022-07-14T13:02:49.053Z"
      },
      {
        "duration": 20,
        "start_time": "2022-07-14T13:03:08.775Z"
      },
      {
        "duration": 15,
        "start_time": "2022-07-14T13:03:22.075Z"
      },
      {
        "duration": 28,
        "start_time": "2022-07-14T13:28:52.348Z"
      },
      {
        "duration": 34,
        "start_time": "2022-07-14T13:29:49.303Z"
      },
      {
        "duration": 29,
        "start_time": "2022-07-14T13:29:56.813Z"
      },
      {
        "duration": 39,
        "start_time": "2022-07-14T13:29:59.060Z"
      },
      {
        "duration": 25,
        "start_time": "2022-07-14T13:40:36.459Z"
      },
      {
        "duration": 11,
        "start_time": "2022-07-14T13:40:43.179Z"
      },
      {
        "duration": 49,
        "start_time": "2022-07-14T13:40:49.786Z"
      },
      {
        "duration": 42,
        "start_time": "2022-07-14T13:44:14.494Z"
      },
      {
        "duration": 41,
        "start_time": "2022-07-14T13:44:33.438Z"
      },
      {
        "duration": 47,
        "start_time": "2022-07-14T13:45:46.280Z"
      },
      {
        "duration": 39,
        "start_time": "2022-07-14T13:46:35.766Z"
      },
      {
        "duration": 56,
        "start_time": "2022-07-14T13:49:05.993Z"
      },
      {
        "duration": 44,
        "start_time": "2022-07-14T13:49:26.299Z"
      },
      {
        "duration": 30,
        "start_time": "2022-07-14T13:49:33.429Z"
      },
      {
        "duration": 44,
        "start_time": "2022-07-14T13:49:42.157Z"
      },
      {
        "duration": 30,
        "start_time": "2022-07-14T13:49:44.259Z"
      },
      {
        "duration": 30,
        "start_time": "2022-07-14T13:50:27.770Z"
      },
      {
        "duration": 35,
        "start_time": "2022-07-14T13:50:48.199Z"
      },
      {
        "duration": 56,
        "start_time": "2022-07-14T13:52:05.557Z"
      },
      {
        "duration": 40,
        "start_time": "2022-07-14T13:52:21.993Z"
      },
      {
        "duration": 74,
        "start_time": "2022-07-14T13:52:25.483Z"
      },
      {
        "duration": 33,
        "start_time": "2022-07-14T13:53:05.331Z"
      },
      {
        "duration": 50,
        "start_time": "2022-07-14T13:53:08.446Z"
      },
      {
        "duration": 36,
        "start_time": "2022-07-14T13:53:27.756Z"
      },
      {
        "duration": 39,
        "start_time": "2022-07-14T13:53:49.144Z"
      },
      {
        "duration": 40,
        "start_time": "2022-07-14T13:54:04.187Z"
      },
      {
        "duration": 35,
        "start_time": "2022-07-14T13:56:48.648Z"
      },
      {
        "duration": 43,
        "start_time": "2022-07-14T13:56:54.045Z"
      },
      {
        "duration": 37,
        "start_time": "2022-07-14T13:57:52.537Z"
      },
      {
        "duration": 7,
        "start_time": "2022-07-14T14:00:47.002Z"
      },
      {
        "duration": 8,
        "start_time": "2022-07-14T14:00:49.331Z"
      },
      {
        "duration": 7,
        "start_time": "2022-07-14T14:00:51.100Z"
      },
      {
        "duration": 6,
        "start_time": "2022-07-14T14:02:38.432Z"
      },
      {
        "duration": 6,
        "start_time": "2022-07-14T14:02:41.451Z"
      },
      {
        "duration": 8,
        "start_time": "2022-07-14T14:03:00.691Z"
      },
      {
        "duration": 9,
        "start_time": "2022-07-14T14:03:02.347Z"
      },
      {
        "duration": 8,
        "start_time": "2022-07-14T14:03:03.420Z"
      },
      {
        "duration": 8,
        "start_time": "2022-07-14T14:03:11.649Z"
      },
      {
        "duration": 8,
        "start_time": "2022-07-14T14:03:12.555Z"
      },
      {
        "duration": 8,
        "start_time": "2022-07-14T14:03:13.005Z"
      },
      {
        "duration": 14,
        "start_time": "2022-07-14T14:04:09.531Z"
      },
      {
        "duration": 13,
        "start_time": "2022-07-14T14:04:16.080Z"
      },
      {
        "duration": 13,
        "start_time": "2022-07-14T14:04:34.069Z"
      },
      {
        "duration": 15,
        "start_time": "2022-07-14T14:04:34.530Z"
      },
      {
        "duration": 13,
        "start_time": "2022-07-14T14:04:34.867Z"
      },
      {
        "duration": 14,
        "start_time": "2022-07-14T14:04:35.091Z"
      },
      {
        "duration": 12,
        "start_time": "2022-07-14T14:04:35.453Z"
      },
      {
        "duration": 13,
        "start_time": "2022-07-14T14:04:35.618Z"
      },
      {
        "duration": 7,
        "start_time": "2022-07-14T14:04:38.506Z"
      },
      {
        "duration": 9,
        "start_time": "2022-07-14T14:04:46.212Z"
      },
      {
        "duration": 9,
        "start_time": "2022-07-14T14:04:53.390Z"
      },
      {
        "duration": 10,
        "start_time": "2022-07-14T14:05:12.493Z"
      },
      {
        "duration": 8,
        "start_time": "2022-07-14T14:05:27.809Z"
      },
      {
        "duration": 12,
        "start_time": "2022-07-14T14:05:32.683Z"
      },
      {
        "duration": 27,
        "start_time": "2022-07-14T14:05:36.999Z"
      },
      {
        "duration": 20,
        "start_time": "2022-07-14T14:05:49.162Z"
      },
      {
        "duration": 9,
        "start_time": "2022-07-14T14:05:55.007Z"
      },
      {
        "duration": 13,
        "start_time": "2022-07-14T14:07:48.839Z"
      },
      {
        "duration": 3,
        "start_time": "2022-07-14T14:08:11.674Z"
      },
      {
        "duration": 10,
        "start_time": "2022-07-14T14:08:21.270Z"
      },
      {
        "duration": 1716,
        "start_time": "2022-07-14T14:08:23.754Z"
      },
      {
        "duration": 1192,
        "start_time": "2022-07-14T14:08:31.958Z"
      },
      {
        "duration": 12,
        "start_time": "2022-07-14T14:09:12.798Z"
      },
      {
        "duration": 2,
        "start_time": "2022-07-14T14:09:19.112Z"
      },
      {
        "duration": 1705,
        "start_time": "2022-07-14T14:09:27.130Z"
      },
      {
        "duration": 9,
        "start_time": "2022-07-14T14:09:39.100Z"
      },
      {
        "duration": 214,
        "start_time": "2022-07-14T14:09:57.304Z"
      },
      {
        "duration": 9,
        "start_time": "2022-07-14T14:10:01.135Z"
      },
      {
        "duration": 8,
        "start_time": "2022-07-14T14:10:01.955Z"
      },
      {
        "duration": 8,
        "start_time": "2022-07-14T14:10:02.301Z"
      },
      {
        "duration": 9,
        "start_time": "2022-07-14T14:10:02.523Z"
      },
      {
        "duration": 8,
        "start_time": "2022-07-14T14:10:02.669Z"
      },
      {
        "duration": 8,
        "start_time": "2022-07-14T14:10:02.837Z"
      },
      {
        "duration": 4,
        "start_time": "2022-07-14T14:11:34.646Z"
      },
      {
        "duration": 8,
        "start_time": "2022-07-14T14:11:47.322Z"
      },
      {
        "duration": 12,
        "start_time": "2022-07-14T14:11:50.268Z"
      },
      {
        "duration": 9,
        "start_time": "2022-07-14T14:11:51.574Z"
      },
      {
        "duration": 10,
        "start_time": "2022-07-14T14:12:15.605Z"
      },
      {
        "duration": 5,
        "start_time": "2022-07-14T14:12:45.373Z"
      },
      {
        "duration": 9,
        "start_time": "2022-07-14T14:12:57.618Z"
      },
      {
        "duration": 12,
        "start_time": "2022-07-14T14:13:11.449Z"
      },
      {
        "duration": 10,
        "start_time": "2022-07-14T14:13:20.710Z"
      },
      {
        "duration": 8,
        "start_time": "2022-07-14T14:13:24.162Z"
      },
      {
        "duration": 15,
        "start_time": "2022-07-14T14:14:03.813Z"
      },
      {
        "duration": 15,
        "start_time": "2022-07-14T14:14:10.835Z"
      },
      {
        "duration": 9,
        "start_time": "2022-07-14T14:15:10.042Z"
      },
      {
        "duration": 8,
        "start_time": "2022-07-14T14:15:53.665Z"
      },
      {
        "duration": 74,
        "start_time": "2022-07-14T14:16:25.533Z"
      },
      {
        "duration": 93,
        "start_time": "2022-07-14T14:16:45.457Z"
      },
      {
        "duration": 18,
        "start_time": "2022-07-14T14:17:17.302Z"
      },
      {
        "duration": 100,
        "start_time": "2022-07-14T14:17:32.990Z"
      },
      {
        "duration": 4,
        "start_time": "2022-07-14T14:17:44.456Z"
      },
      {
        "duration": 8,
        "start_time": "2022-07-14T14:17:52.466Z"
      },
      {
        "duration": 53,
        "start_time": "2022-07-14T14:17:59.835Z"
      },
      {
        "duration": 153,
        "start_time": "2022-07-14T14:18:04.337Z"
      },
      {
        "duration": 153,
        "start_time": "2022-07-14T14:18:58.689Z"
      },
      {
        "duration": 1144,
        "start_time": "2022-07-14T14:19:09.595Z"
      },
      {
        "duration": 910,
        "start_time": "2022-07-14T14:19:10.741Z"
      },
      {
        "duration": 1290,
        "start_time": "2022-07-14T14:19:11.652Z"
      },
      {
        "duration": 208,
        "start_time": "2022-07-14T14:19:12.944Z"
      },
      {
        "duration": 10,
        "start_time": "2022-07-14T14:19:13.155Z"
      },
      {
        "duration": 62,
        "start_time": "2022-07-14T14:19:13.166Z"
      },
      {
        "duration": 37,
        "start_time": "2022-07-14T14:19:13.230Z"
      },
      {
        "duration": 78,
        "start_time": "2022-07-14T14:19:13.269Z"
      },
      {
        "duration": 13,
        "start_time": "2022-07-14T14:19:13.348Z"
      },
      {
        "duration": 63,
        "start_time": "2022-07-14T14:19:13.362Z"
      },
      {
        "duration": 38,
        "start_time": "2022-07-14T14:19:13.426Z"
      },
      {
        "duration": 377,
        "start_time": "2022-07-14T14:19:13.466Z"
      },
      {
        "duration": 9,
        "start_time": "2022-07-14T14:19:13.845Z"
      },
      {
        "duration": 4,
        "start_time": "2022-07-14T14:19:13.857Z"
      },
      {
        "duration": 261,
        "start_time": "2022-07-14T14:19:13.863Z"
      },
      {
        "duration": 0,
        "start_time": "2022-07-14T14:19:14.126Z"
      },
      {
        "duration": 0,
        "start_time": "2022-07-14T14:19:14.127Z"
      },
      {
        "duration": 0,
        "start_time": "2022-07-14T14:19:14.128Z"
      },
      {
        "duration": 0,
        "start_time": "2022-07-14T14:19:14.130Z"
      },
      {
        "duration": 0,
        "start_time": "2022-07-14T14:19:14.131Z"
      },
      {
        "duration": 0,
        "start_time": "2022-07-14T14:19:14.132Z"
      },
      {
        "duration": 0,
        "start_time": "2022-07-14T14:19:14.133Z"
      },
      {
        "duration": 0,
        "start_time": "2022-07-14T14:19:14.134Z"
      },
      {
        "duration": 9,
        "start_time": "2022-07-14T14:20:08.555Z"
      },
      {
        "duration": 163,
        "start_time": "2022-07-14T14:20:16.395Z"
      },
      {
        "duration": 189,
        "start_time": "2022-07-14T14:21:19.192Z"
      },
      {
        "duration": 50,
        "start_time": "2022-07-14T14:21:51.653Z"
      },
      {
        "duration": 213,
        "start_time": "2022-07-14T14:22:02.056Z"
      },
      {
        "duration": 249,
        "start_time": "2022-07-14T14:22:08.977Z"
      },
      {
        "duration": 204,
        "start_time": "2022-07-14T14:22:14.813Z"
      },
      {
        "duration": 152,
        "start_time": "2022-07-14T14:22:27.839Z"
      },
      {
        "duration": 176,
        "start_time": "2022-07-14T14:22:41.359Z"
      },
      {
        "duration": 171,
        "start_time": "2022-07-14T14:22:47.785Z"
      },
      {
        "duration": 180,
        "start_time": "2022-07-14T14:22:57.198Z"
      },
      {
        "duration": 2,
        "start_time": "2022-07-14T14:23:13.357Z"
      },
      {
        "duration": 175,
        "start_time": "2022-07-14T14:24:55.082Z"
      },
      {
        "duration": 158,
        "start_time": "2022-07-14T14:25:47.823Z"
      },
      {
        "duration": 162,
        "start_time": "2022-07-14T14:26:54.458Z"
      },
      {
        "duration": 739,
        "start_time": "2022-07-14T14:29:28.927Z"
      },
      {
        "duration": 163,
        "start_time": "2022-07-14T14:29:43.622Z"
      },
      {
        "duration": 1335,
        "start_time": "2022-07-15T06:46:48.591Z"
      },
      {
        "duration": 1084,
        "start_time": "2022-07-15T06:46:49.929Z"
      },
      {
        "duration": 564,
        "start_time": "2022-07-15T06:46:51.015Z"
      },
      {
        "duration": 98,
        "start_time": "2022-07-15T06:46:51.581Z"
      },
      {
        "duration": 8,
        "start_time": "2022-07-15T06:46:51.681Z"
      },
      {
        "duration": 7,
        "start_time": "2022-07-15T06:46:51.691Z"
      },
      {
        "duration": 48,
        "start_time": "2022-07-15T06:46:51.699Z"
      },
      {
        "duration": 30,
        "start_time": "2022-07-15T06:46:51.749Z"
      },
      {
        "duration": 11,
        "start_time": "2022-07-15T06:46:51.780Z"
      },
      {
        "duration": 32,
        "start_time": "2022-07-15T06:46:51.792Z"
      },
      {
        "duration": 33,
        "start_time": "2022-07-15T06:46:51.826Z"
      },
      {
        "duration": 2,
        "start_time": "2022-07-15T06:46:51.861Z"
      },
      {
        "duration": 192,
        "start_time": "2022-07-15T06:46:51.865Z"
      },
      {
        "duration": 5,
        "start_time": "2022-07-15T06:46:52.060Z"
      },
      {
        "duration": 21,
        "start_time": "2022-07-15T06:46:52.066Z"
      },
      {
        "duration": 46,
        "start_time": "2022-07-15T06:46:52.088Z"
      },
      {
        "duration": 35,
        "start_time": "2022-07-15T06:46:52.135Z"
      },
      {
        "duration": 22,
        "start_time": "2022-07-15T06:46:52.172Z"
      },
      {
        "duration": 51,
        "start_time": "2022-07-15T06:46:52.195Z"
      },
      {
        "duration": 703,
        "start_time": "2022-07-15T06:46:52.247Z"
      },
      {
        "duration": 89,
        "start_time": "2022-07-15T06:46:52.952Z"
      },
      {
        "duration": 12,
        "start_time": "2022-07-15T06:47:14.898Z"
      },
      {
        "duration": 11,
        "start_time": "2022-07-15T06:48:01.670Z"
      },
      {
        "duration": 16,
        "start_time": "2022-07-15T06:49:00.116Z"
      },
      {
        "duration": 52,
        "start_time": "2022-07-15T06:49:13.730Z"
      },
      {
        "duration": 32,
        "start_time": "2022-07-15T06:49:45.213Z"
      },
      {
        "duration": 12,
        "start_time": "2022-07-15T06:51:42.784Z"
      },
      {
        "duration": 156,
        "start_time": "2022-07-15T06:53:18.092Z"
      },
      {
        "duration": 3,
        "start_time": "2022-07-15T06:56:28.378Z"
      },
      {
        "duration": 40,
        "start_time": "2022-07-15T06:59:34.980Z"
      },
      {
        "duration": 39,
        "start_time": "2022-07-15T06:59:40.134Z"
      },
      {
        "duration": 29,
        "start_time": "2022-07-15T07:00:00.063Z"
      },
      {
        "duration": 36,
        "start_time": "2022-07-15T07:00:04.001Z"
      },
      {
        "duration": 1083,
        "start_time": "2022-07-15T07:00:29.011Z"
      },
      {
        "duration": 794,
        "start_time": "2022-07-15T07:00:30.096Z"
      },
      {
        "duration": 550,
        "start_time": "2022-07-15T07:00:30.891Z"
      },
      {
        "duration": 102,
        "start_time": "2022-07-15T07:00:31.444Z"
      },
      {
        "duration": 9,
        "start_time": "2022-07-15T07:00:31.548Z"
      },
      {
        "duration": 16,
        "start_time": "2022-07-15T07:00:31.559Z"
      },
      {
        "duration": 34,
        "start_time": "2022-07-15T07:00:31.576Z"
      },
      {
        "duration": 35,
        "start_time": "2022-07-15T07:00:31.613Z"
      },
      {
        "duration": 23,
        "start_time": "2022-07-15T07:00:31.650Z"
      },
      {
        "duration": 17,
        "start_time": "2022-07-15T07:00:31.675Z"
      },
      {
        "duration": 35,
        "start_time": "2022-07-15T07:00:31.694Z"
      },
      {
        "duration": 12,
        "start_time": "2022-07-15T07:00:31.730Z"
      },
      {
        "duration": 37,
        "start_time": "2022-07-15T07:00:31.744Z"
      },
      {
        "duration": 187,
        "start_time": "2022-07-15T07:00:31.782Z"
      },
      {
        "duration": 6,
        "start_time": "2022-07-15T07:00:31.971Z"
      },
      {
        "duration": 35,
        "start_time": "2022-07-15T07:00:31.979Z"
      },
      {
        "duration": 31,
        "start_time": "2022-07-15T07:00:32.024Z"
      },
      {
        "duration": 39,
        "start_time": "2022-07-15T07:00:32.057Z"
      },
      {
        "duration": 677,
        "start_time": "2022-07-15T07:00:32.097Z"
      },
      {
        "duration": 96,
        "start_time": "2022-07-15T07:00:32.776Z"
      },
      {
        "duration": 810,
        "start_time": "2022-07-15T08:30:51.980Z"
      },
      {
        "duration": 522,
        "start_time": "2022-07-15T08:30:53.583Z"
      },
      {
        "duration": 25,
        "start_time": "2022-07-15T08:32:36.384Z"
      },
      {
        "duration": 14,
        "start_time": "2022-07-15T08:32:38.429Z"
      },
      {
        "duration": 429,
        "start_time": "2022-07-15T08:33:38.859Z"
      },
      {
        "duration": 570,
        "start_time": "2022-07-15T08:34:03.822Z"
      },
      {
        "duration": 374,
        "start_time": "2022-07-15T08:34:07.745Z"
      },
      {
        "duration": 10,
        "start_time": "2022-07-15T08:37:45.145Z"
      },
      {
        "duration": 2,
        "start_time": "2022-07-15T08:38:04.051Z"
      },
      {
        "duration": 30,
        "start_time": "2022-07-15T08:38:34.528Z"
      },
      {
        "duration": 2,
        "start_time": "2022-07-15T08:39:40.605Z"
      },
      {
        "duration": 246,
        "start_time": "2022-07-15T08:39:48.531Z"
      },
      {
        "duration": 14,
        "start_time": "2022-07-15T08:41:58.226Z"
      },
      {
        "duration": 54,
        "start_time": "2022-07-15T08:45:16.723Z"
      },
      {
        "duration": 37,
        "start_time": "2022-07-15T08:45:34.067Z"
      },
      {
        "duration": 55,
        "start_time": "2022-07-15T08:46:04.492Z"
      },
      {
        "duration": 68,
        "start_time": "2022-07-15T08:46:08.818Z"
      },
      {
        "duration": 44,
        "start_time": "2022-07-15T08:48:03.803Z"
      },
      {
        "duration": 44,
        "start_time": "2022-07-15T08:48:17.519Z"
      },
      {
        "duration": 46,
        "start_time": "2022-07-15T08:48:27.358Z"
      },
      {
        "duration": 44,
        "start_time": "2022-07-15T08:48:51.875Z"
      },
      {
        "duration": 46,
        "start_time": "2022-07-15T08:48:59.417Z"
      },
      {
        "duration": 7,
        "start_time": "2022-07-15T09:08:42.090Z"
      },
      {
        "duration": 32,
        "start_time": "2022-07-15T09:08:45.929Z"
      },
      {
        "duration": 210,
        "start_time": "2022-07-15T09:08:50.537Z"
      },
      {
        "duration": 6,
        "start_time": "2022-07-15T09:10:38.839Z"
      },
      {
        "duration": 68,
        "start_time": "2022-07-15T09:11:32.467Z"
      },
      {
        "duration": 60,
        "start_time": "2022-07-15T09:11:46.518Z"
      },
      {
        "duration": 70,
        "start_time": "2022-07-15T09:12:52.022Z"
      },
      {
        "duration": 6,
        "start_time": "2022-07-15T09:13:03.058Z"
      },
      {
        "duration": 6,
        "start_time": "2022-07-15T09:13:14.737Z"
      },
      {
        "duration": 63,
        "start_time": "2022-07-15T09:13:21.571Z"
      },
      {
        "duration": 6,
        "start_time": "2022-07-15T09:13:36.463Z"
      },
      {
        "duration": 6,
        "start_time": "2022-07-15T09:13:40.383Z"
      },
      {
        "duration": 92,
        "start_time": "2022-07-15T09:13:46.628Z"
      },
      {
        "duration": 6,
        "start_time": "2022-07-15T09:13:48.271Z"
      },
      {
        "duration": 1075,
        "start_time": "2022-07-15T09:17:01.260Z"
      },
      {
        "duration": 804,
        "start_time": "2022-07-15T09:17:02.338Z"
      },
      {
        "duration": 596,
        "start_time": "2022-07-15T09:17:03.144Z"
      },
      {
        "duration": 107,
        "start_time": "2022-07-15T09:17:03.744Z"
      },
      {
        "duration": 50,
        "start_time": "2022-07-15T09:17:03.853Z"
      },
      {
        "duration": 379,
        "start_time": "2022-07-15T09:17:03.905Z"
      },
      {
        "duration": 6,
        "start_time": "2022-07-15T09:17:04.286Z"
      },
      {
        "duration": 60,
        "start_time": "2022-07-15T09:17:04.293Z"
      },
      {
        "duration": 0,
        "start_time": "2022-07-15T09:17:04.355Z"
      },
      {
        "duration": 0,
        "start_time": "2022-07-15T09:17:04.356Z"
      },
      {
        "duration": 0,
        "start_time": "2022-07-15T09:17:04.358Z"
      },
      {
        "duration": 0,
        "start_time": "2022-07-15T09:17:04.359Z"
      },
      {
        "duration": 0,
        "start_time": "2022-07-15T09:17:04.360Z"
      },
      {
        "duration": 0,
        "start_time": "2022-07-15T09:17:04.361Z"
      },
      {
        "duration": 0,
        "start_time": "2022-07-15T09:17:04.362Z"
      },
      {
        "duration": 0,
        "start_time": "2022-07-15T09:17:04.363Z"
      },
      {
        "duration": 0,
        "start_time": "2022-07-15T09:17:04.364Z"
      },
      {
        "duration": 0,
        "start_time": "2022-07-15T09:17:04.364Z"
      },
      {
        "duration": 0,
        "start_time": "2022-07-15T09:17:04.365Z"
      },
      {
        "duration": 0,
        "start_time": "2022-07-15T09:17:04.366Z"
      },
      {
        "duration": 0,
        "start_time": "2022-07-15T09:17:04.367Z"
      },
      {
        "duration": 0,
        "start_time": "2022-07-15T09:17:04.368Z"
      },
      {
        "duration": 0,
        "start_time": "2022-07-15T09:17:04.369Z"
      },
      {
        "duration": 0,
        "start_time": "2022-07-15T09:17:04.370Z"
      },
      {
        "duration": 0,
        "start_time": "2022-07-15T09:17:04.371Z"
      },
      {
        "duration": 0,
        "start_time": "2022-07-15T09:17:04.372Z"
      },
      {
        "duration": 0,
        "start_time": "2022-07-15T09:17:04.373Z"
      },
      {
        "duration": 72,
        "start_time": "2022-07-15T09:19:23.377Z"
      },
      {
        "duration": 64,
        "start_time": "2022-07-15T09:19:28.242Z"
      },
      {
        "duration": 62,
        "start_time": "2022-07-15T09:20:13.037Z"
      },
      {
        "duration": 58,
        "start_time": "2022-07-15T09:20:13.619Z"
      },
      {
        "duration": 51,
        "start_time": "2022-07-15T09:20:13.947Z"
      },
      {
        "duration": 48,
        "start_time": "2022-07-15T09:20:14.140Z"
      },
      {
        "duration": 55,
        "start_time": "2022-07-15T09:20:14.281Z"
      },
      {
        "duration": 6,
        "start_time": "2022-07-15T09:20:44.385Z"
      },
      {
        "duration": 6,
        "start_time": "2022-07-15T09:20:51.997Z"
      },
      {
        "duration": 97,
        "start_time": "2022-07-15T09:21:38.056Z"
      },
      {
        "duration": 449,
        "start_time": "2022-07-15T09:21:43.978Z"
      },
      {
        "duration": 43,
        "start_time": "2022-07-15T09:21:49.207Z"
      },
      {
        "duration": 6,
        "start_time": "2022-07-15T09:22:53.399Z"
      },
      {
        "duration": 54,
        "start_time": "2022-07-15T09:27:33.356Z"
      },
      {
        "duration": 16,
        "start_time": "2022-07-15T09:29:54.371Z"
      },
      {
        "duration": 6,
        "start_time": "2022-07-15T09:30:02.849Z"
      },
      {
        "duration": 15,
        "start_time": "2022-07-15T09:30:06.375Z"
      },
      {
        "duration": 16,
        "start_time": "2022-07-15T09:30:09.549Z"
      },
      {
        "duration": 106,
        "start_time": "2022-07-15T09:30:17.391Z"
      },
      {
        "duration": 94,
        "start_time": "2022-07-15T09:30:31.356Z"
      },
      {
        "duration": 87,
        "start_time": "2022-07-15T09:31:41.383Z"
      },
      {
        "duration": 82,
        "start_time": "2022-07-15T09:31:51.245Z"
      },
      {
        "duration": 1091,
        "start_time": "2022-07-15T09:32:03.464Z"
      },
      {
        "duration": 848,
        "start_time": "2022-07-15T09:32:04.557Z"
      },
      {
        "duration": 633,
        "start_time": "2022-07-15T09:32:05.406Z"
      },
      {
        "duration": 111,
        "start_time": "2022-07-15T09:32:06.042Z"
      },
      {
        "duration": 52,
        "start_time": "2022-07-15T09:32:06.154Z"
      },
      {
        "duration": 545,
        "start_time": "2022-07-15T09:32:06.208Z"
      },
      {
        "duration": 409,
        "start_time": "2022-07-15T09:32:06.755Z"
      },
      {
        "duration": 8,
        "start_time": "2022-07-15T09:32:07.166Z"
      },
      {
        "duration": 87,
        "start_time": "2022-07-15T09:32:07.175Z"
      },
      {
        "duration": 6,
        "start_time": "2022-07-15T09:32:07.264Z"
      },
      {
        "duration": 206,
        "start_time": "2022-07-15T09:32:07.272Z"
      },
      {
        "duration": 0,
        "start_time": "2022-07-15T09:32:07.480Z"
      },
      {
        "duration": 0,
        "start_time": "2022-07-15T09:32:07.481Z"
      },
      {
        "duration": 0,
        "start_time": "2022-07-15T09:32:07.483Z"
      },
      {
        "duration": 0,
        "start_time": "2022-07-15T09:32:07.484Z"
      },
      {
        "duration": 0,
        "start_time": "2022-07-15T09:32:07.485Z"
      },
      {
        "duration": 0,
        "start_time": "2022-07-15T09:32:07.486Z"
      },
      {
        "duration": 0,
        "start_time": "2022-07-15T09:32:07.487Z"
      },
      {
        "duration": 0,
        "start_time": "2022-07-15T09:32:07.488Z"
      },
      {
        "duration": 0,
        "start_time": "2022-07-15T09:32:07.489Z"
      },
      {
        "duration": 0,
        "start_time": "2022-07-15T09:32:07.490Z"
      },
      {
        "duration": 0,
        "start_time": "2022-07-15T09:32:07.490Z"
      },
      {
        "duration": 0,
        "start_time": "2022-07-15T09:32:07.491Z"
      },
      {
        "duration": 0,
        "start_time": "2022-07-15T09:32:07.492Z"
      },
      {
        "duration": 0,
        "start_time": "2022-07-15T09:32:07.493Z"
      },
      {
        "duration": 0,
        "start_time": "2022-07-15T09:32:07.495Z"
      },
      {
        "duration": 0,
        "start_time": "2022-07-15T09:32:07.496Z"
      },
      {
        "duration": 0,
        "start_time": "2022-07-15T09:32:07.497Z"
      },
      {
        "duration": 5,
        "start_time": "2022-07-15T09:32:25.174Z"
      },
      {
        "duration": 11,
        "start_time": "2022-07-15T09:32:37.355Z"
      },
      {
        "duration": 92,
        "start_time": "2022-07-15T09:32:43.161Z"
      },
      {
        "duration": 17,
        "start_time": "2022-07-15T09:32:50.605Z"
      },
      {
        "duration": 30,
        "start_time": "2022-07-15T09:33:02.768Z"
      },
      {
        "duration": 51,
        "start_time": "2022-07-15T09:33:09.044Z"
      },
      {
        "duration": 35,
        "start_time": "2022-07-15T09:33:14.835Z"
      },
      {
        "duration": 36,
        "start_time": "2022-07-15T09:33:21.155Z"
      },
      {
        "duration": 31,
        "start_time": "2022-07-15T09:33:29.549Z"
      },
      {
        "duration": 30,
        "start_time": "2022-07-15T09:33:37.561Z"
      },
      {
        "duration": 29,
        "start_time": "2022-07-15T09:33:45.642Z"
      },
      {
        "duration": 40,
        "start_time": "2022-07-15T09:34:04.820Z"
      },
      {
        "duration": 48,
        "start_time": "2022-07-15T09:34:15.373Z"
      },
      {
        "duration": 45,
        "start_time": "2022-07-15T09:35:42.029Z"
      },
      {
        "duration": 341,
        "start_time": "2022-07-15T09:37:13.148Z"
      },
      {
        "duration": 606,
        "start_time": "2022-07-15T09:38:53.868Z"
      },
      {
        "duration": 426,
        "start_time": "2022-07-15T09:39:03.318Z"
      },
      {
        "duration": 637,
        "start_time": "2022-07-15T09:39:18.466Z"
      },
      {
        "duration": 269,
        "start_time": "2022-07-15T09:43:01.827Z"
      },
      {
        "duration": 12,
        "start_time": "2022-07-15T09:43:06.257Z"
      },
      {
        "duration": 28,
        "start_time": "2022-07-15T09:52:31.383Z"
      },
      {
        "duration": 30,
        "start_time": "2022-07-15T09:52:34.249Z"
      },
      {
        "duration": 8,
        "start_time": "2022-07-15T09:52:40.870Z"
      },
      {
        "duration": 113,
        "start_time": "2022-07-15T09:52:46.002Z"
      },
      {
        "duration": 36,
        "start_time": "2022-07-15T09:52:59.298Z"
      },
      {
        "duration": 28,
        "start_time": "2022-07-15T09:53:03.110Z"
      },
      {
        "duration": 35,
        "start_time": "2022-07-15T09:53:05.635Z"
      },
      {
        "duration": 165,
        "start_time": "2022-07-15T09:53:11.785Z"
      },
      {
        "duration": 108,
        "start_time": "2022-07-15T09:56:53.297Z"
      },
      {
        "duration": 22,
        "start_time": "2022-07-15T09:58:04.963Z"
      },
      {
        "duration": 18,
        "start_time": "2022-07-15T09:58:17.499Z"
      },
      {
        "duration": 23,
        "start_time": "2022-07-15T09:58:24.413Z"
      },
      {
        "duration": 13,
        "start_time": "2022-07-15T09:58:36.646Z"
      },
      {
        "duration": 2,
        "start_time": "2022-07-15T09:59:04.041Z"
      },
      {
        "duration": 97,
        "start_time": "2022-07-15T09:59:47.711Z"
      },
      {
        "duration": 4,
        "start_time": "2022-07-15T10:03:10.983Z"
      },
      {
        "duration": 226,
        "start_time": "2022-07-15T10:04:27.476Z"
      },
      {
        "duration": 2571,
        "start_time": "2022-07-15T10:04:34.898Z"
      },
      {
        "duration": 5,
        "start_time": "2022-07-15T10:06:31.443Z"
      },
      {
        "duration": 5,
        "start_time": "2022-07-15T10:06:35.679Z"
      },
      {
        "duration": 6,
        "start_time": "2022-07-15T10:06:38.931Z"
      },
      {
        "duration": 12,
        "start_time": "2022-07-15T10:06:41.558Z"
      },
      {
        "duration": 8,
        "start_time": "2022-07-15T10:06:47.178Z"
      },
      {
        "duration": 33,
        "start_time": "2022-07-15T10:07:24.735Z"
      },
      {
        "duration": 27,
        "start_time": "2022-07-15T10:07:29.032Z"
      },
      {
        "duration": 26,
        "start_time": "2022-07-15T10:07:46.083Z"
      },
      {
        "duration": 30,
        "start_time": "2022-07-15T10:08:07.346Z"
      },
      {
        "duration": 74,
        "start_time": "2022-07-15T10:08:29.194Z"
      },
      {
        "duration": 23,
        "start_time": "2022-07-15T10:08:38.794Z"
      },
      {
        "duration": 15,
        "start_time": "2022-07-15T10:08:51.302Z"
      },
      {
        "duration": 15,
        "start_time": "2022-07-15T10:08:55.301Z"
      },
      {
        "duration": 53,
        "start_time": "2022-07-15T10:18:42.853Z"
      },
      {
        "duration": 19,
        "start_time": "2022-07-15T10:19:15.516Z"
      },
      {
        "duration": 29,
        "start_time": "2022-07-15T10:19:44.437Z"
      },
      {
        "duration": 14,
        "start_time": "2022-07-15T10:21:09.117Z"
      },
      {
        "duration": 10,
        "start_time": "2022-07-15T10:21:15.723Z"
      },
      {
        "duration": 3027,
        "start_time": "2022-07-15T10:21:20.941Z"
      },
      {
        "duration": 11,
        "start_time": "2022-07-15T10:21:31.714Z"
      },
      {
        "duration": 11,
        "start_time": "2022-07-15T10:21:54.536Z"
      },
      {
        "duration": 18,
        "start_time": "2022-07-15T10:21:58.001Z"
      },
      {
        "duration": 18,
        "start_time": "2022-07-15T10:22:36.497Z"
      },
      {
        "duration": 2350,
        "start_time": "2022-07-15T10:22:39.573Z"
      },
      {
        "duration": 43,
        "start_time": "2022-07-15T10:23:03.765Z"
      },
      {
        "duration": 26,
        "start_time": "2022-07-15T10:23:07.067Z"
      },
      {
        "duration": 36,
        "start_time": "2022-07-15T10:23:11.018Z"
      },
      {
        "duration": 216,
        "start_time": "2022-07-15T10:23:34.262Z"
      },
      {
        "duration": 55,
        "start_time": "2022-07-15T10:23:43.106Z"
      },
      {
        "duration": 36,
        "start_time": "2022-07-15T10:23:49.511Z"
      },
      {
        "duration": 43,
        "start_time": "2022-07-15T10:24:00.182Z"
      },
      {
        "duration": 36,
        "start_time": "2022-07-15T10:24:07.217Z"
      },
      {
        "duration": 35,
        "start_time": "2022-07-15T10:24:09.889Z"
      },
      {
        "duration": 1142,
        "start_time": "2022-07-15T10:24:22.661Z"
      },
      {
        "duration": 817,
        "start_time": "2022-07-15T10:24:23.805Z"
      },
      {
        "duration": 659,
        "start_time": "2022-07-15T10:24:24.623Z"
      },
      {
        "duration": 116,
        "start_time": "2022-07-15T10:24:25.285Z"
      },
      {
        "duration": 60,
        "start_time": "2022-07-15T10:24:25.402Z"
      },
      {
        "duration": 551,
        "start_time": "2022-07-15T10:24:25.464Z"
      },
      {
        "duration": 486,
        "start_time": "2022-07-15T10:24:26.018Z"
      },
      {
        "duration": 17,
        "start_time": "2022-07-15T10:24:26.506Z"
      },
      {
        "duration": 93,
        "start_time": "2022-07-15T10:24:26.524Z"
      },
      {
        "duration": 6,
        "start_time": "2022-07-15T10:24:26.620Z"
      },
      {
        "duration": 80,
        "start_time": "2022-07-15T10:24:26.628Z"
      },
      {
        "duration": 55,
        "start_time": "2022-07-15T10:24:26.710Z"
      },
      {
        "duration": 307,
        "start_time": "2022-07-15T10:24:26.767Z"
      },
      {
        "duration": 20,
        "start_time": "2022-07-15T10:24:27.076Z"
      },
      {
        "duration": 44,
        "start_time": "2022-07-15T10:24:27.098Z"
      },
      {
        "duration": 65,
        "start_time": "2022-07-15T10:24:27.146Z"
      },
      {
        "duration": 32,
        "start_time": "2022-07-15T10:24:27.213Z"
      },
      {
        "duration": 144,
        "start_time": "2022-07-15T10:24:27.247Z"
      },
      {
        "duration": 43,
        "start_time": "2022-07-15T10:24:27.393Z"
      },
      {
        "duration": 32,
        "start_time": "2022-07-15T10:24:27.437Z"
      },
      {
        "duration": 37,
        "start_time": "2022-07-15T10:24:27.471Z"
      },
      {
        "duration": 214,
        "start_time": "2022-07-15T10:24:27.510Z"
      },
      {
        "duration": 51,
        "start_time": "2022-07-15T10:24:27.726Z"
      },
      {
        "duration": 12812,
        "start_time": "2022-07-15T10:24:27.779Z"
      },
      {
        "duration": 0,
        "start_time": "2022-07-15T10:24:40.593Z"
      },
      {
        "duration": 0,
        "start_time": "2022-07-15T10:24:40.594Z"
      },
      {
        "duration": 0,
        "start_time": "2022-07-15T10:24:40.595Z"
      },
      {
        "duration": 0,
        "start_time": "2022-07-15T10:24:40.596Z"
      },
      {
        "duration": 0,
        "start_time": "2022-07-15T10:24:40.597Z"
      },
      {
        "duration": 0,
        "start_time": "2022-07-15T10:24:40.598Z"
      },
      {
        "duration": 0,
        "start_time": "2022-07-15T10:24:40.600Z"
      },
      {
        "duration": 9,
        "start_time": "2022-07-15T10:39:39.226Z"
      },
      {
        "duration": 7,
        "start_time": "2022-07-15T10:39:45.497Z"
      },
      {
        "duration": 7,
        "start_time": "2022-07-15T10:39:54.843Z"
      },
      {
        "duration": 8,
        "start_time": "2022-07-15T10:40:04.071Z"
      },
      {
        "duration": 9,
        "start_time": "2022-07-15T10:40:35.881Z"
      },
      {
        "duration": 14,
        "start_time": "2022-07-15T10:40:38.803Z"
      },
      {
        "duration": 60,
        "start_time": "2022-07-15T10:41:09.725Z"
      },
      {
        "duration": 8,
        "start_time": "2022-07-15T10:41:12.278Z"
      },
      {
        "duration": 16,
        "start_time": "2022-07-15T10:41:21.756Z"
      },
      {
        "duration": 8,
        "start_time": "2022-07-15T10:41:31.959Z"
      },
      {
        "duration": 60,
        "start_time": "2022-07-15T10:42:03.999Z"
      },
      {
        "duration": 14404,
        "start_time": "2022-07-15T10:42:09.901Z"
      },
      {
        "duration": 1282,
        "start_time": "2022-07-16T18:43:16.756Z"
      },
      {
        "duration": 2816,
        "start_time": "2022-07-16T18:43:18.041Z"
      },
      {
        "duration": 595,
        "start_time": "2022-07-16T18:43:20.859Z"
      },
      {
        "duration": 103,
        "start_time": "2022-07-16T18:43:21.456Z"
      },
      {
        "duration": 51,
        "start_time": "2022-07-16T18:43:21.562Z"
      },
      {
        "duration": 520,
        "start_time": "2022-07-16T18:43:21.615Z"
      },
      {
        "duration": 380,
        "start_time": "2022-07-16T18:43:22.137Z"
      },
      {
        "duration": 6,
        "start_time": "2022-07-16T18:43:22.518Z"
      },
      {
        "duration": 82,
        "start_time": "2022-07-16T18:43:22.526Z"
      },
      {
        "duration": 5,
        "start_time": "2022-07-16T18:43:22.610Z"
      },
      {
        "duration": 71,
        "start_time": "2022-07-16T18:43:22.616Z"
      },
      {
        "duration": 27,
        "start_time": "2022-07-16T18:43:22.688Z"
      },
      {
        "duration": 257,
        "start_time": "2022-07-16T18:43:22.716Z"
      },
      {
        "duration": 13,
        "start_time": "2022-07-16T18:43:22.976Z"
      },
      {
        "duration": 26,
        "start_time": "2022-07-16T18:43:22.991Z"
      },
      {
        "duration": 49,
        "start_time": "2022-07-16T18:43:23.019Z"
      },
      {
        "duration": 19,
        "start_time": "2022-07-16T18:43:23.069Z"
      },
      {
        "duration": 133,
        "start_time": "2022-07-16T18:43:23.090Z"
      },
      {
        "duration": 35,
        "start_time": "2022-07-16T18:43:23.224Z"
      },
      {
        "duration": 12,
        "start_time": "2022-07-16T18:43:23.260Z"
      },
      {
        "duration": 55,
        "start_time": "2022-07-16T18:43:23.273Z"
      },
      {
        "duration": 177,
        "start_time": "2022-07-16T18:43:23.330Z"
      },
      {
        "duration": 45,
        "start_time": "2022-07-16T18:43:23.508Z"
      },
      {
        "duration": 13270,
        "start_time": "2022-07-16T18:43:23.555Z"
      },
      {
        "duration": 0,
        "start_time": "2022-07-16T18:43:36.828Z"
      },
      {
        "duration": 0,
        "start_time": "2022-07-16T18:43:36.829Z"
      },
      {
        "duration": 0,
        "start_time": "2022-07-16T18:43:36.831Z"
      },
      {
        "duration": 0,
        "start_time": "2022-07-16T18:43:36.832Z"
      },
      {
        "duration": 0,
        "start_time": "2022-07-16T18:43:36.834Z"
      },
      {
        "duration": 0,
        "start_time": "2022-07-16T18:43:36.835Z"
      },
      {
        "duration": 0,
        "start_time": "2022-07-16T18:43:36.837Z"
      },
      {
        "duration": 1089,
        "start_time": "2022-07-16T18:59:32.778Z"
      },
      {
        "duration": 860,
        "start_time": "2022-07-16T18:59:33.869Z"
      },
      {
        "duration": 632,
        "start_time": "2022-07-16T18:59:34.730Z"
      },
      {
        "duration": 97,
        "start_time": "2022-07-16T18:59:35.364Z"
      },
      {
        "duration": 50,
        "start_time": "2022-07-16T18:59:35.463Z"
      },
      {
        "duration": 512,
        "start_time": "2022-07-16T18:59:35.515Z"
      },
      {
        "duration": 414,
        "start_time": "2022-07-16T18:59:36.029Z"
      },
      {
        "duration": 8,
        "start_time": "2022-07-16T18:59:36.444Z"
      },
      {
        "duration": 63,
        "start_time": "2022-07-16T18:59:36.454Z"
      },
      {
        "duration": 6,
        "start_time": "2022-07-16T18:59:36.519Z"
      },
      {
        "duration": 88,
        "start_time": "2022-07-16T18:59:36.526Z"
      },
      {
        "duration": 38,
        "start_time": "2022-07-16T18:59:36.615Z"
      },
      {
        "duration": 270,
        "start_time": "2022-07-16T18:59:36.655Z"
      },
      {
        "duration": 10,
        "start_time": "2022-07-16T18:59:36.928Z"
      },
      {
        "duration": 37,
        "start_time": "2022-07-16T18:59:36.940Z"
      },
      {
        "duration": 28,
        "start_time": "2022-07-16T18:59:36.979Z"
      },
      {
        "duration": 9,
        "start_time": "2022-07-16T18:59:37.008Z"
      },
      {
        "duration": 145,
        "start_time": "2022-07-16T18:59:37.018Z"
      },
      {
        "duration": 36,
        "start_time": "2022-07-16T18:59:37.164Z"
      },
      {
        "duration": 14,
        "start_time": "2022-07-16T18:59:37.202Z"
      },
      {
        "duration": 59,
        "start_time": "2022-07-16T18:59:37.218Z"
      },
      {
        "duration": 191,
        "start_time": "2022-07-16T18:59:37.278Z"
      },
      {
        "duration": 36,
        "start_time": "2022-07-16T18:59:37.471Z"
      },
      {
        "duration": 12720,
        "start_time": "2022-07-16T18:59:37.508Z"
      },
      {
        "duration": 0,
        "start_time": "2022-07-16T18:59:50.230Z"
      },
      {
        "duration": 0,
        "start_time": "2022-07-16T18:59:50.231Z"
      },
      {
        "duration": 0,
        "start_time": "2022-07-16T18:59:50.232Z"
      },
      {
        "duration": 1,
        "start_time": "2022-07-16T18:59:50.233Z"
      },
      {
        "duration": 0,
        "start_time": "2022-07-16T18:59:50.234Z"
      },
      {
        "duration": 0,
        "start_time": "2022-07-16T18:59:50.235Z"
      },
      {
        "duration": 0,
        "start_time": "2022-07-16T18:59:50.236Z"
      },
      {
        "duration": 30,
        "start_time": "2022-07-16T19:19:09.360Z"
      },
      {
        "duration": 465,
        "start_time": "2022-07-16T19:19:16.022Z"
      },
      {
        "duration": 222,
        "start_time": "2022-07-16T19:20:45.595Z"
      },
      {
        "duration": 6,
        "start_time": "2022-07-16T19:20:56.731Z"
      },
      {
        "duration": 57,
        "start_time": "2022-07-16T19:21:00.269Z"
      },
      {
        "duration": 100,
        "start_time": "2022-07-16T19:21:22.160Z"
      },
      {
        "duration": 82,
        "start_time": "2022-07-16T19:21:49.763Z"
      },
      {
        "duration": 1416,
        "start_time": "2022-07-16T19:23:49.967Z"
      },
      {
        "duration": 1353,
        "start_time": "2022-07-16T19:24:02.161Z"
      },
      {
        "duration": 27,
        "start_time": "2022-07-16T19:28:01.377Z"
      },
      {
        "duration": 45,
        "start_time": "2022-07-16T19:28:43.727Z"
      },
      {
        "duration": 23,
        "start_time": "2022-07-16T19:28:57.928Z"
      },
      {
        "duration": 21,
        "start_time": "2022-07-16T19:29:07.565Z"
      },
      {
        "duration": 25,
        "start_time": "2022-07-16T19:29:24.862Z"
      },
      {
        "duration": 125,
        "start_time": "2022-07-16T19:29:59.619Z"
      },
      {
        "duration": 32,
        "start_time": "2022-07-16T19:30:08.979Z"
      },
      {
        "duration": 15,
        "start_time": "2022-07-16T19:30:31.590Z"
      },
      {
        "duration": 25,
        "start_time": "2022-07-16T19:30:34.647Z"
      },
      {
        "duration": 21,
        "start_time": "2022-07-16T19:31:31.932Z"
      },
      {
        "duration": 9,
        "start_time": "2022-07-16T19:32:18.585Z"
      },
      {
        "duration": 32,
        "start_time": "2022-07-16T19:32:21.842Z"
      },
      {
        "duration": 41,
        "start_time": "2022-07-16T19:33:47.745Z"
      },
      {
        "duration": 1545,
        "start_time": "2022-07-16T19:33:53.963Z"
      },
      {
        "duration": 38,
        "start_time": "2022-07-16T19:34:09.967Z"
      },
      {
        "duration": 35,
        "start_time": "2022-07-16T19:34:19.674Z"
      },
      {
        "duration": 82,
        "start_time": "2022-07-16T19:35:04.471Z"
      },
      {
        "duration": 95,
        "start_time": "2022-07-16T19:35:10.047Z"
      },
      {
        "duration": 116,
        "start_time": "2022-07-16T19:35:34.511Z"
      },
      {
        "duration": 79,
        "start_time": "2022-07-16T19:37:17.090Z"
      },
      {
        "duration": 44,
        "start_time": "2022-07-16T19:37:26.940Z"
      },
      {
        "duration": 100,
        "start_time": "2022-07-16T19:38:05.276Z"
      },
      {
        "duration": 103,
        "start_time": "2022-07-16T19:38:13.484Z"
      },
      {
        "duration": 38,
        "start_time": "2022-07-16T19:39:39.466Z"
      },
      {
        "duration": 37,
        "start_time": "2022-07-16T19:40:05.539Z"
      },
      {
        "duration": 1274,
        "start_time": "2022-07-16T19:42:23.160Z"
      },
      {
        "duration": 39,
        "start_time": "2022-07-16T19:42:41.744Z"
      },
      {
        "duration": 13,
        "start_time": "2022-07-16T19:43:06.454Z"
      },
      {
        "duration": 9,
        "start_time": "2022-07-16T19:43:17.211Z"
      },
      {
        "duration": 3,
        "start_time": "2022-07-16T19:48:30.942Z"
      },
      {
        "duration": 29,
        "start_time": "2022-07-16T19:50:06.290Z"
      },
      {
        "duration": 39,
        "start_time": "2022-07-16T19:50:26.499Z"
      },
      {
        "duration": 936,
        "start_time": "2022-07-16T19:52:43.610Z"
      },
      {
        "duration": 73,
        "start_time": "2022-07-16T19:53:20.878Z"
      },
      {
        "duration": 967,
        "start_time": "2022-07-16T19:53:24.443Z"
      },
      {
        "duration": 31,
        "start_time": "2022-07-16T19:54:32.827Z"
      },
      {
        "duration": 32,
        "start_time": "2022-07-16T19:54:37.627Z"
      },
      {
        "duration": 386,
        "start_time": "2022-07-16T19:55:06.702Z"
      },
      {
        "duration": 578,
        "start_time": "2022-07-16T19:55:17.940Z"
      },
      {
        "duration": 559,
        "start_time": "2022-07-16T19:55:53.260Z"
      },
      {
        "duration": 1073,
        "start_time": "2022-07-16T19:56:19.955Z"
      },
      {
        "duration": 776,
        "start_time": "2022-07-16T19:56:21.029Z"
      },
      {
        "duration": 577,
        "start_time": "2022-07-16T19:56:21.807Z"
      },
      {
        "duration": 95,
        "start_time": "2022-07-16T19:56:22.386Z"
      },
      {
        "duration": 49,
        "start_time": "2022-07-16T19:56:22.482Z"
      },
      {
        "duration": 482,
        "start_time": "2022-07-16T19:56:22.532Z"
      },
      {
        "duration": 100,
        "start_time": "2022-07-16T19:56:23.015Z"
      },
      {
        "duration": 353,
        "start_time": "2022-07-16T19:56:23.116Z"
      },
      {
        "duration": 30,
        "start_time": "2022-07-16T19:56:23.470Z"
      },
      {
        "duration": 24,
        "start_time": "2022-07-16T19:56:23.503Z"
      },
      {
        "duration": 49,
        "start_time": "2022-07-16T19:56:23.528Z"
      },
      {
        "duration": 29,
        "start_time": "2022-07-16T19:56:23.579Z"
      },
      {
        "duration": 6,
        "start_time": "2022-07-16T19:56:23.609Z"
      },
      {
        "duration": 80,
        "start_time": "2022-07-16T19:56:23.617Z"
      },
      {
        "duration": 40,
        "start_time": "2022-07-16T19:56:23.699Z"
      },
      {
        "duration": 37,
        "start_time": "2022-07-16T19:56:23.740Z"
      },
      {
        "duration": 7,
        "start_time": "2022-07-16T19:56:23.779Z"
      },
      {
        "duration": 12,
        "start_time": "2022-07-16T19:56:23.787Z"
      },
      {
        "duration": 57,
        "start_time": "2022-07-16T19:56:23.801Z"
      },
      {
        "duration": 12,
        "start_time": "2022-07-16T19:56:23.860Z"
      },
      {
        "duration": 35,
        "start_time": "2022-07-16T19:56:23.874Z"
      },
      {
        "duration": 202,
        "start_time": "2022-07-16T19:56:23.911Z"
      },
      {
        "duration": 42,
        "start_time": "2022-07-16T19:56:24.114Z"
      },
      {
        "duration": 13246,
        "start_time": "2022-07-16T19:56:24.158Z"
      },
      {
        "duration": 0,
        "start_time": "2022-07-16T19:56:37.406Z"
      },
      {
        "duration": 0,
        "start_time": "2022-07-16T19:56:37.407Z"
      },
      {
        "duration": 0,
        "start_time": "2022-07-16T19:56:37.408Z"
      },
      {
        "duration": 0,
        "start_time": "2022-07-16T19:56:37.409Z"
      },
      {
        "duration": 0,
        "start_time": "2022-07-16T19:56:37.410Z"
      },
      {
        "duration": 0,
        "start_time": "2022-07-16T19:56:37.412Z"
      },
      {
        "duration": 0,
        "start_time": "2022-07-16T19:56:37.413Z"
      },
      {
        "duration": 0,
        "start_time": "2022-07-16T19:56:37.415Z"
      },
      {
        "duration": 0,
        "start_time": "2022-07-16T19:56:37.416Z"
      },
      {
        "duration": 0,
        "start_time": "2022-07-16T19:56:37.417Z"
      },
      {
        "duration": 1,
        "start_time": "2022-07-16T19:56:37.417Z"
      },
      {
        "duration": 9,
        "start_time": "2022-07-16T19:56:45.468Z"
      },
      {
        "duration": 1592,
        "start_time": "2022-07-16T19:56:47.729Z"
      },
      {
        "duration": 1993,
        "start_time": "2022-07-16T19:57:14.994Z"
      },
      {
        "duration": 361,
        "start_time": "2022-07-16T19:57:35.878Z"
      },
      {
        "duration": 1063,
        "start_time": "2022-07-16T19:57:55.138Z"
      },
      {
        "duration": 2,
        "start_time": "2022-07-16T19:58:05.607Z"
      },
      {
        "duration": 6,
        "start_time": "2022-07-16T19:58:11.999Z"
      },
      {
        "duration": 325,
        "start_time": "2022-07-16T19:58:31.530Z"
      },
      {
        "duration": 321,
        "start_time": "2022-07-16T19:58:39.278Z"
      },
      {
        "duration": 325,
        "start_time": "2022-07-16T19:58:44.503Z"
      },
      {
        "duration": 286,
        "start_time": "2022-07-16T19:59:01.517Z"
      },
      {
        "duration": 314,
        "start_time": "2022-07-16T19:59:20.933Z"
      },
      {
        "duration": 301,
        "start_time": "2022-07-16T19:59:34.405Z"
      },
      {
        "duration": 301,
        "start_time": "2022-07-16T19:59:38.162Z"
      },
      {
        "duration": 785,
        "start_time": "2022-07-16T19:59:44.444Z"
      },
      {
        "duration": 751,
        "start_time": "2022-07-16T19:59:51.066Z"
      },
      {
        "duration": 744,
        "start_time": "2022-07-16T20:00:03.448Z"
      },
      {
        "duration": 774,
        "start_time": "2022-07-16T20:00:10.152Z"
      },
      {
        "duration": 795,
        "start_time": "2022-07-16T20:00:13.946Z"
      },
      {
        "duration": 339,
        "start_time": "2022-07-16T20:00:25.006Z"
      },
      {
        "duration": 187,
        "start_time": "2022-07-16T20:00:28.288Z"
      },
      {
        "duration": 166,
        "start_time": "2022-07-16T20:00:36.418Z"
      },
      {
        "duration": 23,
        "start_time": "2022-07-16T20:00:59.442Z"
      },
      {
        "duration": 24,
        "start_time": "2022-07-16T20:01:08.246Z"
      },
      {
        "duration": 11,
        "start_time": "2022-07-16T20:01:10.094Z"
      },
      {
        "duration": 14,
        "start_time": "2022-07-16T20:01:14.176Z"
      },
      {
        "duration": 12,
        "start_time": "2022-07-16T20:01:18.796Z"
      },
      {
        "duration": 12,
        "start_time": "2022-07-16T20:01:20.685Z"
      },
      {
        "duration": 11,
        "start_time": "2022-07-16T20:01:25.474Z"
      },
      {
        "duration": 14,
        "start_time": "2022-07-16T20:01:28.063Z"
      },
      {
        "duration": 323,
        "start_time": "2022-07-16T20:01:34.993Z"
      },
      {
        "duration": 282,
        "start_time": "2022-07-16T20:01:41.236Z"
      },
      {
        "duration": 294,
        "start_time": "2022-07-16T20:01:51.387Z"
      },
      {
        "duration": 2128,
        "start_time": "2022-07-16T20:02:00.490Z"
      },
      {
        "duration": 16,
        "start_time": "2022-07-16T20:04:27.597Z"
      },
      {
        "duration": 288,
        "start_time": "2022-07-16T20:04:41.442Z"
      },
      {
        "duration": 382,
        "start_time": "2022-07-16T20:07:07.375Z"
      },
      {
        "duration": 442,
        "start_time": "2022-07-16T20:07:14.268Z"
      },
      {
        "duration": 279,
        "start_time": "2022-07-16T20:07:38.290Z"
      },
      {
        "duration": 263,
        "start_time": "2022-07-16T20:07:47.163Z"
      },
      {
        "duration": 414,
        "start_time": "2022-07-16T20:08:03.909Z"
      },
      {
        "duration": 519,
        "start_time": "2022-07-16T20:08:46.146Z"
      },
      {
        "duration": 428,
        "start_time": "2022-07-16T20:08:54.982Z"
      },
      {
        "duration": 423,
        "start_time": "2022-07-16T20:09:16.363Z"
      },
      {
        "duration": 746,
        "start_time": "2022-07-16T20:09:22.539Z"
      },
      {
        "duration": 457,
        "start_time": "2022-07-16T20:09:34.539Z"
      },
      {
        "duration": 431,
        "start_time": "2022-07-16T20:09:45.643Z"
      },
      {
        "duration": 394,
        "start_time": "2022-07-16T20:09:52.803Z"
      },
      {
        "duration": 411,
        "start_time": "2022-07-16T20:11:01.270Z"
      },
      {
        "duration": 374,
        "start_time": "2022-07-16T20:11:06.898Z"
      },
      {
        "duration": 435,
        "start_time": "2022-07-16T20:11:15.818Z"
      },
      {
        "duration": 462,
        "start_time": "2022-07-16T20:11:30.167Z"
      },
      {
        "duration": 429,
        "start_time": "2022-07-16T20:11:40.888Z"
      },
      {
        "duration": 719,
        "start_time": "2022-07-16T20:11:56.453Z"
      },
      {
        "duration": 385,
        "start_time": "2022-07-16T20:12:02.686Z"
      },
      {
        "duration": 419,
        "start_time": "2022-07-16T20:12:15.195Z"
      },
      {
        "duration": 365,
        "start_time": "2022-07-16T20:12:25.483Z"
      },
      {
        "duration": 396,
        "start_time": "2022-07-16T20:14:45.283Z"
      },
      {
        "duration": 387,
        "start_time": "2022-07-16T20:15:00.867Z"
      },
      {
        "duration": 12,
        "start_time": "2022-07-16T20:16:25.051Z"
      },
      {
        "duration": 10,
        "start_time": "2022-07-16T20:16:41.791Z"
      },
      {
        "duration": 12,
        "start_time": "2022-07-16T20:16:51.356Z"
      },
      {
        "duration": 30,
        "start_time": "2022-07-16T20:18:06.258Z"
      },
      {
        "duration": 20,
        "start_time": "2022-07-16T20:18:22.954Z"
      },
      {
        "duration": 45,
        "start_time": "2022-07-16T20:18:34.079Z"
      },
      {
        "duration": 17,
        "start_time": "2022-07-16T20:18:49.190Z"
      },
      {
        "duration": 14,
        "start_time": "2022-07-16T20:19:11.189Z"
      },
      {
        "duration": 50,
        "start_time": "2022-07-16T20:19:18.162Z"
      },
      {
        "duration": 1074,
        "start_time": "2022-07-16T20:19:54.096Z"
      },
      {
        "duration": 833,
        "start_time": "2022-07-16T20:19:55.172Z"
      },
      {
        "duration": 662,
        "start_time": "2022-07-16T20:19:56.008Z"
      },
      {
        "duration": 108,
        "start_time": "2022-07-16T20:19:56.672Z"
      },
      {
        "duration": 51,
        "start_time": "2022-07-16T20:19:56.782Z"
      },
      {
        "duration": 555,
        "start_time": "2022-07-16T20:19:56.835Z"
      },
      {
        "duration": 105,
        "start_time": "2022-07-16T20:19:57.391Z"
      },
      {
        "duration": 394,
        "start_time": "2022-07-16T20:19:57.497Z"
      },
      {
        "duration": 30,
        "start_time": "2022-07-16T20:19:57.892Z"
      },
      {
        "duration": 35,
        "start_time": "2022-07-16T20:19:57.925Z"
      },
      {
        "duration": 39,
        "start_time": "2022-07-16T20:19:57.961Z"
      },
      {
        "duration": 31,
        "start_time": "2022-07-16T20:19:58.001Z"
      },
      {
        "duration": 6,
        "start_time": "2022-07-16T20:19:58.053Z"
      },
      {
        "duration": 65,
        "start_time": "2022-07-16T20:19:58.061Z"
      },
      {
        "duration": 54,
        "start_time": "2022-07-16T20:19:58.128Z"
      },
      {
        "duration": 27,
        "start_time": "2022-07-16T20:19:58.184Z"
      },
      {
        "duration": 11,
        "start_time": "2022-07-16T20:19:58.213Z"
      },
      {
        "duration": 37,
        "start_time": "2022-07-16T20:19:58.226Z"
      },
      {
        "duration": 35,
        "start_time": "2022-07-16T20:19:58.265Z"
      },
      {
        "duration": 14,
        "start_time": "2022-07-16T20:19:58.302Z"
      },
      {
        "duration": 61,
        "start_time": "2022-07-16T20:19:58.318Z"
      },
      {
        "duration": 186,
        "start_time": "2022-07-16T20:19:58.381Z"
      },
      {
        "duration": 41,
        "start_time": "2022-07-16T20:19:58.568Z"
      },
      {
        "duration": 113,
        "start_time": "2022-07-16T20:19:58.611Z"
      },
      {
        "duration": 7,
        "start_time": "2022-07-16T20:19:58.726Z"
      },
      {
        "duration": 39,
        "start_time": "2022-07-16T20:19:58.735Z"
      },
      {
        "duration": 34,
        "start_time": "2022-07-16T20:19:58.776Z"
      },
      {
        "duration": 48,
        "start_time": "2022-07-16T20:19:58.813Z"
      },
      {
        "duration": 6,
        "start_time": "2022-07-16T20:19:58.862Z"
      },
      {
        "duration": 47,
        "start_time": "2022-07-16T20:19:58.869Z"
      },
      {
        "duration": 9,
        "start_time": "2022-07-16T20:19:58.917Z"
      },
      {
        "duration": 429,
        "start_time": "2022-07-16T20:19:58.952Z"
      },
      {
        "duration": 12,
        "start_time": "2022-07-16T20:19:59.383Z"
      },
      {
        "duration": 59,
        "start_time": "2022-07-16T20:19:59.397Z"
      },
      {
        "duration": 626,
        "start_time": "2022-07-16T20:19:59.458Z"
      },
      {
        "duration": 97,
        "start_time": "2022-07-16T20:20:00.086Z"
      },
      {
        "duration": 282,
        "start_time": "2022-07-16T20:22:42.319Z"
      },
      {
        "duration": 172,
        "start_time": "2022-07-16T20:24:42.909Z"
      },
      {
        "duration": 256,
        "start_time": "2022-07-16T20:25:03.274Z"
      },
      {
        "duration": 330,
        "start_time": "2022-07-16T20:25:17.841Z"
      },
      {
        "duration": 347,
        "start_time": "2022-07-16T20:25:30.082Z"
      },
      {
        "duration": 515,
        "start_time": "2022-07-16T20:25:40.927Z"
      },
      {
        "duration": 684,
        "start_time": "2022-07-16T20:25:59.162Z"
      },
      {
        "duration": 641,
        "start_time": "2022-07-16T20:26:08.649Z"
      },
      {
        "duration": 52,
        "start_time": "2022-07-16T20:28:36.292Z"
      },
      {
        "duration": 63,
        "start_time": "2022-07-16T20:29:07.236Z"
      },
      {
        "duration": 44,
        "start_time": "2022-07-16T20:29:08.047Z"
      },
      {
        "duration": 42,
        "start_time": "2022-07-16T20:29:08.519Z"
      },
      {
        "duration": 46,
        "start_time": "2022-07-16T20:29:08.827Z"
      },
      {
        "duration": 45,
        "start_time": "2022-07-16T20:29:09.037Z"
      },
      {
        "duration": 49,
        "start_time": "2022-07-16T20:29:09.213Z"
      },
      {
        "duration": 25,
        "start_time": "2022-07-16T20:35:04.225Z"
      },
      {
        "duration": 77,
        "start_time": "2022-07-16T20:35:26.327Z"
      },
      {
        "duration": 32,
        "start_time": "2022-07-16T20:35:31.538Z"
      },
      {
        "duration": 32,
        "start_time": "2022-07-16T20:35:39.041Z"
      },
      {
        "duration": 74,
        "start_time": "2022-07-16T20:35:56.996Z"
      },
      {
        "duration": 1238,
        "start_time": "2022-07-16T20:37:01.198Z"
      },
      {
        "duration": 802,
        "start_time": "2022-07-16T20:37:02.438Z"
      },
      {
        "duration": 594,
        "start_time": "2022-07-16T20:37:03.241Z"
      },
      {
        "duration": 103,
        "start_time": "2022-07-16T20:37:03.837Z"
      },
      {
        "duration": 101,
        "start_time": "2022-07-16T20:37:03.942Z"
      },
      {
        "duration": 202,
        "start_time": "2022-07-16T20:37:04.053Z"
      },
      {
        "duration": 370,
        "start_time": "2022-07-16T20:37:04.256Z"
      },
      {
        "duration": 32,
        "start_time": "2022-07-16T20:37:04.628Z"
      },
      {
        "duration": 28,
        "start_time": "2022-07-16T20:37:04.661Z"
      },
      {
        "duration": 45,
        "start_time": "2022-07-16T20:37:04.692Z"
      },
      {
        "duration": 34,
        "start_time": "2022-07-16T20:37:04.739Z"
      },
      {
        "duration": 15,
        "start_time": "2022-07-16T20:37:04.774Z"
      },
      {
        "duration": 540,
        "start_time": "2022-07-16T20:37:04.791Z"
      },
      {
        "duration": 67,
        "start_time": "2022-07-16T20:37:05.333Z"
      },
      {
        "duration": 42,
        "start_time": "2022-07-16T20:37:05.401Z"
      },
      {
        "duration": 25,
        "start_time": "2022-07-16T20:37:05.452Z"
      },
      {
        "duration": 31,
        "start_time": "2022-07-16T20:37:05.479Z"
      },
      {
        "duration": 53,
        "start_time": "2022-07-16T20:37:05.511Z"
      },
      {
        "duration": 7,
        "start_time": "2022-07-16T20:37:05.566Z"
      },
      {
        "duration": 12,
        "start_time": "2022-07-16T20:37:05.575Z"
      },
      {
        "duration": 32,
        "start_time": "2022-07-16T20:37:05.589Z"
      },
      {
        "duration": 40,
        "start_time": "2022-07-16T20:37:05.623Z"
      },
      {
        "duration": 33,
        "start_time": "2022-07-16T20:37:05.665Z"
      },
      {
        "duration": 204,
        "start_time": "2022-07-16T20:37:05.699Z"
      },
      {
        "duration": 50,
        "start_time": "2022-07-16T20:37:05.904Z"
      },
      {
        "duration": 134,
        "start_time": "2022-07-16T20:37:05.955Z"
      },
      {
        "duration": 10,
        "start_time": "2022-07-16T20:37:06.092Z"
      },
      {
        "duration": 53,
        "start_time": "2022-07-16T20:37:06.106Z"
      },
      {
        "duration": 13,
        "start_time": "2022-07-16T20:37:06.161Z"
      },
      {
        "duration": 47,
        "start_time": "2022-07-16T20:37:06.176Z"
      },
      {
        "duration": 33,
        "start_time": "2022-07-16T20:37:06.225Z"
      },
      {
        "duration": 426,
        "start_time": "2022-07-16T20:37:06.260Z"
      },
      {
        "duration": 12,
        "start_time": "2022-07-16T20:37:06.688Z"
      },
      {
        "duration": 73,
        "start_time": "2022-07-16T20:37:06.702Z"
      },
      {
        "duration": 620,
        "start_time": "2022-07-16T20:37:06.777Z"
      },
      {
        "duration": 76,
        "start_time": "2022-07-16T20:37:07.399Z"
      },
      {
        "duration": 22,
        "start_time": "2022-07-16T20:37:48.227Z"
      },
      {
        "duration": 1053,
        "start_time": "2022-07-16T20:37:56.275Z"
      },
      {
        "duration": 779,
        "start_time": "2022-07-16T20:37:57.329Z"
      },
      {
        "duration": 609,
        "start_time": "2022-07-16T20:37:58.109Z"
      },
      {
        "duration": 109,
        "start_time": "2022-07-16T20:37:58.720Z"
      },
      {
        "duration": 127,
        "start_time": "2022-07-16T20:37:58.831Z"
      },
      {
        "duration": 405,
        "start_time": "2022-07-16T20:37:58.960Z"
      },
      {
        "duration": 790,
        "start_time": "2022-07-16T20:37:59.367Z"
      },
      {
        "duration": 25,
        "start_time": "2022-07-16T20:38:00.158Z"
      },
      {
        "duration": 82,
        "start_time": "2022-07-16T20:38:00.185Z"
      },
      {
        "duration": 90,
        "start_time": "2022-07-16T20:38:00.270Z"
      },
      {
        "duration": 27,
        "start_time": "2022-07-16T20:38:00.362Z"
      },
      {
        "duration": 63,
        "start_time": "2022-07-16T20:38:00.390Z"
      },
      {
        "duration": 24,
        "start_time": "2022-07-16T20:38:00.455Z"
      },
      {
        "duration": 618,
        "start_time": "2022-07-16T20:38:00.481Z"
      },
      {
        "duration": 62,
        "start_time": "2022-07-16T20:38:01.101Z"
      },
      {
        "duration": 42,
        "start_time": "2022-07-16T20:38:01.165Z"
      },
      {
        "duration": 46,
        "start_time": "2022-07-16T20:38:01.208Z"
      },
      {
        "duration": 39,
        "start_time": "2022-07-16T20:38:01.256Z"
      },
      {
        "duration": 56,
        "start_time": "2022-07-16T20:38:01.297Z"
      },
      {
        "duration": 22,
        "start_time": "2022-07-16T20:38:01.355Z"
      },
      {
        "duration": 16,
        "start_time": "2022-07-16T20:38:01.379Z"
      },
      {
        "duration": 35,
        "start_time": "2022-07-16T20:38:01.396Z"
      },
      {
        "duration": 22,
        "start_time": "2022-07-16T20:38:01.433Z"
      },
      {
        "duration": 36,
        "start_time": "2022-07-16T20:38:01.456Z"
      },
      {
        "duration": 194,
        "start_time": "2022-07-16T20:38:01.494Z"
      },
      {
        "duration": 38,
        "start_time": "2022-07-16T20:38:01.689Z"
      },
      {
        "duration": 131,
        "start_time": "2022-07-16T20:38:01.728Z"
      },
      {
        "duration": 8,
        "start_time": "2022-07-16T20:38:01.862Z"
      },
      {
        "duration": 33,
        "start_time": "2022-07-16T20:38:01.872Z"
      },
      {
        "duration": 14,
        "start_time": "2022-07-16T20:38:01.907Z"
      },
      {
        "duration": 60,
        "start_time": "2022-07-16T20:38:01.923Z"
      },
      {
        "duration": 14,
        "start_time": "2022-07-16T20:38:01.985Z"
      },
      {
        "duration": 456,
        "start_time": "2022-07-16T20:38:02.001Z"
      },
      {
        "duration": 12,
        "start_time": "2022-07-16T20:38:02.459Z"
      },
      {
        "duration": 56,
        "start_time": "2022-07-16T20:38:02.473Z"
      },
      {
        "duration": 652,
        "start_time": "2022-07-16T20:38:02.531Z"
      },
      {
        "duration": 75,
        "start_time": "2022-07-16T20:38:03.185Z"
      },
      {
        "duration": 66,
        "start_time": "2022-07-16T20:38:14.878Z"
      },
      {
        "duration": 20,
        "start_time": "2022-07-16T20:38:22.030Z"
      },
      {
        "duration": 1135,
        "start_time": "2022-07-16T20:38:38.906Z"
      },
      {
        "duration": 742,
        "start_time": "2022-07-16T20:38:40.876Z"
      },
      {
        "duration": 593,
        "start_time": "2022-07-16T20:38:42.781Z"
      },
      {
        "duration": 92,
        "start_time": "2022-07-16T20:38:47.123Z"
      },
      {
        "duration": 94,
        "start_time": "2022-07-16T20:38:49.768Z"
      },
      {
        "duration": 207,
        "start_time": "2022-07-16T20:39:01.702Z"
      },
      {
        "duration": 319,
        "start_time": "2022-07-16T20:39:08.414Z"
      },
      {
        "duration": 32,
        "start_time": "2022-07-16T20:39:16.241Z"
      },
      {
        "duration": 25,
        "start_time": "2022-07-16T20:39:20.471Z"
      },
      {
        "duration": 46,
        "start_time": "2022-07-16T20:39:26.251Z"
      },
      {
        "duration": 101,
        "start_time": "2022-07-16T20:39:36.819Z"
      },
      {
        "duration": 31,
        "start_time": "2022-07-16T20:39:43.270Z"
      },
      {
        "duration": 13,
        "start_time": "2022-07-16T20:39:52.241Z"
      },
      {
        "duration": 503,
        "start_time": "2022-07-16T20:39:59.277Z"
      },
      {
        "duration": 67,
        "start_time": "2022-07-16T20:40:09.763Z"
      },
      {
        "duration": 57,
        "start_time": "2022-07-16T20:40:27.311Z"
      },
      {
        "duration": 43,
        "start_time": "2022-07-16T20:40:31.187Z"
      },
      {
        "duration": 1132,
        "start_time": "2022-07-16T20:40:42.217Z"
      },
      {
        "duration": 817,
        "start_time": "2022-07-16T20:40:43.352Z"
      },
      {
        "duration": 645,
        "start_time": "2022-07-16T20:40:44.171Z"
      },
      {
        "duration": 103,
        "start_time": "2022-07-16T20:40:44.818Z"
      },
      {
        "duration": 106,
        "start_time": "2022-07-16T20:40:44.923Z"
      },
      {
        "duration": 207,
        "start_time": "2022-07-16T20:40:45.030Z"
      },
      {
        "duration": 348,
        "start_time": "2022-07-16T20:40:45.238Z"
      },
      {
        "duration": 24,
        "start_time": "2022-07-16T20:40:45.588Z"
      },
      {
        "duration": 22,
        "start_time": "2022-07-16T20:40:45.614Z"
      },
      {
        "duration": 32,
        "start_time": "2022-07-16T20:40:45.651Z"
      },
      {
        "duration": 26,
        "start_time": "2022-07-16T20:40:45.685Z"
      },
      {
        "duration": 8,
        "start_time": "2022-07-16T20:40:45.713Z"
      },
      {
        "duration": 598,
        "start_time": "2022-07-16T20:40:45.723Z"
      },
      {
        "duration": 48,
        "start_time": "2022-07-16T20:40:46.324Z"
      },
      {
        "duration": 37,
        "start_time": "2022-07-16T20:40:46.374Z"
      },
      {
        "duration": 47,
        "start_time": "2022-07-16T20:40:46.413Z"
      },
      {
        "duration": 29,
        "start_time": "2022-07-16T20:40:46.461Z"
      },
      {
        "duration": 37,
        "start_time": "2022-07-16T20:40:46.492Z"
      },
      {
        "duration": 8,
        "start_time": "2022-07-16T20:40:46.552Z"
      },
      {
        "duration": 12,
        "start_time": "2022-07-16T20:40:46.562Z"
      },
      {
        "duration": 30,
        "start_time": "2022-07-16T20:40:46.576Z"
      },
      {
        "duration": 45,
        "start_time": "2022-07-16T20:40:46.608Z"
      },
      {
        "duration": 28,
        "start_time": "2022-07-16T20:40:46.655Z"
      },
      {
        "duration": 87,
        "start_time": "2022-07-16T20:40:46.685Z"
      },
      {
        "duration": 31,
        "start_time": "2022-07-16T20:40:46.774Z"
      },
      {
        "duration": 84,
        "start_time": "2022-07-16T20:40:46.806Z"
      },
      {
        "duration": 7,
        "start_time": "2022-07-16T20:40:46.892Z"
      },
      {
        "duration": 28,
        "start_time": "2022-07-16T20:40:46.901Z"
      },
      {
        "duration": 22,
        "start_time": "2022-07-16T20:40:46.931Z"
      },
      {
        "duration": 35,
        "start_time": "2022-07-16T20:40:46.954Z"
      },
      {
        "duration": 9,
        "start_time": "2022-07-16T20:40:46.990Z"
      },
      {
        "duration": 451,
        "start_time": "2022-07-16T20:40:47.001Z"
      },
      {
        "duration": 11,
        "start_time": "2022-07-16T20:40:47.454Z"
      },
      {
        "duration": 22,
        "start_time": "2022-07-16T20:40:47.467Z"
      },
      {
        "duration": 423,
        "start_time": "2022-07-16T20:40:47.491Z"
      },
      {
        "duration": 57,
        "start_time": "2022-07-16T20:40:47.916Z"
      },
      {
        "duration": 1084,
        "start_time": "2022-07-16T20:42:23.585Z"
      },
      {
        "duration": 849,
        "start_time": "2022-07-16T20:42:24.671Z"
      },
      {
        "duration": 630,
        "start_time": "2022-07-16T20:42:25.522Z"
      },
      {
        "duration": 112,
        "start_time": "2022-07-16T20:42:26.154Z"
      },
      {
        "duration": 100,
        "start_time": "2022-07-16T20:42:26.268Z"
      },
      {
        "duration": 207,
        "start_time": "2022-07-16T20:42:26.370Z"
      },
      {
        "duration": 385,
        "start_time": "2022-07-16T20:42:26.579Z"
      },
      {
        "duration": 26,
        "start_time": "2022-07-16T20:42:26.965Z"
      },
      {
        "duration": 27,
        "start_time": "2022-07-16T20:42:26.992Z"
      },
      {
        "duration": 49,
        "start_time": "2022-07-16T20:42:27.021Z"
      },
      {
        "duration": 28,
        "start_time": "2022-07-16T20:42:27.071Z"
      },
      {
        "duration": 13,
        "start_time": "2022-07-16T20:42:27.101Z"
      },
      {
        "duration": 529,
        "start_time": "2022-07-16T20:42:27.116Z"
      },
      {
        "duration": 36,
        "start_time": "2022-07-16T20:42:27.652Z"
      },
      {
        "duration": 33,
        "start_time": "2022-07-16T20:42:27.690Z"
      },
      {
        "duration": 49,
        "start_time": "2022-07-16T20:42:27.726Z"
      },
      {
        "duration": 29,
        "start_time": "2022-07-16T20:42:27.777Z"
      },
      {
        "duration": 45,
        "start_time": "2022-07-16T20:42:27.808Z"
      },
      {
        "duration": 7,
        "start_time": "2022-07-16T20:42:27.855Z"
      },
      {
        "duration": 10,
        "start_time": "2022-07-16T20:42:27.864Z"
      },
      {
        "duration": 28,
        "start_time": "2022-07-16T20:42:27.876Z"
      },
      {
        "duration": 22,
        "start_time": "2022-07-16T20:42:27.905Z"
      },
      {
        "duration": 41,
        "start_time": "2022-07-16T20:42:27.929Z"
      },
      {
        "duration": 82,
        "start_time": "2022-07-16T20:42:27.971Z"
      },
      {
        "duration": 34,
        "start_time": "2022-07-16T20:42:28.055Z"
      },
      {
        "duration": 85,
        "start_time": "2022-07-16T20:42:28.092Z"
      },
      {
        "duration": 8,
        "start_time": "2022-07-16T20:42:28.179Z"
      },
      {
        "duration": 24,
        "start_time": "2022-07-16T20:42:28.189Z"
      },
      {
        "duration": 7,
        "start_time": "2022-07-16T20:42:28.215Z"
      },
      {
        "duration": 58,
        "start_time": "2022-07-16T20:42:28.224Z"
      },
      {
        "duration": 8,
        "start_time": "2022-07-16T20:42:28.284Z"
      },
      {
        "duration": 435,
        "start_time": "2022-07-16T20:42:28.294Z"
      },
      {
        "duration": 10,
        "start_time": "2022-07-16T20:42:28.731Z"
      },
      {
        "duration": 23,
        "start_time": "2022-07-16T20:42:28.753Z"
      },
      {
        "duration": 351,
        "start_time": "2022-07-16T20:42:28.777Z"
      },
      {
        "duration": 50,
        "start_time": "2022-07-16T20:42:29.130Z"
      },
      {
        "duration": 1104,
        "start_time": "2022-07-16T20:42:47.079Z"
      },
      {
        "duration": 1691,
        "start_time": "2022-07-16T20:42:48.185Z"
      },
      {
        "duration": 556,
        "start_time": "2022-07-16T20:42:49.877Z"
      },
      {
        "duration": 90,
        "start_time": "2022-07-16T20:42:50.434Z"
      },
      {
        "duration": 100,
        "start_time": "2022-07-16T20:42:50.526Z"
      },
      {
        "duration": 208,
        "start_time": "2022-07-16T20:42:50.627Z"
      },
      {
        "duration": 386,
        "start_time": "2022-07-16T20:42:50.836Z"
      },
      {
        "duration": 23,
        "start_time": "2022-07-16T20:42:51.223Z"
      },
      {
        "duration": 22,
        "start_time": "2022-07-16T20:42:51.247Z"
      },
      {
        "duration": 32,
        "start_time": "2022-07-16T20:42:51.271Z"
      },
      {
        "duration": 50,
        "start_time": "2022-07-16T20:42:51.304Z"
      },
      {
        "duration": 11,
        "start_time": "2022-07-16T20:42:51.356Z"
      },
      {
        "duration": 555,
        "start_time": "2022-07-16T20:42:51.369Z"
      },
      {
        "duration": 45,
        "start_time": "2022-07-16T20:42:51.927Z"
      },
      {
        "duration": 37,
        "start_time": "2022-07-16T20:42:51.974Z"
      },
      {
        "duration": 45,
        "start_time": "2022-07-16T20:42:52.013Z"
      },
      {
        "duration": 28,
        "start_time": "2022-07-16T20:42:52.060Z"
      },
      {
        "duration": 35,
        "start_time": "2022-07-16T20:42:52.089Z"
      },
      {
        "duration": 28,
        "start_time": "2022-07-16T20:42:52.126Z"
      },
      {
        "duration": 11,
        "start_time": "2022-07-16T20:42:52.156Z"
      },
      {
        "duration": 30,
        "start_time": "2022-07-16T20:42:52.168Z"
      },
      {
        "duration": 13,
        "start_time": "2022-07-16T20:42:52.200Z"
      },
      {
        "duration": 63,
        "start_time": "2022-07-16T20:42:52.215Z"
      },
      {
        "duration": 83,
        "start_time": "2022-07-16T20:42:52.280Z"
      },
      {
        "duration": 34,
        "start_time": "2022-07-16T20:42:52.365Z"
      },
      {
        "duration": 93,
        "start_time": "2022-07-16T20:42:52.402Z"
      },
      {
        "duration": 10,
        "start_time": "2022-07-16T20:42:52.497Z"
      },
      {
        "duration": 27,
        "start_time": "2022-07-16T20:42:52.509Z"
      },
      {
        "duration": 7,
        "start_time": "2022-07-16T20:42:52.552Z"
      },
      {
        "duration": 38,
        "start_time": "2022-07-16T20:42:52.561Z"
      },
      {
        "duration": 9,
        "start_time": "2022-07-16T20:42:52.602Z"
      },
      {
        "duration": 460,
        "start_time": "2022-07-16T20:42:52.613Z"
      },
      {
        "duration": 11,
        "start_time": "2022-07-16T20:42:53.075Z"
      },
      {
        "duration": 23,
        "start_time": "2022-07-16T20:42:53.088Z"
      },
      {
        "duration": 397,
        "start_time": "2022-07-16T20:42:53.113Z"
      },
      {
        "duration": 59,
        "start_time": "2022-07-16T20:42:53.512Z"
      },
      {
        "duration": 652,
        "start_time": "2022-07-16T20:43:50.793Z"
      },
      {
        "duration": 26,
        "start_time": "2022-07-16T20:44:08.011Z"
      },
      {
        "duration": 427,
        "start_time": "2022-07-16T20:45:54.561Z"
      },
      {
        "duration": 396,
        "start_time": "2022-07-16T20:46:07.936Z"
      },
      {
        "duration": 1073,
        "start_time": "2022-07-16T20:47:44.191Z"
      },
      {
        "duration": 801,
        "start_time": "2022-07-16T20:47:45.266Z"
      },
      {
        "duration": 651,
        "start_time": "2022-07-16T20:47:46.069Z"
      },
      {
        "duration": 99,
        "start_time": "2022-07-16T20:47:46.722Z"
      },
      {
        "duration": 96,
        "start_time": "2022-07-16T20:47:46.822Z"
      },
      {
        "duration": 216,
        "start_time": "2022-07-16T20:47:46.920Z"
      },
      {
        "duration": 544,
        "start_time": "2022-07-16T20:47:47.138Z"
      },
      {
        "duration": 885,
        "start_time": "2022-07-16T20:47:47.684Z"
      },
      {
        "duration": 10,
        "start_time": "2022-07-16T20:47:48.571Z"
      },
      {
        "duration": 80,
        "start_time": "2022-07-16T20:47:48.583Z"
      },
      {
        "duration": 22,
        "start_time": "2022-07-16T20:47:48.664Z"
      },
      {
        "duration": 69,
        "start_time": "2022-07-16T20:47:48.687Z"
      },
      {
        "duration": 38,
        "start_time": "2022-07-16T20:47:48.758Z"
      },
      {
        "duration": 74,
        "start_time": "2022-07-16T20:47:48.798Z"
      },
      {
        "duration": 6,
        "start_time": "2022-07-16T20:47:48.874Z"
      },
      {
        "duration": 589,
        "start_time": "2022-07-16T20:47:48.881Z"
      },
      {
        "duration": 29,
        "start_time": "2022-07-16T20:47:49.471Z"
      },
      {
        "duration": 32,
        "start_time": "2022-07-16T20:47:49.501Z"
      },
      {
        "duration": 24,
        "start_time": "2022-07-16T20:47:49.553Z"
      },
      {
        "duration": 33,
        "start_time": "2022-07-16T20:47:49.579Z"
      },
      {
        "duration": 56,
        "start_time": "2022-07-16T20:47:49.613Z"
      },
      {
        "duration": 7,
        "start_time": "2022-07-16T20:47:49.671Z"
      },
      {
        "duration": 13,
        "start_time": "2022-07-16T20:47:49.680Z"
      },
      {
        "duration": 28,
        "start_time": "2022-07-16T20:47:49.695Z"
      },
      {
        "duration": 37,
        "start_time": "2022-07-16T20:47:49.725Z"
      },
      {
        "duration": 30,
        "start_time": "2022-07-16T20:47:49.764Z"
      },
      {
        "duration": 85,
        "start_time": "2022-07-16T20:47:49.796Z"
      },
      {
        "duration": 30,
        "start_time": "2022-07-16T20:47:49.884Z"
      },
      {
        "duration": 80,
        "start_time": "2022-07-16T20:47:49.916Z"
      },
      {
        "duration": 9,
        "start_time": "2022-07-16T20:47:49.998Z"
      },
      {
        "duration": 33,
        "start_time": "2022-07-16T20:47:50.008Z"
      },
      {
        "duration": 10,
        "start_time": "2022-07-16T20:47:50.043Z"
      },
      {
        "duration": 30,
        "start_time": "2022-07-16T20:47:50.055Z"
      },
      {
        "duration": 392,
        "start_time": "2022-07-16T20:47:50.087Z"
      },
      {
        "duration": 43,
        "start_time": "2022-07-16T20:47:50.480Z"
      },
      {
        "duration": 657,
        "start_time": "2022-07-16T20:48:56.257Z"
      },
      {
        "duration": 27,
        "start_time": "2022-07-16T20:49:04.734Z"
      },
      {
        "duration": 417,
        "start_time": "2022-07-16T20:49:36.962Z"
      },
      {
        "duration": 84,
        "start_time": "2022-07-16T20:49:48.638Z"
      },
      {
        "duration": 431,
        "start_time": "2022-07-16T20:49:53.368Z"
      },
      {
        "duration": 168,
        "start_time": "2022-07-16T20:50:02.367Z"
      },
      {
        "duration": 91,
        "start_time": "2022-07-16T20:50:04.894Z"
      },
      {
        "duration": 185,
        "start_time": "2022-07-16T20:50:08.291Z"
      },
      {
        "duration": 561,
        "start_time": "2022-07-16T20:50:10.605Z"
      },
      {
        "duration": 111,
        "start_time": "2022-07-16T20:50:26.023Z"
      },
      {
        "duration": 456,
        "start_time": "2022-07-16T20:50:30.607Z"
      },
      {
        "duration": 7,
        "start_time": "2022-07-16T20:50:49.903Z"
      },
      {
        "duration": 6,
        "start_time": "2022-07-16T20:50:57.012Z"
      },
      {
        "duration": 526,
        "start_time": "2022-07-16T20:51:02.365Z"
      },
      {
        "duration": 692,
        "start_time": "2022-07-16T20:51:05.837Z"
      },
      {
        "duration": 37,
        "start_time": "2022-07-16T20:51:11.667Z"
      },
      {
        "duration": 524,
        "start_time": "2022-07-16T20:51:17.330Z"
      },
      {
        "duration": 43,
        "start_time": "2022-07-16T20:51:32.450Z"
      },
      {
        "duration": 1149,
        "start_time": "2022-07-16T20:51:51.980Z"
      },
      {
        "duration": 769,
        "start_time": "2022-07-16T20:51:53.131Z"
      },
      {
        "duration": 561,
        "start_time": "2022-07-16T20:51:53.902Z"
      },
      {
        "duration": 98,
        "start_time": "2022-07-16T20:51:54.465Z"
      },
      {
        "duration": 111,
        "start_time": "2022-07-16T20:51:54.564Z"
      },
      {
        "duration": 3,
        "start_time": "2022-07-16T20:51:54.677Z"
      },
      {
        "duration": 426,
        "start_time": "2022-07-16T20:51:54.681Z"
      },
      {
        "duration": 549,
        "start_time": "2022-07-16T20:51:55.108Z"
      },
      {
        "duration": 14,
        "start_time": "2022-07-16T20:51:55.659Z"
      },
      {
        "duration": 83,
        "start_time": "2022-07-16T20:51:55.676Z"
      },
      {
        "duration": 26,
        "start_time": "2022-07-16T20:51:55.760Z"
      },
      {
        "duration": 71,
        "start_time": "2022-07-16T20:51:55.787Z"
      },
      {
        "duration": 34,
        "start_time": "2022-07-16T20:51:55.859Z"
      },
      {
        "duration": 28,
        "start_time": "2022-07-16T20:51:55.953Z"
      },
      {
        "duration": 8,
        "start_time": "2022-07-16T20:51:55.983Z"
      },
      {
        "duration": 1204,
        "start_time": "2022-07-16T20:51:55.993Z"
      },
      {
        "duration": 85,
        "start_time": "2022-07-16T20:51:57.198Z"
      },
      {
        "duration": 89,
        "start_time": "2022-07-16T20:51:57.285Z"
      },
      {
        "duration": 24,
        "start_time": "2022-07-16T20:51:57.375Z"
      },
      {
        "duration": 23,
        "start_time": "2022-07-16T20:51:57.453Z"
      },
      {
        "duration": 75,
        "start_time": "2022-07-16T20:51:57.478Z"
      },
      {
        "duration": 6,
        "start_time": "2022-07-16T20:51:57.555Z"
      },
      {
        "duration": 9,
        "start_time": "2022-07-16T20:51:57.563Z"
      },
      {
        "duration": 26,
        "start_time": "2022-07-16T20:51:57.574Z"
      },
      {
        "duration": 10,
        "start_time": "2022-07-16T20:51:57.601Z"
      },
      {
        "duration": 53,
        "start_time": "2022-07-16T20:51:57.612Z"
      },
      {
        "duration": 67,
        "start_time": "2022-07-16T20:51:57.667Z"
      },
      {
        "duration": 30,
        "start_time": "2022-07-16T20:51:57.753Z"
      },
      {
        "duration": 77,
        "start_time": "2022-07-16T20:51:57.784Z"
      },
      {
        "duration": 9,
        "start_time": "2022-07-16T20:51:57.862Z"
      },
      {
        "duration": 29,
        "start_time": "2022-07-16T20:51:57.872Z"
      },
      {
        "duration": 9,
        "start_time": "2022-07-16T20:51:57.902Z"
      },
      {
        "duration": 53,
        "start_time": "2022-07-16T20:51:57.913Z"
      },
      {
        "duration": 378,
        "start_time": "2022-07-16T20:51:57.967Z"
      },
      {
        "duration": 54,
        "start_time": "2022-07-16T20:51:58.346Z"
      },
      {
        "duration": 649,
        "start_time": "2022-07-16T20:52:05.686Z"
      },
      {
        "duration": 30,
        "start_time": "2022-07-16T20:52:36.393Z"
      },
      {
        "duration": 27,
        "start_time": "2022-07-16T20:53:11.625Z"
      },
      {
        "duration": 31,
        "start_time": "2022-07-16T20:53:22.287Z"
      },
      {
        "duration": 35,
        "start_time": "2022-07-16T20:53:34.171Z"
      },
      {
        "duration": 119,
        "start_time": "2022-07-16T20:57:20.991Z"
      },
      {
        "duration": 33,
        "start_time": "2022-07-16T21:00:58.654Z"
      },
      {
        "duration": 108,
        "start_time": "2022-07-16T21:04:22.105Z"
      },
      {
        "duration": 80,
        "start_time": "2022-07-16T21:04:29.726Z"
      },
      {
        "duration": 49,
        "start_time": "2022-07-16T21:04:35.706Z"
      },
      {
        "duration": 31,
        "start_time": "2022-07-16T21:04:41.958Z"
      },
      {
        "duration": 63,
        "start_time": "2022-07-16T21:04:53.618Z"
      },
      {
        "duration": 50,
        "start_time": "2022-07-16T21:04:58.620Z"
      },
      {
        "duration": 96,
        "start_time": "2022-07-16T21:05:23.724Z"
      },
      {
        "duration": 14,
        "start_time": "2022-07-16T21:06:42.293Z"
      },
      {
        "duration": 29,
        "start_time": "2022-07-16T21:07:15.063Z"
      },
      {
        "duration": 23,
        "start_time": "2022-07-16T21:09:48.442Z"
      },
      {
        "duration": 22,
        "start_time": "2022-07-16T21:11:41.966Z"
      },
      {
        "duration": 1084,
        "start_time": "2022-07-16T21:11:53.092Z"
      },
      {
        "duration": 825,
        "start_time": "2022-07-16T21:11:54.178Z"
      },
      {
        "duration": 644,
        "start_time": "2022-07-16T21:11:55.004Z"
      },
      {
        "duration": 112,
        "start_time": "2022-07-16T21:11:55.653Z"
      },
      {
        "duration": 102,
        "start_time": "2022-07-16T21:11:55.766Z"
      },
      {
        "duration": 3,
        "start_time": "2022-07-16T21:11:55.870Z"
      },
      {
        "duration": 415,
        "start_time": "2022-07-16T21:11:55.874Z"
      },
      {
        "duration": 437,
        "start_time": "2022-07-16T21:11:56.290Z"
      },
      {
        "duration": 11,
        "start_time": "2022-07-16T21:11:56.729Z"
      },
      {
        "duration": 29,
        "start_time": "2022-07-16T21:11:56.751Z"
      },
      {
        "duration": 24,
        "start_time": "2022-07-16T21:11:56.782Z"
      },
      {
        "duration": 22,
        "start_time": "2022-07-16T21:11:56.807Z"
      },
      {
        "duration": 32,
        "start_time": "2022-07-16T21:11:56.851Z"
      },
      {
        "duration": 31,
        "start_time": "2022-07-16T21:11:56.885Z"
      },
      {
        "duration": 41,
        "start_time": "2022-07-16T21:11:56.918Z"
      },
      {
        "duration": 6,
        "start_time": "2022-07-16T21:11:56.961Z"
      },
      {
        "duration": 514,
        "start_time": "2022-07-16T21:11:56.969Z"
      },
      {
        "duration": 35,
        "start_time": "2022-07-16T21:11:57.484Z"
      },
      {
        "duration": 47,
        "start_time": "2022-07-16T21:11:57.521Z"
      },
      {
        "duration": 25,
        "start_time": "2022-07-16T21:11:57.569Z"
      },
      {
        "duration": 33,
        "start_time": "2022-07-16T21:11:57.595Z"
      },
      {
        "duration": 51,
        "start_time": "2022-07-16T21:11:57.630Z"
      },
      {
        "duration": 118,
        "start_time": "2022-07-16T21:11:57.682Z"
      },
      {
        "duration": 24,
        "start_time": "2022-07-16T21:11:57.801Z"
      },
      {
        "duration": 8,
        "start_time": "2022-07-16T21:11:57.827Z"
      },
      {
        "duration": 11,
        "start_time": "2022-07-16T21:11:57.853Z"
      },
      {
        "duration": 27,
        "start_time": "2022-07-16T21:11:57.865Z"
      },
      {
        "duration": 11,
        "start_time": "2022-07-16T21:11:57.895Z"
      },
      {
        "duration": 52,
        "start_time": "2022-07-16T21:11:57.908Z"
      },
      {
        "duration": 101,
        "start_time": "2022-07-16T21:11:57.961Z"
      },
      {
        "duration": 31,
        "start_time": "2022-07-16T21:11:58.064Z"
      },
      {
        "duration": 82,
        "start_time": "2022-07-16T21:11:58.097Z"
      },
      {
        "duration": 8,
        "start_time": "2022-07-16T21:11:58.180Z"
      },
      {
        "duration": 49,
        "start_time": "2022-07-16T21:11:58.189Z"
      },
      {
        "duration": 30,
        "start_time": "2022-07-16T21:11:58.240Z"
      },
      {
        "duration": 53,
        "start_time": "2022-07-16T21:11:58.272Z"
      },
      {
        "duration": 23,
        "start_time": "2022-07-16T21:11:58.327Z"
      },
      {
        "duration": 364,
        "start_time": "2022-07-16T21:11:58.351Z"
      },
      {
        "duration": 57,
        "start_time": "2022-07-16T21:11:58.717Z"
      },
      {
        "duration": 54,
        "start_time": "2022-07-16T21:12:15.375Z"
      },
      {
        "duration": 85,
        "start_time": "2022-07-16T21:16:24.956Z"
      },
      {
        "duration": 70,
        "start_time": "2022-07-16T21:18:14.907Z"
      },
      {
        "duration": 74,
        "start_time": "2022-07-16T21:18:43.351Z"
      },
      {
        "duration": 68,
        "start_time": "2022-07-16T21:19:06.313Z"
      },
      {
        "duration": 65,
        "start_time": "2022-07-16T21:21:00.240Z"
      },
      {
        "duration": 35,
        "start_time": "2022-07-16T21:22:14.256Z"
      },
      {
        "duration": 33,
        "start_time": "2022-07-16T21:33:43.932Z"
      },
      {
        "duration": 157,
        "start_time": "2022-07-16T21:33:55.114Z"
      },
      {
        "duration": 24,
        "start_time": "2022-07-16T21:34:00.318Z"
      },
      {
        "duration": 30,
        "start_time": "2022-07-16T21:34:07.586Z"
      },
      {
        "duration": 24,
        "start_time": "2022-07-16T21:34:12.959Z"
      },
      {
        "duration": 143,
        "start_time": "2022-07-16T21:34:29.673Z"
      },
      {
        "duration": 23,
        "start_time": "2022-07-16T21:36:33.849Z"
      },
      {
        "duration": 60,
        "start_time": "2022-07-16T21:36:37.766Z"
      },
      {
        "duration": 290,
        "start_time": "2022-07-16T21:42:22.628Z"
      },
      {
        "duration": 250,
        "start_time": "2022-07-16T21:42:32.334Z"
      },
      {
        "duration": 281,
        "start_time": "2022-07-16T21:43:17.294Z"
      },
      {
        "duration": 20,
        "start_time": "2022-07-16T21:47:01.101Z"
      },
      {
        "duration": 54,
        "start_time": "2022-07-16T21:47:59.112Z"
      },
      {
        "duration": 525,
        "start_time": "2022-07-16T21:48:53.131Z"
      },
      {
        "duration": 590,
        "start_time": "2022-07-16T21:49:41.088Z"
      },
      {
        "duration": 110,
        "start_time": "2022-07-16T21:49:49.955Z"
      },
      {
        "duration": 9,
        "start_time": "2022-07-16T21:49:54.526Z"
      },
      {
        "duration": 1086,
        "start_time": "2022-07-16T21:50:08.381Z"
      },
      {
        "duration": 1098,
        "start_time": "2022-07-16T21:50:09.469Z"
      },
      {
        "duration": 1060,
        "start_time": "2022-07-16T21:50:10.568Z"
      },
      {
        "duration": 104,
        "start_time": "2022-07-16T21:50:11.630Z"
      },
      {
        "duration": 105,
        "start_time": "2022-07-16T21:50:11.736Z"
      },
      {
        "duration": 2,
        "start_time": "2022-07-16T21:50:11.852Z"
      },
      {
        "duration": 386,
        "start_time": "2022-07-16T21:50:11.856Z"
      },
      {
        "duration": 490,
        "start_time": "2022-07-16T21:50:12.243Z"
      },
      {
        "duration": 28,
        "start_time": "2022-07-16T21:50:12.735Z"
      },
      {
        "duration": 30,
        "start_time": "2022-07-16T21:50:12.765Z"
      },
      {
        "duration": 28,
        "start_time": "2022-07-16T21:50:12.797Z"
      },
      {
        "duration": 41,
        "start_time": "2022-07-16T21:50:12.827Z"
      },
      {
        "duration": 22,
        "start_time": "2022-07-16T21:50:12.870Z"
      },
      {
        "duration": 36,
        "start_time": "2022-07-16T21:50:12.893Z"
      },
      {
        "duration": 47,
        "start_time": "2022-07-16T21:50:12.931Z"
      },
      {
        "duration": 26,
        "start_time": "2022-07-16T21:50:12.979Z"
      },
      {
        "duration": 6,
        "start_time": "2022-07-16T21:50:13.007Z"
      },
      {
        "duration": 533,
        "start_time": "2022-07-16T21:50:13.014Z"
      },
      {
        "duration": 40,
        "start_time": "2022-07-16T21:50:13.548Z"
      },
      {
        "duration": 36,
        "start_time": "2022-07-16T21:50:13.590Z"
      },
      {
        "duration": 45,
        "start_time": "2022-07-16T21:50:13.627Z"
      },
      {
        "duration": 33,
        "start_time": "2022-07-16T21:50:13.674Z"
      },
      {
        "duration": 57,
        "start_time": "2022-07-16T21:50:13.709Z"
      },
      {
        "duration": 116,
        "start_time": "2022-07-16T21:50:13.768Z"
      },
      {
        "duration": 22,
        "start_time": "2022-07-16T21:50:13.886Z"
      },
      {
        "duration": 9,
        "start_time": "2022-07-16T21:50:13.910Z"
      },
      {
        "duration": 32,
        "start_time": "2022-07-16T21:50:13.921Z"
      },
      {
        "duration": 27,
        "start_time": "2022-07-16T21:50:13.957Z"
      },
      {
        "duration": 361,
        "start_time": "2022-07-16T21:50:13.986Z"
      },
      {
        "duration": 27,
        "start_time": "2022-07-16T21:50:14.352Z"
      },
      {
        "duration": 21,
        "start_time": "2022-07-16T21:50:14.382Z"
      },
      {
        "duration": 21,
        "start_time": "2022-07-16T21:50:14.405Z"
      },
      {
        "duration": 25,
        "start_time": "2022-07-16T21:50:14.428Z"
      },
      {
        "duration": 29,
        "start_time": "2022-07-16T21:50:14.455Z"
      },
      {
        "duration": 34,
        "start_time": "2022-07-16T21:50:14.485Z"
      },
      {
        "duration": 663,
        "start_time": "2022-07-16T21:50:14.521Z"
      },
      {
        "duration": 382,
        "start_time": "2022-07-16T21:50:15.186Z"
      },
      {
        "duration": 42,
        "start_time": "2022-07-16T21:50:15.569Z"
      },
      {
        "duration": 572,
        "start_time": "2022-07-16T21:50:24.927Z"
      },
      {
        "duration": 49,
        "start_time": "2022-07-16T21:50:37.674Z"
      },
      {
        "duration": 1151,
        "start_time": "2022-07-16T21:50:45.411Z"
      },
      {
        "duration": 892,
        "start_time": "2022-07-16T21:50:46.565Z"
      },
      {
        "duration": 618,
        "start_time": "2022-07-16T21:50:47.459Z"
      },
      {
        "duration": 111,
        "start_time": "2022-07-16T21:50:48.080Z"
      },
      {
        "duration": 107,
        "start_time": "2022-07-16T21:50:48.193Z"
      },
      {
        "duration": 3,
        "start_time": "2022-07-16T21:50:48.301Z"
      },
      {
        "duration": 429,
        "start_time": "2022-07-16T21:50:48.306Z"
      },
      {
        "duration": 466,
        "start_time": "2022-07-16T21:50:48.737Z"
      },
      {
        "duration": 12,
        "start_time": "2022-07-16T21:50:49.205Z"
      },
      {
        "duration": 52,
        "start_time": "2022-07-16T21:50:49.220Z"
      },
      {
        "duration": 26,
        "start_time": "2022-07-16T21:50:49.274Z"
      },
      {
        "duration": 27,
        "start_time": "2022-07-16T21:50:49.302Z"
      },
      {
        "duration": 33,
        "start_time": "2022-07-16T21:50:49.330Z"
      },
      {
        "duration": 36,
        "start_time": "2022-07-16T21:50:49.364Z"
      },
      {
        "duration": 28,
        "start_time": "2022-07-16T21:50:49.402Z"
      },
      {
        "duration": 31,
        "start_time": "2022-07-16T21:50:49.431Z"
      },
      {
        "duration": 6,
        "start_time": "2022-07-16T21:50:49.464Z"
      },
      {
        "duration": 627,
        "start_time": "2022-07-16T21:50:49.471Z"
      },
      {
        "duration": 37,
        "start_time": "2022-07-16T21:50:50.100Z"
      },
      {
        "duration": 45,
        "start_time": "2022-07-16T21:50:50.139Z"
      },
      {
        "duration": 27,
        "start_time": "2022-07-16T21:50:50.185Z"
      },
      {
        "duration": 53,
        "start_time": "2022-07-16T21:50:50.214Z"
      },
      {
        "duration": 35,
        "start_time": "2022-07-16T21:50:50.268Z"
      },
      {
        "duration": 129,
        "start_time": "2022-07-16T21:50:50.305Z"
      },
      {
        "duration": 30,
        "start_time": "2022-07-16T21:50:50.436Z"
      },
      {
        "duration": 6,
        "start_time": "2022-07-16T21:50:50.469Z"
      },
      {
        "duration": 11,
        "start_time": "2022-07-16T21:50:50.477Z"
      },
      {
        "duration": 34,
        "start_time": "2022-07-16T21:50:50.493Z"
      },
      {
        "duration": 382,
        "start_time": "2022-07-16T21:50:50.529Z"
      },
      {
        "duration": 39,
        "start_time": "2022-07-16T21:50:50.913Z"
      },
      {
        "duration": 22,
        "start_time": "2022-07-16T21:50:50.954Z"
      },
      {
        "duration": 23,
        "start_time": "2022-07-16T21:50:50.977Z"
      },
      {
        "duration": 5,
        "start_time": "2022-07-16T21:50:51.002Z"
      },
      {
        "duration": 51,
        "start_time": "2022-07-16T21:50:51.009Z"
      },
      {
        "duration": 35,
        "start_time": "2022-07-16T21:50:51.062Z"
      },
      {
        "duration": 69,
        "start_time": "2022-07-16T21:50:51.099Z"
      },
      {
        "duration": 371,
        "start_time": "2022-07-16T21:50:51.170Z"
      },
      {
        "duration": 51,
        "start_time": "2022-07-16T21:50:51.542Z"
      },
      {
        "duration": 361,
        "start_time": "2022-07-16T21:51:16.134Z"
      },
      {
        "duration": 538,
        "start_time": "2022-07-16T21:52:49.816Z"
      },
      {
        "duration": 55,
        "start_time": "2022-07-16T21:53:37.729Z"
      },
      {
        "duration": 43,
        "start_time": "2022-07-16T21:54:52.055Z"
      },
      {
        "duration": 24,
        "start_time": "2022-07-16T21:55:29.952Z"
      },
      {
        "duration": 50,
        "start_time": "2022-07-16T21:56:04.455Z"
      },
      {
        "duration": 65,
        "start_time": "2022-07-16T21:56:25.045Z"
      },
      {
        "duration": 57,
        "start_time": "2022-07-16T21:57:24.490Z"
      },
      {
        "duration": 1082,
        "start_time": "2022-07-16T21:57:31.554Z"
      },
      {
        "duration": 929,
        "start_time": "2022-07-16T21:57:32.638Z"
      },
      {
        "duration": 1331,
        "start_time": "2022-07-16T21:57:33.569Z"
      },
      {
        "duration": 212,
        "start_time": "2022-07-16T21:57:34.952Z"
      },
      {
        "duration": 203,
        "start_time": "2022-07-16T21:57:35.166Z"
      },
      {
        "duration": 2,
        "start_time": "2022-07-16T21:57:35.370Z"
      },
      {
        "duration": 476,
        "start_time": "2022-07-16T21:57:35.374Z"
      },
      {
        "duration": 490,
        "start_time": "2022-07-16T21:57:35.852Z"
      },
      {
        "duration": 19,
        "start_time": "2022-07-16T21:57:36.344Z"
      },
      {
        "duration": 29,
        "start_time": "2022-07-16T21:57:36.366Z"
      },
      {
        "duration": 25,
        "start_time": "2022-07-16T21:57:36.397Z"
      },
      {
        "duration": 91,
        "start_time": "2022-07-16T21:57:36.424Z"
      },
      {
        "duration": 36,
        "start_time": "2022-07-16T21:57:36.517Z"
      },
      {
        "duration": 20,
        "start_time": "2022-07-16T21:57:36.555Z"
      },
      {
        "duration": 36,
        "start_time": "2022-07-16T21:57:36.577Z"
      },
      {
        "duration": 45,
        "start_time": "2022-07-16T21:57:36.615Z"
      },
      {
        "duration": 24,
        "start_time": "2022-07-16T21:57:36.662Z"
      },
      {
        "duration": 6,
        "start_time": "2022-07-16T21:57:36.688Z"
      },
      {
        "duration": 526,
        "start_time": "2022-07-16T21:57:36.696Z"
      },
      {
        "duration": 42,
        "start_time": "2022-07-16T21:57:37.224Z"
      },
      {
        "duration": 32,
        "start_time": "2022-07-16T21:57:37.268Z"
      },
      {
        "duration": 24,
        "start_time": "2022-07-16T21:57:37.302Z"
      },
      {
        "duration": 49,
        "start_time": "2022-07-16T21:57:37.328Z"
      },
      {
        "duration": 34,
        "start_time": "2022-07-16T21:57:37.379Z"
      },
      {
        "duration": 118,
        "start_time": "2022-07-16T21:57:37.414Z"
      },
      {
        "duration": 33,
        "start_time": "2022-07-16T21:57:37.534Z"
      },
      {
        "duration": 8,
        "start_time": "2022-07-16T21:57:37.569Z"
      },
      {
        "duration": 11,
        "start_time": "2022-07-16T21:57:37.580Z"
      },
      {
        "duration": 26,
        "start_time": "2022-07-16T21:57:37.593Z"
      },
      {
        "duration": 386,
        "start_time": "2022-07-16T21:57:37.621Z"
      },
      {
        "duration": 26,
        "start_time": "2022-07-16T21:57:38.009Z"
      },
      {
        "duration": 35,
        "start_time": "2022-07-16T21:57:38.036Z"
      },
      {
        "duration": 21,
        "start_time": "2022-07-16T21:57:38.073Z"
      },
      {
        "duration": 7,
        "start_time": "2022-07-16T21:57:38.096Z"
      },
      {
        "duration": 49,
        "start_time": "2022-07-16T21:57:38.104Z"
      },
      {
        "duration": 37,
        "start_time": "2022-07-16T21:57:38.154Z"
      },
      {
        "duration": 70,
        "start_time": "2022-07-16T21:57:38.192Z"
      },
      {
        "duration": 67,
        "start_time": "2022-07-16T21:57:38.264Z"
      },
      {
        "duration": 375,
        "start_time": "2022-07-16T21:57:38.333Z"
      },
      {
        "duration": 58,
        "start_time": "2022-07-16T21:57:38.710Z"
      },
      {
        "duration": 104,
        "start_time": "2022-07-16T21:58:16.132Z"
      },
      {
        "duration": 156,
        "start_time": "2022-07-16T21:58:20.429Z"
      },
      {
        "duration": 100,
        "start_time": "2022-07-16T21:58:25.569Z"
      },
      {
        "duration": 77,
        "start_time": "2022-07-16T21:58:54.010Z"
      },
      {
        "duration": 76,
        "start_time": "2022-07-16T21:59:02.967Z"
      },
      {
        "duration": 84,
        "start_time": "2022-07-16T21:59:33.318Z"
      },
      {
        "duration": 78,
        "start_time": "2022-07-16T21:59:42.248Z"
      },
      {
        "duration": 80,
        "start_time": "2022-07-16T21:59:48.610Z"
      },
      {
        "duration": 68,
        "start_time": "2022-07-16T22:00:11.623Z"
      },
      {
        "duration": 78,
        "start_time": "2022-07-16T22:00:15.627Z"
      },
      {
        "duration": 82,
        "start_time": "2022-07-16T22:00:27.971Z"
      },
      {
        "duration": 88,
        "start_time": "2022-07-16T22:01:11.138Z"
      },
      {
        "duration": 102,
        "start_time": "2022-07-16T22:01:33.481Z"
      },
      {
        "duration": 112,
        "start_time": "2022-07-16T22:01:48.806Z"
      },
      {
        "duration": 96,
        "start_time": "2022-07-16T22:01:59.005Z"
      },
      {
        "duration": 84,
        "start_time": "2022-07-16T22:02:26.428Z"
      },
      {
        "duration": 1305,
        "start_time": "2022-07-17T07:34:03.358Z"
      },
      {
        "duration": 1042,
        "start_time": "2022-07-17T07:34:04.846Z"
      },
      {
        "duration": 581,
        "start_time": "2022-07-17T07:34:05.890Z"
      },
      {
        "duration": 95,
        "start_time": "2022-07-17T07:34:06.472Z"
      },
      {
        "duration": 114,
        "start_time": "2022-07-17T07:34:08.444Z"
      },
      {
        "duration": 3,
        "start_time": "2022-07-17T07:34:20.173Z"
      },
      {
        "duration": 369,
        "start_time": "2022-07-17T07:34:26.150Z"
      },
      {
        "duration": 373,
        "start_time": "2022-07-17T07:34:30.553Z"
      },
      {
        "duration": 370,
        "start_time": "2022-07-17T07:34:32.216Z"
      },
      {
        "duration": 348,
        "start_time": "2022-07-17T07:34:34.317Z"
      },
      {
        "duration": 513,
        "start_time": "2022-07-17T07:34:36.447Z"
      },
      {
        "duration": 440,
        "start_time": "2022-07-17T07:34:38.713Z"
      },
      {
        "duration": 14,
        "start_time": "2022-07-17T07:34:44.775Z"
      },
      {
        "duration": 30,
        "start_time": "2022-07-17T07:34:46.274Z"
      },
      {
        "duration": 28,
        "start_time": "2022-07-17T07:34:51.606Z"
      },
      {
        "duration": 107,
        "start_time": "2022-07-17T07:34:53.401Z"
      },
      {
        "duration": 73,
        "start_time": "2022-07-17T07:35:59.253Z"
      },
      {
        "duration": 62,
        "start_time": "2022-07-17T07:36:23.408Z"
      },
      {
        "duration": 62,
        "start_time": "2022-07-17T07:36:33.157Z"
      },
      {
        "duration": 61,
        "start_time": "2022-07-17T07:36:36.958Z"
      },
      {
        "duration": 52,
        "start_time": "2022-07-17T07:36:43.962Z"
      },
      {
        "duration": 27,
        "start_time": "2022-07-17T07:58:54.857Z"
      },
      {
        "duration": 24,
        "start_time": "2022-07-17T07:58:57.368Z"
      },
      {
        "duration": 38,
        "start_time": "2022-07-17T07:59:09.258Z"
      },
      {
        "duration": 30,
        "start_time": "2022-07-17T07:59:14.109Z"
      },
      {
        "duration": 28,
        "start_time": "2022-07-17T07:59:32.960Z"
      },
      {
        "duration": 6,
        "start_time": "2022-07-17T07:59:39.268Z"
      },
      {
        "duration": 102,
        "start_time": "2022-07-17T07:59:58.167Z"
      },
      {
        "duration": 266,
        "start_time": "2022-07-17T08:00:06.057Z"
      },
      {
        "duration": 345,
        "start_time": "2022-07-17T08:00:35.462Z"
      },
      {
        "duration": 243,
        "start_time": "2022-07-17T08:00:39.660Z"
      },
      {
        "duration": 243,
        "start_time": "2022-07-17T08:00:45.313Z"
      },
      {
        "duration": 246,
        "start_time": "2022-07-17T08:00:48.199Z"
      },
      {
        "duration": 250,
        "start_time": "2022-07-17T08:00:54.280Z"
      },
      {
        "duration": 331,
        "start_time": "2022-07-17T08:00:57.576Z"
      },
      {
        "duration": 423,
        "start_time": "2022-07-17T08:01:02.423Z"
      },
      {
        "duration": 256,
        "start_time": "2022-07-17T08:01:09.962Z"
      },
      {
        "duration": 4,
        "start_time": "2022-07-17T08:02:14.702Z"
      },
      {
        "duration": 5,
        "start_time": "2022-07-17T08:04:09.586Z"
      },
      {
        "duration": 25,
        "start_time": "2022-07-17T08:04:18.553Z"
      },
      {
        "duration": 247,
        "start_time": "2022-07-17T08:04:24.232Z"
      },
      {
        "duration": 24,
        "start_time": "2022-07-17T08:04:26.361Z"
      },
      {
        "duration": 251,
        "start_time": "2022-07-17T08:04:43.583Z"
      },
      {
        "duration": 26,
        "start_time": "2022-07-17T08:04:45.157Z"
      },
      {
        "duration": 252,
        "start_time": "2022-07-17T08:04:53.019Z"
      },
      {
        "duration": 336,
        "start_time": "2022-07-17T08:05:03.684Z"
      },
      {
        "duration": 26,
        "start_time": "2022-07-17T08:05:05.727Z"
      },
      {
        "duration": 325,
        "start_time": "2022-07-17T08:05:49.508Z"
      },
      {
        "duration": 32,
        "start_time": "2022-07-17T08:05:58.381Z"
      },
      {
        "duration": 443,
        "start_time": "2022-07-17T08:06:06.653Z"
      },
      {
        "duration": 49,
        "start_time": "2022-07-17T08:06:42.753Z"
      },
      {
        "duration": 1155,
        "start_time": "2022-07-17T08:06:57.155Z"
      },
      {
        "duration": 822,
        "start_time": "2022-07-17T08:06:58.312Z"
      },
      {
        "duration": 602,
        "start_time": "2022-07-17T08:06:59.136Z"
      },
      {
        "duration": 96,
        "start_time": "2022-07-17T08:06:59.740Z"
      },
      {
        "duration": 119,
        "start_time": "2022-07-17T08:06:59.838Z"
      },
      {
        "duration": 3,
        "start_time": "2022-07-17T08:06:59.964Z"
      },
      {
        "duration": 1007,
        "start_time": "2022-07-17T08:06:59.969Z"
      },
      {
        "duration": 1102,
        "start_time": "2022-07-17T08:07:00.978Z"
      },
      {
        "duration": 12,
        "start_time": "2022-07-17T08:07:02.082Z"
      },
      {
        "duration": 39,
        "start_time": "2022-07-17T08:07:02.096Z"
      },
      {
        "duration": 54,
        "start_time": "2022-07-17T08:07:02.137Z"
      },
      {
        "duration": 96,
        "start_time": "2022-07-17T08:07:02.193Z"
      },
      {
        "duration": 27,
        "start_time": "2022-07-17T08:07:02.290Z"
      },
      {
        "duration": 26,
        "start_time": "2022-07-17T08:07:02.319Z"
      },
      {
        "duration": 52,
        "start_time": "2022-07-17T08:07:02.347Z"
      },
      {
        "duration": 29,
        "start_time": "2022-07-17T08:07:02.401Z"
      },
      {
        "duration": 56,
        "start_time": "2022-07-17T08:07:02.432Z"
      },
      {
        "duration": 9,
        "start_time": "2022-07-17T08:07:02.491Z"
      },
      {
        "duration": 597,
        "start_time": "2022-07-17T08:07:02.502Z"
      },
      {
        "duration": 26,
        "start_time": "2022-07-17T08:07:03.101Z"
      },
      {
        "duration": 51,
        "start_time": "2022-07-17T08:07:03.129Z"
      },
      {
        "duration": 36,
        "start_time": "2022-07-17T08:07:03.182Z"
      },
      {
        "duration": 46,
        "start_time": "2022-07-17T08:07:03.219Z"
      },
      {
        "duration": 32,
        "start_time": "2022-07-17T08:07:03.267Z"
      },
      {
        "duration": 37,
        "start_time": "2022-07-17T08:07:03.301Z"
      },
      {
        "duration": 139,
        "start_time": "2022-07-17T08:07:03.340Z"
      },
      {
        "duration": 36,
        "start_time": "2022-07-17T08:07:03.480Z"
      },
      {
        "duration": 10,
        "start_time": "2022-07-17T08:07:03.520Z"
      },
      {
        "duration": 40,
        "start_time": "2022-07-17T08:07:03.532Z"
      },
      {
        "duration": 40,
        "start_time": "2022-07-17T08:07:03.574Z"
      },
      {
        "duration": 355,
        "start_time": "2022-07-17T08:07:03.616Z"
      },
      {
        "duration": 30,
        "start_time": "2022-07-17T08:07:03.973Z"
      },
      {
        "duration": 23,
        "start_time": "2022-07-17T08:07:04.005Z"
      },
      {
        "duration": 46,
        "start_time": "2022-07-17T08:07:04.030Z"
      },
      {
        "duration": 5,
        "start_time": "2022-07-17T08:07:04.077Z"
      },
      {
        "duration": 41,
        "start_time": "2022-07-17T08:07:04.083Z"
      },
      {
        "duration": 80,
        "start_time": "2022-07-17T08:07:04.126Z"
      },
      {
        "duration": 109,
        "start_time": "2022-07-17T08:07:04.208Z"
      },
      {
        "duration": 98,
        "start_time": "2022-07-17T08:07:04.319Z"
      },
      {
        "duration": 392,
        "start_time": "2022-07-17T08:07:04.419Z"
      },
      {
        "duration": 40,
        "start_time": "2022-07-17T08:07:04.813Z"
      },
      {
        "duration": 522,
        "start_time": "2022-07-17T08:07:34.494Z"
      },
      {
        "duration": 1392,
        "start_time": "2022-07-17T08:07:45.013Z"
      },
      {
        "duration": 1503,
        "start_time": "2022-07-17T08:07:46.407Z"
      },
      {
        "duration": 612,
        "start_time": "2022-07-17T08:07:47.912Z"
      },
      {
        "duration": 107,
        "start_time": "2022-07-17T08:07:48.526Z"
      },
      {
        "duration": 115,
        "start_time": "2022-07-17T08:07:48.635Z"
      },
      {
        "duration": 2,
        "start_time": "2022-07-17T08:07:48.764Z"
      },
      {
        "duration": 393,
        "start_time": "2022-07-17T08:07:48.768Z"
      },
      {
        "duration": 445,
        "start_time": "2022-07-17T08:07:49.164Z"
      },
      {
        "duration": 13,
        "start_time": "2022-07-17T08:07:49.610Z"
      },
      {
        "duration": 52,
        "start_time": "2022-07-17T08:07:49.625Z"
      },
      {
        "duration": 44,
        "start_time": "2022-07-17T08:07:49.679Z"
      },
      {
        "duration": 70,
        "start_time": "2022-07-17T08:07:49.724Z"
      },
      {
        "duration": 27,
        "start_time": "2022-07-17T08:07:49.796Z"
      },
      {
        "duration": 39,
        "start_time": "2022-07-17T08:07:49.824Z"
      },
      {
        "duration": 37,
        "start_time": "2022-07-17T08:07:49.865Z"
      },
      {
        "duration": 31,
        "start_time": "2022-07-17T08:07:49.903Z"
      },
      {
        "duration": 51,
        "start_time": "2022-07-17T08:07:49.936Z"
      },
      {
        "duration": 6,
        "start_time": "2022-07-17T08:07:49.989Z"
      },
      {
        "duration": 523,
        "start_time": "2022-07-17T08:07:49.997Z"
      },
      {
        "duration": 27,
        "start_time": "2022-07-17T08:07:50.522Z"
      },
      {
        "duration": 35,
        "start_time": "2022-07-17T08:07:50.564Z"
      },
      {
        "duration": 64,
        "start_time": "2022-07-17T08:07:50.600Z"
      },
      {
        "duration": 30,
        "start_time": "2022-07-17T08:07:50.666Z"
      },
      {
        "duration": 37,
        "start_time": "2022-07-17T08:07:50.698Z"
      },
      {
        "duration": 72,
        "start_time": "2022-07-17T08:07:50.737Z"
      },
      {
        "duration": 125,
        "start_time": "2022-07-17T08:07:50.810Z"
      },
      {
        "duration": 36,
        "start_time": "2022-07-17T08:07:50.937Z"
      },
      {
        "duration": 7,
        "start_time": "2022-07-17T08:07:50.978Z"
      },
      {
        "duration": 11,
        "start_time": "2022-07-17T08:07:50.987Z"
      },
      {
        "duration": 26,
        "start_time": "2022-07-17T08:07:51.000Z"
      },
      {
        "duration": 382,
        "start_time": "2022-07-17T08:07:51.028Z"
      },
      {
        "duration": 29,
        "start_time": "2022-07-17T08:07:51.412Z"
      },
      {
        "duration": 41,
        "start_time": "2022-07-17T08:07:51.444Z"
      },
      {
        "duration": 31,
        "start_time": "2022-07-17T08:07:51.487Z"
      },
      {
        "duration": 7,
        "start_time": "2022-07-17T08:07:51.520Z"
      },
      {
        "duration": 44,
        "start_time": "2022-07-17T08:07:51.528Z"
      },
      {
        "duration": 50,
        "start_time": "2022-07-17T08:07:51.574Z"
      },
      {
        "duration": 115,
        "start_time": "2022-07-17T08:07:51.627Z"
      },
      {
        "duration": 84,
        "start_time": "2022-07-17T08:07:51.744Z"
      },
      {
        "duration": 373,
        "start_time": "2022-07-17T08:07:51.830Z"
      },
      {
        "duration": 40,
        "start_time": "2022-07-17T08:07:52.205Z"
      },
      {
        "duration": 1906,
        "start_time": "2022-07-17T08:11:35.700Z"
      },
      {
        "duration": 1787,
        "start_time": "2022-07-17T08:11:37.607Z"
      },
      {
        "duration": 715,
        "start_time": "2022-07-17T08:11:39.396Z"
      },
      {
        "duration": 113,
        "start_time": "2022-07-17T08:11:40.113Z"
      },
      {
        "duration": 117,
        "start_time": "2022-07-17T08:11:40.228Z"
      },
      {
        "duration": 3,
        "start_time": "2022-07-17T08:11:40.346Z"
      },
      {
        "duration": 444,
        "start_time": "2022-07-17T08:11:40.363Z"
      },
      {
        "duration": 457,
        "start_time": "2022-07-17T08:11:40.809Z"
      },
      {
        "duration": 12,
        "start_time": "2022-07-17T08:11:41.268Z"
      },
      {
        "duration": 30,
        "start_time": "2022-07-17T08:11:41.283Z"
      },
      {
        "duration": 50,
        "start_time": "2022-07-17T08:11:41.315Z"
      },
      {
        "duration": 65,
        "start_time": "2022-07-17T08:11:41.367Z"
      },
      {
        "duration": 38,
        "start_time": "2022-07-17T08:11:41.434Z"
      },
      {
        "duration": 24,
        "start_time": "2022-07-17T08:11:41.474Z"
      },
      {
        "duration": 38,
        "start_time": "2022-07-17T08:11:41.499Z"
      },
      {
        "duration": 50,
        "start_time": "2022-07-17T08:11:41.539Z"
      },
      {
        "duration": 30,
        "start_time": "2022-07-17T08:11:41.591Z"
      },
      {
        "duration": 6,
        "start_time": "2022-07-17T08:11:41.622Z"
      },
      {
        "duration": 484,
        "start_time": "2022-07-17T08:11:41.629Z"
      },
      {
        "duration": 35,
        "start_time": "2022-07-17T08:11:42.114Z"
      },
      {
        "duration": 43,
        "start_time": "2022-07-17T08:11:42.151Z"
      },
      {
        "duration": 26,
        "start_time": "2022-07-17T08:11:42.196Z"
      },
      {
        "duration": 48,
        "start_time": "2022-07-17T08:11:42.224Z"
      },
      {
        "duration": 34,
        "start_time": "2022-07-17T08:11:42.274Z"
      },
      {
        "duration": 125,
        "start_time": "2022-07-17T08:11:42.309Z"
      },
      {
        "duration": 36,
        "start_time": "2022-07-17T08:11:42.436Z"
      },
      {
        "duration": 8,
        "start_time": "2022-07-17T08:11:42.474Z"
      },
      {
        "duration": 11,
        "start_time": "2022-07-17T08:11:42.486Z"
      },
      {
        "duration": 31,
        "start_time": "2022-07-17T08:11:42.498Z"
      },
      {
        "duration": 408,
        "start_time": "2022-07-17T08:11:42.530Z"
      },
      {
        "duration": 34,
        "start_time": "2022-07-17T08:11:42.940Z"
      },
      {
        "duration": 25,
        "start_time": "2022-07-17T08:11:42.976Z"
      },
      {
        "duration": 27,
        "start_time": "2022-07-17T08:11:43.002Z"
      },
      {
        "duration": 5,
        "start_time": "2022-07-17T08:11:43.031Z"
      },
      {
        "duration": 58,
        "start_time": "2022-07-17T08:11:43.038Z"
      },
      {
        "duration": 66,
        "start_time": "2022-07-17T08:11:43.098Z"
      },
      {
        "duration": 70,
        "start_time": "2022-07-17T08:11:43.166Z"
      },
      {
        "duration": 81,
        "start_time": "2022-07-17T08:11:43.238Z"
      },
      {
        "duration": 388,
        "start_time": "2022-07-17T08:11:43.321Z"
      },
      {
        "duration": 54,
        "start_time": "2022-07-17T08:11:43.711Z"
      },
      {
        "duration": 475,
        "start_time": "2022-07-17T08:30:34.833Z"
      },
      {
        "duration": 5,
        "start_time": "2022-07-17T08:32:09.521Z"
      },
      {
        "duration": 5,
        "start_time": "2022-07-17T08:32:13.260Z"
      },
      {
        "duration": 5,
        "start_time": "2022-07-17T08:32:29.659Z"
      },
      {
        "duration": 1088,
        "start_time": "2022-07-17T08:33:27.796Z"
      },
      {
        "duration": 873,
        "start_time": "2022-07-17T08:33:28.886Z"
      },
      {
        "duration": 661,
        "start_time": "2022-07-17T08:33:29.761Z"
      },
      {
        "duration": 123,
        "start_time": "2022-07-17T08:33:30.424Z"
      },
      {
        "duration": 524,
        "start_time": "2022-07-17T08:33:30.549Z"
      },
      {
        "duration": 5,
        "start_time": "2022-07-17T08:33:31.074Z"
      },
      {
        "duration": 903,
        "start_time": "2022-07-17T08:33:31.080Z"
      },
      {
        "duration": 728,
        "start_time": "2022-07-17T08:33:31.985Z"
      },
      {
        "duration": 14,
        "start_time": "2022-07-17T08:33:32.716Z"
      },
      {
        "duration": 51,
        "start_time": "2022-07-17T08:33:32.732Z"
      },
      {
        "duration": 45,
        "start_time": "2022-07-17T08:33:32.785Z"
      },
      {
        "duration": 59,
        "start_time": "2022-07-17T08:33:32.832Z"
      },
      {
        "duration": 27,
        "start_time": "2022-07-17T08:33:32.893Z"
      },
      {
        "duration": 41,
        "start_time": "2022-07-17T08:33:32.923Z"
      },
      {
        "duration": 34,
        "start_time": "2022-07-17T08:33:32.966Z"
      },
      {
        "duration": 28,
        "start_time": "2022-07-17T08:33:33.001Z"
      },
      {
        "duration": 44,
        "start_time": "2022-07-17T08:33:33.030Z"
      },
      {
        "duration": 6,
        "start_time": "2022-07-17T08:33:33.076Z"
      },
      {
        "duration": 496,
        "start_time": "2022-07-17T08:33:33.083Z"
      },
      {
        "duration": 34,
        "start_time": "2022-07-17T08:33:33.580Z"
      },
      {
        "duration": 49,
        "start_time": "2022-07-17T08:33:33.616Z"
      },
      {
        "duration": 25,
        "start_time": "2022-07-17T08:33:33.666Z"
      },
      {
        "duration": 33,
        "start_time": "2022-07-17T08:33:33.692Z"
      },
      {
        "duration": 47,
        "start_time": "2022-07-17T08:33:33.726Z"
      },
      {
        "duration": 107,
        "start_time": "2022-07-17T08:33:33.775Z"
      },
      {
        "duration": 24,
        "start_time": "2022-07-17T08:33:33.884Z"
      },
      {
        "duration": 11,
        "start_time": "2022-07-17T08:33:33.909Z"
      },
      {
        "duration": 12,
        "start_time": "2022-07-17T08:33:33.921Z"
      },
      {
        "duration": 42,
        "start_time": "2022-07-17T08:33:33.935Z"
      },
      {
        "duration": 336,
        "start_time": "2022-07-17T08:33:33.978Z"
      },
      {
        "duration": 23,
        "start_time": "2022-07-17T08:33:34.315Z"
      },
      {
        "duration": 36,
        "start_time": "2022-07-17T08:33:34.340Z"
      },
      {
        "duration": 24,
        "start_time": "2022-07-17T08:33:34.377Z"
      },
      {
        "duration": 6,
        "start_time": "2022-07-17T08:33:34.403Z"
      },
      {
        "duration": 57,
        "start_time": "2022-07-17T08:33:34.410Z"
      },
      {
        "duration": 42,
        "start_time": "2022-07-17T08:33:34.468Z"
      },
      {
        "duration": 80,
        "start_time": "2022-07-17T08:33:34.511Z"
      },
      {
        "duration": 345,
        "start_time": "2022-07-17T08:33:34.593Z"
      },
      {
        "duration": 49,
        "start_time": "2022-07-17T08:33:34.939Z"
      },
      {
        "duration": 1214,
        "start_time": "2022-07-17T08:34:00.773Z"
      },
      {
        "duration": 930,
        "start_time": "2022-07-17T08:34:01.989Z"
      },
      {
        "duration": 695,
        "start_time": "2022-07-17T08:34:02.921Z"
      },
      {
        "duration": 157,
        "start_time": "2022-07-17T08:34:03.618Z"
      },
      {
        "duration": 318,
        "start_time": "2022-07-17T08:34:03.779Z"
      },
      {
        "duration": 6,
        "start_time": "2022-07-17T08:34:04.099Z"
      },
      {
        "duration": 977,
        "start_time": "2022-07-17T08:34:04.106Z"
      },
      {
        "duration": 824,
        "start_time": "2022-07-17T08:34:05.084Z"
      },
      {
        "duration": 13,
        "start_time": "2022-07-17T08:34:05.910Z"
      },
      {
        "duration": 52,
        "start_time": "2022-07-17T08:34:05.925Z"
      },
      {
        "duration": 31,
        "start_time": "2022-07-17T08:34:05.980Z"
      },
      {
        "duration": 70,
        "start_time": "2022-07-17T08:34:06.012Z"
      },
      {
        "duration": 54,
        "start_time": "2022-07-17T08:34:06.084Z"
      },
      {
        "duration": 23,
        "start_time": "2022-07-17T08:34:06.140Z"
      },
      {
        "duration": 60,
        "start_time": "2022-07-17T08:34:06.167Z"
      },
      {
        "duration": 33,
        "start_time": "2022-07-17T08:34:06.229Z"
      },
      {
        "duration": 43,
        "start_time": "2022-07-17T08:34:06.263Z"
      },
      {
        "duration": 6,
        "start_time": "2022-07-17T08:34:06.308Z"
      },
      {
        "duration": 530,
        "start_time": "2022-07-17T08:34:06.315Z"
      },
      {
        "duration": 52,
        "start_time": "2022-07-17T08:34:06.847Z"
      },
      {
        "duration": 36,
        "start_time": "2022-07-17T08:34:06.901Z"
      },
      {
        "duration": 56,
        "start_time": "2022-07-17T08:34:06.939Z"
      },
      {
        "duration": 44,
        "start_time": "2022-07-17T08:34:06.996Z"
      },
      {
        "duration": 55,
        "start_time": "2022-07-17T08:34:07.042Z"
      },
      {
        "duration": 130,
        "start_time": "2022-07-17T08:34:07.099Z"
      },
      {
        "duration": 38,
        "start_time": "2022-07-17T08:34:07.230Z"
      },
      {
        "duration": 11,
        "start_time": "2022-07-17T08:34:07.276Z"
      },
      {
        "duration": 13,
        "start_time": "2022-07-17T08:34:07.292Z"
      },
      {
        "duration": 36,
        "start_time": "2022-07-17T08:34:07.307Z"
      },
      {
        "duration": 377,
        "start_time": "2022-07-17T08:34:07.345Z"
      },
      {
        "duration": 44,
        "start_time": "2022-07-17T08:34:07.725Z"
      },
      {
        "duration": 37,
        "start_time": "2022-07-17T08:34:07.772Z"
      },
      {
        "duration": 42,
        "start_time": "2022-07-17T08:34:07.812Z"
      },
      {
        "duration": 11,
        "start_time": "2022-07-17T08:34:07.856Z"
      },
      {
        "duration": 68,
        "start_time": "2022-07-17T08:34:07.869Z"
      },
      {
        "duration": 65,
        "start_time": "2022-07-17T08:34:07.939Z"
      },
      {
        "duration": 76,
        "start_time": "2022-07-17T08:34:08.006Z"
      },
      {
        "duration": 408,
        "start_time": "2022-07-17T08:34:08.086Z"
      },
      {
        "duration": 69,
        "start_time": "2022-07-17T08:34:08.496Z"
      },
      {
        "duration": 165,
        "start_time": "2022-07-17T08:37:17.020Z"
      },
      {
        "duration": 137,
        "start_time": "2022-07-17T08:38:06.498Z"
      },
      {
        "duration": 65,
        "start_time": "2022-07-17T08:38:33.018Z"
      },
      {
        "duration": 407,
        "start_time": "2022-07-17T08:38:52.214Z"
      },
      {
        "duration": 47,
        "start_time": "2022-07-17T08:39:01.911Z"
      },
      {
        "duration": 57,
        "start_time": "2022-07-17T08:39:26.796Z"
      },
      {
        "duration": 1053,
        "start_time": "2022-07-17T08:56:34.102Z"
      },
      {
        "duration": 1829,
        "start_time": "2022-07-17T08:56:35.157Z"
      },
      {
        "duration": 884,
        "start_time": "2022-07-17T08:56:36.988Z"
      },
      {
        "duration": 212,
        "start_time": "2022-07-17T08:56:37.875Z"
      },
      {
        "duration": 287,
        "start_time": "2022-07-17T08:56:38.089Z"
      },
      {
        "duration": 5,
        "start_time": "2022-07-17T08:56:38.380Z"
      },
      {
        "duration": 1120,
        "start_time": "2022-07-17T08:56:38.387Z"
      },
      {
        "duration": 1065,
        "start_time": "2022-07-17T08:56:39.508Z"
      },
      {
        "duration": 16,
        "start_time": "2022-07-17T08:56:40.578Z"
      },
      {
        "duration": 94,
        "start_time": "2022-07-17T08:56:40.597Z"
      },
      {
        "duration": 96,
        "start_time": "2022-07-17T08:56:40.693Z"
      },
      {
        "duration": 190,
        "start_time": "2022-07-17T08:56:40.791Z"
      },
      {
        "duration": 88,
        "start_time": "2022-07-17T08:56:40.983Z"
      },
      {
        "duration": 95,
        "start_time": "2022-07-17T08:56:41.073Z"
      },
      {
        "duration": 96,
        "start_time": "2022-07-17T08:56:41.170Z"
      },
      {
        "duration": 41,
        "start_time": "2022-07-17T08:56:41.268Z"
      },
      {
        "duration": 95,
        "start_time": "2022-07-17T08:56:41.311Z"
      },
      {
        "duration": 72,
        "start_time": "2022-07-17T08:56:41.408Z"
      },
      {
        "duration": 561,
        "start_time": "2022-07-17T08:56:41.483Z"
      },
      {
        "duration": 45,
        "start_time": "2022-07-17T08:56:42.046Z"
      },
      {
        "duration": 36,
        "start_time": "2022-07-17T08:56:42.092Z"
      },
      {
        "duration": 49,
        "start_time": "2022-07-17T08:56:42.129Z"
      },
      {
        "duration": 32,
        "start_time": "2022-07-17T08:56:42.180Z"
      },
      {
        "duration": 36,
        "start_time": "2022-07-17T08:56:42.214Z"
      },
      {
        "duration": 128,
        "start_time": "2022-07-17T08:56:42.252Z"
      },
      {
        "duration": 28,
        "start_time": "2022-07-17T08:56:42.382Z"
      },
      {
        "duration": 7,
        "start_time": "2022-07-17T08:56:42.412Z"
      },
      {
        "duration": 11,
        "start_time": "2022-07-17T08:56:42.422Z"
      },
      {
        "duration": 31,
        "start_time": "2022-07-17T08:56:42.435Z"
      },
      {
        "duration": 563,
        "start_time": "2022-07-17T08:56:42.471Z"
      },
      {
        "duration": 44,
        "start_time": "2022-07-17T08:56:43.035Z"
      },
      {
        "duration": 27,
        "start_time": "2022-07-17T08:56:43.082Z"
      },
      {
        "duration": 46,
        "start_time": "2022-07-17T08:56:43.110Z"
      },
      {
        "duration": 26,
        "start_time": "2022-07-17T08:56:43.157Z"
      },
      {
        "duration": 50,
        "start_time": "2022-07-17T08:56:43.184Z"
      },
      {
        "duration": 56,
        "start_time": "2022-07-17T08:56:43.236Z"
      },
      {
        "duration": 81,
        "start_time": "2022-07-17T08:56:43.294Z"
      },
      {
        "duration": 357,
        "start_time": "2022-07-17T08:56:43.381Z"
      },
      {
        "duration": 58,
        "start_time": "2022-07-17T08:56:43.740Z"
      },
      {
        "duration": 35,
        "start_time": "2022-07-17T09:00:08.811Z"
      },
      {
        "duration": 30,
        "start_time": "2022-07-17T09:00:54.412Z"
      },
      {
        "duration": 40,
        "start_time": "2022-07-17T09:01:01.715Z"
      },
      {
        "duration": 27,
        "start_time": "2022-07-17T09:01:19.681Z"
      },
      {
        "duration": 294,
        "start_time": "2022-07-17T09:09:06.787Z"
      },
      {
        "duration": 601,
        "start_time": "2022-07-17T09:18:38.387Z"
      },
      {
        "duration": 512,
        "start_time": "2022-07-17T09:18:46.514Z"
      },
      {
        "duration": 561,
        "start_time": "2022-07-17T09:19:28.688Z"
      },
      {
        "duration": 637,
        "start_time": "2022-07-17T09:19:31.290Z"
      },
      {
        "duration": 544,
        "start_time": "2022-07-17T09:19:41.288Z"
      },
      {
        "duration": 1069,
        "start_time": "2022-07-17T09:21:25.847Z"
      },
      {
        "duration": 1049,
        "start_time": "2022-07-17T09:21:29.338Z"
      },
      {
        "duration": 1139,
        "start_time": "2022-07-17T09:22:23.494Z"
      },
      {
        "duration": 1060,
        "start_time": "2022-07-17T09:23:10.123Z"
      },
      {
        "duration": 1152,
        "start_time": "2022-07-17T09:24:22.044Z"
      },
      {
        "duration": 1182,
        "start_time": "2022-07-17T09:26:30.494Z"
      },
      {
        "duration": 1089,
        "start_time": "2022-07-17T09:26:56.827Z"
      },
      {
        "duration": 1135,
        "start_time": "2022-07-17T09:27:49.491Z"
      },
      {
        "duration": 1063,
        "start_time": "2022-07-17T09:28:07.041Z"
      },
      {
        "duration": 840,
        "start_time": "2022-07-17T09:31:41.189Z"
      },
      {
        "duration": 857,
        "start_time": "2022-07-17T09:31:59.088Z"
      },
      {
        "duration": 1004,
        "start_time": "2022-07-17T09:32:35.286Z"
      },
      {
        "duration": 1162,
        "start_time": "2022-07-17T09:32:59.124Z"
      },
      {
        "duration": 1097,
        "start_time": "2022-07-17T09:33:11.506Z"
      },
      {
        "duration": 1211,
        "start_time": "2022-07-17T09:33:20.413Z"
      },
      {
        "duration": 1234,
        "start_time": "2022-07-17T09:33:27.951Z"
      },
      {
        "duration": 1128,
        "start_time": "2022-07-17T09:33:37.889Z"
      },
      {
        "duration": 1041,
        "start_time": "2022-07-17T09:34:11.000Z"
      },
      {
        "duration": 605,
        "start_time": "2022-07-17T09:36:15.284Z"
      },
      {
        "duration": 424,
        "start_time": "2022-07-17T09:38:53.996Z"
      },
      {
        "duration": 443,
        "start_time": "2022-07-17T09:40:02.583Z"
      },
      {
        "duration": 353,
        "start_time": "2022-07-17T09:40:18.976Z"
      },
      {
        "duration": 390,
        "start_time": "2022-07-17T09:41:13.520Z"
      },
      {
        "duration": 385,
        "start_time": "2022-07-17T09:41:27.394Z"
      },
      {
        "duration": 1458,
        "start_time": "2022-07-17T09:41:44.243Z"
      },
      {
        "duration": 903,
        "start_time": "2022-07-17T09:41:45.703Z"
      },
      {
        "duration": 744,
        "start_time": "2022-07-17T09:41:46.608Z"
      },
      {
        "duration": 134,
        "start_time": "2022-07-17T09:41:47.354Z"
      },
      {
        "duration": 144,
        "start_time": "2022-07-17T09:41:47.491Z"
      },
      {
        "duration": 4,
        "start_time": "2022-07-17T09:41:47.636Z"
      },
      {
        "duration": 504,
        "start_time": "2022-07-17T09:41:47.642Z"
      },
      {
        "duration": 540,
        "start_time": "2022-07-17T09:41:48.148Z"
      },
      {
        "duration": 16,
        "start_time": "2022-07-17T09:41:48.692Z"
      },
      {
        "duration": 31,
        "start_time": "2022-07-17T09:41:48.710Z"
      },
      {
        "duration": 50,
        "start_time": "2022-07-17T09:41:48.743Z"
      },
      {
        "duration": 63,
        "start_time": "2022-07-17T09:41:48.798Z"
      },
      {
        "duration": 48,
        "start_time": "2022-07-17T09:41:48.866Z"
      },
      {
        "duration": 24,
        "start_time": "2022-07-17T09:41:48.916Z"
      },
      {
        "duration": 67,
        "start_time": "2022-07-17T09:41:48.941Z"
      },
      {
        "duration": 33,
        "start_time": "2022-07-17T09:41:49.009Z"
      },
      {
        "duration": 78,
        "start_time": "2022-07-17T09:41:49.044Z"
      },
      {
        "duration": 9,
        "start_time": "2022-07-17T09:41:49.125Z"
      },
      {
        "duration": 650,
        "start_time": "2022-07-17T09:41:49.136Z"
      },
      {
        "duration": 38,
        "start_time": "2022-07-17T09:41:49.791Z"
      },
      {
        "duration": 38,
        "start_time": "2022-07-17T09:41:49.831Z"
      },
      {
        "duration": 51,
        "start_time": "2022-07-17T09:41:49.871Z"
      },
      {
        "duration": 56,
        "start_time": "2022-07-17T09:41:49.924Z"
      },
      {
        "duration": 47,
        "start_time": "2022-07-17T09:41:49.981Z"
      },
      {
        "duration": 157,
        "start_time": "2022-07-17T09:41:50.030Z"
      },
      {
        "duration": 29,
        "start_time": "2022-07-17T09:41:50.193Z"
      },
      {
        "duration": 10,
        "start_time": "2022-07-17T09:41:50.224Z"
      },
      {
        "duration": 11,
        "start_time": "2022-07-17T09:41:50.238Z"
      },
      {
        "duration": 46,
        "start_time": "2022-07-17T09:41:50.250Z"
      },
      {
        "duration": 315,
        "start_time": "2022-07-17T09:41:50.298Z"
      },
      {
        "duration": 27,
        "start_time": "2022-07-17T09:41:50.615Z"
      },
      {
        "duration": 58,
        "start_time": "2022-07-17T09:41:50.644Z"
      },
      {
        "duration": 37,
        "start_time": "2022-07-17T09:41:50.703Z"
      },
      {
        "duration": 7,
        "start_time": "2022-07-17T09:41:50.742Z"
      },
      {
        "duration": 69,
        "start_time": "2022-07-17T09:41:50.751Z"
      },
      {
        "duration": 64,
        "start_time": "2022-07-17T09:41:50.821Z"
      },
      {
        "duration": 78,
        "start_time": "2022-07-17T09:41:50.891Z"
      },
      {
        "duration": 358,
        "start_time": "2022-07-17T09:41:50.977Z"
      },
      {
        "duration": 65,
        "start_time": "2022-07-17T09:41:51.337Z"
      },
      {
        "duration": 1195,
        "start_time": "2022-07-17T09:41:51.404Z"
      },
      {
        "duration": 528,
        "start_time": "2022-07-17T09:41:52.603Z"
      },
      {
        "duration": 20,
        "start_time": "2022-07-17T09:42:46.046Z"
      },
      {
        "duration": 415,
        "start_time": "2022-07-17T09:42:56.702Z"
      },
      {
        "duration": 156,
        "start_time": "2022-07-17T09:46:38.828Z"
      },
      {
        "duration": 84,
        "start_time": "2022-07-17T09:46:44.488Z"
      },
      {
        "duration": 3,
        "start_time": "2022-07-17T09:46:48.747Z"
      },
      {
        "duration": 3,
        "start_time": "2022-07-17T09:49:04.207Z"
      },
      {
        "duration": 6,
        "start_time": "2022-07-17T09:49:55.189Z"
      },
      {
        "duration": 75,
        "start_time": "2022-07-17T09:53:40.041Z"
      },
      {
        "duration": 4,
        "start_time": "2022-07-17T09:53:45.179Z"
      },
      {
        "duration": 86,
        "start_time": "2022-07-17T09:53:51.025Z"
      },
      {
        "duration": 7,
        "start_time": "2022-07-17T09:54:33.566Z"
      },
      {
        "duration": 4,
        "start_time": "2022-07-17T09:55:48.184Z"
      },
      {
        "duration": 15061,
        "start_time": "2022-07-17T09:55:50.111Z"
      },
      {
        "duration": 3,
        "start_time": "2022-07-17T09:57:20.977Z"
      },
      {
        "duration": 16641,
        "start_time": "2022-07-17T09:57:22.477Z"
      },
      {
        "duration": 4,
        "start_time": "2022-07-17T09:57:44.480Z"
      },
      {
        "duration": 50419,
        "start_time": "2022-07-17T09:57:45.800Z"
      },
      {
        "duration": 14123,
        "start_time": "2022-07-17T09:59:14.139Z"
      },
      {
        "duration": 7,
        "start_time": "2022-07-17T09:59:41.671Z"
      },
      {
        "duration": 3014,
        "start_time": "2022-07-17T10:00:34.373Z"
      },
      {
        "duration": 4,
        "start_time": "2022-07-17T10:00:38.633Z"
      },
      {
        "duration": 21079,
        "start_time": "2022-07-17T10:00:39.812Z"
      },
      {
        "duration": 11,
        "start_time": "2022-07-17T10:01:00.895Z"
      },
      {
        "duration": 6632,
        "start_time": "2022-07-17T10:01:02.188Z"
      },
      {
        "duration": 3,
        "start_time": "2022-07-17T10:01:16.639Z"
      },
      {
        "duration": 2641,
        "start_time": "2022-07-17T10:01:18.384Z"
      },
      {
        "duration": 10,
        "start_time": "2022-07-17T10:01:27.099Z"
      },
      {
        "duration": 4485,
        "start_time": "2022-07-17T10:01:28.084Z"
      },
      {
        "duration": 4395,
        "start_time": "2022-07-17T10:02:01.512Z"
      },
      {
        "duration": 4143,
        "start_time": "2022-07-17T10:02:35.968Z"
      },
      {
        "duration": 3,
        "start_time": "2022-07-17T10:02:45.941Z"
      },
      {
        "duration": 4,
        "start_time": "2022-07-17T10:03:08.645Z"
      },
      {
        "duration": 4278,
        "start_time": "2022-07-17T10:03:20.021Z"
      },
      {
        "duration": 4096,
        "start_time": "2022-07-17T10:03:51.223Z"
      },
      {
        "duration": 3920,
        "start_time": "2022-07-17T10:04:29.931Z"
      },
      {
        "duration": 3,
        "start_time": "2022-07-17T10:05:01.625Z"
      },
      {
        "duration": 50313,
        "start_time": "2022-07-17T10:05:04.627Z"
      },
      {
        "duration": 3,
        "start_time": "2022-07-17T10:06:05.493Z"
      },
      {
        "duration": 42631,
        "start_time": "2022-07-17T10:09:10.007Z"
      },
      {
        "duration": 3,
        "start_time": "2022-07-17T10:09:52.641Z"
      },
      {
        "duration": 83,
        "start_time": "2022-07-17T10:09:54.726Z"
      },
      {
        "duration": 3,
        "start_time": "2022-07-17T10:10:03.455Z"
      },
      {
        "duration": 3939,
        "start_time": "2022-07-17T10:10:04.490Z"
      },
      {
        "duration": 4138,
        "start_time": "2022-07-17T10:11:37.748Z"
      },
      {
        "duration": 99,
        "start_time": "2022-07-17T10:12:41.944Z"
      },
      {
        "duration": 4076,
        "start_time": "2022-07-17T10:12:46.605Z"
      },
      {
        "duration": 4045,
        "start_time": "2022-07-17T10:13:18.086Z"
      },
      {
        "duration": 5,
        "start_time": "2022-07-17T10:14:08.451Z"
      },
      {
        "duration": 170397,
        "start_time": "2022-07-17T10:14:10.228Z"
      },
      {
        "duration": 6901,
        "start_time": "2022-07-17T10:23:50.777Z"
      },
      {
        "duration": 6414,
        "start_time": "2022-07-17T10:24:31.160Z"
      },
      {
        "duration": 7269,
        "start_time": "2022-07-17T10:25:30.987Z"
      },
      {
        "duration": 6506,
        "start_time": "2022-07-17T10:26:08.093Z"
      },
      {
        "duration": 6709,
        "start_time": "2022-07-17T10:26:59.880Z"
      },
      {
        "duration": 6846,
        "start_time": "2022-07-17T10:28:19.816Z"
      },
      {
        "duration": 6542,
        "start_time": "2022-07-17T10:28:37.855Z"
      },
      {
        "duration": 165717,
        "start_time": "2022-07-17T10:32:46.004Z"
      },
      {
        "duration": 4,
        "start_time": "2022-07-17T10:46:35.728Z"
      },
      {
        "duration": 843,
        "start_time": "2022-07-17T10:46:35.734Z"
      },
      {
        "duration": 609,
        "start_time": "2022-07-17T10:46:36.578Z"
      },
      {
        "duration": 96,
        "start_time": "2022-07-17T10:46:37.189Z"
      },
      {
        "duration": 120,
        "start_time": "2022-07-17T10:46:37.286Z"
      },
      {
        "duration": 5,
        "start_time": "2022-07-17T10:46:37.407Z"
      },
      {
        "duration": 415,
        "start_time": "2022-07-17T10:46:37.414Z"
      },
      {
        "duration": 433,
        "start_time": "2022-07-17T10:46:37.831Z"
      },
      {
        "duration": 11,
        "start_time": "2022-07-17T10:46:38.267Z"
      },
      {
        "duration": 30,
        "start_time": "2022-07-17T10:46:38.280Z"
      },
      {
        "duration": 29,
        "start_time": "2022-07-17T10:46:38.312Z"
      },
      {
        "duration": 54,
        "start_time": "2022-07-17T10:46:38.363Z"
      },
      {
        "duration": 27,
        "start_time": "2022-07-17T10:46:38.418Z"
      },
      {
        "duration": 38,
        "start_time": "2022-07-17T10:46:38.446Z"
      },
      {
        "duration": 38,
        "start_time": "2022-07-17T10:46:38.486Z"
      },
      {
        "duration": 51,
        "start_time": "2022-07-17T10:46:38.526Z"
      },
      {
        "duration": 27,
        "start_time": "2022-07-17T10:46:38.579Z"
      },
      {
        "duration": 6,
        "start_time": "2022-07-17T10:46:38.607Z"
      },
      {
        "duration": 602,
        "start_time": "2022-07-17T10:46:38.614Z"
      },
      {
        "duration": 51,
        "start_time": "2022-07-17T10:46:39.218Z"
      },
      {
        "duration": 36,
        "start_time": "2022-07-17T10:46:39.271Z"
      },
      {
        "duration": 28,
        "start_time": "2022-07-17T10:46:39.308Z"
      },
      {
        "duration": 51,
        "start_time": "2022-07-17T10:46:39.338Z"
      },
      {
        "duration": 39,
        "start_time": "2022-07-17T10:46:39.393Z"
      },
      {
        "duration": 133,
        "start_time": "2022-07-17T10:46:39.434Z"
      },
      {
        "duration": 29,
        "start_time": "2022-07-17T10:46:39.569Z"
      },
      {
        "duration": 8,
        "start_time": "2022-07-17T10:46:39.600Z"
      },
      {
        "duration": 10,
        "start_time": "2022-07-17T10:46:39.610Z"
      },
      {
        "duration": 48,
        "start_time": "2022-07-17T10:46:39.621Z"
      },
      {
        "duration": 262,
        "start_time": "2022-07-17T10:46:39.671Z"
      },
      {
        "duration": 36,
        "start_time": "2022-07-17T10:46:39.934Z"
      },
      {
        "duration": 26,
        "start_time": "2022-07-17T10:46:39.971Z"
      },
      {
        "duration": 26,
        "start_time": "2022-07-17T10:46:39.999Z"
      },
      {
        "duration": 5,
        "start_time": "2022-07-17T10:46:40.027Z"
      },
      {
        "duration": 61,
        "start_time": "2022-07-17T10:46:40.034Z"
      },
      {
        "duration": 45,
        "start_time": "2022-07-17T10:46:40.097Z"
      },
      {
        "duration": 81,
        "start_time": "2022-07-17T10:46:40.144Z"
      },
      {
        "duration": 370,
        "start_time": "2022-07-17T10:46:40.227Z"
      },
      {
        "duration": 46,
        "start_time": "2022-07-17T10:46:40.599Z"
      },
      {
        "duration": 1052,
        "start_time": "2022-07-17T10:46:40.646Z"
      },
      {
        "duration": 438,
        "start_time": "2022-07-17T10:46:41.700Z"
      },
      {
        "duration": 3,
        "start_time": "2022-07-17T10:46:42.139Z"
      },
      {
        "duration": 6,
        "start_time": "2022-07-17T10:46:42.143Z"
      },
      {
        "duration": 158627,
        "start_time": "2022-07-17T10:46:42.150Z"
      },
      {
        "duration": 5722,
        "start_time": "2022-07-17T10:49:20.778Z"
      },
      {
        "duration": 3,
        "start_time": "2022-07-17T10:49:26.501Z"
      },
      {
        "duration": 4,
        "start_time": "2022-07-17T11:14:10.111Z"
      },
      {
        "duration": 32,
        "start_time": "2022-07-17T11:22:05.777Z"
      },
      {
        "duration": 39137,
        "start_time": "2022-07-17T11:22:52.435Z"
      },
      {
        "duration": 31178,
        "start_time": "2022-07-17T11:24:38.931Z"
      },
      {
        "duration": 273,
        "start_time": "2022-07-17T11:26:14.935Z"
      },
      {
        "duration": 34871,
        "start_time": "2022-07-17T11:26:36.193Z"
      },
      {
        "duration": 205,
        "start_time": "2022-07-17T11:27:11.067Z"
      },
      {
        "duration": 100,
        "start_time": "2022-07-17T11:27:22.672Z"
      },
      {
        "duration": 204,
        "start_time": "2022-07-17T11:27:37.263Z"
      },
      {
        "duration": 61,
        "start_time": "2022-07-17T11:27:49.610Z"
      },
      {
        "duration": 23,
        "start_time": "2022-07-17T11:31:37.121Z"
      },
      {
        "duration": 3,
        "start_time": "2022-07-17T11:32:58.640Z"
      },
      {
        "duration": 69182,
        "start_time": "2022-07-17T11:37:54.803Z"
      },
      {
        "duration": 372631,
        "start_time": "2022-07-17T11:39:09.705Z"
      },
      {
        "duration": 57730,
        "start_time": "2022-07-17T11:46:17.740Z"
      },
      {
        "duration": 8199,
        "start_time": "2022-07-17T11:47:23.309Z"
      },
      {
        "duration": 68,
        "start_time": "2022-07-17T11:47:54.824Z"
      },
      {
        "duration": 63,
        "start_time": "2022-07-17T11:48:19.490Z"
      },
      {
        "duration": 3969,
        "start_time": "2022-07-17T11:49:28.518Z"
      },
      {
        "duration": 4,
        "start_time": "2022-07-17T11:54:35.937Z"
      },
      {
        "duration": 129392,
        "start_time": "2022-07-17T11:54:40.899Z"
      },
      {
        "duration": 4,
        "start_time": "2022-07-17T12:03:33.812Z"
      },
      {
        "duration": 82691,
        "start_time": "2022-07-17T12:05:54.940Z"
      },
      {
        "duration": 34,
        "start_time": "2022-07-17T12:08:34.680Z"
      },
      {
        "duration": 5,
        "start_time": "2022-07-17T12:13:57.794Z"
      },
      {
        "duration": 11855,
        "start_time": "2022-07-17T12:15:14.190Z"
      },
      {
        "duration": 4,
        "start_time": "2022-07-17T12:15:59.034Z"
      },
      {
        "duration": 26972,
        "start_time": "2022-07-17T12:16:01.665Z"
      },
      {
        "duration": 3,
        "start_time": "2022-07-17T12:16:46.349Z"
      },
      {
        "duration": 4424,
        "start_time": "2022-07-17T12:16:51.217Z"
      },
      {
        "duration": 165042,
        "start_time": "2022-07-17T12:17:07.634Z"
      },
      {
        "duration": 3,
        "start_time": "2022-07-17T12:46:47.644Z"
      },
      {
        "duration": 6,
        "start_time": "2022-07-17T12:46:50.941Z"
      },
      {
        "duration": 66466,
        "start_time": "2022-07-17T12:47:27.402Z"
      },
      {
        "duration": 195,
        "start_time": "2022-07-17T12:48:33.871Z"
      },
      {
        "duration": 97,
        "start_time": "2022-07-17T12:48:34.068Z"
      },
      {
        "duration": 7,
        "start_time": "2022-07-17T12:48:49.319Z"
      },
      {
        "duration": 63,
        "start_time": "2022-07-17T12:50:27.988Z"
      },
      {
        "duration": 4,
        "start_time": "2022-07-17T12:50:39.945Z"
      },
      {
        "duration": 23,
        "start_time": "2022-07-17T12:50:46.240Z"
      },
      {
        "duration": 23,
        "start_time": "2022-07-17T12:52:15.871Z"
      },
      {
        "duration": 5,
        "start_time": "2022-07-17T12:54:18.389Z"
      },
      {
        "duration": 5,
        "start_time": "2022-07-17T12:54:33.642Z"
      },
      {
        "duration": 5,
        "start_time": "2022-07-17T12:54:47.798Z"
      },
      {
        "duration": 13,
        "start_time": "2022-07-17T12:56:12.553Z"
      },
      {
        "duration": 134026,
        "start_time": "2022-07-17T12:56:30.042Z"
      },
      {
        "duration": 16,
        "start_time": "2022-07-17T12:58:44.071Z"
      },
      {
        "duration": 14,
        "start_time": "2022-07-17T12:59:19.328Z"
      },
      {
        "duration": 17,
        "start_time": "2022-07-17T13:01:25.155Z"
      },
      {
        "duration": 16,
        "start_time": "2022-07-17T13:01:27.587Z"
      },
      {
        "duration": 15,
        "start_time": "2022-07-17T13:02:21.989Z"
      },
      {
        "duration": 12,
        "start_time": "2022-07-17T13:02:32.813Z"
      },
      {
        "duration": 18,
        "start_time": "2022-07-17T13:02:48.171Z"
      },
      {
        "duration": 12,
        "start_time": "2022-07-17T13:09:31.233Z"
      },
      {
        "duration": 1752,
        "start_time": "2022-07-17T13:12:18.354Z"
      },
      {
        "duration": 1682,
        "start_time": "2022-07-17T13:12:20.108Z"
      },
      {
        "duration": 667,
        "start_time": "2022-07-17T13:12:21.792Z"
      },
      {
        "duration": 123,
        "start_time": "2022-07-17T13:12:22.463Z"
      },
      {
        "duration": 147,
        "start_time": "2022-07-17T13:12:22.588Z"
      },
      {
        "duration": 6,
        "start_time": "2022-07-17T13:12:22.737Z"
      },
      {
        "duration": 476,
        "start_time": "2022-07-17T13:12:22.745Z"
      },
      {
        "duration": 469,
        "start_time": "2022-07-17T13:12:23.223Z"
      },
      {
        "duration": 14,
        "start_time": "2022-07-17T13:12:23.694Z"
      },
      {
        "duration": 130,
        "start_time": "2022-07-17T13:12:23.711Z"
      },
      {
        "duration": 52,
        "start_time": "2022-07-17T13:12:23.843Z"
      },
      {
        "duration": 67,
        "start_time": "2022-07-17T13:12:23.897Z"
      },
      {
        "duration": 50,
        "start_time": "2022-07-17T13:12:23.967Z"
      },
      {
        "duration": 26,
        "start_time": "2022-07-17T13:12:24.019Z"
      },
      {
        "duration": 71,
        "start_time": "2022-07-17T13:12:24.047Z"
      },
      {
        "duration": 30,
        "start_time": "2022-07-17T13:12:24.119Z"
      },
      {
        "duration": 46,
        "start_time": "2022-07-17T13:12:24.164Z"
      },
      {
        "duration": 13,
        "start_time": "2022-07-17T13:12:24.211Z"
      },
      {
        "duration": 687,
        "start_time": "2022-07-17T13:12:24.226Z"
      },
      {
        "duration": 54,
        "start_time": "2022-07-17T13:12:24.915Z"
      },
      {
        "duration": 54,
        "start_time": "2022-07-17T13:12:24.974Z"
      },
      {
        "duration": 43,
        "start_time": "2022-07-17T13:12:25.029Z"
      },
      {
        "duration": 57,
        "start_time": "2022-07-17T13:12:25.075Z"
      },
      {
        "duration": 39,
        "start_time": "2022-07-17T13:12:25.134Z"
      },
      {
        "duration": 156,
        "start_time": "2022-07-17T13:12:25.176Z"
      },
      {
        "duration": 33,
        "start_time": "2022-07-17T13:12:25.334Z"
      },
      {
        "duration": 33,
        "start_time": "2022-07-17T13:12:25.370Z"
      },
      {
        "duration": 13,
        "start_time": "2022-07-17T13:12:25.407Z"
      },
      {
        "duration": 32,
        "start_time": "2022-07-17T13:12:25.422Z"
      },
      {
        "duration": 340,
        "start_time": "2022-07-17T13:12:25.466Z"
      },
      {
        "duration": 30,
        "start_time": "2022-07-17T13:12:25.808Z"
      },
      {
        "duration": 50,
        "start_time": "2022-07-17T13:12:25.839Z"
      },
      {
        "duration": 38,
        "start_time": "2022-07-17T13:12:25.891Z"
      },
      {
        "duration": 6,
        "start_time": "2022-07-17T13:12:25.931Z"
      },
      {
        "duration": 75,
        "start_time": "2022-07-17T13:12:25.938Z"
      },
      {
        "duration": 59,
        "start_time": "2022-07-17T13:12:26.015Z"
      },
      {
        "duration": 109,
        "start_time": "2022-07-17T13:12:26.076Z"
      },
      {
        "duration": 457,
        "start_time": "2022-07-17T13:12:26.187Z"
      },
      {
        "duration": 63,
        "start_time": "2022-07-17T13:12:26.646Z"
      },
      {
        "duration": 1126,
        "start_time": "2022-07-17T13:12:26.712Z"
      },
      {
        "duration": 480,
        "start_time": "2022-07-17T13:12:27.841Z"
      },
      {
        "duration": 3,
        "start_time": "2022-07-17T13:12:28.323Z"
      },
      {
        "duration": 6,
        "start_time": "2022-07-17T13:12:28.328Z"
      },
      {
        "duration": 72909,
        "start_time": "2022-07-17T13:12:28.335Z"
      },
      {
        "duration": 3082,
        "start_time": "2022-07-17T13:13:41.246Z"
      },
      {
        "duration": 72354,
        "start_time": "2022-07-17T13:13:44.330Z"
      },
      {
        "duration": 378,
        "start_time": "2022-07-17T13:14:56.686Z"
      },
      {
        "duration": 120298,
        "start_time": "2022-07-17T13:14:57.067Z"
      },
      {
        "duration": 81250,
        "start_time": "2022-07-17T13:16:57.367Z"
      },
      {
        "duration": 570653,
        "start_time": "2022-07-17T13:18:18.619Z"
      },
      {
        "duration": 748198,
        "start_time": "2022-07-17T13:27:49.274Z"
      },
      {
        "duration": 12,
        "start_time": "2022-07-17T13:40:17.474Z"
      },
      {
        "duration": 1632,
        "start_time": "2022-07-18T08:08:14.899Z"
      },
      {
        "duration": 5,
        "start_time": "2022-07-18T08:19:55.174Z"
      },
      {
        "duration": 103,
        "start_time": "2022-07-18T08:28:11.829Z"
      },
      {
        "duration": 1350,
        "start_time": "2022-07-18T08:28:28.586Z"
      },
      {
        "duration": 992,
        "start_time": "2022-07-18T08:28:32.171Z"
      },
      {
        "duration": 92,
        "start_time": "2022-07-18T08:28:36.215Z"
      },
      {
        "duration": 5,
        "start_time": "2022-07-18T08:28:40.734Z"
      },
      {
        "duration": 452,
        "start_time": "2022-07-18T08:28:44.166Z"
      },
      {
        "duration": 14,
        "start_time": "2022-07-18T08:28:47.670Z"
      },
      {
        "duration": 31,
        "start_time": "2022-07-18T08:28:48.938Z"
      },
      {
        "duration": 1417,
        "start_time": "2022-07-18T08:29:01.862Z"
      },
      {
        "duration": 781,
        "start_time": "2022-07-18T08:29:03.281Z"
      },
      {
        "duration": 570,
        "start_time": "2022-07-18T08:29:04.064Z"
      },
      {
        "duration": 104,
        "start_time": "2022-07-18T08:29:04.637Z"
      },
      {
        "duration": 110,
        "start_time": "2022-07-18T08:29:04.743Z"
      },
      {
        "duration": 5,
        "start_time": "2022-07-18T08:29:04.855Z"
      },
      {
        "duration": 410,
        "start_time": "2022-07-18T08:29:04.863Z"
      },
      {
        "duration": 497,
        "start_time": "2022-07-18T08:29:05.276Z"
      },
      {
        "duration": 13,
        "start_time": "2022-07-18T08:29:05.775Z"
      },
      {
        "duration": 99,
        "start_time": "2022-07-18T08:29:05.802Z"
      },
      {
        "duration": 24,
        "start_time": "2022-07-18T08:29:05.903Z"
      },
      {
        "duration": 59,
        "start_time": "2022-07-18T08:29:05.928Z"
      },
      {
        "duration": 24,
        "start_time": "2022-07-18T08:29:05.988Z"
      },
      {
        "duration": 20,
        "start_time": "2022-07-18T08:29:06.013Z"
      },
      {
        "duration": 32,
        "start_time": "2022-07-18T08:29:06.035Z"
      },
      {
        "duration": 48,
        "start_time": "2022-07-18T08:29:06.068Z"
      },
      {
        "duration": 32,
        "start_time": "2022-07-18T08:29:06.118Z"
      },
      {
        "duration": 6,
        "start_time": "2022-07-18T08:29:06.151Z"
      },
      {
        "duration": 471,
        "start_time": "2022-07-18T08:29:06.159Z"
      },
      {
        "duration": 38,
        "start_time": "2022-07-18T08:29:06.632Z"
      },
      {
        "duration": 45,
        "start_time": "2022-07-18T08:29:06.672Z"
      },
      {
        "duration": 28,
        "start_time": "2022-07-18T08:29:06.719Z"
      },
      {
        "duration": 54,
        "start_time": "2022-07-18T08:29:06.749Z"
      },
      {
        "duration": 49,
        "start_time": "2022-07-18T08:29:06.805Z"
      },
      {
        "duration": 147,
        "start_time": "2022-07-18T08:29:06.856Z"
      },
      {
        "duration": 23,
        "start_time": "2022-07-18T08:29:07.004Z"
      },
      {
        "duration": 11,
        "start_time": "2022-07-18T08:29:07.029Z"
      },
      {
        "duration": 10,
        "start_time": "2022-07-18T08:29:07.043Z"
      },
      {
        "duration": 24,
        "start_time": "2022-07-18T08:29:07.055Z"
      },
      {
        "duration": 292,
        "start_time": "2022-07-18T08:29:07.080Z"
      },
      {
        "duration": 36,
        "start_time": "2022-07-18T08:29:07.374Z"
      },
      {
        "duration": 26,
        "start_time": "2022-07-18T08:29:07.412Z"
      },
      {
        "duration": 30,
        "start_time": "2022-07-18T08:29:07.439Z"
      },
      {
        "duration": 6,
        "start_time": "2022-07-18T08:29:07.471Z"
      },
      {
        "duration": 52,
        "start_time": "2022-07-18T08:29:07.479Z"
      },
      {
        "duration": 41,
        "start_time": "2022-07-18T08:29:07.533Z"
      },
      {
        "duration": 80,
        "start_time": "2022-07-18T08:29:07.575Z"
      },
      {
        "duration": 378,
        "start_time": "2022-07-18T08:29:07.657Z"
      },
      {
        "duration": 43,
        "start_time": "2022-07-18T08:29:08.036Z"
      },
      {
        "duration": 846,
        "start_time": "2022-07-18T08:29:08.081Z"
      },
      {
        "duration": 387,
        "start_time": "2022-07-18T08:29:08.929Z"
      },
      {
        "duration": 180,
        "start_time": "2022-07-18T08:29:09.317Z"
      },
      {
        "duration": 0,
        "start_time": "2022-07-18T08:29:09.499Z"
      },
      {
        "duration": 0,
        "start_time": "2022-07-18T08:29:09.500Z"
      },
      {
        "duration": 0,
        "start_time": "2022-07-18T08:29:09.501Z"
      },
      {
        "duration": 0,
        "start_time": "2022-07-18T08:29:09.502Z"
      },
      {
        "duration": 0,
        "start_time": "2022-07-18T08:29:09.503Z"
      },
      {
        "duration": 0,
        "start_time": "2022-07-18T08:29:09.504Z"
      },
      {
        "duration": 0,
        "start_time": "2022-07-18T08:29:09.506Z"
      },
      {
        "duration": 0,
        "start_time": "2022-07-18T08:29:09.507Z"
      },
      {
        "duration": 0,
        "start_time": "2022-07-18T08:29:09.508Z"
      },
      {
        "duration": 0,
        "start_time": "2022-07-18T08:29:09.509Z"
      },
      {
        "duration": 0,
        "start_time": "2022-07-18T08:29:09.510Z"
      },
      {
        "duration": 0,
        "start_time": "2022-07-18T08:29:09.511Z"
      },
      {
        "duration": 17,
        "start_time": "2022-07-18T08:40:18.435Z"
      },
      {
        "duration": 28,
        "start_time": "2022-07-18T08:41:55.597Z"
      },
      {
        "duration": 14,
        "start_time": "2022-07-18T08:42:33.058Z"
      },
      {
        "duration": 11,
        "start_time": "2022-07-18T08:42:39.577Z"
      },
      {
        "duration": 3,
        "start_time": "2022-07-18T08:45:26.990Z"
      },
      {
        "duration": 44,
        "start_time": "2022-07-18T08:46:27.043Z"
      },
      {
        "duration": 25,
        "start_time": "2022-07-18T08:46:50.897Z"
      },
      {
        "duration": 1574,
        "start_time": "2022-07-19T06:20:29.947Z"
      },
      {
        "duration": 3066,
        "start_time": "2022-07-19T06:20:31.523Z"
      },
      {
        "duration": 566,
        "start_time": "2022-07-19T06:20:34.591Z"
      },
      {
        "duration": 94,
        "start_time": "2022-07-19T06:20:35.159Z"
      },
      {
        "duration": 85,
        "start_time": "2022-07-19T06:20:35.255Z"
      },
      {
        "duration": 5,
        "start_time": "2022-07-19T06:20:35.352Z"
      },
      {
        "duration": 332,
        "start_time": "2022-07-19T06:20:35.358Z"
      },
      {
        "duration": 420,
        "start_time": "2022-07-19T06:20:35.692Z"
      },
      {
        "duration": 13,
        "start_time": "2022-07-19T06:20:36.114Z"
      },
      {
        "duration": 101,
        "start_time": "2022-07-19T06:20:36.130Z"
      },
      {
        "duration": 29,
        "start_time": "2022-07-19T06:20:36.233Z"
      },
      {
        "duration": 48,
        "start_time": "2022-07-19T06:20:36.264Z"
      },
      {
        "duration": 38,
        "start_time": "2022-07-19T06:20:36.314Z"
      },
      {
        "duration": 17,
        "start_time": "2022-07-19T06:20:36.354Z"
      },
      {
        "duration": 30,
        "start_time": "2022-07-19T06:20:36.373Z"
      },
      {
        "duration": 24,
        "start_time": "2022-07-19T06:20:36.404Z"
      },
      {
        "duration": 20,
        "start_time": "2022-07-19T06:20:36.451Z"
      },
      {
        "duration": 10,
        "start_time": "2022-07-19T06:20:36.472Z"
      },
      {
        "duration": 460,
        "start_time": "2022-07-19T06:20:36.483Z"
      },
      {
        "duration": 37,
        "start_time": "2022-07-19T06:20:36.944Z"
      },
      {
        "duration": 31,
        "start_time": "2022-07-19T06:20:36.983Z"
      },
      {
        "duration": 40,
        "start_time": "2022-07-19T06:20:37.016Z"
      },
      {
        "duration": 29,
        "start_time": "2022-07-19T06:20:37.058Z"
      },
      {
        "duration": 33,
        "start_time": "2022-07-19T06:20:37.088Z"
      },
      {
        "duration": 132,
        "start_time": "2022-07-19T06:20:37.123Z"
      },
      {
        "duration": 23,
        "start_time": "2022-07-19T06:20:37.257Z"
      },
      {
        "duration": 6,
        "start_time": "2022-07-19T06:20:37.282Z"
      },
      {
        "duration": 10,
        "start_time": "2022-07-19T06:20:37.292Z"
      },
      {
        "duration": 54,
        "start_time": "2022-07-19T06:20:37.303Z"
      },
      {
        "duration": 248,
        "start_time": "2022-07-19T06:20:37.359Z"
      },
      {
        "duration": 23,
        "start_time": "2022-07-19T06:20:37.609Z"
      },
      {
        "duration": 33,
        "start_time": "2022-07-19T06:20:37.634Z"
      },
      {
        "duration": 22,
        "start_time": "2022-07-19T06:20:37.668Z"
      },
      {
        "duration": 4,
        "start_time": "2022-07-19T06:20:37.692Z"
      },
      {
        "duration": 55,
        "start_time": "2022-07-19T06:20:37.698Z"
      },
      {
        "duration": 41,
        "start_time": "2022-07-19T06:20:37.755Z"
      },
      {
        "duration": 79,
        "start_time": "2022-07-19T06:20:37.798Z"
      },
      {
        "duration": 440,
        "start_time": "2022-07-19T06:20:37.879Z"
      },
      {
        "duration": 53,
        "start_time": "2022-07-19T06:20:38.321Z"
      },
      {
        "duration": 912,
        "start_time": "2022-07-19T06:20:38.376Z"
      },
      {
        "duration": 784,
        "start_time": "2022-07-19T06:20:39.290Z"
      },
      {
        "duration": 215,
        "start_time": "2022-07-19T06:20:40.075Z"
      },
      {
        "duration": 0,
        "start_time": "2022-07-19T06:20:40.291Z"
      },
      {
        "duration": 0,
        "start_time": "2022-07-19T06:20:40.292Z"
      },
      {
        "duration": 0,
        "start_time": "2022-07-19T06:20:40.293Z"
      },
      {
        "duration": 0,
        "start_time": "2022-07-19T06:20:40.295Z"
      },
      {
        "duration": 0,
        "start_time": "2022-07-19T06:20:40.295Z"
      },
      {
        "duration": 0,
        "start_time": "2022-07-19T06:20:40.352Z"
      },
      {
        "duration": 0,
        "start_time": "2022-07-19T06:20:40.353Z"
      },
      {
        "duration": 0,
        "start_time": "2022-07-19T06:20:40.354Z"
      },
      {
        "duration": 0,
        "start_time": "2022-07-19T06:20:40.355Z"
      },
      {
        "duration": 0,
        "start_time": "2022-07-19T06:20:40.356Z"
      },
      {
        "duration": 0,
        "start_time": "2022-07-19T06:20:40.357Z"
      },
      {
        "duration": 0,
        "start_time": "2022-07-19T06:20:40.358Z"
      },
      {
        "duration": 73,
        "start_time": "2022-07-19T06:23:04.839Z"
      },
      {
        "duration": 65,
        "start_time": "2022-07-19T06:24:16.953Z"
      },
      {
        "duration": 36,
        "start_time": "2022-07-19T06:24:44.863Z"
      },
      {
        "duration": 1379,
        "start_time": "2022-07-19T06:25:29.034Z"
      },
      {
        "duration": 5,
        "start_time": "2022-07-19T06:26:14.821Z"
      },
      {
        "duration": 711,
        "start_time": "2022-07-19T06:26:20.504Z"
      },
      {
        "duration": 1392,
        "start_time": "2022-07-19T06:27:10.558Z"
      },
      {
        "duration": 625,
        "start_time": "2022-07-19T06:27:46.413Z"
      },
      {
        "duration": 856,
        "start_time": "2022-07-19T06:28:19.849Z"
      },
      {
        "duration": 1313,
        "start_time": "2022-07-19T06:28:43.185Z"
      },
      {
        "duration": 2124,
        "start_time": "2022-07-19T06:29:12.341Z"
      },
      {
        "duration": 41,
        "start_time": "2022-07-19T06:29:42.105Z"
      },
      {
        "duration": 4,
        "start_time": "2022-07-19T06:29:53.609Z"
      },
      {
        "duration": 4,
        "start_time": "2022-07-19T06:29:59.858Z"
      },
      {
        "duration": 3,
        "start_time": "2022-07-19T06:30:07.183Z"
      },
      {
        "duration": 3,
        "start_time": "2022-07-19T06:30:08.172Z"
      },
      {
        "duration": 2251,
        "start_time": "2022-07-19T06:30:56.233Z"
      },
      {
        "duration": 103974,
        "start_time": "2022-07-19T06:31:27.622Z"
      },
      {
        "duration": 143,
        "start_time": "2022-07-19T06:34:22.329Z"
      },
      {
        "duration": 160,
        "start_time": "2022-07-19T06:34:32.023Z"
      },
      {
        "duration": 16608,
        "start_time": "2022-07-19T06:34:56.245Z"
      },
      {
        "duration": 33,
        "start_time": "2022-07-19T06:35:33.287Z"
      },
      {
        "duration": 128,
        "start_time": "2022-07-19T06:36:19.325Z"
      },
      {
        "duration": 9,
        "start_time": "2022-07-19T06:36:39.365Z"
      },
      {
        "duration": 4,
        "start_time": "2022-07-19T06:36:42.841Z"
      },
      {
        "duration": 15,
        "start_time": "2022-07-19T06:36:59.322Z"
      },
      {
        "duration": 1302,
        "start_time": "2022-07-19T06:37:34.667Z"
      },
      {
        "duration": 741,
        "start_time": "2022-07-19T06:37:35.971Z"
      },
      {
        "duration": 554,
        "start_time": "2022-07-19T06:37:36.714Z"
      },
      {
        "duration": 92,
        "start_time": "2022-07-19T06:37:37.270Z"
      },
      {
        "duration": 94,
        "start_time": "2022-07-19T06:37:37.364Z"
      },
      {
        "duration": 4,
        "start_time": "2022-07-19T06:37:37.459Z"
      },
      {
        "duration": 352,
        "start_time": "2022-07-19T06:37:37.464Z"
      },
      {
        "duration": 456,
        "start_time": "2022-07-19T06:37:37.817Z"
      },
      {
        "duration": 15,
        "start_time": "2022-07-19T06:37:38.274Z"
      },
      {
        "duration": 119,
        "start_time": "2022-07-19T06:37:38.291Z"
      },
      {
        "duration": 26,
        "start_time": "2022-07-19T06:37:38.412Z"
      },
      {
        "duration": 61,
        "start_time": "2022-07-19T06:37:38.439Z"
      },
      {
        "duration": 22,
        "start_time": "2022-07-19T06:37:38.502Z"
      },
      {
        "duration": 37,
        "start_time": "2022-07-19T06:37:38.525Z"
      },
      {
        "duration": 32,
        "start_time": "2022-07-19T06:37:38.564Z"
      },
      {
        "duration": 27,
        "start_time": "2022-07-19T06:37:38.597Z"
      },
      {
        "duration": 43,
        "start_time": "2022-07-19T06:37:38.626Z"
      },
      {
        "duration": 6,
        "start_time": "2022-07-19T06:37:38.670Z"
      },
      {
        "duration": 500,
        "start_time": "2022-07-19T06:37:38.678Z"
      },
      {
        "duration": 36,
        "start_time": "2022-07-19T06:37:39.180Z"
      },
      {
        "duration": 50,
        "start_time": "2022-07-19T06:37:39.218Z"
      },
      {
        "duration": 23,
        "start_time": "2022-07-19T06:37:39.269Z"
      },
      {
        "duration": 30,
        "start_time": "2022-07-19T06:37:39.294Z"
      },
      {
        "duration": 45,
        "start_time": "2022-07-19T06:37:39.325Z"
      },
      {
        "duration": 143,
        "start_time": "2022-07-19T06:37:39.372Z"
      },
      {
        "duration": 21,
        "start_time": "2022-07-19T06:37:39.517Z"
      },
      {
        "duration": 17,
        "start_time": "2022-07-19T06:37:39.540Z"
      },
      {
        "duration": 9,
        "start_time": "2022-07-19T06:37:39.560Z"
      },
      {
        "duration": 22,
        "start_time": "2022-07-19T06:37:39.570Z"
      },
      {
        "duration": 245,
        "start_time": "2022-07-19T06:37:39.594Z"
      },
      {
        "duration": 30,
        "start_time": "2022-07-19T06:37:39.841Z"
      },
      {
        "duration": 21,
        "start_time": "2022-07-19T06:37:39.873Z"
      },
      {
        "duration": 21,
        "start_time": "2022-07-19T06:37:39.895Z"
      },
      {
        "duration": 4,
        "start_time": "2022-07-19T06:37:39.918Z"
      },
      {
        "duration": 59,
        "start_time": "2022-07-19T06:37:39.924Z"
      },
      {
        "duration": 36,
        "start_time": "2022-07-19T06:37:39.984Z"
      },
      {
        "duration": 70,
        "start_time": "2022-07-19T06:37:40.022Z"
      },
      {
        "duration": 340,
        "start_time": "2022-07-19T06:37:40.093Z"
      },
      {
        "duration": 49,
        "start_time": "2022-07-19T06:37:40.435Z"
      },
      {
        "duration": 800,
        "start_time": "2022-07-19T06:37:40.486Z"
      },
      {
        "duration": 385,
        "start_time": "2022-07-19T06:37:41.288Z"
      },
      {
        "duration": 2132,
        "start_time": "2022-07-19T06:37:41.674Z"
      },
      {
        "duration": 3,
        "start_time": "2022-07-19T06:37:43.807Z"
      },
      {
        "duration": 5,
        "start_time": "2022-07-19T06:37:43.811Z"
      },
      {
        "duration": 104988,
        "start_time": "2022-07-19T06:37:43.818Z"
      },
      {
        "duration": 2276,
        "start_time": "2022-07-19T06:39:28.808Z"
      },
      {
        "duration": 14370,
        "start_time": "2022-07-19T06:39:31.086Z"
      },
      {
        "duration": 194,
        "start_time": "2022-07-19T06:39:45.458Z"
      },
      {
        "duration": 121352,
        "start_time": "2022-07-19T06:39:45.662Z"
      },
      {
        "duration": 77913,
        "start_time": "2022-07-19T06:41:47.015Z"
      },
      {
        "duration": 66833,
        "start_time": "2022-07-19T06:43:04.929Z"
      },
      {
        "duration": 34196,
        "start_time": "2022-07-19T06:44:11.763Z"
      },
      {
        "duration": 12,
        "start_time": "2022-07-19T06:44:45.961Z"
      },
      {
        "duration": 1380,
        "start_time": "2022-07-19T06:57:03.821Z"
      },
      {
        "duration": 700,
        "start_time": "2022-07-19T06:57:05.202Z"
      },
      {
        "duration": 606,
        "start_time": "2022-07-19T06:57:05.904Z"
      },
      {
        "duration": 165,
        "start_time": "2022-07-19T06:57:06.512Z"
      },
      {
        "duration": 136,
        "start_time": "2022-07-19T06:57:06.679Z"
      },
      {
        "duration": 4,
        "start_time": "2022-07-19T06:57:06.817Z"
      },
      {
        "duration": 341,
        "start_time": "2022-07-19T06:57:06.825Z"
      },
      {
        "duration": 403,
        "start_time": "2022-07-19T06:57:07.168Z"
      },
      {
        "duration": 12,
        "start_time": "2022-07-19T06:57:07.572Z"
      },
      {
        "duration": 106,
        "start_time": "2022-07-19T06:57:07.586Z"
      },
      {
        "duration": 24,
        "start_time": "2022-07-19T06:57:07.693Z"
      },
      {
        "duration": 58,
        "start_time": "2022-07-19T06:57:07.718Z"
      },
      {
        "duration": 22,
        "start_time": "2022-07-19T06:57:07.777Z"
      },
      {
        "duration": 19,
        "start_time": "2022-07-19T06:57:07.800Z"
      },
      {
        "duration": 48,
        "start_time": "2022-07-19T06:57:07.821Z"
      },
      {
        "duration": 24,
        "start_time": "2022-07-19T06:57:07.870Z"
      },
      {
        "duration": 30,
        "start_time": "2022-07-19T06:57:07.895Z"
      },
      {
        "duration": 6,
        "start_time": "2022-07-19T06:57:07.927Z"
      },
      {
        "duration": 465,
        "start_time": "2022-07-19T06:57:07.934Z"
      },
      {
        "duration": 33,
        "start_time": "2022-07-19T06:57:08.400Z"
      },
      {
        "duration": 39,
        "start_time": "2022-07-19T06:57:08.435Z"
      },
      {
        "duration": 22,
        "start_time": "2022-07-19T06:57:08.475Z"
      },
      {
        "duration": 32,
        "start_time": "2022-07-19T06:57:08.498Z"
      },
      {
        "duration": 43,
        "start_time": "2022-07-19T06:57:08.531Z"
      },
      {
        "duration": 111,
        "start_time": "2022-07-19T06:57:08.575Z"
      },
      {
        "duration": 21,
        "start_time": "2022-07-19T06:57:08.688Z"
      },
      {
        "duration": 25,
        "start_time": "2022-07-19T06:57:08.711Z"
      },
      {
        "duration": 18,
        "start_time": "2022-07-19T06:57:08.740Z"
      },
      {
        "duration": 25,
        "start_time": "2022-07-19T06:57:08.760Z"
      },
      {
        "duration": 290,
        "start_time": "2022-07-19T06:57:08.786Z"
      },
      {
        "duration": 23,
        "start_time": "2022-07-19T06:57:09.077Z"
      },
      {
        "duration": 21,
        "start_time": "2022-07-19T06:57:09.102Z"
      },
      {
        "duration": 39,
        "start_time": "2022-07-19T06:57:09.124Z"
      },
      {
        "duration": 5,
        "start_time": "2022-07-19T06:57:09.164Z"
      },
      {
        "duration": 34,
        "start_time": "2022-07-19T06:57:09.170Z"
      },
      {
        "duration": 58,
        "start_time": "2022-07-19T06:57:09.205Z"
      },
      {
        "duration": 55,
        "start_time": "2022-07-19T06:57:09.264Z"
      },
      {
        "duration": 341,
        "start_time": "2022-07-19T06:57:09.321Z"
      },
      {
        "duration": 41,
        "start_time": "2022-07-19T06:57:09.664Z"
      },
      {
        "duration": 820,
        "start_time": "2022-07-19T06:57:09.707Z"
      },
      {
        "duration": 387,
        "start_time": "2022-07-19T06:57:10.528Z"
      },
      {
        "duration": 2187,
        "start_time": "2022-07-19T06:57:10.916Z"
      },
      {
        "duration": 3,
        "start_time": "2022-07-19T06:57:13.105Z"
      },
      {
        "duration": 7,
        "start_time": "2022-07-19T06:57:13.110Z"
      },
      {
        "duration": 369330,
        "start_time": "2022-07-19T06:57:13.119Z"
      },
      {
        "duration": 8196,
        "start_time": "2022-07-19T07:03:22.452Z"
      },
      {
        "duration": 23112,
        "start_time": "2022-07-19T07:03:30.649Z"
      },
      {
        "duration": 119,
        "start_time": "2022-07-19T07:03:53.852Z"
      },
      {
        "duration": 111226,
        "start_time": "2022-07-19T07:03:54.053Z"
      },
      {
        "duration": 80520,
        "start_time": "2022-07-19T07:05:45.280Z"
      },
      {
        "duration": 13359,
        "start_time": "2022-07-19T07:07:05.801Z"
      },
      {
        "duration": 7614,
        "start_time": "2022-07-19T07:07:19.162Z"
      },
      {
        "duration": 14,
        "start_time": "2022-07-19T07:07:26.778Z"
      },
      {
        "duration": 0,
        "start_time": "2022-07-19T07:07:26.793Z"
      },
      {
        "duration": 5,
        "start_time": "2022-07-19T07:07:51.358Z"
      },
      {
        "duration": 15734,
        "start_time": "2022-07-19T07:08:09.265Z"
      },
      {
        "duration": 4,
        "start_time": "2022-07-19T07:08:38.266Z"
      },
      {
        "duration": 4835,
        "start_time": "2022-07-19T07:08:40.837Z"
      },
      {
        "duration": 1319,
        "start_time": "2022-07-19T07:08:56.106Z"
      },
      {
        "duration": 711,
        "start_time": "2022-07-19T07:08:57.426Z"
      },
      {
        "duration": 515,
        "start_time": "2022-07-19T07:08:58.138Z"
      },
      {
        "duration": 81,
        "start_time": "2022-07-19T07:08:58.655Z"
      },
      {
        "duration": 91,
        "start_time": "2022-07-19T07:08:58.737Z"
      },
      {
        "duration": 4,
        "start_time": "2022-07-19T07:08:58.830Z"
      },
      {
        "duration": 341,
        "start_time": "2022-07-19T07:08:58.835Z"
      },
      {
        "duration": 434,
        "start_time": "2022-07-19T07:08:59.177Z"
      },
      {
        "duration": 10,
        "start_time": "2022-07-19T07:08:59.613Z"
      },
      {
        "duration": 106,
        "start_time": "2022-07-19T07:08:59.625Z"
      },
      {
        "duration": 27,
        "start_time": "2022-07-19T07:08:59.733Z"
      },
      {
        "duration": 46,
        "start_time": "2022-07-19T07:08:59.761Z"
      },
      {
        "duration": 21,
        "start_time": "2022-07-19T07:08:59.808Z"
      },
      {
        "duration": 39,
        "start_time": "2022-07-19T07:08:59.830Z"
      },
      {
        "duration": 31,
        "start_time": "2022-07-19T07:08:59.871Z"
      },
      {
        "duration": 24,
        "start_time": "2022-07-19T07:08:59.904Z"
      },
      {
        "duration": 42,
        "start_time": "2022-07-19T07:08:59.929Z"
      },
      {
        "duration": 5,
        "start_time": "2022-07-19T07:08:59.973Z"
      },
      {
        "duration": 432,
        "start_time": "2022-07-19T07:08:59.980Z"
      },
      {
        "duration": 39,
        "start_time": "2022-07-19T07:09:00.413Z"
      },
      {
        "duration": 30,
        "start_time": "2022-07-19T07:09:00.454Z"
      },
      {
        "duration": 23,
        "start_time": "2022-07-19T07:09:00.485Z"
      },
      {
        "duration": 46,
        "start_time": "2022-07-19T07:09:00.510Z"
      },
      {
        "duration": 30,
        "start_time": "2022-07-19T07:09:00.558Z"
      },
      {
        "duration": 116,
        "start_time": "2022-07-19T07:09:00.590Z"
      },
      {
        "duration": 22,
        "start_time": "2022-07-19T07:09:00.708Z"
      },
      {
        "duration": 22,
        "start_time": "2022-07-19T07:09:00.732Z"
      },
      {
        "duration": 11,
        "start_time": "2022-07-19T07:09:00.758Z"
      },
      {
        "duration": 23,
        "start_time": "2022-07-19T07:09:00.770Z"
      },
      {
        "duration": 247,
        "start_time": "2022-07-19T07:09:00.794Z"
      },
      {
        "duration": 29,
        "start_time": "2022-07-19T07:09:01.042Z"
      },
      {
        "duration": 21,
        "start_time": "2022-07-19T07:09:01.073Z"
      },
      {
        "duration": 20,
        "start_time": "2022-07-19T07:09:01.096Z"
      },
      {
        "duration": 6,
        "start_time": "2022-07-19T07:09:01.117Z"
      },
      {
        "duration": 56,
        "start_time": "2022-07-19T07:09:01.124Z"
      },
      {
        "duration": 38,
        "start_time": "2022-07-19T07:09:01.182Z"
      },
      {
        "duration": 70,
        "start_time": "2022-07-19T07:09:01.222Z"
      },
      {
        "duration": 353,
        "start_time": "2022-07-19T07:09:01.293Z"
      },
      {
        "duration": 38,
        "start_time": "2022-07-19T07:09:01.651Z"
      },
      {
        "duration": 821,
        "start_time": "2022-07-19T07:09:01.691Z"
      },
      {
        "duration": 393,
        "start_time": "2022-07-19T07:09:02.514Z"
      },
      {
        "duration": 2175,
        "start_time": "2022-07-19T07:09:02.909Z"
      },
      {
        "duration": 3,
        "start_time": "2022-07-19T07:09:05.086Z"
      },
      {
        "duration": 7,
        "start_time": "2022-07-19T07:09:05.091Z"
      },
      {
        "duration": 549912,
        "start_time": "2022-07-19T07:09:05.099Z"
      },
      {
        "duration": 13014,
        "start_time": "2022-07-19T07:18:15.013Z"
      },
      {
        "duration": 14424,
        "start_time": "2022-07-19T07:18:28.030Z"
      },
      {
        "duration": 118,
        "start_time": "2022-07-19T07:18:42.455Z"
      },
      {
        "duration": 111062,
        "start_time": "2022-07-19T07:18:42.653Z"
      },
      {
        "duration": 78019,
        "start_time": "2022-07-19T07:20:33.716Z"
      },
      {
        "duration": 62822,
        "start_time": "2022-07-19T07:21:51.736Z"
      },
      {
        "duration": 37208,
        "start_time": "2022-07-19T07:22:54.560Z"
      },
      {
        "duration": 87,
        "start_time": "2022-07-19T07:23:31.770Z"
      },
      {
        "duration": 5,
        "start_time": "2022-07-19T07:23:31.858Z"
      },
      {
        "duration": 1728,
        "start_time": "2022-07-19T12:27:24.186Z"
      },
      {
        "duration": 1228,
        "start_time": "2022-07-19T12:27:25.916Z"
      },
      {
        "duration": 1220,
        "start_time": "2022-07-19T12:27:27.146Z"
      },
      {
        "duration": 269,
        "start_time": "2022-07-19T12:27:28.369Z"
      },
      {
        "duration": 297,
        "start_time": "2022-07-19T12:27:28.640Z"
      },
      {
        "duration": 5,
        "start_time": "2022-07-19T12:27:28.939Z"
      },
      {
        "duration": 802,
        "start_time": "2022-07-19T12:27:28.946Z"
      },
      {
        "duration": 533,
        "start_time": "2022-07-19T12:27:29.750Z"
      },
      {
        "duration": 14,
        "start_time": "2022-07-19T12:27:30.285Z"
      },
      {
        "duration": 138,
        "start_time": "2022-07-19T12:27:30.302Z"
      },
      {
        "duration": 31,
        "start_time": "2022-07-19T12:27:30.441Z"
      },
      {
        "duration": 74,
        "start_time": "2022-07-19T12:27:30.473Z"
      },
      {
        "duration": 28,
        "start_time": "2022-07-19T12:27:30.549Z"
      },
      {
        "duration": 63,
        "start_time": "2022-07-19T12:27:30.579Z"
      },
      {
        "duration": 54,
        "start_time": "2022-07-19T12:27:30.644Z"
      },
      {
        "duration": 49,
        "start_time": "2022-07-19T12:27:30.699Z"
      },
      {
        "duration": 78,
        "start_time": "2022-07-19T12:27:30.750Z"
      },
      {
        "duration": 49,
        "start_time": "2022-07-19T12:27:30.833Z"
      },
      {
        "duration": 551,
        "start_time": "2022-07-19T12:27:30.884Z"
      },
      {
        "duration": 40,
        "start_time": "2022-07-19T12:27:31.437Z"
      },
      {
        "duration": 56,
        "start_time": "2022-07-19T12:27:31.480Z"
      },
      {
        "duration": 32,
        "start_time": "2022-07-19T12:27:31.538Z"
      },
      {
        "duration": 62,
        "start_time": "2022-07-19T12:27:31.572Z"
      },
      {
        "duration": 64,
        "start_time": "2022-07-19T12:27:31.636Z"
      },
      {
        "duration": 190,
        "start_time": "2022-07-19T12:27:31.701Z"
      },
      {
        "duration": 44,
        "start_time": "2022-07-19T12:27:31.893Z"
      },
      {
        "duration": 10,
        "start_time": "2022-07-19T12:27:31.939Z"
      },
      {
        "duration": 29,
        "start_time": "2022-07-19T12:27:31.953Z"
      },
      {
        "duration": 53,
        "start_time": "2022-07-19T12:27:31.984Z"
      },
      {
        "duration": 299,
        "start_time": "2022-07-19T12:27:32.039Z"
      },
      {
        "duration": 27,
        "start_time": "2022-07-19T12:27:32.340Z"
      },
      {
        "duration": 27,
        "start_time": "2022-07-19T12:27:32.369Z"
      },
      {
        "duration": 54,
        "start_time": "2022-07-19T12:27:32.398Z"
      },
      {
        "duration": 20,
        "start_time": "2022-07-19T12:27:32.453Z"
      },
      {
        "duration": 118,
        "start_time": "2022-07-19T12:27:32.475Z"
      },
      {
        "duration": 57,
        "start_time": "2022-07-19T12:27:32.595Z"
      },
      {
        "duration": 82,
        "start_time": "2022-07-19T12:27:32.654Z"
      },
      {
        "duration": 479,
        "start_time": "2022-07-19T12:27:32.737Z"
      },
      {
        "duration": 58,
        "start_time": "2022-07-19T12:27:33.218Z"
      },
      {
        "duration": 1035,
        "start_time": "2022-07-19T12:27:33.278Z"
      },
      {
        "duration": 503,
        "start_time": "2022-07-19T12:27:34.315Z"
      },
      {
        "duration": 3555,
        "start_time": "2022-07-19T12:27:34.819Z"
      },
      {
        "duration": 3,
        "start_time": "2022-07-19T12:27:38.377Z"
      },
      {
        "duration": 69,
        "start_time": "2022-07-19T12:27:38.382Z"
      },
      {
        "duration": 481136,
        "start_time": "2022-07-19T12:27:38.453Z"
      },
      {
        "duration": 10717,
        "start_time": "2022-07-19T12:35:39.591Z"
      },
      {
        "duration": 32224,
        "start_time": "2022-07-19T12:35:50.309Z"
      },
      {
        "duration": 187,
        "start_time": "2022-07-19T12:36:22.536Z"
      },
      {
        "duration": 266926,
        "start_time": "2022-07-19T12:36:22.724Z"
      },
      {
        "duration": 209122,
        "start_time": "2022-07-19T12:40:49.654Z"
      },
      {
        "duration": 489349,
        "start_time": "2022-07-19T12:44:18.779Z"
      },
      {
        "duration": 832396,
        "start_time": "2022-07-19T12:52:28.133Z"
      },
      {
        "duration": 14,
        "start_time": "2022-07-19T13:06:20.534Z"
      },
      {
        "duration": 24,
        "start_time": "2022-07-19T13:06:20.550Z"
      },
      {
        "duration": 17,
        "start_time": "2022-07-19T13:06:20.576Z"
      },
      {
        "duration": 117,
        "start_time": "2022-07-19T13:07:27.435Z"
      },
      {
        "duration": 9,
        "start_time": "2022-07-19T13:07:31.034Z"
      },
      {
        "duration": 5,
        "start_time": "2022-07-19T13:07:50.703Z"
      },
      {
        "duration": 7,
        "start_time": "2022-07-19T13:07:55.007Z"
      },
      {
        "duration": 11,
        "start_time": "2022-07-19T13:07:58.241Z"
      },
      {
        "duration": 14,
        "start_time": "2022-07-19T13:08:06.252Z"
      },
      {
        "duration": 12,
        "start_time": "2022-07-19T13:08:48.287Z"
      },
      {
        "duration": 14,
        "start_time": "2022-07-19T13:09:29.067Z"
      },
      {
        "duration": 13,
        "start_time": "2022-07-19T13:13:40.102Z"
      },
      {
        "duration": 62,
        "start_time": "2022-07-19T13:14:12.037Z"
      },
      {
        "duration": 4,
        "start_time": "2022-07-19T13:14:15.050Z"
      },
      {
        "duration": 4,
        "start_time": "2022-07-19T13:14:27.522Z"
      },
      {
        "duration": 4,
        "start_time": "2022-07-19T13:14:31.073Z"
      },
      {
        "duration": 4,
        "start_time": "2022-07-19T13:14:35.137Z"
      },
      {
        "duration": 3,
        "start_time": "2022-07-19T13:14:38.324Z"
      },
      {
        "duration": 4,
        "start_time": "2022-07-19T13:14:42.441Z"
      },
      {
        "duration": 5,
        "start_time": "2022-07-19T13:14:49.902Z"
      },
      {
        "duration": 4,
        "start_time": "2022-07-19T13:14:52.455Z"
      },
      {
        "duration": 3,
        "start_time": "2022-07-19T13:15:24.060Z"
      },
      {
        "duration": 3,
        "start_time": "2022-07-19T13:15:28.288Z"
      },
      {
        "duration": 4,
        "start_time": "2022-07-19T13:15:55.007Z"
      },
      {
        "duration": 4,
        "start_time": "2022-07-19T13:17:10.115Z"
      },
      {
        "duration": 4,
        "start_time": "2022-07-19T13:17:13.221Z"
      },
      {
        "duration": 4,
        "start_time": "2022-07-19T13:17:18.805Z"
      },
      {
        "duration": 4,
        "start_time": "2022-07-19T13:17:23.103Z"
      },
      {
        "duration": 3,
        "start_time": "2022-07-19T13:17:29.306Z"
      },
      {
        "duration": 4,
        "start_time": "2022-07-19T13:17:36.110Z"
      },
      {
        "duration": 4,
        "start_time": "2022-07-19T13:17:43.856Z"
      },
      {
        "duration": 4,
        "start_time": "2022-07-19T13:17:56.186Z"
      },
      {
        "duration": 4,
        "start_time": "2022-07-19T13:18:26.542Z"
      },
      {
        "duration": 4,
        "start_time": "2022-07-19T13:18:29.335Z"
      },
      {
        "duration": 4,
        "start_time": "2022-07-19T13:18:33.634Z"
      },
      {
        "duration": 4,
        "start_time": "2022-07-19T13:18:53.444Z"
      },
      {
        "duration": 6,
        "start_time": "2022-07-19T13:19:29.218Z"
      },
      {
        "duration": 4,
        "start_time": "2022-07-19T13:19:34.386Z"
      },
      {
        "duration": 3,
        "start_time": "2022-07-19T13:19:38.336Z"
      },
      {
        "duration": 4,
        "start_time": "2022-07-19T13:20:20.443Z"
      },
      {
        "duration": 4,
        "start_time": "2022-07-19T13:20:23.778Z"
      },
      {
        "duration": 4,
        "start_time": "2022-07-19T13:20:31.077Z"
      },
      {
        "duration": 4,
        "start_time": "2022-07-19T13:20:53.435Z"
      },
      {
        "duration": 5,
        "start_time": "2022-07-19T13:20:56.607Z"
      },
      {
        "duration": 5724,
        "start_time": "2022-07-19T13:24:50.665Z"
      },
      {
        "duration": 137,
        "start_time": "2022-07-19T13:25:24.125Z"
      },
      {
        "duration": 109,
        "start_time": "2022-07-19T13:25:50.577Z"
      },
      {
        "duration": 117,
        "start_time": "2022-07-19T13:26:18.084Z"
      },
      {
        "duration": 126,
        "start_time": "2022-07-19T13:27:13.467Z"
      },
      {
        "duration": 154,
        "start_time": "2022-07-19T13:27:24.029Z"
      },
      {
        "duration": 7841,
        "start_time": "2022-07-19T13:27:37.963Z"
      },
      {
        "duration": 8456,
        "start_time": "2022-07-19T13:27:58.013Z"
      },
      {
        "duration": 8111,
        "start_time": "2022-07-19T13:28:20.423Z"
      },
      {
        "duration": 8151,
        "start_time": "2022-07-19T13:28:37.976Z"
      },
      {
        "duration": 6,
        "start_time": "2022-07-19T13:31:00.355Z"
      },
      {
        "duration": 8791,
        "start_time": "2022-07-19T13:32:09.606Z"
      },
      {
        "duration": 310,
        "start_time": "2022-07-19T13:32:18.400Z"
      },
      {
        "duration": 116,
        "start_time": "2022-07-19T13:33:21.185Z"
      },
      {
        "duration": 283,
        "start_time": "2022-07-19T13:33:46.297Z"
      },
      {
        "duration": 53873,
        "start_time": "2022-07-19T13:36:42.357Z"
      },
      {
        "duration": 66,
        "start_time": "2022-07-19T13:38:41.963Z"
      },
      {
        "duration": 10647,
        "start_time": "2022-07-19T13:41:16.571Z"
      },
      {
        "duration": 10844,
        "start_time": "2022-07-19T13:41:42.392Z"
      },
      {
        "duration": 8604,
        "start_time": "2022-07-19T13:42:22.206Z"
      },
      {
        "duration": 53304,
        "start_time": "2022-07-19T13:45:44.972Z"
      },
      {
        "duration": 2306,
        "start_time": "2022-07-19T13:47:05.158Z"
      },
      {
        "duration": 2814,
        "start_time": "2022-07-19T13:47:48.974Z"
      },
      {
        "duration": 2803,
        "start_time": "2022-07-19T13:48:48.556Z"
      },
      {
        "duration": 43645,
        "start_time": "2022-07-19T14:19:27.179Z"
      },
      {
        "duration": 4,
        "start_time": "2022-07-19T14:22:46.791Z"
      },
      {
        "duration": 146,
        "start_time": "2022-07-19T14:23:09.373Z"
      },
      {
        "duration": 4,
        "start_time": "2022-07-19T14:27:32.893Z"
      },
      {
        "duration": 8648,
        "start_time": "2022-07-19T14:28:34.646Z"
      },
      {
        "duration": 8362,
        "start_time": "2022-07-19T14:30:25.104Z"
      },
      {
        "duration": 45129,
        "start_time": "2022-07-19T14:31:55.502Z"
      },
      {
        "duration": 9934,
        "start_time": "2022-07-19T14:32:40.633Z"
      },
      {
        "duration": 46490,
        "start_time": "2022-07-19T14:32:50.569Z"
      },
      {
        "duration": 3005,
        "start_time": "2022-07-19T14:35:46.254Z"
      },
      {
        "duration": 3007,
        "start_time": "2022-07-19T14:36:35.135Z"
      },
      {
        "duration": 4,
        "start_time": "2022-07-19T14:36:46.770Z"
      },
      {
        "duration": 3007,
        "start_time": "2022-07-19T14:37:02.889Z"
      },
      {
        "duration": 5,
        "start_time": "2022-07-19T14:37:17.338Z"
      },
      {
        "duration": 2003,
        "start_time": "2022-07-19T14:39:30.455Z"
      },
      {
        "duration": 2005,
        "start_time": "2022-07-19T14:40:17.750Z"
      },
      {
        "duration": 2005,
        "start_time": "2022-07-19T14:40:35.094Z"
      },
      {
        "duration": 8335,
        "start_time": "2022-07-19T14:43:25.803Z"
      },
      {
        "duration": 29,
        "start_time": "2022-07-19T14:47:35.390Z"
      },
      {
        "duration": 1649,
        "start_time": "2022-07-19T14:48:22.045Z"
      },
      {
        "duration": 73,
        "start_time": "2022-07-19T14:48:33.709Z"
      },
      {
        "duration": 1557,
        "start_time": "2022-07-19T14:50:16.418Z"
      },
      {
        "duration": 1560,
        "start_time": "2022-07-19T14:51:25.609Z"
      },
      {
        "duration": 1641,
        "start_time": "2022-07-19T14:53:01.791Z"
      },
      {
        "duration": 1542,
        "start_time": "2022-07-19T14:56:24.835Z"
      },
      {
        "duration": 11925,
        "start_time": "2022-07-19T14:57:44.812Z"
      },
      {
        "duration": 3226,
        "start_time": "2022-07-19T14:58:52.835Z"
      },
      {
        "duration": 713,
        "start_time": "2022-07-19T14:59:53.047Z"
      },
      {
        "duration": 23930,
        "start_time": "2022-07-19T15:00:06.611Z"
      },
      {
        "duration": 1591,
        "start_time": "2022-07-19T17:58:27.880Z"
      },
      {
        "duration": 3440,
        "start_time": "2022-07-19T17:58:29.473Z"
      },
      {
        "duration": 517,
        "start_time": "2022-07-19T17:58:32.914Z"
      },
      {
        "duration": 89,
        "start_time": "2022-07-19T17:58:33.433Z"
      },
      {
        "duration": 93,
        "start_time": "2022-07-19T17:58:33.523Z"
      },
      {
        "duration": 4,
        "start_time": "2022-07-19T17:58:33.618Z"
      },
      {
        "duration": 344,
        "start_time": "2022-07-19T17:58:33.623Z"
      },
      {
        "duration": 407,
        "start_time": "2022-07-19T17:58:33.968Z"
      },
      {
        "duration": 11,
        "start_time": "2022-07-19T17:58:34.377Z"
      },
      {
        "duration": 114,
        "start_time": "2022-07-19T17:58:34.402Z"
      },
      {
        "duration": 30,
        "start_time": "2022-07-19T17:58:34.517Z"
      },
      {
        "duration": 66,
        "start_time": "2022-07-19T17:58:34.549Z"
      },
      {
        "duration": 23,
        "start_time": "2022-07-19T17:58:34.617Z"
      },
      {
        "duration": 24,
        "start_time": "2022-07-19T17:58:34.642Z"
      },
      {
        "duration": 51,
        "start_time": "2022-07-19T17:58:34.667Z"
      },
      {
        "duration": 37,
        "start_time": "2022-07-19T17:58:34.720Z"
      },
      {
        "duration": 24,
        "start_time": "2022-07-19T17:58:34.759Z"
      },
      {
        "duration": 21,
        "start_time": "2022-07-19T17:58:34.784Z"
      },
      {
        "duration": 560,
        "start_time": "2022-07-19T17:58:34.806Z"
      },
      {
        "duration": 57,
        "start_time": "2022-07-19T17:58:35.369Z"
      },
      {
        "duration": 37,
        "start_time": "2022-07-19T17:58:35.428Z"
      },
      {
        "duration": 39,
        "start_time": "2022-07-19T17:58:35.467Z"
      },
      {
        "duration": 32,
        "start_time": "2022-07-19T17:58:35.507Z"
      },
      {
        "duration": 35,
        "start_time": "2022-07-19T17:58:35.541Z"
      },
      {
        "duration": 115,
        "start_time": "2022-07-19T17:58:35.578Z"
      },
      {
        "duration": 38,
        "start_time": "2022-07-19T17:58:35.694Z"
      },
      {
        "duration": 8,
        "start_time": "2022-07-19T17:58:35.734Z"
      },
      {
        "duration": 11,
        "start_time": "2022-07-19T17:58:35.746Z"
      },
      {
        "duration": 53,
        "start_time": "2022-07-19T17:58:35.758Z"
      },
      {
        "duration": 249,
        "start_time": "2022-07-19T17:58:35.813Z"
      },
      {
        "duration": 23,
        "start_time": "2022-07-19T17:58:36.064Z"
      },
      {
        "duration": 33,
        "start_time": "2022-07-19T17:58:36.089Z"
      },
      {
        "duration": 21,
        "start_time": "2022-07-19T17:58:36.123Z"
      },
      {
        "duration": 6,
        "start_time": "2022-07-19T17:58:36.145Z"
      },
      {
        "duration": 54,
        "start_time": "2022-07-19T17:58:36.152Z"
      },
      {
        "duration": 42,
        "start_time": "2022-07-19T17:58:36.208Z"
      },
      {
        "duration": 69,
        "start_time": "2022-07-19T17:58:36.251Z"
      },
      {
        "duration": 361,
        "start_time": "2022-07-19T17:58:36.322Z"
      },
      {
        "duration": 44,
        "start_time": "2022-07-19T17:58:36.685Z"
      },
      {
        "duration": 919,
        "start_time": "2022-07-19T17:58:36.731Z"
      },
      {
        "duration": 385,
        "start_time": "2022-07-19T17:58:37.652Z"
      },
      {
        "duration": 2170,
        "start_time": "2022-07-19T17:58:38.039Z"
      },
      {
        "duration": 3,
        "start_time": "2022-07-19T17:58:40.210Z"
      },
      {
        "duration": 6,
        "start_time": "2022-07-19T17:58:40.215Z"
      },
      {
        "duration": 405645,
        "start_time": "2022-07-19T17:58:40.222Z"
      },
      {
        "duration": 9035,
        "start_time": "2022-07-19T18:05:25.869Z"
      },
      {
        "duration": 31900,
        "start_time": "2022-07-19T18:05:34.905Z"
      },
      {
        "duration": 109,
        "start_time": "2022-07-19T18:06:06.807Z"
      },
      {
        "duration": 161580,
        "start_time": "2022-07-19T18:06:06.917Z"
      },
      {
        "duration": 4812,
        "start_time": "2022-07-19T18:08:48.499Z"
      },
      {
        "duration": 6095,
        "start_time": "2022-07-19T18:08:53.313Z"
      },
      {
        "duration": 4288,
        "start_time": "2022-07-19T18:08:59.409Z"
      },
      {
        "duration": 12,
        "start_time": "2022-07-19T18:09:03.702Z"
      },
      {
        "duration": 0,
        "start_time": "2022-07-19T18:09:03.715Z"
      },
      {
        "duration": 0,
        "start_time": "2022-07-19T18:09:03.716Z"
      },
      {
        "duration": 0,
        "start_time": "2022-07-19T18:09:03.718Z"
      },
      {
        "duration": 0,
        "start_time": "2022-07-19T18:09:03.719Z"
      },
      {
        "duration": 0,
        "start_time": "2022-07-19T18:09:03.720Z"
      },
      {
        "duration": 0,
        "start_time": "2022-07-19T18:09:03.721Z"
      },
      {
        "duration": 0,
        "start_time": "2022-07-19T18:09:03.722Z"
      },
      {
        "duration": 0,
        "start_time": "2022-07-19T18:09:03.723Z"
      },
      {
        "duration": 0,
        "start_time": "2022-07-19T18:09:03.724Z"
      },
      {
        "duration": 0,
        "start_time": "2022-07-19T18:09:03.725Z"
      },
      {
        "duration": 0,
        "start_time": "2022-07-19T18:09:03.726Z"
      },
      {
        "duration": 0,
        "start_time": "2022-07-19T18:09:03.727Z"
      },
      {
        "duration": 3,
        "start_time": "2022-07-19T18:10:07.540Z"
      },
      {
        "duration": 1289,
        "start_time": "2022-07-19T18:10:22.843Z"
      },
      {
        "duration": 708,
        "start_time": "2022-07-19T18:10:24.134Z"
      },
      {
        "duration": 547,
        "start_time": "2022-07-19T18:10:24.844Z"
      },
      {
        "duration": 94,
        "start_time": "2022-07-19T18:10:25.393Z"
      },
      {
        "duration": 95,
        "start_time": "2022-07-19T18:10:25.489Z"
      },
      {
        "duration": 4,
        "start_time": "2022-07-19T18:10:25.586Z"
      },
      {
        "duration": 332,
        "start_time": "2022-07-19T18:10:25.602Z"
      },
      {
        "duration": 399,
        "start_time": "2022-07-19T18:10:25.936Z"
      },
      {
        "duration": 11,
        "start_time": "2022-07-19T18:10:26.336Z"
      },
      {
        "duration": 27,
        "start_time": "2022-07-19T18:10:26.348Z"
      },
      {
        "duration": 37,
        "start_time": "2022-07-19T18:10:26.377Z"
      },
      {
        "duration": 45,
        "start_time": "2022-07-19T18:10:26.416Z"
      },
      {
        "duration": 104,
        "start_time": "2022-07-19T18:10:26.463Z"
      },
      {
        "duration": 34,
        "start_time": "2022-07-19T18:10:26.570Z"
      },
      {
        "duration": 29,
        "start_time": "2022-07-19T18:10:26.606Z"
      },
      {
        "duration": 24,
        "start_time": "2022-07-19T18:10:26.636Z"
      },
      {
        "duration": 19,
        "start_time": "2022-07-19T18:10:26.662Z"
      },
      {
        "duration": 5,
        "start_time": "2022-07-19T18:10:26.702Z"
      },
      {
        "duration": 433,
        "start_time": "2022-07-19T18:10:26.708Z"
      },
      {
        "duration": 34,
        "start_time": "2022-07-19T18:10:27.142Z"
      },
      {
        "duration": 44,
        "start_time": "2022-07-19T18:10:27.178Z"
      },
      {
        "duration": 22,
        "start_time": "2022-07-19T18:10:27.224Z"
      },
      {
        "duration": 34,
        "start_time": "2022-07-19T18:10:27.247Z"
      },
      {
        "duration": 47,
        "start_time": "2022-07-19T18:10:27.282Z"
      },
      {
        "duration": 137,
        "start_time": "2022-07-19T18:10:27.331Z"
      },
      {
        "duration": 43,
        "start_time": "2022-07-19T18:10:27.469Z"
      },
      {
        "duration": 7,
        "start_time": "2022-07-19T18:10:27.514Z"
      },
      {
        "duration": 17,
        "start_time": "2022-07-19T18:10:27.523Z"
      },
      {
        "duration": 29,
        "start_time": "2022-07-19T18:10:27.542Z"
      },
      {
        "duration": 266,
        "start_time": "2022-07-19T18:10:27.573Z"
      },
      {
        "duration": 26,
        "start_time": "2022-07-19T18:10:27.841Z"
      },
      {
        "duration": 36,
        "start_time": "2022-07-19T18:10:27.869Z"
      },
      {
        "duration": 18,
        "start_time": "2022-07-19T18:10:27.907Z"
      },
      {
        "duration": 4,
        "start_time": "2022-07-19T18:10:27.927Z"
      },
      {
        "duration": 31,
        "start_time": "2022-07-19T18:10:27.933Z"
      },
      {
        "duration": 58,
        "start_time": "2022-07-19T18:10:27.965Z"
      },
      {
        "duration": 54,
        "start_time": "2022-07-19T18:10:28.025Z"
      },
      {
        "duration": 350,
        "start_time": "2022-07-19T18:10:28.081Z"
      },
      {
        "duration": 40,
        "start_time": "2022-07-19T18:10:28.433Z"
      },
      {
        "duration": 813,
        "start_time": "2022-07-19T18:10:28.474Z"
      },
      {
        "duration": 381,
        "start_time": "2022-07-19T18:10:29.291Z"
      },
      {
        "duration": 2173,
        "start_time": "2022-07-19T18:10:29.674Z"
      },
      {
        "duration": 3,
        "start_time": "2022-07-19T18:10:31.848Z"
      },
      {
        "duration": 18,
        "start_time": "2022-07-19T18:10:31.852Z"
      },
      {
        "duration": 942043,
        "start_time": "2022-07-19T18:10:31.871Z"
      },
      {
        "duration": 3814,
        "start_time": "2022-07-19T18:26:13.916Z"
      },
      {
        "duration": 1297,
        "start_time": "2022-07-19T18:27:09.238Z"
      },
      {
        "duration": 724,
        "start_time": "2022-07-19T18:27:10.537Z"
      },
      {
        "duration": 759,
        "start_time": "2022-07-19T18:27:11.263Z"
      },
      {
        "duration": 187,
        "start_time": "2022-07-19T18:27:12.024Z"
      },
      {
        "duration": 137,
        "start_time": "2022-07-19T18:27:12.212Z"
      },
      {
        "duration": 4,
        "start_time": "2022-07-19T18:27:12.403Z"
      },
      {
        "duration": 797,
        "start_time": "2022-07-19T18:27:12.409Z"
      },
      {
        "duration": 816,
        "start_time": "2022-07-19T18:27:13.208Z"
      },
      {
        "duration": 12,
        "start_time": "2022-07-19T18:27:14.025Z"
      },
      {
        "duration": 208,
        "start_time": "2022-07-19T18:27:14.040Z"
      },
      {
        "duration": 70,
        "start_time": "2022-07-19T18:27:14.250Z"
      },
      {
        "duration": 100,
        "start_time": "2022-07-19T18:27:14.321Z"
      },
      {
        "duration": 20,
        "start_time": "2022-07-19T18:27:14.422Z"
      },
      {
        "duration": 71,
        "start_time": "2022-07-19T18:27:14.443Z"
      },
      {
        "duration": 30,
        "start_time": "2022-07-19T18:27:14.515Z"
      },
      {
        "duration": 75,
        "start_time": "2022-07-19T18:27:14.547Z"
      },
      {
        "duration": 80,
        "start_time": "2022-07-19T18:27:14.623Z"
      },
      {
        "duration": 6,
        "start_time": "2022-07-19T18:27:14.705Z"
      },
      {
        "duration": 440,
        "start_time": "2022-07-19T18:27:14.712Z"
      },
      {
        "duration": 37,
        "start_time": "2022-07-19T18:27:15.154Z"
      },
      {
        "duration": 36,
        "start_time": "2022-07-19T18:27:15.202Z"
      },
      {
        "duration": 27,
        "start_time": "2022-07-19T18:27:15.239Z"
      },
      {
        "duration": 47,
        "start_time": "2022-07-19T18:27:15.267Z"
      },
      {
        "duration": 29,
        "start_time": "2022-07-19T18:27:15.315Z"
      },
      {
        "duration": 141,
        "start_time": "2022-07-19T18:27:15.345Z"
      },
      {
        "duration": 29,
        "start_time": "2022-07-19T18:27:15.488Z"
      },
      {
        "duration": 6,
        "start_time": "2022-07-19T18:27:15.518Z"
      },
      {
        "duration": 10,
        "start_time": "2022-07-19T18:27:15.528Z"
      },
      {
        "duration": 25,
        "start_time": "2022-07-19T18:27:15.540Z"
      },
      {
        "duration": 251,
        "start_time": "2022-07-19T18:27:15.566Z"
      },
      {
        "duration": 25,
        "start_time": "2022-07-19T18:27:15.818Z"
      },
      {
        "duration": 22,
        "start_time": "2022-07-19T18:27:15.845Z"
      },
      {
        "duration": 36,
        "start_time": "2022-07-19T18:27:15.868Z"
      },
      {
        "duration": 5,
        "start_time": "2022-07-19T18:27:15.905Z"
      },
      {
        "duration": 30,
        "start_time": "2022-07-19T18:27:15.911Z"
      },
      {
        "duration": 37,
        "start_time": "2022-07-19T18:27:15.943Z"
      },
      {
        "duration": 78,
        "start_time": "2022-07-19T18:27:15.982Z"
      },
      {
        "duration": 352,
        "start_time": "2022-07-19T18:27:16.062Z"
      },
      {
        "duration": 40,
        "start_time": "2022-07-19T18:27:16.415Z"
      },
      {
        "duration": 795,
        "start_time": "2022-07-19T18:27:16.456Z"
      },
      {
        "duration": 415,
        "start_time": "2022-07-19T18:27:17.253Z"
      },
      {
        "duration": 2151,
        "start_time": "2022-07-19T18:27:17.670Z"
      },
      {
        "duration": 3,
        "start_time": "2022-07-19T18:27:19.822Z"
      },
      {
        "duration": 6,
        "start_time": "2022-07-19T18:27:19.826Z"
      },
      {
        "duration": 1337,
        "start_time": "2022-07-19T18:27:28.910Z"
      },
      {
        "duration": 722,
        "start_time": "2022-07-19T18:27:30.248Z"
      },
      {
        "duration": 523,
        "start_time": "2022-07-19T18:27:30.974Z"
      },
      {
        "duration": 89,
        "start_time": "2022-07-19T18:27:31.498Z"
      },
      {
        "duration": 92,
        "start_time": "2022-07-19T18:27:31.588Z"
      },
      {
        "duration": 3,
        "start_time": "2022-07-19T18:27:31.682Z"
      },
      {
        "duration": 338,
        "start_time": "2022-07-19T18:27:31.702Z"
      },
      {
        "duration": 413,
        "start_time": "2022-07-19T18:27:32.041Z"
      },
      {
        "duration": 12,
        "start_time": "2022-07-19T18:27:32.457Z"
      },
      {
        "duration": 114,
        "start_time": "2022-07-19T18:27:32.470Z"
      },
      {
        "duration": 28,
        "start_time": "2022-07-19T18:27:32.585Z"
      },
      {
        "duration": 49,
        "start_time": "2022-07-19T18:27:32.615Z"
      },
      {
        "duration": 40,
        "start_time": "2022-07-19T18:27:32.666Z"
      },
      {
        "duration": 19,
        "start_time": "2022-07-19T18:27:32.708Z"
      },
      {
        "duration": 37,
        "start_time": "2022-07-19T18:27:32.729Z"
      },
      {
        "duration": 39,
        "start_time": "2022-07-19T18:27:32.768Z"
      },
      {
        "duration": 29,
        "start_time": "2022-07-19T18:27:32.809Z"
      },
      {
        "duration": 5,
        "start_time": "2022-07-19T18:27:32.840Z"
      },
      {
        "duration": 421,
        "start_time": "2022-07-19T18:27:32.846Z"
      },
      {
        "duration": 44,
        "start_time": "2022-07-19T18:27:33.268Z"
      },
      {
        "duration": 28,
        "start_time": "2022-07-19T18:27:33.314Z"
      },
      {
        "duration": 21,
        "start_time": "2022-07-19T18:27:33.344Z"
      },
      {
        "duration": 42,
        "start_time": "2022-07-19T18:27:33.366Z"
      },
      {
        "duration": 32,
        "start_time": "2022-07-19T18:27:33.410Z"
      },
      {
        "duration": 119,
        "start_time": "2022-07-19T18:27:33.443Z"
      },
      {
        "duration": 20,
        "start_time": "2022-07-19T18:27:33.564Z"
      },
      {
        "duration": 17,
        "start_time": "2022-07-19T18:27:33.587Z"
      },
      {
        "duration": 8,
        "start_time": "2022-07-19T18:27:33.605Z"
      },
      {
        "duration": 22,
        "start_time": "2022-07-19T18:27:33.615Z"
      },
      {
        "duration": 239,
        "start_time": "2022-07-19T18:27:33.638Z"
      },
      {
        "duration": 29,
        "start_time": "2022-07-19T18:27:33.879Z"
      },
      {
        "duration": 20,
        "start_time": "2022-07-19T18:27:33.910Z"
      },
      {
        "duration": 19,
        "start_time": "2022-07-19T18:27:33.932Z"
      },
      {
        "duration": 4,
        "start_time": "2022-07-19T18:27:33.953Z"
      },
      {
        "duration": 48,
        "start_time": "2022-07-19T18:27:33.958Z"
      },
      {
        "duration": 35,
        "start_time": "2022-07-19T18:27:34.007Z"
      },
      {
        "duration": 68,
        "start_time": "2022-07-19T18:27:34.044Z"
      },
      {
        "duration": 311,
        "start_time": "2022-07-19T18:27:34.114Z"
      },
      {
        "duration": 46,
        "start_time": "2022-07-19T18:27:34.426Z"
      },
      {
        "duration": 861,
        "start_time": "2022-07-19T18:27:34.474Z"
      },
      {
        "duration": 387,
        "start_time": "2022-07-19T18:27:35.336Z"
      },
      {
        "duration": 2181,
        "start_time": "2022-07-19T18:27:35.725Z"
      },
      {
        "duration": 3,
        "start_time": "2022-07-19T18:27:37.907Z"
      },
      {
        "duration": 8,
        "start_time": "2022-07-19T18:27:37.911Z"
      },
      {
        "duration": 100,
        "start_time": "2022-07-19T18:27:37.920Z"
      },
      {
        "duration": 0,
        "start_time": "2022-07-19T18:27:38.022Z"
      },
      {
        "duration": 0,
        "start_time": "2022-07-19T18:27:38.022Z"
      },
      {
        "duration": 0,
        "start_time": "2022-07-19T18:27:38.023Z"
      },
      {
        "duration": 0,
        "start_time": "2022-07-19T18:27:38.024Z"
      },
      {
        "duration": 0,
        "start_time": "2022-07-19T18:27:38.025Z"
      },
      {
        "duration": 0,
        "start_time": "2022-07-19T18:27:38.026Z"
      },
      {
        "duration": 0,
        "start_time": "2022-07-19T18:27:38.026Z"
      },
      {
        "duration": 0,
        "start_time": "2022-07-19T18:27:38.028Z"
      },
      {
        "duration": 0,
        "start_time": "2022-07-19T18:27:38.028Z"
      },
      {
        "duration": 0,
        "start_time": "2022-07-19T18:27:38.029Z"
      },
      {
        "duration": 0,
        "start_time": "2022-07-19T18:27:38.030Z"
      },
      {
        "duration": 0,
        "start_time": "2022-07-19T18:27:38.031Z"
      },
      {
        "duration": 0,
        "start_time": "2022-07-19T18:27:38.032Z"
      },
      {
        "duration": 0,
        "start_time": "2022-07-19T18:27:38.033Z"
      },
      {
        "duration": 0,
        "start_time": "2022-07-19T18:27:38.034Z"
      },
      {
        "duration": 0,
        "start_time": "2022-07-19T18:27:38.035Z"
      },
      {
        "duration": 0,
        "start_time": "2022-07-19T18:27:38.035Z"
      },
      {
        "duration": 0,
        "start_time": "2022-07-19T18:27:38.036Z"
      },
      {
        "duration": 0,
        "start_time": "2022-07-19T18:27:38.037Z"
      },
      {
        "duration": 0,
        "start_time": "2022-07-19T18:27:38.038Z"
      },
      {
        "duration": 4,
        "start_time": "2022-07-19T18:28:08.103Z"
      },
      {
        "duration": 3,
        "start_time": "2022-07-19T18:28:20.632Z"
      },
      {
        "duration": 16493,
        "start_time": "2022-07-19T18:28:22.605Z"
      },
      {
        "duration": 9351,
        "start_time": "2022-07-19T18:28:43.515Z"
      },
      {
        "duration": 4,
        "start_time": "2022-07-19T18:29:35.009Z"
      },
      {
        "duration": 6360,
        "start_time": "2022-07-19T18:29:56.750Z"
      },
      {
        "duration": 4,
        "start_time": "2022-07-19T18:32:52.810Z"
      },
      {
        "duration": 13051,
        "start_time": "2022-07-19T18:33:01.335Z"
      },
      {
        "duration": 3,
        "start_time": "2022-07-19T18:33:43.954Z"
      },
      {
        "duration": 12573,
        "start_time": "2022-07-19T18:33:47.719Z"
      },
      {
        "duration": 5,
        "start_time": "2022-07-19T18:35:01.850Z"
      },
      {
        "duration": 721,
        "start_time": "2022-07-19T18:35:04.928Z"
      },
      {
        "duration": 16350,
        "start_time": "2022-07-19T18:35:11.626Z"
      },
      {
        "duration": 0,
        "start_time": "2022-07-19T18:35:27.981Z"
      },
      {
        "duration": 25040,
        "start_time": "2022-07-19T18:35:39.748Z"
      },
      {
        "duration": 4,
        "start_time": "2022-07-19T18:36:24.171Z"
      },
      {
        "duration": 19789,
        "start_time": "2022-07-19T18:36:36.880Z"
      },
      {
        "duration": 12512,
        "start_time": "2022-07-19T18:38:56.120Z"
      },
      {
        "duration": 4,
        "start_time": "2022-07-19T18:39:36.119Z"
      },
      {
        "duration": 28472,
        "start_time": "2022-07-19T18:39:40.942Z"
      },
      {
        "duration": 4,
        "start_time": "2022-07-19T18:40:48.761Z"
      },
      {
        "duration": 36617,
        "start_time": "2022-07-19T18:40:54.448Z"
      },
      {
        "duration": 3,
        "start_time": "2022-07-19T18:43:21.759Z"
      },
      {
        "duration": 11285,
        "start_time": "2022-07-19T18:43:29.281Z"
      },
      {
        "duration": 1348,
        "start_time": "2022-07-19T18:44:26.789Z"
      },
      {
        "duration": 702,
        "start_time": "2022-07-19T18:44:28.138Z"
      },
      {
        "duration": 527,
        "start_time": "2022-07-19T18:44:28.841Z"
      },
      {
        "duration": 95,
        "start_time": "2022-07-19T18:44:29.370Z"
      },
      {
        "duration": 97,
        "start_time": "2022-07-19T18:44:29.467Z"
      },
      {
        "duration": 4,
        "start_time": "2022-07-19T18:44:29.565Z"
      },
      {
        "duration": 336,
        "start_time": "2022-07-19T18:44:29.571Z"
      },
      {
        "duration": 411,
        "start_time": "2022-07-19T18:44:29.909Z"
      },
      {
        "duration": 12,
        "start_time": "2022-07-19T18:44:30.322Z"
      },
      {
        "duration": 120,
        "start_time": "2022-07-19T18:44:30.336Z"
      },
      {
        "duration": 23,
        "start_time": "2022-07-19T18:44:30.458Z"
      },
      {
        "duration": 64,
        "start_time": "2022-07-19T18:44:30.483Z"
      },
      {
        "duration": 22,
        "start_time": "2022-07-19T18:44:30.549Z"
      },
      {
        "duration": 32,
        "start_time": "2022-07-19T18:44:30.572Z"
      },
      {
        "duration": 34,
        "start_time": "2022-07-19T18:44:30.606Z"
      },
      {
        "duration": 25,
        "start_time": "2022-07-19T18:44:30.641Z"
      },
      {
        "duration": 41,
        "start_time": "2022-07-19T18:44:30.667Z"
      },
      {
        "duration": 16,
        "start_time": "2022-07-19T18:44:30.709Z"
      },
      {
        "duration": 421,
        "start_time": "2022-07-19T18:44:30.726Z"
      },
      {
        "duration": 33,
        "start_time": "2022-07-19T18:44:31.148Z"
      },
      {
        "duration": 39,
        "start_time": "2022-07-19T18:44:31.182Z"
      },
      {
        "duration": 21,
        "start_time": "2022-07-19T18:44:31.222Z"
      },
      {
        "duration": 39,
        "start_time": "2022-07-19T18:44:31.244Z"
      },
      {
        "duration": 41,
        "start_time": "2022-07-19T18:44:31.284Z"
      },
      {
        "duration": 107,
        "start_time": "2022-07-19T18:44:31.327Z"
      },
      {
        "duration": 24,
        "start_time": "2022-07-19T18:44:31.436Z"
      },
      {
        "duration": 12,
        "start_time": "2022-07-19T18:44:31.461Z"
      },
      {
        "duration": 15,
        "start_time": "2022-07-19T18:44:31.476Z"
      },
      {
        "duration": 24,
        "start_time": "2022-07-19T18:44:31.503Z"
      },
      {
        "duration": 241,
        "start_time": "2022-07-19T18:44:31.529Z"
      },
      {
        "duration": 32,
        "start_time": "2022-07-19T18:44:31.772Z"
      },
      {
        "duration": 22,
        "start_time": "2022-07-19T18:44:31.805Z"
      },
      {
        "duration": 27,
        "start_time": "2022-07-19T18:44:31.829Z"
      },
      {
        "duration": 6,
        "start_time": "2022-07-19T18:44:31.857Z"
      },
      {
        "duration": 49,
        "start_time": "2022-07-19T18:44:31.864Z"
      },
      {
        "duration": 38,
        "start_time": "2022-07-19T18:44:31.914Z"
      },
      {
        "duration": 70,
        "start_time": "2022-07-19T18:44:31.953Z"
      },
      {
        "duration": 321,
        "start_time": "2022-07-19T18:44:32.025Z"
      },
      {
        "duration": 46,
        "start_time": "2022-07-19T18:44:32.347Z"
      },
      {
        "duration": 802,
        "start_time": "2022-07-19T18:44:32.402Z"
      },
      {
        "duration": 381,
        "start_time": "2022-07-19T18:44:33.205Z"
      },
      {
        "duration": 2179,
        "start_time": "2022-07-19T18:44:33.588Z"
      },
      {
        "duration": 3,
        "start_time": "2022-07-19T18:44:35.769Z"
      },
      {
        "duration": 6,
        "start_time": "2022-07-19T18:44:35.774Z"
      },
      {
        "duration": 72507,
        "start_time": "2022-07-19T18:44:35.781Z"
      },
      {
        "duration": 11335,
        "start_time": "2022-07-19T18:45:48.290Z"
      },
      {
        "duration": 17379,
        "start_time": "2022-07-19T18:45:59.626Z"
      },
      {
        "duration": 197,
        "start_time": "2022-07-19T18:46:17.008Z"
      },
      {
        "duration": 46204,
        "start_time": "2022-07-19T18:46:17.207Z"
      },
      {
        "duration": 27769,
        "start_time": "2022-07-19T18:47:03.412Z"
      },
      {
        "duration": 688837,
        "start_time": "2022-07-19T18:47:31.182Z"
      },
      {
        "duration": 7609,
        "start_time": "2022-07-19T18:59:00.020Z"
      },
      {
        "duration": 12,
        "start_time": "2022-07-19T18:59:07.631Z"
      },
      {
        "duration": 0,
        "start_time": "2022-07-19T18:59:07.645Z"
      },
      {
        "duration": 0,
        "start_time": "2022-07-19T18:59:07.646Z"
      },
      {
        "duration": 0,
        "start_time": "2022-07-19T18:59:07.647Z"
      },
      {
        "duration": 0,
        "start_time": "2022-07-19T18:59:07.648Z"
      },
      {
        "duration": 0,
        "start_time": "2022-07-19T18:59:07.649Z"
      },
      {
        "duration": 0,
        "start_time": "2022-07-19T18:59:07.651Z"
      },
      {
        "duration": 0,
        "start_time": "2022-07-19T18:59:07.652Z"
      },
      {
        "duration": 0,
        "start_time": "2022-07-19T18:59:07.653Z"
      },
      {
        "duration": 0,
        "start_time": "2022-07-19T18:59:07.654Z"
      },
      {
        "duration": 0,
        "start_time": "2022-07-19T18:59:07.656Z"
      },
      {
        "duration": 0,
        "start_time": "2022-07-19T18:59:07.657Z"
      },
      {
        "duration": 0,
        "start_time": "2022-07-19T18:59:07.658Z"
      },
      {
        "duration": 0,
        "start_time": "2022-07-19T18:59:07.660Z"
      },
      {
        "duration": 4,
        "start_time": "2022-07-19T18:59:14.258Z"
      },
      {
        "duration": 12175,
        "start_time": "2022-07-19T18:59:23.918Z"
      },
      {
        "duration": 4,
        "start_time": "2022-07-19T19:01:33.137Z"
      },
      {
        "duration": 16004,
        "start_time": "2022-07-19T19:01:38.248Z"
      },
      {
        "duration": 4,
        "start_time": "2022-07-19T19:02:18.121Z"
      },
      {
        "duration": 31228,
        "start_time": "2022-07-19T19:02:27.774Z"
      },
      {
        "duration": 3,
        "start_time": "2022-07-19T19:03:32.026Z"
      },
      {
        "duration": 3,
        "start_time": "2022-07-19T19:03:51.150Z"
      },
      {
        "duration": 18792,
        "start_time": "2022-07-19T19:04:08.314Z"
      },
      {
        "duration": 51589,
        "start_time": "2022-07-19T19:06:06.703Z"
      },
      {
        "duration": 9506,
        "start_time": "2022-07-19T19:06:58.293Z"
      },
      {
        "duration": 18987,
        "start_time": "2022-07-19T19:07:07.801Z"
      },
      {
        "duration": 115,
        "start_time": "2022-07-19T19:07:26.790Z"
      },
      {
        "duration": 6318,
        "start_time": "2022-07-19T19:07:26.907Z"
      },
      {
        "duration": 3215,
        "start_time": "2022-07-19T19:07:33.226Z"
      },
      {
        "duration": 445,
        "start_time": "2022-07-19T19:07:36.442Z"
      },
      {
        "duration": 4104,
        "start_time": "2022-07-19T19:07:36.888Z"
      },
      {
        "duration": 18,
        "start_time": "2022-07-19T19:07:40.994Z"
      },
      {
        "duration": 0,
        "start_time": "2022-07-19T19:07:41.014Z"
      },
      {
        "duration": 0,
        "start_time": "2022-07-19T19:07:41.015Z"
      },
      {
        "duration": 0,
        "start_time": "2022-07-19T19:07:41.024Z"
      },
      {
        "duration": 4,
        "start_time": "2022-07-19T19:07:44.385Z"
      },
      {
        "duration": 429310,
        "start_time": "2022-07-19T19:07:46.824Z"
      },
      {
        "duration": 9271,
        "start_time": "2022-07-19T19:14:56.135Z"
      },
      {
        "duration": 19700,
        "start_time": "2022-07-19T19:15:05.408Z"
      },
      {
        "duration": 210,
        "start_time": "2022-07-19T19:15:25.110Z"
      },
      {
        "duration": 26222,
        "start_time": "2022-07-19T19:15:25.407Z"
      },
      {
        "duration": 1716,
        "start_time": "2022-07-19T19:15:51.630Z"
      },
      {
        "duration": 1847,
        "start_time": "2022-07-19T19:15:53.348Z"
      },
      {
        "duration": 1810,
        "start_time": "2022-07-19T19:15:55.197Z"
      },
      {
        "duration": 9,
        "start_time": "2022-07-19T19:15:57.008Z"
      },
      {
        "duration": 0,
        "start_time": "2022-07-19T19:15:57.019Z"
      },
      {
        "duration": 91,
        "start_time": "2022-07-19T19:16:01.241Z"
      },
      {
        "duration": 4,
        "start_time": "2022-07-19T19:16:05.971Z"
      },
      {
        "duration": 80,
        "start_time": "2022-07-19T19:16:13.148Z"
      },
      {
        "duration": 6763,
        "start_time": "2022-07-19T19:16:31.534Z"
      },
      {
        "duration": 61482,
        "start_time": "2022-07-19T19:16:39.729Z"
      },
      {
        "duration": 4,
        "start_time": "2022-07-19T19:21:30.582Z"
      },
      {
        "duration": 82298,
        "start_time": "2022-07-19T19:21:35.809Z"
      },
      {
        "duration": 4,
        "start_time": "2022-07-19T19:25:35.813Z"
      },
      {
        "duration": 27156,
        "start_time": "2022-07-19T19:25:43.656Z"
      },
      {
        "duration": 3,
        "start_time": "2022-07-19T19:26:25.070Z"
      },
      {
        "duration": 58655,
        "start_time": "2022-07-19T19:26:30.162Z"
      },
      {
        "duration": 3,
        "start_time": "2022-07-19T19:29:36.889Z"
      },
      {
        "duration": 46634,
        "start_time": "2022-07-19T19:29:41.263Z"
      },
      {
        "duration": 4,
        "start_time": "2022-07-19T19:31:01.019Z"
      },
      {
        "duration": 17294,
        "start_time": "2022-07-19T19:31:07.295Z"
      },
      {
        "duration": 3,
        "start_time": "2022-07-19T19:31:33.462Z"
      },
      {
        "duration": 5464,
        "start_time": "2022-07-19T19:31:39.102Z"
      },
      {
        "duration": 22056,
        "start_time": "2022-07-19T19:31:47.254Z"
      },
      {
        "duration": 4,
        "start_time": "2022-07-19T19:32:42.598Z"
      },
      {
        "duration": 33946,
        "start_time": "2022-07-19T19:32:46.847Z"
      },
      {
        "duration": 4,
        "start_time": "2022-07-19T19:35:09.221Z"
      },
      {
        "duration": 26593,
        "start_time": "2022-07-19T19:35:14.610Z"
      },
      {
        "duration": 4,
        "start_time": "2022-07-19T19:36:48.699Z"
      },
      {
        "duration": 23064,
        "start_time": "2022-07-19T19:36:58.940Z"
      },
      {
        "duration": 4,
        "start_time": "2022-07-19T19:38:04.895Z"
      },
      {
        "duration": 70106,
        "start_time": "2022-07-19T19:38:10.200Z"
      },
      {
        "duration": 4,
        "start_time": "2022-07-19T19:45:28.391Z"
      },
      {
        "duration": 68181,
        "start_time": "2022-07-19T19:45:32.757Z"
      },
      {
        "duration": 4,
        "start_time": "2022-07-19T19:46:40.939Z"
      },
      {
        "duration": 3,
        "start_time": "2022-07-19T19:46:43.453Z"
      },
      {
        "duration": 141805,
        "start_time": "2022-07-19T19:46:47.440Z"
      },
      {
        "duration": 1332,
        "start_time": "2022-07-19T19:51:30.103Z"
      },
      {
        "duration": 710,
        "start_time": "2022-07-19T19:51:31.439Z"
      },
      {
        "duration": 568,
        "start_time": "2022-07-19T19:51:32.152Z"
      },
      {
        "duration": 94,
        "start_time": "2022-07-19T19:51:32.721Z"
      },
      {
        "duration": 93,
        "start_time": "2022-07-19T19:51:32.816Z"
      },
      {
        "duration": 5,
        "start_time": "2022-07-19T19:51:32.911Z"
      },
      {
        "duration": 337,
        "start_time": "2022-07-19T19:51:32.918Z"
      },
      {
        "duration": 403,
        "start_time": "2022-07-19T19:51:33.257Z"
      },
      {
        "duration": 11,
        "start_time": "2022-07-19T19:51:33.662Z"
      },
      {
        "duration": 110,
        "start_time": "2022-07-19T19:51:33.674Z"
      },
      {
        "duration": 29,
        "start_time": "2022-07-19T19:51:33.786Z"
      },
      {
        "duration": 45,
        "start_time": "2022-07-19T19:51:33.817Z"
      },
      {
        "duration": 21,
        "start_time": "2022-07-19T19:51:33.863Z"
      },
      {
        "duration": 39,
        "start_time": "2022-07-19T19:51:33.885Z"
      },
      {
        "duration": 29,
        "start_time": "2022-07-19T19:51:33.926Z"
      },
      {
        "duration": 44,
        "start_time": "2022-07-19T19:51:33.957Z"
      },
      {
        "duration": 22,
        "start_time": "2022-07-19T19:51:34.003Z"
      },
      {
        "duration": 7,
        "start_time": "2022-07-19T19:51:34.026Z"
      },
      {
        "duration": 451,
        "start_time": "2022-07-19T19:51:34.035Z"
      },
      {
        "duration": 47,
        "start_time": "2022-07-19T19:51:34.488Z"
      },
      {
        "duration": 38,
        "start_time": "2022-07-19T19:51:34.538Z"
      },
      {
        "duration": 42,
        "start_time": "2022-07-19T19:51:34.578Z"
      },
      {
        "duration": 35,
        "start_time": "2022-07-19T19:51:34.621Z"
      },
      {
        "duration": 59,
        "start_time": "2022-07-19T19:51:34.658Z"
      },
      {
        "duration": 120,
        "start_time": "2022-07-19T19:51:34.719Z"
      },
      {
        "duration": 23,
        "start_time": "2022-07-19T19:51:34.841Z"
      },
      {
        "duration": 6,
        "start_time": "2022-07-19T19:51:34.868Z"
      },
      {
        "duration": 29,
        "start_time": "2022-07-19T19:51:34.876Z"
      },
      {
        "duration": 26,
        "start_time": "2022-07-19T19:51:34.906Z"
      },
      {
        "duration": 296,
        "start_time": "2022-07-19T19:51:34.934Z"
      },
      {
        "duration": 30,
        "start_time": "2022-07-19T19:51:35.232Z"
      },
      {
        "duration": 41,
        "start_time": "2022-07-19T19:51:35.264Z"
      },
      {
        "duration": 20,
        "start_time": "2022-07-19T19:51:35.307Z"
      },
      {
        "duration": 5,
        "start_time": "2022-07-19T19:51:35.329Z"
      },
      {
        "duration": 34,
        "start_time": "2022-07-19T19:51:35.335Z"
      },
      {
        "duration": 66,
        "start_time": "2022-07-19T19:51:35.371Z"
      },
      {
        "duration": 87,
        "start_time": "2022-07-19T19:51:35.439Z"
      },
      {
        "duration": 414,
        "start_time": "2022-07-19T19:51:35.528Z"
      },
      {
        "duration": 43,
        "start_time": "2022-07-19T19:51:35.944Z"
      },
      {
        "duration": 825,
        "start_time": "2022-07-19T19:51:35.990Z"
      },
      {
        "duration": 372,
        "start_time": "2022-07-19T19:51:36.816Z"
      },
      {
        "duration": 2208,
        "start_time": "2022-07-19T19:51:37.190Z"
      },
      {
        "duration": 3,
        "start_time": "2022-07-19T19:51:39.400Z"
      },
      {
        "duration": 8,
        "start_time": "2022-07-19T19:51:39.405Z"
      },
      {
        "duration": 430066,
        "start_time": "2022-07-19T19:51:39.415Z"
      },
      {
        "duration": 9688,
        "start_time": "2022-07-19T19:58:49.483Z"
      },
      {
        "duration": 22342,
        "start_time": "2022-07-19T19:58:59.173Z"
      },
      {
        "duration": 188,
        "start_time": "2022-07-19T19:59:21.517Z"
      },
      {
        "duration": 350327,
        "start_time": "2022-07-19T19:59:21.707Z"
      },
      {
        "duration": 140341,
        "start_time": "2022-07-19T20:05:12.035Z"
      },
      {
        "duration": 338124,
        "start_time": "2022-07-19T20:07:32.379Z"
      },
      {
        "duration": 3394,
        "start_time": "2022-07-19T20:13:10.505Z"
      },
      {
        "duration": 12,
        "start_time": "2022-07-19T20:13:13.900Z"
      },
      {
        "duration": 0,
        "start_time": "2022-07-19T20:13:13.914Z"
      },
      {
        "duration": 0,
        "start_time": "2022-07-19T20:13:13.915Z"
      },
      {
        "duration": 0,
        "start_time": "2022-07-19T20:13:13.916Z"
      },
      {
        "duration": 0,
        "start_time": "2022-07-19T20:13:13.917Z"
      },
      {
        "duration": 0,
        "start_time": "2022-07-19T20:13:13.918Z"
      },
      {
        "duration": 0,
        "start_time": "2022-07-19T20:13:13.919Z"
      },
      {
        "duration": 0,
        "start_time": "2022-07-19T20:13:13.920Z"
      },
      {
        "duration": 0,
        "start_time": "2022-07-19T20:13:13.921Z"
      },
      {
        "duration": 0,
        "start_time": "2022-07-19T20:13:13.922Z"
      },
      {
        "duration": 0,
        "start_time": "2022-07-19T20:13:13.923Z"
      },
      {
        "duration": 0,
        "start_time": "2022-07-19T20:13:13.924Z"
      },
      {
        "duration": 0,
        "start_time": "2022-07-19T20:13:13.925Z"
      },
      {
        "duration": 4,
        "start_time": "2022-07-19T20:13:18.489Z"
      },
      {
        "duration": 412040,
        "start_time": "2022-07-19T20:13:23.699Z"
      },
      {
        "duration": 2340,
        "start_time": "2022-07-19T20:20:15.741Z"
      },
      {
        "duration": 14,
        "start_time": "2022-07-19T20:20:18.083Z"
      },
      {
        "duration": 0,
        "start_time": "2022-07-19T20:20:18.099Z"
      },
      {
        "duration": 4,
        "start_time": "2022-07-19T20:20:36.585Z"
      },
      {
        "duration": 58519,
        "start_time": "2022-07-19T20:20:41.048Z"
      },
      {
        "duration": 2638,
        "start_time": "2022-07-19T20:21:39.569Z"
      },
      {
        "duration": 21,
        "start_time": "2022-07-19T20:21:42.209Z"
      },
      {
        "duration": 0,
        "start_time": "2022-07-19T20:21:42.232Z"
      },
      {
        "duration": 5,
        "start_time": "2022-07-19T20:21:58.048Z"
      },
      {
        "duration": 914613,
        "start_time": "2022-07-19T20:22:01.909Z"
      },
      {
        "duration": 16237,
        "start_time": "2022-07-19T20:43:33.666Z"
      },
      {
        "duration": 12,
        "start_time": "2022-07-19T20:43:58.385Z"
      },
      {
        "duration": 13,
        "start_time": "2022-07-19T20:44:02.482Z"
      },
      {
        "duration": 3,
        "start_time": "2022-07-19T20:44:29.002Z"
      },
      {
        "duration": 4,
        "start_time": "2022-07-19T20:44:32.908Z"
      },
      {
        "duration": 4,
        "start_time": "2022-07-19T20:44:44.615Z"
      },
      {
        "duration": 4,
        "start_time": "2022-07-19T20:45:13.721Z"
      },
      {
        "duration": 4,
        "start_time": "2022-07-19T20:45:50.290Z"
      },
      {
        "duration": 130,
        "start_time": "2022-07-19T20:45:52.534Z"
      },
      {
        "duration": 5,
        "start_time": "2022-07-19T20:45:58.196Z"
      },
      {
        "duration": 5,
        "start_time": "2022-07-19T20:46:07.308Z"
      },
      {
        "duration": 3,
        "start_time": "2022-07-19T20:46:13.049Z"
      },
      {
        "duration": 4,
        "start_time": "2022-07-19T20:46:21.282Z"
      },
      {
        "duration": 4,
        "start_time": "2022-07-19T20:46:27.597Z"
      },
      {
        "duration": 4,
        "start_time": "2022-07-19T20:47:49.235Z"
      },
      {
        "duration": 4,
        "start_time": "2022-07-19T20:47:59.076Z"
      },
      {
        "duration": 4,
        "start_time": "2022-07-19T20:48:05.956Z"
      },
      {
        "duration": 4,
        "start_time": "2022-07-19T20:48:30.389Z"
      },
      {
        "duration": 4,
        "start_time": "2022-07-19T20:48:39.162Z"
      },
      {
        "duration": 3,
        "start_time": "2022-07-19T20:48:45.333Z"
      },
      {
        "duration": 4,
        "start_time": "2022-07-19T20:50:35.244Z"
      },
      {
        "duration": 4,
        "start_time": "2022-07-19T20:50:51.547Z"
      },
      {
        "duration": 4,
        "start_time": "2022-07-19T20:51:06.523Z"
      },
      {
        "duration": 4,
        "start_time": "2022-07-19T20:51:12.321Z"
      },
      {
        "duration": 4,
        "start_time": "2022-07-19T20:51:15.635Z"
      },
      {
        "duration": 4,
        "start_time": "2022-07-19T20:51:20.542Z"
      },
      {
        "duration": 4,
        "start_time": "2022-07-19T20:51:27.829Z"
      },
      {
        "duration": 4,
        "start_time": "2022-07-19T20:51:34.200Z"
      },
      {
        "duration": 5,
        "start_time": "2022-07-19T20:51:49.627Z"
      },
      {
        "duration": 7,
        "start_time": "2022-07-19T20:51:59.597Z"
      },
      {
        "duration": 5,
        "start_time": "2022-07-19T20:52:04.161Z"
      },
      {
        "duration": 5,
        "start_time": "2022-07-19T20:52:08.675Z"
      },
      {
        "duration": 3,
        "start_time": "2022-07-19T20:52:11.371Z"
      },
      {
        "duration": 3,
        "start_time": "2022-07-19T20:52:24.951Z"
      },
      {
        "duration": 4,
        "start_time": "2022-07-19T20:52:33.477Z"
      },
      {
        "duration": 5,
        "start_time": "2022-07-19T20:52:45.642Z"
      },
      {
        "duration": 6,
        "start_time": "2022-07-19T20:53:05.483Z"
      },
      {
        "duration": 6,
        "start_time": "2022-07-19T20:53:45.723Z"
      },
      {
        "duration": 7073,
        "start_time": "2022-07-19T20:54:37.732Z"
      },
      {
        "duration": 23328,
        "start_time": "2022-07-19T20:54:54.074Z"
      },
      {
        "duration": 40376,
        "start_time": "2022-07-19T20:56:29.198Z"
      },
      {
        "duration": 10,
        "start_time": "2022-07-19T20:58:01.563Z"
      },
      {
        "duration": 614,
        "start_time": "2022-07-19T20:58:24.371Z"
      },
      {
        "duration": 6,
        "start_time": "2022-07-19T20:59:02.138Z"
      },
      {
        "duration": 633,
        "start_time": "2022-07-19T20:59:05.503Z"
      },
      {
        "duration": 5,
        "start_time": "2022-07-19T20:59:28.644Z"
      },
      {
        "duration": 44,
        "start_time": "2022-07-19T20:59:56.530Z"
      },
      {
        "duration": 1450,
        "start_time": "2022-07-19T21:01:26.473Z"
      },
      {
        "duration": 2701,
        "start_time": "2022-07-19T21:01:27.925Z"
      },
      {
        "duration": 566,
        "start_time": "2022-07-19T21:01:30.628Z"
      },
      {
        "duration": 84,
        "start_time": "2022-07-19T21:01:31.203Z"
      },
      {
        "duration": 94,
        "start_time": "2022-07-19T21:01:31.288Z"
      },
      {
        "duration": 18,
        "start_time": "2022-07-19T21:01:31.384Z"
      },
      {
        "duration": 358,
        "start_time": "2022-07-19T21:01:31.404Z"
      },
      {
        "duration": 403,
        "start_time": "2022-07-19T21:01:31.763Z"
      },
      {
        "duration": 10,
        "start_time": "2022-07-19T21:01:32.167Z"
      },
      {
        "duration": 115,
        "start_time": "2022-07-19T21:01:32.180Z"
      },
      {
        "duration": 26,
        "start_time": "2022-07-19T21:01:32.296Z"
      },
      {
        "duration": 72,
        "start_time": "2022-07-19T21:01:32.324Z"
      },
      {
        "duration": 23,
        "start_time": "2022-07-19T21:01:32.398Z"
      },
      {
        "duration": 20,
        "start_time": "2022-07-19T21:01:32.422Z"
      },
      {
        "duration": 31,
        "start_time": "2022-07-19T21:01:32.444Z"
      },
      {
        "duration": 26,
        "start_time": "2022-07-19T21:01:32.502Z"
      },
      {
        "duration": 21,
        "start_time": "2022-07-19T21:01:32.530Z"
      },
      {
        "duration": 9,
        "start_time": "2022-07-19T21:01:32.552Z"
      },
      {
        "duration": 461,
        "start_time": "2022-07-19T21:01:32.562Z"
      },
      {
        "duration": 34,
        "start_time": "2022-07-19T21:01:33.024Z"
      },
      {
        "duration": 49,
        "start_time": "2022-07-19T21:01:33.059Z"
      },
      {
        "duration": 22,
        "start_time": "2022-07-19T21:01:33.109Z"
      },
      {
        "duration": 31,
        "start_time": "2022-07-19T21:01:33.132Z"
      },
      {
        "duration": 46,
        "start_time": "2022-07-19T21:01:33.164Z"
      },
      {
        "duration": 106,
        "start_time": "2022-07-19T21:01:33.211Z"
      },
      {
        "duration": 22,
        "start_time": "2022-07-19T21:01:33.318Z"
      },
      {
        "duration": 8,
        "start_time": "2022-07-19T21:01:33.341Z"
      },
      {
        "duration": 10,
        "start_time": "2022-07-19T21:01:33.353Z"
      },
      {
        "duration": 47,
        "start_time": "2022-07-19T21:01:33.365Z"
      },
      {
        "duration": 243,
        "start_time": "2022-07-19T21:01:33.414Z"
      },
      {
        "duration": 24,
        "start_time": "2022-07-19T21:01:33.658Z"
      },
      {
        "duration": 33,
        "start_time": "2022-07-19T21:01:33.683Z"
      },
      {
        "duration": 21,
        "start_time": "2022-07-19T21:01:33.718Z"
      },
      {
        "duration": 5,
        "start_time": "2022-07-19T21:01:33.741Z"
      },
      {
        "duration": 34,
        "start_time": "2022-07-19T21:01:33.748Z"
      },
      {
        "duration": 41,
        "start_time": "2022-07-19T21:01:33.802Z"
      },
      {
        "duration": 72,
        "start_time": "2022-07-19T21:01:33.844Z"
      },
      {
        "duration": 328,
        "start_time": "2022-07-19T21:01:33.918Z"
      },
      {
        "duration": 41,
        "start_time": "2022-07-19T21:01:34.247Z"
      },
      {
        "duration": 832,
        "start_time": "2022-07-19T21:01:34.290Z"
      },
      {
        "duration": 403,
        "start_time": "2022-07-19T21:01:35.124Z"
      },
      {
        "duration": 2238,
        "start_time": "2022-07-19T21:01:35.529Z"
      },
      {
        "duration": 3,
        "start_time": "2022-07-19T21:01:37.769Z"
      },
      {
        "duration": 11,
        "start_time": "2022-07-19T21:01:37.774Z"
      },
      {
        "duration": 1310,
        "start_time": "2022-07-19T21:03:11.802Z"
      },
      {
        "duration": 703,
        "start_time": "2022-07-19T21:03:13.114Z"
      },
      {
        "duration": 508,
        "start_time": "2022-07-19T21:03:13.818Z"
      },
      {
        "duration": 89,
        "start_time": "2022-07-19T21:03:14.328Z"
      },
      {
        "duration": 99,
        "start_time": "2022-07-19T21:03:14.419Z"
      },
      {
        "duration": 3,
        "start_time": "2022-07-19T21:03:14.520Z"
      },
      {
        "duration": 311,
        "start_time": "2022-07-19T21:03:14.525Z"
      },
      {
        "duration": 417,
        "start_time": "2022-07-19T21:03:14.838Z"
      },
      {
        "duration": 12,
        "start_time": "2022-07-19T21:03:15.257Z"
      },
      {
        "duration": 108,
        "start_time": "2022-07-19T21:03:15.272Z"
      },
      {
        "duration": 29,
        "start_time": "2022-07-19T21:03:15.382Z"
      },
      {
        "duration": 48,
        "start_time": "2022-07-19T21:03:15.412Z"
      },
      {
        "duration": 26,
        "start_time": "2022-07-19T21:03:15.461Z"
      },
      {
        "duration": 19,
        "start_time": "2022-07-19T21:03:15.502Z"
      },
      {
        "duration": 30,
        "start_time": "2022-07-19T21:03:15.522Z"
      },
      {
        "duration": 23,
        "start_time": "2022-07-19T21:03:15.553Z"
      },
      {
        "duration": 39,
        "start_time": "2022-07-19T21:03:15.577Z"
      },
      {
        "duration": 6,
        "start_time": "2022-07-19T21:03:15.618Z"
      },
      {
        "duration": 427,
        "start_time": "2022-07-19T21:03:15.625Z"
      },
      {
        "duration": 33,
        "start_time": "2022-07-19T21:03:16.054Z"
      },
      {
        "duration": 30,
        "start_time": "2022-07-19T21:03:16.101Z"
      },
      {
        "duration": 23,
        "start_time": "2022-07-19T21:03:16.133Z"
      },
      {
        "duration": 46,
        "start_time": "2022-07-19T21:03:16.157Z"
      },
      {
        "duration": 35,
        "start_time": "2022-07-19T21:03:16.204Z"
      },
      {
        "duration": 108,
        "start_time": "2022-07-19T21:03:16.241Z"
      },
      {
        "duration": 22,
        "start_time": "2022-07-19T21:03:16.350Z"
      },
      {
        "duration": 8,
        "start_time": "2022-07-19T21:03:16.374Z"
      },
      {
        "duration": 23,
        "start_time": "2022-07-19T21:03:16.387Z"
      },
      {
        "duration": 23,
        "start_time": "2022-07-19T21:03:16.412Z"
      },
      {
        "duration": 249,
        "start_time": "2022-07-19T21:03:16.437Z"
      },
      {
        "duration": 35,
        "start_time": "2022-07-19T21:03:16.687Z"
      },
      {
        "duration": 22,
        "start_time": "2022-07-19T21:03:16.723Z"
      },
      {
        "duration": 33,
        "start_time": "2022-07-19T21:03:16.746Z"
      },
      {
        "duration": 21,
        "start_time": "2022-07-19T21:03:16.781Z"
      },
      {
        "duration": 38,
        "start_time": "2022-07-19T21:03:16.804Z"
      },
      {
        "duration": 38,
        "start_time": "2022-07-19T21:03:16.843Z"
      },
      {
        "duration": 78,
        "start_time": "2022-07-19T21:03:16.882Z"
      },
      {
        "duration": 364,
        "start_time": "2022-07-19T21:03:16.962Z"
      },
      {
        "duration": 52,
        "start_time": "2022-07-19T21:03:17.328Z"
      },
      {
        "duration": 868,
        "start_time": "2022-07-19T21:03:17.382Z"
      },
      {
        "duration": 378,
        "start_time": "2022-07-19T21:03:18.252Z"
      },
      {
        "duration": 2149,
        "start_time": "2022-07-19T21:03:18.632Z"
      },
      {
        "duration": 2,
        "start_time": "2022-07-19T21:03:20.783Z"
      },
      {
        "duration": 6,
        "start_time": "2022-07-19T21:03:20.787Z"
      },
      {
        "duration": 424323,
        "start_time": "2022-07-19T21:03:20.794Z"
      },
      {
        "duration": 9722,
        "start_time": "2022-07-19T21:10:25.119Z"
      },
      {
        "duration": 17663,
        "start_time": "2022-07-19T21:10:34.844Z"
      },
      {
        "duration": 200,
        "start_time": "2022-07-19T21:10:52.509Z"
      },
      {
        "duration": 1463,
        "start_time": "2022-07-19T21:18:06.169Z"
      },
      {
        "duration": 703,
        "start_time": "2022-07-19T21:18:07.634Z"
      },
      {
        "duration": 558,
        "start_time": "2022-07-19T21:18:08.339Z"
      },
      {
        "duration": 91,
        "start_time": "2022-07-19T21:18:08.898Z"
      },
      {
        "duration": 88,
        "start_time": "2022-07-19T21:18:09.001Z"
      },
      {
        "duration": 5,
        "start_time": "2022-07-19T21:18:09.101Z"
      },
      {
        "duration": 313,
        "start_time": "2022-07-19T21:18:09.108Z"
      },
      {
        "duration": 412,
        "start_time": "2022-07-19T21:18:09.423Z"
      },
      {
        "duration": 15,
        "start_time": "2022-07-19T21:18:09.837Z"
      },
      {
        "duration": 30,
        "start_time": "2022-07-19T21:18:09.854Z"
      },
      {
        "duration": 28,
        "start_time": "2022-07-19T21:18:09.902Z"
      },
      {
        "duration": 55,
        "start_time": "2022-07-19T21:18:09.931Z"
      },
      {
        "duration": 99,
        "start_time": "2022-07-19T21:18:09.988Z"
      },
      {
        "duration": 40,
        "start_time": "2022-07-19T21:18:10.090Z"
      },
      {
        "duration": 32,
        "start_time": "2022-07-19T21:18:10.132Z"
      },
      {
        "duration": 25,
        "start_time": "2022-07-19T21:18:10.165Z"
      },
      {
        "duration": 50,
        "start_time": "2022-07-19T21:18:10.191Z"
      },
      {
        "duration": 7,
        "start_time": "2022-07-19T21:18:10.243Z"
      },
      {
        "duration": 437,
        "start_time": "2022-07-19T21:18:10.252Z"
      },
      {
        "duration": 36,
        "start_time": "2022-07-19T21:18:10.690Z"
      },
      {
        "duration": 28,
        "start_time": "2022-07-19T21:18:10.728Z"
      },
      {
        "duration": 21,
        "start_time": "2022-07-19T21:18:10.757Z"
      },
      {
        "duration": 28,
        "start_time": "2022-07-19T21:18:10.801Z"
      },
      {
        "duration": 32,
        "start_time": "2022-07-19T21:18:10.830Z"
      },
      {
        "duration": 107,
        "start_time": "2022-07-19T21:18:10.864Z"
      },
      {
        "duration": 29,
        "start_time": "2022-07-19T21:18:10.973Z"
      },
      {
        "duration": 6,
        "start_time": "2022-07-19T21:18:11.004Z"
      },
      {
        "duration": 10,
        "start_time": "2022-07-19T21:18:11.012Z"
      },
      {
        "duration": 25,
        "start_time": "2022-07-19T21:18:11.024Z"
      },
      {
        "duration": 256,
        "start_time": "2022-07-19T21:18:11.050Z"
      },
      {
        "duration": 27,
        "start_time": "2022-07-19T21:18:11.308Z"
      },
      {
        "duration": 36,
        "start_time": "2022-07-19T21:18:11.337Z"
      },
      {
        "duration": 36,
        "start_time": "2022-07-19T21:18:11.375Z"
      },
      {
        "duration": 16,
        "start_time": "2022-07-19T21:18:11.413Z"
      },
      {
        "duration": 53,
        "start_time": "2022-07-19T21:18:11.431Z"
      },
      {
        "duration": 44,
        "start_time": "2022-07-19T21:18:11.486Z"
      },
      {
        "duration": 114,
        "start_time": "2022-07-19T21:18:11.532Z"
      },
      {
        "duration": 370,
        "start_time": "2022-07-19T21:18:11.648Z"
      },
      {
        "duration": 42,
        "start_time": "2022-07-19T21:18:12.020Z"
      },
      {
        "duration": 802,
        "start_time": "2022-07-19T21:18:12.064Z"
      },
      {
        "duration": 376,
        "start_time": "2022-07-19T21:18:12.870Z"
      },
      {
        "duration": 2161,
        "start_time": "2022-07-19T21:18:13.248Z"
      },
      {
        "duration": 3,
        "start_time": "2022-07-19T21:18:15.411Z"
      },
      {
        "duration": 9,
        "start_time": "2022-07-19T21:18:15.415Z"
      },
      {
        "duration": 1590,
        "start_time": "2022-07-20T06:21:32.494Z"
      },
      {
        "duration": 1024,
        "start_time": "2022-07-20T06:21:34.086Z"
      },
      {
        "duration": 600,
        "start_time": "2022-07-20T06:21:35.112Z"
      },
      {
        "duration": 117,
        "start_time": "2022-07-20T06:21:35.715Z"
      },
      {
        "duration": 100,
        "start_time": "2022-07-20T06:21:35.834Z"
      },
      {
        "duration": 5,
        "start_time": "2022-07-20T06:21:35.936Z"
      },
      {
        "duration": 405,
        "start_time": "2022-07-20T06:21:35.942Z"
      },
      {
        "duration": 469,
        "start_time": "2022-07-20T06:21:36.349Z"
      },
      {
        "duration": 15,
        "start_time": "2022-07-20T06:21:36.819Z"
      },
      {
        "duration": 106,
        "start_time": "2022-07-20T06:21:36.836Z"
      },
      {
        "duration": 25,
        "start_time": "2022-07-20T06:21:36.944Z"
      },
      {
        "duration": 68,
        "start_time": "2022-07-20T06:21:36.971Z"
      },
      {
        "duration": 24,
        "start_time": "2022-07-20T06:21:37.040Z"
      },
      {
        "duration": 31,
        "start_time": "2022-07-20T06:21:37.065Z"
      },
      {
        "duration": 42,
        "start_time": "2022-07-20T06:21:37.098Z"
      },
      {
        "duration": 26,
        "start_time": "2022-07-20T06:21:37.142Z"
      },
      {
        "duration": 26,
        "start_time": "2022-07-20T06:21:37.169Z"
      },
      {
        "duration": 28,
        "start_time": "2022-07-20T06:21:37.196Z"
      },
      {
        "duration": 481,
        "start_time": "2022-07-20T06:21:37.226Z"
      },
      {
        "duration": 41,
        "start_time": "2022-07-20T06:21:37.709Z"
      },
      {
        "duration": 32,
        "start_time": "2022-07-20T06:21:37.752Z"
      },
      {
        "duration": 38,
        "start_time": "2022-07-20T06:21:37.786Z"
      },
      {
        "duration": 30,
        "start_time": "2022-07-20T06:21:37.826Z"
      },
      {
        "duration": 32,
        "start_time": "2022-07-20T06:21:37.858Z"
      },
      {
        "duration": 123,
        "start_time": "2022-07-20T06:21:37.892Z"
      },
      {
        "duration": 23,
        "start_time": "2022-07-20T06:21:38.023Z"
      },
      {
        "duration": 7,
        "start_time": "2022-07-20T06:21:38.048Z"
      },
      {
        "duration": 11,
        "start_time": "2022-07-20T06:21:38.058Z"
      },
      {
        "duration": 52,
        "start_time": "2022-07-20T06:21:38.071Z"
      },
      {
        "duration": 265,
        "start_time": "2022-07-20T06:21:38.125Z"
      },
      {
        "duration": 35,
        "start_time": "2022-07-20T06:21:38.391Z"
      },
      {
        "duration": 29,
        "start_time": "2022-07-20T06:21:38.428Z"
      },
      {
        "duration": 20,
        "start_time": "2022-07-20T06:21:38.459Z"
      },
      {
        "duration": 5,
        "start_time": "2022-07-20T06:21:38.481Z"
      },
      {
        "duration": 58,
        "start_time": "2022-07-20T06:21:38.487Z"
      },
      {
        "duration": 39,
        "start_time": "2022-07-20T06:21:38.547Z"
      },
      {
        "duration": 73,
        "start_time": "2022-07-20T06:21:38.588Z"
      },
      {
        "duration": 478,
        "start_time": "2022-07-20T06:21:38.663Z"
      },
      {
        "duration": 44,
        "start_time": "2022-07-20T06:21:39.143Z"
      },
      {
        "duration": 888,
        "start_time": "2022-07-20T06:21:39.188Z"
      },
      {
        "duration": 387,
        "start_time": "2022-07-20T06:21:40.077Z"
      },
      {
        "duration": 2201,
        "start_time": "2022-07-20T06:21:40.466Z"
      },
      {
        "duration": 3,
        "start_time": "2022-07-20T06:21:42.669Z"
      },
      {
        "duration": 5,
        "start_time": "2022-07-20T06:21:42.673Z"
      },
      {
        "duration": 458408,
        "start_time": "2022-07-20T06:21:42.680Z"
      },
      {
        "duration": 10378,
        "start_time": "2022-07-20T06:29:21.090Z"
      },
      {
        "duration": 15654,
        "start_time": "2022-07-20T06:29:31.470Z"
      },
      {
        "duration": 121,
        "start_time": "2022-07-20T06:29:47.126Z"
      },
      {
        "duration": 345247,
        "start_time": "2022-07-20T06:29:47.248Z"
      },
      {
        "duration": 139795,
        "start_time": "2022-07-20T06:35:32.496Z"
      },
      {
        "duration": 286644,
        "start_time": "2022-07-20T06:37:52.293Z"
      },
      {
        "duration": 21287,
        "start_time": "2022-07-20T06:42:38.939Z"
      },
      {
        "duration": 13,
        "start_time": "2022-07-20T06:43:00.228Z"
      },
      {
        "duration": 21,
        "start_time": "2022-07-20T06:43:00.242Z"
      },
      {
        "duration": 8,
        "start_time": "2022-07-20T06:43:00.265Z"
      },
      {
        "duration": 7657,
        "start_time": "2022-07-20T06:43:00.275Z"
      },
      {
        "duration": 21390,
        "start_time": "2022-07-20T06:43:07.934Z"
      },
      {
        "duration": 39049,
        "start_time": "2022-07-20T06:43:29.326Z"
      },
      {
        "duration": 822,
        "start_time": "2022-07-20T06:44:08.377Z"
      },
      {
        "duration": 0,
        "start_time": "2022-07-20T06:44:09.201Z"
      },
      {
        "duration": 0,
        "start_time": "2022-07-20T06:44:09.203Z"
      },
      {
        "duration": 0,
        "start_time": "2022-07-20T06:44:09.204Z"
      },
      {
        "duration": 0,
        "start_time": "2022-07-20T06:44:09.205Z"
      },
      {
        "duration": 0,
        "start_time": "2022-07-20T06:44:09.207Z"
      },
      {
        "duration": 7,
        "start_time": "2022-07-20T06:50:08.677Z"
      },
      {
        "duration": 7765,
        "start_time": "2022-07-20T06:50:10.944Z"
      },
      {
        "duration": 21820,
        "start_time": "2022-07-20T06:50:18.712Z"
      },
      {
        "duration": 39555,
        "start_time": "2022-07-20T06:50:40.534Z"
      },
      {
        "duration": 7137,
        "start_time": "2022-07-20T06:51:20.091Z"
      },
      {
        "duration": 1438,
        "start_time": "2022-07-20T06:51:27.230Z"
      },
      {
        "duration": 5060,
        "start_time": "2022-07-20T06:51:28.670Z"
      },
      {
        "duration": 34369,
        "start_time": "2022-07-20T06:51:33.732Z"
      },
      {
        "duration": 2334,
        "start_time": "2022-07-20T06:52:08.103Z"
      },
      {
        "duration": 12,
        "start_time": "2022-07-20T06:52:10.439Z"
      },
      {
        "duration": 7959,
        "start_time": "2022-07-20T06:54:24.134Z"
      },
      {
        "duration": 28429,
        "start_time": "2022-07-20T06:54:32.095Z"
      },
      {
        "duration": 40841,
        "start_time": "2022-07-20T06:55:00.526Z"
      },
      {
        "duration": 113465,
        "start_time": "2022-07-20T06:55:41.369Z"
      },
      {
        "duration": 1458,
        "start_time": "2022-07-20T06:57:34.836Z"
      },
      {
        "duration": 6529,
        "start_time": "2022-07-20T06:57:36.295Z"
      },
      {
        "duration": 34838,
        "start_time": "2022-07-20T06:57:42.828Z"
      },
      {
        "duration": 108579,
        "start_time": "2022-07-20T06:58:17.668Z"
      },
      {
        "duration": 14,
        "start_time": "2022-07-20T07:00:06.250Z"
      },
      {
        "duration": 14,
        "start_time": "2022-07-20T07:03:22.100Z"
      },
      {
        "duration": 10,
        "start_time": "2022-07-20T07:03:39.712Z"
      },
      {
        "duration": 14,
        "start_time": "2022-07-20T07:04:56.074Z"
      },
      {
        "duration": 14,
        "start_time": "2022-07-20T07:17:37.208Z"
      },
      {
        "duration": 10,
        "start_time": "2022-07-20T07:17:47.747Z"
      },
      {
        "duration": 5,
        "start_time": "2022-07-20T07:17:51.610Z"
      },
      {
        "duration": 12,
        "start_time": "2022-07-20T07:18:00.793Z"
      },
      {
        "duration": 6,
        "start_time": "2022-07-20T07:18:36.425Z"
      },
      {
        "duration": 4,
        "start_time": "2022-07-20T07:18:49.426Z"
      },
      {
        "duration": 4,
        "start_time": "2022-07-20T07:19:31.166Z"
      },
      {
        "duration": 4,
        "start_time": "2022-07-20T07:19:46.433Z"
      }
    ],
    "kernelspec": {
      "display_name": "Python 3 (ipykernel)",
      "language": "python",
      "name": "python3"
    },
    "language_info": {
      "codemirror_mode": {
        "name": "ipython",
        "version": 3
      },
      "file_extension": ".py",
      "mimetype": "text/x-python",
      "name": "python",
      "nbconvert_exporter": "python",
      "pygments_lexer": "ipython3",
      "version": "3.9.5"
    },
    "toc": {
      "base_numbering": 1,
      "nav_menu": {},
      "number_sections": true,
      "sideBar": true,
      "skip_h1_title": true,
      "title_cell": "Table of Contents",
      "title_sidebar": "Contents",
      "toc_cell": false,
      "toc_position": {
        "height": "calc(100% - 180px)",
        "left": "10px",
        "top": "150px",
        "width": "291px"
      },
      "toc_section_display": true,
      "toc_window_display": true
    },
    "colab": {
      "provenance": [],
      "toc_visible": true
    }
  },
  "nbformat": 4,
  "nbformat_minor": 0
}